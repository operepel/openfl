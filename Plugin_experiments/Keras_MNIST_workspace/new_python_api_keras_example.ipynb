{
 "cells": [
  {
   "cell_type": "markdown",
   "id": "liquid-jacket",
   "metadata": {},
   "source": [
    "# Federated Keras MNIST Tutorial\n",
    "## Using low-level Python API"
   ]
  },
  {
   "cell_type": "code",
   "execution_count": 1,
   "id": "continuing-seminar",
   "metadata": {},
   "outputs": [],
   "source": [
    "# %load_ext autoreload\n",
    "# %autoreload 2"
   ]
  },
  {
   "cell_type": "code",
   "execution_count": 2,
   "id": "alike-sharing",
   "metadata": {
    "scrolled": true
   },
   "outputs": [
    {
     "name": "stdout",
     "output_type": "stream",
     "text": [
      "Requirement already satisfied: tensorflow==2.3.1 in /home/pfoley1/anaconda3/envs/py3.7/lib/python3.7/site-packages (2.3.1)\n",
      "Requirement already satisfied: termcolor>=1.1.0 in /home/pfoley1/anaconda3/envs/py3.7/lib/python3.7/site-packages (from tensorflow==2.3.1) (1.1.0)\n",
      "Requirement already satisfied: wrapt>=1.11.1 in /home/pfoley1/anaconda3/envs/py3.7/lib/python3.7/site-packages (from tensorflow==2.3.1) (1.12.1)\n",
      "Requirement already satisfied: numpy<1.19.0,>=1.16.0 in /home/pfoley1/anaconda3/envs/py3.7/lib/python3.7/site-packages (from tensorflow==2.3.1) (1.18.5)\n",
      "Requirement already satisfied: h5py<2.11.0,>=2.10.0 in /home/pfoley1/anaconda3/envs/py3.7/lib/python3.7/site-packages (from tensorflow==2.3.1) (2.10.0)\n",
      "Requirement already satisfied: opt-einsum>=2.3.2 in /home/pfoley1/anaconda3/envs/py3.7/lib/python3.7/site-packages (from tensorflow==2.3.1) (3.3.0)\n",
      "Requirement already satisfied: astunparse==1.6.3 in /home/pfoley1/anaconda3/envs/py3.7/lib/python3.7/site-packages (from tensorflow==2.3.1) (1.6.3)\n",
      "Requirement already satisfied: wheel>=0.26 in /home/pfoley1/anaconda3/envs/py3.7/lib/python3.7/site-packages (from tensorflow==2.3.1) (0.36.2)\n",
      "Requirement already satisfied: absl-py>=0.7.0 in /home/pfoley1/anaconda3/envs/py3.7/lib/python3.7/site-packages (from tensorflow==2.3.1) (0.12.0)\n",
      "Requirement already satisfied: gast==0.3.3 in /home/pfoley1/anaconda3/envs/py3.7/lib/python3.7/site-packages (from tensorflow==2.3.1) (0.3.3)\n",
      "Requirement already satisfied: google-pasta>=0.1.8 in /home/pfoley1/anaconda3/envs/py3.7/lib/python3.7/site-packages (from tensorflow==2.3.1) (0.2.0)\n",
      "Requirement already satisfied: six>=1.12.0 in /home/pfoley1/anaconda3/envs/py3.7/lib/python3.7/site-packages (from tensorflow==2.3.1) (1.15.0)\n",
      "Requirement already satisfied: grpcio>=1.8.6 in /home/pfoley1/anaconda3/envs/py3.7/lib/python3.7/site-packages (from tensorflow==2.3.1) (1.30.0)\n",
      "Requirement already satisfied: protobuf>=3.9.2 in /home/pfoley1/anaconda3/envs/py3.7/lib/python3.7/site-packages (from tensorflow==2.3.1) (3.15.3)\n",
      "Requirement already satisfied: keras-preprocessing<1.2,>=1.1.1 in /home/pfoley1/anaconda3/envs/py3.7/lib/python3.7/site-packages (from tensorflow==2.3.1) (1.1.2)\n",
      "Requirement already satisfied: tensorflow-estimator<2.4.0,>=2.3.0 in /home/pfoley1/anaconda3/envs/py3.7/lib/python3.7/site-packages (from tensorflow==2.3.1) (2.3.0)\n",
      "Requirement already satisfied: tensorboard<3,>=2.3.0 in /home/pfoley1/anaconda3/envs/py3.7/lib/python3.7/site-packages (from tensorflow==2.3.1) (2.4.1)\n",
      "Requirement already satisfied: google-auth<2,>=1.6.3 in /home/pfoley1/anaconda3/envs/py3.7/lib/python3.7/site-packages (from tensorboard<3,>=2.3.0->tensorflow==2.3.1) (1.28.1)\n",
      "Requirement already satisfied: google-auth-oauthlib<0.5,>=0.4.1 in /home/pfoley1/anaconda3/envs/py3.7/lib/python3.7/site-packages (from tensorboard<3,>=2.3.0->tensorflow==2.3.1) (0.4.4)\n",
      "Requirement already satisfied: markdown>=2.6.8 in /home/pfoley1/anaconda3/envs/py3.7/lib/python3.7/site-packages (from tensorboard<3,>=2.3.0->tensorflow==2.3.1) (3.3.4)\n",
      "Requirement already satisfied: requests<3,>=2.21.0 in /home/pfoley1/anaconda3/envs/py3.7/lib/python3.7/site-packages (from tensorboard<3,>=2.3.0->tensorflow==2.3.1) (2.25.1)\n",
      "Requirement already satisfied: werkzeug>=0.11.15 in /home/pfoley1/anaconda3/envs/py3.7/lib/python3.7/site-packages (from tensorboard<3,>=2.3.0->tensorflow==2.3.1) (1.0.1)\n",
      "Requirement already satisfied: tensorboard-plugin-wit>=1.6.0 in /home/pfoley1/anaconda3/envs/py3.7/lib/python3.7/site-packages (from tensorboard<3,>=2.3.0->tensorflow==2.3.1) (1.8.0)\n",
      "Requirement already satisfied: setuptools>=41.0.0 in /home/pfoley1/anaconda3/envs/py3.7/lib/python3.7/site-packages (from tensorboard<3,>=2.3.0->tensorflow==2.3.1) (51.3.3.post20210118)\n",
      "Requirement already satisfied: cachetools<5.0,>=2.0.0 in /home/pfoley1/anaconda3/envs/py3.7/lib/python3.7/site-packages (from google-auth<2,>=1.6.3->tensorboard<3,>=2.3.0->tensorflow==2.3.1) (4.2.1)\n",
      "Requirement already satisfied: pyasn1-modules>=0.2.1 in /home/pfoley1/anaconda3/envs/py3.7/lib/python3.7/site-packages (from google-auth<2,>=1.6.3->tensorboard<3,>=2.3.0->tensorflow==2.3.1) (0.2.8)\n",
      "Requirement already satisfied: rsa<5,>=3.1.4 in /home/pfoley1/anaconda3/envs/py3.7/lib/python3.7/site-packages (from google-auth<2,>=1.6.3->tensorboard<3,>=2.3.0->tensorflow==2.3.1) (4.7.2)\n",
      "Requirement already satisfied: requests-oauthlib>=0.7.0 in /home/pfoley1/anaconda3/envs/py3.7/lib/python3.7/site-packages (from google-auth-oauthlib<0.5,>=0.4.1->tensorboard<3,>=2.3.0->tensorflow==2.3.1) (1.3.0)\n",
      "Requirement already satisfied: importlib-metadata in /home/pfoley1/anaconda3/envs/py3.7/lib/python3.7/site-packages (from markdown>=2.6.8->tensorboard<3,>=2.3.0->tensorflow==2.3.1) (3.7.0)\n",
      "Requirement already satisfied: pyasn1<0.5.0,>=0.4.6 in /home/pfoley1/anaconda3/envs/py3.7/lib/python3.7/site-packages (from pyasn1-modules>=0.2.1->google-auth<2,>=1.6.3->tensorboard<3,>=2.3.0->tensorflow==2.3.1) (0.4.8)\n",
      "Requirement already satisfied: urllib3<1.27,>=1.21.1 in /home/pfoley1/anaconda3/envs/py3.7/lib/python3.7/site-packages (from requests<3,>=2.21.0->tensorboard<3,>=2.3.0->tensorflow==2.3.1) (1.26.3)\n",
      "Requirement already satisfied: chardet<5,>=3.0.2 in /home/pfoley1/anaconda3/envs/py3.7/lib/python3.7/site-packages (from requests<3,>=2.21.0->tensorboard<3,>=2.3.0->tensorflow==2.3.1) (4.0.0)\n",
      "Requirement already satisfied: certifi>=2017.4.17 in /home/pfoley1/anaconda3/envs/py3.7/lib/python3.7/site-packages (from requests<3,>=2.21.0->tensorboard<3,>=2.3.0->tensorflow==2.3.1) (2020.12.5)\n",
      "Requirement already satisfied: idna<3,>=2.5 in /home/pfoley1/anaconda3/envs/py3.7/lib/python3.7/site-packages (from requests<3,>=2.21.0->tensorboard<3,>=2.3.0->tensorflow==2.3.1) (2.10)\n",
      "Requirement already satisfied: oauthlib>=3.0.0 in /home/pfoley1/anaconda3/envs/py3.7/lib/python3.7/site-packages (from requests-oauthlib>=0.7.0->google-auth-oauthlib<0.5,>=0.4.1->tensorboard<3,>=2.3.0->tensorflow==2.3.1) (3.1.0)\n",
      "Requirement already satisfied: typing-extensions>=3.6.4 in /home/pfoley1/anaconda3/envs/py3.7/lib/python3.7/site-packages (from importlib-metadata->markdown>=2.6.8->tensorboard<3,>=2.3.0->tensorflow==2.3.1) (3.7.4.3)\n",
      "Requirement already satisfied: zipp>=0.5 in /home/pfoley1/anaconda3/envs/py3.7/lib/python3.7/site-packages (from importlib-metadata->markdown>=2.6.8->tensorboard<3,>=2.3.0->tensorflow==2.3.1) (3.4.0)\n",
      "Requirement already satisfied: scikit-image in /home/pfoley1/anaconda3/envs/py3.7/lib/python3.7/site-packages (0.18.1)\n",
      "Requirement already satisfied: numpy>=1.16.5 in /home/pfoley1/anaconda3/envs/py3.7/lib/python3.7/site-packages (from scikit-image) (1.18.5)\n",
      "Requirement already satisfied: scipy>=1.0.1 in /home/pfoley1/anaconda3/envs/py3.7/lib/python3.7/site-packages (from scikit-image) (1.6.1)\n",
      "Requirement already satisfied: PyWavelets>=1.1.1 in /home/pfoley1/anaconda3/envs/py3.7/lib/python3.7/site-packages (from scikit-image) (1.1.1)\n",
      "Requirement already satisfied: pillow!=7.1.0,!=7.1.1,>=4.3.0 in /home/pfoley1/anaconda3/envs/py3.7/lib/python3.7/site-packages (from scikit-image) (8.1.2)\n",
      "Requirement already satisfied: imageio>=2.3.0 in /home/pfoley1/anaconda3/envs/py3.7/lib/python3.7/site-packages (from scikit-image) (2.9.0)\n",
      "Requirement already satisfied: tifffile>=2019.7.26 in /home/pfoley1/anaconda3/envs/py3.7/lib/python3.7/site-packages (from scikit-image) (2021.3.31)\n",
      "Requirement already satisfied: matplotlib!=3.0.0,>=2.0.0 in /home/pfoley1/anaconda3/envs/py3.7/lib/python3.7/site-packages (from scikit-image) (3.4.1)\n",
      "Requirement already satisfied: networkx>=2.0 in /home/pfoley1/anaconda3/envs/py3.7/lib/python3.7/site-packages (from scikit-image) (2.5)\n",
      "Requirement already satisfied: pyparsing>=2.2.1 in /home/pfoley1/anaconda3/envs/py3.7/lib/python3.7/site-packages (from matplotlib!=3.0.0,>=2.0.0->scikit-image) (2.4.7)\n",
      "Requirement already satisfied: cycler>=0.10 in /home/pfoley1/anaconda3/envs/py3.7/lib/python3.7/site-packages (from matplotlib!=3.0.0,>=2.0.0->scikit-image) (0.10.0)\n",
      "Requirement already satisfied: python-dateutil>=2.7 in /home/pfoley1/anaconda3/envs/py3.7/lib/python3.7/site-packages (from matplotlib!=3.0.0,>=2.0.0->scikit-image) (2.8.1)\n",
      "Requirement already satisfied: kiwisolver>=1.0.1 in /home/pfoley1/anaconda3/envs/py3.7/lib/python3.7/site-packages (from matplotlib!=3.0.0,>=2.0.0->scikit-image) (1.3.1)\n",
      "Requirement already satisfied: six in /home/pfoley1/anaconda3/envs/py3.7/lib/python3.7/site-packages (from cycler>=0.10->matplotlib!=3.0.0,>=2.0.0->scikit-image) (1.15.0)\n",
      "Requirement already satisfied: decorator>=4.3.0 in /home/pfoley1/anaconda3/envs/py3.7/lib/python3.7/site-packages (from networkx>=2.0->scikit-image) (4.4.2)\n"
     ]
    },
    {
     "name": "stdout",
     "output_type": "stream",
     "text": [
      "Requirement already satisfied: cloudpickle in /home/pfoley1/anaconda3/envs/py3.7/lib/python3.7/site-packages (1.6.0)\r\n"
     ]
    }
   ],
   "source": [
    "# Install dependencies if not already installed\n",
    "!pip install tensorflow==2.3.1\n",
    "!pip install scikit-image\n",
    "!pip install cloudpickle"
   ]
  },
  {
   "cell_type": "markdown",
   "id": "caring-distinction",
   "metadata": {},
   "source": [
    "### Describe the model and optimizer"
   ]
  },
  {
   "cell_type": "code",
   "execution_count": 3,
   "id": "visible-victor",
   "metadata": {},
   "outputs": [],
   "source": [
    "import numpy as np\n",
    "import tensorflow as tf\n",
    "import tensorflow.keras as keras\n",
    "from tensorflow.keras import backend as K\n",
    "from tensorflow.keras import Sequential\n",
    "from tensorflow.keras.layers import Conv2D, Flatten, Dense\n",
    "from tensorflow.keras.utils import to_categorical\n",
    "from tensorflow.keras.datasets import mnist"
   ]
  },
  {
   "cell_type": "code",
   "execution_count": 4,
   "id": "foreign-gospel",
   "metadata": {},
   "outputs": [],
   "source": [
    "\"\"\"\n",
    "A keras model\n",
    "\"\"\"\n",
    "feature_shape = 784\n",
    "classes = 10\n",
    "\n",
    "model = Sequential()\n",
    "model.add(Dense(64, input_shape=(784,), activation='relu'))\n",
    "model.add(Dense(64, activation='relu'))\n",
    "model.add(Dense(classes, activation='softmax'))\n",
    "    \n",
    "model.compile(optimizer='adam',loss='categorical_crossentropy',metrics=['accuracy'],)"
   ]
  },
  {
   "cell_type": "markdown",
   "id": "insured-metallic",
   "metadata": {},
   "source": [
    "### Prepare data"
   ]
  },
  {
   "cell_type": "markdown",
   "id": "essential-remainder",
   "metadata": {},
   "source": [
    "We ask user to keep all the test data in `data/` folder under the workspace as it will not be sent to collaborators"
   ]
  },
  {
   "cell_type": "code",
   "execution_count": 5,
   "id": "blind-circuit",
   "metadata": {},
   "outputs": [],
   "source": [
    "from tensorflow.keras.utils import to_categorical\n",
    "from tensorflow.keras.datasets import mnist"
   ]
  },
  {
   "cell_type": "code",
   "execution_count": 6,
   "id": "featured-canberra",
   "metadata": {},
   "outputs": [],
   "source": [
    "(X_train, y_train), (X_test, y_test) = mnist.load_data()\n",
    "\n",
    "VALID_PERCENT = 0.3\n",
    "\n",
    "split_on = int((1 - VALID_PERCENT) * len(X_train))\n",
    "\n",
    "train_images = X_train[0:split_on,:,:]\n",
    "train_labels = to_categorical(y_train)[0:split_on,:]\n",
    "\n",
    "valid_images = X_train[split_on:,:,:]\n",
    "valid_labels = to_categorical(y_train)[split_on:,:]\n",
    "\n",
    "test_images = X_test\n",
    "test_labels = to_categorical(y_test)\n",
    "\n",
    "def preprocess(images):\n",
    "    #Normalize\n",
    "    images = (images / 255) - 0.5\n",
    "    #Flatten\n",
    "    images = images.reshape((-1, 784))\n",
    "    return images\n",
    "\n",
    "# Preprocess the images.\n",
    "train_images = preprocess(train_images)\n",
    "valid_images = preprocess(valid_images)"
   ]
  },
  {
   "cell_type": "markdown",
   "id": "obvious-tyler",
   "metadata": {},
   "source": [
    "## Describing FL experiment"
   ]
  },
  {
   "cell_type": "code",
   "execution_count": 7,
   "id": "rubber-address",
   "metadata": {},
   "outputs": [],
   "source": [
    "from openfl.interface.interactive_api.experiment import TaskInterface, DataInterface, ModelInterface, FLExperiment"
   ]
  },
  {
   "cell_type": "markdown",
   "id": "caroline-passion",
   "metadata": {},
   "source": [
    "### Register model"
   ]
  },
  {
   "cell_type": "code",
   "execution_count": 8,
   "id": "handled-teens",
   "metadata": {},
   "outputs": [],
   "source": [
    "framework_adapter = 'openfl.plugins.frameworks_adapters.keras_adapter.FrameworkAdapterPlugin'\n",
    "MI = ModelInterface(model=model, framework_plugin=framework_adapter)"
   ]
  },
  {
   "cell_type": "markdown",
   "id": "sustainable-public",
   "metadata": {},
   "source": [
    "### Register dataset"
   ]
  },
  {
   "cell_type": "markdown",
   "id": "unlike-texas",
   "metadata": {},
   "source": [
    "We extract User dataset class implementation.\n",
    "Is it convinient?\n",
    "What if the dataset is not a class?"
   ]
  },
  {
   "cell_type": "code",
   "execution_count": 9,
   "id": "verbal-newton",
   "metadata": {},
   "outputs": [],
   "source": [
    "class FedDataset(DataInterface):\n",
    "    \"\"\"\n",
    "    The set of initialization parameters for the FedDataset can be customized.\n",
    "    \"\"\"\n",
    "    def __init__(self, train_images, train_labels, valid_images, valid_labels, **kwargs):\n",
    "        self.X_train = train_images\n",
    "        self.y_train = train_labels\n",
    "        self.X_valid = valid_images\n",
    "        self.y_valid = valid_labels\n",
    "        self.batch_size = 32\n",
    "        self.kwargs = kwargs\n",
    "    \n",
    "    def _delayed_init(self, data_path='1,1'):\n",
    "        # With the next command the local dataset will be loaded on the collaborator node\n",
    "        # For this example we have the same dataset on the same path, and we will shard it\n",
    "        # So we use `data_path` information for this purpose.\n",
    "        self.rank, self.world_size = [int(part) for part in data_path.split(',')]\n",
    "        \n",
    "        # Do the actual sharding\n",
    "        self._do_sharding( self.rank, self.world_size)\n",
    "        \n",
    "    def _do_sharding(self, rank, world_size):\n",
    "        # This method relies on the dataset's implementation\n",
    "        # i.e. coupled in a bad way\n",
    "        self.X_train = self.X_train[ rank-1 :: world_size ]\n",
    "        self.y_train = self.y_train[ rank-1 :: world_size ]\n",
    "        self.X_valid = self.X_valid[ rank-1 :: world_size ]\n",
    "        self.y_valid = self.y_valid[ rank-1 :: world_size ]\n",
    "        \n",
    "\n",
    "    def get_train_loader(self, batch_size=None):\n",
    "        \"\"\"\n",
    "        Get training data loader.\n",
    "        Returns\n",
    "        -------\n",
    "        loader object\n",
    "        \"\"\"\n",
    "        return self.X_train\n",
    "\n",
    "    def get_valid_loader(self, batch_size=None):\n",
    "        \"\"\"\n",
    "        Get validation data loader.\n",
    "        Returns:\n",
    "            loader object\n",
    "        \"\"\"\n",
    "        return self.X_valid\n",
    "\n",
    "    def get_train_data_size(self):\n",
    "        \"\"\"\n",
    "        Get total number of training samples.\n",
    "        Returns:\n",
    "            int: number of training samples\n",
    "        \"\"\"\n",
    "        return self.X_train.shape[0]\n",
    "\n",
    "    def get_valid_data_size(self):\n",
    "        \"\"\"\n",
    "        Get total number of validation samples.\n",
    "        Returns:\n",
    "            int: number of validation samples\n",
    "        \"\"\"\n",
    "        return self.X_valid.shape[0]\n",
    "\n",
    "    @staticmethod\n",
    "    def _batch_generator(X, y, idxs, batch_size, num_batches):\n",
    "        \"\"\"\n",
    "        Generate batch of data.\n",
    "        Args:\n",
    "            X: input data\n",
    "            y: label data\n",
    "            idxs: The index of the dataset\n",
    "            batch_size: The batch size for the data loader\n",
    "            num_batches: The number of batches\n",
    "        Yields:\n",
    "            tuple: input data, label data\n",
    "        \"\"\"\n",
    "        for i in range(num_batches):\n",
    "            a = i * batch_size\n",
    "            b = a + batch_size\n",
    "            yield X[idxs[a:b]], y[idxs[a:b]]\n",
    "\n",
    "    def _get_batch_generator(self, X, y, batch_size):\n",
    "        \"\"\"\n",
    "        Return the dataset generator.\n",
    "        Args:\n",
    "            X: input data\n",
    "            y: label data\n",
    "            batch_size: The batch size for the data loader\n",
    "        \"\"\"\n",
    "        if batch_size is None:\n",
    "            batch_size = self.batch_size\n",
    "\n",
    "        # shuffle data indices\n",
    "        idxs = np.random.permutation(np.arange(X.shape[0]))\n",
    "\n",
    "        # compute the number of batches\n",
    "        num_batches = int(np.ceil(X.shape[0] / batch_size))\n",
    "\n",
    "        # build the generator and return it\n",
    "        return self._batch_generator(X, y, idxs, batch_size, num_batches)\n",
    "    \n",
    "fed_dataset = FedDataset(train_images=train_images,\n",
    "                         train_labels=train_labels,\n",
    "                         valid_images=valid_images,\n",
    "                         valid_labels=valid_labels)"
   ]
  },
  {
   "cell_type": "markdown",
   "id": "marine-kansas",
   "metadata": {},
   "source": [
    "### Register tasks"
   ]
  },
  {
   "cell_type": "code",
   "execution_count": 10,
   "id": "increasing-builder",
   "metadata": {},
   "outputs": [],
   "source": [
    "TI = TaskInterface()\n",
    "\n",
    "# We do not actually need to register additional kwargs, Just serialize them\n",
    "@TI.add_kwargs(**{'batch_size': 32})\n",
    "@TI.register_fl_task(model='model', data_loader='train_loader')\n",
    "@TI.send_model()\n",
    "def train(model, train_loader, batch_size=1):\n",
    "    \n",
    "    history = model.fit(train_loader.X_train,\n",
    "                        train_loader.y_train,\n",
    "                        batch_size=train_loader.batch_size,\n",
    "                                 epochs=1,\n",
    "                                 verbose=0, )\n",
    "    \n",
    "    return {str(metric_name): np.mean([history.history[metric_name]]) for metric_name in model.metrics_names}\n",
    "\n",
    "\n",
    "@TI.register_fl_task(model='model', data_loader='val_loader')     \n",
    "def validate(model, val_loader):\n",
    "    \n",
    "    vals = model.evaluate(\n",
    "            val_loader.X_valid,\n",
    "            val_loader.y_valid,\n",
    "            batch_size=32,\n",
    "            verbose=0\n",
    "    )\n",
    "    \n",
    "    return {'accuracy': np.mean(vals[1]),}\n",
    "\n",
    "    \n",
    "    \n"
   ]
  },
  {
   "cell_type": "markdown",
   "id": "derived-bride",
   "metadata": {},
   "source": [
    "## Time to start a federated learning experiment"
   ]
  },
  {
   "cell_type": "code",
   "execution_count": 11,
   "id": "silver-baltimore",
   "metadata": {},
   "outputs": [],
   "source": [
    "# Create a federation\n",
    "from openfl.interface.interactive_api.federation import Federation\n",
    "# will determine fqdn by itself\n",
    "federation = Federation(central_node_fqdn='localhost', disable_tls=True)\n",
    "col_data_paths = {'one': '1,2',\n",
    "                'two': '2,2'}\n",
    "federation.register_collaborators(col_data_paths=col_data_paths)"
   ]
  },
  {
   "cell_type": "code",
   "execution_count": 12,
   "id": "mature-renewal",
   "metadata": {},
   "outputs": [],
   "source": [
    "# create an experimnet in federation\n",
    "fl_experiment = FLExperiment(federation=federation, serializer_plugin='openfl.plugins.interface_serializer.cloudpickle_serializer.Cloudpickle_Serializer')"
   ]
  },
  {
   "cell_type": "code",
   "execution_count": 13,
   "id": "lightweight-causing",
   "metadata": {
    "scrolled": false
   },
   "outputs": [
    {
     "name": "stderr",
     "output_type": "stream",
     "text": [
      "tried to remove tensor: __opt_state_needed not present in the tensor dict\n",
      "tried to remove tensor: __opt_state_needed not present in the tensor dict\n",
      "gRPC is running on insecure channel with TLS disabled.\n"
     ]
    }
   ],
   "source": [
    "# If I use autoreload I got a pickling error\n",
    "fl_experiment.start_experiment(model_provider=MI, task_keeper=TI, data_loader=fed_dataset, rounds_to_train=5, \\\n",
    "                              opt_treatment='CONTINUE_GLOBAL')"
   ]
  },
  {
   "cell_type": "code",
   "execution_count": 14,
   "id": "together-possession",
   "metadata": {},
   "outputs": [
    {
     "data": {
      "text/plain": [
       "{'defaults': None,\n",
       " 'settings': {},\n",
       " 'train': {'function': 'train', 'kwargs': {'batch_size': 32}},\n",
       " 'validate': {'function': 'validate', 'kwargs': {}}}"
      ]
     },
     "execution_count": 14,
     "metadata": {},
     "output_type": "execute_result"
    }
   ],
   "source": [
    "fl_experiment.plan.config['tasks']"
   ]
  },
  {
   "cell_type": "code",
   "execution_count": 15,
   "id": "adopted-white",
   "metadata": {
    "scrolled": false
   },
   "outputs": [
    {
     "data": {
      "text/plain": [
       "['train', 'validate']"
      ]
     },
     "execution_count": 15,
     "metadata": {},
     "output_type": "execute_result"
    }
   ],
   "source": [
    "fl_experiment.plan.config['assigner']['settings']['task_groups'][0]['tasks']"
   ]
  },
  {
   "cell_type": "code",
   "execution_count": 16,
   "id": "developing-fashion",
   "metadata": {},
   "outputs": [
    {
     "data": {
      "text/plain": [
       "<openfl.plugins.interface_serializer.cloudpickle_serializer.Cloudpickle_Serializer at 0x7f3b040769d0>"
      ]
     },
     "execution_count": 16,
     "metadata": {},
     "output_type": "execute_result"
    }
   ],
   "source": [
    "fl_experiment.plan.Build(fl_experiment.plan.config['api_layer']['required_plugin_components']['serializer_plugin'], {})"
   ]
  },
  {
   "cell_type": "code",
   "execution_count": 17,
   "id": "spiritual-valentine",
   "metadata": {
    "scrolled": true
   },
   "outputs": [
    {
     "data": {
      "text/plain": [
       "{'aggregator': {'template': 'openfl.component.Aggregator',\n",
       "  'settings': {'db_store_rounds': 1,\n",
       "   'init_state_path': 'save/init.pbuf',\n",
       "   'best_state_path': 'save/best.pbuf',\n",
       "   'last_state_path': 'save/last.pbuf',\n",
       "   'rounds_to_train': 5,\n",
       "   'aggregator_uuid': 'aggregator_plan.yaml_1538be85',\n",
       "   'federation_uuid': 'plan.yaml_1538be85',\n",
       "   'authorized_cols': ['one', 'two'],\n",
       "   'assigner': <openfl.component.assigner.random_grouped_assigner.RandomGroupedAssigner at 0x7f3cec1685d0>,\n",
       "   'defaults': 'plan/defaults/aggregator.yaml',\n",
       "   'initial_tensor_dict': {'dense/kernel:0': array([[-0.06193923,  0.06393183, -0.01594066, ...,  0.00283346,\n",
       "            -0.0739767 , -0.02184607],\n",
       "           [-0.05921082,  0.03525515, -0.04930659, ...,  0.08030752,\n",
       "             0.00076302,  0.04539744],\n",
       "           [-0.03069666,  0.02656408, -0.0732119 , ...,  0.07358757,\n",
       "             0.06032515,  0.05494713],\n",
       "           ...,\n",
       "           [ 0.03223971,  0.03537741, -0.05729705, ..., -0.06715562,\n",
       "            -0.07631723, -0.03683713],\n",
       "           [ 0.05621684,  0.05139702,  0.01303071, ..., -0.01190753,\n",
       "            -0.05417232,  0.0315449 ],\n",
       "           [ 0.03354622, -0.02725069,  0.03804956, ...,  0.05765092,\n",
       "             0.03721099, -0.05515519]], dtype=float32),\n",
       "    'dense/bias:0': array([0., 0., 0., 0., 0., 0., 0., 0., 0., 0., 0., 0., 0., 0., 0., 0., 0.,\n",
       "           0., 0., 0., 0., 0., 0., 0., 0., 0., 0., 0., 0., 0., 0., 0., 0., 0.,\n",
       "           0., 0., 0., 0., 0., 0., 0., 0., 0., 0., 0., 0., 0., 0., 0., 0., 0.,\n",
       "           0., 0., 0., 0., 0., 0., 0., 0., 0., 0., 0., 0., 0.], dtype=float32),\n",
       "    'dense_1/kernel:0': array([[ 0.09722619, -0.15923229,  0.14175047, ..., -0.19951281,\n",
       "            -0.13077155, -0.15726131],\n",
       "           [ 0.10648455, -0.17813742,  0.20353602, ..., -0.13925005,\n",
       "            -0.20205124,  0.12322266],\n",
       "           [-0.11657774, -0.09078608, -0.1798837 , ...,  0.11622281,\n",
       "             0.21243526,  0.11326741],\n",
       "           ...,\n",
       "           [ 0.1100188 , -0.03000739, -0.12922293, ..., -0.06226873,\n",
       "             0.13409667, -0.12220908],\n",
       "           [-0.10345931, -0.08478588,  0.08624174, ..., -0.05837385,\n",
       "             0.02291322, -0.20333609],\n",
       "           [-0.07740475,  0.1339574 , -0.15773481, ..., -0.08005302,\n",
       "             0.00600232,  0.10144188]], dtype=float32),\n",
       "    'dense_1/bias:0': array([0., 0., 0., 0., 0., 0., 0., 0., 0., 0., 0., 0., 0., 0., 0., 0., 0.,\n",
       "           0., 0., 0., 0., 0., 0., 0., 0., 0., 0., 0., 0., 0., 0., 0., 0., 0.,\n",
       "           0., 0., 0., 0., 0., 0., 0., 0., 0., 0., 0., 0., 0., 0., 0., 0., 0.,\n",
       "           0., 0., 0., 0., 0., 0., 0., 0., 0., 0., 0., 0., 0.], dtype=float32),\n",
       "    'dense_2/kernel:0': array([[-0.25296798,  0.09994671,  0.23602352, -0.13319455,  0.08637953,\n",
       "            -0.12392688,  0.23600271, -0.00106239,  0.16762865, -0.08718809],\n",
       "           [ 0.23914394,  0.14818838,  0.27301696, -0.02967003,  0.17065439,\n",
       "             0.02912068,  0.22899261, -0.08318312, -0.18018287, -0.14007483],\n",
       "           [ 0.11285526,  0.2195693 , -0.12110893, -0.07894507,  0.20918494,\n",
       "             0.01977974,  0.15049127,  0.09365717,  0.25353464, -0.25866795],\n",
       "           [ 0.16225338,  0.18241012,  0.15219352, -0.26016122,  0.27967587,\n",
       "            -0.21821299, -0.2378446 , -0.19456103,  0.22184566, -0.07065141],\n",
       "           [ 0.19084269, -0.14045271, -0.2122741 ,  0.19972768, -0.17702095,\n",
       "            -0.04477182,  0.13549069,  0.00163254,  0.16987136,  0.08958545],\n",
       "           [-0.01964915, -0.27585453, -0.25743425, -0.13889574, -0.17798585,\n",
       "             0.19434562,  0.16082603, -0.08469874,  0.28202286,  0.08071387],\n",
       "           [-0.26242444,  0.03491378,  0.1748639 ,  0.01807302,  0.25249085,\n",
       "             0.01820901, -0.21592091, -0.10864933, -0.23100117,  0.19974688],\n",
       "           [-0.11417685, -0.12687021, -0.09501842, -0.08315359,  0.24350634,\n",
       "            -0.0345892 ,  0.20639873,  0.23690882,  0.03627321,  0.24199525],\n",
       "           [-0.16472   , -0.17638898,  0.23678145,  0.053727  ,  0.03685385,\n",
       "             0.12709504, -0.1576344 , -0.14202169,  0.08796576, -0.02304059],\n",
       "           [ 0.26658282,  0.21290407,  0.03517157, -0.1366224 , -0.2013799 ,\n",
       "            -0.23020653,  0.0046033 ,  0.03840798, -0.14310262,  0.2144315 ],\n",
       "           [-0.02633613, -0.12614726, -0.07783556, -0.0705252 ,  0.03874233,\n",
       "            -0.26618224, -0.00256708,  0.06515783,  0.255991  , -0.08017984],\n",
       "           [ 0.02959284, -0.23699197,  0.01106244, -0.05720042,  0.26568523,\n",
       "             0.02743906, -0.2591051 , -0.11542594, -0.2727228 ,  0.06492692],\n",
       "           [ 0.26471707, -0.21340507,  0.25283828, -0.21357894, -0.26669663,\n",
       "             0.09127346, -0.06029248, -0.04155028,  0.1570752 ,  0.02027771],\n",
       "           [ 0.15273485, -0.10275859, -0.26972273,  0.12194553,  0.13927856,\n",
       "            -0.11254378, -0.01489934, -0.12950817, -0.15032826,  0.03980473],\n",
       "           [ 0.27283433, -0.18669467, -0.2188931 , -0.04421982, -0.07034265,\n",
       "            -0.05178517,  0.27079234, -0.08737798,  0.09217626, -0.03086936],\n",
       "           [-0.02552167,  0.24283186, -0.0351404 ,  0.27590713,  0.24173221,\n",
       "            -0.19858938,  0.1476878 ,  0.11292654, -0.08788247,  0.02234018],\n",
       "           [ 0.21243596, -0.00536087, -0.20408452, -0.11284928, -0.03771828,\n",
       "             0.15046477, -0.14752796, -0.2557741 ,  0.0461736 , -0.00432941],\n",
       "           [ 0.19745353, -0.2364171 ,  0.28337988, -0.10364379,  0.13214397,\n",
       "            -0.0485189 ,  0.23968855,  0.16823623, -0.15809442,  0.23527172],\n",
       "           [ 0.22144899,  0.26061317, -0.01742381,  0.14237192,  0.11065933,\n",
       "            -0.2646714 , -0.19386035, -0.0796292 ,  0.270685  ,  0.12070411],\n",
       "           [-0.25893706, -0.02428189, -0.2506842 , -0.2526262 , -0.09454687,\n",
       "            -0.12115857,  0.2587985 ,  0.27718583,  0.10945109,  0.07455307],\n",
       "           [ 0.2001932 , -0.10827893,  0.26538083, -0.00675842,  0.06388953,\n",
       "             0.19511637,  0.17186287, -0.26194215,  0.13429388,  0.08729944],\n",
       "           [ 0.21651998,  0.26167807,  0.10412595,  0.2651882 ,  0.21221167,\n",
       "             0.00607458,  0.06115264, -0.1048189 ,  0.1535339 , -0.2196282 ],\n",
       "           [-0.27347693, -0.0429545 , -0.06407242,  0.19337997,  0.26613745,\n",
       "             0.2715533 , -0.04963288, -0.12084648,  0.07653895,  0.16217142],\n",
       "           [ 0.09833962,  0.0209499 , -0.08215263,  0.17642039,  0.24539903,\n",
       "            -0.17514776,  0.05937436,  0.19762516, -0.2377539 , -0.12750986],\n",
       "           [-0.21740985, -0.25316152, -0.21006799, -0.06343588,  0.09162188,\n",
       "            -0.01962164, -0.25650153, -0.15056336,  0.00454789,  0.11412486],\n",
       "           [-0.17555508, -0.22523963, -0.27311146, -0.066708  ,  0.26957908,\n",
       "             0.24146172, -0.21514928, -0.26914647, -0.15662809, -0.18609364],\n",
       "           [-0.00433287,  0.2329447 , -0.20078397, -0.27236322,  0.12638262,\n",
       "             0.16567743, -0.23529801,  0.20650381,  0.16546547, -0.04676193],\n",
       "           [ 0.11347908, -0.03277785,  0.26892385,  0.27505228, -0.00487199,\n",
       "            -0.19120222, -0.27197808, -0.03227609,  0.15657684, -0.04044294],\n",
       "           [ 0.27283725, -0.04116814, -0.22482042,  0.12478581, -0.11213   ,\n",
       "            -0.17256641, -0.09303743,  0.21618262, -0.08043937, -0.15500194],\n",
       "           [ 0.20184058, -0.1285548 ,  0.23262724, -0.05497453,  0.10220596,\n",
       "            -0.24165949, -0.21376394,  0.18961295, -0.04092665,  0.12706152],\n",
       "           [-0.21918976, -0.12784727, -0.19682547,  0.04597965,  0.03895271,\n",
       "            -0.23992248,  0.13126826,  0.04314947, -0.08557031, -0.17983787],\n",
       "           [ 0.2317284 , -0.03643607,  0.00744098,  0.1755077 , -0.03435731,\n",
       "             0.28067687, -0.27926984, -0.18397048, -0.10708714,  0.21948203],\n",
       "           [-0.13166142, -0.2558758 ,  0.17736617, -0.1978153 , -0.09709345,\n",
       "             0.2513034 ,  0.13656592, -0.2137306 , -0.04597509, -0.17540152],\n",
       "           [ 0.00044766,  0.03661188, -0.17944214, -0.10705733,  0.25248256,\n",
       "            -0.10091764,  0.15113336, -0.11328825,  0.13584724, -0.19294378],\n",
       "           [-0.10798767, -0.17505658,  0.2764503 ,  0.22859678, -0.26223946,\n",
       "             0.03124946,  0.20318314, -0.03878768, -0.0891782 ,  0.23080555],\n",
       "           [-0.12551643, -0.18243727,  0.08449209,  0.2252579 , -0.20600334,\n",
       "            -0.02068499, -0.04646748, -0.13399619,  0.08052263,  0.0848811 ],\n",
       "           [-0.1626859 ,  0.10887206, -0.1576598 , -0.147852  ,  0.24478671,\n",
       "             0.22838756,  0.25180838, -0.09915063,  0.07079235, -0.21205775],\n",
       "           [ 0.09458053,  0.17066884, -0.19151193, -0.0060623 , -0.00050026,\n",
       "             0.05503759,  0.2480267 ,  0.01267129, -0.03423449,  0.10322446],\n",
       "           [ 0.28184858,  0.23932621, -0.04520617,  0.07813236, -0.10354128,\n",
       "            -0.03798726, -0.10682841, -0.14071082,  0.16075677,  0.08753759],\n",
       "           [ 0.15302122,  0.22202697, -0.13342096, -0.26739928,  0.17554986,\n",
       "             0.24273697,  0.08229384, -0.19362071,  0.01344794,  0.17798206],\n",
       "           [-0.00342324, -0.08517043,  0.2146858 ,  0.13018632,  0.05286849,\n",
       "            -0.2231344 ,  0.21903446,  0.23163024,  0.06991807, -0.16100314],\n",
       "           [ 0.15762776,  0.1251626 ,  0.13667828,  0.10288662,  0.23476717,\n",
       "            -0.2203466 , -0.08125249,  0.21898201,  0.13614488,  0.12929344],\n",
       "           [ 0.20263034, -0.21998563, -0.08353607,  0.07199487,  0.19507477,\n",
       "             0.2076413 , -0.12855372, -0.05914971, -0.13571228, -0.02654946],\n",
       "           [ 0.13495696,  0.26652208, -0.22194763, -0.06073071,  0.01701313,\n",
       "             0.19804138, -0.02688882, -0.06706014, -0.23452733,  0.02130738],\n",
       "           [-0.01670641, -0.26856446, -0.04631093, -0.15738016,  0.04419374,\n",
       "             0.03028974, -0.05508207, -0.12157065, -0.09706745,  0.21475947],\n",
       "           [-0.01526478, -0.05034551, -0.15108407,  0.1643396 , -0.00568789,\n",
       "             0.05362871,  0.11218756, -0.17793989,  0.17759162, -0.06340988],\n",
       "           [ 0.18077752, -0.02128941,  0.19233713,  0.2023983 , -0.01967949,\n",
       "             0.02087325, -0.19475771, -0.27583858, -0.21570739, -0.04470542],\n",
       "           [ 0.19856745, -0.06911568, -0.26150516, -0.20629825, -0.21190745,\n",
       "             0.22684631, -0.1920615 , -0.24844046,  0.06674019, -0.15692721],\n",
       "           [ 0.06534025,  0.24353221,  0.11024147, -0.16984427, -0.03255191,\n",
       "            -0.26709548, -0.04331858,  0.0621773 , -0.18909895,  0.0550023 ],\n",
       "           [ 0.03803349,  0.0658277 , -0.07217076, -0.247323  , -0.13195165,\n",
       "            -0.08425277, -0.00294212, -0.20507923, -0.17429024,  0.26738444],\n",
       "           [-0.20351419, -0.1878464 ,  0.16615504,  0.28338984,  0.20859534,\n",
       "            -0.28319728, -0.0582273 ,  0.03857294, -0.23569238, -0.00875497],\n",
       "           [-0.04306495,  0.09437469, -0.01841465,  0.15269554, -0.077786  ,\n",
       "             0.24592802, -0.00294659, -0.18313858,  0.24308917,  0.27631602],\n",
       "           [ 0.09271774,  0.1664365 ,  0.26712224, -0.15568885,  0.06908405,\n",
       "             0.03029829,  0.06129655, -0.2652337 ,  0.25652978,  0.23576233],\n",
       "           [ 0.07576704,  0.240608  ,  0.02886331,  0.06814209, -0.20236984,\n",
       "            -0.21127215, -0.12555051,  0.0386686 ,  0.27153423,  0.15082839],\n",
       "           [ 0.25728217,  0.28039125, -0.03551956, -0.02129489,  0.05722314,\n",
       "            -0.07860944, -0.07205908, -0.15829362,  0.06617194,  0.26816615],\n",
       "           [ 0.09957257, -0.27464563,  0.25988284,  0.09602067,  0.0435293 ,\n",
       "             0.00586522,  0.02380925,  0.03653178,  0.04437244, -0.06482224],\n",
       "           [ 0.18223605, -0.25891906, -0.01022395,  0.12503532,  0.03643355,\n",
       "            -0.12137812,  0.1279751 , -0.2245361 ,  0.18632773,  0.10117948],\n",
       "           [ 0.09983909, -0.18789916,  0.20248416, -0.22970429, -0.28315207,\n",
       "            -0.26689705,  0.13696802, -0.09053999, -0.06920816,  0.05492055],\n",
       "           [ 0.01994839,  0.20067582, -0.26552045, -0.06568898,  0.27270773,\n",
       "            -0.23421824,  0.24636576, -0.13210453, -0.27727205,  0.23415712],\n",
       "           [ 0.1166878 , -0.2069878 ,  0.22251138, -0.01977175,  0.05452815,\n",
       "             0.1417329 ,  0.20919907,  0.12889174, -0.22091198, -0.05235279],\n",
       "           [ 0.24581102,  0.06018516, -0.12746444,  0.03956139, -0.01020718,\n",
       "             0.06707916, -0.15130484, -0.11238913,  0.07948267,  0.25372764],\n",
       "           [ 0.14023295, -0.03834653,  0.24268201,  0.09303397,  0.1808419 ,\n",
       "             0.00700745, -0.10543382,  0.27547863,  0.22516379, -0.0814624 ],\n",
       "           [-0.25152913, -0.10274392, -0.19147976,  0.20557672, -0.0018273 ,\n",
       "            -0.18524876,  0.03798637,  0.1558919 ,  0.19398323,  0.00062248],\n",
       "           [ 0.06852749, -0.08229038, -0.01709217, -0.24164109, -0.097305  ,\n",
       "            -0.12584862,  0.02213076, -0.258634  ,  0.07756612,  0.05252963]],\n",
       "          dtype=float32),\n",
       "    'dense_2/bias:0': array([0., 0., 0., 0., 0., 0., 0., 0., 0., 0.], dtype=float32)}},\n",
       "  'defaults': 'plan/defaults/aggregator.yaml'},\n",
       " 'collaborator': {'template': 'openfl.component.Collaborator',\n",
       "  'settings': {'opt_treatment': 'CONTINUE_GLOBAL',\n",
       "   'delta_updates': False,\n",
       "   'db_store_rounds': 1},\n",
       "  'defaults': 'plan/defaults/collaborator.yaml'},\n",
       " 'data_loader': {'template': 'openfl.federated.DataLoader',\n",
       "  'defaults': 'plan/defaults/data_loader.yaml',\n",
       "  'settings': {}},\n",
       " 'task_runner': {'template': 'openfl.federated.task.task_runner.CoreTaskRunner',\n",
       "  'settings': {'required_plugin_components': {'framework_adapters': 'openfl.plugins.frameworks_adapters.keras_adapter.FrameworkAdapterPlugin'}},\n",
       "  'required_plugin_components': {'framework_adapters': 'openfl.plugins.frameworks_adapters.keras_adapter.FrameworkAdapterPlugin'}},\n",
       " 'network': {'template': 'openfl.federation.Network',\n",
       "  'settings': {'agg_addr': 'localhost',\n",
       "   'agg_port': 51586,\n",
       "   'hash_salt': 'auto',\n",
       "   'disable_tls': True,\n",
       "   'client_reconnect_interval': 5,\n",
       "   'disable_client_auth': False,\n",
       "   'cert_folder': 'cert',\n",
       "   'ca': 'cert/cert_chain.crt',\n",
       "   'certificate': 'cert/server/agg_localhost.crt',\n",
       "   'private_key': 'cert/server/agg_localhost.key',\n",
       "   'aggregator': <openfl.component.aggregator.aggregator.Aggregator at 0x7f3b28068110>},\n",
       "  'defaults': 'plan/defaults/network.yaml'},\n",
       " 'assigner': {'template': 'openfl.component.RandomGroupedAssigner',\n",
       "  'settings': {'task_groups': [{'name': 'train_and_validate',\n",
       "     'percentage': 1.0,\n",
       "     'tasks': ['train', 'validate']}],\n",
       "   'authorized_cols': ['one', 'two'],\n",
       "   'rounds_to_train': 5,\n",
       "   'tasks': {'defaults': None,\n",
       "    'settings': {},\n",
       "    'train': {'function': 'train', 'kwargs': {'batch_size': 32}},\n",
       "    'validate': {'function': 'validate', 'kwargs': {}}},\n",
       "   'defaults': 'plan/defaults/assigner.yaml'},\n",
       "  'defaults': 'plan/defaults/assigner.yaml'},\n",
       " 'tasks': {'defaults': None,\n",
       "  'settings': {},\n",
       "  'train': {'function': 'train', 'kwargs': {'batch_size': 32}},\n",
       "  'validate': {'function': 'validate', 'kwargs': {}}},\n",
       " 'api_layer': {'required_plugin_components': {'serializer_plugin': 'openfl.plugins.interface_serializer.cloudpickle_serializer.Cloudpickle_Serializer'},\n",
       "  'settings': {'model_interface_file': 'model_obj.pkl',\n",
       "   'tasks_interface_file': 'tasks_obj.pkl',\n",
       "   'dataloader_interface_file': 'loader_obj.pkl'}}}"
      ]
     },
     "execution_count": 17,
     "metadata": {},
     "output_type": "execute_result"
    }
   ],
   "source": [
    "fl_experiment.plan.config"
   ]
  },
  {
   "cell_type": "code",
   "execution_count": 18,
   "id": "furnished-zimbabwe",
   "metadata": {},
   "outputs": [
    {
     "ename": "NameError",
     "evalue": "name 'yaml' is not defined",
     "output_type": "error",
     "traceback": [
      "\u001b[0;31m---------------------------------------------------------------------------\u001b[0m",
      "\u001b[0;31mNameError\u001b[0m                                 Traceback (most recent call last)",
      "\u001b[0;32m<ipython-input-18-9707414959eb>\u001b[0m in \u001b[0;36m<module>\u001b[0;34m\u001b[0m\n\u001b[0;32m----> 1\u001b[0;31m \u001b[0myaml\u001b[0m\u001b[0;34m.\u001b[0m\u001b[0msafe_dump\u001b[0m\u001b[0;34m(\u001b[0m\u001b[0;34m)\u001b[0m\u001b[0;34m\u001b[0m\u001b[0;34m\u001b[0m\u001b[0m\n\u001b[0m",
      "\u001b[0;31mNameError\u001b[0m: name 'yaml' is not defined"
     ]
    }
   ],
   "source": [
    "yaml.safe_dump()"
   ]
  },
  {
   "cell_type": "code",
   "execution_count": null,
   "id": "prescription-authentication",
   "metadata": {},
   "outputs": [],
   "source": []
  },
  {
   "cell_type": "code",
   "execution_count": null,
   "id": "intelligent-sheep",
   "metadata": {},
   "outputs": [],
   "source": []
  },
  {
   "cell_type": "code",
   "execution_count": null,
   "id": "wicked-electric",
   "metadata": {},
   "outputs": [],
   "source": []
  },
  {
   "cell_type": "code",
   "execution_count": null,
   "id": "certified-august",
   "metadata": {},
   "outputs": [],
   "source": [
    "import dill\n",
    "with open('./tasks.pkl', 'wb') as f:\n",
    "    dill.dump(TI, f,recurse=True)"
   ]
  },
  {
   "cell_type": "code",
   "execution_count": null,
   "id": "stainless-universe",
   "metadata": {},
   "outputs": [],
   "source": [
    "import numpy as np\n",
    "arr = np.arange(0,10)\n",
    "test_task(arr)"
   ]
  },
  {
   "cell_type": "code",
   "execution_count": null,
   "id": "proud-socket",
   "metadata": {},
   "outputs": [],
   "source": []
  },
  {
   "cell_type": "code",
   "execution_count": null,
   "id": "expressed-officer",
   "metadata": {},
   "outputs": [],
   "source": [
    "import dill\n",
    "with open('./model.pkl', 'wb') as f:\n",
    "    dill.dump(MI, f, recurse=True)\n",
    "# Pickling class    \n",
    "# with open('./model_cls.pkl', 'wb') as f:\n",
    "#     dill.dump(UNet, f, recurse=True)"
   ]
  },
  {
   "cell_type": "code",
   "execution_count": null,
   "id": "auburn-potter",
   "metadata": {},
   "outputs": [],
   "source": [
    "UNet.__module__"
   ]
  },
  {
   "cell_type": "code",
   "execution_count": null,
   "id": "psychological-chemical",
   "metadata": {},
   "outputs": [],
   "source": [
    "import torch\n",
    "a = torch.rand(1,3,128,128)\n",
    "model_unet.forward(a)"
   ]
  },
  {
   "cell_type": "code",
   "execution_count": null,
   "id": "adjacent-sessions",
   "metadata": {},
   "outputs": [],
   "source": []
  },
  {
   "cell_type": "code",
   "execution_count": null,
   "id": "dated-advice",
   "metadata": {},
   "outputs": [],
   "source": [
    "import dill\n",
    "with open('./dataloader.pkl', 'wb') as f:\n",
    "    dill.dump(fed_dataset, f, recurse=True)"
   ]
  },
  {
   "cell_type": "code",
   "execution_count": null,
   "id": "offshore-antigua",
   "metadata": {},
   "outputs": [],
   "source": [
    "with open('./data.yaml', 'w') as f:\n",
    "    for col_name, data_path in {'one': '1,2',\n",
    "            'two': '2,2'}.items():\n",
    "        f.write(f'{col_name},{data_path}\\n')"
   ]
  },
  {
   "cell_type": "code",
   "execution_count": null,
   "id": "cosmetic-virgin",
   "metadata": {},
   "outputs": [],
   "source": [
    "task_contract = dict()\n",
    "task_contract['optimizer'] = 1"
   ]
  },
  {
   "cell_type": "code",
   "execution_count": null,
   "id": "communist-prophet",
   "metadata": {},
   "outputs": [],
   "source": [
    "validation = True if task_contract['optimizer'] is not None else False\n",
    "validation"
   ]
  },
  {
   "cell_type": "code",
   "execution_count": null,
   "id": "domestic-hygiene",
   "metadata": {},
   "outputs": [],
   "source": []
  }
 ],
 "metadata": {
  "kernelspec": {
   "display_name": "py3.7",
   "language": "python",
   "name": "py3.7"
  },
  "language_info": {
   "codemirror_mode": {
    "name": "ipython",
    "version": 3
   },
   "file_extension": ".py",
   "mimetype": "text/x-python",
   "name": "python",
   "nbconvert_exporter": "python",
   "pygments_lexer": "ipython3",
   "version": "3.7.9"
  }
 },
 "nbformat": 4,
 "nbformat_minor": 5
}
