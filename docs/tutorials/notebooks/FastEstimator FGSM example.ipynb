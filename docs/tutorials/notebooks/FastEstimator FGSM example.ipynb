{
 "cells": [
  {
   "cell_type": "code",
   "execution_count": 1,
   "metadata": {},
   "outputs": [
    {
     "name": "stdout",
     "output_type": "stream",
     "text": [
      "Processing /home/itrushkin/repos/fledge\n",
      "Requirement already satisfied: fastestimator in /home/itrushkin/.virtualenvs/fledge/lib/python3.6/site-packages (1.1.1)\n",
      "Requirement already satisfied: Click>=7.0 in /home/itrushkin/.virtualenvs/fledge/lib/python3.6/site-packages (from fledge==0.1) (7.1.2)\n",
      "Requirement already satisfied: PyYAML>=5.1 in /home/itrushkin/.virtualenvs/fledge/lib/python3.6/site-packages (from fledge==0.1) (5.3.1)\n",
      "Requirement already satisfied: numpy in /home/itrushkin/.virtualenvs/fledge/lib/python3.6/site-packages (from fledge==0.1) (1.18.5)\n",
      "Requirement already satisfied: pandas in /home/itrushkin/.virtualenvs/fledge/lib/python3.6/site-packages (from fledge==0.1) (1.1.3)\n",
      "Requirement already satisfied: protobuf in /home/itrushkin/.virtualenvs/fledge/lib/python3.6/site-packages (from fledge==0.1) (3.13.0)\n",
      "Requirement already satisfied: grpcio in /home/itrushkin/.virtualenvs/fledge/lib/python3.6/site-packages (from fledge==0.1) (1.33.1)\n",
      "Requirement already satisfied: rich in /home/itrushkin/.virtualenvs/fledge/lib/python3.6/site-packages (from fledge==0.1) (9.1.0)\n",
      "Requirement already satisfied: tqdm in /home/itrushkin/.virtualenvs/fledge/lib/python3.6/site-packages (from fledge==0.1) (4.51.0)\n",
      "Requirement already satisfied: scikit-learn in /home/itrushkin/.virtualenvs/fledge/lib/python3.6/site-packages (from fledge==0.1) (0.23.2)\n",
      "Requirement already satisfied: seaborn in /home/itrushkin/.virtualenvs/fledge/lib/python3.6/site-packages (from fastestimator) (0.11.0)\n",
      "Requirement already satisfied: sklearn in /home/itrushkin/.virtualenvs/fledge/lib/python3.6/site-packages (from fastestimator) (0.0)\n",
      "Requirement already satisfied: albumentations in /home/itrushkin/.virtualenvs/fledge/lib/python3.6/site-packages (from fastestimator) (0.5.0)\n",
      "Requirement already satisfied: PySocks==1.7.1 in /home/itrushkin/.virtualenvs/fledge/lib/python3.6/site-packages (from fastestimator) (1.7.1)\n",
      "Requirement already satisfied: pillow in /home/itrushkin/.virtualenvs/fledge/lib/python3.6/site-packages (from fastestimator) (7.2.0)\n",
      "Requirement already satisfied: opencv-python in /home/itrushkin/.virtualenvs/fledge/lib/python3.6/site-packages (from fastestimator) (4.4.0.44)\n",
      "Requirement already satisfied: PyLaTeX==1.3.2 in /home/itrushkin/.virtualenvs/fledge/lib/python3.6/site-packages (from fastestimator) (1.3.2)\n",
      "Requirement already satisfied: wget in /home/itrushkin/.virtualenvs/fledge/lib/python3.6/site-packages (from fastestimator) (3.2)\n",
      "Requirement already satisfied: graphviz==0.14.1 in /home/itrushkin/.virtualenvs/fledge/lib/python3.6/site-packages (from fastestimator) (0.14.1)\n",
      "Requirement already satisfied: pydot==1.4.1 in /home/itrushkin/.virtualenvs/fledge/lib/python3.6/site-packages (from fastestimator) (1.4.1)\n",
      "Requirement already satisfied: dot2tex==2.11.3 in /home/itrushkin/.virtualenvs/fledge/lib/python3.6/site-packages (from fastestimator) (2.11.3)\n",
      "Requirement already satisfied: gdown==3.12.0 in /home/itrushkin/.virtualenvs/fledge/lib/python3.6/site-packages (from fastestimator) (3.12.0)\n",
      "Requirement already satisfied: matplotlib in /home/itrushkin/.virtualenvs/fledge/lib/python3.6/site-packages (from fastestimator) (3.3.2)\n",
      "Requirement already satisfied: hiddenlayer==0.3 in /home/itrushkin/.virtualenvs/fledge/lib/python3.6/site-packages (from fastestimator) (0.3)\n",
      "Requirement already satisfied: natsort==7.0.1 in /home/itrushkin/.virtualenvs/fledge/lib/python3.6/site-packages (from fastestimator) (7.0.1)\n",
      "Requirement already satisfied: pytorch-model-summary==0.1.2 in /home/itrushkin/.virtualenvs/fledge/lib/python3.6/site-packages (from fastestimator) (0.1.2)\n",
      "Requirement already satisfied: pyfiglet in /home/itrushkin/.virtualenvs/fledge/lib/python3.6/site-packages (from fastestimator) (0.8.post1)\n",
      "Requirement already satisfied: python-docx in /home/itrushkin/.virtualenvs/fledge/lib/python3.6/site-packages (from fastestimator) (0.8.10)\n",
      "Requirement already satisfied: tensorflow-probability==0.11.0 in /home/itrushkin/.virtualenvs/fledge/lib/python3.6/site-packages (from fastestimator) (0.11.0)\n",
      "Requirement already satisfied: scipy==1.4.1 in /home/itrushkin/.virtualenvs/fledge/lib/python3.6/site-packages (from fastestimator) (1.4.1)\n",
      "Requirement already satisfied: pycocotools-fix in /home/itrushkin/.virtualenvs/fledge/lib/python3.6/site-packages (from fastestimator) (2.0.0.9)\n",
      "Requirement already satisfied: transformers==3.1.0 in /home/itrushkin/.virtualenvs/fledge/lib/python3.6/site-packages (from fastestimator) (3.1.0)\n",
      "Requirement already satisfied: requests in /home/itrushkin/.virtualenvs/fledge/lib/python3.6/site-packages (from fastestimator) (2.24.0)\n",
      "Requirement already satisfied: h5py in /home/itrushkin/.virtualenvs/fledge/lib/python3.6/site-packages (from fastestimator) (2.10.0)\n",
      "Requirement already satisfied: jsonpickle in /home/itrushkin/.virtualenvs/fledge/lib/python3.6/site-packages (from fastestimator) (1.4.1)\n",
      "Requirement already satisfied: python-dateutil>=2.7.3 in /home/itrushkin/.virtualenvs/fledge/lib/python3.6/site-packages (from pandas->fledge==0.1) (2.8.1)\n",
      "Requirement already satisfied: pytz>=2017.2 in /home/itrushkin/.virtualenvs/fledge/lib/python3.6/site-packages (from pandas->fledge==0.1) (2020.1)\n",
      "Requirement already satisfied: setuptools in /home/itrushkin/.virtualenvs/fledge/lib/python3.6/site-packages (from protobuf->fledge==0.1) (50.3.2)\n",
      "Requirement already satisfied: six>=1.9 in /home/itrushkin/.virtualenvs/fledge/lib/python3.6/site-packages (from protobuf->fledge==0.1) (1.15.0)\n",
      "Requirement already satisfied: dataclasses<0.8,>=0.7; python_version >= \"3.6\" and python_version < \"3.7\" in /home/itrushkin/.virtualenvs/fledge/lib/python3.6/site-packages (from rich->fledge==0.1) (0.7)\n",
      "Requirement already satisfied: colorama<0.5.0,>=0.4.0 in /home/itrushkin/.virtualenvs/fledge/lib/python3.6/site-packages (from rich->fledge==0.1) (0.4.4)\n",
      "Requirement already satisfied: commonmark<0.10.0,>=0.9.0 in /home/itrushkin/.virtualenvs/fledge/lib/python3.6/site-packages (from rich->fledge==0.1) (0.9.1)\n",
      "Requirement already satisfied: pygments<3.0.0,>=2.6.0 in /home/itrushkin/.virtualenvs/fledge/lib/python3.6/site-packages (from rich->fledge==0.1) (2.7.2)\n",
      "Requirement already satisfied: typing-extensions<4.0.0,>=3.7.4 in /home/itrushkin/.virtualenvs/fledge/lib/python3.6/site-packages (from rich->fledge==0.1) (3.7.4.3)\n",
      "Requirement already satisfied: joblib>=0.11 in /home/itrushkin/.virtualenvs/fledge/lib/python3.6/site-packages (from scikit-learn->fledge==0.1) (0.17.0)\n",
      "Requirement already satisfied: threadpoolctl>=2.0.0 in /home/itrushkin/.virtualenvs/fledge/lib/python3.6/site-packages (from scikit-learn->fledge==0.1) (2.1.0)\n",
      "Requirement already satisfied: scikit-image>=0.16.1 in /home/itrushkin/.virtualenvs/fledge/lib/python3.6/site-packages (from albumentations->fastestimator) (0.17.2)\n",
      "Requirement already satisfied: imgaug>=0.4.0 in /home/itrushkin/.virtualenvs/fledge/lib/python3.6/site-packages (from albumentations->fastestimator) (0.4.0)\n",
      "Requirement already satisfied: opencv-python-headless>=4.1.1 in /home/itrushkin/.virtualenvs/fledge/lib/python3.6/site-packages (from albumentations->fastestimator) (4.4.0.44)\n",
      "Requirement already satisfied: ordered-set in /home/itrushkin/.virtualenvs/fledge/lib/python3.6/site-packages (from PyLaTeX==1.3.2->fastestimator) (4.0.2)\n",
      "Requirement already satisfied: pyparsing>=2.1.4 in /home/itrushkin/.virtualenvs/fledge/lib/python3.6/site-packages (from pydot==1.4.1->fastestimator) (2.4.7)\n",
      "Requirement already satisfied: filelock in /home/itrushkin/.virtualenvs/fledge/lib/python3.6/site-packages (from gdown==3.12.0->fastestimator) (3.0.12)\n",
      "Requirement already satisfied: cycler>=0.10 in /home/itrushkin/.virtualenvs/fledge/lib/python3.6/site-packages (from matplotlib->fastestimator) (0.10.0)\n",
      "Requirement already satisfied: certifi>=2020.06.20 in /home/itrushkin/.virtualenvs/fledge/lib/python3.6/site-packages (from matplotlib->fastestimator) (2020.6.20)\n",
      "Requirement already satisfied: kiwisolver>=1.0.1 in /home/itrushkin/.virtualenvs/fledge/lib/python3.6/site-packages (from matplotlib->fastestimator) (1.2.0)\n",
      "Requirement already satisfied: torch in /home/itrushkin/.virtualenvs/fledge/lib/python3.6/site-packages (from pytorch-model-summary==0.1.2->fastestimator) (1.6.0)\n",
      "Requirement already satisfied: lxml>=2.3.2 in /home/itrushkin/.virtualenvs/fledge/lib/python3.6/site-packages (from python-docx->fastestimator) (4.6.1)\n",
      "Requirement already satisfied: gast>=0.3.2 in /home/itrushkin/.virtualenvs/fledge/lib/python3.6/site-packages (from tensorflow-probability==0.11.0->fastestimator) (0.3.3)\n",
      "Requirement already satisfied: cloudpickle==1.3 in /home/itrushkin/.virtualenvs/fledge/lib/python3.6/site-packages (from tensorflow-probability==0.11.0->fastestimator) (1.3.0)\n",
      "Requirement already satisfied: dm-tree in /home/itrushkin/.virtualenvs/fledge/lib/python3.6/site-packages (from tensorflow-probability==0.11.0->fastestimator) (0.1.5)\n",
      "Requirement already satisfied: decorator in /home/itrushkin/.virtualenvs/fledge/lib/python3.6/site-packages (from tensorflow-probability==0.11.0->fastestimator) (4.4.2)\n",
      "Requirement already satisfied: cython>=0.27.3 in /home/itrushkin/.virtualenvs/fledge/lib/python3.6/site-packages (from pycocotools-fix->fastestimator) (0.29.21)\n",
      "Requirement already satisfied: sacremoses in /home/itrushkin/.virtualenvs/fledge/lib/python3.6/site-packages (from transformers==3.1.0->fastestimator) (0.0.43)\n",
      "Requirement already satisfied: tokenizers==0.8.1.rc2 in /home/itrushkin/.virtualenvs/fledge/lib/python3.6/site-packages (from transformers==3.1.0->fastestimator) (0.8.1rc2)\n",
      "Requirement already satisfied: sentencepiece!=0.1.92 in /home/itrushkin/.virtualenvs/fledge/lib/python3.6/site-packages (from transformers==3.1.0->fastestimator) (0.1.91)\n",
      "Requirement already satisfied: packaging in /home/itrushkin/.virtualenvs/fledge/lib/python3.6/site-packages (from transformers==3.1.0->fastestimator) (20.4)\n",
      "Requirement already satisfied: regex!=2019.12.17 in /home/itrushkin/.virtualenvs/fledge/lib/python3.6/site-packages (from transformers==3.1.0->fastestimator) (2020.10.15)\n",
      "Requirement already satisfied: urllib3!=1.25.0,!=1.25.1,<1.26,>=1.21.1 in /home/itrushkin/.virtualenvs/fledge/lib/python3.6/site-packages (from requests->fastestimator) (1.25.10)\n",
      "Requirement already satisfied: chardet<4,>=3.0.2 in /home/itrushkin/.virtualenvs/fledge/lib/python3.6/site-packages (from requests->fastestimator) (3.0.4)\n",
      "Requirement already satisfied: idna<3,>=2.5 in /home/itrushkin/.virtualenvs/fledge/lib/python3.6/site-packages (from requests->fastestimator) (2.10)\n",
      "Requirement already satisfied: importlib-metadata in /home/itrushkin/.virtualenvs/fledge/lib/python3.6/site-packages (from jsonpickle->fastestimator) (1.7.0)\n",
      "Requirement already satisfied: networkx>=2.0 in /home/itrushkin/.virtualenvs/fledge/lib/python3.6/site-packages (from scikit-image>=0.16.1->albumentations->fastestimator) (2.5)\n"
     ]
    },
    {
     "name": "stdout",
     "output_type": "stream",
     "text": [
      "Requirement already satisfied: PyWavelets>=1.1.1 in /home/itrushkin/.virtualenvs/fledge/lib/python3.6/site-packages (from scikit-image>=0.16.1->albumentations->fastestimator) (1.1.1)\n",
      "Requirement already satisfied: imageio>=2.3.0 in /home/itrushkin/.virtualenvs/fledge/lib/python3.6/site-packages (from scikit-image>=0.16.1->albumentations->fastestimator) (2.9.0)\n",
      "Requirement already satisfied: tifffile>=2019.7.26 in /home/itrushkin/.virtualenvs/fledge/lib/python3.6/site-packages (from scikit-image>=0.16.1->albumentations->fastestimator) (2020.9.3)\n",
      "Requirement already satisfied: Shapely in /home/itrushkin/.virtualenvs/fledge/lib/python3.6/site-packages (from imgaug>=0.4.0->albumentations->fastestimator) (1.7.1)\n",
      "Requirement already satisfied: future in /home/itrushkin/.virtualenvs/fledge/lib/python3.6/site-packages (from torch->pytorch-model-summary==0.1.2->fastestimator) (0.18.2)\n",
      "Requirement already satisfied: zipp>=0.5 in /home/itrushkin/.virtualenvs/fledge/lib/python3.6/site-packages (from importlib-metadata->jsonpickle->fastestimator) (3.1.0)\n",
      "Building wheels for collected packages: fledge\n",
      "  Building wheel for fledge (setup.py) ... \u001b[?25ldone\n",
      "\u001b[?25h  Created wheel for fledge: filename=fledge-0.1-py3-none-any.whl size=169008 sha256=ddf05bf28d8057572e51303dedea47afe946bc1ab77bc91e21ef78f213ae7aed\n",
      "  Stored in directory: /tmp/pip-ephem-wheel-cache-wiwjix7k/wheels/3a/30/9d/a88101effd240e4a8721301bebf95a245eaf4904b55b7ae530\n",
      "Successfully built fledge\n",
      "Installing collected packages: fledge\n",
      "  Attempting uninstall: fledge\n",
      "    Found existing installation: fledge 0.1\n",
      "    Uninstalling fledge-0.1:\n",
      "      Successfully uninstalled fledge-0.1\n",
      "Successfully installed fledge-0.1\n",
      "\u001b[33mWARNING: You are using pip version 20.2.2; however, version 20.2.4 is available.\n",
      "You should consider upgrading via the '/home/itrushkin/.virtualenvs/fledge/bin/python3 -m pip install --upgrade pip' command.\u001b[0m\n",
      "Note: you may need to restart the kernel to use updated packages.\n"
     ]
    }
   ],
   "source": [
    "pip install fastestimator ~/repos/fledge"
   ]
  },
  {
   "cell_type": "code",
   "execution_count": 2,
   "metadata": {},
   "outputs": [
    {
     "name": "stdout",
     "output_type": "stream",
     "text": [
      "WARNING:tensorflow:From /home/itrushkin/.virtualenvs/fledge/lib/python3.6/site-packages/tensorflow/python/compat/v2_compat.py:96: disable_resource_variables (from tensorflow.python.ops.variable_scope) is deprecated and will be removed in a future version.\n",
      "Instructions for updating:\n",
      "non-resource variables are not supported in the long term\n",
      "Creating Workspace Directories\n",
      "Creating Workspace Certifications\n",
      "Creating Workspace Templates\n",
      "\n",
      "New workspace directory structure:\n",
      "workspace\n",
      "├── code\n",
      "├── agg_to_col_two_signed_cert.zip\n",
      "├── plan\n",
      "│   ├── cols.yaml\n",
      "│   ├── data.yaml\n",
      "│   ├── defaults\n",
      "│   │   ├── tasks_keras.yaml\n",
      "│   │   ├── tasks_tensorflow.yaml\n",
      "│   │   ├── tasks_fast_estimator.yaml\n",
      "│   │   ├── network.yaml\n",
      "│   │   ├── collaborator.yaml\n",
      "│   │   ├── assigner.yaml\n",
      "│   │   ├── tasks_torch.yaml\n",
      "│   │   ├── aggregator.yaml\n",
      "│   │   ├── task_runner.yaml\n",
      "│   │   └── data_loader.yaml\n",
      "│   └── plan.yaml\n",
      "├── requirements.txt\n",
      "├── logs\n",
      "├── agg_to_col_one_signed_cert.zip\n",
      "├── cert\n",
      "│   ├── config\n",
      "│   │   ├── client.conf\n",
      "│   │   ├── signing-ca.conf\n",
      "│   │   ├── server.conf\n",
      "│   │   └── root-ca.conf\n",
      "│   ├── client\n",
      "│   │   ├── col_one.crt\n",
      "│   │   ├── col_two.csr\n",
      "│   │   ├── col_two.crt\n",
      "│   │   ├── col_two.key\n",
      "│   │   ├── col_one.csr\n",
      "│   │   └── col_one.key\n",
      "│   ├── server\n",
      "│   │   ├── agg_none.csr\n",
      "│   │   ├── agg_none.key\n",
      "│   │   └── agg_none.crt\n",
      "│   ├── ca\n",
      "│   │   ├── root-ca.crt\n",
      "│   │   ├── signing-ca\n",
      "│   │   ├── signing-ca.crt\n",
      "│   │   ├── root-ca.csr\n",
      "│   │   ├── signing-ca.csr\n",
      "│   │   └── root-ca\n",
      "│   └── cert_chain.crt\n",
      "├── data\n",
      "└── save\n",
      "    ├── keras_lenet_init.pbuf\n",
      "    ├── keras_lenet_last.pbuf\n",
      "    └── keras_lenet_best.pbuf\n",
      "\n",
      "13 directories, 37 files\n",
      "Setting Up Certificate Authority...\n",
      "\n",
      "1.  Create Root CA\n",
      "1.1 Create Directories\n",
      "1.2 Create Database\n",
      "1.3 Create CA Request\n",
      "1.4 Create CA Certificate\n",
      "2.  Create Signing Certificate\n",
      "2.1 Create Directories\n",
      "2.2 Create Database\n",
      "2.3 Create Signing Certificate CSR\n",
      "2.4 Sign Signing Certificate CSR\n",
      "3   Create Certificate Chain\n",
      "\n",
      "Done.\n",
      "Creating AGGREGATOR certificate key pair with following settings: CN=\u001b[31mnone\u001b[0m, SAN=\u001b[31mDNS:none\u001b[0m\n",
      "  Moving AGGREGATOR certificate key pair to: \u001b[32mcert/server\u001b[0m\n",
      "The CSR Hash for file \u001b[32magg_none.csr\u001b[0m = \u001b[31m 8dbfa426183e262b66ece633e69781ecd6323dd2f5dccdc41f35e34341bf938b\n",
      "\u001b[0m\n",
      " Signing AGGREGATOR certificate key pair\n",
      "  Moving AGGREGATOR certificate key pair to: \u001b[32mcert/server\u001b[0m\n",
      "Creating COLLABORATOR certificate key pair with following settings: CN=\u001b[31mone\u001b[0m, SAN=\u001b[31mDNS:one\u001b[0m\n",
      "  Moving COLLABORATOR certificate to: \u001b[32mcert/col_one\u001b[0m\n",
      "The CSR Hash for file \u001b[32mcol_one.csr\u001b[0m = \u001b[31m 49355f2a55b56c24ea8b227a74cd5b67de5eabab7281a5101a3cf9a39faaa6d6\n",
      "\u001b[0m\n",
      " Signing COLLABORATOR certificate key pair\n",
      "  Moving COLLABORATOR certificate key pair to: \u001b[32mcert/client\u001b[0m\n",
      "\n",
      "Registering \u001b[32mone\u001b[0m in \u001b[32mplan/cols.yaml\u001b[0m\n",
      "Creating COLLABORATOR certificate key pair with following settings: CN=\u001b[31mtwo\u001b[0m, SAN=\u001b[31mDNS:two\u001b[0m\n",
      "  Moving COLLABORATOR certificate to: \u001b[32mcert/col_two\u001b[0m\n",
      "The CSR Hash for file \u001b[32mcol_two.csr\u001b[0m = \u001b[31m ffbd9c587db8f513ded3cad413509a78681545e9068f98d7d148cbd94135f2c8\n",
      "\u001b[0m\n",
      " Signing COLLABORATOR certificate key pair\n",
      "  Moving COLLABORATOR certificate key pair to: \u001b[32mcert/client\u001b[0m\n",
      "\n",
      "Registering \u001b[32mtwo\u001b[0m in \u001b[32mplan/cols.yaml\u001b[0m\n"
     ]
    },
    {
     "data": {
      "text/html": [
       "<pre style=\"white-space:pre;overflow-x:auto;line-height:normal;font-family:Menlo,'DejaVu Sans Mono',consolas,'Courier New',monospace\"><span style=\"color: #7fbfbf\">[07:54:09] </span><span style=\"color: #000080\">INFO</span>     Loading DEFAULTS for section <span style=\"color: #800000\">aggregator</span> from file <span style=\"color: #800000\">plan/defaults/aggregator.yaml</span>.                                                  <a href=\"file:///home/itrushkin/.virtualenvs/fledge/lib/python3.6/site-packages/fledge/federated/plan/plan.py\"><span style=\"color: #7f7f7f\">plan.py</span></a><span style=\"color: #7f7f7f\">:90</span>\n",
       "</pre>\n"
      ],
      "text/plain": [
       "<rich.jupyter.JupyterRenderable at 0x7f96acaab470>"
      ]
     },
     "metadata": {},
     "output_type": "display_data"
    },
    {
     "data": {
      "text/html": [
       "<pre style=\"white-space:pre;overflow-x:auto;line-height:normal;font-family:Menlo,'DejaVu Sans Mono',consolas,'Courier New',monospace\"><span style=\"color: #7fbfbf\">[07:54:10] </span><span style=\"color: #000080\">INFO</span>     Loading DEFAULTS for section <span style=\"color: #800000\">assigner</span> from file <span style=\"color: #800000\">plan/defaults/assigner.yaml</span>.                                                      <a href=\"file:///home/itrushkin/.virtualenvs/fledge/lib/python3.6/site-packages/fledge/federated/plan/plan.py\"><span style=\"color: #7f7f7f\">plan.py</span></a><span style=\"color: #7f7f7f\">:90</span>\n",
       "</pre>\n"
      ],
      "text/plain": [
       "<rich.jupyter.JupyterRenderable at 0x7f96acaab278>"
      ]
     },
     "metadata": {},
     "output_type": "display_data"
    },
    {
     "data": {
      "text/html": [
       "<pre style=\"white-space:pre;overflow-x:auto;line-height:normal;font-family:Menlo,'DejaVu Sans Mono',consolas,'Courier New',monospace\"><span style=\"color: #7fbfbf\">           </span><span style=\"color: #000080\">INFO</span>     Loading DEFAULTS for section <span style=\"color: #800000\">collaborator</span> from file <span style=\"color: #800000\">plan/defaults/collaborator.yaml</span>.                                              <a href=\"file:///home/itrushkin/.virtualenvs/fledge/lib/python3.6/site-packages/fledge/federated/plan/plan.py\"><span style=\"color: #7f7f7f\">plan.py</span></a><span style=\"color: #7f7f7f\">:90</span>\n",
       "</pre>\n"
      ],
      "text/plain": [
       "<rich.jupyter.JupyterRenderable at 0x7f96acaab2e8>"
      ]
     },
     "metadata": {},
     "output_type": "display_data"
    },
    {
     "data": {
      "text/html": [
       "<pre style=\"white-space:pre;overflow-x:auto;line-height:normal;font-family:Menlo,'DejaVu Sans Mono',consolas,'Courier New',monospace\"><span style=\"color: #7fbfbf\">           </span><span style=\"color: #000080\">INFO</span>     Loading DEFAULTS for section <span style=\"color: #800000\">data_loader</span> from file <span style=\"color: #800000\">plan/defaults/data_loader.yaml</span>.                                                <a href=\"file:///home/itrushkin/.virtualenvs/fledge/lib/python3.6/site-packages/fledge/federated/plan/plan.py\"><span style=\"color: #7f7f7f\">plan.py</span></a><span style=\"color: #7f7f7f\">:90</span>\n",
       "</pre>\n"
      ],
      "text/plain": [
       "<rich.jupyter.JupyterRenderable at 0x7f96acaabe10>"
      ]
     },
     "metadata": {},
     "output_type": "display_data"
    },
    {
     "data": {
      "text/html": [
       "<pre style=\"white-space:pre;overflow-x:auto;line-height:normal;font-family:Menlo,'DejaVu Sans Mono',consolas,'Courier New',monospace\"><span style=\"color: #7fbfbf\">           </span><span style=\"color: #000080\">INFO</span>     Loading DEFAULTS for section <span style=\"color: #800000\">network</span> from file <span style=\"color: #800000\">plan/defaults/network.yaml</span>.                                                        <a href=\"file:///home/itrushkin/.virtualenvs/fledge/lib/python3.6/site-packages/fledge/federated/plan/plan.py\"><span style=\"color: #7f7f7f\">plan.py</span></a><span style=\"color: #7f7f7f\">:90</span>\n",
       "</pre>\n"
      ],
      "text/plain": [
       "<rich.jupyter.JupyterRenderable at 0x7f96acaab358>"
      ]
     },
     "metadata": {},
     "output_type": "display_data"
    },
    {
     "data": {
      "text/html": [
       "<pre style=\"white-space:pre;overflow-x:auto;line-height:normal;font-family:Menlo,'DejaVu Sans Mono',consolas,'Courier New',monospace\"><span style=\"color: #7fbfbf\">           </span><span style=\"color: #000080\">INFO</span>     Loading DEFAULTS for section <span style=\"color: #800000\">task_runner</span> from file <span style=\"color: #800000\">plan/defaults/task_runner.yaml</span>.                                                <a href=\"file:///home/itrushkin/.virtualenvs/fledge/lib/python3.6/site-packages/fledge/federated/plan/plan.py\"><span style=\"color: #7f7f7f\">plan.py</span></a><span style=\"color: #7f7f7f\">:90</span>\n",
       "</pre>\n"
      ],
      "text/plain": [
       "<rich.jupyter.JupyterRenderable at 0x7f96acaab780>"
      ]
     },
     "metadata": {},
     "output_type": "display_data"
    },
    {
     "data": {
      "text/html": [
       "<pre style=\"white-space:pre;overflow-x:auto;line-height:normal;font-family:Menlo,'DejaVu Sans Mono',consolas,'Courier New',monospace\"><span style=\"color: #7fbfbf\">           </span><span style=\"color: #000080\">INFO</span>     Loading DEFAULTS for section <span style=\"color: #800000\">tasks</span> from file <span style=\"color: #800000\">plan/defaults/tasks_fast_estimator.yaml</span>.                                             <a href=\"file:///home/itrushkin/.virtualenvs/fledge/lib/python3.6/site-packages/fledge/federated/plan/plan.py\"><span style=\"color: #7f7f7f\">plan.py</span></a><span style=\"color: #7f7f7f\">:90</span>\n",
       "</pre>\n"
      ],
      "text/plain": [
       "<rich.jupyter.JupyterRenderable at 0x7f96acaab630>"
      ]
     },
     "metadata": {},
     "output_type": "display_data"
    },
    {
     "data": {
      "text/html": [
       "<pre style=\"white-space:pre;overflow-x:auto;line-height:normal;font-family:Menlo,'DejaVu Sans Mono',consolas,'Courier New',monospace\"><span style=\"color: #7fbfbf\">           </span><span style=\"color: #000080\">INFO</span>     FL-Plan hash is <span style=\"color: #000080\">35261bb1d3dd2abb44aef5925db17487</span>                                                                                 <a href=\"file:///home/itrushkin/.virtualenvs/fledge/lib/python3.6/site-packages/fledge/federated/plan/plan.py\"><span style=\"color: #7f7f7f\">plan.py</span></a><span style=\"color: #7f7f7f\">:190</span>\n",
       "</pre>\n"
      ],
      "text/plain": [
       "<rich.jupyter.JupyterRenderable at 0x7f96acaab358>"
      ]
     },
     "metadata": {},
     "output_type": "display_data"
    },
    {
     "data": {
      "text/html": [
       "<pre style=\"white-space:pre;overflow-x:auto;line-height:normal;font-family:Menlo,'DejaVu Sans Mono',consolas,'Courier New',monospace\"><span style=\"color: #7fbfbf\">           </span><span style=\"color: #000080\">INFO</span>     FL-Plan hash is <span style=\"color: #000080\">9dd62be0733ca16c226e5d78e9aff317</span>                                                                                 <a href=\"file:///home/itrushkin/.virtualenvs/fledge/lib/python3.6/site-packages/fledge/federated/plan/plan.py\"><span style=\"color: #7f7f7f\">plan.py</span></a><span style=\"color: #7f7f7f\">:190</span>\n",
       "</pre>\n"
      ],
      "text/plain": [
       "<rich.jupyter.JupyterRenderable at 0x7f96aca97da0>"
      ]
     },
     "metadata": {},
     "output_type": "display_data"
    },
    {
     "data": {
      "text/html": [
       "<pre style=\"white-space:pre;overflow-x:auto;line-height:normal;font-family:Menlo,'DejaVu Sans Mono',consolas,'Courier New',monospace\"><span style=\"color: #7fbfbf\">           </span><span style=\"color: #000080\">INFO</span>     Parsing Federated Learning Plan : <span style=\"color: #008000\">SUCCESS</span> : <span style=\"color: #800080\">/home/itrushkin/.local/workspace/plan/</span><span style=\"color: #ff00ff\">plan.yaml.</span>                                     <a href=\"file:///home/itrushkin/.virtualenvs/fledge/lib/python3.6/site-packages/fledge/federated/plan/plan.py\"><span style=\"color: #7f7f7f\">plan.py</span></a><span style=\"color: #7f7f7f\">:119</span>\n",
       "</pre>\n"
      ],
      "text/plain": [
       "<rich.jupyter.JupyterRenderable at 0x7f96aca97d68>"
      ]
     },
     "metadata": {},
     "output_type": "display_data"
    },
    {
     "data": {
      "text/html": [
       "<pre style=\"white-space:pre;overflow-x:auto;line-height:normal;font-family:Menlo,'DejaVu Sans Mono',consolas,'Courier New',monospace\"><span style=\"color: #7fbfbf\">           </span><span style=\"color: #000080\">INFO</span>     aggregator:                                                                                                                      <a href=\"file:///home/itrushkin/.virtualenvs/fledge/lib/python3.6/site-packages/fledge/federated/plan/plan.py\"><span style=\"color: #7f7f7f\">plan.py</span></a><span style=\"color: #7f7f7f\">:120</span>\n",
       "                      defaults: plan/defaults/aggregator.yaml                                                                                                   \n",
       "                      settings:                                                                                                                                 \n",
       "                        best_state_path: save/keras_lenet_best.pbuf                                                                                             \n",
       "                        init_state_path: save/keras_lenet_init.pbuf                                                                                             \n",
       "                        last_state_path: save/keras_lenet_last.pbuf                                                                                             \n",
       "                        rounds_to_train: <span style=\"color: #000080; font-weight: bold\">10</span>                                                                                                                     \n",
       "                      template: fledge.component.Aggregator                                                                                                     \n",
       "                    assigner:                                                                                                                                   \n",
       "                      defaults: plan/defaults/assigner.yaml                                                                                                     \n",
       "                      settings:                                                                                                                                 \n",
       "                        task_groups:                                                                                                                            \n",
       "                        - name: train_and_validate                                                                                                              \n",
       "                          percentage: <span style=\"color: #000080; font-weight: bold\">1.0</span>                                                                                                                       \n",
       "                          tasks:                                                                                                                                \n",
       "                          - aggregated_model_validation                                                                                                         \n",
       "                          - train                                                                                                                               \n",
       "                          - locally_tuned_model_validation                                                                                                      \n",
       "                      template: fledge.component.RandomGroupedAssigner                                                                                          \n",
       "                    collaborator:                                                                                                                               \n",
       "                      defaults: plan/defaults/collaborator.yaml                                                                                                 \n",
       "                      settings:                                                                                                                                 \n",
       "                        delta_updates: false                                                                                                                    \n",
       "                        epochs_per_round: <span style=\"color: #000080; font-weight: bold\">1.0</span>                                                                                                                   \n",
       "                        opt_treatment: RESET                                                                                                                    \n",
       "                        polling_interval: <span style=\"color: #000080; font-weight: bold\">4</span>                                                                                                                     \n",
       "                      template: fledge.component.Collaborator                                                                                                   \n",
       "                    data_loader:                                                                                                                                \n",
       "                      defaults: plan/defaults/data_loader.yaml                                                                                                  \n",
       "                      settings:                                                                                                                                 \n",
       "                        batch_size: <span style=\"color: #000080; font-weight: bold\">32</span>                                                                                                                          \n",
       "                        collaborator_count: <span style=\"color: #000080; font-weight: bold\">2</span>                                                                                                                   \n",
       "                        data_group_name: cifar                                                                                                                  \n",
       "                      template: fledge.federated.DataLoader                                                                                                     \n",
       "                    network:                                                                                                                                    \n",
       "                      defaults: plan/defaults/network.yaml                                                                                                      \n",
       "                      settings:                                                                                                                                 \n",
       "                        agg_addr: nnlicv611                                                                                                                     \n",
       "                        agg_port: <span style=\"color: #000080; font-weight: bold\">54713</span>                                                                                                                         \n",
       "                        cert_folder: cert                                                                                                                       \n",
       "                        disable_client_auth: false                                                                                                              \n",
       "                        disable_tls: false                                                                                                                      \n",
       "                        hash_salt: auto                                                                                                                         \n",
       "                      template: fledge.federation.Network                                                                                                       \n",
       "                    task_runner:                                                                                                                                \n",
       "                      defaults: plan/defaults/task_runner.yaml                                                                                                  \n",
       "                      settings: <span style=\"font-weight: bold\">{}</span>                                                                                                                              \n",
       "                      template: fledge.federated.TaskRunner                                                                                                     \n",
       "                    tasks:                                                                                                                                      \n",
       "                      aggregated_model_validation:                                                                                                              \n",
       "                        function: validate                                                                                                                      \n",
       "                        kwargs:                                                                                                                                 \n",
       "                          apply: global                                                                                                                         \n",
       "                          batch_size: <span style=\"color: #000080; font-weight: bold\">32</span>                                                                                                                        \n",
       "                          metrics:                                                                                                                              \n",
       "                          - clean_accuracy                                                                                                                      \n",
       "                          - adversarial_accuracy                                                                                                                \n",
       "                      defaults: plan/defaults/tasks_fast_estimator.yaml                                                                                         \n",
       "                      locally_tuned_model_validation:                                                                                                           \n",
       "                        function: validate                                                                                                                      \n",
       "                        kwargs:                                                                                                                                 \n",
       "                          apply: local                                                                                                                          \n",
       "                          batch_size: <span style=\"color: #000080; font-weight: bold\">32</span>                                                                                                                        \n",
       "                          metrics:                                                                                                                              \n",
       "                          - clean_accuracy                                                                                                                      \n",
       "                          - adversarial_accuracy                                                                                                                \n",
       "                      settings: <span style=\"font-weight: bold\">{}</span>                                                                                                                              \n",
       "                      train:                                                                                                                                    \n",
       "                        function: train                                                                                                                         \n",
       "                        kwargs:                                                                                                                                 \n",
       "                          batch_size: <span style=\"color: #000080; font-weight: bold\">32</span>                                                                                                                        \n",
       "                          epochs: <span style=\"color: #000080; font-weight: bold\">1</span>                                                                                                                             \n",
       "                          metrics:                                                                                                                              \n",
       "                          - adv_ce                                                                                                                              \n",
       "                          - base_ce                                                                                                                             \n",
       "                                                                                                                                                                \n",
       "</pre>\n"
      ],
      "text/plain": [
       "<rich.jupyter.JupyterRenderable at 0x7f96acab3780>"
      ]
     },
     "metadata": {},
     "output_type": "display_data"
    },
    {
     "data": {
      "text/html": [
       "<pre style=\"white-space:pre;overflow-x:auto;line-height:normal;font-family:Menlo,'DejaVu Sans Mono',consolas,'Courier New',monospace\"><span style=\"color: #7fbfbf\">           </span><span style=\"color: #000080\">INFO</span>     Building <span style=\"color: #800000\">🡆</span> Object <span style=\"color: #800000\">NoCompressionPipeline</span> from <span style=\"color: #800000\">fledge.pipelines</span> Module.                                                            <a href=\"file:///home/itrushkin/.virtualenvs/fledge/lib/python3.6/site-packages/fledge/federated/plan/plan.py\"><span style=\"color: #7f7f7f\">plan.py</span></a><span style=\"color: #7f7f7f\">:150</span>\n",
       "</pre>\n"
      ],
      "text/plain": [
       "<rich.jupyter.JupyterRenderable at 0x7f96acab3710>"
      ]
     },
     "metadata": {},
     "output_type": "display_data"
    },
    {
     "data": {
      "text/html": [
       "<pre style=\"white-space:pre;overflow-x:auto;line-height:normal;font-family:Menlo,'DejaVu Sans Mono',consolas,'Courier New',monospace\"><span style=\"color: #7fbfbf\">           </span><span style=\"color: #000080\">INFO</span>     Settings <span style=\"color: #800000\">🡆</span> <span style=\"font-weight: bold\">{}</span>                                                                                                                    <a href=\"file:///home/itrushkin/.virtualenvs/fledge/lib/python3.6/site-packages/fledge/federated/plan/plan.py\"><span style=\"color: #7f7f7f\">plan.py</span></a><span style=\"color: #7f7f7f\">:151</span>\n",
       "</pre>\n"
      ],
      "text/plain": [
       "<rich.jupyter.JupyterRenderable at 0x7f96acab3ac8>"
      ]
     },
     "metadata": {},
     "output_type": "display_data"
    },
    {
     "data": {
      "text/html": [
       "<pre style=\"white-space:pre;overflow-x:auto;line-height:normal;font-family:Menlo,'DejaVu Sans Mono',consolas,'Courier New',monospace\"><span style=\"color: #7fbfbf\">           </span><span style=\"color: #000080\">INFO</span>     Override <span style=\"color: #800000\">🡆</span> <span style=\"font-weight: bold\">{}</span>                                                                                                                    <a href=\"file:///home/itrushkin/.virtualenvs/fledge/lib/python3.6/site-packages/fledge/federated/plan/plan.py\"><span style=\"color: #7f7f7f\">plan.py</span></a><span style=\"color: #7f7f7f\">:152</span>\n",
       "</pre>\n"
      ],
      "text/plain": [
       "<rich.jupyter.JupyterRenderable at 0x7f96acab3588>"
      ]
     },
     "metadata": {},
     "output_type": "display_data"
    },
    {
     "data": {
      "text/html": [
       "<pre style=\"white-space:pre;overflow-x:auto;line-height:normal;font-family:Menlo,'DejaVu Sans Mono',consolas,'Courier New',monospace\"><span style=\"color: #7fbfbf\">           </span><span style=\"color: #800000\">WARNING</span>  tried to remove tensor: __opt_state_needed not present in the tensor dict                                                        <a href=\"file:///home/itrushkin/.virtualenvs/fledge/lib/python3.6/site-packages/fledge/utilities/utils.py\"><span style=\"color: #7f7f7f\">utils.py</span></a><span style=\"color: #7f7f7f\">:54</span>\n",
       "</pre>\n"
      ],
      "text/plain": [
       "<rich.jupyter.JupyterRenderable at 0x7f96acab3ac8>"
      ]
     },
     "metadata": {},
     "output_type": "display_data"
    },
    {
     "data": {
      "text/html": [
       "<pre style=\"white-space:pre;overflow-x:auto;line-height:normal;font-family:Menlo,'DejaVu Sans Mono',consolas,'Courier New',monospace\"><span style=\"color: #7fbfbf\">           </span><span style=\"color: #000080\">INFO</span>     Creating Initial Weights File    🠆 save/keras_lenet_init.pbuf                                                            <a href=\"file:///home/itrushkin/.virtualenvs/fledge/lib/python3.6/site-packages/fledge/native/fastestimator.py\"><span style=\"color: #7f7f7f\">fastestimator.py</span></a><span style=\"color: #7f7f7f\">:66</span>\n",
       "</pre>\n"
      ],
      "text/plain": [
       "<rich.jupyter.JupyterRenderable at 0x7f96acab3c50>"
      ]
     },
     "metadata": {},
     "output_type": "display_data"
    },
    {
     "data": {
      "text/html": [
       "<pre style=\"white-space:pre;overflow-x:auto;line-height:normal;font-family:Menlo,'DejaVu Sans Mono',consolas,'Courier New',monospace\"><span style=\"color: #7fbfbf\">           </span><span style=\"color: #000080\">INFO</span>     Starting Experiment<span style=\"color: #808000\">...</span>                                                                                                   <a href=\"file:///home/itrushkin/.virtualenvs/fledge/lib/python3.6/site-packages/fledge/native/fastestimator.py\"><span style=\"color: #7f7f7f\">fastestimator.py</span></a><span style=\"color: #7f7f7f\">:70</span>\n",
       "</pre>\n"
      ],
      "text/plain": [
       "<rich.jupyter.JupyterRenderable at 0x7f96acab3f60>"
      ]
     },
     "metadata": {},
     "output_type": "display_data"
    },
    {
     "data": {
      "text/html": [
       "<pre style=\"white-space:pre;overflow-x:auto;line-height:normal;font-family:Menlo,'DejaVu Sans Mono',consolas,'Courier New',monospace\"><span style=\"color: #7fbfbf\">           </span><span style=\"color: #000080\">INFO</span>     Building <span style=\"color: #800000\">🡆</span> Object <span style=\"color: #800000\">RandomGroupedAssigner</span> from <span style=\"color: #800000\">fledge.component</span> Module.                                                            <a href=\"file:///home/itrushkin/.virtualenvs/fledge/lib/python3.6/site-packages/fledge/federated/plan/plan.py\"><span style=\"color: #7f7f7f\">plan.py</span></a><span style=\"color: #7f7f7f\">:150</span>\n",
       "</pre>\n"
      ],
      "text/plain": [
       "<rich.jupyter.JupyterRenderable at 0x7f96acab3ba8>"
      ]
     },
     "metadata": {},
     "output_type": "display_data"
    },
    {
     "data": {
      "text/html": [
       "<pre style=\"white-space:pre;overflow-x:auto;line-height:normal;font-family:Menlo,'DejaVu Sans Mono',consolas,'Courier New',monospace\"><span style=\"color: #7fbfbf\">           </span><span style=\"color: #000080\">INFO</span>     Settings <span style=\"color: #800000\">🡆</span> <span style=\"font-weight: bold\">{</span><span style=\"color: #008000\">'task_groups'</span>: <span style=\"font-weight: bold\">[{</span><span style=\"color: #008000\">'name'</span>: <span style=\"color: #008000\">'train_and_validate'</span>, <span style=\"color: #008000\">'percentage'</span>: <span style=\"color: #000080; font-weight: bold\">1.0</span>, <span style=\"color: #008000\">'tasks'</span>: <span style=\"font-weight: bold\">[</span><span style=\"color: #008000\">'aggregated_model_validation'</span>, <span style=\"color: #008000\">'train'</span>,  <a href=\"file:///home/itrushkin/.virtualenvs/fledge/lib/python3.6/site-packages/fledge/federated/plan/plan.py\"><span style=\"color: #7f7f7f\">plan.py</span></a><span style=\"color: #7f7f7f\">:151</span>\n",
       "                    <span style=\"color: #008000\">'locally_tuned_model_validation'</span><span style=\"font-weight: bold\">]}]</span>, <span style=\"color: #008000\">'authorized_cols'</span>: <span style=\"font-weight: bold\">[</span><span style=\"color: #008000\">'one'</span>, <span style=\"color: #008000\">'two'</span><span style=\"font-weight: bold\">]</span>, <span style=\"color: #008000\">'rounds_to_train'</span>: <span style=\"color: #000080; font-weight: bold\">10</span>, <span style=\"color: #008000\">'tasks'</span>:                                     \n",
       "                    <span style=\"font-weight: bold\">{</span><span style=\"color: #008000\">'aggregated_model_validation'</span>: <span style=\"font-weight: bold\">{</span><span style=\"color: #008000\">'function'</span>: <span style=\"color: #008000\">'validate'</span>, <span style=\"color: #008000\">'kwargs'</span>: <span style=\"font-weight: bold\">{</span><span style=\"color: #008000\">'batch_size'</span>: <span style=\"color: #000080; font-weight: bold\">32</span>, <span style=\"color: #008000\">'apply'</span>: <span style=\"color: #008000\">'global'</span>, <span style=\"color: #008000\">'metrics'</span>:                         \n",
       "                    <span style=\"font-weight: bold\">[</span><span style=\"color: #008000\">'clean_accuracy'</span>, <span style=\"color: #008000\">'adversarial_accuracy'</span><span style=\"font-weight: bold\">]}}</span>, <span style=\"color: #008000\">'locally_tuned_model_validation'</span>: <span style=\"font-weight: bold\">{</span><span style=\"color: #008000\">'function'</span>: <span style=\"color: #008000\">'validate'</span>, <span style=\"color: #008000\">'kwargs'</span>:                          \n",
       "                    <span style=\"font-weight: bold\">{</span><span style=\"color: #008000\">'batch_size'</span>: <span style=\"color: #000080; font-weight: bold\">32</span>, <span style=\"color: #008000\">'apply'</span>: <span style=\"color: #008000\">'local'</span>, <span style=\"color: #008000\">'metrics'</span>: <span style=\"font-weight: bold\">[</span><span style=\"color: #008000\">'clean_accuracy'</span>, <span style=\"color: #008000\">'adversarial_accuracy'</span><span style=\"font-weight: bold\">]}}</span>, <span style=\"color: #008000\">'train'</span>: <span style=\"font-weight: bold\">{</span><span style=\"color: #008000\">'function'</span>: <span style=\"color: #008000\">'train'</span>,                \n",
       "                    <span style=\"color: #008000\">'kwargs'</span>: <span style=\"font-weight: bold\">{</span><span style=\"color: #008000\">'batch_size'</span>: <span style=\"color: #000080; font-weight: bold\">32</span>, <span style=\"color: #008000\">'epochs'</span>: <span style=\"color: #000080; font-weight: bold\">1</span>, <span style=\"color: #008000\">'metrics'</span>: <span style=\"font-weight: bold\">[</span><span style=\"color: #008000\">'adv_ce'</span>, <span style=\"color: #008000\">'base_ce'</span><span style=\"font-weight: bold\">]}}</span>, <span style=\"color: #008000\">'defaults'</span>:                                                   \n",
       "                    <span style=\"color: #008000\">'plan/defaults/tasks_fast_estimator.yaml'</span>, <span style=\"color: #008000\">'settings'</span>: <span style=\"font-weight: bold\">{}}}</span>                                                                                 \n",
       "</pre>\n"
      ],
      "text/plain": [
       "<rich.jupyter.JupyterRenderable at 0x7f96acab3ba8>"
      ]
     },
     "metadata": {},
     "output_type": "display_data"
    },
    {
     "data": {
      "text/html": [
       "<pre style=\"white-space:pre;overflow-x:auto;line-height:normal;font-family:Menlo,'DejaVu Sans Mono',consolas,'Courier New',monospace\"><span style=\"color: #7fbfbf\">           </span><span style=\"color: #000080\">INFO</span>     Override <span style=\"color: #800000\">🡆</span> <span style=\"font-weight: bold\">{</span><span style=\"color: #008000\">'defaults'</span>: <span style=\"color: #008000\">'plan/defaults/assigner.yaml'</span><span style=\"font-weight: bold\">}</span>                                                                           <a href=\"file:///home/itrushkin/.virtualenvs/fledge/lib/python3.6/site-packages/fledge/federated/plan/plan.py\"><span style=\"color: #7f7f7f\">plan.py</span></a><span style=\"color: #7f7f7f\">:152</span>\n",
       "</pre>\n"
      ],
      "text/plain": [
       "<rich.jupyter.JupyterRenderable at 0x7f96acaabc50>"
      ]
     },
     "metadata": {},
     "output_type": "display_data"
    },
    {
     "data": {
      "text/html": [
       "<pre style=\"white-space:pre;overflow-x:auto;line-height:normal;font-family:Menlo,'DejaVu Sans Mono',consolas,'Courier New',monospace\"><span style=\"color: #7fbfbf\">           </span><span style=\"color: #000080\">INFO</span>     Building <span style=\"color: #800000\">🡆</span> Object <span style=\"color: #800000\">Aggregator</span> from <span style=\"color: #800000\">fledge.component</span> Module.                                                                       <a href=\"file:///home/itrushkin/.virtualenvs/fledge/lib/python3.6/site-packages/fledge/federated/plan/plan.py\"><span style=\"color: #7f7f7f\">plan.py</span></a><span style=\"color: #7f7f7f\">:150</span>\n",
       "</pre>\n"
      ],
      "text/plain": [
       "<rich.jupyter.JupyterRenderable at 0x7f96acaab668>"
      ]
     },
     "metadata": {},
     "output_type": "display_data"
    },
    {
     "data": {
      "text/html": [
       "<pre style=\"white-space:pre;overflow-x:auto;line-height:normal;font-family:Menlo,'DejaVu Sans Mono',consolas,'Courier New',monospace\"><span style=\"color: #7fbfbf\">           </span><span style=\"color: #000080\">INFO</span>     Settings <span style=\"color: #800000\">🡆</span> <span style=\"font-weight: bold\">{</span><span style=\"color: #008000\">'init_state_path'</span>: <span style=\"color: #008000\">'save/keras_lenet_init.pbuf'</span>, <span style=\"color: #008000\">'best_state_path'</span>: <span style=\"color: #008000\">'save/keras_lenet_best.pbuf'</span>, <span style=\"color: #008000\">'last_state_path'</span>: <a href=\"file:///home/itrushkin/.virtualenvs/fledge/lib/python3.6/site-packages/fledge/federated/plan/plan.py\"><span style=\"color: #7f7f7f\">plan.py</span></a><span style=\"color: #7f7f7f\">:151</span>\n",
       "                    <span style=\"color: #008000\">'save/keras_lenet_last.pbuf'</span>, <span style=\"color: #008000\">'rounds_to_train'</span>: <span style=\"color: #000080; font-weight: bold\">10</span>, <span style=\"color: #008000\">'aggregator_uuid'</span>: <span style=\"color: #008000\">'aggregator_plan.yaml_35261bb1'</span>, <span style=\"color: #008000\">'federation_uuid'</span>:                 \n",
       "                    <span style=\"color: #008000\">'plan.yaml_35261bb1'</span>, <span style=\"color: #008000\">'authorized_cols'</span>: <span style=\"font-weight: bold\">[</span><span style=\"color: #008000\">'one'</span>, <span style=\"color: #008000\">'two'</span><span style=\"font-weight: bold\">]</span>, <span style=\"color: #008000\">'assigner'</span>:                                                                        \n",
       "                    <span style=\"font-weight: bold\">&lt;</span><span style=\"color: #ff00ff; font-weight: bold\">fledge.component.assigner.random_grouped_assigner.RandomGroupedAssigner</span><span style=\"color: #000000\"> object at </span><span style=\"color: #000080; font-weight: bold\">0x7f96acaabef0</span><span style=\"font-weight: bold\">&gt;}</span>                                         \n",
       "</pre>\n"
      ],
      "text/plain": [
       "<rich.jupyter.JupyterRenderable at 0x7f96acaab278>"
      ]
     },
     "metadata": {},
     "output_type": "display_data"
    },
    {
     "data": {
      "text/html": [
       "<pre style=\"white-space:pre;overflow-x:auto;line-height:normal;font-family:Menlo,'DejaVu Sans Mono',consolas,'Courier New',monospace\"><span style=\"color: #7fbfbf\">           </span><span style=\"color: #000080\">INFO</span>     Override <span style=\"color: #800000\">🡆</span> <span style=\"font-weight: bold\">{</span><span style=\"color: #008000\">'defaults'</span>: <span style=\"color: #008000\">'plan/defaults/aggregator.yaml'</span><span style=\"font-weight: bold\">}</span>                                                                         <a href=\"file:///home/itrushkin/.virtualenvs/fledge/lib/python3.6/site-packages/fledge/federated/plan/plan.py\"><span style=\"color: #7f7f7f\">plan.py</span></a><span style=\"color: #7f7f7f\">:152</span>\n",
       "</pre>\n"
      ],
      "text/plain": [
       "<rich.jupyter.JupyterRenderable at 0x7f96acaab668>"
      ]
     },
     "metadata": {},
     "output_type": "display_data"
    },
    {
     "data": {
      "text/html": [
       "<pre style=\"white-space:pre;overflow-x:auto;line-height:normal;font-family:Menlo,'DejaVu Sans Mono',consolas,'Courier New',monospace\"><span style=\"color: #7fbfbf\">           </span><span style=\"color: #000080\">INFO</span>     Building <span style=\"color: #800000\">🡆</span> Object <span style=\"color: #800000\">Collaborator</span> from <span style=\"color: #800000\">fledge.component</span> Module.                                                                     <a href=\"file:///home/itrushkin/.virtualenvs/fledge/lib/python3.6/site-packages/fledge/federated/plan/plan.py\"><span style=\"color: #7f7f7f\">plan.py</span></a><span style=\"color: #7f7f7f\">:150</span>\n",
       "</pre>\n"
      ],
      "text/plain": [
       "<rich.jupyter.JupyterRenderable at 0x7f96acaabc50>"
      ]
     },
     "metadata": {},
     "output_type": "display_data"
    },
    {
     "data": {
      "text/html": [
       "<pre style=\"white-space:pre;overflow-x:auto;line-height:normal;font-family:Menlo,'DejaVu Sans Mono',consolas,'Courier New',monospace\"><span style=\"color: #7fbfbf\">           </span><span style=\"color: #000080\">INFO</span>     Settings <span style=\"color: #800000\">🡆</span> <span style=\"font-weight: bold\">{</span><span style=\"color: #008000\">'opt_treatment'</span>: <span style=\"color: #008000\">'RESET'</span>, <span style=\"color: #008000\">'delta_updates'</span>: <span style=\"color: #ff0000; font-style: italic\">False</span>, <span style=\"color: #008000\">'epochs_per_round'</span>: <span style=\"color: #000080; font-weight: bold\">1.0</span>, <span style=\"color: #008000\">'polling_interval'</span>: <span style=\"color: #000080; font-weight: bold\">4</span>,                    <a href=\"file:///home/itrushkin/.virtualenvs/fledge/lib/python3.6/site-packages/fledge/federated/plan/plan.py\"><span style=\"color: #7f7f7f\">plan.py</span></a><span style=\"color: #7f7f7f\">:151</span>\n",
       "                    <span style=\"color: #008000\">'collaborator_name'</span>: <span style=\"color: #008000\">'one'</span>, <span style=\"color: #008000\">'aggregator_uuid'</span>: <span style=\"color: #008000\">'aggregator_plan.yaml_35261bb1'</span>, <span style=\"color: #008000\">'federation_uuid'</span>: <span style=\"color: #008000\">'plan.yaml_35261bb1'</span>,                    \n",
       "                    <span style=\"color: #008000\">'task_runner'</span>: <span style=\"font-weight: bold\">&lt;</span><span style=\"color: #ff00ff; font-weight: bold\">fledge.federated.task.runner_fe.FastEstimatorTaskRunner</span><span style=\"color: #000000\"> object at </span><span style=\"color: #000080; font-weight: bold\">0x7f96acab3dd8</span><span style=\"font-weight: bold\">&gt;</span>, <span style=\"color: #008000\">'tensor_pipe'</span>:                           \n",
       "                    <span style=\"font-weight: bold\">&lt;</span><span style=\"color: #ff00ff; font-weight: bold\">fledge.pipelines.no_compression_pipeline.NoCompressionPipeline</span><span style=\"color: #000000\"> object at </span><span style=\"color: #000080; font-weight: bold\">0x7f97180b39e8</span><span style=\"font-weight: bold\">&gt;</span>, <span style=\"color: #008000\">'task_config'</span>:                                   \n",
       "                    <span style=\"font-weight: bold\">{</span><span style=\"color: #008000\">'aggregated_model_validation'</span>: <span style=\"font-weight: bold\">{</span><span style=\"color: #008000\">'function'</span>: <span style=\"color: #008000\">'validate'</span>, <span style=\"color: #008000\">'kwargs'</span>: <span style=\"font-weight: bold\">{</span><span style=\"color: #008000\">'batch_size'</span>: <span style=\"color: #000080; font-weight: bold\">32</span>, <span style=\"color: #008000\">'apply'</span>: <span style=\"color: #008000\">'global'</span>, <span style=\"color: #008000\">'metrics'</span>:                         \n",
       "                    <span style=\"font-weight: bold\">[</span><span style=\"color: #008000\">'clean_accuracy'</span>, <span style=\"color: #008000\">'adversarial_accuracy'</span><span style=\"font-weight: bold\">]}}</span>, <span style=\"color: #008000\">'locally_tuned_model_validation'</span>: <span style=\"font-weight: bold\">{</span><span style=\"color: #008000\">'function'</span>: <span style=\"color: #008000\">'validate'</span>, <span style=\"color: #008000\">'kwargs'</span>:                          \n",
       "                    <span style=\"font-weight: bold\">{</span><span style=\"color: #008000\">'batch_size'</span>: <span style=\"color: #000080; font-weight: bold\">32</span>, <span style=\"color: #008000\">'apply'</span>: <span style=\"color: #008000\">'local'</span>, <span style=\"color: #008000\">'metrics'</span>: <span style=\"font-weight: bold\">[</span><span style=\"color: #008000\">'clean_accuracy'</span>, <span style=\"color: #008000\">'adversarial_accuracy'</span><span style=\"font-weight: bold\">]}}</span>, <span style=\"color: #008000\">'train'</span>: <span style=\"font-weight: bold\">{</span><span style=\"color: #008000\">'function'</span>: <span style=\"color: #008000\">'train'</span>,                \n",
       "                    <span style=\"color: #008000\">'kwargs'</span>: <span style=\"font-weight: bold\">{</span><span style=\"color: #008000\">'batch_size'</span>: <span style=\"color: #000080; font-weight: bold\">32</span>, <span style=\"color: #008000\">'epochs'</span>: <span style=\"color: #000080; font-weight: bold\">1</span>, <span style=\"color: #008000\">'metrics'</span>: <span style=\"font-weight: bold\">[</span><span style=\"color: #008000\">'adv_ce'</span>, <span style=\"color: #008000\">'base_ce'</span><span style=\"font-weight: bold\">]}}</span>, <span style=\"color: #008000\">'defaults'</span>:                                                   \n",
       "                    <span style=\"color: #008000\">'plan/defaults/tasks_fast_estimator.yaml'</span>, <span style=\"color: #008000\">'settings'</span>: <span style=\"font-weight: bold\">{}}</span>, <span style=\"color: #008000\">'client'</span>: <span style=\"font-weight: bold\">&lt;</span><span style=\"color: #ff00ff; font-weight: bold\">fledge.component.aggregator.aggregator.Aggregator</span><span style=\"color: #000000\"> object </span>            \n",
       "                    <span style=\"color: #000000\">at </span><span style=\"color: #000080; font-weight: bold\">0x7f96acaabac8</span><span style=\"font-weight: bold\">&gt;}</span>                                                                                                                         \n",
       "</pre>\n"
      ],
      "text/plain": [
       "<rich.jupyter.JupyterRenderable at 0x7f96acab3198>"
      ]
     },
     "metadata": {},
     "output_type": "display_data"
    },
    {
     "data": {
      "text/html": [
       "<pre style=\"white-space:pre;overflow-x:auto;line-height:normal;font-family:Menlo,'DejaVu Sans Mono',consolas,'Courier New',monospace\"><span style=\"color: #7fbfbf\">           </span><span style=\"color: #000080\">INFO</span>     Override <span style=\"color: #800000\">🡆</span> <span style=\"font-weight: bold\">{</span><span style=\"color: #008000\">'defaults'</span>: <span style=\"color: #008000\">'plan/defaults/collaborator.yaml'</span><span style=\"font-weight: bold\">}</span>                                                                       <a href=\"file:///home/itrushkin/.virtualenvs/fledge/lib/python3.6/site-packages/fledge/federated/plan/plan.py\"><span style=\"color: #7f7f7f\">plan.py</span></a><span style=\"color: #7f7f7f\">:152</span>\n",
       "</pre>\n"
      ],
      "text/plain": [
       "<rich.jupyter.JupyterRenderable at 0x7f96aca97fd0>"
      ]
     },
     "metadata": {},
     "output_type": "display_data"
    },
    {
     "data": {
      "text/html": [
       "<pre style=\"white-space:pre;overflow-x:auto;line-height:normal;font-family:Menlo,'DejaVu Sans Mono',consolas,'Courier New',monospace\"><span style=\"color: #7fbfbf\">           </span><span style=\"color: #000080\">INFO</span>     Building <span style=\"color: #800000\">🡆</span> Object <span style=\"color: #800000\">Collaborator</span> from <span style=\"color: #800000\">fledge.component</span> Module.                                                                     <a href=\"file:///home/itrushkin/.virtualenvs/fledge/lib/python3.6/site-packages/fledge/federated/plan/plan.py\"><span style=\"color: #7f7f7f\">plan.py</span></a><span style=\"color: #7f7f7f\">:150</span>\n",
       "</pre>\n"
      ],
      "text/plain": [
       "<rich.jupyter.JupyterRenderable at 0x7f96acab36d8>"
      ]
     },
     "metadata": {},
     "output_type": "display_data"
    },
    {
     "data": {
      "text/html": [
       "<pre style=\"white-space:pre;overflow-x:auto;line-height:normal;font-family:Menlo,'DejaVu Sans Mono',consolas,'Courier New',monospace\"><span style=\"color: #7fbfbf\">           </span><span style=\"color: #000080\">INFO</span>     Settings <span style=\"color: #800000\">🡆</span> <span style=\"font-weight: bold\">{</span><span style=\"color: #008000\">'opt_treatment'</span>: <span style=\"color: #008000\">'RESET'</span>, <span style=\"color: #008000\">'delta_updates'</span>: <span style=\"color: #ff0000; font-style: italic\">False</span>, <span style=\"color: #008000\">'epochs_per_round'</span>: <span style=\"color: #000080; font-weight: bold\">1.0</span>, <span style=\"color: #008000\">'polling_interval'</span>: <span style=\"color: #000080; font-weight: bold\">4</span>,                    <a href=\"file:///home/itrushkin/.virtualenvs/fledge/lib/python3.6/site-packages/fledge/federated/plan/plan.py\"><span style=\"color: #7f7f7f\">plan.py</span></a><span style=\"color: #7f7f7f\">:151</span>\n",
       "                    <span style=\"color: #008000\">'collaborator_name'</span>: <span style=\"color: #008000\">'two'</span>, <span style=\"color: #008000\">'aggregator_uuid'</span>: <span style=\"color: #008000\">'aggregator_plan.yaml_35261bb1'</span>, <span style=\"color: #008000\">'federation_uuid'</span>: <span style=\"color: #008000\">'plan.yaml_35261bb1'</span>,                    \n",
       "                    <span style=\"color: #008000\">'task_runner'</span>: <span style=\"font-weight: bold\">&lt;</span><span style=\"color: #ff00ff; font-weight: bold\">fledge.federated.task.runner_fe.FastEstimatorTaskRunner</span><span style=\"color: #000000\"> object at </span><span style=\"color: #000080; font-weight: bold\">0x7f96acab3dd8</span><span style=\"font-weight: bold\">&gt;</span>, <span style=\"color: #008000\">'tensor_pipe'</span>:                           \n",
       "                    <span style=\"font-weight: bold\">&lt;</span><span style=\"color: #ff00ff; font-weight: bold\">fledge.pipelines.no_compression_pipeline.NoCompressionPipeline</span><span style=\"color: #000000\"> object at </span><span style=\"color: #000080; font-weight: bold\">0x7f97180b39e8</span><span style=\"font-weight: bold\">&gt;</span>, <span style=\"color: #008000\">'task_config'</span>:                                   \n",
       "                    <span style=\"font-weight: bold\">{</span><span style=\"color: #008000\">'aggregated_model_validation'</span>: <span style=\"font-weight: bold\">{</span><span style=\"color: #008000\">'function'</span>: <span style=\"color: #008000\">'validate'</span>, <span style=\"color: #008000\">'kwargs'</span>: <span style=\"font-weight: bold\">{</span><span style=\"color: #008000\">'batch_size'</span>: <span style=\"color: #000080; font-weight: bold\">32</span>, <span style=\"color: #008000\">'apply'</span>: <span style=\"color: #008000\">'global'</span>, <span style=\"color: #008000\">'metrics'</span>:                         \n",
       "                    <span style=\"font-weight: bold\">[</span><span style=\"color: #008000\">'clean_accuracy'</span>, <span style=\"color: #008000\">'adversarial_accuracy'</span><span style=\"font-weight: bold\">]}}</span>, <span style=\"color: #008000\">'locally_tuned_model_validation'</span>: <span style=\"font-weight: bold\">{</span><span style=\"color: #008000\">'function'</span>: <span style=\"color: #008000\">'validate'</span>, <span style=\"color: #008000\">'kwargs'</span>:                          \n",
       "                    <span style=\"font-weight: bold\">{</span><span style=\"color: #008000\">'batch_size'</span>: <span style=\"color: #000080; font-weight: bold\">32</span>, <span style=\"color: #008000\">'apply'</span>: <span style=\"color: #008000\">'local'</span>, <span style=\"color: #008000\">'metrics'</span>: <span style=\"font-weight: bold\">[</span><span style=\"color: #008000\">'clean_accuracy'</span>, <span style=\"color: #008000\">'adversarial_accuracy'</span><span style=\"font-weight: bold\">]}}</span>, <span style=\"color: #008000\">'train'</span>: <span style=\"font-weight: bold\">{</span><span style=\"color: #008000\">'function'</span>: <span style=\"color: #008000\">'train'</span>,                \n",
       "                    <span style=\"color: #008000\">'kwargs'</span>: <span style=\"font-weight: bold\">{</span><span style=\"color: #008000\">'batch_size'</span>: <span style=\"color: #000080; font-weight: bold\">32</span>, <span style=\"color: #008000\">'epochs'</span>: <span style=\"color: #000080; font-weight: bold\">1</span>, <span style=\"color: #008000\">'metrics'</span>: <span style=\"font-weight: bold\">[</span><span style=\"color: #008000\">'adv_ce'</span>, <span style=\"color: #008000\">'base_ce'</span><span style=\"font-weight: bold\">]}}</span>, <span style=\"color: #008000\">'defaults'</span>:                                                   \n",
       "                    <span style=\"color: #008000\">'plan/defaults/tasks_fast_estimator.yaml'</span>, <span style=\"color: #008000\">'settings'</span>: <span style=\"font-weight: bold\">{}}</span>, <span style=\"color: #008000\">'client'</span>: <span style=\"font-weight: bold\">&lt;</span><span style=\"color: #ff00ff; font-weight: bold\">fledge.component.aggregator.aggregator.Aggregator</span><span style=\"color: #000000\"> object </span>            \n",
       "                    <span style=\"color: #000000\">at </span><span style=\"color: #000080; font-weight: bold\">0x7f96acaabac8</span><span style=\"font-weight: bold\">&gt;</span>, <span style=\"color: #008000\">'defaults'</span>: <span style=\"color: #008000\">'plan/defaults/collaborator.yaml'</span><span style=\"font-weight: bold\">}</span>                                                                          \n",
       "</pre>\n"
      ],
      "text/plain": [
       "<rich.jupyter.JupyterRenderable at 0x7f96acab36a0>"
      ]
     },
     "metadata": {},
     "output_type": "display_data"
    },
    {
     "data": {
      "text/html": [
       "<pre style=\"white-space:pre;overflow-x:auto;line-height:normal;font-family:Menlo,'DejaVu Sans Mono',consolas,'Courier New',monospace\"><span style=\"color: #7fbfbf\">           </span><span style=\"color: #000080\">INFO</span>     Override <span style=\"color: #800000\">🡆</span> <span style=\"font-weight: bold\">{</span><span style=\"color: #008000\">'defaults'</span>: <span style=\"color: #008000\">'plan/defaults/collaborator.yaml'</span><span style=\"font-weight: bold\">}</span>                                                                       <a href=\"file:///home/itrushkin/.virtualenvs/fledge/lib/python3.6/site-packages/fledge/federated/plan/plan.py\"><span style=\"color: #7f7f7f\">plan.py</span></a><span style=\"color: #7f7f7f\">:152</span>\n",
       "</pre>\n"
      ],
      "text/plain": [
       "<rich.jupyter.JupyterRenderable at 0x7f96acab36d8>"
      ]
     },
     "metadata": {},
     "output_type": "display_data"
    },
    {
     "data": {
      "text/html": [
       "<pre style=\"white-space:pre;overflow-x:auto;line-height:normal;font-family:Menlo,'DejaVu Sans Mono',consolas,'Courier New',monospace\"><span style=\"color: #7fbfbf\">           </span><span style=\"color: #000080\">INFO</span>     Aggregator GetTasks function reached from collaborator one<span style=\"color: #808000\">...</span>                                                              <a href=\"file:///home/itrushkin/.virtualenvs/fledge/lib/python3.6/site-packages/fledge/component/aggregator/aggregator.py\"><span style=\"color: #7f7f7f\">aggregator.py</span></a><span style=\"color: #7f7f7f\">:215</span>\n",
       "</pre>\n"
      ],
      "text/plain": [
       "<rich.jupyter.JupyterRenderable at 0x7f96acaafef0>"
      ]
     },
     "metadata": {},
     "output_type": "display_data"
    },
    {
     "data": {
      "text/html": [
       "<pre style=\"white-space:pre;overflow-x:auto;line-height:normal;font-family:Menlo,'DejaVu Sans Mono',consolas,'Courier New',monospace\"><span style=\"color: #7fbfbf\">           </span><span style=\"color: #000080\">INFO</span>     Sending tasks to collaborator one for round <span style=\"color: #000080; font-weight: bold\">0</span>                                                                              <a href=\"file:///home/itrushkin/.virtualenvs/fledge/lib/python3.6/site-packages/fledge/component/aggregator/aggregator.py\"><span style=\"color: #7f7f7f\">aggregator.py</span></a><span style=\"color: #7f7f7f\">:249</span>\n",
       "</pre>\n"
      ],
      "text/plain": [
       "<rich.jupyter.JupyterRenderable at 0x7f96acaafe80>"
      ]
     },
     "metadata": {},
     "output_type": "display_data"
    },
    {
     "data": {
      "text/html": [
       "<pre style=\"white-space:pre;overflow-x:auto;line-height:normal;font-family:Menlo,'DejaVu Sans Mono',consolas,'Courier New',monospace\"><span style=\"color: #7fbfbf\">           </span><span style=\"color: #000080\">INFO</span>     Received the following tasks: <span style=\"font-weight: bold\">[</span><span style=\"color: #008000\">'aggregated_model_validation'</span>, <span style=\"color: #008000\">'train'</span>, <span style=\"color: #008000\">'locally_tuned_model_validation'</span><span style=\"font-weight: bold\">]</span>                 <a href=\"file:///home/itrushkin/.virtualenvs/fledge/lib/python3.6/site-packages/fledge/component/collaborator/collaborator.py\"><span style=\"color: #7f7f7f\">collaborator.py</span></a><span style=\"color: #7f7f7f\">:155</span>\n",
       "</pre>\n"
      ],
      "text/plain": [
       "<rich.jupyter.JupyterRenderable at 0x7f96acaaf860>"
      ]
     },
     "metadata": {},
     "output_type": "display_data"
    },
    {
     "name": "stderr",
     "output_type": "stream",
     "text": [
      "/home/itrushkin/.virtualenvs/fledge/lib/python3.6/site-packages/fledge/federated/task/runner_pt.py:172: UserWarning: The given NumPy array is not writeable, and PyTorch does not support non-writeable tensors. This means you can write to the underlying (supposedly non-writeable) NumPy array using the tensor. You may want to copy the array to protect its data or make it writeable before converting it to a tensor. This type of warning will be suppressed for the rest of this program. (Triggered internally at  /pytorch/torch/csrc/utils/tensor_numpy.cpp:141.)\n",
      "  new_state[k] = pt.from_numpy(tensor_dict.pop(k)).to(device)\n"
     ]
    },
    {
     "name": "stdout",
     "output_type": "stream",
     "text": [
      "FastEstimator-Test: step: None; epoch: 2; clean_accuracy: 0.0952; adversarial_accuracy: 0.0494; \n"
     ]
    },
    {
     "data": {
      "text/html": [
       "<pre style=\"white-space:pre;overflow-x:auto;line-height:normal;font-family:Menlo,'DejaVu Sans Mono',consolas,'Courier New',monospace\"><span style=\"color: #7fbfbf\">[07:54:17] </span><span style=\"color: #000080\">INFO</span>     Sending metric for task aggregated_model_validation, round number <span style=\"color: #000080; font-weight: bold\">0</span>: clean_accuracy     <span style=\"color: #000080; font-weight: bold\">0.0952</span>                           <a href=\"file:///home/itrushkin/.virtualenvs/fledge/lib/python3.6/site-packages/fledge/component/collaborator/collaborator.py\"><span style=\"color: #7f7f7f\">collaborator.py</span></a><span style=\"color: #7f7f7f\">:318</span>\n",
       "</pre>\n"
      ],
      "text/plain": [
       "<rich.jupyter.JupyterRenderable at 0x7f96aca03470>"
      ]
     },
     "metadata": {},
     "output_type": "display_data"
    },
    {
     "data": {
      "text/html": [
       "<pre style=\"white-space:pre;overflow-x:auto;line-height:normal;font-family:Menlo,'DejaVu Sans Mono',consolas,'Courier New',monospace\"><span style=\"color: #7fbfbf\">           </span><span style=\"color: #000080\">INFO</span>     Sending metric for task aggregated_model_validation, round number <span style=\"color: #000080; font-weight: bold\">0</span>: adversarial_accuracy       <span style=\"color: #000080; font-weight: bold\">0.0494</span>                   <a href=\"file:///home/itrushkin/.virtualenvs/fledge/lib/python3.6/site-packages/fledge/component/collaborator/collaborator.py\"><span style=\"color: #7f7f7f\">collaborator.py</span></a><span style=\"color: #7f7f7f\">:318</span>\n",
       "</pre>\n"
      ],
      "text/plain": [
       "<rich.jupyter.JupyterRenderable at 0x7f96aca03080>"
      ]
     },
     "metadata": {},
     "output_type": "display_data"
    },
    {
     "data": {
      "text/html": [
       "<pre style=\"white-space:pre;overflow-x:auto;line-height:normal;font-family:Menlo,'DejaVu Sans Mono',consolas,'Courier New',monospace\"><span style=\"color: #7fbfbf\">           </span><span style=\"color: #000080\">INFO</span>     Collaborator one is sending task results for aggregated_model_validation, round <span style=\"color: #000080; font-weight: bold\">0</span>                                          <a href=\"file:///home/itrushkin/.virtualenvs/fledge/lib/python3.6/site-packages/fledge/component/aggregator/aggregator.py\"><span style=\"color: #7f7f7f\">aggregator.py</span></a><span style=\"color: #7f7f7f\">:369</span>\n",
       "</pre>\n"
      ],
      "text/plain": [
       "<rich.jupyter.JupyterRenderable at 0x7f96aca036d8>"
      ]
     },
     "metadata": {},
     "output_type": "display_data"
    },
    {
     "name": "stdout",
     "output_type": "stream",
     "text": [
      "    ______           __  ______     __  _                 __            \n",
      "   / ____/___ ______/ /_/ ____/____/ /_(_)___ ___  ____ _/ /_____  _____\n",
      "  / /_  / __ `/ ___/ __/ __/ / ___/ __/ / __ `__ \\/ __ `/ __/ __ \\/ ___/\n",
      " / __/ / /_/ (__  ) /_/ /___(__  ) /_/ / / / / / / /_/ / /_/ /_/ / /    \n",
      "/_/    \\__,_/____/\\__/_____/____/\\__/_/_/ /_/ /_/\\__,_/\\__/\\____/_/     \n",
      "                                                                        \n",
      "\n",
      "FastEstimator-Warn: No ModelSaver Trace detected. Models will not be saved.\n",
      "FastEstimator-Start: step: 1; num_device: 3; logging_interval: 1000; \n",
      "FastEstimator-Train: step: 1; base_ce: 2.2967572; avg_ce: 2.3071933; adv_ce: 2.317629; \n",
      "FastEstimator-Train: step: 391; epoch: 1; epoch_time: 11.11 sec; \n",
      "FastEstimator-Eval: step: 391; epoch: 1; base_ce: 1.3600664; avg_ce: 1.5109972; adv_ce: 1.6619282; clean_accuracy: 0.5072; adversarial_accuracy: 0.3714; \n",
      "FastEstimator-Train: step: 782; epoch: 2; epoch_time: 11.18 sec; \n",
      "FastEstimator-Eval: step: 782; epoch: 2; base_ce: 1.2111422; avg_ce: 1.39347; adv_ce: 1.5757982; clean_accuracy: 0.5692; adversarial_accuracy: 0.4096; \n",
      "FastEstimator-Finish: step: 782; total_time: 26.54 sec; adv_model_lr: 0.001; \n"
     ]
    },
    {
     "data": {
      "text/html": [
       "<pre style=\"white-space:pre;overflow-x:auto;line-height:normal;font-family:Menlo,'DejaVu Sans Mono',consolas,'Courier New',monospace\"><span style=\"color: #7fbfbf\">[07:54:45] </span><span style=\"color: #000080\">INFO</span>     Sending metric for task train, round number <span style=\"color: #000080; font-weight: bold\">0</span>: adv_ce   <span style=\"color: #000080; font-weight: bold\">2.317629098892212</span>                                                <a href=\"file:///home/itrushkin/.virtualenvs/fledge/lib/python3.6/site-packages/fledge/component/collaborator/collaborator.py\"><span style=\"color: #7f7f7f\">collaborator.py</span></a><span style=\"color: #7f7f7f\">:318</span>\n",
       "</pre>\n"
      ],
      "text/plain": [
       "<rich.jupyter.JupyterRenderable at 0x7f96aa984940>"
      ]
     },
     "metadata": {},
     "output_type": "display_data"
    },
    {
     "data": {
      "text/html": [
       "<pre style=\"white-space:pre;overflow-x:auto;line-height:normal;font-family:Menlo,'DejaVu Sans Mono',consolas,'Courier New',monospace\"><span style=\"color: #7fbfbf\">           </span><span style=\"color: #000080\">INFO</span>     Sending metric for task train, round number <span style=\"color: #000080; font-weight: bold\">0</span>: base_ce  <span style=\"color: #000080; font-weight: bold\">2.296757221221924</span>                                                <a href=\"file:///home/itrushkin/.virtualenvs/fledge/lib/python3.6/site-packages/fledge/component/collaborator/collaborator.py\"><span style=\"color: #7f7f7f\">collaborator.py</span></a><span style=\"color: #7f7f7f\">:318</span>\n",
       "</pre>\n"
      ],
      "text/plain": [
       "<rich.jupyter.JupyterRenderable at 0x7f96aa9843c8>"
      ]
     },
     "metadata": {},
     "output_type": "display_data"
    },
    {
     "data": {
      "text/html": [
       "<pre style=\"white-space:pre;overflow-x:auto;line-height:normal;font-family:Menlo,'DejaVu Sans Mono',consolas,'Courier New',monospace\"><span style=\"color: #7fbfbf\">           </span><span style=\"color: #000080\">INFO</span>     Collaborator one is sending task results for train, round <span style=\"color: #000080; font-weight: bold\">0</span>                                                                <a href=\"file:///home/itrushkin/.virtualenvs/fledge/lib/python3.6/site-packages/fledge/component/aggregator/aggregator.py\"><span style=\"color: #7f7f7f\">aggregator.py</span></a><span style=\"color: #7f7f7f\">:369</span>\n",
       "</pre>\n"
      ],
      "text/plain": [
       "<rich.jupyter.JupyterRenderable at 0x7f96aa984dd8>"
      ]
     },
     "metadata": {},
     "output_type": "display_data"
    },
    {
     "name": "stdout",
     "output_type": "stream",
     "text": [
      "FastEstimator-Test: step: 782; epoch: 2; clean_accuracy: 0.5802; adversarial_accuracy: 0.412; \n"
     ]
    },
    {
     "data": {
      "text/html": [
       "<pre style=\"white-space:pre;overflow-x:auto;line-height:normal;font-family:Menlo,'DejaVu Sans Mono',consolas,'Courier New',monospace\"><span style=\"color: #7fbfbf\">[07:54:47] </span><span style=\"color: #000080\">INFO</span>     Sending metric for task locally_tuned_model_validation, round number <span style=\"color: #000080; font-weight: bold\">0</span>: clean_accuracy  <span style=\"color: #000080; font-weight: bold\">0.5802</span>                           <a href=\"file:///home/itrushkin/.virtualenvs/fledge/lib/python3.6/site-packages/fledge/component/collaborator/collaborator.py\"><span style=\"color: #7f7f7f\">collaborator.py</span></a><span style=\"color: #7f7f7f\">:318</span>\n",
       "</pre>\n"
      ],
      "text/plain": [
       "<rich.jupyter.JupyterRenderable at 0x7f96aa6d7cc0>"
      ]
     },
     "metadata": {},
     "output_type": "display_data"
    },
    {
     "data": {
      "text/html": [
       "<pre style=\"white-space:pre;overflow-x:auto;line-height:normal;font-family:Menlo,'DejaVu Sans Mono',consolas,'Courier New',monospace\"><span style=\"color: #7fbfbf\">           </span><span style=\"color: #000080\">INFO</span>     Sending metric for task locally_tuned_model_validation, round number <span style=\"color: #000080; font-weight: bold\">0</span>: adversarial_accuracy    <span style=\"color: #000080; font-weight: bold\">0.412</span>                    <a href=\"file:///home/itrushkin/.virtualenvs/fledge/lib/python3.6/site-packages/fledge/component/collaborator/collaborator.py\"><span style=\"color: #7f7f7f\">collaborator.py</span></a><span style=\"color: #7f7f7f\">:318</span>\n",
       "</pre>\n"
      ],
      "text/plain": [
       "<rich.jupyter.JupyterRenderable at 0x7f96aca97fd0>"
      ]
     },
     "metadata": {},
     "output_type": "display_data"
    },
    {
     "data": {
      "text/html": [
       "<pre style=\"white-space:pre;overflow-x:auto;line-height:normal;font-family:Menlo,'DejaVu Sans Mono',consolas,'Courier New',monospace\"><span style=\"color: #7fbfbf\">           </span><span style=\"color: #000080\">INFO</span>     Collaborator one is sending task results for locally_tuned_model_validation, round <span style=\"color: #000080; font-weight: bold\">0</span>                                       <a href=\"file:///home/itrushkin/.virtualenvs/fledge/lib/python3.6/site-packages/fledge/component/aggregator/aggregator.py\"><span style=\"color: #7f7f7f\">aggregator.py</span></a><span style=\"color: #7f7f7f\">:369</span>\n",
       "</pre>\n"
      ],
      "text/plain": [
       "<rich.jupyter.JupyterRenderable at 0x7f96aca97fd0>"
      ]
     },
     "metadata": {},
     "output_type": "display_data"
    },
    {
     "data": {
      "text/html": [
       "<pre style=\"white-space:pre;overflow-x:auto;line-height:normal;font-family:Menlo,'DejaVu Sans Mono',consolas,'Courier New',monospace\"><span style=\"color: #7fbfbf\">           </span><span style=\"color: #000080\">INFO</span>     All tasks completed on one for round <span style=\"color: #000080; font-weight: bold\">0</span><span style=\"color: #808000\">...</span>                                                                                <a href=\"file:///home/itrushkin/.virtualenvs/fledge/lib/python3.6/site-packages/fledge/component/collaborator/collaborator.py\"><span style=\"color: #7f7f7f\">collaborator.py</span></a><span style=\"color: #7f7f7f\">:158</span>\n",
       "</pre>\n"
      ],
      "text/plain": [
       "<rich.jupyter.JupyterRenderable at 0x7f96aca97ac8>"
      ]
     },
     "metadata": {},
     "output_type": "display_data"
    },
    {
     "data": {
      "text/html": [
       "<pre style=\"white-space:pre;overflow-x:auto;line-height:normal;font-family:Menlo,'DejaVu Sans Mono',consolas,'Courier New',monospace\"><span style=\"color: #7fbfbf\">           </span><span style=\"color: #000080\">INFO</span>     Aggregator GetTasks function reached from collaborator two<span style=\"color: #808000\">...</span>                                                              <a href=\"file:///home/itrushkin/.virtualenvs/fledge/lib/python3.6/site-packages/fledge/component/aggregator/aggregator.py\"><span style=\"color: #7f7f7f\">aggregator.py</span></a><span style=\"color: #7f7f7f\">:215</span>\n",
       "</pre>\n"
      ],
      "text/plain": [
       "<rich.jupyter.JupyterRenderable at 0x7f96aca97b70>"
      ]
     },
     "metadata": {},
     "output_type": "display_data"
    },
    {
     "data": {
      "text/html": [
       "<pre style=\"white-space:pre;overflow-x:auto;line-height:normal;font-family:Menlo,'DejaVu Sans Mono',consolas,'Courier New',monospace\"><span style=\"color: #7fbfbf\">           </span><span style=\"color: #000080\">INFO</span>     Sending tasks to collaborator two for round <span style=\"color: #000080; font-weight: bold\">0</span>                                                                              <a href=\"file:///home/itrushkin/.virtualenvs/fledge/lib/python3.6/site-packages/fledge/component/aggregator/aggregator.py\"><span style=\"color: #7f7f7f\">aggregator.py</span></a><span style=\"color: #7f7f7f\">:249</span>\n",
       "</pre>\n"
      ],
      "text/plain": [
       "<rich.jupyter.JupyterRenderable at 0x7f96aca97d68>"
      ]
     },
     "metadata": {},
     "output_type": "display_data"
    },
    {
     "data": {
      "text/html": [
       "<pre style=\"white-space:pre;overflow-x:auto;line-height:normal;font-family:Menlo,'DejaVu Sans Mono',consolas,'Courier New',monospace\"><span style=\"color: #7fbfbf\">           </span><span style=\"color: #000080\">INFO</span>     Received the following tasks: <span style=\"font-weight: bold\">[</span><span style=\"color: #008000\">'aggregated_model_validation'</span>, <span style=\"color: #008000\">'train'</span>, <span style=\"color: #008000\">'locally_tuned_model_validation'</span><span style=\"font-weight: bold\">]</span>                 <a href=\"file:///home/itrushkin/.virtualenvs/fledge/lib/python3.6/site-packages/fledge/component/collaborator/collaborator.py\"><span style=\"color: #7f7f7f\">collaborator.py</span></a><span style=\"color: #7f7f7f\">:155</span>\n",
       "</pre>\n"
      ],
      "text/plain": [
       "<rich.jupyter.JupyterRenderable at 0x7f96aca97ac8>"
      ]
     },
     "metadata": {},
     "output_type": "display_data"
    },
    {
     "name": "stdout",
     "output_type": "stream",
     "text": [
      "FastEstimator-Test: step: 782; epoch: 2; clean_accuracy: 0.0952; adversarial_accuracy: 0.0494; \n"
     ]
    },
    {
     "data": {
      "text/html": [
       "<pre style=\"white-space:pre;overflow-x:auto;line-height:normal;font-family:Menlo,'DejaVu Sans Mono',consolas,'Courier New',monospace\"><span style=\"color: #7fbfbf\">[07:54:48] </span><span style=\"color: #000080\">INFO</span>     Sending metric for task aggregated_model_validation, round number <span style=\"color: #000080; font-weight: bold\">0</span>: clean_accuracy     <span style=\"color: #000080; font-weight: bold\">0.0952</span>                           <a href=\"file:///home/itrushkin/.virtualenvs/fledge/lib/python3.6/site-packages/fledge/component/collaborator/collaborator.py\"><span style=\"color: #7f7f7f\">collaborator.py</span></a><span style=\"color: #7f7f7f\">:318</span>\n",
       "</pre>\n"
      ],
      "text/plain": [
       "<rich.jupyter.JupyterRenderable at 0x7f96aa65e128>"
      ]
     },
     "metadata": {},
     "output_type": "display_data"
    },
    {
     "data": {
      "text/html": [
       "<pre style=\"white-space:pre;overflow-x:auto;line-height:normal;font-family:Menlo,'DejaVu Sans Mono',consolas,'Courier New',monospace\"><span style=\"color: #7fbfbf\">           </span><span style=\"color: #000080\">INFO</span>     Sending metric for task aggregated_model_validation, round number <span style=\"color: #000080; font-weight: bold\">0</span>: adversarial_accuracy       <span style=\"color: #000080; font-weight: bold\">0.0494</span>                   <a href=\"file:///home/itrushkin/.virtualenvs/fledge/lib/python3.6/site-packages/fledge/component/collaborator/collaborator.py\"><span style=\"color: #7f7f7f\">collaborator.py</span></a><span style=\"color: #7f7f7f\">:318</span>\n",
       "</pre>\n"
      ],
      "text/plain": [
       "<rich.jupyter.JupyterRenderable at 0x7f96aa55c0f0>"
      ]
     },
     "metadata": {},
     "output_type": "display_data"
    },
    {
     "data": {
      "text/html": [
       "<pre style=\"white-space:pre;overflow-x:auto;line-height:normal;font-family:Menlo,'DejaVu Sans Mono',consolas,'Courier New',monospace\"><span style=\"color: #7fbfbf\">           </span><span style=\"color: #000080\">INFO</span>     Collaborator two is sending task results for aggregated_model_validation, round <span style=\"color: #000080; font-weight: bold\">0</span>                                          <a href=\"file:///home/itrushkin/.virtualenvs/fledge/lib/python3.6/site-packages/fledge/component/aggregator/aggregator.py\"><span style=\"color: #7f7f7f\">aggregator.py</span></a><span style=\"color: #7f7f7f\">:369</span>\n",
       "</pre>\n"
      ],
      "text/plain": [
       "<rich.jupyter.JupyterRenderable at 0x7f96aa65e128>"
      ]
     },
     "metadata": {},
     "output_type": "display_data"
    },
    {
     "name": "stdout",
     "output_type": "stream",
     "text": [
      "    ______           __  ______     __  _                 __            \n",
      "   / ____/___ ______/ /_/ ____/____/ /_(_)___ ___  ____ _/ /_____  _____\n",
      "  / /_  / __ `/ ___/ __/ __/ / ___/ __/ / __ `__ \\/ __ `/ __/ __ \\/ ___/\n",
      " / __/ / /_/ (__  ) /_/ /___(__  ) /_/ / / / / / / /_/ / /_/ /_/ / /    \n",
      "/_/    \\__,_/____/\\__/_____/____/\\__/_/_/ /_/ /_/\\__,_/\\__/\\____/_/     \n",
      "                                                                        \n",
      "\n",
      "FastEstimator-Warn: No ModelSaver Trace detected. Models will not be saved.\n",
      "FastEstimator-Start: step: 1; num_device: 3; logging_interval: 1000; \n",
      "FastEstimator-Train: step: 1; base_ce: 2.3018723; avg_ce: 2.3120668; adv_ce: 2.3222613; \n",
      "FastEstimator-Train: step: 391; epoch: 1; epoch_time: 11.03 sec; \n",
      "FastEstimator-Eval: step: 391; epoch: 1; base_ce: 1.3632715; avg_ce: 1.5122772; adv_ce: 1.6612829; clean_accuracy: 0.5142; adversarial_accuracy: 0.3642; \n",
      "FastEstimator-Train: step: 782; epoch: 2; epoch_time: 11.14 sec; \n",
      "FastEstimator-Eval: step: 782; epoch: 2; base_ce: 1.1925638; avg_ce: 1.3814912; adv_ce: 1.5704186; clean_accuracy: 0.5802; adversarial_accuracy: 0.401; \n",
      "FastEstimator-Finish: step: 782; total_time: 26.64 sec; adv_model_lr: 0.001; \n"
     ]
    },
    {
     "data": {
      "text/html": [
       "<pre style=\"white-space:pre;overflow-x:auto;line-height:normal;font-family:Menlo,'DejaVu Sans Mono',consolas,'Courier New',monospace\"><span style=\"color: #7fbfbf\">[07:55:16] </span><span style=\"color: #000080\">INFO</span>     Sending metric for task train, round number <span style=\"color: #000080; font-weight: bold\">0</span>: adv_ce   <span style=\"color: #000080; font-weight: bold\">2.322261333465576</span>                                                <a href=\"file:///home/itrushkin/.virtualenvs/fledge/lib/python3.6/site-packages/fledge/component/collaborator/collaborator.py\"><span style=\"color: #7f7f7f\">collaborator.py</span></a><span style=\"color: #7f7f7f\">:318</span>\n",
       "</pre>\n"
      ],
      "text/plain": [
       "<rich.jupyter.JupyterRenderable at 0x7f96aa561c88>"
      ]
     },
     "metadata": {},
     "output_type": "display_data"
    },
    {
     "data": {
      "text/html": [
       "<pre style=\"white-space:pre;overflow-x:auto;line-height:normal;font-family:Menlo,'DejaVu Sans Mono',consolas,'Courier New',monospace\"><span style=\"color: #7fbfbf\">           </span><span style=\"color: #000080\">INFO</span>     Sending metric for task train, round number <span style=\"color: #000080; font-weight: bold\">0</span>: base_ce  <span style=\"color: #000080; font-weight: bold\">2.3018722534179688</span>                                               <a href=\"file:///home/itrushkin/.virtualenvs/fledge/lib/python3.6/site-packages/fledge/component/collaborator/collaborator.py\"><span style=\"color: #7f7f7f\">collaborator.py</span></a><span style=\"color: #7f7f7f\">:318</span>\n",
       "</pre>\n"
      ],
      "text/plain": [
       "<rich.jupyter.JupyterRenderable at 0x7f96aca97940>"
      ]
     },
     "metadata": {},
     "output_type": "display_data"
    },
    {
     "data": {
      "text/html": [
       "<pre style=\"white-space:pre;overflow-x:auto;line-height:normal;font-family:Menlo,'DejaVu Sans Mono',consolas,'Courier New',monospace\"><span style=\"color: #7fbfbf\">           </span><span style=\"color: #000080\">INFO</span>     Collaborator two is sending task results for train, round <span style=\"color: #000080; font-weight: bold\">0</span>                                                                <a href=\"file:///home/itrushkin/.virtualenvs/fledge/lib/python3.6/site-packages/fledge/component/aggregator/aggregator.py\"><span style=\"color: #7f7f7f\">aggregator.py</span></a><span style=\"color: #7f7f7f\">:369</span>\n",
       "</pre>\n"
      ],
      "text/plain": [
       "<rich.jupyter.JupyterRenderable at 0x7f95ed839c50>"
      ]
     },
     "metadata": {},
     "output_type": "display_data"
    },
    {
     "name": "stdout",
     "output_type": "stream",
     "text": [
      "FastEstimator-Test: step: 782; epoch: 2; clean_accuracy: 0.5828; adversarial_accuracy: 0.4106; \n"
     ]
    },
    {
     "data": {
      "text/html": [
       "<pre style=\"white-space:pre;overflow-x:auto;line-height:normal;font-family:Menlo,'DejaVu Sans Mono',consolas,'Courier New',monospace\"><span style=\"color: #7fbfbf\">[07:55:18] </span><span style=\"color: #000080\">INFO</span>     Sending metric for task locally_tuned_model_validation, round number <span style=\"color: #000080; font-weight: bold\">0</span>: clean_accuracy  <span style=\"color: #000080; font-weight: bold\">0.5828</span>                           <a href=\"file:///home/itrushkin/.virtualenvs/fledge/lib/python3.6/site-packages/fledge/component/collaborator/collaborator.py\"><span style=\"color: #7f7f7f\">collaborator.py</span></a><span style=\"color: #7f7f7f\">:318</span>\n",
       "</pre>\n"
      ],
      "text/plain": [
       "<rich.jupyter.JupyterRenderable at 0x7f96aca8e358>"
      ]
     },
     "metadata": {},
     "output_type": "display_data"
    },
    {
     "data": {
      "text/html": [
       "<pre style=\"white-space:pre;overflow-x:auto;line-height:normal;font-family:Menlo,'DejaVu Sans Mono',consolas,'Courier New',monospace\"><span style=\"color: #7fbfbf\">           </span><span style=\"color: #000080\">INFO</span>     Sending metric for task locally_tuned_model_validation, round number <span style=\"color: #000080; font-weight: bold\">0</span>: adversarial_accuracy    <span style=\"color: #000080; font-weight: bold\">0.4106</span>                   <a href=\"file:///home/itrushkin/.virtualenvs/fledge/lib/python3.6/site-packages/fledge/component/collaborator/collaborator.py\"><span style=\"color: #7f7f7f\">collaborator.py</span></a><span style=\"color: #7f7f7f\">:318</span>\n",
       "</pre>\n"
      ],
      "text/plain": [
       "<rich.jupyter.JupyterRenderable at 0x7f96aca8e358>"
      ]
     },
     "metadata": {},
     "output_type": "display_data"
    },
    {
     "data": {
      "text/html": [
       "<pre style=\"white-space:pre;overflow-x:auto;line-height:normal;font-family:Menlo,'DejaVu Sans Mono',consolas,'Courier New',monospace\"><span style=\"color: #7fbfbf\">           </span><span style=\"color: #000080\">INFO</span>     Collaborator two is sending task results for locally_tuned_model_validation, round <span style=\"color: #000080; font-weight: bold\">0</span>                                       <a href=\"file:///home/itrushkin/.virtualenvs/fledge/lib/python3.6/site-packages/fledge/component/aggregator/aggregator.py\"><span style=\"color: #7f7f7f\">aggregator.py</span></a><span style=\"color: #7f7f7f\">:369</span>\n",
       "</pre>\n"
      ],
      "text/plain": [
       "<rich.jupyter.JupyterRenderable at 0x7f96aa561b70>"
      ]
     },
     "metadata": {},
     "output_type": "display_data"
    },
    {
     "data": {
      "text/html": [
       "<pre style=\"white-space:pre;overflow-x:auto;line-height:normal;font-family:Menlo,'DejaVu Sans Mono',consolas,'Courier New',monospace\"><span style=\"color: #7fbfbf\">           </span><span style=\"color: #000080\">INFO</span>     train task metrics<span style=\"color: #808000\">...</span>                                                                                                      <a href=\"file:///home/itrushkin/.virtualenvs/fledge/lib/python3.6/site-packages/fledge/component/aggregator/aggregator.py\"><span style=\"color: #7f7f7f\">aggregator.py</span></a><span style=\"color: #7f7f7f\">:505</span>\n",
       "</pre>\n"
      ],
      "text/plain": [
       "<rich.jupyter.JupyterRenderable at 0x7f96aa598208>"
      ]
     },
     "metadata": {},
     "output_type": "display_data"
    },
    {
     "data": {
      "text/html": [
       "<pre style=\"white-space:pre;overflow-x:auto;line-height:normal;font-family:Menlo,'DejaVu Sans Mono',consolas,'Courier New',monospace\"><span style=\"color: #7fbfbf\">           </span><span style=\"color: #000080\">INFO</span>     adv_ce: <span style=\"color: #000080; font-weight: bold\">2.3199</span>                                                                                                             <a href=\"file:///home/itrushkin/.virtualenvs/fledge/lib/python3.6/site-packages/fledge/component/aggregator/aggregator.py\"><span style=\"color: #7f7f7f\">aggregator.py</span></a><span style=\"color: #7f7f7f\">:539</span>\n",
       "</pre>\n"
      ],
      "text/plain": [
       "<rich.jupyter.JupyterRenderable at 0x7f96aa598898>"
      ]
     },
     "metadata": {},
     "output_type": "display_data"
    },
    {
     "data": {
      "text/html": [
       "<pre style=\"white-space:pre;overflow-x:auto;line-height:normal;font-family:Menlo,'DejaVu Sans Mono',consolas,'Courier New',monospace\"><span style=\"color: #7fbfbf\">           </span><span style=\"color: #000080\">INFO</span>     base_ce:        <span style=\"color: #000080; font-weight: bold\">2.2993</span>                                                                                                     <a href=\"file:///home/itrushkin/.virtualenvs/fledge/lib/python3.6/site-packages/fledge/component/aggregator/aggregator.py\"><span style=\"color: #7f7f7f\">aggregator.py</span></a><span style=\"color: #7f7f7f\">:539</span>\n",
       "</pre>\n"
      ],
      "text/plain": [
       "<rich.jupyter.JupyterRenderable at 0x7f96acaab198>"
      ]
     },
     "metadata": {},
     "output_type": "display_data"
    },
    {
     "data": {
      "text/html": [
       "<pre style=\"white-space:pre;overflow-x:auto;line-height:normal;font-family:Menlo,'DejaVu Sans Mono',consolas,'Courier New',monospace\"><span style=\"color: #7fbfbf\">           </span><span style=\"color: #000080\">INFO</span>     locally_tuned_model_validation task metrics<span style=\"color: #808000\">...</span>                                                                             <a href=\"file:///home/itrushkin/.virtualenvs/fledge/lib/python3.6/site-packages/fledge/component/aggregator/aggregator.py\"><span style=\"color: #7f7f7f\">aggregator.py</span></a><span style=\"color: #7f7f7f\">:505</span>\n",
       "</pre>\n"
      ],
      "text/plain": [
       "<rich.jupyter.JupyterRenderable at 0x7f96acaab358>"
      ]
     },
     "metadata": {},
     "output_type": "display_data"
    },
    {
     "data": {
      "text/html": [
       "<pre style=\"white-space:pre;overflow-x:auto;line-height:normal;font-family:Menlo,'DejaVu Sans Mono',consolas,'Courier New',monospace\"><span style=\"color: #7fbfbf\">           </span><span style=\"color: #000080\">INFO</span>     clean_accuracy: <span style=\"color: #000080; font-weight: bold\">0.5815</span>                                                                                                     <a href=\"file:///home/itrushkin/.virtualenvs/fledge/lib/python3.6/site-packages/fledge/component/aggregator/aggregator.py\"><span style=\"color: #7f7f7f\">aggregator.py</span></a><span style=\"color: #7f7f7f\">:539</span>\n",
       "</pre>\n"
      ],
      "text/plain": [
       "<rich.jupyter.JupyterRenderable at 0x7f96acaabdd8>"
      ]
     },
     "metadata": {},
     "output_type": "display_data"
    },
    {
     "data": {
      "text/html": [
       "<pre style=\"white-space:pre;overflow-x:auto;line-height:normal;font-family:Menlo,'DejaVu Sans Mono',consolas,'Courier New',monospace\"><span style=\"color: #7fbfbf\">           </span><span style=\"color: #000080\">INFO</span>     adversarial_accuracy:   <span style=\"color: #000080; font-weight: bold\">0.4113</span>                                                                                             <a href=\"file:///home/itrushkin/.virtualenvs/fledge/lib/python3.6/site-packages/fledge/component/aggregator/aggregator.py\"><span style=\"color: #7f7f7f\">aggregator.py</span></a><span style=\"color: #7f7f7f\">:539</span>\n",
       "</pre>\n"
      ],
      "text/plain": [
       "<rich.jupyter.JupyterRenderable at 0x7f96acaab358>"
      ]
     },
     "metadata": {},
     "output_type": "display_data"
    },
    {
     "data": {
      "text/html": [
       "<pre style=\"white-space:pre;overflow-x:auto;line-height:normal;font-family:Menlo,'DejaVu Sans Mono',consolas,'Courier New',monospace\"><span style=\"color: #7fbfbf\">           </span><span style=\"color: #000080\">INFO</span>     aggregated_model_validation task metrics<span style=\"color: #808000\">...</span>                                                                                <a href=\"file:///home/itrushkin/.virtualenvs/fledge/lib/python3.6/site-packages/fledge/component/aggregator/aggregator.py\"><span style=\"color: #7f7f7f\">aggregator.py</span></a><span style=\"color: #7f7f7f\">:505</span>\n",
       "</pre>\n"
      ],
      "text/plain": [
       "<rich.jupyter.JupyterRenderable at 0x7f96acab3ba8>"
      ]
     },
     "metadata": {},
     "output_type": "display_data"
    },
    {
     "data": {
      "text/html": [
       "<pre style=\"white-space:pre;overflow-x:auto;line-height:normal;font-family:Menlo,'DejaVu Sans Mono',consolas,'Courier New',monospace\"><span style=\"color: #7fbfbf\">           </span><span style=\"color: #000080\">INFO</span>     clean_accuracy: <span style=\"color: #000080; font-weight: bold\">0.0952</span>                                                                                                     <a href=\"file:///home/itrushkin/.virtualenvs/fledge/lib/python3.6/site-packages/fledge/component/aggregator/aggregator.py\"><span style=\"color: #7f7f7f\">aggregator.py</span></a><span style=\"color: #7f7f7f\">:539</span>\n",
       "</pre>\n"
      ],
      "text/plain": [
       "<rich.jupyter.JupyterRenderable at 0x7f96acaab9b0>"
      ]
     },
     "metadata": {},
     "output_type": "display_data"
    },
    {
     "data": {
      "text/html": [
       "<pre style=\"white-space:pre;overflow-x:auto;line-height:normal;font-family:Menlo,'DejaVu Sans Mono',consolas,'Courier New',monospace\"><span style=\"color: #7fbfbf\">           </span><span style=\"color: #000080\">INFO</span>     Saved the best model with score <span style=\"color: #000080; font-weight: bold\">0.095200</span>                                                                                   <a href=\"file:///home/itrushkin/.virtualenvs/fledge/lib/python3.6/site-packages/fledge/component/aggregator/aggregator.py\"><span style=\"color: #7f7f7f\">aggregator.py</span></a><span style=\"color: #7f7f7f\">:546</span>\n",
       "</pre>\n"
      ],
      "text/plain": [
       "<rich.jupyter.JupyterRenderable at 0x7f96aa598ef0>"
      ]
     },
     "metadata": {},
     "output_type": "display_data"
    },
    {
     "data": {
      "text/html": [
       "<pre style=\"white-space:pre;overflow-x:auto;line-height:normal;font-family:Menlo,'DejaVu Sans Mono',consolas,'Courier New',monospace\"><span style=\"color: #7fbfbf\">           </span><span style=\"color: #000080\">INFO</span>     adversarial_accuracy:   <span style=\"color: #000080; font-weight: bold\">0.0494</span>                                                                                             <a href=\"file:///home/itrushkin/.virtualenvs/fledge/lib/python3.6/site-packages/fledge/component/aggregator/aggregator.py\"><span style=\"color: #7f7f7f\">aggregator.py</span></a><span style=\"color: #7f7f7f\">:539</span>\n",
       "</pre>\n"
      ],
      "text/plain": [
       "<rich.jupyter.JupyterRenderable at 0x7f96aa6dadd8>"
      ]
     },
     "metadata": {},
     "output_type": "display_data"
    },
    {
     "data": {
      "text/html": [
       "<pre style=\"white-space:pre;overflow-x:auto;line-height:normal;font-family:Menlo,'DejaVu Sans Mono',consolas,'Courier New',monospace\"><span style=\"color: #7fbfbf\">           </span><span style=\"color: #000080\">INFO</span>     Saving round <span style=\"color: #000080; font-weight: bold\">1</span> model<span style=\"color: #808000\">...</span>                                                                                                    <a href=\"file:///home/itrushkin/.virtualenvs/fledge/lib/python3.6/site-packages/fledge/component/aggregator/aggregator.py\"><span style=\"color: #7f7f7f\">aggregator.py</span></a><span style=\"color: #7f7f7f\">:602</span>\n",
       "</pre>\n"
      ],
      "text/plain": [
       "<rich.jupyter.JupyterRenderable at 0x7f96acab3ba8>"
      ]
     },
     "metadata": {},
     "output_type": "display_data"
    },
    {
     "data": {
      "text/html": [
       "<pre style=\"white-space:pre;overflow-x:auto;line-height:normal;font-family:Menlo,'DejaVu Sans Mono',consolas,'Courier New',monospace\"><span style=\"color: #7fbfbf\">           </span><span style=\"color: #000080\">INFO</span>     Starting round <span style=\"color: #000080; font-weight: bold\">1</span><span style=\"color: #808000\">...</span>                                                                                                        <a href=\"file:///home/itrushkin/.virtualenvs/fledge/lib/python3.6/site-packages/fledge/component/aggregator/aggregator.py\"><span style=\"color: #7f7f7f\">aggregator.py</span></a><span style=\"color: #7f7f7f\">:610</span>\n",
       "</pre>\n"
      ],
      "text/plain": [
       "<rich.jupyter.JupyterRenderable at 0x7f96aca8e358>"
      ]
     },
     "metadata": {},
     "output_type": "display_data"
    },
    {
     "data": {
      "text/html": [
       "<pre style=\"white-space:pre;overflow-x:auto;line-height:normal;font-family:Menlo,'DejaVu Sans Mono',consolas,'Courier New',monospace\"><span style=\"color: #7fbfbf\">           </span><span style=\"color: #000080\">INFO</span>     All tasks completed on two for round <span style=\"color: #000080; font-weight: bold\">0</span><span style=\"color: #808000\">...</span>                                                                                <a href=\"file:///home/itrushkin/.virtualenvs/fledge/lib/python3.6/site-packages/fledge/component/collaborator/collaborator.py\"><span style=\"color: #7f7f7f\">collaborator.py</span></a><span style=\"color: #7f7f7f\">:158</span>\n",
       "</pre>\n"
      ],
      "text/plain": [
       "<rich.jupyter.JupyterRenderable at 0x7f96acaab358>"
      ]
     },
     "metadata": {},
     "output_type": "display_data"
    },
    {
     "data": {
      "text/html": [
       "<pre style=\"white-space:pre;overflow-x:auto;line-height:normal;font-family:Menlo,'DejaVu Sans Mono',consolas,'Courier New',monospace\"><span style=\"color: #7fbfbf\">           </span><span style=\"color: #000080\">INFO</span>     Aggregator GetTasks function reached from collaborator one<span style=\"color: #808000\">...</span>                                                              <a href=\"file:///home/itrushkin/.virtualenvs/fledge/lib/python3.6/site-packages/fledge/component/aggregator/aggregator.py\"><span style=\"color: #7f7f7f\">aggregator.py</span></a><span style=\"color: #7f7f7f\">:215</span>\n",
       "</pre>\n"
      ],
      "text/plain": [
       "<rich.jupyter.JupyterRenderable at 0x7f96aa6daa90>"
      ]
     },
     "metadata": {},
     "output_type": "display_data"
    },
    {
     "data": {
      "text/html": [
       "<pre style=\"white-space:pre;overflow-x:auto;line-height:normal;font-family:Menlo,'DejaVu Sans Mono',consolas,'Courier New',monospace\"><span style=\"color: #7fbfbf\">           </span><span style=\"color: #000080\">INFO</span>     Sending tasks to collaborator one for round <span style=\"color: #000080; font-weight: bold\">1</span>                                                                              <a href=\"file:///home/itrushkin/.virtualenvs/fledge/lib/python3.6/site-packages/fledge/component/aggregator/aggregator.py\"><span style=\"color: #7f7f7f\">aggregator.py</span></a><span style=\"color: #7f7f7f\">:249</span>\n",
       "</pre>\n"
      ],
      "text/plain": [
       "<rich.jupyter.JupyterRenderable at 0x7f96acaab9b0>"
      ]
     },
     "metadata": {},
     "output_type": "display_data"
    },
    {
     "data": {
      "text/html": [
       "<pre style=\"white-space:pre;overflow-x:auto;line-height:normal;font-family:Menlo,'DejaVu Sans Mono',consolas,'Courier New',monospace\"><span style=\"color: #7fbfbf\">           </span><span style=\"color: #000080\">INFO</span>     Received the following tasks: <span style=\"font-weight: bold\">[</span><span style=\"color: #008000\">'aggregated_model_validation'</span>, <span style=\"color: #008000\">'train'</span>, <span style=\"color: #008000\">'locally_tuned_model_validation'</span><span style=\"font-weight: bold\">]</span>                 <a href=\"file:///home/itrushkin/.virtualenvs/fledge/lib/python3.6/site-packages/fledge/component/collaborator/collaborator.py\"><span style=\"color: #7f7f7f\">collaborator.py</span></a><span style=\"color: #7f7f7f\">:155</span>\n",
       "</pre>\n"
      ],
      "text/plain": [
       "<rich.jupyter.JupyterRenderable at 0x7f96aa6dae80>"
      ]
     },
     "metadata": {},
     "output_type": "display_data"
    },
    {
     "name": "stdout",
     "output_type": "stream",
     "text": [
      "FastEstimator-Test: step: 782; epoch: 2; clean_accuracy: 0.4882; adversarial_accuracy: 0.362; \n"
     ]
    },
    {
     "data": {
      "text/html": [
       "<pre style=\"white-space:pre;overflow-x:auto;line-height:normal;font-family:Menlo,'DejaVu Sans Mono',consolas,'Courier New',monospace\"><span style=\"color: #7fbfbf\">[07:55:20] </span><span style=\"color: #000080\">INFO</span>     Sending metric for task aggregated_model_validation, round number <span style=\"color: #000080; font-weight: bold\">1</span>: clean_accuracy     <span style=\"color: #000080; font-weight: bold\">0.4882</span>                           <a href=\"file:///home/itrushkin/.virtualenvs/fledge/lib/python3.6/site-packages/fledge/component/collaborator/collaborator.py\"><span style=\"color: #7f7f7f\">collaborator.py</span></a><span style=\"color: #7f7f7f\">:318</span>\n",
       "</pre>\n"
      ],
      "text/plain": [
       "<rich.jupyter.JupyterRenderable at 0x7f96aa59be10>"
      ]
     },
     "metadata": {},
     "output_type": "display_data"
    },
    {
     "data": {
      "text/html": [
       "<pre style=\"white-space:pre;overflow-x:auto;line-height:normal;font-family:Menlo,'DejaVu Sans Mono',consolas,'Courier New',monospace\"><span style=\"color: #7fbfbf\">           </span><span style=\"color: #000080\">INFO</span>     Sending metric for task aggregated_model_validation, round number <span style=\"color: #000080; font-weight: bold\">1</span>: adversarial_accuracy       <span style=\"color: #000080; font-weight: bold\">0.362</span>                    <a href=\"file:///home/itrushkin/.virtualenvs/fledge/lib/python3.6/site-packages/fledge/component/collaborator/collaborator.py\"><span style=\"color: #7f7f7f\">collaborator.py</span></a><span style=\"color: #7f7f7f\">:318</span>\n",
       "</pre>\n"
      ],
      "text/plain": [
       "<rich.jupyter.JupyterRenderable at 0x7f96aa6d8550>"
      ]
     },
     "metadata": {},
     "output_type": "display_data"
    },
    {
     "data": {
      "text/html": [
       "<pre style=\"white-space:pre;overflow-x:auto;line-height:normal;font-family:Menlo,'DejaVu Sans Mono',consolas,'Courier New',monospace\"><span style=\"color: #7fbfbf\">           </span><span style=\"color: #000080\">INFO</span>     Collaborator one is sending task results for aggregated_model_validation, round <span style=\"color: #000080; font-weight: bold\">1</span>                                          <a href=\"file:///home/itrushkin/.virtualenvs/fledge/lib/python3.6/site-packages/fledge/component/aggregator/aggregator.py\"><span style=\"color: #7f7f7f\">aggregator.py</span></a><span style=\"color: #7f7f7f\">:369</span>\n",
       "</pre>\n"
      ],
      "text/plain": [
       "<rich.jupyter.JupyterRenderable at 0x7f96aa59bd68>"
      ]
     },
     "metadata": {},
     "output_type": "display_data"
    },
    {
     "name": "stdout",
     "output_type": "stream",
     "text": [
      "    ______           __  ______     __  _                 __            \n",
      "   / ____/___ ______/ /_/ ____/____/ /_(_)___ ___  ____ _/ /_____  _____\n",
      "  / /_  / __ `/ ___/ __/ __/ / ___/ __/ / __ `__ \\/ __ `/ __/ __ \\/ ___/\n",
      " / __/ / /_/ (__  ) /_/ /___(__  ) /_/ / / / / / / /_/ / /_/ /_/ / /    \n",
      "/_/    \\__,_/____/\\__/_____/____/\\__/_/_/ /_/ /_/\\__,_/\\__/\\____/_/     \n",
      "                                                                        \n",
      "\n",
      "FastEstimator-Warn: No ModelSaver Trace detected. Models will not be saved.\n",
      "FastEstimator-Start: step: 1; num_device: 3; logging_interval: 1000; \n",
      "FastEstimator-Train: step: 1; base_ce: 1.6742239; avg_ce: 1.7575215; adv_ce: 1.8408191; \n",
      "FastEstimator-Train: step: 391; epoch: 1; epoch_time: 11.22 sec; \n",
      "FastEstimator-Eval: step: 391; epoch: 1; base_ce: 1.1110723; avg_ce: 1.3140875; adv_ce: 1.5171026; clean_accuracy: 0.6166; adversarial_accuracy: 0.4276; \n",
      "FastEstimator-Train: step: 782; epoch: 2; epoch_time: 11.14 sec; \n",
      "FastEstimator-Eval: step: 782; epoch: 2; base_ce: 1.0668945; avg_ce: 1.2791487; adv_ce: 1.4914029; clean_accuracy: 0.6218; adversarial_accuracy: 0.443; \n",
      "FastEstimator-Finish: step: 782; total_time: 26.69 sec; adv_model_lr: 0.001; \n"
     ]
    },
    {
     "data": {
      "text/html": [
       "<pre style=\"white-space:pre;overflow-x:auto;line-height:normal;font-family:Menlo,'DejaVu Sans Mono',consolas,'Courier New',monospace\"><span style=\"color: #7fbfbf\">[07:55:48] </span><span style=\"color: #000080\">INFO</span>     Sending metric for task train, round number <span style=\"color: #000080; font-weight: bold\">1</span>: adv_ce   <span style=\"color: #000080; font-weight: bold\">1.8408191204071045</span>                                               <a href=\"file:///home/itrushkin/.virtualenvs/fledge/lib/python3.6/site-packages/fledge/component/collaborator/collaborator.py\"><span style=\"color: #7f7f7f\">collaborator.py</span></a><span style=\"color: #7f7f7f\">:318</span>\n",
       "</pre>\n"
      ],
      "text/plain": [
       "<rich.jupyter.JupyterRenderable at 0x7f95ed839e80>"
      ]
     },
     "metadata": {},
     "output_type": "display_data"
    },
    {
     "data": {
      "text/html": [
       "<pre style=\"white-space:pre;overflow-x:auto;line-height:normal;font-family:Menlo,'DejaVu Sans Mono',consolas,'Courier New',monospace\"><span style=\"color: #7fbfbf\">           </span><span style=\"color: #000080\">INFO</span>     Sending metric for task train, round number <span style=\"color: #000080; font-weight: bold\">1</span>: base_ce  <span style=\"color: #000080; font-weight: bold\">1.6742238998413086</span>                                               <a href=\"file:///home/itrushkin/.virtualenvs/fledge/lib/python3.6/site-packages/fledge/component/collaborator/collaborator.py\"><span style=\"color: #7f7f7f\">collaborator.py</span></a><span style=\"color: #7f7f7f\">:318</span>\n",
       "</pre>\n"
      ],
      "text/plain": [
       "<rich.jupyter.JupyterRenderable at 0x7f96acab3ba8>"
      ]
     },
     "metadata": {},
     "output_type": "display_data"
    },
    {
     "data": {
      "text/html": [
       "<pre style=\"white-space:pre;overflow-x:auto;line-height:normal;font-family:Menlo,'DejaVu Sans Mono',consolas,'Courier New',monospace\"><span style=\"color: #7fbfbf\">           </span><span style=\"color: #000080\">INFO</span>     Collaborator one is sending task results for train, round <span style=\"color: #000080; font-weight: bold\">1</span>                                                                <a href=\"file:///home/itrushkin/.virtualenvs/fledge/lib/python3.6/site-packages/fledge/component/aggregator/aggregator.py\"><span style=\"color: #7f7f7f\">aggregator.py</span></a><span style=\"color: #7f7f7f\">:369</span>\n",
       "</pre>\n"
      ],
      "text/plain": [
       "<rich.jupyter.JupyterRenderable at 0x7f96acaabe80>"
      ]
     },
     "metadata": {},
     "output_type": "display_data"
    },
    {
     "name": "stdout",
     "output_type": "stream",
     "text": [
      "FastEstimator-Test: step: 782; epoch: 2; clean_accuracy: 0.6258; adversarial_accuracy: 0.4482; \n"
     ]
    },
    {
     "data": {
      "text/html": [
       "<pre style=\"white-space:pre;overflow-x:auto;line-height:normal;font-family:Menlo,'DejaVu Sans Mono',consolas,'Courier New',monospace\"><span style=\"color: #7fbfbf\">[07:55:49] </span><span style=\"color: #000080\">INFO</span>     Sending metric for task locally_tuned_model_validation, round number <span style=\"color: #000080; font-weight: bold\">1</span>: clean_accuracy  <span style=\"color: #000080; font-weight: bold\">0.6258</span>                           <a href=\"file:///home/itrushkin/.virtualenvs/fledge/lib/python3.6/site-packages/fledge/component/collaborator/collaborator.py\"><span style=\"color: #7f7f7f\">collaborator.py</span></a><span style=\"color: #7f7f7f\">:318</span>\n",
       "</pre>\n"
      ],
      "text/plain": [
       "<rich.jupyter.JupyterRenderable at 0x7f96aa561198>"
      ]
     },
     "metadata": {},
     "output_type": "display_data"
    },
    {
     "data": {
      "text/html": [
       "<pre style=\"white-space:pre;overflow-x:auto;line-height:normal;font-family:Menlo,'DejaVu Sans Mono',consolas,'Courier New',monospace\"><span style=\"color: #7fbfbf\">           </span><span style=\"color: #000080\">INFO</span>     Sending metric for task locally_tuned_model_validation, round number <span style=\"color: #000080; font-weight: bold\">1</span>: adversarial_accuracy    <span style=\"color: #000080; font-weight: bold\">0.4482</span>                   <a href=\"file:///home/itrushkin/.virtualenvs/fledge/lib/python3.6/site-packages/fledge/component/collaborator/collaborator.py\"><span style=\"color: #7f7f7f\">collaborator.py</span></a><span style=\"color: #7f7f7f\">:318</span>\n",
       "</pre>\n"
      ],
      "text/plain": [
       "<rich.jupyter.JupyterRenderable at 0x7f96aa6d7908>"
      ]
     },
     "metadata": {},
     "output_type": "display_data"
    },
    {
     "data": {
      "text/html": [
       "<pre style=\"white-space:pre;overflow-x:auto;line-height:normal;font-family:Menlo,'DejaVu Sans Mono',consolas,'Courier New',monospace\"><span style=\"color: #7fbfbf\">           </span><span style=\"color: #000080\">INFO</span>     Collaborator one is sending task results for locally_tuned_model_validation, round <span style=\"color: #000080; font-weight: bold\">1</span>                                       <a href=\"file:///home/itrushkin/.virtualenvs/fledge/lib/python3.6/site-packages/fledge/component/aggregator/aggregator.py\"><span style=\"color: #7f7f7f\">aggregator.py</span></a><span style=\"color: #7f7f7f\">:369</span>\n",
       "</pre>\n"
      ],
      "text/plain": [
       "<rich.jupyter.JupyterRenderable at 0x7f96aa6d7908>"
      ]
     },
     "metadata": {},
     "output_type": "display_data"
    },
    {
     "data": {
      "text/html": [
       "<pre style=\"white-space:pre;overflow-x:auto;line-height:normal;font-family:Menlo,'DejaVu Sans Mono',consolas,'Courier New',monospace\"><span style=\"color: #7fbfbf\">           </span><span style=\"color: #000080\">INFO</span>     All tasks completed on one for round <span style=\"color: #000080; font-weight: bold\">1</span><span style=\"color: #808000\">...</span>                                                                                <a href=\"file:///home/itrushkin/.virtualenvs/fledge/lib/python3.6/site-packages/fledge/component/collaborator/collaborator.py\"><span style=\"color: #7f7f7f\">collaborator.py</span></a><span style=\"color: #7f7f7f\">:158</span>\n",
       "</pre>\n"
      ],
      "text/plain": [
       "<rich.jupyter.JupyterRenderable at 0x7f96aa982da0>"
      ]
     },
     "metadata": {},
     "output_type": "display_data"
    },
    {
     "data": {
      "text/html": [
       "<pre style=\"white-space:pre;overflow-x:auto;line-height:normal;font-family:Menlo,'DejaVu Sans Mono',consolas,'Courier New',monospace\"><span style=\"color: #7fbfbf\">           </span><span style=\"color: #000080\">INFO</span>     Aggregator GetTasks function reached from collaborator two<span style=\"color: #808000\">...</span>                                                              <a href=\"file:///home/itrushkin/.virtualenvs/fledge/lib/python3.6/site-packages/fledge/component/aggregator/aggregator.py\"><span style=\"color: #7f7f7f\">aggregator.py</span></a><span style=\"color: #7f7f7f\">:215</span>\n",
       "</pre>\n"
      ],
      "text/plain": [
       "<rich.jupyter.JupyterRenderable at 0x7f96aa561198>"
      ]
     },
     "metadata": {},
     "output_type": "display_data"
    },
    {
     "data": {
      "text/html": [
       "<pre style=\"white-space:pre;overflow-x:auto;line-height:normal;font-family:Menlo,'DejaVu Sans Mono',consolas,'Courier New',monospace\"><span style=\"color: #7fbfbf\">           </span><span style=\"color: #000080\">INFO</span>     Sending tasks to collaborator two for round <span style=\"color: #000080; font-weight: bold\">1</span>                                                                              <a href=\"file:///home/itrushkin/.virtualenvs/fledge/lib/python3.6/site-packages/fledge/component/aggregator/aggregator.py\"><span style=\"color: #7f7f7f\">aggregator.py</span></a><span style=\"color: #7f7f7f\">:249</span>\n",
       "</pre>\n"
      ],
      "text/plain": [
       "<rich.jupyter.JupyterRenderable at 0x7f96aa982668>"
      ]
     },
     "metadata": {},
     "output_type": "display_data"
    },
    {
     "data": {
      "text/html": [
       "<pre style=\"white-space:pre;overflow-x:auto;line-height:normal;font-family:Menlo,'DejaVu Sans Mono',consolas,'Courier New',monospace\"><span style=\"color: #7fbfbf\">           </span><span style=\"color: #000080\">INFO</span>     Received the following tasks: <span style=\"font-weight: bold\">[</span><span style=\"color: #008000\">'aggregated_model_validation'</span>, <span style=\"color: #008000\">'train'</span>, <span style=\"color: #008000\">'locally_tuned_model_validation'</span><span style=\"font-weight: bold\">]</span>                 <a href=\"file:///home/itrushkin/.virtualenvs/fledge/lib/python3.6/site-packages/fledge/component/collaborator/collaborator.py\"><span style=\"color: #7f7f7f\">collaborator.py</span></a><span style=\"color: #7f7f7f\">:155</span>\n",
       "</pre>\n"
      ],
      "text/plain": [
       "<rich.jupyter.JupyterRenderable at 0x7f96aa982860>"
      ]
     },
     "metadata": {},
     "output_type": "display_data"
    },
    {
     "name": "stdout",
     "output_type": "stream",
     "text": [
      "FastEstimator-Test: step: 782; epoch: 2; clean_accuracy: 0.4882; adversarial_accuracy: 0.362; \n"
     ]
    },
    {
     "data": {
      "text/html": [
       "<pre style=\"white-space:pre;overflow-x:auto;line-height:normal;font-family:Menlo,'DejaVu Sans Mono',consolas,'Courier New',monospace\"><span style=\"color: #7fbfbf\">[07:55:51] </span><span style=\"color: #000080\">INFO</span>     Sending metric for task aggregated_model_validation, round number <span style=\"color: #000080; font-weight: bold\">1</span>: clean_accuracy     <span style=\"color: #000080; font-weight: bold\">0.4882</span>                           <a href=\"file:///home/itrushkin/.virtualenvs/fledge/lib/python3.6/site-packages/fledge/component/collaborator/collaborator.py\"><span style=\"color: #7f7f7f\">collaborator.py</span></a><span style=\"color: #7f7f7f\">:318</span>\n",
       "</pre>\n"
      ],
      "text/plain": [
       "<rich.jupyter.JupyterRenderable at 0x7f96aa98ecf8>"
      ]
     },
     "metadata": {},
     "output_type": "display_data"
    },
    {
     "data": {
      "text/html": [
       "<pre style=\"white-space:pre;overflow-x:auto;line-height:normal;font-family:Menlo,'DejaVu Sans Mono',consolas,'Courier New',monospace\"><span style=\"color: #7fbfbf\">           </span><span style=\"color: #000080\">INFO</span>     Sending metric for task aggregated_model_validation, round number <span style=\"color: #000080; font-weight: bold\">1</span>: adversarial_accuracy       <span style=\"color: #000080; font-weight: bold\">0.362</span>                    <a href=\"file:///home/itrushkin/.virtualenvs/fledge/lib/python3.6/site-packages/fledge/component/collaborator/collaborator.py\"><span style=\"color: #7f7f7f\">collaborator.py</span></a><span style=\"color: #7f7f7f\">:318</span>\n",
       "</pre>\n"
      ],
      "text/plain": [
       "<rich.jupyter.JupyterRenderable at 0x7f96aa98e668>"
      ]
     },
     "metadata": {},
     "output_type": "display_data"
    },
    {
     "data": {
      "text/html": [
       "<pre style=\"white-space:pre;overflow-x:auto;line-height:normal;font-family:Menlo,'DejaVu Sans Mono',consolas,'Courier New',monospace\"><span style=\"color: #7fbfbf\">           </span><span style=\"color: #000080\">INFO</span>     Collaborator two is sending task results for aggregated_model_validation, round <span style=\"color: #000080; font-weight: bold\">1</span>                                          <a href=\"file:///home/itrushkin/.virtualenvs/fledge/lib/python3.6/site-packages/fledge/component/aggregator/aggregator.py\"><span style=\"color: #7f7f7f\">aggregator.py</span></a><span style=\"color: #7f7f7f\">:369</span>\n",
       "</pre>\n"
      ],
      "text/plain": [
       "<rich.jupyter.JupyterRenderable at 0x7f96aa98ea20>"
      ]
     },
     "metadata": {},
     "output_type": "display_data"
    },
    {
     "name": "stdout",
     "output_type": "stream",
     "text": [
      "    ______           __  ______     __  _                 __            \n",
      "   / ____/___ ______/ /_/ ____/____/ /_(_)___ ___  ____ _/ /_____  _____\n",
      "  / /_  / __ `/ ___/ __/ __/ / ___/ __/ / __ `__ \\/ __ `/ __/ __ \\/ ___/\n",
      " / __/ / /_/ (__  ) /_/ /___(__  ) /_/ / / / / / / /_/ / /_/ /_/ / /    \n",
      "/_/    \\__,_/____/\\__/_____/____/\\__/_/_/ /_/ /_/\\__,_/\\__/\\____/_/     \n",
      "                                                                        \n",
      "\n",
      "FastEstimator-Warn: No ModelSaver Trace detected. Models will not be saved.\n",
      "FastEstimator-Start: step: 1; num_device: 3; logging_interval: 1000; \n",
      "FastEstimator-Train: step: 1; base_ce: 1.611986; avg_ce: 1.6917349; adv_ce: 1.7714838; \n",
      "FastEstimator-Train: step: 391; epoch: 1; epoch_time: 11.13 sec; \n",
      "FastEstimator-Eval: step: 391; epoch: 1; base_ce: 1.1021373; avg_ce: 1.2995131; adv_ce: 1.4968885; clean_accuracy: 0.6186; adversarial_accuracy: 0.4334; \n",
      "FastEstimator-Train: step: 782; epoch: 2; epoch_time: 11.14 sec; \n",
      "FastEstimator-Eval: step: 782; epoch: 2; base_ce: 1.0604229; avg_ce: 1.2796848; adv_ce: 1.4989468; clean_accuracy: 0.6374; adversarial_accuracy: 0.4422; \n",
      "FastEstimator-Finish: step: 782; total_time: 26.78 sec; adv_model_lr: 0.001; \n"
     ]
    },
    {
     "data": {
      "text/html": [
       "<pre style=\"white-space:pre;overflow-x:auto;line-height:normal;font-family:Menlo,'DejaVu Sans Mono',consolas,'Courier New',monospace\"><span style=\"color: #7fbfbf\">[07:56:19] </span><span style=\"color: #000080\">INFO</span>     Sending metric for task train, round number <span style=\"color: #000080; font-weight: bold\">1</span>: adv_ce   <span style=\"color: #000080; font-weight: bold\">1.7714837789535522</span>                                               <a href=\"file:///home/itrushkin/.virtualenvs/fledge/lib/python3.6/site-packages/fledge/component/collaborator/collaborator.py\"><span style=\"color: #7f7f7f\">collaborator.py</span></a><span style=\"color: #7f7f7f\">:318</span>\n",
       "</pre>\n"
      ],
      "text/plain": [
       "<rich.jupyter.JupyterRenderable at 0x7f96acaab198>"
      ]
     },
     "metadata": {},
     "output_type": "display_data"
    },
    {
     "data": {
      "text/html": [
       "<pre style=\"white-space:pre;overflow-x:auto;line-height:normal;font-family:Menlo,'DejaVu Sans Mono',consolas,'Courier New',monospace\"><span style=\"color: #7fbfbf\">           </span><span style=\"color: #000080\">INFO</span>     Sending metric for task train, round number <span style=\"color: #000080; font-weight: bold\">1</span>: base_ce  <span style=\"color: #000080; font-weight: bold\">1.6119860410690308</span>                                               <a href=\"file:///home/itrushkin/.virtualenvs/fledge/lib/python3.6/site-packages/fledge/component/collaborator/collaborator.py\"><span style=\"color: #7f7f7f\">collaborator.py</span></a><span style=\"color: #7f7f7f\">:318</span>\n",
       "</pre>\n"
      ],
      "text/plain": [
       "<rich.jupyter.JupyterRenderable at 0x7f96acaab198>"
      ]
     },
     "metadata": {},
     "output_type": "display_data"
    },
    {
     "data": {
      "text/html": [
       "<pre style=\"white-space:pre;overflow-x:auto;line-height:normal;font-family:Menlo,'DejaVu Sans Mono',consolas,'Courier New',monospace\"><span style=\"color: #7fbfbf\">           </span><span style=\"color: #000080\">INFO</span>     Collaborator two is sending task results for train, round <span style=\"color: #000080; font-weight: bold\">1</span>                                                                <a href=\"file:///home/itrushkin/.virtualenvs/fledge/lib/python3.6/site-packages/fledge/component/aggregator/aggregator.py\"><span style=\"color: #7f7f7f\">aggregator.py</span></a><span style=\"color: #7f7f7f\">:369</span>\n",
       "</pre>\n"
      ],
      "text/plain": [
       "<rich.jupyter.JupyterRenderable at 0x7f96aa576b38>"
      ]
     },
     "metadata": {},
     "output_type": "display_data"
    },
    {
     "name": "stdout",
     "output_type": "stream",
     "text": [
      "FastEstimator-Test: step: 782; epoch: 2; clean_accuracy: 0.6372; adversarial_accuracy: 0.4388; \n"
     ]
    },
    {
     "data": {
      "text/html": [
       "<pre style=\"white-space:pre;overflow-x:auto;line-height:normal;font-family:Menlo,'DejaVu Sans Mono',consolas,'Courier New',monospace\"><span style=\"color: #7fbfbf\">[07:56:21] </span><span style=\"color: #000080\">INFO</span>     Sending metric for task locally_tuned_model_validation, round number <span style=\"color: #000080; font-weight: bold\">1</span>: clean_accuracy  <span style=\"color: #000080; font-weight: bold\">0.6372</span>                           <a href=\"file:///home/itrushkin/.virtualenvs/fledge/lib/python3.6/site-packages/fledge/component/collaborator/collaborator.py\"><span style=\"color: #7f7f7f\">collaborator.py</span></a><span style=\"color: #7f7f7f\">:318</span>\n",
       "</pre>\n"
      ],
      "text/plain": [
       "<rich.jupyter.JupyterRenderable at 0x7f96aa984c88>"
      ]
     },
     "metadata": {},
     "output_type": "display_data"
    },
    {
     "data": {
      "text/html": [
       "<pre style=\"white-space:pre;overflow-x:auto;line-height:normal;font-family:Menlo,'DejaVu Sans Mono',consolas,'Courier New',monospace\"><span style=\"color: #7fbfbf\">           </span><span style=\"color: #000080\">INFO</span>     Sending metric for task locally_tuned_model_validation, round number <span style=\"color: #000080; font-weight: bold\">1</span>: adversarial_accuracy    <span style=\"color: #000080; font-weight: bold\">0.4388</span>                   <a href=\"file:///home/itrushkin/.virtualenvs/fledge/lib/python3.6/site-packages/fledge/component/collaborator/collaborator.py\"><span style=\"color: #7f7f7f\">collaborator.py</span></a><span style=\"color: #7f7f7f\">:318</span>\n",
       "</pre>\n"
      ],
      "text/plain": [
       "<rich.jupyter.JupyterRenderable at 0x7f96aa984f98>"
      ]
     },
     "metadata": {},
     "output_type": "display_data"
    },
    {
     "data": {
      "text/html": [
       "<pre style=\"white-space:pre;overflow-x:auto;line-height:normal;font-family:Menlo,'DejaVu Sans Mono',consolas,'Courier New',monospace\"><span style=\"color: #7fbfbf\">           </span><span style=\"color: #000080\">INFO</span>     Collaborator two is sending task results for locally_tuned_model_validation, round <span style=\"color: #000080; font-weight: bold\">1</span>                                       <a href=\"file:///home/itrushkin/.virtualenvs/fledge/lib/python3.6/site-packages/fledge/component/aggregator/aggregator.py\"><span style=\"color: #7f7f7f\">aggregator.py</span></a><span style=\"color: #7f7f7f\">:369</span>\n",
       "</pre>\n"
      ],
      "text/plain": [
       "<rich.jupyter.JupyterRenderable at 0x7f96aa9848d0>"
      ]
     },
     "metadata": {},
     "output_type": "display_data"
    },
    {
     "data": {
      "text/html": [
       "<pre style=\"white-space:pre;overflow-x:auto;line-height:normal;font-family:Menlo,'DejaVu Sans Mono',consolas,'Courier New',monospace\"><span style=\"color: #7fbfbf\">           </span><span style=\"color: #000080\">INFO</span>     train task metrics<span style=\"color: #808000\">...</span>                                                                                                      <a href=\"file:///home/itrushkin/.virtualenvs/fledge/lib/python3.6/site-packages/fledge/component/aggregator/aggregator.py\"><span style=\"color: #7f7f7f\">aggregator.py</span></a><span style=\"color: #7f7f7f\">:505</span>\n",
       "</pre>\n"
      ],
      "text/plain": [
       "<rich.jupyter.JupyterRenderable at 0x7f96aa9adf98>"
      ]
     },
     "metadata": {},
     "output_type": "display_data"
    },
    {
     "data": {
      "text/html": [
       "<pre style=\"white-space:pre;overflow-x:auto;line-height:normal;font-family:Menlo,'DejaVu Sans Mono',consolas,'Courier New',monospace\"><span style=\"color: #7fbfbf\">           </span><span style=\"color: #000080\">INFO</span>     adv_ce: <span style=\"color: #000080; font-weight: bold\">1.8062</span>                                                                                                             <a href=\"file:///home/itrushkin/.virtualenvs/fledge/lib/python3.6/site-packages/fledge/component/aggregator/aggregator.py\"><span style=\"color: #7f7f7f\">aggregator.py</span></a><span style=\"color: #7f7f7f\">:539</span>\n",
       "</pre>\n"
      ],
      "text/plain": [
       "<rich.jupyter.JupyterRenderable at 0x7f96aa9ad668>"
      ]
     },
     "metadata": {},
     "output_type": "display_data"
    },
    {
     "data": {
      "text/html": [
       "<pre style=\"white-space:pre;overflow-x:auto;line-height:normal;font-family:Menlo,'DejaVu Sans Mono',consolas,'Courier New',monospace\"><span style=\"color: #7fbfbf\">           </span><span style=\"color: #000080\">INFO</span>     base_ce:        <span style=\"color: #000080; font-weight: bold\">1.6431</span>                                                                                                     <a href=\"file:///home/itrushkin/.virtualenvs/fledge/lib/python3.6/site-packages/fledge/component/aggregator/aggregator.py\"><span style=\"color: #7f7f7f\">aggregator.py</span></a><span style=\"color: #7f7f7f\">:539</span>\n",
       "</pre>\n"
      ],
      "text/plain": [
       "<rich.jupyter.JupyterRenderable at 0x7f96aa9844a8>"
      ]
     },
     "metadata": {},
     "output_type": "display_data"
    },
    {
     "data": {
      "text/html": [
       "<pre style=\"white-space:pre;overflow-x:auto;line-height:normal;font-family:Menlo,'DejaVu Sans Mono',consolas,'Courier New',monospace\"><span style=\"color: #7fbfbf\">           </span><span style=\"color: #000080\">INFO</span>     locally_tuned_model_validation task metrics<span style=\"color: #808000\">...</span>                                                                             <a href=\"file:///home/itrushkin/.virtualenvs/fledge/lib/python3.6/site-packages/fledge/component/aggregator/aggregator.py\"><span style=\"color: #7f7f7f\">aggregator.py</span></a><span style=\"color: #7f7f7f\">:505</span>\n",
       "</pre>\n"
      ],
      "text/plain": [
       "<rich.jupyter.JupyterRenderable at 0x7f96aa984080>"
      ]
     },
     "metadata": {},
     "output_type": "display_data"
    },
    {
     "data": {
      "text/html": [
       "<pre style=\"white-space:pre;overflow-x:auto;line-height:normal;font-family:Menlo,'DejaVu Sans Mono',consolas,'Courier New',monospace\"><span style=\"color: #7fbfbf\">           </span><span style=\"color: #000080\">INFO</span>     clean_accuracy: <span style=\"color: #000080; font-weight: bold\">0.6315</span>                                                                                                     <a href=\"file:///home/itrushkin/.virtualenvs/fledge/lib/python3.6/site-packages/fledge/component/aggregator/aggregator.py\"><span style=\"color: #7f7f7f\">aggregator.py</span></a><span style=\"color: #7f7f7f\">:539</span>\n",
       "</pre>\n"
      ],
      "text/plain": [
       "<rich.jupyter.JupyterRenderable at 0x7f96aa9ad278>"
      ]
     },
     "metadata": {},
     "output_type": "display_data"
    },
    {
     "data": {
      "text/html": [
       "<pre style=\"white-space:pre;overflow-x:auto;line-height:normal;font-family:Menlo,'DejaVu Sans Mono',consolas,'Courier New',monospace\"><span style=\"color: #7fbfbf\">           </span><span style=\"color: #000080\">INFO</span>     adversarial_accuracy:   <span style=\"color: #000080; font-weight: bold\">0.4435</span>                                                                                             <a href=\"file:///home/itrushkin/.virtualenvs/fledge/lib/python3.6/site-packages/fledge/component/aggregator/aggregator.py\"><span style=\"color: #7f7f7f\">aggregator.py</span></a><span style=\"color: #7f7f7f\">:539</span>\n",
       "</pre>\n"
      ],
      "text/plain": [
       "<rich.jupyter.JupyterRenderable at 0x7f96aa984f98>"
      ]
     },
     "metadata": {},
     "output_type": "display_data"
    },
    {
     "data": {
      "text/html": [
       "<pre style=\"white-space:pre;overflow-x:auto;line-height:normal;font-family:Menlo,'DejaVu Sans Mono',consolas,'Courier New',monospace\"><span style=\"color: #7fbfbf\">           </span><span style=\"color: #000080\">INFO</span>     aggregated_model_validation task metrics<span style=\"color: #808000\">...</span>                                                                                <a href=\"file:///home/itrushkin/.virtualenvs/fledge/lib/python3.6/site-packages/fledge/component/aggregator/aggregator.py\"><span style=\"color: #7f7f7f\">aggregator.py</span></a><span style=\"color: #7f7f7f\">:505</span>\n",
       "</pre>\n"
      ],
      "text/plain": [
       "<rich.jupyter.JupyterRenderable at 0x7f96aa9ad128>"
      ]
     },
     "metadata": {},
     "output_type": "display_data"
    },
    {
     "data": {
      "text/html": [
       "<pre style=\"white-space:pre;overflow-x:auto;line-height:normal;font-family:Menlo,'DejaVu Sans Mono',consolas,'Courier New',monospace\"><span style=\"color: #7fbfbf\">           </span><span style=\"color: #000080\">INFO</span>     clean_accuracy: <span style=\"color: #000080; font-weight: bold\">0.4882</span>                                                                                                     <a href=\"file:///home/itrushkin/.virtualenvs/fledge/lib/python3.6/site-packages/fledge/component/aggregator/aggregator.py\"><span style=\"color: #7f7f7f\">aggregator.py</span></a><span style=\"color: #7f7f7f\">:539</span>\n",
       "</pre>\n"
      ],
      "text/plain": [
       "<rich.jupyter.JupyterRenderable at 0x7f96aa9847b8>"
      ]
     },
     "metadata": {},
     "output_type": "display_data"
    },
    {
     "data": {
      "text/html": [
       "<pre style=\"white-space:pre;overflow-x:auto;line-height:normal;font-family:Menlo,'DejaVu Sans Mono',consolas,'Courier New',monospace\"><span style=\"color: #7fbfbf\">           </span><span style=\"color: #000080\">INFO</span>     Saved the best model with score <span style=\"color: #000080; font-weight: bold\">0.488200</span>                                                                                   <a href=\"file:///home/itrushkin/.virtualenvs/fledge/lib/python3.6/site-packages/fledge/component/aggregator/aggregator.py\"><span style=\"color: #7f7f7f\">aggregator.py</span></a><span style=\"color: #7f7f7f\">:546</span>\n",
       "</pre>\n"
      ],
      "text/plain": [
       "<rich.jupyter.JupyterRenderable at 0x7f96aa9ad2e8>"
      ]
     },
     "metadata": {},
     "output_type": "display_data"
    },
    {
     "data": {
      "text/html": [
       "<pre style=\"white-space:pre;overflow-x:auto;line-height:normal;font-family:Menlo,'DejaVu Sans Mono',consolas,'Courier New',monospace\"><span style=\"color: #7fbfbf\">           </span><span style=\"color: #000080\">INFO</span>     adversarial_accuracy:   <span style=\"color: #000080; font-weight: bold\">0.3620</span>                                                                                             <a href=\"file:///home/itrushkin/.virtualenvs/fledge/lib/python3.6/site-packages/fledge/component/aggregator/aggregator.py\"><span style=\"color: #7f7f7f\">aggregator.py</span></a><span style=\"color: #7f7f7f\">:539</span>\n",
       "</pre>\n"
      ],
      "text/plain": [
       "<rich.jupyter.JupyterRenderable at 0x7f96aa9844a8>"
      ]
     },
     "metadata": {},
     "output_type": "display_data"
    },
    {
     "data": {
      "text/html": [
       "<pre style=\"white-space:pre;overflow-x:auto;line-height:normal;font-family:Menlo,'DejaVu Sans Mono',consolas,'Courier New',monospace\"><span style=\"color: #7fbfbf\">           </span><span style=\"color: #000080\">INFO</span>     Saving round <span style=\"color: #000080; font-weight: bold\">2</span> model<span style=\"color: #808000\">...</span>                                                                                                    <a href=\"file:///home/itrushkin/.virtualenvs/fledge/lib/python3.6/site-packages/fledge/component/aggregator/aggregator.py\"><span style=\"color: #7f7f7f\">aggregator.py</span></a><span style=\"color: #7f7f7f\">:602</span>\n",
       "</pre>\n"
      ],
      "text/plain": [
       "<rich.jupyter.JupyterRenderable at 0x7f96aa9adb70>"
      ]
     },
     "metadata": {},
     "output_type": "display_data"
    },
    {
     "data": {
      "text/html": [
       "<pre style=\"white-space:pre;overflow-x:auto;line-height:normal;font-family:Menlo,'DejaVu Sans Mono',consolas,'Courier New',monospace\"><span style=\"color: #7fbfbf\">           </span><span style=\"color: #000080\">INFO</span>     Starting round <span style=\"color: #000080; font-weight: bold\">2</span><span style=\"color: #808000\">...</span>                                                                                                        <a href=\"file:///home/itrushkin/.virtualenvs/fledge/lib/python3.6/site-packages/fledge/component/aggregator/aggregator.py\"><span style=\"color: #7f7f7f\">aggregator.py</span></a><span style=\"color: #7f7f7f\">:610</span>\n",
       "</pre>\n"
      ],
      "text/plain": [
       "<rich.jupyter.JupyterRenderable at 0x7f96aa984208>"
      ]
     },
     "metadata": {},
     "output_type": "display_data"
    },
    {
     "data": {
      "text/html": [
       "<pre style=\"white-space:pre;overflow-x:auto;line-height:normal;font-family:Menlo,'DejaVu Sans Mono',consolas,'Courier New',monospace\"><span style=\"color: #7fbfbf\">           </span><span style=\"color: #000080\">INFO</span>     All tasks completed on two for round <span style=\"color: #000080; font-weight: bold\">1</span><span style=\"color: #808000\">...</span>                                                                                <a href=\"file:///home/itrushkin/.virtualenvs/fledge/lib/python3.6/site-packages/fledge/component/collaborator/collaborator.py\"><span style=\"color: #7f7f7f\">collaborator.py</span></a><span style=\"color: #7f7f7f\">:158</span>\n",
       "</pre>\n"
      ],
      "text/plain": [
       "<rich.jupyter.JupyterRenderable at 0x7f96aa984080>"
      ]
     },
     "metadata": {},
     "output_type": "display_data"
    },
    {
     "data": {
      "text/html": [
       "<pre style=\"white-space:pre;overflow-x:auto;line-height:normal;font-family:Menlo,'DejaVu Sans Mono',consolas,'Courier New',monospace\"><span style=\"color: #7fbfbf\">           </span><span style=\"color: #000080\">INFO</span>     Aggregator GetTasks function reached from collaborator one<span style=\"color: #808000\">...</span>                                                              <a href=\"file:///home/itrushkin/.virtualenvs/fledge/lib/python3.6/site-packages/fledge/component/aggregator/aggregator.py\"><span style=\"color: #7f7f7f\">aggregator.py</span></a><span style=\"color: #7f7f7f\">:215</span>\n",
       "</pre>\n"
      ],
      "text/plain": [
       "<rich.jupyter.JupyterRenderable at 0x7f96aa984f98>"
      ]
     },
     "metadata": {},
     "output_type": "display_data"
    },
    {
     "data": {
      "text/html": [
       "<pre style=\"white-space:pre;overflow-x:auto;line-height:normal;font-family:Menlo,'DejaVu Sans Mono',consolas,'Courier New',monospace\"><span style=\"color: #7fbfbf\">           </span><span style=\"color: #000080\">INFO</span>     Sending tasks to collaborator one for round <span style=\"color: #000080; font-weight: bold\">2</span>                                                                              <a href=\"file:///home/itrushkin/.virtualenvs/fledge/lib/python3.6/site-packages/fledge/component/aggregator/aggregator.py\"><span style=\"color: #7f7f7f\">aggregator.py</span></a><span style=\"color: #7f7f7f\">:249</span>\n",
       "</pre>\n"
      ],
      "text/plain": [
       "<rich.jupyter.JupyterRenderable at 0x7f96aa9ad0b8>"
      ]
     },
     "metadata": {},
     "output_type": "display_data"
    },
    {
     "data": {
      "text/html": [
       "<pre style=\"white-space:pre;overflow-x:auto;line-height:normal;font-family:Menlo,'DejaVu Sans Mono',consolas,'Courier New',monospace\"><span style=\"color: #7fbfbf\">           </span><span style=\"color: #000080\">INFO</span>     Received the following tasks: <span style=\"font-weight: bold\">[</span><span style=\"color: #008000\">'aggregated_model_validation'</span>, <span style=\"color: #008000\">'train'</span>, <span style=\"color: #008000\">'locally_tuned_model_validation'</span><span style=\"font-weight: bold\">]</span>                 <a href=\"file:///home/itrushkin/.virtualenvs/fledge/lib/python3.6/site-packages/fledge/component/collaborator/collaborator.py\"><span style=\"color: #7f7f7f\">collaborator.py</span></a><span style=\"color: #7f7f7f\">:155</span>\n",
       "</pre>\n"
      ],
      "text/plain": [
       "<rich.jupyter.JupyterRenderable at 0x7f96aa9ad668>"
      ]
     },
     "metadata": {},
     "output_type": "display_data"
    },
    {
     "name": "stdout",
     "output_type": "stream",
     "text": [
      "FastEstimator-Test: step: 782; epoch: 2; clean_accuracy: 0.6596; adversarial_accuracy: 0.4622; \n"
     ]
    },
    {
     "data": {
      "text/html": [
       "<pre style=\"white-space:pre;overflow-x:auto;line-height:normal;font-family:Menlo,'DejaVu Sans Mono',consolas,'Courier New',monospace\"><span style=\"color: #7fbfbf\">[07:56:23] </span><span style=\"color: #000080\">INFO</span>     Sending metric for task aggregated_model_validation, round number <span style=\"color: #000080; font-weight: bold\">2</span>: clean_accuracy     <span style=\"color: #000080; font-weight: bold\">0.6596</span>                           <a href=\"file:///home/itrushkin/.virtualenvs/fledge/lib/python3.6/site-packages/fledge/component/collaborator/collaborator.py\"><span style=\"color: #7f7f7f\">collaborator.py</span></a><span style=\"color: #7f7f7f\">:318</span>\n",
       "</pre>\n"
      ],
      "text/plain": [
       "<rich.jupyter.JupyterRenderable at 0x7f96aa982e80>"
      ]
     },
     "metadata": {},
     "output_type": "display_data"
    },
    {
     "data": {
      "text/html": [
       "<pre style=\"white-space:pre;overflow-x:auto;line-height:normal;font-family:Menlo,'DejaVu Sans Mono',consolas,'Courier New',monospace\"><span style=\"color: #7fbfbf\">           </span><span style=\"color: #000080\">INFO</span>     Sending metric for task aggregated_model_validation, round number <span style=\"color: #000080; font-weight: bold\">2</span>: adversarial_accuracy       <span style=\"color: #000080; font-weight: bold\">0.4622</span>                   <a href=\"file:///home/itrushkin/.virtualenvs/fledge/lib/python3.6/site-packages/fledge/component/collaborator/collaborator.py\"><span style=\"color: #7f7f7f\">collaborator.py</span></a><span style=\"color: #7f7f7f\">:318</span>\n",
       "</pre>\n"
      ],
      "text/plain": [
       "<rich.jupyter.JupyterRenderable at 0x7f96aa982e80>"
      ]
     },
     "metadata": {},
     "output_type": "display_data"
    },
    {
     "data": {
      "text/html": [
       "<pre style=\"white-space:pre;overflow-x:auto;line-height:normal;font-family:Menlo,'DejaVu Sans Mono',consolas,'Courier New',monospace\"><span style=\"color: #7fbfbf\">           </span><span style=\"color: #000080\">INFO</span>     Collaborator one is sending task results for aggregated_model_validation, round <span style=\"color: #000080; font-weight: bold\">2</span>                                          <a href=\"file:///home/itrushkin/.virtualenvs/fledge/lib/python3.6/site-packages/fledge/component/aggregator/aggregator.py\"><span style=\"color: #7f7f7f\">aggregator.py</span></a><span style=\"color: #7f7f7f\">:369</span>\n",
       "</pre>\n"
      ],
      "text/plain": [
       "<rich.jupyter.JupyterRenderable at 0x7f96aa9826d8>"
      ]
     },
     "metadata": {},
     "output_type": "display_data"
    },
    {
     "name": "stdout",
     "output_type": "stream",
     "text": [
      "    ______           __  ______     __  _                 __            \n",
      "   / ____/___ ______/ /_/ ____/____/ /_(_)___ ___  ____ _/ /_____  _____\n",
      "  / /_  / __ `/ ___/ __/ __/ / ___/ __/ / __ `__ \\/ __ `/ __/ __ \\/ ___/\n",
      " / __/ / /_/ (__  ) /_/ /___(__  ) /_/ / / / / / / /_/ / /_/ /_/ / /    \n",
      "/_/    \\__,_/____/\\__/_____/____/\\__/_/_/ /_/ /_/\\__,_/\\__/\\____/_/     \n",
      "                                                                        \n",
      "\n",
      "FastEstimator-Warn: No ModelSaver Trace detected. Models will not be saved.\n",
      "FastEstimator-Start: step: 1; num_device: 3; logging_interval: 1000; \n",
      "FastEstimator-Train: step: 1; base_ce: 1.073962; avg_ce: 1.2729846; adv_ce: 1.4720073; \n",
      "FastEstimator-Train: step: 391; epoch: 1; epoch_time: 11.19 sec; \n",
      "FastEstimator-Eval: step: 391; epoch: 1; base_ce: 0.97414225; avg_ce: 1.206657; adv_ce: 1.4391718; clean_accuracy: 0.6638; adversarial_accuracy: 0.4554; \n",
      "FastEstimator-Train: step: 782; epoch: 2; epoch_time: 10.98 sec; \n",
      "FastEstimator-Eval: step: 782; epoch: 2; base_ce: 0.94978297; avg_ce: 1.1992537; adv_ce: 1.4487245; clean_accuracy: 0.67; adversarial_accuracy: 0.4726; \n",
      "FastEstimator-Finish: step: 782; total_time: 26.66 sec; adv_model_lr: 0.001; \n"
     ]
    },
    {
     "data": {
      "text/html": [
       "<pre style=\"white-space:pre;overflow-x:auto;line-height:normal;font-family:Menlo,'DejaVu Sans Mono',consolas,'Courier New',monospace\"><span style=\"color: #7fbfbf\">[07:56:51] </span><span style=\"color: #000080\">INFO</span>     Sending metric for task train, round number <span style=\"color: #000080; font-weight: bold\">2</span>: adv_ce   <span style=\"color: #000080; font-weight: bold\">1.4720072746276855</span>                                               <a href=\"file:///home/itrushkin/.virtualenvs/fledge/lib/python3.6/site-packages/fledge/component/collaborator/collaborator.py\"><span style=\"color: #7f7f7f\">collaborator.py</span></a><span style=\"color: #7f7f7f\">:318</span>\n",
       "</pre>\n"
      ],
      "text/plain": [
       "<rich.jupyter.JupyterRenderable at 0x7f96acab39b0>"
      ]
     },
     "metadata": {},
     "output_type": "display_data"
    },
    {
     "data": {
      "text/html": [
       "<pre style=\"white-space:pre;overflow-x:auto;line-height:normal;font-family:Menlo,'DejaVu Sans Mono',consolas,'Courier New',monospace\"><span style=\"color: #7fbfbf\">           </span><span style=\"color: #000080\">INFO</span>     Sending metric for task train, round number <span style=\"color: #000080; font-weight: bold\">2</span>: base_ce  <span style=\"color: #000080; font-weight: bold\">1.0739619731903076</span>                                               <a href=\"file:///home/itrushkin/.virtualenvs/fledge/lib/python3.6/site-packages/fledge/component/collaborator/collaborator.py\"><span style=\"color: #7f7f7f\">collaborator.py</span></a><span style=\"color: #7f7f7f\">:318</span>\n",
       "</pre>\n"
      ],
      "text/plain": [
       "<rich.jupyter.JupyterRenderable at 0x7f96acab39b0>"
      ]
     },
     "metadata": {},
     "output_type": "display_data"
    },
    {
     "data": {
      "text/html": [
       "<pre style=\"white-space:pre;overflow-x:auto;line-height:normal;font-family:Menlo,'DejaVu Sans Mono',consolas,'Courier New',monospace\"><span style=\"color: #7fbfbf\">           </span><span style=\"color: #000080\">INFO</span>     Collaborator one is sending task results for train, round <span style=\"color: #000080; font-weight: bold\">2</span>                                                                <a href=\"file:///home/itrushkin/.virtualenvs/fledge/lib/python3.6/site-packages/fledge/component/aggregator/aggregator.py\"><span style=\"color: #7f7f7f\">aggregator.py</span></a><span style=\"color: #7f7f7f\">:369</span>\n",
       "</pre>\n"
      ],
      "text/plain": [
       "<rich.jupyter.JupyterRenderable at 0x7f96aa989c88>"
      ]
     },
     "metadata": {},
     "output_type": "display_data"
    },
    {
     "name": "stdout",
     "output_type": "stream",
     "text": [
      "FastEstimator-Test: step: 782; epoch: 2; clean_accuracy: 0.671; adversarial_accuracy: 0.4648; \n"
     ]
    },
    {
     "data": {
      "text/html": [
       "<pre style=\"white-space:pre;overflow-x:auto;line-height:normal;font-family:Menlo,'DejaVu Sans Mono',consolas,'Courier New',monospace\"><span style=\"color: #7fbfbf\">[07:56:52] </span><span style=\"color: #000080\">INFO</span>     Sending metric for task locally_tuned_model_validation, round number <span style=\"color: #000080; font-weight: bold\">2</span>: clean_accuracy  <span style=\"color: #000080; font-weight: bold\">0.671</span>                            <a href=\"file:///home/itrushkin/.virtualenvs/fledge/lib/python3.6/site-packages/fledge/component/collaborator/collaborator.py\"><span style=\"color: #7f7f7f\">collaborator.py</span></a><span style=\"color: #7f7f7f\">:318</span>\n",
       "</pre>\n"
      ],
      "text/plain": [
       "<rich.jupyter.JupyterRenderable at 0x7f96aca97eb8>"
      ]
     },
     "metadata": {},
     "output_type": "display_data"
    },
    {
     "data": {
      "text/html": [
       "<pre style=\"white-space:pre;overflow-x:auto;line-height:normal;font-family:Menlo,'DejaVu Sans Mono',consolas,'Courier New',monospace\"><span style=\"color: #7fbfbf\">           </span><span style=\"color: #000080\">INFO</span>     Sending metric for task locally_tuned_model_validation, round number <span style=\"color: #000080; font-weight: bold\">2</span>: adversarial_accuracy    <span style=\"color: #000080; font-weight: bold\">0.4648</span>                   <a href=\"file:///home/itrushkin/.virtualenvs/fledge/lib/python3.6/site-packages/fledge/component/collaborator/collaborator.py\"><span style=\"color: #7f7f7f\">collaborator.py</span></a><span style=\"color: #7f7f7f\">:318</span>\n",
       "</pre>\n"
      ],
      "text/plain": [
       "<rich.jupyter.JupyterRenderable at 0x7f96aca97fd0>"
      ]
     },
     "metadata": {},
     "output_type": "display_data"
    },
    {
     "data": {
      "text/html": [
       "<pre style=\"white-space:pre;overflow-x:auto;line-height:normal;font-family:Menlo,'DejaVu Sans Mono',consolas,'Courier New',monospace\"><span style=\"color: #7fbfbf\">           </span><span style=\"color: #000080\">INFO</span>     Collaborator one is sending task results for locally_tuned_model_validation, round <span style=\"color: #000080; font-weight: bold\">2</span>                                       <a href=\"file:///home/itrushkin/.virtualenvs/fledge/lib/python3.6/site-packages/fledge/component/aggregator/aggregator.py\"><span style=\"color: #7f7f7f\">aggregator.py</span></a><span style=\"color: #7f7f7f\">:369</span>\n",
       "</pre>\n"
      ],
      "text/plain": [
       "<rich.jupyter.JupyterRenderable at 0x7f96aca97b38>"
      ]
     },
     "metadata": {},
     "output_type": "display_data"
    },
    {
     "data": {
      "text/html": [
       "<pre style=\"white-space:pre;overflow-x:auto;line-height:normal;font-family:Menlo,'DejaVu Sans Mono',consolas,'Courier New',monospace\"><span style=\"color: #7fbfbf\">           </span><span style=\"color: #000080\">INFO</span>     All tasks completed on one for round <span style=\"color: #000080; font-weight: bold\">2</span><span style=\"color: #808000\">...</span>                                                                                <a href=\"file:///home/itrushkin/.virtualenvs/fledge/lib/python3.6/site-packages/fledge/component/collaborator/collaborator.py\"><span style=\"color: #7f7f7f\">collaborator.py</span></a><span style=\"color: #7f7f7f\">:158</span>\n",
       "</pre>\n"
      ],
      "text/plain": [
       "<rich.jupyter.JupyterRenderable at 0x7f96aca97b38>"
      ]
     },
     "metadata": {},
     "output_type": "display_data"
    },
    {
     "data": {
      "text/html": [
       "<pre style=\"white-space:pre;overflow-x:auto;line-height:normal;font-family:Menlo,'DejaVu Sans Mono',consolas,'Courier New',monospace\"><span style=\"color: #7fbfbf\">           </span><span style=\"color: #000080\">INFO</span>     Aggregator GetTasks function reached from collaborator two<span style=\"color: #808000\">...</span>                                                              <a href=\"file:///home/itrushkin/.virtualenvs/fledge/lib/python3.6/site-packages/fledge/component/aggregator/aggregator.py\"><span style=\"color: #7f7f7f\">aggregator.py</span></a><span style=\"color: #7f7f7f\">:215</span>\n",
       "</pre>\n"
      ],
      "text/plain": [
       "<rich.jupyter.JupyterRenderable at 0x7f96aa55c400>"
      ]
     },
     "metadata": {},
     "output_type": "display_data"
    },
    {
     "data": {
      "text/html": [
       "<pre style=\"white-space:pre;overflow-x:auto;line-height:normal;font-family:Menlo,'DejaVu Sans Mono',consolas,'Courier New',monospace\"><span style=\"color: #7fbfbf\">           </span><span style=\"color: #000080\">INFO</span>     Sending tasks to collaborator two for round <span style=\"color: #000080; font-weight: bold\">2</span>                                                                              <a href=\"file:///home/itrushkin/.virtualenvs/fledge/lib/python3.6/site-packages/fledge/component/aggregator/aggregator.py\"><span style=\"color: #7f7f7f\">aggregator.py</span></a><span style=\"color: #7f7f7f\">:249</span>\n",
       "</pre>\n"
      ],
      "text/plain": [
       "<rich.jupyter.JupyterRenderable at 0x7f96aca97b38>"
      ]
     },
     "metadata": {},
     "output_type": "display_data"
    },
    {
     "data": {
      "text/html": [
       "<pre style=\"white-space:pre;overflow-x:auto;line-height:normal;font-family:Menlo,'DejaVu Sans Mono',consolas,'Courier New',monospace\"><span style=\"color: #7fbfbf\">           </span><span style=\"color: #000080\">INFO</span>     Received the following tasks: <span style=\"font-weight: bold\">[</span><span style=\"color: #008000\">'aggregated_model_validation'</span>, <span style=\"color: #008000\">'train'</span>, <span style=\"color: #008000\">'locally_tuned_model_validation'</span><span style=\"font-weight: bold\">]</span>                 <a href=\"file:///home/itrushkin/.virtualenvs/fledge/lib/python3.6/site-packages/fledge/component/collaborator/collaborator.py\"><span style=\"color: #7f7f7f\">collaborator.py</span></a><span style=\"color: #7f7f7f\">:155</span>\n",
       "</pre>\n"
      ],
      "text/plain": [
       "<rich.jupyter.JupyterRenderable at 0x7f96aca97b38>"
      ]
     },
     "metadata": {},
     "output_type": "display_data"
    },
    {
     "name": "stdout",
     "output_type": "stream",
     "text": [
      "FastEstimator-Test: step: 782; epoch: 2; clean_accuracy: 0.6596; adversarial_accuracy: 0.4622; \n"
     ]
    },
    {
     "data": {
      "text/html": [
       "<pre style=\"white-space:pre;overflow-x:auto;line-height:normal;font-family:Menlo,'DejaVu Sans Mono',consolas,'Courier New',monospace\"><span style=\"color: #7fbfbf\">[07:56:54] </span><span style=\"color: #000080\">INFO</span>     Sending metric for task aggregated_model_validation, round number <span style=\"color: #000080; font-weight: bold\">2</span>: clean_accuracy     <span style=\"color: #000080; font-weight: bold\">0.6596</span>                           <a href=\"file:///home/itrushkin/.virtualenvs/fledge/lib/python3.6/site-packages/fledge/component/collaborator/collaborator.py\"><span style=\"color: #7f7f7f\">collaborator.py</span></a><span style=\"color: #7f7f7f\">:318</span>\n",
       "</pre>\n"
      ],
      "text/plain": [
       "<rich.jupyter.JupyterRenderable at 0x7f96aa9a87b8>"
      ]
     },
     "metadata": {},
     "output_type": "display_data"
    },
    {
     "data": {
      "text/html": [
       "<pre style=\"white-space:pre;overflow-x:auto;line-height:normal;font-family:Menlo,'DejaVu Sans Mono',consolas,'Courier New',monospace\"><span style=\"color: #7fbfbf\">           </span><span style=\"color: #000080\">INFO</span>     Sending metric for task aggregated_model_validation, round number <span style=\"color: #000080; font-weight: bold\">2</span>: adversarial_accuracy       <span style=\"color: #000080; font-weight: bold\">0.4622</span>                   <a href=\"file:///home/itrushkin/.virtualenvs/fledge/lib/python3.6/site-packages/fledge/component/collaborator/collaborator.py\"><span style=\"color: #7f7f7f\">collaborator.py</span></a><span style=\"color: #7f7f7f\">:318</span>\n",
       "</pre>\n"
      ],
      "text/plain": [
       "<rich.jupyter.JupyterRenderable at 0x7f96aa9a8a90>"
      ]
     },
     "metadata": {},
     "output_type": "display_data"
    },
    {
     "data": {
      "text/html": [
       "<pre style=\"white-space:pre;overflow-x:auto;line-height:normal;font-family:Menlo,'DejaVu Sans Mono',consolas,'Courier New',monospace\"><span style=\"color: #7fbfbf\">           </span><span style=\"color: #000080\">INFO</span>     Collaborator two is sending task results for aggregated_model_validation, round <span style=\"color: #000080; font-weight: bold\">2</span>                                          <a href=\"file:///home/itrushkin/.virtualenvs/fledge/lib/python3.6/site-packages/fledge/component/aggregator/aggregator.py\"><span style=\"color: #7f7f7f\">aggregator.py</span></a><span style=\"color: #7f7f7f\">:369</span>\n",
       "</pre>\n"
      ],
      "text/plain": [
       "<rich.jupyter.JupyterRenderable at 0x7f96aa9a8400>"
      ]
     },
     "metadata": {},
     "output_type": "display_data"
    },
    {
     "name": "stdout",
     "output_type": "stream",
     "text": [
      "    ______           __  ______     __  _                 __            \n",
      "   / ____/___ ______/ /_/ ____/____/ /_(_)___ ___  ____ _/ /_____  _____\n",
      "  / /_  / __ `/ ___/ __/ __/ / ___/ __/ / __ `__ \\/ __ `/ __/ __ \\/ ___/\n",
      " / __/ / /_/ (__  ) /_/ /___(__  ) /_/ / / / / / / /_/ / /_/ /_/ / /    \n",
      "/_/    \\__,_/____/\\__/_____/____/\\__/_/_/ /_/ /_/\\__,_/\\__/\\____/_/     \n",
      "                                                                        \n",
      "\n",
      "FastEstimator-Warn: No ModelSaver Trace detected. Models will not be saved.\n",
      "FastEstimator-Start: step: 1; num_device: 3; logging_interval: 1000; \n",
      "FastEstimator-Train: step: 1; base_ce: 0.9834343; avg_ce: 1.1673939; adv_ce: 1.3513535; \n",
      "FastEstimator-Train: step: 391; epoch: 1; epoch_time: 11.17 sec; \n",
      "FastEstimator-Eval: step: 391; epoch: 1; base_ce: 0.9653967; avg_ce: 1.2037219; adv_ce: 1.4420471; clean_accuracy: 0.6692; adversarial_accuracy: 0.4728; \n",
      "FastEstimator-Train: step: 782; epoch: 2; epoch_time: 11.08 sec; \n",
      "FastEstimator-Eval: step: 782; epoch: 2; base_ce: 0.9204723; avg_ce: 1.160168; adv_ce: 1.3998636; clean_accuracy: 0.688; adversarial_accuracy: 0.4842; \n",
      "FastEstimator-Finish: step: 782; total_time: 26.64 sec; adv_model_lr: 0.001; \n"
     ]
    },
    {
     "data": {
      "text/html": [
       "<pre style=\"white-space:pre;overflow-x:auto;line-height:normal;font-family:Menlo,'DejaVu Sans Mono',consolas,'Courier New',monospace\"><span style=\"color: #7fbfbf\">[07:57:22] </span><span style=\"color: #000080\">INFO</span>     Sending metric for task train, round number <span style=\"color: #000080; font-weight: bold\">2</span>: adv_ce   <span style=\"color: #000080; font-weight: bold\">1.3513535261154175</span>                                               <a href=\"file:///home/itrushkin/.virtualenvs/fledge/lib/python3.6/site-packages/fledge/component/collaborator/collaborator.py\"><span style=\"color: #7f7f7f\">collaborator.py</span></a><span style=\"color: #7f7f7f\">:318</span>\n",
       "</pre>\n"
      ],
      "text/plain": [
       "<rich.jupyter.JupyterRenderable at 0x7f96aa9829b0>"
      ]
     },
     "metadata": {},
     "output_type": "display_data"
    },
    {
     "data": {
      "text/html": [
       "<pre style=\"white-space:pre;overflow-x:auto;line-height:normal;font-family:Menlo,'DejaVu Sans Mono',consolas,'Courier New',monospace\"><span style=\"color: #7fbfbf\">           </span><span style=\"color: #000080\">INFO</span>     Sending metric for task train, round number <span style=\"color: #000080; font-weight: bold\">2</span>: base_ce  <span style=\"color: #000080; font-weight: bold\">0.9834343194961548</span>                                               <a href=\"file:///home/itrushkin/.virtualenvs/fledge/lib/python3.6/site-packages/fledge/component/collaborator/collaborator.py\"><span style=\"color: #7f7f7f\">collaborator.py</span></a><span style=\"color: #7f7f7f\">:318</span>\n",
       "</pre>\n"
      ],
      "text/plain": [
       "<rich.jupyter.JupyterRenderable at 0x7f96aa716a58>"
      ]
     },
     "metadata": {},
     "output_type": "display_data"
    },
    {
     "data": {
      "text/html": [
       "<pre style=\"white-space:pre;overflow-x:auto;line-height:normal;font-family:Menlo,'DejaVu Sans Mono',consolas,'Courier New',monospace\"><span style=\"color: #7fbfbf\">           </span><span style=\"color: #000080\">INFO</span>     Collaborator two is sending task results for train, round <span style=\"color: #000080; font-weight: bold\">2</span>                                                                <a href=\"file:///home/itrushkin/.virtualenvs/fledge/lib/python3.6/site-packages/fledge/component/aggregator/aggregator.py\"><span style=\"color: #7f7f7f\">aggregator.py</span></a><span style=\"color: #7f7f7f\">:369</span>\n",
       "</pre>\n"
      ],
      "text/plain": [
       "<rich.jupyter.JupyterRenderable at 0x7f96aa549710>"
      ]
     },
     "metadata": {},
     "output_type": "display_data"
    },
    {
     "name": "stdout",
     "output_type": "stream",
     "text": [
      "FastEstimator-Test: step: 782; epoch: 2; clean_accuracy: 0.681; adversarial_accuracy: 0.4774; \n"
     ]
    },
    {
     "data": {
      "text/html": [
       "<pre style=\"white-space:pre;overflow-x:auto;line-height:normal;font-family:Menlo,'DejaVu Sans Mono',consolas,'Courier New',monospace\"><span style=\"color: #7fbfbf\">[07:57:23] </span><span style=\"color: #000080\">INFO</span>     Sending metric for task locally_tuned_model_validation, round number <span style=\"color: #000080; font-weight: bold\">2</span>: clean_accuracy  <span style=\"color: #000080; font-weight: bold\">0.681</span>                            <a href=\"file:///home/itrushkin/.virtualenvs/fledge/lib/python3.6/site-packages/fledge/component/collaborator/collaborator.py\"><span style=\"color: #7f7f7f\">collaborator.py</span></a><span style=\"color: #7f7f7f\">:318</span>\n",
       "</pre>\n"
      ],
      "text/plain": [
       "<rich.jupyter.JupyterRenderable at 0x7f96aa98a7f0>"
      ]
     },
     "metadata": {},
     "output_type": "display_data"
    },
    {
     "data": {
      "text/html": [
       "<pre style=\"white-space:pre;overflow-x:auto;line-height:normal;font-family:Menlo,'DejaVu Sans Mono',consolas,'Courier New',monospace\"><span style=\"color: #7fbfbf\">           </span><span style=\"color: #000080\">INFO</span>     Sending metric for task locally_tuned_model_validation, round number <span style=\"color: #000080; font-weight: bold\">2</span>: adversarial_accuracy    <span style=\"color: #000080; font-weight: bold\">0.4774</span>                   <a href=\"file:///home/itrushkin/.virtualenvs/fledge/lib/python3.6/site-packages/fledge/component/collaborator/collaborator.py\"><span style=\"color: #7f7f7f\">collaborator.py</span></a><span style=\"color: #7f7f7f\">:318</span>\n",
       "</pre>\n"
      ],
      "text/plain": [
       "<rich.jupyter.JupyterRenderable at 0x7f96aa98a7f0>"
      ]
     },
     "metadata": {},
     "output_type": "display_data"
    },
    {
     "data": {
      "text/html": [
       "<pre style=\"white-space:pre;overflow-x:auto;line-height:normal;font-family:Menlo,'DejaVu Sans Mono',consolas,'Courier New',monospace\"><span style=\"color: #7fbfbf\">           </span><span style=\"color: #000080\">INFO</span>     Collaborator two is sending task results for locally_tuned_model_validation, round <span style=\"color: #000080; font-weight: bold\">2</span>                                       <a href=\"file:///home/itrushkin/.virtualenvs/fledge/lib/python3.6/site-packages/fledge/component/aggregator/aggregator.py\"><span style=\"color: #7f7f7f\">aggregator.py</span></a><span style=\"color: #7f7f7f\">:369</span>\n",
       "</pre>\n"
      ],
      "text/plain": [
       "<rich.jupyter.JupyterRenderable at 0x7f96aa98a048>"
      ]
     },
     "metadata": {},
     "output_type": "display_data"
    },
    {
     "data": {
      "text/html": [
       "<pre style=\"white-space:pre;overflow-x:auto;line-height:normal;font-family:Menlo,'DejaVu Sans Mono',consolas,'Courier New',monospace\"><span style=\"color: #7fbfbf\">[07:57:24] </span><span style=\"color: #000080\">INFO</span>     train task metrics<span style=\"color: #808000\">...</span>                                                                                                      <a href=\"file:///home/itrushkin/.virtualenvs/fledge/lib/python3.6/site-packages/fledge/component/aggregator/aggregator.py\"><span style=\"color: #7f7f7f\">aggregator.py</span></a><span style=\"color: #7f7f7f\">:505</span>\n",
       "</pre>\n"
      ],
      "text/plain": [
       "<rich.jupyter.JupyterRenderable at 0x7f96aa98a7f0>"
      ]
     },
     "metadata": {},
     "output_type": "display_data"
    },
    {
     "data": {
      "text/html": [
       "<pre style=\"white-space:pre;overflow-x:auto;line-height:normal;font-family:Menlo,'DejaVu Sans Mono',consolas,'Courier New',monospace\"><span style=\"color: #7fbfbf\">           </span><span style=\"color: #000080\">INFO</span>     adv_ce: <span style=\"color: #000080; font-weight: bold\">1.4117</span>                                                                                                             <a href=\"file:///home/itrushkin/.virtualenvs/fledge/lib/python3.6/site-packages/fledge/component/aggregator/aggregator.py\"><span style=\"color: #7f7f7f\">aggregator.py</span></a><span style=\"color: #7f7f7f\">:539</span>\n",
       "</pre>\n"
      ],
      "text/plain": [
       "<rich.jupyter.JupyterRenderable at 0x7f96aa98a7f0>"
      ]
     },
     "metadata": {},
     "output_type": "display_data"
    },
    {
     "data": {
      "text/html": [
       "<pre style=\"white-space:pre;overflow-x:auto;line-height:normal;font-family:Menlo,'DejaVu Sans Mono',consolas,'Courier New',monospace\"><span style=\"color: #7fbfbf\">           </span><span style=\"color: #000080\">INFO</span>     base_ce:        <span style=\"color: #000080; font-weight: bold\">1.0287</span>                                                                                                     <a href=\"file:///home/itrushkin/.virtualenvs/fledge/lib/python3.6/site-packages/fledge/component/aggregator/aggregator.py\"><span style=\"color: #7f7f7f\">aggregator.py</span></a><span style=\"color: #7f7f7f\">:539</span>\n",
       "</pre>\n"
      ],
      "text/plain": [
       "<rich.jupyter.JupyterRenderable at 0x7f96aa98a400>"
      ]
     },
     "metadata": {},
     "output_type": "display_data"
    },
    {
     "data": {
      "text/html": [
       "<pre style=\"white-space:pre;overflow-x:auto;line-height:normal;font-family:Menlo,'DejaVu Sans Mono',consolas,'Courier New',monospace\"><span style=\"color: #7fbfbf\">           </span><span style=\"color: #000080\">INFO</span>     locally_tuned_model_validation task metrics<span style=\"color: #808000\">...</span>                                                                             <a href=\"file:///home/itrushkin/.virtualenvs/fledge/lib/python3.6/site-packages/fledge/component/aggregator/aggregator.py\"><span style=\"color: #7f7f7f\">aggregator.py</span></a><span style=\"color: #7f7f7f\">:505</span>\n",
       "</pre>\n"
      ],
      "text/plain": [
       "<rich.jupyter.JupyterRenderable at 0x7f96acaab588>"
      ]
     },
     "metadata": {},
     "output_type": "display_data"
    },
    {
     "data": {
      "text/html": [
       "<pre style=\"white-space:pre;overflow-x:auto;line-height:normal;font-family:Menlo,'DejaVu Sans Mono',consolas,'Courier New',monospace\"><span style=\"color: #7fbfbf\">           </span><span style=\"color: #000080\">INFO</span>     clean_accuracy: <span style=\"color: #000080; font-weight: bold\">0.6760</span>                                                                                                     <a href=\"file:///home/itrushkin/.virtualenvs/fledge/lib/python3.6/site-packages/fledge/component/aggregator/aggregator.py\"><span style=\"color: #7f7f7f\">aggregator.py</span></a><span style=\"color: #7f7f7f\">:539</span>\n",
       "</pre>\n"
      ],
      "text/plain": [
       "<rich.jupyter.JupyterRenderable at 0x7f96aa649f98>"
      ]
     },
     "metadata": {},
     "output_type": "display_data"
    },
    {
     "data": {
      "text/html": [
       "<pre style=\"white-space:pre;overflow-x:auto;line-height:normal;font-family:Menlo,'DejaVu Sans Mono',consolas,'Courier New',monospace\"><span style=\"color: #7fbfbf\">           </span><span style=\"color: #000080\">INFO</span>     adversarial_accuracy:   <span style=\"color: #000080; font-weight: bold\">0.4711</span>                                                                                             <a href=\"file:///home/itrushkin/.virtualenvs/fledge/lib/python3.6/site-packages/fledge/component/aggregator/aggregator.py\"><span style=\"color: #7f7f7f\">aggregator.py</span></a><span style=\"color: #7f7f7f\">:539</span>\n",
       "</pre>\n"
      ],
      "text/plain": [
       "<rich.jupyter.JupyterRenderable at 0x7f96aa649470>"
      ]
     },
     "metadata": {},
     "output_type": "display_data"
    },
    {
     "data": {
      "text/html": [
       "<pre style=\"white-space:pre;overflow-x:auto;line-height:normal;font-family:Menlo,'DejaVu Sans Mono',consolas,'Courier New',monospace\"><span style=\"color: #7fbfbf\">           </span><span style=\"color: #000080\">INFO</span>     aggregated_model_validation task metrics<span style=\"color: #808000\">...</span>                                                                                <a href=\"file:///home/itrushkin/.virtualenvs/fledge/lib/python3.6/site-packages/fledge/component/aggregator/aggregator.py\"><span style=\"color: #7f7f7f\">aggregator.py</span></a><span style=\"color: #7f7f7f\">:505</span>\n",
       "</pre>\n"
      ],
      "text/plain": [
       "<rich.jupyter.JupyterRenderable at 0x7f96aa649518>"
      ]
     },
     "metadata": {},
     "output_type": "display_data"
    },
    {
     "data": {
      "text/html": [
       "<pre style=\"white-space:pre;overflow-x:auto;line-height:normal;font-family:Menlo,'DejaVu Sans Mono',consolas,'Courier New',monospace\"><span style=\"color: #7fbfbf\">           </span><span style=\"color: #000080\">INFO</span>     clean_accuracy: <span style=\"color: #000080; font-weight: bold\">0.6596</span>                                                                                                     <a href=\"file:///home/itrushkin/.virtualenvs/fledge/lib/python3.6/site-packages/fledge/component/aggregator/aggregator.py\"><span style=\"color: #7f7f7f\">aggregator.py</span></a><span style=\"color: #7f7f7f\">:539</span>\n",
       "</pre>\n"
      ],
      "text/plain": [
       "<rich.jupyter.JupyterRenderable at 0x7f96aa65e8d0>"
      ]
     },
     "metadata": {},
     "output_type": "display_data"
    },
    {
     "data": {
      "text/html": [
       "<pre style=\"white-space:pre;overflow-x:auto;line-height:normal;font-family:Menlo,'DejaVu Sans Mono',consolas,'Courier New',monospace\"><span style=\"color: #7fbfbf\">           </span><span style=\"color: #000080\">INFO</span>     Saved the best model with score <span style=\"color: #000080; font-weight: bold\">0.659600</span>                                                                                   <a href=\"file:///home/itrushkin/.virtualenvs/fledge/lib/python3.6/site-packages/fledge/component/aggregator/aggregator.py\"><span style=\"color: #7f7f7f\">aggregator.py</span></a><span style=\"color: #7f7f7f\">:546</span>\n",
       "</pre>\n"
      ],
      "text/plain": [
       "<rich.jupyter.JupyterRenderable at 0x7f96aa98a048>"
      ]
     },
     "metadata": {},
     "output_type": "display_data"
    },
    {
     "data": {
      "text/html": [
       "<pre style=\"white-space:pre;overflow-x:auto;line-height:normal;font-family:Menlo,'DejaVu Sans Mono',consolas,'Courier New',monospace\"><span style=\"color: #7fbfbf\">           </span><span style=\"color: #000080\">INFO</span>     adversarial_accuracy:   <span style=\"color: #000080; font-weight: bold\">0.4622</span>                                                                                             <a href=\"file:///home/itrushkin/.virtualenvs/fledge/lib/python3.6/site-packages/fledge/component/aggregator/aggregator.py\"><span style=\"color: #7f7f7f\">aggregator.py</span></a><span style=\"color: #7f7f7f\">:539</span>\n",
       "</pre>\n"
      ],
      "text/plain": [
       "<rich.jupyter.JupyterRenderable at 0x7f96aa98a048>"
      ]
     },
     "metadata": {},
     "output_type": "display_data"
    },
    {
     "data": {
      "text/html": [
       "<pre style=\"white-space:pre;overflow-x:auto;line-height:normal;font-family:Menlo,'DejaVu Sans Mono',consolas,'Courier New',monospace\"><span style=\"color: #7fbfbf\">           </span><span style=\"color: #000080\">INFO</span>     Saving round <span style=\"color: #000080; font-weight: bold\">3</span> model<span style=\"color: #808000\">...</span>                                                                                                    <a href=\"file:///home/itrushkin/.virtualenvs/fledge/lib/python3.6/site-packages/fledge/component/aggregator/aggregator.py\"><span style=\"color: #7f7f7f\">aggregator.py</span></a><span style=\"color: #7f7f7f\">:602</span>\n",
       "</pre>\n"
      ],
      "text/plain": [
       "<rich.jupyter.JupyterRenderable at 0x7f96aa65e8d0>"
      ]
     },
     "metadata": {},
     "output_type": "display_data"
    },
    {
     "data": {
      "text/html": [
       "<pre style=\"white-space:pre;overflow-x:auto;line-height:normal;font-family:Menlo,'DejaVu Sans Mono',consolas,'Courier New',monospace\"><span style=\"color: #7fbfbf\">           </span><span style=\"color: #000080\">INFO</span>     Starting round <span style=\"color: #000080; font-weight: bold\">3</span><span style=\"color: #808000\">...</span>                                                                                                        <a href=\"file:///home/itrushkin/.virtualenvs/fledge/lib/python3.6/site-packages/fledge/component/aggregator/aggregator.py\"><span style=\"color: #7f7f7f\">aggregator.py</span></a><span style=\"color: #7f7f7f\">:610</span>\n",
       "</pre>\n"
      ],
      "text/plain": [
       "<rich.jupyter.JupyterRenderable at 0x7f96aa98a400>"
      ]
     },
     "metadata": {},
     "output_type": "display_data"
    },
    {
     "data": {
      "text/html": [
       "<pre style=\"white-space:pre;overflow-x:auto;line-height:normal;font-family:Menlo,'DejaVu Sans Mono',consolas,'Courier New',monospace\"><span style=\"color: #7fbfbf\">           </span><span style=\"color: #000080\">INFO</span>     All tasks completed on two for round <span style=\"color: #000080; font-weight: bold\">2</span><span style=\"color: #808000\">...</span>                                                                                <a href=\"file:///home/itrushkin/.virtualenvs/fledge/lib/python3.6/site-packages/fledge/component/collaborator/collaborator.py\"><span style=\"color: #7f7f7f\">collaborator.py</span></a><span style=\"color: #7f7f7f\">:158</span>\n",
       "</pre>\n"
      ],
      "text/plain": [
       "<rich.jupyter.JupyterRenderable at 0x7f96aa649518>"
      ]
     },
     "metadata": {},
     "output_type": "display_data"
    },
    {
     "data": {
      "text/html": [
       "<pre style=\"white-space:pre;overflow-x:auto;line-height:normal;font-family:Menlo,'DejaVu Sans Mono',consolas,'Courier New',monospace\"><span style=\"color: #7fbfbf\">           </span><span style=\"color: #000080\">INFO</span>     Aggregator GetTasks function reached from collaborator one<span style=\"color: #808000\">...</span>                                                              <a href=\"file:///home/itrushkin/.virtualenvs/fledge/lib/python3.6/site-packages/fledge/component/aggregator/aggregator.py\"><span style=\"color: #7f7f7f\">aggregator.py</span></a><span style=\"color: #7f7f7f\">:215</span>\n",
       "</pre>\n"
      ],
      "text/plain": [
       "<rich.jupyter.JupyterRenderable at 0x7f96aa649f98>"
      ]
     },
     "metadata": {},
     "output_type": "display_data"
    },
    {
     "data": {
      "text/html": [
       "<pre style=\"white-space:pre;overflow-x:auto;line-height:normal;font-family:Menlo,'DejaVu Sans Mono',consolas,'Courier New',monospace\"><span style=\"color: #7fbfbf\">           </span><span style=\"color: #000080\">INFO</span>     Sending tasks to collaborator one for round <span style=\"color: #000080; font-weight: bold\">3</span>                                                                              <a href=\"file:///home/itrushkin/.virtualenvs/fledge/lib/python3.6/site-packages/fledge/component/aggregator/aggregator.py\"><span style=\"color: #7f7f7f\">aggregator.py</span></a><span style=\"color: #7f7f7f\">:249</span>\n",
       "</pre>\n"
      ],
      "text/plain": [
       "<rich.jupyter.JupyterRenderable at 0x7f96aa98a748>"
      ]
     },
     "metadata": {},
     "output_type": "display_data"
    },
    {
     "data": {
      "text/html": [
       "<pre style=\"white-space:pre;overflow-x:auto;line-height:normal;font-family:Menlo,'DejaVu Sans Mono',consolas,'Courier New',monospace\"><span style=\"color: #7fbfbf\">           </span><span style=\"color: #000080\">INFO</span>     Received the following tasks: <span style=\"font-weight: bold\">[</span><span style=\"color: #008000\">'aggregated_model_validation'</span>, <span style=\"color: #008000\">'train'</span>, <span style=\"color: #008000\">'locally_tuned_model_validation'</span><span style=\"font-weight: bold\">]</span>                 <a href=\"file:///home/itrushkin/.virtualenvs/fledge/lib/python3.6/site-packages/fledge/component/collaborator/collaborator.py\"><span style=\"color: #7f7f7f\">collaborator.py</span></a><span style=\"color: #7f7f7f\">:155</span>\n",
       "</pre>\n"
      ],
      "text/plain": [
       "<rich.jupyter.JupyterRenderable at 0x7f96aa649470>"
      ]
     },
     "metadata": {},
     "output_type": "display_data"
    },
    {
     "name": "stdout",
     "output_type": "stream",
     "text": [
      "FastEstimator-Test: step: 782; epoch: 2; clean_accuracy: 0.6876; adversarial_accuracy: 0.4812; \n"
     ]
    },
    {
     "data": {
      "text/html": [
       "<pre style=\"white-space:pre;overflow-x:auto;line-height:normal;font-family:Menlo,'DejaVu Sans Mono',consolas,'Courier New',monospace\"><span style=\"color: #7fbfbf\">[07:57:25] </span><span style=\"color: #000080\">INFO</span>     Sending metric for task aggregated_model_validation, round number <span style=\"color: #000080; font-weight: bold\">3</span>: clean_accuracy     <span style=\"color: #000080; font-weight: bold\">0.6876</span>                           <a href=\"file:///home/itrushkin/.virtualenvs/fledge/lib/python3.6/site-packages/fledge/component/collaborator/collaborator.py\"><span style=\"color: #7f7f7f\">collaborator.py</span></a><span style=\"color: #7f7f7f\">:318</span>\n",
       "</pre>\n"
      ],
      "text/plain": [
       "<rich.jupyter.JupyterRenderable at 0x7f96aa716898>"
      ]
     },
     "metadata": {},
     "output_type": "display_data"
    },
    {
     "data": {
      "text/html": [
       "<pre style=\"white-space:pre;overflow-x:auto;line-height:normal;font-family:Menlo,'DejaVu Sans Mono',consolas,'Courier New',monospace\"><span style=\"color: #7fbfbf\">           </span><span style=\"color: #000080\">INFO</span>     Sending metric for task aggregated_model_validation, round number <span style=\"color: #000080; font-weight: bold\">3</span>: adversarial_accuracy       <span style=\"color: #000080; font-weight: bold\">0.4812</span>                   <a href=\"file:///home/itrushkin/.virtualenvs/fledge/lib/python3.6/site-packages/fledge/component/collaborator/collaborator.py\"><span style=\"color: #7f7f7f\">collaborator.py</span></a><span style=\"color: #7f7f7f\">:318</span>\n",
       "</pre>\n"
      ],
      "text/plain": [
       "<rich.jupyter.JupyterRenderable at 0x7f95ed839c18>"
      ]
     },
     "metadata": {},
     "output_type": "display_data"
    },
    {
     "data": {
      "text/html": [
       "<pre style=\"white-space:pre;overflow-x:auto;line-height:normal;font-family:Menlo,'DejaVu Sans Mono',consolas,'Courier New',monospace\"><span style=\"color: #7fbfbf\">           </span><span style=\"color: #000080\">INFO</span>     Collaborator one is sending task results for aggregated_model_validation, round <span style=\"color: #000080; font-weight: bold\">3</span>                                          <a href=\"file:///home/itrushkin/.virtualenvs/fledge/lib/python3.6/site-packages/fledge/component/aggregator/aggregator.py\"><span style=\"color: #7f7f7f\">aggregator.py</span></a><span style=\"color: #7f7f7f\">:369</span>\n",
       "</pre>\n"
      ],
      "text/plain": [
       "<rich.jupyter.JupyterRenderable at 0x7f96aa716898>"
      ]
     },
     "metadata": {},
     "output_type": "display_data"
    },
    {
     "name": "stdout",
     "output_type": "stream",
     "text": [
      "    ______           __  ______     __  _                 __            \n",
      "   / ____/___ ______/ /_/ ____/____/ /_(_)___ ___  ____ _/ /_____  _____\n",
      "  / /_  / __ `/ ___/ __/ __/ / ___/ __/ / __ `__ \\/ __ `/ __/ __ \\/ ___/\n",
      " / __/ / /_/ (__  ) /_/ /___(__  ) /_/ / / / / / / /_/ / /_/ /_/ / /    \n",
      "/_/    \\__,_/____/\\__/_____/____/\\__/_/_/ /_/ /_/\\__,_/\\__/\\____/_/     \n",
      "                                                                        \n",
      "\n",
      "FastEstimator-Warn: No ModelSaver Trace detected. Models will not be saved.\n",
      "FastEstimator-Start: step: 1; num_device: 3; logging_interval: 1000; \n",
      "FastEstimator-Train: step: 1; base_ce: 0.83885765; avg_ce: 1.0510876; adv_ce: 1.2633176; \n",
      "FastEstimator-Train: step: 391; epoch: 1; epoch_time: 11.0 sec; \n",
      "FastEstimator-Eval: step: 391; epoch: 1; base_ce: 0.87926996; avg_ce: 1.1299231; adv_ce: 1.380576; clean_accuracy: 0.7042; adversarial_accuracy: 0.4966; \n",
      "FastEstimator-Train: step: 782; epoch: 2; epoch_time: 10.88 sec; \n",
      "FastEstimator-Eval: step: 782; epoch: 2; base_ce: 0.8533141; avg_ce: 1.1191576; adv_ce: 1.3850011; clean_accuracy: 0.7104; adversarial_accuracy: 0.4962; \n",
      "FastEstimator-Finish: step: 782; total_time: 26.36 sec; adv_model_lr: 0.001; \n"
     ]
    },
    {
     "data": {
      "text/html": [
       "<pre style=\"white-space:pre;overflow-x:auto;line-height:normal;font-family:Menlo,'DejaVu Sans Mono',consolas,'Courier New',monospace\"><span style=\"color: #7fbfbf\">[07:57:53] </span><span style=\"color: #000080\">INFO</span>     Sending metric for task train, round number <span style=\"color: #000080; font-weight: bold\">3</span>: adv_ce   <span style=\"color: #000080; font-weight: bold\">1.263317584991455</span>                                                <a href=\"file:///home/itrushkin/.virtualenvs/fledge/lib/python3.6/site-packages/fledge/component/collaborator/collaborator.py\"><span style=\"color: #7f7f7f\">collaborator.py</span></a><span style=\"color: #7f7f7f\">:318</span>\n",
       "</pre>\n"
      ],
      "text/plain": [
       "<rich.jupyter.JupyterRenderable at 0x7f96aa989748>"
      ]
     },
     "metadata": {},
     "output_type": "display_data"
    },
    {
     "data": {
      "text/html": [
       "<pre style=\"white-space:pre;overflow-x:auto;line-height:normal;font-family:Menlo,'DejaVu Sans Mono',consolas,'Courier New',monospace\"><span style=\"color: #7fbfbf\">           </span><span style=\"color: #000080\">INFO</span>     Sending metric for task train, round number <span style=\"color: #000080; font-weight: bold\">3</span>: base_ce  <span style=\"color: #000080; font-weight: bold\">0.8388576507568359</span>                                               <a href=\"file:///home/itrushkin/.virtualenvs/fledge/lib/python3.6/site-packages/fledge/component/collaborator/collaborator.py\"><span style=\"color: #7f7f7f\">collaborator.py</span></a><span style=\"color: #7f7f7f\">:318</span>\n",
       "</pre>\n"
      ],
      "text/plain": [
       "<rich.jupyter.JupyterRenderable at 0x7f96aa57a2e8>"
      ]
     },
     "metadata": {},
     "output_type": "display_data"
    },
    {
     "data": {
      "text/html": [
       "<pre style=\"white-space:pre;overflow-x:auto;line-height:normal;font-family:Menlo,'DejaVu Sans Mono',consolas,'Courier New',monospace\"><span style=\"color: #7fbfbf\">           </span><span style=\"color: #000080\">INFO</span>     Collaborator one is sending task results for train, round <span style=\"color: #000080; font-weight: bold\">3</span>                                                                <a href=\"file:///home/itrushkin/.virtualenvs/fledge/lib/python3.6/site-packages/fledge/component/aggregator/aggregator.py\"><span style=\"color: #7f7f7f\">aggregator.py</span></a><span style=\"color: #7f7f7f\">:369</span>\n",
       "</pre>\n"
      ],
      "text/plain": [
       "<rich.jupyter.JupyterRenderable at 0x7f96aa9ad978>"
      ]
     },
     "metadata": {},
     "output_type": "display_data"
    },
    {
     "name": "stdout",
     "output_type": "stream",
     "text": [
      "FastEstimator-Test: step: 782; epoch: 2; clean_accuracy: 0.707; adversarial_accuracy: 0.495; \n"
     ]
    },
    {
     "data": {
      "text/html": [
       "<pre style=\"white-space:pre;overflow-x:auto;line-height:normal;font-family:Menlo,'DejaVu Sans Mono',consolas,'Courier New',monospace\"><span style=\"color: #7fbfbf\">[07:57:55] </span><span style=\"color: #000080\">INFO</span>     Sending metric for task locally_tuned_model_validation, round number <span style=\"color: #000080; font-weight: bold\">3</span>: clean_accuracy  <span style=\"color: #000080; font-weight: bold\">0.707</span>                            <a href=\"file:///home/itrushkin/.virtualenvs/fledge/lib/python3.6/site-packages/fledge/component/collaborator/collaborator.py\"><span style=\"color: #7f7f7f\">collaborator.py</span></a><span style=\"color: #7f7f7f\">:318</span>\n",
       "</pre>\n"
      ],
      "text/plain": [
       "<rich.jupyter.JupyterRenderable at 0x7f96acab39b0>"
      ]
     },
     "metadata": {},
     "output_type": "display_data"
    },
    {
     "data": {
      "text/html": [
       "<pre style=\"white-space:pre;overflow-x:auto;line-height:normal;font-family:Menlo,'DejaVu Sans Mono',consolas,'Courier New',monospace\"><span style=\"color: #7fbfbf\">           </span><span style=\"color: #000080\">INFO</span>     Sending metric for task locally_tuned_model_validation, round number <span style=\"color: #000080; font-weight: bold\">3</span>: adversarial_accuracy    <span style=\"color: #000080; font-weight: bold\">0.495</span>                    <a href=\"file:///home/itrushkin/.virtualenvs/fledge/lib/python3.6/site-packages/fledge/component/collaborator/collaborator.py\"><span style=\"color: #7f7f7f\">collaborator.py</span></a><span style=\"color: #7f7f7f\">:318</span>\n",
       "</pre>\n"
      ],
      "text/plain": [
       "<rich.jupyter.JupyterRenderable at 0x7f96aa590828>"
      ]
     },
     "metadata": {},
     "output_type": "display_data"
    },
    {
     "data": {
      "text/html": [
       "<pre style=\"white-space:pre;overflow-x:auto;line-height:normal;font-family:Menlo,'DejaVu Sans Mono',consolas,'Courier New',monospace\"><span style=\"color: #7fbfbf\">           </span><span style=\"color: #000080\">INFO</span>     Collaborator one is sending task results for locally_tuned_model_validation, round <span style=\"color: #000080; font-weight: bold\">3</span>                                       <a href=\"file:///home/itrushkin/.virtualenvs/fledge/lib/python3.6/site-packages/fledge/component/aggregator/aggregator.py\"><span style=\"color: #7f7f7f\">aggregator.py</span></a><span style=\"color: #7f7f7f\">:369</span>\n",
       "</pre>\n"
      ],
      "text/plain": [
       "<rich.jupyter.JupyterRenderable at 0x7f96acab39b0>"
      ]
     },
     "metadata": {},
     "output_type": "display_data"
    },
    {
     "data": {
      "text/html": [
       "<pre style=\"white-space:pre;overflow-x:auto;line-height:normal;font-family:Menlo,'DejaVu Sans Mono',consolas,'Courier New',monospace\"><span style=\"color: #7fbfbf\">           </span><span style=\"color: #000080\">INFO</span>     All tasks completed on one for round <span style=\"color: #000080; font-weight: bold\">3</span><span style=\"color: #808000\">...</span>                                                                                <a href=\"file:///home/itrushkin/.virtualenvs/fledge/lib/python3.6/site-packages/fledge/component/collaborator/collaborator.py\"><span style=\"color: #7f7f7f\">collaborator.py</span></a><span style=\"color: #7f7f7f\">:158</span>\n",
       "</pre>\n"
      ],
      "text/plain": [
       "<rich.jupyter.JupyterRenderable at 0x7f96aca03e10>"
      ]
     },
     "metadata": {},
     "output_type": "display_data"
    },
    {
     "data": {
      "text/html": [
       "<pre style=\"white-space:pre;overflow-x:auto;line-height:normal;font-family:Menlo,'DejaVu Sans Mono',consolas,'Courier New',monospace\"><span style=\"color: #7fbfbf\">           </span><span style=\"color: #000080\">INFO</span>     Aggregator GetTasks function reached from collaborator two<span style=\"color: #808000\">...</span>                                                              <a href=\"file:///home/itrushkin/.virtualenvs/fledge/lib/python3.6/site-packages/fledge/component/aggregator/aggregator.py\"><span style=\"color: #7f7f7f\">aggregator.py</span></a><span style=\"color: #7f7f7f\">:215</span>\n",
       "</pre>\n"
      ],
      "text/plain": [
       "<rich.jupyter.JupyterRenderable at 0x7f96aa590978>"
      ]
     },
     "metadata": {},
     "output_type": "display_data"
    },
    {
     "data": {
      "text/html": [
       "<pre style=\"white-space:pre;overflow-x:auto;line-height:normal;font-family:Menlo,'DejaVu Sans Mono',consolas,'Courier New',monospace\"><span style=\"color: #7fbfbf\">           </span><span style=\"color: #000080\">INFO</span>     Sending tasks to collaborator two for round <span style=\"color: #000080; font-weight: bold\">3</span>                                                                              <a href=\"file:///home/itrushkin/.virtualenvs/fledge/lib/python3.6/site-packages/fledge/component/aggregator/aggregator.py\"><span style=\"color: #7f7f7f\">aggregator.py</span></a><span style=\"color: #7f7f7f\">:249</span>\n",
       "</pre>\n"
      ],
      "text/plain": [
       "<rich.jupyter.JupyterRenderable at 0x7f96aa590828>"
      ]
     },
     "metadata": {},
     "output_type": "display_data"
    },
    {
     "data": {
      "text/html": [
       "<pre style=\"white-space:pre;overflow-x:auto;line-height:normal;font-family:Menlo,'DejaVu Sans Mono',consolas,'Courier New',monospace\"><span style=\"color: #7fbfbf\">           </span><span style=\"color: #000080\">INFO</span>     Received the following tasks: <span style=\"font-weight: bold\">[</span><span style=\"color: #008000\">'aggregated_model_validation'</span>, <span style=\"color: #008000\">'train'</span>, <span style=\"color: #008000\">'locally_tuned_model_validation'</span><span style=\"font-weight: bold\">]</span>                 <a href=\"file:///home/itrushkin/.virtualenvs/fledge/lib/python3.6/site-packages/fledge/component/collaborator/collaborator.py\"><span style=\"color: #7f7f7f\">collaborator.py</span></a><span style=\"color: #7f7f7f\">:155</span>\n",
       "</pre>\n"
      ],
      "text/plain": [
       "<rich.jupyter.JupyterRenderable at 0x7f96aa57a4a8>"
      ]
     },
     "metadata": {},
     "output_type": "display_data"
    },
    {
     "name": "stdout",
     "output_type": "stream",
     "text": [
      "FastEstimator-Test: step: 782; epoch: 2; clean_accuracy: 0.6876; adversarial_accuracy: 0.4812; \n"
     ]
    },
    {
     "data": {
      "text/html": [
       "<pre style=\"white-space:pre;overflow-x:auto;line-height:normal;font-family:Menlo,'DejaVu Sans Mono',consolas,'Courier New',monospace\"><span style=\"color: #7fbfbf\">[07:57:56] </span><span style=\"color: #000080\">INFO</span>     Sending metric for task aggregated_model_validation, round number <span style=\"color: #000080; font-weight: bold\">3</span>: clean_accuracy     <span style=\"color: #000080; font-weight: bold\">0.6876</span>                           <a href=\"file:///home/itrushkin/.virtualenvs/fledge/lib/python3.6/site-packages/fledge/component/collaborator/collaborator.py\"><span style=\"color: #7f7f7f\">collaborator.py</span></a><span style=\"color: #7f7f7f\">:318</span>\n",
       "</pre>\n"
      ],
      "text/plain": [
       "<rich.jupyter.JupyterRenderable at 0x7f96aa6d7518>"
      ]
     },
     "metadata": {},
     "output_type": "display_data"
    },
    {
     "data": {
      "text/html": [
       "<pre style=\"white-space:pre;overflow-x:auto;line-height:normal;font-family:Menlo,'DejaVu Sans Mono',consolas,'Courier New',monospace\"><span style=\"color: #7fbfbf\">           </span><span style=\"color: #000080\">INFO</span>     Sending metric for task aggregated_model_validation, round number <span style=\"color: #000080; font-weight: bold\">3</span>: adversarial_accuracy       <span style=\"color: #000080; font-weight: bold\">0.4812</span>                   <a href=\"file:///home/itrushkin/.virtualenvs/fledge/lib/python3.6/site-packages/fledge/component/collaborator/collaborator.py\"><span style=\"color: #7f7f7f\">collaborator.py</span></a><span style=\"color: #7f7f7f\">:318</span>\n",
       "</pre>\n"
      ],
      "text/plain": [
       "<rich.jupyter.JupyterRenderable at 0x7f96aa6d7940>"
      ]
     },
     "metadata": {},
     "output_type": "display_data"
    },
    {
     "data": {
      "text/html": [
       "<pre style=\"white-space:pre;overflow-x:auto;line-height:normal;font-family:Menlo,'DejaVu Sans Mono',consolas,'Courier New',monospace\"><span style=\"color: #7fbfbf\">           </span><span style=\"color: #000080\">INFO</span>     Collaborator two is sending task results for aggregated_model_validation, round <span style=\"color: #000080; font-weight: bold\">3</span>                                          <a href=\"file:///home/itrushkin/.virtualenvs/fledge/lib/python3.6/site-packages/fledge/component/aggregator/aggregator.py\"><span style=\"color: #7f7f7f\">aggregator.py</span></a><span style=\"color: #7f7f7f\">:369</span>\n",
       "</pre>\n"
      ],
      "text/plain": [
       "<rich.jupyter.JupyterRenderable at 0x7f96aa6d7e10>"
      ]
     },
     "metadata": {},
     "output_type": "display_data"
    },
    {
     "name": "stdout",
     "output_type": "stream",
     "text": [
      "    ______           __  ______     __  _                 __            \n",
      "   / ____/___ ______/ /_/ ____/____/ /_(_)___ ___  ____ _/ /_____  _____\n",
      "  / /_  / __ `/ ___/ __/ __/ / ___/ __/ / __ `__ \\/ __ `/ __/ __ \\/ ___/\n",
      " / __/ / /_/ (__  ) /_/ /___(__  ) /_/ / / / / / / /_/ / /_/ /_/ / /    \n",
      "/_/    \\__,_/____/\\__/_____/____/\\__/_/_/ /_/ /_/\\__,_/\\__/\\____/_/     \n",
      "                                                                        \n",
      "\n",
      "FastEstimator-Warn: No ModelSaver Trace detected. Models will not be saved.\n",
      "FastEstimator-Start: step: 1; num_device: 3; logging_interval: 1000; \n",
      "FastEstimator-Train: step: 1; base_ce: 0.7884662; avg_ce: 1.0234149; adv_ce: 1.2583635; \n",
      "FastEstimator-Train: step: 391; epoch: 1; epoch_time: 11.07 sec; \n",
      "FastEstimator-Eval: step: 391; epoch: 1; base_ce: 0.91694736; avg_ce: 1.1727718; adv_ce: 1.4285961; clean_accuracy: 0.6874; adversarial_accuracy: 0.4728; \n",
      "FastEstimator-Train: step: 782; epoch: 2; epoch_time: 11.18 sec; \n",
      "FastEstimator-Eval: step: 782; epoch: 2; base_ce: 0.87421405; avg_ce: 1.1385705; adv_ce: 1.4029272; clean_accuracy: 0.707; adversarial_accuracy: 0.4828; \n",
      "FastEstimator-Finish: step: 782; total_time: 26.67 sec; adv_model_lr: 0.001; \n"
     ]
    },
    {
     "data": {
      "text/html": [
       "<pre style=\"white-space:pre;overflow-x:auto;line-height:normal;font-family:Menlo,'DejaVu Sans Mono',consolas,'Courier New',monospace\"><span style=\"color: #7fbfbf\">[07:58:25] </span><span style=\"color: #000080\">INFO</span>     Sending metric for task train, round number <span style=\"color: #000080; font-weight: bold\">3</span>: adv_ce   <span style=\"color: #000080; font-weight: bold\">1.2583634853363037</span>                                               <a href=\"file:///home/itrushkin/.virtualenvs/fledge/lib/python3.6/site-packages/fledge/component/collaborator/collaborator.py\"><span style=\"color: #7f7f7f\">collaborator.py</span></a><span style=\"color: #7f7f7f\">:318</span>\n",
       "</pre>\n"
      ],
      "text/plain": [
       "<rich.jupyter.JupyterRenderable at 0x7f96aa6d7e10>"
      ]
     },
     "metadata": {},
     "output_type": "display_data"
    },
    {
     "data": {
      "text/html": [
       "<pre style=\"white-space:pre;overflow-x:auto;line-height:normal;font-family:Menlo,'DejaVu Sans Mono',consolas,'Courier New',monospace\"><span style=\"color: #7fbfbf\">           </span><span style=\"color: #000080\">INFO</span>     Sending metric for task train, round number <span style=\"color: #000080; font-weight: bold\">3</span>: base_ce  <span style=\"color: #000080; font-weight: bold\">0.788466215133667</span>                                                <a href=\"file:///home/itrushkin/.virtualenvs/fledge/lib/python3.6/site-packages/fledge/component/collaborator/collaborator.py\"><span style=\"color: #7f7f7f\">collaborator.py</span></a><span style=\"color: #7f7f7f\">:318</span>\n",
       "</pre>\n"
      ],
      "text/plain": [
       "<rich.jupyter.JupyterRenderable at 0x7f96aa6d7710>"
      ]
     },
     "metadata": {},
     "output_type": "display_data"
    },
    {
     "data": {
      "text/html": [
       "<pre style=\"white-space:pre;overflow-x:auto;line-height:normal;font-family:Menlo,'DejaVu Sans Mono',consolas,'Courier New',monospace\"><span style=\"color: #7fbfbf\">           </span><span style=\"color: #000080\">INFO</span>     Collaborator two is sending task results for train, round <span style=\"color: #000080; font-weight: bold\">3</span>                                                                <a href=\"file:///home/itrushkin/.virtualenvs/fledge/lib/python3.6/site-packages/fledge/component/aggregator/aggregator.py\"><span style=\"color: #7f7f7f\">aggregator.py</span></a><span style=\"color: #7f7f7f\">:369</span>\n",
       "</pre>\n"
      ],
      "text/plain": [
       "<rich.jupyter.JupyterRenderable at 0x7f96aa6d7710>"
      ]
     },
     "metadata": {},
     "output_type": "display_data"
    },
    {
     "name": "stdout",
     "output_type": "stream",
     "text": [
      "FastEstimator-Test: step: 782; epoch: 2; clean_accuracy: 0.6936; adversarial_accuracy: 0.4778; \n"
     ]
    },
    {
     "data": {
      "text/html": [
       "<pre style=\"white-space:pre;overflow-x:auto;line-height:normal;font-family:Menlo,'DejaVu Sans Mono',consolas,'Courier New',monospace\"><span style=\"color: #7fbfbf\">[07:58:26] </span><span style=\"color: #000080\">INFO</span>     Sending metric for task locally_tuned_model_validation, round number <span style=\"color: #000080; font-weight: bold\">3</span>: clean_accuracy  <span style=\"color: #000080; font-weight: bold\">0.6936</span>                           <a href=\"file:///home/itrushkin/.virtualenvs/fledge/lib/python3.6/site-packages/fledge/component/collaborator/collaborator.py\"><span style=\"color: #7f7f7f\">collaborator.py</span></a><span style=\"color: #7f7f7f\">:318</span>\n",
       "</pre>\n"
      ],
      "text/plain": [
       "<rich.jupyter.JupyterRenderable at 0x7f96aa98a438>"
      ]
     },
     "metadata": {},
     "output_type": "display_data"
    },
    {
     "data": {
      "text/html": [
       "<pre style=\"white-space:pre;overflow-x:auto;line-height:normal;font-family:Menlo,'DejaVu Sans Mono',consolas,'Courier New',monospace\"><span style=\"color: #7fbfbf\">           </span><span style=\"color: #000080\">INFO</span>     Sending metric for task locally_tuned_model_validation, round number <span style=\"color: #000080; font-weight: bold\">3</span>: adversarial_accuracy    <span style=\"color: #000080; font-weight: bold\">0.4778</span>                   <a href=\"file:///home/itrushkin/.virtualenvs/fledge/lib/python3.6/site-packages/fledge/component/collaborator/collaborator.py\"><span style=\"color: #7f7f7f\">collaborator.py</span></a><span style=\"color: #7f7f7f\">:318</span>\n",
       "</pre>\n"
      ],
      "text/plain": [
       "<rich.jupyter.JupyterRenderable at 0x7f96aa98a438>"
      ]
     },
     "metadata": {},
     "output_type": "display_data"
    },
    {
     "data": {
      "text/html": [
       "<pre style=\"white-space:pre;overflow-x:auto;line-height:normal;font-family:Menlo,'DejaVu Sans Mono',consolas,'Courier New',monospace\"><span style=\"color: #7fbfbf\">           </span><span style=\"color: #000080\">INFO</span>     Collaborator two is sending task results for locally_tuned_model_validation, round <span style=\"color: #000080; font-weight: bold\">3</span>                                       <a href=\"file:///home/itrushkin/.virtualenvs/fledge/lib/python3.6/site-packages/fledge/component/aggregator/aggregator.py\"><span style=\"color: #7f7f7f\">aggregator.py</span></a><span style=\"color: #7f7f7f\">:369</span>\n",
       "</pre>\n"
      ],
      "text/plain": [
       "<rich.jupyter.JupyterRenderable at 0x7f96aa994d30>"
      ]
     },
     "metadata": {},
     "output_type": "display_data"
    },
    {
     "data": {
      "text/html": [
       "<pre style=\"white-space:pre;overflow-x:auto;line-height:normal;font-family:Menlo,'DejaVu Sans Mono',consolas,'Courier New',monospace\"><span style=\"color: #7fbfbf\">           </span><span style=\"color: #000080\">INFO</span>     train task metrics<span style=\"color: #808000\">...</span>                                                                                                      <a href=\"file:///home/itrushkin/.virtualenvs/fledge/lib/python3.6/site-packages/fledge/component/aggregator/aggregator.py\"><span style=\"color: #7f7f7f\">aggregator.py</span></a><span style=\"color: #7f7f7f\">:505</span>\n",
       "</pre>\n"
      ],
      "text/plain": [
       "<rich.jupyter.JupyterRenderable at 0x7f96aa98a4a8>"
      ]
     },
     "metadata": {},
     "output_type": "display_data"
    },
    {
     "data": {
      "text/html": [
       "<pre style=\"white-space:pre;overflow-x:auto;line-height:normal;font-family:Menlo,'DejaVu Sans Mono',consolas,'Courier New',monospace\"><span style=\"color: #7fbfbf\">           </span><span style=\"color: #000080\">INFO</span>     adv_ce: <span style=\"color: #000080; font-weight: bold\">1.2608</span>                                                                                                             <a href=\"file:///home/itrushkin/.virtualenvs/fledge/lib/python3.6/site-packages/fledge/component/aggregator/aggregator.py\"><span style=\"color: #7f7f7f\">aggregator.py</span></a><span style=\"color: #7f7f7f\">:539</span>\n",
       "</pre>\n"
      ],
      "text/plain": [
       "<rich.jupyter.JupyterRenderable at 0x7f96aa54f160>"
      ]
     },
     "metadata": {},
     "output_type": "display_data"
    },
    {
     "data": {
      "text/html": [
       "<pre style=\"white-space:pre;overflow-x:auto;line-height:normal;font-family:Menlo,'DejaVu Sans Mono',consolas,'Courier New',monospace\"><span style=\"color: #7fbfbf\">           </span><span style=\"color: #000080\">INFO</span>     base_ce:        <span style=\"color: #000080; font-weight: bold\">0.8137</span>                                                                                                     <a href=\"file:///home/itrushkin/.virtualenvs/fledge/lib/python3.6/site-packages/fledge/component/aggregator/aggregator.py\"><span style=\"color: #7f7f7f\">aggregator.py</span></a><span style=\"color: #7f7f7f\">:539</span>\n",
       "</pre>\n"
      ],
      "text/plain": [
       "<rich.jupyter.JupyterRenderable at 0x7f96aa54f1d0>"
      ]
     },
     "metadata": {},
     "output_type": "display_data"
    },
    {
     "data": {
      "text/html": [
       "<pre style=\"white-space:pre;overflow-x:auto;line-height:normal;font-family:Menlo,'DejaVu Sans Mono',consolas,'Courier New',monospace\"><span style=\"color: #7fbfbf\">           </span><span style=\"color: #000080\">INFO</span>     locally_tuned_model_validation task metrics<span style=\"color: #808000\">...</span>                                                                             <a href=\"file:///home/itrushkin/.virtualenvs/fledge/lib/python3.6/site-packages/fledge/component/aggregator/aggregator.py\"><span style=\"color: #7f7f7f\">aggregator.py</span></a><span style=\"color: #7f7f7f\">:505</span>\n",
       "</pre>\n"
      ],
      "text/plain": [
       "<rich.jupyter.JupyterRenderable at 0x7f96aa54fe80>"
      ]
     },
     "metadata": {},
     "output_type": "display_data"
    },
    {
     "data": {
      "text/html": [
       "<pre style=\"white-space:pre;overflow-x:auto;line-height:normal;font-family:Menlo,'DejaVu Sans Mono',consolas,'Courier New',monospace\"><span style=\"color: #7fbfbf\">           </span><span style=\"color: #000080\">INFO</span>     clean_accuracy: <span style=\"color: #000080; font-weight: bold\">0.7003</span>                                                                                                     <a href=\"file:///home/itrushkin/.virtualenvs/fledge/lib/python3.6/site-packages/fledge/component/aggregator/aggregator.py\"><span style=\"color: #7f7f7f\">aggregator.py</span></a><span style=\"color: #7f7f7f\">:539</span>\n",
       "</pre>\n"
      ],
      "text/plain": [
       "<rich.jupyter.JupyterRenderable at 0x7f96aa54feb8>"
      ]
     },
     "metadata": {},
     "output_type": "display_data"
    },
    {
     "data": {
      "text/html": [
       "<pre style=\"white-space:pre;overflow-x:auto;line-height:normal;font-family:Menlo,'DejaVu Sans Mono',consolas,'Courier New',monospace\"><span style=\"color: #7fbfbf\">           </span><span style=\"color: #000080\">INFO</span>     adversarial_accuracy:   <span style=\"color: #000080; font-weight: bold\">0.4864</span>                                                                                             <a href=\"file:///home/itrushkin/.virtualenvs/fledge/lib/python3.6/site-packages/fledge/component/aggregator/aggregator.py\"><span style=\"color: #7f7f7f\">aggregator.py</span></a><span style=\"color: #7f7f7f\">:539</span>\n",
       "</pre>\n"
      ],
      "text/plain": [
       "<rich.jupyter.JupyterRenderable at 0x7f96aa54fe48>"
      ]
     },
     "metadata": {},
     "output_type": "display_data"
    },
    {
     "data": {
      "text/html": [
       "<pre style=\"white-space:pre;overflow-x:auto;line-height:normal;font-family:Menlo,'DejaVu Sans Mono',consolas,'Courier New',monospace\"><span style=\"color: #7fbfbf\">           </span><span style=\"color: #000080\">INFO</span>     aggregated_model_validation task metrics<span style=\"color: #808000\">...</span>                                                                                <a href=\"file:///home/itrushkin/.virtualenvs/fledge/lib/python3.6/site-packages/fledge/component/aggregator/aggregator.py\"><span style=\"color: #7f7f7f\">aggregator.py</span></a><span style=\"color: #7f7f7f\">:505</span>\n",
       "</pre>\n"
      ],
      "text/plain": [
       "<rich.jupyter.JupyterRenderable at 0x7f96aa98a278>"
      ]
     },
     "metadata": {},
     "output_type": "display_data"
    },
    {
     "data": {
      "text/html": [
       "<pre style=\"white-space:pre;overflow-x:auto;line-height:normal;font-family:Menlo,'DejaVu Sans Mono',consolas,'Courier New',monospace\"><span style=\"color: #7fbfbf\">[07:58:27] </span><span style=\"color: #000080\">INFO</span>     clean_accuracy: <span style=\"color: #000080; font-weight: bold\">0.6876</span>                                                                                                     <a href=\"file:///home/itrushkin/.virtualenvs/fledge/lib/python3.6/site-packages/fledge/component/aggregator/aggregator.py\"><span style=\"color: #7f7f7f\">aggregator.py</span></a><span style=\"color: #7f7f7f\">:539</span>\n",
       "</pre>\n"
      ],
      "text/plain": [
       "<rich.jupyter.JupyterRenderable at 0x7f96aa98a2e8>"
      ]
     },
     "metadata": {},
     "output_type": "display_data"
    },
    {
     "data": {
      "text/html": [
       "<pre style=\"white-space:pre;overflow-x:auto;line-height:normal;font-family:Menlo,'DejaVu Sans Mono',consolas,'Courier New',monospace\"><span style=\"color: #7fbfbf\">           </span><span style=\"color: #000080\">INFO</span>     Saved the best model with score <span style=\"color: #000080; font-weight: bold\">0.687600</span>                                                                                   <a href=\"file:///home/itrushkin/.virtualenvs/fledge/lib/python3.6/site-packages/fledge/component/aggregator/aggregator.py\"><span style=\"color: #7f7f7f\">aggregator.py</span></a><span style=\"color: #7f7f7f\">:546</span>\n",
       "</pre>\n"
      ],
      "text/plain": [
       "<rich.jupyter.JupyterRenderable at 0x7f96aa98a2e8>"
      ]
     },
     "metadata": {},
     "output_type": "display_data"
    },
    {
     "data": {
      "text/html": [
       "<pre style=\"white-space:pre;overflow-x:auto;line-height:normal;font-family:Menlo,'DejaVu Sans Mono',consolas,'Courier New',monospace\"><span style=\"color: #7fbfbf\">           </span><span style=\"color: #000080\">INFO</span>     adversarial_accuracy:   <span style=\"color: #000080; font-weight: bold\">0.4812</span>                                                                                             <a href=\"file:///home/itrushkin/.virtualenvs/fledge/lib/python3.6/site-packages/fledge/component/aggregator/aggregator.py\"><span style=\"color: #7f7f7f\">aggregator.py</span></a><span style=\"color: #7f7f7f\">:539</span>\n",
       "</pre>\n"
      ],
      "text/plain": [
       "<rich.jupyter.JupyterRenderable at 0x7f96aa98a048>"
      ]
     },
     "metadata": {},
     "output_type": "display_data"
    },
    {
     "data": {
      "text/html": [
       "<pre style=\"white-space:pre;overflow-x:auto;line-height:normal;font-family:Menlo,'DejaVu Sans Mono',consolas,'Courier New',monospace\"><span style=\"color: #7fbfbf\">           </span><span style=\"color: #000080\">INFO</span>     Saving round <span style=\"color: #000080; font-weight: bold\">4</span> model<span style=\"color: #808000\">...</span>                                                                                                    <a href=\"file:///home/itrushkin/.virtualenvs/fledge/lib/python3.6/site-packages/fledge/component/aggregator/aggregator.py\"><span style=\"color: #7f7f7f\">aggregator.py</span></a><span style=\"color: #7f7f7f\">:602</span>\n",
       "</pre>\n"
      ],
      "text/plain": [
       "<rich.jupyter.JupyterRenderable at 0x7f96aa54f898>"
      ]
     },
     "metadata": {},
     "output_type": "display_data"
    },
    {
     "data": {
      "text/html": [
       "<pre style=\"white-space:pre;overflow-x:auto;line-height:normal;font-family:Menlo,'DejaVu Sans Mono',consolas,'Courier New',monospace\"><span style=\"color: #7fbfbf\">           </span><span style=\"color: #000080\">INFO</span>     Starting round <span style=\"color: #000080; font-weight: bold\">4</span><span style=\"color: #808000\">...</span>                                                                                                        <a href=\"file:///home/itrushkin/.virtualenvs/fledge/lib/python3.6/site-packages/fledge/component/aggregator/aggregator.py\"><span style=\"color: #7f7f7f\">aggregator.py</span></a><span style=\"color: #7f7f7f\">:610</span>\n",
       "</pre>\n"
      ],
      "text/plain": [
       "<rich.jupyter.JupyterRenderable at 0x7f96aa994978>"
      ]
     },
     "metadata": {},
     "output_type": "display_data"
    },
    {
     "data": {
      "text/html": [
       "<pre style=\"white-space:pre;overflow-x:auto;line-height:normal;font-family:Menlo,'DejaVu Sans Mono',consolas,'Courier New',monospace\"><span style=\"color: #7fbfbf\">           </span><span style=\"color: #000080\">INFO</span>     All tasks completed on two for round <span style=\"color: #000080; font-weight: bold\">3</span><span style=\"color: #808000\">...</span>                                                                                <a href=\"file:///home/itrushkin/.virtualenvs/fledge/lib/python3.6/site-packages/fledge/component/collaborator/collaborator.py\"><span style=\"color: #7f7f7f\">collaborator.py</span></a><span style=\"color: #7f7f7f\">:158</span>\n",
       "</pre>\n"
      ],
      "text/plain": [
       "<rich.jupyter.JupyterRenderable at 0x7f96aa54f1d0>"
      ]
     },
     "metadata": {},
     "output_type": "display_data"
    },
    {
     "data": {
      "text/html": [
       "<pre style=\"white-space:pre;overflow-x:auto;line-height:normal;font-family:Menlo,'DejaVu Sans Mono',consolas,'Courier New',monospace\"><span style=\"color: #7fbfbf\">           </span><span style=\"color: #000080\">INFO</span>     Aggregator GetTasks function reached from collaborator one<span style=\"color: #808000\">...</span>                                                              <a href=\"file:///home/itrushkin/.virtualenvs/fledge/lib/python3.6/site-packages/fledge/component/aggregator/aggregator.py\"><span style=\"color: #7f7f7f\">aggregator.py</span></a><span style=\"color: #7f7f7f\">:215</span>\n",
       "</pre>\n"
      ],
      "text/plain": [
       "<rich.jupyter.JupyterRenderable at 0x7f96aa994470>"
      ]
     },
     "metadata": {},
     "output_type": "display_data"
    },
    {
     "data": {
      "text/html": [
       "<pre style=\"white-space:pre;overflow-x:auto;line-height:normal;font-family:Menlo,'DejaVu Sans Mono',consolas,'Courier New',monospace\"><span style=\"color: #7fbfbf\">           </span><span style=\"color: #000080\">INFO</span>     Sending tasks to collaborator one for round <span style=\"color: #000080; font-weight: bold\">4</span>                                                                              <a href=\"file:///home/itrushkin/.virtualenvs/fledge/lib/python3.6/site-packages/fledge/component/aggregator/aggregator.py\"><span style=\"color: #7f7f7f\">aggregator.py</span></a><span style=\"color: #7f7f7f\">:249</span>\n",
       "</pre>\n"
      ],
      "text/plain": [
       "<rich.jupyter.JupyterRenderable at 0x7f96aa54f898>"
      ]
     },
     "metadata": {},
     "output_type": "display_data"
    },
    {
     "data": {
      "text/html": [
       "<pre style=\"white-space:pre;overflow-x:auto;line-height:normal;font-family:Menlo,'DejaVu Sans Mono',consolas,'Courier New',monospace\"><span style=\"color: #7fbfbf\">           </span><span style=\"color: #000080\">INFO</span>     Received the following tasks: <span style=\"font-weight: bold\">[</span><span style=\"color: #008000\">'aggregated_model_validation'</span>, <span style=\"color: #008000\">'train'</span>, <span style=\"color: #008000\">'locally_tuned_model_validation'</span><span style=\"font-weight: bold\">]</span>                 <a href=\"file:///home/itrushkin/.virtualenvs/fledge/lib/python3.6/site-packages/fledge/component/collaborator/collaborator.py\"><span style=\"color: #7f7f7f\">collaborator.py</span></a><span style=\"color: #7f7f7f\">:155</span>\n",
       "</pre>\n"
      ],
      "text/plain": [
       "<rich.jupyter.JupyterRenderable at 0x7f96aa994978>"
      ]
     },
     "metadata": {},
     "output_type": "display_data"
    },
    {
     "name": "stdout",
     "output_type": "stream",
     "text": [
      "FastEstimator-Test: step: 782; epoch: 2; clean_accuracy: 0.7068; adversarial_accuracy: 0.496; \n"
     ]
    },
    {
     "data": {
      "text/html": [
       "<pre style=\"white-space:pre;overflow-x:auto;line-height:normal;font-family:Menlo,'DejaVu Sans Mono',consolas,'Courier New',monospace\"><span style=\"color: #7fbfbf\">[07:58:28] </span><span style=\"color: #000080\">INFO</span>     Sending metric for task aggregated_model_validation, round number <span style=\"color: #000080; font-weight: bold\">4</span>: clean_accuracy     <span style=\"color: #000080; font-weight: bold\">0.7068</span>                           <a href=\"file:///home/itrushkin/.virtualenvs/fledge/lib/python3.6/site-packages/fledge/component/collaborator/collaborator.py\"><span style=\"color: #7f7f7f\">collaborator.py</span></a><span style=\"color: #7f7f7f\">:318</span>\n",
       "</pre>\n"
      ],
      "text/plain": [
       "<rich.jupyter.JupyterRenderable at 0x7f96aa9940b8>"
      ]
     },
     "metadata": {},
     "output_type": "display_data"
    },
    {
     "data": {
      "text/html": [
       "<pre style=\"white-space:pre;overflow-x:auto;line-height:normal;font-family:Menlo,'DejaVu Sans Mono',consolas,'Courier New',monospace\"><span style=\"color: #7fbfbf\">           </span><span style=\"color: #000080\">INFO</span>     Sending metric for task aggregated_model_validation, round number <span style=\"color: #000080; font-weight: bold\">4</span>: adversarial_accuracy       <span style=\"color: #000080; font-weight: bold\">0.496</span>                    <a href=\"file:///home/itrushkin/.virtualenvs/fledge/lib/python3.6/site-packages/fledge/component/collaborator/collaborator.py\"><span style=\"color: #7f7f7f\">collaborator.py</span></a><span style=\"color: #7f7f7f\">:318</span>\n",
       "</pre>\n"
      ],
      "text/plain": [
       "<rich.jupyter.JupyterRenderable at 0x7f96aa994208>"
      ]
     },
     "metadata": {},
     "output_type": "display_data"
    },
    {
     "data": {
      "text/html": [
       "<pre style=\"white-space:pre;overflow-x:auto;line-height:normal;font-family:Menlo,'DejaVu Sans Mono',consolas,'Courier New',monospace\"><span style=\"color: #7fbfbf\">           </span><span style=\"color: #000080\">INFO</span>     Collaborator one is sending task results for aggregated_model_validation, round <span style=\"color: #000080; font-weight: bold\">4</span>                                          <a href=\"file:///home/itrushkin/.virtualenvs/fledge/lib/python3.6/site-packages/fledge/component/aggregator/aggregator.py\"><span style=\"color: #7f7f7f\">aggregator.py</span></a><span style=\"color: #7f7f7f\">:369</span>\n",
       "</pre>\n"
      ],
      "text/plain": [
       "<rich.jupyter.JupyterRenderable at 0x7f96aa9940b8>"
      ]
     },
     "metadata": {},
     "output_type": "display_data"
    },
    {
     "name": "stdout",
     "output_type": "stream",
     "text": [
      "    ______           __  ______     __  _                 __            \n",
      "   / ____/___ ______/ /_/ ____/____/ /_(_)___ ___  ____ _/ /_____  _____\n",
      "  / /_  / __ `/ ___/ __/ __/ / ___/ __/ / __ `__ \\/ __ `/ __/ __ \\/ ___/\n",
      " / __/ / /_/ (__  ) /_/ /___(__  ) /_/ / / / / / / /_/ / /_/ /_/ / /    \n",
      "/_/    \\__,_/____/\\__/_____/____/\\__/_/_/ /_/ /_/\\__,_/\\__/\\____/_/     \n",
      "                                                                        \n",
      "\n",
      "FastEstimator-Warn: No ModelSaver Trace detected. Models will not be saved.\n",
      "FastEstimator-Start: step: 1; num_device: 3; logging_interval: 1000; \n",
      "FastEstimator-Train: step: 1; base_ce: 0.7421321; avg_ce: 1.0012614; adv_ce: 1.2603905; \n",
      "FastEstimator-Train: step: 391; epoch: 1; epoch_time: 10.92 sec; \n",
      "FastEstimator-Eval: step: 391; epoch: 1; base_ce: 0.8529232; avg_ce: 1.1246097; adv_ce: 1.3962961; clean_accuracy: 0.7094; adversarial_accuracy: 0.4864; \n",
      "FastEstimator-Train: step: 782; epoch: 2; epoch_time: 11.27 sec; \n",
      "FastEstimator-Eval: step: 782; epoch: 2; base_ce: 0.8390564; avg_ce: 1.1154451; adv_ce: 1.391834; clean_accuracy: 0.712; adversarial_accuracy: 0.4918; \n",
      "FastEstimator-Finish: step: 782; total_time: 26.8 sec; adv_model_lr: 0.001; \n"
     ]
    },
    {
     "data": {
      "text/html": [
       "<pre style=\"white-space:pre;overflow-x:auto;line-height:normal;font-family:Menlo,'DejaVu Sans Mono',consolas,'Courier New',monospace\"><span style=\"color: #7fbfbf\">[07:58:56] </span><span style=\"color: #000080\">INFO</span>     Sending metric for task train, round number <span style=\"color: #000080; font-weight: bold\">4</span>: adv_ce   <span style=\"color: #000080; font-weight: bold\">1.2603905200958252</span>                                               <a href=\"file:///home/itrushkin/.virtualenvs/fledge/lib/python3.6/site-packages/fledge/component/collaborator/collaborator.py\"><span style=\"color: #7f7f7f\">collaborator.py</span></a><span style=\"color: #7f7f7f\">:318</span>\n",
       "</pre>\n"
      ],
      "text/plain": [
       "<rich.jupyter.JupyterRenderable at 0x7f96aca03b00>"
      ]
     },
     "metadata": {},
     "output_type": "display_data"
    },
    {
     "data": {
      "text/html": [
       "<pre style=\"white-space:pre;overflow-x:auto;line-height:normal;font-family:Menlo,'DejaVu Sans Mono',consolas,'Courier New',monospace\"><span style=\"color: #7fbfbf\">           </span><span style=\"color: #000080\">INFO</span>     Sending metric for task train, round number <span style=\"color: #000080; font-weight: bold\">4</span>: base_ce  <span style=\"color: #000080; font-weight: bold\">0.7421321272850037</span>                                               <a href=\"file:///home/itrushkin/.virtualenvs/fledge/lib/python3.6/site-packages/fledge/component/collaborator/collaborator.py\"><span style=\"color: #7f7f7f\">collaborator.py</span></a><span style=\"color: #7f7f7f\">:318</span>\n",
       "</pre>\n"
      ],
      "text/plain": [
       "<rich.jupyter.JupyterRenderable at 0x7f96aca03b00>"
      ]
     },
     "metadata": {},
     "output_type": "display_data"
    },
    {
     "data": {
      "text/html": [
       "<pre style=\"white-space:pre;overflow-x:auto;line-height:normal;font-family:Menlo,'DejaVu Sans Mono',consolas,'Courier New',monospace\"><span style=\"color: #7fbfbf\">           </span><span style=\"color: #000080\">INFO</span>     Collaborator one is sending task results for train, round <span style=\"color: #000080; font-weight: bold\">4</span>                                                                <a href=\"file:///home/itrushkin/.virtualenvs/fledge/lib/python3.6/site-packages/fledge/component/aggregator/aggregator.py\"><span style=\"color: #7f7f7f\">aggregator.py</span></a><span style=\"color: #7f7f7f\">:369</span>\n",
       "</pre>\n"
      ],
      "text/plain": [
       "<rich.jupyter.JupyterRenderable at 0x7f96aca03ac8>"
      ]
     },
     "metadata": {},
     "output_type": "display_data"
    },
    {
     "name": "stdout",
     "output_type": "stream",
     "text": [
      "FastEstimator-Test: step: 782; epoch: 2; clean_accuracy: 0.7054; adversarial_accuracy: 0.4868; \n"
     ]
    },
    {
     "data": {
      "text/html": [
       "<pre style=\"white-space:pre;overflow-x:auto;line-height:normal;font-family:Menlo,'DejaVu Sans Mono',consolas,'Courier New',monospace\"><span style=\"color: #7fbfbf\">[07:58:58] </span><span style=\"color: #000080\">INFO</span>     Sending metric for task locally_tuned_model_validation, round number <span style=\"color: #000080; font-weight: bold\">4</span>: clean_accuracy  <span style=\"color: #000080; font-weight: bold\">0.7054</span>                           <a href=\"file:///home/itrushkin/.virtualenvs/fledge/lib/python3.6/site-packages/fledge/component/collaborator/collaborator.py\"><span style=\"color: #7f7f7f\">collaborator.py</span></a><span style=\"color: #7f7f7f\">:318</span>\n",
       "</pre>\n"
      ],
      "text/plain": [
       "<rich.jupyter.JupyterRenderable at 0x7f96aa9aa550>"
      ]
     },
     "metadata": {},
     "output_type": "display_data"
    },
    {
     "data": {
      "text/html": [
       "<pre style=\"white-space:pre;overflow-x:auto;line-height:normal;font-family:Menlo,'DejaVu Sans Mono',consolas,'Courier New',monospace\"><span style=\"color: #7fbfbf\">           </span><span style=\"color: #000080\">INFO</span>     Sending metric for task locally_tuned_model_validation, round number <span style=\"color: #000080; font-weight: bold\">4</span>: adversarial_accuracy    <span style=\"color: #000080; font-weight: bold\">0.4868</span>                   <a href=\"file:///home/itrushkin/.virtualenvs/fledge/lib/python3.6/site-packages/fledge/component/collaborator/collaborator.py\"><span style=\"color: #7f7f7f\">collaborator.py</span></a><span style=\"color: #7f7f7f\">:318</span>\n",
       "</pre>\n"
      ],
      "text/plain": [
       "<rich.jupyter.JupyterRenderable at 0x7f96aa9aa550>"
      ]
     },
     "metadata": {},
     "output_type": "display_data"
    },
    {
     "data": {
      "text/html": [
       "<pre style=\"white-space:pre;overflow-x:auto;line-height:normal;font-family:Menlo,'DejaVu Sans Mono',consolas,'Courier New',monospace\"><span style=\"color: #7fbfbf\">           </span><span style=\"color: #000080\">INFO</span>     Collaborator one is sending task results for locally_tuned_model_validation, round <span style=\"color: #000080; font-weight: bold\">4</span>                                       <a href=\"file:///home/itrushkin/.virtualenvs/fledge/lib/python3.6/site-packages/fledge/component/aggregator/aggregator.py\"><span style=\"color: #7f7f7f\">aggregator.py</span></a><span style=\"color: #7f7f7f\">:369</span>\n",
       "</pre>\n"
      ],
      "text/plain": [
       "<rich.jupyter.JupyterRenderable at 0x7f96aa9aa550>"
      ]
     },
     "metadata": {},
     "output_type": "display_data"
    },
    {
     "data": {
      "text/html": [
       "<pre style=\"white-space:pre;overflow-x:auto;line-height:normal;font-family:Menlo,'DejaVu Sans Mono',consolas,'Courier New',monospace\"><span style=\"color: #7fbfbf\">           </span><span style=\"color: #000080\">INFO</span>     All tasks completed on one for round <span style=\"color: #000080; font-weight: bold\">4</span><span style=\"color: #808000\">...</span>                                                                                <a href=\"file:///home/itrushkin/.virtualenvs/fledge/lib/python3.6/site-packages/fledge/component/collaborator/collaborator.py\"><span style=\"color: #7f7f7f\">collaborator.py</span></a><span style=\"color: #7f7f7f\">:158</span>\n",
       "</pre>\n"
      ],
      "text/plain": [
       "<rich.jupyter.JupyterRenderable at 0x7f96aa6d8c18>"
      ]
     },
     "metadata": {},
     "output_type": "display_data"
    },
    {
     "data": {
      "text/html": [
       "<pre style=\"white-space:pre;overflow-x:auto;line-height:normal;font-family:Menlo,'DejaVu Sans Mono',consolas,'Courier New',monospace\"><span style=\"color: #7fbfbf\">           </span><span style=\"color: #000080\">INFO</span>     Aggregator GetTasks function reached from collaborator two<span style=\"color: #808000\">...</span>                                                              <a href=\"file:///home/itrushkin/.virtualenvs/fledge/lib/python3.6/site-packages/fledge/component/aggregator/aggregator.py\"><span style=\"color: #7f7f7f\">aggregator.py</span></a><span style=\"color: #7f7f7f\">:215</span>\n",
       "</pre>\n"
      ],
      "text/plain": [
       "<rich.jupyter.JupyterRenderable at 0x7f96aa6d8710>"
      ]
     },
     "metadata": {},
     "output_type": "display_data"
    },
    {
     "data": {
      "text/html": [
       "<pre style=\"white-space:pre;overflow-x:auto;line-height:normal;font-family:Menlo,'DejaVu Sans Mono',consolas,'Courier New',monospace\"><span style=\"color: #7fbfbf\">           </span><span style=\"color: #000080\">INFO</span>     Sending tasks to collaborator two for round <span style=\"color: #000080; font-weight: bold\">4</span>                                                                              <a href=\"file:///home/itrushkin/.virtualenvs/fledge/lib/python3.6/site-packages/fledge/component/aggregator/aggregator.py\"><span style=\"color: #7f7f7f\">aggregator.py</span></a><span style=\"color: #7f7f7f\">:249</span>\n",
       "</pre>\n"
      ],
      "text/plain": [
       "<rich.jupyter.JupyterRenderable at 0x7f96aa6d8748>"
      ]
     },
     "metadata": {},
     "output_type": "display_data"
    },
    {
     "data": {
      "text/html": [
       "<pre style=\"white-space:pre;overflow-x:auto;line-height:normal;font-family:Menlo,'DejaVu Sans Mono',consolas,'Courier New',monospace\"><span style=\"color: #7fbfbf\">           </span><span style=\"color: #000080\">INFO</span>     Received the following tasks: <span style=\"font-weight: bold\">[</span><span style=\"color: #008000\">'aggregated_model_validation'</span>, <span style=\"color: #008000\">'train'</span>, <span style=\"color: #008000\">'locally_tuned_model_validation'</span><span style=\"font-weight: bold\">]</span>                 <a href=\"file:///home/itrushkin/.virtualenvs/fledge/lib/python3.6/site-packages/fledge/component/collaborator/collaborator.py\"><span style=\"color: #7f7f7f\">collaborator.py</span></a><span style=\"color: #7f7f7f\">:155</span>\n",
       "</pre>\n"
      ],
      "text/plain": [
       "<rich.jupyter.JupyterRenderable at 0x7f96aa6d88d0>"
      ]
     },
     "metadata": {},
     "output_type": "display_data"
    },
    {
     "name": "stdout",
     "output_type": "stream",
     "text": [
      "FastEstimator-Test: step: 782; epoch: 2; clean_accuracy: 0.7068; adversarial_accuracy: 0.496; \n"
     ]
    },
    {
     "data": {
      "text/html": [
       "<pre style=\"white-space:pre;overflow-x:auto;line-height:normal;font-family:Menlo,'DejaVu Sans Mono',consolas,'Courier New',monospace\"><span style=\"color: #7fbfbf\">[07:59:00] </span><span style=\"color: #000080\">INFO</span>     Sending metric for task aggregated_model_validation, round number <span style=\"color: #000080; font-weight: bold\">4</span>: clean_accuracy     <span style=\"color: #000080; font-weight: bold\">0.7068</span>                           <a href=\"file:///home/itrushkin/.virtualenvs/fledge/lib/python3.6/site-packages/fledge/component/collaborator/collaborator.py\"><span style=\"color: #7f7f7f\">collaborator.py</span></a><span style=\"color: #7f7f7f\">:318</span>\n",
       "</pre>\n"
      ],
      "text/plain": [
       "<rich.jupyter.JupyterRenderable at 0x7f96aa714d68>"
      ]
     },
     "metadata": {},
     "output_type": "display_data"
    },
    {
     "data": {
      "text/html": [
       "<pre style=\"white-space:pre;overflow-x:auto;line-height:normal;font-family:Menlo,'DejaVu Sans Mono',consolas,'Courier New',monospace\"><span style=\"color: #7fbfbf\">           </span><span style=\"color: #000080\">INFO</span>     Sending metric for task aggregated_model_validation, round number <span style=\"color: #000080; font-weight: bold\">4</span>: adversarial_accuracy       <span style=\"color: #000080; font-weight: bold\">0.496</span>                    <a href=\"file:///home/itrushkin/.virtualenvs/fledge/lib/python3.6/site-packages/fledge/component/collaborator/collaborator.py\"><span style=\"color: #7f7f7f\">collaborator.py</span></a><span style=\"color: #7f7f7f\">:318</span>\n",
       "</pre>\n"
      ],
      "text/plain": [
       "<rich.jupyter.JupyterRenderable at 0x7f96aa7140b8>"
      ]
     },
     "metadata": {},
     "output_type": "display_data"
    },
    {
     "data": {
      "text/html": [
       "<pre style=\"white-space:pre;overflow-x:auto;line-height:normal;font-family:Menlo,'DejaVu Sans Mono',consolas,'Courier New',monospace\"><span style=\"color: #7fbfbf\">           </span><span style=\"color: #000080\">INFO</span>     Collaborator two is sending task results for aggregated_model_validation, round <span style=\"color: #000080; font-weight: bold\">4</span>                                          <a href=\"file:///home/itrushkin/.virtualenvs/fledge/lib/python3.6/site-packages/fledge/component/aggregator/aggregator.py\"><span style=\"color: #7f7f7f\">aggregator.py</span></a><span style=\"color: #7f7f7f\">:369</span>\n",
       "</pre>\n"
      ],
      "text/plain": [
       "<rich.jupyter.JupyterRenderable at 0x7f96aa714b70>"
      ]
     },
     "metadata": {},
     "output_type": "display_data"
    },
    {
     "name": "stdout",
     "output_type": "stream",
     "text": [
      "    ______           __  ______     __  _                 __            \n",
      "   / ____/___ ______/ /_/ ____/____/ /_(_)___ ___  ____ _/ /_____  _____\n",
      "  / /_  / __ `/ ___/ __/ __/ / ___/ __/ / __ `__ \\/ __ `/ __/ __ \\/ ___/\n",
      " / __/ / /_/ (__  ) /_/ /___(__  ) /_/ / / / / / / /_/ / /_/ /_/ / /    \n",
      "/_/    \\__,_/____/\\__/_____/____/\\__/_/_/ /_/ /_/\\__,_/\\__/\\____/_/     \n",
      "                                                                        \n",
      "\n",
      "FastEstimator-Warn: No ModelSaver Trace detected. Models will not be saved.\n",
      "FastEstimator-Start: step: 1; num_device: 3; logging_interval: 1000; \n",
      "FastEstimator-Train: step: 1; base_ce: 0.72861874; avg_ce: 0.9621344; adv_ce: 1.1956501; \n",
      "FastEstimator-Train: step: 391; epoch: 1; epoch_time: 11.06 sec; \n",
      "FastEstimator-Eval: step: 391; epoch: 1; base_ce: 0.8455385; avg_ce: 1.11793; adv_ce: 1.3903217; clean_accuracy: 0.7052; adversarial_accuracy: 0.4888; \n",
      "FastEstimator-Train: step: 782; epoch: 2; epoch_time: 11.11 sec; \n",
      "FastEstimator-Eval: step: 782; epoch: 2; base_ce: 0.83541125; avg_ce: 1.1193663; adv_ce: 1.4033213; clean_accuracy: 0.7176; adversarial_accuracy: 0.4928; \n",
      "FastEstimator-Finish: step: 782; total_time: 26.75 sec; adv_model_lr: 0.001; \n"
     ]
    },
    {
     "data": {
      "text/html": [
       "<pre style=\"white-space:pre;overflow-x:auto;line-height:normal;font-family:Menlo,'DejaVu Sans Mono',consolas,'Courier New',monospace\"><span style=\"color: #7fbfbf\">[07:59:28] </span><span style=\"color: #000080\">INFO</span>     Sending metric for task train, round number <span style=\"color: #000080; font-weight: bold\">4</span>: adv_ce   <span style=\"color: #000080; font-weight: bold\">1.1956501007080078</span>                                               <a href=\"file:///home/itrushkin/.virtualenvs/fledge/lib/python3.6/site-packages/fledge/component/collaborator/collaborator.py\"><span style=\"color: #7f7f7f\">collaborator.py</span></a><span style=\"color: #7f7f7f\">:318</span>\n",
       "</pre>\n"
      ],
      "text/plain": [
       "<rich.jupyter.JupyterRenderable at 0x7f96aa9a8ac8>"
      ]
     },
     "metadata": {},
     "output_type": "display_data"
    },
    {
     "data": {
      "text/html": [
       "<pre style=\"white-space:pre;overflow-x:auto;line-height:normal;font-family:Menlo,'DejaVu Sans Mono',consolas,'Courier New',monospace\"><span style=\"color: #7fbfbf\">           </span><span style=\"color: #000080\">INFO</span>     Sending metric for task train, round number <span style=\"color: #000080; font-weight: bold\">4</span>: base_ce  <span style=\"color: #000080; font-weight: bold\">0.7286187410354614</span>                                               <a href=\"file:///home/itrushkin/.virtualenvs/fledge/lib/python3.6/site-packages/fledge/component/collaborator/collaborator.py\"><span style=\"color: #7f7f7f\">collaborator.py</span></a><span style=\"color: #7f7f7f\">:318</span>\n",
       "</pre>\n"
      ],
      "text/plain": [
       "<rich.jupyter.JupyterRenderable at 0x7f96aa9a8438>"
      ]
     },
     "metadata": {},
     "output_type": "display_data"
    },
    {
     "data": {
      "text/html": [
       "<pre style=\"white-space:pre;overflow-x:auto;line-height:normal;font-family:Menlo,'DejaVu Sans Mono',consolas,'Courier New',monospace\"><span style=\"color: #7fbfbf\">           </span><span style=\"color: #000080\">INFO</span>     Collaborator two is sending task results for train, round <span style=\"color: #000080; font-weight: bold\">4</span>                                                                <a href=\"file:///home/itrushkin/.virtualenvs/fledge/lib/python3.6/site-packages/fledge/component/aggregator/aggregator.py\"><span style=\"color: #7f7f7f\">aggregator.py</span></a><span style=\"color: #7f7f7f\">:369</span>\n",
       "</pre>\n"
      ],
      "text/plain": [
       "<rich.jupyter.JupyterRenderable at 0x7f96aa9a83c8>"
      ]
     },
     "metadata": {},
     "output_type": "display_data"
    },
    {
     "name": "stdout",
     "output_type": "stream",
     "text": [
      "FastEstimator-Test: step: 782; epoch: 2; clean_accuracy: 0.707; adversarial_accuracy: 0.4836; \n"
     ]
    },
    {
     "data": {
      "text/html": [
       "<pre style=\"white-space:pre;overflow-x:auto;line-height:normal;font-family:Menlo,'DejaVu Sans Mono',consolas,'Courier New',monospace\"><span style=\"color: #7fbfbf\">[07:59:29] </span><span style=\"color: #000080\">INFO</span>     Sending metric for task locally_tuned_model_validation, round number <span style=\"color: #000080; font-weight: bold\">4</span>: clean_accuracy  <span style=\"color: #000080; font-weight: bold\">0.707</span>                            <a href=\"file:///home/itrushkin/.virtualenvs/fledge/lib/python3.6/site-packages/fledge/component/collaborator/collaborator.py\"><span style=\"color: #7f7f7f\">collaborator.py</span></a><span style=\"color: #7f7f7f\">:318</span>\n",
       "</pre>\n"
      ],
      "text/plain": [
       "<rich.jupyter.JupyterRenderable at 0x7f96aa5569e8>"
      ]
     },
     "metadata": {},
     "output_type": "display_data"
    },
    {
     "data": {
      "text/html": [
       "<pre style=\"white-space:pre;overflow-x:auto;line-height:normal;font-family:Menlo,'DejaVu Sans Mono',consolas,'Courier New',monospace\"><span style=\"color: #7fbfbf\">           </span><span style=\"color: #000080\">INFO</span>     Sending metric for task locally_tuned_model_validation, round number <span style=\"color: #000080; font-weight: bold\">4</span>: adversarial_accuracy    <span style=\"color: #000080; font-weight: bold\">0.4836</span>                   <a href=\"file:///home/itrushkin/.virtualenvs/fledge/lib/python3.6/site-packages/fledge/component/collaborator/collaborator.py\"><span style=\"color: #7f7f7f\">collaborator.py</span></a><span style=\"color: #7f7f7f\">:318</span>\n",
       "</pre>\n"
      ],
      "text/plain": [
       "<rich.jupyter.JupyterRenderable at 0x7f96aa556390>"
      ]
     },
     "metadata": {},
     "output_type": "display_data"
    },
    {
     "data": {
      "text/html": [
       "<pre style=\"white-space:pre;overflow-x:auto;line-height:normal;font-family:Menlo,'DejaVu Sans Mono',consolas,'Courier New',monospace\"><span style=\"color: #7fbfbf\">           </span><span style=\"color: #000080\">INFO</span>     Collaborator two is sending task results for locally_tuned_model_validation, round <span style=\"color: #000080; font-weight: bold\">4</span>                                       <a href=\"file:///home/itrushkin/.virtualenvs/fledge/lib/python3.6/site-packages/fledge/component/aggregator/aggregator.py\"><span style=\"color: #7f7f7f\">aggregator.py</span></a><span style=\"color: #7f7f7f\">:369</span>\n",
       "</pre>\n"
      ],
      "text/plain": [
       "<rich.jupyter.JupyterRenderable at 0x7f96aa5560f0>"
      ]
     },
     "metadata": {},
     "output_type": "display_data"
    },
    {
     "data": {
      "text/html": [
       "<pre style=\"white-space:pre;overflow-x:auto;line-height:normal;font-family:Menlo,'DejaVu Sans Mono',consolas,'Courier New',monospace\"><span style=\"color: #7fbfbf\">           </span><span style=\"color: #000080\">INFO</span>     train task metrics<span style=\"color: #808000\">...</span>                                                                                                      <a href=\"file:///home/itrushkin/.virtualenvs/fledge/lib/python3.6/site-packages/fledge/component/aggregator/aggregator.py\"><span style=\"color: #7f7f7f\">aggregator.py</span></a><span style=\"color: #7f7f7f\">:505</span>\n",
       "</pre>\n"
      ],
      "text/plain": [
       "<rich.jupyter.JupyterRenderable at 0x7f96aa5560f0>"
      ]
     },
     "metadata": {},
     "output_type": "display_data"
    },
    {
     "data": {
      "text/html": [
       "<pre style=\"white-space:pre;overflow-x:auto;line-height:normal;font-family:Menlo,'DejaVu Sans Mono',consolas,'Courier New',monospace\"><span style=\"color: #7fbfbf\">           </span><span style=\"color: #000080\">INFO</span>     adv_ce: <span style=\"color: #000080; font-weight: bold\">1.2280</span>                                                                                                             <a href=\"file:///home/itrushkin/.virtualenvs/fledge/lib/python3.6/site-packages/fledge/component/aggregator/aggregator.py\"><span style=\"color: #7f7f7f\">aggregator.py</span></a><span style=\"color: #7f7f7f\">:539</span>\n",
       "</pre>\n"
      ],
      "text/plain": [
       "<rich.jupyter.JupyterRenderable at 0x7f96aa5566d8>"
      ]
     },
     "metadata": {},
     "output_type": "display_data"
    },
    {
     "data": {
      "text/html": [
       "<pre style=\"white-space:pre;overflow-x:auto;line-height:normal;font-family:Menlo,'DejaVu Sans Mono',consolas,'Courier New',monospace\"><span style=\"color: #7fbfbf\">           </span><span style=\"color: #000080\">INFO</span>     base_ce:        <span style=\"color: #000080; font-weight: bold\">0.7354</span>                                                                                                     <a href=\"file:///home/itrushkin/.virtualenvs/fledge/lib/python3.6/site-packages/fledge/component/aggregator/aggregator.py\"><span style=\"color: #7f7f7f\">aggregator.py</span></a><span style=\"color: #7f7f7f\">:539</span>\n",
       "</pre>\n"
      ],
      "text/plain": [
       "<rich.jupyter.JupyterRenderable at 0x7f96aa556748>"
      ]
     },
     "metadata": {},
     "output_type": "display_data"
    },
    {
     "data": {
      "text/html": [
       "<pre style=\"white-space:pre;overflow-x:auto;line-height:normal;font-family:Menlo,'DejaVu Sans Mono',consolas,'Courier New',monospace\"><span style=\"color: #7fbfbf\">[07:59:30] </span><span style=\"color: #000080\">INFO</span>     locally_tuned_model_validation task metrics<span style=\"color: #808000\">...</span>                                                                             <a href=\"file:///home/itrushkin/.virtualenvs/fledge/lib/python3.6/site-packages/fledge/component/aggregator/aggregator.py\"><span style=\"color: #7f7f7f\">aggregator.py</span></a><span style=\"color: #7f7f7f\">:505</span>\n",
       "</pre>\n"
      ],
      "text/plain": [
       "<rich.jupyter.JupyterRenderable at 0x7f96aa556780>"
      ]
     },
     "metadata": {},
     "output_type": "display_data"
    },
    {
     "data": {
      "text/html": [
       "<pre style=\"white-space:pre;overflow-x:auto;line-height:normal;font-family:Menlo,'DejaVu Sans Mono',consolas,'Courier New',monospace\"><span style=\"color: #7fbfbf\">           </span><span style=\"color: #000080\">INFO</span>     clean_accuracy: <span style=\"color: #000080; font-weight: bold\">0.7062</span>                                                                                                     <a href=\"file:///home/itrushkin/.virtualenvs/fledge/lib/python3.6/site-packages/fledge/component/aggregator/aggregator.py\"><span style=\"color: #7f7f7f\">aggregator.py</span></a><span style=\"color: #7f7f7f\">:539</span>\n",
       "</pre>\n"
      ],
      "text/plain": [
       "<rich.jupyter.JupyterRenderable at 0x7f96aa556860>"
      ]
     },
     "metadata": {},
     "output_type": "display_data"
    },
    {
     "data": {
      "text/html": [
       "<pre style=\"white-space:pre;overflow-x:auto;line-height:normal;font-family:Menlo,'DejaVu Sans Mono',consolas,'Courier New',monospace\"><span style=\"color: #7fbfbf\">           </span><span style=\"color: #000080\">INFO</span>     adversarial_accuracy:   <span style=\"color: #000080; font-weight: bold\">0.4852</span>                                                                                             <a href=\"file:///home/itrushkin/.virtualenvs/fledge/lib/python3.6/site-packages/fledge/component/aggregator/aggregator.py\"><span style=\"color: #7f7f7f\">aggregator.py</span></a><span style=\"color: #7f7f7f\">:539</span>\n",
       "</pre>\n"
      ],
      "text/plain": [
       "<rich.jupyter.JupyterRenderable at 0x7f96aa5564e0>"
      ]
     },
     "metadata": {},
     "output_type": "display_data"
    },
    {
     "data": {
      "text/html": [
       "<pre style=\"white-space:pre;overflow-x:auto;line-height:normal;font-family:Menlo,'DejaVu Sans Mono',consolas,'Courier New',monospace\"><span style=\"color: #7fbfbf\">           </span><span style=\"color: #000080\">INFO</span>     aggregated_model_validation task metrics<span style=\"color: #808000\">...</span>                                                                                <a href=\"file:///home/itrushkin/.virtualenvs/fledge/lib/python3.6/site-packages/fledge/component/aggregator/aggregator.py\"><span style=\"color: #7f7f7f\">aggregator.py</span></a><span style=\"color: #7f7f7f\">:505</span>\n",
       "</pre>\n"
      ],
      "text/plain": [
       "<rich.jupyter.JupyterRenderable at 0x7f96aa556be0>"
      ]
     },
     "metadata": {},
     "output_type": "display_data"
    },
    {
     "data": {
      "text/html": [
       "<pre style=\"white-space:pre;overflow-x:auto;line-height:normal;font-family:Menlo,'DejaVu Sans Mono',consolas,'Courier New',monospace\"><span style=\"color: #7fbfbf\">           </span><span style=\"color: #000080\">INFO</span>     clean_accuracy: <span style=\"color: #000080; font-weight: bold\">0.7068</span>                                                                                                     <a href=\"file:///home/itrushkin/.virtualenvs/fledge/lib/python3.6/site-packages/fledge/component/aggregator/aggregator.py\"><span style=\"color: #7f7f7f\">aggregator.py</span></a><span style=\"color: #7f7f7f\">:539</span>\n",
       "</pre>\n"
      ],
      "text/plain": [
       "<rich.jupyter.JupyterRenderable at 0x7f96aa556240>"
      ]
     },
     "metadata": {},
     "output_type": "display_data"
    },
    {
     "data": {
      "text/html": [
       "<pre style=\"white-space:pre;overflow-x:auto;line-height:normal;font-family:Menlo,'DejaVu Sans Mono',consolas,'Courier New',monospace\"><span style=\"color: #7fbfbf\">           </span><span style=\"color: #000080\">INFO</span>     Saved the best model with score <span style=\"color: #000080; font-weight: bold\">0.706800</span>                                                                                   <a href=\"file:///home/itrushkin/.virtualenvs/fledge/lib/python3.6/site-packages/fledge/component/aggregator/aggregator.py\"><span style=\"color: #7f7f7f\">aggregator.py</span></a><span style=\"color: #7f7f7f\">:546</span>\n",
       "</pre>\n"
      ],
      "text/plain": [
       "<rich.jupyter.JupyterRenderable at 0x7f96aa556668>"
      ]
     },
     "metadata": {},
     "output_type": "display_data"
    },
    {
     "data": {
      "text/html": [
       "<pre style=\"white-space:pre;overflow-x:auto;line-height:normal;font-family:Menlo,'DejaVu Sans Mono',consolas,'Courier New',monospace\"><span style=\"color: #7fbfbf\">           </span><span style=\"color: #000080\">INFO</span>     adversarial_accuracy:   <span style=\"color: #000080; font-weight: bold\">0.4960</span>                                                                                             <a href=\"file:///home/itrushkin/.virtualenvs/fledge/lib/python3.6/site-packages/fledge/component/aggregator/aggregator.py\"><span style=\"color: #7f7f7f\">aggregator.py</span></a><span style=\"color: #7f7f7f\">:539</span>\n",
       "</pre>\n"
      ],
      "text/plain": [
       "<rich.jupyter.JupyterRenderable at 0x7f96aa556e80>"
      ]
     },
     "metadata": {},
     "output_type": "display_data"
    },
    {
     "data": {
      "text/html": [
       "<pre style=\"white-space:pre;overflow-x:auto;line-height:normal;font-family:Menlo,'DejaVu Sans Mono',consolas,'Courier New',monospace\"><span style=\"color: #7fbfbf\">           </span><span style=\"color: #000080\">INFO</span>     Saving round <span style=\"color: #000080; font-weight: bold\">5</span> model<span style=\"color: #808000\">...</span>                                                                                                    <a href=\"file:///home/itrushkin/.virtualenvs/fledge/lib/python3.6/site-packages/fledge/component/aggregator/aggregator.py\"><span style=\"color: #7f7f7f\">aggregator.py</span></a><span style=\"color: #7f7f7f\">:602</span>\n",
       "</pre>\n"
      ],
      "text/plain": [
       "<rich.jupyter.JupyterRenderable at 0x7f96aa556b38>"
      ]
     },
     "metadata": {},
     "output_type": "display_data"
    },
    {
     "data": {
      "text/html": [
       "<pre style=\"white-space:pre;overflow-x:auto;line-height:normal;font-family:Menlo,'DejaVu Sans Mono',consolas,'Courier New',monospace\"><span style=\"color: #7fbfbf\">           </span><span style=\"color: #000080\">INFO</span>     Starting round <span style=\"color: #000080; font-weight: bold\">5</span><span style=\"color: #808000\">...</span>                                                                                                        <a href=\"file:///home/itrushkin/.virtualenvs/fledge/lib/python3.6/site-packages/fledge/component/aggregator/aggregator.py\"><span style=\"color: #7f7f7f\">aggregator.py</span></a><span style=\"color: #7f7f7f\">:610</span>\n",
       "</pre>\n"
      ],
      "text/plain": [
       "<rich.jupyter.JupyterRenderable at 0x7f96aa556208>"
      ]
     },
     "metadata": {},
     "output_type": "display_data"
    },
    {
     "data": {
      "text/html": [
       "<pre style=\"white-space:pre;overflow-x:auto;line-height:normal;font-family:Menlo,'DejaVu Sans Mono',consolas,'Courier New',monospace\"><span style=\"color: #7fbfbf\">           </span><span style=\"color: #000080\">INFO</span>     All tasks completed on two for round <span style=\"color: #000080; font-weight: bold\">4</span><span style=\"color: #808000\">...</span>                                                                                <a href=\"file:///home/itrushkin/.virtualenvs/fledge/lib/python3.6/site-packages/fledge/component/collaborator/collaborator.py\"><span style=\"color: #7f7f7f\">collaborator.py</span></a><span style=\"color: #7f7f7f\">:158</span>\n",
       "</pre>\n"
      ],
      "text/plain": [
       "<rich.jupyter.JupyterRenderable at 0x7f96aa556710>"
      ]
     },
     "metadata": {},
     "output_type": "display_data"
    },
    {
     "data": {
      "text/html": [
       "<pre style=\"white-space:pre;overflow-x:auto;line-height:normal;font-family:Menlo,'DejaVu Sans Mono',consolas,'Courier New',monospace\"><span style=\"color: #7fbfbf\">           </span><span style=\"color: #000080\">INFO</span>     Aggregator GetTasks function reached from collaborator one<span style=\"color: #808000\">...</span>                                                              <a href=\"file:///home/itrushkin/.virtualenvs/fledge/lib/python3.6/site-packages/fledge/component/aggregator/aggregator.py\"><span style=\"color: #7f7f7f\">aggregator.py</span></a><span style=\"color: #7f7f7f\">:215</span>\n",
       "</pre>\n"
      ],
      "text/plain": [
       "<rich.jupyter.JupyterRenderable at 0x7f96aa556e10>"
      ]
     },
     "metadata": {},
     "output_type": "display_data"
    },
    {
     "data": {
      "text/html": [
       "<pre style=\"white-space:pre;overflow-x:auto;line-height:normal;font-family:Menlo,'DejaVu Sans Mono',consolas,'Courier New',monospace\"><span style=\"color: #7fbfbf\">           </span><span style=\"color: #000080\">INFO</span>     Sending tasks to collaborator one for round <span style=\"color: #000080; font-weight: bold\">5</span>                                                                              <a href=\"file:///home/itrushkin/.virtualenvs/fledge/lib/python3.6/site-packages/fledge/component/aggregator/aggregator.py\"><span style=\"color: #7f7f7f\">aggregator.py</span></a><span style=\"color: #7f7f7f\">:249</span>\n",
       "</pre>\n"
      ],
      "text/plain": [
       "<rich.jupyter.JupyterRenderable at 0x7f96aa556828>"
      ]
     },
     "metadata": {},
     "output_type": "display_data"
    },
    {
     "data": {
      "text/html": [
       "<pre style=\"white-space:pre;overflow-x:auto;line-height:normal;font-family:Menlo,'DejaVu Sans Mono',consolas,'Courier New',monospace\"><span style=\"color: #7fbfbf\">           </span><span style=\"color: #000080\">INFO</span>     Received the following tasks: <span style=\"font-weight: bold\">[</span><span style=\"color: #008000\">'aggregated_model_validation'</span>, <span style=\"color: #008000\">'train'</span>, <span style=\"color: #008000\">'locally_tuned_model_validation'</span><span style=\"font-weight: bold\">]</span>                 <a href=\"file:///home/itrushkin/.virtualenvs/fledge/lib/python3.6/site-packages/fledge/component/collaborator/collaborator.py\"><span style=\"color: #7f7f7f\">collaborator.py</span></a><span style=\"color: #7f7f7f\">:155</span>\n",
       "</pre>\n"
      ],
      "text/plain": [
       "<rich.jupyter.JupyterRenderable at 0x7f96aa556e10>"
      ]
     },
     "metadata": {},
     "output_type": "display_data"
    },
    {
     "name": "stdout",
     "output_type": "stream",
     "text": [
      "FastEstimator-Test: step: 782; epoch: 2; clean_accuracy: 0.719; adversarial_accuracy: 0.4986; \n"
     ]
    },
    {
     "data": {
      "text/html": [
       "<pre style=\"white-space:pre;overflow-x:auto;line-height:normal;font-family:Menlo,'DejaVu Sans Mono',consolas,'Courier New',monospace\"><span style=\"color: #7fbfbf\">[07:59:31] </span><span style=\"color: #000080\">INFO</span>     Sending metric for task aggregated_model_validation, round number <span style=\"color: #000080; font-weight: bold\">5</span>: clean_accuracy     <span style=\"color: #000080; font-weight: bold\">0.719</span>                            <a href=\"file:///home/itrushkin/.virtualenvs/fledge/lib/python3.6/site-packages/fledge/component/collaborator/collaborator.py\"><span style=\"color: #7f7f7f\">collaborator.py</span></a><span style=\"color: #7f7f7f\">:318</span>\n",
       "</pre>\n"
      ],
      "text/plain": [
       "<rich.jupyter.JupyterRenderable at 0x7f96aa7144a8>"
      ]
     },
     "metadata": {},
     "output_type": "display_data"
    },
    {
     "data": {
      "text/html": [
       "<pre style=\"white-space:pre;overflow-x:auto;line-height:normal;font-family:Menlo,'DejaVu Sans Mono',consolas,'Courier New',monospace\"><span style=\"color: #7fbfbf\">           </span><span style=\"color: #000080\">INFO</span>     Sending metric for task aggregated_model_validation, round number <span style=\"color: #000080; font-weight: bold\">5</span>: adversarial_accuracy       <span style=\"color: #000080; font-weight: bold\">0.4986</span>                   <a href=\"file:///home/itrushkin/.virtualenvs/fledge/lib/python3.6/site-packages/fledge/component/collaborator/collaborator.py\"><span style=\"color: #7f7f7f\">collaborator.py</span></a><span style=\"color: #7f7f7f\">:318</span>\n",
       "</pre>\n"
      ],
      "text/plain": [
       "<rich.jupyter.JupyterRenderable at 0x7f96aca97898>"
      ]
     },
     "metadata": {},
     "output_type": "display_data"
    },
    {
     "data": {
      "text/html": [
       "<pre style=\"white-space:pre;overflow-x:auto;line-height:normal;font-family:Menlo,'DejaVu Sans Mono',consolas,'Courier New',monospace\"><span style=\"color: #7fbfbf\">           </span><span style=\"color: #000080\">INFO</span>     Collaborator one is sending task results for aggregated_model_validation, round <span style=\"color: #000080; font-weight: bold\">5</span>                                          <a href=\"file:///home/itrushkin/.virtualenvs/fledge/lib/python3.6/site-packages/fledge/component/aggregator/aggregator.py\"><span style=\"color: #7f7f7f\">aggregator.py</span></a><span style=\"color: #7f7f7f\">:369</span>\n",
       "</pre>\n"
      ],
      "text/plain": [
       "<rich.jupyter.JupyterRenderable at 0x7f96aca97710>"
      ]
     },
     "metadata": {},
     "output_type": "display_data"
    },
    {
     "name": "stdout",
     "output_type": "stream",
     "text": [
      "    ______           __  ______     __  _                 __            \n",
      "   / ____/___ ______/ /_/ ____/____/ /_(_)___ ___  ____ _/ /_____  _____\n",
      "  / /_  / __ `/ ___/ __/ __/ / ___/ __/ / __ `__ \\/ __ `/ __/ __ \\/ ___/\n",
      " / __/ / /_/ (__  ) /_/ /___(__  ) /_/ / / / / / / /_/ / /_/ /_/ / /    \n",
      "/_/    \\__,_/____/\\__/_____/____/\\__/_/_/ /_/ /_/\\__,_/\\__/\\____/_/     \n",
      "                                                                        \n",
      "\n",
      "FastEstimator-Warn: No ModelSaver Trace detected. Models will not be saved.\n",
      "FastEstimator-Start: step: 1; num_device: 3; logging_interval: 1000; \n",
      "FastEstimator-Train: step: 1; base_ce: 0.5921298; avg_ce: 0.83901685; adv_ce: 1.0859039; \n",
      "FastEstimator-Train: step: 391; epoch: 1; epoch_time: 11.08 sec; \n",
      "FastEstimator-Eval: step: 391; epoch: 1; base_ce: 0.86827624; avg_ce: 1.1658663; adv_ce: 1.4634563; clean_accuracy: 0.7044; adversarial_accuracy: 0.466; \n",
      "FastEstimator-Train: step: 782; epoch: 2; epoch_time: 11.16 sec; \n",
      "FastEstimator-Eval: step: 782; epoch: 2; base_ce: 0.82926416; avg_ce: 1.1207958; adv_ce: 1.4123275; clean_accuracy: 0.7194; adversarial_accuracy: 0.5044; \n",
      "FastEstimator-Finish: step: 782; total_time: 26.7 sec; adv_model_lr: 0.001; \n"
     ]
    },
    {
     "data": {
      "text/html": [
       "<pre style=\"white-space:pre;overflow-x:auto;line-height:normal;font-family:Menlo,'DejaVu Sans Mono',consolas,'Courier New',monospace\"><span style=\"color: #7fbfbf\">[07:59:59] </span><span style=\"color: #000080\">INFO</span>     Sending metric for task train, round number <span style=\"color: #000080; font-weight: bold\">5</span>: adv_ce   <span style=\"color: #000080; font-weight: bold\">1.0859038829803467</span>                                               <a href=\"file:///home/itrushkin/.virtualenvs/fledge/lib/python3.6/site-packages/fledge/component/collaborator/collaborator.py\"><span style=\"color: #7f7f7f\">collaborator.py</span></a><span style=\"color: #7f7f7f\">:318</span>\n",
       "</pre>\n"
      ],
      "text/plain": [
       "<rich.jupyter.JupyterRenderable at 0x7f96aa718d30>"
      ]
     },
     "metadata": {},
     "output_type": "display_data"
    },
    {
     "data": {
      "text/html": [
       "<pre style=\"white-space:pre;overflow-x:auto;line-height:normal;font-family:Menlo,'DejaVu Sans Mono',consolas,'Courier New',monospace\"><span style=\"color: #7fbfbf\">           </span><span style=\"color: #000080\">INFO</span>     Sending metric for task train, round number <span style=\"color: #000080; font-weight: bold\">5</span>: base_ce  <span style=\"color: #000080; font-weight: bold\">0.5921298265457153</span>                                               <a href=\"file:///home/itrushkin/.virtualenvs/fledge/lib/python3.6/site-packages/fledge/component/collaborator/collaborator.py\"><span style=\"color: #7f7f7f\">collaborator.py</span></a><span style=\"color: #7f7f7f\">:318</span>\n",
       "</pre>\n"
      ],
      "text/plain": [
       "<rich.jupyter.JupyterRenderable at 0x7f96aa718668>"
      ]
     },
     "metadata": {},
     "output_type": "display_data"
    },
    {
     "data": {
      "text/html": [
       "<pre style=\"white-space:pre;overflow-x:auto;line-height:normal;font-family:Menlo,'DejaVu Sans Mono',consolas,'Courier New',monospace\"><span style=\"color: #7fbfbf\">           </span><span style=\"color: #000080\">INFO</span>     Collaborator one is sending task results for train, round <span style=\"color: #000080; font-weight: bold\">5</span>                                                                <a href=\"file:///home/itrushkin/.virtualenvs/fledge/lib/python3.6/site-packages/fledge/component/aggregator/aggregator.py\"><span style=\"color: #7f7f7f\">aggregator.py</span></a><span style=\"color: #7f7f7f\">:369</span>\n",
       "</pre>\n"
      ],
      "text/plain": [
       "<rich.jupyter.JupyterRenderable at 0x7f96aa718fd0>"
      ]
     },
     "metadata": {},
     "output_type": "display_data"
    },
    {
     "name": "stdout",
     "output_type": "stream",
     "text": [
      "FastEstimator-Test: step: 782; epoch: 2; clean_accuracy: 0.7166; adversarial_accuracy: 0.4882; \n"
     ]
    },
    {
     "data": {
      "text/html": [
       "<pre style=\"white-space:pre;overflow-x:auto;line-height:normal;font-family:Menlo,'DejaVu Sans Mono',consolas,'Courier New',monospace\"><span style=\"color: #7fbfbf\">[08:00:01] </span><span style=\"color: #000080\">INFO</span>     Sending metric for task locally_tuned_model_validation, round number <span style=\"color: #000080; font-weight: bold\">5</span>: clean_accuracy  <span style=\"color: #000080; font-weight: bold\">0.7166</span>                           <a href=\"file:///home/itrushkin/.virtualenvs/fledge/lib/python3.6/site-packages/fledge/component/collaborator/collaborator.py\"><span style=\"color: #7f7f7f\">collaborator.py</span></a><span style=\"color: #7f7f7f\">:318</span>\n",
       "</pre>\n"
      ],
      "text/plain": [
       "<rich.jupyter.JupyterRenderable at 0x7f96aa556e48>"
      ]
     },
     "metadata": {},
     "output_type": "display_data"
    },
    {
     "data": {
      "text/html": [
       "<pre style=\"white-space:pre;overflow-x:auto;line-height:normal;font-family:Menlo,'DejaVu Sans Mono',consolas,'Courier New',monospace\"><span style=\"color: #7fbfbf\">           </span><span style=\"color: #000080\">INFO</span>     Sending metric for task locally_tuned_model_validation, round number <span style=\"color: #000080; font-weight: bold\">5</span>: adversarial_accuracy    <span style=\"color: #000080; font-weight: bold\">0.4882</span>                   <a href=\"file:///home/itrushkin/.virtualenvs/fledge/lib/python3.6/site-packages/fledge/component/collaborator/collaborator.py\"><span style=\"color: #7f7f7f\">collaborator.py</span></a><span style=\"color: #7f7f7f\">:318</span>\n",
       "</pre>\n"
      ],
      "text/plain": [
       "<rich.jupyter.JupyterRenderable at 0x7f96aa556b70>"
      ]
     },
     "metadata": {},
     "output_type": "display_data"
    },
    {
     "data": {
      "text/html": [
       "<pre style=\"white-space:pre;overflow-x:auto;line-height:normal;font-family:Menlo,'DejaVu Sans Mono',consolas,'Courier New',monospace\"><span style=\"color: #7fbfbf\">           </span><span style=\"color: #000080\">INFO</span>     Collaborator one is sending task results for locally_tuned_model_validation, round <span style=\"color: #000080; font-weight: bold\">5</span>                                       <a href=\"file:///home/itrushkin/.virtualenvs/fledge/lib/python3.6/site-packages/fledge/component/aggregator/aggregator.py\"><span style=\"color: #7f7f7f\">aggregator.py</span></a><span style=\"color: #7f7f7f\">:369</span>\n",
       "</pre>\n"
      ],
      "text/plain": [
       "<rich.jupyter.JupyterRenderable at 0x7f96aa5566a0>"
      ]
     },
     "metadata": {},
     "output_type": "display_data"
    },
    {
     "data": {
      "text/html": [
       "<pre style=\"white-space:pre;overflow-x:auto;line-height:normal;font-family:Menlo,'DejaVu Sans Mono',consolas,'Courier New',monospace\"><span style=\"color: #7fbfbf\">           </span><span style=\"color: #000080\">INFO</span>     All tasks completed on one for round <span style=\"color: #000080; font-weight: bold\">5</span><span style=\"color: #808000\">...</span>                                                                                <a href=\"file:///home/itrushkin/.virtualenvs/fledge/lib/python3.6/site-packages/fledge/component/collaborator/collaborator.py\"><span style=\"color: #7f7f7f\">collaborator.py</span></a><span style=\"color: #7f7f7f\">:158</span>\n",
       "</pre>\n"
      ],
      "text/plain": [
       "<rich.jupyter.JupyterRenderable at 0x7f96aa5566a0>"
      ]
     },
     "metadata": {},
     "output_type": "display_data"
    },
    {
     "data": {
      "text/html": [
       "<pre style=\"white-space:pre;overflow-x:auto;line-height:normal;font-family:Menlo,'DejaVu Sans Mono',consolas,'Courier New',monospace\"><span style=\"color: #7fbfbf\">           </span><span style=\"color: #000080\">INFO</span>     Aggregator GetTasks function reached from collaborator two<span style=\"color: #808000\">...</span>                                                              <a href=\"file:///home/itrushkin/.virtualenvs/fledge/lib/python3.6/site-packages/fledge/component/aggregator/aggregator.py\"><span style=\"color: #7f7f7f\">aggregator.py</span></a><span style=\"color: #7f7f7f\">:215</span>\n",
       "</pre>\n"
      ],
      "text/plain": [
       "<rich.jupyter.JupyterRenderable at 0x7f96aa556b70>"
      ]
     },
     "metadata": {},
     "output_type": "display_data"
    },
    {
     "data": {
      "text/html": [
       "<pre style=\"white-space:pre;overflow-x:auto;line-height:normal;font-family:Menlo,'DejaVu Sans Mono',consolas,'Courier New',monospace\"><span style=\"color: #7fbfbf\">           </span><span style=\"color: #000080\">INFO</span>     Sending tasks to collaborator two for round <span style=\"color: #000080; font-weight: bold\">5</span>                                                                              <a href=\"file:///home/itrushkin/.virtualenvs/fledge/lib/python3.6/site-packages/fledge/component/aggregator/aggregator.py\"><span style=\"color: #7f7f7f\">aggregator.py</span></a><span style=\"color: #7f7f7f\">:249</span>\n",
       "</pre>\n"
      ],
      "text/plain": [
       "<rich.jupyter.JupyterRenderable at 0x7f96aa556e48>"
      ]
     },
     "metadata": {},
     "output_type": "display_data"
    },
    {
     "data": {
      "text/html": [
       "<pre style=\"white-space:pre;overflow-x:auto;line-height:normal;font-family:Menlo,'DejaVu Sans Mono',consolas,'Courier New',monospace\"><span style=\"color: #7fbfbf\">           </span><span style=\"color: #000080\">INFO</span>     Received the following tasks: <span style=\"font-weight: bold\">[</span><span style=\"color: #008000\">'aggregated_model_validation'</span>, <span style=\"color: #008000\">'train'</span>, <span style=\"color: #008000\">'locally_tuned_model_validation'</span><span style=\"font-weight: bold\">]</span>                 <a href=\"file:///home/itrushkin/.virtualenvs/fledge/lib/python3.6/site-packages/fledge/component/collaborator/collaborator.py\"><span style=\"color: #7f7f7f\">collaborator.py</span></a><span style=\"color: #7f7f7f\">:155</span>\n",
       "</pre>\n"
      ],
      "text/plain": [
       "<rich.jupyter.JupyterRenderable at 0x7f96aa5565c0>"
      ]
     },
     "metadata": {},
     "output_type": "display_data"
    },
    {
     "name": "stdout",
     "output_type": "stream",
     "text": [
      "FastEstimator-Test: step: 782; epoch: 2; clean_accuracy: 0.719; adversarial_accuracy: 0.4986; \n"
     ]
    },
    {
     "data": {
      "text/html": [
       "<pre style=\"white-space:pre;overflow-x:auto;line-height:normal;font-family:Menlo,'DejaVu Sans Mono',consolas,'Courier New',monospace\"><span style=\"color: #7fbfbf\">[08:00:03] </span><span style=\"color: #000080\">INFO</span>     Sending metric for task aggregated_model_validation, round number <span style=\"color: #000080; font-weight: bold\">5</span>: clean_accuracy     <span style=\"color: #000080; font-weight: bold\">0.719</span>                            <a href=\"file:///home/itrushkin/.virtualenvs/fledge/lib/python3.6/site-packages/fledge/component/collaborator/collaborator.py\"><span style=\"color: #7f7f7f\">collaborator.py</span></a><span style=\"color: #7f7f7f\">:318</span>\n",
       "</pre>\n"
      ],
      "text/plain": [
       "<rich.jupyter.JupyterRenderable at 0x7f96aa716908>"
      ]
     },
     "metadata": {},
     "output_type": "display_data"
    },
    {
     "data": {
      "text/html": [
       "<pre style=\"white-space:pre;overflow-x:auto;line-height:normal;font-family:Menlo,'DejaVu Sans Mono',consolas,'Courier New',monospace\"><span style=\"color: #7fbfbf\">           </span><span style=\"color: #000080\">INFO</span>     Sending metric for task aggregated_model_validation, round number <span style=\"color: #000080; font-weight: bold\">5</span>: adversarial_accuracy       <span style=\"color: #000080; font-weight: bold\">0.4986</span>                   <a href=\"file:///home/itrushkin/.virtualenvs/fledge/lib/python3.6/site-packages/fledge/component/collaborator/collaborator.py\"><span style=\"color: #7f7f7f\">collaborator.py</span></a><span style=\"color: #7f7f7f\">:318</span>\n",
       "</pre>\n"
      ],
      "text/plain": [
       "<rich.jupyter.JupyterRenderable at 0x7f96aa716c18>"
      ]
     },
     "metadata": {},
     "output_type": "display_data"
    },
    {
     "data": {
      "text/html": [
       "<pre style=\"white-space:pre;overflow-x:auto;line-height:normal;font-family:Menlo,'DejaVu Sans Mono',consolas,'Courier New',monospace\"><span style=\"color: #7fbfbf\">           </span><span style=\"color: #000080\">INFO</span>     Collaborator two is sending task results for aggregated_model_validation, round <span style=\"color: #000080; font-weight: bold\">5</span>                                          <a href=\"file:///home/itrushkin/.virtualenvs/fledge/lib/python3.6/site-packages/fledge/component/aggregator/aggregator.py\"><span style=\"color: #7f7f7f\">aggregator.py</span></a><span style=\"color: #7f7f7f\">:369</span>\n",
       "</pre>\n"
      ],
      "text/plain": [
       "<rich.jupyter.JupyterRenderable at 0x7f96aa716780>"
      ]
     },
     "metadata": {},
     "output_type": "display_data"
    },
    {
     "name": "stdout",
     "output_type": "stream",
     "text": [
      "    ______           __  ______     __  _                 __            \n",
      "   / ____/___ ______/ /_/ ____/____/ /_(_)___ ___  ____ _/ /_____  _____\n",
      "  / /_  / __ `/ ___/ __/ __/ / ___/ __/ / __ `__ \\/ __ `/ __/ __ \\/ ___/\n",
      " / __/ / /_/ (__  ) /_/ /___(__  ) /_/ / / / / / / /_/ / /_/ /_/ / /    \n",
      "/_/    \\__,_/____/\\__/_____/____/\\__/_/_/ /_/ /_/\\__,_/\\__/\\____/_/     \n",
      "                                                                        \n",
      "\n",
      "FastEstimator-Warn: No ModelSaver Trace detected. Models will not be saved.\n",
      "FastEstimator-Start: step: 1; num_device: 3; logging_interval: 1000; \n",
      "FastEstimator-Train: step: 1; base_ce: 0.6726701; avg_ce: 0.93278897; adv_ce: 1.1929078; \n",
      "FastEstimator-Train: step: 391; epoch: 1; epoch_time: 11.28 sec; \n",
      "FastEstimator-Eval: step: 391; epoch: 1; base_ce: 0.8365328; avg_ce: 1.1244904; adv_ce: 1.4124479; clean_accuracy: 0.7156; adversarial_accuracy: 0.4922; \n",
      "FastEstimator-Train: step: 782; epoch: 2; epoch_time: 11.17 sec; \n",
      "FastEstimator-Eval: step: 782; epoch: 2; base_ce: 0.81021786; avg_ce: 1.1071827; adv_ce: 1.4041477; clean_accuracy: 0.7242; adversarial_accuracy: 0.506; \n",
      "FastEstimator-Finish: step: 782; total_time: 26.97 sec; adv_model_lr: 0.001; \n"
     ]
    },
    {
     "data": {
      "text/html": [
       "<pre style=\"white-space:pre;overflow-x:auto;line-height:normal;font-family:Menlo,'DejaVu Sans Mono',consolas,'Courier New',monospace\"><span style=\"color: #7fbfbf\">[08:00:31] </span><span style=\"color: #000080\">INFO</span>     Sending metric for task train, round number <span style=\"color: #000080; font-weight: bold\">5</span>: adv_ce   <span style=\"color: #000080; font-weight: bold\">1.1929078102111816</span>                                               <a href=\"file:///home/itrushkin/.virtualenvs/fledge/lib/python3.6/site-packages/fledge/component/collaborator/collaborator.py\"><span style=\"color: #7f7f7f\">collaborator.py</span></a><span style=\"color: #7f7f7f\">:318</span>\n",
       "</pre>\n"
      ],
      "text/plain": [
       "<rich.jupyter.JupyterRenderable at 0x7f95ed7cd128>"
      ]
     },
     "metadata": {},
     "output_type": "display_data"
    },
    {
     "data": {
      "text/html": [
       "<pre style=\"white-space:pre;overflow-x:auto;line-height:normal;font-family:Menlo,'DejaVu Sans Mono',consolas,'Courier New',monospace\"><span style=\"color: #7fbfbf\">           </span><span style=\"color: #000080\">INFO</span>     Sending metric for task train, round number <span style=\"color: #000080; font-weight: bold\">5</span>: base_ce  <span style=\"color: #000080; font-weight: bold\">0.6726701259613037</span>                                               <a href=\"file:///home/itrushkin/.virtualenvs/fledge/lib/python3.6/site-packages/fledge/component/collaborator/collaborator.py\"><span style=\"color: #7f7f7f\">collaborator.py</span></a><span style=\"color: #7f7f7f\">:318</span>\n",
       "</pre>\n"
      ],
      "text/plain": [
       "<rich.jupyter.JupyterRenderable at 0x7f96aa9a8a90>"
      ]
     },
     "metadata": {},
     "output_type": "display_data"
    },
    {
     "data": {
      "text/html": [
       "<pre style=\"white-space:pre;overflow-x:auto;line-height:normal;font-family:Menlo,'DejaVu Sans Mono',consolas,'Courier New',monospace\"><span style=\"color: #7fbfbf\">           </span><span style=\"color: #000080\">INFO</span>     Collaborator two is sending task results for train, round <span style=\"color: #000080; font-weight: bold\">5</span>                                                                <a href=\"file:///home/itrushkin/.virtualenvs/fledge/lib/python3.6/site-packages/fledge/component/aggregator/aggregator.py\"><span style=\"color: #7f7f7f\">aggregator.py</span></a><span style=\"color: #7f7f7f\">:369</span>\n",
       "</pre>\n"
      ],
      "text/plain": [
       "<rich.jupyter.JupyterRenderable at 0x7f96aa9a8710>"
      ]
     },
     "metadata": {},
     "output_type": "display_data"
    },
    {
     "name": "stdout",
     "output_type": "stream",
     "text": [
      "FastEstimator-Test: step: 782; epoch: 2; clean_accuracy: 0.7168; adversarial_accuracy: 0.5; \n"
     ]
    },
    {
     "data": {
      "text/html": [
       "<pre style=\"white-space:pre;overflow-x:auto;line-height:normal;font-family:Menlo,'DejaVu Sans Mono',consolas,'Courier New',monospace\"><span style=\"color: #7fbfbf\">[08:00:33] </span><span style=\"color: #000080\">INFO</span>     Sending metric for task locally_tuned_model_validation, round number <span style=\"color: #000080; font-weight: bold\">5</span>: clean_accuracy  <span style=\"color: #000080; font-weight: bold\">0.7168</span>                           <a href=\"file:///home/itrushkin/.virtualenvs/fledge/lib/python3.6/site-packages/fledge/component/collaborator/collaborator.py\"><span style=\"color: #7f7f7f\">collaborator.py</span></a><span style=\"color: #7f7f7f\">:318</span>\n",
       "</pre>\n"
      ],
      "text/plain": [
       "<rich.jupyter.JupyterRenderable at 0x7f96aa65e6d8>"
      ]
     },
     "metadata": {},
     "output_type": "display_data"
    },
    {
     "data": {
      "text/html": [
       "<pre style=\"white-space:pre;overflow-x:auto;line-height:normal;font-family:Menlo,'DejaVu Sans Mono',consolas,'Courier New',monospace\"><span style=\"color: #7fbfbf\">           </span><span style=\"color: #000080\">INFO</span>     Sending metric for task locally_tuned_model_validation, round number <span style=\"color: #000080; font-weight: bold\">5</span>: adversarial_accuracy    <span style=\"color: #000080; font-weight: bold\">0.5</span>                      <a href=\"file:///home/itrushkin/.virtualenvs/fledge/lib/python3.6/site-packages/fledge/component/collaborator/collaborator.py\"><span style=\"color: #7f7f7f\">collaborator.py</span></a><span style=\"color: #7f7f7f\">:318</span>\n",
       "</pre>\n"
      ],
      "text/plain": [
       "<rich.jupyter.JupyterRenderable at 0x7f96aca97710>"
      ]
     },
     "metadata": {},
     "output_type": "display_data"
    },
    {
     "data": {
      "text/html": [
       "<pre style=\"white-space:pre;overflow-x:auto;line-height:normal;font-family:Menlo,'DejaVu Sans Mono',consolas,'Courier New',monospace\"><span style=\"color: #7fbfbf\">           </span><span style=\"color: #000080\">INFO</span>     Collaborator two is sending task results for locally_tuned_model_validation, round <span style=\"color: #000080; font-weight: bold\">5</span>                                       <a href=\"file:///home/itrushkin/.virtualenvs/fledge/lib/python3.6/site-packages/fledge/component/aggregator/aggregator.py\"><span style=\"color: #7f7f7f\">aggregator.py</span></a><span style=\"color: #7f7f7f\">:369</span>\n",
       "</pre>\n"
      ],
      "text/plain": [
       "<rich.jupyter.JupyterRenderable at 0x7f96aa716d68>"
      ]
     },
     "metadata": {},
     "output_type": "display_data"
    },
    {
     "data": {
      "text/html": [
       "<pre style=\"white-space:pre;overflow-x:auto;line-height:normal;font-family:Menlo,'DejaVu Sans Mono',consolas,'Courier New',monospace\"><span style=\"color: #7fbfbf\">           </span><span style=\"color: #000080\">INFO</span>     train task metrics<span style=\"color: #808000\">...</span>                                                                                                      <a href=\"file:///home/itrushkin/.virtualenvs/fledge/lib/python3.6/site-packages/fledge/component/aggregator/aggregator.py\"><span style=\"color: #7f7f7f\">aggregator.py</span></a><span style=\"color: #7f7f7f\">:505</span>\n",
       "</pre>\n"
      ],
      "text/plain": [
       "<rich.jupyter.JupyterRenderable at 0x7f96aa716860>"
      ]
     },
     "metadata": {},
     "output_type": "display_data"
    },
    {
     "data": {
      "text/html": [
       "<pre style=\"white-space:pre;overflow-x:auto;line-height:normal;font-family:Menlo,'DejaVu Sans Mono',consolas,'Courier New',monospace\"><span style=\"color: #7fbfbf\">           </span><span style=\"color: #000080\">INFO</span>     adv_ce: <span style=\"color: #000080; font-weight: bold\">1.1394</span>                                                                                                             <a href=\"file:///home/itrushkin/.virtualenvs/fledge/lib/python3.6/site-packages/fledge/component/aggregator/aggregator.py\"><span style=\"color: #7f7f7f\">aggregator.py</span></a><span style=\"color: #7f7f7f\">:539</span>\n",
       "</pre>\n"
      ],
      "text/plain": [
       "<rich.jupyter.JupyterRenderable at 0x7f96aa7165f8>"
      ]
     },
     "metadata": {},
     "output_type": "display_data"
    },
    {
     "data": {
      "text/html": [
       "<pre style=\"white-space:pre;overflow-x:auto;line-height:normal;font-family:Menlo,'DejaVu Sans Mono',consolas,'Courier New',monospace\"><span style=\"color: #7fbfbf\">           </span><span style=\"color: #000080\">INFO</span>     base_ce:        <span style=\"color: #000080; font-weight: bold\">0.6324</span>                                                                                                     <a href=\"file:///home/itrushkin/.virtualenvs/fledge/lib/python3.6/site-packages/fledge/component/aggregator/aggregator.py\"><span style=\"color: #7f7f7f\">aggregator.py</span></a><span style=\"color: #7f7f7f\">:539</span>\n",
       "</pre>\n"
      ],
      "text/plain": [
       "<rich.jupyter.JupyterRenderable at 0x7f96aa9a8c50>"
      ]
     },
     "metadata": {},
     "output_type": "display_data"
    },
    {
     "data": {
      "text/html": [
       "<pre style=\"white-space:pre;overflow-x:auto;line-height:normal;font-family:Menlo,'DejaVu Sans Mono',consolas,'Courier New',monospace\"><span style=\"color: #7fbfbf\">           </span><span style=\"color: #000080\">INFO</span>     locally_tuned_model_validation task metrics<span style=\"color: #808000\">...</span>                                                                             <a href=\"file:///home/itrushkin/.virtualenvs/fledge/lib/python3.6/site-packages/fledge/component/aggregator/aggregator.py\"><span style=\"color: #7f7f7f\">aggregator.py</span></a><span style=\"color: #7f7f7f\">:505</span>\n",
       "</pre>\n"
      ],
      "text/plain": [
       "<rich.jupyter.JupyterRenderable at 0x7f96aa7169e8>"
      ]
     },
     "metadata": {},
     "output_type": "display_data"
    },
    {
     "data": {
      "text/html": [
       "<pre style=\"white-space:pre;overflow-x:auto;line-height:normal;font-family:Menlo,'DejaVu Sans Mono',consolas,'Courier New',monospace\"><span style=\"color: #7fbfbf\">           </span><span style=\"color: #000080\">INFO</span>     clean_accuracy: <span style=\"color: #000080; font-weight: bold\">0.7167</span>                                                                                                     <a href=\"file:///home/itrushkin/.virtualenvs/fledge/lib/python3.6/site-packages/fledge/component/aggregator/aggregator.py\"><span style=\"color: #7f7f7f\">aggregator.py</span></a><span style=\"color: #7f7f7f\">:539</span>\n",
       "</pre>\n"
      ],
      "text/plain": [
       "<rich.jupyter.JupyterRenderable at 0x7f96aa716908>"
      ]
     },
     "metadata": {},
     "output_type": "display_data"
    },
    {
     "data": {
      "text/html": [
       "<pre style=\"white-space:pre;overflow-x:auto;line-height:normal;font-family:Menlo,'DejaVu Sans Mono',consolas,'Courier New',monospace\"><span style=\"color: #7fbfbf\">           </span><span style=\"color: #000080\">INFO</span>     adversarial_accuracy:   <span style=\"color: #000080; font-weight: bold\">0.4941</span>                                                                                             <a href=\"file:///home/itrushkin/.virtualenvs/fledge/lib/python3.6/site-packages/fledge/component/aggregator/aggregator.py\"><span style=\"color: #7f7f7f\">aggregator.py</span></a><span style=\"color: #7f7f7f\">:539</span>\n",
       "</pre>\n"
      ],
      "text/plain": [
       "<rich.jupyter.JupyterRenderable at 0x7f96aa716898>"
      ]
     },
     "metadata": {},
     "output_type": "display_data"
    },
    {
     "data": {
      "text/html": [
       "<pre style=\"white-space:pre;overflow-x:auto;line-height:normal;font-family:Menlo,'DejaVu Sans Mono',consolas,'Courier New',monospace\"><span style=\"color: #7fbfbf\">           </span><span style=\"color: #000080\">INFO</span>     aggregated_model_validation task metrics<span style=\"color: #808000\">...</span>                                                                                <a href=\"file:///home/itrushkin/.virtualenvs/fledge/lib/python3.6/site-packages/fledge/component/aggregator/aggregator.py\"><span style=\"color: #7f7f7f\">aggregator.py</span></a><span style=\"color: #7f7f7f\">:505</span>\n",
       "</pre>\n"
      ],
      "text/plain": [
       "<rich.jupyter.JupyterRenderable at 0x7f96aa7169e8>"
      ]
     },
     "metadata": {},
     "output_type": "display_data"
    },
    {
     "data": {
      "text/html": [
       "<pre style=\"white-space:pre;overflow-x:auto;line-height:normal;font-family:Menlo,'DejaVu Sans Mono',consolas,'Courier New',monospace\"><span style=\"color: #7fbfbf\">           </span><span style=\"color: #000080\">INFO</span>     clean_accuracy: <span style=\"color: #000080; font-weight: bold\">0.7190</span>                                                                                                     <a href=\"file:///home/itrushkin/.virtualenvs/fledge/lib/python3.6/site-packages/fledge/component/aggregator/aggregator.py\"><span style=\"color: #7f7f7f\">aggregator.py</span></a><span style=\"color: #7f7f7f\">:539</span>\n",
       "</pre>\n"
      ],
      "text/plain": [
       "<rich.jupyter.JupyterRenderable at 0x7f96aa716828>"
      ]
     },
     "metadata": {},
     "output_type": "display_data"
    },
    {
     "data": {
      "text/html": [
       "<pre style=\"white-space:pre;overflow-x:auto;line-height:normal;font-family:Menlo,'DejaVu Sans Mono',consolas,'Courier New',monospace\"><span style=\"color: #7fbfbf\">           </span><span style=\"color: #000080\">INFO</span>     Saved the best model with score <span style=\"color: #000080; font-weight: bold\">0.719000</span>                                                                                   <a href=\"file:///home/itrushkin/.virtualenvs/fledge/lib/python3.6/site-packages/fledge/component/aggregator/aggregator.py\"><span style=\"color: #7f7f7f\">aggregator.py</span></a><span style=\"color: #7f7f7f\">:546</span>\n",
       "</pre>\n"
      ],
      "text/plain": [
       "<rich.jupyter.JupyterRenderable at 0x7f96aa716d68>"
      ]
     },
     "metadata": {},
     "output_type": "display_data"
    },
    {
     "data": {
      "text/html": [
       "<pre style=\"white-space:pre;overflow-x:auto;line-height:normal;font-family:Menlo,'DejaVu Sans Mono',consolas,'Courier New',monospace\"><span style=\"color: #7fbfbf\">           </span><span style=\"color: #000080\">INFO</span>     adversarial_accuracy:   <span style=\"color: #000080; font-weight: bold\">0.4986</span>                                                                                             <a href=\"file:///home/itrushkin/.virtualenvs/fledge/lib/python3.6/site-packages/fledge/component/aggregator/aggregator.py\"><span style=\"color: #7f7f7f\">aggregator.py</span></a><span style=\"color: #7f7f7f\">:539</span>\n",
       "</pre>\n"
      ],
      "text/plain": [
       "<rich.jupyter.JupyterRenderable at 0x7f96aa716828>"
      ]
     },
     "metadata": {},
     "output_type": "display_data"
    },
    {
     "data": {
      "text/html": [
       "<pre style=\"white-space:pre;overflow-x:auto;line-height:normal;font-family:Menlo,'DejaVu Sans Mono',consolas,'Courier New',monospace\"><span style=\"color: #7fbfbf\">           </span><span style=\"color: #000080\">INFO</span>     Saving round <span style=\"color: #000080; font-weight: bold\">6</span> model<span style=\"color: #808000\">...</span>                                                                                                    <a href=\"file:///home/itrushkin/.virtualenvs/fledge/lib/python3.6/site-packages/fledge/component/aggregator/aggregator.py\"><span style=\"color: #7f7f7f\">aggregator.py</span></a><span style=\"color: #7f7f7f\">:602</span>\n",
       "</pre>\n"
      ],
      "text/plain": [
       "<rich.jupyter.JupyterRenderable at 0x7f96aa716828>"
      ]
     },
     "metadata": {},
     "output_type": "display_data"
    },
    {
     "data": {
      "text/html": [
       "<pre style=\"white-space:pre;overflow-x:auto;line-height:normal;font-family:Menlo,'DejaVu Sans Mono',consolas,'Courier New',monospace\"><span style=\"color: #7fbfbf\">           </span><span style=\"color: #000080\">INFO</span>     Starting round <span style=\"color: #000080; font-weight: bold\">6</span><span style=\"color: #808000\">...</span>                                                                                                        <a href=\"file:///home/itrushkin/.virtualenvs/fledge/lib/python3.6/site-packages/fledge/component/aggregator/aggregator.py\"><span style=\"color: #7f7f7f\">aggregator.py</span></a><span style=\"color: #7f7f7f\">:610</span>\n",
       "</pre>\n"
      ],
      "text/plain": [
       "<rich.jupyter.JupyterRenderable at 0x7f96aa7169e8>"
      ]
     },
     "metadata": {},
     "output_type": "display_data"
    },
    {
     "data": {
      "text/html": [
       "<pre style=\"white-space:pre;overflow-x:auto;line-height:normal;font-family:Menlo,'DejaVu Sans Mono',consolas,'Courier New',monospace\"><span style=\"color: #7fbfbf\">           </span><span style=\"color: #000080\">INFO</span>     All tasks completed on two for round <span style=\"color: #000080; font-weight: bold\">5</span><span style=\"color: #808000\">...</span>                                                                                <a href=\"file:///home/itrushkin/.virtualenvs/fledge/lib/python3.6/site-packages/fledge/component/collaborator/collaborator.py\"><span style=\"color: #7f7f7f\">collaborator.py</span></a><span style=\"color: #7f7f7f\">:158</span>\n",
       "</pre>\n"
      ],
      "text/plain": [
       "<rich.jupyter.JupyterRenderable at 0x7f96aa9a85f8>"
      ]
     },
     "metadata": {},
     "output_type": "display_data"
    },
    {
     "data": {
      "text/html": [
       "<pre style=\"white-space:pre;overflow-x:auto;line-height:normal;font-family:Menlo,'DejaVu Sans Mono',consolas,'Courier New',monospace\"><span style=\"color: #7fbfbf\">           </span><span style=\"color: #000080\">INFO</span>     Aggregator GetTasks function reached from collaborator one<span style=\"color: #808000\">...</span>                                                              <a href=\"file:///home/itrushkin/.virtualenvs/fledge/lib/python3.6/site-packages/fledge/component/aggregator/aggregator.py\"><span style=\"color: #7f7f7f\">aggregator.py</span></a><span style=\"color: #7f7f7f\">:215</span>\n",
       "</pre>\n"
      ],
      "text/plain": [
       "<rich.jupyter.JupyterRenderable at 0x7f96aa716828>"
      ]
     },
     "metadata": {},
     "output_type": "display_data"
    },
    {
     "data": {
      "text/html": [
       "<pre style=\"white-space:pre;overflow-x:auto;line-height:normal;font-family:Menlo,'DejaVu Sans Mono',consolas,'Courier New',monospace\"><span style=\"color: #7fbfbf\">           </span><span style=\"color: #000080\">INFO</span>     Sending tasks to collaborator one for round <span style=\"color: #000080; font-weight: bold\">6</span>                                                                              <a href=\"file:///home/itrushkin/.virtualenvs/fledge/lib/python3.6/site-packages/fledge/component/aggregator/aggregator.py\"><span style=\"color: #7f7f7f\">aggregator.py</span></a><span style=\"color: #7f7f7f\">:249</span>\n",
       "</pre>\n"
      ],
      "text/plain": [
       "<rich.jupyter.JupyterRenderable at 0x7f96aca97ac8>"
      ]
     },
     "metadata": {},
     "output_type": "display_data"
    },
    {
     "data": {
      "text/html": [
       "<pre style=\"white-space:pre;overflow-x:auto;line-height:normal;font-family:Menlo,'DejaVu Sans Mono',consolas,'Courier New',monospace\"><span style=\"color: #7fbfbf\">           </span><span style=\"color: #000080\">INFO</span>     Received the following tasks: <span style=\"font-weight: bold\">[</span><span style=\"color: #008000\">'aggregated_model_validation'</span>, <span style=\"color: #008000\">'train'</span>, <span style=\"color: #008000\">'locally_tuned_model_validation'</span><span style=\"font-weight: bold\">]</span>                 <a href=\"file:///home/itrushkin/.virtualenvs/fledge/lib/python3.6/site-packages/fledge/component/collaborator/collaborator.py\"><span style=\"color: #7f7f7f\">collaborator.py</span></a><span style=\"color: #7f7f7f\">:155</span>\n",
       "</pre>\n"
      ],
      "text/plain": [
       "<rich.jupyter.JupyterRenderable at 0x7f96aa716898>"
      ]
     },
     "metadata": {},
     "output_type": "display_data"
    },
    {
     "name": "stdout",
     "output_type": "stream",
     "text": [
      "FastEstimator-Test: step: 782; epoch: 2; clean_accuracy: 0.7254; adversarial_accuracy: 0.5018; \n"
     ]
    },
    {
     "data": {
      "text/html": [
       "<pre style=\"white-space:pre;overflow-x:auto;line-height:normal;font-family:Menlo,'DejaVu Sans Mono',consolas,'Courier New',monospace\"><span style=\"color: #7fbfbf\">[08:00:35] </span><span style=\"color: #000080\">INFO</span>     Sending metric for task aggregated_model_validation, round number <span style=\"color: #000080; font-weight: bold\">6</span>: clean_accuracy     <span style=\"color: #000080; font-weight: bold\">0.7254</span>                           <a href=\"file:///home/itrushkin/.virtualenvs/fledge/lib/python3.6/site-packages/fledge/component/collaborator/collaborator.py\"><span style=\"color: #7f7f7f\">collaborator.py</span></a><span style=\"color: #7f7f7f\">:318</span>\n",
       "</pre>\n"
      ],
      "text/plain": [
       "<rich.jupyter.JupyterRenderable at 0x7f96aa5267b8>"
      ]
     },
     "metadata": {},
     "output_type": "display_data"
    },
    {
     "data": {
      "text/html": [
       "<pre style=\"white-space:pre;overflow-x:auto;line-height:normal;font-family:Menlo,'DejaVu Sans Mono',consolas,'Courier New',monospace\"><span style=\"color: #7fbfbf\">           </span><span style=\"color: #000080\">INFO</span>     Sending metric for task aggregated_model_validation, round number <span style=\"color: #000080; font-weight: bold\">6</span>: adversarial_accuracy       <span style=\"color: #000080; font-weight: bold\">0.5018</span>                   <a href=\"file:///home/itrushkin/.virtualenvs/fledge/lib/python3.6/site-packages/fledge/component/collaborator/collaborator.py\"><span style=\"color: #7f7f7f\">collaborator.py</span></a><span style=\"color: #7f7f7f\">:318</span>\n",
       "</pre>\n"
      ],
      "text/plain": [
       "<rich.jupyter.JupyterRenderable at 0x7f96aa5267b8>"
      ]
     },
     "metadata": {},
     "output_type": "display_data"
    },
    {
     "data": {
      "text/html": [
       "<pre style=\"white-space:pre;overflow-x:auto;line-height:normal;font-family:Menlo,'DejaVu Sans Mono',consolas,'Courier New',monospace\"><span style=\"color: #7fbfbf\">           </span><span style=\"color: #000080\">INFO</span>     Collaborator one is sending task results for aggregated_model_validation, round <span style=\"color: #000080; font-weight: bold\">6</span>                                          <a href=\"file:///home/itrushkin/.virtualenvs/fledge/lib/python3.6/site-packages/fledge/component/aggregator/aggregator.py\"><span style=\"color: #7f7f7f\">aggregator.py</span></a><span style=\"color: #7f7f7f\">:369</span>\n",
       "</pre>\n"
      ],
      "text/plain": [
       "<rich.jupyter.JupyterRenderable at 0x7f96aa718e10>"
      ]
     },
     "metadata": {},
     "output_type": "display_data"
    },
    {
     "name": "stdout",
     "output_type": "stream",
     "text": [
      "    ______           __  ______     __  _                 __            \n",
      "   / ____/___ ______/ /_/ ____/____/ /_(_)___ ___  ____ _/ /_____  _____\n",
      "  / /_  / __ `/ ___/ __/ __/ / ___/ __/ / __ `__ \\/ __ `/ __/ __ \\/ ___/\n",
      " / __/ / /_/ (__  ) /_/ /___(__  ) /_/ / / / / / / /_/ / /_/ /_/ / /    \n",
      "/_/    \\__,_/____/\\__/_____/____/\\__/_/_/ /_/ /_/\\__,_/\\__/\\____/_/     \n",
      "                                                                        \n",
      "\n",
      "FastEstimator-Warn: No ModelSaver Trace detected. Models will not be saved.\n",
      "FastEstimator-Start: step: 1; num_device: 3; logging_interval: 1000; \n",
      "FastEstimator-Train: step: 1; base_ce: 0.58560693; avg_ce: 0.82596266; adv_ce: 1.0663184; \n",
      "FastEstimator-Train: step: 391; epoch: 1; epoch_time: 11.19 sec; \n",
      "FastEstimator-Eval: step: 391; epoch: 1; base_ce: 0.80051994; avg_ce: 1.0983107; adv_ce: 1.3961014; clean_accuracy: 0.7228; adversarial_accuracy: 0.4976; \n",
      "FastEstimator-Train: step: 782; epoch: 2; epoch_time: 11.15 sec; \n",
      "FastEstimator-Eval: step: 782; epoch: 2; base_ce: 0.7941944; avg_ce: 1.1065525; adv_ce: 1.4189104; clean_accuracy: 0.7292; adversarial_accuracy: 0.4908; \n",
      "FastEstimator-Finish: step: 782; total_time: 26.79 sec; adv_model_lr: 0.001; \n"
     ]
    },
    {
     "data": {
      "text/html": [
       "<pre style=\"white-space:pre;overflow-x:auto;line-height:normal;font-family:Menlo,'DejaVu Sans Mono',consolas,'Courier New',monospace\"><span style=\"color: #7fbfbf\">[08:01:03] </span><span style=\"color: #000080\">INFO</span>     Sending metric for task train, round number <span style=\"color: #000080; font-weight: bold\">6</span>: adv_ce   <span style=\"color: #000080; font-weight: bold\">1.066318392753601</span>                                                <a href=\"file:///home/itrushkin/.virtualenvs/fledge/lib/python3.6/site-packages/fledge/component/collaborator/collaborator.py\"><span style=\"color: #7f7f7f\">collaborator.py</span></a><span style=\"color: #7f7f7f\">:318</span>\n",
       "</pre>\n"
      ],
      "text/plain": [
       "<rich.jupyter.JupyterRenderable at 0x7f96aa556d30>"
      ]
     },
     "metadata": {},
     "output_type": "display_data"
    },
    {
     "data": {
      "text/html": [
       "<pre style=\"white-space:pre;overflow-x:auto;line-height:normal;font-family:Menlo,'DejaVu Sans Mono',consolas,'Courier New',monospace\"><span style=\"color: #7fbfbf\">           </span><span style=\"color: #000080\">INFO</span>     Sending metric for task train, round number <span style=\"color: #000080; font-weight: bold\">6</span>: base_ce  <span style=\"color: #000080; font-weight: bold\">0.5856069326400757</span>                                               <a href=\"file:///home/itrushkin/.virtualenvs/fledge/lib/python3.6/site-packages/fledge/component/collaborator/collaborator.py\"><span style=\"color: #7f7f7f\">collaborator.py</span></a><span style=\"color: #7f7f7f\">:318</span>\n",
       "</pre>\n"
      ],
      "text/plain": [
       "<rich.jupyter.JupyterRenderable at 0x7f96aa556048>"
      ]
     },
     "metadata": {},
     "output_type": "display_data"
    },
    {
     "data": {
      "text/html": [
       "<pre style=\"white-space:pre;overflow-x:auto;line-height:normal;font-family:Menlo,'DejaVu Sans Mono',consolas,'Courier New',monospace\"><span style=\"color: #7fbfbf\">           </span><span style=\"color: #000080\">INFO</span>     Collaborator one is sending task results for train, round <span style=\"color: #000080; font-weight: bold\">6</span>                                                                <a href=\"file:///home/itrushkin/.virtualenvs/fledge/lib/python3.6/site-packages/fledge/component/aggregator/aggregator.py\"><span style=\"color: #7f7f7f\">aggregator.py</span></a><span style=\"color: #7f7f7f\">:369</span>\n",
       "</pre>\n"
      ],
      "text/plain": [
       "<rich.jupyter.JupyterRenderable at 0x7f96aa556d30>"
      ]
     },
     "metadata": {},
     "output_type": "display_data"
    },
    {
     "name": "stdout",
     "output_type": "stream",
     "text": [
      "FastEstimator-Test: step: 782; epoch: 2; clean_accuracy: 0.7238; adversarial_accuracy: 0.4822; \n"
     ]
    },
    {
     "data": {
      "text/html": [
       "<pre style=\"white-space:pre;overflow-x:auto;line-height:normal;font-family:Menlo,'DejaVu Sans Mono',consolas,'Courier New',monospace\"><span style=\"color: #7fbfbf\">[08:01:05] </span><span style=\"color: #000080\">INFO</span>     Sending metric for task locally_tuned_model_validation, round number <span style=\"color: #000080; font-weight: bold\">6</span>: clean_accuracy  <span style=\"color: #000080; font-weight: bold\">0.7238</span>                           <a href=\"file:///home/itrushkin/.virtualenvs/fledge/lib/python3.6/site-packages/fledge/component/collaborator/collaborator.py\"><span style=\"color: #7f7f7f\">collaborator.py</span></a><span style=\"color: #7f7f7f\">:318</span>\n",
       "</pre>\n"
      ],
      "text/plain": [
       "<rich.jupyter.JupyterRenderable at 0x7f96aa548cf8>"
      ]
     },
     "metadata": {},
     "output_type": "display_data"
    },
    {
     "data": {
      "text/html": [
       "<pre style=\"white-space:pre;overflow-x:auto;line-height:normal;font-family:Menlo,'DejaVu Sans Mono',consolas,'Courier New',monospace\"><span style=\"color: #7fbfbf\">           </span><span style=\"color: #000080\">INFO</span>     Sending metric for task locally_tuned_model_validation, round number <span style=\"color: #000080; font-weight: bold\">6</span>: adversarial_accuracy    <span style=\"color: #000080; font-weight: bold\">0.4822</span>                   <a href=\"file:///home/itrushkin/.virtualenvs/fledge/lib/python3.6/site-packages/fledge/component/collaborator/collaborator.py\"><span style=\"color: #7f7f7f\">collaborator.py</span></a><span style=\"color: #7f7f7f\">:318</span>\n",
       "</pre>\n"
      ],
      "text/plain": [
       "<rich.jupyter.JupyterRenderable at 0x7f96aa548b38>"
      ]
     },
     "metadata": {},
     "output_type": "display_data"
    },
    {
     "data": {
      "text/html": [
       "<pre style=\"white-space:pre;overflow-x:auto;line-height:normal;font-family:Menlo,'DejaVu Sans Mono',consolas,'Courier New',monospace\"><span style=\"color: #7fbfbf\">           </span><span style=\"color: #000080\">INFO</span>     Collaborator one is sending task results for locally_tuned_model_validation, round <span style=\"color: #000080; font-weight: bold\">6</span>                                       <a href=\"file:///home/itrushkin/.virtualenvs/fledge/lib/python3.6/site-packages/fledge/component/aggregator/aggregator.py\"><span style=\"color: #7f7f7f\">aggregator.py</span></a><span style=\"color: #7f7f7f\">:369</span>\n",
       "</pre>\n"
      ],
      "text/plain": [
       "<rich.jupyter.JupyterRenderable at 0x7f96aa548da0>"
      ]
     },
     "metadata": {},
     "output_type": "display_data"
    },
    {
     "data": {
      "text/html": [
       "<pre style=\"white-space:pre;overflow-x:auto;line-height:normal;font-family:Menlo,'DejaVu Sans Mono',consolas,'Courier New',monospace\"><span style=\"color: #7fbfbf\">           </span><span style=\"color: #000080\">INFO</span>     All tasks completed on one for round <span style=\"color: #000080; font-weight: bold\">6</span><span style=\"color: #808000\">...</span>                                                                                <a href=\"file:///home/itrushkin/.virtualenvs/fledge/lib/python3.6/site-packages/fledge/component/collaborator/collaborator.py\"><span style=\"color: #7f7f7f\">collaborator.py</span></a><span style=\"color: #7f7f7f\">:158</span>\n",
       "</pre>\n"
      ],
      "text/plain": [
       "<rich.jupyter.JupyterRenderable at 0x7f96aa548da0>"
      ]
     },
     "metadata": {},
     "output_type": "display_data"
    },
    {
     "data": {
      "text/html": [
       "<pre style=\"white-space:pre;overflow-x:auto;line-height:normal;font-family:Menlo,'DejaVu Sans Mono',consolas,'Courier New',monospace\"><span style=\"color: #7fbfbf\">           </span><span style=\"color: #000080\">INFO</span>     Aggregator GetTasks function reached from collaborator two<span style=\"color: #808000\">...</span>                                                              <a href=\"file:///home/itrushkin/.virtualenvs/fledge/lib/python3.6/site-packages/fledge/component/aggregator/aggregator.py\"><span style=\"color: #7f7f7f\">aggregator.py</span></a><span style=\"color: #7f7f7f\">:215</span>\n",
       "</pre>\n"
      ],
      "text/plain": [
       "<rich.jupyter.JupyterRenderable at 0x7f96aa548b38>"
      ]
     },
     "metadata": {},
     "output_type": "display_data"
    },
    {
     "data": {
      "text/html": [
       "<pre style=\"white-space:pre;overflow-x:auto;line-height:normal;font-family:Menlo,'DejaVu Sans Mono',consolas,'Courier New',monospace\"><span style=\"color: #7fbfbf\">           </span><span style=\"color: #000080\">INFO</span>     Sending tasks to collaborator two for round <span style=\"color: #000080; font-weight: bold\">6</span>                                                                              <a href=\"file:///home/itrushkin/.virtualenvs/fledge/lib/python3.6/site-packages/fledge/component/aggregator/aggregator.py\"><span style=\"color: #7f7f7f\">aggregator.py</span></a><span style=\"color: #7f7f7f\">:249</span>\n",
       "</pre>\n"
      ],
      "text/plain": [
       "<rich.jupyter.JupyterRenderable at 0x7f96aa548128>"
      ]
     },
     "metadata": {},
     "output_type": "display_data"
    },
    {
     "data": {
      "text/html": [
       "<pre style=\"white-space:pre;overflow-x:auto;line-height:normal;font-family:Menlo,'DejaVu Sans Mono',consolas,'Courier New',monospace\"><span style=\"color: #7fbfbf\">           </span><span style=\"color: #000080\">INFO</span>     Received the following tasks: <span style=\"font-weight: bold\">[</span><span style=\"color: #008000\">'aggregated_model_validation'</span>, <span style=\"color: #008000\">'train'</span>, <span style=\"color: #008000\">'locally_tuned_model_validation'</span><span style=\"font-weight: bold\">]</span>                 <a href=\"file:///home/itrushkin/.virtualenvs/fledge/lib/python3.6/site-packages/fledge/component/collaborator/collaborator.py\"><span style=\"color: #7f7f7f\">collaborator.py</span></a><span style=\"color: #7f7f7f\">:155</span>\n",
       "</pre>\n"
      ],
      "text/plain": [
       "<rich.jupyter.JupyterRenderable at 0x7f96aa548b38>"
      ]
     },
     "metadata": {},
     "output_type": "display_data"
    },
    {
     "name": "stdout",
     "output_type": "stream",
     "text": [
      "FastEstimator-Test: step: 782; epoch: 2; clean_accuracy: 0.7254; adversarial_accuracy: 0.5018; \n"
     ]
    },
    {
     "data": {
      "text/html": [
       "<pre style=\"white-space:pre;overflow-x:auto;line-height:normal;font-family:Menlo,'DejaVu Sans Mono',consolas,'Courier New',monospace\"><span style=\"color: #7fbfbf\">[08:01:06] </span><span style=\"color: #000080\">INFO</span>     Sending metric for task aggregated_model_validation, round number <span style=\"color: #000080; font-weight: bold\">6</span>: clean_accuracy     <span style=\"color: #000080; font-weight: bold\">0.7254</span>                           <a href=\"file:///home/itrushkin/.virtualenvs/fledge/lib/python3.6/site-packages/fledge/component/collaborator/collaborator.py\"><span style=\"color: #7f7f7f\">collaborator.py</span></a><span style=\"color: #7f7f7f\">:318</span>\n",
       "</pre>\n"
      ],
      "text/plain": [
       "<rich.jupyter.JupyterRenderable at 0x7f96aa5c3710>"
      ]
     },
     "metadata": {},
     "output_type": "display_data"
    },
    {
     "data": {
      "text/html": [
       "<pre style=\"white-space:pre;overflow-x:auto;line-height:normal;font-family:Menlo,'DejaVu Sans Mono',consolas,'Courier New',monospace\"><span style=\"color: #7fbfbf\">           </span><span style=\"color: #000080\">INFO</span>     Sending metric for task aggregated_model_validation, round number <span style=\"color: #000080; font-weight: bold\">6</span>: adversarial_accuracy       <span style=\"color: #000080; font-weight: bold\">0.5018</span>                   <a href=\"file:///home/itrushkin/.virtualenvs/fledge/lib/python3.6/site-packages/fledge/component/collaborator/collaborator.py\"><span style=\"color: #7f7f7f\">collaborator.py</span></a><span style=\"color: #7f7f7f\">:318</span>\n",
       "</pre>\n"
      ],
      "text/plain": [
       "<rich.jupyter.JupyterRenderable at 0x7f96aa5c3be0>"
      ]
     },
     "metadata": {},
     "output_type": "display_data"
    },
    {
     "data": {
      "text/html": [
       "<pre style=\"white-space:pre;overflow-x:auto;line-height:normal;font-family:Menlo,'DejaVu Sans Mono',consolas,'Courier New',monospace\"><span style=\"color: #7fbfbf\">           </span><span style=\"color: #000080\">INFO</span>     Collaborator two is sending task results for aggregated_model_validation, round <span style=\"color: #000080; font-weight: bold\">6</span>                                          <a href=\"file:///home/itrushkin/.virtualenvs/fledge/lib/python3.6/site-packages/fledge/component/aggregator/aggregator.py\"><span style=\"color: #7f7f7f\">aggregator.py</span></a><span style=\"color: #7f7f7f\">:369</span>\n",
       "</pre>\n"
      ],
      "text/plain": [
       "<rich.jupyter.JupyterRenderable at 0x7f96aa5c3588>"
      ]
     },
     "metadata": {},
     "output_type": "display_data"
    },
    {
     "name": "stdout",
     "output_type": "stream",
     "text": [
      "    ______           __  ______     __  _                 __            \n",
      "   / ____/___ ______/ /_/ ____/____/ /_(_)___ ___  ____ _/ /_____  _____\n",
      "  / /_  / __ `/ ___/ __/ __/ / ___/ __/ / __ `__ \\/ __ `/ __/ __ \\/ ___/\n",
      " / __/ / /_/ (__  ) /_/ /___(__  ) /_/ / / / / / / /_/ / /_/ /_/ / /    \n",
      "/_/    \\__,_/____/\\__/_____/____/\\__/_/_/ /_/ /_/\\__,_/\\__/\\____/_/     \n",
      "                                                                        \n",
      "\n",
      "FastEstimator-Warn: No ModelSaver Trace detected. Models will not be saved.\n",
      "FastEstimator-Start: step: 1; num_device: 3; logging_interval: 1000; \n",
      "FastEstimator-Train: step: 1; base_ce: 0.6156001; avg_ce: 0.8511305; adv_ce: 1.0866609; \n",
      "FastEstimator-Train: step: 391; epoch: 1; epoch_time: 11.26 sec; \n",
      "FastEstimator-Eval: step: 391; epoch: 1; base_ce: 0.82887155; avg_ce: 1.1310561; adv_ce: 1.4332408; clean_accuracy: 0.7186; adversarial_accuracy: 0.4918; \n",
      "FastEstimator-Train: step: 782; epoch: 2; epoch_time: 11.14 sec; \n",
      "FastEstimator-Eval: step: 782; epoch: 2; base_ce: 0.7991229; avg_ce: 1.119408; adv_ce: 1.4396932; clean_accuracy: 0.733; adversarial_accuracy: 0.4908; \n",
      "FastEstimator-Finish: step: 782; total_time: 26.99 sec; adv_model_lr: 0.001; \n"
     ]
    },
    {
     "data": {
      "text/html": [
       "<pre style=\"white-space:pre;overflow-x:auto;line-height:normal;font-family:Menlo,'DejaVu Sans Mono',consolas,'Courier New',monospace\"><span style=\"color: #7fbfbf\">[08:01:35] </span><span style=\"color: #000080\">INFO</span>     Sending metric for task train, round number <span style=\"color: #000080; font-weight: bold\">6</span>: adv_ce   <span style=\"color: #000080; font-weight: bold\">1.0866608619689941</span>                                               <a href=\"file:///home/itrushkin/.virtualenvs/fledge/lib/python3.6/site-packages/fledge/component/collaborator/collaborator.py\"><span style=\"color: #7f7f7f\">collaborator.py</span></a><span style=\"color: #7f7f7f\">:318</span>\n",
       "</pre>\n"
      ],
      "text/plain": [
       "<rich.jupyter.JupyterRenderable at 0x7f96aa526f28>"
      ]
     },
     "metadata": {},
     "output_type": "display_data"
    },
    {
     "data": {
      "text/html": [
       "<pre style=\"white-space:pre;overflow-x:auto;line-height:normal;font-family:Menlo,'DejaVu Sans Mono',consolas,'Courier New',monospace\"><span style=\"color: #7fbfbf\">           </span><span style=\"color: #000080\">INFO</span>     Sending metric for task train, round number <span style=\"color: #000080; font-weight: bold\">6</span>: base_ce  <span style=\"color: #000080; font-weight: bold\">0.6156001091003418</span>                                               <a href=\"file:///home/itrushkin/.virtualenvs/fledge/lib/python3.6/site-packages/fledge/component/collaborator/collaborator.py\"><span style=\"color: #7f7f7f\">collaborator.py</span></a><span style=\"color: #7f7f7f\">:318</span>\n",
       "</pre>\n"
      ],
      "text/plain": [
       "<rich.jupyter.JupyterRenderable at 0x7f96aa526f28>"
      ]
     },
     "metadata": {},
     "output_type": "display_data"
    },
    {
     "data": {
      "text/html": [
       "<pre style=\"white-space:pre;overflow-x:auto;line-height:normal;font-family:Menlo,'DejaVu Sans Mono',consolas,'Courier New',monospace\"><span style=\"color: #7fbfbf\">           </span><span style=\"color: #000080\">INFO</span>     Collaborator two is sending task results for train, round <span style=\"color: #000080; font-weight: bold\">6</span>                                                                <a href=\"file:///home/itrushkin/.virtualenvs/fledge/lib/python3.6/site-packages/fledge/component/aggregator/aggregator.py\"><span style=\"color: #7f7f7f\">aggregator.py</span></a><span style=\"color: #7f7f7f\">:369</span>\n",
       "</pre>\n"
      ],
      "text/plain": [
       "<rich.jupyter.JupyterRenderable at 0x7f96aa55c7f0>"
      ]
     },
     "metadata": {},
     "output_type": "display_data"
    },
    {
     "name": "stdout",
     "output_type": "stream",
     "text": [
      "FastEstimator-Test: step: 782; epoch: 2; clean_accuracy: 0.7158; adversarial_accuracy: 0.4846; \n"
     ]
    },
    {
     "data": {
      "text/html": [
       "<pre style=\"white-space:pre;overflow-x:auto;line-height:normal;font-family:Menlo,'DejaVu Sans Mono',consolas,'Courier New',monospace\"><span style=\"color: #7fbfbf\">[08:01:36] </span><span style=\"color: #000080\">INFO</span>     Sending metric for task locally_tuned_model_validation, round number <span style=\"color: #000080; font-weight: bold\">6</span>: clean_accuracy  <span style=\"color: #000080; font-weight: bold\">0.7158</span>                           <a href=\"file:///home/itrushkin/.virtualenvs/fledge/lib/python3.6/site-packages/fledge/component/collaborator/collaborator.py\"><span style=\"color: #7f7f7f\">collaborator.py</span></a><span style=\"color: #7f7f7f\">:318</span>\n",
       "</pre>\n"
      ],
      "text/plain": [
       "<rich.jupyter.JupyterRenderable at 0x7f96aa9addd8>"
      ]
     },
     "metadata": {},
     "output_type": "display_data"
    },
    {
     "data": {
      "text/html": [
       "<pre style=\"white-space:pre;overflow-x:auto;line-height:normal;font-family:Menlo,'DejaVu Sans Mono',consolas,'Courier New',monospace\"><span style=\"color: #7fbfbf\">           </span><span style=\"color: #000080\">INFO</span>     Sending metric for task locally_tuned_model_validation, round number <span style=\"color: #000080; font-weight: bold\">6</span>: adversarial_accuracy    <span style=\"color: #000080; font-weight: bold\">0.4846</span>                   <a href=\"file:///home/itrushkin/.virtualenvs/fledge/lib/python3.6/site-packages/fledge/component/collaborator/collaborator.py\"><span style=\"color: #7f7f7f\">collaborator.py</span></a><span style=\"color: #7f7f7f\">:318</span>\n",
       "</pre>\n"
      ],
      "text/plain": [
       "<rich.jupyter.JupyterRenderable at 0x7f96aa9addd8>"
      ]
     },
     "metadata": {},
     "output_type": "display_data"
    },
    {
     "data": {
      "text/html": [
       "<pre style=\"white-space:pre;overflow-x:auto;line-height:normal;font-family:Menlo,'DejaVu Sans Mono',consolas,'Courier New',monospace\"><span style=\"color: #7fbfbf\">           </span><span style=\"color: #000080\">INFO</span>     Collaborator two is sending task results for locally_tuned_model_validation, round <span style=\"color: #000080; font-weight: bold\">6</span>                                       <a href=\"file:///home/itrushkin/.virtualenvs/fledge/lib/python3.6/site-packages/fledge/component/aggregator/aggregator.py\"><span style=\"color: #7f7f7f\">aggregator.py</span></a><span style=\"color: #7f7f7f\">:369</span>\n",
       "</pre>\n"
      ],
      "text/plain": [
       "<rich.jupyter.JupyterRenderable at 0x7f96aa9addd8>"
      ]
     },
     "metadata": {},
     "output_type": "display_data"
    },
    {
     "data": {
      "text/html": [
       "<pre style=\"white-space:pre;overflow-x:auto;line-height:normal;font-family:Menlo,'DejaVu Sans Mono',consolas,'Courier New',monospace\"><span style=\"color: #7fbfbf\">           </span><span style=\"color: #000080\">INFO</span>     train task metrics<span style=\"color: #808000\">...</span>                                                                                                      <a href=\"file:///home/itrushkin/.virtualenvs/fledge/lib/python3.6/site-packages/fledge/component/aggregator/aggregator.py\"><span style=\"color: #7f7f7f\">aggregator.py</span></a><span style=\"color: #7f7f7f\">:505</span>\n",
       "</pre>\n"
      ],
      "text/plain": [
       "<rich.jupyter.JupyterRenderable at 0x7f96aa717c18>"
      ]
     },
     "metadata": {},
     "output_type": "display_data"
    },
    {
     "data": {
      "text/html": [
       "<pre style=\"white-space:pre;overflow-x:auto;line-height:normal;font-family:Menlo,'DejaVu Sans Mono',consolas,'Courier New',monospace\"><span style=\"color: #7fbfbf\">           </span><span style=\"color: #000080\">INFO</span>     adv_ce: <span style=\"color: #000080; font-weight: bold\">1.0765</span>                                                                                                             <a href=\"file:///home/itrushkin/.virtualenvs/fledge/lib/python3.6/site-packages/fledge/component/aggregator/aggregator.py\"><span style=\"color: #7f7f7f\">aggregator.py</span></a><span style=\"color: #7f7f7f\">:539</span>\n",
       "</pre>\n"
      ],
      "text/plain": [
       "<rich.jupyter.JupyterRenderable at 0x7f96aa7175c0>"
      ]
     },
     "metadata": {},
     "output_type": "display_data"
    },
    {
     "data": {
      "text/html": [
       "<pre style=\"white-space:pre;overflow-x:auto;line-height:normal;font-family:Menlo,'DejaVu Sans Mono',consolas,'Courier New',monospace\"><span style=\"color: #7fbfbf\">           </span><span style=\"color: #000080\">INFO</span>     base_ce:        <span style=\"color: #000080; font-weight: bold\">0.6006</span>                                                                                                     <a href=\"file:///home/itrushkin/.virtualenvs/fledge/lib/python3.6/site-packages/fledge/component/aggregator/aggregator.py\"><span style=\"color: #7f7f7f\">aggregator.py</span></a><span style=\"color: #7f7f7f\">:539</span>\n",
       "</pre>\n"
      ],
      "text/plain": [
       "<rich.jupyter.JupyterRenderable at 0x7f96aa6d7e10>"
      ]
     },
     "metadata": {},
     "output_type": "display_data"
    },
    {
     "data": {
      "text/html": [
       "<pre style=\"white-space:pre;overflow-x:auto;line-height:normal;font-family:Menlo,'DejaVu Sans Mono',consolas,'Courier New',monospace\"><span style=\"color: #7fbfbf\">[08:01:37] </span><span style=\"color: #000080\">INFO</span>     locally_tuned_model_validation task metrics<span style=\"color: #808000\">...</span>                                                                             <a href=\"file:///home/itrushkin/.virtualenvs/fledge/lib/python3.6/site-packages/fledge/component/aggregator/aggregator.py\"><span style=\"color: #7f7f7f\">aggregator.py</span></a><span style=\"color: #7f7f7f\">:505</span>\n",
       "</pre>\n"
      ],
      "text/plain": [
       "<rich.jupyter.JupyterRenderable at 0x7f96aa6d7e10>"
      ]
     },
     "metadata": {},
     "output_type": "display_data"
    },
    {
     "data": {
      "text/html": [
       "<pre style=\"white-space:pre;overflow-x:auto;line-height:normal;font-family:Menlo,'DejaVu Sans Mono',consolas,'Courier New',monospace\"><span style=\"color: #7fbfbf\">           </span><span style=\"color: #000080\">INFO</span>     clean_accuracy: <span style=\"color: #000080; font-weight: bold\">0.7198</span>                                                                                                     <a href=\"file:///home/itrushkin/.virtualenvs/fledge/lib/python3.6/site-packages/fledge/component/aggregator/aggregator.py\"><span style=\"color: #7f7f7f\">aggregator.py</span></a><span style=\"color: #7f7f7f\">:539</span>\n",
       "</pre>\n"
      ],
      "text/plain": [
       "<rich.jupyter.JupyterRenderable at 0x7f96aa6d7940>"
      ]
     },
     "metadata": {},
     "output_type": "display_data"
    },
    {
     "data": {
      "text/html": [
       "<pre style=\"white-space:pre;overflow-x:auto;line-height:normal;font-family:Menlo,'DejaVu Sans Mono',consolas,'Courier New',monospace\"><span style=\"color: #7fbfbf\">           </span><span style=\"color: #000080\">INFO</span>     adversarial_accuracy:   <span style=\"color: #000080; font-weight: bold\">0.4834</span>                                                                                             <a href=\"file:///home/itrushkin/.virtualenvs/fledge/lib/python3.6/site-packages/fledge/component/aggregator/aggregator.py\"><span style=\"color: #7f7f7f\">aggregator.py</span></a><span style=\"color: #7f7f7f\">:539</span>\n",
       "</pre>\n"
      ],
      "text/plain": [
       "<rich.jupyter.JupyterRenderable at 0x7f96aa6d7c50>"
      ]
     },
     "metadata": {},
     "output_type": "display_data"
    },
    {
     "data": {
      "text/html": [
       "<pre style=\"white-space:pre;overflow-x:auto;line-height:normal;font-family:Menlo,'DejaVu Sans Mono',consolas,'Courier New',monospace\"><span style=\"color: #7fbfbf\">           </span><span style=\"color: #000080\">INFO</span>     aggregated_model_validation task metrics<span style=\"color: #808000\">...</span>                                                                                <a href=\"file:///home/itrushkin/.virtualenvs/fledge/lib/python3.6/site-packages/fledge/component/aggregator/aggregator.py\"><span style=\"color: #7f7f7f\">aggregator.py</span></a><span style=\"color: #7f7f7f\">:505</span>\n",
       "</pre>\n"
      ],
      "text/plain": [
       "<rich.jupyter.JupyterRenderable at 0x7f96aa6d7048>"
      ]
     },
     "metadata": {},
     "output_type": "display_data"
    },
    {
     "data": {
      "text/html": [
       "<pre style=\"white-space:pre;overflow-x:auto;line-height:normal;font-family:Menlo,'DejaVu Sans Mono',consolas,'Courier New',monospace\"><span style=\"color: #7fbfbf\">           </span><span style=\"color: #000080\">INFO</span>     clean_accuracy: <span style=\"color: #000080; font-weight: bold\">0.7254</span>                                                                                                     <a href=\"file:///home/itrushkin/.virtualenvs/fledge/lib/python3.6/site-packages/fledge/component/aggregator/aggregator.py\"><span style=\"color: #7f7f7f\">aggregator.py</span></a><span style=\"color: #7f7f7f\">:539</span>\n",
       "</pre>\n"
      ],
      "text/plain": [
       "<rich.jupyter.JupyterRenderable at 0x7f96aa6d7c50>"
      ]
     },
     "metadata": {},
     "output_type": "display_data"
    },
    {
     "data": {
      "text/html": [
       "<pre style=\"white-space:pre;overflow-x:auto;line-height:normal;font-family:Menlo,'DejaVu Sans Mono',consolas,'Courier New',monospace\"><span style=\"color: #7fbfbf\">           </span><span style=\"color: #000080\">INFO</span>     Saved the best model with score <span style=\"color: #000080; font-weight: bold\">0.725400</span>                                                                                   <a href=\"file:///home/itrushkin/.virtualenvs/fledge/lib/python3.6/site-packages/fledge/component/aggregator/aggregator.py\"><span style=\"color: #7f7f7f\">aggregator.py</span></a><span style=\"color: #7f7f7f\">:546</span>\n",
       "</pre>\n"
      ],
      "text/plain": [
       "<rich.jupyter.JupyterRenderable at 0x7f96aa6d76a0>"
      ]
     },
     "metadata": {},
     "output_type": "display_data"
    },
    {
     "data": {
      "text/html": [
       "<pre style=\"white-space:pre;overflow-x:auto;line-height:normal;font-family:Menlo,'DejaVu Sans Mono',consolas,'Courier New',monospace\"><span style=\"color: #7fbfbf\">           </span><span style=\"color: #000080\">INFO</span>     adversarial_accuracy:   <span style=\"color: #000080; font-weight: bold\">0.5018</span>                                                                                             <a href=\"file:///home/itrushkin/.virtualenvs/fledge/lib/python3.6/site-packages/fledge/component/aggregator/aggregator.py\"><span style=\"color: #7f7f7f\">aggregator.py</span></a><span style=\"color: #7f7f7f\">:539</span>\n",
       "</pre>\n"
      ],
      "text/plain": [
       "<rich.jupyter.JupyterRenderable at 0x7f96aa6d7c50>"
      ]
     },
     "metadata": {},
     "output_type": "display_data"
    },
    {
     "data": {
      "text/html": [
       "<pre style=\"white-space:pre;overflow-x:auto;line-height:normal;font-family:Menlo,'DejaVu Sans Mono',consolas,'Courier New',monospace\"><span style=\"color: #7fbfbf\">           </span><span style=\"color: #000080\">INFO</span>     Saving round <span style=\"color: #000080; font-weight: bold\">7</span> model<span style=\"color: #808000\">...</span>                                                                                                    <a href=\"file:///home/itrushkin/.virtualenvs/fledge/lib/python3.6/site-packages/fledge/component/aggregator/aggregator.py\"><span style=\"color: #7f7f7f\">aggregator.py</span></a><span style=\"color: #7f7f7f\">:602</span>\n",
       "</pre>\n"
      ],
      "text/plain": [
       "<rich.jupyter.JupyterRenderable at 0x7f96aa6d7940>"
      ]
     },
     "metadata": {},
     "output_type": "display_data"
    },
    {
     "data": {
      "text/html": [
       "<pre style=\"white-space:pre;overflow-x:auto;line-height:normal;font-family:Menlo,'DejaVu Sans Mono',consolas,'Courier New',monospace\"><span style=\"color: #7fbfbf\">           </span><span style=\"color: #000080\">INFO</span>     Starting round <span style=\"color: #000080; font-weight: bold\">7</span><span style=\"color: #808000\">...</span>                                                                                                        <a href=\"file:///home/itrushkin/.virtualenvs/fledge/lib/python3.6/site-packages/fledge/component/aggregator/aggregator.py\"><span style=\"color: #7f7f7f\">aggregator.py</span></a><span style=\"color: #7f7f7f\">:610</span>\n",
       "</pre>\n"
      ],
      "text/plain": [
       "<rich.jupyter.JupyterRenderable at 0x7f96aa7177f0>"
      ]
     },
     "metadata": {},
     "output_type": "display_data"
    },
    {
     "data": {
      "text/html": [
       "<pre style=\"white-space:pre;overflow-x:auto;line-height:normal;font-family:Menlo,'DejaVu Sans Mono',consolas,'Courier New',monospace\"><span style=\"color: #7fbfbf\">           </span><span style=\"color: #000080\">INFO</span>     All tasks completed on two for round <span style=\"color: #000080; font-weight: bold\">6</span><span style=\"color: #808000\">...</span>                                                                                <a href=\"file:///home/itrushkin/.virtualenvs/fledge/lib/python3.6/site-packages/fledge/component/collaborator/collaborator.py\"><span style=\"color: #7f7f7f\">collaborator.py</span></a><span style=\"color: #7f7f7f\">:158</span>\n",
       "</pre>\n"
      ],
      "text/plain": [
       "<rich.jupyter.JupyterRenderable at 0x7f96aa7179e8>"
      ]
     },
     "metadata": {},
     "output_type": "display_data"
    },
    {
     "data": {
      "text/html": [
       "<pre style=\"white-space:pre;overflow-x:auto;line-height:normal;font-family:Menlo,'DejaVu Sans Mono',consolas,'Courier New',monospace\"><span style=\"color: #7fbfbf\">           </span><span style=\"color: #000080\">INFO</span>     Aggregator GetTasks function reached from collaborator one<span style=\"color: #808000\">...</span>                                                              <a href=\"file:///home/itrushkin/.virtualenvs/fledge/lib/python3.6/site-packages/fledge/component/aggregator/aggregator.py\"><span style=\"color: #7f7f7f\">aggregator.py</span></a><span style=\"color: #7f7f7f\">:215</span>\n",
       "</pre>\n"
      ],
      "text/plain": [
       "<rich.jupyter.JupyterRenderable at 0x7f96aa717ba8>"
      ]
     },
     "metadata": {},
     "output_type": "display_data"
    },
    {
     "data": {
      "text/html": [
       "<pre style=\"white-space:pre;overflow-x:auto;line-height:normal;font-family:Menlo,'DejaVu Sans Mono',consolas,'Courier New',monospace\"><span style=\"color: #7fbfbf\">           </span><span style=\"color: #000080\">INFO</span>     Sending tasks to collaborator one for round <span style=\"color: #000080; font-weight: bold\">7</span>                                                                              <a href=\"file:///home/itrushkin/.virtualenvs/fledge/lib/python3.6/site-packages/fledge/component/aggregator/aggregator.py\"><span style=\"color: #7f7f7f\">aggregator.py</span></a><span style=\"color: #7f7f7f\">:249</span>\n",
       "</pre>\n"
      ],
      "text/plain": [
       "<rich.jupyter.JupyterRenderable at 0x7f96aa717cc0>"
      ]
     },
     "metadata": {},
     "output_type": "display_data"
    },
    {
     "data": {
      "text/html": [
       "<pre style=\"white-space:pre;overflow-x:auto;line-height:normal;font-family:Menlo,'DejaVu Sans Mono',consolas,'Courier New',monospace\"><span style=\"color: #7fbfbf\">           </span><span style=\"color: #000080\">INFO</span>     Received the following tasks: <span style=\"font-weight: bold\">[</span><span style=\"color: #008000\">'aggregated_model_validation'</span>, <span style=\"color: #008000\">'train'</span>, <span style=\"color: #008000\">'locally_tuned_model_validation'</span><span style=\"font-weight: bold\">]</span>                 <a href=\"file:///home/itrushkin/.virtualenvs/fledge/lib/python3.6/site-packages/fledge/component/collaborator/collaborator.py\"><span style=\"color: #7f7f7f\">collaborator.py</span></a><span style=\"color: #7f7f7f\">:155</span>\n",
       "</pre>\n"
      ],
      "text/plain": [
       "<rich.jupyter.JupyterRenderable at 0x7f96aa717390>"
      ]
     },
     "metadata": {},
     "output_type": "display_data"
    },
    {
     "name": "stdout",
     "output_type": "stream",
     "text": [
      "FastEstimator-Test: step: 782; epoch: 2; clean_accuracy: 0.7268; adversarial_accuracy: 0.4946; \n"
     ]
    },
    {
     "data": {
      "text/html": [
       "<pre style=\"white-space:pre;overflow-x:auto;line-height:normal;font-family:Menlo,'DejaVu Sans Mono',consolas,'Courier New',monospace\"><span style=\"color: #7fbfbf\">[08:01:38] </span><span style=\"color: #000080\">INFO</span>     Sending metric for task aggregated_model_validation, round number <span style=\"color: #000080; font-weight: bold\">7</span>: clean_accuracy     <span style=\"color: #000080; font-weight: bold\">0.7268</span>                           <a href=\"file:///home/itrushkin/.virtualenvs/fledge/lib/python3.6/site-packages/fledge/component/collaborator/collaborator.py\"><span style=\"color: #7f7f7f\">collaborator.py</span></a><span style=\"color: #7f7f7f\">:318</span>\n",
       "</pre>\n"
      ],
      "text/plain": [
       "<rich.jupyter.JupyterRenderable at 0x7f96aa556cc0>"
      ]
     },
     "metadata": {},
     "output_type": "display_data"
    },
    {
     "data": {
      "text/html": [
       "<pre style=\"white-space:pre;overflow-x:auto;line-height:normal;font-family:Menlo,'DejaVu Sans Mono',consolas,'Courier New',monospace\"><span style=\"color: #7fbfbf\">           </span><span style=\"color: #000080\">INFO</span>     Sending metric for task aggregated_model_validation, round number <span style=\"color: #000080; font-weight: bold\">7</span>: adversarial_accuracy       <span style=\"color: #000080; font-weight: bold\">0.4946</span>                   <a href=\"file:///home/itrushkin/.virtualenvs/fledge/lib/python3.6/site-packages/fledge/component/collaborator/collaborator.py\"><span style=\"color: #7f7f7f\">collaborator.py</span></a><span style=\"color: #7f7f7f\">:318</span>\n",
       "</pre>\n"
      ],
      "text/plain": [
       "<rich.jupyter.JupyterRenderable at 0x7f96aa556cc0>"
      ]
     },
     "metadata": {},
     "output_type": "display_data"
    },
    {
     "data": {
      "text/html": [
       "<pre style=\"white-space:pre;overflow-x:auto;line-height:normal;font-family:Menlo,'DejaVu Sans Mono',consolas,'Courier New',monospace\"><span style=\"color: #7fbfbf\">           </span><span style=\"color: #000080\">INFO</span>     Collaborator one is sending task results for aggregated_model_validation, round <span style=\"color: #000080; font-weight: bold\">7</span>                                          <a href=\"file:///home/itrushkin/.virtualenvs/fledge/lib/python3.6/site-packages/fledge/component/aggregator/aggregator.py\"><span style=\"color: #7f7f7f\">aggregator.py</span></a><span style=\"color: #7f7f7f\">:369</span>\n",
       "</pre>\n"
      ],
      "text/plain": [
       "<rich.jupyter.JupyterRenderable at 0x7f96aa556cc0>"
      ]
     },
     "metadata": {},
     "output_type": "display_data"
    },
    {
     "name": "stdout",
     "output_type": "stream",
     "text": [
      "    ______           __  ______     __  _                 __            \n",
      "   / ____/___ ______/ /_/ ____/____/ /_(_)___ ___  ____ _/ /_____  _____\n",
      "  / /_  / __ `/ ___/ __/ __/ / ___/ __/ / __ `__ \\/ __ `/ __/ __ \\/ ___/\n",
      " / __/ / /_/ (__  ) /_/ /___(__  ) /_/ / / / / / / /_/ / /_/ /_/ / /    \n",
      "/_/    \\__,_/____/\\__/_____/____/\\__/_/_/ /_/ /_/\\__,_/\\__/\\____/_/     \n",
      "                                                                        \n",
      "\n",
      "FastEstimator-Warn: No ModelSaver Trace detected. Models will not be saved.\n",
      "FastEstimator-Start: step: 1; num_device: 3; logging_interval: 1000; \n",
      "FastEstimator-Train: step: 1; base_ce: 0.5544063; avg_ce: 0.7914745; adv_ce: 1.0285428; \n",
      "FastEstimator-Train: step: 391; epoch: 1; epoch_time: 11.18 sec; \n",
      "FastEstimator-Eval: step: 391; epoch: 1; base_ce: 0.8007158; avg_ce: 1.1173153; adv_ce: 1.4339148; clean_accuracy: 0.7238; adversarial_accuracy: 0.4974; \n",
      "FastEstimator-Train: step: 782; epoch: 2; epoch_time: 11.17 sec; \n",
      "FastEstimator-Eval: step: 782; epoch: 2; base_ce: 0.811046; avg_ce: 1.1376976; adv_ce: 1.4643494; clean_accuracy: 0.7232; adversarial_accuracy: 0.485; \n",
      "FastEstimator-Finish: step: 782; total_time: 27.09 sec; adv_model_lr: 0.001; \n"
     ]
    },
    {
     "data": {
      "text/html": [
       "<pre style=\"white-space:pre;overflow-x:auto;line-height:normal;font-family:Menlo,'DejaVu Sans Mono',consolas,'Courier New',monospace\"><span style=\"color: #7fbfbf\">[08:02:07] </span><span style=\"color: #000080\">INFO</span>     Sending metric for task train, round number <span style=\"color: #000080; font-weight: bold\">7</span>: adv_ce   <span style=\"color: #000080; font-weight: bold\">1.0285427570343018</span>                                               <a href=\"file:///home/itrushkin/.virtualenvs/fledge/lib/python3.6/site-packages/fledge/component/collaborator/collaborator.py\"><span style=\"color: #7f7f7f\">collaborator.py</span></a><span style=\"color: #7f7f7f\">:318</span>\n",
       "</pre>\n"
      ],
      "text/plain": [
       "<rich.jupyter.JupyterRenderable at 0x7f96aa718400>"
      ]
     },
     "metadata": {},
     "output_type": "display_data"
    },
    {
     "data": {
      "text/html": [
       "<pre style=\"white-space:pre;overflow-x:auto;line-height:normal;font-family:Menlo,'DejaVu Sans Mono',consolas,'Courier New',monospace\"><span style=\"color: #7fbfbf\">           </span><span style=\"color: #000080\">INFO</span>     Sending metric for task train, round number <span style=\"color: #000080; font-weight: bold\">7</span>: base_ce  <span style=\"color: #000080; font-weight: bold\">0.5544062852859497</span>                                               <a href=\"file:///home/itrushkin/.virtualenvs/fledge/lib/python3.6/site-packages/fledge/component/collaborator/collaborator.py\"><span style=\"color: #7f7f7f\">collaborator.py</span></a><span style=\"color: #7f7f7f\">:318</span>\n",
       "</pre>\n"
      ],
      "text/plain": [
       "<rich.jupyter.JupyterRenderable at 0x7f96aa718400>"
      ]
     },
     "metadata": {},
     "output_type": "display_data"
    },
    {
     "data": {
      "text/html": [
       "<pre style=\"white-space:pre;overflow-x:auto;line-height:normal;font-family:Menlo,'DejaVu Sans Mono',consolas,'Courier New',monospace\"><span style=\"color: #7fbfbf\">           </span><span style=\"color: #000080\">INFO</span>     Collaborator one is sending task results for train, round <span style=\"color: #000080; font-weight: bold\">7</span>                                                                <a href=\"file:///home/itrushkin/.virtualenvs/fledge/lib/python3.6/site-packages/fledge/component/aggregator/aggregator.py\"><span style=\"color: #7f7f7f\">aggregator.py</span></a><span style=\"color: #7f7f7f\">:369</span>\n",
       "</pre>\n"
      ],
      "text/plain": [
       "<rich.jupyter.JupyterRenderable at 0x7f96aa5986d8>"
      ]
     },
     "metadata": {},
     "output_type": "display_data"
    },
    {
     "name": "stdout",
     "output_type": "stream",
     "text": [
      "FastEstimator-Test: step: 782; epoch: 2; clean_accuracy: 0.7178; adversarial_accuracy: 0.4804; \n"
     ]
    },
    {
     "data": {
      "text/html": [
       "<pre style=\"white-space:pre;overflow-x:auto;line-height:normal;font-family:Menlo,'DejaVu Sans Mono',consolas,'Courier New',monospace\"><span style=\"color: #7fbfbf\">[08:02:09] </span><span style=\"color: #000080\">INFO</span>     Sending metric for task locally_tuned_model_validation, round number <span style=\"color: #000080; font-weight: bold\">7</span>: clean_accuracy  <span style=\"color: #000080; font-weight: bold\">0.7178</span>                           <a href=\"file:///home/itrushkin/.virtualenvs/fledge/lib/python3.6/site-packages/fledge/component/collaborator/collaborator.py\"><span style=\"color: #7f7f7f\">collaborator.py</span></a><span style=\"color: #7f7f7f\">:318</span>\n",
       "</pre>\n"
      ],
      "text/plain": [
       "<rich.jupyter.JupyterRenderable at 0x7f96aa556198>"
      ]
     },
     "metadata": {},
     "output_type": "display_data"
    },
    {
     "data": {
      "text/html": [
       "<pre style=\"white-space:pre;overflow-x:auto;line-height:normal;font-family:Menlo,'DejaVu Sans Mono',consolas,'Courier New',monospace\"><span style=\"color: #7fbfbf\">           </span><span style=\"color: #000080\">INFO</span>     Sending metric for task locally_tuned_model_validation, round number <span style=\"color: #000080; font-weight: bold\">7</span>: adversarial_accuracy    <span style=\"color: #000080; font-weight: bold\">0.4804</span>                   <a href=\"file:///home/itrushkin/.virtualenvs/fledge/lib/python3.6/site-packages/fledge/component/collaborator/collaborator.py\"><span style=\"color: #7f7f7f\">collaborator.py</span></a><span style=\"color: #7f7f7f\">:318</span>\n",
       "</pre>\n"
      ],
      "text/plain": [
       "<rich.jupyter.JupyterRenderable at 0x7f96aa556908>"
      ]
     },
     "metadata": {},
     "output_type": "display_data"
    },
    {
     "data": {
      "text/html": [
       "<pre style=\"white-space:pre;overflow-x:auto;line-height:normal;font-family:Menlo,'DejaVu Sans Mono',consolas,'Courier New',monospace\"><span style=\"color: #7fbfbf\">           </span><span style=\"color: #000080\">INFO</span>     Collaborator one is sending task results for locally_tuned_model_validation, round <span style=\"color: #000080; font-weight: bold\">7</span>                                       <a href=\"file:///home/itrushkin/.virtualenvs/fledge/lib/python3.6/site-packages/fledge/component/aggregator/aggregator.py\"><span style=\"color: #7f7f7f\">aggregator.py</span></a><span style=\"color: #7f7f7f\">:369</span>\n",
       "</pre>\n"
      ],
      "text/plain": [
       "<rich.jupyter.JupyterRenderable at 0x7f96aa556c50>"
      ]
     },
     "metadata": {},
     "output_type": "display_data"
    },
    {
     "data": {
      "text/html": [
       "<pre style=\"white-space:pre;overflow-x:auto;line-height:normal;font-family:Menlo,'DejaVu Sans Mono',consolas,'Courier New',monospace\"><span style=\"color: #7fbfbf\">           </span><span style=\"color: #000080\">INFO</span>     All tasks completed on one for round <span style=\"color: #000080; font-weight: bold\">7</span><span style=\"color: #808000\">...</span>                                                                                <a href=\"file:///home/itrushkin/.virtualenvs/fledge/lib/python3.6/site-packages/fledge/component/collaborator/collaborator.py\"><span style=\"color: #7f7f7f\">collaborator.py</span></a><span style=\"color: #7f7f7f\">:158</span>\n",
       "</pre>\n"
      ],
      "text/plain": [
       "<rich.jupyter.JupyterRenderable at 0x7f96aa556c50>"
      ]
     },
     "metadata": {},
     "output_type": "display_data"
    },
    {
     "data": {
      "text/html": [
       "<pre style=\"white-space:pre;overflow-x:auto;line-height:normal;font-family:Menlo,'DejaVu Sans Mono',consolas,'Courier New',monospace\"><span style=\"color: #7fbfbf\">           </span><span style=\"color: #000080\">INFO</span>     Aggregator GetTasks function reached from collaborator two<span style=\"color: #808000\">...</span>                                                              <a href=\"file:///home/itrushkin/.virtualenvs/fledge/lib/python3.6/site-packages/fledge/component/aggregator/aggregator.py\"><span style=\"color: #7f7f7f\">aggregator.py</span></a><span style=\"color: #7f7f7f\">:215</span>\n",
       "</pre>\n"
      ],
      "text/plain": [
       "<rich.jupyter.JupyterRenderable at 0x7f96aa61a5c0>"
      ]
     },
     "metadata": {},
     "output_type": "display_data"
    },
    {
     "data": {
      "text/html": [
       "<pre style=\"white-space:pre;overflow-x:auto;line-height:normal;font-family:Menlo,'DejaVu Sans Mono',consolas,'Courier New',monospace\"><span style=\"color: #7fbfbf\">           </span><span style=\"color: #000080\">INFO</span>     Sending tasks to collaborator two for round <span style=\"color: #000080; font-weight: bold\">7</span>                                                                              <a href=\"file:///home/itrushkin/.virtualenvs/fledge/lib/python3.6/site-packages/fledge/component/aggregator/aggregator.py\"><span style=\"color: #7f7f7f\">aggregator.py</span></a><span style=\"color: #7f7f7f\">:249</span>\n",
       "</pre>\n"
      ],
      "text/plain": [
       "<rich.jupyter.JupyterRenderable at 0x7f96aa556c50>"
      ]
     },
     "metadata": {},
     "output_type": "display_data"
    },
    {
     "data": {
      "text/html": [
       "<pre style=\"white-space:pre;overflow-x:auto;line-height:normal;font-family:Menlo,'DejaVu Sans Mono',consolas,'Courier New',monospace\"><span style=\"color: #7fbfbf\">           </span><span style=\"color: #000080\">INFO</span>     Received the following tasks: <span style=\"font-weight: bold\">[</span><span style=\"color: #008000\">'aggregated_model_validation'</span>, <span style=\"color: #008000\">'train'</span>, <span style=\"color: #008000\">'locally_tuned_model_validation'</span><span style=\"font-weight: bold\">]</span>                 <a href=\"file:///home/itrushkin/.virtualenvs/fledge/lib/python3.6/site-packages/fledge/component/collaborator/collaborator.py\"><span style=\"color: #7f7f7f\">collaborator.py</span></a><span style=\"color: #7f7f7f\">:155</span>\n",
       "</pre>\n"
      ],
      "text/plain": [
       "<rich.jupyter.JupyterRenderable at 0x7f96aa556c50>"
      ]
     },
     "metadata": {},
     "output_type": "display_data"
    },
    {
     "name": "stdout",
     "output_type": "stream",
     "text": [
      "FastEstimator-Test: step: 782; epoch: 2; clean_accuracy: 0.7268; adversarial_accuracy: 0.4946; \n"
     ]
    },
    {
     "data": {
      "text/html": [
       "<pre style=\"white-space:pre;overflow-x:auto;line-height:normal;font-family:Menlo,'DejaVu Sans Mono',consolas,'Courier New',monospace\"><span style=\"color: #7fbfbf\">[08:02:10] </span><span style=\"color: #000080\">INFO</span>     Sending metric for task aggregated_model_validation, round number <span style=\"color: #000080; font-weight: bold\">7</span>: clean_accuracy     <span style=\"color: #000080; font-weight: bold\">0.7268</span>                           <a href=\"file:///home/itrushkin/.virtualenvs/fledge/lib/python3.6/site-packages/fledge/component/collaborator/collaborator.py\"><span style=\"color: #7f7f7f\">collaborator.py</span></a><span style=\"color: #7f7f7f\">:318</span>\n",
       "</pre>\n"
      ],
      "text/plain": [
       "<rich.jupyter.JupyterRenderable at 0x7f96aa6d8588>"
      ]
     },
     "metadata": {},
     "output_type": "display_data"
    },
    {
     "data": {
      "text/html": [
       "<pre style=\"white-space:pre;overflow-x:auto;line-height:normal;font-family:Menlo,'DejaVu Sans Mono',consolas,'Courier New',monospace\"><span style=\"color: #7fbfbf\">           </span><span style=\"color: #000080\">INFO</span>     Sending metric for task aggregated_model_validation, round number <span style=\"color: #000080; font-weight: bold\">7</span>: adversarial_accuracy       <span style=\"color: #000080; font-weight: bold\">0.4946</span>                   <a href=\"file:///home/itrushkin/.virtualenvs/fledge/lib/python3.6/site-packages/fledge/component/collaborator/collaborator.py\"><span style=\"color: #7f7f7f\">collaborator.py</span></a><span style=\"color: #7f7f7f\">:318</span>\n",
       "</pre>\n"
      ],
      "text/plain": [
       "<rich.jupyter.JupyterRenderable at 0x7f96aa6d8e10>"
      ]
     },
     "metadata": {},
     "output_type": "display_data"
    },
    {
     "data": {
      "text/html": [
       "<pre style=\"white-space:pre;overflow-x:auto;line-height:normal;font-family:Menlo,'DejaVu Sans Mono',consolas,'Courier New',monospace\"><span style=\"color: #7fbfbf\">           </span><span style=\"color: #000080\">INFO</span>     Collaborator two is sending task results for aggregated_model_validation, round <span style=\"color: #000080; font-weight: bold\">7</span>                                          <a href=\"file:///home/itrushkin/.virtualenvs/fledge/lib/python3.6/site-packages/fledge/component/aggregator/aggregator.py\"><span style=\"color: #7f7f7f\">aggregator.py</span></a><span style=\"color: #7f7f7f\">:369</span>\n",
       "</pre>\n"
      ],
      "text/plain": [
       "<rich.jupyter.JupyterRenderable at 0x7f96aa6d8a90>"
      ]
     },
     "metadata": {},
     "output_type": "display_data"
    },
    {
     "name": "stdout",
     "output_type": "stream",
     "text": [
      "    ______           __  ______     __  _                 __            \n",
      "   / ____/___ ______/ /_/ ____/____/ /_(_)___ ___  ____ _/ /_____  _____\n",
      "  / /_  / __ `/ ___/ __/ __/ / ___/ __/ / __ `__ \\/ __ `/ __/ __ \\/ ___/\n",
      " / __/ / /_/ (__  ) /_/ /___(__  ) /_/ / / / / / / /_/ / /_/ /_/ / /    \n",
      "/_/    \\__,_/____/\\__/_____/____/\\__/_/_/ /_/ /_/\\__,_/\\__/\\____/_/     \n",
      "                                                                        \n",
      "\n",
      "FastEstimator-Warn: No ModelSaver Trace detected. Models will not be saved.\n",
      "FastEstimator-Start: step: 1; num_device: 3; logging_interval: 1000; \n",
      "FastEstimator-Train: step: 1; base_ce: 0.45641446; avg_ce: 0.7002706; adv_ce: 0.9441267; \n",
      "FastEstimator-Train: step: 391; epoch: 1; epoch_time: 11.03 sec; \n",
      "FastEstimator-Eval: step: 391; epoch: 1; base_ce: 0.7938599; avg_ce: 1.1170957; adv_ce: 1.4403313; clean_accuracy: 0.7292; adversarial_accuracy: 0.495; \n",
      "FastEstimator-Train: step: 782; epoch: 2; epoch_time: 11.25 sec; \n",
      "FastEstimator-Eval: step: 782; epoch: 2; base_ce: 0.8198279; avg_ce: 1.1407326; adv_ce: 1.4616374; clean_accuracy: 0.7218; adversarial_accuracy: 0.4946; \n",
      "FastEstimator-Finish: step: 782; total_time: 26.87 sec; adv_model_lr: 0.001; \n"
     ]
    },
    {
     "data": {
      "text/html": [
       "<pre style=\"white-space:pre;overflow-x:auto;line-height:normal;font-family:Menlo,'DejaVu Sans Mono',consolas,'Courier New',monospace\"><span style=\"color: #7fbfbf\">[08:02:39] </span><span style=\"color: #000080\">INFO</span>     Sending metric for task train, round number <span style=\"color: #000080; font-weight: bold\">7</span>: adv_ce   <span style=\"color: #000080; font-weight: bold\">0.9441267251968384</span>                                               <a href=\"file:///home/itrushkin/.virtualenvs/fledge/lib/python3.6/site-packages/fledge/component/collaborator/collaborator.py\"><span style=\"color: #7f7f7f\">collaborator.py</span></a><span style=\"color: #7f7f7f\">:318</span>\n",
       "</pre>\n"
      ],
      "text/plain": [
       "<rich.jupyter.JupyterRenderable at 0x7f96aa718fd0>"
      ]
     },
     "metadata": {},
     "output_type": "display_data"
    },
    {
     "data": {
      "text/html": [
       "<pre style=\"white-space:pre;overflow-x:auto;line-height:normal;font-family:Menlo,'DejaVu Sans Mono',consolas,'Courier New',monospace\"><span style=\"color: #7fbfbf\">           </span><span style=\"color: #000080\">INFO</span>     Sending metric for task train, round number <span style=\"color: #000080; font-weight: bold\">7</span>: base_ce  <span style=\"color: #000080; font-weight: bold\">0.45641446113586426</span>                                              <a href=\"file:///home/itrushkin/.virtualenvs/fledge/lib/python3.6/site-packages/fledge/component/collaborator/collaborator.py\"><span style=\"color: #7f7f7f\">collaborator.py</span></a><span style=\"color: #7f7f7f\">:318</span>\n",
       "</pre>\n"
      ],
      "text/plain": [
       "<rich.jupyter.JupyterRenderable at 0x7f96aa9ad748>"
      ]
     },
     "metadata": {},
     "output_type": "display_data"
    },
    {
     "data": {
      "text/html": [
       "<pre style=\"white-space:pre;overflow-x:auto;line-height:normal;font-family:Menlo,'DejaVu Sans Mono',consolas,'Courier New',monospace\"><span style=\"color: #7fbfbf\">           </span><span style=\"color: #000080\">INFO</span>     Collaborator two is sending task results for train, round <span style=\"color: #000080; font-weight: bold\">7</span>                                                                <a href=\"file:///home/itrushkin/.virtualenvs/fledge/lib/python3.6/site-packages/fledge/component/aggregator/aggregator.py\"><span style=\"color: #7f7f7f\">aggregator.py</span></a><span style=\"color: #7f7f7f\">:369</span>\n",
       "</pre>\n"
      ],
      "text/plain": [
       "<rich.jupyter.JupyterRenderable at 0x7f96aa6d86d8>"
      ]
     },
     "metadata": {},
     "output_type": "display_data"
    },
    {
     "name": "stdout",
     "output_type": "stream",
     "text": [
      "FastEstimator-Test: step: 782; epoch: 2; clean_accuracy: 0.7094; adversarial_accuracy: 0.4828; \n"
     ]
    },
    {
     "data": {
      "text/html": [
       "<pre style=\"white-space:pre;overflow-x:auto;line-height:normal;font-family:Menlo,'DejaVu Sans Mono',consolas,'Courier New',monospace\"><span style=\"color: #7fbfbf\">[08:02:40] </span><span style=\"color: #000080\">INFO</span>     Sending metric for task locally_tuned_model_validation, round number <span style=\"color: #000080; font-weight: bold\">7</span>: clean_accuracy  <span style=\"color: #000080; font-weight: bold\">0.7094</span>                           <a href=\"file:///home/itrushkin/.virtualenvs/fledge/lib/python3.6/site-packages/fledge/component/collaborator/collaborator.py\"><span style=\"color: #7f7f7f\">collaborator.py</span></a><span style=\"color: #7f7f7f\">:318</span>\n",
       "</pre>\n"
      ],
      "text/plain": [
       "<rich.jupyter.JupyterRenderable at 0x7f96aca97b38>"
      ]
     },
     "metadata": {},
     "output_type": "display_data"
    },
    {
     "data": {
      "text/html": [
       "<pre style=\"white-space:pre;overflow-x:auto;line-height:normal;font-family:Menlo,'DejaVu Sans Mono',consolas,'Courier New',monospace\"><span style=\"color: #7fbfbf\">           </span><span style=\"color: #000080\">INFO</span>     Sending metric for task locally_tuned_model_validation, round number <span style=\"color: #000080; font-weight: bold\">7</span>: adversarial_accuracy    <span style=\"color: #000080; font-weight: bold\">0.4828</span>                   <a href=\"file:///home/itrushkin/.virtualenvs/fledge/lib/python3.6/site-packages/fledge/component/collaborator/collaborator.py\"><span style=\"color: #7f7f7f\">collaborator.py</span></a><span style=\"color: #7f7f7f\">:318</span>\n",
       "</pre>\n"
      ],
      "text/plain": [
       "<rich.jupyter.JupyterRenderable at 0x7f96aca97b38>"
      ]
     },
     "metadata": {},
     "output_type": "display_data"
    },
    {
     "data": {
      "text/html": [
       "<pre style=\"white-space:pre;overflow-x:auto;line-height:normal;font-family:Menlo,'DejaVu Sans Mono',consolas,'Courier New',monospace\"><span style=\"color: #7fbfbf\">           </span><span style=\"color: #000080\">INFO</span>     Collaborator two is sending task results for locally_tuned_model_validation, round <span style=\"color: #000080; font-weight: bold\">7</span>                                       <a href=\"file:///home/itrushkin/.virtualenvs/fledge/lib/python3.6/site-packages/fledge/component/aggregator/aggregator.py\"><span style=\"color: #7f7f7f\">aggregator.py</span></a><span style=\"color: #7f7f7f\">:369</span>\n",
       "</pre>\n"
      ],
      "text/plain": [
       "<rich.jupyter.JupyterRenderable at 0x7f96aca97b38>"
      ]
     },
     "metadata": {},
     "output_type": "display_data"
    },
    {
     "data": {
      "text/html": [
       "<pre style=\"white-space:pre;overflow-x:auto;line-height:normal;font-family:Menlo,'DejaVu Sans Mono',consolas,'Courier New',monospace\"><span style=\"color: #7fbfbf\">           </span><span style=\"color: #000080\">INFO</span>     train task metrics<span style=\"color: #808000\">...</span>                                                                                                      <a href=\"file:///home/itrushkin/.virtualenvs/fledge/lib/python3.6/site-packages/fledge/component/aggregator/aggregator.py\"><span style=\"color: #7f7f7f\">aggregator.py</span></a><span style=\"color: #7f7f7f\">:505</span>\n",
       "</pre>\n"
      ],
      "text/plain": [
       "<rich.jupyter.JupyterRenderable at 0x7f96aa629438>"
      ]
     },
     "metadata": {},
     "output_type": "display_data"
    },
    {
     "data": {
      "text/html": [
       "<pre style=\"white-space:pre;overflow-x:auto;line-height:normal;font-family:Menlo,'DejaVu Sans Mono',consolas,'Courier New',monospace\"><span style=\"color: #7fbfbf\">           </span><span style=\"color: #000080\">INFO</span>     adv_ce: <span style=\"color: #000080; font-weight: bold\">0.9863</span>                                                                                                             <a href=\"file:///home/itrushkin/.virtualenvs/fledge/lib/python3.6/site-packages/fledge/component/aggregator/aggregator.py\"><span style=\"color: #7f7f7f\">aggregator.py</span></a><span style=\"color: #7f7f7f\">:539</span>\n",
       "</pre>\n"
      ],
      "text/plain": [
       "<rich.jupyter.JupyterRenderable at 0x7f96aa629358>"
      ]
     },
     "metadata": {},
     "output_type": "display_data"
    },
    {
     "data": {
      "text/html": [
       "<pre style=\"white-space:pre;overflow-x:auto;line-height:normal;font-family:Menlo,'DejaVu Sans Mono',consolas,'Courier New',monospace\"><span style=\"color: #7fbfbf\">           </span><span style=\"color: #000080\">INFO</span>     base_ce:        <span style=\"color: #000080; font-weight: bold\">0.5054</span>                                                                                                     <a href=\"file:///home/itrushkin/.virtualenvs/fledge/lib/python3.6/site-packages/fledge/component/aggregator/aggregator.py\"><span style=\"color: #7f7f7f\">aggregator.py</span></a><span style=\"color: #7f7f7f\">:539</span>\n",
       "</pre>\n"
      ],
      "text/plain": [
       "<rich.jupyter.JupyterRenderable at 0x7f96aa6293c8>"
      ]
     },
     "metadata": {},
     "output_type": "display_data"
    },
    {
     "data": {
      "text/html": [
       "<pre style=\"white-space:pre;overflow-x:auto;line-height:normal;font-family:Menlo,'DejaVu Sans Mono',consolas,'Courier New',monospace\"><span style=\"color: #7fbfbf\">[08:02:41] </span><span style=\"color: #000080\">INFO</span>     locally_tuned_model_validation task metrics<span style=\"color: #808000\">...</span>                                                                             <a href=\"file:///home/itrushkin/.virtualenvs/fledge/lib/python3.6/site-packages/fledge/component/aggregator/aggregator.py\"><span style=\"color: #7f7f7f\">aggregator.py</span></a><span style=\"color: #7f7f7f\">:505</span>\n",
       "</pre>\n"
      ],
      "text/plain": [
       "<rich.jupyter.JupyterRenderable at 0x7f96aa629240>"
      ]
     },
     "metadata": {},
     "output_type": "display_data"
    },
    {
     "data": {
      "text/html": [
       "<pre style=\"white-space:pre;overflow-x:auto;line-height:normal;font-family:Menlo,'DejaVu Sans Mono',consolas,'Courier New',monospace\"><span style=\"color: #7fbfbf\">           </span><span style=\"color: #000080\">INFO</span>     clean_accuracy: <span style=\"color: #000080; font-weight: bold\">0.7136</span>                                                                                                     <a href=\"file:///home/itrushkin/.virtualenvs/fledge/lib/python3.6/site-packages/fledge/component/aggregator/aggregator.py\"><span style=\"color: #7f7f7f\">aggregator.py</span></a><span style=\"color: #7f7f7f\">:539</span>\n",
       "</pre>\n"
      ],
      "text/plain": [
       "<rich.jupyter.JupyterRenderable at 0x7f96aa629128>"
      ]
     },
     "metadata": {},
     "output_type": "display_data"
    },
    {
     "data": {
      "text/html": [
       "<pre style=\"white-space:pre;overflow-x:auto;line-height:normal;font-family:Menlo,'DejaVu Sans Mono',consolas,'Courier New',monospace\"><span style=\"color: #7fbfbf\">           </span><span style=\"color: #000080\">INFO</span>     adversarial_accuracy:   <span style=\"color: #000080; font-weight: bold\">0.4816</span>                                                                                             <a href=\"file:///home/itrushkin/.virtualenvs/fledge/lib/python3.6/site-packages/fledge/component/aggregator/aggregator.py\"><span style=\"color: #7f7f7f\">aggregator.py</span></a><span style=\"color: #7f7f7f\">:539</span>\n",
       "</pre>\n"
      ],
      "text/plain": [
       "<rich.jupyter.JupyterRenderable at 0x7f96aa6296a0>"
      ]
     },
     "metadata": {},
     "output_type": "display_data"
    },
    {
     "data": {
      "text/html": [
       "<pre style=\"white-space:pre;overflow-x:auto;line-height:normal;font-family:Menlo,'DejaVu Sans Mono',consolas,'Courier New',monospace\"><span style=\"color: #7fbfbf\">           </span><span style=\"color: #000080\">INFO</span>     aggregated_model_validation task metrics<span style=\"color: #808000\">...</span>                                                                                <a href=\"file:///home/itrushkin/.virtualenvs/fledge/lib/python3.6/site-packages/fledge/component/aggregator/aggregator.py\"><span style=\"color: #7f7f7f\">aggregator.py</span></a><span style=\"color: #7f7f7f\">:505</span>\n",
       "</pre>\n"
      ],
      "text/plain": [
       "<rich.jupyter.JupyterRenderable at 0x7f96aa629cf8>"
      ]
     },
     "metadata": {},
     "output_type": "display_data"
    },
    {
     "data": {
      "text/html": [
       "<pre style=\"white-space:pre;overflow-x:auto;line-height:normal;font-family:Menlo,'DejaVu Sans Mono',consolas,'Courier New',monospace\"><span style=\"color: #7fbfbf\">           </span><span style=\"color: #000080\">INFO</span>     clean_accuracy: <span style=\"color: #000080; font-weight: bold\">0.7268</span>                                                                                                     <a href=\"file:///home/itrushkin/.virtualenvs/fledge/lib/python3.6/site-packages/fledge/component/aggregator/aggregator.py\"><span style=\"color: #7f7f7f\">aggregator.py</span></a><span style=\"color: #7f7f7f\">:539</span>\n",
       "</pre>\n"
      ],
      "text/plain": [
       "<rich.jupyter.JupyterRenderable at 0x7f96aa6296d8>"
      ]
     },
     "metadata": {},
     "output_type": "display_data"
    },
    {
     "data": {
      "text/html": [
       "<pre style=\"white-space:pre;overflow-x:auto;line-height:normal;font-family:Menlo,'DejaVu Sans Mono',consolas,'Courier New',monospace\"><span style=\"color: #7fbfbf\">           </span><span style=\"color: #000080\">INFO</span>     Saved the best model with score <span style=\"color: #000080; font-weight: bold\">0.726800</span>                                                                                   <a href=\"file:///home/itrushkin/.virtualenvs/fledge/lib/python3.6/site-packages/fledge/component/aggregator/aggregator.py\"><span style=\"color: #7f7f7f\">aggregator.py</span></a><span style=\"color: #7f7f7f\">:546</span>\n",
       "</pre>\n"
      ],
      "text/plain": [
       "<rich.jupyter.JupyterRenderable at 0x7f96aa629240>"
      ]
     },
     "metadata": {},
     "output_type": "display_data"
    },
    {
     "data": {
      "text/html": [
       "<pre style=\"white-space:pre;overflow-x:auto;line-height:normal;font-family:Menlo,'DejaVu Sans Mono',consolas,'Courier New',monospace\"><span style=\"color: #7fbfbf\">           </span><span style=\"color: #000080\">INFO</span>     adversarial_accuracy:   <span style=\"color: #000080; font-weight: bold\">0.4946</span>                                                                                             <a href=\"file:///home/itrushkin/.virtualenvs/fledge/lib/python3.6/site-packages/fledge/component/aggregator/aggregator.py\"><span style=\"color: #7f7f7f\">aggregator.py</span></a><span style=\"color: #7f7f7f\">:539</span>\n",
       "</pre>\n"
      ],
      "text/plain": [
       "<rich.jupyter.JupyterRenderable at 0x7f96aa629be0>"
      ]
     },
     "metadata": {},
     "output_type": "display_data"
    },
    {
     "data": {
      "text/html": [
       "<pre style=\"white-space:pre;overflow-x:auto;line-height:normal;font-family:Menlo,'DejaVu Sans Mono',consolas,'Courier New',monospace\"><span style=\"color: #7fbfbf\">           </span><span style=\"color: #000080\">INFO</span>     Saving round <span style=\"color: #000080; font-weight: bold\">8</span> model<span style=\"color: #808000\">...</span>                                                                                                    <a href=\"file:///home/itrushkin/.virtualenvs/fledge/lib/python3.6/site-packages/fledge/component/aggregator/aggregator.py\"><span style=\"color: #7f7f7f\">aggregator.py</span></a><span style=\"color: #7f7f7f\">:602</span>\n",
       "</pre>\n"
      ],
      "text/plain": [
       "<rich.jupyter.JupyterRenderable at 0x7f96aa629550>"
      ]
     },
     "metadata": {},
     "output_type": "display_data"
    },
    {
     "data": {
      "text/html": [
       "<pre style=\"white-space:pre;overflow-x:auto;line-height:normal;font-family:Menlo,'DejaVu Sans Mono',consolas,'Courier New',monospace\"><span style=\"color: #7fbfbf\">           </span><span style=\"color: #000080\">INFO</span>     Starting round <span style=\"color: #000080; font-weight: bold\">8</span><span style=\"color: #808000\">...</span>                                                                                                        <a href=\"file:///home/itrushkin/.virtualenvs/fledge/lib/python3.6/site-packages/fledge/component/aggregator/aggregator.py\"><span style=\"color: #7f7f7f\">aggregator.py</span></a><span style=\"color: #7f7f7f\">:610</span>\n",
       "</pre>\n"
      ],
      "text/plain": [
       "<rich.jupyter.JupyterRenderable at 0x7f96aa6299e8>"
      ]
     },
     "metadata": {},
     "output_type": "display_data"
    },
    {
     "data": {
      "text/html": [
       "<pre style=\"white-space:pre;overflow-x:auto;line-height:normal;font-family:Menlo,'DejaVu Sans Mono',consolas,'Courier New',monospace\"><span style=\"color: #7fbfbf\">           </span><span style=\"color: #000080\">INFO</span>     All tasks completed on two for round <span style=\"color: #000080; font-weight: bold\">7</span><span style=\"color: #808000\">...</span>                                                                                <a href=\"file:///home/itrushkin/.virtualenvs/fledge/lib/python3.6/site-packages/fledge/component/collaborator/collaborator.py\"><span style=\"color: #7f7f7f\">collaborator.py</span></a><span style=\"color: #7f7f7f\">:158</span>\n",
       "</pre>\n"
      ],
      "text/plain": [
       "<rich.jupyter.JupyterRenderable at 0x7f96aa629630>"
      ]
     },
     "metadata": {},
     "output_type": "display_data"
    },
    {
     "data": {
      "text/html": [
       "<pre style=\"white-space:pre;overflow-x:auto;line-height:normal;font-family:Menlo,'DejaVu Sans Mono',consolas,'Courier New',monospace\"><span style=\"color: #7fbfbf\">           </span><span style=\"color: #000080\">INFO</span>     Aggregator GetTasks function reached from collaborator one<span style=\"color: #808000\">...</span>                                                              <a href=\"file:///home/itrushkin/.virtualenvs/fledge/lib/python3.6/site-packages/fledge/component/aggregator/aggregator.py\"><span style=\"color: #7f7f7f\">aggregator.py</span></a><span style=\"color: #7f7f7f\">:215</span>\n",
       "</pre>\n"
      ],
      "text/plain": [
       "<rich.jupyter.JupyterRenderable at 0x7f96aa6295c0>"
      ]
     },
     "metadata": {},
     "output_type": "display_data"
    },
    {
     "data": {
      "text/html": [
       "<pre style=\"white-space:pre;overflow-x:auto;line-height:normal;font-family:Menlo,'DejaVu Sans Mono',consolas,'Courier New',monospace\"><span style=\"color: #7fbfbf\">           </span><span style=\"color: #000080\">INFO</span>     Sending tasks to collaborator one for round <span style=\"color: #000080; font-weight: bold\">8</span>                                                                              <a href=\"file:///home/itrushkin/.virtualenvs/fledge/lib/python3.6/site-packages/fledge/component/aggregator/aggregator.py\"><span style=\"color: #7f7f7f\">aggregator.py</span></a><span style=\"color: #7f7f7f\">:249</span>\n",
       "</pre>\n"
      ],
      "text/plain": [
       "<rich.jupyter.JupyterRenderable at 0x7f96aa629780>"
      ]
     },
     "metadata": {},
     "output_type": "display_data"
    },
    {
     "data": {
      "text/html": [
       "<pre style=\"white-space:pre;overflow-x:auto;line-height:normal;font-family:Menlo,'DejaVu Sans Mono',consolas,'Courier New',monospace\"><span style=\"color: #7fbfbf\">           </span><span style=\"color: #000080\">INFO</span>     Received the following tasks: <span style=\"font-weight: bold\">[</span><span style=\"color: #008000\">'aggregated_model_validation'</span>, <span style=\"color: #008000\">'train'</span>, <span style=\"color: #008000\">'locally_tuned_model_validation'</span><span style=\"font-weight: bold\">]</span>                 <a href=\"file:///home/itrushkin/.virtualenvs/fledge/lib/python3.6/site-packages/fledge/component/collaborator/collaborator.py\"><span style=\"color: #7f7f7f\">collaborator.py</span></a><span style=\"color: #7f7f7f\">:155</span>\n",
       "</pre>\n"
      ],
      "text/plain": [
       "<rich.jupyter.JupyterRenderable at 0x7f96aa6299b0>"
      ]
     },
     "metadata": {},
     "output_type": "display_data"
    },
    {
     "name": "stdout",
     "output_type": "stream",
     "text": [
      "FastEstimator-Test: step: 782; epoch: 2; clean_accuracy: 0.7262; adversarial_accuracy: 0.4938; \n"
     ]
    },
    {
     "data": {
      "text/html": [
       "<pre style=\"white-space:pre;overflow-x:auto;line-height:normal;font-family:Menlo,'DejaVu Sans Mono',consolas,'Courier New',monospace\"><span style=\"color: #7fbfbf\">[08:02:42] </span><span style=\"color: #000080\">INFO</span>     Sending metric for task aggregated_model_validation, round number <span style=\"color: #000080; font-weight: bold\">8</span>: clean_accuracy     <span style=\"color: #000080; font-weight: bold\">0.7262</span>                           <a href=\"file:///home/itrushkin/.virtualenvs/fledge/lib/python3.6/site-packages/fledge/component/collaborator/collaborator.py\"><span style=\"color: #7f7f7f\">collaborator.py</span></a><span style=\"color: #7f7f7f\">:318</span>\n",
       "</pre>\n"
      ],
      "text/plain": [
       "<rich.jupyter.JupyterRenderable at 0x7f96aa4ea518>"
      ]
     },
     "metadata": {},
     "output_type": "display_data"
    },
    {
     "data": {
      "text/html": [
       "<pre style=\"white-space:pre;overflow-x:auto;line-height:normal;font-family:Menlo,'DejaVu Sans Mono',consolas,'Courier New',monospace\"><span style=\"color: #7fbfbf\">           </span><span style=\"color: #000080\">INFO</span>     Sending metric for task aggregated_model_validation, round number <span style=\"color: #000080; font-weight: bold\">8</span>: adversarial_accuracy       <span style=\"color: #000080; font-weight: bold\">0.4938</span>                   <a href=\"file:///home/itrushkin/.virtualenvs/fledge/lib/python3.6/site-packages/fledge/component/collaborator/collaborator.py\"><span style=\"color: #7f7f7f\">collaborator.py</span></a><span style=\"color: #7f7f7f\">:318</span>\n",
       "</pre>\n"
      ],
      "text/plain": [
       "<rich.jupyter.JupyterRenderable at 0x7f96aa7165f8>"
      ]
     },
     "metadata": {},
     "output_type": "display_data"
    },
    {
     "data": {
      "text/html": [
       "<pre style=\"white-space:pre;overflow-x:auto;line-height:normal;font-family:Menlo,'DejaVu Sans Mono',consolas,'Courier New',monospace\"><span style=\"color: #7fbfbf\">           </span><span style=\"color: #000080\">INFO</span>     Collaborator one is sending task results for aggregated_model_validation, round <span style=\"color: #000080; font-weight: bold\">8</span>                                          <a href=\"file:///home/itrushkin/.virtualenvs/fledge/lib/python3.6/site-packages/fledge/component/aggregator/aggregator.py\"><span style=\"color: #7f7f7f\">aggregator.py</span></a><span style=\"color: #7f7f7f\">:369</span>\n",
       "</pre>\n"
      ],
      "text/plain": [
       "<rich.jupyter.JupyterRenderable at 0x7f96aa4ea390>"
      ]
     },
     "metadata": {},
     "output_type": "display_data"
    },
    {
     "name": "stdout",
     "output_type": "stream",
     "text": [
      "    ______           __  ______     __  _                 __            \n",
      "   / ____/___ ______/ /_/ ____/____/ /_(_)___ ___  ____ _/ /_____  _____\n",
      "  / /_  / __ `/ ___/ __/ __/ / ___/ __/ / __ `__ \\/ __ `/ __/ __ \\/ ___/\n",
      " / __/ / /_/ (__  ) /_/ /___(__  ) /_/ / / / / / / /_/ / /_/ /_/ / /    \n",
      "/_/    \\__,_/____/\\__/_____/____/\\__/_/_/ /_/ /_/\\__,_/\\__/\\____/_/     \n",
      "                                                                        \n",
      "\n",
      "FastEstimator-Warn: No ModelSaver Trace detected. Models will not be saved.\n",
      "FastEstimator-Start: step: 1; num_device: 3; logging_interval: 1000; \n",
      "FastEstimator-Train: step: 1; base_ce: 0.40860647; avg_ce: 0.64319086; adv_ce: 0.8777753; \n",
      "FastEstimator-Train: step: 391; epoch: 1; epoch_time: 11.14 sec; \n",
      "FastEstimator-Eval: step: 391; epoch: 1; base_ce: 0.79115117; avg_ce: 1.1163988; adv_ce: 1.4416463; clean_accuracy: 0.7352; adversarial_accuracy: 0.5004; \n",
      "FastEstimator-Train: step: 782; epoch: 2; epoch_time: 11.19 sec; \n",
      "FastEstimator-Eval: step: 782; epoch: 2; base_ce: 0.80602586; avg_ce: 1.1462651; adv_ce: 1.4865046; clean_accuracy: 0.7238; adversarial_accuracy: 0.4892; \n",
      "FastEstimator-Finish: step: 782; total_time: 26.68 sec; adv_model_lr: 0.001; \n"
     ]
    },
    {
     "data": {
      "text/html": [
       "<pre style=\"white-space:pre;overflow-x:auto;line-height:normal;font-family:Menlo,'DejaVu Sans Mono',consolas,'Courier New',monospace\"><span style=\"color: #7fbfbf\">[08:03:11] </span><span style=\"color: #000080\">INFO</span>     Sending metric for task train, round number <span style=\"color: #000080; font-weight: bold\">8</span>: adv_ce   <span style=\"color: #000080; font-weight: bold\">0.8777753114700317</span>                                               <a href=\"file:///home/itrushkin/.virtualenvs/fledge/lib/python3.6/site-packages/fledge/component/collaborator/collaborator.py\"><span style=\"color: #7f7f7f\">collaborator.py</span></a><span style=\"color: #7f7f7f\">:318</span>\n",
       "</pre>\n"
      ],
      "text/plain": [
       "<rich.jupyter.JupyterRenderable at 0x7f96aa716860>"
      ]
     },
     "metadata": {},
     "output_type": "display_data"
    },
    {
     "data": {
      "text/html": [
       "<pre style=\"white-space:pre;overflow-x:auto;line-height:normal;font-family:Menlo,'DejaVu Sans Mono',consolas,'Courier New',monospace\"><span style=\"color: #7fbfbf\">           </span><span style=\"color: #000080\">INFO</span>     Sending metric for task train, round number <span style=\"color: #000080; font-weight: bold\">8</span>: base_ce  <span style=\"color: #000080; font-weight: bold\">0.40860646963119507</span>                                              <a href=\"file:///home/itrushkin/.virtualenvs/fledge/lib/python3.6/site-packages/fledge/component/collaborator/collaborator.py\"><span style=\"color: #7f7f7f\">collaborator.py</span></a><span style=\"color: #7f7f7f\">:318</span>\n",
       "</pre>\n"
      ],
      "text/plain": [
       "<rich.jupyter.JupyterRenderable at 0x7f96aa716438>"
      ]
     },
     "metadata": {},
     "output_type": "display_data"
    },
    {
     "data": {
      "text/html": [
       "<pre style=\"white-space:pre;overflow-x:auto;line-height:normal;font-family:Menlo,'DejaVu Sans Mono',consolas,'Courier New',monospace\"><span style=\"color: #7fbfbf\">           </span><span style=\"color: #000080\">INFO</span>     Collaborator one is sending task results for train, round <span style=\"color: #000080; font-weight: bold\">8</span>                                                                <a href=\"file:///home/itrushkin/.virtualenvs/fledge/lib/python3.6/site-packages/fledge/component/aggregator/aggregator.py\"><span style=\"color: #7f7f7f\">aggregator.py</span></a><span style=\"color: #7f7f7f\">:369</span>\n",
       "</pre>\n"
      ],
      "text/plain": [
       "<rich.jupyter.JupyterRenderable at 0x7f96aa716438>"
      ]
     },
     "metadata": {},
     "output_type": "display_data"
    },
    {
     "name": "stdout",
     "output_type": "stream",
     "text": [
      "FastEstimator-Test: step: 782; epoch: 2; clean_accuracy: 0.7202; adversarial_accuracy: 0.4842; \n"
     ]
    },
    {
     "data": {
      "text/html": [
       "<pre style=\"white-space:pre;overflow-x:auto;line-height:normal;font-family:Menlo,'DejaVu Sans Mono',consolas,'Courier New',monospace\"><span style=\"color: #7fbfbf\">[08:03:12] </span><span style=\"color: #000080\">INFO</span>     Sending metric for task locally_tuned_model_validation, round number <span style=\"color: #000080; font-weight: bold\">8</span>: clean_accuracy  <span style=\"color: #000080; font-weight: bold\">0.7202</span>                           <a href=\"file:///home/itrushkin/.virtualenvs/fledge/lib/python3.6/site-packages/fledge/component/collaborator/collaborator.py\"><span style=\"color: #7f7f7f\">collaborator.py</span></a><span style=\"color: #7f7f7f\">:318</span>\n",
       "</pre>\n"
      ],
      "text/plain": [
       "<rich.jupyter.JupyterRenderable at 0x7f96aa548c18>"
      ]
     },
     "metadata": {},
     "output_type": "display_data"
    },
    {
     "data": {
      "text/html": [
       "<pre style=\"white-space:pre;overflow-x:auto;line-height:normal;font-family:Menlo,'DejaVu Sans Mono',consolas,'Courier New',monospace\"><span style=\"color: #7fbfbf\">           </span><span style=\"color: #000080\">INFO</span>     Sending metric for task locally_tuned_model_validation, round number <span style=\"color: #000080; font-weight: bold\">8</span>: adversarial_accuracy    <span style=\"color: #000080; font-weight: bold\">0.4842</span>                   <a href=\"file:///home/itrushkin/.virtualenvs/fledge/lib/python3.6/site-packages/fledge/component/collaborator/collaborator.py\"><span style=\"color: #7f7f7f\">collaborator.py</span></a><span style=\"color: #7f7f7f\">:318</span>\n",
       "</pre>\n"
      ],
      "text/plain": [
       "<rich.jupyter.JupyterRenderable at 0x7f96aa5c3278>"
      ]
     },
     "metadata": {},
     "output_type": "display_data"
    },
    {
     "data": {
      "text/html": [
       "<pre style=\"white-space:pre;overflow-x:auto;line-height:normal;font-family:Menlo,'DejaVu Sans Mono',consolas,'Courier New',monospace\"><span style=\"color: #7fbfbf\">           </span><span style=\"color: #000080\">INFO</span>     Collaborator one is sending task results for locally_tuned_model_validation, round <span style=\"color: #000080; font-weight: bold\">8</span>                                       <a href=\"file:///home/itrushkin/.virtualenvs/fledge/lib/python3.6/site-packages/fledge/component/aggregator/aggregator.py\"><span style=\"color: #7f7f7f\">aggregator.py</span></a><span style=\"color: #7f7f7f\">:369</span>\n",
       "</pre>\n"
      ],
      "text/plain": [
       "<rich.jupyter.JupyterRenderable at 0x7f96aa548c18>"
      ]
     },
     "metadata": {},
     "output_type": "display_data"
    },
    {
     "data": {
      "text/html": [
       "<pre style=\"white-space:pre;overflow-x:auto;line-height:normal;font-family:Menlo,'DejaVu Sans Mono',consolas,'Courier New',monospace\"><span style=\"color: #7fbfbf\">           </span><span style=\"color: #000080\">INFO</span>     All tasks completed on one for round <span style=\"color: #000080; font-weight: bold\">8</span><span style=\"color: #808000\">...</span>                                                                                <a href=\"file:///home/itrushkin/.virtualenvs/fledge/lib/python3.6/site-packages/fledge/component/collaborator/collaborator.py\"><span style=\"color: #7f7f7f\">collaborator.py</span></a><span style=\"color: #7f7f7f\">:158</span>\n",
       "</pre>\n"
      ],
      "text/plain": [
       "<rich.jupyter.JupyterRenderable at 0x7f96aa5f7390>"
      ]
     },
     "metadata": {},
     "output_type": "display_data"
    },
    {
     "data": {
      "text/html": [
       "<pre style=\"white-space:pre;overflow-x:auto;line-height:normal;font-family:Menlo,'DejaVu Sans Mono',consolas,'Courier New',monospace\"><span style=\"color: #7fbfbf\">           </span><span style=\"color: #000080\">INFO</span>     Aggregator GetTasks function reached from collaborator two<span style=\"color: #808000\">...</span>                                                              <a href=\"file:///home/itrushkin/.virtualenvs/fledge/lib/python3.6/site-packages/fledge/component/aggregator/aggregator.py\"><span style=\"color: #7f7f7f\">aggregator.py</span></a><span style=\"color: #7f7f7f\">:215</span>\n",
       "</pre>\n"
      ],
      "text/plain": [
       "<rich.jupyter.JupyterRenderable at 0x7f96aa5c3eb8>"
      ]
     },
     "metadata": {},
     "output_type": "display_data"
    },
    {
     "data": {
      "text/html": [
       "<pre style=\"white-space:pre;overflow-x:auto;line-height:normal;font-family:Menlo,'DejaVu Sans Mono',consolas,'Courier New',monospace\"><span style=\"color: #7fbfbf\">           </span><span style=\"color: #000080\">INFO</span>     Sending tasks to collaborator two for round <span style=\"color: #000080; font-weight: bold\">8</span>                                                                              <a href=\"file:///home/itrushkin/.virtualenvs/fledge/lib/python3.6/site-packages/fledge/component/aggregator/aggregator.py\"><span style=\"color: #7f7f7f\">aggregator.py</span></a><span style=\"color: #7f7f7f\">:249</span>\n",
       "</pre>\n"
      ],
      "text/plain": [
       "<rich.jupyter.JupyterRenderable at 0x7f96aa5f7eb8>"
      ]
     },
     "metadata": {},
     "output_type": "display_data"
    },
    {
     "data": {
      "text/html": [
       "<pre style=\"white-space:pre;overflow-x:auto;line-height:normal;font-family:Menlo,'DejaVu Sans Mono',consolas,'Courier New',monospace\"><span style=\"color: #7fbfbf\">           </span><span style=\"color: #000080\">INFO</span>     Received the following tasks: <span style=\"font-weight: bold\">[</span><span style=\"color: #008000\">'aggregated_model_validation'</span>, <span style=\"color: #008000\">'train'</span>, <span style=\"color: #008000\">'locally_tuned_model_validation'</span><span style=\"font-weight: bold\">]</span>                 <a href=\"file:///home/itrushkin/.virtualenvs/fledge/lib/python3.6/site-packages/fledge/component/collaborator/collaborator.py\"><span style=\"color: #7f7f7f\">collaborator.py</span></a><span style=\"color: #7f7f7f\">:155</span>\n",
       "</pre>\n"
      ],
      "text/plain": [
       "<rich.jupyter.JupyterRenderable at 0x7f96aa5f7d30>"
      ]
     },
     "metadata": {},
     "output_type": "display_data"
    },
    {
     "name": "stdout",
     "output_type": "stream",
     "text": [
      "FastEstimator-Test: step: 782; epoch: 2; clean_accuracy: 0.7262; adversarial_accuracy: 0.4938; \n"
     ]
    },
    {
     "data": {
      "text/html": [
       "<pre style=\"white-space:pre;overflow-x:auto;line-height:normal;font-family:Menlo,'DejaVu Sans Mono',consolas,'Courier New',monospace\"><span style=\"color: #7fbfbf\">[08:03:14] </span><span style=\"color: #000080\">INFO</span>     Sending metric for task aggregated_model_validation, round number <span style=\"color: #000080; font-weight: bold\">8</span>: clean_accuracy     <span style=\"color: #000080; font-weight: bold\">0.7262</span>                           <a href=\"file:///home/itrushkin/.virtualenvs/fledge/lib/python3.6/site-packages/fledge/component/collaborator/collaborator.py\"><span style=\"color: #7f7f7f\">collaborator.py</span></a><span style=\"color: #7f7f7f\">:318</span>\n",
       "</pre>\n"
      ],
      "text/plain": [
       "<rich.jupyter.JupyterRenderable at 0x7f96aa61a0f0>"
      ]
     },
     "metadata": {},
     "output_type": "display_data"
    },
    {
     "data": {
      "text/html": [
       "<pre style=\"white-space:pre;overflow-x:auto;line-height:normal;font-family:Menlo,'DejaVu Sans Mono',consolas,'Courier New',monospace\"><span style=\"color: #7fbfbf\">           </span><span style=\"color: #000080\">INFO</span>     Sending metric for task aggregated_model_validation, round number <span style=\"color: #000080; font-weight: bold\">8</span>: adversarial_accuracy       <span style=\"color: #000080; font-weight: bold\">0.4938</span>                   <a href=\"file:///home/itrushkin/.virtualenvs/fledge/lib/python3.6/site-packages/fledge/component/collaborator/collaborator.py\"><span style=\"color: #7f7f7f\">collaborator.py</span></a><span style=\"color: #7f7f7f\">:318</span>\n",
       "</pre>\n"
      ],
      "text/plain": [
       "<rich.jupyter.JupyterRenderable at 0x7f96aa61a0f0>"
      ]
     },
     "metadata": {},
     "output_type": "display_data"
    },
    {
     "data": {
      "text/html": [
       "<pre style=\"white-space:pre;overflow-x:auto;line-height:normal;font-family:Menlo,'DejaVu Sans Mono',consolas,'Courier New',monospace\"><span style=\"color: #7fbfbf\">           </span><span style=\"color: #000080\">INFO</span>     Collaborator two is sending task results for aggregated_model_validation, round <span style=\"color: #000080; font-weight: bold\">8</span>                                          <a href=\"file:///home/itrushkin/.virtualenvs/fledge/lib/python3.6/site-packages/fledge/component/aggregator/aggregator.py\"><span style=\"color: #7f7f7f\">aggregator.py</span></a><span style=\"color: #7f7f7f\">:369</span>\n",
       "</pre>\n"
      ],
      "text/plain": [
       "<rich.jupyter.JupyterRenderable at 0x7f96aa7189b0>"
      ]
     },
     "metadata": {},
     "output_type": "display_data"
    },
    {
     "name": "stdout",
     "output_type": "stream",
     "text": [
      "    ______           __  ______     __  _                 __            \n",
      "   / ____/___ ______/ /_/ ____/____/ /_(_)___ ___  ____ _/ /_____  _____\n",
      "  / /_  / __ `/ ___/ __/ __/ / ___/ __/ / __ `__ \\/ __ `/ __/ __ \\/ ___/\n",
      " / __/ / /_/ (__  ) /_/ /___(__  ) /_/ / / / / / / /_/ / /_/ /_/ / /    \n",
      "/_/    \\__,_/____/\\__/_____/____/\\__/_/_/ /_/ /_/\\__,_/\\__/\\____/_/     \n",
      "                                                                        \n",
      "\n",
      "FastEstimator-Warn: No ModelSaver Trace detected. Models will not be saved.\n",
      "FastEstimator-Start: step: 1; num_device: 3; logging_interval: 1000; \n",
      "FastEstimator-Train: step: 1; base_ce: 0.546666; avg_ce: 0.7894961; adv_ce: 1.0323262; \n",
      "FastEstimator-Train: step: 391; epoch: 1; epoch_time: 11.12 sec; \n",
      "FastEstimator-Eval: step: 391; epoch: 1; base_ce: 0.79826677; avg_ce: 1.1350193; adv_ce: 1.471772; clean_accuracy: 0.7304; adversarial_accuracy: 0.4902; \n",
      "FastEstimator-Train: step: 782; epoch: 2; epoch_time: 11.19 sec; \n",
      "FastEstimator-Eval: step: 782; epoch: 2; base_ce: 0.8112233; avg_ce: 1.1419282; adv_ce: 1.472633; clean_accuracy: 0.728; adversarial_accuracy: 0.4854; \n",
      "FastEstimator-Finish: step: 782; total_time: 26.91 sec; adv_model_lr: 0.001; \n"
     ]
    },
    {
     "data": {
      "text/html": [
       "<pre style=\"white-space:pre;overflow-x:auto;line-height:normal;font-family:Menlo,'DejaVu Sans Mono',consolas,'Courier New',monospace\"><span style=\"color: #7fbfbf\">[08:03:42] </span><span style=\"color: #000080\">INFO</span>     Sending metric for task train, round number <span style=\"color: #000080; font-weight: bold\">8</span>: adv_ce   <span style=\"color: #000080; font-weight: bold\">1.0323262214660645</span>                                               <a href=\"file:///home/itrushkin/.virtualenvs/fledge/lib/python3.6/site-packages/fledge/component/collaborator/collaborator.py\"><span style=\"color: #7f7f7f\">collaborator.py</span></a><span style=\"color: #7f7f7f\">:318</span>\n",
       "</pre>\n"
      ],
      "text/plain": [
       "<rich.jupyter.JupyterRenderable at 0x7f96aa645358>"
      ]
     },
     "metadata": {},
     "output_type": "display_data"
    },
    {
     "data": {
      "text/html": [
       "<pre style=\"white-space:pre;overflow-x:auto;line-height:normal;font-family:Menlo,'DejaVu Sans Mono',consolas,'Courier New',monospace\"><span style=\"color: #7fbfbf\">           </span><span style=\"color: #000080\">INFO</span>     Sending metric for task train, round number <span style=\"color: #000080; font-weight: bold\">8</span>: base_ce  <span style=\"color: #000080; font-weight: bold\">0.5466660261154175</span>                                               <a href=\"file:///home/itrushkin/.virtualenvs/fledge/lib/python3.6/site-packages/fledge/component/collaborator/collaborator.py\"><span style=\"color: #7f7f7f\">collaborator.py</span></a><span style=\"color: #7f7f7f\">:318</span>\n",
       "</pre>\n"
      ],
      "text/plain": [
       "<rich.jupyter.JupyterRenderable at 0x7f96aa7179e8>"
      ]
     },
     "metadata": {},
     "output_type": "display_data"
    },
    {
     "data": {
      "text/html": [
       "<pre style=\"white-space:pre;overflow-x:auto;line-height:normal;font-family:Menlo,'DejaVu Sans Mono',consolas,'Courier New',monospace\"><span style=\"color: #7fbfbf\">           </span><span style=\"color: #000080\">INFO</span>     Collaborator two is sending task results for train, round <span style=\"color: #000080; font-weight: bold\">8</span>                                                                <a href=\"file:///home/itrushkin/.virtualenvs/fledge/lib/python3.6/site-packages/fledge/component/aggregator/aggregator.py\"><span style=\"color: #7f7f7f\">aggregator.py</span></a><span style=\"color: #7f7f7f\">:369</span>\n",
       "</pre>\n"
      ],
      "text/plain": [
       "<rich.jupyter.JupyterRenderable at 0x7f96aa717f60>"
      ]
     },
     "metadata": {},
     "output_type": "display_data"
    },
    {
     "name": "stdout",
     "output_type": "stream",
     "text": [
      "FastEstimator-Test: step: 782; epoch: 2; clean_accuracy: 0.7178; adversarial_accuracy: 0.4808; \n"
     ]
    },
    {
     "data": {
      "text/html": [
       "<pre style=\"white-space:pre;overflow-x:auto;line-height:normal;font-family:Menlo,'DejaVu Sans Mono',consolas,'Courier New',monospace\"><span style=\"color: #7fbfbf\">[08:03:44] </span><span style=\"color: #000080\">INFO</span>     Sending metric for task locally_tuned_model_validation, round number <span style=\"color: #000080; font-weight: bold\">8</span>: clean_accuracy  <span style=\"color: #000080; font-weight: bold\">0.7178</span>                           <a href=\"file:///home/itrushkin/.virtualenvs/fledge/lib/python3.6/site-packages/fledge/component/collaborator/collaborator.py\"><span style=\"color: #7f7f7f\">collaborator.py</span></a><span style=\"color: #7f7f7f\">:318</span>\n",
       "</pre>\n"
      ],
      "text/plain": [
       "<rich.jupyter.JupyterRenderable at 0x7f96aa55cda0>"
      ]
     },
     "metadata": {},
     "output_type": "display_data"
    },
    {
     "data": {
      "text/html": [
       "<pre style=\"white-space:pre;overflow-x:auto;line-height:normal;font-family:Menlo,'DejaVu Sans Mono',consolas,'Courier New',monospace\"><span style=\"color: #7fbfbf\">           </span><span style=\"color: #000080\">INFO</span>     Sending metric for task locally_tuned_model_validation, round number <span style=\"color: #000080; font-weight: bold\">8</span>: adversarial_accuracy    <span style=\"color: #000080; font-weight: bold\">0.4808</span>                   <a href=\"file:///home/itrushkin/.virtualenvs/fledge/lib/python3.6/site-packages/fledge/component/collaborator/collaborator.py\"><span style=\"color: #7f7f7f\">collaborator.py</span></a><span style=\"color: #7f7f7f\">:318</span>\n",
       "</pre>\n"
      ],
      "text/plain": [
       "<rich.jupyter.JupyterRenderable at 0x7f96aa55c4a8>"
      ]
     },
     "metadata": {},
     "output_type": "display_data"
    },
    {
     "data": {
      "text/html": [
       "<pre style=\"white-space:pre;overflow-x:auto;line-height:normal;font-family:Menlo,'DejaVu Sans Mono',consolas,'Courier New',monospace\"><span style=\"color: #7fbfbf\">           </span><span style=\"color: #000080\">INFO</span>     Collaborator two is sending task results for locally_tuned_model_validation, round <span style=\"color: #000080; font-weight: bold\">8</span>                                       <a href=\"file:///home/itrushkin/.virtualenvs/fledge/lib/python3.6/site-packages/fledge/component/aggregator/aggregator.py\"><span style=\"color: #7f7f7f\">aggregator.py</span></a><span style=\"color: #7f7f7f\">:369</span>\n",
       "</pre>\n"
      ],
      "text/plain": [
       "<rich.jupyter.JupyterRenderable at 0x7f96aa61a908>"
      ]
     },
     "metadata": {},
     "output_type": "display_data"
    },
    {
     "data": {
      "text/html": [
       "<pre style=\"white-space:pre;overflow-x:auto;line-height:normal;font-family:Menlo,'DejaVu Sans Mono',consolas,'Courier New',monospace\"><span style=\"color: #7fbfbf\">           </span><span style=\"color: #000080\">INFO</span>     train task metrics<span style=\"color: #808000\">...</span>                                                                                                      <a href=\"file:///home/itrushkin/.virtualenvs/fledge/lib/python3.6/site-packages/fledge/component/aggregator/aggregator.py\"><span style=\"color: #7f7f7f\">aggregator.py</span></a><span style=\"color: #7f7f7f\">:505</span>\n",
       "</pre>\n"
      ],
      "text/plain": [
       "<rich.jupyter.JupyterRenderable at 0x7f96aa61acf8>"
      ]
     },
     "metadata": {},
     "output_type": "display_data"
    },
    {
     "data": {
      "text/html": [
       "<pre style=\"white-space:pre;overflow-x:auto;line-height:normal;font-family:Menlo,'DejaVu Sans Mono',consolas,'Courier New',monospace\"><span style=\"color: #7fbfbf\">           </span><span style=\"color: #000080\">INFO</span>     adv_ce: <span style=\"color: #000080; font-weight: bold\">0.9551</span>                                                                                                             <a href=\"file:///home/itrushkin/.virtualenvs/fledge/lib/python3.6/site-packages/fledge/component/aggregator/aggregator.py\"><span style=\"color: #7f7f7f\">aggregator.py</span></a><span style=\"color: #7f7f7f\">:539</span>\n",
       "</pre>\n"
      ],
      "text/plain": [
       "<rich.jupyter.JupyterRenderable at 0x7f96aa61a438>"
      ]
     },
     "metadata": {},
     "output_type": "display_data"
    },
    {
     "data": {
      "text/html": [
       "<pre style=\"white-space:pre;overflow-x:auto;line-height:normal;font-family:Menlo,'DejaVu Sans Mono',consolas,'Courier New',monospace\"><span style=\"color: #7fbfbf\">           </span><span style=\"color: #000080\">INFO</span>     base_ce:        <span style=\"color: #000080; font-weight: bold\">0.4776</span>                                                                                                     <a href=\"file:///home/itrushkin/.virtualenvs/fledge/lib/python3.6/site-packages/fledge/component/aggregator/aggregator.py\"><span style=\"color: #7f7f7f\">aggregator.py</span></a><span style=\"color: #7f7f7f\">:539</span>\n",
       "</pre>\n"
      ],
      "text/plain": [
       "<rich.jupyter.JupyterRenderable at 0x7f96aa61a080>"
      ]
     },
     "metadata": {},
     "output_type": "display_data"
    },
    {
     "data": {
      "text/html": [
       "<pre style=\"white-space:pre;overflow-x:auto;line-height:normal;font-family:Menlo,'DejaVu Sans Mono',consolas,'Courier New',monospace\"><span style=\"color: #7fbfbf\">           </span><span style=\"color: #000080\">INFO</span>     locally_tuned_model_validation task metrics<span style=\"color: #808000\">...</span>                                                                             <a href=\"file:///home/itrushkin/.virtualenvs/fledge/lib/python3.6/site-packages/fledge/component/aggregator/aggregator.py\"><span style=\"color: #7f7f7f\">aggregator.py</span></a><span style=\"color: #7f7f7f\">:505</span>\n",
       "</pre>\n"
      ],
      "text/plain": [
       "<rich.jupyter.JupyterRenderable at 0x7f96aa61add8>"
      ]
     },
     "metadata": {},
     "output_type": "display_data"
    },
    {
     "data": {
      "text/html": [
       "<pre style=\"white-space:pre;overflow-x:auto;line-height:normal;font-family:Menlo,'DejaVu Sans Mono',consolas,'Courier New',monospace\"><span style=\"color: #7fbfbf\">           </span><span style=\"color: #000080\">INFO</span>     clean_accuracy: <span style=\"color: #000080; font-weight: bold\">0.7190</span>                                                                                                     <a href=\"file:///home/itrushkin/.virtualenvs/fledge/lib/python3.6/site-packages/fledge/component/aggregator/aggregator.py\"><span style=\"color: #7f7f7f\">aggregator.py</span></a><span style=\"color: #7f7f7f\">:539</span>\n",
       "</pre>\n"
      ],
      "text/plain": [
       "<rich.jupyter.JupyterRenderable at 0x7f96aa61add8>"
      ]
     },
     "metadata": {},
     "output_type": "display_data"
    },
    {
     "data": {
      "text/html": [
       "<pre style=\"white-space:pre;overflow-x:auto;line-height:normal;font-family:Menlo,'DejaVu Sans Mono',consolas,'Courier New',monospace\"><span style=\"color: #7fbfbf\">           </span><span style=\"color: #000080\">INFO</span>     adversarial_accuracy:   <span style=\"color: #000080; font-weight: bold\">0.4825</span>                                                                                             <a href=\"file:///home/itrushkin/.virtualenvs/fledge/lib/python3.6/site-packages/fledge/component/aggregator/aggregator.py\"><span style=\"color: #7f7f7f\">aggregator.py</span></a><span style=\"color: #7f7f7f\">:539</span>\n",
       "</pre>\n"
      ],
      "text/plain": [
       "<rich.jupyter.JupyterRenderable at 0x7f96aa61a438>"
      ]
     },
     "metadata": {},
     "output_type": "display_data"
    },
    {
     "data": {
      "text/html": [
       "<pre style=\"white-space:pre;overflow-x:auto;line-height:normal;font-family:Menlo,'DejaVu Sans Mono',consolas,'Courier New',monospace\"><span style=\"color: #7fbfbf\">           </span><span style=\"color: #000080\">INFO</span>     aggregated_model_validation task metrics<span style=\"color: #808000\">...</span>                                                                                <a href=\"file:///home/itrushkin/.virtualenvs/fledge/lib/python3.6/site-packages/fledge/component/aggregator/aggregator.py\"><span style=\"color: #7f7f7f\">aggregator.py</span></a><span style=\"color: #7f7f7f\">:505</span>\n",
       "</pre>\n"
      ],
      "text/plain": [
       "<rich.jupyter.JupyterRenderable at 0x7f96aa61a470>"
      ]
     },
     "metadata": {},
     "output_type": "display_data"
    },
    {
     "data": {
      "text/html": [
       "<pre style=\"white-space:pre;overflow-x:auto;line-height:normal;font-family:Menlo,'DejaVu Sans Mono',consolas,'Courier New',monospace\"><span style=\"color: #7fbfbf\">           </span><span style=\"color: #000080\">INFO</span>     clean_accuracy: <span style=\"color: #000080; font-weight: bold\">0.7262</span>                                                                                                     <a href=\"file:///home/itrushkin/.virtualenvs/fledge/lib/python3.6/site-packages/fledge/component/aggregator/aggregator.py\"><span style=\"color: #7f7f7f\">aggregator.py</span></a><span style=\"color: #7f7f7f\">:539</span>\n",
       "</pre>\n"
      ],
      "text/plain": [
       "<rich.jupyter.JupyterRenderable at 0x7f96aa61aba8>"
      ]
     },
     "metadata": {},
     "output_type": "display_data"
    },
    {
     "data": {
      "text/html": [
       "<pre style=\"white-space:pre;overflow-x:auto;line-height:normal;font-family:Menlo,'DejaVu Sans Mono',consolas,'Courier New',monospace\"><span style=\"color: #7fbfbf\">           </span><span style=\"color: #000080\">INFO</span>     adversarial_accuracy:   <span style=\"color: #000080; font-weight: bold\">0.4938</span>                                                                                             <a href=\"file:///home/itrushkin/.virtualenvs/fledge/lib/python3.6/site-packages/fledge/component/aggregator/aggregator.py\"><span style=\"color: #7f7f7f\">aggregator.py</span></a><span style=\"color: #7f7f7f\">:539</span>\n",
       "</pre>\n"
      ],
      "text/plain": [
       "<rich.jupyter.JupyterRenderable at 0x7f96aa61a940>"
      ]
     },
     "metadata": {},
     "output_type": "display_data"
    },
    {
     "data": {
      "text/html": [
       "<pre style=\"white-space:pre;overflow-x:auto;line-height:normal;font-family:Menlo,'DejaVu Sans Mono',consolas,'Courier New',monospace\"><span style=\"color: #7fbfbf\">           </span><span style=\"color: #000080\">INFO</span>     Saving round <span style=\"color: #000080; font-weight: bold\">9</span> model<span style=\"color: #808000\">...</span>                                                                                                    <a href=\"file:///home/itrushkin/.virtualenvs/fledge/lib/python3.6/site-packages/fledge/component/aggregator/aggregator.py\"><span style=\"color: #7f7f7f\">aggregator.py</span></a><span style=\"color: #7f7f7f\">:602</span>\n",
       "</pre>\n"
      ],
      "text/plain": [
       "<rich.jupyter.JupyterRenderable at 0x7f96aa61a908>"
      ]
     },
     "metadata": {},
     "output_type": "display_data"
    },
    {
     "data": {
      "text/html": [
       "<pre style=\"white-space:pre;overflow-x:auto;line-height:normal;font-family:Menlo,'DejaVu Sans Mono',consolas,'Courier New',monospace\"><span style=\"color: #7fbfbf\">           </span><span style=\"color: #000080\">INFO</span>     Starting round <span style=\"color: #000080; font-weight: bold\">9</span><span style=\"color: #808000\">...</span>                                                                                                        <a href=\"file:///home/itrushkin/.virtualenvs/fledge/lib/python3.6/site-packages/fledge/component/aggregator/aggregator.py\"><span style=\"color: #7f7f7f\">aggregator.py</span></a><span style=\"color: #7f7f7f\">:610</span>\n",
       "</pre>\n"
      ],
      "text/plain": [
       "<rich.jupyter.JupyterRenderable at 0x7f96aa61acc0>"
      ]
     },
     "metadata": {},
     "output_type": "display_data"
    },
    {
     "data": {
      "text/html": [
       "<pre style=\"white-space:pre;overflow-x:auto;line-height:normal;font-family:Menlo,'DejaVu Sans Mono',consolas,'Courier New',monospace\"><span style=\"color: #7fbfbf\">           </span><span style=\"color: #000080\">INFO</span>     All tasks completed on two for round <span style=\"color: #000080; font-weight: bold\">8</span><span style=\"color: #808000\">...</span>                                                                                <a href=\"file:///home/itrushkin/.virtualenvs/fledge/lib/python3.6/site-packages/fledge/component/collaborator/collaborator.py\"><span style=\"color: #7f7f7f\">collaborator.py</span></a><span style=\"color: #7f7f7f\">:158</span>\n",
       "</pre>\n"
      ],
      "text/plain": [
       "<rich.jupyter.JupyterRenderable at 0x7f96aa61a438>"
      ]
     },
     "metadata": {},
     "output_type": "display_data"
    },
    {
     "data": {
      "text/html": [
       "<pre style=\"white-space:pre;overflow-x:auto;line-height:normal;font-family:Menlo,'DejaVu Sans Mono',consolas,'Courier New',monospace\"><span style=\"color: #7fbfbf\">           </span><span style=\"color: #000080\">INFO</span>     Aggregator GetTasks function reached from collaborator one<span style=\"color: #808000\">...</span>                                                              <a href=\"file:///home/itrushkin/.virtualenvs/fledge/lib/python3.6/site-packages/fledge/component/aggregator/aggregator.py\"><span style=\"color: #7f7f7f\">aggregator.py</span></a><span style=\"color: #7f7f7f\">:215</span>\n",
       "</pre>\n"
      ],
      "text/plain": [
       "<rich.jupyter.JupyterRenderable at 0x7f96aa61aba8>"
      ]
     },
     "metadata": {},
     "output_type": "display_data"
    },
    {
     "data": {
      "text/html": [
       "<pre style=\"white-space:pre;overflow-x:auto;line-height:normal;font-family:Menlo,'DejaVu Sans Mono',consolas,'Courier New',monospace\"><span style=\"color: #7fbfbf\">           </span><span style=\"color: #000080\">INFO</span>     Sending tasks to collaborator one for round <span style=\"color: #000080; font-weight: bold\">9</span>                                                                              <a href=\"file:///home/itrushkin/.virtualenvs/fledge/lib/python3.6/site-packages/fledge/component/aggregator/aggregator.py\"><span style=\"color: #7f7f7f\">aggregator.py</span></a><span style=\"color: #7f7f7f\">:249</span>\n",
       "</pre>\n"
      ],
      "text/plain": [
       "<rich.jupyter.JupyterRenderable at 0x7f96aa61a7f0>"
      ]
     },
     "metadata": {},
     "output_type": "display_data"
    },
    {
     "data": {
      "text/html": [
       "<pre style=\"white-space:pre;overflow-x:auto;line-height:normal;font-family:Menlo,'DejaVu Sans Mono',consolas,'Courier New',monospace\"><span style=\"color: #7fbfbf\">           </span><span style=\"color: #000080\">INFO</span>     Received the following tasks: <span style=\"font-weight: bold\">[</span><span style=\"color: #008000\">'aggregated_model_validation'</span>, <span style=\"color: #008000\">'train'</span>, <span style=\"color: #008000\">'locally_tuned_model_validation'</span><span style=\"font-weight: bold\">]</span>                 <a href=\"file:///home/itrushkin/.virtualenvs/fledge/lib/python3.6/site-packages/fledge/component/collaborator/collaborator.py\"><span style=\"color: #7f7f7f\">collaborator.py</span></a><span style=\"color: #7f7f7f\">:155</span>\n",
       "</pre>\n"
      ],
      "text/plain": [
       "<rich.jupyter.JupyterRenderable at 0x7f96aa61a438>"
      ]
     },
     "metadata": {},
     "output_type": "display_data"
    },
    {
     "name": "stdout",
     "output_type": "stream",
     "text": [
      "FastEstimator-Test: step: 782; epoch: 2; clean_accuracy: 0.7274; adversarial_accuracy: 0.4914; \n"
     ]
    },
    {
     "data": {
      "text/html": [
       "<pre style=\"white-space:pre;overflow-x:auto;line-height:normal;font-family:Menlo,'DejaVu Sans Mono',consolas,'Courier New',monospace\"><span style=\"color: #7fbfbf\">[08:03:46] </span><span style=\"color: #000080\">INFO</span>     Sending metric for task aggregated_model_validation, round number <span style=\"color: #000080; font-weight: bold\">9</span>: clean_accuracy     <span style=\"color: #000080; font-weight: bold\">0.7274</span>                           <a href=\"file:///home/itrushkin/.virtualenvs/fledge/lib/python3.6/site-packages/fledge/component/collaborator/collaborator.py\"><span style=\"color: #7f7f7f\">collaborator.py</span></a><span style=\"color: #7f7f7f\">:318</span>\n",
       "</pre>\n"
      ],
      "text/plain": [
       "<rich.jupyter.JupyterRenderable at 0x7f96aa6d88d0>"
      ]
     },
     "metadata": {},
     "output_type": "display_data"
    },
    {
     "data": {
      "text/html": [
       "<pre style=\"white-space:pre;overflow-x:auto;line-height:normal;font-family:Menlo,'DejaVu Sans Mono',consolas,'Courier New',monospace\"><span style=\"color: #7fbfbf\">           </span><span style=\"color: #000080\">INFO</span>     Sending metric for task aggregated_model_validation, round number <span style=\"color: #000080; font-weight: bold\">9</span>: adversarial_accuracy       <span style=\"color: #000080; font-weight: bold\">0.4914</span>                   <a href=\"file:///home/itrushkin/.virtualenvs/fledge/lib/python3.6/site-packages/fledge/component/collaborator/collaborator.py\"><span style=\"color: #7f7f7f\">collaborator.py</span></a><span style=\"color: #7f7f7f\">:318</span>\n",
       "</pre>\n"
      ],
      "text/plain": [
       "<rich.jupyter.JupyterRenderable at 0x7f96aa6d8d30>"
      ]
     },
     "metadata": {},
     "output_type": "display_data"
    },
    {
     "data": {
      "text/html": [
       "<pre style=\"white-space:pre;overflow-x:auto;line-height:normal;font-family:Menlo,'DejaVu Sans Mono',consolas,'Courier New',monospace\"><span style=\"color: #7fbfbf\">           </span><span style=\"color: #000080\">INFO</span>     Collaborator one is sending task results for aggregated_model_validation, round <span style=\"color: #000080; font-weight: bold\">9</span>                                          <a href=\"file:///home/itrushkin/.virtualenvs/fledge/lib/python3.6/site-packages/fledge/component/aggregator/aggregator.py\"><span style=\"color: #7f7f7f\">aggregator.py</span></a><span style=\"color: #7f7f7f\">:369</span>\n",
       "</pre>\n"
      ],
      "text/plain": [
       "<rich.jupyter.JupyterRenderable at 0x7f96aa718668>"
      ]
     },
     "metadata": {},
     "output_type": "display_data"
    },
    {
     "name": "stdout",
     "output_type": "stream",
     "text": [
      "    ______           __  ______     __  _                 __            \n",
      "   / ____/___ ______/ /_/ ____/____/ /_(_)___ ___  ____ _/ /_____  _____\n",
      "  / /_  / __ `/ ___/ __/ __/ / ___/ __/ / __ `__ \\/ __ `/ __/ __ \\/ ___/\n",
      " / __/ / /_/ (__  ) /_/ /___(__  ) /_/ / / / / / / /_/ / /_/ /_/ / /    \n",
      "/_/    \\__,_/____/\\__/_____/____/\\__/_/_/ /_/ /_/\\__,_/\\__/\\____/_/     \n",
      "                                                                        \n",
      "\n",
      "FastEstimator-Warn: No ModelSaver Trace detected. Models will not be saved.\n",
      "FastEstimator-Start: step: 1; num_device: 3; logging_interval: 1000; \n",
      "FastEstimator-Train: step: 1; base_ce: 0.4452236; avg_ce: 0.682985; adv_ce: 0.92074645; \n",
      "FastEstimator-Train: step: 391; epoch: 1; epoch_time: 11.21 sec; \n",
      "FastEstimator-Eval: step: 391; epoch: 1; base_ce: 0.79762715; avg_ce: 1.1418564; adv_ce: 1.4860859; clean_accuracy: 0.732; adversarial_accuracy: 0.4942; \n",
      "FastEstimator-Train: step: 782; epoch: 2; epoch_time: 11.08 sec; \n",
      "FastEstimator-Eval: step: 782; epoch: 2; base_ce: 0.7935934; avg_ce: 1.1430478; adv_ce: 1.4925022; clean_accuracy: 0.734; adversarial_accuracy: 0.4924; \n",
      "FastEstimator-Finish: step: 782; total_time: 26.77 sec; adv_model_lr: 0.001; \n"
     ]
    },
    {
     "data": {
      "text/html": [
       "<pre style=\"white-space:pre;overflow-x:auto;line-height:normal;font-family:Menlo,'DejaVu Sans Mono',consolas,'Courier New',monospace\"><span style=\"color: #7fbfbf\">[08:04:14] </span><span style=\"color: #000080\">INFO</span>     Sending metric for task train, round number <span style=\"color: #000080; font-weight: bold\">9</span>: adv_ce   <span style=\"color: #000080; font-weight: bold\">0.9207464456558228</span>                                               <a href=\"file:///home/itrushkin/.virtualenvs/fledge/lib/python3.6/site-packages/fledge/component/collaborator/collaborator.py\"><span style=\"color: #7f7f7f\">collaborator.py</span></a><span style=\"color: #7f7f7f\">:318</span>\n",
       "</pre>\n"
      ],
      "text/plain": [
       "<rich.jupyter.JupyterRenderable at 0x7f96aa716860>"
      ]
     },
     "metadata": {},
     "output_type": "display_data"
    },
    {
     "data": {
      "text/html": [
       "<pre style=\"white-space:pre;overflow-x:auto;line-height:normal;font-family:Menlo,'DejaVu Sans Mono',consolas,'Courier New',monospace\"><span style=\"color: #7fbfbf\">           </span><span style=\"color: #000080\">INFO</span>     Sending metric for task train, round number <span style=\"color: #000080; font-weight: bold\">9</span>: base_ce  <span style=\"color: #000080; font-weight: bold\">0.4452235996723175</span>                                               <a href=\"file:///home/itrushkin/.virtualenvs/fledge/lib/python3.6/site-packages/fledge/component/collaborator/collaborator.py\"><span style=\"color: #7f7f7f\">collaborator.py</span></a><span style=\"color: #7f7f7f\">:318</span>\n",
       "</pre>\n"
      ],
      "text/plain": [
       "<rich.jupyter.JupyterRenderable at 0x7f96aa5266d8>"
      ]
     },
     "metadata": {},
     "output_type": "display_data"
    },
    {
     "data": {
      "text/html": [
       "<pre style=\"white-space:pre;overflow-x:auto;line-height:normal;font-family:Menlo,'DejaVu Sans Mono',consolas,'Courier New',monospace\"><span style=\"color: #7fbfbf\">           </span><span style=\"color: #000080\">INFO</span>     Collaborator one is sending task results for train, round <span style=\"color: #000080; font-weight: bold\">9</span>                                                                <a href=\"file:///home/itrushkin/.virtualenvs/fledge/lib/python3.6/site-packages/fledge/component/aggregator/aggregator.py\"><span style=\"color: #7f7f7f\">aggregator.py</span></a><span style=\"color: #7f7f7f\">:369</span>\n",
       "</pre>\n"
      ],
      "text/plain": [
       "<rich.jupyter.JupyterRenderable at 0x7f96aa5266d8>"
      ]
     },
     "metadata": {},
     "output_type": "display_data"
    },
    {
     "name": "stdout",
     "output_type": "stream",
     "text": [
      "FastEstimator-Test: step: 782; epoch: 2; clean_accuracy: 0.7244; adversarial_accuracy: 0.484; \n"
     ]
    },
    {
     "data": {
      "text/html": [
       "<pre style=\"white-space:pre;overflow-x:auto;line-height:normal;font-family:Menlo,'DejaVu Sans Mono',consolas,'Courier New',monospace\"><span style=\"color: #7fbfbf\">[08:04:16] </span><span style=\"color: #000080\">INFO</span>     Sending metric for task locally_tuned_model_validation, round number <span style=\"color: #000080; font-weight: bold\">9</span>: clean_accuracy  <span style=\"color: #000080; font-weight: bold\">0.7244</span>                           <a href=\"file:///home/itrushkin/.virtualenvs/fledge/lib/python3.6/site-packages/fledge/component/collaborator/collaborator.py\"><span style=\"color: #7f7f7f\">collaborator.py</span></a><span style=\"color: #7f7f7f\">:318</span>\n",
       "</pre>\n"
      ],
      "text/plain": [
       "<rich.jupyter.JupyterRenderable at 0x7f96aa6d8d30>"
      ]
     },
     "metadata": {},
     "output_type": "display_data"
    },
    {
     "data": {
      "text/html": [
       "<pre style=\"white-space:pre;overflow-x:auto;line-height:normal;font-family:Menlo,'DejaVu Sans Mono',consolas,'Courier New',monospace\"><span style=\"color: #7fbfbf\">           </span><span style=\"color: #000080\">INFO</span>     Sending metric for task locally_tuned_model_validation, round number <span style=\"color: #000080; font-weight: bold\">9</span>: adversarial_accuracy    <span style=\"color: #000080; font-weight: bold\">0.484</span>                    <a href=\"file:///home/itrushkin/.virtualenvs/fledge/lib/python3.6/site-packages/fledge/component/collaborator/collaborator.py\"><span style=\"color: #7f7f7f\">collaborator.py</span></a><span style=\"color: #7f7f7f\">:318</span>\n",
       "</pre>\n"
      ],
      "text/plain": [
       "<rich.jupyter.JupyterRenderable at 0x7f96aa717a20>"
      ]
     },
     "metadata": {},
     "output_type": "display_data"
    },
    {
     "data": {
      "text/html": [
       "<pre style=\"white-space:pre;overflow-x:auto;line-height:normal;font-family:Menlo,'DejaVu Sans Mono',consolas,'Courier New',monospace\"><span style=\"color: #7fbfbf\">           </span><span style=\"color: #000080\">INFO</span>     Collaborator one is sending task results for locally_tuned_model_validation, round <span style=\"color: #000080; font-weight: bold\">9</span>                                       <a href=\"file:///home/itrushkin/.virtualenvs/fledge/lib/python3.6/site-packages/fledge/component/aggregator/aggregator.py\"><span style=\"color: #7f7f7f\">aggregator.py</span></a><span style=\"color: #7f7f7f\">:369</span>\n",
       "</pre>\n"
      ],
      "text/plain": [
       "<rich.jupyter.JupyterRenderable at 0x7f96aa5983c8>"
      ]
     },
     "metadata": {},
     "output_type": "display_data"
    },
    {
     "data": {
      "text/html": [
       "<pre style=\"white-space:pre;overflow-x:auto;line-height:normal;font-family:Menlo,'DejaVu Sans Mono',consolas,'Courier New',monospace\"><span style=\"color: #7fbfbf\">           </span><span style=\"color: #000080\">INFO</span>     All tasks completed on one for round <span style=\"color: #000080; font-weight: bold\">9</span><span style=\"color: #808000\">...</span>                                                                                <a href=\"file:///home/itrushkin/.virtualenvs/fledge/lib/python3.6/site-packages/fledge/component/collaborator/collaborator.py\"><span style=\"color: #7f7f7f\">collaborator.py</span></a><span style=\"color: #7f7f7f\">:158</span>\n",
       "</pre>\n"
      ],
      "text/plain": [
       "<rich.jupyter.JupyterRenderable at 0x7f96aa474160>"
      ]
     },
     "metadata": {},
     "output_type": "display_data"
    },
    {
     "data": {
      "text/html": [
       "<pre style=\"white-space:pre;overflow-x:auto;line-height:normal;font-family:Menlo,'DejaVu Sans Mono',consolas,'Courier New',monospace\"><span style=\"color: #7fbfbf\">           </span><span style=\"color: #000080\">INFO</span>     Aggregator GetTasks function reached from collaborator two<span style=\"color: #808000\">...</span>                                                              <a href=\"file:///home/itrushkin/.virtualenvs/fledge/lib/python3.6/site-packages/fledge/component/aggregator/aggregator.py\"><span style=\"color: #7f7f7f\">aggregator.py</span></a><span style=\"color: #7f7f7f\">:215</span>\n",
       "</pre>\n"
      ],
      "text/plain": [
       "<rich.jupyter.JupyterRenderable at 0x7f96aa474160>"
      ]
     },
     "metadata": {},
     "output_type": "display_data"
    },
    {
     "data": {
      "text/html": [
       "<pre style=\"white-space:pre;overflow-x:auto;line-height:normal;font-family:Menlo,'DejaVu Sans Mono',consolas,'Courier New',monospace\"><span style=\"color: #7fbfbf\">           </span><span style=\"color: #000080\">INFO</span>     Sending tasks to collaborator two for round <span style=\"color: #000080; font-weight: bold\">9</span>                                                                              <a href=\"file:///home/itrushkin/.virtualenvs/fledge/lib/python3.6/site-packages/fledge/component/aggregator/aggregator.py\"><span style=\"color: #7f7f7f\">aggregator.py</span></a><span style=\"color: #7f7f7f\">:249</span>\n",
       "</pre>\n"
      ],
      "text/plain": [
       "<rich.jupyter.JupyterRenderable at 0x7f96aa474160>"
      ]
     },
     "metadata": {},
     "output_type": "display_data"
    },
    {
     "data": {
      "text/html": [
       "<pre style=\"white-space:pre;overflow-x:auto;line-height:normal;font-family:Menlo,'DejaVu Sans Mono',consolas,'Courier New',monospace\"><span style=\"color: #7fbfbf\">           </span><span style=\"color: #000080\">INFO</span>     Received the following tasks: <span style=\"font-weight: bold\">[</span><span style=\"color: #008000\">'aggregated_model_validation'</span>, <span style=\"color: #008000\">'train'</span>, <span style=\"color: #008000\">'locally_tuned_model_validation'</span><span style=\"font-weight: bold\">]</span>                 <a href=\"file:///home/itrushkin/.virtualenvs/fledge/lib/python3.6/site-packages/fledge/component/collaborator/collaborator.py\"><span style=\"color: #7f7f7f\">collaborator.py</span></a><span style=\"color: #7f7f7f\">:155</span>\n",
       "</pre>\n"
      ],
      "text/plain": [
       "<rich.jupyter.JupyterRenderable at 0x7f96aa474e10>"
      ]
     },
     "metadata": {},
     "output_type": "display_data"
    },
    {
     "name": "stdout",
     "output_type": "stream",
     "text": [
      "FastEstimator-Test: step: 782; epoch: 2; clean_accuracy: 0.7274; adversarial_accuracy: 0.4914; \n"
     ]
    },
    {
     "data": {
      "text/html": [
       "<pre style=\"white-space:pre;overflow-x:auto;line-height:normal;font-family:Menlo,'DejaVu Sans Mono',consolas,'Courier New',monospace\"><span style=\"color: #7fbfbf\">[08:04:17] </span><span style=\"color: #000080\">INFO</span>     Sending metric for task aggregated_model_validation, round number <span style=\"color: #000080; font-weight: bold\">9</span>: clean_accuracy     <span style=\"color: #000080; font-weight: bold\">0.7274</span>                           <a href=\"file:///home/itrushkin/.virtualenvs/fledge/lib/python3.6/site-packages/fledge/component/collaborator/collaborator.py\"><span style=\"color: #7f7f7f\">collaborator.py</span></a><span style=\"color: #7f7f7f\">:318</span>\n",
       "</pre>\n"
      ],
      "text/plain": [
       "<rich.jupyter.JupyterRenderable at 0x7f96aa4d65f8>"
      ]
     },
     "metadata": {},
     "output_type": "display_data"
    },
    {
     "data": {
      "text/html": [
       "<pre style=\"white-space:pre;overflow-x:auto;line-height:normal;font-family:Menlo,'DejaVu Sans Mono',consolas,'Courier New',monospace\"><span style=\"color: #7fbfbf\">           </span><span style=\"color: #000080\">INFO</span>     Sending metric for task aggregated_model_validation, round number <span style=\"color: #000080; font-weight: bold\">9</span>: adversarial_accuracy       <span style=\"color: #000080; font-weight: bold\">0.4914</span>                   <a href=\"file:///home/itrushkin/.virtualenvs/fledge/lib/python3.6/site-packages/fledge/component/collaborator/collaborator.py\"><span style=\"color: #7f7f7f\">collaborator.py</span></a><span style=\"color: #7f7f7f\">:318</span>\n",
       "</pre>\n"
      ],
      "text/plain": [
       "<rich.jupyter.JupyterRenderable at 0x7f96aa4d6940>"
      ]
     },
     "metadata": {},
     "output_type": "display_data"
    },
    {
     "data": {
      "text/html": [
       "<pre style=\"white-space:pre;overflow-x:auto;line-height:normal;font-family:Menlo,'DejaVu Sans Mono',consolas,'Courier New',monospace\"><span style=\"color: #7fbfbf\">           </span><span style=\"color: #000080\">INFO</span>     Collaborator two is sending task results for aggregated_model_validation, round <span style=\"color: #000080; font-weight: bold\">9</span>                                          <a href=\"file:///home/itrushkin/.virtualenvs/fledge/lib/python3.6/site-packages/fledge/component/aggregator/aggregator.py\"><span style=\"color: #7f7f7f\">aggregator.py</span></a><span style=\"color: #7f7f7f\">:369</span>\n",
       "</pre>\n"
      ],
      "text/plain": [
       "<rich.jupyter.JupyterRenderable at 0x7f96aa4d6b00>"
      ]
     },
     "metadata": {},
     "output_type": "display_data"
    },
    {
     "name": "stdout",
     "output_type": "stream",
     "text": [
      "    ______           __  ______     __  _                 __            \n",
      "   / ____/___ ______/ /_/ ____/____/ /_(_)___ ___  ____ _/ /_____  _____\n",
      "  / /_  / __ `/ ___/ __/ __/ / ___/ __/ / __ `__ \\/ __ `/ __/ __ \\/ ___/\n",
      " / __/ / /_/ (__  ) /_/ /___(__  ) /_/ / / / / / / /_/ / /_/ /_/ / /    \n",
      "/_/    \\__,_/____/\\__/_____/____/\\__/_/_/ /_/ /_/\\__,_/\\__/\\____/_/     \n",
      "                                                                        \n",
      "\n",
      "FastEstimator-Warn: No ModelSaver Trace detected. Models will not be saved.\n",
      "FastEstimator-Start: step: 1; num_device: 3; logging_interval: 1000; \n",
      "FastEstimator-Train: step: 1; base_ce: 0.47057852; avg_ce: 0.72819483; adv_ce: 0.9858111; \n",
      "FastEstimator-Train: step: 391; epoch: 1; epoch_time: 11.13 sec; \n",
      "FastEstimator-Eval: step: 391; epoch: 1; base_ce: 0.7968623; avg_ce: 1.141045; adv_ce: 1.4852278; clean_accuracy: 0.7302; adversarial_accuracy: 0.4938; \n",
      "FastEstimator-Train: step: 782; epoch: 2; epoch_time: 11.05 sec; \n",
      "FastEstimator-Eval: step: 782; epoch: 2; base_ce: 0.80726624; avg_ce: 1.1560814; adv_ce: 1.5048965; clean_accuracy: 0.7324; adversarial_accuracy: 0.4944; \n",
      "FastEstimator-Finish: step: 782; total_time: 26.62 sec; adv_model_lr: 0.001; \n"
     ]
    },
    {
     "data": {
      "text/html": [
       "<pre style=\"white-space:pre;overflow-x:auto;line-height:normal;font-family:Menlo,'DejaVu Sans Mono',consolas,'Courier New',monospace\"><span style=\"color: #7fbfbf\">[08:04:45] </span><span style=\"color: #000080\">INFO</span>     Sending metric for task train, round number <span style=\"color: #000080; font-weight: bold\">9</span>: adv_ce   <span style=\"color: #000080; font-weight: bold\">0.9858111143112183</span>                                               <a href=\"file:///home/itrushkin/.virtualenvs/fledge/lib/python3.6/site-packages/fledge/component/collaborator/collaborator.py\"><span style=\"color: #7f7f7f\">collaborator.py</span></a><span style=\"color: #7f7f7f\">:318</span>\n",
       "</pre>\n"
      ],
      "text/plain": [
       "<rich.jupyter.JupyterRenderable at 0x7f96aa6296d8>"
      ]
     },
     "metadata": {},
     "output_type": "display_data"
    },
    {
     "data": {
      "text/html": [
       "<pre style=\"white-space:pre;overflow-x:auto;line-height:normal;font-family:Menlo,'DejaVu Sans Mono',consolas,'Courier New',monospace\"><span style=\"color: #7fbfbf\">           </span><span style=\"color: #000080\">INFO</span>     Sending metric for task train, round number <span style=\"color: #000080; font-weight: bold\">9</span>: base_ce  <span style=\"color: #000080; font-weight: bold\">0.47057852149009705</span>                                              <a href=\"file:///home/itrushkin/.virtualenvs/fledge/lib/python3.6/site-packages/fledge/component/collaborator/collaborator.py\"><span style=\"color: #7f7f7f\">collaborator.py</span></a><span style=\"color: #7f7f7f\">:318</span>\n",
       "</pre>\n"
      ],
      "text/plain": [
       "<rich.jupyter.JupyterRenderable at 0x7f96aa6295c0>"
      ]
     },
     "metadata": {},
     "output_type": "display_data"
    },
    {
     "data": {
      "text/html": [
       "<pre style=\"white-space:pre;overflow-x:auto;line-height:normal;font-family:Menlo,'DejaVu Sans Mono',consolas,'Courier New',monospace\"><span style=\"color: #7fbfbf\">           </span><span style=\"color: #000080\">INFO</span>     Collaborator two is sending task results for train, round <span style=\"color: #000080; font-weight: bold\">9</span>                                                                <a href=\"file:///home/itrushkin/.virtualenvs/fledge/lib/python3.6/site-packages/fledge/component/aggregator/aggregator.py\"><span style=\"color: #7f7f7f\">aggregator.py</span></a><span style=\"color: #7f7f7f\">:369</span>\n",
       "</pre>\n"
      ],
      "text/plain": [
       "<rich.jupyter.JupyterRenderable at 0x7f96aa629b38>"
      ]
     },
     "metadata": {},
     "output_type": "display_data"
    },
    {
     "name": "stdout",
     "output_type": "stream",
     "text": [
      "FastEstimator-Test: step: 782; epoch: 2; clean_accuracy: 0.7244; adversarial_accuracy: 0.4872; \n"
     ]
    },
    {
     "data": {
      "text/html": [
       "<pre style=\"white-space:pre;overflow-x:auto;line-height:normal;font-family:Menlo,'DejaVu Sans Mono',consolas,'Courier New',monospace\"><span style=\"color: #7fbfbf\">[08:04:47] </span><span style=\"color: #000080\">INFO</span>     Sending metric for task locally_tuned_model_validation, round number <span style=\"color: #000080; font-weight: bold\">9</span>: clean_accuracy  <span style=\"color: #000080; font-weight: bold\">0.7244</span>                           <a href=\"file:///home/itrushkin/.virtualenvs/fledge/lib/python3.6/site-packages/fledge/component/collaborator/collaborator.py\"><span style=\"color: #7f7f7f\">collaborator.py</span></a><span style=\"color: #7f7f7f\">:318</span>\n",
       "</pre>\n"
      ],
      "text/plain": [
       "<rich.jupyter.JupyterRenderable at 0x7f96aa629828>"
      ]
     },
     "metadata": {},
     "output_type": "display_data"
    },
    {
     "data": {
      "text/html": [
       "<pre style=\"white-space:pre;overflow-x:auto;line-height:normal;font-family:Menlo,'DejaVu Sans Mono',consolas,'Courier New',monospace\"><span style=\"color: #7fbfbf\">           </span><span style=\"color: #000080\">INFO</span>     Sending metric for task locally_tuned_model_validation, round number <span style=\"color: #000080; font-weight: bold\">9</span>: adversarial_accuracy    <span style=\"color: #000080; font-weight: bold\">0.4872</span>                   <a href=\"file:///home/itrushkin/.virtualenvs/fledge/lib/python3.6/site-packages/fledge/component/collaborator/collaborator.py\"><span style=\"color: #7f7f7f\">collaborator.py</span></a><span style=\"color: #7f7f7f\">:318</span>\n",
       "</pre>\n"
      ],
      "text/plain": [
       "<rich.jupyter.JupyterRenderable at 0x7f96aa539d68>"
      ]
     },
     "metadata": {},
     "output_type": "display_data"
    },
    {
     "data": {
      "text/html": [
       "<pre style=\"white-space:pre;overflow-x:auto;line-height:normal;font-family:Menlo,'DejaVu Sans Mono',consolas,'Courier New',monospace\"><span style=\"color: #7fbfbf\">           </span><span style=\"color: #000080\">INFO</span>     Collaborator two is sending task results for locally_tuned_model_validation, round <span style=\"color: #000080; font-weight: bold\">9</span>                                       <a href=\"file:///home/itrushkin/.virtualenvs/fledge/lib/python3.6/site-packages/fledge/component/aggregator/aggregator.py\"><span style=\"color: #7f7f7f\">aggregator.py</span></a><span style=\"color: #7f7f7f\">:369</span>\n",
       "</pre>\n"
      ],
      "text/plain": [
       "<rich.jupyter.JupyterRenderable at 0x7f96aa629cf8>"
      ]
     },
     "metadata": {},
     "output_type": "display_data"
    },
    {
     "data": {
      "text/html": [
       "<pre style=\"white-space:pre;overflow-x:auto;line-height:normal;font-family:Menlo,'DejaVu Sans Mono',consolas,'Courier New',monospace\"><span style=\"color: #7fbfbf\">           </span><span style=\"color: #000080\">INFO</span>     train task metrics<span style=\"color: #808000\">...</span>                                                                                                      <a href=\"file:///home/itrushkin/.virtualenvs/fledge/lib/python3.6/site-packages/fledge/component/aggregator/aggregator.py\"><span style=\"color: #7f7f7f\">aggregator.py</span></a><span style=\"color: #7f7f7f\">:505</span>\n",
       "</pre>\n"
      ],
      "text/plain": [
       "<rich.jupyter.JupyterRenderable at 0x7f96aa629cf8>"
      ]
     },
     "metadata": {},
     "output_type": "display_data"
    },
    {
     "data": {
      "text/html": [
       "<pre style=\"white-space:pre;overflow-x:auto;line-height:normal;font-family:Menlo,'DejaVu Sans Mono',consolas,'Courier New',monospace\"><span style=\"color: #7fbfbf\">           </span><span style=\"color: #000080\">INFO</span>     adv_ce: <span style=\"color: #000080; font-weight: bold\">0.9533</span>                                                                                                             <a href=\"file:///home/itrushkin/.virtualenvs/fledge/lib/python3.6/site-packages/fledge/component/aggregator/aggregator.py\"><span style=\"color: #7f7f7f\">aggregator.py</span></a><span style=\"color: #7f7f7f\">:539</span>\n",
       "</pre>\n"
      ],
      "text/plain": [
       "<rich.jupyter.JupyterRenderable at 0x7f96aa5aa470>"
      ]
     },
     "metadata": {},
     "output_type": "display_data"
    },
    {
     "data": {
      "text/html": [
       "<pre style=\"white-space:pre;overflow-x:auto;line-height:normal;font-family:Menlo,'DejaVu Sans Mono',consolas,'Courier New',monospace\"><span style=\"color: #7fbfbf\">           </span><span style=\"color: #000080\">INFO</span>     base_ce:        <span style=\"color: #000080; font-weight: bold\">0.4579</span>                                                                                                     <a href=\"file:///home/itrushkin/.virtualenvs/fledge/lib/python3.6/site-packages/fledge/component/aggregator/aggregator.py\"><span style=\"color: #7f7f7f\">aggregator.py</span></a><span style=\"color: #7f7f7f\">:539</span>\n",
       "</pre>\n"
      ],
      "text/plain": [
       "<rich.jupyter.JupyterRenderable at 0x7f96aa5aa390>"
      ]
     },
     "metadata": {},
     "output_type": "display_data"
    },
    {
     "data": {
      "text/html": [
       "<pre style=\"white-space:pre;overflow-x:auto;line-height:normal;font-family:Menlo,'DejaVu Sans Mono',consolas,'Courier New',monospace\"><span style=\"color: #7fbfbf\">           </span><span style=\"color: #000080\">INFO</span>     locally_tuned_model_validation task metrics<span style=\"color: #808000\">...</span>                                                                             <a href=\"file:///home/itrushkin/.virtualenvs/fledge/lib/python3.6/site-packages/fledge/component/aggregator/aggregator.py\"><span style=\"color: #7f7f7f\">aggregator.py</span></a><span style=\"color: #7f7f7f\">:505</span>\n",
       "</pre>\n"
      ],
      "text/plain": [
       "<rich.jupyter.JupyterRenderable at 0x7f96aa629828>"
      ]
     },
     "metadata": {},
     "output_type": "display_data"
    },
    {
     "data": {
      "text/html": [
       "<pre style=\"white-space:pre;overflow-x:auto;line-height:normal;font-family:Menlo,'DejaVu Sans Mono',consolas,'Courier New',monospace\"><span style=\"color: #7fbfbf\">           </span><span style=\"color: #000080\">INFO</span>     clean_accuracy: <span style=\"color: #000080; font-weight: bold\">0.7244</span>                                                                                                     <a href=\"file:///home/itrushkin/.virtualenvs/fledge/lib/python3.6/site-packages/fledge/component/aggregator/aggregator.py\"><span style=\"color: #7f7f7f\">aggregator.py</span></a><span style=\"color: #7f7f7f\">:539</span>\n",
       "</pre>\n"
      ],
      "text/plain": [
       "<rich.jupyter.JupyterRenderable at 0x7f96aa5aa748>"
      ]
     },
     "metadata": {},
     "output_type": "display_data"
    },
    {
     "data": {
      "text/html": [
       "<pre style=\"white-space:pre;overflow-x:auto;line-height:normal;font-family:Menlo,'DejaVu Sans Mono',consolas,'Courier New',monospace\"><span style=\"color: #7fbfbf\">           </span><span style=\"color: #000080\">INFO</span>     adversarial_accuracy:   <span style=\"color: #000080; font-weight: bold\">0.4856</span>                                                                                             <a href=\"file:///home/itrushkin/.virtualenvs/fledge/lib/python3.6/site-packages/fledge/component/aggregator/aggregator.py\"><span style=\"color: #7f7f7f\">aggregator.py</span></a><span style=\"color: #7f7f7f\">:539</span>\n",
       "</pre>\n"
      ],
      "text/plain": [
       "<rich.jupyter.JupyterRenderable at 0x7f96aa5aa780>"
      ]
     },
     "metadata": {},
     "output_type": "display_data"
    },
    {
     "data": {
      "text/html": [
       "<pre style=\"white-space:pre;overflow-x:auto;line-height:normal;font-family:Menlo,'DejaVu Sans Mono',consolas,'Courier New',monospace\"><span style=\"color: #7fbfbf\">           </span><span style=\"color: #000080\">INFO</span>     aggregated_model_validation task metrics<span style=\"color: #808000\">...</span>                                                                                <a href=\"file:///home/itrushkin/.virtualenvs/fledge/lib/python3.6/site-packages/fledge/component/aggregator/aggregator.py\"><span style=\"color: #7f7f7f\">aggregator.py</span></a><span style=\"color: #7f7f7f\">:505</span>\n",
       "</pre>\n"
      ],
      "text/plain": [
       "<rich.jupyter.JupyterRenderable at 0x7f96aa629828>"
      ]
     },
     "metadata": {},
     "output_type": "display_data"
    },
    {
     "data": {
      "text/html": [
       "<pre style=\"white-space:pre;overflow-x:auto;line-height:normal;font-family:Menlo,'DejaVu Sans Mono',consolas,'Courier New',monospace\"><span style=\"color: #7fbfbf\">           </span><span style=\"color: #000080\">INFO</span>     clean_accuracy: <span style=\"color: #000080; font-weight: bold\">0.7274</span>                                                                                                     <a href=\"file:///home/itrushkin/.virtualenvs/fledge/lib/python3.6/site-packages/fledge/component/aggregator/aggregator.py\"><span style=\"color: #7f7f7f\">aggregator.py</span></a><span style=\"color: #7f7f7f\">:539</span>\n",
       "</pre>\n"
      ],
      "text/plain": [
       "<rich.jupyter.JupyterRenderable at 0x7f96aa5aada0>"
      ]
     },
     "metadata": {},
     "output_type": "display_data"
    },
    {
     "data": {
      "text/html": [
       "<pre style=\"white-space:pre;overflow-x:auto;line-height:normal;font-family:Menlo,'DejaVu Sans Mono',consolas,'Courier New',monospace\"><span style=\"color: #7fbfbf\">           </span><span style=\"color: #000080\">INFO</span>     Saved the best model with score <span style=\"color: #000080; font-weight: bold\">0.727400</span>                                                                                   <a href=\"file:///home/itrushkin/.virtualenvs/fledge/lib/python3.6/site-packages/fledge/component/aggregator/aggregator.py\"><span style=\"color: #7f7f7f\">aggregator.py</span></a><span style=\"color: #7f7f7f\">:546</span>\n",
       "</pre>\n"
      ],
      "text/plain": [
       "<rich.jupyter.JupyterRenderable at 0x7f96aa5aafd0>"
      ]
     },
     "metadata": {},
     "output_type": "display_data"
    },
    {
     "data": {
      "text/html": [
       "<pre style=\"white-space:pre;overflow-x:auto;line-height:normal;font-family:Menlo,'DejaVu Sans Mono',consolas,'Courier New',monospace\"><span style=\"color: #7fbfbf\">           </span><span style=\"color: #000080\">INFO</span>     adversarial_accuracy:   <span style=\"color: #000080; font-weight: bold\">0.4914</span>                                                                                             <a href=\"file:///home/itrushkin/.virtualenvs/fledge/lib/python3.6/site-packages/fledge/component/aggregator/aggregator.py\"><span style=\"color: #7f7f7f\">aggregator.py</span></a><span style=\"color: #7f7f7f\">:539</span>\n",
       "</pre>\n"
      ],
      "text/plain": [
       "<rich.jupyter.JupyterRenderable at 0x7f96aa5aab38>"
      ]
     },
     "metadata": {},
     "output_type": "display_data"
    },
    {
     "data": {
      "text/html": [
       "<pre style=\"white-space:pre;overflow-x:auto;line-height:normal;font-family:Menlo,'DejaVu Sans Mono',consolas,'Courier New',monospace\"><span style=\"color: #7fbfbf\">           </span><span style=\"color: #000080\">INFO</span>     Saving round <span style=\"color: #000080; font-weight: bold\">10</span> model<span style=\"color: #808000\">...</span>                                                                                                   <a href=\"file:///home/itrushkin/.virtualenvs/fledge/lib/python3.6/site-packages/fledge/component/aggregator/aggregator.py\"><span style=\"color: #7f7f7f\">aggregator.py</span></a><span style=\"color: #7f7f7f\">:602</span>\n",
       "</pre>\n"
      ],
      "text/plain": [
       "<rich.jupyter.JupyterRenderable at 0x7f96aa629cf8>"
      ]
     },
     "metadata": {},
     "output_type": "display_data"
    },
    {
     "data": {
      "text/html": [
       "<pre style=\"white-space:pre;overflow-x:auto;line-height:normal;font-family:Menlo,'DejaVu Sans Mono',consolas,'Courier New',monospace\"><span style=\"color: #7fbfbf\">           </span><span style=\"color: #000080\">INFO</span>     Experiment Completed. Cleaning up<span style=\"color: #808000\">...</span>                                                                                       <a href=\"file:///home/itrushkin/.virtualenvs/fledge/lib/python3.6/site-packages/fledge/component/aggregator/aggregator.py\"><span style=\"color: #7f7f7f\">aggregator.py</span></a><span style=\"color: #7f7f7f\">:608</span>\n",
       "</pre>\n"
      ],
      "text/plain": [
       "<rich.jupyter.JupyterRenderable at 0x7f96aa5aa390>"
      ]
     },
     "metadata": {},
     "output_type": "display_data"
    },
    {
     "data": {
      "text/html": [
       "<pre style=\"white-space:pre;overflow-x:auto;line-height:normal;font-family:Menlo,'DejaVu Sans Mono',consolas,'Courier New',monospace\"><span style=\"color: #7fbfbf\">           </span><span style=\"color: #000080\">INFO</span>     All tasks completed on two for round <span style=\"color: #000080; font-weight: bold\">9</span><span style=\"color: #808000\">...</span>                                                                                <a href=\"file:///home/itrushkin/.virtualenvs/fledge/lib/python3.6/site-packages/fledge/component/collaborator/collaborator.py\"><span style=\"color: #7f7f7f\">collaborator.py</span></a><span style=\"color: #7f7f7f\">:158</span>\n",
       "</pre>\n"
      ],
      "text/plain": [
       "<rich.jupyter.JupyterRenderable at 0x7f96aa5aa438>"
      ]
     },
     "metadata": {},
     "output_type": "display_data"
    }
   ],
   "source": [
    "import fastestimator as fe\n",
    "from fastestimator.architecture.pytorch import LeNet\n",
    "from fastestimator.backend import to_tensor, argmax\n",
    "from fastestimator.dataset.data import cifar10\n",
    "from fastestimator.op.numpyop.meta import Sometimes\n",
    "from fastestimator.op.numpyop.multivariate import HorizontalFlip\n",
    "from fastestimator.op.numpyop.univariate import CoarseDropout, Normalize, Onehot\n",
    "from fastestimator.op.tensorop import Average\n",
    "from fastestimator.op.tensorop.gradient import Watch, FGSM\n",
    "from fastestimator.op.tensorop.loss import CrossEntropy\n",
    "from fastestimator.op.tensorop.model import ModelOp, UpdateOp\n",
    "from fastestimator.trace.io import BestModelSaver\n",
    "from fastestimator.trace.metric import Accuracy\n",
    "from fastestimator.util import ImgData, to_number\n",
    "from fledge.native.fastestimator import FederatedFastEstimator\n",
    "from fastestimator.dataset.data import cifar10\n",
    "from fastestimator.op.numpyop.univariate import Normalize, ChannelTranspose\n",
    "\n",
    "#data_path='1'\n",
    "#collaborator_count=2\n",
    "batch_size=128\n",
    "\n",
    "train_data, eval_data = cifar10.load_data()\n",
    "test_data = eval_data.split(0.5)\n",
    "#train_data, eval_data, test_data = split_data(train_data, eval_data, test_data, int(data_path), collaborator_count)\n",
    "\n",
    "pipeline = fe.Pipeline(train_data=train_data,\n",
    "                     eval_data=eval_data,\n",
    "                     test_data=test_data,\n",
    "                     batch_size=batch_size,\n",
    "                     ops=[Normalize(inputs=\"x\", outputs=\"x\",\n",
    "                             mean=(0.4914, 0.4822, 0.4465), \n",
    "                             std=(0.2471, 0.2435, 0.2616)),\n",
    "                          ChannelTranspose(inputs=\"x\", outputs=\"x\")])\n",
    "model = fe.build(model_fn=lambda: LeNet(input_shape=(3, 32, 32)), \\\n",
    "                         optimizer_fn=\"adam\", model_name=\"adv_model\")\n",
    "\n",
    "network = fe.Network(ops=[\n",
    "                Watch(inputs=\"x\"),\n",
    "                ModelOp(model=model, inputs=\"x\", outputs=\"y_pred\"),\n",
    "                CrossEntropy(inputs=(\"y_pred\", \"y\"), outputs=\"base_ce\"),\n",
    "                FGSM(data=\"x\", loss=\"base_ce\", outputs=\"x_adverse\", epsilon=0.04),\n",
    "                ModelOp(model=model, inputs=\"x_adverse\", outputs=\"y_pred_adv\"),\n",
    "                CrossEntropy(inputs=(\"y_pred_adv\", \"y\"), outputs=\"adv_ce\"),\n",
    "                Average(inputs=(\"base_ce\", \"adv_ce\"), outputs=\"avg_ce\"),\n",
    "                UpdateOp(model=model, loss_name=\"avg_ce\")\n",
    "            ])\n",
    "\n",
    "estimator = fe.Estimator(pipeline=pipeline,\n",
    "                         network=network,\n",
    "                         epochs=2,\n",
    "                         traces=[Accuracy(true_key=\"y\", pred_key=\"y_pred\", output_name=\"clean_accuracy\"),\n",
    "                                Accuracy(true_key=\"y\", pred_key=\"y_pred_adv\", output_name=\"adversarial_accuracy\")],\n",
    "                         max_train_steps_per_epoch=None,\n",
    "                         max_eval_steps_per_epoch=None,\n",
    "                         monitor_names=[\"base_ce\", \"adv_ce\"],\n",
    "                         log_steps=1000)\n",
    "fledge_estimator = FederatedFastEstimator(estimator, rounds=10)\n",
    "model=fledge_estimator.fit()"
   ]
  },
  {
   "cell_type": "code",
   "execution_count": 3,
   "metadata": {},
   "outputs": [
    {
     "data": {
      "text/plain": [
       "OrderedDict([('module.conv1.weight',\n",
       "              tensor([[[[ 1.0045e-01, -1.6815e-02, -5.0068e-02],\n",
       "                        [ 1.4253e-01, -5.5407e-02, -5.8111e-02],\n",
       "                        [ 1.7893e-01, -1.0924e-01, -3.5104e-02]],\n",
       "              \n",
       "                       [[ 9.6488e-02,  4.0903e-02, -9.2665e-03],\n",
       "                        [ 1.4534e-01,  3.3700e-02, -4.7639e-02],\n",
       "                        [ 1.6572e-01, -5.9179e-02, -8.1506e-03]],\n",
       "              \n",
       "                       [[-6.8587e-03, -6.1685e-02, -7.2202e-02],\n",
       "                        [-1.4615e-02, -9.3403e-02, -7.1748e-02],\n",
       "                        [ 2.0029e-02, -1.4099e-01, -6.5369e-02]]],\n",
       "              \n",
       "              \n",
       "                      [[[ 6.4476e-02,  1.1921e-01,  2.9656e-02],\n",
       "                        [ 2.2803e-01,  2.5284e-01,  2.0191e-01],\n",
       "                        [ 1.8031e-01,  2.6462e-01,  1.5604e-01]],\n",
       "              \n",
       "                       [[-6.2902e-02, -7.6621e-02, -3.4148e-02],\n",
       "                        [-1.2571e-01, -1.8138e-01, -1.2585e-01],\n",
       "                        [-1.2008e-01, -1.6801e-01, -6.5652e-02]],\n",
       "              \n",
       "                       [[-2.4237e-02, -5.7090e-02,  8.1475e-03],\n",
       "                        [-9.7218e-02, -1.2703e-01, -8.7179e-02],\n",
       "                        [-6.2402e-02, -1.1481e-01, -9.8514e-02]]],\n",
       "              \n",
       "              \n",
       "                      [[[ 1.5016e-02, -1.5095e-02,  7.4202e-02],\n",
       "                        [-1.0021e-01, -1.3987e-01, -7.1697e-02],\n",
       "                        [-1.1810e-01, -1.0067e-01, -1.1184e-01]],\n",
       "              \n",
       "                       [[ 8.7602e-02,  9.5531e-02,  1.3193e-01],\n",
       "                        [-4.9361e-02, -3.2350e-02,  2.0782e-02],\n",
       "                        [-4.9457e-02, -1.0720e-01, -3.8729e-02]],\n",
       "              \n",
       "                       [[-2.4146e-03, -5.2865e-03,  2.7951e-02],\n",
       "                        [-4.4186e-02, -7.0886e-02, -5.8193e-02],\n",
       "                        [-9.7729e-02, -7.5550e-02, -8.9306e-02]]],\n",
       "              \n",
       "              \n",
       "                      [[[-1.5538e-02,  3.7388e-02,  5.8421e-02],\n",
       "                        [ 4.7408e-02,  1.0547e-01,  9.0534e-02],\n",
       "                        [ 8.6952e-02,  1.3831e-01,  1.1788e-01]],\n",
       "              \n",
       "                       [[-1.3923e-02,  3.2870e-02,  4.1071e-02],\n",
       "                        [ 1.9465e-02,  9.4867e-02,  9.8150e-02],\n",
       "                        [ 6.1263e-02,  1.0606e-01,  1.0306e-01]],\n",
       "              \n",
       "                       [[-1.2384e-02,  2.2422e-02,  3.3165e-02],\n",
       "                        [ 1.9352e-02,  8.3750e-02,  9.6096e-02],\n",
       "                        [ 3.4227e-02,  7.2614e-02,  9.3362e-02]]],\n",
       "              \n",
       "              \n",
       "                      [[[-3.5043e-02,  2.3316e-01, -4.1681e-02],\n",
       "                        [-1.6437e-01,  1.7408e-01, -1.4384e-01],\n",
       "                        [-1.2352e-01,  1.6710e-01, -6.8259e-02]],\n",
       "              \n",
       "                       [[-7.6765e-02,  1.7095e-01, -7.0969e-02],\n",
       "                        [-1.5340e-01,  1.4500e-01, -1.4369e-01],\n",
       "                        [-5.7188e-02,  2.0748e-01, -6.3794e-02]],\n",
       "              \n",
       "                       [[-1.8278e-02,  9.9699e-02, -6.3330e-02],\n",
       "                        [-5.5852e-02,  1.0796e-01, -9.0292e-02],\n",
       "                        [-3.6632e-02,  1.5095e-01, -4.9361e-02]]],\n",
       "              \n",
       "              \n",
       "                      [[[-6.3100e-03,  1.6157e-02, -5.4411e-02],\n",
       "                        [ 7.7291e-03, -4.6970e-02, -3.6995e-02],\n",
       "                        [ 1.9291e-02, -5.5405e-02, -3.3279e-02]],\n",
       "              \n",
       "                       [[ 3.3293e-02,  5.7433e-02, -4.0623e-03],\n",
       "                        [ 5.9860e-02,  2.0294e-02, -1.0378e-02],\n",
       "                        [ 3.3027e-02, -9.2146e-03, -2.1417e-02]],\n",
       "              \n",
       "                       [[ 1.7846e-01,  2.1164e-01,  9.2567e-02],\n",
       "                        [ 1.6523e-01,  1.9011e-01,  6.2773e-02],\n",
       "                        [ 1.1465e-01,  8.4717e-02,  3.0208e-02]]],\n",
       "              \n",
       "              \n",
       "                      [[[ 1.2869e-01,  2.0395e-01,  9.0882e-03],\n",
       "                        [ 1.9223e-01,  4.7834e-02, -1.9813e-01],\n",
       "                        [ 2.7224e-02, -1.4475e-01, -1.7637e-01]],\n",
       "              \n",
       "                       [[ 1.2310e-01,  1.6568e-01, -4.6362e-02],\n",
       "                        [ 1.7547e-01,  2.9252e-02, -2.4617e-01],\n",
       "                        [ 1.0095e-02, -1.5533e-01, -2.0481e-01]],\n",
       "              \n",
       "                       [[ 1.1376e-01,  1.3256e-01, -2.2079e-03],\n",
       "                        [ 1.5123e-01,  1.2793e-02, -1.3410e-01],\n",
       "                        [ 1.6604e-02, -1.1203e-01, -1.0839e-01]]],\n",
       "              \n",
       "              \n",
       "                      [[[-2.6502e-02, -1.4882e-01,  1.2645e-01],\n",
       "                        [-4.1363e-02, -1.3152e-01,  1.3911e-01],\n",
       "                        [ 6.5951e-03, -8.9019e-02,  1.2130e-01]],\n",
       "              \n",
       "                       [[-5.8338e-02, -8.3445e-02,  3.0347e-01],\n",
       "                        [-3.2145e-02, -1.9343e-01,  2.1198e-01],\n",
       "                        [-6.9573e-02, -1.8988e-01,  2.5807e-02]],\n",
       "              \n",
       "                       [[ 7.7487e-03, -3.2265e-02,  1.7834e-01],\n",
       "                        [ 5.1249e-03, -9.4235e-02,  1.2577e-01],\n",
       "                        [-2.4928e-02, -7.3786e-02,  1.6477e-02]]],\n",
       "              \n",
       "              \n",
       "                      [[[-1.3709e-02,  9.8189e-02,  2.4790e-01],\n",
       "                        [ 1.9480e-02,  7.6617e-02,  9.5515e-03],\n",
       "                        [ 1.0543e-02, -1.3398e-01, -2.5145e-01]],\n",
       "              \n",
       "                       [[-3.8583e-02,  1.0815e-01,  2.7025e-01],\n",
       "                        [-2.4063e-02,  4.8790e-02, -8.8695e-03],\n",
       "                        [-1.1517e-02, -1.5537e-01, -3.0151e-01]],\n",
       "              \n",
       "                       [[-2.8587e-02,  6.5515e-02,  1.7322e-01],\n",
       "                        [ 2.0142e-02,  3.9655e-02, -3.0978e-02],\n",
       "                        [ 4.8148e-02, -8.0148e-02, -1.6433e-01]]],\n",
       "              \n",
       "              \n",
       "                      [[[ 1.5073e-02,  1.9259e-01,  8.6558e-02],\n",
       "                        [-1.7559e-01,  1.0208e-01,  2.3841e-01],\n",
       "                        [-2.3930e-01, -2.1254e-01, -3.9324e-03]],\n",
       "              \n",
       "                       [[-2.5578e-03,  1.4178e-01,  4.4289e-02],\n",
       "                        [-1.8742e-01,  1.0554e-01,  2.1803e-01],\n",
       "                        [-1.9704e-01, -1.8244e-01,  2.0095e-02]],\n",
       "              \n",
       "                       [[ 8.4307e-04,  9.2402e-02,  2.8042e-03],\n",
       "                        [-8.8938e-02,  5.4035e-02,  1.1174e-01],\n",
       "                        [-7.1916e-02, -9.8153e-02, -5.4709e-03]]],\n",
       "              \n",
       "              \n",
       "                      [[[-1.6639e-01,  2.0511e-02,  1.1443e-01],\n",
       "                        [-2.8136e-01,  6.5587e-02,  1.9377e-01],\n",
       "                        [-1.8848e-01,  9.0474e-02,  1.0693e-01]],\n",
       "              \n",
       "                       [[-1.4231e-01,  1.2331e-02,  9.8805e-02],\n",
       "                        [-2.9161e-01,  9.7873e-02,  1.8801e-01],\n",
       "                        [-1.5852e-01,  9.0744e-02,  1.1522e-01]],\n",
       "              \n",
       "                       [[-1.3243e-01, -8.0852e-03,  8.1876e-02],\n",
       "                        [-2.2458e-01,  4.9918e-02,  1.6525e-01],\n",
       "                        [-1.2278e-01,  7.6894e-02,  7.9615e-02]]],\n",
       "              \n",
       "              \n",
       "                      [[[-3.2313e-02, -3.6266e-02, -4.0050e-02],\n",
       "                        [ 1.8876e-01,  1.2068e-01,  1.0998e-01],\n",
       "                        [-1.0894e-01, -1.3165e-01, -1.3467e-01]],\n",
       "              \n",
       "                       [[-1.1122e-02, -3.6011e-02,  9.8223e-03],\n",
       "                        [ 2.2320e-01,  1.6896e-01,  1.2415e-01],\n",
       "                        [-7.6747e-02, -2.0175e-01, -1.5439e-01]],\n",
       "              \n",
       "                       [[-2.4835e-02, -3.2154e-03,  1.1693e-02],\n",
       "                        [ 1.1844e-01,  1.1998e-01,  8.1598e-02],\n",
       "                        [-8.2685e-02, -1.1412e-01, -1.2241e-01]]],\n",
       "              \n",
       "              \n",
       "                      [[[ 2.4659e-02, -2.3819e-02, -6.4928e-02],\n",
       "                        [ 1.7759e-02, -5.5911e-02, -9.3894e-02],\n",
       "                        [-3.3636e-02, -1.1941e-01, -1.3339e-01]],\n",
       "              \n",
       "                       [[-8.2559e-02, -1.1721e-01, -1.1744e-01],\n",
       "                        [-6.3655e-02, -1.4763e-01, -1.4725e-01],\n",
       "                        [-7.2108e-02, -1.4567e-01, -1.3671e-01]],\n",
       "              \n",
       "                       [[-3.4617e-02, -4.9858e-02, -5.0463e-02],\n",
       "                        [-3.3413e-02, -5.3703e-02, -5.3204e-02],\n",
       "                        [-2.7823e-02, -6.2421e-02, -6.1295e-02]]],\n",
       "              \n",
       "              \n",
       "                      [[[ 9.9531e-02, -2.0446e-01,  6.8218e-02],\n",
       "                        [-4.3026e-03, -2.2447e-01,  1.9828e-01],\n",
       "                        [-2.8519e-02, -2.5055e-02,  9.7580e-02]],\n",
       "              \n",
       "                       [[ 9.2475e-02, -1.7703e-01,  3.1761e-02],\n",
       "                        [ 4.4863e-02, -2.0811e-01,  1.5489e-01],\n",
       "                        [ 9.3590e-03, -4.3735e-02,  1.0500e-01]],\n",
       "              \n",
       "                       [[ 1.0631e-01, -1.3118e-01,  3.1801e-02],\n",
       "                        [ 3.3554e-02, -1.3129e-01,  7.1714e-02],\n",
       "                        [ 1.8757e-02, -6.6214e-02,  2.0860e-02]]],\n",
       "              \n",
       "              \n",
       "                      [[[ 8.6357e-02,  8.2589e-02, -1.9345e-01],\n",
       "                        [ 1.8026e-01,  1.4391e-01, -2.8465e-01],\n",
       "                        [ 1.4031e-01,  9.8827e-02, -2.2372e-01]],\n",
       "              \n",
       "                       [[ 4.6317e-02,  6.5820e-02, -1.5981e-01],\n",
       "                        [ 1.2247e-01,  1.1551e-01, -3.1537e-01],\n",
       "                        [ 1.2787e-01,  9.2616e-02, -1.6511e-01]],\n",
       "              \n",
       "                       [[-4.4256e-03,  5.8732e-02, -5.7846e-02],\n",
       "                        [ 8.8915e-02,  1.0072e-01, -1.8203e-01],\n",
       "                        [ 6.1562e-02,  7.9748e-02, -1.0997e-01]]],\n",
       "              \n",
       "              \n",
       "                      [[[-2.8768e-01, -2.7018e-01, -8.6915e-02],\n",
       "                        [-7.3332e-02,  7.4552e-02,  1.5818e-01],\n",
       "                        [ 1.5755e-01,  2.3328e-01,  1.4117e-01]],\n",
       "              \n",
       "                       [[-2.3997e-01, -2.3592e-01, -6.7287e-02],\n",
       "                        [-6.1244e-02,  6.1130e-02,  1.2284e-01],\n",
       "                        [ 1.1920e-01,  1.7379e-01,  7.8276e-02]],\n",
       "              \n",
       "                       [[-1.4693e-01, -1.6667e-01, -4.5315e-02],\n",
       "                        [-4.5918e-02,  4.1623e-02,  9.1563e-02],\n",
       "                        [ 1.0202e-01,  1.2687e-01,  5.3956e-02]]],\n",
       "              \n",
       "              \n",
       "                      [[[ 9.0464e-02,  2.2592e-01, -7.5875e-02],\n",
       "                        [ 1.1250e-01, -1.6910e-01, -1.0432e-01],\n",
       "                        [-8.0640e-02, -1.2026e-01,  1.6928e-01]],\n",
       "              \n",
       "                       [[ 1.6026e-02,  1.5823e-01, -1.2333e-01],\n",
       "                        [ 8.5950e-02, -1.8853e-01, -6.1777e-02],\n",
       "                        [-7.7324e-02, -7.0346e-02,  1.8357e-01]],\n",
       "              \n",
       "                       [[-6.9907e-02,  9.1447e-02, -6.7056e-02],\n",
       "                        [ 4.9376e-02, -9.4231e-02, -2.6913e-02],\n",
       "                        [-6.5057e-04,  4.1569e-03,  1.3181e-01]]],\n",
       "              \n",
       "              \n",
       "                      [[[-7.1793e-03, -1.4933e-01, -2.1989e-01],\n",
       "                        [ 1.3168e-01,  1.7894e-01,  1.9701e-02],\n",
       "                        [ 4.3064e-02,  1.3265e-01,  1.6409e-01]],\n",
       "              \n",
       "                       [[-1.1661e-02, -8.1828e-02, -1.5784e-01],\n",
       "                        [ 1.2309e-01,  1.6307e-01, -2.1378e-03],\n",
       "                        [ 1.9907e-02,  8.6615e-02,  1.1523e-01]],\n",
       "              \n",
       "                       [[-7.6222e-02, -1.2190e-01, -1.2579e-01],\n",
       "                        [-8.5427e-03,  1.2351e-02, -7.9079e-02],\n",
       "                        [-8.3659e-02, -5.2737e-02, -3.8157e-02]]],\n",
       "              \n",
       "              \n",
       "                      [[[ 6.5294e-02, -1.6014e-01, -4.5817e-03],\n",
       "                        [ 1.8823e-01, -1.4145e-02, -1.5134e-01],\n",
       "                        [ 5.9307e-02,  1.6153e-01,  1.8442e-02]],\n",
       "              \n",
       "                       [[ 8.4154e-02, -2.1242e-01, -1.6266e-01],\n",
       "                        [ 2.0272e-01, -3.6457e-02, -2.3738e-01],\n",
       "                        [ 5.7752e-02,  1.1716e-01, -6.7477e-02]],\n",
       "              \n",
       "                       [[ 1.0042e-01, -1.3445e-01, -7.8741e-02],\n",
       "                        [ 1.5777e-01, -6.9758e-03, -1.1649e-01],\n",
       "                        [ 8.2559e-02,  9.2563e-02, -2.5801e-02]]],\n",
       "              \n",
       "              \n",
       "                      [[[-8.6212e-02, -6.9988e-02, -1.3104e-02],\n",
       "                        [-8.3029e-02, -8.2253e-02, -9.7709e-03],\n",
       "                        [ 4.0719e-03,  3.6495e-02,  7.9789e-02]],\n",
       "              \n",
       "                       [[-3.4189e-02, -5.1213e-02, -9.8640e-03],\n",
       "                        [-6.1785e-02, -4.4139e-02, -2.8892e-02],\n",
       "                        [-1.5154e-02,  2.4329e-02,  3.1703e-02]],\n",
       "              \n",
       "                       [[-6.6058e-02, -7.5773e-02, -4.8017e-02],\n",
       "                        [-7.3571e-02, -9.9544e-02, -7.8986e-02],\n",
       "                        [-6.2244e-02, -5.4643e-02, -3.6848e-02]]],\n",
       "              \n",
       "              \n",
       "                      [[[-8.8529e-02,  5.0065e-02,  8.3124e-02],\n",
       "                        [ 8.8139e-02, -1.4828e-01,  2.4118e-02],\n",
       "                        [ 1.7314e-01, -2.8964e-02, -6.7057e-02]],\n",
       "              \n",
       "                       [[-8.2622e-02,  5.8182e-02,  8.7323e-02],\n",
       "                        [ 1.0721e-01, -1.8718e-01,  9.5874e-02],\n",
       "                        [ 1.6108e-01, -6.3621e-02, -3.0535e-02]],\n",
       "              \n",
       "                       [[-1.1259e-01, -3.2744e-02, -2.2021e-04],\n",
       "                        [ 4.6322e-02, -1.8044e-01, -2.7413e-02],\n",
       "                        [ 7.4898e-02, -7.7640e-02, -6.7718e-02]]],\n",
       "              \n",
       "              \n",
       "                      [[[ 9.3334e-02,  1.6198e-01,  1.9304e-01],\n",
       "                        [ 3.2496e-02,  7.2804e-02,  1.1751e-01],\n",
       "                        [-1.0986e-01,  9.3001e-03,  1.2137e-01]],\n",
       "              \n",
       "                       [[ 7.9398e-02,  7.4368e-02,  1.0766e-01],\n",
       "                        [-3.1140e-02,  5.4251e-02,  9.3840e-02],\n",
       "                        [-1.4690e-01, -6.6651e-02,  5.1182e-02]],\n",
       "              \n",
       "                       [[-1.6000e-02,  8.1180e-03,  6.0049e-02],\n",
       "                        [-1.0215e-01, -3.7859e-02,  1.8506e-02],\n",
       "                        [-1.2705e-01, -9.4131e-02, -3.2872e-02]]],\n",
       "              \n",
       "              \n",
       "                      [[[ 8.1631e-02,  1.6895e-01,  1.7590e-02],\n",
       "                        [-1.8442e-01, -1.5906e-01,  8.9693e-03],\n",
       "                        [ 7.4646e-02,  2.1696e-02, -2.8522e-03]],\n",
       "              \n",
       "                       [[ 1.1775e-01,  1.9902e-01,  7.7902e-02],\n",
       "                        [-1.9305e-01, -1.8336e-01, -4.6420e-02],\n",
       "                        [ 7.0991e-02, -3.2870e-02, -3.5742e-02]],\n",
       "              \n",
       "                       [[ 1.3083e-01,  1.7126e-01,  8.9393e-02],\n",
       "                        [-1.7060e-01, -1.4618e-01,  1.2099e-02],\n",
       "                        [-9.6880e-03, -5.9923e-02, -2.3800e-02]]],\n",
       "              \n",
       "              \n",
       "                      [[[-2.2917e-02, -1.1529e-01,  6.8964e-03],\n",
       "                        [-1.3691e-01, -4.9547e-02,  1.2004e-01],\n",
       "                        [-4.8586e-02,  1.2553e-01,  1.4579e-01]],\n",
       "              \n",
       "                       [[-1.1527e-01, -1.5760e-01, -1.9589e-02],\n",
       "                        [-2.3040e-01, -9.5613e-02,  1.7453e-01],\n",
       "                        [-1.0352e-01,  1.6376e-01,  2.3623e-01]],\n",
       "              \n",
       "                       [[-5.9461e-02, -9.6375e-02, -3.8429e-02],\n",
       "                        [-1.1495e-01, -3.4382e-02,  9.7448e-02],\n",
       "                        [-4.5176e-02,  1.3499e-01,  1.7341e-01]]],\n",
       "              \n",
       "              \n",
       "                      [[[-9.4956e-02, -8.5882e-02, -7.5712e-02],\n",
       "                        [-7.8145e-02, -9.9559e-02, -9.2901e-02],\n",
       "                        [-9.4138e-02, -7.1490e-02, -8.8827e-02]],\n",
       "              \n",
       "                       [[ 1.3634e-01,  1.7388e-01,  1.6785e-01],\n",
       "                        [ 2.4828e-01,  2.8857e-01,  1.9654e-01],\n",
       "                        [ 1.1562e-01,  2.3669e-01,  1.8500e-01]],\n",
       "              \n",
       "                       [[-8.1886e-02, -8.8139e-02, -9.9033e-02],\n",
       "                        [-1.3905e-01, -2.1657e-01, -1.3123e-01],\n",
       "                        [-1.1207e-01, -1.5723e-01, -8.9916e-02]]],\n",
       "              \n",
       "              \n",
       "                      [[[ 5.3600e-02, -6.9918e-02, -1.4765e-01],\n",
       "                        [-1.0491e-01, -1.8826e-01, -2.1451e-01],\n",
       "                        [-8.0645e-02, -1.0989e-01, -1.3205e-01]],\n",
       "              \n",
       "                       [[ 1.3212e-01,  3.7208e-02,  4.1023e-03],\n",
       "                        [ 5.2901e-02, -3.0648e-02, -5.9924e-02],\n",
       "                        [ 3.3844e-02,  3.1266e-02, -7.7388e-02]],\n",
       "              \n",
       "                       [[ 1.4982e-01,  1.1709e-01,  6.3230e-02],\n",
       "                        [ 7.9871e-02,  4.2500e-02,  2.4009e-02],\n",
       "                        [ 8.2600e-02,  6.0872e-02,  1.6286e-02]]],\n",
       "              \n",
       "              \n",
       "                      [[[-3.3694e-02, -4.6755e-02,  3.8121e-03],\n",
       "                        [-8.5099e-02, -4.5801e-02, -9.7834e-03],\n",
       "                        [-1.4236e-01, -1.0665e-01, -1.0668e-01]],\n",
       "              \n",
       "                       [[ 2.6967e-02,  2.4880e-02,  6.7465e-02],\n",
       "                        [ 1.8265e-02,  3.0173e-02,  3.9124e-02],\n",
       "                        [-6.7067e-02, -2.5111e-03,  7.7402e-03]],\n",
       "              \n",
       "                       [[ 1.0792e-01,  1.0384e-01,  1.0383e-01],\n",
       "                        [ 8.1698e-02,  1.1324e-01,  1.1421e-01],\n",
       "                        [ 2.7502e-02,  8.4110e-02,  1.0015e-01]]],\n",
       "              \n",
       "              \n",
       "                      [[[ 5.2995e-02, -7.3124e-02, -1.0809e-01],\n",
       "                        [-1.7365e-02,  8.5333e-02, -9.0721e-02],\n",
       "                        [-1.7261e-01, -5.8323e-02,  1.4991e-01]],\n",
       "              \n",
       "                       [[ 1.0401e-01, -2.5934e-02, -8.9239e-02],\n",
       "                        [-2.9402e-03,  1.0113e-01, -6.5594e-02],\n",
       "                        [-1.1958e-01, -4.6927e-02,  1.7823e-01]],\n",
       "              \n",
       "                       [[ 1.2167e-01, -2.0385e-02, -5.0288e-02],\n",
       "                        [ 3.6749e-02,  9.5262e-02, -6.1960e-02],\n",
       "                        [-7.5549e-02, -2.4718e-02,  1.6797e-01]]],\n",
       "              \n",
       "              \n",
       "                      [[[-4.5060e-02, -6.0571e-02,  7.9305e-04],\n",
       "                        [-4.3923e-02, -1.6997e-01, -1.6220e-01],\n",
       "                        [ 1.5811e-01,  1.9923e-01,  1.2633e-01]],\n",
       "              \n",
       "                       [[-5.8512e-02, -6.8385e-02, -3.4540e-02],\n",
       "                        [-8.5660e-02, -1.9016e-01, -1.7278e-01],\n",
       "                        [ 1.5681e-01,  2.0012e-01,  1.3577e-01]],\n",
       "              \n",
       "                       [[-6.4474e-02, -4.2351e-02, -2.2600e-02],\n",
       "                        [-4.7758e-02, -1.1965e-01, -1.0373e-01],\n",
       "                        [ 1.5625e-01,  1.8717e-01,  1.3039e-01]]],\n",
       "              \n",
       "              \n",
       "                      [[[ 9.2451e-02,  9.0108e-02,  1.1716e-01],\n",
       "                        [ 7.1023e-02,  1.5253e-01,  1.0058e-01],\n",
       "                        [ 5.9008e-02,  8.5133e-02,  8.1872e-02]],\n",
       "              \n",
       "                       [[-6.3220e-02, -9.5483e-02, -6.9703e-02],\n",
       "                        [-1.1446e-01, -9.0949e-02, -5.8214e-02],\n",
       "                        [-2.8619e-02, -5.7017e-02, -6.4048e-02]],\n",
       "              \n",
       "                       [[-1.8459e-02, -4.6780e-02, -4.9269e-02],\n",
       "                        [-7.3205e-02, -4.4191e-02, -1.6880e-02],\n",
       "                        [-5.4816e-02, -6.1971e-02, -2.7445e-02]]],\n",
       "              \n",
       "              \n",
       "                      [[[-2.1096e-02,  8.6870e-02,  7.6001e-02],\n",
       "                        [-1.6357e-01, -2.7925e-02,  1.0806e-01],\n",
       "                        [-3.7873e-02, -1.5942e-01, -2.4011e-02]],\n",
       "              \n",
       "                       [[-1.3386e-01, -4.3538e-02, -5.9144e-02],\n",
       "                        [-1.2000e-01, -1.3890e-01,  4.8863e-03],\n",
       "                        [-6.4800e-02, -1.2173e-01, -1.1212e-01]],\n",
       "              \n",
       "                       [[ 2.9245e-02,  5.6284e-02,  7.1725e-02],\n",
       "                        [-4.0371e-02,  6.3493e-02,  1.1932e-01],\n",
       "                        [ 7.5120e-02, -6.1239e-03,  8.2473e-02]]],\n",
       "              \n",
       "              \n",
       "                      [[[-8.3463e-02, -1.5641e-01, -1.6339e-01],\n",
       "                        [ 4.0471e-02, -4.4573e-02, -1.2150e-01],\n",
       "                        [ 1.2799e-01, -4.8458e-03, -7.9211e-02]],\n",
       "              \n",
       "                       [[-5.1827e-02, -1.0834e-01, -1.1707e-01],\n",
       "                        [ 1.4043e-01,  1.9376e-02, -6.9224e-02],\n",
       "                        [ 1.7046e-01,  7.4650e-02, -7.1600e-03]],\n",
       "              \n",
       "                       [[ 3.6210e-02, -5.2108e-02, -1.0733e-01],\n",
       "                        [ 1.8220e-01,  2.7207e-02, -1.8763e-02],\n",
       "                        [ 2.0735e-01,  1.4595e-01,  4.0118e-02]]]])),\n",
       "             ('module.conv1.bias',\n",
       "              tensor([ 0.0415, -0.3885, -0.4662,  0.1953, -0.1633, -0.3871, -0.1621, -0.2885,\n",
       "                      -0.1728, -0.1873, -0.1425, -0.2502, -0.4774, -0.0469, -0.2271, -0.1488,\n",
       "                      -0.1071, -0.0862, -0.1087,  0.1346,  0.0853, -0.3436, -0.1105, -0.3675,\n",
       "                      -0.0634,  0.0188,  0.1991,  0.0606, -0.2739,  0.3076, -0.3952, -0.2566])),\n",
       "             ('module.conv2.weight',\n",
       "              tensor([[[[-8.4799e-02,  1.8072e-02, -3.6111e-02],\n",
       "                        [-1.5058e-02, -1.1020e-02, -7.2039e-02],\n",
       "                        [-2.3630e-02,  7.5925e-03,  3.1216e-02]],\n",
       "              \n",
       "                       [[-1.3327e-02,  6.7914e-03, -5.3006e-02],\n",
       "                        [ 3.7880e-03,  1.5658e-02,  7.7313e-03],\n",
       "                        [ 1.1529e-02, -3.1535e-02, -3.7098e-02]],\n",
       "              \n",
       "                       [[-5.6129e-03,  5.4117e-03, -5.0275e-02],\n",
       "                        [-4.1540e-02,  3.2965e-02, -6.2347e-02],\n",
       "                        [-5.4240e-02, -3.7753e-02, -2.4758e-02]],\n",
       "              \n",
       "                       ...,\n",
       "              \n",
       "                       [[ 2.0990e-02, -3.4575e-02, -3.3889e-02],\n",
       "                        [ 4.2595e-02,  3.4852e-02,  5.9480e-03],\n",
       "                        [ 4.1279e-04,  1.9384e-03, -6.3094e-02]],\n",
       "              \n",
       "                       [[-2.8032e-02,  2.3985e-02, -6.3496e-02],\n",
       "                        [-5.6191e-02,  4.2729e-02, -6.6613e-02],\n",
       "                        [ 4.1433e-02,  3.5370e-02,  4.2602e-02]],\n",
       "              \n",
       "                       [[ 1.0355e-02, -4.0243e-02,  1.8734e-02],\n",
       "                        [-4.8674e-02, -4.6401e-02,  2.4836e-04],\n",
       "                        [-4.9306e-02,  3.1792e-02, -3.5159e-02]]],\n",
       "              \n",
       "              \n",
       "                      [[[ 1.2189e-01,  2.2374e-01,  8.1643e-02],\n",
       "                        [ 1.3522e-01,  4.8334e-03,  1.8192e-02],\n",
       "                        [ 3.3289e-02, -2.2872e-02, -4.4481e-02]],\n",
       "              \n",
       "                       [[ 2.1902e-01,  1.4673e-01,  8.2004e-02],\n",
       "                        [ 1.4996e-01, -1.8675e-01,  9.0889e-02],\n",
       "                        [-1.1777e-01, -2.4785e-01,  1.2940e-01]],\n",
       "              \n",
       "                       [[ 8.7372e-02, -2.4762e-02,  7.5820e-03],\n",
       "                        [ 2.8589e-03, -1.4879e-01, -3.9010e-02],\n",
       "                        [-1.2350e-01, -9.3238e-02, -1.2602e-01]],\n",
       "              \n",
       "                       ...,\n",
       "              \n",
       "                       [[ 5.9921e-02, -6.1946e-03, -4.0030e-02],\n",
       "                        [-6.1809e-02, -1.2530e-01, -1.0770e-01],\n",
       "                        [-2.1282e-01, -3.2505e-01, -1.0023e-01]],\n",
       "              \n",
       "                       [[ 8.7611e-03,  1.6140e-02, -4.6667e-03],\n",
       "                        [-1.3506e-02, -1.5766e-02,  1.3188e-02],\n",
       "                        [ 1.5660e-01,  8.3193e-02,  7.9907e-02]],\n",
       "              \n",
       "                       [[-2.1890e-01, -1.4399e-01, -4.1164e-02],\n",
       "                        [-3.6233e-02,  1.6453e-02,  3.2692e-02],\n",
       "                        [ 3.4888e-02,  1.9017e-02,  9.7120e-02]]],\n",
       "              \n",
       "              \n",
       "                      [[[ 1.3600e-02,  8.2354e-02,  6.8914e-02],\n",
       "                        [-6.5925e-02, -2.1618e-02,  4.5021e-03],\n",
       "                        [-7.7788e-02, -4.1221e-02, -5.8542e-02]],\n",
       "              \n",
       "                       [[ 1.0934e-02, -7.4512e-03, -5.1470e-02],\n",
       "                        [ 4.7657e-02,  1.7351e-02,  5.2434e-02],\n",
       "                        [-6.2653e-02, -7.8594e-02, -2.2778e-02]],\n",
       "              \n",
       "                       [[-1.6265e-02, -4.2306e-02, -8.7348e-02],\n",
       "                        [ 4.2491e-02,  2.0657e-02, -2.5740e-02],\n",
       "                        [ 6.3079e-02,  8.7270e-02, -1.7733e-02]],\n",
       "              \n",
       "                       ...,\n",
       "              \n",
       "                       [[ 6.3759e-03, -4.4168e-02,  9.1388e-03],\n",
       "                        [-1.8082e-03, -2.4876e-02,  1.7640e-02],\n",
       "                        [-8.9116e-02, -6.6634e-02, -1.2781e-02]],\n",
       "              \n",
       "                       [[-6.4106e-03, -4.6152e-02, -8.3603e-02],\n",
       "                        [-1.2596e-02,  1.5225e-02, -3.6656e-02],\n",
       "                        [ 5.5480e-02,  5.7879e-02, -9.1025e-02]],\n",
       "              \n",
       "                       [[-9.8548e-02, -6.3567e-02, -2.3202e-02],\n",
       "                        [ 5.8723e-02,  8.8568e-02,  4.1419e-02],\n",
       "                        [ 4.5411e-02,  9.6074e-02,  4.3066e-02]]],\n",
       "              \n",
       "              \n",
       "                      ...,\n",
       "              \n",
       "              \n",
       "                      [[[ 2.5655e-02, -7.2566e-02, -8.9519e-02],\n",
       "                        [-1.1284e-02, -3.5618e-02, -4.0804e-02],\n",
       "                        [ 2.0843e-02,  7.4999e-02, -7.3271e-02]],\n",
       "              \n",
       "                       [[ 3.3864e-02, -1.7314e-01, -8.8892e-02],\n",
       "                        [ 8.3357e-02, -8.8734e-02, -3.2835e-02],\n",
       "                        [ 6.6093e-02,  3.1992e-02, -2.3626e-02]],\n",
       "              \n",
       "                       [[-2.7629e-02, -1.0498e-01,  9.3453e-03],\n",
       "                        [ 6.4345e-02, -1.4797e-01, -2.2222e-01],\n",
       "                        [-3.6234e-02, -3.8732e-02, -6.7533e-02]],\n",
       "              \n",
       "                       ...,\n",
       "              \n",
       "                       [[-1.0336e-02, -1.3524e-01, -3.1849e-02],\n",
       "                        [ 6.2297e-02, -5.4070e-02, -4.6937e-02],\n",
       "                        [ 5.7611e-02,  2.6343e-02, -6.6169e-02]],\n",
       "              \n",
       "                       [[-2.7846e-02,  6.2280e-02, -8.8712e-03],\n",
       "                        [ 8.1903e-02,  8.0834e-02, -3.8993e-02],\n",
       "                        [-8.3581e-02,  5.9875e-03, -1.0851e-01]],\n",
       "              \n",
       "                       [[ 2.8054e-02, -9.3912e-03, -5.9063e-02],\n",
       "                        [-1.4322e-02,  1.0711e-02, -6.2812e-02],\n",
       "                        [ 6.9287e-02,  8.3670e-02, -2.6327e-03]]],\n",
       "              \n",
       "              \n",
       "                      [[[-3.1897e-02, -8.4323e-02, -1.7565e-02],\n",
       "                        [-1.2466e-01, -1.0165e-01, -7.6036e-02],\n",
       "                        [-4.3552e-02, -1.1594e-01, -9.5207e-02]],\n",
       "              \n",
       "                       [[-8.0126e-02, -2.0052e-02, -1.5697e-02],\n",
       "                        [-4.0203e-02,  2.5448e-02, -4.2498e-03],\n",
       "                        [-7.9278e-02,  7.0658e-03,  6.4445e-02]],\n",
       "              \n",
       "                       [[-5.0563e-02, -1.8267e-02, -3.5062e-02],\n",
       "                        [ 2.4500e-02, -1.9299e-02,  4.9581e-02],\n",
       "                        [ 1.2745e-01,  1.1017e-01,  5.8745e-02]],\n",
       "              \n",
       "                       ...,\n",
       "              \n",
       "                       [[ 1.2053e-02, -1.1583e-02,  3.4769e-02],\n",
       "                        [-5.1096e-02, -5.3511e-02, -3.2586e-02],\n",
       "                        [-3.0364e-02,  9.7004e-03, -1.2565e-02]],\n",
       "              \n",
       "                       [[-8.9647e-02, -1.3476e-01, -1.2567e-01],\n",
       "                        [-2.5762e-02, -5.7610e-02, -4.3676e-02],\n",
       "                        [-3.7060e-02, -5.4352e-02,  7.7048e-04]],\n",
       "              \n",
       "                       [[-6.6175e-03, -1.3090e-02,  2.5924e-03],\n",
       "                        [ 3.1356e-02,  3.0385e-02, -2.4536e-02],\n",
       "                        [ 4.4470e-02, -4.0716e-02, -9.3249e-03]]],\n",
       "              \n",
       "              \n",
       "                      [[[-4.0731e-03, -1.0845e-01, -7.6510e-02],\n",
       "                        [-1.1402e-01, -1.7765e-01, -1.5402e-01],\n",
       "                        [-1.7389e-01, -1.8076e-01, -1.3335e-01]],\n",
       "              \n",
       "                       [[-1.1776e-01, -4.6053e-02, -1.3531e-01],\n",
       "                        [ 1.9421e-01,  1.1798e-01,  1.3548e-01],\n",
       "                        [ 1.2618e-01,  9.1042e-02,  9.4870e-02]],\n",
       "              \n",
       "                       [[-3.9127e-02, -7.4908e-02, -5.6309e-02],\n",
       "                        [-7.7645e-02, -3.1290e-03, -9.3310e-02],\n",
       "                        [ 1.2040e-01,  5.4018e-02,  8.9964e-02]],\n",
       "              \n",
       "                       ...,\n",
       "              \n",
       "                       [[-8.0705e-02, -6.2205e-02, -7.9946e-02],\n",
       "                        [ 6.0474e-03,  5.6147e-02,  6.8326e-02],\n",
       "                        [ 1.0432e-01,  1.0192e-01,  1.1938e-01]],\n",
       "              \n",
       "                       [[-1.9590e-03,  1.8387e-02, -5.3872e-02],\n",
       "                        [ 7.9571e-03,  8.7660e-03,  8.9340e-03],\n",
       "                        [ 5.8355e-02,  2.0512e-02,  2.3972e-02]],\n",
       "              \n",
       "                       [[ 2.6042e-03, -2.2531e-02, -1.1821e-02],\n",
       "                        [ 5.6941e-03,  2.3793e-02, -3.9944e-02],\n",
       "                        [-1.9318e-01, -1.7205e-01, -1.2693e-01]]]])),\n",
       "             ('module.conv2.bias',\n",
       "              tensor([ 0.0264, -0.2090, -0.2069, -0.0414, -0.1954,  0.0827,  0.3131,  0.3418,\n",
       "                       0.0749, -0.1820,  0.0399, -0.1009, -0.0973, -0.0717, -0.1502, -0.1205,\n",
       "                      -0.1707, -0.1005, -0.2070,  0.0521, -0.1347, -0.1565, -0.2845, -0.1045,\n",
       "                      -0.0743, -0.0030, -0.3064, -0.0979, -0.0562, -0.0335,  0.1301, -0.0237,\n",
       "                      -0.1393, -0.3039, -0.2393, -0.0978,  0.0352,  0.0893,  0.2784, -0.2385,\n",
       "                       0.0246,  0.2621,  0.1445,  0.2531,  0.2691,  0.0464,  0.2279,  0.2198,\n",
       "                      -0.0099, -0.1994, -0.2071, -0.3301,  0.0205, -0.2662, -0.1608, -0.1117,\n",
       "                      -0.1912,  0.1494, -0.0062, -0.0666,  0.2476, -0.1425, -0.0694,  0.1355])),\n",
       "             ('module.conv3.weight',\n",
       "              tensor([[[[-4.6398e-02, -2.1329e-02, -7.3210e-03],\n",
       "                        [ 1.9176e-02, -1.7456e-02,  7.3123e-03],\n",
       "                        [-3.9223e-02, -1.4653e-02, -3.5863e-02]],\n",
       "              \n",
       "                       [[-7.1430e-04, -3.6299e-02, -1.1542e-02],\n",
       "                        [-3.2459e-02, -2.6872e-02,  4.1262e-03],\n",
       "                        [-3.7699e-02,  5.9038e-04, -4.5537e-02]],\n",
       "              \n",
       "                       [[-2.7935e-02,  6.6473e-03, -4.3252e-02],\n",
       "                        [-1.6406e-02, -3.1668e-02, -4.5136e-02],\n",
       "                        [ 3.2248e-03, -4.6872e-02, -4.7330e-02]],\n",
       "              \n",
       "                       ...,\n",
       "              \n",
       "                       [[ 8.2382e-03,  1.6622e-02, -2.2244e-02],\n",
       "                        [-3.7009e-02, -1.1926e-02, -3.5324e-02],\n",
       "                        [ 1.4867e-02, -2.5267e-02, -4.7818e-02]],\n",
       "              \n",
       "                       [[-1.6162e-02, -4.7305e-02,  6.3582e-03],\n",
       "                        [-5.0076e-02, -2.6376e-02, -4.1655e-02],\n",
       "                        [-1.2873e-02, -4.8680e-02, -1.6884e-02]],\n",
       "              \n",
       "                       [[-2.2076e-02,  2.4843e-02,  1.4663e-03],\n",
       "                        [-3.5691e-02, -4.3458e-02, -2.2410e-03],\n",
       "                        [ 4.9948e-03, -4.6841e-02, -1.6157e-02]]],\n",
       "              \n",
       "              \n",
       "                      [[[ 3.2645e-02,  1.2118e-02, -2.5299e-02],\n",
       "                        [-8.0968e-03,  2.2097e-02,  1.2181e-03],\n",
       "                        [ 1.1461e-02, -2.3753e-03,  7.0903e-03]],\n",
       "              \n",
       "                       [[ 1.0674e-01,  2.4984e-02, -6.7971e-02],\n",
       "                        [-1.4070e-01, -2.5152e-02, -1.1791e-01],\n",
       "                        [-9.0759e-02,  7.1239e-03, -3.7659e-02]],\n",
       "              \n",
       "                       [[-4.4239e-02, -1.1165e-02,  1.1545e-02],\n",
       "                        [ 5.9156e-03,  3.2284e-02, -7.0458e-02],\n",
       "                        [ 4.0287e-02, -3.5704e-02,  1.6540e-02]],\n",
       "              \n",
       "                       ...,\n",
       "              \n",
       "                       [[ 3.6523e-02, -8.1238e-03,  3.4008e-02],\n",
       "                        [ 1.0969e-01,  5.5236e-02, -3.0147e-02],\n",
       "                        [-9.0601e-02, -6.3295e-02,  4.3091e-02]],\n",
       "              \n",
       "                       [[-6.9474e-02, -2.9530e-02, -2.4093e-02],\n",
       "                        [-3.2641e-02,  2.4175e-03, -7.3839e-03],\n",
       "                        [ 7.5892e-02,  1.0004e-01,  8.5012e-02]],\n",
       "              \n",
       "                       [[ 1.5507e-01,  6.5217e-02, -4.4329e-02],\n",
       "                        [-9.7836e-02, -1.4880e-01, -3.7196e-02],\n",
       "                        [ 3.6021e-02, -2.4357e-02,  8.5173e-02]]],\n",
       "              \n",
       "              \n",
       "                      [[[ 4.8542e-02, -3.3675e-02, -7.7559e-03],\n",
       "                        [-1.9440e-02,  2.6724e-02, -1.7455e-02],\n",
       "                        [ 7.5696e-03,  2.8232e-02,  3.5529e-02]],\n",
       "              \n",
       "                       [[-4.4460e-02,  2.8865e-02,  8.8046e-02],\n",
       "                        [ 1.3134e-02,  7.0276e-02,  1.2143e-01],\n",
       "                        [ 1.2870e-01,  1.7871e-01,  1.3128e-01]],\n",
       "              \n",
       "                       [[ 5.7988e-02, -2.9330e-02,  3.9502e-02],\n",
       "                        [-6.7418e-02, -3.4767e-02,  4.6399e-02],\n",
       "                        [-1.5174e-01, -2.3704e-01, -5.7838e-02]],\n",
       "              \n",
       "                       ...,\n",
       "              \n",
       "                       [[ 8.1252e-02,  8.5758e-02,  6.2024e-02],\n",
       "                        [-9.9411e-02,  9.7580e-04,  2.4534e-02],\n",
       "                        [-2.0285e-01, -1.1754e-02,  1.3880e-02]],\n",
       "              \n",
       "                       [[-4.1030e-02,  1.1689e-02,  2.3675e-02],\n",
       "                        [-4.5215e-02, -1.0009e-01, -3.6708e-02],\n",
       "                        [-1.1741e-01, -8.9775e-02, -6.2390e-02]],\n",
       "              \n",
       "                       [[-3.3424e-02, -2.7534e-03,  5.9574e-02],\n",
       "                        [-1.1317e-01, -1.2281e-01,  6.5921e-02],\n",
       "                        [-2.3669e-02, -1.7295e-02, -3.5719e-02]]],\n",
       "              \n",
       "              \n",
       "                      ...,\n",
       "              \n",
       "              \n",
       "                      [[[-3.7712e-02, -2.0485e-02, -1.6469e-03],\n",
       "                        [ 6.7621e-03, -1.2703e-02,  1.8408e-02],\n",
       "                        [ 1.5702e-02, -2.1236e-02,  2.0866e-02]],\n",
       "              \n",
       "                       [[-4.2645e-02, -7.2838e-02, -1.2382e-01],\n",
       "                        [-4.1111e-02, -4.0168e-02, -4.7518e-03],\n",
       "                        [ 5.8667e-02,  1.9884e-01,  4.1080e-02]],\n",
       "              \n",
       "                       [[ 8.1517e-02, -5.2026e-02, -8.1701e-02],\n",
       "                        [ 1.3950e-01, -8.7275e-02,  1.5061e-04],\n",
       "                        [ 7.6095e-02, -8.9587e-03, -3.4531e-02]],\n",
       "              \n",
       "                       ...,\n",
       "              \n",
       "                       [[ 8.6133e-02,  2.2654e-02, -1.7875e-03],\n",
       "                        [ 2.5853e-02, -5.3786e-02,  3.4906e-02],\n",
       "                        [ 1.6156e-02,  2.3924e-02,  1.0892e-01]],\n",
       "              \n",
       "                       [[ 1.1013e-01,  8.5004e-02,  4.0303e-02],\n",
       "                        [ 1.2803e-01,  4.5563e-02, -1.5586e-01],\n",
       "                        [-4.1837e-02, -2.0736e-02, -7.6568e-02]],\n",
       "              \n",
       "                       [[ 6.3471e-02, -3.8384e-02,  2.9948e-02],\n",
       "                        [-1.5651e-02, -1.6863e-01, -1.6381e-01],\n",
       "                        [ 6.8373e-02, -4.3350e-02,  1.8866e-02]]],\n",
       "              \n",
       "              \n",
       "                      [[[-6.5139e-04,  1.7837e-02,  2.2343e-02],\n",
       "                        [ 1.5900e-02, -1.1037e-02,  7.5317e-03],\n",
       "                        [-4.1677e-04,  2.5967e-02, -1.7012e-02]],\n",
       "              \n",
       "                       [[ 1.1438e-01,  8.7142e-02,  1.1510e-01],\n",
       "                        [ 1.1988e-02,  2.2839e-01,  1.5021e-01],\n",
       "                        [-1.3926e-02, -3.8688e-02, -2.8774e-02]],\n",
       "              \n",
       "                       [[-7.6900e-02,  6.9350e-02,  4.3362e-02],\n",
       "                        [-3.5608e-02,  1.0930e-02,  7.3859e-02],\n",
       "                        [-1.6536e-01, -9.6050e-03, -6.1150e-03]],\n",
       "              \n",
       "                       ...,\n",
       "              \n",
       "                       [[ 1.8984e-03,  4.3254e-02,  1.8072e-01],\n",
       "                        [ 2.1989e-02, -2.8594e-02, -4.7125e-02],\n",
       "                        [ 3.3006e-02, -2.2906e-02, -8.7118e-02]],\n",
       "              \n",
       "                       [[-4.9966e-02, -9.6933e-02, -1.1222e-01],\n",
       "                        [ 1.9019e-02, -3.7987e-02,  5.3096e-02],\n",
       "                        [-1.7480e-01, -5.5387e-02, -5.7583e-02]],\n",
       "              \n",
       "                       [[-1.6414e-02,  3.5171e-02,  9.9537e-02],\n",
       "                        [ 3.9583e-02,  3.5684e-02,  1.0752e-01],\n",
       "                        [-1.0178e-01, -1.0774e-01, -3.0293e-02]]],\n",
       "              \n",
       "              \n",
       "                      [[[ 1.8138e-05, -2.1911e-02, -1.1100e-02],\n",
       "                        [-3.9752e-02, -1.6636e-02, -3.5769e-02],\n",
       "                        [ 6.4746e-03,  3.3391e-02,  1.8109e-02]],\n",
       "              \n",
       "                       [[ 5.1649e-02,  6.8588e-02,  3.0924e-02],\n",
       "                        [ 5.2765e-03,  9.1636e-03,  7.9178e-02],\n",
       "                        [ 2.8927e-02,  8.6825e-02,  8.4135e-02]],\n",
       "              \n",
       "                       [[-9.8897e-03, -4.7879e-02, -5.1629e-02],\n",
       "                        [-1.0576e-01, -1.3165e-01, -9.7034e-02],\n",
       "                        [ 7.1348e-02, -7.6497e-03,  3.0662e-02]],\n",
       "              \n",
       "                       ...,\n",
       "              \n",
       "                       [[-4.6263e-02,  1.8190e-02, -2.2215e-02],\n",
       "                        [ 1.4460e-01,  5.8367e-02, -9.0888e-02],\n",
       "                        [ 1.2277e-02,  1.0027e-01, -1.5414e-02]],\n",
       "              \n",
       "                       [[-9.3323e-02, -3.6179e-02,  3.7719e-02],\n",
       "                        [-1.2923e-01, -3.0424e-02,  3.2035e-02],\n",
       "                        [ 1.2838e-01,  5.7080e-02,  2.1328e-02]],\n",
       "              \n",
       "                       [[-8.4115e-02,  7.0832e-02,  4.0898e-02],\n",
       "                        [-1.5488e-01, -6.2707e-02, -2.6392e-02],\n",
       "                        [-2.9369e-02, -2.7129e-02, -5.5954e-02]]]])),\n",
       "             ('module.conv3.bias',\n",
       "              tensor([ 0.0076, -0.1929,  0.1471, -0.1644, -0.0079,  0.0887,  0.1070,  0.2616,\n",
       "                       0.0170,  0.2164, -0.0517,  0.0516,  0.2119,  0.1091, -0.1211,  0.2718,\n",
       "                       0.4570, -0.2344, -0.0529, -0.0885,  0.1425, -0.0810,  0.0007, -0.1030,\n",
       "                       0.3828,  0.2631,  0.1381,  0.0672, -0.0354,  0.2571,  0.2029, -0.0061,\n",
       "                       0.0185, -0.2843,  0.0739, -0.1075,  0.0222,  0.0797,  0.3408,  0.3559,\n",
       "                      -0.0286,  0.2376,  0.1697,  0.5180,  0.0694, -0.0259,  0.0157,  0.0443,\n",
       "                      -0.0822, -0.0332,  0.1247,  0.0636,  0.0702, -0.0097,  0.1015, -0.0697,\n",
       "                      -0.0471,  0.0053, -0.0580,  0.0709,  0.0096,  0.1699,  0.2246,  0.1004])),\n",
       "             ('module.fc1.weight',\n",
       "              tensor([[-0.0148,  0.0322, -0.0337,  ..., -0.0991,  0.0063, -0.2064],\n",
       "                      [-0.0276,  0.0085, -0.0087,  ...,  0.0445, -0.0570, -0.1116],\n",
       "                      [-0.0035,  0.0129, -0.0286,  ..., -0.0162,  0.0046, -0.0059],\n",
       "                      ...,\n",
       "                      [ 0.0338,  0.0326, -0.0107,  ...,  0.1410, -0.0144, -0.0092],\n",
       "                      [-0.0024, -0.0271,  0.0020,  ...,  0.0914,  0.1493,  0.1766],\n",
       "                      [ 0.0380,  0.0291, -0.0128,  ..., -0.0227, -0.0520, -0.0793]])),\n",
       "             ('module.fc1.bias',\n",
       "              tensor([ 4.9028e-02,  4.7419e-02, -5.4797e-02, -1.4919e-02, -3.4494e-02,\n",
       "                      -2.0167e-03, -1.8783e-01,  2.4012e-02,  1.1700e-01,  1.6519e-01,\n",
       "                      -4.0782e-02,  2.9607e-01,  1.8790e-01, -6.6552e-03, -6.3520e-02,\n",
       "                       5.7287e-02,  1.7460e-01,  7.9808e-03,  1.0987e-01, -1.8084e-02,\n",
       "                      -2.6585e-02, -4.3170e-02, -3.6607e-02, -3.5879e-03, -2.7109e-02,\n",
       "                       4.7253e-02, -3.7090e-02, -7.4946e-03, -6.4051e-02,  2.0828e-01,\n",
       "                      -5.4662e-02,  1.1513e-05, -3.9878e-02, -8.9868e-03, -2.0571e-02,\n",
       "                       1.8333e-01,  1.4710e-01,  1.4434e-01, -2.7817e-02, -1.8900e-02,\n",
       "                       1.2101e-01,  1.5330e-01, -1.4691e-02,  1.6735e-01, -5.1464e-02,\n",
       "                       5.0777e-02,  1.5992e-01,  4.0317e-03,  2.6175e-01,  6.6082e-03,\n",
       "                       5.9041e-02,  2.2543e-01, -8.6442e-04, -1.3596e-02, -1.5241e-02,\n",
       "                      -1.4229e-01,  8.5311e-03, -3.5674e-02,  1.8881e-01, -3.7052e-02,\n",
       "                      -3.6042e-02, -1.5398e-01,  1.5524e-01,  1.5551e-02])),\n",
       "             ('module.fc2.weight',\n",
       "              tensor([[-7.8294e-02,  8.1097e-02,  3.6345e-02,  3.3582e-02,  8.9342e-02,\n",
       "                       -1.1532e-01, -1.9065e-02,  9.8131e-02,  4.4027e-03, -1.2617e-01,\n",
       "                        2.4622e-02, -8.3182e-02,  3.8968e-02, -6.8746e-02,  1.2867e-01,\n",
       "                        7.4328e-02,  9.5742e-02, -1.0484e-01,  1.2712e-01,  1.6290e-02,\n",
       "                       -1.4082e-02,  3.2085e-02,  1.0895e-01, -1.0243e-01, -8.9380e-02,\n",
       "                       -1.6809e-01, -1.3260e-02, -1.4309e-02, -9.1245e-02, -4.8109e-02,\n",
       "                        4.1693e-02,  5.5241e-02,  1.0878e-01,  1.0964e-01,  6.0901e-02,\n",
       "                        1.6337e-01, -2.6443e-01,  1.2042e-01,  3.5890e-02,  8.2544e-02,\n",
       "                        1.8703e-01, -3.1976e-01,  8.8352e-02, -8.3660e-03, -6.0824e-02,\n",
       "                        1.7949e-01, -1.4667e-01, -9.9706e-02, -8.9135e-02, -5.2782e-02,\n",
       "                       -1.4235e-01,  2.9799e-01, -6.6134e-02,  1.4117e-01,  8.8199e-03,\n",
       "                       -4.1567e-02,  9.3205e-03, -5.0930e-02,  3.8217e-02,  7.4042e-02,\n",
       "                       -9.8582e-02,  2.9486e-02, -1.7406e-01, -7.0940e-02],\n",
       "                      [ 1.2423e-01,  9.5620e-03, -8.0093e-02, -1.2022e-01, -1.0882e-01,\n",
       "                       -4.5303e-02,  9.0612e-02, -3.1952e-02,  1.3677e-02, -1.4307e-01,\n",
       "                       -3.7892e-02, -1.6302e-01,  5.0971e-02, -1.2251e-01,  1.1713e-01,\n",
       "                        2.0115e-02,  7.3818e-02, -2.9148e-02, -2.3543e-01,  1.8936e-02,\n",
       "                        5.6938e-02, -7.3787e-02,  5.8895e-02, -6.2532e-02, -3.0068e-02,\n",
       "                       -1.5424e-01,  5.9178e-02, -2.0330e-02,  1.4108e-01, -1.6023e-01,\n",
       "                        1.1358e-01,  8.9295e-02,  4.4231e-02, -1.0956e-01, -7.7451e-02,\n",
       "                       -1.7640e-01,  9.9883e-02, -1.9320e-01,  2.5538e-01,  6.1618e-02,\n",
       "                       -7.8180e-02,  3.3953e-02,  5.7412e-02, -1.5400e-01,  5.4601e-02,\n",
       "                       -3.9778e-02, -5.6462e-02, -1.0565e-02,  2.0171e-02,  1.0624e-01,\n",
       "                       -1.8706e-01, -9.2963e-02,  3.1711e-02,  1.0600e-01,  6.5667e-02,\n",
       "                        7.4289e-02, -1.0387e-01, -9.8358e-02, -4.4375e-02, -3.7317e-02,\n",
       "                        4.7876e-03,  9.3375e-02, -1.5747e-01,  1.2240e-01],\n",
       "                      [-1.1160e-01, -9.5971e-02, -6.1984e-02,  7.6121e-02,  3.3704e-02,\n",
       "                       -7.3494e-02,  4.2338e-03, -6.6660e-02,  6.8749e-02,  2.3408e-03,\n",
       "                       -4.2194e-02, -5.4761e-02, -1.4585e-01,  5.2360e-02,  3.7798e-02,\n",
       "                        1.4759e-01, -6.3630e-03,  1.0134e-01,  5.6296e-02,  7.8940e-02,\n",
       "                       -2.6094e-02,  8.6530e-02,  8.3631e-03,  1.7104e-02,  2.8615e-02,\n",
       "                       -8.5517e-02, -7.3284e-02,  1.4870e-02, -1.2240e-01,  7.7975e-02,\n",
       "                       -1.7388e-01, -9.8107e-02,  5.3786e-02,  1.0783e-01, -1.4951e-01,\n",
       "                        1.3708e-01,  1.8745e-02,  4.6806e-03,  1.1753e-01, -7.3462e-02,\n",
       "                       -1.4383e-01, -3.1530e-02, -1.0633e-01,  1.1221e-01,  1.6082e-02,\n",
       "                       -5.9726e-02, -8.1836e-02,  1.0768e-01, -8.8348e-02,  5.1693e-02,\n",
       "                        1.0815e-01,  2.2570e-02,  2.8948e-02,  6.7229e-02, -9.8050e-02,\n",
       "                       -1.1820e-01, -6.8655e-02, -1.8065e-02, -8.8740e-03,  8.3992e-02,\n",
       "                        3.0613e-02,  6.8768e-02,  6.8906e-02,  8.2666e-02],\n",
       "                      [-6.0544e-02, -2.3081e-02, -3.0109e-02, -4.2032e-02, -8.1716e-02,\n",
       "                        7.5542e-02, -1.5127e-02,  6.4894e-03, -4.0194e-02,  1.1155e-01,\n",
       "                       -5.9272e-02,  6.6286e-02, -1.1066e-01, -4.5252e-02, -1.3361e-01,\n",
       "                        4.0782e-02, -6.6841e-02, -1.9337e-02,  4.5893e-03, -2.1546e-02,\n",
       "                        4.4802e-02,  1.1415e-04,  8.6260e-02,  5.9130e-02, -5.1192e-02,\n",
       "                        4.6482e-02,  4.6374e-02, -6.9800e-02, -1.0153e-01, -7.8982e-02,\n",
       "                        8.4566e-02,  1.7969e-02,  7.4718e-02, -4.2234e-02, -4.4315e-02,\n",
       "                        1.1940e-01, -2.8250e-02,  4.4949e-02, -1.2078e-02, -1.6249e-01,\n",
       "                        4.3240e-02,  6.1993e-02,  9.0760e-02,  5.5408e-02,  3.0490e-02,\n",
       "                        8.6504e-02,  1.3625e-01,  8.1246e-02,  8.7963e-03,  8.2425e-02,\n",
       "                       -4.4355e-02, -1.1664e-01, -8.1748e-02, -7.3613e-03, -6.6978e-02,\n",
       "                       -1.4580e-03,  3.2533e-02, -1.4491e-02, -7.1967e-02,  1.2580e-02,\n",
       "                       -9.9187e-02, -1.3472e-02,  8.0672e-02, -1.9315e-02],\n",
       "                      [ 2.2326e-01,  4.5470e-02, -5.6442e-02, -7.1351e-02, -1.3688e-01,\n",
       "                        9.0483e-02, -1.9303e-01,  5.1474e-02,  5.3784e-02, -1.5902e-02,\n",
       "                       -2.9687e-02,  8.9385e-02, -5.6879e-02, -1.0034e-01,  6.1005e-02,\n",
       "                       -5.2967e-02,  1.1137e-01,  1.4477e-02,  7.0372e-02,  7.1801e-03,\n",
       "                        1.0342e-01, -7.3303e-02, -3.6515e-03,  8.1517e-02, -2.3351e-01,\n",
       "                       -4.5366e-02, -6.7664e-02,  1.3950e-02, -1.4856e-01,  1.0477e-01,\n",
       "                       -1.5127e-01,  5.1654e-02, -2.2489e-02, -7.5292e-02, -7.9946e-02,\n",
       "                        7.1387e-02,  1.2413e-01, -2.2418e-02, -7.0399e-02, -2.5277e-02,\n",
       "                        6.3659e-02,  7.4209e-02,  6.5562e-02,  1.3549e-01, -6.0755e-03,\n",
       "                        8.7487e-04, -9.9436e-02, -1.9734e-02,  1.5954e-01,  5.2581e-02,\n",
       "                       -8.9331e-02,  3.1540e-02, -4.3871e-03, -2.0289e-02, -1.2422e-01,\n",
       "                       -1.8338e-01,  7.4258e-02,  1.5546e-02, -2.3254e-03, -8.9764e-02,\n",
       "                        1.0659e-01, -1.6922e-01, -2.9179e-03,  2.5107e-02],\n",
       "                      [-1.6493e-02, -1.2712e-01,  3.2454e-02,  1.2271e-01, -4.2707e-02,\n",
       "                       -9.4596e-02, -5.8331e-02, -1.1001e-01, -7.9532e-02,  1.3503e-01,\n",
       "                        3.7282e-02,  4.4644e-02, -7.3593e-02, -2.0100e-02, -3.3788e-02,\n",
       "                       -1.1026e-01, -1.5226e-01,  5.8334e-02,  7.2402e-02,  2.7078e-02,\n",
       "                       -3.0429e-02,  2.9656e-02, -2.1698e-02, -1.0695e-02,  5.9870e-03,\n",
       "                        2.7831e-02,  8.3336e-03,  6.2432e-02, -9.5096e-02,  2.6500e-02,\n",
       "                       -1.0333e-01,  7.1363e-02, -1.2004e-02, -9.4095e-02, -5.8780e-02,\n",
       "                        1.0127e-01,  5.1537e-02, -5.2089e-02, -7.8932e-02, -1.2944e-01,\n",
       "                       -2.0200e-02,  7.5323e-02,  1.1236e-01,  5.5259e-02, -9.8933e-03,\n",
       "                        1.3187e-01,  9.1327e-02, -3.4465e-02, -8.4389e-03, -4.0697e-02,\n",
       "                       -2.5823e-03, -1.0249e-01,  9.7164e-02,  3.3863e-02,  7.9275e-03,\n",
       "                        6.7987e-02, -7.3250e-02,  7.6802e-02,  7.3425e-02,  4.5653e-02,\n",
       "                       -1.6706e-02,  9.8541e-02, -7.3364e-02, -8.4365e-02],\n",
       "                      [-1.1965e-01, -2.3170e-01,  5.1091e-02, -9.1069e-02, -9.8283e-02,\n",
       "                        1.0209e-01,  8.8816e-02, -7.5923e-02, -1.1244e-02,  5.1268e-02,\n",
       "                        1.0043e-01, -1.9128e-01,  1.0458e-01,  6.4071e-02, -1.9058e-01,\n",
       "                       -2.1948e-02,  2.1696e-02,  4.7284e-02,  1.1458e-01, -1.6608e-02,\n",
       "                        9.5857e-02,  4.8661e-02,  2.5888e-02, -8.5733e-02, -1.1840e-01,\n",
       "                        1.2748e-01, -1.8332e-01, -1.3334e-01,  2.3699e-02,  1.6989e-01,\n",
       "                       -1.4241e-01, -4.8595e-04, -9.7188e-02, -8.5780e-02,  6.3203e-02,\n",
       "                        1.1784e-01,  9.2990e-02, -3.9435e-03, -1.3306e-01,  6.6858e-02,\n",
       "                        1.0800e-01, -6.7249e-02, -4.3216e-02, -6.3915e-02, -8.1123e-02,\n",
       "                       -4.6500e-02,  4.1629e-02, -7.9879e-02,  4.0920e-03,  3.4492e-02,\n",
       "                       -1.5082e-01,  3.9431e-02,  3.4050e-02,  1.4608e-01,  4.5618e-02,\n",
       "                        1.3588e-02,  9.3704e-02,  2.1895e-02, -2.2926e-01,  6.5013e-02,\n",
       "                       -9.9210e-03, -1.1110e-02,  1.6042e-01,  1.3725e-01],\n",
       "                      [-8.0868e-02, -4.1961e-03,  4.3302e-02, -1.5286e-02, -2.6573e-02,\n",
       "                        2.9414e-02,  1.9268e-03,  6.4483e-02,  4.7101e-02, -9.1822e-03,\n",
       "                        1.0033e-01, -3.5330e-02, -7.0516e-02, -2.7895e-02,  1.2091e-01,\n",
       "                       -9.0622e-02, -2.1240e-01, -5.8999e-02,  1.0974e-01, -4.4789e-02,\n",
       "                       -7.6242e-02, -7.6723e-02,  3.7719e-02, -2.6066e-02,  1.0785e-02,\n",
       "                        4.7941e-02,  1.1052e-01,  3.8699e-01, -1.5730e-01, -4.2711e-02,\n",
       "                       -1.3082e-01,  2.6901e-02,  1.6653e-02, -1.1239e-01,  2.4621e-01,\n",
       "                       -1.4841e-01,  6.1013e-02,  1.1807e-01, -9.3754e-02, -6.6090e-04,\n",
       "                        9.9926e-02,  5.7579e-02, -8.3948e-02,  7.8292e-02, -2.0448e-02,\n",
       "                        1.1908e-02, -1.2647e-01, -4.1773e-02, -2.0133e-01,  7.4890e-02,\n",
       "                       -3.3934e-02, -2.1590e-01,  9.0866e-02, -1.5973e-01, -9.3897e-02,\n",
       "                        1.4150e-01, -5.8597e-02,  8.6005e-02,  5.5847e-03,  3.0985e-02,\n",
       "                        6.5615e-02, -1.3784e-01, -1.2850e-01,  2.6081e-02],\n",
       "                      [ 2.4790e-02,  3.9115e-02, -9.8095e-02,  1.0237e-01, -4.5877e-02,\n",
       "                       -2.2403e-02, -5.0661e-02, -1.0926e-01,  1.4906e-01,  8.9947e-02,\n",
       "                       -1.0387e-02, -4.7129e-03,  1.8290e-01, -3.6958e-02,  2.0439e-02,\n",
       "                        8.1502e-02,  8.5326e-02,  6.5718e-02, -2.0919e-01,  6.4247e-02,\n",
       "                        5.2555e-02,  8.7896e-02, -3.4694e-04,  4.5487e-02,  8.2496e-02,\n",
       "                       -1.4567e-01,  5.3303e-02, -1.3027e-01,  1.4879e-01, -3.8650e-02,\n",
       "                        2.1716e-02,  1.0512e-01,  9.6233e-02,  5.2078e-02, -1.6640e-02,\n",
       "                        1.7235e-01, -9.4533e-02,  8.6500e-02, -5.2332e-02, -9.8299e-02,\n",
       "                       -1.4084e-01, -5.9964e-02,  5.0078e-02, -1.6883e-01, -1.1581e-02,\n",
       "                       -2.2554e-01,  2.4204e-01, -9.6747e-02, -1.3992e-01, -2.7674e-01,\n",
       "                       -2.5024e-01,  7.4405e-02,  4.0347e-02, -2.0740e-02,  5.6380e-02,\n",
       "                        6.1433e-03,  5.4856e-02,  8.1308e-02,  1.3656e-01,  2.4290e-02,\n",
       "                       -7.5239e-02, -8.5519e-02, -2.4267e-02, -1.5892e-01],\n",
       "                      [ 5.1034e-02,  1.0582e-01,  4.7317e-02, -9.5462e-02,  7.5586e-02,\n",
       "                       -1.1869e-01,  9.9601e-02, -1.2774e-01,  1.3160e-01, -1.2052e-01,\n",
       "                        6.7749e-02,  3.8807e-02,  1.2805e-01, -1.0205e-01,  1.3637e-01,\n",
       "                        1.2318e-01, -4.1145e-02,  8.7066e-02, -1.3132e-02, -3.8253e-02,\n",
       "                       -5.1576e-02,  2.8980e-02,  1.9268e-02,  1.5066e-02, -6.9475e-02,\n",
       "                        9.1236e-02,  9.6476e-02,  8.4634e-04, -1.1295e-01, -2.5979e-01,\n",
       "                        3.5278e-02,  8.0108e-02, -1.3741e-02,  9.7483e-02, -9.5586e-02,\n",
       "                       -1.2255e-01,  6.4561e-03, -1.3597e-01, -1.3824e-01,  5.1498e-02,\n",
       "                        2.0899e-02,  1.0595e-01, -9.2167e-02, -1.7863e-01,  8.7898e-02,\n",
       "                       -1.1004e-01, -1.5828e-01,  5.1243e-02,  1.3568e-01, -8.5421e-02,\n",
       "                       -1.5823e-01, -7.4944e-02,  9.9114e-03, -2.8096e-02, -4.6688e-02,\n",
       "                       -6.0718e-03,  7.4079e-02, -6.4820e-02, -1.5262e-01,  3.5331e-02,\n",
       "                       -1.5511e-02,  1.0523e-01, -1.3287e-01, -1.2944e-01]])),\n",
       "             ('module.fc2.bias',\n",
       "              tensor([-0.1241, -0.3123, -0.0463,  0.1691,  0.3201, -0.0806,  0.0595, -0.2387,\n",
       "                       0.1629, -0.0321]))])"
      ]
     },
     "execution_count": 3,
     "metadata": {},
     "output_type": "execute_result"
    }
   ],
   "source": [
    "model.state_dict()"
   ]
  },
  {
   "cell_type": "code",
   "execution_count": null,
   "metadata": {},
   "outputs": [],
   "source": []
  }
 ],
 "metadata": {
  "kernelspec": {
   "display_name": "fledge",
   "language": "python",
   "name": "fledge"
  },
  "language_info": {
   "codemirror_mode": {
    "name": "ipython",
    "version": 3
   },
   "file_extension": ".py",
   "mimetype": "text/x-python",
   "name": "python",
   "nbconvert_exporter": "python",
   "pygments_lexer": "ipython3",
   "version": "3.6.9"
  }
 },
 "nbformat": 4,
 "nbformat_minor": 4
}
