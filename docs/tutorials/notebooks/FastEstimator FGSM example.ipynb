{
 "cells": [
  {
   "cell_type": "code",
   "execution_count": null,
   "metadata": {},
   "outputs": [],
   "source": [
    "#Install dependencies if not already installed\n",
    "!pip install fastestimator"
   ]
  },
  {
   "cell_type": "code",
   "execution_count": null,
   "metadata": {},
   "outputs": [],
   "source": [
    "import fastestimator as fe\n",
    "from fastestimator.architecture.pytorch import LeNet\n",
    "from fastestimator.backend import to_tensor, argmax\n",
    "from fastestimator.dataset.data import cifar10\n",
    "from fastestimator.op.numpyop.meta import Sometimes\n",
    "from fastestimator.op.numpyop.multivariate import HorizontalFlip\n",
    "from fastestimator.op.numpyop.univariate import CoarseDropout, Normalize, Onehot\n",
    "from fastestimator.op.tensorop import Average\n",
    "from fastestimator.op.tensorop.gradient import Watch, FGSM\n",
    "from fastestimator.op.tensorop.loss import CrossEntropy\n",
    "from fastestimator.op.tensorop.model import ModelOp, UpdateOp\n",
    "from fastestimator.trace.io import BestModelSaver\n",
    "from fastestimator.trace.metric import Accuracy\n",
    "from fastestimator.util import ImgData, to_number\n",
    "from fledge.native.fastestimator import FederatedFastEstimator\n",
    "from fastestimator.dataset.data import cifar10\n",
    "from fastestimator.op.numpyop.univariate import Normalize, ChannelTranspose\n",
    "\n",
    "batch_size=128\n",
    "\n",
    "train_data, eval_data = cifar10.load_data()\n",
    "test_data = eval_data.split(0.5)\n",
    "\n",
    "pipeline = fe.Pipeline(train_data=train_data,\n",
    "                     eval_data=eval_data,\n",
    "                     test_data=test_data,\n",
    "                     batch_size=batch_size,\n",
    "                     ops=[Normalize(inputs=\"x\", outputs=\"x\",\n",
    "                             mean=(0.4914, 0.4822, 0.4465), \n",
    "                             std=(0.2471, 0.2435, 0.2616)),\n",
    "                          ChannelTranspose(inputs=\"x\", outputs=\"x\")])\n",
    "model = fe.build(model_fn=lambda: LeNet(input_shape=(3, 32, 32)), \\\n",
    "                         optimizer_fn=\"adam\", model_name=\"adv_model\")\n",
    "\n",
    "network = fe.Network(ops=[\n",
    "                Watch(inputs=\"x\"),\n",
    "                ModelOp(model=model, inputs=\"x\", outputs=\"y_pred\"),\n",
    "                CrossEntropy(inputs=(\"y_pred\", \"y\"), outputs=\"base_ce\"),\n",
    "                FGSM(data=\"x\", loss=\"base_ce\", outputs=\"x_adverse\", epsilon=0.04),\n",
    "                ModelOp(model=model, inputs=\"x_adverse\", outputs=\"y_pred_adv\"),\n",
    "                CrossEntropy(inputs=(\"y_pred_adv\", \"y\"), outputs=\"adv_ce\"),\n",
    "                Average(inputs=(\"base_ce\", \"adv_ce\"), outputs=\"avg_ce\"),\n",
    "                UpdateOp(model=model, loss_name=\"avg_ce\")\n",
    "            ])\n",
    "\n",
    "estimator = fe.Estimator(pipeline=pipeline,\n",
    "                         network=network,\n",
    "                         epochs=2,\n",
    "                         traces=[Accuracy(true_key=\"y\", pred_key=\"y_pred\", output_name=\"clean_accuracy\"),\n",
    "                                Accuracy(true_key=\"y\", pred_key=\"y_pred_adv\", output_name=\"adversarial_accuracy\")],\n",
    "                         max_train_steps_per_epoch=None,\n",
    "                         max_eval_steps_per_epoch=None,\n",
    "                         monitor_names=[\"base_ce\", \"adv_ce\"],\n",
    "                         log_steps=1000)\n",
    "fledge_estimator = FederatedFastEstimator(estimator, rounds=10)\n",
    "model=fledge_estimator.fit()"
   ]
  },
  {
   "cell_type": "code",
   "execution_count": null,
   "metadata": {},
   "outputs": [],
   "source": [
    "model.state_dict()"
   ]
  }
 ],
 "metadata": {
  "kernelspec": {
   "display_name": "fe_notebook",
   "language": "python",
   "name": "fe_notebook"
  },
  "language_info": {
   "codemirror_mode": {
    "name": "ipython",
    "version": 3
   },
   "file_extension": ".py",
   "mimetype": "text/x-python",
   "name": "python",
   "nbconvert_exporter": "python",
   "pygments_lexer": "ipython3",
   "version": "3.6.9"
  }
 },
 "nbformat": 4,
 "nbformat_minor": 4
}
