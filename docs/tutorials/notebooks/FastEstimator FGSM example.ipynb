{
 "cells": [
  {
   "cell_type": "code",
   "execution_count": 1,
   "metadata": {},
   "outputs": [
    {
     "name": "stdout",
     "output_type": "stream",
     "text": [
      "Processing /home/itrushkin/repos/fledge\n",
      "Requirement already satisfied: fastestimator in /home/itrushkin/.virtualenvs/fledge/lib/python3.6/site-packages (1.1.1)\n",
      "Requirement already satisfied: Click>=7.0 in /home/itrushkin/.virtualenvs/fledge/lib/python3.6/site-packages (from fledge==0.1) (7.1.2)\n",
      "Requirement already satisfied: PyYAML>=5.1 in /home/itrushkin/.virtualenvs/fledge/lib/python3.6/site-packages (from fledge==0.1) (5.3.1)\n",
      "Requirement already satisfied: numpy in /home/itrushkin/.virtualenvs/fledge/lib/python3.6/site-packages (from fledge==0.1) (1.19.3)\n",
      "Requirement already satisfied: pandas in /home/itrushkin/.virtualenvs/fledge/lib/python3.6/site-packages (from fledge==0.1) (1.1.3)\n",
      "Requirement already satisfied: protobuf in /home/itrushkin/.virtualenvs/fledge/lib/python3.6/site-packages (from fledge==0.1) (3.13.0)\n",
      "Requirement already satisfied: grpcio in /home/itrushkin/.virtualenvs/fledge/lib/python3.6/site-packages (from fledge==0.1) (1.33.2)\n",
      "Requirement already satisfied: rich in /home/itrushkin/.virtualenvs/fledge/lib/python3.6/site-packages (from fledge==0.1) (9.1.0)\n",
      "Requirement already satisfied: tqdm in /home/itrushkin/.virtualenvs/fledge/lib/python3.6/site-packages (from fledge==0.1) (4.51.0)\n",
      "Requirement already satisfied: scikit-learn in /home/itrushkin/.virtualenvs/fledge/lib/python3.6/site-packages (from fledge==0.1) (0.23.2)\n",
      "Requirement already satisfied: pydot==1.4.1 in /home/itrushkin/.virtualenvs/fledge/lib/python3.6/site-packages (from fastestimator) (1.4.1)\n",
      "Requirement already satisfied: sklearn in /home/itrushkin/.virtualenvs/fledge/lib/python3.6/site-packages (from fastestimator) (0.0)\n",
      "Requirement already satisfied: wget in /home/itrushkin/.virtualenvs/fledge/lib/python3.6/site-packages (from fastestimator) (3.2)\n",
      "Requirement already satisfied: PySocks==1.7.1 in /home/itrushkin/.virtualenvs/fledge/lib/python3.6/site-packages (from fastestimator) (1.7.1)\n",
      "Requirement already satisfied: seaborn in /home/itrushkin/.virtualenvs/fledge/lib/python3.6/site-packages (from fastestimator) (0.11.0)\n",
      "Requirement already satisfied: graphviz==0.14.1 in /home/itrushkin/.virtualenvs/fledge/lib/python3.6/site-packages (from fastestimator) (0.14.1)\n",
      "Requirement already satisfied: gdown==3.12.0 in /home/itrushkin/.virtualenvs/fledge/lib/python3.6/site-packages (from fastestimator) (3.12.0)\n",
      "Requirement already satisfied: albumentations in /home/itrushkin/.virtualenvs/fledge/lib/python3.6/site-packages (from fastestimator) (0.5.0)\n",
      "Requirement already satisfied: opencv-python in /home/itrushkin/.virtualenvs/fledge/lib/python3.6/site-packages (from fastestimator) (4.4.0.44)\n",
      "Requirement already satisfied: natsort==7.0.1 in /home/itrushkin/.virtualenvs/fledge/lib/python3.6/site-packages (from fastestimator) (7.0.1)\n",
      "Requirement already satisfied: h5py in /home/itrushkin/.virtualenvs/fledge/lib/python3.6/site-packages (from fastestimator) (2.10.0)\n",
      "Requirement already satisfied: pyfiglet in /home/itrushkin/.virtualenvs/fledge/lib/python3.6/site-packages (from fastestimator) (0.8.post1)\n",
      "Requirement already satisfied: python-docx in /home/itrushkin/.virtualenvs/fledge/lib/python3.6/site-packages (from fastestimator) (0.8.10)\n",
      "Requirement already satisfied: pillow in /home/itrushkin/.virtualenvs/fledge/lib/python3.6/site-packages (from fastestimator) (7.2.0)\n",
      "Requirement already satisfied: transformers==3.1.0 in /home/itrushkin/.virtualenvs/fledge/lib/python3.6/site-packages (from fastestimator) (3.1.0)\n",
      "Requirement already satisfied: PyLaTeX==1.3.2 in /home/itrushkin/.virtualenvs/fledge/lib/python3.6/site-packages (from fastestimator) (1.3.2)\n",
      "Requirement already satisfied: scipy==1.4.1 in /home/itrushkin/.virtualenvs/fledge/lib/python3.6/site-packages (from fastestimator) (1.4.1)\n",
      "Requirement already satisfied: dot2tex==2.11.3 in /home/itrushkin/.virtualenvs/fledge/lib/python3.6/site-packages (from fastestimator) (2.11.3)\n",
      "Requirement already satisfied: requests in /home/itrushkin/.virtualenvs/fledge/lib/python3.6/site-packages (from fastestimator) (2.24.0)\n",
      "Requirement already satisfied: pytorch-model-summary==0.1.2 in /home/itrushkin/.virtualenvs/fledge/lib/python3.6/site-packages (from fastestimator) (0.1.2)\n",
      "Requirement already satisfied: matplotlib in /home/itrushkin/.virtualenvs/fledge/lib/python3.6/site-packages (from fastestimator) (3.3.2)\n",
      "Requirement already satisfied: pycocotools-fix in /home/itrushkin/.virtualenvs/fledge/lib/python3.6/site-packages (from fastestimator) (2.0.0.9)\n",
      "Requirement already satisfied: hiddenlayer==0.3 in /home/itrushkin/.virtualenvs/fledge/lib/python3.6/site-packages (from fastestimator) (0.3)\n",
      "Requirement already satisfied: tensorflow-probability==0.11.0 in /home/itrushkin/.virtualenvs/fledge/lib/python3.6/site-packages (from fastestimator) (0.11.0)\n",
      "Requirement already satisfied: jsonpickle in /home/itrushkin/.virtualenvs/fledge/lib/python3.6/site-packages (from fastestimator) (1.4.1)\n",
      "Requirement already satisfied: python-dateutil>=2.7.3 in /home/itrushkin/.virtualenvs/fledge/lib/python3.6/site-packages (from pandas->fledge==0.1) (2.8.1)\n",
      "Requirement already satisfied: pytz>=2017.2 in /home/itrushkin/.virtualenvs/fledge/lib/python3.6/site-packages (from pandas->fledge==0.1) (2020.1)\n",
      "Requirement already satisfied: setuptools in /home/itrushkin/.virtualenvs/fledge/lib/python3.6/site-packages (from protobuf->fledge==0.1) (50.3.2)\n",
      "Requirement already satisfied: six>=1.9 in /home/itrushkin/.virtualenvs/fledge/lib/python3.6/site-packages (from protobuf->fledge==0.1) (1.15.0)\n",
      "Requirement already satisfied: dataclasses<0.8,>=0.7; python_version >= \"3.6\" and python_version < \"3.7\" in /home/itrushkin/.virtualenvs/fledge/lib/python3.6/site-packages (from rich->fledge==0.1) (0.7)\n",
      "Requirement already satisfied: pygments<3.0.0,>=2.6.0 in /home/itrushkin/.virtualenvs/fledge/lib/python3.6/site-packages (from rich->fledge==0.1) (2.7.2)\n",
      "Requirement already satisfied: typing-extensions<4.0.0,>=3.7.4 in /home/itrushkin/.virtualenvs/fledge/lib/python3.6/site-packages (from rich->fledge==0.1) (3.7.4.3)\n",
      "Requirement already satisfied: colorama<0.5.0,>=0.4.0 in /home/itrushkin/.virtualenvs/fledge/lib/python3.6/site-packages (from rich->fledge==0.1) (0.4.4)\n",
      "Requirement already satisfied: commonmark<0.10.0,>=0.9.0 in /home/itrushkin/.virtualenvs/fledge/lib/python3.6/site-packages (from rich->fledge==0.1) (0.9.1)\n",
      "Requirement already satisfied: joblib>=0.11 in /home/itrushkin/.virtualenvs/fledge/lib/python3.6/site-packages (from scikit-learn->fledge==0.1) (0.17.0)\n",
      "Requirement already satisfied: threadpoolctl>=2.0.0 in /home/itrushkin/.virtualenvs/fledge/lib/python3.6/site-packages (from scikit-learn->fledge==0.1) (2.1.0)\n",
      "Requirement already satisfied: pyparsing>=2.1.4 in /home/itrushkin/.virtualenvs/fledge/lib/python3.6/site-packages (from pydot==1.4.1->fastestimator) (2.4.7)\n",
      "Requirement already satisfied: filelock in /home/itrushkin/.virtualenvs/fledge/lib/python3.6/site-packages (from gdown==3.12.0->fastestimator) (3.0.12)\n",
      "Requirement already satisfied: opencv-python-headless>=4.1.1 in /home/itrushkin/.virtualenvs/fledge/lib/python3.6/site-packages (from albumentations->fastestimator) (4.4.0.44)\n",
      "Requirement already satisfied: imgaug>=0.4.0 in /home/itrushkin/.virtualenvs/fledge/lib/python3.6/site-packages (from albumentations->fastestimator) (0.4.0)\n",
      "Requirement already satisfied: scikit-image>=0.16.1 in /home/itrushkin/.virtualenvs/fledge/lib/python3.6/site-packages (from albumentations->fastestimator) (0.17.2)\n",
      "Requirement already satisfied: lxml>=2.3.2 in /home/itrushkin/.virtualenvs/fledge/lib/python3.6/site-packages (from python-docx->fastestimator) (4.6.1)\n",
      "Requirement already satisfied: tokenizers==0.8.1.rc2 in /home/itrushkin/.virtualenvs/fledge/lib/python3.6/site-packages (from transformers==3.1.0->fastestimator) (0.8.1rc2)\n",
      "Requirement already satisfied: sentencepiece!=0.1.92 in /home/itrushkin/.virtualenvs/fledge/lib/python3.6/site-packages (from transformers==3.1.0->fastestimator) (0.1.91)\n",
      "Requirement already satisfied: sacremoses in /home/itrushkin/.virtualenvs/fledge/lib/python3.6/site-packages (from transformers==3.1.0->fastestimator) (0.0.43)\n",
      "Requirement already satisfied: regex!=2019.12.17 in /home/itrushkin/.virtualenvs/fledge/lib/python3.6/site-packages (from transformers==3.1.0->fastestimator) (2020.10.15)\n",
      "Requirement already satisfied: packaging in /home/itrushkin/.virtualenvs/fledge/lib/python3.6/site-packages (from transformers==3.1.0->fastestimator) (20.4)\n",
      "Requirement already satisfied: ordered-set in /home/itrushkin/.virtualenvs/fledge/lib/python3.6/site-packages (from PyLaTeX==1.3.2->fastestimator) (4.0.2)\n",
      "Requirement already satisfied: urllib3!=1.25.0,!=1.25.1,<1.26,>=1.21.1 in /home/itrushkin/.virtualenvs/fledge/lib/python3.6/site-packages (from requests->fastestimator) (1.25.10)\n",
      "Requirement already satisfied: idna<3,>=2.5 in /home/itrushkin/.virtualenvs/fledge/lib/python3.6/site-packages (from requests->fastestimator) (2.10)\n",
      "Requirement already satisfied: chardet<4,>=3.0.2 in /home/itrushkin/.virtualenvs/fledge/lib/python3.6/site-packages (from requests->fastestimator) (3.0.4)\n",
      "Requirement already satisfied: certifi>=2017.4.17 in /home/itrushkin/.virtualenvs/fledge/lib/python3.6/site-packages (from requests->fastestimator) (2020.6.20)\n",
      "Requirement already satisfied: torch in /home/itrushkin/.virtualenvs/fledge/lib/python3.6/site-packages (from pytorch-model-summary==0.1.2->fastestimator) (1.6.0)\n",
      "Requirement already satisfied: cycler>=0.10 in /home/itrushkin/.virtualenvs/fledge/lib/python3.6/site-packages (from matplotlib->fastestimator) (0.10.0)\n",
      "Requirement already satisfied: kiwisolver>=1.0.1 in /home/itrushkin/.virtualenvs/fledge/lib/python3.6/site-packages (from matplotlib->fastestimator) (1.2.0)\n",
      "Requirement already satisfied: cython>=0.27.3 in /home/itrushkin/.virtualenvs/fledge/lib/python3.6/site-packages (from pycocotools-fix->fastestimator) (0.29.21)\n",
      "Requirement already satisfied: cloudpickle==1.3 in /home/itrushkin/.virtualenvs/fledge/lib/python3.6/site-packages (from tensorflow-probability==0.11.0->fastestimator) (1.3.0)\n",
      "Requirement already satisfied: dm-tree in /home/itrushkin/.virtualenvs/fledge/lib/python3.6/site-packages (from tensorflow-probability==0.11.0->fastestimator) (0.1.5)\n",
      "Requirement already satisfied: decorator in /home/itrushkin/.virtualenvs/fledge/lib/python3.6/site-packages (from tensorflow-probability==0.11.0->fastestimator) (4.4.2)\n",
      "Requirement already satisfied: gast>=0.3.2 in /home/itrushkin/.virtualenvs/fledge/lib/python3.6/site-packages (from tensorflow-probability==0.11.0->fastestimator) (0.3.3)\n",
      "Requirement already satisfied: importlib-metadata in /home/itrushkin/.virtualenvs/fledge/lib/python3.6/site-packages (from jsonpickle->fastestimator) (1.7.0)\n"
     ]
    },
    {
     "name": "stdout",
     "output_type": "stream",
     "text": [
      "Requirement already satisfied: imageio in /home/itrushkin/.virtualenvs/fledge/lib/python3.6/site-packages (from imgaug>=0.4.0->albumentations->fastestimator) (2.9.0)\n",
      "Requirement already satisfied: Shapely in /home/itrushkin/.virtualenvs/fledge/lib/python3.6/site-packages (from imgaug>=0.4.0->albumentations->fastestimator) (1.7.1)\n",
      "Requirement already satisfied: tifffile>=2019.7.26 in /home/itrushkin/.virtualenvs/fledge/lib/python3.6/site-packages (from scikit-image>=0.16.1->albumentations->fastestimator) (2020.9.3)\n",
      "Requirement already satisfied: networkx>=2.0 in /home/itrushkin/.virtualenvs/fledge/lib/python3.6/site-packages (from scikit-image>=0.16.1->albumentations->fastestimator) (2.5)\n",
      "Requirement already satisfied: PyWavelets>=1.1.1 in /home/itrushkin/.virtualenvs/fledge/lib/python3.6/site-packages (from scikit-image>=0.16.1->albumentations->fastestimator) (1.1.1)\n",
      "Requirement already satisfied: future in /home/itrushkin/.virtualenvs/fledge/lib/python3.6/site-packages (from torch->pytorch-model-summary==0.1.2->fastestimator) (0.18.2)\n",
      "Requirement already satisfied: zipp>=0.5 in /home/itrushkin/.virtualenvs/fledge/lib/python3.6/site-packages (from importlib-metadata->jsonpickle->fastestimator) (3.1.0)\n",
      "Building wheels for collected packages: fledge\n",
      "  Building wheel for fledge (setup.py) ... \u001b[?25ldone\n",
      "\u001b[?25h  Created wheel for fledge: filename=fledge-0.1-py3-none-any.whl size=169166 sha256=a03c819a3726a213a4a1a886bd30d3e2318d3042b7a97cc687dffc8d00ca27e2\n",
      "  Stored in directory: /tmp/pip-ephem-wheel-cache-axqdl4v5/wheels/3a/30/9d/a88101effd240e4a8721301bebf95a245eaf4904b55b7ae530\n",
      "Successfully built fledge\n",
      "Installing collected packages: fledge\n",
      "  Attempting uninstall: fledge\n",
      "    Found existing installation: fledge 0.1\n",
      "    Uninstalling fledge-0.1:\n",
      "      Successfully uninstalled fledge-0.1\n",
      "Successfully installed fledge-0.1\n",
      "\u001b[33mWARNING: You are using pip version 20.2.2; however, version 20.2.4 is available.\n",
      "You should consider upgrading via the '/home/itrushkin/.virtualenvs/fledge/bin/python3 -m pip install --upgrade pip' command.\u001b[0m\n",
      "Note: you may need to restart the kernel to use updated packages.\n"
     ]
    }
   ],
   "source": [
    "pip install fastestimator ~/repos/fledge"
   ]
  },
  {
   "cell_type": "code",
   "execution_count": 2,
   "metadata": {},
   "outputs": [
    {
     "name": "stdout",
     "output_type": "stream",
     "text": [
      "WARNING:tensorflow:From /home/itrushkin/.virtualenvs/fledge/lib/python3.6/site-packages/tensorflow/python/compat/v2_compat.py:96: disable_resource_variables (from tensorflow.python.ops.variable_scope) is deprecated and will be removed in a future version.\n",
      "Instructions for updating:\n",
      "non-resource variables are not supported in the long term\n",
      "Creating Workspace Directories\n",
      "Creating Workspace Certifications\n",
      "Creating Workspace Templates\n",
      "Successfully installed packages from /home/itrushkin/.local/workspace/requirements.txt.\n",
      "\n",
      "New workspace directory structure:\n",
      "workspace\n",
      "├── code\n",
      "│   ├── keras_cnn.py\n",
      "│   ├── mnist_utils.py\n",
      "│   ├── __init__.py\n",
      "│   └── tfmnist_inmemory.py\n",
      "├── agg_to_col_two_signed_cert.zip\n",
      "├── plan\n",
      "│   ├── cols.yaml\n",
      "│   ├── data.yaml\n",
      "│   ├── defaults\n",
      "│   │   ├── tasks_keras.yaml\n",
      "│   │   ├── tasks_tensorflow.yaml\n",
      "│   │   ├── tasks_fast_estimator.yaml\n",
      "│   │   ├── network.yaml\n",
      "│   │   ├── collaborator.yaml\n",
      "│   │   ├── assigner.yaml\n",
      "│   │   ├── tasks_torch.yaml\n",
      "│   │   ├── aggregator.yaml\n",
      "│   │   ├── task_runner.yaml\n",
      "│   │   └── data_loader.yaml\n",
      "│   └── plan.yaml\n",
      "├── requirements.txt\n",
      "├── logs\n",
      "├── agg_to_col_one_signed_cert.zip\n",
      "├── cert\n",
      "│   ├── config\n",
      "│   │   ├── client.conf\n",
      "│   │   ├── signing-ca.conf\n",
      "│   │   ├── server.conf\n",
      "│   │   └── root-ca.conf\n",
      "│   ├── client\n",
      "│   │   ├── col_one.crt\n",
      "│   │   ├── col_two.csr\n",
      "│   │   ├── col_two.crt\n",
      "│   │   ├── col_two.key\n",
      "│   │   ├── col_one.csr\n",
      "│   │   └── col_one.key\n",
      "│   ├── server\n",
      "│   │   ├── agg_none.csr\n",
      "│   │   ├── agg_none.key\n",
      "│   │   └── agg_none.crt\n",
      "│   ├── ca\n",
      "│   │   ├── root-ca.crt\n",
      "│   │   ├── signing-ca\n",
      "│   │   ├── signing-ca.crt\n",
      "│   │   ├── root-ca.csr\n",
      "│   │   ├── signing-ca.csr\n",
      "│   │   └── root-ca\n",
      "│   └── cert_chain.crt\n",
      "├── data\n",
      "├── final_model\n",
      "└── save\n",
      "    ├── keras_lenet_init.pbuf\n",
      "    ├── keras_lenet_last.pbuf\n",
      "    ├── keras_cnn_mnist_last.pbuf\n",
      "    ├── keras_cnn_mnist_init.pbuf\n",
      "    ├── keras_cnn_mnist_best.pbuf\n",
      "    └── keras_lenet_best.pbuf\n",
      "\n",
      "13 directories, 45 files\n",
      "Setting Up Certificate Authority...\n",
      "\n",
      "1.  Create Root CA\n",
      "1.1 Create Directories\n",
      "1.2 Create Database\n",
      "1.3 Create CA Request\n",
      "1.4 Create CA Certificate\n",
      "2.  Create Signing Certificate\n",
      "2.1 Create Directories\n",
      "2.2 Create Database\n",
      "2.3 Create Signing Certificate CSR\n",
      "2.4 Sign Signing Certificate CSR\n",
      "3   Create Certificate Chain\n",
      "\n",
      "Done.\n",
      "Creating AGGREGATOR certificate key pair with following settings: CN=\u001b[31mnone\u001b[0m, SAN=\u001b[31mDNS:none\u001b[0m\n",
      "  Moving AGGREGATOR certificate key pair to: \u001b[32mcert/server\u001b[0m\n",
      "The CSR Hash for file \u001b[32magg_none.csr\u001b[0m = \u001b[31m 13f0fa77c263dbb7e6e83a6ff230acc719735f8cc56cd96fbb920a0c34b26916\n",
      "\u001b[0m\n",
      " Signing AGGREGATOR certificate key pair\n",
      "  Moving AGGREGATOR certificate key pair to: \u001b[32mcert/server\u001b[0m\n",
      "Creating COLLABORATOR certificate key pair with following settings: CN=\u001b[31mone\u001b[0m, SAN=\u001b[31mDNS:one\u001b[0m\n",
      "  Moving COLLABORATOR certificate to: \u001b[32mcert/col_one\u001b[0m\n",
      "The CSR Hash for file \u001b[32mcol_one.csr\u001b[0m = \u001b[31m a5145511c9af238b508a60cd9243a351a0e6dfadb46a9352fdad75cec768d598\n",
      "\u001b[0m\n",
      " Signing COLLABORATOR certificate key pair\n",
      "  Moving COLLABORATOR certificate key pair to: \u001b[32mcert/client\u001b[0m\n",
      "\n",
      "Registering \u001b[32mone\u001b[0m in \u001b[32mplan/cols.yaml\u001b[0m\n",
      "Creating COLLABORATOR certificate key pair with following settings: CN=\u001b[31mtwo\u001b[0m, SAN=\u001b[31mDNS:two\u001b[0m\n",
      "  Moving COLLABORATOR certificate to: \u001b[32mcert/col_two\u001b[0m\n",
      "The CSR Hash for file \u001b[32mcol_two.csr\u001b[0m = \u001b[31m b576967078c30d7298501a8829a51c6d14aa5872caac919124282d12b53e1743\n",
      "\u001b[0m\n",
      " Signing COLLABORATOR certificate key pair\n",
      "  Moving COLLABORATOR certificate key pair to: \u001b[32mcert/client\u001b[0m\n",
      "\n",
      "Registering \u001b[32mtwo\u001b[0m in \u001b[32mplan/cols.yaml\u001b[0m\n"
     ]
    },
    {
     "data": {
      "text/html": [
       "<pre style=\"white-space:pre;overflow-x:auto;line-height:normal;font-family:Menlo,'DejaVu Sans Mono',consolas,'Courier New',monospace\"><span style=\"color: #7fbfbf\">[03:53:03] </span><span style=\"color: #000080\">INFO</span>     Loading DEFAULTS for section <span style=\"color: #800000\">aggregator</span> from file <span style=\"color: #800000\">plan/defaults/aggregator.yaml</span>.                                                  <a href=\"file:///home/itrushkin/.virtualenvs/fledge/lib/python3.6/site-packages/fledge/federated/plan/plan.py\"><span style=\"color: #7f7f7f\">plan.py</span></a><span style=\"color: #7f7f7f\">:90</span>\n",
       "</pre>\n"
      ],
      "text/plain": [
       "<rich.jupyter.JupyterRenderable at 0x7f7f41319c88>"
      ]
     },
     "metadata": {},
     "output_type": "display_data"
    },
    {
     "data": {
      "text/html": [
       "<pre style=\"white-space:pre;overflow-x:auto;line-height:normal;font-family:Menlo,'DejaVu Sans Mono',consolas,'Courier New',monospace\"><span style=\"color: #7fbfbf\">           </span><span style=\"color: #000080\">INFO</span>     Loading DEFAULTS for section <span style=\"color: #800000\">assigner</span> from file <span style=\"color: #800000\">plan/defaults/assigner.yaml</span>.                                                      <a href=\"file:///home/itrushkin/.virtualenvs/fledge/lib/python3.6/site-packages/fledge/federated/plan/plan.py\"><span style=\"color: #7f7f7f\">plan.py</span></a><span style=\"color: #7f7f7f\">:90</span>\n",
       "</pre>\n"
      ],
      "text/plain": [
       "<rich.jupyter.JupyterRenderable at 0x7f7f41319ef0>"
      ]
     },
     "metadata": {},
     "output_type": "display_data"
    },
    {
     "data": {
      "text/html": [
       "<pre style=\"white-space:pre;overflow-x:auto;line-height:normal;font-family:Menlo,'DejaVu Sans Mono',consolas,'Courier New',monospace\"><span style=\"color: #7fbfbf\">           </span><span style=\"color: #000080\">INFO</span>     Loading DEFAULTS for section <span style=\"color: #800000\">collaborator</span> from file <span style=\"color: #800000\">plan/defaults/collaborator.yaml</span>.                                              <a href=\"file:///home/itrushkin/.virtualenvs/fledge/lib/python3.6/site-packages/fledge/federated/plan/plan.py\"><span style=\"color: #7f7f7f\">plan.py</span></a><span style=\"color: #7f7f7f\">:90</span>\n",
       "</pre>\n"
      ],
      "text/plain": [
       "<rich.jupyter.JupyterRenderable at 0x7f7f41319e80>"
      ]
     },
     "metadata": {},
     "output_type": "display_data"
    },
    {
     "data": {
      "text/html": [
       "<pre style=\"white-space:pre;overflow-x:auto;line-height:normal;font-family:Menlo,'DejaVu Sans Mono',consolas,'Courier New',monospace\"><span style=\"color: #7fbfbf\">           </span><span style=\"color: #000080\">INFO</span>     Loading DEFAULTS for section <span style=\"color: #800000\">data_loader</span> from file <span style=\"color: #800000\">plan/defaults/data_loader.yaml</span>.                                                <a href=\"file:///home/itrushkin/.virtualenvs/fledge/lib/python3.6/site-packages/fledge/federated/plan/plan.py\"><span style=\"color: #7f7f7f\">plan.py</span></a><span style=\"color: #7f7f7f\">:90</span>\n",
       "</pre>\n"
      ],
      "text/plain": [
       "<rich.jupyter.JupyterRenderable at 0x7f7f9c1bc0f0>"
      ]
     },
     "metadata": {},
     "output_type": "display_data"
    },
    {
     "data": {
      "text/html": [
       "<pre style=\"white-space:pre;overflow-x:auto;line-height:normal;font-family:Menlo,'DejaVu Sans Mono',consolas,'Courier New',monospace\"><span style=\"color: #7fbfbf\">           </span><span style=\"color: #000080\">INFO</span>     Loading DEFAULTS for section <span style=\"color: #800000\">network</span> from file <span style=\"color: #800000\">plan/defaults/network.yaml</span>.                                                        <a href=\"file:///home/itrushkin/.virtualenvs/fledge/lib/python3.6/site-packages/fledge/federated/plan/plan.py\"><span style=\"color: #7f7f7f\">plan.py</span></a><span style=\"color: #7f7f7f\">:90</span>\n",
       "</pre>\n"
      ],
      "text/plain": [
       "<rich.jupyter.JupyterRenderable at 0x7f7f41319e80>"
      ]
     },
     "metadata": {},
     "output_type": "display_data"
    },
    {
     "data": {
      "text/html": [
       "<pre style=\"white-space:pre;overflow-x:auto;line-height:normal;font-family:Menlo,'DejaVu Sans Mono',consolas,'Courier New',monospace\"><span style=\"color: #7fbfbf\">           </span><span style=\"color: #000080\">INFO</span>     Loading DEFAULTS for section <span style=\"color: #800000\">task_runner</span> from file <span style=\"color: #800000\">plan/defaults/task_runner.yaml</span>.                                                <a href=\"file:///home/itrushkin/.virtualenvs/fledge/lib/python3.6/site-packages/fledge/federated/plan/plan.py\"><span style=\"color: #7f7f7f\">plan.py</span></a><span style=\"color: #7f7f7f\">:90</span>\n",
       "</pre>\n"
      ],
      "text/plain": [
       "<rich.jupyter.JupyterRenderable at 0x7f7e47d899e8>"
      ]
     },
     "metadata": {},
     "output_type": "display_data"
    },
    {
     "data": {
      "text/html": [
       "<pre style=\"white-space:pre;overflow-x:auto;line-height:normal;font-family:Menlo,'DejaVu Sans Mono',consolas,'Courier New',monospace\"><span style=\"color: #7fbfbf\">           </span><span style=\"color: #000080\">INFO</span>     Loading DEFAULTS for section <span style=\"color: #800000\">tasks</span> from file <span style=\"color: #800000\">plan/defaults/tasks_fast_estimator.yaml</span>.                                             <a href=\"file:///home/itrushkin/.virtualenvs/fledge/lib/python3.6/site-packages/fledge/federated/plan/plan.py\"><span style=\"color: #7f7f7f\">plan.py</span></a><span style=\"color: #7f7f7f\">:90</span>\n",
       "</pre>\n"
      ],
      "text/plain": [
       "<rich.jupyter.JupyterRenderable at 0x7f7f41319ef0>"
      ]
     },
     "metadata": {},
     "output_type": "display_data"
    },
    {
     "data": {
      "text/html": [
       "<pre style=\"white-space:pre;overflow-x:auto;line-height:normal;font-family:Menlo,'DejaVu Sans Mono',consolas,'Courier New',monospace\"><span style=\"color: #7fbfbf\">           </span><span style=\"color: #000080\">INFO</span>     FL-Plan hash is <span style=\"color: #000080\">9a4729388f3dd4846e4b472b45ab0fa2</span>                                                                                 <a href=\"file:///home/itrushkin/.virtualenvs/fledge/lib/python3.6/site-packages/fledge/federated/plan/plan.py\"><span style=\"color: #7f7f7f\">plan.py</span></a><span style=\"color: #7f7f7f\">:190</span>\n",
       "</pre>\n"
      ],
      "text/plain": [
       "<rich.jupyter.JupyterRenderable at 0x7f7f9c1bc0f0>"
      ]
     },
     "metadata": {},
     "output_type": "display_data"
    },
    {
     "data": {
      "text/html": [
       "<pre style=\"white-space:pre;overflow-x:auto;line-height:normal;font-family:Menlo,'DejaVu Sans Mono',consolas,'Courier New',monospace\"><span style=\"color: #7fbfbf\">           </span><span style=\"color: #000080\">INFO</span>     FL-Plan hash is <span style=\"color: #000080\">238f43de04723427989b07280cb798d3</span>                                                                                 <a href=\"file:///home/itrushkin/.virtualenvs/fledge/lib/python3.6/site-packages/fledge/federated/plan/plan.py\"><span style=\"color: #7f7f7f\">plan.py</span></a><span style=\"color: #7f7f7f\">:190</span>\n",
       "</pre>\n"
      ],
      "text/plain": [
       "<rich.jupyter.JupyterRenderable at 0x7f7f9c1bc0f0>"
      ]
     },
     "metadata": {},
     "output_type": "display_data"
    },
    {
     "data": {
      "text/html": [
       "<pre style=\"white-space:pre;overflow-x:auto;line-height:normal;font-family:Menlo,'DejaVu Sans Mono',consolas,'Courier New',monospace\"><span style=\"color: #7fbfbf\">           </span><span style=\"color: #000080\">INFO</span>     Parsing Federated Learning Plan : <span style=\"color: #008000\">SUCCESS</span> : <span style=\"color: #800080\">/home/itrushkin/.local/workspace/plan/</span><span style=\"color: #ff00ff\">plan.yaml.</span>                                     <a href=\"file:///home/itrushkin/.virtualenvs/fledge/lib/python3.6/site-packages/fledge/federated/plan/plan.py\"><span style=\"color: #7f7f7f\">plan.py</span></a><span style=\"color: #7f7f7f\">:119</span>\n",
       "</pre>\n"
      ],
      "text/plain": [
       "<rich.jupyter.JupyterRenderable at 0x7f7f412b6d30>"
      ]
     },
     "metadata": {},
     "output_type": "display_data"
    },
    {
     "data": {
      "text/html": [
       "<pre style=\"white-space:pre;overflow-x:auto;line-height:normal;font-family:Menlo,'DejaVu Sans Mono',consolas,'Courier New',monospace\"><span style=\"color: #7fbfbf\">           </span><span style=\"color: #000080\">INFO</span>     aggregator:                                                                                                                      <a href=\"file:///home/itrushkin/.virtualenvs/fledge/lib/python3.6/site-packages/fledge/federated/plan/plan.py\"><span style=\"color: #7f7f7f\">plan.py</span></a><span style=\"color: #7f7f7f\">:120</span>\n",
       "                      defaults: plan/defaults/aggregator.yaml                                                                                                   \n",
       "                      settings:                                                                                                                                 \n",
       "                        best_state_path: save/keras_lenet_best.pbuf                                                                                             \n",
       "                        init_state_path: save/keras_lenet_init.pbuf                                                                                             \n",
       "                        last_state_path: save/keras_lenet_last.pbuf                                                                                             \n",
       "                        rounds_to_train: <span style=\"color: #000080; font-weight: bold\">10</span>                                                                                                                     \n",
       "                      template: fledge.component.Aggregator                                                                                                     \n",
       "                    assigner:                                                                                                                                   \n",
       "                      defaults: plan/defaults/assigner.yaml                                                                                                     \n",
       "                      settings:                                                                                                                                 \n",
       "                        task_groups:                                                                                                                            \n",
       "                        - name: train_and_validate                                                                                                              \n",
       "                          percentage: <span style=\"color: #000080; font-weight: bold\">1.0</span>                                                                                                                       \n",
       "                          tasks:                                                                                                                                \n",
       "                          - aggregated_model_validation                                                                                                         \n",
       "                          - train                                                                                                                               \n",
       "                          - locally_tuned_model_validation                                                                                                      \n",
       "                      template: fledge.component.RandomGroupedAssigner                                                                                          \n",
       "                    collaborator:                                                                                                                               \n",
       "                      defaults: plan/defaults/collaborator.yaml                                                                                                 \n",
       "                      settings:                                                                                                                                 \n",
       "                        delta_updates: false                                                                                                                    \n",
       "                        epochs_per_round: <span style=\"color: #000080; font-weight: bold\">1.0</span>                                                                                                                   \n",
       "                        opt_treatment: RESET                                                                                                                    \n",
       "                        polling_interval: <span style=\"color: #000080; font-weight: bold\">4</span>                                                                                                                     \n",
       "                      template: fledge.component.Collaborator                                                                                                   \n",
       "                    data_loader:                                                                                                                                \n",
       "                      defaults: plan/defaults/data_loader.yaml                                                                                                  \n",
       "                      settings: <span style=\"font-weight: bold\">{}</span>                                                                                                                              \n",
       "                      template: fledge.federated.DataLoader                                                                                                     \n",
       "                    network:                                                                                                                                    \n",
       "                      defaults: plan/defaults/network.yaml                                                                                                      \n",
       "                      settings:                                                                                                                                 \n",
       "                        agg_addr: nnlicv611                                                                                                                     \n",
       "                        agg_port: <span style=\"color: #000080; font-weight: bold\">49508</span>                                                                                                                         \n",
       "                        cert_folder: cert                                                                                                                       \n",
       "                        disable_client_auth: false                                                                                                              \n",
       "                        disable_tls: false                                                                                                                      \n",
       "                        hash_salt: auto                                                                                                                         \n",
       "                      template: fledge.federation.Network                                                                                                       \n",
       "                    task_runner:                                                                                                                                \n",
       "                      defaults: plan/defaults/task_runner.yaml                                                                                                  \n",
       "                      settings: <span style=\"font-weight: bold\">{}</span>                                                                                                                              \n",
       "                      template: fledge.federated.TaskRunner                                                                                                     \n",
       "                    tasks:                                                                                                                                      \n",
       "                      aggregated_model_validation:                                                                                                              \n",
       "                        function: validate                                                                                                                      \n",
       "                        kwargs:                                                                                                                                 \n",
       "                          apply: global                                                                                                                         \n",
       "                          batch_size: <span style=\"color: #000080; font-weight: bold\">32</span>                                                                                                                        \n",
       "                          metrics:                                                                                                                              \n",
       "                          - clean_accuracy                                                                                                                      \n",
       "                          - adversarial_accuracy                                                                                                                \n",
       "                      defaults: plan/defaults/tasks_fast_estimator.yaml                                                                                         \n",
       "                      locally_tuned_model_validation:                                                                                                           \n",
       "                        function: validate                                                                                                                      \n",
       "                        kwargs:                                                                                                                                 \n",
       "                          apply: local                                                                                                                          \n",
       "                          batch_size: <span style=\"color: #000080; font-weight: bold\">32</span>                                                                                                                        \n",
       "                          metrics:                                                                                                                              \n",
       "                          - clean_accuracy                                                                                                                      \n",
       "                          - adversarial_accuracy                                                                                                                \n",
       "                      settings: <span style=\"font-weight: bold\">{}</span>                                                                                                                              \n",
       "                      train:                                                                                                                                    \n",
       "                        function: train                                                                                                                         \n",
       "                        kwargs:                                                                                                                                 \n",
       "                          batch_size: <span style=\"color: #000080; font-weight: bold\">32</span>                                                                                                                        \n",
       "                          epochs: <span style=\"color: #000080; font-weight: bold\">1</span>                                                                                                                             \n",
       "                          metrics:                                                                                                                              \n",
       "                          - adv_ce                                                                                                                              \n",
       "                          - base_ce                                                                                                                             \n",
       "                                                                                                                                                                \n",
       "</pre>\n"
      ],
      "text/plain": [
       "<rich.jupyter.JupyterRenderable at 0x7f7f412d3f60>"
      ]
     },
     "metadata": {},
     "output_type": "display_data"
    },
    {
     "data": {
      "text/html": [
       "<pre style=\"white-space:pre;overflow-x:auto;line-height:normal;font-family:Menlo,'DejaVu Sans Mono',consolas,'Courier New',monospace\"><span style=\"color: #7fbfbf\">[03:53:04] </span><span style=\"color: #800000\">WARNING</span>  tried to remove tensor: __opt_state_needed not present in the tensor dict                                                        <a href=\"file:///home/itrushkin/.virtualenvs/fledge/lib/python3.6/site-packages/fledge/utilities/utils.py\"><span style=\"color: #7f7f7f\">utils.py</span></a><span style=\"color: #7f7f7f\">:54</span>\n",
       "</pre>\n"
      ],
      "text/plain": [
       "<rich.jupyter.JupyterRenderable at 0x7f7f412d3d30>"
      ]
     },
     "metadata": {},
     "output_type": "display_data"
    },
    {
     "data": {
      "text/html": [
       "<pre style=\"white-space:pre;overflow-x:auto;line-height:normal;font-family:Menlo,'DejaVu Sans Mono',consolas,'Courier New',monospace\"><span style=\"color: #7fbfbf\">           </span><span style=\"color: #000080\">INFO</span>     sys.path: <span style=\"color: #800080\">/home/itrushkin/.local/</span><span style=\"color: #ff00ff\">workspace</span>                                                                                       <a href=\"file:///home/itrushkin/.virtualenvs/fledge/lib/python3.6/site-packages/fledge/federated/plan/plan.py\"><span style=\"color: #7f7f7f\">plan.py</span></a><span style=\"color: #7f7f7f\">:145</span>\n",
       "</pre>\n"
      ],
      "text/plain": [
       "<rich.jupyter.JupyterRenderable at 0x7f7f412d3630>"
      ]
     },
     "metadata": {},
     "output_type": "display_data"
    },
    {
     "data": {
      "text/html": [
       "<pre style=\"white-space:pre;overflow-x:auto;line-height:normal;font-family:Menlo,'DejaVu Sans Mono',consolas,'Courier New',monospace\"><span style=\"color: #7fbfbf\">           </span><span style=\"color: #000080\">INFO</span>     sys.path: <span style=\"color: #800080\">/usr/lib/</span><span style=\"color: #ff00ff\">python36.zip</span>                                                                                                  <a href=\"file:///home/itrushkin/.virtualenvs/fledge/lib/python3.6/site-packages/fledge/federated/plan/plan.py\"><span style=\"color: #7f7f7f\">plan.py</span></a><span style=\"color: #7f7f7f\">:145</span>\n",
       "</pre>\n"
      ],
      "text/plain": [
       "<rich.jupyter.JupyterRenderable at 0x7f7f412d34e0>"
      ]
     },
     "metadata": {},
     "output_type": "display_data"
    },
    {
     "data": {
      "text/html": [
       "<pre style=\"white-space:pre;overflow-x:auto;line-height:normal;font-family:Menlo,'DejaVu Sans Mono',consolas,'Courier New',monospace\"><span style=\"color: #7fbfbf\">           </span><span style=\"color: #000080\">INFO</span>     sys.path: <span style=\"color: #800080\">/usr/lib/</span><span style=\"color: #ff00ff\">python3.6</span>                                                                                                     <a href=\"file:///home/itrushkin/.virtualenvs/fledge/lib/python3.6/site-packages/fledge/federated/plan/plan.py\"><span style=\"color: #7f7f7f\">plan.py</span></a><span style=\"color: #7f7f7f\">:145</span>\n",
       "</pre>\n"
      ],
      "text/plain": [
       "<rich.jupyter.JupyterRenderable at 0x7f7f412d3be0>"
      ]
     },
     "metadata": {},
     "output_type": "display_data"
    },
    {
     "data": {
      "text/html": [
       "<pre style=\"white-space:pre;overflow-x:auto;line-height:normal;font-family:Menlo,'DejaVu Sans Mono',consolas,'Courier New',monospace\"><span style=\"color: #7fbfbf\">           </span><span style=\"color: #000080\">INFO</span>     sys.path: <span style=\"color: #800080\">/usr/lib/python3.6/</span><span style=\"color: #ff00ff\">lib-dynload</span>                                                                                         <a href=\"file:///home/itrushkin/.virtualenvs/fledge/lib/python3.6/site-packages/fledge/federated/plan/plan.py\"><span style=\"color: #7f7f7f\">plan.py</span></a><span style=\"color: #7f7f7f\">:145</span>\n",
       "</pre>\n"
      ],
      "text/plain": [
       "<rich.jupyter.JupyterRenderable at 0x7f7f412d3cc0>"
      ]
     },
     "metadata": {},
     "output_type": "display_data"
    },
    {
     "data": {
      "text/html": [
       "<pre style=\"white-space:pre;overflow-x:auto;line-height:normal;font-family:Menlo,'DejaVu Sans Mono',consolas,'Courier New',monospace\"><span style=\"color: #7fbfbf\">           </span><span style=\"color: #000080\">INFO</span>     sys.path:                                                                                                                        <a href=\"file:///home/itrushkin/.virtualenvs/fledge/lib/python3.6/site-packages/fledge/federated/plan/plan.py\"><span style=\"color: #7f7f7f\">plan.py</span></a><span style=\"color: #7f7f7f\">:145</span>\n",
       "</pre>\n"
      ],
      "text/plain": [
       "<rich.jupyter.JupyterRenderable at 0x7f7f412d3780>"
      ]
     },
     "metadata": {},
     "output_type": "display_data"
    },
    {
     "data": {
      "text/html": [
       "<pre style=\"white-space:pre;overflow-x:auto;line-height:normal;font-family:Menlo,'DejaVu Sans Mono',consolas,'Courier New',monospace\"><span style=\"color: #7fbfbf\">           </span><span style=\"color: #000080\">INFO</span>     sys.path: <span style=\"color: #800080\">/home/itrushkin/.virtualenvs/fledge/lib/python3.6/</span><span style=\"color: #ff00ff\">site-packages</span>                                                        <a href=\"file:///home/itrushkin/.virtualenvs/fledge/lib/python3.6/site-packages/fledge/federated/plan/plan.py\"><span style=\"color: #7f7f7f\">plan.py</span></a><span style=\"color: #7f7f7f\">:145</span>\n",
       "</pre>\n"
      ],
      "text/plain": [
       "<rich.jupyter.JupyterRenderable at 0x7f7f412d3ba8>"
      ]
     },
     "metadata": {},
     "output_type": "display_data"
    },
    {
     "data": {
      "text/html": [
       "<pre style=\"white-space:pre;overflow-x:auto;line-height:normal;font-family:Menlo,'DejaVu Sans Mono',consolas,'Courier New',monospace\"><span style=\"color: #7fbfbf\">           </span><span style=\"color: #000080\">INFO</span>     sys.path: <span style=\"color: #800080\">/home/itrushkin/.virtualenvs/fledge/lib/python3.6/site-packages/IPython/</span><span style=\"color: #ff00ff\">extensions</span>                                     <a href=\"file:///home/itrushkin/.virtualenvs/fledge/lib/python3.6/site-packages/fledge/federated/plan/plan.py\"><span style=\"color: #7f7f7f\">plan.py</span></a><span style=\"color: #7f7f7f\">:145</span>\n",
       "</pre>\n"
      ],
      "text/plain": [
       "<rich.jupyter.JupyterRenderable at 0x7f7f412d3c88>"
      ]
     },
     "metadata": {},
     "output_type": "display_data"
    },
    {
     "data": {
      "text/html": [
       "<pre style=\"white-space:pre;overflow-x:auto;line-height:normal;font-family:Menlo,'DejaVu Sans Mono',consolas,'Courier New',monospace\"><span style=\"color: #7fbfbf\">           </span><span style=\"color: #000080\">INFO</span>     sys.path: <span style=\"color: #800080\">/home/itrushkin/</span><span style=\"color: #ff00ff\">.ipython</span>                                                                                               <a href=\"file:///home/itrushkin/.virtualenvs/fledge/lib/python3.6/site-packages/fledge/federated/plan/plan.py\"><span style=\"color: #7f7f7f\">plan.py</span></a><span style=\"color: #7f7f7f\">:145</span>\n",
       "</pre>\n"
      ],
      "text/plain": [
       "<rich.jupyter.JupyterRenderable at 0x7f7f412d3400>"
      ]
     },
     "metadata": {},
     "output_type": "display_data"
    },
    {
     "data": {
      "text/html": [
       "<pre style=\"white-space:pre;overflow-x:auto;line-height:normal;font-family:Menlo,'DejaVu Sans Mono',consolas,'Courier New',monospace\"><span style=\"color: #7fbfbf\">           </span><span style=\"color: #000080\">INFO</span>     sys.path: <span style=\"color: #800080\">/home/itrushkin/.virtualenvs/fledge/lib/python3.6/site-packages/fledge/</span><span style=\"color: #ff00ff\">native</span>                                          <a href=\"file:///home/itrushkin/.virtualenvs/fledge/lib/python3.6/site-packages/fledge/federated/plan/plan.py\"><span style=\"color: #7f7f7f\">plan.py</span></a><span style=\"color: #7f7f7f\">:145</span>\n",
       "</pre>\n"
      ],
      "text/plain": [
       "<rich.jupyter.JupyterRenderable at 0x7f7f412d3a20>"
      ]
     },
     "metadata": {},
     "output_type": "display_data"
    },
    {
     "data": {
      "text/html": [
       "<pre style=\"white-space:pre;overflow-x:auto;line-height:normal;font-family:Menlo,'DejaVu Sans Mono',consolas,'Courier New',monospace\"><span style=\"color: #7fbfbf\">           </span><span style=\"color: #000080\">INFO</span>     Building <span style=\"color: #800000\">🡆</span> Object <span style=\"color: #800000\">NoCompressionPipeline</span> from <span style=\"color: #800000\">fledge.pipelines</span> Module.                                                            <a href=\"file:///home/itrushkin/.virtualenvs/fledge/lib/python3.6/site-packages/fledge/federated/plan/plan.py\"><span style=\"color: #7f7f7f\">plan.py</span></a><span style=\"color: #7f7f7f\">:150</span>\n",
       "</pre>\n"
      ],
      "text/plain": [
       "<rich.jupyter.JupyterRenderable at 0x7f7f412d3da0>"
      ]
     },
     "metadata": {},
     "output_type": "display_data"
    },
    {
     "data": {
      "text/html": [
       "<pre style=\"white-space:pre;overflow-x:auto;line-height:normal;font-family:Menlo,'DejaVu Sans Mono',consolas,'Courier New',monospace\"><span style=\"color: #7fbfbf\">           </span><span style=\"color: #000080\">INFO</span>     Settings <span style=\"color: #800000\">🡆</span> <span style=\"font-weight: bold\">{}</span>                                                                                                                    <a href=\"file:///home/itrushkin/.virtualenvs/fledge/lib/python3.6/site-packages/fledge/federated/plan/plan.py\"><span style=\"color: #7f7f7f\">plan.py</span></a><span style=\"color: #7f7f7f\">:151</span>\n",
       "</pre>\n"
      ],
      "text/plain": [
       "<rich.jupyter.JupyterRenderable at 0x7f7f412d3748>"
      ]
     },
     "metadata": {},
     "output_type": "display_data"
    },
    {
     "data": {
      "text/html": [
       "<pre style=\"white-space:pre;overflow-x:auto;line-height:normal;font-family:Menlo,'DejaVu Sans Mono',consolas,'Courier New',monospace\"><span style=\"color: #7fbfbf\">           </span><span style=\"color: #000080\">INFO</span>     Override <span style=\"color: #800000\">🡆</span> <span style=\"font-weight: bold\">{}</span>                                                                                                                    <a href=\"file:///home/itrushkin/.virtualenvs/fledge/lib/python3.6/site-packages/fledge/federated/plan/plan.py\"><span style=\"color: #7f7f7f\">plan.py</span></a><span style=\"color: #7f7f7f\">:152</span>\n",
       "</pre>\n"
      ],
      "text/plain": [
       "<rich.jupyter.JupyterRenderable at 0x7f7f412d3a20>"
      ]
     },
     "metadata": {},
     "output_type": "display_data"
    },
    {
     "data": {
      "text/html": [
       "<pre style=\"white-space:pre;overflow-x:auto;line-height:normal;font-family:Menlo,'DejaVu Sans Mono',consolas,'Courier New',monospace\"><span style=\"color: #7fbfbf\">           </span><span style=\"color: #000080\">INFO</span>     Creating Initial Weights File    🠆 save/keras_lenet_init.pbuf                                                            <a href=\"file:///home/itrushkin/.virtualenvs/fledge/lib/python3.6/site-packages/fledge/native/fastestimator.py\"><span style=\"color: #7f7f7f\">fastestimator.py</span></a><span style=\"color: #7f7f7f\">:56</span>\n",
       "</pre>\n"
      ],
      "text/plain": [
       "<rich.jupyter.JupyterRenderable at 0x7f7f412d36d8>"
      ]
     },
     "metadata": {},
     "output_type": "display_data"
    },
    {
     "data": {
      "text/html": [
       "<pre style=\"white-space:pre;overflow-x:auto;line-height:normal;font-family:Menlo,'DejaVu Sans Mono',consolas,'Courier New',monospace\"><span style=\"color: #7fbfbf\">           </span><span style=\"color: #000080\">INFO</span>     Starting Experiment<span style=\"color: #808000\">...</span>                                                                                                   <a href=\"file:///home/itrushkin/.virtualenvs/fledge/lib/python3.6/site-packages/fledge/native/fastestimator.py\"><span style=\"color: #7f7f7f\">fastestimator.py</span></a><span style=\"color: #7f7f7f\">:60</span>\n",
       "</pre>\n"
      ],
      "text/plain": [
       "<rich.jupyter.JupyterRenderable at 0x7f7f412d30b8>"
      ]
     },
     "metadata": {},
     "output_type": "display_data"
    },
    {
     "data": {
      "text/html": [
       "<pre style=\"white-space:pre;overflow-x:auto;line-height:normal;font-family:Menlo,'DejaVu Sans Mono',consolas,'Courier New',monospace\"><span style=\"color: #7fbfbf\">           </span><span style=\"color: #000080\">INFO</span>     sys.path: <span style=\"color: #800080\">/home/itrushkin/.local/</span><span style=\"color: #ff00ff\">workspace</span>                                                                                       <a href=\"file:///home/itrushkin/.virtualenvs/fledge/lib/python3.6/site-packages/fledge/federated/plan/plan.py\"><span style=\"color: #7f7f7f\">plan.py</span></a><span style=\"color: #7f7f7f\">:145</span>\n",
       "</pre>\n"
      ],
      "text/plain": [
       "<rich.jupyter.JupyterRenderable at 0x7f7f412d3b38>"
      ]
     },
     "metadata": {},
     "output_type": "display_data"
    },
    {
     "data": {
      "text/html": [
       "<pre style=\"white-space:pre;overflow-x:auto;line-height:normal;font-family:Menlo,'DejaVu Sans Mono',consolas,'Courier New',monospace\"><span style=\"color: #7fbfbf\">           </span><span style=\"color: #000080\">INFO</span>     sys.path: <span style=\"color: #800080\">/usr/lib/</span><span style=\"color: #ff00ff\">python36.zip</span>                                                                                                  <a href=\"file:///home/itrushkin/.virtualenvs/fledge/lib/python3.6/site-packages/fledge/federated/plan/plan.py\"><span style=\"color: #7f7f7f\">plan.py</span></a><span style=\"color: #7f7f7f\">:145</span>\n",
       "</pre>\n"
      ],
      "text/plain": [
       "<rich.jupyter.JupyterRenderable at 0x7f7f412d3c50>"
      ]
     },
     "metadata": {},
     "output_type": "display_data"
    },
    {
     "data": {
      "text/html": [
       "<pre style=\"white-space:pre;overflow-x:auto;line-height:normal;font-family:Menlo,'DejaVu Sans Mono',consolas,'Courier New',monospace\"><span style=\"color: #7fbfbf\">           </span><span style=\"color: #000080\">INFO</span>     sys.path: <span style=\"color: #800080\">/usr/lib/</span><span style=\"color: #ff00ff\">python3.6</span>                                                                                                     <a href=\"file:///home/itrushkin/.virtualenvs/fledge/lib/python3.6/site-packages/fledge/federated/plan/plan.py\"><span style=\"color: #7f7f7f\">plan.py</span></a><span style=\"color: #7f7f7f\">:145</span>\n",
       "</pre>\n"
      ],
      "text/plain": [
       "<rich.jupyter.JupyterRenderable at 0x7f7f412d3b38>"
      ]
     },
     "metadata": {},
     "output_type": "display_data"
    },
    {
     "data": {
      "text/html": [
       "<pre style=\"white-space:pre;overflow-x:auto;line-height:normal;font-family:Menlo,'DejaVu Sans Mono',consolas,'Courier New',monospace\"><span style=\"color: #7fbfbf\">           </span><span style=\"color: #000080\">INFO</span>     sys.path: <span style=\"color: #800080\">/usr/lib/python3.6/</span><span style=\"color: #ff00ff\">lib-dynload</span>                                                                                         <a href=\"file:///home/itrushkin/.virtualenvs/fledge/lib/python3.6/site-packages/fledge/federated/plan/plan.py\"><span style=\"color: #7f7f7f\">plan.py</span></a><span style=\"color: #7f7f7f\">:145</span>\n",
       "</pre>\n"
      ],
      "text/plain": [
       "<rich.jupyter.JupyterRenderable at 0x7f7f412d3c50>"
      ]
     },
     "metadata": {},
     "output_type": "display_data"
    },
    {
     "data": {
      "text/html": [
       "<pre style=\"white-space:pre;overflow-x:auto;line-height:normal;font-family:Menlo,'DejaVu Sans Mono',consolas,'Courier New',monospace\"><span style=\"color: #7fbfbf\">           </span><span style=\"color: #000080\">INFO</span>     sys.path:                                                                                                                        <a href=\"file:///home/itrushkin/.virtualenvs/fledge/lib/python3.6/site-packages/fledge/federated/plan/plan.py\"><span style=\"color: #7f7f7f\">plan.py</span></a><span style=\"color: #7f7f7f\">:145</span>\n",
       "</pre>\n"
      ],
      "text/plain": [
       "<rich.jupyter.JupyterRenderable at 0x7f7f412d3630>"
      ]
     },
     "metadata": {},
     "output_type": "display_data"
    },
    {
     "data": {
      "text/html": [
       "<pre style=\"white-space:pre;overflow-x:auto;line-height:normal;font-family:Menlo,'DejaVu Sans Mono',consolas,'Courier New',monospace\"><span style=\"color: #7fbfbf\">           </span><span style=\"color: #000080\">INFO</span>     sys.path: <span style=\"color: #800080\">/home/itrushkin/.virtualenvs/fledge/lib/python3.6/</span><span style=\"color: #ff00ff\">site-packages</span>                                                        <a href=\"file:///home/itrushkin/.virtualenvs/fledge/lib/python3.6/site-packages/fledge/federated/plan/plan.py\"><span style=\"color: #7f7f7f\">plan.py</span></a><span style=\"color: #7f7f7f\">:145</span>\n",
       "</pre>\n"
      ],
      "text/plain": [
       "<rich.jupyter.JupyterRenderable at 0x7f7f412d3588>"
      ]
     },
     "metadata": {},
     "output_type": "display_data"
    },
    {
     "data": {
      "text/html": [
       "<pre style=\"white-space:pre;overflow-x:auto;line-height:normal;font-family:Menlo,'DejaVu Sans Mono',consolas,'Courier New',monospace\"><span style=\"color: #7fbfbf\">           </span><span style=\"color: #000080\">INFO</span>     sys.path: <span style=\"color: #800080\">/home/itrushkin/.virtualenvs/fledge/lib/python3.6/site-packages/IPython/</span><span style=\"color: #ff00ff\">extensions</span>                                     <a href=\"file:///home/itrushkin/.virtualenvs/fledge/lib/python3.6/site-packages/fledge/federated/plan/plan.py\"><span style=\"color: #7f7f7f\">plan.py</span></a><span style=\"color: #7f7f7f\">:145</span>\n",
       "</pre>\n"
      ],
      "text/plain": [
       "<rich.jupyter.JupyterRenderable at 0x7f7f412d3ac8>"
      ]
     },
     "metadata": {},
     "output_type": "display_data"
    },
    {
     "data": {
      "text/html": [
       "<pre style=\"white-space:pre;overflow-x:auto;line-height:normal;font-family:Menlo,'DejaVu Sans Mono',consolas,'Courier New',monospace\"><span style=\"color: #7fbfbf\">           </span><span style=\"color: #000080\">INFO</span>     sys.path: <span style=\"color: #800080\">/home/itrushkin/</span><span style=\"color: #ff00ff\">.ipython</span>                                                                                               <a href=\"file:///home/itrushkin/.virtualenvs/fledge/lib/python3.6/site-packages/fledge/federated/plan/plan.py\"><span style=\"color: #7f7f7f\">plan.py</span></a><span style=\"color: #7f7f7f\">:145</span>\n",
       "</pre>\n"
      ],
      "text/plain": [
       "<rich.jupyter.JupyterRenderable at 0x7f7f412d38d0>"
      ]
     },
     "metadata": {},
     "output_type": "display_data"
    },
    {
     "data": {
      "text/html": [
       "<pre style=\"white-space:pre;overflow-x:auto;line-height:normal;font-family:Menlo,'DejaVu Sans Mono',consolas,'Courier New',monospace\"><span style=\"color: #7fbfbf\">           </span><span style=\"color: #000080\">INFO</span>     sys.path: <span style=\"color: #800080\">/home/itrushkin/.virtualenvs/fledge/lib/python3.6/site-packages/fledge/</span><span style=\"color: #ff00ff\">native</span>                                          <a href=\"file:///home/itrushkin/.virtualenvs/fledge/lib/python3.6/site-packages/fledge/federated/plan/plan.py\"><span style=\"color: #7f7f7f\">plan.py</span></a><span style=\"color: #7f7f7f\">:145</span>\n",
       "</pre>\n"
      ],
      "text/plain": [
       "<rich.jupyter.JupyterRenderable at 0x7f7f412d3b38>"
      ]
     },
     "metadata": {},
     "output_type": "display_data"
    },
    {
     "data": {
      "text/html": [
       "<pre style=\"white-space:pre;overflow-x:auto;line-height:normal;font-family:Menlo,'DejaVu Sans Mono',consolas,'Courier New',monospace\"><span style=\"color: #7fbfbf\">           </span><span style=\"color: #000080\">INFO</span>     Building <span style=\"color: #800000\">🡆</span> Object <span style=\"color: #800000\">RandomGroupedAssigner</span> from <span style=\"color: #800000\">fledge.component</span> Module.                                                            <a href=\"file:///home/itrushkin/.virtualenvs/fledge/lib/python3.6/site-packages/fledge/federated/plan/plan.py\"><span style=\"color: #7f7f7f\">plan.py</span></a><span style=\"color: #7f7f7f\">:150</span>\n",
       "</pre>\n"
      ],
      "text/plain": [
       "<rich.jupyter.JupyterRenderable at 0x7f7f412d3ac8>"
      ]
     },
     "metadata": {},
     "output_type": "display_data"
    },
    {
     "data": {
      "text/html": [
       "<pre style=\"white-space:pre;overflow-x:auto;line-height:normal;font-family:Menlo,'DejaVu Sans Mono',consolas,'Courier New',monospace\"><span style=\"color: #7fbfbf\">           </span><span style=\"color: #000080\">INFO</span>     Settings <span style=\"color: #800000\">🡆</span> <span style=\"font-weight: bold\">{</span><span style=\"color: #008000\">'task_groups'</span>: <span style=\"font-weight: bold\">[{</span><span style=\"color: #008000\">'name'</span>: <span style=\"color: #008000\">'train_and_validate'</span>, <span style=\"color: #008000\">'percentage'</span>: <span style=\"color: #000080; font-weight: bold\">1.0</span>, <span style=\"color: #008000\">'tasks'</span>: <span style=\"font-weight: bold\">[</span><span style=\"color: #008000\">'aggregated_model_validation'</span>, <span style=\"color: #008000\">'train'</span>,  <a href=\"file:///home/itrushkin/.virtualenvs/fledge/lib/python3.6/site-packages/fledge/federated/plan/plan.py\"><span style=\"color: #7f7f7f\">plan.py</span></a><span style=\"color: #7f7f7f\">:151</span>\n",
       "                    <span style=\"color: #008000\">'locally_tuned_model_validation'</span><span style=\"font-weight: bold\">]}]</span>, <span style=\"color: #008000\">'authorized_cols'</span>: <span style=\"font-weight: bold\">[</span><span style=\"color: #008000\">'one'</span>, <span style=\"color: #008000\">'two'</span><span style=\"font-weight: bold\">]</span>, <span style=\"color: #008000\">'rounds_to_train'</span>: <span style=\"color: #000080; font-weight: bold\">10</span>, <span style=\"color: #008000\">'tasks'</span>:                                     \n",
       "                    <span style=\"font-weight: bold\">{</span><span style=\"color: #008000\">'aggregated_model_validation'</span>: <span style=\"font-weight: bold\">{</span><span style=\"color: #008000\">'function'</span>: <span style=\"color: #008000\">'validate'</span>, <span style=\"color: #008000\">'kwargs'</span>: <span style=\"font-weight: bold\">{</span><span style=\"color: #008000\">'batch_size'</span>: <span style=\"color: #000080; font-weight: bold\">32</span>, <span style=\"color: #008000\">'apply'</span>: <span style=\"color: #008000\">'global'</span>, <span style=\"color: #008000\">'metrics'</span>:                         \n",
       "                    <span style=\"font-weight: bold\">[</span><span style=\"color: #008000\">'clean_accuracy'</span>, <span style=\"color: #008000\">'adversarial_accuracy'</span><span style=\"font-weight: bold\">]}}</span>, <span style=\"color: #008000\">'locally_tuned_model_validation'</span>: <span style=\"font-weight: bold\">{</span><span style=\"color: #008000\">'function'</span>: <span style=\"color: #008000\">'validate'</span>, <span style=\"color: #008000\">'kwargs'</span>:                          \n",
       "                    <span style=\"font-weight: bold\">{</span><span style=\"color: #008000\">'batch_size'</span>: <span style=\"color: #000080; font-weight: bold\">32</span>, <span style=\"color: #008000\">'apply'</span>: <span style=\"color: #008000\">'local'</span>, <span style=\"color: #008000\">'metrics'</span>: <span style=\"font-weight: bold\">[</span><span style=\"color: #008000\">'clean_accuracy'</span>, <span style=\"color: #008000\">'adversarial_accuracy'</span><span style=\"font-weight: bold\">]}}</span>, <span style=\"color: #008000\">'train'</span>: <span style=\"font-weight: bold\">{</span><span style=\"color: #008000\">'function'</span>: <span style=\"color: #008000\">'train'</span>,                \n",
       "                    <span style=\"color: #008000\">'kwargs'</span>: <span style=\"font-weight: bold\">{</span><span style=\"color: #008000\">'batch_size'</span>: <span style=\"color: #000080; font-weight: bold\">32</span>, <span style=\"color: #008000\">'epochs'</span>: <span style=\"color: #000080; font-weight: bold\">1</span>, <span style=\"color: #008000\">'metrics'</span>: <span style=\"font-weight: bold\">[</span><span style=\"color: #008000\">'adv_ce'</span>, <span style=\"color: #008000\">'base_ce'</span><span style=\"font-weight: bold\">]}}</span>, <span style=\"color: #008000\">'defaults'</span>:                                                   \n",
       "                    <span style=\"color: #008000\">'plan/defaults/tasks_fast_estimator.yaml'</span>, <span style=\"color: #008000\">'settings'</span>: <span style=\"font-weight: bold\">{}}}</span>                                                                                 \n",
       "</pre>\n"
      ],
      "text/plain": [
       "<rich.jupyter.JupyterRenderable at 0x7f7f412b28d0>"
      ]
     },
     "metadata": {},
     "output_type": "display_data"
    },
    {
     "data": {
      "text/html": [
       "<pre style=\"white-space:pre;overflow-x:auto;line-height:normal;font-family:Menlo,'DejaVu Sans Mono',consolas,'Courier New',monospace\"><span style=\"color: #7fbfbf\">           </span><span style=\"color: #000080\">INFO</span>     Override <span style=\"color: #800000\">🡆</span> <span style=\"font-weight: bold\">{</span><span style=\"color: #008000\">'defaults'</span>: <span style=\"color: #008000\">'plan/defaults/assigner.yaml'</span><span style=\"font-weight: bold\">}</span>                                                                           <a href=\"file:///home/itrushkin/.virtualenvs/fledge/lib/python3.6/site-packages/fledge/federated/plan/plan.py\"><span style=\"color: #7f7f7f\">plan.py</span></a><span style=\"color: #7f7f7f\">:152</span>\n",
       "</pre>\n"
      ],
      "text/plain": [
       "<rich.jupyter.JupyterRenderable at 0x7f7f412b6390>"
      ]
     },
     "metadata": {},
     "output_type": "display_data"
    },
    {
     "data": {
      "text/html": [
       "<pre style=\"white-space:pre;overflow-x:auto;line-height:normal;font-family:Menlo,'DejaVu Sans Mono',consolas,'Courier New',monospace\"><span style=\"color: #7fbfbf\">           </span><span style=\"color: #000080\">INFO</span>     sys.path: <span style=\"color: #800080\">/home/itrushkin/.local/</span><span style=\"color: #ff00ff\">workspace</span>                                                                                       <a href=\"file:///home/itrushkin/.virtualenvs/fledge/lib/python3.6/site-packages/fledge/federated/plan/plan.py\"><span style=\"color: #7f7f7f\">plan.py</span></a><span style=\"color: #7f7f7f\">:145</span>\n",
       "</pre>\n"
      ],
      "text/plain": [
       "<rich.jupyter.JupyterRenderable at 0x7f7f412b6128>"
      ]
     },
     "metadata": {},
     "output_type": "display_data"
    },
    {
     "data": {
      "text/html": [
       "<pre style=\"white-space:pre;overflow-x:auto;line-height:normal;font-family:Menlo,'DejaVu Sans Mono',consolas,'Courier New',monospace\"><span style=\"color: #7fbfbf\">           </span><span style=\"color: #000080\">INFO</span>     sys.path: <span style=\"color: #800080\">/usr/lib/</span><span style=\"color: #ff00ff\">python36.zip</span>                                                                                                  <a href=\"file:///home/itrushkin/.virtualenvs/fledge/lib/python3.6/site-packages/fledge/federated/plan/plan.py\"><span style=\"color: #7f7f7f\">plan.py</span></a><span style=\"color: #7f7f7f\">:145</span>\n",
       "</pre>\n"
      ],
      "text/plain": [
       "<rich.jupyter.JupyterRenderable at 0x7f7f412b6400>"
      ]
     },
     "metadata": {},
     "output_type": "display_data"
    },
    {
     "data": {
      "text/html": [
       "<pre style=\"white-space:pre;overflow-x:auto;line-height:normal;font-family:Menlo,'DejaVu Sans Mono',consolas,'Courier New',monospace\"><span style=\"color: #7fbfbf\">           </span><span style=\"color: #000080\">INFO</span>     sys.path: <span style=\"color: #800080\">/usr/lib/</span><span style=\"color: #ff00ff\">python3.6</span>                                                                                                     <a href=\"file:///home/itrushkin/.virtualenvs/fledge/lib/python3.6/site-packages/fledge/federated/plan/plan.py\"><span style=\"color: #7f7f7f\">plan.py</span></a><span style=\"color: #7f7f7f\">:145</span>\n",
       "</pre>\n"
      ],
      "text/plain": [
       "<rich.jupyter.JupyterRenderable at 0x7f7f412b69b0>"
      ]
     },
     "metadata": {},
     "output_type": "display_data"
    },
    {
     "data": {
      "text/html": [
       "<pre style=\"white-space:pre;overflow-x:auto;line-height:normal;font-family:Menlo,'DejaVu Sans Mono',consolas,'Courier New',monospace\"><span style=\"color: #7fbfbf\">           </span><span style=\"color: #000080\">INFO</span>     sys.path: <span style=\"color: #800080\">/usr/lib/python3.6/</span><span style=\"color: #ff00ff\">lib-dynload</span>                                                                                         <a href=\"file:///home/itrushkin/.virtualenvs/fledge/lib/python3.6/site-packages/fledge/federated/plan/plan.py\"><span style=\"color: #7f7f7f\">plan.py</span></a><span style=\"color: #7f7f7f\">:145</span>\n",
       "</pre>\n"
      ],
      "text/plain": [
       "<rich.jupyter.JupyterRenderable at 0x7f7f412b6a58>"
      ]
     },
     "metadata": {},
     "output_type": "display_data"
    },
    {
     "data": {
      "text/html": [
       "<pre style=\"white-space:pre;overflow-x:auto;line-height:normal;font-family:Menlo,'DejaVu Sans Mono',consolas,'Courier New',monospace\"><span style=\"color: #7fbfbf\">           </span><span style=\"color: #000080\">INFO</span>     sys.path:                                                                                                                        <a href=\"file:///home/itrushkin/.virtualenvs/fledge/lib/python3.6/site-packages/fledge/federated/plan/plan.py\"><span style=\"color: #7f7f7f\">plan.py</span></a><span style=\"color: #7f7f7f\">:145</span>\n",
       "</pre>\n"
      ],
      "text/plain": [
       "<rich.jupyter.JupyterRenderable at 0x7f7f412b6a20>"
      ]
     },
     "metadata": {},
     "output_type": "display_data"
    },
    {
     "data": {
      "text/html": [
       "<pre style=\"white-space:pre;overflow-x:auto;line-height:normal;font-family:Menlo,'DejaVu Sans Mono',consolas,'Courier New',monospace\"><span style=\"color: #7fbfbf\">           </span><span style=\"color: #000080\">INFO</span>     sys.path: <span style=\"color: #800080\">/home/itrushkin/.virtualenvs/fledge/lib/python3.6/</span><span style=\"color: #ff00ff\">site-packages</span>                                                        <a href=\"file:///home/itrushkin/.virtualenvs/fledge/lib/python3.6/site-packages/fledge/federated/plan/plan.py\"><span style=\"color: #7f7f7f\">plan.py</span></a><span style=\"color: #7f7f7f\">:145</span>\n",
       "</pre>\n"
      ],
      "text/plain": [
       "<rich.jupyter.JupyterRenderable at 0x7f7f412b6e10>"
      ]
     },
     "metadata": {},
     "output_type": "display_data"
    },
    {
     "data": {
      "text/html": [
       "<pre style=\"white-space:pre;overflow-x:auto;line-height:normal;font-family:Menlo,'DejaVu Sans Mono',consolas,'Courier New',monospace\"><span style=\"color: #7fbfbf\">           </span><span style=\"color: #000080\">INFO</span>     sys.path: <span style=\"color: #800080\">/home/itrushkin/.virtualenvs/fledge/lib/python3.6/site-packages/IPython/</span><span style=\"color: #ff00ff\">extensions</span>                                     <a href=\"file:///home/itrushkin/.virtualenvs/fledge/lib/python3.6/site-packages/fledge/federated/plan/plan.py\"><span style=\"color: #7f7f7f\">plan.py</span></a><span style=\"color: #7f7f7f\">:145</span>\n",
       "</pre>\n"
      ],
      "text/plain": [
       "<rich.jupyter.JupyterRenderable at 0x7f7f412b6400>"
      ]
     },
     "metadata": {},
     "output_type": "display_data"
    },
    {
     "data": {
      "text/html": [
       "<pre style=\"white-space:pre;overflow-x:auto;line-height:normal;font-family:Menlo,'DejaVu Sans Mono',consolas,'Courier New',monospace\"><span style=\"color: #7fbfbf\">           </span><span style=\"color: #000080\">INFO</span>     sys.path: <span style=\"color: #800080\">/home/itrushkin/</span><span style=\"color: #ff00ff\">.ipython</span>                                                                                               <a href=\"file:///home/itrushkin/.virtualenvs/fledge/lib/python3.6/site-packages/fledge/federated/plan/plan.py\"><span style=\"color: #7f7f7f\">plan.py</span></a><span style=\"color: #7f7f7f\">:145</span>\n",
       "</pre>\n"
      ],
      "text/plain": [
       "<rich.jupyter.JupyterRenderable at 0x7f7f412b69b0>"
      ]
     },
     "metadata": {},
     "output_type": "display_data"
    },
    {
     "data": {
      "text/html": [
       "<pre style=\"white-space:pre;overflow-x:auto;line-height:normal;font-family:Menlo,'DejaVu Sans Mono',consolas,'Courier New',monospace\"><span style=\"color: #7fbfbf\">           </span><span style=\"color: #000080\">INFO</span>     sys.path: <span style=\"color: #800080\">/home/itrushkin/.virtualenvs/fledge/lib/python3.6/site-packages/fledge/</span><span style=\"color: #ff00ff\">native</span>                                          <a href=\"file:///home/itrushkin/.virtualenvs/fledge/lib/python3.6/site-packages/fledge/federated/plan/plan.py\"><span style=\"color: #7f7f7f\">plan.py</span></a><span style=\"color: #7f7f7f\">:145</span>\n",
       "</pre>\n"
      ],
      "text/plain": [
       "<rich.jupyter.JupyterRenderable at 0x7f7f412b6a58>"
      ]
     },
     "metadata": {},
     "output_type": "display_data"
    },
    {
     "data": {
      "text/html": [
       "<pre style=\"white-space:pre;overflow-x:auto;line-height:normal;font-family:Menlo,'DejaVu Sans Mono',consolas,'Courier New',monospace\"><span style=\"color: #7fbfbf\">           </span><span style=\"color: #000080\">INFO</span>     Building <span style=\"color: #800000\">🡆</span> Object <span style=\"color: #800000\">Aggregator</span> from <span style=\"color: #800000\">fledge.component</span> Module.                                                                       <a href=\"file:///home/itrushkin/.virtualenvs/fledge/lib/python3.6/site-packages/fledge/federated/plan/plan.py\"><span style=\"color: #7f7f7f\">plan.py</span></a><span style=\"color: #7f7f7f\">:150</span>\n",
       "</pre>\n"
      ],
      "text/plain": [
       "<rich.jupyter.JupyterRenderable at 0x7f7f412b6fd0>"
      ]
     },
     "metadata": {},
     "output_type": "display_data"
    },
    {
     "data": {
      "text/html": [
       "<pre style=\"white-space:pre;overflow-x:auto;line-height:normal;font-family:Menlo,'DejaVu Sans Mono',consolas,'Courier New',monospace\"><span style=\"color: #7fbfbf\">           </span><span style=\"color: #000080\">INFO</span>     Settings <span style=\"color: #800000\">🡆</span> <span style=\"font-weight: bold\">{</span><span style=\"color: #008000\">'init_state_path'</span>: <span style=\"color: #008000\">'save/keras_lenet_init.pbuf'</span>, <span style=\"color: #008000\">'best_state_path'</span>: <span style=\"color: #008000\">'save/keras_lenet_best.pbuf'</span>, <span style=\"color: #008000\">'last_state_path'</span>: <a href=\"file:///home/itrushkin/.virtualenvs/fledge/lib/python3.6/site-packages/fledge/federated/plan/plan.py\"><span style=\"color: #7f7f7f\">plan.py</span></a><span style=\"color: #7f7f7f\">:151</span>\n",
       "                    <span style=\"color: #008000\">'save/keras_lenet_last.pbuf'</span>, <span style=\"color: #008000\">'rounds_to_train'</span>: <span style=\"color: #000080; font-weight: bold\">10</span>, <span style=\"color: #008000\">'aggregator_uuid'</span>: <span style=\"color: #008000\">'aggregator_plan.yaml_9a472938'</span>, <span style=\"color: #008000\">'federation_uuid'</span>:                 \n",
       "                    <span style=\"color: #008000\">'plan.yaml_9a472938'</span>, <span style=\"color: #008000\">'authorized_cols'</span>: <span style=\"font-weight: bold\">[</span><span style=\"color: #008000\">'one'</span>, <span style=\"color: #008000\">'two'</span><span style=\"font-weight: bold\">]</span>, <span style=\"color: #008000\">'assigner'</span>:                                                                        \n",
       "                    <span style=\"font-weight: bold\">&lt;</span><span style=\"color: #ff00ff; font-weight: bold\">fledge.component.assigner.random_grouped_assigner.RandomGroupedAssigner</span><span style=\"color: #000000\"> object at </span><span style=\"color: #000080; font-weight: bold\">0x7f7f412b6be0</span><span style=\"font-weight: bold\">&gt;}</span>                                         \n",
       "</pre>\n"
      ],
      "text/plain": [
       "<rich.jupyter.JupyterRenderable at 0x7f7f412b2390>"
      ]
     },
     "metadata": {},
     "output_type": "display_data"
    },
    {
     "data": {
      "text/html": [
       "<pre style=\"white-space:pre;overflow-x:auto;line-height:normal;font-family:Menlo,'DejaVu Sans Mono',consolas,'Courier New',monospace\"><span style=\"color: #7fbfbf\">           </span><span style=\"color: #000080\">INFO</span>     Override <span style=\"color: #800000\">🡆</span> <span style=\"font-weight: bold\">{</span><span style=\"color: #008000\">'defaults'</span>: <span style=\"color: #008000\">'plan/defaults/aggregator.yaml'</span><span style=\"font-weight: bold\">}</span>                                                                         <a href=\"file:///home/itrushkin/.virtualenvs/fledge/lib/python3.6/site-packages/fledge/federated/plan/plan.py\"><span style=\"color: #7f7f7f\">plan.py</span></a><span style=\"color: #7f7f7f\">:152</span>\n",
       "</pre>\n"
      ],
      "text/plain": [
       "<rich.jupyter.JupyterRenderable at 0x7f7f412b2710>"
      ]
     },
     "metadata": {},
     "output_type": "display_data"
    },
    {
     "data": {
      "text/html": [
       "<pre style=\"white-space:pre;overflow-x:auto;line-height:normal;font-family:Menlo,'DejaVu Sans Mono',consolas,'Courier New',monospace\"><span style=\"color: #7fbfbf\">           </span><span style=\"color: #800000\">WARNING</span>  tried to remove tensor: __opt_state_needed not present in the tensor dict                                                        <a href=\"file:///home/itrushkin/.virtualenvs/fledge/lib/python3.6/site-packages/fledge/utilities/utils.py\"><span style=\"color: #7f7f7f\">utils.py</span></a><span style=\"color: #7f7f7f\">:54</span>\n",
       "</pre>\n"
      ],
      "text/plain": [
       "<rich.jupyter.JupyterRenderable at 0x7f7f412b6978>"
      ]
     },
     "metadata": {},
     "output_type": "display_data"
    },
    {
     "data": {
      "text/html": [
       "<pre style=\"white-space:pre;overflow-x:auto;line-height:normal;font-family:Menlo,'DejaVu Sans Mono',consolas,'Courier New',monospace\"><span style=\"color: #7fbfbf\">           </span><span style=\"color: #800000\">WARNING</span>  tried to remove tensor: __opt_state_needed not present in the tensor dict                                                        <a href=\"file:///home/itrushkin/.virtualenvs/fledge/lib/python3.6/site-packages/fledge/utilities/utils.py\"><span style=\"color: #7f7f7f\">utils.py</span></a><span style=\"color: #7f7f7f\">:54</span>\n",
       "</pre>\n"
      ],
      "text/plain": [
       "<rich.jupyter.JupyterRenderable at 0x7f7db4705fd0>"
      ]
     },
     "metadata": {},
     "output_type": "display_data"
    },
    {
     "data": {
      "text/html": [
       "<pre style=\"white-space:pre;overflow-x:auto;line-height:normal;font-family:Menlo,'DejaVu Sans Mono',consolas,'Courier New',monospace\"><span style=\"color: #7fbfbf\">           </span><span style=\"color: #000080\">INFO</span>     sys.path: <span style=\"color: #800080\">/home/itrushkin/.local/</span><span style=\"color: #ff00ff\">workspace</span>                                                                                       <a href=\"file:///home/itrushkin/.virtualenvs/fledge/lib/python3.6/site-packages/fledge/federated/plan/plan.py\"><span style=\"color: #7f7f7f\">plan.py</span></a><span style=\"color: #7f7f7f\">:145</span>\n",
       "</pre>\n"
      ],
      "text/plain": [
       "<rich.jupyter.JupyterRenderable at 0x7f7f410e2710>"
      ]
     },
     "metadata": {},
     "output_type": "display_data"
    },
    {
     "data": {
      "text/html": [
       "<pre style=\"white-space:pre;overflow-x:auto;line-height:normal;font-family:Menlo,'DejaVu Sans Mono',consolas,'Courier New',monospace\"><span style=\"color: #7fbfbf\">           </span><span style=\"color: #000080\">INFO</span>     sys.path: <span style=\"color: #800080\">/usr/lib/</span><span style=\"color: #ff00ff\">python36.zip</span>                                                                                                  <a href=\"file:///home/itrushkin/.virtualenvs/fledge/lib/python3.6/site-packages/fledge/federated/plan/plan.py\"><span style=\"color: #7f7f7f\">plan.py</span></a><span style=\"color: #7f7f7f\">:145</span>\n",
       "</pre>\n"
      ],
      "text/plain": [
       "<rich.jupyter.JupyterRenderable at 0x7f7f410e25f8>"
      ]
     },
     "metadata": {},
     "output_type": "display_data"
    },
    {
     "data": {
      "text/html": [
       "<pre style=\"white-space:pre;overflow-x:auto;line-height:normal;font-family:Menlo,'DejaVu Sans Mono',consolas,'Courier New',monospace\"><span style=\"color: #7fbfbf\">           </span><span style=\"color: #000080\">INFO</span>     sys.path: <span style=\"color: #800080\">/usr/lib/</span><span style=\"color: #ff00ff\">python3.6</span>                                                                                                     <a href=\"file:///home/itrushkin/.virtualenvs/fledge/lib/python3.6/site-packages/fledge/federated/plan/plan.py\"><span style=\"color: #7f7f7f\">plan.py</span></a><span style=\"color: #7f7f7f\">:145</span>\n",
       "</pre>\n"
      ],
      "text/plain": [
       "<rich.jupyter.JupyterRenderable at 0x7f7f410e2710>"
      ]
     },
     "metadata": {},
     "output_type": "display_data"
    },
    {
     "data": {
      "text/html": [
       "<pre style=\"white-space:pre;overflow-x:auto;line-height:normal;font-family:Menlo,'DejaVu Sans Mono',consolas,'Courier New',monospace\"><span style=\"color: #7fbfbf\">           </span><span style=\"color: #000080\">INFO</span>     sys.path: <span style=\"color: #800080\">/usr/lib/python3.6/</span><span style=\"color: #ff00ff\">lib-dynload</span>                                                                                         <a href=\"file:///home/itrushkin/.virtualenvs/fledge/lib/python3.6/site-packages/fledge/federated/plan/plan.py\"><span style=\"color: #7f7f7f\">plan.py</span></a><span style=\"color: #7f7f7f\">:145</span>\n",
       "</pre>\n"
      ],
      "text/plain": [
       "<rich.jupyter.JupyterRenderable at 0x7f7f410e27f0>"
      ]
     },
     "metadata": {},
     "output_type": "display_data"
    },
    {
     "data": {
      "text/html": [
       "<pre style=\"white-space:pre;overflow-x:auto;line-height:normal;font-family:Menlo,'DejaVu Sans Mono',consolas,'Courier New',monospace\"><span style=\"color: #7fbfbf\">           </span><span style=\"color: #000080\">INFO</span>     sys.path:                                                                                                                        <a href=\"file:///home/itrushkin/.virtualenvs/fledge/lib/python3.6/site-packages/fledge/federated/plan/plan.py\"><span style=\"color: #7f7f7f\">plan.py</span></a><span style=\"color: #7f7f7f\">:145</span>\n",
       "</pre>\n"
      ],
      "text/plain": [
       "<rich.jupyter.JupyterRenderable at 0x7f7f410e2710>"
      ]
     },
     "metadata": {},
     "output_type": "display_data"
    },
    {
     "data": {
      "text/html": [
       "<pre style=\"white-space:pre;overflow-x:auto;line-height:normal;font-family:Menlo,'DejaVu Sans Mono',consolas,'Courier New',monospace\"><span style=\"color: #7fbfbf\">           </span><span style=\"color: #000080\">INFO</span>     sys.path: <span style=\"color: #800080\">/home/itrushkin/.virtualenvs/fledge/lib/python3.6/</span><span style=\"color: #ff00ff\">site-packages</span>                                                        <a href=\"file:///home/itrushkin/.virtualenvs/fledge/lib/python3.6/site-packages/fledge/federated/plan/plan.py\"><span style=\"color: #7f7f7f\">plan.py</span></a><span style=\"color: #7f7f7f\">:145</span>\n",
       "</pre>\n"
      ],
      "text/plain": [
       "<rich.jupyter.JupyterRenderable at 0x7f7f410e27f0>"
      ]
     },
     "metadata": {},
     "output_type": "display_data"
    },
    {
     "data": {
      "text/html": [
       "<pre style=\"white-space:pre;overflow-x:auto;line-height:normal;font-family:Menlo,'DejaVu Sans Mono',consolas,'Courier New',monospace\"><span style=\"color: #7fbfbf\">           </span><span style=\"color: #000080\">INFO</span>     sys.path: <span style=\"color: #800080\">/home/itrushkin/.virtualenvs/fledge/lib/python3.6/site-packages/IPython/</span><span style=\"color: #ff00ff\">extensions</span>                                     <a href=\"file:///home/itrushkin/.virtualenvs/fledge/lib/python3.6/site-packages/fledge/federated/plan/plan.py\"><span style=\"color: #7f7f7f\">plan.py</span></a><span style=\"color: #7f7f7f\">:145</span>\n",
       "</pre>\n"
      ],
      "text/plain": [
       "<rich.jupyter.JupyterRenderable at 0x7f7f410e25f8>"
      ]
     },
     "metadata": {},
     "output_type": "display_data"
    },
    {
     "data": {
      "text/html": [
       "<pre style=\"white-space:pre;overflow-x:auto;line-height:normal;font-family:Menlo,'DejaVu Sans Mono',consolas,'Courier New',monospace\"><span style=\"color: #7fbfbf\">           </span><span style=\"color: #000080\">INFO</span>     sys.path: <span style=\"color: #800080\">/home/itrushkin/</span><span style=\"color: #ff00ff\">.ipython</span>                                                                                               <a href=\"file:///home/itrushkin/.virtualenvs/fledge/lib/python3.6/site-packages/fledge/federated/plan/plan.py\"><span style=\"color: #7f7f7f\">plan.py</span></a><span style=\"color: #7f7f7f\">:145</span>\n",
       "</pre>\n"
      ],
      "text/plain": [
       "<rich.jupyter.JupyterRenderable at 0x7f7f410e27f0>"
      ]
     },
     "metadata": {},
     "output_type": "display_data"
    },
    {
     "data": {
      "text/html": [
       "<pre style=\"white-space:pre;overflow-x:auto;line-height:normal;font-family:Menlo,'DejaVu Sans Mono',consolas,'Courier New',monospace\"><span style=\"color: #7fbfbf\">           </span><span style=\"color: #000080\">INFO</span>     sys.path: <span style=\"color: #800080\">/home/itrushkin/.virtualenvs/fledge/lib/python3.6/site-packages/fledge/</span><span style=\"color: #ff00ff\">native</span>                                          <a href=\"file:///home/itrushkin/.virtualenvs/fledge/lib/python3.6/site-packages/fledge/federated/plan/plan.py\"><span style=\"color: #7f7f7f\">plan.py</span></a><span style=\"color: #7f7f7f\">:145</span>\n",
       "</pre>\n"
      ],
      "text/plain": [
       "<rich.jupyter.JupyterRenderable at 0x7f7f410e2940>"
      ]
     },
     "metadata": {},
     "output_type": "display_data"
    },
    {
     "data": {
      "text/html": [
       "<pre style=\"white-space:pre;overflow-x:auto;line-height:normal;font-family:Menlo,'DejaVu Sans Mono',consolas,'Courier New',monospace\"><span style=\"color: #7fbfbf\">           </span><span style=\"color: #000080\">INFO</span>     Building <span style=\"color: #800000\">🡆</span> Object <span style=\"color: #800000\">Collaborator</span> from <span style=\"color: #800000\">fledge.component</span> Module.                                                                     <a href=\"file:///home/itrushkin/.virtualenvs/fledge/lib/python3.6/site-packages/fledge/federated/plan/plan.py\"><span style=\"color: #7f7f7f\">plan.py</span></a><span style=\"color: #7f7f7f\">:150</span>\n",
       "</pre>\n"
      ],
      "text/plain": [
       "<rich.jupyter.JupyterRenderable at 0x7f7f410e25f8>"
      ]
     },
     "metadata": {},
     "output_type": "display_data"
    },
    {
     "data": {
      "text/html": [
       "<pre style=\"white-space:pre;overflow-x:auto;line-height:normal;font-family:Menlo,'DejaVu Sans Mono',consolas,'Courier New',monospace\"><span style=\"color: #7fbfbf\">           </span><span style=\"color: #000080\">INFO</span>     Settings <span style=\"color: #800000\">🡆</span> <span style=\"font-weight: bold\">{</span><span style=\"color: #008000\">'opt_treatment'</span>: <span style=\"color: #008000\">'RESET'</span>, <span style=\"color: #008000\">'delta_updates'</span>: <span style=\"color: #ff0000; font-style: italic\">False</span>, <span style=\"color: #008000\">'epochs_per_round'</span>: <span style=\"color: #000080; font-weight: bold\">1.0</span>, <span style=\"color: #008000\">'polling_interval'</span>: <span style=\"color: #000080; font-weight: bold\">4</span>,                    <a href=\"file:///home/itrushkin/.virtualenvs/fledge/lib/python3.6/site-packages/fledge/federated/plan/plan.py\"><span style=\"color: #7f7f7f\">plan.py</span></a><span style=\"color: #7f7f7f\">:151</span>\n",
       "                    <span style=\"color: #008000\">'collaborator_name'</span>: <span style=\"color: #008000\">'one'</span>, <span style=\"color: #008000\">'aggregator_uuid'</span>: <span style=\"color: #008000\">'aggregator_plan.yaml_9a472938'</span>, <span style=\"color: #008000\">'federation_uuid'</span>: <span style=\"color: #008000\">'plan.yaml_9a472938'</span>,                    \n",
       "                    <span style=\"color: #008000\">'task_runner'</span>: <span style=\"font-weight: bold\">&lt;</span><span style=\"color: #ff00ff; font-weight: bold\">fledge.federated.task.runner_fe.FastEstimatorTaskRunner</span><span style=\"color: #000000\"> object at </span><span style=\"color: #000080; font-weight: bold\">0x7f7f41096c88</span><span style=\"font-weight: bold\">&gt;</span>, <span style=\"color: #008000\">'tensor_pipe'</span>:                           \n",
       "                    <span style=\"font-weight: bold\">&lt;</span><span style=\"color: #ff00ff; font-weight: bold\">fledge.pipelines.no_compression_pipeline.NoCompressionPipeline</span><span style=\"color: #000000\"> object at </span><span style=\"color: #000080; font-weight: bold\">0x7f7f412d3eb8</span><span style=\"font-weight: bold\">&gt;</span>, <span style=\"color: #008000\">'task_config'</span>:                                   \n",
       "                    <span style=\"font-weight: bold\">{</span><span style=\"color: #008000\">'aggregated_model_validation'</span>: <span style=\"font-weight: bold\">{</span><span style=\"color: #008000\">'function'</span>: <span style=\"color: #008000\">'validate'</span>, <span style=\"color: #008000\">'kwargs'</span>: <span style=\"font-weight: bold\">{</span><span style=\"color: #008000\">'batch_size'</span>: <span style=\"color: #000080; font-weight: bold\">32</span>, <span style=\"color: #008000\">'apply'</span>: <span style=\"color: #008000\">'global'</span>, <span style=\"color: #008000\">'metrics'</span>:                         \n",
       "                    <span style=\"font-weight: bold\">[</span><span style=\"color: #008000\">'clean_accuracy'</span>, <span style=\"color: #008000\">'adversarial_accuracy'</span><span style=\"font-weight: bold\">]}}</span>, <span style=\"color: #008000\">'locally_tuned_model_validation'</span>: <span style=\"font-weight: bold\">{</span><span style=\"color: #008000\">'function'</span>: <span style=\"color: #008000\">'validate'</span>, <span style=\"color: #008000\">'kwargs'</span>:                          \n",
       "                    <span style=\"font-weight: bold\">{</span><span style=\"color: #008000\">'batch_size'</span>: <span style=\"color: #000080; font-weight: bold\">32</span>, <span style=\"color: #008000\">'apply'</span>: <span style=\"color: #008000\">'local'</span>, <span style=\"color: #008000\">'metrics'</span>: <span style=\"font-weight: bold\">[</span><span style=\"color: #008000\">'clean_accuracy'</span>, <span style=\"color: #008000\">'adversarial_accuracy'</span><span style=\"font-weight: bold\">]}}</span>, <span style=\"color: #008000\">'train'</span>: <span style=\"font-weight: bold\">{</span><span style=\"color: #008000\">'function'</span>: <span style=\"color: #008000\">'train'</span>,                \n",
       "                    <span style=\"color: #008000\">'kwargs'</span>: <span style=\"font-weight: bold\">{</span><span style=\"color: #008000\">'batch_size'</span>: <span style=\"color: #000080; font-weight: bold\">32</span>, <span style=\"color: #008000\">'epochs'</span>: <span style=\"color: #000080; font-weight: bold\">1</span>, <span style=\"color: #008000\">'metrics'</span>: <span style=\"font-weight: bold\">[</span><span style=\"color: #008000\">'adv_ce'</span>, <span style=\"color: #008000\">'base_ce'</span><span style=\"font-weight: bold\">]}}</span>, <span style=\"color: #008000\">'defaults'</span>:                                                   \n",
       "                    <span style=\"color: #008000\">'plan/defaults/tasks_fast_estimator.yaml'</span>, <span style=\"color: #008000\">'settings'</span>: <span style=\"font-weight: bold\">{}}</span>, <span style=\"color: #008000\">'client'</span>: <span style=\"font-weight: bold\">&lt;</span><span style=\"color: #ff00ff; font-weight: bold\">fledge.component.aggregator.aggregator.Aggregator</span><span style=\"color: #000000\"> object </span>            \n",
       "                    <span style=\"color: #000000\">at </span><span style=\"color: #000080; font-weight: bold\">0x7f7f412b2c88</span><span style=\"font-weight: bold\">&gt;}</span>                                                                                                                         \n",
       "</pre>\n"
      ],
      "text/plain": [
       "<rich.jupyter.JupyterRenderable at 0x7f7f410e27b8>"
      ]
     },
     "metadata": {},
     "output_type": "display_data"
    },
    {
     "data": {
      "text/html": [
       "<pre style=\"white-space:pre;overflow-x:auto;line-height:normal;font-family:Menlo,'DejaVu Sans Mono',consolas,'Courier New',monospace\"><span style=\"color: #7fbfbf\">           </span><span style=\"color: #000080\">INFO</span>     Override <span style=\"color: #800000\">🡆</span> <span style=\"font-weight: bold\">{</span><span style=\"color: #008000\">'defaults'</span>: <span style=\"color: #008000\">'plan/defaults/collaborator.yaml'</span><span style=\"font-weight: bold\">}</span>                                                                       <a href=\"file:///home/itrushkin/.virtualenvs/fledge/lib/python3.6/site-packages/fledge/federated/plan/plan.py\"><span style=\"color: #7f7f7f\">plan.py</span></a><span style=\"color: #7f7f7f\">:152</span>\n",
       "</pre>\n"
      ],
      "text/plain": [
       "<rich.jupyter.JupyterRenderable at 0x7f7f410a2fd0>"
      ]
     },
     "metadata": {},
     "output_type": "display_data"
    },
    {
     "data": {
      "text/html": [
       "<pre style=\"white-space:pre;overflow-x:auto;line-height:normal;font-family:Menlo,'DejaVu Sans Mono',consolas,'Courier New',monospace\"><span style=\"color: #7fbfbf\">           </span><span style=\"color: #000080\">INFO</span>     sys.path: <span style=\"color: #800080\">/home/itrushkin/.local/</span><span style=\"color: #ff00ff\">workspace</span>                                                                                       <a href=\"file:///home/itrushkin/.virtualenvs/fledge/lib/python3.6/site-packages/fledge/federated/plan/plan.py\"><span style=\"color: #7f7f7f\">plan.py</span></a><span style=\"color: #7f7f7f\">:145</span>\n",
       "</pre>\n"
      ],
      "text/plain": [
       "<rich.jupyter.JupyterRenderable at 0x7f7f410a2ef0>"
      ]
     },
     "metadata": {},
     "output_type": "display_data"
    },
    {
     "data": {
      "text/html": [
       "<pre style=\"white-space:pre;overflow-x:auto;line-height:normal;font-family:Menlo,'DejaVu Sans Mono',consolas,'Courier New',monospace\"><span style=\"color: #7fbfbf\">           </span><span style=\"color: #000080\">INFO</span>     sys.path: <span style=\"color: #800080\">/usr/lib/</span><span style=\"color: #ff00ff\">python36.zip</span>                                                                                                  <a href=\"file:///home/itrushkin/.virtualenvs/fledge/lib/python3.6/site-packages/fledge/federated/plan/plan.py\"><span style=\"color: #7f7f7f\">plan.py</span></a><span style=\"color: #7f7f7f\">:145</span>\n",
       "</pre>\n"
      ],
      "text/plain": [
       "<rich.jupyter.JupyterRenderable at 0x7f7f410e27b8>"
      ]
     },
     "metadata": {},
     "output_type": "display_data"
    },
    {
     "data": {
      "text/html": [
       "<pre style=\"white-space:pre;overflow-x:auto;line-height:normal;font-family:Menlo,'DejaVu Sans Mono',consolas,'Courier New',monospace\"><span style=\"color: #7fbfbf\">           </span><span style=\"color: #000080\">INFO</span>     sys.path: <span style=\"color: #800080\">/usr/lib/</span><span style=\"color: #ff00ff\">python3.6</span>                                                                                                     <a href=\"file:///home/itrushkin/.virtualenvs/fledge/lib/python3.6/site-packages/fledge/federated/plan/plan.py\"><span style=\"color: #7f7f7f\">plan.py</span></a><span style=\"color: #7f7f7f\">:145</span>\n",
       "</pre>\n"
      ],
      "text/plain": [
       "<rich.jupyter.JupyterRenderable at 0x7f7f410e29e8>"
      ]
     },
     "metadata": {},
     "output_type": "display_data"
    },
    {
     "data": {
      "text/html": [
       "<pre style=\"white-space:pre;overflow-x:auto;line-height:normal;font-family:Menlo,'DejaVu Sans Mono',consolas,'Courier New',monospace\"><span style=\"color: #7fbfbf\">           </span><span style=\"color: #000080\">INFO</span>     sys.path: <span style=\"color: #800080\">/usr/lib/python3.6/</span><span style=\"color: #ff00ff\">lib-dynload</span>                                                                                         <a href=\"file:///home/itrushkin/.virtualenvs/fledge/lib/python3.6/site-packages/fledge/federated/plan/plan.py\"><span style=\"color: #7f7f7f\">plan.py</span></a><span style=\"color: #7f7f7f\">:145</span>\n",
       "</pre>\n"
      ],
      "text/plain": [
       "<rich.jupyter.JupyterRenderable at 0x7f7f410e2780>"
      ]
     },
     "metadata": {},
     "output_type": "display_data"
    },
    {
     "data": {
      "text/html": [
       "<pre style=\"white-space:pre;overflow-x:auto;line-height:normal;font-family:Menlo,'DejaVu Sans Mono',consolas,'Courier New',monospace\"><span style=\"color: #7fbfbf\">           </span><span style=\"color: #000080\">INFO</span>     sys.path:                                                                                                                        <a href=\"file:///home/itrushkin/.virtualenvs/fledge/lib/python3.6/site-packages/fledge/federated/plan/plan.py\"><span style=\"color: #7f7f7f\">plan.py</span></a><span style=\"color: #7f7f7f\">:145</span>\n",
       "</pre>\n"
      ],
      "text/plain": [
       "<rich.jupyter.JupyterRenderable at 0x7f7f410e2898>"
      ]
     },
     "metadata": {},
     "output_type": "display_data"
    },
    {
     "data": {
      "text/html": [
       "<pre style=\"white-space:pre;overflow-x:auto;line-height:normal;font-family:Menlo,'DejaVu Sans Mono',consolas,'Courier New',monospace\"><span style=\"color: #7fbfbf\">           </span><span style=\"color: #000080\">INFO</span>     sys.path: <span style=\"color: #800080\">/home/itrushkin/.virtualenvs/fledge/lib/python3.6/</span><span style=\"color: #ff00ff\">site-packages</span>                                                        <a href=\"file:///home/itrushkin/.virtualenvs/fledge/lib/python3.6/site-packages/fledge/federated/plan/plan.py\"><span style=\"color: #7f7f7f\">plan.py</span></a><span style=\"color: #7f7f7f\">:145</span>\n",
       "</pre>\n"
      ],
      "text/plain": [
       "<rich.jupyter.JupyterRenderable at 0x7f7f410e2940>"
      ]
     },
     "metadata": {},
     "output_type": "display_data"
    },
    {
     "data": {
      "text/html": [
       "<pre style=\"white-space:pre;overflow-x:auto;line-height:normal;font-family:Menlo,'DejaVu Sans Mono',consolas,'Courier New',monospace\"><span style=\"color: #7fbfbf\">           </span><span style=\"color: #000080\">INFO</span>     sys.path: <span style=\"color: #800080\">/home/itrushkin/.virtualenvs/fledge/lib/python3.6/site-packages/IPython/</span><span style=\"color: #ff00ff\">extensions</span>                                     <a href=\"file:///home/itrushkin/.virtualenvs/fledge/lib/python3.6/site-packages/fledge/federated/plan/plan.py\"><span style=\"color: #7f7f7f\">plan.py</span></a><span style=\"color: #7f7f7f\">:145</span>\n",
       "</pre>\n"
      ],
      "text/plain": [
       "<rich.jupyter.JupyterRenderable at 0x7f7f410e2828>"
      ]
     },
     "metadata": {},
     "output_type": "display_data"
    },
    {
     "data": {
      "text/html": [
       "<pre style=\"white-space:pre;overflow-x:auto;line-height:normal;font-family:Menlo,'DejaVu Sans Mono',consolas,'Courier New',monospace\"><span style=\"color: #7fbfbf\">           </span><span style=\"color: #000080\">INFO</span>     sys.path: <span style=\"color: #800080\">/home/itrushkin/</span><span style=\"color: #ff00ff\">.ipython</span>                                                                                               <a href=\"file:///home/itrushkin/.virtualenvs/fledge/lib/python3.6/site-packages/fledge/federated/plan/plan.py\"><span style=\"color: #7f7f7f\">plan.py</span></a><span style=\"color: #7f7f7f\">:145</span>\n",
       "</pre>\n"
      ],
      "text/plain": [
       "<rich.jupyter.JupyterRenderable at 0x7f7f410e27b8>"
      ]
     },
     "metadata": {},
     "output_type": "display_data"
    },
    {
     "data": {
      "text/html": [
       "<pre style=\"white-space:pre;overflow-x:auto;line-height:normal;font-family:Menlo,'DejaVu Sans Mono',consolas,'Courier New',monospace\"><span style=\"color: #7fbfbf\">           </span><span style=\"color: #000080\">INFO</span>     sys.path: <span style=\"color: #800080\">/home/itrushkin/.virtualenvs/fledge/lib/python3.6/site-packages/fledge/</span><span style=\"color: #ff00ff\">native</span>                                          <a href=\"file:///home/itrushkin/.virtualenvs/fledge/lib/python3.6/site-packages/fledge/federated/plan/plan.py\"><span style=\"color: #7f7f7f\">plan.py</span></a><span style=\"color: #7f7f7f\">:145</span>\n",
       "</pre>\n"
      ],
      "text/plain": [
       "<rich.jupyter.JupyterRenderable at 0x7f7f410e29e8>"
      ]
     },
     "metadata": {},
     "output_type": "display_data"
    },
    {
     "data": {
      "text/html": [
       "<pre style=\"white-space:pre;overflow-x:auto;line-height:normal;font-family:Menlo,'DejaVu Sans Mono',consolas,'Courier New',monospace\"><span style=\"color: #7fbfbf\">           </span><span style=\"color: #000080\">INFO</span>     Building <span style=\"color: #800000\">🡆</span> Object <span style=\"color: #800000\">Collaborator</span> from <span style=\"color: #800000\">fledge.component</span> Module.                                                                     <a href=\"file:///home/itrushkin/.virtualenvs/fledge/lib/python3.6/site-packages/fledge/federated/plan/plan.py\"><span style=\"color: #7f7f7f\">plan.py</span></a><span style=\"color: #7f7f7f\">:150</span>\n",
       "</pre>\n"
      ],
      "text/plain": [
       "<rich.jupyter.JupyterRenderable at 0x7f7f410e2940>"
      ]
     },
     "metadata": {},
     "output_type": "display_data"
    },
    {
     "data": {
      "text/html": [
       "<pre style=\"white-space:pre;overflow-x:auto;line-height:normal;font-family:Menlo,'DejaVu Sans Mono',consolas,'Courier New',monospace\"><span style=\"color: #7fbfbf\">           </span><span style=\"color: #000080\">INFO</span>     Settings <span style=\"color: #800000\">🡆</span> <span style=\"font-weight: bold\">{</span><span style=\"color: #008000\">'opt_treatment'</span>: <span style=\"color: #008000\">'RESET'</span>, <span style=\"color: #008000\">'delta_updates'</span>: <span style=\"color: #ff0000; font-style: italic\">False</span>, <span style=\"color: #008000\">'epochs_per_round'</span>: <span style=\"color: #000080; font-weight: bold\">1.0</span>, <span style=\"color: #008000\">'polling_interval'</span>: <span style=\"color: #000080; font-weight: bold\">4</span>,                    <a href=\"file:///home/itrushkin/.virtualenvs/fledge/lib/python3.6/site-packages/fledge/federated/plan/plan.py\"><span style=\"color: #7f7f7f\">plan.py</span></a><span style=\"color: #7f7f7f\">:151</span>\n",
       "                    <span style=\"color: #008000\">'collaborator_name'</span>: <span style=\"color: #008000\">'two'</span>, <span style=\"color: #008000\">'aggregator_uuid'</span>: <span style=\"color: #008000\">'aggregator_plan.yaml_9a472938'</span>, <span style=\"color: #008000\">'federation_uuid'</span>: <span style=\"color: #008000\">'plan.yaml_9a472938'</span>,                    \n",
       "                    <span style=\"color: #008000\">'task_runner'</span>: <span style=\"font-weight: bold\">&lt;</span><span style=\"color: #ff00ff; font-weight: bold\">fledge.federated.task.runner_fe.FastEstimatorTaskRunner</span><span style=\"color: #000000\"> object at </span><span style=\"color: #000080; font-weight: bold\">0x7f7f41096c88</span><span style=\"font-weight: bold\">&gt;</span>, <span style=\"color: #008000\">'tensor_pipe'</span>:                           \n",
       "                    <span style=\"font-weight: bold\">&lt;</span><span style=\"color: #ff00ff; font-weight: bold\">fledge.pipelines.no_compression_pipeline.NoCompressionPipeline</span><span style=\"color: #000000\"> object at </span><span style=\"color: #000080; font-weight: bold\">0x7f7f412d3eb8</span><span style=\"font-weight: bold\">&gt;</span>, <span style=\"color: #008000\">'task_config'</span>:                                   \n",
       "                    <span style=\"font-weight: bold\">{</span><span style=\"color: #008000\">'aggregated_model_validation'</span>: <span style=\"font-weight: bold\">{</span><span style=\"color: #008000\">'function'</span>: <span style=\"color: #008000\">'validate'</span>, <span style=\"color: #008000\">'kwargs'</span>: <span style=\"font-weight: bold\">{</span><span style=\"color: #008000\">'batch_size'</span>: <span style=\"color: #000080; font-weight: bold\">32</span>, <span style=\"color: #008000\">'apply'</span>: <span style=\"color: #008000\">'global'</span>, <span style=\"color: #008000\">'metrics'</span>:                         \n",
       "                    <span style=\"font-weight: bold\">[</span><span style=\"color: #008000\">'clean_accuracy'</span>, <span style=\"color: #008000\">'adversarial_accuracy'</span><span style=\"font-weight: bold\">]}}</span>, <span style=\"color: #008000\">'locally_tuned_model_validation'</span>: <span style=\"font-weight: bold\">{</span><span style=\"color: #008000\">'function'</span>: <span style=\"color: #008000\">'validate'</span>, <span style=\"color: #008000\">'kwargs'</span>:                          \n",
       "                    <span style=\"font-weight: bold\">{</span><span style=\"color: #008000\">'batch_size'</span>: <span style=\"color: #000080; font-weight: bold\">32</span>, <span style=\"color: #008000\">'apply'</span>: <span style=\"color: #008000\">'local'</span>, <span style=\"color: #008000\">'metrics'</span>: <span style=\"font-weight: bold\">[</span><span style=\"color: #008000\">'clean_accuracy'</span>, <span style=\"color: #008000\">'adversarial_accuracy'</span><span style=\"font-weight: bold\">]}}</span>, <span style=\"color: #008000\">'train'</span>: <span style=\"font-weight: bold\">{</span><span style=\"color: #008000\">'function'</span>: <span style=\"color: #008000\">'train'</span>,                \n",
       "                    <span style=\"color: #008000\">'kwargs'</span>: <span style=\"font-weight: bold\">{</span><span style=\"color: #008000\">'batch_size'</span>: <span style=\"color: #000080; font-weight: bold\">32</span>, <span style=\"color: #008000\">'epochs'</span>: <span style=\"color: #000080; font-weight: bold\">1</span>, <span style=\"color: #008000\">'metrics'</span>: <span style=\"font-weight: bold\">[</span><span style=\"color: #008000\">'adv_ce'</span>, <span style=\"color: #008000\">'base_ce'</span><span style=\"font-weight: bold\">]}}</span>, <span style=\"color: #008000\">'defaults'</span>:                                                   \n",
       "                    <span style=\"color: #008000\">'plan/defaults/tasks_fast_estimator.yaml'</span>, <span style=\"color: #008000\">'settings'</span>: <span style=\"font-weight: bold\">{}}</span>, <span style=\"color: #008000\">'client'</span>: <span style=\"font-weight: bold\">&lt;</span><span style=\"color: #ff00ff; font-weight: bold\">fledge.component.aggregator.aggregator.Aggregator</span><span style=\"color: #000000\"> object </span>            \n",
       "                    <span style=\"color: #000000\">at </span><span style=\"color: #000080; font-weight: bold\">0x7f7f412b2c88</span><span style=\"font-weight: bold\">&gt;</span>, <span style=\"color: #008000\">'defaults'</span>: <span style=\"color: #008000\">'plan/defaults/collaborator.yaml'</span><span style=\"font-weight: bold\">}</span>                                                                          \n",
       "</pre>\n"
      ],
      "text/plain": [
       "<rich.jupyter.JupyterRenderable at 0x7f7f410e27b8>"
      ]
     },
     "metadata": {},
     "output_type": "display_data"
    },
    {
     "data": {
      "text/html": [
       "<pre style=\"white-space:pre;overflow-x:auto;line-height:normal;font-family:Menlo,'DejaVu Sans Mono',consolas,'Courier New',monospace\"><span style=\"color: #7fbfbf\">           </span><span style=\"color: #000080\">INFO</span>     Override <span style=\"color: #800000\">🡆</span> <span style=\"font-weight: bold\">{</span><span style=\"color: #008000\">'defaults'</span>: <span style=\"color: #008000\">'plan/defaults/collaborator.yaml'</span><span style=\"font-weight: bold\">}</span>                                                                       <a href=\"file:///home/itrushkin/.virtualenvs/fledge/lib/python3.6/site-packages/fledge/federated/plan/plan.py\"><span style=\"color: #7f7f7f\">plan.py</span></a><span style=\"color: #7f7f7f\">:152</span>\n",
       "</pre>\n"
      ],
      "text/plain": [
       "<rich.jupyter.JupyterRenderable at 0x7f7f410e2710>"
      ]
     },
     "metadata": {},
     "output_type": "display_data"
    },
    {
     "data": {
      "text/html": [
       "<pre style=\"white-space:pre;overflow-x:auto;line-height:normal;font-family:Menlo,'DejaVu Sans Mono',consolas,'Courier New',monospace\"><span style=\"color: #7fbfbf\">           </span><span style=\"color: #000080\">INFO</span>     Aggregator GetTasks function reached from collaborator one<span style=\"color: #808000\">...</span>                                                              <a href=\"file:///home/itrushkin/.virtualenvs/fledge/lib/python3.6/site-packages/fledge/component/aggregator/aggregator.py\"><span style=\"color: #7f7f7f\">aggregator.py</span></a><span style=\"color: #7f7f7f\">:215</span>\n",
       "</pre>\n"
      ],
      "text/plain": [
       "<rich.jupyter.JupyterRenderable at 0x7f7f410e2860>"
      ]
     },
     "metadata": {},
     "output_type": "display_data"
    },
    {
     "data": {
      "text/html": [
       "<pre style=\"white-space:pre;overflow-x:auto;line-height:normal;font-family:Menlo,'DejaVu Sans Mono',consolas,'Courier New',monospace\"><span style=\"color: #7fbfbf\">           </span><span style=\"color: #000080\">INFO</span>     Sending tasks to collaborator one for round <span style=\"color: #000080; font-weight: bold\">0</span>                                                                              <a href=\"file:///home/itrushkin/.virtualenvs/fledge/lib/python3.6/site-packages/fledge/component/aggregator/aggregator.py\"><span style=\"color: #7f7f7f\">aggregator.py</span></a><span style=\"color: #7f7f7f\">:249</span>\n",
       "</pre>\n"
      ],
      "text/plain": [
       "<rich.jupyter.JupyterRenderable at 0x7f7f410e2710>"
      ]
     },
     "metadata": {},
     "output_type": "display_data"
    },
    {
     "data": {
      "text/html": [
       "<pre style=\"white-space:pre;overflow-x:auto;line-height:normal;font-family:Menlo,'DejaVu Sans Mono',consolas,'Courier New',monospace\"><span style=\"color: #7fbfbf\">           </span><span style=\"color: #000080\">INFO</span>     Received the following tasks: <span style=\"font-weight: bold\">[</span><span style=\"color: #008000\">'aggregated_model_validation'</span>, <span style=\"color: #008000\">'train'</span>, <span style=\"color: #008000\">'locally_tuned_model_validation'</span><span style=\"font-weight: bold\">]</span>                 <a href=\"file:///home/itrushkin/.virtualenvs/fledge/lib/python3.6/site-packages/fledge/component/collaborator/collaborator.py\"><span style=\"color: #7f7f7f\">collaborator.py</span></a><span style=\"color: #7f7f7f\">:155</span>\n",
       "</pre>\n"
      ],
      "text/plain": [
       "<rich.jupyter.JupyterRenderable at 0x7f7f410e2668>"
      ]
     },
     "metadata": {},
     "output_type": "display_data"
    },
    {
     "name": "stderr",
     "output_type": "stream",
     "text": [
      "/home/itrushkin/.virtualenvs/fledge/lib/python3.6/site-packages/fledge/federated/task/runner_pt.py:172: UserWarning: The given NumPy array is not writeable, and PyTorch does not support non-writeable tensors. This means you can write to the underlying (supposedly non-writeable) NumPy array using the tensor. You may want to copy the array to protect its data or make it writeable before converting it to a tensor. This type of warning will be suppressed for the rest of this program. (Triggered internally at  /pytorch/torch/csrc/utils/tensor_numpy.cpp:141.)\n",
      "  new_state[k] = pt.from_numpy(tensor_dict.pop(k)).to(device)\n"
     ]
    },
    {
     "name": "stdout",
     "output_type": "stream",
     "text": [
      "FastEstimator-Test: step: None; epoch: 2; clean_accuracy: 0.0984; adversarial_accuracy: 0.0984; \n"
     ]
    },
    {
     "data": {
      "text/html": [
       "<pre style=\"white-space:pre;overflow-x:auto;line-height:normal;font-family:Menlo,'DejaVu Sans Mono',consolas,'Courier New',monospace\"><span style=\"color: #7fbfbf\">[03:53:11] </span><span style=\"color: #000080\">INFO</span>     Sending metric for task aggregated_model_validation, round number <span style=\"color: #000080; font-weight: bold\">0</span>: clean_accuracy     <span style=\"color: #000080; font-weight: bold\">0.0984</span>                           <a href=\"file:///home/itrushkin/.virtualenvs/fledge/lib/python3.6/site-packages/fledge/component/collaborator/collaborator.py\"><span style=\"color: #7f7f7f\">collaborator.py</span></a><span style=\"color: #7f7f7f\">:318</span>\n",
       "</pre>\n"
      ],
      "text/plain": [
       "<rich.jupyter.JupyterRenderable at 0x7f7f410556a0>"
      ]
     },
     "metadata": {},
     "output_type": "display_data"
    },
    {
     "data": {
      "text/html": [
       "<pre style=\"white-space:pre;overflow-x:auto;line-height:normal;font-family:Menlo,'DejaVu Sans Mono',consolas,'Courier New',monospace\"><span style=\"color: #7fbfbf\">           </span><span style=\"color: #000080\">INFO</span>     Sending metric for task aggregated_model_validation, round number <span style=\"color: #000080; font-weight: bold\">0</span>: adversarial_accuracy       <span style=\"color: #000080; font-weight: bold\">0.0984</span>                   <a href=\"file:///home/itrushkin/.virtualenvs/fledge/lib/python3.6/site-packages/fledge/component/collaborator/collaborator.py\"><span style=\"color: #7f7f7f\">collaborator.py</span></a><span style=\"color: #7f7f7f\">:318</span>\n",
       "</pre>\n"
      ],
      "text/plain": [
       "<rich.jupyter.JupyterRenderable at 0x7f7f410554a8>"
      ]
     },
     "metadata": {},
     "output_type": "display_data"
    },
    {
     "data": {
      "text/html": [
       "<pre style=\"white-space:pre;overflow-x:auto;line-height:normal;font-family:Menlo,'DejaVu Sans Mono',consolas,'Courier New',monospace\"><span style=\"color: #7fbfbf\">           </span><span style=\"color: #000080\">INFO</span>     Collaborator one is sending task results for aggregated_model_validation, round <span style=\"color: #000080; font-weight: bold\">0</span>                                          <a href=\"file:///home/itrushkin/.virtualenvs/fledge/lib/python3.6/site-packages/fledge/component/aggregator/aggregator.py\"><span style=\"color: #7f7f7f\">aggregator.py</span></a><span style=\"color: #7f7f7f\">:369</span>\n",
       "</pre>\n"
      ],
      "text/plain": [
       "<rich.jupyter.JupyterRenderable at 0x7f7f41055be0>"
      ]
     },
     "metadata": {},
     "output_type": "display_data"
    },
    {
     "name": "stdout",
     "output_type": "stream",
     "text": [
      "    ______           __  ______     __  _                 __            \n",
      "   / ____/___ ______/ /_/ ____/____/ /_(_)___ ___  ____ _/ /_____  _____\n",
      "  / /_  / __ `/ ___/ __/ __/ / ___/ __/ / __ `__ \\/ __ `/ __/ __ \\/ ___/\n",
      " / __/ / /_/ (__  ) /_/ /___(__  ) /_/ / / / / / / /_/ / /_/ /_/ / /    \n",
      "/_/    \\__,_/____/\\__/_____/____/\\__/_/_/ /_/ /_/\\__,_/\\__/\\____/_/     \n",
      "                                                                        \n",
      "\n",
      "FastEstimator-Warn: No ModelSaver Trace detected. Models will not be saved.\n",
      "FastEstimator-Start: step: 1; num_device: 3; logging_interval: 1000; \n",
      "FastEstimator-Train: step: 1; adv_ce: 2.318904; base_ce: 2.3025656; avg_ce: 2.3107347; \n",
      "FastEstimator-Train: step: 98; epoch: 1; epoch_time: 2.86 sec; \n",
      "FastEstimator-Eval: step: 98; epoch: 1; adv_ce: 1.9409097; base_ce: 1.8045498; avg_ce: 1.8727299; clean_accuracy: 0.316; adversarial_accuracy: 0.2664; \n",
      "FastEstimator-Train: step: 196; epoch: 2; epoch_time: 2.88 sec; \n",
      "FastEstimator-Eval: step: 196; epoch: 2; adv_ce: 1.8102067; base_ce: 1.5919861; avg_ce: 1.7010962; clean_accuracy: 0.4208; adversarial_accuracy: 0.3256; \n",
      "FastEstimator-Finish: step: 196; total_time: 9.59 sec; adv_model_lr: 0.001; \n"
     ]
    },
    {
     "data": {
      "text/html": [
       "<pre style=\"white-space:pre;overflow-x:auto;line-height:normal;font-family:Menlo,'DejaVu Sans Mono',consolas,'Courier New',monospace\"><span style=\"color: #7fbfbf\">[03:53:22] </span><span style=\"color: #000080\">INFO</span>     Sending metric for task train, round number <span style=\"color: #000080; font-weight: bold\">0</span>: adv_ce   <span style=\"color: #000080; font-weight: bold\">2.318903923034668</span>                                                <a href=\"file:///home/itrushkin/.virtualenvs/fledge/lib/python3.6/site-packages/fledge/component/collaborator/collaborator.py\"><span style=\"color: #7f7f7f\">collaborator.py</span></a><span style=\"color: #7f7f7f\">:318</span>\n",
       "</pre>\n"
      ],
      "text/plain": [
       "<rich.jupyter.JupyterRenderable at 0x7f7f410c19e8>"
      ]
     },
     "metadata": {},
     "output_type": "display_data"
    },
    {
     "data": {
      "text/html": [
       "<pre style=\"white-space:pre;overflow-x:auto;line-height:normal;font-family:Menlo,'DejaVu Sans Mono',consolas,'Courier New',monospace\"><span style=\"color: #7fbfbf\">           </span><span style=\"color: #000080\">INFO</span>     Sending metric for task train, round number <span style=\"color: #000080; font-weight: bold\">0</span>: base_ce  <span style=\"color: #000080; font-weight: bold\">2.302565574645996</span>                                                <a href=\"file:///home/itrushkin/.virtualenvs/fledge/lib/python3.6/site-packages/fledge/component/collaborator/collaborator.py\"><span style=\"color: #7f7f7f\">collaborator.py</span></a><span style=\"color: #7f7f7f\">:318</span>\n",
       "</pre>\n"
      ],
      "text/plain": [
       "<rich.jupyter.JupyterRenderable at 0x7f7f410c15c0>"
      ]
     },
     "metadata": {},
     "output_type": "display_data"
    },
    {
     "data": {
      "text/html": [
       "<pre style=\"white-space:pre;overflow-x:auto;line-height:normal;font-family:Menlo,'DejaVu Sans Mono',consolas,'Courier New',monospace\"><span style=\"color: #7fbfbf\">           </span><span style=\"color: #000080\">INFO</span>     Collaborator one is sending task results for train, round <span style=\"color: #000080; font-weight: bold\">0</span>                                                                <a href=\"file:///home/itrushkin/.virtualenvs/fledge/lib/python3.6/site-packages/fledge/component/aggregator/aggregator.py\"><span style=\"color: #7f7f7f\">aggregator.py</span></a><span style=\"color: #7f7f7f\">:369</span>\n",
       "</pre>\n"
      ],
      "text/plain": [
       "<rich.jupyter.JupyterRenderable at 0x7f7f410c1240>"
      ]
     },
     "metadata": {},
     "output_type": "display_data"
    },
    {
     "name": "stdout",
     "output_type": "stream",
     "text": [
      "FastEstimator-Test: step: 196; epoch: 2; clean_accuracy: 0.4152; adversarial_accuracy: 0.3112; \n"
     ]
    },
    {
     "data": {
      "text/html": [
       "<pre style=\"white-space:pre;overflow-x:auto;line-height:normal;font-family:Menlo,'DejaVu Sans Mono',consolas,'Courier New',monospace\"><span style=\"color: #7fbfbf\">[03:53:23] </span><span style=\"color: #000080\">INFO</span>     Sending metric for task locally_tuned_model_validation, round number <span style=\"color: #000080; font-weight: bold\">0</span>: clean_accuracy  <span style=\"color: #000080; font-weight: bold\">0.4152</span>                           <a href=\"file:///home/itrushkin/.virtualenvs/fledge/lib/python3.6/site-packages/fledge/component/collaborator/collaborator.py\"><span style=\"color: #7f7f7f\">collaborator.py</span></a><span style=\"color: #7f7f7f\">:318</span>\n",
       "</pre>\n"
      ],
      "text/plain": [
       "<rich.jupyter.JupyterRenderable at 0x7f7f410b8828>"
      ]
     },
     "metadata": {},
     "output_type": "display_data"
    },
    {
     "data": {
      "text/html": [
       "<pre style=\"white-space:pre;overflow-x:auto;line-height:normal;font-family:Menlo,'DejaVu Sans Mono',consolas,'Courier New',monospace\"><span style=\"color: #7fbfbf\">           </span><span style=\"color: #000080\">INFO</span>     Sending metric for task locally_tuned_model_validation, round number <span style=\"color: #000080; font-weight: bold\">0</span>: adversarial_accuracy    <span style=\"color: #000080; font-weight: bold\">0.3112</span>                   <a href=\"file:///home/itrushkin/.virtualenvs/fledge/lib/python3.6/site-packages/fledge/component/collaborator/collaborator.py\"><span style=\"color: #7f7f7f\">collaborator.py</span></a><span style=\"color: #7f7f7f\">:318</span>\n",
       "</pre>\n"
      ],
      "text/plain": [
       "<rich.jupyter.JupyterRenderable at 0x7f7f410b8eb8>"
      ]
     },
     "metadata": {},
     "output_type": "display_data"
    },
    {
     "data": {
      "text/html": [
       "<pre style=\"white-space:pre;overflow-x:auto;line-height:normal;font-family:Menlo,'DejaVu Sans Mono',consolas,'Courier New',monospace\"><span style=\"color: #7fbfbf\">           </span><span style=\"color: #000080\">INFO</span>     Collaborator one is sending task results for locally_tuned_model_validation, round <span style=\"color: #000080; font-weight: bold\">0</span>                                       <a href=\"file:///home/itrushkin/.virtualenvs/fledge/lib/python3.6/site-packages/fledge/component/aggregator/aggregator.py\"><span style=\"color: #7f7f7f\">aggregator.py</span></a><span style=\"color: #7f7f7f\">:369</span>\n",
       "</pre>\n"
      ],
      "text/plain": [
       "<rich.jupyter.JupyterRenderable at 0x7f7f410d4048>"
      ]
     },
     "metadata": {},
     "output_type": "display_data"
    },
    {
     "data": {
      "text/html": [
       "<pre style=\"white-space:pre;overflow-x:auto;line-height:normal;font-family:Menlo,'DejaVu Sans Mono',consolas,'Courier New',monospace\"><span style=\"color: #7fbfbf\">           </span><span style=\"color: #000080\">INFO</span>     All tasks completed on one for round <span style=\"color: #000080; font-weight: bold\">0</span><span style=\"color: #808000\">...</span>                                                                                <a href=\"file:///home/itrushkin/.virtualenvs/fledge/lib/python3.6/site-packages/fledge/component/collaborator/collaborator.py\"><span style=\"color: #7f7f7f\">collaborator.py</span></a><span style=\"color: #7f7f7f\">:158</span>\n",
       "</pre>\n"
      ],
      "text/plain": [
       "<rich.jupyter.JupyterRenderable at 0x7f7f410b83c8>"
      ]
     },
     "metadata": {},
     "output_type": "display_data"
    },
    {
     "data": {
      "text/html": [
       "<pre style=\"white-space:pre;overflow-x:auto;line-height:normal;font-family:Menlo,'DejaVu Sans Mono',consolas,'Courier New',monospace\"><span style=\"color: #7fbfbf\">           </span><span style=\"color: #000080\">INFO</span>     Aggregator GetTasks function reached from collaborator two<span style=\"color: #808000\">...</span>                                                              <a href=\"file:///home/itrushkin/.virtualenvs/fledge/lib/python3.6/site-packages/fledge/component/aggregator/aggregator.py\"><span style=\"color: #7f7f7f\">aggregator.py</span></a><span style=\"color: #7f7f7f\">:215</span>\n",
       "</pre>\n"
      ],
      "text/plain": [
       "<rich.jupyter.JupyterRenderable at 0x7f7f410d40b8>"
      ]
     },
     "metadata": {},
     "output_type": "display_data"
    },
    {
     "data": {
      "text/html": [
       "<pre style=\"white-space:pre;overflow-x:auto;line-height:normal;font-family:Menlo,'DejaVu Sans Mono',consolas,'Courier New',monospace\"><span style=\"color: #7fbfbf\">           </span><span style=\"color: #000080\">INFO</span>     Sending tasks to collaborator two for round <span style=\"color: #000080; font-weight: bold\">0</span>                                                                              <a href=\"file:///home/itrushkin/.virtualenvs/fledge/lib/python3.6/site-packages/fledge/component/aggregator/aggregator.py\"><span style=\"color: #7f7f7f\">aggregator.py</span></a><span style=\"color: #7f7f7f\">:249</span>\n",
       "</pre>\n"
      ],
      "text/plain": [
       "<rich.jupyter.JupyterRenderable at 0x7f7f410e2780>"
      ]
     },
     "metadata": {},
     "output_type": "display_data"
    },
    {
     "data": {
      "text/html": [
       "<pre style=\"white-space:pre;overflow-x:auto;line-height:normal;font-family:Menlo,'DejaVu Sans Mono',consolas,'Courier New',monospace\"><span style=\"color: #7fbfbf\">           </span><span style=\"color: #000080\">INFO</span>     Received the following tasks: <span style=\"font-weight: bold\">[</span><span style=\"color: #008000\">'aggregated_model_validation'</span>, <span style=\"color: #008000\">'train'</span>, <span style=\"color: #008000\">'locally_tuned_model_validation'</span><span style=\"font-weight: bold\">]</span>                 <a href=\"file:///home/itrushkin/.virtualenvs/fledge/lib/python3.6/site-packages/fledge/component/collaborator/collaborator.py\"><span style=\"color: #7f7f7f\">collaborator.py</span></a><span style=\"color: #7f7f7f\">:155</span>\n",
       "</pre>\n"
      ],
      "text/plain": [
       "<rich.jupyter.JupyterRenderable at 0x7f7f410b87b8>"
      ]
     },
     "metadata": {},
     "output_type": "display_data"
    },
    {
     "name": "stdout",
     "output_type": "stream",
     "text": [
      "FastEstimator-Test: step: 196; epoch: 2; clean_accuracy: 0.0984; adversarial_accuracy: 0.0984; \n"
     ]
    },
    {
     "data": {
      "text/html": [
       "<pre style=\"white-space:pre;overflow-x:auto;line-height:normal;font-family:Menlo,'DejaVu Sans Mono',consolas,'Courier New',monospace\"><span style=\"color: #7fbfbf\">[03:53:24] </span><span style=\"color: #000080\">INFO</span>     Sending metric for task aggregated_model_validation, round number <span style=\"color: #000080; font-weight: bold\">0</span>: clean_accuracy     <span style=\"color: #000080; font-weight: bold\">0.0984</span>                           <a href=\"file:///home/itrushkin/.virtualenvs/fledge/lib/python3.6/site-packages/fledge/component/collaborator/collaborator.py\"><span style=\"color: #7f7f7f\">collaborator.py</span></a><span style=\"color: #7f7f7f\">:318</span>\n",
       "</pre>\n"
      ],
      "text/plain": [
       "<rich.jupyter.JupyterRenderable at 0x7f7f3f0108d0>"
      ]
     },
     "metadata": {},
     "output_type": "display_data"
    },
    {
     "data": {
      "text/html": [
       "<pre style=\"white-space:pre;overflow-x:auto;line-height:normal;font-family:Menlo,'DejaVu Sans Mono',consolas,'Courier New',monospace\"><span style=\"color: #7fbfbf\">           </span><span style=\"color: #000080\">INFO</span>     Sending metric for task aggregated_model_validation, round number <span style=\"color: #000080; font-weight: bold\">0</span>: adversarial_accuracy       <span style=\"color: #000080; font-weight: bold\">0.0984</span>                   <a href=\"file:///home/itrushkin/.virtualenvs/fledge/lib/python3.6/site-packages/fledge/component/collaborator/collaborator.py\"><span style=\"color: #7f7f7f\">collaborator.py</span></a><span style=\"color: #7f7f7f\">:318</span>\n",
       "</pre>\n"
      ],
      "text/plain": [
       "<rich.jupyter.JupyterRenderable at 0x7f7f3f0108d0>"
      ]
     },
     "metadata": {},
     "output_type": "display_data"
    },
    {
     "data": {
      "text/html": [
       "<pre style=\"white-space:pre;overflow-x:auto;line-height:normal;font-family:Menlo,'DejaVu Sans Mono',consolas,'Courier New',monospace\"><span style=\"color: #7fbfbf\">           </span><span style=\"color: #000080\">INFO</span>     Collaborator two is sending task results for aggregated_model_validation, round <span style=\"color: #000080; font-weight: bold\">0</span>                                          <a href=\"file:///home/itrushkin/.virtualenvs/fledge/lib/python3.6/site-packages/fledge/component/aggregator/aggregator.py\"><span style=\"color: #7f7f7f\">aggregator.py</span></a><span style=\"color: #7f7f7f\">:369</span>\n",
       "</pre>\n"
      ],
      "text/plain": [
       "<rich.jupyter.JupyterRenderable at 0x7f7f3f0108d0>"
      ]
     },
     "metadata": {},
     "output_type": "display_data"
    },
    {
     "name": "stdout",
     "output_type": "stream",
     "text": [
      "    ______           __  ______     __  _                 __            \n",
      "   / ____/___ ______/ /_/ ____/____/ /_(_)___ ___  ____ _/ /_____  _____\n",
      "  / /_  / __ `/ ___/ __/ __/ / ___/ __/ / __ `__ \\/ __ `/ __/ __ \\/ ___/\n",
      " / __/ / /_/ (__  ) /_/ /___(__  ) /_/ / / / / / / /_/ / /_/ /_/ / /    \n",
      "/_/    \\__,_/____/\\__/_____/____/\\__/_/_/ /_/ /_/\\__,_/\\__/\\____/_/     \n",
      "                                                                        \n",
      "\n",
      "FastEstimator-Warn: No ModelSaver Trace detected. Models will not be saved.\n",
      "FastEstimator-Start: step: 1; num_device: 3; logging_interval: 1000; \n",
      "FastEstimator-Train: step: 1; adv_ce: 2.3217402; base_ce: 2.304429; avg_ce: 2.3130846; \n",
      "FastEstimator-Train: step: 98; epoch: 1; epoch_time: 2.45 sec; \n",
      "FastEstimator-Eval: step: 98; epoch: 1; adv_ce: 2.0530217; base_ce: 1.8539425; avg_ce: 1.9534823; clean_accuracy: 0.328; adversarial_accuracy: 0.2432; \n",
      "FastEstimator-Train: step: 196; epoch: 2; epoch_time: 2.53 sec; \n",
      "FastEstimator-Eval: step: 196; epoch: 2; adv_ce: 1.7908413; base_ce: 1.5254725; avg_ce: 1.658157; clean_accuracy: 0.428; adversarial_accuracy: 0.3208; \n",
      "FastEstimator-Finish: step: 196; total_time: 8.76 sec; adv_model_lr: 0.001; \n"
     ]
    },
    {
     "data": {
      "text/html": [
       "<pre style=\"white-space:pre;overflow-x:auto;line-height:normal;font-family:Menlo,'DejaVu Sans Mono',consolas,'Courier New',monospace\"><span style=\"color: #7fbfbf\">[03:53:35] </span><span style=\"color: #000080\">INFO</span>     Sending metric for task train, round number <span style=\"color: #000080; font-weight: bold\">0</span>: adv_ce   <span style=\"color: #000080; font-weight: bold\">2.32174015045166</span>                                                 <a href=\"file:///home/itrushkin/.virtualenvs/fledge/lib/python3.6/site-packages/fledge/component/collaborator/collaborator.py\"><span style=\"color: #7f7f7f\">collaborator.py</span></a><span style=\"color: #7f7f7f\">:318</span>\n",
       "</pre>\n"
      ],
      "text/plain": [
       "<rich.jupyter.JupyterRenderable at 0x7f7f412b6128>"
      ]
     },
     "metadata": {},
     "output_type": "display_data"
    },
    {
     "data": {
      "text/html": [
       "<pre style=\"white-space:pre;overflow-x:auto;line-height:normal;font-family:Menlo,'DejaVu Sans Mono',consolas,'Courier New',monospace\"><span style=\"color: #7fbfbf\">           </span><span style=\"color: #000080\">INFO</span>     Sending metric for task train, round number <span style=\"color: #000080; font-weight: bold\">0</span>: base_ce  <span style=\"color: #000080; font-weight: bold\">2.304429054260254</span>                                                <a href=\"file:///home/itrushkin/.virtualenvs/fledge/lib/python3.6/site-packages/fledge/component/collaborator/collaborator.py\"><span style=\"color: #7f7f7f\">collaborator.py</span></a><span style=\"color: #7f7f7f\">:318</span>\n",
       "</pre>\n"
      ],
      "text/plain": [
       "<rich.jupyter.JupyterRenderable at 0x7f7f3f00e080>"
      ]
     },
     "metadata": {},
     "output_type": "display_data"
    },
    {
     "data": {
      "text/html": [
       "<pre style=\"white-space:pre;overflow-x:auto;line-height:normal;font-family:Menlo,'DejaVu Sans Mono',consolas,'Courier New',monospace\"><span style=\"color: #7fbfbf\">           </span><span style=\"color: #000080\">INFO</span>     Collaborator two is sending task results for train, round <span style=\"color: #000080; font-weight: bold\">0</span>                                                                <a href=\"file:///home/itrushkin/.virtualenvs/fledge/lib/python3.6/site-packages/fledge/component/aggregator/aggregator.py\"><span style=\"color: #7f7f7f\">aggregator.py</span></a><span style=\"color: #7f7f7f\">:369</span>\n",
       "</pre>\n"
      ],
      "text/plain": [
       "<rich.jupyter.JupyterRenderable at 0x7f7f3f018da0>"
      ]
     },
     "metadata": {},
     "output_type": "display_data"
    },
    {
     "name": "stdout",
     "output_type": "stream",
     "text": [
      "FastEstimator-Test: step: 196; epoch: 2; clean_accuracy: 0.4168; adversarial_accuracy: 0.3144; \n"
     ]
    },
    {
     "data": {
      "text/html": [
       "<pre style=\"white-space:pre;overflow-x:auto;line-height:normal;font-family:Menlo,'DejaVu Sans Mono',consolas,'Courier New',monospace\"><span style=\"color: #7fbfbf\">[03:53:36] </span><span style=\"color: #000080\">INFO</span>     Sending metric for task locally_tuned_model_validation, round number <span style=\"color: #000080; font-weight: bold\">0</span>: clean_accuracy  <span style=\"color: #000080; font-weight: bold\">0.4168</span>                           <a href=\"file:///home/itrushkin/.virtualenvs/fledge/lib/python3.6/site-packages/fledge/component/collaborator/collaborator.py\"><span style=\"color: #7f7f7f\">collaborator.py</span></a><span style=\"color: #7f7f7f\">:318</span>\n",
       "</pre>\n"
      ],
      "text/plain": [
       "<rich.jupyter.JupyterRenderable at 0x7f7f3f016048>"
      ]
     },
     "metadata": {},
     "output_type": "display_data"
    },
    {
     "data": {
      "text/html": [
       "<pre style=\"white-space:pre;overflow-x:auto;line-height:normal;font-family:Menlo,'DejaVu Sans Mono',consolas,'Courier New',monospace\"><span style=\"color: #7fbfbf\">           </span><span style=\"color: #000080\">INFO</span>     Sending metric for task locally_tuned_model_validation, round number <span style=\"color: #000080; font-weight: bold\">0</span>: adversarial_accuracy    <span style=\"color: #000080; font-weight: bold\">0.3144</span>                   <a href=\"file:///home/itrushkin/.virtualenvs/fledge/lib/python3.6/site-packages/fledge/component/collaborator/collaborator.py\"><span style=\"color: #7f7f7f\">collaborator.py</span></a><span style=\"color: #7f7f7f\">:318</span>\n",
       "</pre>\n"
      ],
      "text/plain": [
       "<rich.jupyter.JupyterRenderable at 0x7f7f3f01f048>"
      ]
     },
     "metadata": {},
     "output_type": "display_data"
    },
    {
     "data": {
      "text/html": [
       "<pre style=\"white-space:pre;overflow-x:auto;line-height:normal;font-family:Menlo,'DejaVu Sans Mono',consolas,'Courier New',monospace\"><span style=\"color: #7fbfbf\">           </span><span style=\"color: #000080\">INFO</span>     Collaborator two is sending task results for locally_tuned_model_validation, round <span style=\"color: #000080; font-weight: bold\">0</span>                                       <a href=\"file:///home/itrushkin/.virtualenvs/fledge/lib/python3.6/site-packages/fledge/component/aggregator/aggregator.py\"><span style=\"color: #7f7f7f\">aggregator.py</span></a><span style=\"color: #7f7f7f\">:369</span>\n",
       "</pre>\n"
      ],
      "text/plain": [
       "<rich.jupyter.JupyterRenderable at 0x7f7f410b86d8>"
      ]
     },
     "metadata": {},
     "output_type": "display_data"
    },
    {
     "data": {
      "text/html": [
       "<pre style=\"white-space:pre;overflow-x:auto;line-height:normal;font-family:Menlo,'DejaVu Sans Mono',consolas,'Courier New',monospace\"><span style=\"color: #7fbfbf\">           </span><span style=\"color: #000080\">INFO</span>     train task metrics<span style=\"color: #808000\">...</span>                                                                                                      <a href=\"file:///home/itrushkin/.virtualenvs/fledge/lib/python3.6/site-packages/fledge/component/aggregator/aggregator.py\"><span style=\"color: #7f7f7f\">aggregator.py</span></a><span style=\"color: #7f7f7f\">:505</span>\n",
       "</pre>\n"
      ],
      "text/plain": [
       "<rich.jupyter.JupyterRenderable at 0x7f7f3f01f048>"
      ]
     },
     "metadata": {},
     "output_type": "display_data"
    },
    {
     "data": {
      "text/html": [
       "<pre style=\"white-space:pre;overflow-x:auto;line-height:normal;font-family:Menlo,'DejaVu Sans Mono',consolas,'Courier New',monospace\"><span style=\"color: #7fbfbf\">           </span><span style=\"color: #000080\">INFO</span>     adv_ce: <span style=\"color: #000080; font-weight: bold\">2.3203</span>                                                                                                             <a href=\"file:///home/itrushkin/.virtualenvs/fledge/lib/python3.6/site-packages/fledge/component/aggregator/aggregator.py\"><span style=\"color: #7f7f7f\">aggregator.py</span></a><span style=\"color: #7f7f7f\">:539</span>\n",
       "</pre>\n"
      ],
      "text/plain": [
       "<rich.jupyter.JupyterRenderable at 0x7f7f410b8438>"
      ]
     },
     "metadata": {},
     "output_type": "display_data"
    },
    {
     "data": {
      "text/html": [
       "<pre style=\"white-space:pre;overflow-x:auto;line-height:normal;font-family:Menlo,'DejaVu Sans Mono',consolas,'Courier New',monospace\"><span style=\"color: #7fbfbf\">           </span><span style=\"color: #000080\">INFO</span>     base_ce:        <span style=\"color: #000080; font-weight: bold\">2.3035</span>                                                                                                     <a href=\"file:///home/itrushkin/.virtualenvs/fledge/lib/python3.6/site-packages/fledge/component/aggregator/aggregator.py\"><span style=\"color: #7f7f7f\">aggregator.py</span></a><span style=\"color: #7f7f7f\">:539</span>\n",
       "</pre>\n"
      ],
      "text/plain": [
       "<rich.jupyter.JupyterRenderable at 0x7f7f3f016898>"
      ]
     },
     "metadata": {},
     "output_type": "display_data"
    },
    {
     "data": {
      "text/html": [
       "<pre style=\"white-space:pre;overflow-x:auto;line-height:normal;font-family:Menlo,'DejaVu Sans Mono',consolas,'Courier New',monospace\"><span style=\"color: #7fbfbf\">           </span><span style=\"color: #000080\">INFO</span>     locally_tuned_model_validation task metrics<span style=\"color: #808000\">...</span>                                                                             <a href=\"file:///home/itrushkin/.virtualenvs/fledge/lib/python3.6/site-packages/fledge/component/aggregator/aggregator.py\"><span style=\"color: #7f7f7f\">aggregator.py</span></a><span style=\"color: #7f7f7f\">:505</span>\n",
       "</pre>\n"
      ],
      "text/plain": [
       "<rich.jupyter.JupyterRenderable at 0x7f7f410b8a90>"
      ]
     },
     "metadata": {},
     "output_type": "display_data"
    },
    {
     "data": {
      "text/html": [
       "<pre style=\"white-space:pre;overflow-x:auto;line-height:normal;font-family:Menlo,'DejaVu Sans Mono',consolas,'Courier New',monospace\"><span style=\"color: #7fbfbf\">           </span><span style=\"color: #000080\">INFO</span>     clean_accuracy: <span style=\"color: #000080; font-weight: bold\">0.4160</span>                                                                                                     <a href=\"file:///home/itrushkin/.virtualenvs/fledge/lib/python3.6/site-packages/fledge/component/aggregator/aggregator.py\"><span style=\"color: #7f7f7f\">aggregator.py</span></a><span style=\"color: #7f7f7f\">:539</span>\n",
       "</pre>\n"
      ],
      "text/plain": [
       "<rich.jupyter.JupyterRenderable at 0x7f7f3f016048>"
      ]
     },
     "metadata": {},
     "output_type": "display_data"
    },
    {
     "data": {
      "text/html": [
       "<pre style=\"white-space:pre;overflow-x:auto;line-height:normal;font-family:Menlo,'DejaVu Sans Mono',consolas,'Courier New',monospace\"><span style=\"color: #7fbfbf\">           </span><span style=\"color: #000080\">INFO</span>     adversarial_accuracy:   <span style=\"color: #000080; font-weight: bold\">0.3128</span>                                                                                             <a href=\"file:///home/itrushkin/.virtualenvs/fledge/lib/python3.6/site-packages/fledge/component/aggregator/aggregator.py\"><span style=\"color: #7f7f7f\">aggregator.py</span></a><span style=\"color: #7f7f7f\">:539</span>\n",
       "</pre>\n"
      ],
      "text/plain": [
       "<rich.jupyter.JupyterRenderable at 0x7f7f3f017a90>"
      ]
     },
     "metadata": {},
     "output_type": "display_data"
    },
    {
     "data": {
      "text/html": [
       "<pre style=\"white-space:pre;overflow-x:auto;line-height:normal;font-family:Menlo,'DejaVu Sans Mono',consolas,'Courier New',monospace\"><span style=\"color: #7fbfbf\">           </span><span style=\"color: #000080\">INFO</span>     aggregated_model_validation task metrics<span style=\"color: #808000\">...</span>                                                                                <a href=\"file:///home/itrushkin/.virtualenvs/fledge/lib/python3.6/site-packages/fledge/component/aggregator/aggregator.py\"><span style=\"color: #7f7f7f\">aggregator.py</span></a><span style=\"color: #7f7f7f\">:505</span>\n",
       "</pre>\n"
      ],
      "text/plain": [
       "<rich.jupyter.JupyterRenderable at 0x7f7f410b8898>"
      ]
     },
     "metadata": {},
     "output_type": "display_data"
    },
    {
     "data": {
      "text/html": [
       "<pre style=\"white-space:pre;overflow-x:auto;line-height:normal;font-family:Menlo,'DejaVu Sans Mono',consolas,'Courier New',monospace\"><span style=\"color: #7fbfbf\">           </span><span style=\"color: #000080\">INFO</span>     clean_accuracy: <span style=\"color: #000080; font-weight: bold\">0.0984</span>                                                                                                     <a href=\"file:///home/itrushkin/.virtualenvs/fledge/lib/python3.6/site-packages/fledge/component/aggregator/aggregator.py\"><span style=\"color: #7f7f7f\">aggregator.py</span></a><span style=\"color: #7f7f7f\">:539</span>\n",
       "</pre>\n"
      ],
      "text/plain": [
       "<rich.jupyter.JupyterRenderable at 0x7f7f3f017358>"
      ]
     },
     "metadata": {},
     "output_type": "display_data"
    },
    {
     "data": {
      "text/html": [
       "<pre style=\"white-space:pre;overflow-x:auto;line-height:normal;font-family:Menlo,'DejaVu Sans Mono',consolas,'Courier New',monospace\"><span style=\"color: #7fbfbf\">           </span><span style=\"color: #000080\">INFO</span>     Saved the best model with score <span style=\"color: #000080; font-weight: bold\">0.098400</span>                                                                                   <a href=\"file:///home/itrushkin/.virtualenvs/fledge/lib/python3.6/site-packages/fledge/component/aggregator/aggregator.py\"><span style=\"color: #7f7f7f\">aggregator.py</span></a><span style=\"color: #7f7f7f\">:546</span>\n",
       "</pre>\n"
      ],
      "text/plain": [
       "<rich.jupyter.JupyterRenderable at 0x7f7f3f016a20>"
      ]
     },
     "metadata": {},
     "output_type": "display_data"
    },
    {
     "data": {
      "text/html": [
       "<pre style=\"white-space:pre;overflow-x:auto;line-height:normal;font-family:Menlo,'DejaVu Sans Mono',consolas,'Courier New',monospace\"><span style=\"color: #7fbfbf\">           </span><span style=\"color: #000080\">INFO</span>     adversarial_accuracy:   <span style=\"color: #000080; font-weight: bold\">0.0984</span>                                                                                             <a href=\"file:///home/itrushkin/.virtualenvs/fledge/lib/python3.6/site-packages/fledge/component/aggregator/aggregator.py\"><span style=\"color: #7f7f7f\">aggregator.py</span></a><span style=\"color: #7f7f7f\">:539</span>\n",
       "</pre>\n"
      ],
      "text/plain": [
       "<rich.jupyter.JupyterRenderable at 0x7f7f3f017e80>"
      ]
     },
     "metadata": {},
     "output_type": "display_data"
    },
    {
     "data": {
      "text/html": [
       "<pre style=\"white-space:pre;overflow-x:auto;line-height:normal;font-family:Menlo,'DejaVu Sans Mono',consolas,'Courier New',monospace\"><span style=\"color: #7fbfbf\">           </span><span style=\"color: #000080\">INFO</span>     Saving round <span style=\"color: #000080; font-weight: bold\">1</span> model<span style=\"color: #808000\">...</span>                                                                                                    <a href=\"file:///home/itrushkin/.virtualenvs/fledge/lib/python3.6/site-packages/fledge/component/aggregator/aggregator.py\"><span style=\"color: #7f7f7f\">aggregator.py</span></a><span style=\"color: #7f7f7f\">:602</span>\n",
       "</pre>\n"
      ],
      "text/plain": [
       "<rich.jupyter.JupyterRenderable at 0x7f7f3f016a20>"
      ]
     },
     "metadata": {},
     "output_type": "display_data"
    },
    {
     "data": {
      "text/html": [
       "<pre style=\"white-space:pre;overflow-x:auto;line-height:normal;font-family:Menlo,'DejaVu Sans Mono',consolas,'Courier New',monospace\"><span style=\"color: #7fbfbf\">           </span><span style=\"color: #000080\">INFO</span>     Starting round <span style=\"color: #000080; font-weight: bold\">1</span><span style=\"color: #808000\">...</span>                                                                                                        <a href=\"file:///home/itrushkin/.virtualenvs/fledge/lib/python3.6/site-packages/fledge/component/aggregator/aggregator.py\"><span style=\"color: #7f7f7f\">aggregator.py</span></a><span style=\"color: #7f7f7f\">:610</span>\n",
       "</pre>\n"
      ],
      "text/plain": [
       "<rich.jupyter.JupyterRenderable at 0x7f7f3f01f048>"
      ]
     },
     "metadata": {},
     "output_type": "display_data"
    },
    {
     "data": {
      "text/html": [
       "<pre style=\"white-space:pre;overflow-x:auto;line-height:normal;font-family:Menlo,'DejaVu Sans Mono',consolas,'Courier New',monospace\"><span style=\"color: #7fbfbf\">           </span><span style=\"color: #000080\">INFO</span>     All tasks completed on two for round <span style=\"color: #000080; font-weight: bold\">0</span><span style=\"color: #808000\">...</span>                                                                                <a href=\"file:///home/itrushkin/.virtualenvs/fledge/lib/python3.6/site-packages/fledge/component/collaborator/collaborator.py\"><span style=\"color: #7f7f7f\">collaborator.py</span></a><span style=\"color: #7f7f7f\">:158</span>\n",
       "</pre>\n"
      ],
      "text/plain": [
       "<rich.jupyter.JupyterRenderable at 0x7f7f3f01c320>"
      ]
     },
     "metadata": {},
     "output_type": "display_data"
    },
    {
     "data": {
      "text/html": [
       "<pre style=\"white-space:pre;overflow-x:auto;line-height:normal;font-family:Menlo,'DejaVu Sans Mono',consolas,'Courier New',monospace\"><span style=\"color: #7fbfbf\">           </span><span style=\"color: #000080\">INFO</span>     Aggregator GetTasks function reached from collaborator one<span style=\"color: #808000\">...</span>                                                              <a href=\"file:///home/itrushkin/.virtualenvs/fledge/lib/python3.6/site-packages/fledge/component/aggregator/aggregator.py\"><span style=\"color: #7f7f7f\">aggregator.py</span></a><span style=\"color: #7f7f7f\">:215</span>\n",
       "</pre>\n"
      ],
      "text/plain": [
       "<rich.jupyter.JupyterRenderable at 0x7f7f3f01f048>"
      ]
     },
     "metadata": {},
     "output_type": "display_data"
    },
    {
     "data": {
      "text/html": [
       "<pre style=\"white-space:pre;overflow-x:auto;line-height:normal;font-family:Menlo,'DejaVu Sans Mono',consolas,'Courier New',monospace\"><span style=\"color: #7fbfbf\">           </span><span style=\"color: #000080\">INFO</span>     Sending tasks to collaborator one for round <span style=\"color: #000080; font-weight: bold\">1</span>                                                                              <a href=\"file:///home/itrushkin/.virtualenvs/fledge/lib/python3.6/site-packages/fledge/component/aggregator/aggregator.py\"><span style=\"color: #7f7f7f\">aggregator.py</span></a><span style=\"color: #7f7f7f\">:249</span>\n",
       "</pre>\n"
      ],
      "text/plain": [
       "<rich.jupyter.JupyterRenderable at 0x7f7f3f016a20>"
      ]
     },
     "metadata": {},
     "output_type": "display_data"
    },
    {
     "data": {
      "text/html": [
       "<pre style=\"white-space:pre;overflow-x:auto;line-height:normal;font-family:Menlo,'DejaVu Sans Mono',consolas,'Courier New',monospace\"><span style=\"color: #7fbfbf\">           </span><span style=\"color: #000080\">INFO</span>     Received the following tasks: <span style=\"font-weight: bold\">[</span><span style=\"color: #008000\">'aggregated_model_validation'</span>, <span style=\"color: #008000\">'train'</span>, <span style=\"color: #008000\">'locally_tuned_model_validation'</span><span style=\"font-weight: bold\">]</span>                 <a href=\"file:///home/itrushkin/.virtualenvs/fledge/lib/python3.6/site-packages/fledge/component/collaborator/collaborator.py\"><span style=\"color: #7f7f7f\">collaborator.py</span></a><span style=\"color: #7f7f7f\">:155</span>\n",
       "</pre>\n"
      ],
      "text/plain": [
       "<rich.jupyter.JupyterRenderable at 0x7f7f3f01f048>"
      ]
     },
     "metadata": {},
     "output_type": "display_data"
    },
    {
     "name": "stdout",
     "output_type": "stream",
     "text": [
      "FastEstimator-Test: step: 196; epoch: 2; clean_accuracy: 0.3296; adversarial_accuracy: 0.2592; \n"
     ]
    },
    {
     "data": {
      "text/html": [
       "<pre style=\"white-space:pre;overflow-x:auto;line-height:normal;font-family:Menlo,'DejaVu Sans Mono',consolas,'Courier New',monospace\"><span style=\"color: #7fbfbf\">[03:53:37] </span><span style=\"color: #000080\">INFO</span>     Sending metric for task aggregated_model_validation, round number <span style=\"color: #000080; font-weight: bold\">1</span>: clean_accuracy     <span style=\"color: #000080; font-weight: bold\">0.3296</span>                           <a href=\"file:///home/itrushkin/.virtualenvs/fledge/lib/python3.6/site-packages/fledge/component/collaborator/collaborator.py\"><span style=\"color: #7f7f7f\">collaborator.py</span></a><span style=\"color: #7f7f7f\">:318</span>\n",
       "</pre>\n"
      ],
      "text/plain": [
       "<rich.jupyter.JupyterRenderable at 0x7f7f3f01f048>"
      ]
     },
     "metadata": {},
     "output_type": "display_data"
    },
    {
     "data": {
      "text/html": [
       "<pre style=\"white-space:pre;overflow-x:auto;line-height:normal;font-family:Menlo,'DejaVu Sans Mono',consolas,'Courier New',monospace\"><span style=\"color: #7fbfbf\">[03:53:38] </span><span style=\"color: #000080\">INFO</span>     Sending metric for task aggregated_model_validation, round number <span style=\"color: #000080; font-weight: bold\">1</span>: adversarial_accuracy       <span style=\"color: #000080; font-weight: bold\">0.2592</span>                   <a href=\"file:///home/itrushkin/.virtualenvs/fledge/lib/python3.6/site-packages/fledge/component/collaborator/collaborator.py\"><span style=\"color: #7f7f7f\">collaborator.py</span></a><span style=\"color: #7f7f7f\">:318</span>\n",
       "</pre>\n"
      ],
      "text/plain": [
       "<rich.jupyter.JupyterRenderable at 0x7f7f41055eb8>"
      ]
     },
     "metadata": {},
     "output_type": "display_data"
    },
    {
     "data": {
      "text/html": [
       "<pre style=\"white-space:pre;overflow-x:auto;line-height:normal;font-family:Menlo,'DejaVu Sans Mono',consolas,'Courier New',monospace\"><span style=\"color: #7fbfbf\">           </span><span style=\"color: #000080\">INFO</span>     Collaborator one is sending task results for aggregated_model_validation, round <span style=\"color: #000080; font-weight: bold\">1</span>                                          <a href=\"file:///home/itrushkin/.virtualenvs/fledge/lib/python3.6/site-packages/fledge/component/aggregator/aggregator.py\"><span style=\"color: #7f7f7f\">aggregator.py</span></a><span style=\"color: #7f7f7f\">:369</span>\n",
       "</pre>\n"
      ],
      "text/plain": [
       "<rich.jupyter.JupyterRenderable at 0x7f7f41055550>"
      ]
     },
     "metadata": {},
     "output_type": "display_data"
    },
    {
     "name": "stdout",
     "output_type": "stream",
     "text": [
      "    ______           __  ______     __  _                 __            \n",
      "   / ____/___ ______/ /_/ ____/____/ /_(_)___ ___  ____ _/ /_____  _____\n",
      "  / /_  / __ `/ ___/ __/ __/ / ___/ __/ / __ `__ \\/ __ `/ __/ __ \\/ ___/\n",
      " / __/ / /_/ (__  ) /_/ /___(__  ) /_/ / / / / / / /_/ / /_/ /_/ / /    \n",
      "/_/    \\__,_/____/\\__/_____/____/\\__/_/_/ /_/ /_/\\__,_/\\__/\\____/_/     \n",
      "                                                                        \n",
      "\n",
      "FastEstimator-Warn: No ModelSaver Trace detected. Models will not be saved.\n",
      "FastEstimator-Start: step: 1; num_device: 3; logging_interval: 1000; \n",
      "FastEstimator-Train: step: 1; adv_ce: 2.074706; base_ce: 1.9664017; avg_ce: 2.0205538; \n",
      "FastEstimator-Train: step: 98; epoch: 1; epoch_time: 2.83 sec; \n",
      "FastEstimator-Eval: step: 98; epoch: 1; adv_ce: 1.7114029; base_ce: 1.4413623; avg_ce: 1.5763826; clean_accuracy: 0.4832; adversarial_accuracy: 0.3448; \n",
      "FastEstimator-Train: step: 196; epoch: 2; epoch_time: 2.88 sec; \n",
      "FastEstimator-Eval: step: 196; epoch: 2; adv_ce: 1.7229799; base_ce: 1.4072167; avg_ce: 1.5650984; clean_accuracy: 0.4984; adversarial_accuracy: 0.3712; \n",
      "FastEstimator-Finish: step: 196; total_time: 9.47 sec; adv_model_lr: 0.001; \n"
     ]
    },
    {
     "data": {
      "text/html": [
       "<pre style=\"white-space:pre;overflow-x:auto;line-height:normal;font-family:Menlo,'DejaVu Sans Mono',consolas,'Courier New',monospace\"><span style=\"color: #7fbfbf\">[03:53:49] </span><span style=\"color: #000080\">INFO</span>     Sending metric for task train, round number <span style=\"color: #000080; font-weight: bold\">1</span>: adv_ce   <span style=\"color: #000080; font-weight: bold\">2.0747060775756836</span>                                               <a href=\"file:///home/itrushkin/.virtualenvs/fledge/lib/python3.6/site-packages/fledge/component/collaborator/collaborator.py\"><span style=\"color: #7f7f7f\">collaborator.py</span></a><span style=\"color: #7f7f7f\">:318</span>\n",
       "</pre>\n"
      ],
      "text/plain": [
       "<rich.jupyter.JupyterRenderable at 0x7f7f3eda9160>"
      ]
     },
     "metadata": {},
     "output_type": "display_data"
    },
    {
     "data": {
      "text/html": [
       "<pre style=\"white-space:pre;overflow-x:auto;line-height:normal;font-family:Menlo,'DejaVu Sans Mono',consolas,'Courier New',monospace\"><span style=\"color: #7fbfbf\">           </span><span style=\"color: #000080\">INFO</span>     Sending metric for task train, round number <span style=\"color: #000080; font-weight: bold\">1</span>: base_ce  <span style=\"color: #000080; font-weight: bold\">1.9664016962051392</span>                                               <a href=\"file:///home/itrushkin/.virtualenvs/fledge/lib/python3.6/site-packages/fledge/component/collaborator/collaborator.py\"><span style=\"color: #7f7f7f\">collaborator.py</span></a><span style=\"color: #7f7f7f\">:318</span>\n",
       "</pre>\n"
      ],
      "text/plain": [
       "<rich.jupyter.JupyterRenderable at 0x7f7f3eda9048>"
      ]
     },
     "metadata": {},
     "output_type": "display_data"
    },
    {
     "data": {
      "text/html": [
       "<pre style=\"white-space:pre;overflow-x:auto;line-height:normal;font-family:Menlo,'DejaVu Sans Mono',consolas,'Courier New',monospace\"><span style=\"color: #7fbfbf\">           </span><span style=\"color: #000080\">INFO</span>     Collaborator one is sending task results for train, round <span style=\"color: #000080; font-weight: bold\">1</span>                                                                <a href=\"file:///home/itrushkin/.virtualenvs/fledge/lib/python3.6/site-packages/fledge/component/aggregator/aggregator.py\"><span style=\"color: #7f7f7f\">aggregator.py</span></a><span style=\"color: #7f7f7f\">:369</span>\n",
       "</pre>\n"
      ],
      "text/plain": [
       "<rich.jupyter.JupyterRenderable at 0x7f7f3eda9160>"
      ]
     },
     "metadata": {},
     "output_type": "display_data"
    },
    {
     "name": "stdout",
     "output_type": "stream",
     "text": [
      "FastEstimator-Test: step: 196; epoch: 2; clean_accuracy: 0.4768; adversarial_accuracy: 0.3416; \n"
     ]
    },
    {
     "data": {
      "text/html": [
       "<pre style=\"white-space:pre;overflow-x:auto;line-height:normal;font-family:Menlo,'DejaVu Sans Mono',consolas,'Courier New',monospace\"><span style=\"color: #7fbfbf\">[03:53:50] </span><span style=\"color: #000080\">INFO</span>     Sending metric for task locally_tuned_model_validation, round number <span style=\"color: #000080; font-weight: bold\">1</span>: clean_accuracy  <span style=\"color: #000080; font-weight: bold\">0.4768</span>                           <a href=\"file:///home/itrushkin/.virtualenvs/fledge/lib/python3.6/site-packages/fledge/component/collaborator/collaborator.py\"><span style=\"color: #7f7f7f\">collaborator.py</span></a><span style=\"color: #7f7f7f\">:318</span>\n",
       "</pre>\n"
      ],
      "text/plain": [
       "<rich.jupyter.JupyterRenderable at 0x7f7f3f016f98>"
      ]
     },
     "metadata": {},
     "output_type": "display_data"
    },
    {
     "data": {
      "text/html": [
       "<pre style=\"white-space:pre;overflow-x:auto;line-height:normal;font-family:Menlo,'DejaVu Sans Mono',consolas,'Courier New',monospace\"><span style=\"color: #7fbfbf\">           </span><span style=\"color: #000080\">INFO</span>     Sending metric for task locally_tuned_model_validation, round number <span style=\"color: #000080; font-weight: bold\">1</span>: adversarial_accuracy    <span style=\"color: #000080; font-weight: bold\">0.3416</span>                   <a href=\"file:///home/itrushkin/.virtualenvs/fledge/lib/python3.6/site-packages/fledge/component/collaborator/collaborator.py\"><span style=\"color: #7f7f7f\">collaborator.py</span></a><span style=\"color: #7f7f7f\">:318</span>\n",
       "</pre>\n"
      ],
      "text/plain": [
       "<rich.jupyter.JupyterRenderable at 0x7f7f3f016f98>"
      ]
     },
     "metadata": {},
     "output_type": "display_data"
    },
    {
     "data": {
      "text/html": [
       "<pre style=\"white-space:pre;overflow-x:auto;line-height:normal;font-family:Menlo,'DejaVu Sans Mono',consolas,'Courier New',monospace\"><span style=\"color: #7fbfbf\">           </span><span style=\"color: #000080\">INFO</span>     Collaborator one is sending task results for locally_tuned_model_validation, round <span style=\"color: #000080; font-weight: bold\">1</span>                                       <a href=\"file:///home/itrushkin/.virtualenvs/fledge/lib/python3.6/site-packages/fledge/component/aggregator/aggregator.py\"><span style=\"color: #7f7f7f\">aggregator.py</span></a><span style=\"color: #7f7f7f\">:369</span>\n",
       "</pre>\n"
      ],
      "text/plain": [
       "<rich.jupyter.JupyterRenderable at 0x7f7f410c11d0>"
      ]
     },
     "metadata": {},
     "output_type": "display_data"
    },
    {
     "data": {
      "text/html": [
       "<pre style=\"white-space:pre;overflow-x:auto;line-height:normal;font-family:Menlo,'DejaVu Sans Mono',consolas,'Courier New',monospace\"><span style=\"color: #7fbfbf\">           </span><span style=\"color: #000080\">INFO</span>     All tasks completed on one for round <span style=\"color: #000080; font-weight: bold\">1</span><span style=\"color: #808000\">...</span>                                                                                <a href=\"file:///home/itrushkin/.virtualenvs/fledge/lib/python3.6/site-packages/fledge/component/collaborator/collaborator.py\"><span style=\"color: #7f7f7f\">collaborator.py</span></a><span style=\"color: #7f7f7f\">:158</span>\n",
       "</pre>\n"
      ],
      "text/plain": [
       "<rich.jupyter.JupyterRenderable at 0x7f7f410d2860>"
      ]
     },
     "metadata": {},
     "output_type": "display_data"
    },
    {
     "data": {
      "text/html": [
       "<pre style=\"white-space:pre;overflow-x:auto;line-height:normal;font-family:Menlo,'DejaVu Sans Mono',consolas,'Courier New',monospace\"><span style=\"color: #7fbfbf\">           </span><span style=\"color: #000080\">INFO</span>     Aggregator GetTasks function reached from collaborator two<span style=\"color: #808000\">...</span>                                                              <a href=\"file:///home/itrushkin/.virtualenvs/fledge/lib/python3.6/site-packages/fledge/component/aggregator/aggregator.py\"><span style=\"color: #7f7f7f\">aggregator.py</span></a><span style=\"color: #7f7f7f\">:215</span>\n",
       "</pre>\n"
      ],
      "text/plain": [
       "<rich.jupyter.JupyterRenderable at 0x7f7f3f01f160>"
      ]
     },
     "metadata": {},
     "output_type": "display_data"
    },
    {
     "data": {
      "text/html": [
       "<pre style=\"white-space:pre;overflow-x:auto;line-height:normal;font-family:Menlo,'DejaVu Sans Mono',consolas,'Courier New',monospace\"><span style=\"color: #7fbfbf\">           </span><span style=\"color: #000080\">INFO</span>     Sending tasks to collaborator two for round <span style=\"color: #000080; font-weight: bold\">1</span>                                                                              <a href=\"file:///home/itrushkin/.virtualenvs/fledge/lib/python3.6/site-packages/fledge/component/aggregator/aggregator.py\"><span style=\"color: #7f7f7f\">aggregator.py</span></a><span style=\"color: #7f7f7f\">:249</span>\n",
       "</pre>\n"
      ],
      "text/plain": [
       "<rich.jupyter.JupyterRenderable at 0x7f7f4108ee80>"
      ]
     },
     "metadata": {},
     "output_type": "display_data"
    },
    {
     "data": {
      "text/html": [
       "<pre style=\"white-space:pre;overflow-x:auto;line-height:normal;font-family:Menlo,'DejaVu Sans Mono',consolas,'Courier New',monospace\"><span style=\"color: #7fbfbf\">           </span><span style=\"color: #000080\">INFO</span>     Received the following tasks: <span style=\"font-weight: bold\">[</span><span style=\"color: #008000\">'aggregated_model_validation'</span>, <span style=\"color: #008000\">'train'</span>, <span style=\"color: #008000\">'locally_tuned_model_validation'</span><span style=\"font-weight: bold\">]</span>                 <a href=\"file:///home/itrushkin/.virtualenvs/fledge/lib/python3.6/site-packages/fledge/component/collaborator/collaborator.py\"><span style=\"color: #7f7f7f\">collaborator.py</span></a><span style=\"color: #7f7f7f\">:155</span>\n",
       "</pre>\n"
      ],
      "text/plain": [
       "<rich.jupyter.JupyterRenderable at 0x7f7f3eda9c88>"
      ]
     },
     "metadata": {},
     "output_type": "display_data"
    },
    {
     "name": "stdout",
     "output_type": "stream",
     "text": [
      "FastEstimator-Test: step: 196; epoch: 2; clean_accuracy: 0.3296; adversarial_accuracy: 0.2592; \n"
     ]
    },
    {
     "data": {
      "text/html": [
       "<pre style=\"white-space:pre;overflow-x:auto;line-height:normal;font-family:Menlo,'DejaVu Sans Mono',consolas,'Courier New',monospace\"><span style=\"color: #7fbfbf\">[03:53:51] </span><span style=\"color: #000080\">INFO</span>     Sending metric for task aggregated_model_validation, round number <span style=\"color: #000080; font-weight: bold\">1</span>: clean_accuracy     <span style=\"color: #000080; font-weight: bold\">0.3296</span>                           <a href=\"file:///home/itrushkin/.virtualenvs/fledge/lib/python3.6/site-packages/fledge/component/collaborator/collaborator.py\"><span style=\"color: #7f7f7f\">collaborator.py</span></a><span style=\"color: #7f7f7f\">:318</span>\n",
       "</pre>\n"
      ],
      "text/plain": [
       "<rich.jupyter.JupyterRenderable at 0x7f7f3edb0390>"
      ]
     },
     "metadata": {},
     "output_type": "display_data"
    },
    {
     "data": {
      "text/html": [
       "<pre style=\"white-space:pre;overflow-x:auto;line-height:normal;font-family:Menlo,'DejaVu Sans Mono',consolas,'Courier New',monospace\"><span style=\"color: #7fbfbf\">           </span><span style=\"color: #000080\">INFO</span>     Sending metric for task aggregated_model_validation, round number <span style=\"color: #000080; font-weight: bold\">1</span>: adversarial_accuracy       <span style=\"color: #000080; font-weight: bold\">0.2592</span>                   <a href=\"file:///home/itrushkin/.virtualenvs/fledge/lib/python3.6/site-packages/fledge/component/collaborator/collaborator.py\"><span style=\"color: #7f7f7f\">collaborator.py</span></a><span style=\"color: #7f7f7f\">:318</span>\n",
       "</pre>\n"
      ],
      "text/plain": [
       "<rich.jupyter.JupyterRenderable at 0x7f7f3edb04a8>"
      ]
     },
     "metadata": {},
     "output_type": "display_data"
    },
    {
     "data": {
      "text/html": [
       "<pre style=\"white-space:pre;overflow-x:auto;line-height:normal;font-family:Menlo,'DejaVu Sans Mono',consolas,'Courier New',monospace\"><span style=\"color: #7fbfbf\">           </span><span style=\"color: #000080\">INFO</span>     Collaborator two is sending task results for aggregated_model_validation, round <span style=\"color: #000080; font-weight: bold\">1</span>                                          <a href=\"file:///home/itrushkin/.virtualenvs/fledge/lib/python3.6/site-packages/fledge/component/aggregator/aggregator.py\"><span style=\"color: #7f7f7f\">aggregator.py</span></a><span style=\"color: #7f7f7f\">:369</span>\n",
       "</pre>\n"
      ],
      "text/plain": [
       "<rich.jupyter.JupyterRenderable at 0x7f7f3edb0518>"
      ]
     },
     "metadata": {},
     "output_type": "display_data"
    },
    {
     "name": "stdout",
     "output_type": "stream",
     "text": [
      "    ______           __  ______     __  _                 __            \n",
      "   / ____/___ ______/ /_/ ____/____/ /_(_)___ ___  ____ _/ /_____  _____\n",
      "  / /_  / __ `/ ___/ __/ __/ / ___/ __/ / __ `__ \\/ __ `/ __/ __ \\/ ___/\n",
      " / __/ / /_/ (__  ) /_/ /___(__  ) /_/ / / / / / / /_/ / /_/ /_/ / /    \n",
      "/_/    \\__,_/____/\\__/_____/____/\\__/_/_/ /_/ /_/\\__,_/\\__/\\____/_/     \n",
      "                                                                        \n",
      "\n",
      "FastEstimator-Warn: No ModelSaver Trace detected. Models will not be saved.\n",
      "FastEstimator-Start: step: 1; num_device: 3; logging_interval: 1000; \n",
      "FastEstimator-Train: step: 1; adv_ce: 2.0093818; base_ce: 1.9030671; avg_ce: 1.9562244; \n",
      "FastEstimator-Train: step: 98; epoch: 1; epoch_time: 2.89 sec; \n",
      "FastEstimator-Eval: step: 98; epoch: 1; adv_ce: 1.7406104; base_ce: 1.4809375; avg_ce: 1.6107738; clean_accuracy: 0.476; adversarial_accuracy: 0.344; \n",
      "FastEstimator-Train: step: 196; epoch: 2; epoch_time: 2.87 sec; \n",
      "FastEstimator-Eval: step: 196; epoch: 2; adv_ce: 1.7058529; base_ce: 1.4071091; avg_ce: 1.5564811; clean_accuracy: 0.4864; adversarial_accuracy: 0.3472; \n",
      "FastEstimator-Finish: step: 196; total_time: 9.43 sec; adv_model_lr: 0.001; \n"
     ]
    },
    {
     "data": {
      "text/html": [
       "<pre style=\"white-space:pre;overflow-x:auto;line-height:normal;font-family:Menlo,'DejaVu Sans Mono',consolas,'Courier New',monospace\"><span style=\"color: #7fbfbf\">[03:54:02] </span><span style=\"color: #000080\">INFO</span>     Sending metric for task train, round number <span style=\"color: #000080; font-weight: bold\">1</span>: adv_ce   <span style=\"color: #000080; font-weight: bold\">2.0093817710876465</span>                                               <a href=\"file:///home/itrushkin/.virtualenvs/fledge/lib/python3.6/site-packages/fledge/component/collaborator/collaborator.py\"><span style=\"color: #7f7f7f\">collaborator.py</span></a><span style=\"color: #7f7f7f\">:318</span>\n",
       "</pre>\n"
      ],
      "text/plain": [
       "<rich.jupyter.JupyterRenderable at 0x7f7f3f023dd8>"
      ]
     },
     "metadata": {},
     "output_type": "display_data"
    },
    {
     "data": {
      "text/html": [
       "<pre style=\"white-space:pre;overflow-x:auto;line-height:normal;font-family:Menlo,'DejaVu Sans Mono',consolas,'Courier New',monospace\"><span style=\"color: #7fbfbf\">           </span><span style=\"color: #000080\">INFO</span>     Sending metric for task train, round number <span style=\"color: #000080; font-weight: bold\">1</span>: base_ce  <span style=\"color: #000080; font-weight: bold\">1.9030671119689941</span>                                               <a href=\"file:///home/itrushkin/.virtualenvs/fledge/lib/python3.6/site-packages/fledge/component/collaborator/collaborator.py\"><span style=\"color: #7f7f7f\">collaborator.py</span></a><span style=\"color: #7f7f7f\">:318</span>\n",
       "</pre>\n"
      ],
      "text/plain": [
       "<rich.jupyter.JupyterRenderable at 0x7f7f3f023198>"
      ]
     },
     "metadata": {},
     "output_type": "display_data"
    },
    {
     "data": {
      "text/html": [
       "<pre style=\"white-space:pre;overflow-x:auto;line-height:normal;font-family:Menlo,'DejaVu Sans Mono',consolas,'Courier New',monospace\"><span style=\"color: #7fbfbf\">           </span><span style=\"color: #000080\">INFO</span>     Collaborator two is sending task results for train, round <span style=\"color: #000080; font-weight: bold\">1</span>                                                                <a href=\"file:///home/itrushkin/.virtualenvs/fledge/lib/python3.6/site-packages/fledge/component/aggregator/aggregator.py\"><span style=\"color: #7f7f7f\">aggregator.py</span></a><span style=\"color: #7f7f7f\">:369</span>\n",
       "</pre>\n"
      ],
      "text/plain": [
       "<rich.jupyter.JupyterRenderable at 0x7f7f3f023c18>"
      ]
     },
     "metadata": {},
     "output_type": "display_data"
    },
    {
     "name": "stdout",
     "output_type": "stream",
     "text": [
      "FastEstimator-Test: step: 196; epoch: 2; clean_accuracy: 0.4648; adversarial_accuracy: 0.3376; \n"
     ]
    },
    {
     "data": {
      "text/html": [
       "<pre style=\"white-space:pre;overflow-x:auto;line-height:normal;font-family:Menlo,'DejaVu Sans Mono',consolas,'Courier New',monospace\"><span style=\"color: #7fbfbf\">[03:54:03] </span><span style=\"color: #000080\">INFO</span>     Sending metric for task locally_tuned_model_validation, round number <span style=\"color: #000080; font-weight: bold\">1</span>: clean_accuracy  <span style=\"color: #000080; font-weight: bold\">0.4648</span>                           <a href=\"file:///home/itrushkin/.virtualenvs/fledge/lib/python3.6/site-packages/fledge/component/collaborator/collaborator.py\"><span style=\"color: #7f7f7f\">collaborator.py</span></a><span style=\"color: #7f7f7f\">:318</span>\n",
       "</pre>\n"
      ],
      "text/plain": [
       "<rich.jupyter.JupyterRenderable at 0x7f7f41030550>"
      ]
     },
     "metadata": {},
     "output_type": "display_data"
    },
    {
     "data": {
      "text/html": [
       "<pre style=\"white-space:pre;overflow-x:auto;line-height:normal;font-family:Menlo,'DejaVu Sans Mono',consolas,'Courier New',monospace\"><span style=\"color: #7fbfbf\">           </span><span style=\"color: #000080\">INFO</span>     Sending metric for task locally_tuned_model_validation, round number <span style=\"color: #000080; font-weight: bold\">1</span>: adversarial_accuracy    <span style=\"color: #000080; font-weight: bold\">0.3376</span>                   <a href=\"file:///home/itrushkin/.virtualenvs/fledge/lib/python3.6/site-packages/fledge/component/collaborator/collaborator.py\"><span style=\"color: #7f7f7f\">collaborator.py</span></a><span style=\"color: #7f7f7f\">:318</span>\n",
       "</pre>\n"
      ],
      "text/plain": [
       "<rich.jupyter.JupyterRenderable at 0x7f7f41030978>"
      ]
     },
     "metadata": {},
     "output_type": "display_data"
    },
    {
     "data": {
      "text/html": [
       "<pre style=\"white-space:pre;overflow-x:auto;line-height:normal;font-family:Menlo,'DejaVu Sans Mono',consolas,'Courier New',monospace\"><span style=\"color: #7fbfbf\">           </span><span style=\"color: #000080\">INFO</span>     Collaborator two is sending task results for locally_tuned_model_validation, round <span style=\"color: #000080; font-weight: bold\">1</span>                                       <a href=\"file:///home/itrushkin/.virtualenvs/fledge/lib/python3.6/site-packages/fledge/component/aggregator/aggregator.py\"><span style=\"color: #7f7f7f\">aggregator.py</span></a><span style=\"color: #7f7f7f\">:369</span>\n",
       "</pre>\n"
      ],
      "text/plain": [
       "<rich.jupyter.JupyterRenderable at 0x7f7f410306a0>"
      ]
     },
     "metadata": {},
     "output_type": "display_data"
    },
    {
     "data": {
      "text/html": [
       "<pre style=\"white-space:pre;overflow-x:auto;line-height:normal;font-family:Menlo,'DejaVu Sans Mono',consolas,'Courier New',monospace\"><span style=\"color: #7fbfbf\">[03:54:04] </span><span style=\"color: #000080\">INFO</span>     train task metrics<span style=\"color: #808000\">...</span>                                                                                                      <a href=\"file:///home/itrushkin/.virtualenvs/fledge/lib/python3.6/site-packages/fledge/component/aggregator/aggregator.py\"><span style=\"color: #7f7f7f\">aggregator.py</span></a><span style=\"color: #7f7f7f\">:505</span>\n",
       "</pre>\n"
      ],
      "text/plain": [
       "<rich.jupyter.JupyterRenderable at 0x7f7f41030278>"
      ]
     },
     "metadata": {},
     "output_type": "display_data"
    },
    {
     "data": {
      "text/html": [
       "<pre style=\"white-space:pre;overflow-x:auto;line-height:normal;font-family:Menlo,'DejaVu Sans Mono',consolas,'Courier New',monospace\"><span style=\"color: #7fbfbf\">           </span><span style=\"color: #000080\">INFO</span>     adv_ce: <span style=\"color: #000080; font-weight: bold\">2.0420</span>                                                                                                             <a href=\"file:///home/itrushkin/.virtualenvs/fledge/lib/python3.6/site-packages/fledge/component/aggregator/aggregator.py\"><span style=\"color: #7f7f7f\">aggregator.py</span></a><span style=\"color: #7f7f7f\">:539</span>\n",
       "</pre>\n"
      ],
      "text/plain": [
       "<rich.jupyter.JupyterRenderable at 0x7f7f41030630>"
      ]
     },
     "metadata": {},
     "output_type": "display_data"
    },
    {
     "data": {
      "text/html": [
       "<pre style=\"white-space:pre;overflow-x:auto;line-height:normal;font-family:Menlo,'DejaVu Sans Mono',consolas,'Courier New',monospace\"><span style=\"color: #7fbfbf\">           </span><span style=\"color: #000080\">INFO</span>     base_ce:        <span style=\"color: #000080; font-weight: bold\">1.9347</span>                                                                                                     <a href=\"file:///home/itrushkin/.virtualenvs/fledge/lib/python3.6/site-packages/fledge/component/aggregator/aggregator.py\"><span style=\"color: #7f7f7f\">aggregator.py</span></a><span style=\"color: #7f7f7f\">:539</span>\n",
       "</pre>\n"
      ],
      "text/plain": [
       "<rich.jupyter.JupyterRenderable at 0x7f7f41030630>"
      ]
     },
     "metadata": {},
     "output_type": "display_data"
    },
    {
     "data": {
      "text/html": [
       "<pre style=\"white-space:pre;overflow-x:auto;line-height:normal;font-family:Menlo,'DejaVu Sans Mono',consolas,'Courier New',monospace\"><span style=\"color: #7fbfbf\">           </span><span style=\"color: #000080\">INFO</span>     locally_tuned_model_validation task metrics<span style=\"color: #808000\">...</span>                                                                             <a href=\"file:///home/itrushkin/.virtualenvs/fledge/lib/python3.6/site-packages/fledge/component/aggregator/aggregator.py\"><span style=\"color: #7f7f7f\">aggregator.py</span></a><span style=\"color: #7f7f7f\">:505</span>\n",
       "</pre>\n"
      ],
      "text/plain": [
       "<rich.jupyter.JupyterRenderable at 0x7f7f41030320>"
      ]
     },
     "metadata": {},
     "output_type": "display_data"
    },
    {
     "data": {
      "text/html": [
       "<pre style=\"white-space:pre;overflow-x:auto;line-height:normal;font-family:Menlo,'DejaVu Sans Mono',consolas,'Courier New',monospace\"><span style=\"color: #7fbfbf\">           </span><span style=\"color: #000080\">INFO</span>     clean_accuracy: <span style=\"color: #000080; font-weight: bold\">0.4708</span>                                                                                                     <a href=\"file:///home/itrushkin/.virtualenvs/fledge/lib/python3.6/site-packages/fledge/component/aggregator/aggregator.py\"><span style=\"color: #7f7f7f\">aggregator.py</span></a><span style=\"color: #7f7f7f\">:539</span>\n",
       "</pre>\n"
      ],
      "text/plain": [
       "<rich.jupyter.JupyterRenderable at 0x7f7f41030c18>"
      ]
     },
     "metadata": {},
     "output_type": "display_data"
    },
    {
     "data": {
      "text/html": [
       "<pre style=\"white-space:pre;overflow-x:auto;line-height:normal;font-family:Menlo,'DejaVu Sans Mono',consolas,'Courier New',monospace\"><span style=\"color: #7fbfbf\">           </span><span style=\"color: #000080\">INFO</span>     adversarial_accuracy:   <span style=\"color: #000080; font-weight: bold\">0.3396</span>                                                                                             <a href=\"file:///home/itrushkin/.virtualenvs/fledge/lib/python3.6/site-packages/fledge/component/aggregator/aggregator.py\"><span style=\"color: #7f7f7f\">aggregator.py</span></a><span style=\"color: #7f7f7f\">:539</span>\n",
       "</pre>\n"
      ],
      "text/plain": [
       "<rich.jupyter.JupyterRenderable at 0x7f7f41030c18>"
      ]
     },
     "metadata": {},
     "output_type": "display_data"
    },
    {
     "data": {
      "text/html": [
       "<pre style=\"white-space:pre;overflow-x:auto;line-height:normal;font-family:Menlo,'DejaVu Sans Mono',consolas,'Courier New',monospace\"><span style=\"color: #7fbfbf\">           </span><span style=\"color: #000080\">INFO</span>     aggregated_model_validation task metrics<span style=\"color: #808000\">...</span>                                                                                <a href=\"file:///home/itrushkin/.virtualenvs/fledge/lib/python3.6/site-packages/fledge/component/aggregator/aggregator.py\"><span style=\"color: #7f7f7f\">aggregator.py</span></a><span style=\"color: #7f7f7f\">:505</span>\n",
       "</pre>\n"
      ],
      "text/plain": [
       "<rich.jupyter.JupyterRenderable at 0x7f7f41030a58>"
      ]
     },
     "metadata": {},
     "output_type": "display_data"
    },
    {
     "data": {
      "text/html": [
       "<pre style=\"white-space:pre;overflow-x:auto;line-height:normal;font-family:Menlo,'DejaVu Sans Mono',consolas,'Courier New',monospace\"><span style=\"color: #7fbfbf\">           </span><span style=\"color: #000080\">INFO</span>     clean_accuracy: <span style=\"color: #000080; font-weight: bold\">0.3296</span>                                                                                                     <a href=\"file:///home/itrushkin/.virtualenvs/fledge/lib/python3.6/site-packages/fledge/component/aggregator/aggregator.py\"><span style=\"color: #7f7f7f\">aggregator.py</span></a><span style=\"color: #7f7f7f\">:539</span>\n",
       "</pre>\n"
      ],
      "text/plain": [
       "<rich.jupyter.JupyterRenderable at 0x7f7f41030978>"
      ]
     },
     "metadata": {},
     "output_type": "display_data"
    },
    {
     "data": {
      "text/html": [
       "<pre style=\"white-space:pre;overflow-x:auto;line-height:normal;font-family:Menlo,'DejaVu Sans Mono',consolas,'Courier New',monospace\"><span style=\"color: #7fbfbf\">           </span><span style=\"color: #000080\">INFO</span>     Saved the best model with score <span style=\"color: #000080; font-weight: bold\">0.329600</span>                                                                                   <a href=\"file:///home/itrushkin/.virtualenvs/fledge/lib/python3.6/site-packages/fledge/component/aggregator/aggregator.py\"><span style=\"color: #7f7f7f\">aggregator.py</span></a><span style=\"color: #7f7f7f\">:546</span>\n",
       "</pre>\n"
      ],
      "text/plain": [
       "<rich.jupyter.JupyterRenderable at 0x7f7f410306a0>"
      ]
     },
     "metadata": {},
     "output_type": "display_data"
    },
    {
     "data": {
      "text/html": [
       "<pre style=\"white-space:pre;overflow-x:auto;line-height:normal;font-family:Menlo,'DejaVu Sans Mono',consolas,'Courier New',monospace\"><span style=\"color: #7fbfbf\">           </span><span style=\"color: #000080\">INFO</span>     adversarial_accuracy:   <span style=\"color: #000080; font-weight: bold\">0.2592</span>                                                                                             <a href=\"file:///home/itrushkin/.virtualenvs/fledge/lib/python3.6/site-packages/fledge/component/aggregator/aggregator.py\"><span style=\"color: #7f7f7f\">aggregator.py</span></a><span style=\"color: #7f7f7f\">:539</span>\n",
       "</pre>\n"
      ],
      "text/plain": [
       "<rich.jupyter.JupyterRenderable at 0x7f7f41030780>"
      ]
     },
     "metadata": {},
     "output_type": "display_data"
    },
    {
     "data": {
      "text/html": [
       "<pre style=\"white-space:pre;overflow-x:auto;line-height:normal;font-family:Menlo,'DejaVu Sans Mono',consolas,'Courier New',monospace\"><span style=\"color: #7fbfbf\">           </span><span style=\"color: #000080\">INFO</span>     Saving round <span style=\"color: #000080; font-weight: bold\">2</span> model<span style=\"color: #808000\">...</span>                                                                                                    <a href=\"file:///home/itrushkin/.virtualenvs/fledge/lib/python3.6/site-packages/fledge/component/aggregator/aggregator.py\"><span style=\"color: #7f7f7f\">aggregator.py</span></a><span style=\"color: #7f7f7f\">:602</span>\n",
       "</pre>\n"
      ],
      "text/plain": [
       "<rich.jupyter.JupyterRenderable at 0x7f7f410302e8>"
      ]
     },
     "metadata": {},
     "output_type": "display_data"
    },
    {
     "data": {
      "text/html": [
       "<pre style=\"white-space:pre;overflow-x:auto;line-height:normal;font-family:Menlo,'DejaVu Sans Mono',consolas,'Courier New',monospace\"><span style=\"color: #7fbfbf\">           </span><span style=\"color: #000080\">INFO</span>     Starting round <span style=\"color: #000080; font-weight: bold\">2</span><span style=\"color: #808000\">...</span>                                                                                                        <a href=\"file:///home/itrushkin/.virtualenvs/fledge/lib/python3.6/site-packages/fledge/component/aggregator/aggregator.py\"><span style=\"color: #7f7f7f\">aggregator.py</span></a><span style=\"color: #7f7f7f\">:610</span>\n",
       "</pre>\n"
      ],
      "text/plain": [
       "<rich.jupyter.JupyterRenderable at 0x7f7f41030828>"
      ]
     },
     "metadata": {},
     "output_type": "display_data"
    },
    {
     "data": {
      "text/html": [
       "<pre style=\"white-space:pre;overflow-x:auto;line-height:normal;font-family:Menlo,'DejaVu Sans Mono',consolas,'Courier New',monospace\"><span style=\"color: #7fbfbf\">           </span><span style=\"color: #000080\">INFO</span>     All tasks completed on two for round <span style=\"color: #000080; font-weight: bold\">1</span><span style=\"color: #808000\">...</span>                                                                                <a href=\"file:///home/itrushkin/.virtualenvs/fledge/lib/python3.6/site-packages/fledge/component/collaborator/collaborator.py\"><span style=\"color: #7f7f7f\">collaborator.py</span></a><span style=\"color: #7f7f7f\">:158</span>\n",
       "</pre>\n"
      ],
      "text/plain": [
       "<rich.jupyter.JupyterRenderable at 0x7f7f41030e80>"
      ]
     },
     "metadata": {},
     "output_type": "display_data"
    },
    {
     "data": {
      "text/html": [
       "<pre style=\"white-space:pre;overflow-x:auto;line-height:normal;font-family:Menlo,'DejaVu Sans Mono',consolas,'Courier New',monospace\"><span style=\"color: #7fbfbf\">           </span><span style=\"color: #000080\">INFO</span>     Aggregator GetTasks function reached from collaborator one<span style=\"color: #808000\">...</span>                                                              <a href=\"file:///home/itrushkin/.virtualenvs/fledge/lib/python3.6/site-packages/fledge/component/aggregator/aggregator.py\"><span style=\"color: #7f7f7f\">aggregator.py</span></a><span style=\"color: #7f7f7f\">:215</span>\n",
       "</pre>\n"
      ],
      "text/plain": [
       "<rich.jupyter.JupyterRenderable at 0x7f7f41030320>"
      ]
     },
     "metadata": {},
     "output_type": "display_data"
    },
    {
     "data": {
      "text/html": [
       "<pre style=\"white-space:pre;overflow-x:auto;line-height:normal;font-family:Menlo,'DejaVu Sans Mono',consolas,'Courier New',monospace\"><span style=\"color: #7fbfbf\">           </span><span style=\"color: #000080\">INFO</span>     Sending tasks to collaborator one for round <span style=\"color: #000080; font-weight: bold\">2</span>                                                                              <a href=\"file:///home/itrushkin/.virtualenvs/fledge/lib/python3.6/site-packages/fledge/component/aggregator/aggregator.py\"><span style=\"color: #7f7f7f\">aggregator.py</span></a><span style=\"color: #7f7f7f\">:249</span>\n",
       "</pre>\n"
      ],
      "text/plain": [
       "<rich.jupyter.JupyterRenderable at 0x7f7f41030828>"
      ]
     },
     "metadata": {},
     "output_type": "display_data"
    },
    {
     "data": {
      "text/html": [
       "<pre style=\"white-space:pre;overflow-x:auto;line-height:normal;font-family:Menlo,'DejaVu Sans Mono',consolas,'Courier New',monospace\"><span style=\"color: #7fbfbf\">           </span><span style=\"color: #000080\">INFO</span>     Received the following tasks: <span style=\"font-weight: bold\">[</span><span style=\"color: #008000\">'aggregated_model_validation'</span>, <span style=\"color: #008000\">'train'</span>, <span style=\"color: #008000\">'locally_tuned_model_validation'</span><span style=\"font-weight: bold\">]</span>                 <a href=\"file:///home/itrushkin/.virtualenvs/fledge/lib/python3.6/site-packages/fledge/component/collaborator/collaborator.py\"><span style=\"color: #7f7f7f\">collaborator.py</span></a><span style=\"color: #7f7f7f\">:155</span>\n",
       "</pre>\n"
      ],
      "text/plain": [
       "<rich.jupyter.JupyterRenderable at 0x7f7f410302e8>"
      ]
     },
     "metadata": {},
     "output_type": "display_data"
    },
    {
     "name": "stdout",
     "output_type": "stream",
     "text": [
      "FastEstimator-Test: step: 196; epoch: 2; clean_accuracy: 0.4792; adversarial_accuracy: 0.3448; \n"
     ]
    },
    {
     "data": {
      "text/html": [
       "<pre style=\"white-space:pre;overflow-x:auto;line-height:normal;font-family:Menlo,'DejaVu Sans Mono',consolas,'Courier New',monospace\"><span style=\"color: #7fbfbf\">[03:54:05] </span><span style=\"color: #000080\">INFO</span>     Sending metric for task aggregated_model_validation, round number <span style=\"color: #000080; font-weight: bold\">2</span>: clean_accuracy     <span style=\"color: #000080; font-weight: bold\">0.4792</span>                           <a href=\"file:///home/itrushkin/.virtualenvs/fledge/lib/python3.6/site-packages/fledge/component/collaborator/collaborator.py\"><span style=\"color: #7f7f7f\">collaborator.py</span></a><span style=\"color: #7f7f7f\">:318</span>\n",
       "</pre>\n"
      ],
      "text/plain": [
       "<rich.jupyter.JupyterRenderable at 0x7f7f410c1f60>"
      ]
     },
     "metadata": {},
     "output_type": "display_data"
    },
    {
     "data": {
      "text/html": [
       "<pre style=\"white-space:pre;overflow-x:auto;line-height:normal;font-family:Menlo,'DejaVu Sans Mono',consolas,'Courier New',monospace\"><span style=\"color: #7fbfbf\">           </span><span style=\"color: #000080\">INFO</span>     Sending metric for task aggregated_model_validation, round number <span style=\"color: #000080; font-weight: bold\">2</span>: adversarial_accuracy       <span style=\"color: #000080; font-weight: bold\">0.3448</span>                   <a href=\"file:///home/itrushkin/.virtualenvs/fledge/lib/python3.6/site-packages/fledge/component/collaborator/collaborator.py\"><span style=\"color: #7f7f7f\">collaborator.py</span></a><span style=\"color: #7f7f7f\">:318</span>\n",
       "</pre>\n"
      ],
      "text/plain": [
       "<rich.jupyter.JupyterRenderable at 0x7f7f410c1f60>"
      ]
     },
     "metadata": {},
     "output_type": "display_data"
    },
    {
     "data": {
      "text/html": [
       "<pre style=\"white-space:pre;overflow-x:auto;line-height:normal;font-family:Menlo,'DejaVu Sans Mono',consolas,'Courier New',monospace\"><span style=\"color: #7fbfbf\">           </span><span style=\"color: #000080\">INFO</span>     Collaborator one is sending task results for aggregated_model_validation, round <span style=\"color: #000080; font-weight: bold\">2</span>                                          <a href=\"file:///home/itrushkin/.virtualenvs/fledge/lib/python3.6/site-packages/fledge/component/aggregator/aggregator.py\"><span style=\"color: #7f7f7f\">aggregator.py</span></a><span style=\"color: #7f7f7f\">:369</span>\n",
       "</pre>\n"
      ],
      "text/plain": [
       "<rich.jupyter.JupyterRenderable at 0x7f7f3eda9d30>"
      ]
     },
     "metadata": {},
     "output_type": "display_data"
    },
    {
     "name": "stdout",
     "output_type": "stream",
     "text": [
      "    ______           __  ______     __  _                 __            \n",
      "   / ____/___ ______/ /_/ ____/____/ /_(_)___ ___  ____ _/ /_____  _____\n",
      "  / /_  / __ `/ ___/ __/ __/ / ___/ __/ / __ `__ \\/ __ `/ __/ __ \\/ ___/\n",
      " / __/ / /_/ (__  ) /_/ /___(__  ) /_/ / / / / / / /_/ / /_/ /_/ / /    \n",
      "/_/    \\__,_/____/\\__/_____/____/\\__/_/_/ /_/ /_/\\__,_/\\__/\\____/_/     \n",
      "                                                                        \n",
      "\n",
      "FastEstimator-Warn: No ModelSaver Trace detected. Models will not be saved.\n",
      "FastEstimator-Start: step: 1; num_device: 3; logging_interval: 1000; \n",
      "FastEstimator-Train: step: 1; adv_ce: 1.6511409; base_ce: 1.3585556; avg_ce: 1.5048482; \n",
      "FastEstimator-Train: step: 98; epoch: 1; epoch_time: 2.89 sec; \n",
      "FastEstimator-Eval: step: 98; epoch: 1; adv_ce: 1.7571188; base_ce: 1.4232883; avg_ce: 1.5902035; clean_accuracy: 0.4928; adversarial_accuracy: 0.3456; \n",
      "FastEstimator-Train: step: 196; epoch: 2; epoch_time: 2.86 sec; \n",
      "FastEstimator-Eval: step: 196; epoch: 2; adv_ce: 1.6467527; base_ce: 1.2873808; avg_ce: 1.4670666; clean_accuracy: 0.5424; adversarial_accuracy: 0.3856; \n",
      "FastEstimator-Finish: step: 196; total_time: 9.47 sec; adv_model_lr: 0.001; \n"
     ]
    },
    {
     "data": {
      "text/html": [
       "<pre style=\"white-space:pre;overflow-x:auto;line-height:normal;font-family:Menlo,'DejaVu Sans Mono',consolas,'Courier New',monospace\"><span style=\"color: #7fbfbf\">[03:54:16] </span><span style=\"color: #000080\">INFO</span>     Sending metric for task train, round number <span style=\"color: #000080; font-weight: bold\">2</span>: adv_ce   <span style=\"color: #000080; font-weight: bold\">1.6511409282684326</span>                                               <a href=\"file:///home/itrushkin/.virtualenvs/fledge/lib/python3.6/site-packages/fledge/component/collaborator/collaborator.py\"><span style=\"color: #7f7f7f\">collaborator.py</span></a><span style=\"color: #7f7f7f\">:318</span>\n",
       "</pre>\n"
      ],
      "text/plain": [
       "<rich.jupyter.JupyterRenderable at 0x7f7f3eda9c50>"
      ]
     },
     "metadata": {},
     "output_type": "display_data"
    },
    {
     "data": {
      "text/html": [
       "<pre style=\"white-space:pre;overflow-x:auto;line-height:normal;font-family:Menlo,'DejaVu Sans Mono',consolas,'Courier New',monospace\"><span style=\"color: #7fbfbf\">           </span><span style=\"color: #000080\">INFO</span>     Sending metric for task train, round number <span style=\"color: #000080; font-weight: bold\">2</span>: base_ce  <span style=\"color: #000080; font-weight: bold\">1.358555555343628</span>                                                <a href=\"file:///home/itrushkin/.virtualenvs/fledge/lib/python3.6/site-packages/fledge/component/collaborator/collaborator.py\"><span style=\"color: #7f7f7f\">collaborator.py</span></a><span style=\"color: #7f7f7f\">:318</span>\n",
       "</pre>\n"
      ],
      "text/plain": [
       "<rich.jupyter.JupyterRenderable at 0x7f7f410c1f60>"
      ]
     },
     "metadata": {},
     "output_type": "display_data"
    },
    {
     "data": {
      "text/html": [
       "<pre style=\"white-space:pre;overflow-x:auto;line-height:normal;font-family:Menlo,'DejaVu Sans Mono',consolas,'Courier New',monospace\"><span style=\"color: #7fbfbf\">           </span><span style=\"color: #000080\">INFO</span>     Collaborator one is sending task results for train, round <span style=\"color: #000080; font-weight: bold\">2</span>                                                                <a href=\"file:///home/itrushkin/.virtualenvs/fledge/lib/python3.6/site-packages/fledge/component/aggregator/aggregator.py\"><span style=\"color: #7f7f7f\">aggregator.py</span></a><span style=\"color: #7f7f7f\">:369</span>\n",
       "</pre>\n"
      ],
      "text/plain": [
       "<rich.jupyter.JupyterRenderable at 0x7f7f410c1f60>"
      ]
     },
     "metadata": {},
     "output_type": "display_data"
    },
    {
     "name": "stdout",
     "output_type": "stream",
     "text": [
      "FastEstimator-Test: step: 196; epoch: 2; clean_accuracy: 0.5208; adversarial_accuracy: 0.3736; \n"
     ]
    },
    {
     "data": {
      "text/html": [
       "<pre style=\"white-space:pre;overflow-x:auto;line-height:normal;font-family:Menlo,'DejaVu Sans Mono',consolas,'Courier New',monospace\"><span style=\"color: #7fbfbf\">[03:54:17] </span><span style=\"color: #000080\">INFO</span>     Sending metric for task locally_tuned_model_validation, round number <span style=\"color: #000080; font-weight: bold\">2</span>: clean_accuracy  <span style=\"color: #000080; font-weight: bold\">0.5208</span>                           <a href=\"file:///home/itrushkin/.virtualenvs/fledge/lib/python3.6/site-packages/fledge/component/collaborator/collaborator.py\"><span style=\"color: #7f7f7f\">collaborator.py</span></a><span style=\"color: #7f7f7f\">:318</span>\n",
       "</pre>\n"
      ],
      "text/plain": [
       "<rich.jupyter.JupyterRenderable at 0x7f7f3f01a400>"
      ]
     },
     "metadata": {},
     "output_type": "display_data"
    },
    {
     "data": {
      "text/html": [
       "<pre style=\"white-space:pre;overflow-x:auto;line-height:normal;font-family:Menlo,'DejaVu Sans Mono',consolas,'Courier New',monospace\"><span style=\"color: #7fbfbf\">           </span><span style=\"color: #000080\">INFO</span>     Sending metric for task locally_tuned_model_validation, round number <span style=\"color: #000080; font-weight: bold\">2</span>: adversarial_accuracy    <span style=\"color: #000080; font-weight: bold\">0.3736</span>                   <a href=\"file:///home/itrushkin/.virtualenvs/fledge/lib/python3.6/site-packages/fledge/component/collaborator/collaborator.py\"><span style=\"color: #7f7f7f\">collaborator.py</span></a><span style=\"color: #7f7f7f\">:318</span>\n",
       "</pre>\n"
      ],
      "text/plain": [
       "<rich.jupyter.JupyterRenderable at 0x7f7f3f017d68>"
      ]
     },
     "metadata": {},
     "output_type": "display_data"
    },
    {
     "data": {
      "text/html": [
       "<pre style=\"white-space:pre;overflow-x:auto;line-height:normal;font-family:Menlo,'DejaVu Sans Mono',consolas,'Courier New',monospace\"><span style=\"color: #7fbfbf\">           </span><span style=\"color: #000080\">INFO</span>     Collaborator one is sending task results for locally_tuned_model_validation, round <span style=\"color: #000080; font-weight: bold\">2</span>                                       <a href=\"file:///home/itrushkin/.virtualenvs/fledge/lib/python3.6/site-packages/fledge/component/aggregator/aggregator.py\"><span style=\"color: #7f7f7f\">aggregator.py</span></a><span style=\"color: #7f7f7f\">:369</span>\n",
       "</pre>\n"
      ],
      "text/plain": [
       "<rich.jupyter.JupyterRenderable at 0x7f7f3eda92b0>"
      ]
     },
     "metadata": {},
     "output_type": "display_data"
    },
    {
     "data": {
      "text/html": [
       "<pre style=\"white-space:pre;overflow-x:auto;line-height:normal;font-family:Menlo,'DejaVu Sans Mono',consolas,'Courier New',monospace\"><span style=\"color: #7fbfbf\">           </span><span style=\"color: #000080\">INFO</span>     All tasks completed on one for round <span style=\"color: #000080; font-weight: bold\">2</span><span style=\"color: #808000\">...</span>                                                                                <a href=\"file:///home/itrushkin/.virtualenvs/fledge/lib/python3.6/site-packages/fledge/component/collaborator/collaborator.py\"><span style=\"color: #7f7f7f\">collaborator.py</span></a><span style=\"color: #7f7f7f\">:158</span>\n",
       "</pre>\n"
      ],
      "text/plain": [
       "<rich.jupyter.JupyterRenderable at 0x7f7f3f0174a8>"
      ]
     },
     "metadata": {},
     "output_type": "display_data"
    },
    {
     "data": {
      "text/html": [
       "<pre style=\"white-space:pre;overflow-x:auto;line-height:normal;font-family:Menlo,'DejaVu Sans Mono',consolas,'Courier New',monospace\"><span style=\"color: #7fbfbf\">           </span><span style=\"color: #000080\">INFO</span>     Aggregator GetTasks function reached from collaborator two<span style=\"color: #808000\">...</span>                                                              <a href=\"file:///home/itrushkin/.virtualenvs/fledge/lib/python3.6/site-packages/fledge/component/aggregator/aggregator.py\"><span style=\"color: #7f7f7f\">aggregator.py</span></a><span style=\"color: #7f7f7f\">:215</span>\n",
       "</pre>\n"
      ],
      "text/plain": [
       "<rich.jupyter.JupyterRenderable at 0x7f7f3f01a438>"
      ]
     },
     "metadata": {},
     "output_type": "display_data"
    },
    {
     "data": {
      "text/html": [
       "<pre style=\"white-space:pre;overflow-x:auto;line-height:normal;font-family:Menlo,'DejaVu Sans Mono',consolas,'Courier New',monospace\"><span style=\"color: #7fbfbf\">           </span><span style=\"color: #000080\">INFO</span>     Sending tasks to collaborator two for round <span style=\"color: #000080; font-weight: bold\">2</span>                                                                              <a href=\"file:///home/itrushkin/.virtualenvs/fledge/lib/python3.6/site-packages/fledge/component/aggregator/aggregator.py\"><span style=\"color: #7f7f7f\">aggregator.py</span></a><span style=\"color: #7f7f7f\">:249</span>\n",
       "</pre>\n"
      ],
      "text/plain": [
       "<rich.jupyter.JupyterRenderable at 0x7f7f3eda92b0>"
      ]
     },
     "metadata": {},
     "output_type": "display_data"
    },
    {
     "data": {
      "text/html": [
       "<pre style=\"white-space:pre;overflow-x:auto;line-height:normal;font-family:Menlo,'DejaVu Sans Mono',consolas,'Courier New',monospace\"><span style=\"color: #7fbfbf\">           </span><span style=\"color: #000080\">INFO</span>     Received the following tasks: <span style=\"font-weight: bold\">[</span><span style=\"color: #008000\">'aggregated_model_validation'</span>, <span style=\"color: #008000\">'train'</span>, <span style=\"color: #008000\">'locally_tuned_model_validation'</span><span style=\"font-weight: bold\">]</span>                 <a href=\"file:///home/itrushkin/.virtualenvs/fledge/lib/python3.6/site-packages/fledge/component/collaborator/collaborator.py\"><span style=\"color: #7f7f7f\">collaborator.py</span></a><span style=\"color: #7f7f7f\">:155</span>\n",
       "</pre>\n"
      ],
      "text/plain": [
       "<rich.jupyter.JupyterRenderable at 0x7f7f412b6f60>"
      ]
     },
     "metadata": {},
     "output_type": "display_data"
    },
    {
     "name": "stdout",
     "output_type": "stream",
     "text": [
      "FastEstimator-Test: step: 196; epoch: 2; clean_accuracy: 0.4792; adversarial_accuracy: 0.3448; \n"
     ]
    },
    {
     "data": {
      "text/html": [
       "<pre style=\"white-space:pre;overflow-x:auto;line-height:normal;font-family:Menlo,'DejaVu Sans Mono',consolas,'Courier New',monospace\"><span style=\"color: #7fbfbf\">[03:54:19] </span><span style=\"color: #000080\">INFO</span>     Sending metric for task aggregated_model_validation, round number <span style=\"color: #000080; font-weight: bold\">2</span>: clean_accuracy     <span style=\"color: #000080; font-weight: bold\">0.4792</span>                           <a href=\"file:///home/itrushkin/.virtualenvs/fledge/lib/python3.6/site-packages/fledge/component/collaborator/collaborator.py\"><span style=\"color: #7f7f7f\">collaborator.py</span></a><span style=\"color: #7f7f7f\">:318</span>\n",
       "</pre>\n"
      ],
      "text/plain": [
       "<rich.jupyter.JupyterRenderable at 0x7f7f410cd2e8>"
      ]
     },
     "metadata": {},
     "output_type": "display_data"
    },
    {
     "data": {
      "text/html": [
       "<pre style=\"white-space:pre;overflow-x:auto;line-height:normal;font-family:Menlo,'DejaVu Sans Mono',consolas,'Courier New',monospace\"><span style=\"color: #7fbfbf\">           </span><span style=\"color: #000080\">INFO</span>     Sending metric for task aggregated_model_validation, round number <span style=\"color: #000080; font-weight: bold\">2</span>: adversarial_accuracy       <span style=\"color: #000080; font-weight: bold\">0.3448</span>                   <a href=\"file:///home/itrushkin/.virtualenvs/fledge/lib/python3.6/site-packages/fledge/component/collaborator/collaborator.py\"><span style=\"color: #7f7f7f\">collaborator.py</span></a><span style=\"color: #7f7f7f\">:318</span>\n",
       "</pre>\n"
      ],
      "text/plain": [
       "<rich.jupyter.JupyterRenderable at 0x7f7f410cd7f0>"
      ]
     },
     "metadata": {},
     "output_type": "display_data"
    },
    {
     "data": {
      "text/html": [
       "<pre style=\"white-space:pre;overflow-x:auto;line-height:normal;font-family:Menlo,'DejaVu Sans Mono',consolas,'Courier New',monospace\"><span style=\"color: #7fbfbf\">           </span><span style=\"color: #000080\">INFO</span>     Collaborator two is sending task results for aggregated_model_validation, round <span style=\"color: #000080; font-weight: bold\">2</span>                                          <a href=\"file:///home/itrushkin/.virtualenvs/fledge/lib/python3.6/site-packages/fledge/component/aggregator/aggregator.py\"><span style=\"color: #7f7f7f\">aggregator.py</span></a><span style=\"color: #7f7f7f\">:369</span>\n",
       "</pre>\n"
      ],
      "text/plain": [
       "<rich.jupyter.JupyterRenderable at 0x7f7f410cd518>"
      ]
     },
     "metadata": {},
     "output_type": "display_data"
    },
    {
     "name": "stdout",
     "output_type": "stream",
     "text": [
      "    ______           __  ______     __  _                 __            \n",
      "   / ____/___ ______/ /_/ ____/____/ /_(_)___ ___  ____ _/ /_____  _____\n",
      "  / /_  / __ `/ ___/ __/ __/ / ___/ __/ / __ `__ \\/ __ `/ __/ __ \\/ ___/\n",
      " / __/ / /_/ (__  ) /_/ /___(__  ) /_/ / / / / / / /_/ / /_/ /_/ / /    \n",
      "/_/    \\__,_/____/\\__/_____/____/\\__/_/_/ /_/ /_/\\__,_/\\__/\\____/_/     \n",
      "                                                                        \n",
      "\n",
      "FastEstimator-Warn: No ModelSaver Trace detected. Models will not be saved.\n",
      "FastEstimator-Start: step: 1; num_device: 3; logging_interval: 1000; \n",
      "FastEstimator-Train: step: 1; adv_ce: 1.6750786; base_ce: 1.3767843; avg_ce: 1.5259315; \n",
      "FastEstimator-Train: step: 98; epoch: 1; epoch_time: 2.87 sec; \n",
      "FastEstimator-Eval: step: 98; epoch: 1; adv_ce: 1.7053852; base_ce: 1.3538456; avg_ce: 1.5296154; clean_accuracy: 0.512; adversarial_accuracy: 0.3696; \n",
      "FastEstimator-Train: step: 196; epoch: 2; epoch_time: 2.85 sec; \n",
      "FastEstimator-Eval: step: 196; epoch: 2; adv_ce: 1.6344059; base_ce: 1.2761037; avg_ce: 1.4552548; clean_accuracy: 0.556; adversarial_accuracy: 0.3872; \n",
      "FastEstimator-Finish: step: 196; total_time: 9.62 sec; adv_model_lr: 0.001; \n"
     ]
    },
    {
     "data": {
      "text/html": [
       "<pre style=\"white-space:pre;overflow-x:auto;line-height:normal;font-family:Menlo,'DejaVu Sans Mono',consolas,'Courier New',monospace\"><span style=\"color: #7fbfbf\">[03:54:30] </span><span style=\"color: #000080\">INFO</span>     Sending metric for task train, round number <span style=\"color: #000080; font-weight: bold\">2</span>: adv_ce   <span style=\"color: #000080; font-weight: bold\">1.6750786304473877</span>                                               <a href=\"file:///home/itrushkin/.virtualenvs/fledge/lib/python3.6/site-packages/fledge/component/collaborator/collaborator.py\"><span style=\"color: #7f7f7f\">collaborator.py</span></a><span style=\"color: #7f7f7f\">:318</span>\n",
       "</pre>\n"
      ],
      "text/plain": [
       "<rich.jupyter.JupyterRenderable at 0x7f7f41055ac8>"
      ]
     },
     "metadata": {},
     "output_type": "display_data"
    },
    {
     "data": {
      "text/html": [
       "<pre style=\"white-space:pre;overflow-x:auto;line-height:normal;font-family:Menlo,'DejaVu Sans Mono',consolas,'Courier New',monospace\"><span style=\"color: #7fbfbf\">           </span><span style=\"color: #000080\">INFO</span>     Sending metric for task train, round number <span style=\"color: #000080; font-weight: bold\">2</span>: base_ce  <span style=\"color: #000080; font-weight: bold\">1.376784324645996</span>                                                <a href=\"file:///home/itrushkin/.virtualenvs/fledge/lib/python3.6/site-packages/fledge/component/collaborator/collaborator.py\"><span style=\"color: #7f7f7f\">collaborator.py</span></a><span style=\"color: #7f7f7f\">:318</span>\n",
       "</pre>\n"
      ],
      "text/plain": [
       "<rich.jupyter.JupyterRenderable at 0x7f7f410552b0>"
      ]
     },
     "metadata": {},
     "output_type": "display_data"
    },
    {
     "data": {
      "text/html": [
       "<pre style=\"white-space:pre;overflow-x:auto;line-height:normal;font-family:Menlo,'DejaVu Sans Mono',consolas,'Courier New',monospace\"><span style=\"color: #7fbfbf\">           </span><span style=\"color: #000080\">INFO</span>     Collaborator two is sending task results for train, round <span style=\"color: #000080; font-weight: bold\">2</span>                                                                <a href=\"file:///home/itrushkin/.virtualenvs/fledge/lib/python3.6/site-packages/fledge/component/aggregator/aggregator.py\"><span style=\"color: #7f7f7f\">aggregator.py</span></a><span style=\"color: #7f7f7f\">:369</span>\n",
       "</pre>\n"
      ],
      "text/plain": [
       "<rich.jupyter.JupyterRenderable at 0x7f7f41055b38>"
      ]
     },
     "metadata": {},
     "output_type": "display_data"
    },
    {
     "name": "stdout",
     "output_type": "stream",
     "text": [
      "FastEstimator-Test: step: 196; epoch: 2; clean_accuracy: 0.5288; adversarial_accuracy: 0.3688; \n"
     ]
    },
    {
     "data": {
      "text/html": [
       "<pre style=\"white-space:pre;overflow-x:auto;line-height:normal;font-family:Menlo,'DejaVu Sans Mono',consolas,'Courier New',monospace\"><span style=\"color: #7fbfbf\">[03:54:31] </span><span style=\"color: #000080\">INFO</span>     Sending metric for task locally_tuned_model_validation, round number <span style=\"color: #000080; font-weight: bold\">2</span>: clean_accuracy  <span style=\"color: #000080; font-weight: bold\">0.5288</span>                           <a href=\"file:///home/itrushkin/.virtualenvs/fledge/lib/python3.6/site-packages/fledge/component/collaborator/collaborator.py\"><span style=\"color: #7f7f7f\">collaborator.py</span></a><span style=\"color: #7f7f7f\">:318</span>\n",
       "</pre>\n"
      ],
      "text/plain": [
       "<rich.jupyter.JupyterRenderable at 0x7f7f41055940>"
      ]
     },
     "metadata": {},
     "output_type": "display_data"
    },
    {
     "data": {
      "text/html": [
       "<pre style=\"white-space:pre;overflow-x:auto;line-height:normal;font-family:Menlo,'DejaVu Sans Mono',consolas,'Courier New',monospace\"><span style=\"color: #7fbfbf\">           </span><span style=\"color: #000080\">INFO</span>     Sending metric for task locally_tuned_model_validation, round number <span style=\"color: #000080; font-weight: bold\">2</span>: adversarial_accuracy    <span style=\"color: #000080; font-weight: bold\">0.3688</span>                   <a href=\"file:///home/itrushkin/.virtualenvs/fledge/lib/python3.6/site-packages/fledge/component/collaborator/collaborator.py\"><span style=\"color: #7f7f7f\">collaborator.py</span></a><span style=\"color: #7f7f7f\">:318</span>\n",
       "</pre>\n"
      ],
      "text/plain": [
       "<rich.jupyter.JupyterRenderable at 0x7f7f413109b0>"
      ]
     },
     "metadata": {},
     "output_type": "display_data"
    },
    {
     "data": {
      "text/html": [
       "<pre style=\"white-space:pre;overflow-x:auto;line-height:normal;font-family:Menlo,'DejaVu Sans Mono',consolas,'Courier New',monospace\"><span style=\"color: #7fbfbf\">           </span><span style=\"color: #000080\">INFO</span>     Collaborator two is sending task results for locally_tuned_model_validation, round <span style=\"color: #000080; font-weight: bold\">2</span>                                       <a href=\"file:///home/itrushkin/.virtualenvs/fledge/lib/python3.6/site-packages/fledge/component/aggregator/aggregator.py\"><span style=\"color: #7f7f7f\">aggregator.py</span></a><span style=\"color: #7f7f7f\">:369</span>\n",
       "</pre>\n"
      ],
      "text/plain": [
       "<rich.jupyter.JupyterRenderable at 0x7f7f41310e10>"
      ]
     },
     "metadata": {},
     "output_type": "display_data"
    },
    {
     "data": {
      "text/html": [
       "<pre style=\"white-space:pre;overflow-x:auto;line-height:normal;font-family:Menlo,'DejaVu Sans Mono',consolas,'Courier New',monospace\"><span style=\"color: #7fbfbf\">           </span><span style=\"color: #000080\">INFO</span>     train task metrics<span style=\"color: #808000\">...</span>                                                                                                      <a href=\"file:///home/itrushkin/.virtualenvs/fledge/lib/python3.6/site-packages/fledge/component/aggregator/aggregator.py\"><span style=\"color: #7f7f7f\">aggregator.py</span></a><span style=\"color: #7f7f7f\">:505</span>\n",
       "</pre>\n"
      ],
      "text/plain": [
       "<rich.jupyter.JupyterRenderable at 0x7f7f41055828>"
      ]
     },
     "metadata": {},
     "output_type": "display_data"
    },
    {
     "data": {
      "text/html": [
       "<pre style=\"white-space:pre;overflow-x:auto;line-height:normal;font-family:Menlo,'DejaVu Sans Mono',consolas,'Courier New',monospace\"><span style=\"color: #7fbfbf\">           </span><span style=\"color: #000080\">INFO</span>     adv_ce: <span style=\"color: #000080; font-weight: bold\">1.6631</span>                                                                                                             <a href=\"file:///home/itrushkin/.virtualenvs/fledge/lib/python3.6/site-packages/fledge/component/aggregator/aggregator.py\"><span style=\"color: #7f7f7f\">aggregator.py</span></a><span style=\"color: #7f7f7f\">:539</span>\n",
       "</pre>\n"
      ],
      "text/plain": [
       "<rich.jupyter.JupyterRenderable at 0x7f7f410552b0>"
      ]
     },
     "metadata": {},
     "output_type": "display_data"
    },
    {
     "data": {
      "text/html": [
       "<pre style=\"white-space:pre;overflow-x:auto;line-height:normal;font-family:Menlo,'DejaVu Sans Mono',consolas,'Courier New',monospace\"><span style=\"color: #7fbfbf\">           </span><span style=\"color: #000080\">INFO</span>     base_ce:        <span style=\"color: #000080; font-weight: bold\">1.3677</span>                                                                                                     <a href=\"file:///home/itrushkin/.virtualenvs/fledge/lib/python3.6/site-packages/fledge/component/aggregator/aggregator.py\"><span style=\"color: #7f7f7f\">aggregator.py</span></a><span style=\"color: #7f7f7f\">:539</span>\n",
       "</pre>\n"
      ],
      "text/plain": [
       "<rich.jupyter.JupyterRenderable at 0x7f7f410552b0>"
      ]
     },
     "metadata": {},
     "output_type": "display_data"
    },
    {
     "data": {
      "text/html": [
       "<pre style=\"white-space:pre;overflow-x:auto;line-height:normal;font-family:Menlo,'DejaVu Sans Mono',consolas,'Courier New',monospace\"><span style=\"color: #7fbfbf\">[03:54:32] </span><span style=\"color: #000080\">INFO</span>     locally_tuned_model_validation task metrics<span style=\"color: #808000\">...</span>                                                                             <a href=\"file:///home/itrushkin/.virtualenvs/fledge/lib/python3.6/site-packages/fledge/component/aggregator/aggregator.py\"><span style=\"color: #7f7f7f\">aggregator.py</span></a><span style=\"color: #7f7f7f\">:505</span>\n",
       "</pre>\n"
      ],
      "text/plain": [
       "<rich.jupyter.JupyterRenderable at 0x7f7f410554e0>"
      ]
     },
     "metadata": {},
     "output_type": "display_data"
    },
    {
     "data": {
      "text/html": [
       "<pre style=\"white-space:pre;overflow-x:auto;line-height:normal;font-family:Menlo,'DejaVu Sans Mono',consolas,'Courier New',monospace\"><span style=\"color: #7fbfbf\">           </span><span style=\"color: #000080\">INFO</span>     clean_accuracy: <span style=\"color: #000080; font-weight: bold\">0.5248</span>                                                                                                     <a href=\"file:///home/itrushkin/.virtualenvs/fledge/lib/python3.6/site-packages/fledge/component/aggregator/aggregator.py\"><span style=\"color: #7f7f7f\">aggregator.py</span></a><span style=\"color: #7f7f7f\">:539</span>\n",
       "</pre>\n"
      ],
      "text/plain": [
       "<rich.jupyter.JupyterRenderable at 0x7f7f41055828>"
      ]
     },
     "metadata": {},
     "output_type": "display_data"
    },
    {
     "data": {
      "text/html": [
       "<pre style=\"white-space:pre;overflow-x:auto;line-height:normal;font-family:Menlo,'DejaVu Sans Mono',consolas,'Courier New',monospace\"><span style=\"color: #7fbfbf\">           </span><span style=\"color: #000080\">INFO</span>     adversarial_accuracy:   <span style=\"color: #000080; font-weight: bold\">0.3712</span>                                                                                             <a href=\"file:///home/itrushkin/.virtualenvs/fledge/lib/python3.6/site-packages/fledge/component/aggregator/aggregator.py\"><span style=\"color: #7f7f7f\">aggregator.py</span></a><span style=\"color: #7f7f7f\">:539</span>\n",
       "</pre>\n"
      ],
      "text/plain": [
       "<rich.jupyter.JupyterRenderable at 0x7f7f41055828>"
      ]
     },
     "metadata": {},
     "output_type": "display_data"
    },
    {
     "data": {
      "text/html": [
       "<pre style=\"white-space:pre;overflow-x:auto;line-height:normal;font-family:Menlo,'DejaVu Sans Mono',consolas,'Courier New',monospace\"><span style=\"color: #7fbfbf\">           </span><span style=\"color: #000080\">INFO</span>     aggregated_model_validation task metrics<span style=\"color: #808000\">...</span>                                                                                <a href=\"file:///home/itrushkin/.virtualenvs/fledge/lib/python3.6/site-packages/fledge/component/aggregator/aggregator.py\"><span style=\"color: #7f7f7f\">aggregator.py</span></a><span style=\"color: #7f7f7f\">:505</span>\n",
       "</pre>\n"
      ],
      "text/plain": [
       "<rich.jupyter.JupyterRenderable at 0x7f7f41310e10>"
      ]
     },
     "metadata": {},
     "output_type": "display_data"
    },
    {
     "data": {
      "text/html": [
       "<pre style=\"white-space:pre;overflow-x:auto;line-height:normal;font-family:Menlo,'DejaVu Sans Mono',consolas,'Courier New',monospace\"><span style=\"color: #7fbfbf\">           </span><span style=\"color: #000080\">INFO</span>     clean_accuracy: <span style=\"color: #000080; font-weight: bold\">0.4792</span>                                                                                                     <a href=\"file:///home/itrushkin/.virtualenvs/fledge/lib/python3.6/site-packages/fledge/component/aggregator/aggregator.py\"><span style=\"color: #7f7f7f\">aggregator.py</span></a><span style=\"color: #7f7f7f\">:539</span>\n",
       "</pre>\n"
      ],
      "text/plain": [
       "<rich.jupyter.JupyterRenderable at 0x7f7f41310dd8>"
      ]
     },
     "metadata": {},
     "output_type": "display_data"
    },
    {
     "data": {
      "text/html": [
       "<pre style=\"white-space:pre;overflow-x:auto;line-height:normal;font-family:Menlo,'DejaVu Sans Mono',consolas,'Courier New',monospace\"><span style=\"color: #7fbfbf\">           </span><span style=\"color: #000080\">INFO</span>     Saved the best model with score <span style=\"color: #000080; font-weight: bold\">0.479200</span>                                                                                   <a href=\"file:///home/itrushkin/.virtualenvs/fledge/lib/python3.6/site-packages/fledge/component/aggregator/aggregator.py\"><span style=\"color: #7f7f7f\">aggregator.py</span></a><span style=\"color: #7f7f7f\">:546</span>\n",
       "</pre>\n"
      ],
      "text/plain": [
       "<rich.jupyter.JupyterRenderable at 0x7f7f41310e10>"
      ]
     },
     "metadata": {},
     "output_type": "display_data"
    },
    {
     "data": {
      "text/html": [
       "<pre style=\"white-space:pre;overflow-x:auto;line-height:normal;font-family:Menlo,'DejaVu Sans Mono',consolas,'Courier New',monospace\"><span style=\"color: #7fbfbf\">           </span><span style=\"color: #000080\">INFO</span>     adversarial_accuracy:   <span style=\"color: #000080; font-weight: bold\">0.3448</span>                                                                                             <a href=\"file:///home/itrushkin/.virtualenvs/fledge/lib/python3.6/site-packages/fledge/component/aggregator/aggregator.py\"><span style=\"color: #7f7f7f\">aggregator.py</span></a><span style=\"color: #7f7f7f\">:539</span>\n",
       "</pre>\n"
      ],
      "text/plain": [
       "<rich.jupyter.JupyterRenderable at 0x7f7f413109b0>"
      ]
     },
     "metadata": {},
     "output_type": "display_data"
    },
    {
     "data": {
      "text/html": [
       "<pre style=\"white-space:pre;overflow-x:auto;line-height:normal;font-family:Menlo,'DejaVu Sans Mono',consolas,'Courier New',monospace\"><span style=\"color: #7fbfbf\">           </span><span style=\"color: #000080\">INFO</span>     Saving round <span style=\"color: #000080; font-weight: bold\">3</span> model<span style=\"color: #808000\">...</span>                                                                                                    <a href=\"file:///home/itrushkin/.virtualenvs/fledge/lib/python3.6/site-packages/fledge/component/aggregator/aggregator.py\"><span style=\"color: #7f7f7f\">aggregator.py</span></a><span style=\"color: #7f7f7f\">:602</span>\n",
       "</pre>\n"
      ],
      "text/plain": [
       "<rich.jupyter.JupyterRenderable at 0x7f7f41055828>"
      ]
     },
     "metadata": {},
     "output_type": "display_data"
    },
    {
     "data": {
      "text/html": [
       "<pre style=\"white-space:pre;overflow-x:auto;line-height:normal;font-family:Menlo,'DejaVu Sans Mono',consolas,'Courier New',monospace\"><span style=\"color: #7fbfbf\">           </span><span style=\"color: #000080\">INFO</span>     Starting round <span style=\"color: #000080; font-weight: bold\">3</span><span style=\"color: #808000\">...</span>                                                                                                        <a href=\"file:///home/itrushkin/.virtualenvs/fledge/lib/python3.6/site-packages/fledge/component/aggregator/aggregator.py\"><span style=\"color: #7f7f7f\">aggregator.py</span></a><span style=\"color: #7f7f7f\">:610</span>\n",
       "</pre>\n"
      ],
      "text/plain": [
       "<rich.jupyter.JupyterRenderable at 0x7f7f41310588>"
      ]
     },
     "metadata": {},
     "output_type": "display_data"
    },
    {
     "data": {
      "text/html": [
       "<pre style=\"white-space:pre;overflow-x:auto;line-height:normal;font-family:Menlo,'DejaVu Sans Mono',consolas,'Courier New',monospace\"><span style=\"color: #7fbfbf\">           </span><span style=\"color: #000080\">INFO</span>     All tasks completed on two for round <span style=\"color: #000080; font-weight: bold\">2</span><span style=\"color: #808000\">...</span>                                                                                <a href=\"file:///home/itrushkin/.virtualenvs/fledge/lib/python3.6/site-packages/fledge/component/collaborator/collaborator.py\"><span style=\"color: #7f7f7f\">collaborator.py</span></a><span style=\"color: #7f7f7f\">:158</span>\n",
       "</pre>\n"
      ],
      "text/plain": [
       "<rich.jupyter.JupyterRenderable at 0x7f7f41310588>"
      ]
     },
     "metadata": {},
     "output_type": "display_data"
    },
    {
     "data": {
      "text/html": [
       "<pre style=\"white-space:pre;overflow-x:auto;line-height:normal;font-family:Menlo,'DejaVu Sans Mono',consolas,'Courier New',monospace\"><span style=\"color: #7fbfbf\">           </span><span style=\"color: #000080\">INFO</span>     Aggregator GetTasks function reached from collaborator one<span style=\"color: #808000\">...</span>                                                              <a href=\"file:///home/itrushkin/.virtualenvs/fledge/lib/python3.6/site-packages/fledge/component/aggregator/aggregator.py\"><span style=\"color: #7f7f7f\">aggregator.py</span></a><span style=\"color: #7f7f7f\">:215</span>\n",
       "</pre>\n"
      ],
      "text/plain": [
       "<rich.jupyter.JupyterRenderable at 0x7f7f41055278>"
      ]
     },
     "metadata": {},
     "output_type": "display_data"
    },
    {
     "data": {
      "text/html": [
       "<pre style=\"white-space:pre;overflow-x:auto;line-height:normal;font-family:Menlo,'DejaVu Sans Mono',consolas,'Courier New',monospace\"><span style=\"color: #7fbfbf\">           </span><span style=\"color: #000080\">INFO</span>     Sending tasks to collaborator one for round <span style=\"color: #000080; font-weight: bold\">3</span>                                                                              <a href=\"file:///home/itrushkin/.virtualenvs/fledge/lib/python3.6/site-packages/fledge/component/aggregator/aggregator.py\"><span style=\"color: #7f7f7f\">aggregator.py</span></a><span style=\"color: #7f7f7f\">:249</span>\n",
       "</pre>\n"
      ],
      "text/plain": [
       "<rich.jupyter.JupyterRenderable at 0x7f7f41055828>"
      ]
     },
     "metadata": {},
     "output_type": "display_data"
    },
    {
     "data": {
      "text/html": [
       "<pre style=\"white-space:pre;overflow-x:auto;line-height:normal;font-family:Menlo,'DejaVu Sans Mono',consolas,'Courier New',monospace\"><span style=\"color: #7fbfbf\">           </span><span style=\"color: #000080\">INFO</span>     Received the following tasks: <span style=\"font-weight: bold\">[</span><span style=\"color: #008000\">'aggregated_model_validation'</span>, <span style=\"color: #008000\">'train'</span>, <span style=\"color: #008000\">'locally_tuned_model_validation'</span><span style=\"font-weight: bold\">]</span>                 <a href=\"file:///home/itrushkin/.virtualenvs/fledge/lib/python3.6/site-packages/fledge/component/collaborator/collaborator.py\"><span style=\"color: #7f7f7f\">collaborator.py</span></a><span style=\"color: #7f7f7f\">:155</span>\n",
       "</pre>\n"
      ],
      "text/plain": [
       "<rich.jupyter.JupyterRenderable at 0x7f7f41055278>"
      ]
     },
     "metadata": {},
     "output_type": "display_data"
    },
    {
     "name": "stdout",
     "output_type": "stream",
     "text": [
      "FastEstimator-Test: step: 196; epoch: 2; clean_accuracy: 0.5176; adversarial_accuracy: 0.38; \n"
     ]
    },
    {
     "data": {
      "text/html": [
       "<pre style=\"white-space:pre;overflow-x:auto;line-height:normal;font-family:Menlo,'DejaVu Sans Mono',consolas,'Courier New',monospace\"><span style=\"color: #7fbfbf\">[03:54:33] </span><span style=\"color: #000080\">INFO</span>     Sending metric for task aggregated_model_validation, round number <span style=\"color: #000080; font-weight: bold\">3</span>: clean_accuracy     <span style=\"color: #000080; font-weight: bold\">0.5176</span>                           <a href=\"file:///home/itrushkin/.virtualenvs/fledge/lib/python3.6/site-packages/fledge/component/collaborator/collaborator.py\"><span style=\"color: #7f7f7f\">collaborator.py</span></a><span style=\"color: #7f7f7f\">:318</span>\n",
       "</pre>\n"
      ],
      "text/plain": [
       "<rich.jupyter.JupyterRenderable at 0x7f7db47190f0>"
      ]
     },
     "metadata": {},
     "output_type": "display_data"
    },
    {
     "data": {
      "text/html": [
       "<pre style=\"white-space:pre;overflow-x:auto;line-height:normal;font-family:Menlo,'DejaVu Sans Mono',consolas,'Courier New',monospace\"><span style=\"color: #7fbfbf\">           </span><span style=\"color: #000080\">INFO</span>     Sending metric for task aggregated_model_validation, round number <span style=\"color: #000080; font-weight: bold\">3</span>: adversarial_accuracy       <span style=\"color: #000080; font-weight: bold\">0.38</span>                     <a href=\"file:///home/itrushkin/.virtualenvs/fledge/lib/python3.6/site-packages/fledge/component/collaborator/collaborator.py\"><span style=\"color: #7f7f7f\">collaborator.py</span></a><span style=\"color: #7f7f7f\">:318</span>\n",
       "</pre>\n"
      ],
      "text/plain": [
       "<rich.jupyter.JupyterRenderable at 0x7f7db4719dd8>"
      ]
     },
     "metadata": {},
     "output_type": "display_data"
    },
    {
     "data": {
      "text/html": [
       "<pre style=\"white-space:pre;overflow-x:auto;line-height:normal;font-family:Menlo,'DejaVu Sans Mono',consolas,'Courier New',monospace\"><span style=\"color: #7fbfbf\">           </span><span style=\"color: #000080\">INFO</span>     Collaborator one is sending task results for aggregated_model_validation, round <span style=\"color: #000080; font-weight: bold\">3</span>                                          <a href=\"file:///home/itrushkin/.virtualenvs/fledge/lib/python3.6/site-packages/fledge/component/aggregator/aggregator.py\"><span style=\"color: #7f7f7f\">aggregator.py</span></a><span style=\"color: #7f7f7f\">:369</span>\n",
       "</pre>\n"
      ],
      "text/plain": [
       "<rich.jupyter.JupyterRenderable at 0x7f7db4719208>"
      ]
     },
     "metadata": {},
     "output_type": "display_data"
    },
    {
     "name": "stdout",
     "output_type": "stream",
     "text": [
      "    ______           __  ______     __  _                 __            \n",
      "   / ____/___ ______/ /_/ ____/____/ /_(_)___ ___  ____ _/ /_____  _____\n",
      "  / /_  / __ `/ ___/ __/ __/ / ___/ __/ / __ `__ \\/ __ `/ __/ __ \\/ ___/\n",
      " / __/ / /_/ (__  ) /_/ /___(__  ) /_/ / / / / / / /_/ / /_/ /_/ / /    \n",
      "/_/    \\__,_/____/\\__/_____/____/\\__/_/_/ /_/ /_/\\__,_/\\__/\\____/_/     \n",
      "                                                                        \n",
      "\n",
      "FastEstimator-Warn: No ModelSaver Trace detected. Models will not be saved.\n",
      "FastEstimator-Start: step: 1; num_device: 3; logging_interval: 1000; \n",
      "FastEstimator-Train: step: 1; adv_ce: 1.2615764; base_ce: 0.9610219; avg_ce: 1.1112992; \n",
      "FastEstimator-Train: step: 98; epoch: 1; epoch_time: 2.86 sec; \n",
      "FastEstimator-Eval: step: 98; epoch: 1; adv_ce: 1.63742; base_ce: 1.254107; avg_ce: 1.4457636; clean_accuracy: 0.5616; adversarial_accuracy: 0.3928; \n",
      "FastEstimator-Train: step: 196; epoch: 2; epoch_time: 2.87 sec; \n",
      "FastEstimator-Eval: step: 196; epoch: 2; adv_ce: 1.6557367; base_ce: 1.226161; avg_ce: 1.4409488; clean_accuracy: 0.5544; adversarial_accuracy: 0.3872; \n",
      "FastEstimator-Finish: step: 196; total_time: 9.48 sec; adv_model_lr: 0.001; \n"
     ]
    },
    {
     "data": {
      "text/html": [
       "<pre style=\"white-space:pre;overflow-x:auto;line-height:normal;font-family:Menlo,'DejaVu Sans Mono',consolas,'Courier New',monospace\"><span style=\"color: #7fbfbf\">[03:54:44] </span><span style=\"color: #000080\">INFO</span>     Sending metric for task train, round number <span style=\"color: #000080; font-weight: bold\">3</span>: adv_ce   <span style=\"color: #000080; font-weight: bold\">1.2615764141082764</span>                                               <a href=\"file:///home/itrushkin/.virtualenvs/fledge/lib/python3.6/site-packages/fledge/component/collaborator/collaborator.py\"><span style=\"color: #7f7f7f\">collaborator.py</span></a><span style=\"color: #7f7f7f\">:318</span>\n",
       "</pre>\n"
      ],
      "text/plain": [
       "<rich.jupyter.JupyterRenderable at 0x7f7db474c438>"
      ]
     },
     "metadata": {},
     "output_type": "display_data"
    },
    {
     "data": {
      "text/html": [
       "<pre style=\"white-space:pre;overflow-x:auto;line-height:normal;font-family:Menlo,'DejaVu Sans Mono',consolas,'Courier New',monospace\"><span style=\"color: #7fbfbf\">           </span><span style=\"color: #000080\">INFO</span>     Sending metric for task train, round number <span style=\"color: #000080; font-weight: bold\">3</span>: base_ce  <span style=\"color: #000080; font-weight: bold\">0.961021900177002</span>                                                <a href=\"file:///home/itrushkin/.virtualenvs/fledge/lib/python3.6/site-packages/fledge/component/collaborator/collaborator.py\"><span style=\"color: #7f7f7f\">collaborator.py</span></a><span style=\"color: #7f7f7f\">:318</span>\n",
       "</pre>\n"
      ],
      "text/plain": [
       "<rich.jupyter.JupyterRenderable at 0x7f7db474c438>"
      ]
     },
     "metadata": {},
     "output_type": "display_data"
    },
    {
     "data": {
      "text/html": [
       "<pre style=\"white-space:pre;overflow-x:auto;line-height:normal;font-family:Menlo,'DejaVu Sans Mono',consolas,'Courier New',monospace\"><span style=\"color: #7fbfbf\">           </span><span style=\"color: #000080\">INFO</span>     Collaborator one is sending task results for train, round <span style=\"color: #000080; font-weight: bold\">3</span>                                                                <a href=\"file:///home/itrushkin/.virtualenvs/fledge/lib/python3.6/site-packages/fledge/component/aggregator/aggregator.py\"><span style=\"color: #7f7f7f\">aggregator.py</span></a><span style=\"color: #7f7f7f\">:369</span>\n",
       "</pre>\n"
      ],
      "text/plain": [
       "<rich.jupyter.JupyterRenderable at 0x7f7db474c438>"
      ]
     },
     "metadata": {},
     "output_type": "display_data"
    },
    {
     "name": "stdout",
     "output_type": "stream",
     "text": [
      "FastEstimator-Test: step: 196; epoch: 2; clean_accuracy: 0.5408; adversarial_accuracy: 0.3816; \n"
     ]
    },
    {
     "data": {
      "text/html": [
       "<pre style=\"white-space:pre;overflow-x:auto;line-height:normal;font-family:Menlo,'DejaVu Sans Mono',consolas,'Courier New',monospace\"><span style=\"color: #7fbfbf\">[03:54:45] </span><span style=\"color: #000080\">INFO</span>     Sending metric for task locally_tuned_model_validation, round number <span style=\"color: #000080; font-weight: bold\">3</span>: clean_accuracy  <span style=\"color: #000080; font-weight: bold\">0.5408</span>                           <a href=\"file:///home/itrushkin/.virtualenvs/fledge/lib/python3.6/site-packages/fledge/component/collaborator/collaborator.py\"><span style=\"color: #7f7f7f\">collaborator.py</span></a><span style=\"color: #7f7f7f\">:318</span>\n",
       "</pre>\n"
      ],
      "text/plain": [
       "<rich.jupyter.JupyterRenderable at 0x7f7f3f016be0>"
      ]
     },
     "metadata": {},
     "output_type": "display_data"
    },
    {
     "data": {
      "text/html": [
       "<pre style=\"white-space:pre;overflow-x:auto;line-height:normal;font-family:Menlo,'DejaVu Sans Mono',consolas,'Courier New',monospace\"><span style=\"color: #7fbfbf\">           </span><span style=\"color: #000080\">INFO</span>     Sending metric for task locally_tuned_model_validation, round number <span style=\"color: #000080; font-weight: bold\">3</span>: adversarial_accuracy    <span style=\"color: #000080; font-weight: bold\">0.3816</span>                   <a href=\"file:///home/itrushkin/.virtualenvs/fledge/lib/python3.6/site-packages/fledge/component/collaborator/collaborator.py\"><span style=\"color: #7f7f7f\">collaborator.py</span></a><span style=\"color: #7f7f7f\">:318</span>\n",
       "</pre>\n"
      ],
      "text/plain": [
       "<rich.jupyter.JupyterRenderable at 0x7f7f3f016be0>"
      ]
     },
     "metadata": {},
     "output_type": "display_data"
    },
    {
     "data": {
      "text/html": [
       "<pre style=\"white-space:pre;overflow-x:auto;line-height:normal;font-family:Menlo,'DejaVu Sans Mono',consolas,'Courier New',monospace\"><span style=\"color: #7fbfbf\">           </span><span style=\"color: #000080\">INFO</span>     Collaborator one is sending task results for locally_tuned_model_validation, round <span style=\"color: #000080; font-weight: bold\">3</span>                                       <a href=\"file:///home/itrushkin/.virtualenvs/fledge/lib/python3.6/site-packages/fledge/component/aggregator/aggregator.py\"><span style=\"color: #7f7f7f\">aggregator.py</span></a><span style=\"color: #7f7f7f\">:369</span>\n",
       "</pre>\n"
      ],
      "text/plain": [
       "<rich.jupyter.JupyterRenderable at 0x7f7f3f016be0>"
      ]
     },
     "metadata": {},
     "output_type": "display_data"
    },
    {
     "data": {
      "text/html": [
       "<pre style=\"white-space:pre;overflow-x:auto;line-height:normal;font-family:Menlo,'DejaVu Sans Mono',consolas,'Courier New',monospace\"><span style=\"color: #7fbfbf\">           </span><span style=\"color: #000080\">INFO</span>     All tasks completed on one for round <span style=\"color: #000080; font-weight: bold\">3</span><span style=\"color: #808000\">...</span>                                                                                <a href=\"file:///home/itrushkin/.virtualenvs/fledge/lib/python3.6/site-packages/fledge/component/collaborator/collaborator.py\"><span style=\"color: #7f7f7f\">collaborator.py</span></a><span style=\"color: #7f7f7f\">:158</span>\n",
       "</pre>\n"
      ],
      "text/plain": [
       "<rich.jupyter.JupyterRenderable at 0x7f7db474c0b8>"
      ]
     },
     "metadata": {},
     "output_type": "display_data"
    },
    {
     "data": {
      "text/html": [
       "<pre style=\"white-space:pre;overflow-x:auto;line-height:normal;font-family:Menlo,'DejaVu Sans Mono',consolas,'Courier New',monospace\"><span style=\"color: #7fbfbf\">           </span><span style=\"color: #000080\">INFO</span>     Aggregator GetTasks function reached from collaborator two<span style=\"color: #808000\">...</span>                                                              <a href=\"file:///home/itrushkin/.virtualenvs/fledge/lib/python3.6/site-packages/fledge/component/aggregator/aggregator.py\"><span style=\"color: #7f7f7f\">aggregator.py</span></a><span style=\"color: #7f7f7f\">:215</span>\n",
       "</pre>\n"
      ],
      "text/plain": [
       "<rich.jupyter.JupyterRenderable at 0x7f7f41079710>"
      ]
     },
     "metadata": {},
     "output_type": "display_data"
    },
    {
     "data": {
      "text/html": [
       "<pre style=\"white-space:pre;overflow-x:auto;line-height:normal;font-family:Menlo,'DejaVu Sans Mono',consolas,'Courier New',monospace\"><span style=\"color: #7fbfbf\">           </span><span style=\"color: #000080\">INFO</span>     Sending tasks to collaborator two for round <span style=\"color: #000080; font-weight: bold\">3</span>                                                                              <a href=\"file:///home/itrushkin/.virtualenvs/fledge/lib/python3.6/site-packages/fledge/component/aggregator/aggregator.py\"><span style=\"color: #7f7f7f\">aggregator.py</span></a><span style=\"color: #7f7f7f\">:249</span>\n",
       "</pre>\n"
      ],
      "text/plain": [
       "<rich.jupyter.JupyterRenderable at 0x7f7f410794a8>"
      ]
     },
     "metadata": {},
     "output_type": "display_data"
    },
    {
     "data": {
      "text/html": [
       "<pre style=\"white-space:pre;overflow-x:auto;line-height:normal;font-family:Menlo,'DejaVu Sans Mono',consolas,'Courier New',monospace\"><span style=\"color: #7fbfbf\">           </span><span style=\"color: #000080\">INFO</span>     Received the following tasks: <span style=\"font-weight: bold\">[</span><span style=\"color: #008000\">'aggregated_model_validation'</span>, <span style=\"color: #008000\">'train'</span>, <span style=\"color: #008000\">'locally_tuned_model_validation'</span><span style=\"font-weight: bold\">]</span>                 <a href=\"file:///home/itrushkin/.virtualenvs/fledge/lib/python3.6/site-packages/fledge/component/collaborator/collaborator.py\"><span style=\"color: #7f7f7f\">collaborator.py</span></a><span style=\"color: #7f7f7f\">:155</span>\n",
       "</pre>\n"
      ],
      "text/plain": [
       "<rich.jupyter.JupyterRenderable at 0x7f7f413109b0>"
      ]
     },
     "metadata": {},
     "output_type": "display_data"
    },
    {
     "name": "stdout",
     "output_type": "stream",
     "text": [
      "FastEstimator-Test: step: 196; epoch: 2; clean_accuracy: 0.5176; adversarial_accuracy: 0.38; \n"
     ]
    },
    {
     "data": {
      "text/html": [
       "<pre style=\"white-space:pre;overflow-x:auto;line-height:normal;font-family:Menlo,'DejaVu Sans Mono',consolas,'Courier New',monospace\"><span style=\"color: #7fbfbf\">[03:54:46] </span><span style=\"color: #000080\">INFO</span>     Sending metric for task aggregated_model_validation, round number <span style=\"color: #000080; font-weight: bold\">3</span>: clean_accuracy     <span style=\"color: #000080; font-weight: bold\">0.5176</span>                           <a href=\"file:///home/itrushkin/.virtualenvs/fledge/lib/python3.6/site-packages/fledge/component/collaborator/collaborator.py\"><span style=\"color: #7f7f7f\">collaborator.py</span></a><span style=\"color: #7f7f7f\">:318</span>\n",
       "</pre>\n"
      ],
      "text/plain": [
       "<rich.jupyter.JupyterRenderable at 0x7f7f4108e860>"
      ]
     },
     "metadata": {},
     "output_type": "display_data"
    },
    {
     "data": {
      "text/html": [
       "<pre style=\"white-space:pre;overflow-x:auto;line-height:normal;font-family:Menlo,'DejaVu Sans Mono',consolas,'Courier New',monospace\"><span style=\"color: #7fbfbf\">           </span><span style=\"color: #000080\">INFO</span>     Sending metric for task aggregated_model_validation, round number <span style=\"color: #000080; font-weight: bold\">3</span>: adversarial_accuracy       <span style=\"color: #000080; font-weight: bold\">0.38</span>                     <a href=\"file:///home/itrushkin/.virtualenvs/fledge/lib/python3.6/site-packages/fledge/component/collaborator/collaborator.py\"><span style=\"color: #7f7f7f\">collaborator.py</span></a><span style=\"color: #7f7f7f\">:318</span>\n",
       "</pre>\n"
      ],
      "text/plain": [
       "<rich.jupyter.JupyterRenderable at 0x7f7f4108e860>"
      ]
     },
     "metadata": {},
     "output_type": "display_data"
    },
    {
     "data": {
      "text/html": [
       "<pre style=\"white-space:pre;overflow-x:auto;line-height:normal;font-family:Menlo,'DejaVu Sans Mono',consolas,'Courier New',monospace\"><span style=\"color: #7fbfbf\">           </span><span style=\"color: #000080\">INFO</span>     Collaborator two is sending task results for aggregated_model_validation, round <span style=\"color: #000080; font-weight: bold\">3</span>                                          <a href=\"file:///home/itrushkin/.virtualenvs/fledge/lib/python3.6/site-packages/fledge/component/aggregator/aggregator.py\"><span style=\"color: #7f7f7f\">aggregator.py</span></a><span style=\"color: #7f7f7f\">:369</span>\n",
       "</pre>\n"
      ],
      "text/plain": [
       "<rich.jupyter.JupyterRenderable at 0x7f7f4108e860>"
      ]
     },
     "metadata": {},
     "output_type": "display_data"
    },
    {
     "name": "stdout",
     "output_type": "stream",
     "text": [
      "    ______           __  ______     __  _                 __            \n",
      "   / ____/___ ______/ /_/ ____/____/ /_(_)___ ___  ____ _/ /_____  _____\n",
      "  / /_  / __ `/ ___/ __/ __/ / ___/ __/ / __ `__ \\/ __ `/ __/ __ \\/ ___/\n",
      " / __/ / /_/ (__  ) /_/ /___(__  ) /_/ / / / / / / /_/ / /_/ /_/ / /    \n",
      "/_/    \\__,_/____/\\__/_____/____/\\__/_/_/ /_/ /_/\\__,_/\\__/\\____/_/     \n",
      "                                                                        \n",
      "\n",
      "FastEstimator-Warn: No ModelSaver Trace detected. Models will not be saved.\n",
      "FastEstimator-Start: step: 1; num_device: 3; logging_interval: 1000; \n",
      "FastEstimator-Train: step: 1; adv_ce: 1.5611308; base_ce: 1.2086318; avg_ce: 1.3848813; \n",
      "FastEstimator-Train: step: 98; epoch: 1; epoch_time: 2.88 sec; \n",
      "FastEstimator-Eval: step: 98; epoch: 1; adv_ce: 1.6250803; base_ce: 1.2441444; avg_ce: 1.4346124; clean_accuracy: 0.5616; adversarial_accuracy: 0.3928; \n",
      "FastEstimator-Train: step: 196; epoch: 2; epoch_time: 2.89 sec; \n",
      "FastEstimator-Eval: step: 196; epoch: 2; adv_ce: 1.630934; base_ce: 1.2115631; avg_ce: 1.4212487; clean_accuracy: 0.5688; adversarial_accuracy: 0.4048; \n",
      "FastEstimator-Finish: step: 196; total_time: 9.57 sec; adv_model_lr: 0.001; \n"
     ]
    },
    {
     "data": {
      "text/html": [
       "<pre style=\"white-space:pre;overflow-x:auto;line-height:normal;font-family:Menlo,'DejaVu Sans Mono',consolas,'Courier New',monospace\"><span style=\"color: #7fbfbf\">[03:54:57] </span><span style=\"color: #000080\">INFO</span>     Sending metric for task train, round number <span style=\"color: #000080; font-weight: bold\">3</span>: adv_ce   <span style=\"color: #000080; font-weight: bold\">1.5611307621002197</span>                                               <a href=\"file:///home/itrushkin/.virtualenvs/fledge/lib/python3.6/site-packages/fledge/component/collaborator/collaborator.py\"><span style=\"color: #7f7f7f\">collaborator.py</span></a><span style=\"color: #7f7f7f\">:318</span>\n",
       "</pre>\n"
      ],
      "text/plain": [
       "<rich.jupyter.JupyterRenderable at 0x7f7f4111bb00>"
      ]
     },
     "metadata": {},
     "output_type": "display_data"
    },
    {
     "data": {
      "text/html": [
       "<pre style=\"white-space:pre;overflow-x:auto;line-height:normal;font-family:Menlo,'DejaVu Sans Mono',consolas,'Courier New',monospace\"><span style=\"color: #7fbfbf\">           </span><span style=\"color: #000080\">INFO</span>     Sending metric for task train, round number <span style=\"color: #000080; font-weight: bold\">3</span>: base_ce  <span style=\"color: #000080; font-weight: bold\">1.2086317539215088</span>                                               <a href=\"file:///home/itrushkin/.virtualenvs/fledge/lib/python3.6/site-packages/fledge/component/collaborator/collaborator.py\"><span style=\"color: #7f7f7f\">collaborator.py</span></a><span style=\"color: #7f7f7f\">:318</span>\n",
       "</pre>\n"
      ],
      "text/plain": [
       "<rich.jupyter.JupyterRenderable at 0x7f7f4111b320>"
      ]
     },
     "metadata": {},
     "output_type": "display_data"
    },
    {
     "data": {
      "text/html": [
       "<pre style=\"white-space:pre;overflow-x:auto;line-height:normal;font-family:Menlo,'DejaVu Sans Mono',consolas,'Courier New',monospace\"><span style=\"color: #7fbfbf\">           </span><span style=\"color: #000080\">INFO</span>     Collaborator two is sending task results for train, round <span style=\"color: #000080; font-weight: bold\">3</span>                                                                <a href=\"file:///home/itrushkin/.virtualenvs/fledge/lib/python3.6/site-packages/fledge/component/aggregator/aggregator.py\"><span style=\"color: #7f7f7f\">aggregator.py</span></a><span style=\"color: #7f7f7f\">:369</span>\n",
       "</pre>\n"
      ],
      "text/plain": [
       "<rich.jupyter.JupyterRenderable at 0x7f7f4111b048>"
      ]
     },
     "metadata": {},
     "output_type": "display_data"
    },
    {
     "name": "stdout",
     "output_type": "stream",
     "text": [
      "FastEstimator-Test: step: 196; epoch: 2; clean_accuracy: 0.5536; adversarial_accuracy: 0.384; \n"
     ]
    },
    {
     "data": {
      "text/html": [
       "<pre style=\"white-space:pre;overflow-x:auto;line-height:normal;font-family:Menlo,'DejaVu Sans Mono',consolas,'Courier New',monospace\"><span style=\"color: #7fbfbf\">[03:54:59] </span><span style=\"color: #000080\">INFO</span>     Sending metric for task locally_tuned_model_validation, round number <span style=\"color: #000080; font-weight: bold\">3</span>: clean_accuracy  <span style=\"color: #000080; font-weight: bold\">0.5536</span>                           <a href=\"file:///home/itrushkin/.virtualenvs/fledge/lib/python3.6/site-packages/fledge/component/collaborator/collaborator.py\"><span style=\"color: #7f7f7f\">collaborator.py</span></a><span style=\"color: #7f7f7f\">:318</span>\n",
       "</pre>\n"
      ],
      "text/plain": [
       "<rich.jupyter.JupyterRenderable at 0x7f7f4111bd68>"
      ]
     },
     "metadata": {},
     "output_type": "display_data"
    },
    {
     "data": {
      "text/html": [
       "<pre style=\"white-space:pre;overflow-x:auto;line-height:normal;font-family:Menlo,'DejaVu Sans Mono',consolas,'Courier New',monospace\"><span style=\"color: #7fbfbf\">           </span><span style=\"color: #000080\">INFO</span>     Sending metric for task locally_tuned_model_validation, round number <span style=\"color: #000080; font-weight: bold\">3</span>: adversarial_accuracy    <span style=\"color: #000080; font-weight: bold\">0.384</span>                    <a href=\"file:///home/itrushkin/.virtualenvs/fledge/lib/python3.6/site-packages/fledge/component/collaborator/collaborator.py\"><span style=\"color: #7f7f7f\">collaborator.py</span></a><span style=\"color: #7f7f7f\">:318</span>\n",
       "</pre>\n"
      ],
      "text/plain": [
       "<rich.jupyter.JupyterRenderable at 0x7f7f410643c8>"
      ]
     },
     "metadata": {},
     "output_type": "display_data"
    },
    {
     "data": {
      "text/html": [
       "<pre style=\"white-space:pre;overflow-x:auto;line-height:normal;font-family:Menlo,'DejaVu Sans Mono',consolas,'Courier New',monospace\"><span style=\"color: #7fbfbf\">           </span><span style=\"color: #000080\">INFO</span>     Collaborator two is sending task results for locally_tuned_model_validation, round <span style=\"color: #000080; font-weight: bold\">3</span>                                       <a href=\"file:///home/itrushkin/.virtualenvs/fledge/lib/python3.6/site-packages/fledge/component/aggregator/aggregator.py\"><span style=\"color: #7f7f7f\">aggregator.py</span></a><span style=\"color: #7f7f7f\">:369</span>\n",
       "</pre>\n"
      ],
      "text/plain": [
       "<rich.jupyter.JupyterRenderable at 0x7f7f3f020b70>"
      ]
     },
     "metadata": {},
     "output_type": "display_data"
    },
    {
     "data": {
      "text/html": [
       "<pre style=\"white-space:pre;overflow-x:auto;line-height:normal;font-family:Menlo,'DejaVu Sans Mono',consolas,'Courier New',monospace\"><span style=\"color: #7fbfbf\">           </span><span style=\"color: #000080\">INFO</span>     train task metrics<span style=\"color: #808000\">...</span>                                                                                                      <a href=\"file:///home/itrushkin/.virtualenvs/fledge/lib/python3.6/site-packages/fledge/component/aggregator/aggregator.py\"><span style=\"color: #7f7f7f\">aggregator.py</span></a><span style=\"color: #7f7f7f\">:505</span>\n",
       "</pre>\n"
      ],
      "text/plain": [
       "<rich.jupyter.JupyterRenderable at 0x7f7f41072b38>"
      ]
     },
     "metadata": {},
     "output_type": "display_data"
    },
    {
     "data": {
      "text/html": [
       "<pre style=\"white-space:pre;overflow-x:auto;line-height:normal;font-family:Menlo,'DejaVu Sans Mono',consolas,'Courier New',monospace\"><span style=\"color: #7fbfbf\">           </span><span style=\"color: #000080\">INFO</span>     adv_ce: <span style=\"color: #000080; font-weight: bold\">1.4114</span>                                                                                                             <a href=\"file:///home/itrushkin/.virtualenvs/fledge/lib/python3.6/site-packages/fledge/component/aggregator/aggregator.py\"><span style=\"color: #7f7f7f\">aggregator.py</span></a><span style=\"color: #7f7f7f\">:539</span>\n",
       "</pre>\n"
      ],
      "text/plain": [
       "<rich.jupyter.JupyterRenderable at 0x7f7f41072ba8>"
      ]
     },
     "metadata": {},
     "output_type": "display_data"
    },
    {
     "data": {
      "text/html": [
       "<pre style=\"white-space:pre;overflow-x:auto;line-height:normal;font-family:Menlo,'DejaVu Sans Mono',consolas,'Courier New',monospace\"><span style=\"color: #7fbfbf\">           </span><span style=\"color: #000080\">INFO</span>     base_ce:        <span style=\"color: #000080; font-weight: bold\">1.0848</span>                                                                                                     <a href=\"file:///home/itrushkin/.virtualenvs/fledge/lib/python3.6/site-packages/fledge/component/aggregator/aggregator.py\"><span style=\"color: #7f7f7f\">aggregator.py</span></a><span style=\"color: #7f7f7f\">:539</span>\n",
       "</pre>\n"
      ],
      "text/plain": [
       "<rich.jupyter.JupyterRenderable at 0x7f7f41072b38>"
      ]
     },
     "metadata": {},
     "output_type": "display_data"
    },
    {
     "data": {
      "text/html": [
       "<pre style=\"white-space:pre;overflow-x:auto;line-height:normal;font-family:Menlo,'DejaVu Sans Mono',consolas,'Courier New',monospace\"><span style=\"color: #7fbfbf\">           </span><span style=\"color: #000080\">INFO</span>     locally_tuned_model_validation task metrics<span style=\"color: #808000\">...</span>                                                                             <a href=\"file:///home/itrushkin/.virtualenvs/fledge/lib/python3.6/site-packages/fledge/component/aggregator/aggregator.py\"><span style=\"color: #7f7f7f\">aggregator.py</span></a><span style=\"color: #7f7f7f\">:505</span>\n",
       "</pre>\n"
      ],
      "text/plain": [
       "<rich.jupyter.JupyterRenderable at 0x7f7f410725c0>"
      ]
     },
     "metadata": {},
     "output_type": "display_data"
    },
    {
     "data": {
      "text/html": [
       "<pre style=\"white-space:pre;overflow-x:auto;line-height:normal;font-family:Menlo,'DejaVu Sans Mono',consolas,'Courier New',monospace\"><span style=\"color: #7fbfbf\">           </span><span style=\"color: #000080\">INFO</span>     clean_accuracy: <span style=\"color: #000080; font-weight: bold\">0.5472</span>                                                                                                     <a href=\"file:///home/itrushkin/.virtualenvs/fledge/lib/python3.6/site-packages/fledge/component/aggregator/aggregator.py\"><span style=\"color: #7f7f7f\">aggregator.py</span></a><span style=\"color: #7f7f7f\">:539</span>\n",
       "</pre>\n"
      ],
      "text/plain": [
       "<rich.jupyter.JupyterRenderable at 0x7f7f41072ac8>"
      ]
     },
     "metadata": {},
     "output_type": "display_data"
    },
    {
     "data": {
      "text/html": [
       "<pre style=\"white-space:pre;overflow-x:auto;line-height:normal;font-family:Menlo,'DejaVu Sans Mono',consolas,'Courier New',monospace\"><span style=\"color: #7fbfbf\">           </span><span style=\"color: #000080\">INFO</span>     adversarial_accuracy:   <span style=\"color: #000080; font-weight: bold\">0.3828</span>                                                                                             <a href=\"file:///home/itrushkin/.virtualenvs/fledge/lib/python3.6/site-packages/fledge/component/aggregator/aggregator.py\"><span style=\"color: #7f7f7f\">aggregator.py</span></a><span style=\"color: #7f7f7f\">:539</span>\n",
       "</pre>\n"
      ],
      "text/plain": [
       "<rich.jupyter.JupyterRenderable at 0x7f7f41072dd8>"
      ]
     },
     "metadata": {},
     "output_type": "display_data"
    },
    {
     "data": {
      "text/html": [
       "<pre style=\"white-space:pre;overflow-x:auto;line-height:normal;font-family:Menlo,'DejaVu Sans Mono',consolas,'Courier New',monospace\"><span style=\"color: #7fbfbf\">           </span><span style=\"color: #000080\">INFO</span>     aggregated_model_validation task metrics<span style=\"color: #808000\">...</span>                                                                                <a href=\"file:///home/itrushkin/.virtualenvs/fledge/lib/python3.6/site-packages/fledge/component/aggregator/aggregator.py\"><span style=\"color: #7f7f7f\">aggregator.py</span></a><span style=\"color: #7f7f7f\">:505</span>\n",
       "</pre>\n"
      ],
      "text/plain": [
       "<rich.jupyter.JupyterRenderable at 0x7f7f4111bb00>"
      ]
     },
     "metadata": {},
     "output_type": "display_data"
    },
    {
     "data": {
      "text/html": [
       "<pre style=\"white-space:pre;overflow-x:auto;line-height:normal;font-family:Menlo,'DejaVu Sans Mono',consolas,'Courier New',monospace\"><span style=\"color: #7fbfbf\">           </span><span style=\"color: #000080\">INFO</span>     clean_accuracy: <span style=\"color: #000080; font-weight: bold\">0.5176</span>                                                                                                     <a href=\"file:///home/itrushkin/.virtualenvs/fledge/lib/python3.6/site-packages/fledge/component/aggregator/aggregator.py\"><span style=\"color: #7f7f7f\">aggregator.py</span></a><span style=\"color: #7f7f7f\">:539</span>\n",
       "</pre>\n"
      ],
      "text/plain": [
       "<rich.jupyter.JupyterRenderable at 0x7f7f41072dd8>"
      ]
     },
     "metadata": {},
     "output_type": "display_data"
    },
    {
     "data": {
      "text/html": [
       "<pre style=\"white-space:pre;overflow-x:auto;line-height:normal;font-family:Menlo,'DejaVu Sans Mono',consolas,'Courier New',monospace\"><span style=\"color: #7fbfbf\">           </span><span style=\"color: #000080\">INFO</span>     Saved the best model with score <span style=\"color: #000080; font-weight: bold\">0.517600</span>                                                                                   <a href=\"file:///home/itrushkin/.virtualenvs/fledge/lib/python3.6/site-packages/fledge/component/aggregator/aggregator.py\"><span style=\"color: #7f7f7f\">aggregator.py</span></a><span style=\"color: #7f7f7f\">:546</span>\n",
       "</pre>\n"
      ],
      "text/plain": [
       "<rich.jupyter.JupyterRenderable at 0x7f7f4111b438>"
      ]
     },
     "metadata": {},
     "output_type": "display_data"
    },
    {
     "data": {
      "text/html": [
       "<pre style=\"white-space:pre;overflow-x:auto;line-height:normal;font-family:Menlo,'DejaVu Sans Mono',consolas,'Courier New',monospace\"><span style=\"color: #7fbfbf\">           </span><span style=\"color: #000080\">INFO</span>     adversarial_accuracy:   <span style=\"color: #000080; font-weight: bold\">0.3800</span>                                                                                             <a href=\"file:///home/itrushkin/.virtualenvs/fledge/lib/python3.6/site-packages/fledge/component/aggregator/aggregator.py\"><span style=\"color: #7f7f7f\">aggregator.py</span></a><span style=\"color: #7f7f7f\">:539</span>\n",
       "</pre>\n"
      ],
      "text/plain": [
       "<rich.jupyter.JupyterRenderable at 0x7f7f410721d0>"
      ]
     },
     "metadata": {},
     "output_type": "display_data"
    },
    {
     "data": {
      "text/html": [
       "<pre style=\"white-space:pre;overflow-x:auto;line-height:normal;font-family:Menlo,'DejaVu Sans Mono',consolas,'Courier New',monospace\"><span style=\"color: #7fbfbf\">           </span><span style=\"color: #000080\">INFO</span>     Saving round <span style=\"color: #000080; font-weight: bold\">4</span> model<span style=\"color: #808000\">...</span>                                                                                                    <a href=\"file:///home/itrushkin/.virtualenvs/fledge/lib/python3.6/site-packages/fledge/component/aggregator/aggregator.py\"><span style=\"color: #7f7f7f\">aggregator.py</span></a><span style=\"color: #7f7f7f\">:602</span>\n",
       "</pre>\n"
      ],
      "text/plain": [
       "<rich.jupyter.JupyterRenderable at 0x7f7f4111bf28>"
      ]
     },
     "metadata": {},
     "output_type": "display_data"
    },
    {
     "data": {
      "text/html": [
       "<pre style=\"white-space:pre;overflow-x:auto;line-height:normal;font-family:Menlo,'DejaVu Sans Mono',consolas,'Courier New',monospace\"><span style=\"color: #7fbfbf\">           </span><span style=\"color: #000080\">INFO</span>     Starting round <span style=\"color: #000080; font-weight: bold\">4</span><span style=\"color: #808000\">...</span>                                                                                                        <a href=\"file:///home/itrushkin/.virtualenvs/fledge/lib/python3.6/site-packages/fledge/component/aggregator/aggregator.py\"><span style=\"color: #7f7f7f\">aggregator.py</span></a><span style=\"color: #7f7f7f\">:610</span>\n",
       "</pre>\n"
      ],
      "text/plain": [
       "<rich.jupyter.JupyterRenderable at 0x7f7f4111b0b8>"
      ]
     },
     "metadata": {},
     "output_type": "display_data"
    },
    {
     "data": {
      "text/html": [
       "<pre style=\"white-space:pre;overflow-x:auto;line-height:normal;font-family:Menlo,'DejaVu Sans Mono',consolas,'Courier New',monospace\"><span style=\"color: #7fbfbf\">           </span><span style=\"color: #000080\">INFO</span>     All tasks completed on two for round <span style=\"color: #000080; font-weight: bold\">3</span><span style=\"color: #808000\">...</span>                                                                                <a href=\"file:///home/itrushkin/.virtualenvs/fledge/lib/python3.6/site-packages/fledge/component/collaborator/collaborator.py\"><span style=\"color: #7f7f7f\">collaborator.py</span></a><span style=\"color: #7f7f7f\">:158</span>\n",
       "</pre>\n"
      ],
      "text/plain": [
       "<rich.jupyter.JupyterRenderable at 0x7f7f4111bb00>"
      ]
     },
     "metadata": {},
     "output_type": "display_data"
    },
    {
     "data": {
      "text/html": [
       "<pre style=\"white-space:pre;overflow-x:auto;line-height:normal;font-family:Menlo,'DejaVu Sans Mono',consolas,'Courier New',monospace\"><span style=\"color: #7fbfbf\">           </span><span style=\"color: #000080\">INFO</span>     Aggregator GetTasks function reached from collaborator one<span style=\"color: #808000\">...</span>                                                              <a href=\"file:///home/itrushkin/.virtualenvs/fledge/lib/python3.6/site-packages/fledge/component/aggregator/aggregator.py\"><span style=\"color: #7f7f7f\">aggregator.py</span></a><span style=\"color: #7f7f7f\">:215</span>\n",
       "</pre>\n"
      ],
      "text/plain": [
       "<rich.jupyter.JupyterRenderable at 0x7f7f4111bd68>"
      ]
     },
     "metadata": {},
     "output_type": "display_data"
    },
    {
     "data": {
      "text/html": [
       "<pre style=\"white-space:pre;overflow-x:auto;line-height:normal;font-family:Menlo,'DejaVu Sans Mono',consolas,'Courier New',monospace\"><span style=\"color: #7fbfbf\">           </span><span style=\"color: #000080\">INFO</span>     Sending tasks to collaborator one for round <span style=\"color: #000080; font-weight: bold\">4</span>                                                                              <a href=\"file:///home/itrushkin/.virtualenvs/fledge/lib/python3.6/site-packages/fledge/component/aggregator/aggregator.py\"><span style=\"color: #7f7f7f\">aggregator.py</span></a><span style=\"color: #7f7f7f\">:249</span>\n",
       "</pre>\n"
      ],
      "text/plain": [
       "<rich.jupyter.JupyterRenderable at 0x7f7f410725c0>"
      ]
     },
     "metadata": {},
     "output_type": "display_data"
    },
    {
     "data": {
      "text/html": [
       "<pre style=\"white-space:pre;overflow-x:auto;line-height:normal;font-family:Menlo,'DejaVu Sans Mono',consolas,'Courier New',monospace\"><span style=\"color: #7fbfbf\">           </span><span style=\"color: #000080\">INFO</span>     Received the following tasks: <span style=\"font-weight: bold\">[</span><span style=\"color: #008000\">'aggregated_model_validation'</span>, <span style=\"color: #008000\">'train'</span>, <span style=\"color: #008000\">'locally_tuned_model_validation'</span><span style=\"font-weight: bold\">]</span>                 <a href=\"file:///home/itrushkin/.virtualenvs/fledge/lib/python3.6/site-packages/fledge/component/collaborator/collaborator.py\"><span style=\"color: #7f7f7f\">collaborator.py</span></a><span style=\"color: #7f7f7f\">:155</span>\n",
       "</pre>\n"
      ],
      "text/plain": [
       "<rich.jupyter.JupyterRenderable at 0x7f7f410721d0>"
      ]
     },
     "metadata": {},
     "output_type": "display_data"
    },
    {
     "name": "stdout",
     "output_type": "stream",
     "text": [
      "FastEstimator-Test: step: 196; epoch: 2; clean_accuracy: 0.5536; adversarial_accuracy: 0.3816; \n"
     ]
    },
    {
     "data": {
      "text/html": [
       "<pre style=\"white-space:pre;overflow-x:auto;line-height:normal;font-family:Menlo,'DejaVu Sans Mono',consolas,'Courier New',monospace\"><span style=\"color: #7fbfbf\">[03:55:00] </span><span style=\"color: #000080\">INFO</span>     Sending metric for task aggregated_model_validation, round number <span style=\"color: #000080; font-weight: bold\">4</span>: clean_accuracy     <span style=\"color: #000080; font-weight: bold\">0.5536</span>                           <a href=\"file:///home/itrushkin/.virtualenvs/fledge/lib/python3.6/site-packages/fledge/component/collaborator/collaborator.py\"><span style=\"color: #7f7f7f\">collaborator.py</span></a><span style=\"color: #7f7f7f\">:318</span>\n",
       "</pre>\n"
      ],
      "text/plain": [
       "<rich.jupyter.JupyterRenderable at 0x7f7f4106cbe0>"
      ]
     },
     "metadata": {},
     "output_type": "display_data"
    },
    {
     "data": {
      "text/html": [
       "<pre style=\"white-space:pre;overflow-x:auto;line-height:normal;font-family:Menlo,'DejaVu Sans Mono',consolas,'Courier New',monospace\"><span style=\"color: #7fbfbf\">           </span><span style=\"color: #000080\">INFO</span>     Sending metric for task aggregated_model_validation, round number <span style=\"color: #000080; font-weight: bold\">4</span>: adversarial_accuracy       <span style=\"color: #000080; font-weight: bold\">0.3816</span>                   <a href=\"file:///home/itrushkin/.virtualenvs/fledge/lib/python3.6/site-packages/fledge/component/collaborator/collaborator.py\"><span style=\"color: #7f7f7f\">collaborator.py</span></a><span style=\"color: #7f7f7f\">:318</span>\n",
       "</pre>\n"
      ],
      "text/plain": [
       "<rich.jupyter.JupyterRenderable at 0x7f7f4106cba8>"
      ]
     },
     "metadata": {},
     "output_type": "display_data"
    },
    {
     "data": {
      "text/html": [
       "<pre style=\"white-space:pre;overflow-x:auto;line-height:normal;font-family:Menlo,'DejaVu Sans Mono',consolas,'Courier New',monospace\"><span style=\"color: #7fbfbf\">           </span><span style=\"color: #000080\">INFO</span>     Collaborator one is sending task results for aggregated_model_validation, round <span style=\"color: #000080; font-weight: bold\">4</span>                                          <a href=\"file:///home/itrushkin/.virtualenvs/fledge/lib/python3.6/site-packages/fledge/component/aggregator/aggregator.py\"><span style=\"color: #7f7f7f\">aggregator.py</span></a><span style=\"color: #7f7f7f\">:369</span>\n",
       "</pre>\n"
      ],
      "text/plain": [
       "<rich.jupyter.JupyterRenderable at 0x7f7f4106c5f8>"
      ]
     },
     "metadata": {},
     "output_type": "display_data"
    },
    {
     "name": "stdout",
     "output_type": "stream",
     "text": [
      "    ______           __  ______     __  _                 __            \n",
      "   / ____/___ ______/ /_/ ____/____/ /_(_)___ ___  ____ _/ /_____  _____\n",
      "  / /_  / __ `/ ___/ __/ __/ / ___/ __/ / __ `__ \\/ __ `/ __/ __ \\/ ___/\n",
      " / __/ / /_/ (__  ) /_/ /___(__  ) /_/ / / / / / / /_/ / /_/ /_/ / /    \n",
      "/_/    \\__,_/____/\\__/_____/____/\\__/_/_/ /_/ /_/\\__,_/\\__/\\____/_/     \n",
      "                                                                        \n",
      "\n",
      "FastEstimator-Warn: No ModelSaver Trace detected. Models will not be saved.\n",
      "FastEstimator-Start: step: 1; num_device: 3; logging_interval: 1000; \n",
      "FastEstimator-Train: step: 1; adv_ce: 1.5086216; base_ce: 1.1206248; avg_ce: 1.3146231; \n",
      "FastEstimator-Train: step: 98; epoch: 1; epoch_time: 2.88 sec; \n",
      "FastEstimator-Eval: step: 98; epoch: 1; adv_ce: 1.6725767; base_ce: 1.2188331; avg_ce: 1.445705; clean_accuracy: 0.5504; adversarial_accuracy: 0.3776; \n",
      "FastEstimator-Train: step: 196; epoch: 2; epoch_time: 2.86 sec; \n",
      "FastEstimator-Eval: step: 196; epoch: 2; adv_ce: 1.6111176; base_ce: 1.161657; avg_ce: 1.3863872; clean_accuracy: 0.5904; adversarial_accuracy: 0.4192; \n",
      "FastEstimator-Finish: step: 196; total_time: 9.55 sec; adv_model_lr: 0.001; \n"
     ]
    },
    {
     "data": {
      "text/html": [
       "<pre style=\"white-space:pre;overflow-x:auto;line-height:normal;font-family:Menlo,'DejaVu Sans Mono',consolas,'Courier New',monospace\"><span style=\"color: #7fbfbf\">[03:55:11] </span><span style=\"color: #000080\">INFO</span>     Sending metric for task train, round number <span style=\"color: #000080; font-weight: bold\">4</span>: adv_ce   <span style=\"color: #000080; font-weight: bold\">1.5086215734481812</span>                                               <a href=\"file:///home/itrushkin/.virtualenvs/fledge/lib/python3.6/site-packages/fledge/component/collaborator/collaborator.py\"><span style=\"color: #7f7f7f\">collaborator.py</span></a><span style=\"color: #7f7f7f\">:318</span>\n",
       "</pre>\n"
      ],
      "text/plain": [
       "<rich.jupyter.JupyterRenderable at 0x7f7f3f012d68>"
      ]
     },
     "metadata": {},
     "output_type": "display_data"
    },
    {
     "data": {
      "text/html": [
       "<pre style=\"white-space:pre;overflow-x:auto;line-height:normal;font-family:Menlo,'DejaVu Sans Mono',consolas,'Courier New',monospace\"><span style=\"color: #7fbfbf\">           </span><span style=\"color: #000080\">INFO</span>     Sending metric for task train, round number <span style=\"color: #000080; font-weight: bold\">4</span>: base_ce  <span style=\"color: #000080; font-weight: bold\">1.1206247806549072</span>                                               <a href=\"file:///home/itrushkin/.virtualenvs/fledge/lib/python3.6/site-packages/fledge/component/collaborator/collaborator.py\"><span style=\"color: #7f7f7f\">collaborator.py</span></a><span style=\"color: #7f7f7f\">:318</span>\n",
       "</pre>\n"
      ],
      "text/plain": [
       "<rich.jupyter.JupyterRenderable at 0x7f7f3f01a908>"
      ]
     },
     "metadata": {},
     "output_type": "display_data"
    },
    {
     "data": {
      "text/html": [
       "<pre style=\"white-space:pre;overflow-x:auto;line-height:normal;font-family:Menlo,'DejaVu Sans Mono',consolas,'Courier New',monospace\"><span style=\"color: #7fbfbf\">           </span><span style=\"color: #000080\">INFO</span>     Collaborator one is sending task results for train, round <span style=\"color: #000080; font-weight: bold\">4</span>                                                                <a href=\"file:///home/itrushkin/.virtualenvs/fledge/lib/python3.6/site-packages/fledge/component/aggregator/aggregator.py\"><span style=\"color: #7f7f7f\">aggregator.py</span></a><span style=\"color: #7f7f7f\">:369</span>\n",
       "</pre>\n"
      ],
      "text/plain": [
       "<rich.jupyter.JupyterRenderable at 0x7f7f4106c080>"
      ]
     },
     "metadata": {},
     "output_type": "display_data"
    },
    {
     "name": "stdout",
     "output_type": "stream",
     "text": [
      "FastEstimator-Test: step: 196; epoch: 2; clean_accuracy: 0.5664; adversarial_accuracy: 0.388; \n"
     ]
    },
    {
     "data": {
      "text/html": [
       "<pre style=\"white-space:pre;overflow-x:auto;line-height:normal;font-family:Menlo,'DejaVu Sans Mono',consolas,'Courier New',monospace\"><span style=\"color: #7fbfbf\">[03:55:13] </span><span style=\"color: #000080\">INFO</span>     Sending metric for task locally_tuned_model_validation, round number <span style=\"color: #000080; font-weight: bold\">4</span>: clean_accuracy  <span style=\"color: #000080; font-weight: bold\">0.5664</span>                           <a href=\"file:///home/itrushkin/.virtualenvs/fledge/lib/python3.6/site-packages/fledge/component/collaborator/collaborator.py\"><span style=\"color: #7f7f7f\">collaborator.py</span></a><span style=\"color: #7f7f7f\">:318</span>\n",
       "</pre>\n"
      ],
      "text/plain": [
       "<rich.jupyter.JupyterRenderable at 0x7f7f3f0127b8>"
      ]
     },
     "metadata": {},
     "output_type": "display_data"
    },
    {
     "data": {
      "text/html": [
       "<pre style=\"white-space:pre;overflow-x:auto;line-height:normal;font-family:Menlo,'DejaVu Sans Mono',consolas,'Courier New',monospace\"><span style=\"color: #7fbfbf\">           </span><span style=\"color: #000080\">INFO</span>     Sending metric for task locally_tuned_model_validation, round number <span style=\"color: #000080; font-weight: bold\">4</span>: adversarial_accuracy    <span style=\"color: #000080; font-weight: bold\">0.388</span>                    <a href=\"file:///home/itrushkin/.virtualenvs/fledge/lib/python3.6/site-packages/fledge/component/collaborator/collaborator.py\"><span style=\"color: #7f7f7f\">collaborator.py</span></a><span style=\"color: #7f7f7f\">:318</span>\n",
       "</pre>\n"
      ],
      "text/plain": [
       "<rich.jupyter.JupyterRenderable at 0x7f7f3f0127b8>"
      ]
     },
     "metadata": {},
     "output_type": "display_data"
    },
    {
     "data": {
      "text/html": [
       "<pre style=\"white-space:pre;overflow-x:auto;line-height:normal;font-family:Menlo,'DejaVu Sans Mono',consolas,'Courier New',monospace\"><span style=\"color: #7fbfbf\">           </span><span style=\"color: #000080\">INFO</span>     Collaborator one is sending task results for locally_tuned_model_validation, round <span style=\"color: #000080; font-weight: bold\">4</span>                                       <a href=\"file:///home/itrushkin/.virtualenvs/fledge/lib/python3.6/site-packages/fledge/component/aggregator/aggregator.py\"><span style=\"color: #7f7f7f\">aggregator.py</span></a><span style=\"color: #7f7f7f\">:369</span>\n",
       "</pre>\n"
      ],
      "text/plain": [
       "<rich.jupyter.JupyterRenderable at 0x7f7f3f0127b8>"
      ]
     },
     "metadata": {},
     "output_type": "display_data"
    },
    {
     "data": {
      "text/html": [
       "<pre style=\"white-space:pre;overflow-x:auto;line-height:normal;font-family:Menlo,'DejaVu Sans Mono',consolas,'Courier New',monospace\"><span style=\"color: #7fbfbf\">           </span><span style=\"color: #000080\">INFO</span>     All tasks completed on one for round <span style=\"color: #000080; font-weight: bold\">4</span><span style=\"color: #808000\">...</span>                                                                                <a href=\"file:///home/itrushkin/.virtualenvs/fledge/lib/python3.6/site-packages/fledge/component/collaborator/collaborator.py\"><span style=\"color: #7f7f7f\">collaborator.py</span></a><span style=\"color: #7f7f7f\">:158</span>\n",
       "</pre>\n"
      ],
      "text/plain": [
       "<rich.jupyter.JupyterRenderable at 0x7f7f3f012d68>"
      ]
     },
     "metadata": {},
     "output_type": "display_data"
    },
    {
     "data": {
      "text/html": [
       "<pre style=\"white-space:pre;overflow-x:auto;line-height:normal;font-family:Menlo,'DejaVu Sans Mono',consolas,'Courier New',monospace\"><span style=\"color: #7fbfbf\">           </span><span style=\"color: #000080\">INFO</span>     Aggregator GetTasks function reached from collaborator two<span style=\"color: #808000\">...</span>                                                              <a href=\"file:///home/itrushkin/.virtualenvs/fledge/lib/python3.6/site-packages/fledge/component/aggregator/aggregator.py\"><span style=\"color: #7f7f7f\">aggregator.py</span></a><span style=\"color: #7f7f7f\">:215</span>\n",
       "</pre>\n"
      ],
      "text/plain": [
       "<rich.jupyter.JupyterRenderable at 0x7f7f410bd828>"
      ]
     },
     "metadata": {},
     "output_type": "display_data"
    },
    {
     "data": {
      "text/html": [
       "<pre style=\"white-space:pre;overflow-x:auto;line-height:normal;font-family:Menlo,'DejaVu Sans Mono',consolas,'Courier New',monospace\"><span style=\"color: #7fbfbf\">           </span><span style=\"color: #000080\">INFO</span>     Sending tasks to collaborator two for round <span style=\"color: #000080; font-weight: bold\">4</span>                                                                              <a href=\"file:///home/itrushkin/.virtualenvs/fledge/lib/python3.6/site-packages/fledge/component/aggregator/aggregator.py\"><span style=\"color: #7f7f7f\">aggregator.py</span></a><span style=\"color: #7f7f7f\">:249</span>\n",
       "</pre>\n"
      ],
      "text/plain": [
       "<rich.jupyter.JupyterRenderable at 0x7f7f410bdfd0>"
      ]
     },
     "metadata": {},
     "output_type": "display_data"
    },
    {
     "data": {
      "text/html": [
       "<pre style=\"white-space:pre;overflow-x:auto;line-height:normal;font-family:Menlo,'DejaVu Sans Mono',consolas,'Courier New',monospace\"><span style=\"color: #7fbfbf\">           </span><span style=\"color: #000080\">INFO</span>     Received the following tasks: <span style=\"font-weight: bold\">[</span><span style=\"color: #008000\">'aggregated_model_validation'</span>, <span style=\"color: #008000\">'train'</span>, <span style=\"color: #008000\">'locally_tuned_model_validation'</span><span style=\"font-weight: bold\">]</span>                 <a href=\"file:///home/itrushkin/.virtualenvs/fledge/lib/python3.6/site-packages/fledge/component/collaborator/collaborator.py\"><span style=\"color: #7f7f7f\">collaborator.py</span></a><span style=\"color: #7f7f7f\">:155</span>\n",
       "</pre>\n"
      ],
      "text/plain": [
       "<rich.jupyter.JupyterRenderable at 0x7f7f3f01a908>"
      ]
     },
     "metadata": {},
     "output_type": "display_data"
    },
    {
     "name": "stdout",
     "output_type": "stream",
     "text": [
      "FastEstimator-Test: step: 196; epoch: 2; clean_accuracy: 0.5536; adversarial_accuracy: 0.3816; \n"
     ]
    },
    {
     "data": {
      "text/html": [
       "<pre style=\"white-space:pre;overflow-x:auto;line-height:normal;font-family:Menlo,'DejaVu Sans Mono',consolas,'Courier New',monospace\"><span style=\"color: #7fbfbf\">[03:55:14] </span><span style=\"color: #000080\">INFO</span>     Sending metric for task aggregated_model_validation, round number <span style=\"color: #000080; font-weight: bold\">4</span>: clean_accuracy     <span style=\"color: #000080; font-weight: bold\">0.5536</span>                           <a href=\"file:///home/itrushkin/.virtualenvs/fledge/lib/python3.6/site-packages/fledge/component/collaborator/collaborator.py\"><span style=\"color: #7f7f7f\">collaborator.py</span></a><span style=\"color: #7f7f7f\">:318</span>\n",
       "</pre>\n"
      ],
      "text/plain": [
       "<rich.jupyter.JupyterRenderable at 0x7f7f41082da0>"
      ]
     },
     "metadata": {},
     "output_type": "display_data"
    },
    {
     "data": {
      "text/html": [
       "<pre style=\"white-space:pre;overflow-x:auto;line-height:normal;font-family:Menlo,'DejaVu Sans Mono',consolas,'Courier New',monospace\"><span style=\"color: #7fbfbf\">           </span><span style=\"color: #000080\">INFO</span>     Sending metric for task aggregated_model_validation, round number <span style=\"color: #000080; font-weight: bold\">4</span>: adversarial_accuracy       <span style=\"color: #000080; font-weight: bold\">0.3816</span>                   <a href=\"file:///home/itrushkin/.virtualenvs/fledge/lib/python3.6/site-packages/fledge/component/collaborator/collaborator.py\"><span style=\"color: #7f7f7f\">collaborator.py</span></a><span style=\"color: #7f7f7f\">:318</span>\n",
       "</pre>\n"
      ],
      "text/plain": [
       "<rich.jupyter.JupyterRenderable at 0x7f7db4747748>"
      ]
     },
     "metadata": {},
     "output_type": "display_data"
    },
    {
     "data": {
      "text/html": [
       "<pre style=\"white-space:pre;overflow-x:auto;line-height:normal;font-family:Menlo,'DejaVu Sans Mono',consolas,'Courier New',monospace\"><span style=\"color: #7fbfbf\">           </span><span style=\"color: #000080\">INFO</span>     Collaborator two is sending task results for aggregated_model_validation, round <span style=\"color: #000080; font-weight: bold\">4</span>                                          <a href=\"file:///home/itrushkin/.virtualenvs/fledge/lib/python3.6/site-packages/fledge/component/aggregator/aggregator.py\"><span style=\"color: #7f7f7f\">aggregator.py</span></a><span style=\"color: #7f7f7f\">:369</span>\n",
       "</pre>\n"
      ],
      "text/plain": [
       "<rich.jupyter.JupyterRenderable at 0x7f7f3edb0a90>"
      ]
     },
     "metadata": {},
     "output_type": "display_data"
    },
    {
     "name": "stdout",
     "output_type": "stream",
     "text": [
      "    ______           __  ______     __  _                 __            \n",
      "   / ____/___ ______/ /_/ ____/____/ /_(_)___ ___  ____ _/ /_____  _____\n",
      "  / /_  / __ `/ ___/ __/ __/ / ___/ __/ / __ `__ \\/ __ `/ __/ __ \\/ ___/\n",
      " / __/ / /_/ (__  ) /_/ /___(__  ) /_/ / / / / / / /_/ / /_/ /_/ / /    \n",
      "/_/    \\__,_/____/\\__/_____/____/\\__/_/_/ /_/ /_/\\__,_/\\__/\\____/_/     \n",
      "                                                                        \n",
      "\n",
      "FastEstimator-Warn: No ModelSaver Trace detected. Models will not be saved.\n",
      "FastEstimator-Start: step: 1; num_device: 3; logging_interval: 1000; \n",
      "FastEstimator-Train: step: 1; adv_ce: 1.3947604; base_ce: 1.0159473; avg_ce: 1.2053539; \n",
      "FastEstimator-Train: step: 98; epoch: 1; epoch_time: 2.92 sec; \n",
      "FastEstimator-Eval: step: 98; epoch: 1; adv_ce: 1.6135571; base_ce: 1.1733983; avg_ce: 1.3934777; clean_accuracy: 0.5744; adversarial_accuracy: 0.3904; \n",
      "FastEstimator-Train: step: 196; epoch: 2; epoch_time: 2.89 sec; \n",
      "FastEstimator-Eval: step: 196; epoch: 2; adv_ce: 1.6341711; base_ce: 1.1741264; avg_ce: 1.4041487; clean_accuracy: 0.5824; adversarial_accuracy: 0.3944; \n",
      "FastEstimator-Finish: step: 196; total_time: 9.68 sec; adv_model_lr: 0.001; \n"
     ]
    },
    {
     "data": {
      "text/html": [
       "<pre style=\"white-space:pre;overflow-x:auto;line-height:normal;font-family:Menlo,'DejaVu Sans Mono',consolas,'Courier New',monospace\"><span style=\"color: #7fbfbf\">[03:55:25] </span><span style=\"color: #000080\">INFO</span>     Sending metric for task train, round number <span style=\"color: #000080; font-weight: bold\">4</span>: adv_ce   <span style=\"color: #000080; font-weight: bold\">1.3947603702545166</span>                                               <a href=\"file:///home/itrushkin/.virtualenvs/fledge/lib/python3.6/site-packages/fledge/component/collaborator/collaborator.py\"><span style=\"color: #7f7f7f\">collaborator.py</span></a><span style=\"color: #7f7f7f\">:318</span>\n",
       "</pre>\n"
      ],
      "text/plain": [
       "<rich.jupyter.JupyterRenderable at 0x7f7f410b3080>"
      ]
     },
     "metadata": {},
     "output_type": "display_data"
    },
    {
     "data": {
      "text/html": [
       "<pre style=\"white-space:pre;overflow-x:auto;line-height:normal;font-family:Menlo,'DejaVu Sans Mono',consolas,'Courier New',monospace\"><span style=\"color: #7fbfbf\">           </span><span style=\"color: #000080\">INFO</span>     Sending metric for task train, round number <span style=\"color: #000080; font-weight: bold\">4</span>: base_ce  <span style=\"color: #000080; font-weight: bold\">1.0159473419189453</span>                                               <a href=\"file:///home/itrushkin/.virtualenvs/fledge/lib/python3.6/site-packages/fledge/component/collaborator/collaborator.py\"><span style=\"color: #7f7f7f\">collaborator.py</span></a><span style=\"color: #7f7f7f\">:318</span>\n",
       "</pre>\n"
      ],
      "text/plain": [
       "<rich.jupyter.JupyterRenderable at 0x7f7f410b31d0>"
      ]
     },
     "metadata": {},
     "output_type": "display_data"
    },
    {
     "data": {
      "text/html": [
       "<pre style=\"white-space:pre;overflow-x:auto;line-height:normal;font-family:Menlo,'DejaVu Sans Mono',consolas,'Courier New',monospace\"><span style=\"color: #7fbfbf\">           </span><span style=\"color: #000080\">INFO</span>     Collaborator two is sending task results for train, round <span style=\"color: #000080; font-weight: bold\">4</span>                                                                <a href=\"file:///home/itrushkin/.virtualenvs/fledge/lib/python3.6/site-packages/fledge/component/aggregator/aggregator.py\"><span style=\"color: #7f7f7f\">aggregator.py</span></a><span style=\"color: #7f7f7f\">:369</span>\n",
       "</pre>\n"
      ],
      "text/plain": [
       "<rich.jupyter.JupyterRenderable at 0x7f7f410bdef0>"
      ]
     },
     "metadata": {},
     "output_type": "display_data"
    },
    {
     "name": "stdout",
     "output_type": "stream",
     "text": [
      "FastEstimator-Test: step: 196; epoch: 2; clean_accuracy: 0.576; adversarial_accuracy: 0.3888; \n"
     ]
    },
    {
     "data": {
      "text/html": [
       "<pre style=\"white-space:pre;overflow-x:auto;line-height:normal;font-family:Menlo,'DejaVu Sans Mono',consolas,'Courier New',monospace\"><span style=\"color: #7fbfbf\">[03:55:26] </span><span style=\"color: #000080\">INFO</span>     Sending metric for task locally_tuned_model_validation, round number <span style=\"color: #000080; font-weight: bold\">4</span>: clean_accuracy  <span style=\"color: #000080; font-weight: bold\">0.576</span>                            <a href=\"file:///home/itrushkin/.virtualenvs/fledge/lib/python3.6/site-packages/fledge/component/collaborator/collaborator.py\"><span style=\"color: #7f7f7f\">collaborator.py</span></a><span style=\"color: #7f7f7f\">:318</span>\n",
       "</pre>\n"
      ],
      "text/plain": [
       "<rich.jupyter.JupyterRenderable at 0x7f7f3f016630>"
      ]
     },
     "metadata": {},
     "output_type": "display_data"
    },
    {
     "data": {
      "text/html": [
       "<pre style=\"white-space:pre;overflow-x:auto;line-height:normal;font-family:Menlo,'DejaVu Sans Mono',consolas,'Courier New',monospace\"><span style=\"color: #7fbfbf\">           </span><span style=\"color: #000080\">INFO</span>     Sending metric for task locally_tuned_model_validation, round number <span style=\"color: #000080; font-weight: bold\">4</span>: adversarial_accuracy    <span style=\"color: #000080; font-weight: bold\">0.3888</span>                   <a href=\"file:///home/itrushkin/.virtualenvs/fledge/lib/python3.6/site-packages/fledge/component/collaborator/collaborator.py\"><span style=\"color: #7f7f7f\">collaborator.py</span></a><span style=\"color: #7f7f7f\">:318</span>\n",
       "</pre>\n"
      ],
      "text/plain": [
       "<rich.jupyter.JupyterRenderable at 0x7f7f3f016160>"
      ]
     },
     "metadata": {},
     "output_type": "display_data"
    },
    {
     "data": {
      "text/html": [
       "<pre style=\"white-space:pre;overflow-x:auto;line-height:normal;font-family:Menlo,'DejaVu Sans Mono',consolas,'Courier New',monospace\"><span style=\"color: #7fbfbf\">           </span><span style=\"color: #000080\">INFO</span>     Collaborator two is sending task results for locally_tuned_model_validation, round <span style=\"color: #000080; font-weight: bold\">4</span>                                       <a href=\"file:///home/itrushkin/.virtualenvs/fledge/lib/python3.6/site-packages/fledge/component/aggregator/aggregator.py\"><span style=\"color: #7f7f7f\">aggregator.py</span></a><span style=\"color: #7f7f7f\">:369</span>\n",
       "</pre>\n"
      ],
      "text/plain": [
       "<rich.jupyter.JupyterRenderable at 0x7f7f3efeadd8>"
      ]
     },
     "metadata": {},
     "output_type": "display_data"
    },
    {
     "data": {
      "text/html": [
       "<pre style=\"white-space:pre;overflow-x:auto;line-height:normal;font-family:Menlo,'DejaVu Sans Mono',consolas,'Courier New',monospace\"><span style=\"color: #7fbfbf\">           </span><span style=\"color: #000080\">INFO</span>     train task metrics<span style=\"color: #808000\">...</span>                                                                                                      <a href=\"file:///home/itrushkin/.virtualenvs/fledge/lib/python3.6/site-packages/fledge/component/aggregator/aggregator.py\"><span style=\"color: #7f7f7f\">aggregator.py</span></a><span style=\"color: #7f7f7f\">:505</span>\n",
       "</pre>\n"
      ],
      "text/plain": [
       "<rich.jupyter.JupyterRenderable at 0x7f7f3efea8d0>"
      ]
     },
     "metadata": {},
     "output_type": "display_data"
    },
    {
     "data": {
      "text/html": [
       "<pre style=\"white-space:pre;overflow-x:auto;line-height:normal;font-family:Menlo,'DejaVu Sans Mono',consolas,'Courier New',monospace\"><span style=\"color: #7fbfbf\">           </span><span style=\"color: #000080\">INFO</span>     adv_ce: <span style=\"color: #000080; font-weight: bold\">1.4517</span>                                                                                                             <a href=\"file:///home/itrushkin/.virtualenvs/fledge/lib/python3.6/site-packages/fledge/component/aggregator/aggregator.py\"><span style=\"color: #7f7f7f\">aggregator.py</span></a><span style=\"color: #7f7f7f\">:539</span>\n",
       "</pre>\n"
      ],
      "text/plain": [
       "<rich.jupyter.JupyterRenderable at 0x7f7f3efeaeb8>"
      ]
     },
     "metadata": {},
     "output_type": "display_data"
    },
    {
     "data": {
      "text/html": [
       "<pre style=\"white-space:pre;overflow-x:auto;line-height:normal;font-family:Menlo,'DejaVu Sans Mono',consolas,'Courier New',monospace\"><span style=\"color: #7fbfbf\">           </span><span style=\"color: #000080\">INFO</span>     base_ce:        <span style=\"color: #000080; font-weight: bold\">1.0683</span>                                                                                                     <a href=\"file:///home/itrushkin/.virtualenvs/fledge/lib/python3.6/site-packages/fledge/component/aggregator/aggregator.py\"><span style=\"color: #7f7f7f\">aggregator.py</span></a><span style=\"color: #7f7f7f\">:539</span>\n",
       "</pre>\n"
      ],
      "text/plain": [
       "<rich.jupyter.JupyterRenderable at 0x7f7f3efea4a8>"
      ]
     },
     "metadata": {},
     "output_type": "display_data"
    },
    {
     "data": {
      "text/html": [
       "<pre style=\"white-space:pre;overflow-x:auto;line-height:normal;font-family:Menlo,'DejaVu Sans Mono',consolas,'Courier New',monospace\"><span style=\"color: #7fbfbf\">[03:55:27] </span><span style=\"color: #000080\">INFO</span>     locally_tuned_model_validation task metrics<span style=\"color: #808000\">...</span>                                                                             <a href=\"file:///home/itrushkin/.virtualenvs/fledge/lib/python3.6/site-packages/fledge/component/aggregator/aggregator.py\"><span style=\"color: #7f7f7f\">aggregator.py</span></a><span style=\"color: #7f7f7f\">:505</span>\n",
       "</pre>\n"
      ],
      "text/plain": [
       "<rich.jupyter.JupyterRenderable at 0x7f7f3f0162e8>"
      ]
     },
     "metadata": {},
     "output_type": "display_data"
    },
    {
     "data": {
      "text/html": [
       "<pre style=\"white-space:pre;overflow-x:auto;line-height:normal;font-family:Menlo,'DejaVu Sans Mono',consolas,'Courier New',monospace\"><span style=\"color: #7fbfbf\">           </span><span style=\"color: #000080\">INFO</span>     clean_accuracy: <span style=\"color: #000080; font-weight: bold\">0.5712</span>                                                                                                     <a href=\"file:///home/itrushkin/.virtualenvs/fledge/lib/python3.6/site-packages/fledge/component/aggregator/aggregator.py\"><span style=\"color: #7f7f7f\">aggregator.py</span></a><span style=\"color: #7f7f7f\">:539</span>\n",
       "</pre>\n"
      ],
      "text/plain": [
       "<rich.jupyter.JupyterRenderable at 0x7f7f3efeadd8>"
      ]
     },
     "metadata": {},
     "output_type": "display_data"
    },
    {
     "data": {
      "text/html": [
       "<pre style=\"white-space:pre;overflow-x:auto;line-height:normal;font-family:Menlo,'DejaVu Sans Mono',consolas,'Courier New',monospace\"><span style=\"color: #7fbfbf\">           </span><span style=\"color: #000080\">INFO</span>     adversarial_accuracy:   <span style=\"color: #000080; font-weight: bold\">0.3884</span>                                                                                             <a href=\"file:///home/itrushkin/.virtualenvs/fledge/lib/python3.6/site-packages/fledge/component/aggregator/aggregator.py\"><span style=\"color: #7f7f7f\">aggregator.py</span></a><span style=\"color: #7f7f7f\">:539</span>\n",
       "</pre>\n"
      ],
      "text/plain": [
       "<rich.jupyter.JupyterRenderable at 0x7f7f3efeadd8>"
      ]
     },
     "metadata": {},
     "output_type": "display_data"
    },
    {
     "data": {
      "text/html": [
       "<pre style=\"white-space:pre;overflow-x:auto;line-height:normal;font-family:Menlo,'DejaVu Sans Mono',consolas,'Courier New',monospace\"><span style=\"color: #7fbfbf\">           </span><span style=\"color: #000080\">INFO</span>     aggregated_model_validation task metrics<span style=\"color: #808000\">...</span>                                                                                <a href=\"file:///home/itrushkin/.virtualenvs/fledge/lib/python3.6/site-packages/fledge/component/aggregator/aggregator.py\"><span style=\"color: #7f7f7f\">aggregator.py</span></a><span style=\"color: #7f7f7f\">:505</span>\n",
       "</pre>\n"
      ],
      "text/plain": [
       "<rich.jupyter.JupyterRenderable at 0x7f7f3f0167b8>"
      ]
     },
     "metadata": {},
     "output_type": "display_data"
    },
    {
     "data": {
      "text/html": [
       "<pre style=\"white-space:pre;overflow-x:auto;line-height:normal;font-family:Menlo,'DejaVu Sans Mono',consolas,'Courier New',monospace\"><span style=\"color: #7fbfbf\">           </span><span style=\"color: #000080\">INFO</span>     clean_accuracy: <span style=\"color: #000080; font-weight: bold\">0.5536</span>                                                                                                     <a href=\"file:///home/itrushkin/.virtualenvs/fledge/lib/python3.6/site-packages/fledge/component/aggregator/aggregator.py\"><span style=\"color: #7f7f7f\">aggregator.py</span></a><span style=\"color: #7f7f7f\">:539</span>\n",
       "</pre>\n"
      ],
      "text/plain": [
       "<rich.jupyter.JupyterRenderable at 0x7f7f3efea400>"
      ]
     },
     "metadata": {},
     "output_type": "display_data"
    },
    {
     "data": {
      "text/html": [
       "<pre style=\"white-space:pre;overflow-x:auto;line-height:normal;font-family:Menlo,'DejaVu Sans Mono',consolas,'Courier New',monospace\"><span style=\"color: #7fbfbf\">           </span><span style=\"color: #000080\">INFO</span>     Saved the best model with score <span style=\"color: #000080; font-weight: bold\">0.553600</span>                                                                                   <a href=\"file:///home/itrushkin/.virtualenvs/fledge/lib/python3.6/site-packages/fledge/component/aggregator/aggregator.py\"><span style=\"color: #7f7f7f\">aggregator.py</span></a><span style=\"color: #7f7f7f\">:546</span>\n",
       "</pre>\n"
      ],
      "text/plain": [
       "<rich.jupyter.JupyterRenderable at 0x7f7f3efeab70>"
      ]
     },
     "metadata": {},
     "output_type": "display_data"
    },
    {
     "data": {
      "text/html": [
       "<pre style=\"white-space:pre;overflow-x:auto;line-height:normal;font-family:Menlo,'DejaVu Sans Mono',consolas,'Courier New',monospace\"><span style=\"color: #7fbfbf\">           </span><span style=\"color: #000080\">INFO</span>     adversarial_accuracy:   <span style=\"color: #000080; font-weight: bold\">0.3816</span>                                                                                             <a href=\"file:///home/itrushkin/.virtualenvs/fledge/lib/python3.6/site-packages/fledge/component/aggregator/aggregator.py\"><span style=\"color: #7f7f7f\">aggregator.py</span></a><span style=\"color: #7f7f7f\">:539</span>\n",
       "</pre>\n"
      ],
      "text/plain": [
       "<rich.jupyter.JupyterRenderable at 0x7f7f3efea7f0>"
      ]
     },
     "metadata": {},
     "output_type": "display_data"
    },
    {
     "data": {
      "text/html": [
       "<pre style=\"white-space:pre;overflow-x:auto;line-height:normal;font-family:Menlo,'DejaVu Sans Mono',consolas,'Courier New',monospace\"><span style=\"color: #7fbfbf\">           </span><span style=\"color: #000080\">INFO</span>     Saving round <span style=\"color: #000080; font-weight: bold\">5</span> model<span style=\"color: #808000\">...</span>                                                                                                    <a href=\"file:///home/itrushkin/.virtualenvs/fledge/lib/python3.6/site-packages/fledge/component/aggregator/aggregator.py\"><span style=\"color: #7f7f7f\">aggregator.py</span></a><span style=\"color: #7f7f7f\">:602</span>\n",
       "</pre>\n"
      ],
      "text/plain": [
       "<rich.jupyter.JupyterRenderable at 0x7f7f3efeaeb8>"
      ]
     },
     "metadata": {},
     "output_type": "display_data"
    },
    {
     "data": {
      "text/html": [
       "<pre style=\"white-space:pre;overflow-x:auto;line-height:normal;font-family:Menlo,'DejaVu Sans Mono',consolas,'Courier New',monospace\"><span style=\"color: #7fbfbf\">           </span><span style=\"color: #000080\">INFO</span>     Starting round <span style=\"color: #000080; font-weight: bold\">5</span><span style=\"color: #808000\">...</span>                                                                                                        <a href=\"file:///home/itrushkin/.virtualenvs/fledge/lib/python3.6/site-packages/fledge/component/aggregator/aggregator.py\"><span style=\"color: #7f7f7f\">aggregator.py</span></a><span style=\"color: #7f7f7f\">:610</span>\n",
       "</pre>\n"
      ],
      "text/plain": [
       "<rich.jupyter.JupyterRenderable at 0x7f7f3efea8d0>"
      ]
     },
     "metadata": {},
     "output_type": "display_data"
    },
    {
     "data": {
      "text/html": [
       "<pre style=\"white-space:pre;overflow-x:auto;line-height:normal;font-family:Menlo,'DejaVu Sans Mono',consolas,'Courier New',monospace\"><span style=\"color: #7fbfbf\">           </span><span style=\"color: #000080\">INFO</span>     All tasks completed on two for round <span style=\"color: #000080; font-weight: bold\">4</span><span style=\"color: #808000\">...</span>                                                                                <a href=\"file:///home/itrushkin/.virtualenvs/fledge/lib/python3.6/site-packages/fledge/component/collaborator/collaborator.py\"><span style=\"color: #7f7f7f\">collaborator.py</span></a><span style=\"color: #7f7f7f\">:158</span>\n",
       "</pre>\n"
      ],
      "text/plain": [
       "<rich.jupyter.JupyterRenderable at 0x7f7f3efea7f0>"
      ]
     },
     "metadata": {},
     "output_type": "display_data"
    },
    {
     "data": {
      "text/html": [
       "<pre style=\"white-space:pre;overflow-x:auto;line-height:normal;font-family:Menlo,'DejaVu Sans Mono',consolas,'Courier New',monospace\"><span style=\"color: #7fbfbf\">           </span><span style=\"color: #000080\">INFO</span>     Aggregator GetTasks function reached from collaborator one<span style=\"color: #808000\">...</span>                                                              <a href=\"file:///home/itrushkin/.virtualenvs/fledge/lib/python3.6/site-packages/fledge/component/aggregator/aggregator.py\"><span style=\"color: #7f7f7f\">aggregator.py</span></a><span style=\"color: #7f7f7f\">:215</span>\n",
       "</pre>\n"
      ],
      "text/plain": [
       "<rich.jupyter.JupyterRenderable at 0x7f7f3efeab70>"
      ]
     },
     "metadata": {},
     "output_type": "display_data"
    },
    {
     "data": {
      "text/html": [
       "<pre style=\"white-space:pre;overflow-x:auto;line-height:normal;font-family:Menlo,'DejaVu Sans Mono',consolas,'Courier New',monospace\"><span style=\"color: #7fbfbf\">           </span><span style=\"color: #000080\">INFO</span>     Sending tasks to collaborator one for round <span style=\"color: #000080; font-weight: bold\">5</span>                                                                              <a href=\"file:///home/itrushkin/.virtualenvs/fledge/lib/python3.6/site-packages/fledge/component/aggregator/aggregator.py\"><span style=\"color: #7f7f7f\">aggregator.py</span></a><span style=\"color: #7f7f7f\">:249</span>\n",
       "</pre>\n"
      ],
      "text/plain": [
       "<rich.jupyter.JupyterRenderable at 0x7f7f3efea240>"
      ]
     },
     "metadata": {},
     "output_type": "display_data"
    },
    {
     "data": {
      "text/html": [
       "<pre style=\"white-space:pre;overflow-x:auto;line-height:normal;font-family:Menlo,'DejaVu Sans Mono',consolas,'Courier New',monospace\"><span style=\"color: #7fbfbf\">           </span><span style=\"color: #000080\">INFO</span>     Received the following tasks: <span style=\"font-weight: bold\">[</span><span style=\"color: #008000\">'aggregated_model_validation'</span>, <span style=\"color: #008000\">'train'</span>, <span style=\"color: #008000\">'locally_tuned_model_validation'</span><span style=\"font-weight: bold\">]</span>                 <a href=\"file:///home/itrushkin/.virtualenvs/fledge/lib/python3.6/site-packages/fledge/component/collaborator/collaborator.py\"><span style=\"color: #7f7f7f\">collaborator.py</span></a><span style=\"color: #7f7f7f\">:155</span>\n",
       "</pre>\n"
      ],
      "text/plain": [
       "<rich.jupyter.JupyterRenderable at 0x7f7f3efeaeb8>"
      ]
     },
     "metadata": {},
     "output_type": "display_data"
    },
    {
     "name": "stdout",
     "output_type": "stream",
     "text": [
      "FastEstimator-Test: step: 196; epoch: 2; clean_accuracy: 0.5832; adversarial_accuracy: 0.396; \n"
     ]
    },
    {
     "data": {
      "text/html": [
       "<pre style=\"white-space:pre;overflow-x:auto;line-height:normal;font-family:Menlo,'DejaVu Sans Mono',consolas,'Courier New',monospace\"><span style=\"color: #7fbfbf\">[03:55:28] </span><span style=\"color: #000080\">INFO</span>     Sending metric for task aggregated_model_validation, round number <span style=\"color: #000080; font-weight: bold\">5</span>: clean_accuracy     <span style=\"color: #000080; font-weight: bold\">0.5832</span>                           <a href=\"file:///home/itrushkin/.virtualenvs/fledge/lib/python3.6/site-packages/fledge/component/collaborator/collaborator.py\"><span style=\"color: #7f7f7f\">collaborator.py</span></a><span style=\"color: #7f7f7f\">:318</span>\n",
       "</pre>\n"
      ],
      "text/plain": [
       "<rich.jupyter.JupyterRenderable at 0x7f7f41082da0>"
      ]
     },
     "metadata": {},
     "output_type": "display_data"
    },
    {
     "data": {
      "text/html": [
       "<pre style=\"white-space:pre;overflow-x:auto;line-height:normal;font-family:Menlo,'DejaVu Sans Mono',consolas,'Courier New',monospace\"><span style=\"color: #7fbfbf\">           </span><span style=\"color: #000080\">INFO</span>     Sending metric for task aggregated_model_validation, round number <span style=\"color: #000080; font-weight: bold\">5</span>: adversarial_accuracy       <span style=\"color: #000080; font-weight: bold\">0.396</span>                    <a href=\"file:///home/itrushkin/.virtualenvs/fledge/lib/python3.6/site-packages/fledge/component/collaborator/collaborator.py\"><span style=\"color: #7f7f7f\">collaborator.py</span></a><span style=\"color: #7f7f7f\">:318</span>\n",
       "</pre>\n"
      ],
      "text/plain": [
       "<rich.jupyter.JupyterRenderable at 0x7f7f3f023940>"
      ]
     },
     "metadata": {},
     "output_type": "display_data"
    },
    {
     "data": {
      "text/html": [
       "<pre style=\"white-space:pre;overflow-x:auto;line-height:normal;font-family:Menlo,'DejaVu Sans Mono',consolas,'Courier New',monospace\"><span style=\"color: #7fbfbf\">           </span><span style=\"color: #000080\">INFO</span>     Collaborator one is sending task results for aggregated_model_validation, round <span style=\"color: #000080; font-weight: bold\">5</span>                                          <a href=\"file:///home/itrushkin/.virtualenvs/fledge/lib/python3.6/site-packages/fledge/component/aggregator/aggregator.py\"><span style=\"color: #7f7f7f\">aggregator.py</span></a><span style=\"color: #7f7f7f\">:369</span>\n",
       "</pre>\n"
      ],
      "text/plain": [
       "<rich.jupyter.JupyterRenderable at 0x7f7f3f020b70>"
      ]
     },
     "metadata": {},
     "output_type": "display_data"
    },
    {
     "name": "stdout",
     "output_type": "stream",
     "text": [
      "    ______           __  ______     __  _                 __            \n",
      "   / ____/___ ______/ /_/ ____/____/ /_(_)___ ___  ____ _/ /_____  _____\n",
      "  / /_  / __ `/ ___/ __/ __/ / ___/ __/ / __ `__ \\/ __ `/ __/ __ \\/ ___/\n",
      " / __/ / /_/ (__  ) /_/ /___(__  ) /_/ / / / / / / /_/ / /_/ /_/ / /    \n",
      "/_/    \\__,_/____/\\__/_____/____/\\__/_/_/ /_/ /_/\\__,_/\\__/\\____/_/     \n",
      "                                                                        \n",
      "\n",
      "FastEstimator-Warn: No ModelSaver Trace detected. Models will not be saved.\n",
      "FastEstimator-Start: step: 1; num_device: 3; logging_interval: 1000; \n",
      "FastEstimator-Train: step: 1; adv_ce: 1.3621635; base_ce: 0.9542549; avg_ce: 1.1582092; \n",
      "FastEstimator-Train: step: 98; epoch: 1; epoch_time: 2.87 sec; \n",
      "FastEstimator-Eval: step: 98; epoch: 1; adv_ce: 1.6354862; base_ce: 1.1482712; avg_ce: 1.3918787; clean_accuracy: 0.6; adversarial_accuracy: 0.3888; \n",
      "FastEstimator-Train: step: 196; epoch: 2; epoch_time: 2.87 sec; \n",
      "FastEstimator-Eval: step: 196; epoch: 2; adv_ce: 1.6793352; base_ce: 1.1590153; avg_ce: 1.4191754; clean_accuracy: 0.5928; adversarial_accuracy: 0.4008; \n",
      "FastEstimator-Finish: step: 196; total_time: 9.48 sec; adv_model_lr: 0.001; \n"
     ]
    },
    {
     "data": {
      "text/html": [
       "<pre style=\"white-space:pre;overflow-x:auto;line-height:normal;font-family:Menlo,'DejaVu Sans Mono',consolas,'Courier New',monospace\"><span style=\"color: #7fbfbf\">[03:55:39] </span><span style=\"color: #000080\">INFO</span>     Sending metric for task train, round number <span style=\"color: #000080; font-weight: bold\">5</span>: adv_ce   <span style=\"color: #000080; font-weight: bold\">1.3621635437011719</span>                                               <a href=\"file:///home/itrushkin/.virtualenvs/fledge/lib/python3.6/site-packages/fledge/component/collaborator/collaborator.py\"><span style=\"color: #7f7f7f\">collaborator.py</span></a><span style=\"color: #7f7f7f\">:318</span>\n",
       "</pre>\n"
      ],
      "text/plain": [
       "<rich.jupyter.JupyterRenderable at 0x7f7f3eda9d68>"
      ]
     },
     "metadata": {},
     "output_type": "display_data"
    },
    {
     "data": {
      "text/html": [
       "<pre style=\"white-space:pre;overflow-x:auto;line-height:normal;font-family:Menlo,'DejaVu Sans Mono',consolas,'Courier New',monospace\"><span style=\"color: #7fbfbf\">           </span><span style=\"color: #000080\">INFO</span>     Sending metric for task train, round number <span style=\"color: #000080; font-weight: bold\">5</span>: base_ce  <span style=\"color: #000080; font-weight: bold\">0.9542549252510071</span>                                               <a href=\"file:///home/itrushkin/.virtualenvs/fledge/lib/python3.6/site-packages/fledge/component/collaborator/collaborator.py\"><span style=\"color: #7f7f7f\">collaborator.py</span></a><span style=\"color: #7f7f7f\">:318</span>\n",
       "</pre>\n"
      ],
      "text/plain": [
       "<rich.jupyter.JupyterRenderable at 0x7f7f3edb15f8>"
      ]
     },
     "metadata": {},
     "output_type": "display_data"
    },
    {
     "data": {
      "text/html": [
       "<pre style=\"white-space:pre;overflow-x:auto;line-height:normal;font-family:Menlo,'DejaVu Sans Mono',consolas,'Courier New',monospace\"><span style=\"color: #7fbfbf\">           </span><span style=\"color: #000080\">INFO</span>     Collaborator one is sending task results for train, round <span style=\"color: #000080; font-weight: bold\">5</span>                                                                <a href=\"file:///home/itrushkin/.virtualenvs/fledge/lib/python3.6/site-packages/fledge/component/aggregator/aggregator.py\"><span style=\"color: #7f7f7f\">aggregator.py</span></a><span style=\"color: #7f7f7f\">:369</span>\n",
       "</pre>\n"
      ],
      "text/plain": [
       "<rich.jupyter.JupyterRenderable at 0x7f7f3eda9d68>"
      ]
     },
     "metadata": {},
     "output_type": "display_data"
    },
    {
     "name": "stdout",
     "output_type": "stream",
     "text": [
      "FastEstimator-Test: step: 196; epoch: 2; clean_accuracy: 0.5768; adversarial_accuracy: 0.392; \n"
     ]
    },
    {
     "data": {
      "text/html": [
       "<pre style=\"white-space:pre;overflow-x:auto;line-height:normal;font-family:Menlo,'DejaVu Sans Mono',consolas,'Courier New',monospace\"><span style=\"color: #7fbfbf\">[03:55:40] </span><span style=\"color: #000080\">INFO</span>     Sending metric for task locally_tuned_model_validation, round number <span style=\"color: #000080; font-weight: bold\">5</span>: clean_accuracy  <span style=\"color: #000080; font-weight: bold\">0.5768</span>                           <a href=\"file:///home/itrushkin/.virtualenvs/fledge/lib/python3.6/site-packages/fledge/component/collaborator/collaborator.py\"><span style=\"color: #7f7f7f\">collaborator.py</span></a><span style=\"color: #7f7f7f\">:318</span>\n",
       "</pre>\n"
      ],
      "text/plain": [
       "<rich.jupyter.JupyterRenderable at 0x7f7fb3e697b8>"
      ]
     },
     "metadata": {},
     "output_type": "display_data"
    },
    {
     "data": {
      "text/html": [
       "<pre style=\"white-space:pre;overflow-x:auto;line-height:normal;font-family:Menlo,'DejaVu Sans Mono',consolas,'Courier New',monospace\"><span style=\"color: #7fbfbf\">           </span><span style=\"color: #000080\">INFO</span>     Sending metric for task locally_tuned_model_validation, round number <span style=\"color: #000080; font-weight: bold\">5</span>: adversarial_accuracy    <span style=\"color: #000080; font-weight: bold\">0.392</span>                    <a href=\"file:///home/itrushkin/.virtualenvs/fledge/lib/python3.6/site-packages/fledge/component/collaborator/collaborator.py\"><span style=\"color: #7f7f7f\">collaborator.py</span></a><span style=\"color: #7f7f7f\">:318</span>\n",
       "</pre>\n"
      ],
      "text/plain": [
       "<rich.jupyter.JupyterRenderable at 0x7f7f410643c8>"
      ]
     },
     "metadata": {},
     "output_type": "display_data"
    },
    {
     "data": {
      "text/html": [
       "<pre style=\"white-space:pre;overflow-x:auto;line-height:normal;font-family:Menlo,'DejaVu Sans Mono',consolas,'Courier New',monospace\"><span style=\"color: #7fbfbf\">           </span><span style=\"color: #000080\">INFO</span>     Collaborator one is sending task results for locally_tuned_model_validation, round <span style=\"color: #000080; font-weight: bold\">5</span>                                       <a href=\"file:///home/itrushkin/.virtualenvs/fledge/lib/python3.6/site-packages/fledge/component/aggregator/aggregator.py\"><span style=\"color: #7f7f7f\">aggregator.py</span></a><span style=\"color: #7f7f7f\">:369</span>\n",
       "</pre>\n"
      ],
      "text/plain": [
       "<rich.jupyter.JupyterRenderable at 0x7f7f41072470>"
      ]
     },
     "metadata": {},
     "output_type": "display_data"
    },
    {
     "data": {
      "text/html": [
       "<pre style=\"white-space:pre;overflow-x:auto;line-height:normal;font-family:Menlo,'DejaVu Sans Mono',consolas,'Courier New',monospace\"><span style=\"color: #7fbfbf\">           </span><span style=\"color: #000080\">INFO</span>     All tasks completed on one for round <span style=\"color: #000080; font-weight: bold\">5</span><span style=\"color: #808000\">...</span>                                                                                <a href=\"file:///home/itrushkin/.virtualenvs/fledge/lib/python3.6/site-packages/fledge/component/collaborator/collaborator.py\"><span style=\"color: #7f7f7f\">collaborator.py</span></a><span style=\"color: #7f7f7f\">:158</span>\n",
       "</pre>\n"
      ],
      "text/plain": [
       "<rich.jupyter.JupyterRenderable at 0x7f7f3efea8d0>"
      ]
     },
     "metadata": {},
     "output_type": "display_data"
    },
    {
     "data": {
      "text/html": [
       "<pre style=\"white-space:pre;overflow-x:auto;line-height:normal;font-family:Menlo,'DejaVu Sans Mono',consolas,'Courier New',monospace\"><span style=\"color: #7fbfbf\">           </span><span style=\"color: #000080\">INFO</span>     Aggregator GetTasks function reached from collaborator two<span style=\"color: #808000\">...</span>                                                              <a href=\"file:///home/itrushkin/.virtualenvs/fledge/lib/python3.6/site-packages/fledge/component/aggregator/aggregator.py\"><span style=\"color: #7f7f7f\">aggregator.py</span></a><span style=\"color: #7f7f7f\">:215</span>\n",
       "</pre>\n"
      ],
      "text/plain": [
       "<rich.jupyter.JupyterRenderable at 0x7f7f3eda7b00>"
      ]
     },
     "metadata": {},
     "output_type": "display_data"
    },
    {
     "data": {
      "text/html": [
       "<pre style=\"white-space:pre;overflow-x:auto;line-height:normal;font-family:Menlo,'DejaVu Sans Mono',consolas,'Courier New',monospace\"><span style=\"color: #7fbfbf\">           </span><span style=\"color: #000080\">INFO</span>     Sending tasks to collaborator two for round <span style=\"color: #000080; font-weight: bold\">5</span>                                                                              <a href=\"file:///home/itrushkin/.virtualenvs/fledge/lib/python3.6/site-packages/fledge/component/aggregator/aggregator.py\"><span style=\"color: #7f7f7f\">aggregator.py</span></a><span style=\"color: #7f7f7f\">:249</span>\n",
       "</pre>\n"
      ],
      "text/plain": [
       "<rich.jupyter.JupyterRenderable at 0x7f7f3eda7e80>"
      ]
     },
     "metadata": {},
     "output_type": "display_data"
    },
    {
     "data": {
      "text/html": [
       "<pre style=\"white-space:pre;overflow-x:auto;line-height:normal;font-family:Menlo,'DejaVu Sans Mono',consolas,'Courier New',monospace\"><span style=\"color: #7fbfbf\">           </span><span style=\"color: #000080\">INFO</span>     Received the following tasks: <span style=\"font-weight: bold\">[</span><span style=\"color: #008000\">'aggregated_model_validation'</span>, <span style=\"color: #008000\">'train'</span>, <span style=\"color: #008000\">'locally_tuned_model_validation'</span><span style=\"font-weight: bold\">]</span>                 <a href=\"file:///home/itrushkin/.virtualenvs/fledge/lib/python3.6/site-packages/fledge/component/collaborator/collaborator.py\"><span style=\"color: #7f7f7f\">collaborator.py</span></a><span style=\"color: #7f7f7f\">:155</span>\n",
       "</pre>\n"
      ],
      "text/plain": [
       "<rich.jupyter.JupyterRenderable at 0x7f7f41064be0>"
      ]
     },
     "metadata": {},
     "output_type": "display_data"
    },
    {
     "name": "stdout",
     "output_type": "stream",
     "text": [
      "FastEstimator-Test: step: 196; epoch: 2; clean_accuracy: 0.5832; adversarial_accuracy: 0.396; \n"
     ]
    },
    {
     "data": {
      "text/html": [
       "<pre style=\"white-space:pre;overflow-x:auto;line-height:normal;font-family:Menlo,'DejaVu Sans Mono',consolas,'Courier New',monospace\"><span style=\"color: #7fbfbf\">[03:55:41] </span><span style=\"color: #000080\">INFO</span>     Sending metric for task aggregated_model_validation, round number <span style=\"color: #000080; font-weight: bold\">5</span>: clean_accuracy     <span style=\"color: #000080; font-weight: bold\">0.5832</span>                           <a href=\"file:///home/itrushkin/.virtualenvs/fledge/lib/python3.6/site-packages/fledge/component/collaborator/collaborator.py\"><span style=\"color: #7f7f7f\">collaborator.py</span></a><span style=\"color: #7f7f7f\">:318</span>\n",
       "</pre>\n"
      ],
      "text/plain": [
       "<rich.jupyter.JupyterRenderable at 0x7f7e47d899b0>"
      ]
     },
     "metadata": {},
     "output_type": "display_data"
    },
    {
     "data": {
      "text/html": [
       "<pre style=\"white-space:pre;overflow-x:auto;line-height:normal;font-family:Menlo,'DejaVu Sans Mono',consolas,'Courier New',monospace\"><span style=\"color: #7fbfbf\">           </span><span style=\"color: #000080\">INFO</span>     Sending metric for task aggregated_model_validation, round number <span style=\"color: #000080; font-weight: bold\">5</span>: adversarial_accuracy       <span style=\"color: #000080; font-weight: bold\">0.396</span>                    <a href=\"file:///home/itrushkin/.virtualenvs/fledge/lib/python3.6/site-packages/fledge/component/collaborator/collaborator.py\"><span style=\"color: #7f7f7f\">collaborator.py</span></a><span style=\"color: #7f7f7f\">:318</span>\n",
       "</pre>\n"
      ],
      "text/plain": [
       "<rich.jupyter.JupyterRenderable at 0x7f7f3edb4828>"
      ]
     },
     "metadata": {},
     "output_type": "display_data"
    },
    {
     "data": {
      "text/html": [
       "<pre style=\"white-space:pre;overflow-x:auto;line-height:normal;font-family:Menlo,'DejaVu Sans Mono',consolas,'Courier New',monospace\"><span style=\"color: #7fbfbf\">           </span><span style=\"color: #000080\">INFO</span>     Collaborator two is sending task results for aggregated_model_validation, round <span style=\"color: #000080; font-weight: bold\">5</span>                                          <a href=\"file:///home/itrushkin/.virtualenvs/fledge/lib/python3.6/site-packages/fledge/component/aggregator/aggregator.py\"><span style=\"color: #7f7f7f\">aggregator.py</span></a><span style=\"color: #7f7f7f\">:369</span>\n",
       "</pre>\n"
      ],
      "text/plain": [
       "<rich.jupyter.JupyterRenderable at 0x7f7f41310e10>"
      ]
     },
     "metadata": {},
     "output_type": "display_data"
    },
    {
     "name": "stdout",
     "output_type": "stream",
     "text": [
      "    ______           __  ______     __  _                 __            \n",
      "   / ____/___ ______/ /_/ ____/____/ /_(_)___ ___  ____ _/ /_____  _____\n",
      "  / /_  / __ `/ ___/ __/ __/ / ___/ __/ / __ `__ \\/ __ `/ __/ __ \\/ ___/\n",
      " / __/ / /_/ (__  ) /_/ /___(__  ) /_/ / / / / / / /_/ / /_/ /_/ / /    \n",
      "/_/    \\__,_/____/\\__/_____/____/\\__/_/_/ /_/ /_/\\__,_/\\__/\\____/_/     \n",
      "                                                                        \n",
      "\n",
      "FastEstimator-Warn: No ModelSaver Trace detected. Models will not be saved.\n",
      "FastEstimator-Start: step: 1; num_device: 3; logging_interval: 1000; \n",
      "FastEstimator-Train: step: 1; adv_ce: 1.3283495; base_ce: 0.9305434; avg_ce: 1.1294465; \n",
      "FastEstimator-Train: step: 98; epoch: 1; epoch_time: 2.85 sec; \n",
      "FastEstimator-Eval: step: 98; epoch: 1; adv_ce: 1.6258261; base_ce: 1.1375258; avg_ce: 1.381676; clean_accuracy: 0.5896; adversarial_accuracy: 0.3936; \n",
      "FastEstimator-Train: step: 196; epoch: 2; epoch_time: 2.87 sec; \n",
      "FastEstimator-Eval: step: 196; epoch: 2; adv_ce: 1.651487; base_ce: 1.1406593; avg_ce: 1.3960731; clean_accuracy: 0.5888; adversarial_accuracy: 0.3808; \n",
      "FastEstimator-Finish: step: 196; total_time: 9.51 sec; adv_model_lr: 0.001; \n"
     ]
    },
    {
     "data": {
      "text/html": [
       "<pre style=\"white-space:pre;overflow-x:auto;line-height:normal;font-family:Menlo,'DejaVu Sans Mono',consolas,'Courier New',monospace\"><span style=\"color: #7fbfbf\">[03:55:53] </span><span style=\"color: #000080\">INFO</span>     Sending metric for task train, round number <span style=\"color: #000080; font-weight: bold\">5</span>: adv_ce   <span style=\"color: #000080; font-weight: bold\">1.3283494710922241</span>                                               <a href=\"file:///home/itrushkin/.virtualenvs/fledge/lib/python3.6/site-packages/fledge/component/collaborator/collaborator.py\"><span style=\"color: #7f7f7f\">collaborator.py</span></a><span style=\"color: #7f7f7f\">:318</span>\n",
       "</pre>\n"
      ],
      "text/plain": [
       "<rich.jupyter.JupyterRenderable at 0x7f7f4106f9b0>"
      ]
     },
     "metadata": {},
     "output_type": "display_data"
    },
    {
     "data": {
      "text/html": [
       "<pre style=\"white-space:pre;overflow-x:auto;line-height:normal;font-family:Menlo,'DejaVu Sans Mono',consolas,'Courier New',monospace\"><span style=\"color: #7fbfbf\">           </span><span style=\"color: #000080\">INFO</span>     Sending metric for task train, round number <span style=\"color: #000080; font-weight: bold\">5</span>: base_ce  <span style=\"color: #000080; font-weight: bold\">0.9305434226989746</span>                                               <a href=\"file:///home/itrushkin/.virtualenvs/fledge/lib/python3.6/site-packages/fledge/component/collaborator/collaborator.py\"><span style=\"color: #7f7f7f\">collaborator.py</span></a><span style=\"color: #7f7f7f\">:318</span>\n",
       "</pre>\n"
      ],
      "text/plain": [
       "<rich.jupyter.JupyterRenderable at 0x7f7f4106f9b0>"
      ]
     },
     "metadata": {},
     "output_type": "display_data"
    },
    {
     "data": {
      "text/html": [
       "<pre style=\"white-space:pre;overflow-x:auto;line-height:normal;font-family:Menlo,'DejaVu Sans Mono',consolas,'Courier New',monospace\"><span style=\"color: #7fbfbf\">           </span><span style=\"color: #000080\">INFO</span>     Collaborator two is sending task results for train, round <span style=\"color: #000080; font-weight: bold\">5</span>                                                                <a href=\"file:///home/itrushkin/.virtualenvs/fledge/lib/python3.6/site-packages/fledge/component/aggregator/aggregator.py\"><span style=\"color: #7f7f7f\">aggregator.py</span></a><span style=\"color: #7f7f7f\">:369</span>\n",
       "</pre>\n"
      ],
      "text/plain": [
       "<rich.jupyter.JupyterRenderable at 0x7f7f4106fcc0>"
      ]
     },
     "metadata": {},
     "output_type": "display_data"
    },
    {
     "name": "stdout",
     "output_type": "stream",
     "text": [
      "FastEstimator-Test: step: 196; epoch: 2; clean_accuracy: 0.5752; adversarial_accuracy: 0.3896; \n"
     ]
    },
    {
     "data": {
      "text/html": [
       "<pre style=\"white-space:pre;overflow-x:auto;line-height:normal;font-family:Menlo,'DejaVu Sans Mono',consolas,'Courier New',monospace\"><span style=\"color: #7fbfbf\">[03:55:54] </span><span style=\"color: #000080\">INFO</span>     Sending metric for task locally_tuned_model_validation, round number <span style=\"color: #000080; font-weight: bold\">5</span>: clean_accuracy  <span style=\"color: #000080; font-weight: bold\">0.5752</span>                           <a href=\"file:///home/itrushkin/.virtualenvs/fledge/lib/python3.6/site-packages/fledge/component/collaborator/collaborator.py\"><span style=\"color: #7f7f7f\">collaborator.py</span></a><span style=\"color: #7f7f7f\">:318</span>\n",
       "</pre>\n"
      ],
      "text/plain": [
       "<rich.jupyter.JupyterRenderable at 0x7f7f3f01a908>"
      ]
     },
     "metadata": {},
     "output_type": "display_data"
    },
    {
     "data": {
      "text/html": [
       "<pre style=\"white-space:pre;overflow-x:auto;line-height:normal;font-family:Menlo,'DejaVu Sans Mono',consolas,'Courier New',monospace\"><span style=\"color: #7fbfbf\">           </span><span style=\"color: #000080\">INFO</span>     Sending metric for task locally_tuned_model_validation, round number <span style=\"color: #000080; font-weight: bold\">5</span>: adversarial_accuracy    <span style=\"color: #000080; font-weight: bold\">0.3896</span>                   <a href=\"file:///home/itrushkin/.virtualenvs/fledge/lib/python3.6/site-packages/fledge/component/collaborator/collaborator.py\"><span style=\"color: #7f7f7f\">collaborator.py</span></a><span style=\"color: #7f7f7f\">:318</span>\n",
       "</pre>\n"
      ],
      "text/plain": [
       "<rich.jupyter.JupyterRenderable at 0x7f7f41072c18>"
      ]
     },
     "metadata": {},
     "output_type": "display_data"
    },
    {
     "data": {
      "text/html": [
       "<pre style=\"white-space:pre;overflow-x:auto;line-height:normal;font-family:Menlo,'DejaVu Sans Mono',consolas,'Courier New',monospace\"><span style=\"color: #7fbfbf\">           </span><span style=\"color: #000080\">INFO</span>     Collaborator two is sending task results for locally_tuned_model_validation, round <span style=\"color: #000080; font-weight: bold\">5</span>                                       <a href=\"file:///home/itrushkin/.virtualenvs/fledge/lib/python3.6/site-packages/fledge/component/aggregator/aggregator.py\"><span style=\"color: #7f7f7f\">aggregator.py</span></a><span style=\"color: #7f7f7f\">:369</span>\n",
       "</pre>\n"
      ],
      "text/plain": [
       "<rich.jupyter.JupyterRenderable at 0x7f7f412792e8>"
      ]
     },
     "metadata": {},
     "output_type": "display_data"
    },
    {
     "data": {
      "text/html": [
       "<pre style=\"white-space:pre;overflow-x:auto;line-height:normal;font-family:Menlo,'DejaVu Sans Mono',consolas,'Courier New',monospace\"><span style=\"color: #7fbfbf\">           </span><span style=\"color: #000080\">INFO</span>     train task metrics<span style=\"color: #808000\">...</span>                                                                                                      <a href=\"file:///home/itrushkin/.virtualenvs/fledge/lib/python3.6/site-packages/fledge/component/aggregator/aggregator.py\"><span style=\"color: #7f7f7f\">aggregator.py</span></a><span style=\"color: #7f7f7f\">:505</span>\n",
       "</pre>\n"
      ],
      "text/plain": [
       "<rich.jupyter.JupyterRenderable at 0x7f7f41072470>"
      ]
     },
     "metadata": {},
     "output_type": "display_data"
    },
    {
     "data": {
      "text/html": [
       "<pre style=\"white-space:pre;overflow-x:auto;line-height:normal;font-family:Menlo,'DejaVu Sans Mono',consolas,'Courier New',monospace\"><span style=\"color: #7fbfbf\">           </span><span style=\"color: #000080\">INFO</span>     adv_ce: <span style=\"color: #000080; font-weight: bold\">1.3453</span>                                                                                                             <a href=\"file:///home/itrushkin/.virtualenvs/fledge/lib/python3.6/site-packages/fledge/component/aggregator/aggregator.py\"><span style=\"color: #7f7f7f\">aggregator.py</span></a><span style=\"color: #7f7f7f\">:539</span>\n",
       "</pre>\n"
      ],
      "text/plain": [
       "<rich.jupyter.JupyterRenderable at 0x7f7f412797b8>"
      ]
     },
     "metadata": {},
     "output_type": "display_data"
    },
    {
     "data": {
      "text/html": [
       "<pre style=\"white-space:pre;overflow-x:auto;line-height:normal;font-family:Menlo,'DejaVu Sans Mono',consolas,'Courier New',monospace\"><span style=\"color: #7fbfbf\">           </span><span style=\"color: #000080\">INFO</span>     base_ce:        <span style=\"color: #000080; font-weight: bold\">0.9424</span>                                                                                                     <a href=\"file:///home/itrushkin/.virtualenvs/fledge/lib/python3.6/site-packages/fledge/component/aggregator/aggregator.py\"><span style=\"color: #7f7f7f\">aggregator.py</span></a><span style=\"color: #7f7f7f\">:539</span>\n",
       "</pre>\n"
      ],
      "text/plain": [
       "<rich.jupyter.JupyterRenderable at 0x7f7f4107de10>"
      ]
     },
     "metadata": {},
     "output_type": "display_data"
    },
    {
     "data": {
      "text/html": [
       "<pre style=\"white-space:pre;overflow-x:auto;line-height:normal;font-family:Menlo,'DejaVu Sans Mono',consolas,'Courier New',monospace\"><span style=\"color: #7fbfbf\">           </span><span style=\"color: #000080\">INFO</span>     locally_tuned_model_validation task metrics<span style=\"color: #808000\">...</span>                                                                             <a href=\"file:///home/itrushkin/.virtualenvs/fledge/lib/python3.6/site-packages/fledge/component/aggregator/aggregator.py\"><span style=\"color: #7f7f7f\">aggregator.py</span></a><span style=\"color: #7f7f7f\">:505</span>\n",
       "</pre>\n"
      ],
      "text/plain": [
       "<rich.jupyter.JupyterRenderable at 0x7f7db4742a90>"
      ]
     },
     "metadata": {},
     "output_type": "display_data"
    },
    {
     "data": {
      "text/html": [
       "<pre style=\"white-space:pre;overflow-x:auto;line-height:normal;font-family:Menlo,'DejaVu Sans Mono',consolas,'Courier New',monospace\"><span style=\"color: #7fbfbf\">           </span><span style=\"color: #000080\">INFO</span>     clean_accuracy: <span style=\"color: #000080; font-weight: bold\">0.5760</span>                                                                                                     <a href=\"file:///home/itrushkin/.virtualenvs/fledge/lib/python3.6/site-packages/fledge/component/aggregator/aggregator.py\"><span style=\"color: #7f7f7f\">aggregator.py</span></a><span style=\"color: #7f7f7f\">:539</span>\n",
       "</pre>\n"
      ],
      "text/plain": [
       "<rich.jupyter.JupyterRenderable at 0x7f7db4742860>"
      ]
     },
     "metadata": {},
     "output_type": "display_data"
    },
    {
     "data": {
      "text/html": [
       "<pre style=\"white-space:pre;overflow-x:auto;line-height:normal;font-family:Menlo,'DejaVu Sans Mono',consolas,'Courier New',monospace\"><span style=\"color: #7fbfbf\">           </span><span style=\"color: #000080\">INFO</span>     adversarial_accuracy:   <span style=\"color: #000080; font-weight: bold\">0.3908</span>                                                                                             <a href=\"file:///home/itrushkin/.virtualenvs/fledge/lib/python3.6/site-packages/fledge/component/aggregator/aggregator.py\"><span style=\"color: #7f7f7f\">aggregator.py</span></a><span style=\"color: #7f7f7f\">:539</span>\n",
       "</pre>\n"
      ],
      "text/plain": [
       "<rich.jupyter.JupyterRenderable at 0x7f7f41279fd0>"
      ]
     },
     "metadata": {},
     "output_type": "display_data"
    },
    {
     "data": {
      "text/html": [
       "<pre style=\"white-space:pre;overflow-x:auto;line-height:normal;font-family:Menlo,'DejaVu Sans Mono',consolas,'Courier New',monospace\"><span style=\"color: #7fbfbf\">           </span><span style=\"color: #000080\">INFO</span>     aggregated_model_validation task metrics<span style=\"color: #808000\">...</span>                                                                                <a href=\"file:///home/itrushkin/.virtualenvs/fledge/lib/python3.6/site-packages/fledge/component/aggregator/aggregator.py\"><span style=\"color: #7f7f7f\">aggregator.py</span></a><span style=\"color: #7f7f7f\">:505</span>\n",
       "</pre>\n"
      ],
      "text/plain": [
       "<rich.jupyter.JupyterRenderable at 0x7f7f412797b8>"
      ]
     },
     "metadata": {},
     "output_type": "display_data"
    },
    {
     "data": {
      "text/html": [
       "<pre style=\"white-space:pre;overflow-x:auto;line-height:normal;font-family:Menlo,'DejaVu Sans Mono',consolas,'Courier New',monospace\"><span style=\"color: #7fbfbf\">           </span><span style=\"color: #000080\">INFO</span>     clean_accuracy: <span style=\"color: #000080; font-weight: bold\">0.5832</span>                                                                                                     <a href=\"file:///home/itrushkin/.virtualenvs/fledge/lib/python3.6/site-packages/fledge/component/aggregator/aggregator.py\"><span style=\"color: #7f7f7f\">aggregator.py</span></a><span style=\"color: #7f7f7f\">:539</span>\n",
       "</pre>\n"
      ],
      "text/plain": [
       "<rich.jupyter.JupyterRenderable at 0x7f7db4742860>"
      ]
     },
     "metadata": {},
     "output_type": "display_data"
    },
    {
     "data": {
      "text/html": [
       "<pre style=\"white-space:pre;overflow-x:auto;line-height:normal;font-family:Menlo,'DejaVu Sans Mono',consolas,'Courier New',monospace\"><span style=\"color: #7fbfbf\">           </span><span style=\"color: #000080\">INFO</span>     Saved the best model with score <span style=\"color: #000080; font-weight: bold\">0.583200</span>                                                                                   <a href=\"file:///home/itrushkin/.virtualenvs/fledge/lib/python3.6/site-packages/fledge/component/aggregator/aggregator.py\"><span style=\"color: #7f7f7f\">aggregator.py</span></a><span style=\"color: #7f7f7f\">:546</span>\n",
       "</pre>\n"
      ],
      "text/plain": [
       "<rich.jupyter.JupyterRenderable at 0x7f7f412792e8>"
      ]
     },
     "metadata": {},
     "output_type": "display_data"
    },
    {
     "data": {
      "text/html": [
       "<pre style=\"white-space:pre;overflow-x:auto;line-height:normal;font-family:Menlo,'DejaVu Sans Mono',consolas,'Courier New',monospace\"><span style=\"color: #7fbfbf\">           </span><span style=\"color: #000080\">INFO</span>     adversarial_accuracy:   <span style=\"color: #000080; font-weight: bold\">0.3960</span>                                                                                             <a href=\"file:///home/itrushkin/.virtualenvs/fledge/lib/python3.6/site-packages/fledge/component/aggregator/aggregator.py\"><span style=\"color: #7f7f7f\">aggregator.py</span></a><span style=\"color: #7f7f7f\">:539</span>\n",
       "</pre>\n"
      ],
      "text/plain": [
       "<rich.jupyter.JupyterRenderable at 0x7f7f412792e8>"
      ]
     },
     "metadata": {},
     "output_type": "display_data"
    },
    {
     "data": {
      "text/html": [
       "<pre style=\"white-space:pre;overflow-x:auto;line-height:normal;font-family:Menlo,'DejaVu Sans Mono',consolas,'Courier New',monospace\"><span style=\"color: #7fbfbf\">           </span><span style=\"color: #000080\">INFO</span>     Saving round <span style=\"color: #000080; font-weight: bold\">6</span> model<span style=\"color: #808000\">...</span>                                                                                                    <a href=\"file:///home/itrushkin/.virtualenvs/fledge/lib/python3.6/site-packages/fledge/component/aggregator/aggregator.py\"><span style=\"color: #7f7f7f\">aggregator.py</span></a><span style=\"color: #7f7f7f\">:602</span>\n",
       "</pre>\n"
      ],
      "text/plain": [
       "<rich.jupyter.JupyterRenderable at 0x7f7f41279400>"
      ]
     },
     "metadata": {},
     "output_type": "display_data"
    },
    {
     "data": {
      "text/html": [
       "<pre style=\"white-space:pre;overflow-x:auto;line-height:normal;font-family:Menlo,'DejaVu Sans Mono',consolas,'Courier New',monospace\"><span style=\"color: #7fbfbf\">           </span><span style=\"color: #000080\">INFO</span>     Starting round <span style=\"color: #000080; font-weight: bold\">6</span><span style=\"color: #808000\">...</span>                                                                                                        <a href=\"file:///home/itrushkin/.virtualenvs/fledge/lib/python3.6/site-packages/fledge/component/aggregator/aggregator.py\"><span style=\"color: #7f7f7f\">aggregator.py</span></a><span style=\"color: #7f7f7f\">:610</span>\n",
       "</pre>\n"
      ],
      "text/plain": [
       "<rich.jupyter.JupyterRenderable at 0x7f7f41072470>"
      ]
     },
     "metadata": {},
     "output_type": "display_data"
    },
    {
     "data": {
      "text/html": [
       "<pre style=\"white-space:pre;overflow-x:auto;line-height:normal;font-family:Menlo,'DejaVu Sans Mono',consolas,'Courier New',monospace\"><span style=\"color: #7fbfbf\">           </span><span style=\"color: #000080\">INFO</span>     All tasks completed on two for round <span style=\"color: #000080; font-weight: bold\">5</span><span style=\"color: #808000\">...</span>                                                                                <a href=\"file:///home/itrushkin/.virtualenvs/fledge/lib/python3.6/site-packages/fledge/component/collaborator/collaborator.py\"><span style=\"color: #7f7f7f\">collaborator.py</span></a><span style=\"color: #7f7f7f\">:158</span>\n",
       "</pre>\n"
      ],
      "text/plain": [
       "<rich.jupyter.JupyterRenderable at 0x7f7f3f0239b0>"
      ]
     },
     "metadata": {},
     "output_type": "display_data"
    },
    {
     "data": {
      "text/html": [
       "<pre style=\"white-space:pre;overflow-x:auto;line-height:normal;font-family:Menlo,'DejaVu Sans Mono',consolas,'Courier New',monospace\"><span style=\"color: #7fbfbf\">           </span><span style=\"color: #000080\">INFO</span>     Aggregator GetTasks function reached from collaborator one<span style=\"color: #808000\">...</span>                                                              <a href=\"file:///home/itrushkin/.virtualenvs/fledge/lib/python3.6/site-packages/fledge/component/aggregator/aggregator.py\"><span style=\"color: #7f7f7f\">aggregator.py</span></a><span style=\"color: #7f7f7f\">:215</span>\n",
       "</pre>\n"
      ],
      "text/plain": [
       "<rich.jupyter.JupyterRenderable at 0x7f7f41279080>"
      ]
     },
     "metadata": {},
     "output_type": "display_data"
    },
    {
     "data": {
      "text/html": [
       "<pre style=\"white-space:pre;overflow-x:auto;line-height:normal;font-family:Menlo,'DejaVu Sans Mono',consolas,'Courier New',monospace\"><span style=\"color: #7fbfbf\">           </span><span style=\"color: #000080\">INFO</span>     Sending tasks to collaborator one for round <span style=\"color: #000080; font-weight: bold\">6</span>                                                                              <a href=\"file:///home/itrushkin/.virtualenvs/fledge/lib/python3.6/site-packages/fledge/component/aggregator/aggregator.py\"><span style=\"color: #7f7f7f\">aggregator.py</span></a><span style=\"color: #7f7f7f\">:249</span>\n",
       "</pre>\n"
      ],
      "text/plain": [
       "<rich.jupyter.JupyterRenderable at 0x7f7f41279400>"
      ]
     },
     "metadata": {},
     "output_type": "display_data"
    },
    {
     "data": {
      "text/html": [
       "<pre style=\"white-space:pre;overflow-x:auto;line-height:normal;font-family:Menlo,'DejaVu Sans Mono',consolas,'Courier New',monospace\"><span style=\"color: #7fbfbf\">           </span><span style=\"color: #000080\">INFO</span>     Received the following tasks: <span style=\"font-weight: bold\">[</span><span style=\"color: #008000\">'aggregated_model_validation'</span>, <span style=\"color: #008000\">'train'</span>, <span style=\"color: #008000\">'locally_tuned_model_validation'</span><span style=\"font-weight: bold\">]</span>                 <a href=\"file:///home/itrushkin/.virtualenvs/fledge/lib/python3.6/site-packages/fledge/component/collaborator/collaborator.py\"><span style=\"color: #7f7f7f\">collaborator.py</span></a><span style=\"color: #7f7f7f\">:155</span>\n",
       "</pre>\n"
      ],
      "text/plain": [
       "<rich.jupyter.JupyterRenderable at 0x7f7db4742dd8>"
      ]
     },
     "metadata": {},
     "output_type": "display_data"
    },
    {
     "name": "stdout",
     "output_type": "stream",
     "text": [
      "FastEstimator-Test: step: 196; epoch: 2; clean_accuracy: 0.5872; adversarial_accuracy: 0.3976; \n"
     ]
    },
    {
     "data": {
      "text/html": [
       "<pre style=\"white-space:pre;overflow-x:auto;line-height:normal;font-family:Menlo,'DejaVu Sans Mono',consolas,'Courier New',monospace\"><span style=\"color: #7fbfbf\">[03:55:56] </span><span style=\"color: #000080\">INFO</span>     Sending metric for task aggregated_model_validation, round number <span style=\"color: #000080; font-weight: bold\">6</span>: clean_accuracy     <span style=\"color: #000080; font-weight: bold\">0.5872</span>                           <a href=\"file:///home/itrushkin/.virtualenvs/fledge/lib/python3.6/site-packages/fledge/component/collaborator/collaborator.py\"><span style=\"color: #7f7f7f\">collaborator.py</span></a><span style=\"color: #7f7f7f\">:318</span>\n",
       "</pre>\n"
      ],
      "text/plain": [
       "<rich.jupyter.JupyterRenderable at 0x7f7f412797b8>"
      ]
     },
     "metadata": {},
     "output_type": "display_data"
    },
    {
     "data": {
      "text/html": [
       "<pre style=\"white-space:pre;overflow-x:auto;line-height:normal;font-family:Menlo,'DejaVu Sans Mono',consolas,'Courier New',monospace\"><span style=\"color: #7fbfbf\">           </span><span style=\"color: #000080\">INFO</span>     Sending metric for task aggregated_model_validation, round number <span style=\"color: #000080; font-weight: bold\">6</span>: adversarial_accuracy       <span style=\"color: #000080; font-weight: bold\">0.3976</span>                   <a href=\"file:///home/itrushkin/.virtualenvs/fledge/lib/python3.6/site-packages/fledge/component/collaborator/collaborator.py\"><span style=\"color: #7f7f7f\">collaborator.py</span></a><span style=\"color: #7f7f7f\">:318</span>\n",
       "</pre>\n"
      ],
      "text/plain": [
       "<rich.jupyter.JupyterRenderable at 0x7f7f3edb0128>"
      ]
     },
     "metadata": {},
     "output_type": "display_data"
    },
    {
     "data": {
      "text/html": [
       "<pre style=\"white-space:pre;overflow-x:auto;line-height:normal;font-family:Menlo,'DejaVu Sans Mono',consolas,'Courier New',monospace\"><span style=\"color: #7fbfbf\">           </span><span style=\"color: #000080\">INFO</span>     Collaborator one is sending task results for aggregated_model_validation, round <span style=\"color: #000080; font-weight: bold\">6</span>                                          <a href=\"file:///home/itrushkin/.virtualenvs/fledge/lib/python3.6/site-packages/fledge/component/aggregator/aggregator.py\"><span style=\"color: #7f7f7f\">aggregator.py</span></a><span style=\"color: #7f7f7f\">:369</span>\n",
       "</pre>\n"
      ],
      "text/plain": [
       "<rich.jupyter.JupyterRenderable at 0x7f7f3edb07b8>"
      ]
     },
     "metadata": {},
     "output_type": "display_data"
    },
    {
     "name": "stdout",
     "output_type": "stream",
     "text": [
      "    ______           __  ______     __  _                 __            \n",
      "   / ____/___ ______/ /_/ ____/____/ /_(_)___ ___  ____ _/ /_____  _____\n",
      "  / /_  / __ `/ ___/ __/ __/ / ___/ __/ / __ `__ \\/ __ `/ __/ __ \\/ ___/\n",
      " / __/ / /_/ (__  ) /_/ /___(__  ) /_/ / / / / / / /_/ / /_/ /_/ / /    \n",
      "/_/    \\__,_/____/\\__/_____/____/\\__/_/_/ /_/ /_/\\__,_/\\__/\\____/_/     \n",
      "                                                                        \n",
      "\n",
      "FastEstimator-Warn: No ModelSaver Trace detected. Models will not be saved.\n",
      "FastEstimator-Start: step: 1; num_device: 3; logging_interval: 1000; \n",
      "FastEstimator-Train: step: 1; adv_ce: 1.3063762; base_ce: 0.88347155; avg_ce: 1.0949239; \n",
      "FastEstimator-Train: step: 98; epoch: 1; epoch_time: 2.85 sec; \n",
      "FastEstimator-Eval: step: 98; epoch: 1; adv_ce: 1.685723; base_ce: 1.1672773; avg_ce: 1.4265001; clean_accuracy: 0.58; adversarial_accuracy: 0.3992; \n",
      "FastEstimator-Train: step: 196; epoch: 2; epoch_time: 2.89 sec; \n",
      "FastEstimator-Eval: step: 196; epoch: 2; adv_ce: 1.7564204; base_ce: 1.1466919; avg_ce: 1.451556; clean_accuracy: 0.5992; adversarial_accuracy: 0.408; \n",
      "FastEstimator-Finish: step: 196; total_time: 9.64 sec; adv_model_lr: 0.001; \n"
     ]
    },
    {
     "data": {
      "text/html": [
       "<pre style=\"white-space:pre;overflow-x:auto;line-height:normal;font-family:Menlo,'DejaVu Sans Mono',consolas,'Courier New',monospace\"><span style=\"color: #7fbfbf\">[03:56:07] </span><span style=\"color: #000080\">INFO</span>     Sending metric for task train, round number <span style=\"color: #000080; font-weight: bold\">6</span>: adv_ce   <span style=\"color: #000080; font-weight: bold\">1.3063762187957764</span>                                               <a href=\"file:///home/itrushkin/.virtualenvs/fledge/lib/python3.6/site-packages/fledge/component/collaborator/collaborator.py\"><span style=\"color: #7f7f7f\">collaborator.py</span></a><span style=\"color: #7f7f7f\">:318</span>\n",
       "</pre>\n"
      ],
      "text/plain": [
       "<rich.jupyter.JupyterRenderable at 0x7f7f412792b0>"
      ]
     },
     "metadata": {},
     "output_type": "display_data"
    },
    {
     "data": {
      "text/html": [
       "<pre style=\"white-space:pre;overflow-x:auto;line-height:normal;font-family:Menlo,'DejaVu Sans Mono',consolas,'Courier New',monospace\"><span style=\"color: #7fbfbf\">           </span><span style=\"color: #000080\">INFO</span>     Sending metric for task train, round number <span style=\"color: #000080; font-weight: bold\">6</span>: base_ce  <span style=\"color: #000080; font-weight: bold\">0.8834715485572815</span>                                               <a href=\"file:///home/itrushkin/.virtualenvs/fledge/lib/python3.6/site-packages/fledge/component/collaborator/collaborator.py\"><span style=\"color: #7f7f7f\">collaborator.py</span></a><span style=\"color: #7f7f7f\">:318</span>\n",
       "</pre>\n"
      ],
      "text/plain": [
       "<rich.jupyter.JupyterRenderable at 0x7f7f3f0201d0>"
      ]
     },
     "metadata": {},
     "output_type": "display_data"
    },
    {
     "data": {
      "text/html": [
       "<pre style=\"white-space:pre;overflow-x:auto;line-height:normal;font-family:Menlo,'DejaVu Sans Mono',consolas,'Courier New',monospace\"><span style=\"color: #7fbfbf\">           </span><span style=\"color: #000080\">INFO</span>     Collaborator one is sending task results for train, round <span style=\"color: #000080; font-weight: bold\">6</span>                                                                <a href=\"file:///home/itrushkin/.virtualenvs/fledge/lib/python3.6/site-packages/fledge/component/aggregator/aggregator.py\"><span style=\"color: #7f7f7f\">aggregator.py</span></a><span style=\"color: #7f7f7f\">:369</span>\n",
       "</pre>\n"
      ],
      "text/plain": [
       "<rich.jupyter.JupyterRenderable at 0x7f7f41279940>"
      ]
     },
     "metadata": {},
     "output_type": "display_data"
    },
    {
     "name": "stdout",
     "output_type": "stream",
     "text": [
      "FastEstimator-Test: step: 196; epoch: 2; clean_accuracy: 0.568; adversarial_accuracy: 0.3888; \n"
     ]
    },
    {
     "data": {
      "text/html": [
       "<pre style=\"white-space:pre;overflow-x:auto;line-height:normal;font-family:Menlo,'DejaVu Sans Mono',consolas,'Courier New',monospace\"><span style=\"color: #7fbfbf\">[03:56:08] </span><span style=\"color: #000080\">INFO</span>     Sending metric for task locally_tuned_model_validation, round number <span style=\"color: #000080; font-weight: bold\">6</span>: clean_accuracy  <span style=\"color: #000080; font-weight: bold\">0.568</span>                            <a href=\"file:///home/itrushkin/.virtualenvs/fledge/lib/python3.6/site-packages/fledge/component/collaborator/collaborator.py\"><span style=\"color: #7f7f7f\">collaborator.py</span></a><span style=\"color: #7f7f7f\">:318</span>\n",
       "</pre>\n"
      ],
      "text/plain": [
       "<rich.jupyter.JupyterRenderable at 0x7f7f3edb0c18>"
      ]
     },
     "metadata": {},
     "output_type": "display_data"
    },
    {
     "data": {
      "text/html": [
       "<pre style=\"white-space:pre;overflow-x:auto;line-height:normal;font-family:Menlo,'DejaVu Sans Mono',consolas,'Courier New',monospace\"><span style=\"color: #7fbfbf\">           </span><span style=\"color: #000080\">INFO</span>     Sending metric for task locally_tuned_model_validation, round number <span style=\"color: #000080; font-weight: bold\">6</span>: adversarial_accuracy    <span style=\"color: #000080; font-weight: bold\">0.3888</span>                   <a href=\"file:///home/itrushkin/.virtualenvs/fledge/lib/python3.6/site-packages/fledge/component/collaborator/collaborator.py\"><span style=\"color: #7f7f7f\">collaborator.py</span></a><span style=\"color: #7f7f7f\">:318</span>\n",
       "</pre>\n"
      ],
      "text/plain": [
       "<rich.jupyter.JupyterRenderable at 0x7f7f41279438>"
      ]
     },
     "metadata": {},
     "output_type": "display_data"
    },
    {
     "data": {
      "text/html": [
       "<pre style=\"white-space:pre;overflow-x:auto;line-height:normal;font-family:Menlo,'DejaVu Sans Mono',consolas,'Courier New',monospace\"><span style=\"color: #7fbfbf\">           </span><span style=\"color: #000080\">INFO</span>     Collaborator one is sending task results for locally_tuned_model_validation, round <span style=\"color: #000080; font-weight: bold\">6</span>                                       <a href=\"file:///home/itrushkin/.virtualenvs/fledge/lib/python3.6/site-packages/fledge/component/aggregator/aggregator.py\"><span style=\"color: #7f7f7f\">aggregator.py</span></a><span style=\"color: #7f7f7f\">:369</span>\n",
       "</pre>\n"
      ],
      "text/plain": [
       "<rich.jupyter.JupyterRenderable at 0x7f7f3f0144a8>"
      ]
     },
     "metadata": {},
     "output_type": "display_data"
    },
    {
     "data": {
      "text/html": [
       "<pre style=\"white-space:pre;overflow-x:auto;line-height:normal;font-family:Menlo,'DejaVu Sans Mono',consolas,'Courier New',monospace\"><span style=\"color: #7fbfbf\">           </span><span style=\"color: #000080\">INFO</span>     All tasks completed on one for round <span style=\"color: #000080; font-weight: bold\">6</span><span style=\"color: #808000\">...</span>                                                                                <a href=\"file:///home/itrushkin/.virtualenvs/fledge/lib/python3.6/site-packages/fledge/component/collaborator/collaborator.py\"><span style=\"color: #7f7f7f\">collaborator.py</span></a><span style=\"color: #7f7f7f\">:158</span>\n",
       "</pre>\n"
      ],
      "text/plain": [
       "<rich.jupyter.JupyterRenderable at 0x7f7f3f023b38>"
      ]
     },
     "metadata": {},
     "output_type": "display_data"
    },
    {
     "data": {
      "text/html": [
       "<pre style=\"white-space:pre;overflow-x:auto;line-height:normal;font-family:Menlo,'DejaVu Sans Mono',consolas,'Courier New',monospace\"><span style=\"color: #7fbfbf\">           </span><span style=\"color: #000080\">INFO</span>     Aggregator GetTasks function reached from collaborator two<span style=\"color: #808000\">...</span>                                                              <a href=\"file:///home/itrushkin/.virtualenvs/fledge/lib/python3.6/site-packages/fledge/component/aggregator/aggregator.py\"><span style=\"color: #7f7f7f\">aggregator.py</span></a><span style=\"color: #7f7f7f\">:215</span>\n",
       "</pre>\n"
      ],
      "text/plain": [
       "<rich.jupyter.JupyterRenderable at 0x7f7f3f023be0>"
      ]
     },
     "metadata": {},
     "output_type": "display_data"
    },
    {
     "data": {
      "text/html": [
       "<pre style=\"white-space:pre;overflow-x:auto;line-height:normal;font-family:Menlo,'DejaVu Sans Mono',consolas,'Courier New',monospace\"><span style=\"color: #7fbfbf\">           </span><span style=\"color: #000080\">INFO</span>     Sending tasks to collaborator two for round <span style=\"color: #000080; font-weight: bold\">6</span>                                                                              <a href=\"file:///home/itrushkin/.virtualenvs/fledge/lib/python3.6/site-packages/fledge/component/aggregator/aggregator.py\"><span style=\"color: #7f7f7f\">aggregator.py</span></a><span style=\"color: #7f7f7f\">:249</span>\n",
       "</pre>\n"
      ],
      "text/plain": [
       "<rich.jupyter.JupyterRenderable at 0x7f7f3f017cc0>"
      ]
     },
     "metadata": {},
     "output_type": "display_data"
    },
    {
     "data": {
      "text/html": [
       "<pre style=\"white-space:pre;overflow-x:auto;line-height:normal;font-family:Menlo,'DejaVu Sans Mono',consolas,'Courier New',monospace\"><span style=\"color: #7fbfbf\">           </span><span style=\"color: #000080\">INFO</span>     Received the following tasks: <span style=\"font-weight: bold\">[</span><span style=\"color: #008000\">'aggregated_model_validation'</span>, <span style=\"color: #008000\">'train'</span>, <span style=\"color: #008000\">'locally_tuned_model_validation'</span><span style=\"font-weight: bold\">]</span>                 <a href=\"file:///home/itrushkin/.virtualenvs/fledge/lib/python3.6/site-packages/fledge/component/collaborator/collaborator.py\"><span style=\"color: #7f7f7f\">collaborator.py</span></a><span style=\"color: #7f7f7f\">:155</span>\n",
       "</pre>\n"
      ],
      "text/plain": [
       "<rich.jupyter.JupyterRenderable at 0x7f7f3edb41d0>"
      ]
     },
     "metadata": {},
     "output_type": "display_data"
    },
    {
     "name": "stdout",
     "output_type": "stream",
     "text": [
      "FastEstimator-Test: step: 196; epoch: 2; clean_accuracy: 0.5872; adversarial_accuracy: 0.3976; \n"
     ]
    },
    {
     "data": {
      "text/html": [
       "<pre style=\"white-space:pre;overflow-x:auto;line-height:normal;font-family:Menlo,'DejaVu Sans Mono',consolas,'Courier New',monospace\"><span style=\"color: #7fbfbf\">[03:56:09] </span><span style=\"color: #000080\">INFO</span>     Sending metric for task aggregated_model_validation, round number <span style=\"color: #000080; font-weight: bold\">6</span>: clean_accuracy     <span style=\"color: #000080; font-weight: bold\">0.5872</span>                           <a href=\"file:///home/itrushkin/.virtualenvs/fledge/lib/python3.6/site-packages/fledge/component/collaborator/collaborator.py\"><span style=\"color: #7f7f7f\">collaborator.py</span></a><span style=\"color: #7f7f7f\">:318</span>\n",
       "</pre>\n"
      ],
      "text/plain": [
       "<rich.jupyter.JupyterRenderable at 0x7f7f3f016d30>"
      ]
     },
     "metadata": {},
     "output_type": "display_data"
    },
    {
     "data": {
      "text/html": [
       "<pre style=\"white-space:pre;overflow-x:auto;line-height:normal;font-family:Menlo,'DejaVu Sans Mono',consolas,'Courier New',monospace\"><span style=\"color: #7fbfbf\">           </span><span style=\"color: #000080\">INFO</span>     Sending metric for task aggregated_model_validation, round number <span style=\"color: #000080; font-weight: bold\">6</span>: adversarial_accuracy       <span style=\"color: #000080; font-weight: bold\">0.3976</span>                   <a href=\"file:///home/itrushkin/.virtualenvs/fledge/lib/python3.6/site-packages/fledge/component/collaborator/collaborator.py\"><span style=\"color: #7f7f7f\">collaborator.py</span></a><span style=\"color: #7f7f7f\">:318</span>\n",
       "</pre>\n"
      ],
      "text/plain": [
       "<rich.jupyter.JupyterRenderable at 0x7f7f3f016d30>"
      ]
     },
     "metadata": {},
     "output_type": "display_data"
    },
    {
     "data": {
      "text/html": [
       "<pre style=\"white-space:pre;overflow-x:auto;line-height:normal;font-family:Menlo,'DejaVu Sans Mono',consolas,'Courier New',monospace\"><span style=\"color: #7fbfbf\">           </span><span style=\"color: #000080\">INFO</span>     Collaborator two is sending task results for aggregated_model_validation, round <span style=\"color: #000080; font-weight: bold\">6</span>                                          <a href=\"file:///home/itrushkin/.virtualenvs/fledge/lib/python3.6/site-packages/fledge/component/aggregator/aggregator.py\"><span style=\"color: #7f7f7f\">aggregator.py</span></a><span style=\"color: #7f7f7f\">:369</span>\n",
       "</pre>\n"
      ],
      "text/plain": [
       "<rich.jupyter.JupyterRenderable at 0x7f7f410c1048>"
      ]
     },
     "metadata": {},
     "output_type": "display_data"
    },
    {
     "name": "stdout",
     "output_type": "stream",
     "text": [
      "    ______           __  ______     __  _                 __            \n",
      "   / ____/___ ______/ /_/ ____/____/ /_(_)___ ___  ____ _/ /_____  _____\n",
      "  / /_  / __ `/ ___/ __/ __/ / ___/ __/ / __ `__ \\/ __ `/ __/ __ \\/ ___/\n",
      " / __/ / /_/ (__  ) /_/ /___(__  ) /_/ / / / / / / /_/ / /_/ /_/ / /    \n",
      "/_/    \\__,_/____/\\__/_____/____/\\__/_/_/ /_/ /_/\\__,_/\\__/\\____/_/     \n",
      "                                                                        \n",
      "\n",
      "FastEstimator-Warn: No ModelSaver Trace detected. Models will not be saved.\n",
      "FastEstimator-Start: step: 1; num_device: 3; logging_interval: 1000; \n",
      "FastEstimator-Train: step: 1; adv_ce: 1.2395078; base_ce: 0.81676656; avg_ce: 1.0281372; \n",
      "FastEstimator-Train: step: 98; epoch: 1; epoch_time: 2.83 sec; \n",
      "FastEstimator-Eval: step: 98; epoch: 1; adv_ce: 1.7041836; base_ce: 1.157118; avg_ce: 1.4306508; clean_accuracy: 0.6016; adversarial_accuracy: 0.4024; \n",
      "FastEstimator-Train: step: 196; epoch: 2; epoch_time: 2.86 sec; \n",
      "FastEstimator-Eval: step: 196; epoch: 2; adv_ce: 1.709103; base_ce: 1.1304758; avg_ce: 1.4197893; clean_accuracy: 0.596; adversarial_accuracy: 0.3944; \n",
      "FastEstimator-Finish: step: 196; total_time: 9.7 sec; adv_model_lr: 0.001; \n"
     ]
    },
    {
     "data": {
      "text/html": [
       "<pre style=\"white-space:pre;overflow-x:auto;line-height:normal;font-family:Menlo,'DejaVu Sans Mono',consolas,'Courier New',monospace\"><span style=\"color: #7fbfbf\">[03:56:21] </span><span style=\"color: #000080\">INFO</span>     Sending metric for task train, round number <span style=\"color: #000080; font-weight: bold\">6</span>: adv_ce   <span style=\"color: #000080; font-weight: bold\">1.239507794380188</span>                                                <a href=\"file:///home/itrushkin/.virtualenvs/fledge/lib/python3.6/site-packages/fledge/component/collaborator/collaborator.py\"><span style=\"color: #7f7f7f\">collaborator.py</span></a><span style=\"color: #7f7f7f\">:318</span>\n",
       "</pre>\n"
      ],
      "text/plain": [
       "<rich.jupyter.JupyterRenderable at 0x7f7f3f018278>"
      ]
     },
     "metadata": {},
     "output_type": "display_data"
    },
    {
     "data": {
      "text/html": [
       "<pre style=\"white-space:pre;overflow-x:auto;line-height:normal;font-family:Menlo,'DejaVu Sans Mono',consolas,'Courier New',monospace\"><span style=\"color: #7fbfbf\">           </span><span style=\"color: #000080\">INFO</span>     Sending metric for task train, round number <span style=\"color: #000080; font-weight: bold\">6</span>: base_ce  <span style=\"color: #000080; font-weight: bold\">0.8167665600776672</span>                                               <a href=\"file:///home/itrushkin/.virtualenvs/fledge/lib/python3.6/site-packages/fledge/component/collaborator/collaborator.py\"><span style=\"color: #7f7f7f\">collaborator.py</span></a><span style=\"color: #7f7f7f\">:318</span>\n",
       "</pre>\n"
      ],
      "text/plain": [
       "<rich.jupyter.JupyterRenderable at 0x7f7f4107dc50>"
      ]
     },
     "metadata": {},
     "output_type": "display_data"
    },
    {
     "data": {
      "text/html": [
       "<pre style=\"white-space:pre;overflow-x:auto;line-height:normal;font-family:Menlo,'DejaVu Sans Mono',consolas,'Courier New',monospace\"><span style=\"color: #7fbfbf\">           </span><span style=\"color: #000080\">INFO</span>     Collaborator two is sending task results for train, round <span style=\"color: #000080; font-weight: bold\">6</span>                                                                <a href=\"file:///home/itrushkin/.virtualenvs/fledge/lib/python3.6/site-packages/fledge/component/aggregator/aggregator.py\"><span style=\"color: #7f7f7f\">aggregator.py</span></a><span style=\"color: #7f7f7f\">:369</span>\n",
       "</pre>\n"
      ],
      "text/plain": [
       "<rich.jupyter.JupyterRenderable at 0x7f7f3f012d68>"
      ]
     },
     "metadata": {},
     "output_type": "display_data"
    },
    {
     "name": "stdout",
     "output_type": "stream",
     "text": [
      "FastEstimator-Test: step: 196; epoch: 2; clean_accuracy: 0.5856; adversarial_accuracy: 0.3736; \n"
     ]
    },
    {
     "data": {
      "text/html": [
       "<pre style=\"white-space:pre;overflow-x:auto;line-height:normal;font-family:Menlo,'DejaVu Sans Mono',consolas,'Courier New',monospace\"><span style=\"color: #7fbfbf\">[03:56:22] </span><span style=\"color: #000080\">INFO</span>     Sending metric for task locally_tuned_model_validation, round number <span style=\"color: #000080; font-weight: bold\">6</span>: clean_accuracy  <span style=\"color: #000080; font-weight: bold\">0.5856</span>                           <a href=\"file:///home/itrushkin/.virtualenvs/fledge/lib/python3.6/site-packages/fledge/component/collaborator/collaborator.py\"><span style=\"color: #7f7f7f\">collaborator.py</span></a><span style=\"color: #7f7f7f\">:318</span>\n",
       "</pre>\n"
      ],
      "text/plain": [
       "<rich.jupyter.JupyterRenderable at 0x7f7f4107d748>"
      ]
     },
     "metadata": {},
     "output_type": "display_data"
    },
    {
     "data": {
      "text/html": [
       "<pre style=\"white-space:pre;overflow-x:auto;line-height:normal;font-family:Menlo,'DejaVu Sans Mono',consolas,'Courier New',monospace\"><span style=\"color: #7fbfbf\">           </span><span style=\"color: #000080\">INFO</span>     Sending metric for task locally_tuned_model_validation, round number <span style=\"color: #000080; font-weight: bold\">6</span>: adversarial_accuracy    <span style=\"color: #000080; font-weight: bold\">0.3736</span>                   <a href=\"file:///home/itrushkin/.virtualenvs/fledge/lib/python3.6/site-packages/fledge/component/collaborator/collaborator.py\"><span style=\"color: #7f7f7f\">collaborator.py</span></a><span style=\"color: #7f7f7f\">:318</span>\n",
       "</pre>\n"
      ],
      "text/plain": [
       "<rich.jupyter.JupyterRenderable at 0x7f7f3f0167b8>"
      ]
     },
     "metadata": {},
     "output_type": "display_data"
    },
    {
     "data": {
      "text/html": [
       "<pre style=\"white-space:pre;overflow-x:auto;line-height:normal;font-family:Menlo,'DejaVu Sans Mono',consolas,'Courier New',monospace\"><span style=\"color: #7fbfbf\">           </span><span style=\"color: #000080\">INFO</span>     Collaborator two is sending task results for locally_tuned_model_validation, round <span style=\"color: #000080; font-weight: bold\">6</span>                                       <a href=\"file:///home/itrushkin/.virtualenvs/fledge/lib/python3.6/site-packages/fledge/component/aggregator/aggregator.py\"><span style=\"color: #7f7f7f\">aggregator.py</span></a><span style=\"color: #7f7f7f\">:369</span>\n",
       "</pre>\n"
      ],
      "text/plain": [
       "<rich.jupyter.JupyterRenderable at 0x7f7f4107d748>"
      ]
     },
     "metadata": {},
     "output_type": "display_data"
    },
    {
     "data": {
      "text/html": [
       "<pre style=\"white-space:pre;overflow-x:auto;line-height:normal;font-family:Menlo,'DejaVu Sans Mono',consolas,'Courier New',monospace\"><span style=\"color: #7fbfbf\">           </span><span style=\"color: #000080\">INFO</span>     train task metrics<span style=\"color: #808000\">...</span>                                                                                                      <a href=\"file:///home/itrushkin/.virtualenvs/fledge/lib/python3.6/site-packages/fledge/component/aggregator/aggregator.py\"><span style=\"color: #7f7f7f\">aggregator.py</span></a><span style=\"color: #7f7f7f\">:505</span>\n",
       "</pre>\n"
      ],
      "text/plain": [
       "<rich.jupyter.JupyterRenderable at 0x7f7f3f01f4e0>"
      ]
     },
     "metadata": {},
     "output_type": "display_data"
    },
    {
     "data": {
      "text/html": [
       "<pre style=\"white-space:pre;overflow-x:auto;line-height:normal;font-family:Menlo,'DejaVu Sans Mono',consolas,'Courier New',monospace\"><span style=\"color: #7fbfbf\">           </span><span style=\"color: #000080\">INFO</span>     adv_ce: <span style=\"color: #000080; font-weight: bold\">1.2729</span>                                                                                                             <a href=\"file:///home/itrushkin/.virtualenvs/fledge/lib/python3.6/site-packages/fledge/component/aggregator/aggregator.py\"><span style=\"color: #7f7f7f\">aggregator.py</span></a><span style=\"color: #7f7f7f\">:539</span>\n",
       "</pre>\n"
      ],
      "text/plain": [
       "<rich.jupyter.JupyterRenderable at 0x7f7f3f01f550>"
      ]
     },
     "metadata": {},
     "output_type": "display_data"
    },
    {
     "data": {
      "text/html": [
       "<pre style=\"white-space:pre;overflow-x:auto;line-height:normal;font-family:Menlo,'DejaVu Sans Mono',consolas,'Courier New',monospace\"><span style=\"color: #7fbfbf\">           </span><span style=\"color: #000080\">INFO</span>     base_ce:        <span style=\"color: #000080; font-weight: bold\">0.8501</span>                                                                                                     <a href=\"file:///home/itrushkin/.virtualenvs/fledge/lib/python3.6/site-packages/fledge/component/aggregator/aggregator.py\"><span style=\"color: #7f7f7f\">aggregator.py</span></a><span style=\"color: #7f7f7f\">:539</span>\n",
       "</pre>\n"
      ],
      "text/plain": [
       "<rich.jupyter.JupyterRenderable at 0x7f7f410cd630>"
      ]
     },
     "metadata": {},
     "output_type": "display_data"
    },
    {
     "data": {
      "text/html": [
       "<pre style=\"white-space:pre;overflow-x:auto;line-height:normal;font-family:Menlo,'DejaVu Sans Mono',consolas,'Courier New',monospace\"><span style=\"color: #7fbfbf\">           </span><span style=\"color: #000080\">INFO</span>     locally_tuned_model_validation task metrics<span style=\"color: #808000\">...</span>                                                                             <a href=\"file:///home/itrushkin/.virtualenvs/fledge/lib/python3.6/site-packages/fledge/component/aggregator/aggregator.py\"><span style=\"color: #7f7f7f\">aggregator.py</span></a><span style=\"color: #7f7f7f\">:505</span>\n",
       "</pre>\n"
      ],
      "text/plain": [
       "<rich.jupyter.JupyterRenderable at 0x7f7f3f01fa20>"
      ]
     },
     "metadata": {},
     "output_type": "display_data"
    },
    {
     "data": {
      "text/html": [
       "<pre style=\"white-space:pre;overflow-x:auto;line-height:normal;font-family:Menlo,'DejaVu Sans Mono',consolas,'Courier New',monospace\"><span style=\"color: #7fbfbf\">           </span><span style=\"color: #000080\">INFO</span>     clean_accuracy: <span style=\"color: #000080; font-weight: bold\">0.5768</span>                                                                                                     <a href=\"file:///home/itrushkin/.virtualenvs/fledge/lib/python3.6/site-packages/fledge/component/aggregator/aggregator.py\"><span style=\"color: #7f7f7f\">aggregator.py</span></a><span style=\"color: #7f7f7f\">:539</span>\n",
       "</pre>\n"
      ],
      "text/plain": [
       "<rich.jupyter.JupyterRenderable at 0x7f7f410cd278>"
      ]
     },
     "metadata": {},
     "output_type": "display_data"
    },
    {
     "data": {
      "text/html": [
       "<pre style=\"white-space:pre;overflow-x:auto;line-height:normal;font-family:Menlo,'DejaVu Sans Mono',consolas,'Courier New',monospace\"><span style=\"color: #7fbfbf\">           </span><span style=\"color: #000080\">INFO</span>     adversarial_accuracy:   <span style=\"color: #000080; font-weight: bold\">0.3812</span>                                                                                             <a href=\"file:///home/itrushkin/.virtualenvs/fledge/lib/python3.6/site-packages/fledge/component/aggregator/aggregator.py\"><span style=\"color: #7f7f7f\">aggregator.py</span></a><span style=\"color: #7f7f7f\">:539</span>\n",
       "</pre>\n"
      ],
      "text/plain": [
       "<rich.jupyter.JupyterRenderable at 0x7f7f3f01f8d0>"
      ]
     },
     "metadata": {},
     "output_type": "display_data"
    },
    {
     "data": {
      "text/html": [
       "<pre style=\"white-space:pre;overflow-x:auto;line-height:normal;font-family:Menlo,'DejaVu Sans Mono',consolas,'Courier New',monospace\"><span style=\"color: #7fbfbf\">           </span><span style=\"color: #000080\">INFO</span>     aggregated_model_validation task metrics<span style=\"color: #808000\">...</span>                                                                                <a href=\"file:///home/itrushkin/.virtualenvs/fledge/lib/python3.6/site-packages/fledge/component/aggregator/aggregator.py\"><span style=\"color: #7f7f7f\">aggregator.py</span></a><span style=\"color: #7f7f7f\">:505</span>\n",
       "</pre>\n"
      ],
      "text/plain": [
       "<rich.jupyter.JupyterRenderable at 0x7f7f410cd908>"
      ]
     },
     "metadata": {},
     "output_type": "display_data"
    },
    {
     "data": {
      "text/html": [
       "<pre style=\"white-space:pre;overflow-x:auto;line-height:normal;font-family:Menlo,'DejaVu Sans Mono',consolas,'Courier New',monospace\"><span style=\"color: #7fbfbf\">[03:56:23] </span><span style=\"color: #000080\">INFO</span>     clean_accuracy: <span style=\"color: #000080; font-weight: bold\">0.5872</span>                                                                                                     <a href=\"file:///home/itrushkin/.virtualenvs/fledge/lib/python3.6/site-packages/fledge/component/aggregator/aggregator.py\"><span style=\"color: #7f7f7f\">aggregator.py</span></a><span style=\"color: #7f7f7f\">:539</span>\n",
       "</pre>\n"
      ],
      "text/plain": [
       "<rich.jupyter.JupyterRenderable at 0x7f7f3f01f8d0>"
      ]
     },
     "metadata": {},
     "output_type": "display_data"
    },
    {
     "data": {
      "text/html": [
       "<pre style=\"white-space:pre;overflow-x:auto;line-height:normal;font-family:Menlo,'DejaVu Sans Mono',consolas,'Courier New',monospace\"><span style=\"color: #7fbfbf\">           </span><span style=\"color: #000080\">INFO</span>     Saved the best model with score <span style=\"color: #000080; font-weight: bold\">0.587200</span>                                                                                   <a href=\"file:///home/itrushkin/.virtualenvs/fledge/lib/python3.6/site-packages/fledge/component/aggregator/aggregator.py\"><span style=\"color: #7f7f7f\">aggregator.py</span></a><span style=\"color: #7f7f7f\">:546</span>\n",
       "</pre>\n"
      ],
      "text/plain": [
       "<rich.jupyter.JupyterRenderable at 0x7f7f410cd630>"
      ]
     },
     "metadata": {},
     "output_type": "display_data"
    },
    {
     "data": {
      "text/html": [
       "<pre style=\"white-space:pre;overflow-x:auto;line-height:normal;font-family:Menlo,'DejaVu Sans Mono',consolas,'Courier New',monospace\"><span style=\"color: #7fbfbf\">           </span><span style=\"color: #000080\">INFO</span>     adversarial_accuracy:   <span style=\"color: #000080; font-weight: bold\">0.3976</span>                                                                                             <a href=\"file:///home/itrushkin/.virtualenvs/fledge/lib/python3.6/site-packages/fledge/component/aggregator/aggregator.py\"><span style=\"color: #7f7f7f\">aggregator.py</span></a><span style=\"color: #7f7f7f\">:539</span>\n",
       "</pre>\n"
      ],
      "text/plain": [
       "<rich.jupyter.JupyterRenderable at 0x7f7f3f01fa20>"
      ]
     },
     "metadata": {},
     "output_type": "display_data"
    },
    {
     "data": {
      "text/html": [
       "<pre style=\"white-space:pre;overflow-x:auto;line-height:normal;font-family:Menlo,'DejaVu Sans Mono',consolas,'Courier New',monospace\"><span style=\"color: #7fbfbf\">           </span><span style=\"color: #000080\">INFO</span>     Saving round <span style=\"color: #000080; font-weight: bold\">7</span> model<span style=\"color: #808000\">...</span>                                                                                                    <a href=\"file:///home/itrushkin/.virtualenvs/fledge/lib/python3.6/site-packages/fledge/component/aggregator/aggregator.py\"><span style=\"color: #7f7f7f\">aggregator.py</span></a><span style=\"color: #7f7f7f\">:602</span>\n",
       "</pre>\n"
      ],
      "text/plain": [
       "<rich.jupyter.JupyterRenderable at 0x7f7f410cd240>"
      ]
     },
     "metadata": {},
     "output_type": "display_data"
    },
    {
     "data": {
      "text/html": [
       "<pre style=\"white-space:pre;overflow-x:auto;line-height:normal;font-family:Menlo,'DejaVu Sans Mono',consolas,'Courier New',monospace\"><span style=\"color: #7fbfbf\">           </span><span style=\"color: #000080\">INFO</span>     Starting round <span style=\"color: #000080; font-weight: bold\">7</span><span style=\"color: #808000\">...</span>                                                                                                        <a href=\"file:///home/itrushkin/.virtualenvs/fledge/lib/python3.6/site-packages/fledge/component/aggregator/aggregator.py\"><span style=\"color: #7f7f7f\">aggregator.py</span></a><span style=\"color: #7f7f7f\">:610</span>\n",
       "</pre>\n"
      ],
      "text/plain": [
       "<rich.jupyter.JupyterRenderable at 0x7f7f410cda90>"
      ]
     },
     "metadata": {},
     "output_type": "display_data"
    },
    {
     "data": {
      "text/html": [
       "<pre style=\"white-space:pre;overflow-x:auto;line-height:normal;font-family:Menlo,'DejaVu Sans Mono',consolas,'Courier New',monospace\"><span style=\"color: #7fbfbf\">           </span><span style=\"color: #000080\">INFO</span>     All tasks completed on two for round <span style=\"color: #000080; font-weight: bold\">6</span><span style=\"color: #808000\">...</span>                                                                                <a href=\"file:///home/itrushkin/.virtualenvs/fledge/lib/python3.6/site-packages/fledge/component/collaborator/collaborator.py\"><span style=\"color: #7f7f7f\">collaborator.py</span></a><span style=\"color: #7f7f7f\">:158</span>\n",
       "</pre>\n"
      ],
      "text/plain": [
       "<rich.jupyter.JupyterRenderable at 0x7f7f410cdb38>"
      ]
     },
     "metadata": {},
     "output_type": "display_data"
    },
    {
     "data": {
      "text/html": [
       "<pre style=\"white-space:pre;overflow-x:auto;line-height:normal;font-family:Menlo,'DejaVu Sans Mono',consolas,'Courier New',monospace\"><span style=\"color: #7fbfbf\">           </span><span style=\"color: #000080\">INFO</span>     Aggregator GetTasks function reached from collaborator one<span style=\"color: #808000\">...</span>                                                              <a href=\"file:///home/itrushkin/.virtualenvs/fledge/lib/python3.6/site-packages/fledge/component/aggregator/aggregator.py\"><span style=\"color: #7f7f7f\">aggregator.py</span></a><span style=\"color: #7f7f7f\">:215</span>\n",
       "</pre>\n"
      ],
      "text/plain": [
       "<rich.jupyter.JupyterRenderable at 0x7f7f410cde10>"
      ]
     },
     "metadata": {},
     "output_type": "display_data"
    },
    {
     "data": {
      "text/html": [
       "<pre style=\"white-space:pre;overflow-x:auto;line-height:normal;font-family:Menlo,'DejaVu Sans Mono',consolas,'Courier New',monospace\"><span style=\"color: #7fbfbf\">           </span><span style=\"color: #000080\">INFO</span>     Sending tasks to collaborator one for round <span style=\"color: #000080; font-weight: bold\">7</span>                                                                              <a href=\"file:///home/itrushkin/.virtualenvs/fledge/lib/python3.6/site-packages/fledge/component/aggregator/aggregator.py\"><span style=\"color: #7f7f7f\">aggregator.py</span></a><span style=\"color: #7f7f7f\">:249</span>\n",
       "</pre>\n"
      ],
      "text/plain": [
       "<rich.jupyter.JupyterRenderable at 0x7f7f410cd160>"
      ]
     },
     "metadata": {},
     "output_type": "display_data"
    },
    {
     "data": {
      "text/html": [
       "<pre style=\"white-space:pre;overflow-x:auto;line-height:normal;font-family:Menlo,'DejaVu Sans Mono',consolas,'Courier New',monospace\"><span style=\"color: #7fbfbf\">           </span><span style=\"color: #000080\">INFO</span>     Received the following tasks: <span style=\"font-weight: bold\">[</span><span style=\"color: #008000\">'aggregated_model_validation'</span>, <span style=\"color: #008000\">'train'</span>, <span style=\"color: #008000\">'locally_tuned_model_validation'</span><span style=\"font-weight: bold\">]</span>                 <a href=\"file:///home/itrushkin/.virtualenvs/fledge/lib/python3.6/site-packages/fledge/component/collaborator/collaborator.py\"><span style=\"color: #7f7f7f\">collaborator.py</span></a><span style=\"color: #7f7f7f\">:155</span>\n",
       "</pre>\n"
      ],
      "text/plain": [
       "<rich.jupyter.JupyterRenderable at 0x7f7f410cd5c0>"
      ]
     },
     "metadata": {},
     "output_type": "display_data"
    },
    {
     "name": "stdout",
     "output_type": "stream",
     "text": [
      "FastEstimator-Test: step: 196; epoch: 2; clean_accuracy: 0.596; adversarial_accuracy: 0.3968; \n"
     ]
    },
    {
     "data": {
      "text/html": [
       "<pre style=\"white-space:pre;overflow-x:auto;line-height:normal;font-family:Menlo,'DejaVu Sans Mono',consolas,'Courier New',monospace\"><span style=\"color: #7fbfbf\">[03:56:24] </span><span style=\"color: #000080\">INFO</span>     Sending metric for task aggregated_model_validation, round number <span style=\"color: #000080; font-weight: bold\">7</span>: clean_accuracy     <span style=\"color: #000080; font-weight: bold\">0.596</span>                            <a href=\"file:///home/itrushkin/.virtualenvs/fledge/lib/python3.6/site-packages/fledge/component/collaborator/collaborator.py\"><span style=\"color: #7f7f7f\">collaborator.py</span></a><span style=\"color: #7f7f7f\">:318</span>\n",
       "</pre>\n"
      ],
      "text/plain": [
       "<rich.jupyter.JupyterRenderable at 0x7f7f3edae198>"
      ]
     },
     "metadata": {},
     "output_type": "display_data"
    },
    {
     "data": {
      "text/html": [
       "<pre style=\"white-space:pre;overflow-x:auto;line-height:normal;font-family:Menlo,'DejaVu Sans Mono',consolas,'Courier New',monospace\"><span style=\"color: #7fbfbf\">           </span><span style=\"color: #000080\">INFO</span>     Sending metric for task aggregated_model_validation, round number <span style=\"color: #000080; font-weight: bold\">7</span>: adversarial_accuracy       <span style=\"color: #000080; font-weight: bold\">0.3968</span>                   <a href=\"file:///home/itrushkin/.virtualenvs/fledge/lib/python3.6/site-packages/fledge/component/collaborator/collaborator.py\"><span style=\"color: #7f7f7f\">collaborator.py</span></a><span style=\"color: #7f7f7f\">:318</span>\n",
       "</pre>\n"
      ],
      "text/plain": [
       "<rich.jupyter.JupyterRenderable at 0x7f7f3edae470>"
      ]
     },
     "metadata": {},
     "output_type": "display_data"
    },
    {
     "data": {
      "text/html": [
       "<pre style=\"white-space:pre;overflow-x:auto;line-height:normal;font-family:Menlo,'DejaVu Sans Mono',consolas,'Courier New',monospace\"><span style=\"color: #7fbfbf\">           </span><span style=\"color: #000080\">INFO</span>     Collaborator one is sending task results for aggregated_model_validation, round <span style=\"color: #000080; font-weight: bold\">7</span>                                          <a href=\"file:///home/itrushkin/.virtualenvs/fledge/lib/python3.6/site-packages/fledge/component/aggregator/aggregator.py\"><span style=\"color: #7f7f7f\">aggregator.py</span></a><span style=\"color: #7f7f7f\">:369</span>\n",
       "</pre>\n"
      ],
      "text/plain": [
       "<rich.jupyter.JupyterRenderable at 0x7f7f41055f60>"
      ]
     },
     "metadata": {},
     "output_type": "display_data"
    },
    {
     "name": "stdout",
     "output_type": "stream",
     "text": [
      "    ______           __  ______     __  _                 __            \n",
      "   / ____/___ ______/ /_/ ____/____/ /_(_)___ ___  ____ _/ /_____  _____\n",
      "  / /_  / __ `/ ___/ __/ __/ / ___/ __/ / __ `__ \\/ __ `/ __/ __ \\/ ___/\n",
      " / __/ / /_/ (__  ) /_/ /___(__  ) /_/ / / / / / / /_/ / /_/ /_/ / /    \n",
      "/_/    \\__,_/____/\\__/_____/____/\\__/_/_/ /_/ /_/\\__,_/\\__/\\____/_/     \n",
      "                                                                        \n",
      "\n",
      "FastEstimator-Warn: No ModelSaver Trace detected. Models will not be saved.\n",
      "FastEstimator-Start: step: 1; num_device: 3; logging_interval: 1000; \n",
      "FastEstimator-Train: step: 1; adv_ce: 1.1312279; base_ce: 0.67081976; avg_ce: 0.9010238; \n",
      "FastEstimator-Train: step: 98; epoch: 1; epoch_time: 2.9 sec; \n",
      "FastEstimator-Eval: step: 98; epoch: 1; adv_ce: 1.7481959; base_ce: 1.1183405; avg_ce: 1.433268; clean_accuracy: 0.604; adversarial_accuracy: 0.3912; \n",
      "FastEstimator-Train: step: 196; epoch: 2; epoch_time: 2.85 sec; \n",
      "FastEstimator-Eval: step: 196; epoch: 2; adv_ce: 1.7503027; base_ce: 1.1205177; avg_ce: 1.4354103; clean_accuracy: 0.6008; adversarial_accuracy: 0.396; \n",
      "FastEstimator-Finish: step: 196; total_time: 9.78 sec; adv_model_lr: 0.001; \n"
     ]
    },
    {
     "data": {
      "text/html": [
       "<pre style=\"white-space:pre;overflow-x:auto;line-height:normal;font-family:Menlo,'DejaVu Sans Mono',consolas,'Courier New',monospace\"><span style=\"color: #7fbfbf\">[03:56:35] </span><span style=\"color: #000080\">INFO</span>     Sending metric for task train, round number <span style=\"color: #000080; font-weight: bold\">7</span>: adv_ce   <span style=\"color: #000080; font-weight: bold\">1.1312278509140015</span>                                               <a href=\"file:///home/itrushkin/.virtualenvs/fledge/lib/python3.6/site-packages/fledge/component/collaborator/collaborator.py\"><span style=\"color: #7f7f7f\">collaborator.py</span></a><span style=\"color: #7f7f7f\">:318</span>\n",
       "</pre>\n"
      ],
      "text/plain": [
       "<rich.jupyter.JupyterRenderable at 0x7f7f3f0167b8>"
      ]
     },
     "metadata": {},
     "output_type": "display_data"
    },
    {
     "data": {
      "text/html": [
       "<pre style=\"white-space:pre;overflow-x:auto;line-height:normal;font-family:Menlo,'DejaVu Sans Mono',consolas,'Courier New',monospace\"><span style=\"color: #7fbfbf\">           </span><span style=\"color: #000080\">INFO</span>     Sending metric for task train, round number <span style=\"color: #000080; font-weight: bold\">7</span>: base_ce  <span style=\"color: #000080; font-weight: bold\">0.6708197593688965</span>                                               <a href=\"file:///home/itrushkin/.virtualenvs/fledge/lib/python3.6/site-packages/fledge/component/collaborator/collaborator.py\"><span style=\"color: #7f7f7f\">collaborator.py</span></a><span style=\"color: #7f7f7f\">:318</span>\n",
       "</pre>\n"
      ],
      "text/plain": [
       "<rich.jupyter.JupyterRenderable at 0x7f7f3efeaf60>"
      ]
     },
     "metadata": {},
     "output_type": "display_data"
    },
    {
     "data": {
      "text/html": [
       "<pre style=\"white-space:pre;overflow-x:auto;line-height:normal;font-family:Menlo,'DejaVu Sans Mono',consolas,'Courier New',monospace\"><span style=\"color: #7fbfbf\">           </span><span style=\"color: #000080\">INFO</span>     Collaborator one is sending task results for train, round <span style=\"color: #000080; font-weight: bold\">7</span>                                                                <a href=\"file:///home/itrushkin/.virtualenvs/fledge/lib/python3.6/site-packages/fledge/component/aggregator/aggregator.py\"><span style=\"color: #7f7f7f\">aggregator.py</span></a><span style=\"color: #7f7f7f\">:369</span>\n",
       "</pre>\n"
      ],
      "text/plain": [
       "<rich.jupyter.JupyterRenderable at 0x7f7f3f0167b8>"
      ]
     },
     "metadata": {},
     "output_type": "display_data"
    },
    {
     "name": "stdout",
     "output_type": "stream",
     "text": [
      "FastEstimator-Test: step: 196; epoch: 2; clean_accuracy: 0.5992; adversarial_accuracy: 0.3832; \n"
     ]
    },
    {
     "data": {
      "text/html": [
       "<pre style=\"white-space:pre;overflow-x:auto;line-height:normal;font-family:Menlo,'DejaVu Sans Mono',consolas,'Courier New',monospace\"><span style=\"color: #7fbfbf\">[03:56:36] </span><span style=\"color: #000080\">INFO</span>     Sending metric for task locally_tuned_model_validation, round number <span style=\"color: #000080; font-weight: bold\">7</span>: clean_accuracy  <span style=\"color: #000080; font-weight: bold\">0.5992</span>                           <a href=\"file:///home/itrushkin/.virtualenvs/fledge/lib/python3.6/site-packages/fledge/component/collaborator/collaborator.py\"><span style=\"color: #7f7f7f\">collaborator.py</span></a><span style=\"color: #7f7f7f\">:318</span>\n",
       "</pre>\n"
      ],
      "text/plain": [
       "<rich.jupyter.JupyterRenderable at 0x7f7f3eda8358>"
      ]
     },
     "metadata": {},
     "output_type": "display_data"
    },
    {
     "data": {
      "text/html": [
       "<pre style=\"white-space:pre;overflow-x:auto;line-height:normal;font-family:Menlo,'DejaVu Sans Mono',consolas,'Courier New',monospace\"><span style=\"color: #7fbfbf\">           </span><span style=\"color: #000080\">INFO</span>     Sending metric for task locally_tuned_model_validation, round number <span style=\"color: #000080; font-weight: bold\">7</span>: adversarial_accuracy    <span style=\"color: #000080; font-weight: bold\">0.3832</span>                   <a href=\"file:///home/itrushkin/.virtualenvs/fledge/lib/python3.6/site-packages/fledge/component/collaborator/collaborator.py\"><span style=\"color: #7f7f7f\">collaborator.py</span></a><span style=\"color: #7f7f7f\">:318</span>\n",
       "</pre>\n"
      ],
      "text/plain": [
       "<rich.jupyter.JupyterRenderable at 0x7f7f3f020208>"
      ]
     },
     "metadata": {},
     "output_type": "display_data"
    },
    {
     "data": {
      "text/html": [
       "<pre style=\"white-space:pre;overflow-x:auto;line-height:normal;font-family:Menlo,'DejaVu Sans Mono',consolas,'Courier New',monospace\"><span style=\"color: #7fbfbf\">           </span><span style=\"color: #000080\">INFO</span>     Collaborator one is sending task results for locally_tuned_model_validation, round <span style=\"color: #000080; font-weight: bold\">7</span>                                       <a href=\"file:///home/itrushkin/.virtualenvs/fledge/lib/python3.6/site-packages/fledge/component/aggregator/aggregator.py\"><span style=\"color: #7f7f7f\">aggregator.py</span></a><span style=\"color: #7f7f7f\">:369</span>\n",
       "</pre>\n"
      ],
      "text/plain": [
       "<rich.jupyter.JupyterRenderable at 0x7f7f3eda8358>"
      ]
     },
     "metadata": {},
     "output_type": "display_data"
    },
    {
     "data": {
      "text/html": [
       "<pre style=\"white-space:pre;overflow-x:auto;line-height:normal;font-family:Menlo,'DejaVu Sans Mono',consolas,'Courier New',monospace\"><span style=\"color: #7fbfbf\">           </span><span style=\"color: #000080\">INFO</span>     All tasks completed on one for round <span style=\"color: #000080; font-weight: bold\">7</span><span style=\"color: #808000\">...</span>                                                                                <a href=\"file:///home/itrushkin/.virtualenvs/fledge/lib/python3.6/site-packages/fledge/component/collaborator/collaborator.py\"><span style=\"color: #7f7f7f\">collaborator.py</span></a><span style=\"color: #7f7f7f\">:158</span>\n",
       "</pre>\n"
      ],
      "text/plain": [
       "<rich.jupyter.JupyterRenderable at 0x7f7f41128b38>"
      ]
     },
     "metadata": {},
     "output_type": "display_data"
    },
    {
     "data": {
      "text/html": [
       "<pre style=\"white-space:pre;overflow-x:auto;line-height:normal;font-family:Menlo,'DejaVu Sans Mono',consolas,'Courier New',monospace\"><span style=\"color: #7fbfbf\">           </span><span style=\"color: #000080\">INFO</span>     Aggregator GetTasks function reached from collaborator two<span style=\"color: #808000\">...</span>                                                              <a href=\"file:///home/itrushkin/.virtualenvs/fledge/lib/python3.6/site-packages/fledge/component/aggregator/aggregator.py\"><span style=\"color: #7f7f7f\">aggregator.py</span></a><span style=\"color: #7f7f7f\">:215</span>\n",
       "</pre>\n"
      ],
      "text/plain": [
       "<rich.jupyter.JupyterRenderable at 0x7f7f411280b8>"
      ]
     },
     "metadata": {},
     "output_type": "display_data"
    },
    {
     "data": {
      "text/html": [
       "<pre style=\"white-space:pre;overflow-x:auto;line-height:normal;font-family:Menlo,'DejaVu Sans Mono',consolas,'Courier New',monospace\"><span style=\"color: #7fbfbf\">           </span><span style=\"color: #000080\">INFO</span>     Sending tasks to collaborator two for round <span style=\"color: #000080; font-weight: bold\">7</span>                                                                              <a href=\"file:///home/itrushkin/.virtualenvs/fledge/lib/python3.6/site-packages/fledge/component/aggregator/aggregator.py\"><span style=\"color: #7f7f7f\">aggregator.py</span></a><span style=\"color: #7f7f7f\">:249</span>\n",
       "</pre>\n"
      ],
      "text/plain": [
       "<rich.jupyter.JupyterRenderable at 0x7f7f41128240>"
      ]
     },
     "metadata": {},
     "output_type": "display_data"
    },
    {
     "data": {
      "text/html": [
       "<pre style=\"white-space:pre;overflow-x:auto;line-height:normal;font-family:Menlo,'DejaVu Sans Mono',consolas,'Courier New',monospace\"><span style=\"color: #7fbfbf\">           </span><span style=\"color: #000080\">INFO</span>     Received the following tasks: <span style=\"font-weight: bold\">[</span><span style=\"color: #008000\">'aggregated_model_validation'</span>, <span style=\"color: #008000\">'train'</span>, <span style=\"color: #008000\">'locally_tuned_model_validation'</span><span style=\"font-weight: bold\">]</span>                 <a href=\"file:///home/itrushkin/.virtualenvs/fledge/lib/python3.6/site-packages/fledge/component/collaborator/collaborator.py\"><span style=\"color: #7f7f7f\">collaborator.py</span></a><span style=\"color: #7f7f7f\">:155</span>\n",
       "</pre>\n"
      ],
      "text/plain": [
       "<rich.jupyter.JupyterRenderable at 0x7f7f3f020208>"
      ]
     },
     "metadata": {},
     "output_type": "display_data"
    },
    {
     "name": "stdout",
     "output_type": "stream",
     "text": [
      "FastEstimator-Test: step: 196; epoch: 2; clean_accuracy: 0.596; adversarial_accuracy: 0.3968; \n"
     ]
    },
    {
     "data": {
      "text/html": [
       "<pre style=\"white-space:pre;overflow-x:auto;line-height:normal;font-family:Menlo,'DejaVu Sans Mono',consolas,'Courier New',monospace\"><span style=\"color: #7fbfbf\">[03:56:38] </span><span style=\"color: #000080\">INFO</span>     Sending metric for task aggregated_model_validation, round number <span style=\"color: #000080; font-weight: bold\">7</span>: clean_accuracy     <span style=\"color: #000080; font-weight: bold\">0.596</span>                            <a href=\"file:///home/itrushkin/.virtualenvs/fledge/lib/python3.6/site-packages/fledge/component/collaborator/collaborator.py\"><span style=\"color: #7f7f7f\">collaborator.py</span></a><span style=\"color: #7f7f7f\">:318</span>\n",
       "</pre>\n"
      ],
      "text/plain": [
       "<rich.jupyter.JupyterRenderable at 0x7f7db58a5978>"
      ]
     },
     "metadata": {},
     "output_type": "display_data"
    },
    {
     "data": {
      "text/html": [
       "<pre style=\"white-space:pre;overflow-x:auto;line-height:normal;font-family:Menlo,'DejaVu Sans Mono',consolas,'Courier New',monospace\"><span style=\"color: #7fbfbf\">           </span><span style=\"color: #000080\">INFO</span>     Sending metric for task aggregated_model_validation, round number <span style=\"color: #000080; font-weight: bold\">7</span>: adversarial_accuracy       <span style=\"color: #000080; font-weight: bold\">0.3968</span>                   <a href=\"file:///home/itrushkin/.virtualenvs/fledge/lib/python3.6/site-packages/fledge/component/collaborator/collaborator.py\"><span style=\"color: #7f7f7f\">collaborator.py</span></a><span style=\"color: #7f7f7f\">:318</span>\n",
       "</pre>\n"
      ],
      "text/plain": [
       "<rich.jupyter.JupyterRenderable at 0x7f7db58a5748>"
      ]
     },
     "metadata": {},
     "output_type": "display_data"
    },
    {
     "data": {
      "text/html": [
       "<pre style=\"white-space:pre;overflow-x:auto;line-height:normal;font-family:Menlo,'DejaVu Sans Mono',consolas,'Courier New',monospace\"><span style=\"color: #7fbfbf\">           </span><span style=\"color: #000080\">INFO</span>     Collaborator two is sending task results for aggregated_model_validation, round <span style=\"color: #000080; font-weight: bold\">7</span>                                          <a href=\"file:///home/itrushkin/.virtualenvs/fledge/lib/python3.6/site-packages/fledge/component/aggregator/aggregator.py\"><span style=\"color: #7f7f7f\">aggregator.py</span></a><span style=\"color: #7f7f7f\">:369</span>\n",
       "</pre>\n"
      ],
      "text/plain": [
       "<rich.jupyter.JupyterRenderable at 0x7f7db58a5eb8>"
      ]
     },
     "metadata": {},
     "output_type": "display_data"
    },
    {
     "name": "stdout",
     "output_type": "stream",
     "text": [
      "    ______           __  ______     __  _                 __            \n",
      "   / ____/___ ______/ /_/ ____/____/ /_(_)___ ___  ____ _/ /_____  _____\n",
      "  / /_  / __ `/ ___/ __/ __/ / ___/ __/ / __ `__ \\/ __ `/ __/ __ \\/ ___/\n",
      " / __/ / /_/ (__  ) /_/ /___(__  ) /_/ / / / / / / /_/ / /_/ /_/ / /    \n",
      "/_/    \\__,_/____/\\__/_____/____/\\__/_/_/ /_/ /_/\\__,_/\\__/\\____/_/     \n",
      "                                                                        \n",
      "\n",
      "FastEstimator-Warn: No ModelSaver Trace detected. Models will not be saved.\n",
      "FastEstimator-Start: step: 1; num_device: 3; logging_interval: 1000; \n",
      "FastEstimator-Train: step: 1; adv_ce: 1.2215917; base_ce: 0.76071024; avg_ce: 0.991151; \n",
      "FastEstimator-Train: step: 98; epoch: 1; epoch_time: 2.85 sec; \n",
      "FastEstimator-Eval: step: 98; epoch: 1; adv_ce: 1.7521042; base_ce: 1.1287564; avg_ce: 1.4404303; clean_accuracy: 0.5952; adversarial_accuracy: 0.3768; \n",
      "FastEstimator-Train: step: 196; epoch: 2; epoch_time: 2.88 sec; \n",
      "FastEstimator-Eval: step: 196; epoch: 2; adv_ce: 1.7454319; base_ce: 1.1181606; avg_ce: 1.4317963; clean_accuracy: 0.6008; adversarial_accuracy: 0.3984; \n",
      "FastEstimator-Finish: step: 196; total_time: 9.7 sec; adv_model_lr: 0.001; \n"
     ]
    },
    {
     "data": {
      "text/html": [
       "<pre style=\"white-space:pre;overflow-x:auto;line-height:normal;font-family:Menlo,'DejaVu Sans Mono',consolas,'Courier New',monospace\"><span style=\"color: #7fbfbf\">[03:56:49] </span><span style=\"color: #000080\">INFO</span>     Sending metric for task train, round number <span style=\"color: #000080; font-weight: bold\">7</span>: adv_ce   <span style=\"color: #000080; font-weight: bold\">1.2215917110443115</span>                                               <a href=\"file:///home/itrushkin/.virtualenvs/fledge/lib/python3.6/site-packages/fledge/component/collaborator/collaborator.py\"><span style=\"color: #7f7f7f\">collaborator.py</span></a><span style=\"color: #7f7f7f\">:318</span>\n",
       "</pre>\n"
      ],
      "text/plain": [
       "<rich.jupyter.JupyterRenderable at 0x7f7f41055f28>"
      ]
     },
     "metadata": {},
     "output_type": "display_data"
    },
    {
     "data": {
      "text/html": [
       "<pre style=\"white-space:pre;overflow-x:auto;line-height:normal;font-family:Menlo,'DejaVu Sans Mono',consolas,'Courier New',monospace\"><span style=\"color: #7fbfbf\">           </span><span style=\"color: #000080\">INFO</span>     Sending metric for task train, round number <span style=\"color: #000080; font-weight: bold\">7</span>: base_ce  <span style=\"color: #000080; font-weight: bold\">0.7607102394104004</span>                                               <a href=\"file:///home/itrushkin/.virtualenvs/fledge/lib/python3.6/site-packages/fledge/component/collaborator/collaborator.py\"><span style=\"color: #7f7f7f\">collaborator.py</span></a><span style=\"color: #7f7f7f\">:318</span>\n",
       "</pre>\n"
      ],
      "text/plain": [
       "<rich.jupyter.JupyterRenderable at 0x7f7f41055f28>"
      ]
     },
     "metadata": {},
     "output_type": "display_data"
    },
    {
     "data": {
      "text/html": [
       "<pre style=\"white-space:pre;overflow-x:auto;line-height:normal;font-family:Menlo,'DejaVu Sans Mono',consolas,'Courier New',monospace\"><span style=\"color: #7fbfbf\">           </span><span style=\"color: #000080\">INFO</span>     Collaborator two is sending task results for train, round <span style=\"color: #000080; font-weight: bold\">7</span>                                                                <a href=\"file:///home/itrushkin/.virtualenvs/fledge/lib/python3.6/site-packages/fledge/component/aggregator/aggregator.py\"><span style=\"color: #7f7f7f\">aggregator.py</span></a><span style=\"color: #7f7f7f\">:369</span>\n",
       "</pre>\n"
      ],
      "text/plain": [
       "<rich.jupyter.JupyterRenderable at 0x7f7db5c64470>"
      ]
     },
     "metadata": {},
     "output_type": "display_data"
    },
    {
     "name": "stdout",
     "output_type": "stream",
     "text": [
      "FastEstimator-Test: step: 196; epoch: 2; clean_accuracy: 0.5904; adversarial_accuracy: 0.3936; \n"
     ]
    },
    {
     "data": {
      "text/html": [
       "<pre style=\"white-space:pre;overflow-x:auto;line-height:normal;font-family:Menlo,'DejaVu Sans Mono',consolas,'Courier New',monospace\"><span style=\"color: #7fbfbf\">[03:56:50] </span><span style=\"color: #000080\">INFO</span>     Sending metric for task locally_tuned_model_validation, round number <span style=\"color: #000080; font-weight: bold\">7</span>: clean_accuracy  <span style=\"color: #000080; font-weight: bold\">0.5904</span>                           <a href=\"file:///home/itrushkin/.virtualenvs/fledge/lib/python3.6/site-packages/fledge/component/collaborator/collaborator.py\"><span style=\"color: #7f7f7f\">collaborator.py</span></a><span style=\"color: #7f7f7f\">:318</span>\n",
       "</pre>\n"
      ],
      "text/plain": [
       "<rich.jupyter.JupyterRenderable at 0x7f7f3edb94a8>"
      ]
     },
     "metadata": {},
     "output_type": "display_data"
    },
    {
     "data": {
      "text/html": [
       "<pre style=\"white-space:pre;overflow-x:auto;line-height:normal;font-family:Menlo,'DejaVu Sans Mono',consolas,'Courier New',monospace\"><span style=\"color: #7fbfbf\">           </span><span style=\"color: #000080\">INFO</span>     Sending metric for task locally_tuned_model_validation, round number <span style=\"color: #000080; font-weight: bold\">7</span>: adversarial_accuracy    <span style=\"color: #000080; font-weight: bold\">0.3936</span>                   <a href=\"file:///home/itrushkin/.virtualenvs/fledge/lib/python3.6/site-packages/fledge/component/collaborator/collaborator.py\"><span style=\"color: #7f7f7f\">collaborator.py</span></a><span style=\"color: #7f7f7f\">:318</span>\n",
       "</pre>\n"
      ],
      "text/plain": [
       "<rich.jupyter.JupyterRenderable at 0x7f7f410cd5f8>"
      ]
     },
     "metadata": {},
     "output_type": "display_data"
    },
    {
     "data": {
      "text/html": [
       "<pre style=\"white-space:pre;overflow-x:auto;line-height:normal;font-family:Menlo,'DejaVu Sans Mono',consolas,'Courier New',monospace\"><span style=\"color: #7fbfbf\">           </span><span style=\"color: #000080\">INFO</span>     Collaborator two is sending task results for locally_tuned_model_validation, round <span style=\"color: #000080; font-weight: bold\">7</span>                                       <a href=\"file:///home/itrushkin/.virtualenvs/fledge/lib/python3.6/site-packages/fledge/component/aggregator/aggregator.py\"><span style=\"color: #7f7f7f\">aggregator.py</span></a><span style=\"color: #7f7f7f\">:369</span>\n",
       "</pre>\n"
      ],
      "text/plain": [
       "<rich.jupyter.JupyterRenderable at 0x7f7f410cd5c0>"
      ]
     },
     "metadata": {},
     "output_type": "display_data"
    },
    {
     "data": {
      "text/html": [
       "<pre style=\"white-space:pre;overflow-x:auto;line-height:normal;font-family:Menlo,'DejaVu Sans Mono',consolas,'Courier New',monospace\"><span style=\"color: #7fbfbf\">           </span><span style=\"color: #000080\">INFO</span>     train task metrics<span style=\"color: #808000\">...</span>                                                                                                      <a href=\"file:///home/itrushkin/.virtualenvs/fledge/lib/python3.6/site-packages/fledge/component/aggregator/aggregator.py\"><span style=\"color: #7f7f7f\">aggregator.py</span></a><span style=\"color: #7f7f7f\">:505</span>\n",
       "</pre>\n"
      ],
      "text/plain": [
       "<rich.jupyter.JupyterRenderable at 0x7f7f410cd278>"
      ]
     },
     "metadata": {},
     "output_type": "display_data"
    },
    {
     "data": {
      "text/html": [
       "<pre style=\"white-space:pre;overflow-x:auto;line-height:normal;font-family:Menlo,'DejaVu Sans Mono',consolas,'Courier New',monospace\"><span style=\"color: #7fbfbf\">           </span><span style=\"color: #000080\">INFO</span>     adv_ce: <span style=\"color: #000080; font-weight: bold\">1.1764</span>                                                                                                             <a href=\"file:///home/itrushkin/.virtualenvs/fledge/lib/python3.6/site-packages/fledge/component/aggregator/aggregator.py\"><span style=\"color: #7f7f7f\">aggregator.py</span></a><span style=\"color: #7f7f7f\">:539</span>\n",
       "</pre>\n"
      ],
      "text/plain": [
       "<rich.jupyter.JupyterRenderable at 0x7f7f410cd5f8>"
      ]
     },
     "metadata": {},
     "output_type": "display_data"
    },
    {
     "data": {
      "text/html": [
       "<pre style=\"white-space:pre;overflow-x:auto;line-height:normal;font-family:Menlo,'DejaVu Sans Mono',consolas,'Courier New',monospace\"><span style=\"color: #7fbfbf\">           </span><span style=\"color: #000080\">INFO</span>     base_ce:        <span style=\"color: #000080; font-weight: bold\">0.7158</span>                                                                                                     <a href=\"file:///home/itrushkin/.virtualenvs/fledge/lib/python3.6/site-packages/fledge/component/aggregator/aggregator.py\"><span style=\"color: #7f7f7f\">aggregator.py</span></a><span style=\"color: #7f7f7f\">:539</span>\n",
       "</pre>\n"
      ],
      "text/plain": [
       "<rich.jupyter.JupyterRenderable at 0x7f7f410cd860>"
      ]
     },
     "metadata": {},
     "output_type": "display_data"
    },
    {
     "data": {
      "text/html": [
       "<pre style=\"white-space:pre;overflow-x:auto;line-height:normal;font-family:Menlo,'DejaVu Sans Mono',consolas,'Courier New',monospace\"><span style=\"color: #7fbfbf\">[03:56:51] </span><span style=\"color: #000080\">INFO</span>     locally_tuned_model_validation task metrics<span style=\"color: #808000\">...</span>                                                                             <a href=\"file:///home/itrushkin/.virtualenvs/fledge/lib/python3.6/site-packages/fledge/component/aggregator/aggregator.py\"><span style=\"color: #7f7f7f\">aggregator.py</span></a><span style=\"color: #7f7f7f\">:505</span>\n",
       "</pre>\n"
      ],
      "text/plain": [
       "<rich.jupyter.JupyterRenderable at 0x7f7f410cda90>"
      ]
     },
     "metadata": {},
     "output_type": "display_data"
    },
    {
     "data": {
      "text/html": [
       "<pre style=\"white-space:pre;overflow-x:auto;line-height:normal;font-family:Menlo,'DejaVu Sans Mono',consolas,'Courier New',monospace\"><span style=\"color: #7fbfbf\">           </span><span style=\"color: #000080\">INFO</span>     clean_accuracy: <span style=\"color: #000080; font-weight: bold\">0.5948</span>                                                                                                     <a href=\"file:///home/itrushkin/.virtualenvs/fledge/lib/python3.6/site-packages/fledge/component/aggregator/aggregator.py\"><span style=\"color: #7f7f7f\">aggregator.py</span></a><span style=\"color: #7f7f7f\">:539</span>\n",
       "</pre>\n"
      ],
      "text/plain": [
       "<rich.jupyter.JupyterRenderable at 0x7f7f410cdba8>"
      ]
     },
     "metadata": {},
     "output_type": "display_data"
    },
    {
     "data": {
      "text/html": [
       "<pre style=\"white-space:pre;overflow-x:auto;line-height:normal;font-family:Menlo,'DejaVu Sans Mono',consolas,'Courier New',monospace\"><span style=\"color: #7fbfbf\">           </span><span style=\"color: #000080\">INFO</span>     adversarial_accuracy:   <span style=\"color: #000080; font-weight: bold\">0.3884</span>                                                                                             <a href=\"file:///home/itrushkin/.virtualenvs/fledge/lib/python3.6/site-packages/fledge/component/aggregator/aggregator.py\"><span style=\"color: #7f7f7f\">aggregator.py</span></a><span style=\"color: #7f7f7f\">:539</span>\n",
       "</pre>\n"
      ],
      "text/plain": [
       "<rich.jupyter.JupyterRenderable at 0x7f7f410cd550>"
      ]
     },
     "metadata": {},
     "output_type": "display_data"
    },
    {
     "data": {
      "text/html": [
       "<pre style=\"white-space:pre;overflow-x:auto;line-height:normal;font-family:Menlo,'DejaVu Sans Mono',consolas,'Courier New',monospace\"><span style=\"color: #7fbfbf\">           </span><span style=\"color: #000080\">INFO</span>     aggregated_model_validation task metrics<span style=\"color: #808000\">...</span>                                                                                <a href=\"file:///home/itrushkin/.virtualenvs/fledge/lib/python3.6/site-packages/fledge/component/aggregator/aggregator.py\"><span style=\"color: #7f7f7f\">aggregator.py</span></a><span style=\"color: #7f7f7f\">:505</span>\n",
       "</pre>\n"
      ],
      "text/plain": [
       "<rich.jupyter.JupyterRenderable at 0x7f7f410cdba8>"
      ]
     },
     "metadata": {},
     "output_type": "display_data"
    },
    {
     "data": {
      "text/html": [
       "<pre style=\"white-space:pre;overflow-x:auto;line-height:normal;font-family:Menlo,'DejaVu Sans Mono',consolas,'Courier New',monospace\"><span style=\"color: #7fbfbf\">           </span><span style=\"color: #000080\">INFO</span>     clean_accuracy: <span style=\"color: #000080; font-weight: bold\">0.5960</span>                                                                                                     <a href=\"file:///home/itrushkin/.virtualenvs/fledge/lib/python3.6/site-packages/fledge/component/aggregator/aggregator.py\"><span style=\"color: #7f7f7f\">aggregator.py</span></a><span style=\"color: #7f7f7f\">:539</span>\n",
       "</pre>\n"
      ],
      "text/plain": [
       "<rich.jupyter.JupyterRenderable at 0x7f7f410cd160>"
      ]
     },
     "metadata": {},
     "output_type": "display_data"
    },
    {
     "data": {
      "text/html": [
       "<pre style=\"white-space:pre;overflow-x:auto;line-height:normal;font-family:Menlo,'DejaVu Sans Mono',consolas,'Courier New',monospace\"><span style=\"color: #7fbfbf\">           </span><span style=\"color: #000080\">INFO</span>     Saved the best model with score <span style=\"color: #000080; font-weight: bold\">0.596000</span>                                                                                   <a href=\"file:///home/itrushkin/.virtualenvs/fledge/lib/python3.6/site-packages/fledge/component/aggregator/aggregator.py\"><span style=\"color: #7f7f7f\">aggregator.py</span></a><span style=\"color: #7f7f7f\">:546</span>\n",
       "</pre>\n"
      ],
      "text/plain": [
       "<rich.jupyter.JupyterRenderable at 0x7f7f410cd860>"
      ]
     },
     "metadata": {},
     "output_type": "display_data"
    },
    {
     "data": {
      "text/html": [
       "<pre style=\"white-space:pre;overflow-x:auto;line-height:normal;font-family:Menlo,'DejaVu Sans Mono',consolas,'Courier New',monospace\"><span style=\"color: #7fbfbf\">           </span><span style=\"color: #000080\">INFO</span>     adversarial_accuracy:   <span style=\"color: #000080; font-weight: bold\">0.3968</span>                                                                                             <a href=\"file:///home/itrushkin/.virtualenvs/fledge/lib/python3.6/site-packages/fledge/component/aggregator/aggregator.py\"><span style=\"color: #7f7f7f\">aggregator.py</span></a><span style=\"color: #7f7f7f\">:539</span>\n",
       "</pre>\n"
      ],
      "text/plain": [
       "<rich.jupyter.JupyterRenderable at 0x7f7f410cda90>"
      ]
     },
     "metadata": {},
     "output_type": "display_data"
    },
    {
     "data": {
      "text/html": [
       "<pre style=\"white-space:pre;overflow-x:auto;line-height:normal;font-family:Menlo,'DejaVu Sans Mono',consolas,'Courier New',monospace\"><span style=\"color: #7fbfbf\">           </span><span style=\"color: #000080\">INFO</span>     Saving round <span style=\"color: #000080; font-weight: bold\">8</span> model<span style=\"color: #808000\">...</span>                                                                                                    <a href=\"file:///home/itrushkin/.virtualenvs/fledge/lib/python3.6/site-packages/fledge/component/aggregator/aggregator.py\"><span style=\"color: #7f7f7f\">aggregator.py</span></a><span style=\"color: #7f7f7f\">:602</span>\n",
       "</pre>\n"
      ],
      "text/plain": [
       "<rich.jupyter.JupyterRenderable at 0x7f7f410cdbe0>"
      ]
     },
     "metadata": {},
     "output_type": "display_data"
    },
    {
     "data": {
      "text/html": [
       "<pre style=\"white-space:pre;overflow-x:auto;line-height:normal;font-family:Menlo,'DejaVu Sans Mono',consolas,'Courier New',monospace\"><span style=\"color: #7fbfbf\">           </span><span style=\"color: #000080\">INFO</span>     Starting round <span style=\"color: #000080; font-weight: bold\">8</span><span style=\"color: #808000\">...</span>                                                                                                        <a href=\"file:///home/itrushkin/.virtualenvs/fledge/lib/python3.6/site-packages/fledge/component/aggregator/aggregator.py\"><span style=\"color: #7f7f7f\">aggregator.py</span></a><span style=\"color: #7f7f7f\">:610</span>\n",
       "</pre>\n"
      ],
      "text/plain": [
       "<rich.jupyter.JupyterRenderable at 0x7f7f410cd550>"
      ]
     },
     "metadata": {},
     "output_type": "display_data"
    },
    {
     "data": {
      "text/html": [
       "<pre style=\"white-space:pre;overflow-x:auto;line-height:normal;font-family:Menlo,'DejaVu Sans Mono',consolas,'Courier New',monospace\"><span style=\"color: #7fbfbf\">           </span><span style=\"color: #000080\">INFO</span>     All tasks completed on two for round <span style=\"color: #000080; font-weight: bold\">7</span><span style=\"color: #808000\">...</span>                                                                                <a href=\"file:///home/itrushkin/.virtualenvs/fledge/lib/python3.6/site-packages/fledge/component/collaborator/collaborator.py\"><span style=\"color: #7f7f7f\">collaborator.py</span></a><span style=\"color: #7f7f7f\">:158</span>\n",
       "</pre>\n"
      ],
      "text/plain": [
       "<rich.jupyter.JupyterRenderable at 0x7f7f410cd898>"
      ]
     },
     "metadata": {},
     "output_type": "display_data"
    },
    {
     "data": {
      "text/html": [
       "<pre style=\"white-space:pre;overflow-x:auto;line-height:normal;font-family:Menlo,'DejaVu Sans Mono',consolas,'Courier New',monospace\"><span style=\"color: #7fbfbf\">           </span><span style=\"color: #000080\">INFO</span>     Aggregator GetTasks function reached from collaborator one<span style=\"color: #808000\">...</span>                                                              <a href=\"file:///home/itrushkin/.virtualenvs/fledge/lib/python3.6/site-packages/fledge/component/aggregator/aggregator.py\"><span style=\"color: #7f7f7f\">aggregator.py</span></a><span style=\"color: #7f7f7f\">:215</span>\n",
       "</pre>\n"
      ],
      "text/plain": [
       "<rich.jupyter.JupyterRenderable at 0x7f7f410cd278>"
      ]
     },
     "metadata": {},
     "output_type": "display_data"
    },
    {
     "data": {
      "text/html": [
       "<pre style=\"white-space:pre;overflow-x:auto;line-height:normal;font-family:Menlo,'DejaVu Sans Mono',consolas,'Courier New',monospace\"><span style=\"color: #7fbfbf\">           </span><span style=\"color: #000080\">INFO</span>     Sending tasks to collaborator one for round <span style=\"color: #000080; font-weight: bold\">8</span>                                                                              <a href=\"file:///home/itrushkin/.virtualenvs/fledge/lib/python3.6/site-packages/fledge/component/aggregator/aggregator.py\"><span style=\"color: #7f7f7f\">aggregator.py</span></a><span style=\"color: #7f7f7f\">:249</span>\n",
       "</pre>\n"
      ],
      "text/plain": [
       "<rich.jupyter.JupyterRenderable at 0x7f7f410cd5c0>"
      ]
     },
     "metadata": {},
     "output_type": "display_data"
    },
    {
     "data": {
      "text/html": [
       "<pre style=\"white-space:pre;overflow-x:auto;line-height:normal;font-family:Menlo,'DejaVu Sans Mono',consolas,'Courier New',monospace\"><span style=\"color: #7fbfbf\">           </span><span style=\"color: #000080\">INFO</span>     Received the following tasks: <span style=\"font-weight: bold\">[</span><span style=\"color: #008000\">'aggregated_model_validation'</span>, <span style=\"color: #008000\">'train'</span>, <span style=\"color: #008000\">'locally_tuned_model_validation'</span><span style=\"font-weight: bold\">]</span>                 <a href=\"file:///home/itrushkin/.virtualenvs/fledge/lib/python3.6/site-packages/fledge/component/collaborator/collaborator.py\"><span style=\"color: #7f7f7f\">collaborator.py</span></a><span style=\"color: #7f7f7f\">:155</span>\n",
       "</pre>\n"
      ],
      "text/plain": [
       "<rich.jupyter.JupyterRenderable at 0x7f7f410cdbe0>"
      ]
     },
     "metadata": {},
     "output_type": "display_data"
    },
    {
     "name": "stdout",
     "output_type": "stream",
     "text": [
      "FastEstimator-Test: step: 196; epoch: 2; clean_accuracy: 0.6; adversarial_accuracy: 0.3904; \n"
     ]
    },
    {
     "data": {
      "text/html": [
       "<pre style=\"white-space:pre;overflow-x:auto;line-height:normal;font-family:Menlo,'DejaVu Sans Mono',consolas,'Courier New',monospace\"><span style=\"color: #7fbfbf\">[03:56:52] </span><span style=\"color: #000080\">INFO</span>     Sending metric for task aggregated_model_validation, round number <span style=\"color: #000080; font-weight: bold\">8</span>: clean_accuracy     <span style=\"color: #000080; font-weight: bold\">0.6</span>                              <a href=\"file:///home/itrushkin/.virtualenvs/fledge/lib/python3.6/site-packages/fledge/component/collaborator/collaborator.py\"><span style=\"color: #7f7f7f\">collaborator.py</span></a><span style=\"color: #7f7f7f\">:318</span>\n",
       "</pre>\n"
      ],
      "text/plain": [
       "<rich.jupyter.JupyterRenderable at 0x7f7f3edad588>"
      ]
     },
     "metadata": {},
     "output_type": "display_data"
    },
    {
     "data": {
      "text/html": [
       "<pre style=\"white-space:pre;overflow-x:auto;line-height:normal;font-family:Menlo,'DejaVu Sans Mono',consolas,'Courier New',monospace\"><span style=\"color: #7fbfbf\">           </span><span style=\"color: #000080\">INFO</span>     Sending metric for task aggregated_model_validation, round number <span style=\"color: #000080; font-weight: bold\">8</span>: adversarial_accuracy       <span style=\"color: #000080; font-weight: bold\">0.3904</span>                   <a href=\"file:///home/itrushkin/.virtualenvs/fledge/lib/python3.6/site-packages/fledge/component/collaborator/collaborator.py\"><span style=\"color: #7f7f7f\">collaborator.py</span></a><span style=\"color: #7f7f7f\">:318</span>\n",
       "</pre>\n"
      ],
      "text/plain": [
       "<rich.jupyter.JupyterRenderable at 0x7f7f3edada58>"
      ]
     },
     "metadata": {},
     "output_type": "display_data"
    },
    {
     "data": {
      "text/html": [
       "<pre style=\"white-space:pre;overflow-x:auto;line-height:normal;font-family:Menlo,'DejaVu Sans Mono',consolas,'Courier New',monospace\"><span style=\"color: #7fbfbf\">           </span><span style=\"color: #000080\">INFO</span>     Collaborator one is sending task results for aggregated_model_validation, round <span style=\"color: #000080; font-weight: bold\">8</span>                                          <a href=\"file:///home/itrushkin/.virtualenvs/fledge/lib/python3.6/site-packages/fledge/component/aggregator/aggregator.py\"><span style=\"color: #7f7f7f\">aggregator.py</span></a><span style=\"color: #7f7f7f\">:369</span>\n",
       "</pre>\n"
      ],
      "text/plain": [
       "<rich.jupyter.JupyterRenderable at 0x7f7f3edad630>"
      ]
     },
     "metadata": {},
     "output_type": "display_data"
    },
    {
     "name": "stdout",
     "output_type": "stream",
     "text": [
      "    ______           __  ______     __  _                 __            \n",
      "   / ____/___ ______/ /_/ ____/____/ /_(_)___ ___  ____ _/ /_____  _____\n",
      "  / /_  / __ `/ ___/ __/ __/ / ___/ __/ / __ `__ \\/ __ `/ __/ __ \\/ ___/\n",
      " / __/ / /_/ (__  ) /_/ /___(__  ) /_/ / / / / / / /_/ / /_/ /_/ / /    \n",
      "/_/    \\__,_/____/\\__/_____/____/\\__/_/_/ /_/ /_/\\__,_/\\__/\\____/_/     \n",
      "                                                                        \n",
      "\n",
      "FastEstimator-Warn: No ModelSaver Trace detected. Models will not be saved.\n",
      "FastEstimator-Start: step: 1; num_device: 3; logging_interval: 1000; \n",
      "FastEstimator-Train: step: 1; adv_ce: 1.0343949; base_ce: 0.6151792; avg_ce: 0.824787; \n",
      "FastEstimator-Train: step: 98; epoch: 1; epoch_time: 2.87 sec; \n",
      "FastEstimator-Eval: step: 98; epoch: 1; adv_ce: 1.7931626; base_ce: 1.1339581; avg_ce: 1.4635602; clean_accuracy: 0.6; adversarial_accuracy: 0.384; \n",
      "FastEstimator-Train: step: 196; epoch: 2; epoch_time: 2.8 sec; \n",
      "FastEstimator-Eval: step: 196; epoch: 2; adv_ce: 1.8535246; base_ce: 1.1370054; avg_ce: 1.495265; clean_accuracy: 0.608; adversarial_accuracy: 0.3968; \n",
      "FastEstimator-Finish: step: 196; total_time: 9.61 sec; adv_model_lr: 0.001; \n"
     ]
    },
    {
     "data": {
      "text/html": [
       "<pre style=\"white-space:pre;overflow-x:auto;line-height:normal;font-family:Menlo,'DejaVu Sans Mono',consolas,'Courier New',monospace\"><span style=\"color: #7fbfbf\">[03:57:03] </span><span style=\"color: #000080\">INFO</span>     Sending metric for task train, round number <span style=\"color: #000080; font-weight: bold\">8</span>: adv_ce   <span style=\"color: #000080; font-weight: bold\">1.0343948602676392</span>                                               <a href=\"file:///home/itrushkin/.virtualenvs/fledge/lib/python3.6/site-packages/fledge/component/collaborator/collaborator.py\"><span style=\"color: #7f7f7f\">collaborator.py</span></a><span style=\"color: #7f7f7f\">:318</span>\n",
       "</pre>\n"
      ],
      "text/plain": [
       "<rich.jupyter.JupyterRenderable at 0x7f7db47476d8>"
      ]
     },
     "metadata": {},
     "output_type": "display_data"
    },
    {
     "data": {
      "text/html": [
       "<pre style=\"white-space:pre;overflow-x:auto;line-height:normal;font-family:Menlo,'DejaVu Sans Mono',consolas,'Courier New',monospace\"><span style=\"color: #7fbfbf\">           </span><span style=\"color: #000080\">INFO</span>     Sending metric for task train, round number <span style=\"color: #000080; font-weight: bold\">8</span>: base_ce  <span style=\"color: #000080; font-weight: bold\">0.615179181098938</span>                                                <a href=\"file:///home/itrushkin/.virtualenvs/fledge/lib/python3.6/site-packages/fledge/component/collaborator/collaborator.py\"><span style=\"color: #7f7f7f\">collaborator.py</span></a><span style=\"color: #7f7f7f\">:318</span>\n",
       "</pre>\n"
      ],
      "text/plain": [
       "<rich.jupyter.JupyterRenderable at 0x7f7db47476d8>"
      ]
     },
     "metadata": {},
     "output_type": "display_data"
    },
    {
     "data": {
      "text/html": [
       "<pre style=\"white-space:pre;overflow-x:auto;line-height:normal;font-family:Menlo,'DejaVu Sans Mono',consolas,'Courier New',monospace\"><span style=\"color: #7fbfbf\">           </span><span style=\"color: #000080\">INFO</span>     Collaborator one is sending task results for train, round <span style=\"color: #000080; font-weight: bold\">8</span>                                                                <a href=\"file:///home/itrushkin/.virtualenvs/fledge/lib/python3.6/site-packages/fledge/component/aggregator/aggregator.py\"><span style=\"color: #7f7f7f\">aggregator.py</span></a><span style=\"color: #7f7f7f\">:369</span>\n",
       "</pre>\n"
      ],
      "text/plain": [
       "<rich.jupyter.JupyterRenderable at 0x7f7f3edaea58>"
      ]
     },
     "metadata": {},
     "output_type": "display_data"
    },
    {
     "name": "stdout",
     "output_type": "stream",
     "text": [
      "FastEstimator-Test: step: 196; epoch: 2; clean_accuracy: 0.6064; adversarial_accuracy: 0.3824; \n"
     ]
    },
    {
     "data": {
      "text/html": [
       "<pre style=\"white-space:pre;overflow-x:auto;line-height:normal;font-family:Menlo,'DejaVu Sans Mono',consolas,'Courier New',monospace\"><span style=\"color: #7fbfbf\">[03:57:05] </span><span style=\"color: #000080\">INFO</span>     Sending metric for task locally_tuned_model_validation, round number <span style=\"color: #000080; font-weight: bold\">8</span>: clean_accuracy  <span style=\"color: #000080; font-weight: bold\">0.6064</span>                           <a href=\"file:///home/itrushkin/.virtualenvs/fledge/lib/python3.6/site-packages/fledge/component/collaborator/collaborator.py\"><span style=\"color: #7f7f7f\">collaborator.py</span></a><span style=\"color: #7f7f7f\">:318</span>\n",
       "</pre>\n"
      ],
      "text/plain": [
       "<rich.jupyter.JupyterRenderable at 0x7f7f3edae5f8>"
      ]
     },
     "metadata": {},
     "output_type": "display_data"
    },
    {
     "data": {
      "text/html": [
       "<pre style=\"white-space:pre;overflow-x:auto;line-height:normal;font-family:Menlo,'DejaVu Sans Mono',consolas,'Courier New',monospace\"><span style=\"color: #7fbfbf\">           </span><span style=\"color: #000080\">INFO</span>     Sending metric for task locally_tuned_model_validation, round number <span style=\"color: #000080; font-weight: bold\">8</span>: adversarial_accuracy    <span style=\"color: #000080; font-weight: bold\">0.3824</span>                   <a href=\"file:///home/itrushkin/.virtualenvs/fledge/lib/python3.6/site-packages/fledge/component/collaborator/collaborator.py\"><span style=\"color: #7f7f7f\">collaborator.py</span></a><span style=\"color: #7f7f7f\">:318</span>\n",
       "</pre>\n"
      ],
      "text/plain": [
       "<rich.jupyter.JupyterRenderable at 0x7f7f3edae5f8>"
      ]
     },
     "metadata": {},
     "output_type": "display_data"
    },
    {
     "data": {
      "text/html": [
       "<pre style=\"white-space:pre;overflow-x:auto;line-height:normal;font-family:Menlo,'DejaVu Sans Mono',consolas,'Courier New',monospace\"><span style=\"color: #7fbfbf\">           </span><span style=\"color: #000080\">INFO</span>     Collaborator one is sending task results for locally_tuned_model_validation, round <span style=\"color: #000080; font-weight: bold\">8</span>                                       <a href=\"file:///home/itrushkin/.virtualenvs/fledge/lib/python3.6/site-packages/fledge/component/aggregator/aggregator.py\"><span style=\"color: #7f7f7f\">aggregator.py</span></a><span style=\"color: #7f7f7f\">:369</span>\n",
       "</pre>\n"
      ],
      "text/plain": [
       "<rich.jupyter.JupyterRenderable at 0x7f7f3edae5f8>"
      ]
     },
     "metadata": {},
     "output_type": "display_data"
    },
    {
     "data": {
      "text/html": [
       "<pre style=\"white-space:pre;overflow-x:auto;line-height:normal;font-family:Menlo,'DejaVu Sans Mono',consolas,'Courier New',monospace\"><span style=\"color: #7fbfbf\">           </span><span style=\"color: #000080\">INFO</span>     All tasks completed on one for round <span style=\"color: #000080; font-weight: bold\">8</span><span style=\"color: #808000\">...</span>                                                                                <a href=\"file:///home/itrushkin/.virtualenvs/fledge/lib/python3.6/site-packages/fledge/component/collaborator/collaborator.py\"><span style=\"color: #7f7f7f\">collaborator.py</span></a><span style=\"color: #7f7f7f\">:158</span>\n",
       "</pre>\n"
      ],
      "text/plain": [
       "<rich.jupyter.JupyterRenderable at 0x7f7f3edaedd8>"
      ]
     },
     "metadata": {},
     "output_type": "display_data"
    },
    {
     "data": {
      "text/html": [
       "<pre style=\"white-space:pre;overflow-x:auto;line-height:normal;font-family:Menlo,'DejaVu Sans Mono',consolas,'Courier New',monospace\"><span style=\"color: #7fbfbf\">           </span><span style=\"color: #000080\">INFO</span>     Aggregator GetTasks function reached from collaborator two<span style=\"color: #808000\">...</span>                                                              <a href=\"file:///home/itrushkin/.virtualenvs/fledge/lib/python3.6/site-packages/fledge/component/aggregator/aggregator.py\"><span style=\"color: #7f7f7f\">aggregator.py</span></a><span style=\"color: #7f7f7f\">:215</span>\n",
       "</pre>\n"
      ],
      "text/plain": [
       "<rich.jupyter.JupyterRenderable at 0x7f7f3edad208>"
      ]
     },
     "metadata": {},
     "output_type": "display_data"
    },
    {
     "data": {
      "text/html": [
       "<pre style=\"white-space:pre;overflow-x:auto;line-height:normal;font-family:Menlo,'DejaVu Sans Mono',consolas,'Courier New',monospace\"><span style=\"color: #7fbfbf\">           </span><span style=\"color: #000080\">INFO</span>     Sending tasks to collaborator two for round <span style=\"color: #000080; font-weight: bold\">8</span>                                                                              <a href=\"file:///home/itrushkin/.virtualenvs/fledge/lib/python3.6/site-packages/fledge/component/aggregator/aggregator.py\"><span style=\"color: #7f7f7f\">aggregator.py</span></a><span style=\"color: #7f7f7f\">:249</span>\n",
       "</pre>\n"
      ],
      "text/plain": [
       "<rich.jupyter.JupyterRenderable at 0x7f7f3edad7b8>"
      ]
     },
     "metadata": {},
     "output_type": "display_data"
    },
    {
     "data": {
      "text/html": [
       "<pre style=\"white-space:pre;overflow-x:auto;line-height:normal;font-family:Menlo,'DejaVu Sans Mono',consolas,'Courier New',monospace\"><span style=\"color: #7fbfbf\">           </span><span style=\"color: #000080\">INFO</span>     Received the following tasks: <span style=\"font-weight: bold\">[</span><span style=\"color: #008000\">'aggregated_model_validation'</span>, <span style=\"color: #008000\">'train'</span>, <span style=\"color: #008000\">'locally_tuned_model_validation'</span><span style=\"font-weight: bold\">]</span>                 <a href=\"file:///home/itrushkin/.virtualenvs/fledge/lib/python3.6/site-packages/fledge/component/collaborator/collaborator.py\"><span style=\"color: #7f7f7f\">collaborator.py</span></a><span style=\"color: #7f7f7f\">:155</span>\n",
       "</pre>\n"
      ],
      "text/plain": [
       "<rich.jupyter.JupyterRenderable at 0x7f7f3edae128>"
      ]
     },
     "metadata": {},
     "output_type": "display_data"
    },
    {
     "name": "stdout",
     "output_type": "stream",
     "text": [
      "FastEstimator-Test: step: 196; epoch: 2; clean_accuracy: 0.6; adversarial_accuracy: 0.3904; \n"
     ]
    },
    {
     "data": {
      "text/html": [
       "<pre style=\"white-space:pre;overflow-x:auto;line-height:normal;font-family:Menlo,'DejaVu Sans Mono',consolas,'Courier New',monospace\"><span style=\"color: #7fbfbf\">[03:57:06] </span><span style=\"color: #000080\">INFO</span>     Sending metric for task aggregated_model_validation, round number <span style=\"color: #000080; font-weight: bold\">8</span>: clean_accuracy     <span style=\"color: #000080; font-weight: bold\">0.6</span>                              <a href=\"file:///home/itrushkin/.virtualenvs/fledge/lib/python3.6/site-packages/fledge/component/collaborator/collaborator.py\"><span style=\"color: #7f7f7f\">collaborator.py</span></a><span style=\"color: #7f7f7f\">:318</span>\n",
       "</pre>\n"
      ],
      "text/plain": [
       "<rich.jupyter.JupyterRenderable at 0x7f7f4106fd30>"
      ]
     },
     "metadata": {},
     "output_type": "display_data"
    },
    {
     "data": {
      "text/html": [
       "<pre style=\"white-space:pre;overflow-x:auto;line-height:normal;font-family:Menlo,'DejaVu Sans Mono',consolas,'Courier New',monospace\"><span style=\"color: #7fbfbf\">           </span><span style=\"color: #000080\">INFO</span>     Sending metric for task aggregated_model_validation, round number <span style=\"color: #000080; font-weight: bold\">8</span>: adversarial_accuracy       <span style=\"color: #000080; font-weight: bold\">0.3904</span>                   <a href=\"file:///home/itrushkin/.virtualenvs/fledge/lib/python3.6/site-packages/fledge/component/collaborator/collaborator.py\"><span style=\"color: #7f7f7f\">collaborator.py</span></a><span style=\"color: #7f7f7f\">:318</span>\n",
       "</pre>\n"
      ],
      "text/plain": [
       "<rich.jupyter.JupyterRenderable at 0x7f7f4106f780>"
      ]
     },
     "metadata": {},
     "output_type": "display_data"
    },
    {
     "data": {
      "text/html": [
       "<pre style=\"white-space:pre;overflow-x:auto;line-height:normal;font-family:Menlo,'DejaVu Sans Mono',consolas,'Courier New',monospace\"><span style=\"color: #7fbfbf\">           </span><span style=\"color: #000080\">INFO</span>     Collaborator two is sending task results for aggregated_model_validation, round <span style=\"color: #000080; font-weight: bold\">8</span>                                          <a href=\"file:///home/itrushkin/.virtualenvs/fledge/lib/python3.6/site-packages/fledge/component/aggregator/aggregator.py\"><span style=\"color: #7f7f7f\">aggregator.py</span></a><span style=\"color: #7f7f7f\">:369</span>\n",
       "</pre>\n"
      ],
      "text/plain": [
       "<rich.jupyter.JupyterRenderable at 0x7f7f4106f828>"
      ]
     },
     "metadata": {},
     "output_type": "display_data"
    },
    {
     "name": "stdout",
     "output_type": "stream",
     "text": [
      "    ______           __  ______     __  _                 __            \n",
      "   / ____/___ ______/ /_/ ____/____/ /_(_)___ ___  ____ _/ /_____  _____\n",
      "  / /_  / __ `/ ___/ __/ __/ / ___/ __/ / __ `__ \\/ __ `/ __/ __ \\/ ___/\n",
      " / __/ / /_/ (__  ) /_/ /___(__  ) /_/ / / / / / / /_/ / /_/ /_/ / /    \n",
      "/_/    \\__,_/____/\\__/_____/____/\\__/_/_/ /_/ /_/\\__,_/\\__/\\____/_/     \n",
      "                                                                        \n",
      "\n",
      "FastEstimator-Warn: No ModelSaver Trace detected. Models will not be saved.\n",
      "FastEstimator-Start: step: 1; num_device: 3; logging_interval: 1000; \n",
      "FastEstimator-Train: step: 1; adv_ce: 1.1810057; base_ce: 0.7229066; avg_ce: 0.95195615; \n",
      "FastEstimator-Train: step: 98; epoch: 1; epoch_time: 2.87 sec; \n",
      "FastEstimator-Eval: step: 98; epoch: 1; adv_ce: 1.7598722; base_ce: 1.102838; avg_ce: 1.4313552; clean_accuracy: 0.6048; adversarial_accuracy: 0.4032; \n",
      "FastEstimator-Train: step: 196; epoch: 2; epoch_time: 2.89 sec; \n",
      "FastEstimator-Eval: step: 196; epoch: 2; adv_ce: 1.872144; base_ce: 1.1603442; avg_ce: 1.516244; clean_accuracy: 0.5968; adversarial_accuracy: 0.3848; \n",
      "FastEstimator-Finish: step: 196; total_time: 9.73 sec; adv_model_lr: 0.001; \n"
     ]
    },
    {
     "data": {
      "text/html": [
       "<pre style=\"white-space:pre;overflow-x:auto;line-height:normal;font-family:Menlo,'DejaVu Sans Mono',consolas,'Courier New',monospace\"><span style=\"color: #7fbfbf\">[03:57:17] </span><span style=\"color: #000080\">INFO</span>     Sending metric for task train, round number <span style=\"color: #000080; font-weight: bold\">8</span>: adv_ce   <span style=\"color: #000080; font-weight: bold\">1.1810057163238525</span>                                               <a href=\"file:///home/itrushkin/.virtualenvs/fledge/lib/python3.6/site-packages/fledge/component/collaborator/collaborator.py\"><span style=\"color: #7f7f7f\">collaborator.py</span></a><span style=\"color: #7f7f7f\">:318</span>\n",
       "</pre>\n"
      ],
      "text/plain": [
       "<rich.jupyter.JupyterRenderable at 0x7f7f3edb0c18>"
      ]
     },
     "metadata": {},
     "output_type": "display_data"
    },
    {
     "data": {
      "text/html": [
       "<pre style=\"white-space:pre;overflow-x:auto;line-height:normal;font-family:Menlo,'DejaVu Sans Mono',consolas,'Courier New',monospace\"><span style=\"color: #7fbfbf\">           </span><span style=\"color: #000080\">INFO</span>     Sending metric for task train, round number <span style=\"color: #000080; font-weight: bold\">8</span>: base_ce  <span style=\"color: #000080; font-weight: bold\">0.7229065895080566</span>                                               <a href=\"file:///home/itrushkin/.virtualenvs/fledge/lib/python3.6/site-packages/fledge/component/collaborator/collaborator.py\"><span style=\"color: #7f7f7f\">collaborator.py</span></a><span style=\"color: #7f7f7f\">:318</span>\n",
       "</pre>\n"
      ],
      "text/plain": [
       "<rich.jupyter.JupyterRenderable at 0x7f7f3edb0a90>"
      ]
     },
     "metadata": {},
     "output_type": "display_data"
    },
    {
     "data": {
      "text/html": [
       "<pre style=\"white-space:pre;overflow-x:auto;line-height:normal;font-family:Menlo,'DejaVu Sans Mono',consolas,'Courier New',monospace\"><span style=\"color: #7fbfbf\">           </span><span style=\"color: #000080\">INFO</span>     Collaborator two is sending task results for train, round <span style=\"color: #000080; font-weight: bold\">8</span>                                                                <a href=\"file:///home/itrushkin/.virtualenvs/fledge/lib/python3.6/site-packages/fledge/component/aggregator/aggregator.py\"><span style=\"color: #7f7f7f\">aggregator.py</span></a><span style=\"color: #7f7f7f\">:369</span>\n",
       "</pre>\n"
      ],
      "text/plain": [
       "<rich.jupyter.JupyterRenderable at 0x7f7f3edb0c18>"
      ]
     },
     "metadata": {},
     "output_type": "display_data"
    },
    {
     "name": "stdout",
     "output_type": "stream",
     "text": [
      "FastEstimator-Test: step: 196; epoch: 2; clean_accuracy: 0.5952; adversarial_accuracy: 0.3816; \n"
     ]
    },
    {
     "data": {
      "text/html": [
       "<pre style=\"white-space:pre;overflow-x:auto;line-height:normal;font-family:Menlo,'DejaVu Sans Mono',consolas,'Courier New',monospace\"><span style=\"color: #7fbfbf\">[03:57:18] </span><span style=\"color: #000080\">INFO</span>     Sending metric for task locally_tuned_model_validation, round number <span style=\"color: #000080; font-weight: bold\">8</span>: clean_accuracy  <span style=\"color: #000080; font-weight: bold\">0.5952</span>                           <a href=\"file:///home/itrushkin/.virtualenvs/fledge/lib/python3.6/site-packages/fledge/component/collaborator/collaborator.py\"><span style=\"color: #7f7f7f\">collaborator.py</span></a><span style=\"color: #7f7f7f\">:318</span>\n",
       "</pre>\n"
      ],
      "text/plain": [
       "<rich.jupyter.JupyterRenderable at 0x7f7f3edb0c18>"
      ]
     },
     "metadata": {},
     "output_type": "display_data"
    },
    {
     "data": {
      "text/html": [
       "<pre style=\"white-space:pre;overflow-x:auto;line-height:normal;font-family:Menlo,'DejaVu Sans Mono',consolas,'Courier New',monospace\"><span style=\"color: #7fbfbf\">           </span><span style=\"color: #000080\">INFO</span>     Sending metric for task locally_tuned_model_validation, round number <span style=\"color: #000080; font-weight: bold\">8</span>: adversarial_accuracy    <span style=\"color: #000080; font-weight: bold\">0.3816</span>                   <a href=\"file:///home/itrushkin/.virtualenvs/fledge/lib/python3.6/site-packages/fledge/component/collaborator/collaborator.py\"><span style=\"color: #7f7f7f\">collaborator.py</span></a><span style=\"color: #7f7f7f\">:318</span>\n",
       "</pre>\n"
      ],
      "text/plain": [
       "<rich.jupyter.JupyterRenderable at 0x7f7db5cfd9b0>"
      ]
     },
     "metadata": {},
     "output_type": "display_data"
    },
    {
     "data": {
      "text/html": [
       "<pre style=\"white-space:pre;overflow-x:auto;line-height:normal;font-family:Menlo,'DejaVu Sans Mono',consolas,'Courier New',monospace\"><span style=\"color: #7fbfbf\">           </span><span style=\"color: #000080\">INFO</span>     Collaborator two is sending task results for locally_tuned_model_validation, round <span style=\"color: #000080; font-weight: bold\">8</span>                                       <a href=\"file:///home/itrushkin/.virtualenvs/fledge/lib/python3.6/site-packages/fledge/component/aggregator/aggregator.py\"><span style=\"color: #7f7f7f\">aggregator.py</span></a><span style=\"color: #7f7f7f\">:369</span>\n",
       "</pre>\n"
      ],
      "text/plain": [
       "<rich.jupyter.JupyterRenderable at 0x7f7db5cfd128>"
      ]
     },
     "metadata": {},
     "output_type": "display_data"
    },
    {
     "data": {
      "text/html": [
       "<pre style=\"white-space:pre;overflow-x:auto;line-height:normal;font-family:Menlo,'DejaVu Sans Mono',consolas,'Courier New',monospace\"><span style=\"color: #7fbfbf\">           </span><span style=\"color: #000080\">INFO</span>     train task metrics<span style=\"color: #808000\">...</span>                                                                                                      <a href=\"file:///home/itrushkin/.virtualenvs/fledge/lib/python3.6/site-packages/fledge/component/aggregator/aggregator.py\"><span style=\"color: #7f7f7f\">aggregator.py</span></a><span style=\"color: #7f7f7f\">:505</span>\n",
       "</pre>\n"
      ],
      "text/plain": [
       "<rich.jupyter.JupyterRenderable at 0x7f7db5cfdb38>"
      ]
     },
     "metadata": {},
     "output_type": "display_data"
    },
    {
     "data": {
      "text/html": [
       "<pre style=\"white-space:pre;overflow-x:auto;line-height:normal;font-family:Menlo,'DejaVu Sans Mono',consolas,'Courier New',monospace\"><span style=\"color: #7fbfbf\">           </span><span style=\"color: #000080\">INFO</span>     adv_ce: <span style=\"color: #000080; font-weight: bold\">1.1077</span>                                                                                                             <a href=\"file:///home/itrushkin/.virtualenvs/fledge/lib/python3.6/site-packages/fledge/component/aggregator/aggregator.py\"><span style=\"color: #7f7f7f\">aggregator.py</span></a><span style=\"color: #7f7f7f\">:539</span>\n",
       "</pre>\n"
      ],
      "text/plain": [
       "<rich.jupyter.JupyterRenderable at 0x7f7db5cfdbe0>"
      ]
     },
     "metadata": {},
     "output_type": "display_data"
    },
    {
     "data": {
      "text/html": [
       "<pre style=\"white-space:pre;overflow-x:auto;line-height:normal;font-family:Menlo,'DejaVu Sans Mono',consolas,'Courier New',monospace\"><span style=\"color: #7fbfbf\">           </span><span style=\"color: #000080\">INFO</span>     base_ce:        <span style=\"color: #000080; font-weight: bold\">0.6690</span>                                                                                                     <a href=\"file:///home/itrushkin/.virtualenvs/fledge/lib/python3.6/site-packages/fledge/component/aggregator/aggregator.py\"><span style=\"color: #7f7f7f\">aggregator.py</span></a><span style=\"color: #7f7f7f\">:539</span>\n",
       "</pre>\n"
      ],
      "text/plain": [
       "<rich.jupyter.JupyterRenderable at 0x7f7db5cfd128>"
      ]
     },
     "metadata": {},
     "output_type": "display_data"
    },
    {
     "data": {
      "text/html": [
       "<pre style=\"white-space:pre;overflow-x:auto;line-height:normal;font-family:Menlo,'DejaVu Sans Mono',consolas,'Courier New',monospace\"><span style=\"color: #7fbfbf\">[03:57:19] </span><span style=\"color: #000080\">INFO</span>     locally_tuned_model_validation task metrics<span style=\"color: #808000\">...</span>                                                                             <a href=\"file:///home/itrushkin/.virtualenvs/fledge/lib/python3.6/site-packages/fledge/component/aggregator/aggregator.py\"><span style=\"color: #7f7f7f\">aggregator.py</span></a><span style=\"color: #7f7f7f\">:505</span>\n",
       "</pre>\n"
      ],
      "text/plain": [
       "<rich.jupyter.JupyterRenderable at 0x7f7db5cfd0f0>"
      ]
     },
     "metadata": {},
     "output_type": "display_data"
    },
    {
     "data": {
      "text/html": [
       "<pre style=\"white-space:pre;overflow-x:auto;line-height:normal;font-family:Menlo,'DejaVu Sans Mono',consolas,'Courier New',monospace\"><span style=\"color: #7fbfbf\">           </span><span style=\"color: #000080\">INFO</span>     clean_accuracy: <span style=\"color: #000080; font-weight: bold\">0.6008</span>                                                                                                     <a href=\"file:///home/itrushkin/.virtualenvs/fledge/lib/python3.6/site-packages/fledge/component/aggregator/aggregator.py\"><span style=\"color: #7f7f7f\">aggregator.py</span></a><span style=\"color: #7f7f7f\">:539</span>\n",
       "</pre>\n"
      ],
      "text/plain": [
       "<rich.jupyter.JupyterRenderable at 0x7f7db5cfd128>"
      ]
     },
     "metadata": {},
     "output_type": "display_data"
    },
    {
     "data": {
      "text/html": [
       "<pre style=\"white-space:pre;overflow-x:auto;line-height:normal;font-family:Menlo,'DejaVu Sans Mono',consolas,'Courier New',monospace\"><span style=\"color: #7fbfbf\">           </span><span style=\"color: #000080\">INFO</span>     adversarial_accuracy:   <span style=\"color: #000080; font-weight: bold\">0.3820</span>                                                                                             <a href=\"file:///home/itrushkin/.virtualenvs/fledge/lib/python3.6/site-packages/fledge/component/aggregator/aggregator.py\"><span style=\"color: #7f7f7f\">aggregator.py</span></a><span style=\"color: #7f7f7f\">:539</span>\n",
       "</pre>\n"
      ],
      "text/plain": [
       "<rich.jupyter.JupyterRenderable at 0x7f7db5cfd400>"
      ]
     },
     "metadata": {},
     "output_type": "display_data"
    },
    {
     "data": {
      "text/html": [
       "<pre style=\"white-space:pre;overflow-x:auto;line-height:normal;font-family:Menlo,'DejaVu Sans Mono',consolas,'Courier New',monospace\"><span style=\"color: #7fbfbf\">           </span><span style=\"color: #000080\">INFO</span>     aggregated_model_validation task metrics<span style=\"color: #808000\">...</span>                                                                                <a href=\"file:///home/itrushkin/.virtualenvs/fledge/lib/python3.6/site-packages/fledge/component/aggregator/aggregator.py\"><span style=\"color: #7f7f7f\">aggregator.py</span></a><span style=\"color: #7f7f7f\">:505</span>\n",
       "</pre>\n"
      ],
      "text/plain": [
       "<rich.jupyter.JupyterRenderable at 0x7f7db5cfd7b8>"
      ]
     },
     "metadata": {},
     "output_type": "display_data"
    },
    {
     "data": {
      "text/html": [
       "<pre style=\"white-space:pre;overflow-x:auto;line-height:normal;font-family:Menlo,'DejaVu Sans Mono',consolas,'Courier New',monospace\"><span style=\"color: #7fbfbf\">           </span><span style=\"color: #000080\">INFO</span>     clean_accuracy: <span style=\"color: #000080; font-weight: bold\">0.6000</span>                                                                                                     <a href=\"file:///home/itrushkin/.virtualenvs/fledge/lib/python3.6/site-packages/fledge/component/aggregator/aggregator.py\"><span style=\"color: #7f7f7f\">aggregator.py</span></a><span style=\"color: #7f7f7f\">:539</span>\n",
       "</pre>\n"
      ],
      "text/plain": [
       "<rich.jupyter.JupyterRenderable at 0x7f7db5cfdd68>"
      ]
     },
     "metadata": {},
     "output_type": "display_data"
    },
    {
     "data": {
      "text/html": [
       "<pre style=\"white-space:pre;overflow-x:auto;line-height:normal;font-family:Menlo,'DejaVu Sans Mono',consolas,'Courier New',monospace\"><span style=\"color: #7fbfbf\">           </span><span style=\"color: #000080\">INFO</span>     Saved the best model with score <span style=\"color: #000080; font-weight: bold\">0.600000</span>                                                                                   <a href=\"file:///home/itrushkin/.virtualenvs/fledge/lib/python3.6/site-packages/fledge/component/aggregator/aggregator.py\"><span style=\"color: #7f7f7f\">aggregator.py</span></a><span style=\"color: #7f7f7f\">:546</span>\n",
       "</pre>\n"
      ],
      "text/plain": [
       "<rich.jupyter.JupyterRenderable at 0x7f7db5cfdcf8>"
      ]
     },
     "metadata": {},
     "output_type": "display_data"
    },
    {
     "data": {
      "text/html": [
       "<pre style=\"white-space:pre;overflow-x:auto;line-height:normal;font-family:Menlo,'DejaVu Sans Mono',consolas,'Courier New',monospace\"><span style=\"color: #7fbfbf\">           </span><span style=\"color: #000080\">INFO</span>     adversarial_accuracy:   <span style=\"color: #000080; font-weight: bold\">0.3904</span>                                                                                             <a href=\"file:///home/itrushkin/.virtualenvs/fledge/lib/python3.6/site-packages/fledge/component/aggregator/aggregator.py\"><span style=\"color: #7f7f7f\">aggregator.py</span></a><span style=\"color: #7f7f7f\">:539</span>\n",
       "</pre>\n"
      ],
      "text/plain": [
       "<rich.jupyter.JupyterRenderable at 0x7f7db5cfd898>"
      ]
     },
     "metadata": {},
     "output_type": "display_data"
    },
    {
     "data": {
      "text/html": [
       "<pre style=\"white-space:pre;overflow-x:auto;line-height:normal;font-family:Menlo,'DejaVu Sans Mono',consolas,'Courier New',monospace\"><span style=\"color: #7fbfbf\">           </span><span style=\"color: #000080\">INFO</span>     Saving round <span style=\"color: #000080; font-weight: bold\">9</span> model<span style=\"color: #808000\">...</span>                                                                                                    <a href=\"file:///home/itrushkin/.virtualenvs/fledge/lib/python3.6/site-packages/fledge/component/aggregator/aggregator.py\"><span style=\"color: #7f7f7f\">aggregator.py</span></a><span style=\"color: #7f7f7f\">:602</span>\n",
       "</pre>\n"
      ],
      "text/plain": [
       "<rich.jupyter.JupyterRenderable at 0x7f7db5cfd400>"
      ]
     },
     "metadata": {},
     "output_type": "display_data"
    },
    {
     "data": {
      "text/html": [
       "<pre style=\"white-space:pre;overflow-x:auto;line-height:normal;font-family:Menlo,'DejaVu Sans Mono',consolas,'Courier New',monospace\"><span style=\"color: #7fbfbf\">           </span><span style=\"color: #000080\">INFO</span>     Starting round <span style=\"color: #000080; font-weight: bold\">9</span><span style=\"color: #808000\">...</span>                                                                                                        <a href=\"file:///home/itrushkin/.virtualenvs/fledge/lib/python3.6/site-packages/fledge/component/aggregator/aggregator.py\"><span style=\"color: #7f7f7f\">aggregator.py</span></a><span style=\"color: #7f7f7f\">:610</span>\n",
       "</pre>\n"
      ],
      "text/plain": [
       "<rich.jupyter.JupyterRenderable at 0x7f7db5cfdda0>"
      ]
     },
     "metadata": {},
     "output_type": "display_data"
    },
    {
     "data": {
      "text/html": [
       "<pre style=\"white-space:pre;overflow-x:auto;line-height:normal;font-family:Menlo,'DejaVu Sans Mono',consolas,'Courier New',monospace\"><span style=\"color: #7fbfbf\">           </span><span style=\"color: #000080\">INFO</span>     All tasks completed on two for round <span style=\"color: #000080; font-weight: bold\">8</span><span style=\"color: #808000\">...</span>                                                                                <a href=\"file:///home/itrushkin/.virtualenvs/fledge/lib/python3.6/site-packages/fledge/component/collaborator/collaborator.py\"><span style=\"color: #7f7f7f\">collaborator.py</span></a><span style=\"color: #7f7f7f\">:158</span>\n",
       "</pre>\n"
      ],
      "text/plain": [
       "<rich.jupyter.JupyterRenderable at 0x7f7db5cfd128>"
      ]
     },
     "metadata": {},
     "output_type": "display_data"
    },
    {
     "data": {
      "text/html": [
       "<pre style=\"white-space:pre;overflow-x:auto;line-height:normal;font-family:Menlo,'DejaVu Sans Mono',consolas,'Courier New',monospace\"><span style=\"color: #7fbfbf\">           </span><span style=\"color: #000080\">INFO</span>     Aggregator GetTasks function reached from collaborator one<span style=\"color: #808000\">...</span>                                                              <a href=\"file:///home/itrushkin/.virtualenvs/fledge/lib/python3.6/site-packages/fledge/component/aggregator/aggregator.py\"><span style=\"color: #7f7f7f\">aggregator.py</span></a><span style=\"color: #7f7f7f\">:215</span>\n",
       "</pre>\n"
      ],
      "text/plain": [
       "<rich.jupyter.JupyterRenderable at 0x7f7db5cfdf98>"
      ]
     },
     "metadata": {},
     "output_type": "display_data"
    },
    {
     "data": {
      "text/html": [
       "<pre style=\"white-space:pre;overflow-x:auto;line-height:normal;font-family:Menlo,'DejaVu Sans Mono',consolas,'Courier New',monospace\"><span style=\"color: #7fbfbf\">           </span><span style=\"color: #000080\">INFO</span>     Sending tasks to collaborator one for round <span style=\"color: #000080; font-weight: bold\">9</span>                                                                              <a href=\"file:///home/itrushkin/.virtualenvs/fledge/lib/python3.6/site-packages/fledge/component/aggregator/aggregator.py\"><span style=\"color: #7f7f7f\">aggregator.py</span></a><span style=\"color: #7f7f7f\">:249</span>\n",
       "</pre>\n"
      ],
      "text/plain": [
       "<rich.jupyter.JupyterRenderable at 0x7f7db5cfde10>"
      ]
     },
     "metadata": {},
     "output_type": "display_data"
    },
    {
     "data": {
      "text/html": [
       "<pre style=\"white-space:pre;overflow-x:auto;line-height:normal;font-family:Menlo,'DejaVu Sans Mono',consolas,'Courier New',monospace\"><span style=\"color: #7fbfbf\">           </span><span style=\"color: #000080\">INFO</span>     Received the following tasks: <span style=\"font-weight: bold\">[</span><span style=\"color: #008000\">'aggregated_model_validation'</span>, <span style=\"color: #008000\">'train'</span>, <span style=\"color: #008000\">'locally_tuned_model_validation'</span><span style=\"font-weight: bold\">]</span>                 <a href=\"file:///home/itrushkin/.virtualenvs/fledge/lib/python3.6/site-packages/fledge/component/collaborator/collaborator.py\"><span style=\"color: #7f7f7f\">collaborator.py</span></a><span style=\"color: #7f7f7f\">:155</span>\n",
       "</pre>\n"
      ],
      "text/plain": [
       "<rich.jupyter.JupyterRenderable at 0x7f7db5cfd080>"
      ]
     },
     "metadata": {},
     "output_type": "display_data"
    },
    {
     "name": "stdout",
     "output_type": "stream",
     "text": [
      "FastEstimator-Test: step: 196; epoch: 2; clean_accuracy: 0.6; adversarial_accuracy: 0.388; \n"
     ]
    },
    {
     "data": {
      "text/html": [
       "<pre style=\"white-space:pre;overflow-x:auto;line-height:normal;font-family:Menlo,'DejaVu Sans Mono',consolas,'Courier New',monospace\"><span style=\"color: #7fbfbf\">[03:57:20] </span><span style=\"color: #000080\">INFO</span>     Sending metric for task aggregated_model_validation, round number <span style=\"color: #000080; font-weight: bold\">9</span>: clean_accuracy     <span style=\"color: #000080; font-weight: bold\">0.6</span>                              <a href=\"file:///home/itrushkin/.virtualenvs/fledge/lib/python3.6/site-packages/fledge/component/collaborator/collaborator.py\"><span style=\"color: #7f7f7f\">collaborator.py</span></a><span style=\"color: #7f7f7f\">:318</span>\n",
       "</pre>\n"
      ],
      "text/plain": [
       "<rich.jupyter.JupyterRenderable at 0x7f7db4cba080>"
      ]
     },
     "metadata": {},
     "output_type": "display_data"
    },
    {
     "data": {
      "text/html": [
       "<pre style=\"white-space:pre;overflow-x:auto;line-height:normal;font-family:Menlo,'DejaVu Sans Mono',consolas,'Courier New',monospace\"><span style=\"color: #7fbfbf\">           </span><span style=\"color: #000080\">INFO</span>     Sending metric for task aggregated_model_validation, round number <span style=\"color: #000080; font-weight: bold\">9</span>: adversarial_accuracy       <span style=\"color: #000080; font-weight: bold\">0.388</span>                    <a href=\"file:///home/itrushkin/.virtualenvs/fledge/lib/python3.6/site-packages/fledge/component/collaborator/collaborator.py\"><span style=\"color: #7f7f7f\">collaborator.py</span></a><span style=\"color: #7f7f7f\">:318</span>\n",
       "</pre>\n"
      ],
      "text/plain": [
       "<rich.jupyter.JupyterRenderable at 0x7f7db4cba710>"
      ]
     },
     "metadata": {},
     "output_type": "display_data"
    },
    {
     "data": {
      "text/html": [
       "<pre style=\"white-space:pre;overflow-x:auto;line-height:normal;font-family:Menlo,'DejaVu Sans Mono',consolas,'Courier New',monospace\"><span style=\"color: #7fbfbf\">           </span><span style=\"color: #000080\">INFO</span>     Collaborator one is sending task results for aggregated_model_validation, round <span style=\"color: #000080; font-weight: bold\">9</span>                                          <a href=\"file:///home/itrushkin/.virtualenvs/fledge/lib/python3.6/site-packages/fledge/component/aggregator/aggregator.py\"><span style=\"color: #7f7f7f\">aggregator.py</span></a><span style=\"color: #7f7f7f\">:369</span>\n",
       "</pre>\n"
      ],
      "text/plain": [
       "<rich.jupyter.JupyterRenderable at 0x7f7db4cbaef0>"
      ]
     },
     "metadata": {},
     "output_type": "display_data"
    },
    {
     "name": "stdout",
     "output_type": "stream",
     "text": [
      "    ______           __  ______     __  _                 __            \n",
      "   / ____/___ ______/ /_/ ____/____/ /_(_)___ ___  ____ _/ /_____  _____\n",
      "  / /_  / __ `/ ___/ __/ __/ / ___/ __/ / __ `__ \\/ __ `/ __/ __ \\/ ___/\n",
      " / __/ / /_/ (__  ) /_/ /___(__  ) /_/ / / / / / / /_/ / /_/ /_/ / /    \n",
      "/_/    \\__,_/____/\\__/_____/____/\\__/_/_/ /_/ /_/\\__,_/\\__/\\____/_/     \n",
      "                                                                        \n",
      "\n",
      "FastEstimator-Warn: No ModelSaver Trace detected. Models will not be saved.\n",
      "FastEstimator-Start: step: 1; num_device: 3; logging_interval: 1000; \n",
      "FastEstimator-Train: step: 1; adv_ce: 1.0872691; base_ce: 0.59845287; avg_ce: 0.84286094; \n",
      "FastEstimator-Train: step: 98; epoch: 1; epoch_time: 2.86 sec; \n",
      "FastEstimator-Eval: step: 98; epoch: 1; adv_ce: 1.9299662; base_ce: 1.1712519; avg_ce: 1.5506089; clean_accuracy: 0.5984; adversarial_accuracy: 0.392; \n",
      "FastEstimator-Train: step: 196; epoch: 2; epoch_time: 2.88 sec; \n",
      "FastEstimator-Eval: step: 196; epoch: 2; adv_ce: 1.9451044; base_ce: 1.1525738; avg_ce: 1.5488391; clean_accuracy: 0.6088; adversarial_accuracy: 0.3896; \n",
      "FastEstimator-Finish: step: 196; total_time: 9.91 sec; adv_model_lr: 0.001; \n"
     ]
    },
    {
     "data": {
      "text/html": [
       "<pre style=\"white-space:pre;overflow-x:auto;line-height:normal;font-family:Menlo,'DejaVu Sans Mono',consolas,'Courier New',monospace\"><span style=\"color: #7fbfbf\">[03:57:32] </span><span style=\"color: #000080\">INFO</span>     Sending metric for task train, round number <span style=\"color: #000080; font-weight: bold\">9</span>: adv_ce   <span style=\"color: #000080; font-weight: bold\">1.0872690677642822</span>                                               <a href=\"file:///home/itrushkin/.virtualenvs/fledge/lib/python3.6/site-packages/fledge/component/collaborator/collaborator.py\"><span style=\"color: #7f7f7f\">collaborator.py</span></a><span style=\"color: #7f7f7f\">:318</span>\n",
       "</pre>\n"
      ],
      "text/plain": [
       "<rich.jupyter.JupyterRenderable at 0x7f7f41030fd0>"
      ]
     },
     "metadata": {},
     "output_type": "display_data"
    },
    {
     "data": {
      "text/html": [
       "<pre style=\"white-space:pre;overflow-x:auto;line-height:normal;font-family:Menlo,'DejaVu Sans Mono',consolas,'Courier New',monospace\"><span style=\"color: #7fbfbf\">           </span><span style=\"color: #000080\">INFO</span>     Sending metric for task train, round number <span style=\"color: #000080; font-weight: bold\">9</span>: base_ce  <span style=\"color: #000080; font-weight: bold\">0.5984528660774231</span>                                               <a href=\"file:///home/itrushkin/.virtualenvs/fledge/lib/python3.6/site-packages/fledge/component/collaborator/collaborator.py\"><span style=\"color: #7f7f7f\">collaborator.py</span></a><span style=\"color: #7f7f7f\">:318</span>\n",
       "</pre>\n"
      ],
      "text/plain": [
       "<rich.jupyter.JupyterRenderable at 0x7f7f41030550>"
      ]
     },
     "metadata": {},
     "output_type": "display_data"
    },
    {
     "data": {
      "text/html": [
       "<pre style=\"white-space:pre;overflow-x:auto;line-height:normal;font-family:Menlo,'DejaVu Sans Mono',consolas,'Courier New',monospace\"><span style=\"color: #7fbfbf\">           </span><span style=\"color: #000080\">INFO</span>     Collaborator one is sending task results for train, round <span style=\"color: #000080; font-weight: bold\">9</span>                                                                <a href=\"file:///home/itrushkin/.virtualenvs/fledge/lib/python3.6/site-packages/fledge/component/aggregator/aggregator.py\"><span style=\"color: #7f7f7f\">aggregator.py</span></a><span style=\"color: #7f7f7f\">:369</span>\n",
       "</pre>\n"
      ],
      "text/plain": [
       "<rich.jupyter.JupyterRenderable at 0x7f7f41030c50>"
      ]
     },
     "metadata": {},
     "output_type": "display_data"
    },
    {
     "name": "stdout",
     "output_type": "stream",
     "text": [
      "FastEstimator-Test: step: 196; epoch: 2; clean_accuracy: 0.5968; adversarial_accuracy: 0.3728; \n"
     ]
    },
    {
     "data": {
      "text/html": [
       "<pre style=\"white-space:pre;overflow-x:auto;line-height:normal;font-family:Menlo,'DejaVu Sans Mono',consolas,'Courier New',monospace\"><span style=\"color: #7fbfbf\">[03:57:33] </span><span style=\"color: #000080\">INFO</span>     Sending metric for task locally_tuned_model_validation, round number <span style=\"color: #000080; font-weight: bold\">9</span>: clean_accuracy  <span style=\"color: #000080; font-weight: bold\">0.5968</span>                           <a href=\"file:///home/itrushkin/.virtualenvs/fledge/lib/python3.6/site-packages/fledge/component/collaborator/collaborator.py\"><span style=\"color: #7f7f7f\">collaborator.py</span></a><span style=\"color: #7f7f7f\">:318</span>\n",
       "</pre>\n"
      ],
      "text/plain": [
       "<rich.jupyter.JupyterRenderable at 0x7f7db5c64390>"
      ]
     },
     "metadata": {},
     "output_type": "display_data"
    },
    {
     "data": {
      "text/html": [
       "<pre style=\"white-space:pre;overflow-x:auto;line-height:normal;font-family:Menlo,'DejaVu Sans Mono',consolas,'Courier New',monospace\"><span style=\"color: #7fbfbf\">           </span><span style=\"color: #000080\">INFO</span>     Sending metric for task locally_tuned_model_validation, round number <span style=\"color: #000080; font-weight: bold\">9</span>: adversarial_accuracy    <span style=\"color: #000080; font-weight: bold\">0.3728</span>                   <a href=\"file:///home/itrushkin/.virtualenvs/fledge/lib/python3.6/site-packages/fledge/component/collaborator/collaborator.py\"><span style=\"color: #7f7f7f\">collaborator.py</span></a><span style=\"color: #7f7f7f\">:318</span>\n",
       "</pre>\n"
      ],
      "text/plain": [
       "<rich.jupyter.JupyterRenderable at 0x7f7db5c640f0>"
      ]
     },
     "metadata": {},
     "output_type": "display_data"
    },
    {
     "data": {
      "text/html": [
       "<pre style=\"white-space:pre;overflow-x:auto;line-height:normal;font-family:Menlo,'DejaVu Sans Mono',consolas,'Courier New',monospace\"><span style=\"color: #7fbfbf\">           </span><span style=\"color: #000080\">INFO</span>     Collaborator one is sending task results for locally_tuned_model_validation, round <span style=\"color: #000080; font-weight: bold\">9</span>                                       <a href=\"file:///home/itrushkin/.virtualenvs/fledge/lib/python3.6/site-packages/fledge/component/aggregator/aggregator.py\"><span style=\"color: #7f7f7f\">aggregator.py</span></a><span style=\"color: #7f7f7f\">:369</span>\n",
       "</pre>\n"
      ],
      "text/plain": [
       "<rich.jupyter.JupyterRenderable at 0x7f7f3edaa7f0>"
      ]
     },
     "metadata": {},
     "output_type": "display_data"
    },
    {
     "data": {
      "text/html": [
       "<pre style=\"white-space:pre;overflow-x:auto;line-height:normal;font-family:Menlo,'DejaVu Sans Mono',consolas,'Courier New',monospace\"><span style=\"color: #7fbfbf\">           </span><span style=\"color: #000080\">INFO</span>     All tasks completed on one for round <span style=\"color: #000080; font-weight: bold\">9</span><span style=\"color: #808000\">...</span>                                                                                <a href=\"file:///home/itrushkin/.virtualenvs/fledge/lib/python3.6/site-packages/fledge/component/collaborator/collaborator.py\"><span style=\"color: #7f7f7f\">collaborator.py</span></a><span style=\"color: #7f7f7f\">:158</span>\n",
       "</pre>\n"
      ],
      "text/plain": [
       "<rich.jupyter.JupyterRenderable at 0x7f7db5c64390>"
      ]
     },
     "metadata": {},
     "output_type": "display_data"
    },
    {
     "data": {
      "text/html": [
       "<pre style=\"white-space:pre;overflow-x:auto;line-height:normal;font-family:Menlo,'DejaVu Sans Mono',consolas,'Courier New',monospace\"><span style=\"color: #7fbfbf\">           </span><span style=\"color: #000080\">INFO</span>     Aggregator GetTasks function reached from collaborator two<span style=\"color: #808000\">...</span>                                                              <a href=\"file:///home/itrushkin/.virtualenvs/fledge/lib/python3.6/site-packages/fledge/component/aggregator/aggregator.py\"><span style=\"color: #7f7f7f\">aggregator.py</span></a><span style=\"color: #7f7f7f\">:215</span>\n",
       "</pre>\n"
      ],
      "text/plain": [
       "<rich.jupyter.JupyterRenderable at 0x7f7f3edaad68>"
      ]
     },
     "metadata": {},
     "output_type": "display_data"
    },
    {
     "data": {
      "text/html": [
       "<pre style=\"white-space:pre;overflow-x:auto;line-height:normal;font-family:Menlo,'DejaVu Sans Mono',consolas,'Courier New',monospace\"><span style=\"color: #7fbfbf\">           </span><span style=\"color: #000080\">INFO</span>     Sending tasks to collaborator two for round <span style=\"color: #000080; font-weight: bold\">9</span>                                                                              <a href=\"file:///home/itrushkin/.virtualenvs/fledge/lib/python3.6/site-packages/fledge/component/aggregator/aggregator.py\"><span style=\"color: #7f7f7f\">aggregator.py</span></a><span style=\"color: #7f7f7f\">:249</span>\n",
       "</pre>\n"
      ],
      "text/plain": [
       "<rich.jupyter.JupyterRenderable at 0x7f7db5c644e0>"
      ]
     },
     "metadata": {},
     "output_type": "display_data"
    },
    {
     "data": {
      "text/html": [
       "<pre style=\"white-space:pre;overflow-x:auto;line-height:normal;font-family:Menlo,'DejaVu Sans Mono',consolas,'Courier New',monospace\"><span style=\"color: #7fbfbf\">           </span><span style=\"color: #000080\">INFO</span>     Received the following tasks: <span style=\"font-weight: bold\">[</span><span style=\"color: #008000\">'aggregated_model_validation'</span>, <span style=\"color: #008000\">'train'</span>, <span style=\"color: #008000\">'locally_tuned_model_validation'</span><span style=\"font-weight: bold\">]</span>                 <a href=\"file:///home/itrushkin/.virtualenvs/fledge/lib/python3.6/site-packages/fledge/component/collaborator/collaborator.py\"><span style=\"color: #7f7f7f\">collaborator.py</span></a><span style=\"color: #7f7f7f\">:155</span>\n",
       "</pre>\n"
      ],
      "text/plain": [
       "<rich.jupyter.JupyterRenderable at 0x7f7db5c64cf8>"
      ]
     },
     "metadata": {},
     "output_type": "display_data"
    },
    {
     "name": "stdout",
     "output_type": "stream",
     "text": [
      "FastEstimator-Test: step: 196; epoch: 2; clean_accuracy: 0.6; adversarial_accuracy: 0.388; \n"
     ]
    },
    {
     "data": {
      "text/html": [
       "<pre style=\"white-space:pre;overflow-x:auto;line-height:normal;font-family:Menlo,'DejaVu Sans Mono',consolas,'Courier New',monospace\"><span style=\"color: #7fbfbf\">[03:57:34] </span><span style=\"color: #000080\">INFO</span>     Sending metric for task aggregated_model_validation, round number <span style=\"color: #000080; font-weight: bold\">9</span>: clean_accuracy     <span style=\"color: #000080; font-weight: bold\">0.6</span>                              <a href=\"file:///home/itrushkin/.virtualenvs/fledge/lib/python3.6/site-packages/fledge/component/collaborator/collaborator.py\"><span style=\"color: #7f7f7f\">collaborator.py</span></a><span style=\"color: #7f7f7f\">:318</span>\n",
       "</pre>\n"
      ],
      "text/plain": [
       "<rich.jupyter.JupyterRenderable at 0x7f7db58a5d68>"
      ]
     },
     "metadata": {},
     "output_type": "display_data"
    },
    {
     "data": {
      "text/html": [
       "<pre style=\"white-space:pre;overflow-x:auto;line-height:normal;font-family:Menlo,'DejaVu Sans Mono',consolas,'Courier New',monospace\"><span style=\"color: #7fbfbf\">           </span><span style=\"color: #000080\">INFO</span>     Sending metric for task aggregated_model_validation, round number <span style=\"color: #000080; font-weight: bold\">9</span>: adversarial_accuracy       <span style=\"color: #000080; font-weight: bold\">0.388</span>                    <a href=\"file:///home/itrushkin/.virtualenvs/fledge/lib/python3.6/site-packages/fledge/component/collaborator/collaborator.py\"><span style=\"color: #7f7f7f\">collaborator.py</span></a><span style=\"color: #7f7f7f\">:318</span>\n",
       "</pre>\n"
      ],
      "text/plain": [
       "<rich.jupyter.JupyterRenderable at 0x7f7db58a5710>"
      ]
     },
     "metadata": {},
     "output_type": "display_data"
    },
    {
     "data": {
      "text/html": [
       "<pre style=\"white-space:pre;overflow-x:auto;line-height:normal;font-family:Menlo,'DejaVu Sans Mono',consolas,'Courier New',monospace\"><span style=\"color: #7fbfbf\">           </span><span style=\"color: #000080\">INFO</span>     Collaborator two is sending task results for aggregated_model_validation, round <span style=\"color: #000080; font-weight: bold\">9</span>                                          <a href=\"file:///home/itrushkin/.virtualenvs/fledge/lib/python3.6/site-packages/fledge/component/aggregator/aggregator.py\"><span style=\"color: #7f7f7f\">aggregator.py</span></a><span style=\"color: #7f7f7f\">:369</span>\n",
       "</pre>\n"
      ],
      "text/plain": [
       "<rich.jupyter.JupyterRenderable at 0x7f7db58a56a0>"
      ]
     },
     "metadata": {},
     "output_type": "display_data"
    },
    {
     "name": "stdout",
     "output_type": "stream",
     "text": [
      "    ______           __  ______     __  _                 __            \n",
      "   / ____/___ ______/ /_/ ____/____/ /_(_)___ ___  ____ _/ /_____  _____\n",
      "  / /_  / __ `/ ___/ __/ __/ / ___/ __/ / __ `__ \\/ __ `/ __/ __ \\/ ___/\n",
      " / __/ / /_/ (__  ) /_/ /___(__  ) /_/ / / / / / / /_/ / /_/ /_/ / /    \n",
      "/_/    \\__,_/____/\\__/_____/____/\\__/_/_/ /_/ /_/\\__,_/\\__/\\____/_/     \n",
      "                                                                        \n",
      "\n",
      "FastEstimator-Warn: No ModelSaver Trace detected. Models will not be saved.\n",
      "FastEstimator-Start: step: 1; num_device: 3; logging_interval: 1000; \n",
      "FastEstimator-Train: step: 1; adv_ce: 0.91773486; base_ce: 0.47613692; avg_ce: 0.6969359; \n",
      "FastEstimator-Train: step: 98; epoch: 1; epoch_time: 2.89 sec; \n",
      "FastEstimator-Eval: step: 98; epoch: 1; adv_ce: 1.862541; base_ce: 1.1263366; avg_ce: 1.4944388; clean_accuracy: 0.6112; adversarial_accuracy: 0.3832; \n",
      "FastEstimator-Train: step: 196; epoch: 2; epoch_time: 2.89 sec; \n",
      "FastEstimator-Eval: step: 196; epoch: 2; adv_ce: 1.9367878; base_ce: 1.1442697; avg_ce: 1.5405287; clean_accuracy: 0.612; adversarial_accuracy: 0.3888; \n",
      "FastEstimator-Finish: step: 196; total_time: 9.84 sec; adv_model_lr: 0.001; \n"
     ]
    },
    {
     "data": {
      "text/html": [
       "<pre style=\"white-space:pre;overflow-x:auto;line-height:normal;font-family:Menlo,'DejaVu Sans Mono',consolas,'Courier New',monospace\"><span style=\"color: #7fbfbf\">[03:57:46] </span><span style=\"color: #000080\">INFO</span>     Sending metric for task train, round number <span style=\"color: #000080; font-weight: bold\">9</span>: adv_ce   <span style=\"color: #000080; font-weight: bold\">0.9177348613739014</span>                                               <a href=\"file:///home/itrushkin/.virtualenvs/fledge/lib/python3.6/site-packages/fledge/component/collaborator/collaborator.py\"><span style=\"color: #7f7f7f\">collaborator.py</span></a><span style=\"color: #7f7f7f\">:318</span>\n",
       "</pre>\n"
      ],
      "text/plain": [
       "<rich.jupyter.JupyterRenderable at 0x7f7f410c6fd0>"
      ]
     },
     "metadata": {},
     "output_type": "display_data"
    },
    {
     "data": {
      "text/html": [
       "<pre style=\"white-space:pre;overflow-x:auto;line-height:normal;font-family:Menlo,'DejaVu Sans Mono',consolas,'Courier New',monospace\"><span style=\"color: #7fbfbf\">           </span><span style=\"color: #000080\">INFO</span>     Sending metric for task train, round number <span style=\"color: #000080; font-weight: bold\">9</span>: base_ce  <span style=\"color: #000080; font-weight: bold\">0.4761369228363037</span>                                               <a href=\"file:///home/itrushkin/.virtualenvs/fledge/lib/python3.6/site-packages/fledge/component/collaborator/collaborator.py\"><span style=\"color: #7f7f7f\">collaborator.py</span></a><span style=\"color: #7f7f7f\">:318</span>\n",
       "</pre>\n"
      ],
      "text/plain": [
       "<rich.jupyter.JupyterRenderable at 0x7f7f410c64a8>"
      ]
     },
     "metadata": {},
     "output_type": "display_data"
    },
    {
     "data": {
      "text/html": [
       "<pre style=\"white-space:pre;overflow-x:auto;line-height:normal;font-family:Menlo,'DejaVu Sans Mono',consolas,'Courier New',monospace\"><span style=\"color: #7fbfbf\">           </span><span style=\"color: #000080\">INFO</span>     Collaborator two is sending task results for train, round <span style=\"color: #000080; font-weight: bold\">9</span>                                                                <a href=\"file:///home/itrushkin/.virtualenvs/fledge/lib/python3.6/site-packages/fledge/component/aggregator/aggregator.py\"><span style=\"color: #7f7f7f\">aggregator.py</span></a><span style=\"color: #7f7f7f\">:369</span>\n",
       "</pre>\n"
      ],
      "text/plain": [
       "<rich.jupyter.JupyterRenderable at 0x7f7f410c6f60>"
      ]
     },
     "metadata": {},
     "output_type": "display_data"
    },
    {
     "name": "stdout",
     "output_type": "stream",
     "text": [
      "FastEstimator-Test: step: 196; epoch: 2; clean_accuracy: 0.608; adversarial_accuracy: 0.364; \n"
     ]
    },
    {
     "data": {
      "text/html": [
       "<pre style=\"white-space:pre;overflow-x:auto;line-height:normal;font-family:Menlo,'DejaVu Sans Mono',consolas,'Courier New',monospace\"><span style=\"color: #7fbfbf\">[03:57:47] </span><span style=\"color: #000080\">INFO</span>     Sending metric for task locally_tuned_model_validation, round number <span style=\"color: #000080; font-weight: bold\">9</span>: clean_accuracy  <span style=\"color: #000080; font-weight: bold\">0.608</span>                            <a href=\"file:///home/itrushkin/.virtualenvs/fledge/lib/python3.6/site-packages/fledge/component/collaborator/collaborator.py\"><span style=\"color: #7f7f7f\">collaborator.py</span></a><span style=\"color: #7f7f7f\">:318</span>\n",
       "</pre>\n"
      ],
      "text/plain": [
       "<rich.jupyter.JupyterRenderable at 0x7f7f3f017dd8>"
      ]
     },
     "metadata": {},
     "output_type": "display_data"
    },
    {
     "data": {
      "text/html": [
       "<pre style=\"white-space:pre;overflow-x:auto;line-height:normal;font-family:Menlo,'DejaVu Sans Mono',consolas,'Courier New',monospace\"><span style=\"color: #7fbfbf\">           </span><span style=\"color: #000080\">INFO</span>     Sending metric for task locally_tuned_model_validation, round number <span style=\"color: #000080; font-weight: bold\">9</span>: adversarial_accuracy    <span style=\"color: #000080; font-weight: bold\">0.364</span>                    <a href=\"file:///home/itrushkin/.virtualenvs/fledge/lib/python3.6/site-packages/fledge/component/collaborator/collaborator.py\"><span style=\"color: #7f7f7f\">collaborator.py</span></a><span style=\"color: #7f7f7f\">:318</span>\n",
       "</pre>\n"
      ],
      "text/plain": [
       "<rich.jupyter.JupyterRenderable at 0x7f7f3f017c18>"
      ]
     },
     "metadata": {},
     "output_type": "display_data"
    },
    {
     "data": {
      "text/html": [
       "<pre style=\"white-space:pre;overflow-x:auto;line-height:normal;font-family:Menlo,'DejaVu Sans Mono',consolas,'Courier New',monospace\"><span style=\"color: #7fbfbf\">           </span><span style=\"color: #000080\">INFO</span>     Collaborator two is sending task results for locally_tuned_model_validation, round <span style=\"color: #000080; font-weight: bold\">9</span>                                       <a href=\"file:///home/itrushkin/.virtualenvs/fledge/lib/python3.6/site-packages/fledge/component/aggregator/aggregator.py\"><span style=\"color: #7f7f7f\">aggregator.py</span></a><span style=\"color: #7f7f7f\">:369</span>\n",
       "</pre>\n"
      ],
      "text/plain": [
       "<rich.jupyter.JupyterRenderable at 0x7f7f3f017c18>"
      ]
     },
     "metadata": {},
     "output_type": "display_data"
    },
    {
     "data": {
      "text/html": [
       "<pre style=\"white-space:pre;overflow-x:auto;line-height:normal;font-family:Menlo,'DejaVu Sans Mono',consolas,'Courier New',monospace\"><span style=\"color: #7fbfbf\">           </span><span style=\"color: #000080\">INFO</span>     train task metrics<span style=\"color: #808000\">...</span>                                                                                                      <a href=\"file:///home/itrushkin/.virtualenvs/fledge/lib/python3.6/site-packages/fledge/component/aggregator/aggregator.py\"><span style=\"color: #7f7f7f\">aggregator.py</span></a><span style=\"color: #7f7f7f\">:505</span>\n",
       "</pre>\n"
      ],
      "text/plain": [
       "<rich.jupyter.JupyterRenderable at 0x7f7f3efe8240>"
      ]
     },
     "metadata": {},
     "output_type": "display_data"
    },
    {
     "data": {
      "text/html": [
       "<pre style=\"white-space:pre;overflow-x:auto;line-height:normal;font-family:Menlo,'DejaVu Sans Mono',consolas,'Courier New',monospace\"><span style=\"color: #7fbfbf\">           </span><span style=\"color: #000080\">INFO</span>     adv_ce: <span style=\"color: #000080; font-weight: bold\">1.0025</span>                                                                                                             <a href=\"file:///home/itrushkin/.virtualenvs/fledge/lib/python3.6/site-packages/fledge/component/aggregator/aggregator.py\"><span style=\"color: #7f7f7f\">aggregator.py</span></a><span style=\"color: #7f7f7f\">:539</span>\n",
       "</pre>\n"
      ],
      "text/plain": [
       "<rich.jupyter.JupyterRenderable at 0x7f7f3efe8470>"
      ]
     },
     "metadata": {},
     "output_type": "display_data"
    },
    {
     "data": {
      "text/html": [
       "<pre style=\"white-space:pre;overflow-x:auto;line-height:normal;font-family:Menlo,'DejaVu Sans Mono',consolas,'Courier New',monospace\"><span style=\"color: #7fbfbf\">           </span><span style=\"color: #000080\">INFO</span>     base_ce:        <span style=\"color: #000080; font-weight: bold\">0.5373</span>                                                                                                     <a href=\"file:///home/itrushkin/.virtualenvs/fledge/lib/python3.6/site-packages/fledge/component/aggregator/aggregator.py\"><span style=\"color: #7f7f7f\">aggregator.py</span></a><span style=\"color: #7f7f7f\">:539</span>\n",
       "</pre>\n"
      ],
      "text/plain": [
       "<rich.jupyter.JupyterRenderable at 0x7f7f3efe8cc0>"
      ]
     },
     "metadata": {},
     "output_type": "display_data"
    },
    {
     "data": {
      "text/html": [
       "<pre style=\"white-space:pre;overflow-x:auto;line-height:normal;font-family:Menlo,'DejaVu Sans Mono',consolas,'Courier New',monospace\"><span style=\"color: #7fbfbf\">           </span><span style=\"color: #000080\">INFO</span>     locally_tuned_model_validation task metrics<span style=\"color: #808000\">...</span>                                                                             <a href=\"file:///home/itrushkin/.virtualenvs/fledge/lib/python3.6/site-packages/fledge/component/aggregator/aggregator.py\"><span style=\"color: #7f7f7f\">aggregator.py</span></a><span style=\"color: #7f7f7f\">:505</span>\n",
       "</pre>\n"
      ],
      "text/plain": [
       "<rich.jupyter.JupyterRenderable at 0x7f7f3efe8470>"
      ]
     },
     "metadata": {},
     "output_type": "display_data"
    },
    {
     "data": {
      "text/html": [
       "<pre style=\"white-space:pre;overflow-x:auto;line-height:normal;font-family:Menlo,'DejaVu Sans Mono',consolas,'Courier New',monospace\"><span style=\"color: #7fbfbf\">           </span><span style=\"color: #000080\">INFO</span>     clean_accuracy: <span style=\"color: #000080; font-weight: bold\">0.6024</span>                                                                                                     <a href=\"file:///home/itrushkin/.virtualenvs/fledge/lib/python3.6/site-packages/fledge/component/aggregator/aggregator.py\"><span style=\"color: #7f7f7f\">aggregator.py</span></a><span style=\"color: #7f7f7f\">:539</span>\n",
       "</pre>\n"
      ],
      "text/plain": [
       "<rich.jupyter.JupyterRenderable at 0x7f7f3efe8b70>"
      ]
     },
     "metadata": {},
     "output_type": "display_data"
    },
    {
     "data": {
      "text/html": [
       "<pre style=\"white-space:pre;overflow-x:auto;line-height:normal;font-family:Menlo,'DejaVu Sans Mono',consolas,'Courier New',monospace\"><span style=\"color: #7fbfbf\">           </span><span style=\"color: #000080\">INFO</span>     adversarial_accuracy:   <span style=\"color: #000080; font-weight: bold\">0.3684</span>                                                                                             <a href=\"file:///home/itrushkin/.virtualenvs/fledge/lib/python3.6/site-packages/fledge/component/aggregator/aggregator.py\"><span style=\"color: #7f7f7f\">aggregator.py</span></a><span style=\"color: #7f7f7f\">:539</span>\n",
       "</pre>\n"
      ],
      "text/plain": [
       "<rich.jupyter.JupyterRenderable at 0x7f7f3efe8748>"
      ]
     },
     "metadata": {},
     "output_type": "display_data"
    },
    {
     "data": {
      "text/html": [
       "<pre style=\"white-space:pre;overflow-x:auto;line-height:normal;font-family:Menlo,'DejaVu Sans Mono',consolas,'Courier New',monospace\"><span style=\"color: #7fbfbf\">           </span><span style=\"color: #000080\">INFO</span>     aggregated_model_validation task metrics<span style=\"color: #808000\">...</span>                                                                                <a href=\"file:///home/itrushkin/.virtualenvs/fledge/lib/python3.6/site-packages/fledge/component/aggregator/aggregator.py\"><span style=\"color: #7f7f7f\">aggregator.py</span></a><span style=\"color: #7f7f7f\">:505</span>\n",
       "</pre>\n"
      ],
      "text/plain": [
       "<rich.jupyter.JupyterRenderable at 0x7f7f3efe8a58>"
      ]
     },
     "metadata": {},
     "output_type": "display_data"
    },
    {
     "data": {
      "text/html": [
       "<pre style=\"white-space:pre;overflow-x:auto;line-height:normal;font-family:Menlo,'DejaVu Sans Mono',consolas,'Courier New',monospace\"><span style=\"color: #7fbfbf\">           </span><span style=\"color: #000080\">INFO</span>     clean_accuracy: <span style=\"color: #000080; font-weight: bold\">0.6000</span>                                                                                                     <a href=\"file:///home/itrushkin/.virtualenvs/fledge/lib/python3.6/site-packages/fledge/component/aggregator/aggregator.py\"><span style=\"color: #7f7f7f\">aggregator.py</span></a><span style=\"color: #7f7f7f\">:539</span>\n",
       "</pre>\n"
      ],
      "text/plain": [
       "<rich.jupyter.JupyterRenderable at 0x7f7f3efe8a58>"
      ]
     },
     "metadata": {},
     "output_type": "display_data"
    },
    {
     "data": {
      "text/html": [
       "<pre style=\"white-space:pre;overflow-x:auto;line-height:normal;font-family:Menlo,'DejaVu Sans Mono',consolas,'Courier New',monospace\"><span style=\"color: #7fbfbf\">           </span><span style=\"color: #000080\">INFO</span>     adversarial_accuracy:   <span style=\"color: #000080; font-weight: bold\">0.3880</span>                                                                                             <a href=\"file:///home/itrushkin/.virtualenvs/fledge/lib/python3.6/site-packages/fledge/component/aggregator/aggregator.py\"><span style=\"color: #7f7f7f\">aggregator.py</span></a><span style=\"color: #7f7f7f\">:539</span>\n",
       "</pre>\n"
      ],
      "text/plain": [
       "<rich.jupyter.JupyterRenderable at 0x7f7f3efe84e0>"
      ]
     },
     "metadata": {},
     "output_type": "display_data"
    },
    {
     "data": {
      "text/html": [
       "<pre style=\"white-space:pre;overflow-x:auto;line-height:normal;font-family:Menlo,'DejaVu Sans Mono',consolas,'Courier New',monospace\"><span style=\"color: #7fbfbf\">           </span><span style=\"color: #000080\">INFO</span>     Saving round <span style=\"color: #000080; font-weight: bold\">10</span> model<span style=\"color: #808000\">...</span>                                                                                                   <a href=\"file:///home/itrushkin/.virtualenvs/fledge/lib/python3.6/site-packages/fledge/component/aggregator/aggregator.py\"><span style=\"color: #7f7f7f\">aggregator.py</span></a><span style=\"color: #7f7f7f\">:602</span>\n",
       "</pre>\n"
      ],
      "text/plain": [
       "<rich.jupyter.JupyterRenderable at 0x7f7f3efe8cc0>"
      ]
     },
     "metadata": {},
     "output_type": "display_data"
    },
    {
     "data": {
      "text/html": [
       "<pre style=\"white-space:pre;overflow-x:auto;line-height:normal;font-family:Menlo,'DejaVu Sans Mono',consolas,'Courier New',monospace\"><span style=\"color: #7fbfbf\">           </span><span style=\"color: #000080\">INFO</span>     Experiment Completed. Cleaning up<span style=\"color: #808000\">...</span>                                                                                       <a href=\"file:///home/itrushkin/.virtualenvs/fledge/lib/python3.6/site-packages/fledge/component/aggregator/aggregator.py\"><span style=\"color: #7f7f7f\">aggregator.py</span></a><span style=\"color: #7f7f7f\">:608</span>\n",
       "</pre>\n"
      ],
      "text/plain": [
       "<rich.jupyter.JupyterRenderable at 0x7f7f3efe8198>"
      ]
     },
     "metadata": {},
     "output_type": "display_data"
    },
    {
     "data": {
      "text/html": [
       "<pre style=\"white-space:pre;overflow-x:auto;line-height:normal;font-family:Menlo,'DejaVu Sans Mono',consolas,'Courier New',monospace\"><span style=\"color: #7fbfbf\">           </span><span style=\"color: #000080\">INFO</span>     All tasks completed on two for round <span style=\"color: #000080; font-weight: bold\">9</span><span style=\"color: #808000\">...</span>                                                                                <a href=\"file:///home/itrushkin/.virtualenvs/fledge/lib/python3.6/site-packages/fledge/component/collaborator/collaborator.py\"><span style=\"color: #7f7f7f\">collaborator.py</span></a><span style=\"color: #7f7f7f\">:158</span>\n",
       "</pre>\n"
      ],
      "text/plain": [
       "<rich.jupyter.JupyterRenderable at 0x7f7f3efe8860>"
      ]
     },
     "metadata": {},
     "output_type": "display_data"
    }
   ],
   "source": [
    "import fastestimator as fe\n",
    "from fastestimator.architecture.pytorch import LeNet\n",
    "from fastestimator.backend import to_tensor, argmax\n",
    "from fastestimator.dataset.data import cifar10\n",
    "from fastestimator.op.numpyop.meta import Sometimes\n",
    "from fastestimator.op.numpyop.multivariate import HorizontalFlip\n",
    "from fastestimator.op.numpyop.univariate import CoarseDropout, Normalize, Onehot\n",
    "from fastestimator.op.tensorop import Average\n",
    "from fastestimator.op.tensorop.gradient import Watch, FGSM\n",
    "from fastestimator.op.tensorop.loss import CrossEntropy\n",
    "from fastestimator.op.tensorop.model import ModelOp, UpdateOp\n",
    "from fastestimator.trace.io import BestModelSaver\n",
    "from fastestimator.trace.metric import Accuracy\n",
    "from fastestimator.util import ImgData, to_number\n",
    "from fledge.native.fastestimator import FederatedFastEstimator\n",
    "from fastestimator.dataset.data import cifar10\n",
    "from fastestimator.op.numpyop.univariate import Normalize, ChannelTranspose\n",
    "\n",
    "#data_path='1'\n",
    "#collaborator_count=2\n",
    "batch_size=128\n",
    "\n",
    "train_data, eval_data = cifar10.load_data()\n",
    "test_data = eval_data.split(0.5)\n",
    "#train_data, eval_data, test_data = split_data(train_data, eval_data, test_data, int(data_path), collaborator_count)\n",
    "\n",
    "pipeline = fe.Pipeline(train_data=train_data,\n",
    "                     eval_data=eval_data,\n",
    "                     test_data=test_data,\n",
    "                     batch_size=batch_size,\n",
    "                     ops=[Normalize(inputs=\"x\", outputs=\"x\",\n",
    "                             mean=(0.4914, 0.4822, 0.4465), \n",
    "                             std=(0.2471, 0.2435, 0.2616)),\n",
    "                          ChannelTranspose(inputs=\"x\", outputs=\"x\")])\n",
    "model = fe.build(model_fn=lambda: LeNet(input_shape=(3, 32, 32)), \\\n",
    "                         optimizer_fn=\"adam\", model_name=\"adv_model\")\n",
    "\n",
    "network = fe.Network(ops=[\n",
    "                Watch(inputs=\"x\"),\n",
    "                ModelOp(model=model, inputs=\"x\", outputs=\"y_pred\"),\n",
    "                CrossEntropy(inputs=(\"y_pred\", \"y\"), outputs=\"base_ce\"),\n",
    "                FGSM(data=\"x\", loss=\"base_ce\", outputs=\"x_adverse\", epsilon=0.04),\n",
    "                ModelOp(model=model, inputs=\"x_adverse\", outputs=\"y_pred_adv\"),\n",
    "                CrossEntropy(inputs=(\"y_pred_adv\", \"y\"), outputs=\"adv_ce\"),\n",
    "                Average(inputs=(\"base_ce\", \"adv_ce\"), outputs=\"avg_ce\"),\n",
    "                UpdateOp(model=model, loss_name=\"avg_ce\")\n",
    "            ])\n",
    "\n",
    "estimator = fe.Estimator(pipeline=pipeline,\n",
    "                         network=network,\n",
    "                         epochs=2,\n",
    "                         traces=[Accuracy(true_key=\"y\", pred_key=\"y_pred\", output_name=\"clean_accuracy\"),\n",
    "                                Accuracy(true_key=\"y\", pred_key=\"y_pred_adv\", output_name=\"adversarial_accuracy\")],\n",
    "                         max_train_steps_per_epoch=None,\n",
    "                         max_eval_steps_per_epoch=None,\n",
    "                         monitor_names=[\"base_ce\", \"adv_ce\"],\n",
    "                         log_steps=1000)\n",
    "fledge_estimator = FederatedFastEstimator(estimator, rounds=10)\n",
    "model=fledge_estimator.fit()"
   ]
  },
  {
   "cell_type": "code",
   "execution_count": 3,
   "metadata": {},
   "outputs": [
    {
     "data": {
      "text/plain": [
       "OrderedDict([('module.conv1.weight',\n",
       "              tensor([[[[ 1.0545e-01, -6.9001e-02, -5.8485e-02],\n",
       "                        [ 1.7878e-01, -2.0313e-01, -9.0882e-02],\n",
       "                        [-1.5487e-02, -2.2725e-01, -5.7066e-03]],\n",
       "              \n",
       "                       [[ 2.3951e-01, -9.4993e-02,  1.5313e-01],\n",
       "                        [ 3.0232e-01,  4.9389e-02,  9.7059e-02],\n",
       "                        [ 2.1739e-01,  3.9407e-02,  1.3037e-01]],\n",
       "              \n",
       "                       [[ 4.0230e-02, -1.0637e-01, -1.6270e-02],\n",
       "                        [-3.6199e-02, -2.3833e-01, -1.3434e-01],\n",
       "                        [-1.3303e-01, -1.7917e-01, -2.7975e-02]]],\n",
       "              \n",
       "              \n",
       "                      [[[-2.7232e-01,  1.4038e-01,  1.5373e-01],\n",
       "                        [-1.6211e-01,  1.6217e-01,  1.6370e-01],\n",
       "                        [-1.1771e-01,  3.1811e-02,  1.8104e-02]],\n",
       "              \n",
       "                       [[-1.6862e-01,  1.2997e-01,  7.1054e-02],\n",
       "                        [-2.9728e-01,  1.4441e-01, -3.2360e-02],\n",
       "                        [-1.3288e-01,  5.4851e-02,  1.3368e-01]],\n",
       "              \n",
       "                       [[-2.4352e-01,  4.3010e-02,  1.5608e-01],\n",
       "                        [-2.3210e-01,  1.0146e-01,  1.7331e-01],\n",
       "                        [-6.2970e-03,  1.1073e-01,  6.1105e-03]]],\n",
       "              \n",
       "              \n",
       "                      [[[-2.9022e-02,  1.3201e-02,  9.7591e-02],\n",
       "                        [ 4.3572e-03, -3.1258e-02, -8.6273e-03],\n",
       "                        [ 1.0835e-01, -3.8921e-02, -1.7719e-01]],\n",
       "              \n",
       "                       [[-6.8920e-03,  3.3411e-02,  7.5113e-02],\n",
       "                        [ 8.0747e-02,  1.3820e-01,  1.0716e-01],\n",
       "                        [ 7.5727e-02,  1.4618e-02, -5.5215e-02]],\n",
       "              \n",
       "                       [[ 9.7598e-03,  1.8916e-01,  1.5708e-01],\n",
       "                        [ 1.7058e-01,  2.8650e-01, -2.3051e-02],\n",
       "                        [ 2.6111e-01,  2.4107e-01, -3.9074e-02]]],\n",
       "              \n",
       "              \n",
       "                      [[[ 1.8548e-01,  1.9419e-01, -7.8175e-02],\n",
       "                        [-2.2467e-02, -8.5623e-02, -8.5489e-02],\n",
       "                        [-9.5363e-02, -3.9517e-02, -7.3451e-02]],\n",
       "              \n",
       "                       [[ 3.2703e-01,  2.1119e-01,  6.7582e-02],\n",
       "                        [-5.2009e-02,  5.6695e-02, -1.5559e-01],\n",
       "                        [-2.8309e-01, -6.9249e-02, -2.2917e-02]],\n",
       "              \n",
       "                       [[ 2.4580e-01,  2.4015e-01,  3.8857e-02],\n",
       "                        [-4.3203e-02,  1.5948e-02, -2.5899e-02],\n",
       "                        [-2.2645e-01, -2.1025e-01,  9.7789e-02]]],\n",
       "              \n",
       "              \n",
       "                      [[[ 4.8579e-02,  1.1800e-01,  1.4206e-01],\n",
       "                        [-2.2795e-01, -2.4986e-01, -8.4249e-02],\n",
       "                        [ 2.4007e-01,  4.5415e-02, -6.6611e-03]],\n",
       "              \n",
       "                       [[-1.7513e-02,  2.7981e-02,  9.8036e-02],\n",
       "                        [-2.3828e-01, -9.5834e-02, -2.6412e-01],\n",
       "                        [ 2.5499e-01,  1.1634e-01,  7.6078e-02]],\n",
       "              \n",
       "                       [[-9.4927e-02, -7.2185e-03,  9.6458e-02],\n",
       "                        [-3.4425e-02, -2.4120e-01, -2.0668e-01],\n",
       "                        [ 2.3804e-01,  1.7286e-01,  1.3039e-01]]],\n",
       "              \n",
       "              \n",
       "                      [[[ 2.0180e-02, -8.8424e-02,  2.0192e-02],\n",
       "                        [-9.8749e-03, -5.0999e-02, -5.8361e-02],\n",
       "                        [-2.1028e-01,  6.3350e-02, -1.1467e-01]],\n",
       "              \n",
       "                       [[-9.5795e-02,  5.5915e-02, -1.1868e-01],\n",
       "                        [-1.0043e-01,  1.0742e-01,  1.2889e-02],\n",
       "                        [ 9.4043e-02, -1.4798e-01,  9.7723e-02]],\n",
       "              \n",
       "                       [[ 1.9995e-01,  2.2895e-01,  1.7418e-01],\n",
       "                        [ 1.9474e-01,  5.0658e-03,  1.6717e-01],\n",
       "                        [ 4.1914e-02,  1.3075e-01, -4.4785e-03]]],\n",
       "              \n",
       "              \n",
       "                      [[[ 2.4734e-01,  1.4749e-01,  1.4081e-01],\n",
       "                        [ 1.1993e-01,  1.3088e-01,  1.9074e-01],\n",
       "                        [-2.2003e-01, -2.2956e-01,  4.3851e-02]],\n",
       "              \n",
       "                       [[ 3.4140e-02,  1.1316e-01, -2.4501e-02],\n",
       "                        [ 3.2795e-02, -1.0855e-01,  4.1751e-02],\n",
       "                        [-2.1919e-01, -5.3272e-02, -2.2779e-01]],\n",
       "              \n",
       "                       [[-1.4935e-03,  1.6970e-01,  5.5030e-02],\n",
       "                        [ 5.5583e-02, -1.2765e-01,  4.2207e-02],\n",
       "                        [-1.6865e-01, -9.5504e-02, -3.2561e-02]]],\n",
       "              \n",
       "              \n",
       "                      [[[-1.6253e-01, -5.6920e-02, -2.2199e-01],\n",
       "                        [ 4.0167e-02, -5.3443e-02,  1.2705e-01],\n",
       "                        [ 1.2596e-01,  1.1257e-01,  2.8559e-01]],\n",
       "              \n",
       "                       [[-1.2371e-01, -2.1653e-01, -2.7220e-01],\n",
       "                        [-1.2328e-01, -1.4648e-01, -1.2038e-01],\n",
       "                        [-3.8716e-02,  2.1486e-01,  1.7014e-01]],\n",
       "              \n",
       "                       [[-7.3914e-02, -1.7368e-01, -1.6236e-02],\n",
       "                        [ 5.7413e-02,  8.8813e-02, -1.1959e-01],\n",
       "                        [ 1.9362e-01,  2.0108e-01,  1.9685e-01]]],\n",
       "              \n",
       "              \n",
       "                      [[[ 1.7229e-01,  1.8238e-02, -3.5980e-02],\n",
       "                        [ 1.4958e-01,  9.8659e-02,  3.2930e-02],\n",
       "                        [ 2.1181e-01,  2.1546e-02, -5.7230e-02]],\n",
       "              \n",
       "                       [[ 1.7489e-01,  1.2612e-01, -8.2160e-02],\n",
       "                        [ 2.0538e-01,  2.3670e-01,  1.9444e-01],\n",
       "                        [ 1.1849e-01,  1.9595e-01,  2.2878e-01]],\n",
       "              \n",
       "                       [[-8.9722e-02, -9.4033e-02, -1.7970e-02],\n",
       "                        [ 9.8186e-02, -5.9902e-02, -1.1601e-01],\n",
       "                        [-1.4686e-02, -1.1847e-01, -6.9664e-03]]],\n",
       "              \n",
       "              \n",
       "                      [[[-1.9485e-01, -1.1966e-01, -1.6260e-01],\n",
       "                        [-1.9105e-01, -1.7498e-01, -1.3169e-01],\n",
       "                        [ 8.3777e-02,  1.0850e-01, -7.8735e-03]],\n",
       "              \n",
       "                       [[-1.3270e-01, -6.2054e-02,  6.2372e-02],\n",
       "                        [-1.4908e-01, -1.6485e-02,  1.0265e-01],\n",
       "                        [ 1.4588e-02,  4.7619e-02,  1.0438e-01]],\n",
       "              \n",
       "                       [[-1.3756e-01,  1.4802e-02, -3.9192e-02],\n",
       "                        [-4.1838e-02,  4.8421e-02,  2.0710e-01],\n",
       "                        [ 1.9669e-01,  2.4279e-01,  1.9378e-01]]],\n",
       "              \n",
       "              \n",
       "                      [[[ 5.4195e-03, -2.3784e-01,  1.8062e-02],\n",
       "                        [-1.3619e-01, -1.2254e-01, -7.5552e-02],\n",
       "                        [ 1.9604e-02, -1.7848e-01, -9.8316e-02]],\n",
       "              \n",
       "                       [[ 1.4645e-01, -1.4708e-01,  1.6482e-01],\n",
       "                        [-4.8125e-03, -1.8730e-01,  4.0852e-03],\n",
       "                        [ 4.2719e-02, -3.3254e-02, -2.5629e-02]],\n",
       "              \n",
       "                       [[ 2.3876e-01, -2.9782e-02,  2.9660e-01],\n",
       "                        [-5.1400e-02, -8.2786e-02,  1.5342e-01],\n",
       "                        [ 1.3476e-01, -1.4474e-01,  8.7951e-02]]],\n",
       "              \n",
       "              \n",
       "                      [[[-2.3458e-01, -2.2688e-01, -2.5876e-01],\n",
       "                        [-4.0897e-03,  1.2083e-01,  7.4480e-02],\n",
       "                        [ 2.2323e-02, -2.1316e-02, -7.5379e-03]],\n",
       "              \n",
       "                       [[-3.8527e-02,  3.9949e-02, -1.5035e-01],\n",
       "                        [ 7.5167e-02,  1.9230e-02, -1.2764e-02],\n",
       "                        [ 1.1077e-01,  9.0623e-02,  1.6598e-01]],\n",
       "              \n",
       "                       [[ 8.8120e-03,  3.8364e-02,  4.2749e-02],\n",
       "                        [ 2.1220e-01, -1.5441e-02,  2.0385e-01],\n",
       "                        [ 2.1602e-01,  2.4945e-01,  1.4384e-01]]],\n",
       "              \n",
       "              \n",
       "                      [[[ 1.2754e-01, -1.1300e-01, -2.0088e-01],\n",
       "                        [ 2.5909e-03,  8.0555e-02,  4.6180e-02],\n",
       "                        [ 3.5413e-02, -1.0361e-01,  1.0930e-03]],\n",
       "              \n",
       "                       [[-1.9252e-04, -4.8272e-02,  3.4765e-02],\n",
       "                        [-1.4547e-02, -4.0159e-02, -1.0875e-01],\n",
       "                        [ 1.3891e-01, -7.1034e-02, -7.2653e-02]],\n",
       "              \n",
       "                       [[ 2.3186e-01, -2.6770e-02,  1.1414e-01],\n",
       "                        [ 2.0528e-01,  1.9526e-01,  1.4196e-01],\n",
       "                        [ 2.5140e-01,  1.8044e-01,  1.7882e-01]]],\n",
       "              \n",
       "              \n",
       "                      [[[ 3.3609e-02,  2.1007e-02,  2.2303e-01],\n",
       "                        [-1.5915e-01, -7.0257e-02,  2.7424e-01],\n",
       "                        [-4.6160e-02, -7.1244e-02,  9.2679e-02]],\n",
       "              \n",
       "                       [[-1.9081e-01, -4.4081e-02,  4.6088e-02],\n",
       "                        [-2.3209e-01, -1.5627e-01,  2.6597e-01],\n",
       "                        [-7.4080e-02, -1.8709e-01,  1.3992e-01]],\n",
       "              \n",
       "                       [[-1.0072e-02, -4.2997e-02,  9.2251e-02],\n",
       "                        [-1.6959e-01,  2.6425e-02,  1.7487e-01],\n",
       "                        [-8.4467e-02, -1.7562e-01,  2.1050e-01]]],\n",
       "              \n",
       "              \n",
       "                      [[[-3.0047e-02,  8.2757e-02,  5.4122e-02],\n",
       "                        [ 1.9384e-01,  5.5548e-02, -2.1493e-01],\n",
       "                        [ 1.6497e-01, -1.7613e-01, -1.4305e-01]],\n",
       "              \n",
       "                       [[ 3.3289e-02,  5.2713e-02, -1.8656e-02],\n",
       "                        [ 1.0407e-01, -4.3728e-02, -2.1904e-01],\n",
       "                        [ 1.4524e-01, -2.1251e-01, -1.9732e-01]],\n",
       "              \n",
       "                       [[ 1.1453e-02, -2.0679e-02, -3.9685e-02],\n",
       "                        [ 2.2842e-01, -3.3785e-02, -1.1629e-02],\n",
       "                        [ 2.6700e-01, -1.3547e-01, -1.7574e-01]]],\n",
       "              \n",
       "              \n",
       "                      [[[ 1.0722e-01,  2.4511e-01,  1.2864e-01],\n",
       "                        [ 9.3106e-03,  1.9581e-01,  1.7267e-01],\n",
       "                        [ 6.5362e-03, -6.2623e-02,  9.5215e-02]],\n",
       "              \n",
       "                       [[ 3.1402e-02, -2.0303e-02, -1.7869e-02],\n",
       "                        [ 3.2433e-02,  7.0107e-02,  1.5892e-02],\n",
       "                        [ 8.9117e-02,  9.3522e-02,  1.1443e-01]],\n",
       "              \n",
       "                       [[ 7.7382e-02, -1.0598e-02,  1.0993e-01],\n",
       "                        [ 1.7735e-01,  2.2225e-01,  6.2225e-02],\n",
       "                        [-5.5971e-02,  1.1653e-01,  3.3810e-02]]],\n",
       "              \n",
       "              \n",
       "                      [[[-7.2145e-02, -6.2224e-02, -9.0855e-02],\n",
       "                        [-9.9736e-02, -9.8610e-02, -2.3868e-02],\n",
       "                        [-2.4925e-01, -1.0443e-01, -9.9672e-04]],\n",
       "              \n",
       "                       [[-1.9550e-01, -1.2161e-01, -1.2689e-01],\n",
       "                        [-2.8450e-01, -5.6979e-02, -8.8421e-02],\n",
       "                        [-1.3677e-01, -2.6386e-01, -1.2958e-01]],\n",
       "              \n",
       "                       [[-1.5310e-01, -5.1979e-02, -1.2472e-01],\n",
       "                        [-1.6569e-01, -2.3553e-01, -1.4466e-01],\n",
       "                        [-1.8702e-01, -2.3784e-01, -4.4097e-02]]],\n",
       "              \n",
       "              \n",
       "                      [[[ 1.4233e-01,  1.9938e-01,  1.0520e-01],\n",
       "                        [ 2.5866e-01,  1.2876e-01,  2.7184e-01],\n",
       "                        [-5.4446e-02,  1.0883e-02,  1.3728e-01]],\n",
       "              \n",
       "                       [[-8.6534e-03, -1.4349e-02, -5.8180e-02],\n",
       "                        [-7.4148e-03, -1.2493e-01, -1.1469e-01],\n",
       "                        [ 4.4105e-02,  5.1339e-02,  1.7139e-02]],\n",
       "              \n",
       "                       [[-1.5631e-01, -1.2611e-01, -1.2437e-01],\n",
       "                        [-2.4382e-01, -1.2901e-01, -2.1880e-01],\n",
       "                        [-6.5721e-02,  2.0551e-03, -4.3278e-02]]],\n",
       "              \n",
       "              \n",
       "                      [[[ 8.2372e-02,  1.9797e-01,  5.7811e-02],\n",
       "                        [-1.8495e-01, -2.4626e-01, -1.4666e-01],\n",
       "                        [-1.5445e-01, -1.3702e-01,  6.9772e-02]],\n",
       "              \n",
       "                       [[ 2.5174e-01,  1.9591e-01,  2.2560e-01],\n",
       "                        [-1.5120e-01, -8.6862e-03,  7.4530e-02],\n",
       "                        [ 1.4074e-01,  2.6942e-03, -3.9245e-02]],\n",
       "              \n",
       "                       [[ 9.9640e-02,  8.2679e-02,  5.2896e-02],\n",
       "                        [-1.7363e-01, -2.3582e-01,  1.4777e-02],\n",
       "                        [-1.2378e-01,  5.7987e-02, -1.6976e-01]]],\n",
       "              \n",
       "              \n",
       "                      [[[ 2.1269e-01,  4.4515e-02,  1.9722e-01],\n",
       "                        [ 2.5138e-01,  2.4166e-01,  1.7452e-01],\n",
       "                        [ 2.8221e-01,  1.4956e-01,  1.5693e-01]],\n",
       "              \n",
       "                       [[-5.3272e-02, -2.1839e-01, -3.8034e-02],\n",
       "                        [-2.0292e-01, -5.7694e-02, -1.8553e-01],\n",
       "                        [-1.5427e-01, -1.3035e-01, -1.6567e-01]],\n",
       "              \n",
       "                       [[ 9.9722e-02, -1.0238e-01, -1.5652e-01],\n",
       "                        [ 3.3226e-02, -7.9857e-02, -1.5148e-01],\n",
       "                        [-3.3809e-02, -1.1784e-01, -8.0221e-03]]],\n",
       "              \n",
       "              \n",
       "                      [[[-4.4883e-02,  4.3336e-03, -1.4521e-01],\n",
       "                        [-1.8219e-01, -2.3093e-01, -2.2076e-01],\n",
       "                        [-1.3355e-01, -6.8124e-02, -1.6614e-01]],\n",
       "              \n",
       "                       [[ 1.4627e-01,  5.8943e-02,  3.0054e-02],\n",
       "                        [ 1.0717e-01, -2.9186e-02, -1.1831e-01],\n",
       "                        [ 1.1229e-01,  1.4726e-02, -8.6882e-02]],\n",
       "              \n",
       "                       [[ 1.8306e-01,  2.4388e-01,  1.1164e-01],\n",
       "                        [ 1.1349e-01,  2.6308e-01, -1.1315e-02],\n",
       "                        [ 1.3239e-01,  1.7342e-01,  1.0051e-01]]],\n",
       "              \n",
       "              \n",
       "                      [[[ 9.0989e-02,  1.9487e-01, -2.4792e-01],\n",
       "                        [-1.3294e-02,  6.3984e-02,  2.8510e-02],\n",
       "                        [-5.9467e-02, -6.1402e-02,  1.2082e-01]],\n",
       "              \n",
       "                       [[ 1.4335e-01,  1.7635e-01, -1.0302e-01],\n",
       "                        [ 4.3063e-02,  1.9343e-01, -2.4280e-02],\n",
       "                        [ 7.8734e-02,  1.4317e-02,  3.3939e-03]],\n",
       "              \n",
       "                       [[ 4.9572e-02, -9.5294e-03, -2.3828e-01],\n",
       "                        [-1.5466e-01,  1.3305e-01, -1.6151e-01],\n",
       "                        [-2.9405e-02, -9.0458e-02, -6.0655e-02]]],\n",
       "              \n",
       "              \n",
       "                      [[[ 2.0559e-02,  3.9794e-02, -2.9386e-02],\n",
       "                        [ 5.9013e-02,  1.1625e-01, -1.4021e-02],\n",
       "                        [ 1.4929e-01,  7.9303e-02,  7.4853e-02]],\n",
       "              \n",
       "                       [[ 1.5609e-02,  7.1356e-02, -1.9158e-02],\n",
       "                        [ 1.3507e-02,  6.0800e-02,  1.1104e-01],\n",
       "                        [-1.2633e-01, -8.2494e-02, -1.0566e-01]],\n",
       "              \n",
       "                       [[ 7.3598e-02, -6.0029e-02,  4.2556e-02],\n",
       "                        [-9.4041e-03,  1.2036e-01,  1.4011e-01],\n",
       "                        [ 1.7991e-01,  1.4409e-01,  8.5668e-02]]],\n",
       "              \n",
       "              \n",
       "                      [[[-1.5265e-01, -1.6438e-01, -1.1658e-01],\n",
       "                        [-1.4916e-01, -2.6887e-01, -1.4274e-01],\n",
       "                        [-8.5553e-02, -1.1473e-01, -1.3214e-01]],\n",
       "              \n",
       "                       [[-1.0622e-01, -1.8586e-01, -5.5659e-02],\n",
       "                        [-9.4173e-03, -1.3051e-01, -1.5897e-01],\n",
       "                        [ 1.1690e-01, -6.3560e-03,  9.0620e-03]],\n",
       "              \n",
       "                       [[ 2.8669e-02, -1.0118e-01, -1.2753e-01],\n",
       "                        [-3.6529e-02, -5.4624e-02, -1.2787e-01],\n",
       "                        [ 3.7703e-02,  1.0082e-02, -1.2423e-01]]],\n",
       "              \n",
       "              \n",
       "                      [[[ 5.6750e-02,  1.7217e-01,  1.7571e-01],\n",
       "                        [-7.8230e-02, -1.2908e-01, -2.2006e-01],\n",
       "                        [ 1.4060e-01,  2.9417e-02, -1.2822e-01]],\n",
       "              \n",
       "                       [[ 1.5129e-02,  1.4608e-01,  2.1640e-01],\n",
       "                        [ 2.2602e-02, -1.4313e-01, -2.5687e-01],\n",
       "                        [-1.2475e-01, -2.3348e-01,  4.6393e-03]],\n",
       "              \n",
       "                       [[ 1.2763e-03,  2.5473e-01,  1.1757e-01],\n",
       "                        [ 1.7531e-02, -1.6318e-03, -1.5132e-01],\n",
       "                        [-3.6799e-02,  3.0058e-02, -4.7354e-02]]],\n",
       "              \n",
       "              \n",
       "                      [[[-7.3987e-02, -9.7820e-02,  1.4631e-02],\n",
       "                        [ 8.6786e-02,  6.9704e-02, -1.8626e-01],\n",
       "                        [-7.6709e-02,  2.3565e-02,  1.2338e-01]],\n",
       "              \n",
       "                       [[ 1.0524e-01,  1.5463e-01, -4.3556e-02],\n",
       "                        [ 1.6426e-01,  3.2778e-02, -8.3805e-02],\n",
       "                        [-1.7168e-02, -7.0975e-02,  1.4562e-01]],\n",
       "              \n",
       "                       [[-5.2038e-02, -7.9250e-02, -1.1684e-01],\n",
       "                        [-8.9334e-02, -2.9351e-02, -1.2632e-01],\n",
       "                        [-3.5010e-02, -3.8607e-02,  1.2940e-01]]],\n",
       "              \n",
       "              \n",
       "                      [[[-7.9477e-02, -9.4365e-02,  1.1007e-01],\n",
       "                        [-2.3200e-01,  3.5149e-02,  1.2162e-01],\n",
       "                        [-6.8766e-02,  1.4516e-01,  2.1200e-01]],\n",
       "              \n",
       "                       [[-3.9095e-02, -1.4555e-01,  1.3156e-01],\n",
       "                        [-2.4718e-01,  1.0479e-01,  5.2953e-02],\n",
       "                        [-3.6108e-02,  2.1708e-01,  6.2337e-02]],\n",
       "              \n",
       "                       [[-1.9697e-01, -1.3554e-01, -6.4688e-02],\n",
       "                        [-2.4424e-01,  9.2250e-02,  9.7282e-02],\n",
       "                        [-1.9433e-01,  1.2105e-01,  1.1236e-01]]],\n",
       "              \n",
       "              \n",
       "                      [[[-1.5656e-01, -2.0645e-01,  3.2308e-02],\n",
       "                        [-9.9986e-02,  1.4357e-01,  1.9523e-01],\n",
       "                        [ 1.1002e-01, -5.1678e-02, -3.4036e-02]],\n",
       "              \n",
       "                       [[-1.7960e-01, -9.9829e-02, -6.9749e-03],\n",
       "                        [ 4.4397e-02,  1.3895e-01,  1.5661e-01],\n",
       "                        [-6.2664e-02,  4.8140e-02,  1.1762e-01]],\n",
       "              \n",
       "                       [[-4.9343e-02, -1.3216e-01,  9.4477e-02],\n",
       "                        [-1.3649e-01, -5.5964e-02,  4.1907e-02],\n",
       "                        [ 1.0146e-01, -8.8523e-02, -5.1842e-03]]],\n",
       "              \n",
       "              \n",
       "                      [[[ 1.2359e-01,  9.2085e-02,  2.3517e-01],\n",
       "                        [ 8.8909e-02,  6.7750e-02, -7.4773e-03],\n",
       "                        [-1.2198e-01, -1.6683e-01, -2.3224e-01]],\n",
       "              \n",
       "                       [[-3.2552e-02,  2.6300e-02, -9.3412e-02],\n",
       "                        [-6.3102e-02,  8.0484e-02,  5.3557e-02],\n",
       "                        [-1.4377e-01,  3.2300e-02, -1.8892e-01]],\n",
       "              \n",
       "                       [[-8.5432e-02,  3.2353e-02,  9.7973e-02],\n",
       "                        [-1.9808e-02,  1.5668e-01,  1.2329e-01],\n",
       "                        [-2.7807e-02,  8.9206e-02, -9.9985e-02]]],\n",
       "              \n",
       "              \n",
       "                      [[[ 1.4885e-01,  6.2435e-02,  1.9574e-01],\n",
       "                        [ 1.0482e-01,  1.0866e-01,  1.5455e-01],\n",
       "                        [ 8.1201e-02,  2.3123e-01,  1.3334e-01]],\n",
       "              \n",
       "                       [[ 1.6270e-01,  5.6341e-02,  6.1559e-02],\n",
       "                        [ 5.5354e-02, -2.9994e-02, -4.1782e-02],\n",
       "                        [ 9.7857e-03,  4.1715e-02, -6.9324e-02]],\n",
       "              \n",
       "                       [[ 1.0758e-01,  2.0269e-01, -1.0595e-01],\n",
       "                        [ 4.4800e-02,  7.6351e-02,  2.2978e-02],\n",
       "                        [-6.6873e-02,  9.3305e-02,  4.9756e-02]]],\n",
       "              \n",
       "              \n",
       "                      [[[ 2.9214e-01, -4.4034e-03, -2.0962e-01],\n",
       "                        [ 3.0923e-01,  2.1650e-02, -2.3956e-01],\n",
       "                        [ 1.0045e-01,  7.5582e-02, -2.0457e-01]],\n",
       "              \n",
       "                       [[ 2.0143e-01,  4.5516e-03, -3.5695e-01],\n",
       "                        [ 2.0757e-01, -6.0722e-02, -1.7361e-01],\n",
       "                        [ 1.8527e-01, -1.2610e-02, -2.1713e-01]],\n",
       "              \n",
       "                       [[ 1.5333e-01,  1.4770e-03, -1.2246e-01],\n",
       "                        [ 1.8857e-01, -3.9993e-02, -2.0124e-01],\n",
       "                        [ 1.3835e-01,  1.3245e-02, -7.2954e-02]]],\n",
       "              \n",
       "              \n",
       "                      [[[ 1.0919e-01, -9.1323e-02, -1.8167e-01],\n",
       "                        [ 4.0697e-02,  2.8773e-02,  1.2890e-01],\n",
       "                        [-7.3491e-02,  1.2236e-01,  1.9119e-01]],\n",
       "              \n",
       "                       [[ 3.0594e-02, -1.5659e-01, -5.5792e-02],\n",
       "                        [ 1.1960e-01,  8.8248e-02, -5.6700e-02],\n",
       "                        [-1.0941e-01,  1.0681e-01,  1.1247e-01]],\n",
       "              \n",
       "                       [[ 1.1802e-01,  4.4124e-03, -1.3005e-01],\n",
       "                        [-1.1898e-01,  1.3985e-02,  4.3370e-02],\n",
       "                        [-9.9545e-02,  5.8411e-02,  8.1675e-02]]]])),\n",
       "             ('module.conv1.bias',\n",
       "              tensor([-0.0449, -0.0862, -0.2443, -0.0679, -0.1855,  0.0684, -0.1325, -0.0909,\n",
       "                      -0.2014,  0.2170,  0.0038,  0.1094, -0.2296,  0.0147,  0.1719,  0.2831,\n",
       "                      -0.0466, -0.2085,  0.0132,  0.1001,  0.0342,  0.2123,  0.1727,  0.0545,\n",
       "                       0.0101,  0.2672,  0.1632,  0.2850, -0.0951,  0.2039, -0.1517,  0.2855])),\n",
       "             ('module.conv2.weight',\n",
       "              tensor([[[[ 0.0456,  0.0042,  0.0675],\n",
       "                        [ 0.0814,  0.0385,  0.0427],\n",
       "                        [-0.0073,  0.0665,  0.0523]],\n",
       "              \n",
       "                       [[-0.0310, -0.0596, -0.0273],\n",
       "                        [-0.0260, -0.0283, -0.0218],\n",
       "                        [-0.0019, -0.0385, -0.0345]],\n",
       "              \n",
       "                       [[-0.0415, -0.0889, -0.1072],\n",
       "                        [ 0.0114,  0.0218,  0.0079],\n",
       "                        [-0.0139, -0.0134, -0.0331]],\n",
       "              \n",
       "                       ...,\n",
       "              \n",
       "                       [[-0.0036, -0.0803, -0.0425],\n",
       "                        [-0.0224, -0.0198, -0.0274],\n",
       "                        [ 0.0334,  0.0644,  0.0479]],\n",
       "              \n",
       "                       [[-0.0387, -0.0647, -0.0119],\n",
       "                        [-0.0153, -0.0598, -0.0485],\n",
       "                        [-0.0942,  0.0118,  0.0072]],\n",
       "              \n",
       "                       [[ 0.0707,  0.0690, -0.0030],\n",
       "                        [ 0.0577,  0.0902,  0.0621],\n",
       "                        [ 0.0896,  0.0612, -0.0141]]],\n",
       "              \n",
       "              \n",
       "                      [[[-0.0606, -0.0224, -0.0857],\n",
       "                        [-0.1212, -0.0334, -0.0446],\n",
       "                        [-0.0842, -0.0920, -0.0155]],\n",
       "              \n",
       "                       [[-0.0509, -0.0869, -0.0368],\n",
       "                        [-0.0052,  0.0496, -0.0009],\n",
       "                        [ 0.0267, -0.0077,  0.0594]],\n",
       "              \n",
       "                       [[ 0.0943,  0.0348,  0.0187],\n",
       "                        [ 0.0369, -0.0577,  0.0184],\n",
       "                        [ 0.0046, -0.0074, -0.0067]],\n",
       "              \n",
       "                       ...,\n",
       "              \n",
       "                       [[ 0.0322,  0.0038,  0.0638],\n",
       "                        [-0.0739, -0.0809, -0.0184],\n",
       "                        [-0.0322, -0.0057, -0.0650]],\n",
       "              \n",
       "                       [[-0.0037, -0.0146, -0.0354],\n",
       "                        [-0.0055, -0.0198,  0.0821],\n",
       "                        [ 0.0324, -0.0089,  0.0731]],\n",
       "              \n",
       "                       [[-0.0789, -0.0177, -0.0065],\n",
       "                        [ 0.0309, -0.0791,  0.0011],\n",
       "                        [-0.0492, -0.0134, -0.0786]]],\n",
       "              \n",
       "              \n",
       "                      [[[-0.0108, -0.0368,  0.0468],\n",
       "                        [-0.0320, -0.0271,  0.0364],\n",
       "                        [ 0.0067, -0.0755, -0.1497]],\n",
       "              \n",
       "                       [[-0.0157,  0.1230, -0.0452],\n",
       "                        [ 0.0124,  0.0300, -0.0991],\n",
       "                        [-0.0139, -0.0234,  0.0893]],\n",
       "              \n",
       "                       [[-0.0527,  0.0174,  0.0669],\n",
       "                        [ 0.0320,  0.0257, -0.0773],\n",
       "                        [-0.0155, -0.1041,  0.0111]],\n",
       "              \n",
       "                       ...,\n",
       "              \n",
       "                       [[-0.0184,  0.0506,  0.0393],\n",
       "                        [ 0.0366, -0.0182, -0.0166],\n",
       "                        [ 0.0375, -0.0014, -0.0734]],\n",
       "              \n",
       "                       [[-0.1496, -0.0682,  0.1475],\n",
       "                        [-0.0257,  0.0234,  0.0947],\n",
       "                        [ 0.1370,  0.0461, -0.1396]],\n",
       "              \n",
       "                       [[-0.0020,  0.0049, -0.0802],\n",
       "                        [ 0.0406, -0.0350,  0.0688],\n",
       "                        [ 0.0011,  0.0616,  0.0639]]],\n",
       "              \n",
       "              \n",
       "                      ...,\n",
       "              \n",
       "              \n",
       "                      [[[-0.0416, -0.0667, -0.0029],\n",
       "                        [-0.0509, -0.0517,  0.0358],\n",
       "                        [ 0.0111, -0.0551, -0.1140]],\n",
       "              \n",
       "                       [[ 0.0967,  0.0056, -0.0799],\n",
       "                        [ 0.0937,  0.0471,  0.0145],\n",
       "                        [-0.1086,  0.0228,  0.0981]],\n",
       "              \n",
       "                       [[-0.0413,  0.0606, -0.0286],\n",
       "                        [ 0.0788,  0.0575,  0.0309],\n",
       "                        [ 0.0221, -0.0042, -0.0369]],\n",
       "              \n",
       "                       ...,\n",
       "              \n",
       "                       [[-0.0055, -0.0081, -0.0480],\n",
       "                        [ 0.0023,  0.0505,  0.0137],\n",
       "                        [ 0.0104, -0.1238, -0.0468]],\n",
       "              \n",
       "                       [[-0.0485,  0.0525,  0.0557],\n",
       "                        [ 0.0013,  0.0641,  0.0292],\n",
       "                        [ 0.0604, -0.0281, -0.0355]],\n",
       "              \n",
       "                       [[ 0.0873,  0.0806,  0.0272],\n",
       "                        [-0.0093,  0.0899,  0.1183],\n",
       "                        [ 0.0692,  0.1022, -0.0013]]],\n",
       "              \n",
       "              \n",
       "                      [[[-0.1497, -0.0622, -0.0531],\n",
       "                        [-0.0631,  0.0224, -0.1167],\n",
       "                        [-0.1298, -0.0529, -0.0157]],\n",
       "              \n",
       "                       [[-0.0050, -0.0630, -0.0146],\n",
       "                        [ 0.0725,  0.0629, -0.0456],\n",
       "                        [ 0.0410, -0.0312,  0.0338]],\n",
       "              \n",
       "                       [[ 0.0594, -0.1073, -0.1380],\n",
       "                        [-0.1147, -0.0355, -0.0041],\n",
       "                        [-0.1475, -0.0829,  0.0093]],\n",
       "              \n",
       "                       ...,\n",
       "              \n",
       "                       [[-0.0104, -0.0119, -0.0079],\n",
       "                        [-0.0155,  0.0324,  0.0424],\n",
       "                        [ 0.0005,  0.0278,  0.0390]],\n",
       "              \n",
       "                       [[-0.0221, -0.1348, -0.1253],\n",
       "                        [ 0.0200, -0.0147, -0.1695],\n",
       "                        [-0.0126, -0.1086, -0.0586]],\n",
       "              \n",
       "                       [[ 0.0228, -0.0249,  0.0319],\n",
       "                        [ 0.0242,  0.0111,  0.0336],\n",
       "                        [ 0.0714,  0.0822,  0.0780]]],\n",
       "              \n",
       "              \n",
       "                      [[[-0.0047, -0.0633,  0.0390],\n",
       "                        [ 0.0195,  0.0320,  0.0200],\n",
       "                        [-0.0586, -0.0626,  0.0152]],\n",
       "              \n",
       "                       [[-0.0552,  0.0078, -0.0613],\n",
       "                        [ 0.0474,  0.0009,  0.0354],\n",
       "                        [-0.0256, -0.0088, -0.0499]],\n",
       "              \n",
       "                       [[-0.0011, -0.0113, -0.0491],\n",
       "                        [-0.0324, -0.0557, -0.0068],\n",
       "                        [-0.0389, -0.0306,  0.0307]],\n",
       "              \n",
       "                       ...,\n",
       "              \n",
       "                       [[ 0.0491, -0.0097, -0.0600],\n",
       "                        [-0.0489, -0.0207, -0.0044],\n",
       "                        [ 0.0222,  0.0100,  0.0342]],\n",
       "              \n",
       "                       [[ 0.0046,  0.0208, -0.0163],\n",
       "                        [ 0.0432,  0.0350, -0.0060],\n",
       "                        [ 0.0134, -0.0592, -0.0648]],\n",
       "              \n",
       "                       [[-0.0663, -0.0562,  0.0287],\n",
       "                        [-0.0114,  0.0441,  0.0088],\n",
       "                        [-0.0123,  0.0457,  0.0097]]]])),\n",
       "             ('module.conv2.bias',\n",
       "              tensor([ 0.1103, -0.0942,  0.0476,  0.0370, -0.0091, -0.1537, -0.0984, -0.1308,\n",
       "                      -0.1222,  0.0979, -0.1559, -0.0610, -0.2114, -0.1437,  0.0441,  0.1660,\n",
       "                      -0.0219, -0.0051, -0.0153, -0.0184,  0.0831, -0.1847, -0.0966, -0.0942,\n",
       "                      -0.0780, -0.1631, -0.0012, -0.1230, -0.0619, -0.0077,  0.1419,  0.0551,\n",
       "                      -0.0437,  0.0096, -0.1230,  0.1945, -0.0255,  0.0622,  0.0819, -0.1443,\n",
       "                       0.1551, -0.0423, -0.0657,  0.0007,  0.0264,  0.0373, -0.0731, -0.0819,\n",
       "                      -0.0872, -0.1869,  0.0696,  0.0207,  0.1087, -0.0239, -0.0584, -0.1014,\n",
       "                       0.0483,  0.2417, -0.0577,  0.0615,  0.0607, -0.0212,  0.0019,  0.0037])),\n",
       "             ('module.conv3.weight',\n",
       "              tensor([[[[ 2.0500e-02, -1.6915e-02, -3.8051e-02],\n",
       "                        [-7.6014e-02, -8.5702e-02, -4.8357e-02],\n",
       "                        [-2.8804e-02, -4.7287e-02, -7.9266e-02]],\n",
       "              \n",
       "                       [[-1.5173e-02, -6.4998e-02, -5.3850e-02],\n",
       "                        [-4.6891e-02, -9.0530e-03,  9.4608e-02],\n",
       "                        [-4.2516e-02, -7.7046e-02,  7.3060e-02]],\n",
       "              \n",
       "                       [[ 3.3012e-02,  3.2761e-02,  2.1826e-02],\n",
       "                        [-2.5724e-02,  1.1278e-02,  1.3350e-02],\n",
       "                        [-1.8892e-03,  4.8465e-03, -4.5439e-02]],\n",
       "              \n",
       "                       ...,\n",
       "              \n",
       "                       [[-6.5740e-03,  2.9429e-02,  4.6468e-02],\n",
       "                        [-9.0258e-03, -1.2400e-02,  1.5786e-03],\n",
       "                        [-1.1510e-01, -5.8582e-04, -5.5434e-02]],\n",
       "              \n",
       "                       [[-3.0569e-02, -2.2879e-02,  2.0961e-02],\n",
       "                        [-7.9570e-02, -6.2865e-02,  9.7040e-03],\n",
       "                        [-3.4914e-02,  6.8443e-03, -1.0941e-02]],\n",
       "              \n",
       "                       [[-1.2898e-02, -5.3133e-03, -3.4729e-02],\n",
       "                        [ 3.1174e-03, -2.3603e-02, -2.4622e-02],\n",
       "                        [ 6.5579e-03,  1.8991e-02, -4.2985e-02]]],\n",
       "              \n",
       "              \n",
       "                      [[[-1.4537e-02,  2.5635e-02, -2.8541e-03],\n",
       "                        [-1.7601e-03, -2.2711e-02,  3.1593e-02],\n",
       "                        [ 3.0239e-03,  2.3766e-04,  5.1148e-02]],\n",
       "              \n",
       "                       [[-5.3680e-02, -1.4451e-01, -2.4845e-02],\n",
       "                        [-8.6131e-02, -5.8473e-02, -5.6930e-02],\n",
       "                        [-4.8424e-02, -5.1398e-03,  8.3107e-02]],\n",
       "              \n",
       "                       [[-1.4292e-01, -2.6026e-02,  8.3803e-02],\n",
       "                        [-7.5423e-02,  2.0662e-02,  1.3541e-01],\n",
       "                        [ 7.9638e-02,  3.3930e-02,  5.7120e-02]],\n",
       "              \n",
       "                       ...,\n",
       "              \n",
       "                       [[-1.4759e-01, -1.2970e-01, -6.2129e-03],\n",
       "                        [-4.1002e-02, -2.3354e-02,  2.7810e-02],\n",
       "                        [ 7.2186e-02,  5.7322e-02,  5.6186e-02]],\n",
       "              \n",
       "                       [[ 5.5021e-02,  5.3927e-03, -4.4463e-03],\n",
       "                        [-2.8707e-02, -4.0085e-02,  1.4916e-02],\n",
       "                        [-6.3038e-02, -1.0615e-01,  2.8399e-02]],\n",
       "              \n",
       "                       [[ 4.1177e-02,  3.4279e-02, -3.0827e-02],\n",
       "                        [-7.7366e-03,  2.2744e-02, -2.7331e-02],\n",
       "                        [ 4.0710e-02, -7.6338e-03, -2.4983e-02]]],\n",
       "              \n",
       "              \n",
       "                      [[[ 2.7084e-02, -3.6125e-02,  2.0745e-02],\n",
       "                        [ 4.2510e-02,  2.2426e-02,  3.9857e-02],\n",
       "                        [ 2.5376e-02,  6.0134e-02,  7.5002e-02]],\n",
       "              \n",
       "                       [[ 2.1517e-02,  4.3285e-02,  3.1608e-03],\n",
       "                        [ 1.0670e-01, -1.1797e-02,  1.8413e-02],\n",
       "                        [ 1.8865e-02, -4.2671e-03, -2.3180e-03]],\n",
       "              \n",
       "                       [[ 6.2285e-02,  2.6933e-02, -7.2727e-02],\n",
       "                        [ 4.2427e-02,  4.1605e-02, -5.7222e-02],\n",
       "                        [-1.4658e-02,  8.7480e-03, -5.5537e-02]],\n",
       "              \n",
       "                       ...,\n",
       "              \n",
       "                       [[ 4.2542e-02,  1.2627e-02,  4.4545e-02],\n",
       "                        [ 2.1245e-02, -2.9854e-02,  2.9580e-02],\n",
       "                        [-1.7969e-03,  2.5245e-03,  9.0344e-03]],\n",
       "              \n",
       "                       [[ 3.9939e-02,  1.5834e-03,  9.5583e-02],\n",
       "                        [ 6.3422e-03,  1.0911e-02,  1.3303e-01],\n",
       "                        [ 4.0081e-02,  2.8494e-02,  4.6050e-02]],\n",
       "              \n",
       "                       [[-8.4820e-03,  3.5494e-02, -4.2049e-02],\n",
       "                        [-1.2310e-02, -7.5128e-03,  3.5004e-02],\n",
       "                        [ 2.3054e-02,  1.2382e-03, -2.3184e-02]]],\n",
       "              \n",
       "              \n",
       "                      ...,\n",
       "              \n",
       "              \n",
       "                      [[[-6.6747e-03, -1.9616e-02, -4.1985e-02],\n",
       "                        [-5.5730e-02, -4.6253e-02, -2.4669e-02],\n",
       "                        [-3.0415e-03, -3.6231e-02, -2.8206e-02]],\n",
       "              \n",
       "                       [[-2.2984e-02, -4.4674e-04, -6.0340e-02],\n",
       "                        [-8.5298e-04, -5.0397e-02, -3.6912e-02],\n",
       "                        [-3.4016e-02, -1.4139e-02, -9.5084e-04]],\n",
       "              \n",
       "                       [[ 1.1910e-02, -6.2701e-03,  1.7505e-02],\n",
       "                        [-3.1460e-02,  1.9865e-02, -2.6180e-02],\n",
       "                        [-3.4269e-02,  4.1824e-03, -3.8869e-02]],\n",
       "              \n",
       "                       ...,\n",
       "              \n",
       "                       [[-1.0352e-02,  4.0563e-03, -1.5957e-03],\n",
       "                        [-1.9141e-02, -6.0014e-03, -1.5229e-02],\n",
       "                        [-2.3535e-02, -1.9184e-02, -4.2531e-02]],\n",
       "              \n",
       "                       [[ 4.6059e-02,  3.2124e-02, -3.3601e-02],\n",
       "                        [ 3.4014e-02,  6.1955e-03, -4.4626e-02],\n",
       "                        [-5.2524e-03, -1.2462e-02, -3.7372e-02]],\n",
       "              \n",
       "                       [[ 3.1942e-02,  2.1109e-02, -1.4460e-02],\n",
       "                        [ 4.4905e-03,  4.8226e-03,  3.4502e-02],\n",
       "                        [ 4.4653e-03, -1.6486e-02, -1.2178e-02]]],\n",
       "              \n",
       "              \n",
       "                      [[[-2.8988e-03,  6.4831e-02,  6.0557e-02],\n",
       "                        [ 3.9980e-02,  7.6268e-02,  8.6997e-02],\n",
       "                        [-1.5590e-03,  2.2442e-02,  3.6555e-02]],\n",
       "              \n",
       "                       [[ 6.4814e-02,  1.6266e-02,  8.0796e-02],\n",
       "                        [ 1.2900e-01,  3.0014e-02, -3.5687e-03],\n",
       "                        [-7.6526e-02, -8.5914e-03,  9.1067e-03]],\n",
       "              \n",
       "                       [[-6.7706e-02, -5.3413e-02, -5.8216e-03],\n",
       "                        [-7.3044e-02,  8.5760e-04,  9.2111e-02],\n",
       "                        [ 6.9306e-02,  1.0844e-01,  1.2195e-01]],\n",
       "              \n",
       "                       ...,\n",
       "              \n",
       "                       [[-1.9399e-02, -6.1624e-02, -5.6421e-02],\n",
       "                        [ 2.7094e-02, -8.3043e-02, -3.3400e-02],\n",
       "                        [ 7.0899e-02,  6.2563e-02,  6.7307e-02]],\n",
       "              \n",
       "                       [[-2.8491e-02,  1.4689e-02, -1.2954e-02],\n",
       "                        [-1.8845e-02,  1.4368e-03,  5.2888e-02],\n",
       "                        [-4.0396e-02, -5.2759e-02, -8.8106e-02]],\n",
       "              \n",
       "                       [[-1.9629e-03, -7.2613e-04, -2.1431e-03],\n",
       "                        [ 4.2055e-02,  2.5980e-02,  2.8411e-02],\n",
       "                        [ 9.9966e-03, -2.3541e-02, -3.3293e-02]]],\n",
       "              \n",
       "              \n",
       "                      [[[-7.6386e-02, -4.0335e-03,  6.9453e-02],\n",
       "                        [-4.4508e-02, -3.6452e-02, -1.8684e-02],\n",
       "                        [ 1.4197e-02, -3.1830e-03,  5.4958e-03]],\n",
       "              \n",
       "                       [[ 1.3667e-02,  5.2880e-02, -4.2951e-02],\n",
       "                        [ 1.8682e-02, -7.3551e-02, -3.2377e-02],\n",
       "                        [-7.9081e-02, -3.4305e-02, -8.1563e-02]],\n",
       "              \n",
       "                       [[ 8.0625e-03,  2.3012e-02, -3.2750e-02],\n",
       "                        [ 3.1613e-02, -1.0643e-03,  4.4470e-02],\n",
       "                        [-4.5067e-02, -4.5799e-02,  4.1030e-02]],\n",
       "              \n",
       "                       ...,\n",
       "              \n",
       "                       [[ 1.9266e-02,  2.9381e-02,  7.5798e-03],\n",
       "                        [-4.2526e-02, -5.3433e-02, -1.2183e-04],\n",
       "                        [-7.2928e-02, -1.4780e-02,  4.1946e-02]],\n",
       "              \n",
       "                       [[-3.2928e-02,  7.7209e-02,  3.4859e-02],\n",
       "                        [ 2.2810e-02,  1.3709e-02,  1.3228e-02],\n",
       "                        [-2.9251e-02,  3.9002e-03, -1.9544e-03]],\n",
       "              \n",
       "                       [[-2.0963e-02, -1.2238e-02, -4.2838e-02],\n",
       "                        [-1.6380e-02, -2.8165e-02, -9.0964e-03],\n",
       "                        [-1.9438e-02,  3.6173e-02,  3.9480e-02]]]])),\n",
       "             ('module.conv3.bias',\n",
       "              tensor([ 0.0202,  0.0274,  0.0993, -0.0516, -0.1407,  0.2261,  0.1334,  0.0734,\n",
       "                      -0.0222,  0.0018,  0.2319, -0.0796,  0.1830,  0.1190, -0.0166,  0.0101,\n",
       "                       0.2294, -0.1259,  0.0193,  0.0043,  0.0863, -0.0542, -0.0240,  0.2242,\n",
       "                      -0.0471, -0.0040,  0.1002,  0.1387,  0.0653, -0.1298, -0.0456, -0.0093,\n",
       "                       0.0086,  0.1923, -0.0291,  0.0117, -0.0442,  0.1186, -0.0523, -0.1334,\n",
       "                       0.0225, -0.1166,  0.1334, -0.0233,  0.0272, -0.0259, -0.1217, -0.0471,\n",
       "                      -0.0267,  0.0430,  0.1966, -0.0491,  0.0330,  0.2236, -0.1213, -0.0850,\n",
       "                       0.0210,  0.1180, -0.1154, -0.0279,  0.0429, -0.0166,  0.0609,  0.0980])),\n",
       "             ('module.fc1.weight',\n",
       "              tensor([[-0.0308,  0.0241,  0.0672,  ...,  0.0786,  0.0152,  0.0152],\n",
       "                      [ 0.0262,  0.0119, -0.0031,  ...,  0.0228,  0.0504,  0.0221],\n",
       "                      [ 0.0207,  0.0488,  0.0373,  ..., -0.0331,  0.0506,  0.0843],\n",
       "                      ...,\n",
       "                      [ 0.0106,  0.0045,  0.0041,  ..., -0.0363, -0.0413, -0.0310],\n",
       "                      [ 0.0395,  0.0320,  0.0461,  ..., -0.0275, -0.0287,  0.0504],\n",
       "                      [-0.0099, -0.0128, -0.0052,  ..., -0.0251,  0.0066,  0.0263]])),\n",
       "             ('module.fc1.bias',\n",
       "              tensor([ 0.0754, -0.0403,  0.0833,  0.1299, -0.0336,  0.0104, -0.0177,  0.0773,\n",
       "                       0.0152,  0.1383,  0.0446, -0.0054, -0.0362,  0.0215,  0.0159, -0.0280,\n",
       "                       0.1254,  0.0357, -0.0349,  0.1783,  0.0278, -0.0085, -0.0100,  0.0050,\n",
       "                      -0.0401,  0.0897, -0.0747,  0.0073, -0.1005, -0.0306,  0.0935,  0.0168,\n",
       "                      -0.1095,  0.0417, -0.0114,  0.0040, -0.0027, -0.0125,  0.0065, -0.0624,\n",
       "                      -0.0082,  0.0769, -0.0532,  0.0179, -0.0231,  0.0278,  0.0457, -0.1194,\n",
       "                      -0.0351, -0.0155, -0.0218,  0.1741, -0.0252, -0.1075, -0.0037, -0.0047,\n",
       "                      -0.0216,  0.0059,  0.1020,  0.0933, -0.0110, -0.0125, -0.1066, -0.0191])),\n",
       "             ('module.fc2.weight',\n",
       "              tensor([[ 3.2340e-02, -2.6723e-02,  1.8494e-02, -1.7842e-01,  7.3625e-02,\n",
       "                        8.6040e-03, -2.2423e-01, -1.9911e-01, -9.0866e-02, -1.5536e-02,\n",
       "                        1.3517e-01, -1.1617e-01, -7.6870e-02,  9.3884e-02,  1.1297e-01,\n",
       "                       -6.8388e-02, -5.7410e-02,  8.5060e-02, -9.2451e-02,  1.9075e-02,\n",
       "                       -1.7231e-01, -3.5234e-02,  4.3601e-02, -1.3369e-01,  8.9588e-03,\n",
       "                       -3.1177e-02,  4.4912e-02, -1.5470e-02, -6.6575e-02, -9.6751e-02,\n",
       "                        1.3869e-01,  1.8340e-01, -2.6218e-01,  2.7621e-02, -1.5077e-03,\n",
       "                       -2.4917e-02, -1.1793e-01,  8.6049e-02, -1.6211e-02,  7.3496e-02,\n",
       "                       -8.4417e-02, -7.4960e-03,  1.4173e-01,  7.6938e-03,  7.6058e-02,\n",
       "                       -3.8232e-03,  9.2271e-02,  1.3132e-01,  8.1477e-02,  9.7275e-02,\n",
       "                        2.9422e-02,  9.1042e-02,  2.3254e-01,  7.9943e-03, -7.3788e-02,\n",
       "                       -3.7866e-04, -9.8800e-03, -2.2418e-02, -2.1916e-01,  8.6829e-02,\n",
       "                       -9.9865e-02,  4.5615e-02,  1.0795e-03, -1.0466e-01],\n",
       "                      [-2.3026e-01,  1.5842e-01,  2.7395e-02, -1.8899e-01, -7.2096e-02,\n",
       "                       -2.6180e-01,  8.5595e-02,  9.9465e-02, -2.0766e-03,  2.6306e-02,\n",
       "                        2.8661e-02, -1.0734e-01, -4.4991e-02, -9.6735e-02,  7.3875e-02,\n",
       "                       -5.9553e-02, -1.2078e-01, -1.2325e-01, -1.2493e-01, -2.8086e-01,\n",
       "                       -9.1090e-02, -6.6277e-02,  6.9042e-02,  3.8671e-02,  6.0146e-03,\n",
       "                        3.0250e-02, -3.0333e-02,  9.5194e-02,  6.7805e-02,  1.9231e-02,\n",
       "                        5.7506e-02,  2.7676e-03,  1.6797e-01,  4.0090e-02,  1.0868e-01,\n",
       "                        9.8732e-02, -7.7071e-02, -7.4970e-02,  1.3361e-01,  1.0186e-01,\n",
       "                       -5.6943e-02,  9.9617e-02,  4.6907e-02, -1.4607e-01, -1.1894e-01,\n",
       "                        6.0784e-02,  3.1082e-02,  1.1415e-01, -2.6058e-02, -9.0175e-02,\n",
       "                       -2.0260e-01, -1.5154e-01,  8.6179e-02,  1.5511e-01, -7.0034e-02,\n",
       "                       -4.5765e-02,  1.6287e-01, -5.2926e-02, -1.1968e-01, -2.7849e-01,\n",
       "                       -4.0561e-03,  1.2372e-02,  9.0484e-04, -1.1732e-01],\n",
       "                      [-9.7601e-02, -1.2234e-01,  7.9271e-02, -5.3833e-02,  1.8128e-02,\n",
       "                        2.4913e-02,  5.4818e-02,  7.9781e-02, -6.8988e-02,  1.1902e-01,\n",
       "                        5.8333e-02, -7.3880e-02, -6.2486e-02, -5.5679e-02, -2.1012e-01,\n",
       "                       -1.2198e-01,  1.3489e-01, -8.9635e-02, -4.1499e-02,  1.3738e-01,\n",
       "                        5.2274e-03,  1.0588e-01,  4.3336e-02, -8.9908e-02,  9.2028e-03,\n",
       "                        2.0465e-01, -1.2674e-01, -1.2988e-01,  1.4637e-02, -1.0367e-03,\n",
       "                        6.8310e-02,  3.0097e-02,  9.0090e-02,  6.5165e-02, -2.4447e-01,\n",
       "                        2.5977e-02, -6.8747e-03, -7.6272e-02,  1.2269e-01,  7.8864e-02,\n",
       "                       -6.0378e-02,  9.4052e-02,  1.1528e-01, -8.5788e-02, -2.8312e-03,\n",
       "                        1.1541e-01,  9.1930e-02, -7.1231e-02, -1.0519e-01, -5.6576e-02,\n",
       "                        9.0397e-02, -5.0755e-02, -1.2525e-01,  8.4132e-02,  5.6227e-02,\n",
       "                        1.1216e-01, -2.3163e-01,  3.8505e-02, -2.8046e-02,  6.0297e-02,\n",
       "                        1.1224e-02, -3.6712e-02, -1.9131e-01,  1.0434e-01],\n",
       "                      [ 7.4661e-02,  1.0167e-01, -7.0319e-02, -1.5701e-02, -5.5395e-02,\n",
       "                       -8.0238e-03,  1.2044e-01,  1.5151e-02,  1.0211e-01,  3.7914e-02,\n",
       "                        6.9545e-02,  1.1538e-01, -1.6901e-02, -3.1392e-02, -9.4164e-03,\n",
       "                       -1.1797e-01, -1.6610e-03, -1.7365e-01, -1.1883e-01, -1.6462e-01,\n",
       "                        1.2572e-01, -3.9235e-03,  2.1685e-02, -9.7445e-02,  5.1427e-02,\n",
       "                        8.5897e-02,  5.8867e-02,  7.1967e-02,  7.4770e-02,  1.1249e-01,\n",
       "                       -1.5243e-01,  7.2941e-02, -1.1455e-01,  2.3695e-02, -6.4641e-02,\n",
       "                       -6.4059e-02,  8.0867e-02,  2.3594e-02,  1.6140e-02,  4.1315e-02,\n",
       "                       -2.9118e-02, -1.9614e-01,  1.6561e-02,  1.3781e-01, -1.2169e-01,\n",
       "                        8.3551e-02,  1.4664e-01, -5.9424e-02, -6.2265e-02, -9.7691e-02,\n",
       "                       -8.0353e-02,  7.5960e-02,  4.6057e-02,  3.8246e-02, -3.0801e-02,\n",
       "                       -6.3686e-02, -1.5122e-01,  6.3694e-02, -1.3555e-01,  1.3122e-01,\n",
       "                       -6.0418e-02, -1.1233e-01, -1.0360e-01,  1.8329e-02],\n",
       "                      [ 3.8659e-02,  3.2663e-02,  1.3028e-01,  8.3293e-02,  7.9354e-02,\n",
       "                       -6.9980e-02, -1.4298e-01,  5.3019e-02, -7.9460e-02,  7.8152e-02,\n",
       "                       -2.5682e-02, -3.6031e-02,  2.1337e-02, -6.1549e-02,  7.2434e-02,\n",
       "                       -5.6567e-02,  8.9648e-02, -1.1910e-02, -5.9195e-02,  5.2714e-02,\n",
       "                       -5.6135e-02, -8.2927e-03, -6.4897e-02,  9.8378e-02,  4.7614e-02,\n",
       "                       -4.2658e-03, -1.1280e-01,  7.3880e-02, -2.7189e-01, -1.9026e-02,\n",
       "                        3.7436e-02, -6.4436e-02, -2.0207e-01, -6.1102e-02,  1.6835e-01,\n",
       "                        6.5300e-02, -7.5564e-03, -1.2137e-01, -7.0922e-02,  1.2814e-01,\n",
       "                       -4.5968e-02,  1.5330e-01,  6.4713e-02, -1.6469e-01, -7.6254e-02,\n",
       "                       -5.6546e-02, -8.7021e-02, -1.0370e-01, -7.7986e-02,  1.1482e-01,\n",
       "                       -9.8407e-02,  1.5826e-01,  2.4810e-02, -4.5628e-02, -1.2309e-02,\n",
       "                       -1.8018e-02, -1.3490e-01, -1.2030e-01,  1.3632e-01,  4.3812e-02,\n",
       "                        6.0382e-03, -5.0689e-02, -1.5025e-01,  3.3140e-02],\n",
       "                      [ 1.6264e-01,  1.1796e-01, -4.4780e-02,  2.3342e-02,  6.8606e-02,\n",
       "                       -2.8568e-03,  9.5364e-02,  6.8486e-03, -9.3646e-02, -1.0956e-01,\n",
       "                       -1.3721e-01,  3.0318e-02, -9.8522e-02,  8.9187e-02, -8.6238e-02,\n",
       "                        1.1171e-01,  1.2274e-01, -1.5597e-01,  8.5583e-02, -1.4909e-01,\n",
       "                       -9.7840e-02, -7.8915e-02, -6.0885e-02, -9.7007e-02,  2.9158e-03,\n",
       "                        8.0465e-02, -1.9120e-02, -3.7977e-02,  1.6638e-01, -4.9951e-02,\n",
       "                        2.2403e-01,  7.2388e-02, -1.0826e-01, -1.5548e-01,  5.5715e-02,\n",
       "                       -1.2073e-01, -1.2042e-01, -8.0445e-02, -1.3936e-02,  6.1205e-02,\n",
       "                        2.3188e-02,  1.0402e-02, -5.8924e-02,  6.0340e-02,  6.0724e-03,\n",
       "                       -4.3696e-02, -2.7211e-01, -1.0808e-01,  1.1491e-01,  1.0375e-04,\n",
       "                        9.6877e-02,  4.5023e-02, -1.0886e-01, -6.5869e-02, -2.2060e-02,\n",
       "                        9.2840e-03,  1.3978e-01, -1.6517e-02, -7.2404e-02,  5.1189e-02,\n",
       "                        1.0917e-01,  8.1039e-02, -6.1445e-02, -4.8193e-02],\n",
       "                      [ 1.1974e-01,  5.4409e-02, -2.2061e-01, -1.0636e-01,  6.3327e-04,\n",
       "                        9.5312e-02,  1.2970e-02,  8.0208e-02, -6.9785e-03,  3.8824e-02,\n",
       "                       -3.5740e-02, -8.7669e-02,  1.0613e-01, -1.0944e-01, -9.9512e-02,\n",
       "                       -8.1024e-02, -2.4232e-02,  5.0425e-02,  4.3080e-02, -9.0658e-03,\n",
       "                        1.5138e-01, -1.3272e-01,  2.1099e-02, -2.9975e-01, -1.0753e-02,\n",
       "                        1.3116e-01, -1.7076e-01,  1.3531e-01, -3.3479e-02, -4.4012e-03,\n",
       "                       -8.1338e-02,  1.1634e-01,  7.5485e-02, -1.4401e-02, -1.1087e-01,\n",
       "                        8.8640e-02, -1.1477e-01, -8.3111e-02, -2.3666e-01, -1.5649e-01,\n",
       "                       -3.3568e-02,  7.5054e-02, -1.3098e-01, -1.2995e-01, -8.2353e-02,\n",
       "                        9.2346e-02, -2.4589e-02,  1.3933e-01,  8.5159e-02, -4.2552e-02,\n",
       "                       -1.2459e-01, -7.9735e-02,  2.1117e-01,  3.9563e-02, -6.8088e-03,\n",
       "                       -3.0609e-02, -1.1051e-01, -2.4977e-02,  1.5594e-01, -3.9151e-02,\n",
       "                       -1.0622e-01,  1.0291e-01, -1.5152e-02, -8.1504e-02],\n",
       "                      [ 1.0439e-02, -1.5954e-01,  7.8718e-02,  3.9336e-02, -5.9547e-02,\n",
       "                        6.0589e-03,  1.6813e-02, -7.4052e-03, -2.7330e-02, -2.0536e-01,\n",
       "                       -1.7796e-01,  7.9420e-02,  6.1415e-02, -1.0841e-01,  2.7705e-01,\n",
       "                       -1.1554e-01, -6.6687e-02,  2.3854e-01,  7.3375e-03, -1.0994e-01,\n",
       "                        8.1634e-02,  4.4056e-02, -1.0407e-01,  1.7955e-01, -4.9059e-02,\n",
       "                       -2.1562e-01,  4.8930e-02,  3.0996e-02,  1.2065e-01, -6.5135e-04,\n",
       "                       -1.0957e-01,  9.3993e-02,  2.1042e-02, -8.0841e-02, -3.8978e-02,\n",
       "                        5.9006e-03,  2.2999e-02,  9.5348e-02,  9.2509e-02,  1.5768e-01,\n",
       "                        1.1501e-01, -1.3027e-01, -1.7632e-01, -6.0535e-04, -1.0203e-01,\n",
       "                       -1.6756e-01, -2.1244e-02,  1.0580e-01, -2.1191e-01, -1.3217e-01,\n",
       "                        9.1170e-02, -6.1908e-02, -2.1251e-01,  6.1528e-02,  1.9574e-02,\n",
       "                       -4.6415e-02,  1.5686e-02, -8.4904e-02,  1.4043e-01,  7.5647e-03,\n",
       "                       -3.3882e-02,  3.7323e-02, -3.7474e-02, -3.1485e-02],\n",
       "                      [ 2.2604e-01,  5.5037e-02,  1.1218e-01, -1.2607e-01,  6.9015e-02,\n",
       "                       -2.0905e-01, -6.0979e-02, -1.8007e-01,  8.0788e-02,  1.3205e-01,\n",
       "                        1.3396e-01,  1.1369e-01,  2.3974e-03, -7.6625e-02, -1.1454e-01,\n",
       "                       -4.2753e-02, -1.1897e-01,  1.1272e-01, -3.0785e-02,  3.5410e-02,\n",
       "                        3.2613e-02,  8.6760e-03, -4.5512e-02,  1.1322e-01, -8.7134e-02,\n",
       "                       -5.7007e-03,  7.3105e-03, -2.1377e-01,  5.7016e-02,  9.2718e-02,\n",
       "                        5.1064e-02,  1.4144e-01, -1.2047e-01,  2.0055e-01, -2.1269e-02,\n",
       "                       -5.3529e-03,  6.4513e-02, -1.2053e-01,  9.7312e-02, -2.0501e-01,\n",
       "                        1.5638e-02,  3.8678e-02, -3.5672e-02,  1.8683e-01,  3.8616e-02,\n",
       "                       -7.4749e-02,  5.9106e-02, -1.6570e-03,  3.7890e-02,  7.3548e-02,\n",
       "                        4.7123e-03, -3.0455e-02, -1.3035e-01, -1.1387e-01, -2.1204e-03,\n",
       "                        1.1311e-01,  8.1178e-02, -1.0143e-01, -9.3194e-02, -4.6866e-02,\n",
       "                        4.4987e-02,  1.0458e-01,  1.7102e-02,  8.2102e-02],\n",
       "                      [-1.1540e-01,  5.2203e-02,  8.2057e-02, -7.2845e-02,  6.5891e-02,\n",
       "                       -1.5635e-01, -4.8767e-02, -1.7187e-01,  5.7476e-02,  8.6209e-02,\n",
       "                       -5.9398e-02,  4.0457e-02,  5.9661e-02, -1.2718e-01, -2.3740e-01,\n",
       "                       -2.7761e-03,  3.2353e-02, -1.3940e-01, -5.7746e-02, -1.8146e-01,\n",
       "                       -9.5561e-02, -1.0569e-01,  2.7775e-02,  9.4781e-02,  9.1003e-03,\n",
       "                       -2.4332e-01,  1.4798e-01,  2.0857e-02,  3.0605e-02, -7.8196e-03,\n",
       "                       -1.3071e-01, -1.0190e-01,  7.9421e-02,  1.0041e-01, -1.2460e-01,\n",
       "                        7.2078e-03,  7.5499e-02,  8.8520e-02, -1.8665e-01,  1.2448e-01,\n",
       "                        8.4001e-02, -3.0424e-02,  1.3541e-01,  5.5557e-02, -5.1010e-02,\n",
       "                        1.8717e-03, -2.1402e-01,  7.0376e-02,  1.1907e-01, -1.7776e-02,\n",
       "                       -9.3571e-02, -2.6692e-01, -1.8596e-01,  1.5269e-01, -9.0571e-02,\n",
       "                       -7.1927e-02, -1.0489e-01,  1.1927e-01,  6.5985e-02, -1.1739e-02,\n",
       "                        3.8638e-02,  6.1772e-02,  1.6877e-01,  7.1124e-02]])),\n",
       "             ('module.fc2.bias',\n",
       "              tensor([ 0.0211, -0.1730,  0.1380,  0.0410,  0.0905,  0.0857,  0.0785, -0.0280,\n",
       "                       0.1013, -0.0400]))])"
      ]
     },
     "execution_count": 3,
     "metadata": {},
     "output_type": "execute_result"
    }
   ],
   "source": [
    "model.state_dict()"
   ]
  },
  {
   "cell_type": "code",
   "execution_count": null,
   "metadata": {},
   "outputs": [],
   "source": []
  }
 ],
 "metadata": {
  "kernelspec": {
   "display_name": "fledge",
   "language": "python",
   "name": "fledge"
  },
  "language_info": {
   "codemirror_mode": {
    "name": "ipython",
    "version": 3
   },
   "file_extension": ".py",
   "mimetype": "text/x-python",
   "name": "python",
   "nbconvert_exporter": "python",
   "pygments_lexer": "ipython3",
   "version": "3.6.9"
  }
 },
 "nbformat": 4,
 "nbformat_minor": 4
}
