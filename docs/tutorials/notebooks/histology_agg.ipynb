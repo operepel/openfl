{
 "cells": [
  {
   "cell_type": "code",
   "execution_count": 1,
   "metadata": {},
   "outputs": [
    {
     "name": "stdout",
     "output_type": "stream",
     "text": [
      "Processing /home/itrushkin/repos/fledge\n",
      "Requirement already satisfied: Click>=7.0 in /home/itrushkin/.virtualenvs/fledge/lib/python3.6/site-packages (from fledge==0.1) (7.1.2)\n",
      "Requirement already satisfied: PyYAML in /home/itrushkin/.virtualenvs/fledge/lib/python3.6/site-packages (from fledge==0.1) (5.3.1)\n",
      "Requirement already satisfied: numpy in /home/itrushkin/.virtualenvs/fledge/lib/python3.6/site-packages (from fledge==0.1) (1.19.2)\n",
      "Requirement already satisfied: pandas in /home/itrushkin/.virtualenvs/fledge/lib/python3.6/site-packages (from fledge==0.1) (1.1.2)\n",
      "Requirement already satisfied: protobuf in /home/itrushkin/.virtualenvs/fledge/lib/python3.6/site-packages (from fledge==0.1) (3.13.0)\n",
      "Requirement already satisfied: grpcio in /home/itrushkin/.virtualenvs/fledge/lib/python3.6/site-packages (from fledge==0.1) (1.32.0)\n",
      "Requirement already satisfied: rich in /home/itrushkin/.virtualenvs/fledge/lib/python3.6/site-packages (from fledge==0.1) (7.0.0)\n",
      "Requirement already satisfied: tqdm in /home/itrushkin/.virtualenvs/fledge/lib/python3.6/site-packages (from fledge==0.1) (4.49.0)\n",
      "Requirement already satisfied: scikit-learn in /home/itrushkin/.virtualenvs/fledge/lib/python3.6/site-packages (from fledge==0.1) (0.23.2)\n",
      "Requirement already satisfied: tensorflow==1.15 in /home/itrushkin/.virtualenvs/fledge/lib/python3.6/site-packages (from fledge==0.1) (1.15.0)\n",
      "Requirement already satisfied: torch>=1.2.0 in /home/itrushkin/.virtualenvs/fledge/lib/python3.6/site-packages (from fledge==0.1) (1.6.0)\n",
      "Requirement already satisfied: pytz>=2017.2 in /home/itrushkin/.virtualenvs/fledge/lib/python3.6/site-packages (from pandas->fledge==0.1) (2020.1)\n",
      "Requirement already satisfied: python-dateutil>=2.7.3 in /home/itrushkin/.virtualenvs/fledge/lib/python3.6/site-packages (from pandas->fledge==0.1) (2.8.1)\n",
      "Requirement already satisfied: setuptools in /home/itrushkin/.virtualenvs/fledge/lib/python3.6/site-packages (from protobuf->fledge==0.1) (50.3.0)\n",
      "Requirement already satisfied: six>=1.9 in /home/itrushkin/.virtualenvs/fledge/lib/python3.6/site-packages (from protobuf->fledge==0.1) (1.15.0)\n",
      "Requirement already satisfied: dataclasses<0.8,>=0.7; python_version >= \"3.6\" and python_version < \"3.7\" in /home/itrushkin/.virtualenvs/fledge/lib/python3.6/site-packages (from rich->fledge==0.1) (0.7)\n",
      "Requirement already satisfied: commonmark<0.10.0,>=0.9.0 in /home/itrushkin/.virtualenvs/fledge/lib/python3.6/site-packages (from rich->fledge==0.1) (0.9.1)\n",
      "Requirement already satisfied: pygments<3.0.0,>=2.6.0 in /home/itrushkin/.virtualenvs/fledge/lib/python3.6/site-packages (from rich->fledge==0.1) (2.7.1)\n",
      "Requirement already satisfied: colorama<0.5.0,>=0.4.0 in /home/itrushkin/.virtualenvs/fledge/lib/python3.6/site-packages (from rich->fledge==0.1) (0.4.3)\n",
      "Requirement already satisfied: typing-extensions<4.0.0,>=3.7.4 in /home/itrushkin/.virtualenvs/fledge/lib/python3.6/site-packages (from rich->fledge==0.1) (3.7.4.3)\n",
      "Requirement already satisfied: scipy>=0.19.1 in /home/itrushkin/.virtualenvs/fledge/lib/python3.6/site-packages (from scikit-learn->fledge==0.1) (1.5.2)\n",
      "Requirement already satisfied: joblib>=0.11 in /home/itrushkin/.virtualenvs/fledge/lib/python3.6/site-packages (from scikit-learn->fledge==0.1) (0.16.0)\n",
      "Requirement already satisfied: threadpoolctl>=2.0.0 in /home/itrushkin/.virtualenvs/fledge/lib/python3.6/site-packages (from scikit-learn->fledge==0.1) (2.1.0)\n",
      "Requirement already satisfied: astor>=0.6.0 in /home/itrushkin/.virtualenvs/fledge/lib/python3.6/site-packages (from tensorflow==1.15->fledge==0.1) (0.8.1)\n",
      "Requirement already satisfied: tensorboard<1.16.0,>=1.15.0 in /home/itrushkin/.virtualenvs/fledge/lib/python3.6/site-packages (from tensorflow==1.15->fledge==0.1) (1.15.0)\n",
      "Requirement already satisfied: absl-py>=0.7.0 in /home/itrushkin/.virtualenvs/fledge/lib/python3.6/site-packages (from tensorflow==1.15->fledge==0.1) (0.10.0)\n",
      "Requirement already satisfied: gast==0.2.2 in /home/itrushkin/.virtualenvs/fledge/lib/python3.6/site-packages (from tensorflow==1.15->fledge==0.1) (0.2.2)\n",
      "Requirement already satisfied: opt-einsum>=2.3.2 in /home/itrushkin/.virtualenvs/fledge/lib/python3.6/site-packages (from tensorflow==1.15->fledge==0.1) (3.3.0)\n",
      "Requirement already satisfied: wheel>=0.26 in /home/itrushkin/.virtualenvs/fledge/lib/python3.6/site-packages (from tensorflow==1.15->fledge==0.1) (0.35.1)\n",
      "Requirement already satisfied: google-pasta>=0.1.6 in /home/itrushkin/.virtualenvs/fledge/lib/python3.6/site-packages (from tensorflow==1.15->fledge==0.1) (0.2.0)\n",
      "Requirement already satisfied: tensorflow-estimator==1.15.1 in /home/itrushkin/.virtualenvs/fledge/lib/python3.6/site-packages (from tensorflow==1.15->fledge==0.1) (1.15.1)\n",
      "Requirement already satisfied: keras-preprocessing>=1.0.5 in /home/itrushkin/.virtualenvs/fledge/lib/python3.6/site-packages (from tensorflow==1.15->fledge==0.1) (1.1.2)\n",
      "Requirement already satisfied: termcolor>=1.1.0 in /home/itrushkin/.virtualenvs/fledge/lib/python3.6/site-packages (from tensorflow==1.15->fledge==0.1) (1.1.0)\n",
      "Requirement already satisfied: keras-applications>=1.0.8 in /home/itrushkin/.virtualenvs/fledge/lib/python3.6/site-packages (from tensorflow==1.15->fledge==0.1) (1.0.8)\n",
      "Requirement already satisfied: wrapt>=1.11.1 in /home/itrushkin/.virtualenvs/fledge/lib/python3.6/site-packages (from tensorflow==1.15->fledge==0.1) (1.12.1)\n",
      "Requirement already satisfied: future in /home/itrushkin/.virtualenvs/fledge/lib/python3.6/site-packages (from torch>=1.2.0->fledge==0.1) (0.18.2)\n",
      "Requirement already satisfied: markdown>=2.6.8 in /home/itrushkin/.virtualenvs/fledge/lib/python3.6/site-packages (from tensorboard<1.16.0,>=1.15.0->tensorflow==1.15->fledge==0.1) (3.2.2)\n",
      "Requirement already satisfied: werkzeug>=0.11.15 in /home/itrushkin/.virtualenvs/fledge/lib/python3.6/site-packages (from tensorboard<1.16.0,>=1.15.0->tensorflow==1.15->fledge==0.1) (1.0.1)\n",
      "Requirement already satisfied: h5py in /home/itrushkin/.virtualenvs/fledge/lib/python3.6/site-packages (from keras-applications>=1.0.8->tensorflow==1.15->fledge==0.1) (2.10.0)\n",
      "Requirement already satisfied: importlib-metadata; python_version < \"3.8\" in /home/itrushkin/.virtualenvs/fledge/lib/python3.6/site-packages (from markdown>=2.6.8->tensorboard<1.16.0,>=1.15.0->tensorflow==1.15->fledge==0.1) (1.7.0)\n",
      "Requirement already satisfied: zipp>=0.5 in /home/itrushkin/.virtualenvs/fledge/lib/python3.6/site-packages (from importlib-metadata; python_version < \"3.8\"->markdown>=2.6.8->tensorboard<1.16.0,>=1.15.0->tensorflow==1.15->fledge==0.1) (3.1.0)\n",
      "Building wheels for collected packages: fledge\n",
      "  Building wheel for fledge (setup.py) ... \u001b[?25ldone\n",
      "\u001b[?25h  Created wheel for fledge: filename=fledge-0.1-py3-none-any.whl size=125078 sha256=688b8167b31ba6f4304eb9c983a7477496f9060845c53d2e63ac7c41c2403677\n",
      "  Stored in directory: /tmp/pip-ephem-wheel-cache-ed7m94ue/wheels/3a/30/9d/a88101effd240e4a8721301bebf95a245eaf4904b55b7ae530\n",
      "Successfully built fledge\n",
      "Installing collected packages: fledge\n",
      "  Attempting uninstall: fledge\n",
      "    Found existing installation: fledge 0.1\n",
      "    Uninstalling fledge-0.1:\n",
      "      Successfully uninstalled fledge-0.1\n",
      "Successfully installed fledge-0.1\n",
      "\u001b[33mWARNING: You are using pip version 20.2.2; however, version 20.2.3 is available.\n",
      "You should consider upgrading via the '/home/itrushkin/.virtualenvs/fledge/bin/python3 -m pip install --upgrade pip' command.\u001b[0m\n",
      "Note: you may need to restart the kernel to use updated packages.\n"
     ]
    }
   ],
   "source": [
    "pip install /home/itrushkin/repos/fledge/"
   ]
  },
  {
   "cell_type": "code",
   "execution_count": 7,
   "metadata": {},
   "outputs": [
    {
     "name": "stdout",
     "output_type": "stream",
     "text": [
      "\u001b[2J\u001b[1;1H\u001b[104m\u001b[1mIntel FLedge - Secure Federated Learning at the Edge™                           \u001b[0m\n",
      "\n",
      "Creating Workspace Directories\n",
      "Creating Workspace Virtual Environment\n",
      "Creating Workspace Certifications\n",
      "Creating Workspace Templates\n",
      "\n",
      "New workspace directory structure:\n",
      "workspace\n",
      "├── code\n",
      "│   ├── pthistology_inmemory.py\n",
      "│   ├── pt_cnn.py\n",
      "│   ├── histology_utils.py\n",
      "│   ├── requirements.txt\n",
      "│   └── __init__.py\n",
      "├── plan\n",
      "│   ├── cols.yaml\n",
      "│   ├── data.yaml\n",
      "│   ├── defaults\n",
      "│   │   ├── tasks_keras.yaml\n",
      "│   │   ├── tasks_tensorflow.yaml\n",
      "│   │   ├── network.yaml\n",
      "│   │   ├── collaborator.yaml\n",
      "│   │   ├── assigner.yaml\n",
      "│   │   ├── tasks_torch.yaml\n",
      "│   │   ├── aggregator.yaml\n",
      "│   │   ├── task_runner.yaml\n",
      "│   │   └── data_loader.yaml\n",
      "│   └── plan.yaml\n",
      "├── venv\n",
      "│   ├── share\n",
      "│   │   └── python-wheels\n",
      "│   ├── lib64\n",
      "│   │   └── python3.6\n",
      "│   ├── include\n",
      "│   ├── pyvenv.cfg\n",
      "│   ├── bin\n",
      "│   │   ├── pip3\n",
      "│   │   ├── pip3.6\n",
      "│   │   ├── easy_install\n",
      "│   │   ├── easy_install-3.6\n",
      "│   │   ├── python\n",
      "│   │   ├── activate\n",
      "│   │   ├── python3\n",
      "│   │   ├── activate.csh\n",
      "│   │   ├── fx\n",
      "│   │   ├── pip\n",
      "│   │   └── activate.fish\n",
      "│   └── lib\n",
      "│       └── python3.6\n",
      "├── logs\n",
      "├── cert\n",
      "│   └── config\n",
      "│       ├── client.conf\n",
      "│       ├── signing-ca.conf\n",
      "│       ├── server.conf\n",
      "│       └── root-ca.conf\n",
      "├── data\n",
      "└── save\n",
      "\n",
      "17 directories, 33 files\n",
      "\n",
      " ✔️ OK\n",
      "/home/itrushkin/workspace\n"
     ]
    }
   ],
   "source": [
    "!rm -rf ~/workspace/*\n",
    "!fx workspace create --prefix ~/workspace --template torch_cnn_histology\n",
    "%cd /home/itrushkin/workspace\n",
    "!source venv/bin/activate"
   ]
  },
  {
   "cell_type": "code",
   "execution_count": 8,
   "metadata": {},
   "outputs": [
    {
     "name": "stdout",
     "output_type": "stream",
     "text": [
      "cert  code  data  logs\tplan  save  venv\r\n"
     ]
    }
   ],
   "source": [
    "!ls"
   ]
  },
  {
   "cell_type": "code",
   "execution_count": 9,
   "metadata": {},
   "outputs": [
    {
     "name": "stdout",
     "output_type": "stream",
     "text": [
      "\u001b[2J\u001b[1;1H\u001b[104m\u001b[1mIntel FLedge - Secure Federated Learning at the Edge™                           \u001b[0m\n",
      "\n",
      "/usr/lib/python3/dist-packages/urllib3/contrib/socks.py:37: DependencyWarning: SOCKS support in urllib3 requires the installation of optional dependencies: specifically, PySocks.  For more information, see https://urllib3.readthedocs.io/en/latest/contrib.html#socks-proxies\n",
      "  DependencyWarning\n",
      "Setting Up Certificate Authority...\n",
      "\n",
      "1.  Create Root CA\n",
      "1.1 Create Directories\n",
      "1.2 Create Database\n",
      "1.3 Create CA Request\n",
      "1.4 Create CA Certificate\n",
      "2.  Create Signing Certificate\n",
      "2.1 Create Directories\n",
      "2.2 Create Database\n",
      "2.3 Create Signing Certificate CSR\n",
      "2.4 Sign Signing Certificate CSR\n",
      "3   Create Certificate Chain\n",
      "\n",
      "Done.\n",
      "\n",
      " ✔️ OK\n"
     ]
    }
   ],
   "source": [
    "!fx workspace certify"
   ]
  },
  {
   "cell_type": "code",
   "execution_count": 10,
   "metadata": {},
   "outputs": [
    {
     "name": "stdout",
     "output_type": "stream",
     "text": [
      "\u001b[2J\u001b[1;1H\u001b[104m\u001b[1mIntel FLedge - Secure Federated Learning at the Edge™                           \u001b[0m\n",
      "\n",
      "/usr/lib/python3/dist-packages/urllib3/contrib/socks.py:37: DependencyWarning: SOCKS support in urllib3 requires the installation of optional dependencies: specifically, PySocks.  For more information, see https://urllib3.readthedocs.io/en/latest/contrib.html#socks-proxies\n",
      "  DependencyWarning\n",
      "Creating AGGREGATOR certificate key pair with following settings: CN=\u001b[31mnnlicv611.inn.intel.com\u001b[0m, SAN=\u001b[31mDNS:nnlicv611.inn.intel.com\u001b[0m\n",
      " Signing AGGREGATOR certificate key pair\n",
      "  Moving AGGREGATOR certificate key pair to: \u001b[32mcert/agg_nnlicv611.inn.intel.com\u001b[0m\n",
      "\n",
      " ✔️ OK\n"
     ]
    }
   ],
   "source": [
    "!fx aggregator certify --fqdn nnlicv611.inn.intel.com"
   ]
  },
  {
   "cell_type": "code",
   "execution_count": 11,
   "metadata": {},
   "outputs": [
    {
     "name": "stdout",
     "output_type": "stream",
     "text": [
      "\u001b[2J\u001b[1;1H\u001b[104m\u001b[1mIntel FLedge - Secure Federated Learning at the Edge™                           \u001b[0m\n",
      "\n",
      "/usr/lib/python3/dist-packages/urllib3/contrib/socks.py:37: DependencyWarning: SOCKS support in urllib3 requires the installation of optional dependencies: specifically, PySocks.  For more information, see https://urllib3.readthedocs.io/en/latest/contrib.html#socks-proxies\n",
      "  DependencyWarning\n",
      "Creating COLLABORATOR certificate key pair with following settings: CN=\u001b[31mone\u001b[0m, SAN=\u001b[31mDNS:one\u001b[0m\n",
      " Signing COLLABORATOR certificate key pair\n",
      "  Moving COLLABORATOR certificate key pair to: \u001b[32mcert/col_one\u001b[0m\n",
      "\n",
      " ✔️ OK\n"
     ]
    }
   ],
   "source": [
    "!fx collaborator certify -n one"
   ]
  },
  {
   "cell_type": "code",
   "execution_count": 12,
   "metadata": {},
   "outputs": [
    {
     "name": "stdout",
     "output_type": "stream",
     "text": [
      "\u001b[2J\u001b[1;1H\u001b[104m\u001b[1mIntel FLedge - Secure Federated Learning at the Edge™                           \u001b[0m\n",
      "\n",
      "/usr/lib/python3/dist-packages/urllib3/contrib/socks.py:37: DependencyWarning: SOCKS support in urllib3 requires the installation of optional dependencies: specifically, PySocks.  For more information, see https://urllib3.readthedocs.io/en/latest/contrib.html#socks-proxies\n",
      "  DependencyWarning\n",
      "Creating COLLABORATOR certificate key pair with following settings: CN=\u001b[31mtwo\u001b[0m, SAN=\u001b[31mDNS:two\u001b[0m\n",
      " Signing COLLABORATOR certificate key pair\n",
      "  Moving COLLABORATOR certificate key pair to: \u001b[32mcert/col_two\u001b[0m\n",
      "\n",
      " ✔️ OK\n"
     ]
    }
   ],
   "source": [
    "!fx collaborator certify -n two"
   ]
  },
  {
   "cell_type": "code",
   "execution_count": 13,
   "metadata": {},
   "outputs": [
    {
     "name": "stdout",
     "output_type": "stream",
     "text": [
      "\u001b[2J\u001b[1;1H\u001b[104m\u001b[1mIntel FLedge - Secure Federated Learning at the Edge™                           \u001b[0m\n",
      "\n",
      "/usr/lib/python3/dist-packages/urllib3/contrib/socks.py:37: DependencyWarning: SOCKS support in urllib3 requires the installation of optional dependencies: specifically, PySocks.  For more information, see https://urllib3.readthedocs.io/en/latest/contrib.html#socks-proxies\n",
      "  DependencyWarning\n",
      "\u001b[2;36m[16:02:40]\u001b[0m\u001b[2;36m \u001b[0m\u001b[34mINFO\u001b[0m     Loading DEFAULTS for section \u001b[31maggregator\u001b[0m from file \u001b[31mplan/defaults/aggregator.yaml\u001b[0m.                                                  \u001b]8;id=1600866160.355897-111004;file:///home/itrushkin/.local/lib/python3.6/site-packages/fledge/federated/plan/plan.py\u001b\\\u001b[2mplan.py\u001b[0m\u001b]8;;\u001b\\\u001b[2m:77\u001b[0m\n",
      "\u001b[2;36m          \u001b[0m\u001b[2;36m \u001b[0m\u001b[34mINFO\u001b[0m     Loading DEFAULTS for section \u001b[31massigner\u001b[0m from file \u001b[31mplan/defaults/assigner.yaml\u001b[0m.                                                      \u001b]8;id=1600866160.3576593-812442;file:///home/itrushkin/.local/lib/python3.6/site-packages/fledge/federated/plan/plan.py\u001b\\\u001b[2mplan.py\u001b[0m\u001b]8;;\u001b\\\u001b[2m:77\u001b[0m\n",
      "\u001b[2;36m          \u001b[0m\u001b[2;36m \u001b[0m\u001b[34mINFO\u001b[0m     Loading DEFAULTS for section \u001b[31mcollaborator\u001b[0m from file \u001b[31mplan/defaults/collaborator.yaml\u001b[0m.                                              \u001b]8;id=1600866160.3597407-377089;file:///home/itrushkin/.local/lib/python3.6/site-packages/fledge/federated/plan/plan.py\u001b\\\u001b[2mplan.py\u001b[0m\u001b]8;;\u001b\\\u001b[2m:77\u001b[0m\n",
      "\u001b[2;36m          \u001b[0m\u001b[2;36m \u001b[0m\u001b[34mINFO\u001b[0m     Loading DEFAULTS for section \u001b[31mnetwork\u001b[0m from file \u001b[31mplan/defaults/network.yaml\u001b[0m.                                                        \u001b]8;id=1600866160.361637-80022;file:///home/itrushkin/.local/lib/python3.6/site-packages/fledge/federated/plan/plan.py\u001b\\\u001b[2mplan.py\u001b[0m\u001b]8;;\u001b\\\u001b[2m:77\u001b[0m\n",
      "\u001b[2;36m          \u001b[0m\u001b[2;36m \u001b[0m\u001b[34mINFO\u001b[0m     Loading DEFAULTS for section \u001b[31mtask_runner\u001b[0m from file \u001b[31mplan/defaults/task_runner.yaml\u001b[0m.                                                \u001b]8;id=1600866160.36378-329378;file:///home/itrushkin/.local/lib/python3.6/site-packages/fledge/federated/plan/plan.py\u001b\\\u001b[2mplan.py\u001b[0m\u001b]8;;\u001b\\\u001b[2m:77\u001b[0m\n",
      "\u001b[2;36m          \u001b[0m\u001b[2;36m \u001b[0m\u001b[34mINFO\u001b[0m     Loading DEFAULTS for section \u001b[31mtasks\u001b[0m from file \u001b[31mplan/defaults/tasks_torch.yaml\u001b[0m.                                                      \u001b]8;id=1600866160.3654964-430973;file:///home/itrushkin/.local/lib/python3.6/site-packages/fledge/federated/plan/plan.py\u001b\\\u001b[2mplan.py\u001b[0m\u001b]8;;\u001b\\\u001b[2m:77\u001b[0m\n",
      "\u001b[2;36m          \u001b[0m\u001b[2;36m \u001b[0m\u001b[34mINFO\u001b[0m     FL-Plan hash is \u001b[34m35af69af1b27b32d85bd4a3e3e48e62e\u001b[0m                                                                                 \u001b]8;id=1600866160.3716605-351369;file:///home/itrushkin/.local/lib/python3.6/site-packages/fledge/federated/plan/plan.py\u001b\\\u001b[2mplan.py\u001b[0m\u001b]8;;\u001b\\\u001b[2m:172\u001b[0m\n",
      "\u001b[2;36m          \u001b[0m\u001b[2;36m \u001b[0m\u001b[34mINFO\u001b[0m     Parsing Federated Learning Plan : \u001b[32mSUCCESS\u001b[0m : \u001b[34mplan/plan.yaml\u001b[0m.                                                                       \u001b]8;id=1600866160.3732498-986627;file:///home/itrushkin/.local/lib/python3.6/site-packages/fledge/federated/plan/plan.py\u001b\\\u001b[2mplan.py\u001b[0m\u001b]8;;\u001b\\\u001b[2m:96\u001b[0m\n",
      "\u001b[2;36m          \u001b[0m\u001b[2;36m \u001b[0m\u001b[34mINFO\u001b[0m     aggregator:                                                                                                                       \u001b]8;id=1600866160.3843474-746865;file:///home/itrushkin/.local/lib/python3.6/site-packages/fledge/federated/plan/plan.py\u001b\\\u001b[2mplan.py\u001b[0m\u001b]8;;\u001b\\\u001b[2m:97\u001b[0m\n",
      "                      defaults: plan/defaults/aggregator.yaml                                                                                                   \n",
      "                      settings:                                                                                                                                 \n",
      "                        best_state_path: save/torch_cnn_histology_best.pbuf                                                                                     \n",
      "                        init_state_path: save/torch_cnn_histology_init.pbuf                                                                                     \n",
      "                        last_state_path: save/torch_cnn_histology_last.pbuf                                                                                     \n",
      "                        rounds_to_train: \u001b[1;34m10\u001b[0m                                                                                                                     \n",
      "                      template: fledge.component.Aggregator                                                                                                     \n",
      "                    assigner:                                                                                                                                   \n",
      "                      defaults: plan/defaults/assigner.yaml                                                                                                     \n",
      "                      settings:                                                                                                                                 \n",
      "                        task_groups:                                                                                                                            \n",
      "                        - name: train_and_validate                                                                                                              \n",
      "                          percentage: \u001b[1;34m1.0\u001b[0m                                                                                                                       \n",
      "                          tasks:                                                                                                                                \n",
      "                          - aggregated_model_validation                                                                                                         \n",
      "                          - train                                                                                                                               \n",
      "                          - locally_tuned_model_validation                                                                                                      \n",
      "                      template: fledge.component.RandomGroupedAssigner                                                                                          \n",
      "                    collaborator:                                                                                                                               \n",
      "                      defaults: plan/defaults/collaborator.yaml                                                                                                 \n",
      "                      settings:                                                                                                                                 \n",
      "                        delta_updates: false                                                                                                                    \n",
      "                        epochs_per_round: \u001b[1;34m1.0\u001b[0m                                                                                                                   \n",
      "                        opt_treatment: RESET                                                                                                                    \n",
      "                        polling_interval: \u001b[1;34m4\u001b[0m                                                                                                                     \n",
      "                        send_model_deltas: true                                                                                                                 \n",
      "                      template: fledge.component.Collaborator                                                                                                   \n",
      "                    data_loader:                                                                                                                                \n",
      "                      settings:                                                                                                                                 \n",
      "                        batch_size: \u001b[1;34m128\u001b[0m                                                                                                                         \n",
      "                        collaborator_count: \u001b[1;34m2\u001b[0m                                                                                                                   \n",
      "                        data_group_name: histology                                                                                                              \n",
      "                      template: code.pthistology_inmemory.PyTorchHistologyInMemory                                                                              \n",
      "                    network:                                                                                                                                    \n",
      "                      defaults: plan/defaults/network.yaml                                                                                                      \n",
      "                      settings:                                                                                                                                 \n",
      "                        agg_addr: nnlicv611                                                                                                                     \n",
      "                        agg_port: \u001b[1;34m1337\u001b[0m                                                                                                                          \n",
      "                        cert_folder: cert                                                                                                                       \n",
      "                        disable_client_auth: false                                                                                                              \n",
      "                        disable_tls: false                                                                                                                      \n",
      "                        hash_salt: auto                                                                                                                         \n",
      "                      template: fledge.federation.Network                                                                                                       \n",
      "                    task_runner:                                                                                                                                \n",
      "                      defaults: plan/defaults/task_runner.yaml                                                                                                  \n",
      "                      settings: \u001b[1m{\u001b[0m\u001b[1m}\u001b[0m                                                                                                                              \n",
      "                      template: code.pt_cnn.PyTorchCNN                                                                                                          \n",
      "                    tasks:                                                                                                                                      \n",
      "                      aggregated_model_validation:                                                                                                              \n",
      "                        function: validate                                                                                                                      \n",
      "                        kwargs:                                                                                                                                 \n",
      "                          apply: global                                                                                                                         \n",
      "                          metrics:                                                                                                                              \n",
      "                          - acc                                                                                                                                 \n",
      "                      defaults: plan/defaults/tasks_torch.yaml                                                                                                  \n",
      "                      locally_tuned_model_validation:                                                                                                           \n",
      "                        function: validate                                                                                                                      \n",
      "                        kwargs:                                                                                                                                 \n",
      "                          apply: local                                                                                                                          \n",
      "                          metrics:                                                                                                                              \n",
      "                          - acc                                                                                                                                 \n",
      "                      settings: \u001b[1m{\u001b[0m\u001b[1m}\u001b[0m                                                                                                                              \n",
      "                      train:                                                                                                                                    \n",
      "                        function: train_batches                                                                                                                 \n",
      "                        kwargs:                                                                                                                                 \n",
      "                          metrics:                                                                                                                              \n",
      "                          - loss                                                                                                                                \n",
      "                                                                                                                                                                \n",
      "\u001b[2;36m          \u001b[0m\u001b[2;36m \u001b[0m\u001b[34mINFO\u001b[0m     Building \u001b[31m🡆\u001b[0m Object \u001b[31mPyTorchHistologyInMemory\u001b[0m from \u001b[31mcode.pthistology_inmemory\u001b[0m Module.                                                \u001b]8;id=1600866160.3880537-863995;file:///home/itrushkin/.local/lib/python3.6/site-packages/fledge/federated/plan/plan.py\u001b\\\u001b[2mplan.py\u001b[0m\u001b]8;;\u001b\\\u001b[2m:127\u001b[0m\n",
      "\u001b[2;36m          \u001b[0m\u001b[2;36m \u001b[0m\u001b[34mINFO\u001b[0m     Settings \u001b[31m🡆\u001b[0m \u001b[1m{\u001b[0m\u001b[32m'collaborator_count'\u001b[0m: \u001b[1;34m2\u001b[0m, \u001b[32m'data_group_name'\u001b[0m: \u001b[32m'histology'\u001b[0m, \u001b[32m'batch_size'\u001b[0m: \u001b[1;34m128\u001b[0m, \u001b[32m'data_path'\u001b[0m: \u001b[1;34m1\u001b[0m\u001b[1m}\u001b[0m                          \u001b]8;id=1600866160.3897185-908571;file:///home/itrushkin/.local/lib/python3.6/site-packages/fledge/federated/plan/plan.py\u001b\\\u001b[2mplan.py\u001b[0m\u001b]8;;\u001b\\\u001b[2m:128\u001b[0m\n",
      "\u001b[2;36m          \u001b[0m\u001b[2;36m \u001b[0m\u001b[34mINFO\u001b[0m     Override \u001b[31m🡆\u001b[0m \u001b[1m{\u001b[0m\u001b[1m}\u001b[0m                                                                                                                    \u001b]8;id=1600866160.3911011-181100;file:///home/itrushkin/.local/lib/python3.6/site-packages/fledge/federated/plan/plan.py\u001b\\\u001b[2mplan.py\u001b[0m\u001b]8;;\u001b\\\u001b[2m:129\u001b[0m\n"
     ]
    },
    {
     "name": "stdout",
     "output_type": "stream",
     "text": [
      "\u001b[2;36m[16:02:42]\u001b[0m\u001b[2;36m \u001b[0m\u001b[34mINFO\u001b[0m     Histology > X_train Shape : \u001b[1m(\u001b[0m\u001b[1;34m2000\u001b[0m, \u001b[1;34m3\u001b[0m, \u001b[1;34m150\u001b[0m, \u001b[1;34m150\u001b[0m\u001b[1m)\u001b[0m                                                                       \u001b]8;id=1600866162.6609342-267435;file:///home/itrushkin/workspace/code/histology_utils.py\u001b\\\u001b[2mhistology_utils.py\u001b[0m\u001b]8;;\u001b\\\u001b[2m:136\u001b[0m\n",
      "\u001b[2;36m          \u001b[0m\u001b[2;36m \u001b[0m\u001b[34mINFO\u001b[0m     Histology > y_train Shape : \u001b[1m(\u001b[0m\u001b[1;34m2000\u001b[0m,\u001b[1m)\u001b[0m                                                                                   \u001b]8;id=1600866162.6623912-920904;file:///home/itrushkin/workspace/code/histology_utils.py\u001b\\\u001b[2mhistology_utils.py\u001b[0m\u001b]8;;\u001b\\\u001b[2m:137\u001b[0m\n",
      "\u001b[2;36m          \u001b[0m\u001b[2;36m \u001b[0m\u001b[34mINFO\u001b[0m     Histology > Train Samples : \u001b[1;34m2000\u001b[0m                                                                                      \u001b]8;id=1600866162.6636841-918248;file:///home/itrushkin/workspace/code/histology_utils.py\u001b\\\u001b[2mhistology_utils.py\u001b[0m\u001b]8;;\u001b\\\u001b[2m:138\u001b[0m\n",
      "\u001b[2;36m          \u001b[0m\u001b[2;36m \u001b[0m\u001b[34mINFO\u001b[0m     Histology > Valid Samples : \u001b[1;34m500\u001b[0m                                                                                       \u001b]8;id=1600866162.6649609-402378;file:///home/itrushkin/workspace/code/histology_utils.py\u001b\\\u001b[2mhistology_utils.py\u001b[0m\u001b]8;;\u001b\\\u001b[2m:139\u001b[0m\n",
      "\u001b[2;36m          \u001b[0m\u001b[2;36m \u001b[0m\u001b[34mINFO\u001b[0m     Building \u001b[31m🡆\u001b[0m Object \u001b[31mPyTorchCNN\u001b[0m from \u001b[31mcode.pt_cnn\u001b[0m Module.                                                                            \u001b]8;id=1600866162.6665769-113659;file:///home/itrushkin/.local/lib/python3.6/site-packages/fledge/federated/plan/plan.py\u001b\\\u001b[2mplan.py\u001b[0m\u001b]8;;\u001b\\\u001b[2m:127\u001b[0m\n",
      "\u001b[2;36m          \u001b[0m\u001b[2;36m \u001b[0m\u001b[34mINFO\u001b[0m     Settings \u001b[31m🡆\u001b[0m \u001b[1m{\u001b[0m\u001b[32m'data_loader'\u001b[0m: \u001b[1m<\u001b[0m\u001b[1;95mcode.pthistology_inmemory.PyTorchHistologyInMemory\u001b[0m\u001b[39m object at \u001b[0m\u001b[1;34m0x7f8089967710\u001b[0m\u001b[1m>\u001b[0m\u001b[1m}\u001b[0m                        \u001b]8;id=1600866162.6681268-857422;file:///home/itrushkin/.local/lib/python3.6/site-packages/fledge/federated/plan/plan.py\u001b\\\u001b[2mplan.py\u001b[0m\u001b]8;;\u001b\\\u001b[2m:128\u001b[0m\n",
      "\u001b[2;36m          \u001b[0m\u001b[2;36m \u001b[0m\u001b[34mINFO\u001b[0m     Override \u001b[31m🡆\u001b[0m \u001b[1m{\u001b[0m\u001b[32m'defaults'\u001b[0m: \u001b[32m'plan/defaults/task_runner.yaml'\u001b[0m\u001b[1m}\u001b[0m                                                                        \u001b]8;id=1600866162.6695278-863193;file:///home/itrushkin/.local/lib/python3.6/site-packages/fledge/federated/plan/plan.py\u001b\\\u001b[2mplan.py\u001b[0m\u001b]8;;\u001b\\\u001b[2m:129\u001b[0m\n",
      "PyTorchCNN(\n",
      "  (conv1): Conv2d(3, 16, kernel_size=(3, 3), stride=(1, 1), padding=(1, 1))\n",
      "  (conv2): Conv2d(16, 32, kernel_size=(3, 3), stride=(1, 1), padding=(1, 1))\n",
      "  (conv3): Conv2d(32, 64, kernel_size=(3, 3), stride=(1, 1), padding=(1, 1))\n",
      "  (conv4): Conv2d(64, 128, kernel_size=(3, 3), stride=(1, 1), padding=(1, 1))\n",
      "  (conv5): Conv2d(160, 256, kernel_size=(3, 3), stride=(1, 1), padding=(1, 1))\n",
      "  (conv6): Conv2d(256, 512, kernel_size=(3, 3), stride=(1, 1), padding=(1, 1))\n",
      "  (conv7): Conv2d(672, 256, kernel_size=(3, 3), stride=(1, 1), padding=(1, 1))\n",
      "  (conv8): Conv2d(256, 512, kernel_size=(3, 3), stride=(1, 1), padding=(1, 1))\n",
      "  (fc1): Linear(in_features=95904, out_features=128, bias=True)\n",
      "  (fc2): Linear(in_features=128, out_features=8, bias=True)\n",
      ")\n",
      "\u001b[2;36m[16:02:44]\u001b[0m\u001b[2;36m \u001b[0m\u001b[31mWARNING\u001b[0m  tried to remove tensor: __opt_state_needed not present in the tensor dict                                                        \u001b]8;id=1600866164.7061665-657084;file:///home/itrushkin/.local/lib/python3.6/site-packages/fledge/utilities/utils.py\u001b\\\u001b[2mutils.py\u001b[0m\u001b]8;;\u001b\\\u001b[2m:54\u001b[0m\n",
      "\u001b[2;36m          \u001b[0m\u001b[2;36m \u001b[0m\u001b[34mINFO\u001b[0m     Building \u001b[31m🡆\u001b[0m Object \u001b[31mNoCompressionPipeline\u001b[0m from \u001b[31mfledge.pipelines\u001b[0m Module.                                                            \u001b]8;id=1600866164.708806-713156;file:///home/itrushkin/.local/lib/python3.6/site-packages/fledge/federated/plan/plan.py\u001b\\\u001b[2mplan.py\u001b[0m\u001b]8;;\u001b\\\u001b[2m:127\u001b[0m\n",
      "\u001b[2;36m          \u001b[0m\u001b[2;36m \u001b[0m\u001b[34mINFO\u001b[0m     Settings \u001b[31m🡆\u001b[0m \u001b[1m{\u001b[0m\u001b[1m}\u001b[0m                                                                                                                    \u001b]8;id=1600866164.7101731-787931;file:///home/itrushkin/.local/lib/python3.6/site-packages/fledge/federated/plan/plan.py\u001b\\\u001b[2mplan.py\u001b[0m\u001b]8;;\u001b\\\u001b[2m:128\u001b[0m\n",
      "\u001b[2;36m          \u001b[0m\u001b[2;36m \u001b[0m\u001b[34mINFO\u001b[0m     Override \u001b[31m🡆\u001b[0m \u001b[1m{\u001b[0m\u001b[1m}\u001b[0m                                                                                                                    \u001b]8;id=1600866164.7115693-718320;file:///home/itrushkin/.local/lib/python3.6/site-packages/fledge/federated/plan/plan.py\u001b\\\u001b[2mplan.py\u001b[0m\u001b]8;;\u001b\\\u001b[2m:129\u001b[0m\n",
      "\u001b[2;36m          \u001b[0m\u001b[2;36m \u001b[0m\u001b[31mWARNING\u001b[0m  tried to remove tensor: __opt_state_needed not present in the tensor dict                                                        \u001b]8;id=1600866164.7344434-557978;file:///home/itrushkin/.local/lib/python3.6/site-packages/fledge/utilities/utils.py\u001b\\\u001b[2mutils.py\u001b[0m\u001b]8;;\u001b\\\u001b[2m:54\u001b[0m\n",
      "\u001b[2;36m          \u001b[0m\u001b[2;36m \u001b[0m\u001b[31mWARNING\u001b[0m  Following paramters omitted from global initial model, local initialization will determine values: \u001b[1m[\u001b[0m\u001b[1m]\u001b[0m                             \u001b]8;id=1600866164.735923-628755;file:///home/itrushkin/.local/lib/python3.6/site-packages/fledge/interface/plan.py\u001b\\\u001b[2mplan.py\u001b[0m\u001b]8;;\u001b\\\u001b[2m:56\u001b[0m\n",
      "\u001b[2;36m          \u001b[0m\u001b[2;36m \u001b[0m\u001b[34mINFO\u001b[0m     Creating Initial Weights File    🠆 save/torch_cnn_histology_init.pbuf                                                             \u001b]8;id=1600866164.7940323-56386;file:///home/itrushkin/.local/lib/python3.6/site-packages/fledge/interface/plan.py\u001b\\\u001b[2mplan.py\u001b[0m\u001b]8;;\u001b\\\u001b[2m:63\u001b[0m\n",
      "\u001b[2;36m          \u001b[0m\u001b[2;36m \u001b[0m\u001b[31mWARNING\u001b[0m  Patching Aggregator Addr in Plan 🠆 nnlicv611.inn.intel.com                                                                        \u001b]8;id=1600866164.8515317-496879;file:///home/itrushkin/.local/lib/python3.6/site-packages/fledge/interface/plan.py\u001b\\\u001b[2mplan.py\u001b[0m\u001b]8;;\u001b\\\u001b[2m:73\u001b[0m\n",
      "\n",
      " ✔️ OK\n"
     ]
    }
   ],
   "source": [
    "!fx plan initialize -a nnlicv611.inn.intel.com"
   ]
  },
  {
   "cell_type": "code",
   "execution_count": 14,
   "metadata": {},
   "outputs": [
    {
     "name": "stdout",
     "output_type": "stream",
     "text": [
      "\u001b[2J\u001b[1;1H\u001b[104m\u001b[1mIntel FLedge - Secure Federated Learning at the Edge™                           \u001b[0m\n",
      "\n",
      "/usr/lib/python3/dist-packages/urllib3/contrib/socks.py:37: DependencyWarning: SOCKS support in urllib3 requires the installation of optional dependencies: specifically, PySocks.  For more information, see https://urllib3.readthedocs.io/en/latest/contrib.html#socks-proxies\n",
      "  DependencyWarning\n",
      "\u001b[2;36m[16:02:47]\u001b[0m\u001b[2;36m \u001b[0m\u001b[34mINFO\u001b[0m     Loading DEFAULTS for section \u001b[31maggregator\u001b[0m from file \u001b[31mplan/defaults/aggregator.yaml\u001b[0m.                                                  \u001b]8;id=1600866167.5311635-990978;file:///home/itrushkin/.local/lib/python3.6/site-packages/fledge/federated/plan/plan.py\u001b\\\u001b[2mplan.py\u001b[0m\u001b]8;;\u001b\\\u001b[2m:77\u001b[0m\n",
      "\u001b[2;36m          \u001b[0m\u001b[2;36m \u001b[0m\u001b[34mINFO\u001b[0m     Loading DEFAULTS for section \u001b[31massigner\u001b[0m from file \u001b[31mplan/defaults/assigner.yaml\u001b[0m.                                                      \u001b]8;id=1600866167.532867-431682;file:///home/itrushkin/.local/lib/python3.6/site-packages/fledge/federated/plan/plan.py\u001b\\\u001b[2mplan.py\u001b[0m\u001b]8;;\u001b\\\u001b[2m:77\u001b[0m\n",
      "\u001b[2;36m          \u001b[0m\u001b[2;36m \u001b[0m\u001b[34mINFO\u001b[0m     Loading DEFAULTS for section \u001b[31mcollaborator\u001b[0m from file \u001b[31mplan/defaults/collaborator.yaml\u001b[0m.                                              \u001b]8;id=1600866167.5349565-534685;file:///home/itrushkin/.local/lib/python3.6/site-packages/fledge/federated/plan/plan.py\u001b\\\u001b[2mplan.py\u001b[0m\u001b]8;;\u001b\\\u001b[2m:77\u001b[0m\n",
      "\u001b[2;36m          \u001b[0m\u001b[2;36m \u001b[0m\u001b[34mINFO\u001b[0m     Loading DEFAULTS for section \u001b[31mnetwork\u001b[0m from file \u001b[31mplan/defaults/network.yaml\u001b[0m.                                                        \u001b]8;id=1600866167.5368202-874884;file:///home/itrushkin/.local/lib/python3.6/site-packages/fledge/federated/plan/plan.py\u001b\\\u001b[2mplan.py\u001b[0m\u001b]8;;\u001b\\\u001b[2m:77\u001b[0m\n",
      "\u001b[2;36m          \u001b[0m\u001b[2;36m \u001b[0m\u001b[34mINFO\u001b[0m     Loading DEFAULTS for section \u001b[31mtask_runner\u001b[0m from file \u001b[31mplan/defaults/task_runner.yaml\u001b[0m.                                                \u001b]8;id=1600866167.5388403-415543;file:///home/itrushkin/.local/lib/python3.6/site-packages/fledge/federated/plan/plan.py\u001b\\\u001b[2mplan.py\u001b[0m\u001b]8;;\u001b\\\u001b[2m:77\u001b[0m\n",
      "\u001b[2;36m          \u001b[0m\u001b[2;36m \u001b[0m\u001b[34mINFO\u001b[0m     Loading DEFAULTS for section \u001b[31mtasks\u001b[0m from file \u001b[31mplan/defaults/tasks_torch.yaml\u001b[0m.                                                      \u001b]8;id=1600866167.540418-973334;file:///home/itrushkin/.local/lib/python3.6/site-packages/fledge/federated/plan/plan.py\u001b\\\u001b[2mplan.py\u001b[0m\u001b]8;;\u001b\\\u001b[2m:77\u001b[0m\n",
      "\u001b[2;36m          \u001b[0m\u001b[2;36m \u001b[0m\u001b[34mINFO\u001b[0m     FL-Plan hash is \u001b[34m04ff9dde2ece0c75780381bfd6c173a2\u001b[0m                                                                                 \u001b]8;id=1600866167.5457377-554214;file:///home/itrushkin/.local/lib/python3.6/site-packages/fledge/federated/plan/plan.py\u001b\\\u001b[2mplan.py\u001b[0m\u001b]8;;\u001b\\\u001b[2m:172\u001b[0m\n",
      "\u001b[2;36m          \u001b[0m\u001b[2;36m \u001b[0m\u001b[34mINFO\u001b[0m     Parsing Federated Learning Plan : \u001b[32mSUCCESS\u001b[0m : \u001b[34mplan/plan.yaml\u001b[0m.                                                                       \u001b]8;id=1600866167.5472507-925757;file:///home/itrushkin/.local/lib/python3.6/site-packages/fledge/federated/plan/plan.py\u001b\\\u001b[2mplan.py\u001b[0m\u001b]8;;\u001b\\\u001b[2m:96\u001b[0m\n",
      "\u001b[2;36m          \u001b[0m\u001b[2;36m \u001b[0m\u001b[34mINFO\u001b[0m     aggregator:                                                                                                                       \u001b]8;id=1600866167.5582485-268803;file:///home/itrushkin/.local/lib/python3.6/site-packages/fledge/federated/plan/plan.py\u001b\\\u001b[2mplan.py\u001b[0m\u001b]8;;\u001b\\\u001b[2m:97\u001b[0m\n",
      "                      defaults: plan/defaults/aggregator.yaml                                                                                                   \n",
      "                      settings:                                                                                                                                 \n",
      "                        best_state_path: save/torch_cnn_histology_best.pbuf                                                                                     \n",
      "                        init_state_path: save/torch_cnn_histology_init.pbuf                                                                                     \n",
      "                        last_state_path: save/torch_cnn_histology_last.pbuf                                                                                     \n",
      "                        rounds_to_train: \u001b[1;34m10\u001b[0m                                                                                                                     \n",
      "                      template: fledge.component.Aggregator                                                                                                     \n",
      "                    assigner:                                                                                                                                   \n",
      "                      defaults: plan/defaults/assigner.yaml                                                                                                     \n",
      "                      settings:                                                                                                                                 \n",
      "                        task_groups:                                                                                                                            \n",
      "                        - name: train_and_validate                                                                                                              \n",
      "                          percentage: \u001b[1;34m1.0\u001b[0m                                                                                                                       \n",
      "                          tasks:                                                                                                                                \n",
      "                          - aggregated_model_validation                                                                                                         \n",
      "                          - train                                                                                                                               \n",
      "                          - locally_tuned_model_validation                                                                                                      \n",
      "                      template: fledge.component.RandomGroupedAssigner                                                                                          \n",
      "                    collaborator:                                                                                                                               \n",
      "                      defaults: plan/defaults/collaborator.yaml                                                                                                 \n",
      "                      settings:                                                                                                                                 \n",
      "                        delta_updates: false                                                                                                                    \n",
      "                        epochs_per_round: \u001b[1;34m1.0\u001b[0m                                                                                                                   \n",
      "                        opt_treatment: RESET                                                                                                                    \n",
      "                        polling_interval: \u001b[1;34m4\u001b[0m                                                                                                                     \n",
      "                        send_model_deltas: true                                                                                                                 \n",
      "                      template: fledge.component.Collaborator                                                                                                   \n",
      "                    data_loader:                                                                                                                                \n",
      "                      settings:                                                                                                                                 \n",
      "                        batch_size: \u001b[1;34m128\u001b[0m                                                                                                                         \n",
      "                        collaborator_count: \u001b[1;34m2\u001b[0m                                                                                                                   \n",
      "                        data_group_name: histology                                                                                                              \n",
      "                      template: code.pthistology_inmemory.PyTorchHistologyInMemory                                                                              \n",
      "                    network:                                                                                                                                    \n",
      "                      defaults: plan/defaults/network.yaml                                                                                                      \n",
      "                      settings:                                                                                                                                 \n",
      "                        agg_addr: nnlicv611.inn.intel.com                                                                                                       \n",
      "                        agg_port: \u001b[1;34m1337\u001b[0m                                                                                                                          \n",
      "                        cert_folder: cert                                                                                                                       \n",
      "                        disable_client_auth: false                                                                                                              \n",
      "                        disable_tls: false                                                                                                                      \n",
      "                        hash_salt: auto                                                                                                                         \n",
      "                      template: fledge.federation.Network                                                                                                       \n",
      "                    task_runner:                                                                                                                                \n",
      "                      defaults: plan/defaults/task_runner.yaml                                                                                                  \n",
      "                      settings: \u001b[1m{\u001b[0m\u001b[1m}\u001b[0m                                                                                                                              \n",
      "                      template: code.pt_cnn.PyTorchCNN                                                                                                          \n",
      "                    tasks:                                                                                                                                      \n",
      "                      aggregated_model_validation:                                                                                                              \n",
      "                        function: validate                                                                                                                      \n",
      "                        kwargs:                                                                                                                                 \n",
      "                          apply: global                                                                                                                         \n",
      "                          metrics:                                                                                                                              \n",
      "                          - acc                                                                                                                                 \n",
      "                      defaults: plan/defaults/tasks_torch.yaml                                                                                                  \n",
      "                      locally_tuned_model_validation:                                                                                                           \n",
      "                        function: validate                                                                                                                      \n",
      "                        kwargs:                                                                                                                                 \n",
      "                          apply: local                                                                                                                          \n",
      "                          metrics:                                                                                                                              \n",
      "                          - acc                                                                                                                                 \n",
      "                      settings: \u001b[1m{\u001b[0m\u001b[1m}\u001b[0m                                                                                                                              \n",
      "                      train:                                                                                                                                    \n",
      "                        function: train_batches                                                                                                                 \n",
      "                        kwargs:                                                                                                                                 \n",
      "                          metrics:                                                                                                                              \n",
      "                          - loss                                                                                                                                \n",
      "                                                                                                                                                                \n",
      "\u001b[2;36m          \u001b[0m\u001b[2;36m \u001b[0m\u001b[34mINFO\u001b[0m     🧿 Starting the Aggregator Service.                                                                                         \u001b]8;id=1600866167.5617814-106597;file:///home/itrushkin/.local/lib/python3.6/site-packages/fledge/interface/aggregator.py\u001b\\\u001b[2maggregator.py\u001b[0m\u001b]8;;\u001b\\\u001b[2m:28\u001b[0m\n",
      "\u001b[2;36m          \u001b[0m\u001b[2;36m \u001b[0m\u001b[34mINFO\u001b[0m     Building \u001b[31m🡆\u001b[0m Object \u001b[31mRandomGroupedAssigner\u001b[0m from \u001b[31mfledge.component\u001b[0m Module.                                                            \u001b]8;id=1600866167.5632315-223619;file:///home/itrushkin/.local/lib/python3.6/site-packages/fledge/federated/plan/plan.py\u001b\\\u001b[2mplan.py\u001b[0m\u001b]8;;\u001b\\\u001b[2m:127\u001b[0m\n",
      "\u001b[2;36m          \u001b[0m\u001b[2;36m \u001b[0m\u001b[34mINFO\u001b[0m     Settings \u001b[31m🡆\u001b[0m \u001b[1m{\u001b[0m\u001b[32m'task_groups'\u001b[0m: \u001b[1m[\u001b[0m\u001b[1m{\u001b[0m\u001b[32m'name'\u001b[0m: \u001b[32m'train_and_validate'\u001b[0m, \u001b[32m'percentage'\u001b[0m: \u001b[1;34m1.0\u001b[0m, \u001b[32m'tasks'\u001b[0m: \u001b[1m[\u001b[0m\u001b[32m'aggregated_model_validation'\u001b[0m, \u001b[32m'train'\u001b[0m,  \u001b]8;id=1600866167.565305-979648;file:///home/itrushkin/.local/lib/python3.6/site-packages/fledge/federated/plan/plan.py\u001b\\\u001b[2mplan.py\u001b[0m\u001b]8;;\u001b\\\u001b[2m:128\u001b[0m\n",
      "                    \u001b[32m'locally_tuned_model_validation'\u001b[0m\u001b[1m]\u001b[0m\u001b[1m}\u001b[0m\u001b[1m]\u001b[0m, \u001b[32m'authorized_cols'\u001b[0m: \u001b[1m[\u001b[0m\u001b[32m'one'\u001b[0m, \u001b[32m'two'\u001b[0m\u001b[1m]\u001b[0m, \u001b[32m'rounds_to_train'\u001b[0m: \u001b[1;34m10\u001b[0m\u001b[1m}\u001b[0m                                              \n",
      "\u001b[2;36m          \u001b[0m\u001b[2;36m \u001b[0m\u001b[34mINFO\u001b[0m     Override \u001b[31m🡆\u001b[0m \u001b[1m{\u001b[0m\u001b[32m'defaults'\u001b[0m: \u001b[32m'plan/defaults/assigner.yaml'\u001b[0m\u001b[1m}\u001b[0m                                                                           \u001b]8;id=1600866167.566788-280991;file:///home/itrushkin/.local/lib/python3.6/site-packages/fledge/federated/plan/plan.py\u001b\\\u001b[2mplan.py\u001b[0m\u001b]8;;\u001b\\\u001b[2m:129\u001b[0m\n",
      "\u001b[2;36m          \u001b[0m\u001b[2;36m \u001b[0m\u001b[34mINFO\u001b[0m     Building \u001b[31m🡆\u001b[0m Object \u001b[31mAggregator\u001b[0m from \u001b[31mfledge.component\u001b[0m Module.                                                                       \u001b]8;id=1600866167.568549-651371;file:///home/itrushkin/.local/lib/python3.6/site-packages/fledge/federated/plan/plan.py\u001b\\\u001b[2mplan.py\u001b[0m\u001b]8;;\u001b\\\u001b[2m:127\u001b[0m\n",
      "\u001b[2;36m          \u001b[0m\u001b[2;36m \u001b[0m\u001b[34mINFO\u001b[0m     Settings \u001b[31m🡆\u001b[0m \u001b[1m{\u001b[0m\u001b[32m'best_state_path'\u001b[0m: \u001b[32m'save/torch_cnn_histology_best.pbuf'\u001b[0m, \u001b[32m'init_state_path'\u001b[0m: \u001b[32m'save/torch_cnn_histology_init.pbuf'\u001b[0m,    \u001b]8;id=1600866167.5708604-256604;file:///home/itrushkin/.local/lib/python3.6/site-packages/fledge/federated/plan/plan.py\u001b\\\u001b[2mplan.py\u001b[0m\u001b]8;;\u001b\\\u001b[2m:128\u001b[0m\n",
      "                    \u001b[32m'last_state_path'\u001b[0m: \u001b[32m'save/torch_cnn_histology_last.pbuf'\u001b[0m, \u001b[32m'rounds_to_train'\u001b[0m: \u001b[1;34m10\u001b[0m, \u001b[32m'aggregator_uuid'\u001b[0m:                                          \n",
      "                    \u001b[32m'aggregator_plan.yaml_04ff9dde'\u001b[0m, \u001b[32m'federation_uuid'\u001b[0m: \u001b[32m'plan.yaml_04ff9dde'\u001b[0m, \u001b[32m'authorized_cols'\u001b[0m: \u001b[1m[\u001b[0m\u001b[32m'one'\u001b[0m, \u001b[32m'two'\u001b[0m\u001b[1m]\u001b[0m, \u001b[32m'assigner'\u001b[0m:                    \n",
      "                    \u001b[1m<\u001b[0m\u001b[1;95mfledge.component.assigner.random_grouped_assigner.RandomGroupedAssigner\u001b[0m\u001b[39m object at \u001b[0m\u001b[1;34m0x7fd74b8ec5c0\u001b[0m\u001b[1m>\u001b[0m\u001b[1m}\u001b[0m                                         \n",
      "\u001b[2;36m          \u001b[0m\u001b[2;36m \u001b[0m\u001b[34mINFO\u001b[0m     Override \u001b[31m🡆\u001b[0m \u001b[1m{\u001b[0m\u001b[32m'defaults'\u001b[0m: \u001b[32m'plan/defaults/aggregator.yaml'\u001b[0m\u001b[1m}\u001b[0m                                                                         \u001b]8;id=1600866167.5723956-716638;file:///home/itrushkin/.local/lib/python3.6/site-packages/fledge/federated/plan/plan.py\u001b\\\u001b[2mplan.py\u001b[0m\u001b]8;;\u001b\\\u001b[2m:129\u001b[0m\n"
     ]
    },
    {
     "name": "stdout",
     "output_type": "stream",
     "text": [
      "\u001b[2;36m          \u001b[0m\u001b[2;36m \u001b[0m\u001b[34mINFO\u001b[0m     Starting Aggregator gRPC Server                                                                                                \u001b]8;id=1600866167.6886551-28163;file:///home/itrushkin/.local/lib/python3.6/site-packages/fledge/transport/grpc/server.py\u001b\\\u001b[2mserver.py\u001b[0m\u001b]8;;\u001b\\\u001b[2m:145\u001b[0m\n",
      "\u001b[2;36m[16:03:11]\u001b[0m\u001b[2;36m \u001b[0m\u001b[34mINFO\u001b[0m     Sending tasks to collaborator one for round \u001b[1;34m0\u001b[0m                                                                              \u001b]8;id=1600866191.6616552-210557;file:///home/itrushkin/.local/lib/python3.6/site-packages/fledge/component/aggregator/aggregator.py\u001b\\\u001b[2maggregator.py\u001b[0m\u001b]8;;\u001b\\\u001b[2m:246\u001b[0m\n",
      "\u001b[2;36m[16:03:13]\u001b[0m\u001b[2;36m \u001b[0m\u001b[34mINFO\u001b[0m     Collaborator one is sending task results for aggregated_model_validation, round \u001b[1;34m0\u001b[0m                                          \u001b]8;id=1600866193.296892-455558;file:///home/itrushkin/.local/lib/python3.6/site-packages/fledge/component/aggregator/aggregator.py\u001b\\\u001b[2maggregator.py\u001b[0m\u001b]8;;\u001b\\\u001b[2m:366\u001b[0m\n",
      "\u001b[2;36m[16:03:17]\u001b[0m\u001b[2;36m \u001b[0m\u001b[34mINFO\u001b[0m     Sending tasks to collaborator two for round \u001b[1;34m0\u001b[0m                                                                              \u001b]8;id=1600866197.5327575-477405;file:///home/itrushkin/.local/lib/python3.6/site-packages/fledge/component/aggregator/aggregator.py\u001b\\\u001b[2maggregator.py\u001b[0m\u001b]8;;\u001b\\\u001b[2m:246\u001b[0m\n",
      "\u001b[2;36m[16:03:21]\u001b[0m\u001b[2;36m \u001b[0m\u001b[34mINFO\u001b[0m     Collaborator two is sending task results for aggregated_model_validation, round \u001b[1;34m0\u001b[0m                                          \u001b]8;id=1600866201.9334853-756713;file:///home/itrushkin/.local/lib/python3.6/site-packages/fledge/component/aggregator/aggregator.py\u001b\\\u001b[2maggregator.py\u001b[0m\u001b]8;;\u001b\\\u001b[2m:366\u001b[0m\n",
      "\u001b[2;36m[16:03:23]\u001b[0m\u001b[2;36m \u001b[0m\u001b[34mINFO\u001b[0m     Collaborator one is sending task results for train, round \u001b[1;34m0\u001b[0m                                                                \u001b]8;id=1600866203.0588179-522771;file:///home/itrushkin/.local/lib/python3.6/site-packages/fledge/component/aggregator/aggregator.py\u001b\\\u001b[2maggregator.py\u001b[0m\u001b]8;;\u001b\\\u001b[2m:366\u001b[0m\n",
      "\u001b[2;36m          \u001b[0m\u001b[2;36m \u001b[0m\u001b[34mINFO\u001b[0m     Collaborator one is sending task results for locally_tuned_model_validation, round \u001b[1;34m0\u001b[0m                                       \u001b]8;id=1600866203.6314268-901227;file:///home/itrushkin/.local/lib/python3.6/site-packages/fledge/component/aggregator/aggregator.py\u001b\\\u001b[2maggregator.py\u001b[0m\u001b]8;;\u001b\\\u001b[2m:366\u001b[0m\n",
      "\u001b[2;36m[16:03:30]\u001b[0m\u001b[2;36m \u001b[0m\u001b[34mINFO\u001b[0m     Collaborator two is sending task results for train, round \u001b[1;34m0\u001b[0m                                                                \u001b]8;id=1600866210.6814597-732681;file:///home/itrushkin/.local/lib/python3.6/site-packages/fledge/component/aggregator/aggregator.py\u001b\\\u001b[2maggregator.py\u001b[0m\u001b]8;;\u001b\\\u001b[2m:366\u001b[0m\n",
      "\u001b[2;36m[16:03:31]\u001b[0m\u001b[2;36m \u001b[0m\u001b[34mINFO\u001b[0m     Collaborator two is sending task results for locally_tuned_model_validation, round \u001b[1;34m0\u001b[0m                                       \u001b]8;id=1600866211.2213619-583449;file:///home/itrushkin/.local/lib/python3.6/site-packages/fledge/component/aggregator/aggregator.py\u001b\\\u001b[2maggregator.py\u001b[0m\u001b]8;;\u001b\\\u001b[2m:366\u001b[0m\n",
      "\u001b[2;36m          \u001b[0m\u001b[2;36m \u001b[0m\u001b[34mINFO\u001b[0m     train task metrics...                                                                                                      \u001b]8;id=1600866211.224443-226468;file:///home/itrushkin/.local/lib/python3.6/site-packages/fledge/component/aggregator/aggregator.py\u001b\\\u001b[2maggregator.py\u001b[0m\u001b]8;;\u001b\\\u001b[2m:502\u001b[0m\n",
      "\u001b[2;36m          \u001b[0m\u001b[2;36m \u001b[0m\u001b[34mINFO\u001b[0m     cross_entropy:  \u001b[1;34m0.3959\u001b[0m                                                                                                     \u001b]8;id=1600866211.229752-379917;file:///home/itrushkin/.local/lib/python3.6/site-packages/fledge/component/aggregator/aggregator.py\u001b\\\u001b[2maggregator.py\u001b[0m\u001b]8;;\u001b\\\u001b[2m:531\u001b[0m\n",
      "\u001b[2;36m[16:03:32]\u001b[0m\u001b[2;36m \u001b[0m\u001b[34mINFO\u001b[0m     aggregated_model_validation task metrics...                                                                                \u001b]8;id=1600866212.134955-460732;file:///home/itrushkin/.local/lib/python3.6/site-packages/fledge/component/aggregator/aggregator.py\u001b\\\u001b[2maggregator.py\u001b[0m\u001b]8;;\u001b\\\u001b[2m:502\u001b[0m\n",
      "\u001b[2;36m          \u001b[0m\u001b[2;36m \u001b[0m\u001b[34mINFO\u001b[0m     acc:    \u001b[1;34m0.1231\u001b[0m                                                                                                             \u001b]8;id=1600866212.1401732-113672;file:///home/itrushkin/.local/lib/python3.6/site-packages/fledge/component/aggregator/aggregator.py\u001b\\\u001b[2maggregator.py\u001b[0m\u001b]8;;\u001b\\\u001b[2m:531\u001b[0m\n",
      "\u001b[2;36m          \u001b[0m\u001b[2;36m \u001b[0m\u001b[34mINFO\u001b[0m     Saved the best model with score \u001b[1;34m0.123123\u001b[0m                                                                                   \u001b]8;id=1600866212.141494-686245;file:///home/itrushkin/.local/lib/python3.6/site-packages/fledge/component/aggregator/aggregator.py\u001b\\\u001b[2maggregator.py\u001b[0m\u001b]8;;\u001b\\\u001b[2m:536\u001b[0m\n",
      "\u001b[2;36m          \u001b[0m\u001b[2;36m \u001b[0m\u001b[34mINFO\u001b[0m     locally_tuned_model_validation task metrics...                                                                             \u001b]8;id=1600866212.3103466-122106;file:///home/itrushkin/.local/lib/python3.6/site-packages/fledge/component/aggregator/aggregator.py\u001b\\\u001b[2maggregator.py\u001b[0m\u001b]8;;\u001b\\\u001b[2m:502\u001b[0m\n",
      "\u001b[2;36m          \u001b[0m\u001b[2;36m \u001b[0m\u001b[34mINFO\u001b[0m     acc:    \u001b[1;34m0.1201\u001b[0m                                                                                                             \u001b]8;id=1600866212.3158913-266184;file:///home/itrushkin/.local/lib/python3.6/site-packages/fledge/component/aggregator/aggregator.py\u001b\\\u001b[2maggregator.py\u001b[0m\u001b]8;;\u001b\\\u001b[2m:531\u001b[0m\n",
      "\u001b[2;36m          \u001b[0m\u001b[2;36m \u001b[0m\u001b[34mINFO\u001b[0m     Saving round \u001b[1;34m1\u001b[0m model...                                                                                                    \u001b]8;id=1600866212.3173306-282895;file:///home/itrushkin/.local/lib/python3.6/site-packages/fledge/component/aggregator/aggregator.py\u001b\\\u001b[2maggregator.py\u001b[0m\u001b]8;;\u001b\\\u001b[2m:592\u001b[0m\n",
      "\u001b[2;36m          \u001b[0m\u001b[2;36m \u001b[0m\u001b[34mINFO\u001b[0m     Starting round \u001b[1;34m1\u001b[0m...                                                                                                        \u001b]8;id=1600866212.4823534-178497;file:///home/itrushkin/.local/lib/python3.6/site-packages/fledge/component/aggregator/aggregator.py\u001b\\\u001b[2maggregator.py\u001b[0m\u001b]8;;\u001b\\\u001b[2m:600\u001b[0m\n",
      "\u001b[2;36m          \u001b[0m\u001b[2;36m \u001b[0m\u001b[34mINFO\u001b[0m     Sending tasks to collaborator two for round \u001b[1;34m1\u001b[0m                                                                              \u001b]8;id=1600866212.4907665-235066;file:///home/itrushkin/.local/lib/python3.6/site-packages/fledge/component/aggregator/aggregator.py\u001b\\\u001b[2maggregator.py\u001b[0m\u001b]8;;\u001b\\\u001b[2m:246\u001b[0m\n",
      "\u001b[2;36m[16:03:33]\u001b[0m\u001b[2;36m \u001b[0m\u001b[34mINFO\u001b[0m     Sending tasks to collaborator one for round \u001b[1;34m1\u001b[0m                                                                              \u001b]8;id=1600866213.6592214-693707;file:///home/itrushkin/.local/lib/python3.6/site-packages/fledge/component/aggregator/aggregator.py\u001b\\\u001b[2maggregator.py\u001b[0m\u001b]8;;\u001b\\\u001b[2m:246\u001b[0m\n",
      "\u001b[2;36m[16:03:34]\u001b[0m\u001b[2;36m \u001b[0m\u001b[34mINFO\u001b[0m     Collaborator two is sending task results for aggregated_model_validation, round \u001b[1;34m1\u001b[0m                                          \u001b]8;id=1600866214.2022588-571337;file:///home/itrushkin/.local/lib/python3.6/site-packages/fledge/component/aggregator/aggregator.py\u001b\\\u001b[2maggregator.py\u001b[0m\u001b]8;;\u001b\\\u001b[2m:366\u001b[0m\n",
      "\u001b[2;36m[16:03:35]\u001b[0m\u001b[2;36m \u001b[0m\u001b[34mINFO\u001b[0m     Collaborator one is sending task results for aggregated_model_validation, round \u001b[1;34m1\u001b[0m                                          \u001b]8;id=1600866215.2814589-722119;file:///home/itrushkin/.local/lib/python3.6/site-packages/fledge/component/aggregator/aggregator.py\u001b\\\u001b[2maggregator.py\u001b[0m\u001b]8;;\u001b\\\u001b[2m:366\u001b[0m\n",
      "\u001b[2;36m[16:03:45]\u001b[0m\u001b[2;36m \u001b[0m\u001b[34mINFO\u001b[0m     Collaborator two is sending task results for train, round \u001b[1;34m1\u001b[0m                                                                \u001b]8;id=1600866225.840201-518986;file:///home/itrushkin/.local/lib/python3.6/site-packages/fledge/component/aggregator/aggregator.py\u001b\\\u001b[2maggregator.py\u001b[0m\u001b]8;;\u001b\\\u001b[2m:366\u001b[0m\n"
     ]
    },
    {
     "name": "stdout",
     "output_type": "stream",
     "text": [
      "\u001b[2;36m[16:03:48]\u001b[0m\u001b[2;36m \u001b[0m\u001b[34mINFO\u001b[0m     Collaborator one is sending task results for train, round \u001b[1;34m1\u001b[0m                                                                \u001b]8;id=1600866228.5028062-159732;file:///home/itrushkin/.local/lib/python3.6/site-packages/fledge/component/aggregator/aggregator.py\u001b\\\u001b[2maggregator.py\u001b[0m\u001b]8;;\u001b\\\u001b[2m:366\u001b[0m\n",
      "\u001b[2;36m          \u001b[0m\u001b[2;36m \u001b[0m\u001b[34mINFO\u001b[0m     Collaborator two is sending task results for locally_tuned_model_validation, round \u001b[1;34m1\u001b[0m                                       \u001b]8;id=1600866228.9780424-619853;file:///home/itrushkin/.local/lib/python3.6/site-packages/fledge/component/aggregator/aggregator.py\u001b\\\u001b[2maggregator.py\u001b[0m\u001b]8;;\u001b\\\u001b[2m:366\u001b[0m\n",
      "\u001b[2;36m[16:03:49]\u001b[0m\u001b[2;36m \u001b[0m\u001b[34mINFO\u001b[0m     Collaborator one is sending task results for locally_tuned_model_validation, round \u001b[1;34m1\u001b[0m                                       \u001b]8;id=1600866229.1527793-425386;file:///home/itrushkin/.local/lib/python3.6/site-packages/fledge/component/aggregator/aggregator.py\u001b\\\u001b[2maggregator.py\u001b[0m\u001b]8;;\u001b\\\u001b[2m:366\u001b[0m\n",
      "\u001b[2;36m          \u001b[0m\u001b[2;36m \u001b[0m\u001b[34mINFO\u001b[0m     train task metrics...                                                                                                      \u001b]8;id=1600866229.1561077-618646;file:///home/itrushkin/.local/lib/python3.6/site-packages/fledge/component/aggregator/aggregator.py\u001b\\\u001b[2maggregator.py\u001b[0m\u001b]8;;\u001b\\\u001b[2m:502\u001b[0m\n",
      "\u001b[2;36m          \u001b[0m\u001b[2;36m \u001b[0m\u001b[34mINFO\u001b[0m     cross_entropy:  \u001b[1;34m0.3781\u001b[0m                                                                                                     \u001b]8;id=1600866229.1619666-114166;file:///home/itrushkin/.local/lib/python3.6/site-packages/fledge/component/aggregator/aggregator.py\u001b\\\u001b[2maggregator.py\u001b[0m\u001b]8;;\u001b\\\u001b[2m:531\u001b[0m\n",
      "\u001b[2;36m[16:03:50]\u001b[0m\u001b[2;36m \u001b[0m\u001b[34mINFO\u001b[0m     aggregated_model_validation task metrics...                                                                                \u001b]8;id=1600866230.2841918-390090;file:///home/itrushkin/.local/lib/python3.6/site-packages/fledge/component/aggregator/aggregator.py\u001b\\\u001b[2maggregator.py\u001b[0m\u001b]8;;\u001b\\\u001b[2m:502\u001b[0m\n",
      "\u001b[2;36m          \u001b[0m\u001b[2;36m \u001b[0m\u001b[34mINFO\u001b[0m     acc:    \u001b[1;34m0.1251\u001b[0m                                                                                                             \u001b]8;id=1600866230.289775-611069;file:///home/itrushkin/.local/lib/python3.6/site-packages/fledge/component/aggregator/aggregator.py\u001b\\\u001b[2maggregator.py\u001b[0m\u001b]8;;\u001b\\\u001b[2m:531\u001b[0m\n",
      "\u001b[2;36m          \u001b[0m\u001b[2;36m \u001b[0m\u001b[34mINFO\u001b[0m     Saved the best model with score \u001b[1;34m0.125125\u001b[0m                                                                                   \u001b]8;id=1600866230.2910988-665245;file:///home/itrushkin/.local/lib/python3.6/site-packages/fledge/component/aggregator/aggregator.py\u001b\\\u001b[2maggregator.py\u001b[0m\u001b]8;;\u001b\\\u001b[2m:536\u001b[0m\n",
      "\u001b[2;36m          \u001b[0m\u001b[2;36m \u001b[0m\u001b[34mINFO\u001b[0m     locally_tuned_model_validation task metrics...                                                                             \u001b]8;id=1600866230.4968815-7372;file:///home/itrushkin/.local/lib/python3.6/site-packages/fledge/component/aggregator/aggregator.py\u001b\\\u001b[2maggregator.py\u001b[0m\u001b]8;;\u001b\\\u001b[2m:502\u001b[0m\n",
      "\u001b[2;36m          \u001b[0m\u001b[2;36m \u001b[0m\u001b[34mINFO\u001b[0m     acc:    \u001b[1;34m0.1351\u001b[0m                                                                                                             \u001b]8;id=1600866230.507216-24592;file:///home/itrushkin/.local/lib/python3.6/site-packages/fledge/component/aggregator/aggregator.py\u001b\\\u001b[2maggregator.py\u001b[0m\u001b]8;;\u001b\\\u001b[2m:531\u001b[0m\n",
      "\u001b[2;36m          \u001b[0m\u001b[2;36m \u001b[0m\u001b[34mINFO\u001b[0m     Saving round \u001b[1;34m2\u001b[0m model...                                                                                                    \u001b]8;id=1600866230.5091677-189305;file:///home/itrushkin/.local/lib/python3.6/site-packages/fledge/component/aggregator/aggregator.py\u001b\\\u001b[2maggregator.py\u001b[0m\u001b]8;;\u001b\\\u001b[2m:592\u001b[0m\n",
      "\u001b[2;36m          \u001b[0m\u001b[2;36m \u001b[0m\u001b[34mINFO\u001b[0m     Starting round \u001b[1;34m2\u001b[0m...                                                                                                        \u001b]8;id=1600866230.714525-123794;file:///home/itrushkin/.local/lib/python3.6/site-packages/fledge/component/aggregator/aggregator.py\u001b\\\u001b[2maggregator.py\u001b[0m\u001b]8;;\u001b\\\u001b[2m:600\u001b[0m\n",
      "\u001b[2;36m          \u001b[0m\u001b[2;36m \u001b[0m\u001b[34mINFO\u001b[0m     Sending tasks to collaborator one for round \u001b[1;34m2\u001b[0m                                                                              \u001b]8;id=1600866230.7262237-604616;file:///home/itrushkin/.local/lib/python3.6/site-packages/fledge/component/aggregator/aggregator.py\u001b\\\u001b[2maggregator.py\u001b[0m\u001b]8;;\u001b\\\u001b[2m:246\u001b[0m\n",
      "\u001b[2;36m[16:03:52]\u001b[0m\u001b[2;36m \u001b[0m\u001b[34mINFO\u001b[0m     Collaborator one is sending task results for aggregated_model_validation, round \u001b[1;34m2\u001b[0m                                          \u001b]8;id=1600866232.3289344-14293;file:///home/itrushkin/.local/lib/python3.6/site-packages/fledge/component/aggregator/aggregator.py\u001b\\\u001b[2maggregator.py\u001b[0m\u001b]8;;\u001b\\\u001b[2m:366\u001b[0m\n",
      "\u001b[2;36m[16:03:59]\u001b[0m\u001b[2;36m \u001b[0m\u001b[34mINFO\u001b[0m     Sending tasks to collaborator two for round \u001b[1;34m2\u001b[0m                                                                              \u001b]8;id=1600866239.1594887-930642;file:///home/itrushkin/.local/lib/python3.6/site-packages/fledge/component/aggregator/aggregator.py\u001b\\\u001b[2maggregator.py\u001b[0m\u001b]8;;\u001b\\\u001b[2m:246\u001b[0m\n",
      "\u001b[2;36m[16:04:01]\u001b[0m\u001b[2;36m \u001b[0m\u001b[34mINFO\u001b[0m     Collaborator one is sending task results for train, round \u001b[1;34m2\u001b[0m                                                                \u001b]8;id=1600866241.0979376-490284;file:///home/itrushkin/.local/lib/python3.6/site-packages/fledge/component/aggregator/aggregator.py\u001b\\\u001b[2maggregator.py\u001b[0m\u001b]8;;\u001b\\\u001b[2m:366\u001b[0m\n",
      "\u001b[2;36m          \u001b[0m\u001b[2;36m \u001b[0m\u001b[34mINFO\u001b[0m     Collaborator one is sending task results for locally_tuned_model_validation, round \u001b[1;34m2\u001b[0m                                       \u001b]8;id=1600866241.7012124-333589;file:///home/itrushkin/.local/lib/python3.6/site-packages/fledge/component/aggregator/aggregator.py\u001b\\\u001b[2maggregator.py\u001b[0m\u001b]8;;\u001b\\\u001b[2m:366\u001b[0m\n",
      "\u001b[2;36m[16:04:02]\u001b[0m\u001b[2;36m \u001b[0m\u001b[34mINFO\u001b[0m     Collaborator two is sending task results for aggregated_model_validation, round \u001b[1;34m2\u001b[0m                                          \u001b]8;id=1600866242.6637342-39960;file:///home/itrushkin/.local/lib/python3.6/site-packages/fledge/component/aggregator/aggregator.py\u001b\\\u001b[2maggregator.py\u001b[0m\u001b]8;;\u001b\\\u001b[2m:366\u001b[0m\n",
      "\u001b[2;36m[16:04:11]\u001b[0m\u001b[2;36m \u001b[0m\u001b[34mINFO\u001b[0m     Collaborator two is sending task results for train, round \u001b[1;34m2\u001b[0m                                                                \u001b]8;id=1600866251.473726-345985;file:///home/itrushkin/.local/lib/python3.6/site-packages/fledge/component/aggregator/aggregator.py\u001b\\\u001b[2maggregator.py\u001b[0m\u001b]8;;\u001b\\\u001b[2m:366\u001b[0m\n",
      "\u001b[2;36m[16:04:12]\u001b[0m\u001b[2;36m \u001b[0m\u001b[34mINFO\u001b[0m     Collaborator two is sending task results for locally_tuned_model_validation, round \u001b[1;34m2\u001b[0m                                       \u001b]8;id=1600866252.0168407-276629;file:///home/itrushkin/.local/lib/python3.6/site-packages/fledge/component/aggregator/aggregator.py\u001b\\\u001b[2maggregator.py\u001b[0m\u001b]8;;\u001b\\\u001b[2m:366\u001b[0m\n",
      "\u001b[2;36m          \u001b[0m\u001b[2;36m \u001b[0m\u001b[34mINFO\u001b[0m     train task metrics...                                                                                                      \u001b]8;id=1600866252.0268877-105694;file:///home/itrushkin/.local/lib/python3.6/site-packages/fledge/component/aggregator/aggregator.py\u001b\\\u001b[2maggregator.py\u001b[0m\u001b]8;;\u001b\\\u001b[2m:502\u001b[0m\n",
      "\u001b[2;36m          \u001b[0m\u001b[2;36m \u001b[0m\u001b[34mINFO\u001b[0m     cross_entropy:  \u001b[1;34m0.3779\u001b[0m                                                                                                     \u001b]8;id=1600866252.0389347-837079;file:///home/itrushkin/.local/lib/python3.6/site-packages/fledge/component/aggregator/aggregator.py\u001b\\\u001b[2maggregator.py\u001b[0m\u001b]8;;\u001b\\\u001b[2m:531\u001b[0m\n",
      "\u001b[2;36m[16:04:13]\u001b[0m\u001b[2;36m \u001b[0m\u001b[34mINFO\u001b[0m     aggregated_model_validation task metrics...                                                                                \u001b]8;id=1600866253.181373-647144;file:///home/itrushkin/.local/lib/python3.6/site-packages/fledge/component/aggregator/aggregator.py\u001b\\\u001b[2maggregator.py\u001b[0m\u001b]8;;\u001b\\\u001b[2m:502\u001b[0m\n",
      "\u001b[2;36m          \u001b[0m\u001b[2;36m \u001b[0m\u001b[34mINFO\u001b[0m     acc:    \u001b[1;34m0.1161\u001b[0m                                                                                                             \u001b]8;id=1600866253.1870868-831502;file:///home/itrushkin/.local/lib/python3.6/site-packages/fledge/component/aggregator/aggregator.py\u001b\\\u001b[2maggregator.py\u001b[0m\u001b]8;;\u001b\\\u001b[2m:531\u001b[0m\n",
      "\u001b[2;36m          \u001b[0m\u001b[2;36m \u001b[0m\u001b[34mINFO\u001b[0m     locally_tuned_model_validation task metrics...                                                                             \u001b]8;id=1600866253.188388-715494;file:///home/itrushkin/.local/lib/python3.6/site-packages/fledge/component/aggregator/aggregator.py\u001b\\\u001b[2maggregator.py\u001b[0m\u001b]8;;\u001b\\\u001b[2m:502\u001b[0m\n"
     ]
    },
    {
     "name": "stdout",
     "output_type": "stream",
     "text": [
      "\u001b[2;36m          \u001b[0m\u001b[2;36m \u001b[0m\u001b[34mINFO\u001b[0m     acc:    \u001b[1;34m0.1331\u001b[0m                                                                                                             \u001b]8;id=1600866253.1943724-184257;file:///home/itrushkin/.local/lib/python3.6/site-packages/fledge/component/aggregator/aggregator.py\u001b\\\u001b[2maggregator.py\u001b[0m\u001b]8;;\u001b\\\u001b[2m:531\u001b[0m\n",
      "\u001b[2;36m          \u001b[0m\u001b[2;36m \u001b[0m\u001b[34mINFO\u001b[0m     Saving round \u001b[1;34m3\u001b[0m model...                                                                                                    \u001b]8;id=1600866253.1957562-500693;file:///home/itrushkin/.local/lib/python3.6/site-packages/fledge/component/aggregator/aggregator.py\u001b\\\u001b[2maggregator.py\u001b[0m\u001b]8;;\u001b\\\u001b[2m:592\u001b[0m\n",
      "\u001b[2;36m          \u001b[0m\u001b[2;36m \u001b[0m\u001b[34mINFO\u001b[0m     Starting round \u001b[1;34m3\u001b[0m...                                                                                                        \u001b]8;id=1600866253.4066548-290973;file:///home/itrushkin/.local/lib/python3.6/site-packages/fledge/component/aggregator/aggregator.py\u001b\\\u001b[2maggregator.py\u001b[0m\u001b]8;;\u001b\\\u001b[2m:600\u001b[0m\n",
      "\u001b[2;36m          \u001b[0m\u001b[2;36m \u001b[0m\u001b[34mINFO\u001b[0m     Sending tasks to collaborator two for round \u001b[1;34m3\u001b[0m                                                                              \u001b]8;id=1600866253.418692-419221;file:///home/itrushkin/.local/lib/python3.6/site-packages/fledge/component/aggregator/aggregator.py\u001b\\\u001b[2maggregator.py\u001b[0m\u001b]8;;\u001b\\\u001b[2m:246\u001b[0m\n",
      "\u001b[2;36m[16:04:15]\u001b[0m\u001b[2;36m \u001b[0m\u001b[34mINFO\u001b[0m     Collaborator two is sending task results for aggregated_model_validation, round \u001b[1;34m3\u001b[0m                                          \u001b]8;id=1600866255.0714989-688174;file:///home/itrushkin/.local/lib/python3.6/site-packages/fledge/component/aggregator/aggregator.py\u001b\\\u001b[2maggregator.py\u001b[0m\u001b]8;;\u001b\\\u001b[2m:366\u001b[0m\n",
      "\u001b[2;36m[16:04:22]\u001b[0m\u001b[2;36m \u001b[0m\u001b[34mINFO\u001b[0m     Sending tasks to collaborator one for round \u001b[1;34m3\u001b[0m                                                                              \u001b]8;id=1600866262.1163871-862627;file:///home/itrushkin/.local/lib/python3.6/site-packages/fledge/component/aggregator/aggregator.py\u001b\\\u001b[2maggregator.py\u001b[0m\u001b]8;;\u001b\\\u001b[2m:246\u001b[0m\n",
      "\u001b[2;36m[16:04:23]\u001b[0m\u001b[2;36m \u001b[0m\u001b[34mINFO\u001b[0m     Collaborator two is sending task results for train, round \u001b[1;34m3\u001b[0m                                                                \u001b]8;id=1600866263.6945767-561799;file:///home/itrushkin/.local/lib/python3.6/site-packages/fledge/component/aggregator/aggregator.py\u001b\\\u001b[2maggregator.py\u001b[0m\u001b]8;;\u001b\\\u001b[2m:366\u001b[0m\n",
      "\u001b[2;36m[16:04:24]\u001b[0m\u001b[2;36m \u001b[0m\u001b[34mINFO\u001b[0m     Collaborator two is sending task results for locally_tuned_model_validation, round \u001b[1;34m3\u001b[0m                                       \u001b]8;id=1600866264.3646693-17749;file:///home/itrushkin/.local/lib/python3.6/site-packages/fledge/component/aggregator/aggregator.py\u001b\\\u001b[2maggregator.py\u001b[0m\u001b]8;;\u001b\\\u001b[2m:366\u001b[0m\n",
      "\u001b[2;36m[16:04:25]\u001b[0m\u001b[2;36m \u001b[0m\u001b[34mINFO\u001b[0m     Collaborator one is sending task results for aggregated_model_validation, round \u001b[1;34m3\u001b[0m                                          \u001b]8;id=1600866265.3211238-793864;file:///home/itrushkin/.local/lib/python3.6/site-packages/fledge/component/aggregator/aggregator.py\u001b\\\u001b[2maggregator.py\u001b[0m\u001b]8;;\u001b\\\u001b[2m:366\u001b[0m\n",
      "\u001b[2;36m[16:04:34]\u001b[0m\u001b[2;36m \u001b[0m\u001b[34mINFO\u001b[0m     Collaborator one is sending task results for train, round \u001b[1;34m3\u001b[0m                                                                \u001b]8;id=1600866274.0825517-836598;file:///home/itrushkin/.local/lib/python3.6/site-packages/fledge/component/aggregator/aggregator.py\u001b\\\u001b[2maggregator.py\u001b[0m\u001b]8;;\u001b\\\u001b[2m:366\u001b[0m\n",
      "\u001b[2;36m          \u001b[0m\u001b[2;36m \u001b[0m\u001b[34mINFO\u001b[0m     Collaborator one is sending task results for locally_tuned_model_validation, round \u001b[1;34m3\u001b[0m                                       \u001b]8;id=1600866274.669448-373222;file:///home/itrushkin/.local/lib/python3.6/site-packages/fledge/component/aggregator/aggregator.py\u001b\\\u001b[2maggregator.py\u001b[0m\u001b]8;;\u001b\\\u001b[2m:366\u001b[0m\n",
      "\u001b[2;36m          \u001b[0m\u001b[2;36m \u001b[0m\u001b[34mINFO\u001b[0m     train task metrics...                                                                                                      \u001b]8;id=1600866274.6728396-156411;file:///home/itrushkin/.local/lib/python3.6/site-packages/fledge/component/aggregator/aggregator.py\u001b\\\u001b[2maggregator.py\u001b[0m\u001b]8;;\u001b\\\u001b[2m:502\u001b[0m\n",
      "\u001b[2;36m          \u001b[0m\u001b[2;36m \u001b[0m\u001b[34mINFO\u001b[0m     cross_entropy:  \u001b[1;34m0.3778\u001b[0m                                                                                                     \u001b]8;id=1600866274.6790638-693869;file:///home/itrushkin/.local/lib/python3.6/site-packages/fledge/component/aggregator/aggregator.py\u001b\\\u001b[2maggregator.py\u001b[0m\u001b]8;;\u001b\\\u001b[2m:531\u001b[0m\n",
      "\u001b[2;36m[16:04:35]\u001b[0m\u001b[2;36m \u001b[0m\u001b[34mINFO\u001b[0m     aggregated_model_validation task metrics...                                                                                \u001b]8;id=1600866275.8193011-429582;file:///home/itrushkin/.local/lib/python3.6/site-packages/fledge/component/aggregator/aggregator.py\u001b\\\u001b[2maggregator.py\u001b[0m\u001b]8;;\u001b\\\u001b[2m:502\u001b[0m\n",
      "\u001b[2;36m          \u001b[0m\u001b[2;36m \u001b[0m\u001b[34mINFO\u001b[0m     acc:    \u001b[1;34m0.1071\u001b[0m                                                                                                             \u001b]8;id=1600866275.8253078-424410;file:///home/itrushkin/.local/lib/python3.6/site-packages/fledge/component/aggregator/aggregator.py\u001b\\\u001b[2maggregator.py\u001b[0m\u001b]8;;\u001b\\\u001b[2m:531\u001b[0m\n",
      "\u001b[2;36m          \u001b[0m\u001b[2;36m \u001b[0m\u001b[34mINFO\u001b[0m     locally_tuned_model_validation task metrics...                                                                             \u001b]8;id=1600866275.826599-55079;file:///home/itrushkin/.local/lib/python3.6/site-packages/fledge/component/aggregator/aggregator.py\u001b\\\u001b[2maggregator.py\u001b[0m\u001b]8;;\u001b\\\u001b[2m:502\u001b[0m\n",
      "\u001b[2;36m          \u001b[0m\u001b[2;36m \u001b[0m\u001b[34mINFO\u001b[0m     acc:    \u001b[1;34m0.1201\u001b[0m                                                                                                             \u001b]8;id=1600866275.832496-699631;file:///home/itrushkin/.local/lib/python3.6/site-packages/fledge/component/aggregator/aggregator.py\u001b\\\u001b[2maggregator.py\u001b[0m\u001b]8;;\u001b\\\u001b[2m:531\u001b[0m\n",
      "\u001b[2;36m          \u001b[0m\u001b[2;36m \u001b[0m\u001b[34mINFO\u001b[0m     Saving round \u001b[1;34m4\u001b[0m model...                                                                                                    \u001b]8;id=1600866275.8337831-501225;file:///home/itrushkin/.local/lib/python3.6/site-packages/fledge/component/aggregator/aggregator.py\u001b\\\u001b[2maggregator.py\u001b[0m\u001b]8;;\u001b\\\u001b[2m:592\u001b[0m\n",
      "\u001b[2;36m[16:04:36]\u001b[0m\u001b[2;36m \u001b[0m\u001b[34mINFO\u001b[0m     Starting round \u001b[1;34m4\u001b[0m...                                                                                                        \u001b]8;id=1600866276.0311778-457587;file:///home/itrushkin/.local/lib/python3.6/site-packages/fledge/component/aggregator/aggregator.py\u001b\\\u001b[2maggregator.py\u001b[0m\u001b]8;;\u001b\\\u001b[2m:600\u001b[0m\n",
      "\u001b[2;36m          \u001b[0m\u001b[2;36m \u001b[0m\u001b[34mINFO\u001b[0m     Sending tasks to collaborator one for round \u001b[1;34m4\u001b[0m                                                                              \u001b]8;id=1600866276.0429914-147495;file:///home/itrushkin/.local/lib/python3.6/site-packages/fledge/component/aggregator/aggregator.py\u001b\\\u001b[2maggregator.py\u001b[0m\u001b]8;;\u001b\\\u001b[2m:246\u001b[0m\n",
      "\u001b[2;36m[16:04:37]\u001b[0m\u001b[2;36m \u001b[0m\u001b[34mINFO\u001b[0m     Collaborator one is sending task results for aggregated_model_validation, round \u001b[1;34m4\u001b[0m                                          \u001b]8;id=1600866277.7986934-972382;file:///home/itrushkin/.local/lib/python3.6/site-packages/fledge/component/aggregator/aggregator.py\u001b\\\u001b[2maggregator.py\u001b[0m\u001b]8;;\u001b\\\u001b[2m:366\u001b[0m\n",
      "\u001b[2;36m[16:04:44]\u001b[0m\u001b[2;36m \u001b[0m\u001b[34mINFO\u001b[0m     Sending tasks to collaborator two for round \u001b[1;34m4\u001b[0m                                                                              \u001b]8;id=1600866284.58197-460285;file:///home/itrushkin/.local/lib/python3.6/site-packages/fledge/component/aggregator/aggregator.py\u001b\\\u001b[2maggregator.py\u001b[0m\u001b]8;;\u001b\\\u001b[2m:246\u001b[0m\n",
      "\u001b[2;36m[16:04:46]\u001b[0m\u001b[2;36m \u001b[0m\u001b[34mINFO\u001b[0m     Collaborator one is sending task results for train, round \u001b[1;34m4\u001b[0m                                                                \u001b]8;id=1600866286.702382-622873;file:///home/itrushkin/.local/lib/python3.6/site-packages/fledge/component/aggregator/aggregator.py\u001b\\\u001b[2maggregator.py\u001b[0m\u001b]8;;\u001b\\\u001b[2m:366\u001b[0m\n"
     ]
    },
    {
     "name": "stdout",
     "output_type": "stream",
     "text": [
      "\u001b[2;36m[16:04:47]\u001b[0m\u001b[2;36m \u001b[0m\u001b[34mINFO\u001b[0m     Collaborator one is sending task results for locally_tuned_model_validation, round \u001b[1;34m4\u001b[0m                                       \u001b]8;id=1600866287.301176-852965;file:///home/itrushkin/.local/lib/python3.6/site-packages/fledge/component/aggregator/aggregator.py\u001b\\\u001b[2maggregator.py\u001b[0m\u001b]8;;\u001b\\\u001b[2m:366\u001b[0m\n",
      "\u001b[2;36m[16:04:48]\u001b[0m\u001b[2;36m \u001b[0m\u001b[34mINFO\u001b[0m     Collaborator two is sending task results for aggregated_model_validation, round \u001b[1;34m4\u001b[0m                                          \u001b]8;id=1600866288.2207577-829396;file:///home/itrushkin/.local/lib/python3.6/site-packages/fledge/component/aggregator/aggregator.py\u001b\\\u001b[2maggregator.py\u001b[0m\u001b]8;;\u001b\\\u001b[2m:366\u001b[0m\n",
      "\u001b[2;36m[16:04:56]\u001b[0m\u001b[2;36m \u001b[0m\u001b[34mINFO\u001b[0m     Collaborator two is sending task results for train, round \u001b[1;34m4\u001b[0m                                                                \u001b]8;id=1600866296.8102508-878749;file:///home/itrushkin/.local/lib/python3.6/site-packages/fledge/component/aggregator/aggregator.py\u001b\\\u001b[2maggregator.py\u001b[0m\u001b]8;;\u001b\\\u001b[2m:366\u001b[0m\n",
      "\u001b[2;36m[16:04:57]\u001b[0m\u001b[2;36m \u001b[0m\u001b[34mINFO\u001b[0m     Collaborator two is sending task results for locally_tuned_model_validation, round \u001b[1;34m4\u001b[0m                                       \u001b]8;id=1600866297.3854012-625358;file:///home/itrushkin/.local/lib/python3.6/site-packages/fledge/component/aggregator/aggregator.py\u001b\\\u001b[2maggregator.py\u001b[0m\u001b]8;;\u001b\\\u001b[2m:366\u001b[0m\n",
      "\u001b[2;36m          \u001b[0m\u001b[2;36m \u001b[0m\u001b[34mINFO\u001b[0m     train task metrics...                                                                                                      \u001b]8;id=1600866297.3888137-649500;file:///home/itrushkin/.local/lib/python3.6/site-packages/fledge/component/aggregator/aggregator.py\u001b\\\u001b[2maggregator.py\u001b[0m\u001b]8;;\u001b\\\u001b[2m:502\u001b[0m\n",
      "\u001b[2;36m          \u001b[0m\u001b[2;36m \u001b[0m\u001b[34mINFO\u001b[0m     cross_entropy:  \u001b[1;34m0.3777\u001b[0m                                                                                                     \u001b]8;id=1600866297.3950484-668787;file:///home/itrushkin/.local/lib/python3.6/site-packages/fledge/component/aggregator/aggregator.py\u001b\\\u001b[2maggregator.py\u001b[0m\u001b]8;;\u001b\\\u001b[2m:531\u001b[0m\n",
      "\u001b[2;36m[16:04:58]\u001b[0m\u001b[2;36m \u001b[0m\u001b[34mINFO\u001b[0m     aggregated_model_validation task metrics...                                                                                \u001b]8;id=1600866298.5517793-261209;file:///home/itrushkin/.local/lib/python3.6/site-packages/fledge/component/aggregator/aggregator.py\u001b\\\u001b[2maggregator.py\u001b[0m\u001b]8;;\u001b\\\u001b[2m:502\u001b[0m\n",
      "\u001b[2;36m          \u001b[0m\u001b[2;36m \u001b[0m\u001b[34mINFO\u001b[0m     acc:    \u001b[1;34m0.1191\u001b[0m                                                                                                             \u001b]8;id=1600866298.5580444-536712;file:///home/itrushkin/.local/lib/python3.6/site-packages/fledge/component/aggregator/aggregator.py\u001b\\\u001b[2maggregator.py\u001b[0m\u001b]8;;\u001b\\\u001b[2m:531\u001b[0m\n",
      "\u001b[2;36m          \u001b[0m\u001b[2;36m \u001b[0m\u001b[34mINFO\u001b[0m     locally_tuned_model_validation task metrics...                                                                             \u001b]8;id=1600866298.5593414-961287;file:///home/itrushkin/.local/lib/python3.6/site-packages/fledge/component/aggregator/aggregator.py\u001b\\\u001b[2maggregator.py\u001b[0m\u001b]8;;\u001b\\\u001b[2m:502\u001b[0m\n",
      "\u001b[2;36m          \u001b[0m\u001b[2;36m \u001b[0m\u001b[34mINFO\u001b[0m     acc:    \u001b[1;34m0.1381\u001b[0m                                                                                                             \u001b]8;id=1600866298.5653443-908549;file:///home/itrushkin/.local/lib/python3.6/site-packages/fledge/component/aggregator/aggregator.py\u001b\\\u001b[2maggregator.py\u001b[0m\u001b]8;;\u001b\\\u001b[2m:531\u001b[0m\n",
      "\u001b[2;36m          \u001b[0m\u001b[2;36m \u001b[0m\u001b[34mINFO\u001b[0m     Saving round \u001b[1;34m5\u001b[0m model...                                                                                                    \u001b]8;id=1600866298.5666335-300707;file:///home/itrushkin/.local/lib/python3.6/site-packages/fledge/component/aggregator/aggregator.py\u001b\\\u001b[2maggregator.py\u001b[0m\u001b]8;;\u001b\\\u001b[2m:592\u001b[0m\n",
      "\u001b[2;36m          \u001b[0m\u001b[2;36m \u001b[0m\u001b[34mINFO\u001b[0m     Starting round \u001b[1;34m5\u001b[0m...                                                                                                        \u001b]8;id=1600866298.7809377-906661;file:///home/itrushkin/.local/lib/python3.6/site-packages/fledge/component/aggregator/aggregator.py\u001b\\\u001b[2maggregator.py\u001b[0m\u001b]8;;\u001b\\\u001b[2m:600\u001b[0m\n",
      "\u001b[2;36m          \u001b[0m\u001b[2;36m \u001b[0m\u001b[34mINFO\u001b[0m     Sending tasks to collaborator two for round \u001b[1;34m5\u001b[0m                                                                              \u001b]8;id=1600866298.7889013-213221;file:///home/itrushkin/.local/lib/python3.6/site-packages/fledge/component/aggregator/aggregator.py\u001b\\\u001b[2maggregator.py\u001b[0m\u001b]8;;\u001b\\\u001b[2m:246\u001b[0m\n",
      "\u001b[2;36m[16:05:00]\u001b[0m\u001b[2;36m \u001b[0m\u001b[34mINFO\u001b[0m     Collaborator two is sending task results for aggregated_model_validation, round \u001b[1;34m5\u001b[0m                                          \u001b]8;id=1600866300.4168556-575495;file:///home/itrushkin/.local/lib/python3.6/site-packages/fledge/component/aggregator/aggregator.py\u001b\\\u001b[2maggregator.py\u001b[0m\u001b]8;;\u001b\\\u001b[2m:366\u001b[0m\n",
      "\u001b[2;36m[16:05:07]\u001b[0m\u001b[2;36m \u001b[0m\u001b[34mINFO\u001b[0m     Sending tasks to collaborator one for round \u001b[1;34m5\u001b[0m                                                                              \u001b]8;id=1600866307.6607757-753300;file:///home/itrushkin/.local/lib/python3.6/site-packages/fledge/component/aggregator/aggregator.py\u001b\\\u001b[2maggregator.py\u001b[0m\u001b]8;;\u001b\\\u001b[2m:246\u001b[0m\n",
      "\u001b[2;36m[16:05:08]\u001b[0m\u001b[2;36m \u001b[0m\u001b[34mINFO\u001b[0m     Collaborator two is sending task results for train, round \u001b[1;34m5\u001b[0m                                                                \u001b]8;id=1600866308.8915927-642326;file:///home/itrushkin/.local/lib/python3.6/site-packages/fledge/component/aggregator/aggregator.py\u001b\\\u001b[2maggregator.py\u001b[0m\u001b]8;;\u001b\\\u001b[2m:366\u001b[0m\n",
      "/home/itrushkin/.local/lib/python3.6/site-packages/fledge/databases/tensor_db.py:62: UserWarning: Boolean Series key will be reindexed to match DataFrame index.\n",
      "  (self.tensor_db['tags'] == tags)]\n",
      "\u001b[2;36m[16:05:09]\u001b[0m\u001b[2;36m \u001b[0m\u001b[34mINFO\u001b[0m     Collaborator two is sending task results for locally_tuned_model_validation, round \u001b[1;34m5\u001b[0m                                       \u001b]8;id=1600866309.6190076-956024;file:///home/itrushkin/.local/lib/python3.6/site-packages/fledge/component/aggregator/aggregator.py\u001b\\\u001b[2maggregator.py\u001b[0m\u001b]8;;\u001b\\\u001b[2m:366\u001b[0m\n",
      "\u001b[2;36m[16:05:10]\u001b[0m\u001b[2;36m \u001b[0m\u001b[34mINFO\u001b[0m     Collaborator one is sending task results for aggregated_model_validation, round \u001b[1;34m5\u001b[0m                                          \u001b]8;id=1600866310.6886988-303707;file:///home/itrushkin/.local/lib/python3.6/site-packages/fledge/component/aggregator/aggregator.py\u001b\\\u001b[2maggregator.py\u001b[0m\u001b]8;;\u001b\\\u001b[2m:366\u001b[0m\n",
      "\u001b[2;36m[16:05:19]\u001b[0m\u001b[2;36m \u001b[0m\u001b[34mINFO\u001b[0m     Collaborator one is sending task results for train, round \u001b[1;34m5\u001b[0m                                                                \u001b]8;id=1600866319.3689296-657236;file:///home/itrushkin/.local/lib/python3.6/site-packages/fledge/component/aggregator/aggregator.py\u001b\\\u001b[2maggregator.py\u001b[0m\u001b]8;;\u001b\\\u001b[2m:366\u001b[0m\n",
      "\u001b[2;36m          \u001b[0m\u001b[2;36m \u001b[0m\u001b[34mINFO\u001b[0m     Collaborator one is sending task results for locally_tuned_model_validation, round \u001b[1;34m5\u001b[0m                                       \u001b]8;id=1600866319.9089828-574116;file:///home/itrushkin/.local/lib/python3.6/site-packages/fledge/component/aggregator/aggregator.py\u001b\\\u001b[2maggregator.py\u001b[0m\u001b]8;;\u001b\\\u001b[2m:366\u001b[0m\n",
      "\u001b[2;36m          \u001b[0m\u001b[2;36m \u001b[0m\u001b[34mINFO\u001b[0m     train task metrics...                                                                                                      \u001b]8;id=1600866319.9123836-223970;file:///home/itrushkin/.local/lib/python3.6/site-packages/fledge/component/aggregator/aggregator.py\u001b\\\u001b[2maggregator.py\u001b[0m\u001b]8;;\u001b\\\u001b[2m:502\u001b[0m\n",
      "\u001b[2;36m          \u001b[0m\u001b[2;36m \u001b[0m\u001b[34mINFO\u001b[0m     cross_entropy:  \u001b[1;34m0.3777\u001b[0m                                                                                                     \u001b]8;id=1600866319.918975-33038;file:///home/itrushkin/.local/lib/python3.6/site-packages/fledge/component/aggregator/aggregator.py\u001b\\\u001b[2maggregator.py\u001b[0m\u001b]8;;\u001b\\\u001b[2m:531\u001b[0m\n",
      "\u001b[2;36m[16:05:21]\u001b[0m\u001b[2;36m \u001b[0m\u001b[34mINFO\u001b[0m     aggregated_model_validation task metrics...                                                                                \u001b]8;id=1600866321.1011975-527123;file:///home/itrushkin/.local/lib/python3.6/site-packages/fledge/component/aggregator/aggregator.py\u001b\\\u001b[2maggregator.py\u001b[0m\u001b]8;;\u001b\\\u001b[2m:502\u001b[0m\n",
      "\u001b[2;36m          \u001b[0m\u001b[2;36m \u001b[0m\u001b[34mINFO\u001b[0m     acc:    \u001b[1;34m0.1231\u001b[0m                                                                                                             \u001b]8;id=1600866321.1076095-141739;file:///home/itrushkin/.local/lib/python3.6/site-packages/fledge/component/aggregator/aggregator.py\u001b\\\u001b[2maggregator.py\u001b[0m\u001b]8;;\u001b\\\u001b[2m:531\u001b[0m\n",
      "\u001b[2;36m          \u001b[0m\u001b[2;36m \u001b[0m\u001b[34mINFO\u001b[0m     locally_tuned_model_validation task metrics...                                                                             \u001b]8;id=1600866321.108924-775554;file:///home/itrushkin/.local/lib/python3.6/site-packages/fledge/component/aggregator/aggregator.py\u001b\\\u001b[2maggregator.py\u001b[0m\u001b]8;;\u001b\\\u001b[2m:502\u001b[0m\n",
      "\u001b[2;36m          \u001b[0m\u001b[2;36m \u001b[0m\u001b[34mINFO\u001b[0m     acc:    \u001b[1;34m0.1281\u001b[0m                                                                                                             \u001b]8;id=1600866321.1153028-944699;file:///home/itrushkin/.local/lib/python3.6/site-packages/fledge/component/aggregator/aggregator.py\u001b\\\u001b[2maggregator.py\u001b[0m\u001b]8;;\u001b\\\u001b[2m:531\u001b[0m\n"
     ]
    },
    {
     "name": "stdout",
     "output_type": "stream",
     "text": [
      "\u001b[2;36m          \u001b[0m\u001b[2;36m \u001b[0m\u001b[34mINFO\u001b[0m     Saving round \u001b[1;34m6\u001b[0m model...                                                                                                    \u001b]8;id=1600866321.116677-317379;file:///home/itrushkin/.local/lib/python3.6/site-packages/fledge/component/aggregator/aggregator.py\u001b\\\u001b[2maggregator.py\u001b[0m\u001b]8;;\u001b\\\u001b[2m:592\u001b[0m\n",
      "\u001b[2;36m          \u001b[0m\u001b[2;36m \u001b[0m\u001b[34mINFO\u001b[0m     Starting round \u001b[1;34m6\u001b[0m...                                                                                                        \u001b]8;id=1600866321.333997-842328;file:///home/itrushkin/.local/lib/python3.6/site-packages/fledge/component/aggregator/aggregator.py\u001b\\\u001b[2maggregator.py\u001b[0m\u001b]8;;\u001b\\\u001b[2m:600\u001b[0m\n",
      "\u001b[2;36m          \u001b[0m\u001b[2;36m \u001b[0m\u001b[34mINFO\u001b[0m     Sending tasks to collaborator one for round \u001b[1;34m6\u001b[0m                                                                              \u001b]8;id=1600866321.3439639-421516;file:///home/itrushkin/.local/lib/python3.6/site-packages/fledge/component/aggregator/aggregator.py\u001b\\\u001b[2maggregator.py\u001b[0m\u001b]8;;\u001b\\\u001b[2m:246\u001b[0m\n",
      "\u001b[2;36m[16:05:22]\u001b[0m\u001b[2;36m \u001b[0m\u001b[34mINFO\u001b[0m     Collaborator one is sending task results for aggregated_model_validation, round \u001b[1;34m6\u001b[0m                                          \u001b]8;id=1600866322.9876459-213201;file:///home/itrushkin/.local/lib/python3.6/site-packages/fledge/component/aggregator/aggregator.py\u001b\\\u001b[2maggregator.py\u001b[0m\u001b]8;;\u001b\\\u001b[2m:366\u001b[0m\n",
      "\u001b[2;36m[16:05:29]\u001b[0m\u001b[2;36m \u001b[0m\u001b[34mINFO\u001b[0m     Sending tasks to collaborator two for round \u001b[1;34m6\u001b[0m                                                                              \u001b]8;id=1600866329.8004081-987080;file:///home/itrushkin/.local/lib/python3.6/site-packages/fledge/component/aggregator/aggregator.py\u001b\\\u001b[2maggregator.py\u001b[0m\u001b]8;;\u001b\\\u001b[2m:246\u001b[0m\n",
      "\u001b[2;36m[16:05:31]\u001b[0m\u001b[2;36m \u001b[0m\u001b[34mINFO\u001b[0m     Collaborator one is sending task results for train, round \u001b[1;34m6\u001b[0m                                                                \u001b]8;id=1600866331.9234755-673299;file:///home/itrushkin/.local/lib/python3.6/site-packages/fledge/component/aggregator/aggregator.py\u001b\\\u001b[2maggregator.py\u001b[0m\u001b]8;;\u001b\\\u001b[2m:366\u001b[0m\n",
      "\u001b[2;36m[16:05:32]\u001b[0m\u001b[2;36m \u001b[0m\u001b[34mINFO\u001b[0m     Collaborator one is sending task results for locally_tuned_model_validation, round \u001b[1;34m6\u001b[0m                                       \u001b]8;id=1600866332.541114-903191;file:///home/itrushkin/.local/lib/python3.6/site-packages/fledge/component/aggregator/aggregator.py\u001b\\\u001b[2maggregator.py\u001b[0m\u001b]8;;\u001b\\\u001b[2m:366\u001b[0m\n",
      "\u001b[2;36m[16:05:33]\u001b[0m\u001b[2;36m \u001b[0m\u001b[34mINFO\u001b[0m     Collaborator two is sending task results for aggregated_model_validation, round \u001b[1;34m6\u001b[0m                                          \u001b]8;id=1600866333.5455468-248055;file:///home/itrushkin/.local/lib/python3.6/site-packages/fledge/component/aggregator/aggregator.py\u001b\\\u001b[2maggregator.py\u001b[0m\u001b]8;;\u001b\\\u001b[2m:366\u001b[0m\n",
      "\u001b[2;36m[16:05:42]\u001b[0m\u001b[2;36m \u001b[0m\u001b[34mINFO\u001b[0m     Collaborator two is sending task results for train, round \u001b[1;34m6\u001b[0m                                                                \u001b]8;id=1600866342.1095667-99865;file:///home/itrushkin/.local/lib/python3.6/site-packages/fledge/component/aggregator/aggregator.py\u001b\\\u001b[2maggregator.py\u001b[0m\u001b]8;;\u001b\\\u001b[2m:366\u001b[0m\n",
      "\u001b[2;36m          \u001b[0m\u001b[2;36m \u001b[0m\u001b[34mINFO\u001b[0m     Collaborator two is sending task results for locally_tuned_model_validation, round \u001b[1;34m6\u001b[0m                                       \u001b]8;id=1600866342.6838088-289355;file:///home/itrushkin/.local/lib/python3.6/site-packages/fledge/component/aggregator/aggregator.py\u001b\\\u001b[2maggregator.py\u001b[0m\u001b]8;;\u001b\\\u001b[2m:366\u001b[0m\n",
      "\u001b[2;36m          \u001b[0m\u001b[2;36m \u001b[0m\u001b[34mINFO\u001b[0m     train task metrics...                                                                                                      \u001b]8;id=1600866342.6945524-303638;file:///home/itrushkin/.local/lib/python3.6/site-packages/fledge/component/aggregator/aggregator.py\u001b\\\u001b[2maggregator.py\u001b[0m\u001b]8;;\u001b\\\u001b[2m:502\u001b[0m\n",
      "\u001b[2;36m          \u001b[0m\u001b[2;36m \u001b[0m\u001b[34mINFO\u001b[0m     cross_entropy:  \u001b[1;34m0.3773\u001b[0m                                                                                                     \u001b]8;id=1600866342.7079675-998549;file:///home/itrushkin/.local/lib/python3.6/site-packages/fledge/component/aggregator/aggregator.py\u001b\\\u001b[2maggregator.py\u001b[0m\u001b]8;;\u001b\\\u001b[2m:531\u001b[0m\n",
      "\u001b[2;36m[16:05:43]\u001b[0m\u001b[2;36m \u001b[0m\u001b[34mINFO\u001b[0m     aggregated_model_validation task metrics...                                                                                \u001b]8;id=1600866343.9148154-300852;file:///home/itrushkin/.local/lib/python3.6/site-packages/fledge/component/aggregator/aggregator.py\u001b\\\u001b[2maggregator.py\u001b[0m\u001b]8;;\u001b\\\u001b[2m:502\u001b[0m\n",
      "\u001b[2;36m          \u001b[0m\u001b[2;36m \u001b[0m\u001b[34mINFO\u001b[0m     acc:    \u001b[1;34m0.1201\u001b[0m                                                                                                             \u001b]8;id=1600866343.9216368-233048;file:///home/itrushkin/.local/lib/python3.6/site-packages/fledge/component/aggregator/aggregator.py\u001b\\\u001b[2maggregator.py\u001b[0m\u001b]8;;\u001b\\\u001b[2m:531\u001b[0m\n",
      "\u001b[2;36m          \u001b[0m\u001b[2;36m \u001b[0m\u001b[34mINFO\u001b[0m     locally_tuned_model_validation task metrics...                                                                             \u001b]8;id=1600866343.9229288-448530;file:///home/itrushkin/.local/lib/python3.6/site-packages/fledge/component/aggregator/aggregator.py\u001b\\\u001b[2maggregator.py\u001b[0m\u001b]8;;\u001b\\\u001b[2m:502\u001b[0m\n",
      "\u001b[2;36m          \u001b[0m\u001b[2;36m \u001b[0m\u001b[34mINFO\u001b[0m     acc:    \u001b[1;34m0.1822\u001b[0m                                                                                                             \u001b]8;id=1600866343.9296148-198418;file:///home/itrushkin/.local/lib/python3.6/site-packages/fledge/component/aggregator/aggregator.py\u001b\\\u001b[2maggregator.py\u001b[0m\u001b]8;;\u001b\\\u001b[2m:531\u001b[0m\n",
      "\u001b[2;36m          \u001b[0m\u001b[2;36m \u001b[0m\u001b[34mINFO\u001b[0m     Saving round \u001b[1;34m7\u001b[0m model...                                                                                                    \u001b]8;id=1600866343.930906-180903;file:///home/itrushkin/.local/lib/python3.6/site-packages/fledge/component/aggregator/aggregator.py\u001b\\\u001b[2maggregator.py\u001b[0m\u001b]8;;\u001b\\\u001b[2m:592\u001b[0m\n",
      "\u001b[2;36m[16:05:44]\u001b[0m\u001b[2;36m \u001b[0m\u001b[34mINFO\u001b[0m     Starting round \u001b[1;34m7\u001b[0m...                                                                                                        \u001b]8;id=1600866344.1415691-681215;file:///home/itrushkin/.local/lib/python3.6/site-packages/fledge/component/aggregator/aggregator.py\u001b\\\u001b[2maggregator.py\u001b[0m\u001b]8;;\u001b\\\u001b[2m:600\u001b[0m\n",
      "\u001b[2;36m          \u001b[0m\u001b[2;36m \u001b[0m\u001b[34mINFO\u001b[0m     Sending tasks to collaborator two for round \u001b[1;34m7\u001b[0m                                                                              \u001b]8;id=1600866344.1530247-219873;file:///home/itrushkin/.local/lib/python3.6/site-packages/fledge/component/aggregator/aggregator.py\u001b\\\u001b[2maggregator.py\u001b[0m\u001b]8;;\u001b\\\u001b[2m:246\u001b[0m\n",
      "\u001b[2;36m[16:05:45]\u001b[0m\u001b[2;36m \u001b[0m\u001b[34mINFO\u001b[0m     Collaborator two is sending task results for aggregated_model_validation, round \u001b[1;34m7\u001b[0m                                          \u001b]8;id=1600866345.864936-517875;file:///home/itrushkin/.local/lib/python3.6/site-packages/fledge/component/aggregator/aggregator.py\u001b\\\u001b[2maggregator.py\u001b[0m\u001b]8;;\u001b\\\u001b[2m:366\u001b[0m\n",
      "\u001b[2;36m[16:05:52]\u001b[0m\u001b[2;36m \u001b[0m\u001b[34mINFO\u001b[0m     Sending tasks to collaborator one for round \u001b[1;34m7\u001b[0m                                                                              \u001b]8;id=1600866352.6864784-184669;file:///home/itrushkin/.local/lib/python3.6/site-packages/fledge/component/aggregator/aggregator.py\u001b\\\u001b[2maggregator.py\u001b[0m\u001b]8;;\u001b\\\u001b[2m:246\u001b[0m\n",
      "\u001b[2;36m[16:05:54]\u001b[0m\u001b[2;36m \u001b[0m\u001b[34mINFO\u001b[0m     Collaborator two is sending task results for train, round \u001b[1;34m7\u001b[0m                                                                \u001b]8;id=1600866354.8777196-89324;file:///home/itrushkin/.local/lib/python3.6/site-packages/fledge/component/aggregator/aggregator.py\u001b\\\u001b[2maggregator.py\u001b[0m\u001b]8;;\u001b\\\u001b[2m:366\u001b[0m\n",
      "\u001b[2;36m[16:05:55]\u001b[0m\u001b[2;36m \u001b[0m\u001b[34mINFO\u001b[0m     Collaborator two is sending task results for locally_tuned_model_validation, round \u001b[1;34m7\u001b[0m                                       \u001b]8;id=1600866355.5869951-42306;file:///home/itrushkin/.local/lib/python3.6/site-packages/fledge/component/aggregator/aggregator.py\u001b\\\u001b[2maggregator.py\u001b[0m\u001b]8;;\u001b\\\u001b[2m:366\u001b[0m\n"
     ]
    },
    {
     "name": "stdout",
     "output_type": "stream",
     "text": [
      "\u001b[2;36m[16:05:56]\u001b[0m\u001b[2;36m \u001b[0m\u001b[34mINFO\u001b[0m     Collaborator one is sending task results for aggregated_model_validation, round \u001b[1;34m7\u001b[0m                                          \u001b]8;id=1600866356.4442596-560908;file:///home/itrushkin/.local/lib/python3.6/site-packages/fledge/component/aggregator/aggregator.py\u001b\\\u001b[2maggregator.py\u001b[0m\u001b]8;;\u001b\\\u001b[2m:366\u001b[0m\n",
      "\u001b[2;36m[16:06:05]\u001b[0m\u001b[2;36m \u001b[0m\u001b[34mINFO\u001b[0m     Collaborator one is sending task results for train, round \u001b[1;34m7\u001b[0m                                                                \u001b]8;id=1600866365.1202202-461656;file:///home/itrushkin/.local/lib/python3.6/site-packages/fledge/component/aggregator/aggregator.py\u001b\\\u001b[2maggregator.py\u001b[0m\u001b]8;;\u001b\\\u001b[2m:366\u001b[0m\n",
      "\u001b[2;36m          \u001b[0m\u001b[2;36m \u001b[0m\u001b[34mINFO\u001b[0m     Collaborator one is sending task results for locally_tuned_model_validation, round \u001b[1;34m7\u001b[0m                                       \u001b]8;id=1600866365.7169907-761331;file:///home/itrushkin/.local/lib/python3.6/site-packages/fledge/component/aggregator/aggregator.py\u001b\\\u001b[2maggregator.py\u001b[0m\u001b]8;;\u001b\\\u001b[2m:366\u001b[0m\n",
      "\u001b[2;36m          \u001b[0m\u001b[2;36m \u001b[0m\u001b[34mINFO\u001b[0m     train task metrics...                                                                                                      \u001b]8;id=1600866365.7207344-471648;file:///home/itrushkin/.local/lib/python3.6/site-packages/fledge/component/aggregator/aggregator.py\u001b\\\u001b[2maggregator.py\u001b[0m\u001b]8;;\u001b\\\u001b[2m:502\u001b[0m\n",
      "\u001b[2;36m          \u001b[0m\u001b[2;36m \u001b[0m\u001b[34mINFO\u001b[0m     cross_entropy:  \u001b[1;34m0.3768\u001b[0m                                                                                                     \u001b]8;id=1600866365.7278502-228433;file:///home/itrushkin/.local/lib/python3.6/site-packages/fledge/component/aggregator/aggregator.py\u001b\\\u001b[2maggregator.py\u001b[0m\u001b]8;;\u001b\\\u001b[2m:531\u001b[0m\n",
      "\u001b[2;36m[16:06:06]\u001b[0m\u001b[2;36m \u001b[0m\u001b[34mINFO\u001b[0m     aggregated_model_validation task metrics...                                                                                \u001b]8;id=1600866366.9583278-82592;file:///home/itrushkin/.local/lib/python3.6/site-packages/fledge/component/aggregator/aggregator.py\u001b\\\u001b[2maggregator.py\u001b[0m\u001b]8;;\u001b\\\u001b[2m:502\u001b[0m\n",
      "\u001b[2;36m          \u001b[0m\u001b[2;36m \u001b[0m\u001b[34mINFO\u001b[0m     acc:    \u001b[1;34m0.1872\u001b[0m                                                                                                             \u001b]8;id=1600866366.9654472-646275;file:///home/itrushkin/.local/lib/python3.6/site-packages/fledge/component/aggregator/aggregator.py\u001b\\\u001b[2maggregator.py\u001b[0m\u001b]8;;\u001b\\\u001b[2m:531\u001b[0m\n",
      "\u001b[2;36m          \u001b[0m\u001b[2;36m \u001b[0m\u001b[34mINFO\u001b[0m     Saved the best model with score \u001b[1;34m0.187187\u001b[0m                                                                                   \u001b]8;id=1600866366.9667687-624350;file:///home/itrushkin/.local/lib/python3.6/site-packages/fledge/component/aggregator/aggregator.py\u001b\\\u001b[2maggregator.py\u001b[0m\u001b]8;;\u001b\\\u001b[2m:536\u001b[0m\n",
      "\u001b[2;36m[16:06:07]\u001b[0m\u001b[2;36m \u001b[0m\u001b[34mINFO\u001b[0m     locally_tuned_model_validation task metrics...                                                                             \u001b]8;id=1600866367.1823506-684562;file:///home/itrushkin/.local/lib/python3.6/site-packages/fledge/component/aggregator/aggregator.py\u001b\\\u001b[2maggregator.py\u001b[0m\u001b]8;;\u001b\\\u001b[2m:502\u001b[0m\n",
      "\u001b[2;36m          \u001b[0m\u001b[2;36m \u001b[0m\u001b[34mINFO\u001b[0m     acc:    \u001b[1;34m0.1221\u001b[0m                                                                                                             \u001b]8;id=1600866367.1971323-678325;file:///home/itrushkin/.local/lib/python3.6/site-packages/fledge/component/aggregator/aggregator.py\u001b\\\u001b[2maggregator.py\u001b[0m\u001b]8;;\u001b\\\u001b[2m:531\u001b[0m\n",
      "\u001b[2;36m          \u001b[0m\u001b[2;36m \u001b[0m\u001b[34mINFO\u001b[0m     Saving round \u001b[1;34m8\u001b[0m model...                                                                                                    \u001b]8;id=1600866367.1989064-121412;file:///home/itrushkin/.local/lib/python3.6/site-packages/fledge/component/aggregator/aggregator.py\u001b\\\u001b[2maggregator.py\u001b[0m\u001b]8;;\u001b\\\u001b[2m:592\u001b[0m\n",
      "\u001b[2;36m          \u001b[0m\u001b[2;36m \u001b[0m\u001b[34mINFO\u001b[0m     Starting round \u001b[1;34m8\u001b[0m...                                                                                                        \u001b]8;id=1600866367.4114625-259660;file:///home/itrushkin/.local/lib/python3.6/site-packages/fledge/component/aggregator/aggregator.py\u001b\\\u001b[2maggregator.py\u001b[0m\u001b]8;;\u001b\\\u001b[2m:600\u001b[0m\n",
      "\u001b[2;36m          \u001b[0m\u001b[2;36m \u001b[0m\u001b[34mINFO\u001b[0m     Sending tasks to collaborator one for round \u001b[1;34m8\u001b[0m                                                                              \u001b]8;id=1600866367.4227316-238866;file:///home/itrushkin/.local/lib/python3.6/site-packages/fledge/component/aggregator/aggregator.py\u001b\\\u001b[2maggregator.py\u001b[0m\u001b]8;;\u001b\\\u001b[2m:246\u001b[0m\n",
      "\u001b[2;36m[16:06:09]\u001b[0m\u001b[2;36m \u001b[0m\u001b[34mINFO\u001b[0m     Collaborator one is sending task results for aggregated_model_validation, round \u001b[1;34m8\u001b[0m                                          \u001b]8;id=1600866369.1089637-139240;file:///home/itrushkin/.local/lib/python3.6/site-packages/fledge/component/aggregator/aggregator.py\u001b\\\u001b[2maggregator.py\u001b[0m\u001b]8;;\u001b\\\u001b[2m:366\u001b[0m\n",
      "\u001b[2;36m[16:06:15]\u001b[0m\u001b[2;36m \u001b[0m\u001b[34mINFO\u001b[0m     Sending tasks to collaborator two for round \u001b[1;34m8\u001b[0m                                                                              \u001b]8;id=1600866375.7331278-746871;file:///home/itrushkin/.local/lib/python3.6/site-packages/fledge/component/aggregator/aggregator.py\u001b\\\u001b[2maggregator.py\u001b[0m\u001b]8;;\u001b\\\u001b[2m:246\u001b[0m\n",
      "\u001b[2;36m[16:06:18]\u001b[0m\u001b[2;36m \u001b[0m\u001b[34mINFO\u001b[0m     Collaborator one is sending task results for train, round \u001b[1;34m8\u001b[0m                                                                \u001b]8;id=1600866378.3943498-580684;file:///home/itrushkin/.local/lib/python3.6/site-packages/fledge/component/aggregator/aggregator.py\u001b\\\u001b[2maggregator.py\u001b[0m\u001b]8;;\u001b\\\u001b[2m:366\u001b[0m\n",
      "\u001b[2;36m[16:06:19]\u001b[0m\u001b[2;36m \u001b[0m\u001b[34mINFO\u001b[0m     Collaborator one is sending task results for locally_tuned_model_validation, round \u001b[1;34m8\u001b[0m                                       \u001b]8;id=1600866379.0167933-640499;file:///home/itrushkin/.local/lib/python3.6/site-packages/fledge/component/aggregator/aggregator.py\u001b\\\u001b[2maggregator.py\u001b[0m\u001b]8;;\u001b\\\u001b[2m:366\u001b[0m\n",
      "\u001b[2;36m          \u001b[0m\u001b[2;36m \u001b[0m\u001b[34mINFO\u001b[0m     Collaborator two is sending task results for aggregated_model_validation, round \u001b[1;34m8\u001b[0m                                          \u001b]8;id=1600866379.8108592-722803;file:///home/itrushkin/.local/lib/python3.6/site-packages/fledge/component/aggregator/aggregator.py\u001b\\\u001b[2maggregator.py\u001b[0m\u001b]8;;\u001b\\\u001b[2m:366\u001b[0m\n",
      "\u001b[2;36m[16:06:28]\u001b[0m\u001b[2;36m \u001b[0m\u001b[34mINFO\u001b[0m     Collaborator two is sending task results for train, round \u001b[1;34m8\u001b[0m                                                                \u001b]8;id=1600866388.2531478-156805;file:///home/itrushkin/.local/lib/python3.6/site-packages/fledge/component/aggregator/aggregator.py\u001b\\\u001b[2maggregator.py\u001b[0m\u001b]8;;\u001b\\\u001b[2m:366\u001b[0m\n",
      "\u001b[2;36m          \u001b[0m\u001b[2;36m \u001b[0m\u001b[34mINFO\u001b[0m     Collaborator two is sending task results for locally_tuned_model_validation, round \u001b[1;34m8\u001b[0m                                       \u001b]8;id=1600866388.8220444-754327;file:///home/itrushkin/.local/lib/python3.6/site-packages/fledge/component/aggregator/aggregator.py\u001b\\\u001b[2maggregator.py\u001b[0m\u001b]8;;\u001b\\\u001b[2m:366\u001b[0m\n",
      "\u001b[2;36m          \u001b[0m\u001b[2;36m \u001b[0m\u001b[34mINFO\u001b[0m     train task metrics...                                                                                                      \u001b]8;id=1600866388.8314953-440693;file:///home/itrushkin/.local/lib/python3.6/site-packages/fledge/component/aggregator/aggregator.py\u001b\\\u001b[2maggregator.py\u001b[0m\u001b]8;;\u001b\\\u001b[2m:502\u001b[0m\n",
      "\u001b[2;36m          \u001b[0m\u001b[2;36m \u001b[0m\u001b[34mINFO\u001b[0m     cross_entropy:  \u001b[1;34m0.3759\u001b[0m                                                                                                     \u001b]8;id=1600866388.8450367-188308;file:///home/itrushkin/.local/lib/python3.6/site-packages/fledge/component/aggregator/aggregator.py\u001b\\\u001b[2maggregator.py\u001b[0m\u001b]8;;\u001b\\\u001b[2m:531\u001b[0m\n",
      "\u001b[2;36m[16:06:30]\u001b[0m\u001b[2;36m \u001b[0m\u001b[34mINFO\u001b[0m     aggregated_model_validation task metrics...                                                                                \u001b]8;id=1600866390.1021554-78345;file:///home/itrushkin/.local/lib/python3.6/site-packages/fledge/component/aggregator/aggregator.py\u001b\\\u001b[2maggregator.py\u001b[0m\u001b]8;;\u001b\\\u001b[2m:502\u001b[0m\n",
      "\u001b[2;36m          \u001b[0m\u001b[2;36m \u001b[0m\u001b[34mINFO\u001b[0m     acc:    \u001b[1;34m0.1301\u001b[0m                                                                                                             \u001b]8;id=1600866390.1093767-361220;file:///home/itrushkin/.local/lib/python3.6/site-packages/fledge/component/aggregator/aggregator.py\u001b\\\u001b[2maggregator.py\u001b[0m\u001b]8;;\u001b\\\u001b[2m:531\u001b[0m\n",
      "\u001b[2;36m          \u001b[0m\u001b[2;36m \u001b[0m\u001b[34mINFO\u001b[0m     locally_tuned_model_validation task metrics...                                                                             \u001b]8;id=1600866390.1107256-72792;file:///home/itrushkin/.local/lib/python3.6/site-packages/fledge/component/aggregator/aggregator.py\u001b\\\u001b[2maggregator.py\u001b[0m\u001b]8;;\u001b\\\u001b[2m:502\u001b[0m\n"
     ]
    },
    {
     "name": "stdout",
     "output_type": "stream",
     "text": [
      "\u001b[2;36m          \u001b[0m\u001b[2;36m \u001b[0m\u001b[34mINFO\u001b[0m     acc:    \u001b[1;34m0.1451\u001b[0m                                                                                                             \u001b]8;id=1600866390.118046-223435;file:///home/itrushkin/.local/lib/python3.6/site-packages/fledge/component/aggregator/aggregator.py\u001b\\\u001b[2maggregator.py\u001b[0m\u001b]8;;\u001b\\\u001b[2m:531\u001b[0m\n",
      "\u001b[2;36m          \u001b[0m\u001b[2;36m \u001b[0m\u001b[34mINFO\u001b[0m     Saving round \u001b[1;34m9\u001b[0m model...                                                                                                    \u001b]8;id=1600866390.119322-36217;file:///home/itrushkin/.local/lib/python3.6/site-packages/fledge/component/aggregator/aggregator.py\u001b\\\u001b[2maggregator.py\u001b[0m\u001b]8;;\u001b\\\u001b[2m:592\u001b[0m\n",
      "\u001b[2;36m          \u001b[0m\u001b[2;36m \u001b[0m\u001b[34mINFO\u001b[0m     Starting round \u001b[1;34m9\u001b[0m...                                                                                                        \u001b]8;id=1600866390.3333516-697010;file:///home/itrushkin/.local/lib/python3.6/site-packages/fledge/component/aggregator/aggregator.py\u001b\\\u001b[2maggregator.py\u001b[0m\u001b]8;;\u001b\\\u001b[2m:600\u001b[0m\n",
      "\u001b[2;36m          \u001b[0m\u001b[2;36m \u001b[0m\u001b[34mINFO\u001b[0m     Sending tasks to collaborator two for round \u001b[1;34m9\u001b[0m                                                                              \u001b]8;id=1600866390.345024-195821;file:///home/itrushkin/.local/lib/python3.6/site-packages/fledge/component/aggregator/aggregator.py\u001b\\\u001b[2maggregator.py\u001b[0m\u001b]8;;\u001b\\\u001b[2m:246\u001b[0m\n",
      "\u001b[2;36m[16:06:32]\u001b[0m\u001b[2;36m \u001b[0m\u001b[34mINFO\u001b[0m     Collaborator two is sending task results for aggregated_model_validation, round \u001b[1;34m9\u001b[0m                                          \u001b]8;id=1600866392.024258-476836;file:///home/itrushkin/.local/lib/python3.6/site-packages/fledge/component/aggregator/aggregator.py\u001b\\\u001b[2maggregator.py\u001b[0m\u001b]8;;\u001b\\\u001b[2m:366\u001b[0m\n",
      "\u001b[2;36m[16:06:39]\u001b[0m\u001b[2;36m \u001b[0m\u001b[34mINFO\u001b[0m     Sending tasks to collaborator one for round \u001b[1;34m9\u001b[0m                                                                              \u001b]8;id=1600866399.3574355-456283;file:///home/itrushkin/.local/lib/python3.6/site-packages/fledge/component/aggregator/aggregator.py\u001b\\\u001b[2maggregator.py\u001b[0m\u001b]8;;\u001b\\\u001b[2m:246\u001b[0m\n",
      "\u001b[2;36m[16:06:40]\u001b[0m\u001b[2;36m \u001b[0m\u001b[34mINFO\u001b[0m     Collaborator two is sending task results for train, round \u001b[1;34m9\u001b[0m                                                                \u001b]8;id=1600866400.7786155-325135;file:///home/itrushkin/.local/lib/python3.6/site-packages/fledge/component/aggregator/aggregator.py\u001b\\\u001b[2maggregator.py\u001b[0m\u001b]8;;\u001b\\\u001b[2m:366\u001b[0m\n",
      "\u001b[2;36m[16:06:41]\u001b[0m\u001b[2;36m \u001b[0m\u001b[34mINFO\u001b[0m     Collaborator two is sending task results for locally_tuned_model_validation, round \u001b[1;34m9\u001b[0m                                       \u001b]8;id=1600866401.5155597-604082;file:///home/itrushkin/.local/lib/python3.6/site-packages/fledge/component/aggregator/aggregator.py\u001b\\\u001b[2maggregator.py\u001b[0m\u001b]8;;\u001b\\\u001b[2m:366\u001b[0m\n",
      "\u001b[2;36m[16:06:42]\u001b[0m\u001b[2;36m \u001b[0m\u001b[34mINFO\u001b[0m     Collaborator one is sending task results for aggregated_model_validation, round \u001b[1;34m9\u001b[0m                                          \u001b]8;id=1600866402.5023735-278447;file:///home/itrushkin/.local/lib/python3.6/site-packages/fledge/component/aggregator/aggregator.py\u001b\\\u001b[2maggregator.py\u001b[0m\u001b]8;;\u001b\\\u001b[2m:366\u001b[0m\n",
      "\u001b[2;36m[16:06:51]\u001b[0m\u001b[2;36m \u001b[0m\u001b[34mINFO\u001b[0m     Collaborator one is sending task results for train, round \u001b[1;34m9\u001b[0m                                                                \u001b]8;id=1600866411.1323047-903768;file:///home/itrushkin/.local/lib/python3.6/site-packages/fledge/component/aggregator/aggregator.py\u001b\\\u001b[2maggregator.py\u001b[0m\u001b]8;;\u001b\\\u001b[2m:366\u001b[0m\n",
      "\u001b[2;36m          \u001b[0m\u001b[2;36m \u001b[0m\u001b[34mINFO\u001b[0m     Collaborator one is sending task results for locally_tuned_model_validation, round \u001b[1;34m9\u001b[0m                                       \u001b]8;id=1600866411.7054205-48197;file:///home/itrushkin/.local/lib/python3.6/site-packages/fledge/component/aggregator/aggregator.py\u001b\\\u001b[2maggregator.py\u001b[0m\u001b]8;;\u001b\\\u001b[2m:366\u001b[0m\n",
      "\u001b[2;36m          \u001b[0m\u001b[2;36m \u001b[0m\u001b[34mINFO\u001b[0m     train task metrics...                                                                                                      \u001b]8;id=1600866411.7154-88516;file:///home/itrushkin/.local/lib/python3.6/site-packages/fledge/component/aggregator/aggregator.py\u001b\\\u001b[2maggregator.py\u001b[0m\u001b]8;;\u001b\\\u001b[2m:502\u001b[0m\n",
      "\u001b[2;36m          \u001b[0m\u001b[2;36m \u001b[0m\u001b[34mINFO\u001b[0m     cross_entropy:  \u001b[1;34m0.3739\u001b[0m                                                                                                     \u001b]8;id=1600866411.7374341-365301;file:///home/itrushkin/.local/lib/python3.6/site-packages/fledge/component/aggregator/aggregator.py\u001b\\\u001b[2maggregator.py\u001b[0m\u001b]8;;\u001b\\\u001b[2m:531\u001b[0m\n",
      "\u001b[2;36m[16:06:53]\u001b[0m\u001b[2;36m \u001b[0m\u001b[34mINFO\u001b[0m     aggregated_model_validation task metrics...                                                                                \u001b]8;id=1600866413.0078177-340521;file:///home/itrushkin/.local/lib/python3.6/site-packages/fledge/component/aggregator/aggregator.py\u001b\\\u001b[2maggregator.py\u001b[0m\u001b]8;;\u001b\\\u001b[2m:502\u001b[0m\n",
      "\u001b[2;36m          \u001b[0m\u001b[2;36m \u001b[0m\u001b[34mINFO\u001b[0m     acc:    \u001b[1;34m0.1321\u001b[0m                                                                                                             \u001b]8;id=1600866413.0150146-980505;file:///home/itrushkin/.local/lib/python3.6/site-packages/fledge/component/aggregator/aggregator.py\u001b\\\u001b[2maggregator.py\u001b[0m\u001b]8;;\u001b\\\u001b[2m:531\u001b[0m\n",
      "\u001b[2;36m          \u001b[0m\u001b[2;36m \u001b[0m\u001b[34mINFO\u001b[0m     locally_tuned_model_validation task metrics...                                                                             \u001b]8;id=1600866413.0163088-190593;file:///home/itrushkin/.local/lib/python3.6/site-packages/fledge/component/aggregator/aggregator.py\u001b\\\u001b[2maggregator.py\u001b[0m\u001b]8;;\u001b\\\u001b[2m:502\u001b[0m\n",
      "\u001b[2;36m          \u001b[0m\u001b[2;36m \u001b[0m\u001b[34mINFO\u001b[0m     acc:    \u001b[1;34m0.1221\u001b[0m                                                                                                             \u001b]8;id=1600866413.0233212-28575;file:///home/itrushkin/.local/lib/python3.6/site-packages/fledge/component/aggregator/aggregator.py\u001b\\\u001b[2maggregator.py\u001b[0m\u001b]8;;\u001b\\\u001b[2m:531\u001b[0m\n",
      "\u001b[2;36m          \u001b[0m\u001b[2;36m \u001b[0m\u001b[34mINFO\u001b[0m     Saving round \u001b[1;34m10\u001b[0m model...                                                                                                   \u001b]8;id=1600866413.0246093-351756;file:///home/itrushkin/.local/lib/python3.6/site-packages/fledge/component/aggregator/aggregator.py\u001b\\\u001b[2maggregator.py\u001b[0m\u001b]8;;\u001b\\\u001b[2m:592\u001b[0m\n",
      "\u001b[2;36m          \u001b[0m\u001b[2;36m \u001b[0m\u001b[34mINFO\u001b[0m     Experiment Completed. Cleaning up...                                                                                       \u001b]8;id=1600866413.2320669-846097;file:///home/itrushkin/.local/lib/python3.6/site-packages/fledge/component/aggregator/aggregator.py\u001b\\\u001b[2maggregator.py\u001b[0m\u001b]8;;\u001b\\\u001b[2m:598\u001b[0m\n",
      "\u001b[2;36m          \u001b[0m\u001b[2;36m \u001b[0m\u001b[34mINFO\u001b[0m     Sending signal to collaborator one to shutdown...                                                                          \u001b]8;id=1600866413.243607-573535;file:///home/itrushkin/.local/lib/python3.6/site-packages/fledge/component/aggregator/aggregator.py\u001b\\\u001b[2maggregator.py\u001b[0m\u001b]8;;\u001b\\\u001b[2m:216\u001b[0m\n",
      "\u001b[2;36m[16:07:01]\u001b[0m\u001b[2;36m \u001b[0m\u001b[34mINFO\u001b[0m     Sending signal to collaborator two to shutdown...                                                                          \u001b]8;id=1600866421.5642266-527196;file:///home/itrushkin/.local/lib/python3.6/site-packages/fledge/component/aggregator/aggregator.py\u001b\\\u001b[2maggregator.py\u001b[0m\u001b]8;;\u001b\\\u001b[2m:216\u001b[0m\n",
      "\n",
      " ✔️ OK\n"
     ]
    }
   ],
   "source": [
    "!fx aggregator start"
   ]
  },
  {
   "cell_type": "code",
   "execution_count": 18,
   "metadata": {},
   "outputs": [
    {
     "name": "stdout",
     "output_type": "stream",
     "text": [
      "The tensorboard extension is already loaded. To reload it, use:\n",
      "  %reload_ext tensorboard\n"
     ]
    },
    {
     "data": {
      "text/html": [
       "\n",
       "      <iframe id=\"tensorboard-frame-3fe41918f781676f\" width=\"100%\" height=\"800\" frameborder=\"0\">\n",
       "      </iframe>\n",
       "      <script>\n",
       "        (function() {\n",
       "          const frame = document.getElementById(\"tensorboard-frame-3fe41918f781676f\");\n",
       "          const url = new URL(\"/\", window.location);\n",
       "          url.port = 6006;\n",
       "          frame.src = url;\n",
       "        })();\n",
       "      </script>\n",
       "  "
      ],
      "text/plain": [
       "<IPython.core.display.HTML object>"
      ]
     },
     "metadata": {},
     "output_type": "display_data"
    }
   ],
   "source": [
    "%load_ext tensorboard\n",
    "%tensorboard --logdir logs"
   ]
  },
  {
   "cell_type": "code",
   "execution_count": 19,
   "metadata": {},
   "outputs": [
    {
     "name": "stdout",
     "output_type": "stream",
     "text": [
      "\u001b[0m\u001b[01;34mcert\u001b[0m/  \u001b[01;34mcode\u001b[0m/  \u001b[01;34mdata\u001b[0m/  \u001b[01;34mlogs\u001b[0m/  \u001b[01;34mplan\u001b[0m/  \u001b[01;34msave\u001b[0m/  \u001b[01;34mvenv\u001b[0m/\r\n"
     ]
    }
   ],
   "source": [
    "ls"
   ]
  },
  {
   "cell_type": "code",
   "execution_count": 21,
   "metadata": {},
   "outputs": [],
   "source": [
    "!ls logs"
   ]
  },
  {
   "cell_type": "code",
   "execution_count": null,
   "metadata": {},
   "outputs": [],
   "source": []
  }
 ],
 "metadata": {
  "kernelspec": {
   "display_name": "fledge",
   "language": "python",
   "name": "fledge"
  },
  "language_info": {
   "codemirror_mode": {
    "name": "ipython",
    "version": 3
   },
   "file_extension": ".py",
   "mimetype": "text/x-python",
   "name": "python",
   "nbconvert_exporter": "python",
   "pygments_lexer": "ipython3",
   "version": "3.6.9"
  }
 },
 "nbformat": 4,
 "nbformat_minor": 4
}
