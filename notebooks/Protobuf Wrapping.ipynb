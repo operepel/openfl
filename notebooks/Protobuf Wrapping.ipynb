{
 "cells": [
  {
   "cell_type": "code",
   "execution_count": 1,
   "metadata": {},
   "outputs": [
    {
     "name": "stderr",
     "output_type": "stream",
     "text": [
      "/home/msheller/.local/share/virtualenvs/tfedlrn-CPfKUQY7/lib/python3.5/site-packages/google/protobuf/__init__.py:37: UserWarning: Module tfedlrn was already imported from /home/msheller/git/tfedlrn/src/tfedlrn/__init__.py, but /home/msheller/.local/share/virtualenvs/tfedlrn-CPfKUQY7/lib/python3.5/site-packages/tfedlrn-0.0.0-py3.5.egg is being added to sys.path\n",
      "  __import__('pkg_resources').declare_namespace(__name__)\n"
     ]
    }
   ],
   "source": [
    "from tfedlrn.proto.message_pb2 import *"
   ]
  },
  {
   "cell_type": "code",
   "execution_count": 2,
   "metadata": {},
   "outputs": [],
   "source": [
    "def serialize(message):\n",
    "    flm = FLMessage(**{message.__class__.__name__.lower():message})\n",
    "    return flm.SerializeToString()\n",
    "\n",
    "\n",
    "def deserialize(s):\n",
    "    flmessage = FLMessage.FromString(s)\n",
    "    return getattr(flmessage, flmessage.WhichOneof('payload'))"
   ]
  },
  {
   "cell_type": "code",
   "execution_count": 3,
   "metadata": {},
   "outputs": [],
   "source": [
    "jobreq = JobRequest(header=MessageHeader(sender='hi', recipient='you', federation_id='fedit!', counter=0),\n",
    "                    model_header=ModelHeader(id='model!!!', version=-1))"
   ]
  },
  {
   "cell_type": "code",
   "execution_count": 4,
   "metadata": {},
   "outputs": [
    {
     "data": {
      "text/plain": [
       "header {\n",
       "  sender: \"hi\"\n",
       "  recipient: \"you\"\n",
       "  federation_id: \"fedit!\"\n",
       "  counter: 0\n",
       "}\n",
       "model_header {\n",
       "  id: \"model!!!\"\n",
       "  version: -1\n",
       "}"
      ]
     },
     "execution_count": 4,
     "metadata": {},
     "output_type": "execute_result"
    }
   ],
   "source": [
    "jobreq"
   ]
  },
  {
   "cell_type": "code",
   "execution_count": 5,
   "metadata": {},
   "outputs": [
    {
     "data": {
      "text/plain": [
       "header {\n",
       "  sender: \"hi\"\n",
       "  recipient: \"you\"\n",
       "  federation_id: \"fedit!\"\n",
       "  counter: 0\n",
       "}\n",
       "model_header {\n",
       "  id: \"model!!!\"\n",
       "  version: -1\n",
       "}"
      ]
     },
     "execution_count": 5,
     "metadata": {},
     "output_type": "execute_result"
    }
   ],
   "source": [
    "deserialize(serialize(jobreq))"
   ]
  },
  {
   "cell_type": "code",
   "execution_count": 7,
   "metadata": {},
   "outputs": [],
   "source": [
    "import abc\n",
    "import zmq\n",
    "\n",
    "class ZMQConnection(metaclass=abc.ABCMeta):\n",
    "\n",
    "    def __init__(self,\n",
    "                 name,\n",
    "                 server_addr='127.0.0.1',\n",
    "                 server_port=5555,\n",
    "                 compression_func=None,\n",
    "                 decompression_func=None,\n",
    "                 receive_timeout=-1):\n",
    "        self.name = name\n",
    "        self.server_addr = 'tcp://{}:{}'.format(server_addr, server_port)\n",
    "        self.context = zmq.Context()\n",
    "        self.context.setsockopt(zmq.RCVTIMEO, receive_timeout)\n",
    "        self.socket = None\n",
    "        self.compression_func = compression_func\n",
    "        self.decompression_func = decompression_func\n",
    "\n",
    "    @abc.abstractmethod\n",
    "    def _connect(self):\n",
    "        pass\n",
    "\n",
    "    def send(self, message):\n",
    "        if self.socket is None:\n",
    "            self._connect()\n",
    "\n",
    "        print('{} sending {}'.format(self, message.__class__.__name__))\n",
    "        # if self.compression_func is not None:\n",
    "        #     message = self.compression_func(message)\n",
    "        message = serialize(message)\n",
    "        self.socket.send(message)\n",
    "\n",
    "    def receive(self):\n",
    "        if self.socket is None:\n",
    "            self._connect()\n",
    "\n",
    "        message = self.socket.recv()\n",
    "        # if self.decompression_func is not None:\n",
    "        #     message = self.decompression_func(message)\n",
    "        message = deserialize(message)\n",
    "        print('{} received {}'.format(self, message.__class__.__name__))\n",
    "        return message\n",
    "\n",
    "    def __repr__(self):\n",
    "        return '{}: {}'.format(self.__class__.__name__, self.name)\n",
    "\n",
    "    def __str__(self):\n",
    "        return self.__repr__()\n",
    "\n",
    "\n",
    "class ZMQServer(ZMQConnection):\n",
    "\n",
    "    def _connect(self):\n",
    "        print('{} binding to socket: {}'.format(self, self.server_addr))\n",
    "        context = zmq.Context()\n",
    "        self.socket = context.socket(zmq.REP)\n",
    "        self.socket.bind(self.server_addr)\n",
    "\n",
    "\n",
    "class ZMQClient(ZMQConnection):\n",
    "\n",
    "    def _connect(self):\n",
    "        print('{} connecting to server: {}'.format(self, self.server_addr))\n",
    "        context = zmq.Context()\n",
    "        self.socket = context.socket(zmq.REQ)\n",
    "        self.socket.connect(self.server_addr)\n"
   ]
  },
  {
   "cell_type": "code",
   "execution_count": 8,
   "metadata": {},
   "outputs": [],
   "source": [
    "server = ZMQServer('server')"
   ]
  },
  {
   "cell_type": "code",
   "execution_count": 9,
   "metadata": {},
   "outputs": [],
   "source": [
    "client = ZMQClient('client')"
   ]
  },
  {
   "cell_type": "code",
   "execution_count": 10,
   "metadata": {},
   "outputs": [
    {
     "name": "stdout",
     "output_type": "stream",
     "text": [
      "ZMQClient: client connecting to server: tcp://127.0.0.1:5555\n",
      "ZMQClient: client sending JobRequest\n"
     ]
    }
   ],
   "source": [
    "client.send(jobreq)"
   ]
  },
  {
   "cell_type": "code",
   "execution_count": 11,
   "metadata": {},
   "outputs": [
    {
     "name": "stdout",
     "output_type": "stream",
     "text": [
      "ZMQServer: server binding to socket: tcp://127.0.0.1:5555\n",
      "ZMQServer: server received JobRequest\n"
     ]
    },
    {
     "data": {
      "text/plain": [
       "header {\n",
       "  sender: \"hi\"\n",
       "  recipient: \"you\"\n",
       "  federation_id: \"fedit!\"\n",
       "  counter: 0\n",
       "}\n",
       "model_header {\n",
       "  id: \"model!!!\"\n",
       "  version: -1\n",
       "}"
      ]
     },
     "execution_count": 11,
     "metadata": {},
     "output_type": "execute_result"
    }
   ],
   "source": [
    "server.receive()"
   ]
  },
  {
   "cell_type": "code",
   "execution_count": null,
   "metadata": {},
   "outputs": [],
   "source": []
  }
 ],
 "metadata": {
  "kernelspec": {
   "display_name": "tfedlrn-CPfKUQY7",
   "language": "python",
   "name": "tfedlrn-cpfkuqy7"
  },
  "language_info": {
   "codemirror_mode": {
    "name": "ipython",
    "version": 3
   },
   "file_extension": ".py",
   "mimetype": "text/x-python",
   "name": "python",
   "nbconvert_exporter": "python",
   "pygments_lexer": "ipython3",
   "version": "3.5.2"
  }
 },
 "nbformat": 4,
 "nbformat_minor": 2
}
