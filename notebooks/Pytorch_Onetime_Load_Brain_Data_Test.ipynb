{
 "cells": [
  {
   "cell_type": "code",
   "execution_count": 1,
   "metadata": {},
   "outputs": [],
   "source": [
    "# Here we test tfedlrn/collaborator/pytorchmodels/pytorch2dunet_NIfTY.py\n",
    "# to determine if the data is getting loaded and preprocessed correctly"
   ]
  },
  {
   "cell_type": "code",
   "execution_count": 2,
   "metadata": {},
   "outputs": [],
   "source": [
    "import sys\n",
    "sys.path.append('/home/edwardsb/.local/share/virtualenvs/tfedlearn-cvKTHQG4/lib/python3.5/site-packages/')"
   ]
  },
  {
   "cell_type": "code",
   "execution_count": 3,
   "metadata": {},
   "outputs": [],
   "source": [
    "from tfedlrn.collaborator.pytorchmodels.pytorch2dunet_NIfTY \\\n",
    "  import PyTorch2DUNetNIfTY as NIfTYNet"
   ]
  },
  {
   "cell_type": "code",
   "execution_count": 4,
   "metadata": {},
   "outputs": [],
   "source": [
    "import tfedlrn.datasets as datasets"
   ]
  },
  {
   "cell_type": "code",
   "execution_count": 5,
   "metadata": {},
   "outputs": [],
   "source": [
    "import numpy as np\n",
    "import pickle\n",
    "import os"
   ]
  },
  {
   "cell_type": "code",
   "execution_count": null,
   "metadata": {},
   "outputs": [],
   "source": []
  },
  {
   "cell_type": "code",
   "execution_count": 6,
   "metadata": {},
   "outputs": [
    {
     "name": "stdout",
     "output_type": "stream",
     "text": [
      "NO SHUFFLE BEFORE SPLITTING INTO TRAIN/VAL!!!NO SHUFFLE BEFORE SPLITTING INTO TRAIN/VAL!!!NO SHUFFLE BEFORE SPLITTING INTO TRAIN/VAL!!!NO SHUFFLE BEFORE SPLITTING INTO TRAIN/VAL!!!NO SHUFFLE BEFORE SPLITTING INTO TRAIN/VAL!!!NO SHUFFLE BEFORE SPLITTING INTO TRAIN/VAL!!!NO SHUFFLE BEFORE SPLITTING INTO TRAIN/VAL!!!NO SHUFFLE BEFORE SPLITTING INTO TRAIN/VAL!!!NO SHUFFLE BEFORE SPLITTING INTO TRAIN/VAL!!!NO SHUFFLE BEFORE SPLITTING INTO TRAIN/VAL!!!\n",
      "NO SHUFFLE BEFORE EPOCH!!!NO SHUFFLE BEFORE EPOCH!!!NO SHUFFLE BEFORE EPOCH!!!NO SHUFFLE BEFORE EPOCH!!!NO SHUFFLE BEFORE EPOCH!!!NO SHUFFLE BEFORE EPOCH!!!NO SHUFFLE BEFORE EPOCH!!!NO SHUFFLE BEFORE EPOCH!!!NO SHUFFLE BEFORE EPOCH!!!NO SHUFFLE BEFORE EPOCH!!!\n"
     ]
    }
   ],
   "source": [
    "model = NIfTYNet(device='cpu', \n",
    "                 data_dir='BraTS17/by_institution_NIfTY/0', \n",
    "                 shuffle_before_split=False, \n",
    "                 shuffle_before_epoch=False, \n",
    "                 percent_train=0.5)"
   ]
  },
  {
   "cell_type": "code",
   "execution_count": 7,
   "metadata": {},
   "outputs": [],
   "source": [
    "dataset_dir = datasets._get_dataset_dir()"
   ]
  },
  {
   "cell_type": "code",
   "execution_count": null,
   "metadata": {},
   "outputs": [],
   "source": []
  },
  {
   "cell_type": "code",
   "execution_count": 8,
   "metadata": {},
   "outputs": [],
   "source": [
    "# Note above that we passed a directory containing institution 0\n",
    "# data to the model. We test the validity of the resulting data therefore\n",
    "# against numpy files we previously processed for this institution.\n",
    "imgs_inst0 = np.transpose(np.load('/raid/datasets/BraTS17/imgs_inst0.npy'), [0,3, 1, 2])\n",
    "msks_inst0 = np.transpose(np.load('/raid/datasets/BraTS17/msks_inst0.npy'), [0,3, 1, 2])"
   ]
  },
  {
   "cell_type": "code",
   "execution_count": null,
   "metadata": {},
   "outputs": [],
   "source": []
  },
  {
   "cell_type": "code",
   "execution_count": 9,
   "metadata": {},
   "outputs": [],
   "source": [
    "val_imgs, val_labels = model.val_loader.dataset.tensors\n",
    "val_imgs = val_imgs.data.numpy()\n",
    "val_labels = val_labels.data.numpy()\n",
    "tr_imgs, tr_labels = model.train_loader.dataset.tensors\n",
    "tr_imgs = tr_imgs.data.numpy()\n",
    "tr_labels = tr_labels.data.numpy()"
   ]
  },
  {
   "cell_type": "code",
   "execution_count": null,
   "metadata": {},
   "outputs": [],
   "source": []
  },
  {
   "cell_type": "code",
   "execution_count": 10,
   "metadata": {},
   "outputs": [
    {
     "name": "stdout",
     "output_type": "stream",
     "text": [
      "We succeeded.: True\n"
     ]
    }
   ],
   "source": [
    "# test first images\n",
    "results = []\n",
    "for idx, img in enumerate(tr_imgs):\n",
    "    match = np.all(img==imgs_inst0[idx])\n",
    "    results.append(match)\n",
    "final_result = np.all(results)\n",
    "print(\"We succeeded.: {}\".format(np.all(results)))"
   ]
  },
  {
   "cell_type": "code",
   "execution_count": 11,
   "metadata": {},
   "outputs": [
    {
     "name": "stdout",
     "output_type": "stream",
     "text": [
      "We succeeded.: True\n"
     ]
    }
   ],
   "source": [
    "# test first labels\n",
    "results = []\n",
    "for idx, msk in enumerate(tr_labels):\n",
    "    match = np.all(msk==msks_inst0[idx])\n",
    "    results.append(match)\n",
    "final_result = np.all(results)\n",
    "print(\"We succeeded.: {}\".format(np.all(results)))"
   ]
  },
  {
   "cell_type": "code",
   "execution_count": null,
   "metadata": {},
   "outputs": [],
   "source": []
  },
  {
   "cell_type": "code",
   "execution_count": null,
   "metadata": {},
   "outputs": [],
   "source": []
  },
  {
   "cell_type": "code",
   "execution_count": null,
   "metadata": {},
   "outputs": [],
   "source": []
  }
 ],
 "metadata": {
  "kernelspec": {
   "display_name": "tfedlearn-cvKTHQG4",
   "language": "python",
   "name": "tfedlearn-cvkthqg4"
  },
  "language_info": {
   "codemirror_mode": {
    "name": "ipython",
    "version": 3
   },
   "file_extension": ".py",
   "mimetype": "text/x-python",
   "name": "python",
   "nbconvert_exporter": "python",
   "pygments_lexer": "ipython3",
   "version": "3.5.2"
  }
 },
 "nbformat": 4,
 "nbformat_minor": 2
}
