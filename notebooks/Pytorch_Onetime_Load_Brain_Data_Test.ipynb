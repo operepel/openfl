{
 "cells": [
  {
   "cell_type": "code",
   "execution_count": 1,
   "metadata": {},
   "outputs": [],
   "source": [
    "# Here we test tfedlrn/collaborator/pytorchmodels/pytorch2dunet_NIfTY.py\n",
    "# to determine if the data is getting loaded and preprocessed correctly"
   ]
  },
  {
   "cell_type": "code",
   "execution_count": 2,
   "metadata": {},
   "outputs": [],
   "source": [
    "import sys\n",
    "sys.path.append('/home/edwardsb/.local/share/virtualenvs/tfedlearn-cvKTHQG4/lib/python3.5/site-packages/')"
   ]
  },
  {
   "cell_type": "code",
   "execution_count": 3,
   "metadata": {},
   "outputs": [],
   "source": [
    "from tfedlrn.collaborator.pytorchmodels.pytorch2dunet_NIfTY \\\n",
    "  import PyTorch2DUNetNIfTY as NIfTYNet"
   ]
  },
  {
   "cell_type": "code",
   "execution_count": 4,
   "metadata": {},
   "outputs": [],
   "source": [
    "import tfedlrn.datasets as datasets"
   ]
  },
  {
   "cell_type": "code",
   "execution_count": 5,
   "metadata": {},
   "outputs": [],
   "source": [
    "import numpy as np\n",
    "import pickle\n",
    "import os"
   ]
  },
  {
   "cell_type": "code",
   "execution_count": null,
   "metadata": {},
   "outputs": [],
   "source": []
  },
  {
   "cell_type": "code",
   "execution_count": 6,
   "metadata": {},
   "outputs": [
    {
     "name": "stdout",
     "output_type": "stream",
     "text": [
      "NO SHUFFLE BEFORE SPLITTING INTO TRAIN/VAL!!!NO SHUFFLE BEFORE SPLITTING INTO TRAIN/VAL!!!NO SHUFFLE BEFORE SPLITTING INTO TRAIN/VAL!!!NO SHUFFLE BEFORE SPLITTING INTO TRAIN/VAL!!!NO SHUFFLE BEFORE SPLITTING INTO TRAIN/VAL!!!NO SHUFFLE BEFORE SPLITTING INTO TRAIN/VAL!!!NO SHUFFLE BEFORE SPLITTING INTO TRAIN/VAL!!!NO SHUFFLE BEFORE SPLITTING INTO TRAIN/VAL!!!NO SHUFFLE BEFORE SPLITTING INTO TRAIN/VAL!!!NO SHUFFLE BEFORE SPLITTING INTO TRAIN/VAL!!!\n",
      "shapes imgs_all, msks_all: (155, 128, 128, 1), (155, 128, 128, 1)\n",
      "shapes imgs_all, msks_all: (155, 128, 128, 1), (155, 128, 128, 1)\n",
      "shapes imgs_all, msks_all: (155, 128, 128, 1), (155, 128, 128, 1)\n",
      "shapes imgs_all, msks_all: (155, 128, 128, 1), (155, 128, 128, 1)\n",
      "shapes imgs_all, msks_all: (155, 128, 128, 1), (155, 128, 128, 1)\n",
      "shapes imgs_all, msks_all: (155, 128, 128, 1), (155, 128, 128, 1)\n",
      "shapes imgs_all, msks_all: (155, 128, 128, 1), (155, 128, 128, 1)\n",
      "shapes imgs_all, msks_all: (155, 128, 128, 1), (155, 128, 128, 1)\n",
      "shapes imgs_all, msks_all: (155, 128, 128, 1), (155, 128, 128, 1)\n",
      "shapes imgs_all, msks_all: (155, 128, 128, 1), (155, 128, 128, 1)\n",
      "shapes imgs_all, msks_all: (155, 128, 128, 1), (155, 128, 128, 1)\n",
      "shapes imgs_all, msks_all: (155, 128, 128, 1), (155, 128, 128, 1)\n",
      "shapes imgs_all, msks_all: (155, 128, 128, 1), (155, 128, 128, 1)\n",
      "shapes imgs_all, msks_all: (155, 128, 128, 1), (155, 128, 128, 1)\n",
      "shapes imgs_all, msks_all: (155, 128, 128, 1), (155, 128, 128, 1)\n",
      "shapes imgs_all, msks_all: (155, 128, 128, 1), (155, 128, 128, 1)\n",
      "shapes imgs_all, msks_all: (155, 128, 128, 1), (155, 128, 128, 1)\n",
      "shapes imgs_all, msks_all: (155, 128, 128, 1), (155, 128, 128, 1)\n",
      "shapes imgs_all, msks_all: (155, 128, 128, 1), (155, 128, 128, 1)\n",
      "shapes imgs_all, msks_all: (155, 128, 128, 1), (155, 128, 128, 1)\n",
      "shapes imgs_all, msks_all: (155, 128, 128, 1), (155, 128, 128, 1)\n",
      "shapes imgs_all, msks_all: (155, 128, 128, 1), (155, 128, 128, 1)\n",
      "shapes imgs_all, msks_all: (155, 128, 128, 1), (155, 128, 128, 1)\n",
      "shapes imgs_all, msks_all: (155, 128, 128, 1), (155, 128, 128, 1)\n",
      "shapes imgs_all, msks_all: (155, 128, 128, 1), (155, 128, 128, 1)\n",
      "shapes imgs_all, msks_all: (155, 128, 128, 1), (155, 128, 128, 1)\n",
      "shapes imgs_all, msks_all: (155, 128, 128, 1), (155, 128, 128, 1)\n",
      "shapes imgs_all, msks_all: (155, 128, 128, 1), (155, 128, 128, 1)\n",
      "shapes imgs_all, msks_all: (155, 128, 128, 1), (155, 128, 128, 1)\n",
      "shapes imgs_all, msks_all: (155, 128, 128, 1), (155, 128, 128, 1)\n",
      "shapes imgs_all, msks_all: (155, 128, 128, 1), (155, 128, 128, 1)\n",
      "shapes imgs_all, msks_all: (155, 128, 128, 1), (155, 128, 128, 1)\n",
      "shapes imgs_all, msks_all: (155, 128, 128, 1), (155, 128, 128, 1)\n",
      "shapes imgs_all, msks_all: (155, 128, 128, 1), (155, 128, 128, 1)\n",
      "shapes imgs_all, msks_all: (155, 128, 128, 1), (155, 128, 128, 1)\n",
      "shapes imgs_all, msks_all: (155, 128, 128, 1), (155, 128, 128, 1)\n",
      "shapes imgs_all, msks_all: (155, 128, 128, 1), (155, 128, 128, 1)\n",
      "shapes imgs_all, msks_all: (155, 128, 128, 1), (155, 128, 128, 1)\n",
      "shapes imgs_all, msks_all: (155, 128, 128, 1), (155, 128, 128, 1)\n",
      "shapes imgs_all, msks_all: (155, 128, 128, 1), (155, 128, 128, 1)\n",
      "shapes imgs_all, msks_all: (155, 128, 128, 1), (155, 128, 128, 1)\n",
      "shapes imgs_all, msks_all: (155, 128, 128, 1), (155, 128, 128, 1)\n",
      "shapes imgs_all, msks_all: (155, 128, 128, 1), (155, 128, 128, 1)\n",
      "shapes imgs_all, msks_all: (155, 128, 128, 1), (155, 128, 128, 1)\n",
      "shapes imgs_all, msks_all: (155, 128, 128, 1), (155, 128, 128, 1)\n",
      "shapes imgs_all, msks_all: (155, 128, 128, 1), (155, 128, 128, 1)\n",
      "shapes imgs_all, msks_all: (155, 128, 128, 1), (155, 128, 128, 1)\n",
      "shapes imgs_all, msks_all: (155, 128, 128, 1), (155, 128, 128, 1)\n",
      "shapes imgs_all, msks_all: (155, 128, 128, 1), (155, 128, 128, 1)\n",
      "shapes imgs_all, msks_all: (155, 128, 128, 1), (155, 128, 128, 1)\n",
      "shapes imgs_all, msks_all: (155, 128, 128, 1), (155, 128, 128, 1)\n",
      "shapes imgs_all, msks_all: (155, 128, 128, 1), (155, 128, 128, 1)\n",
      "shapes imgs_all, msks_all: (155, 128, 128, 1), (155, 128, 128, 1)\n",
      "shapes imgs_all, msks_all: (155, 128, 128, 1), (155, 128, 128, 1)\n",
      "shapes imgs_all, msks_all: (155, 128, 128, 1), (155, 128, 128, 1)\n",
      "shapes imgs_all, msks_all: (155, 128, 128, 1), (155, 128, 128, 1)\n",
      "shapes imgs_all, msks_all: (155, 128, 128, 1), (155, 128, 128, 1)\n",
      "shapes imgs_all, msks_all: (155, 128, 128, 1), (155, 128, 128, 1)\n",
      "shapes imgs_all, msks_all: (155, 128, 128, 1), (155, 128, 128, 1)\n",
      "shapes imgs_all, msks_all: (155, 128, 128, 1), (155, 128, 128, 1)\n",
      "shapes imgs_all, msks_all: (155, 128, 128, 1), (155, 128, 128, 1)\n",
      "shapes imgs_all, msks_all: (155, 128, 128, 1), (155, 128, 128, 1)\n",
      "shapes imgs_all, msks_all: (155, 128, 128, 1), (155, 128, 128, 1)\n",
      "shapes imgs_all, msks_all: (155, 128, 128, 1), (155, 128, 128, 1)\n",
      "shapes imgs_all, msks_all: (155, 128, 128, 1), (155, 128, 128, 1)\n",
      "shapes imgs_all, msks_all: (155, 128, 128, 1), (155, 128, 128, 1)\n",
      "shapes imgs_all, msks_all: (155, 128, 128, 1), (155, 128, 128, 1)\n",
      "shapes imgs_all, msks_all: (155, 128, 128, 1), (155, 128, 128, 1)\n",
      "shapes imgs_all, msks_all: (155, 128, 128, 1), (155, 128, 128, 1)\n",
      "shapes imgs_all, msks_all: (155, 128, 128, 1), (155, 128, 128, 1)\n",
      "shapes imgs_all, msks_all: (155, 128, 128, 1), (155, 128, 128, 1)\n",
      "shapes imgs_all, msks_all: (155, 128, 128, 1), (155, 128, 128, 1)\n",
      "shapes imgs_all, msks_all: (155, 128, 128, 1), (155, 128, 128, 1)\n",
      "shapes imgs_all, msks_all: (155, 128, 128, 1), (155, 128, 128, 1)\n",
      "shapes imgs_all, msks_all: (155, 128, 128, 1), (155, 128, 128, 1)\n",
      "shapes imgs_all, msks_all: (155, 128, 128, 1), (155, 128, 128, 1)\n",
      "shapes imgs_all, msks_all: (155, 128, 128, 1), (155, 128, 128, 1)\n",
      "shapes imgs_all, msks_all: (155, 128, 128, 1), (155, 128, 128, 1)\n",
      "shapes imgs_all, msks_all: (155, 128, 128, 1), (155, 128, 128, 1)\n",
      "shapes imgs_all, msks_all: (155, 128, 128, 1), (155, 128, 128, 1)\n",
      "shapes imgs_all, msks_all: (155, 128, 128, 1), (155, 128, 128, 1)\n",
      "shapes imgs_all, msks_all: (155, 128, 128, 1), (155, 128, 128, 1)\n",
      "shapes imgs_all, msks_all: (155, 128, 128, 1), (155, 128, 128, 1)\n",
      "shapes imgs_all, msks_all: (155, 128, 128, 1), (155, 128, 128, 1)\n",
      "shapes imgs_all, msks_all: (155, 128, 128, 1), (155, 128, 128, 1)\n",
      "shapes imgs_all, msks_all: (155, 128, 128, 1), (155, 128, 128, 1)\n",
      "shapes imgs_all, msks_all: (155, 128, 128, 1), (155, 128, 128, 1)\n",
      "shapes imgs_all, msks_all: (155, 128, 128, 1), (155, 128, 128, 1)\n"
     ]
    }
   ],
   "source": [
    "model = NIfTYNet(device='cpu', shuffle_before_split=False, \n",
    "                 shuffle_before_epoch=True, percent_train=0.5)"
   ]
  },
  {
   "cell_type": "code",
   "execution_count": 7,
   "metadata": {},
   "outputs": [],
   "source": [
    "dataset_dir = datasets._get_dataset_dir()"
   ]
  },
  {
   "cell_type": "code",
   "execution_count": null,
   "metadata": {},
   "outputs": [],
   "source": []
  },
  {
   "cell_type": "code",
   "execution_count": 8,
   "metadata": {},
   "outputs": [],
   "source": [
    "imgs_inst0 = np.transpose(np.load('/raid/datasets/BraTS17/imgs_inst0.npy'), [0,3, 1, 2])\n",
    "msks_inst0 = np.transpose(np.load('/raid/datasets/BraTS17/msks_inst0.npy'), [0,3, 1, 2])"
   ]
  },
  {
   "cell_type": "code",
   "execution_count": null,
   "metadata": {},
   "outputs": [],
   "source": []
  },
  {
   "cell_type": "code",
   "execution_count": 11,
   "metadata": {},
   "outputs": [
    {
     "name": "stdout",
     "output_type": "stream",
     "text": [
      "We succeeded.: False\n"
     ]
    }
   ],
   "source": [
    "results = []\n",
    "for idx, (img, msk) in enumerate(model.train_loader):\n",
    "    img = img.data.numpy\n",
    "    msk = msk.data.numpy\n",
    "    match = (np.all(img==imgs_inst0[idx]) and np.all(msk==msks_inst0[idx]))\n",
    "    results.append(match)\n",
    "final_result = np.all(results)\n",
    "print(\"We succeeded.: {}\".format(final_result))"
   ]
  },
  {
   "cell_type": "code",
   "execution_count": null,
   "metadata": {},
   "outputs": [],
   "source": []
  },
  {
   "cell_type": "code",
   "execution_count": null,
   "metadata": {},
   "outputs": [],
   "source": []
  },
  {
   "cell_type": "code",
   "execution_count": null,
   "metadata": {},
   "outputs": [],
   "source": [
    "# testing to see that the path to get the appropriate indexed image \n",
    "# looks good at first glance"
   ]
  },
  {
   "cell_type": "code",
   "execution_count": null,
   "metadata": {},
   "outputs": [],
   "source": [
    "idx_to_train_paths = model.idx_to_train_paths"
   ]
  },
  {
   "cell_type": "code",
   "execution_count": null,
   "metadata": {},
   "outputs": [],
   "source": [
    "directories = os.listdir(os.path.join(dataset_dir, \\\n",
    "                  'BraTS17/MICCAI_BraTS17_Data_Training/HGG'))\n",
    "directories[0:3]"
   ]
  },
  {
   "cell_type": "code",
   "execution_count": null,
   "metadata": {},
   "outputs": [],
   "source": [
    "# the paths below should match the concept of enumerateing all image slices\n",
    "# obtained by grabbing 155 axial slice \n",
    "# images from each directory in the list above\n",
    "idx_to_train_paths[0], idx_to_train_paths[1], idx_to_train_paths[2], \\\n",
    "idx_to_train_paths[154], idx_to_train_paths[155], idx_to_train_paths[310]"
   ]
  },
  {
   "cell_type": "code",
   "execution_count": null,
   "metadata": {},
   "outputs": [],
   "source": [
    "# each brain (155 slices) given by a directory (associated to an index) \n",
    "# in the list:directories (defined above)\n",
    "# corresponds to the institution number provided by the list\n",
    "# brain_to_inst(below) at the same index"
   ]
  },
  {
   "cell_type": "code",
   "execution_count": null,
   "metadata": {},
   "outputs": [],
   "source": [
    "with open(os.path.join(dataset_dir, 'BraTS17/brain_number_to_institution.pkl') \\\n",
    "          ,'rb') as file:\n",
    "    brain_to_inst = pickle.load(file)\n",
    "    \n",
    "# convert to int and shifting by one to be 0-indexed\n",
    "brain_to_inst = [int(entry)-1 for entry in brain_to_inst]\n",
    "brain_to_inst[0:5]"
   ]
  },
  {
   "cell_type": "code",
   "execution_count": null,
   "metadata": {},
   "outputs": [],
   "source": []
  },
  {
   "cell_type": "code",
   "execution_count": null,
   "metadata": {},
   "outputs": [],
   "source": []
  },
  {
   "cell_type": "code",
   "execution_count": null,
   "metadata": {},
   "outputs": [],
   "source": []
  },
  {
   "cell_type": "code",
   "execution_count": null,
   "metadata": {},
   "outputs": [],
   "source": [
    "from shutil import copytree\n",
    "# code for copying directories associated to a particular brain into\n",
    "# a new parent directory associated to the institution from which that \n",
    "# brain belongs. This way, we get a new by_institution separation of the\n",
    "# data, but this time with NIfTY files.\n",
    "# In preparation, directories 0 - 9 need to be created under \n",
    "# '<data_dir>/BraTS17/by_inst_NIfTY'\n",
    "\n",
    "\n",
    "for index, institution in enumerate(brain_to_inst):\n",
    "    src = idx_to_train_paths[155*index]\n",
    "    dir_name = src.split('/')[-1]\n",
    "    dest = os.path.join(dataset_dir, 'BraTS17/by_institution_NIfTY/{}/{}'.\n",
    "                        format(str(institution), dir_name))\n",
    "    #print(\"copying from {} to {}\".format(src, dest))\n",
    "    copytree(src, dest)\n",
    "    \n",
    "    "
   ]
  },
  {
   "cell_type": "code",
   "execution_count": null,
   "metadata": {},
   "outputs": [],
   "source": []
  }
 ],
 "metadata": {
  "kernelspec": {
   "display_name": "tfedlearn-cvKTHQG4",
   "language": "python",
   "name": "tfedlearn-cvkthqg4"
  },
  "language_info": {
   "codemirror_mode": {
    "name": "ipython",
    "version": 3
   },
   "file_extension": ".py",
   "mimetype": "text/x-python",
   "name": "python",
   "nbconvert_exporter": "python",
   "pygments_lexer": "ipython3",
   "version": "3.5.2"
  }
 },
 "nbformat": 4,
 "nbformat_minor": 2
}
