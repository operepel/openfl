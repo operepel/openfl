{
 "cells": [
  {
   "cell_type": "code",
   "execution_count": 1,
   "metadata": {},
   "outputs": [],
   "source": [
    "# This script takes work from Pytorch MNIST and UNet Dev.ipynb and makes training and validation repeatable \n",
    "# in order to test a method for saving and setting optimizer state (momentum, etc.) that remains consistent\n",
    "# even when the restoring is done after restarting the kernel. The train_epoch method also has been reduced to training\n",
    "# over a few batches (not a complete epoch) in order to make testing faster. Testing should be done for Unet\n",
    "# with its many optimizers, and also for MNIST cnn with its one optimizer.\n",
    "# .................. EDIT THIS ................................."
   ]
  },
  {
   "cell_type": "code",
   "execution_count": 1,
   "metadata": {},
   "outputs": [
    {
     "name": "stdout",
     "output_type": "stream",
     "text": [
      "Importing Collaborator\n"
     ]
    },
    {
     "ename": "ImportError",
     "evalue": "cannot import name 'Collaborator'",
     "output_type": "error",
     "traceback": [
      "\u001b[0;31m---------------------------------------------------------------------------\u001b[0m",
      "\u001b[0;31mImportError\u001b[0m                               Traceback (most recent call last)",
      "\u001b[0;32m<ipython-input-1-9e59aded291d>\u001b[0m in \u001b[0;36m<module>\u001b[0;34m\u001b[0m\n\u001b[0;32m----> 1\u001b[0;31m \u001b[0;32mimport\u001b[0m \u001b[0mtfedlrn\u001b[0m\u001b[0;34m.\u001b[0m\u001b[0mcollaborator\u001b[0m\u001b[0;34m.\u001b[0m\u001b[0mpytorchmodels\u001b[0m\u001b[0;34m\u001b[0m\u001b[0m\n\u001b[0m\u001b[1;32m      2\u001b[0m \u001b[0;34m\u001b[0m\u001b[0m\n\u001b[1;32m      3\u001b[0m \u001b[0;32mfrom\u001b[0m \u001b[0mtfedlrn\u001b[0m\u001b[0;34m.\u001b[0m\u001b[0mcollaborator\u001b[0m\u001b[0;34m.\u001b[0m\u001b[0mpytorchmodels\u001b[0m\u001b[0;34m.\u001b[0m\u001b[0mpytorch2dunet\u001b[0m \u001b[0;32mimport\u001b[0m \u001b[0mPyTorch2DUNet\u001b[0m\u001b[0;34m\u001b[0m\u001b[0m\n",
      "\u001b[0;32m~/.local/share/virtualenvs/spr_secure_intelligence-trusted_federated_-aNwh6wSd/lib/python3.5/site-packages/tfedlrn-0.0.0-py3.5.egg/tfedlrn/collaborator/__init__.py\u001b[0m in \u001b[0;36m<module>\u001b[0;34m\u001b[0m\n\u001b[1;32m      1\u001b[0m \u001b[0mprint\u001b[0m\u001b[0;34m(\u001b[0m\u001b[0;34m\"Importing Collaborator\"\u001b[0m\u001b[0;34m)\u001b[0m\u001b[0;34m\u001b[0m\u001b[0m\n\u001b[0;32m----> 2\u001b[0;31m \u001b[0;32mfrom\u001b[0m \u001b[0mtfedlrn\u001b[0m \u001b[0;32mimport\u001b[0m \u001b[0mCollaborator\u001b[0m\u001b[0;34m\u001b[0m\u001b[0m\n\u001b[0m\u001b[1;32m      3\u001b[0m \u001b[0;32mfrom\u001b[0m \u001b[0;34m.\u001b[0m\u001b[0mpytorchmodels\u001b[0m\u001b[0;34m.\u001b[0m\u001b[0mpytorch2dunet\u001b[0m \u001b[0;32mimport\u001b[0m \u001b[0mPyTorch2DUNet\u001b[0m\u001b[0;34m\u001b[0m\u001b[0m\n",
      "\u001b[0;31mImportError\u001b[0m: cannot import name 'Collaborator'"
     ]
    }
   ],
   "source": [
    "import tfedlrn.collaborator.pytorchmodels\n",
    "\n",
    "from tfedlrn.collaborator.pytorchmodels.pytorch2dunet import PyTorch2DUNet"
   ]
  },
  {
   "cell_type": "code",
   "execution_count": 9,
   "metadata": {},
   "outputs": [
    {
     "data": {
      "text/plain": [
       "{'IPython': <module 'IPython' from '/home/edwardsb/.local/share/virtualenvs/spr_secure_intelligence-trusted_federated_-aNwh6wSd/lib/python3.5/site-packages/IPython/__init__.py'>,\n",
       " 'IPython.core': <module 'IPython.core' from '/home/edwardsb/.local/share/virtualenvs/spr_secure_intelligence-trusted_federated_-aNwh6wSd/lib/python3.5/site-packages/IPython/core/__init__.py'>,\n",
       " 'IPython.core.alias': <module 'IPython.core.alias' from '/home/edwardsb/.local/share/virtualenvs/spr_secure_intelligence-trusted_federated_-aNwh6wSd/lib/python3.5/site-packages/IPython/core/alias.py'>,\n",
       " 'IPython.core.application': <module 'IPython.core.application' from '/home/edwardsb/.local/share/virtualenvs/spr_secure_intelligence-trusted_federated_-aNwh6wSd/lib/python3.5/site-packages/IPython/core/application.py'>,\n",
       " 'IPython.core.async_helpers': <module 'IPython.core.async_helpers' from '/home/edwardsb/.local/share/virtualenvs/spr_secure_intelligence-trusted_federated_-aNwh6wSd/lib/python3.5/site-packages/IPython/core/async_helpers.py'>,\n",
       " 'IPython.core.autocall': <module 'IPython.core.autocall' from '/home/edwardsb/.local/share/virtualenvs/spr_secure_intelligence-trusted_federated_-aNwh6wSd/lib/python3.5/site-packages/IPython/core/autocall.py'>,\n",
       " 'IPython.core.builtin_trap': <module 'IPython.core.builtin_trap' from '/home/edwardsb/.local/share/virtualenvs/spr_secure_intelligence-trusted_federated_-aNwh6wSd/lib/python3.5/site-packages/IPython/core/builtin_trap.py'>,\n",
       " 'IPython.core.compilerop': <module 'IPython.core.compilerop' from '/home/edwardsb/.local/share/virtualenvs/spr_secure_intelligence-trusted_federated_-aNwh6wSd/lib/python3.5/site-packages/IPython/core/compilerop.py'>,\n",
       " 'IPython.core.completer': <module 'IPython.core.completer' from '/home/edwardsb/.local/share/virtualenvs/spr_secure_intelligence-trusted_federated_-aNwh6wSd/lib/python3.5/site-packages/IPython/core/completer.py'>,\n",
       " 'IPython.core.completerlib': <module 'IPython.core.completerlib' from '/home/edwardsb/.local/share/virtualenvs/spr_secure_intelligence-trusted_federated_-aNwh6wSd/lib/python3.5/site-packages/IPython/core/completerlib.py'>,\n",
       " 'IPython.core.crashhandler': <module 'IPython.core.crashhandler' from '/home/edwardsb/.local/share/virtualenvs/spr_secure_intelligence-trusted_federated_-aNwh6wSd/lib/python3.5/site-packages/IPython/core/crashhandler.py'>,\n",
       " 'IPython.core.debugger': <module 'IPython.core.debugger' from '/home/edwardsb/.local/share/virtualenvs/spr_secure_intelligence-trusted_federated_-aNwh6wSd/lib/python3.5/site-packages/IPython/core/debugger.py'>,\n",
       " 'IPython.core.display': <module 'IPython.core.display' from '/home/edwardsb/.local/share/virtualenvs/spr_secure_intelligence-trusted_federated_-aNwh6wSd/lib/python3.5/site-packages/IPython/core/display.py'>,\n",
       " 'IPython.core.display_trap': <module 'IPython.core.display_trap' from '/home/edwardsb/.local/share/virtualenvs/spr_secure_intelligence-trusted_federated_-aNwh6wSd/lib/python3.5/site-packages/IPython/core/display_trap.py'>,\n",
       " 'IPython.core.displayhook': <module 'IPython.core.displayhook' from '/home/edwardsb/.local/share/virtualenvs/spr_secure_intelligence-trusted_federated_-aNwh6wSd/lib/python3.5/site-packages/IPython/core/displayhook.py'>,\n",
       " 'IPython.core.displaypub': <module 'IPython.core.displaypub' from '/home/edwardsb/.local/share/virtualenvs/spr_secure_intelligence-trusted_federated_-aNwh6wSd/lib/python3.5/site-packages/IPython/core/displaypub.py'>,\n",
       " 'IPython.core.error': <module 'IPython.core.error' from '/home/edwardsb/.local/share/virtualenvs/spr_secure_intelligence-trusted_federated_-aNwh6wSd/lib/python3.5/site-packages/IPython/core/error.py'>,\n",
       " 'IPython.core.events': <module 'IPython.core.events' from '/home/edwardsb/.local/share/virtualenvs/spr_secure_intelligence-trusted_federated_-aNwh6wSd/lib/python3.5/site-packages/IPython/core/events.py'>,\n",
       " 'IPython.core.excolors': <module 'IPython.core.excolors' from '/home/edwardsb/.local/share/virtualenvs/spr_secure_intelligence-trusted_federated_-aNwh6wSd/lib/python3.5/site-packages/IPython/core/excolors.py'>,\n",
       " 'IPython.core.extensions': <module 'IPython.core.extensions' from '/home/edwardsb/.local/share/virtualenvs/spr_secure_intelligence-trusted_federated_-aNwh6wSd/lib/python3.5/site-packages/IPython/core/extensions.py'>,\n",
       " 'IPython.core.formatters': <module 'IPython.core.formatters' from '/home/edwardsb/.local/share/virtualenvs/spr_secure_intelligence-trusted_federated_-aNwh6wSd/lib/python3.5/site-packages/IPython/core/formatters.py'>,\n",
       " 'IPython.core.getipython': <module 'IPython.core.getipython' from '/home/edwardsb/.local/share/virtualenvs/spr_secure_intelligence-trusted_federated_-aNwh6wSd/lib/python3.5/site-packages/IPython/core/getipython.py'>,\n",
       " 'IPython.core.history': <module 'IPython.core.history' from '/home/edwardsb/.local/share/virtualenvs/spr_secure_intelligence-trusted_federated_-aNwh6wSd/lib/python3.5/site-packages/IPython/core/history.py'>,\n",
       " 'IPython.core.hooks': <module 'IPython.core.hooks' from '/home/edwardsb/.local/share/virtualenvs/spr_secure_intelligence-trusted_federated_-aNwh6wSd/lib/python3.5/site-packages/IPython/core/hooks.py'>,\n",
       " 'IPython.core.inputtransformer2': <module 'IPython.core.inputtransformer2' from '/home/edwardsb/.local/share/virtualenvs/spr_secure_intelligence-trusted_federated_-aNwh6wSd/lib/python3.5/site-packages/IPython/core/inputtransformer2.py'>,\n",
       " 'IPython.core.interactiveshell': <module 'IPython.core.interactiveshell' from '/home/edwardsb/.local/share/virtualenvs/spr_secure_intelligence-trusted_federated_-aNwh6wSd/lib/python3.5/site-packages/IPython/core/interactiveshell.py'>,\n",
       " 'IPython.core.latex_symbols': <module 'IPython.core.latex_symbols' from '/home/edwardsb/.local/share/virtualenvs/spr_secure_intelligence-trusted_federated_-aNwh6wSd/lib/python3.5/site-packages/IPython/core/latex_symbols.py'>,\n",
       " 'IPython.core.logger': <module 'IPython.core.logger' from '/home/edwardsb/.local/share/virtualenvs/spr_secure_intelligence-trusted_federated_-aNwh6wSd/lib/python3.5/site-packages/IPython/core/logger.py'>,\n",
       " 'IPython.core.macro': <module 'IPython.core.macro' from '/home/edwardsb/.local/share/virtualenvs/spr_secure_intelligence-trusted_federated_-aNwh6wSd/lib/python3.5/site-packages/IPython/core/macro.py'>,\n",
       " 'IPython.core.magic': <module 'IPython.core.magic' from '/home/edwardsb/.local/share/virtualenvs/spr_secure_intelligence-trusted_federated_-aNwh6wSd/lib/python3.5/site-packages/IPython/core/magic.py'>,\n",
       " 'IPython.core.magic_arguments': <module 'IPython.core.magic_arguments' from '/home/edwardsb/.local/share/virtualenvs/spr_secure_intelligence-trusted_federated_-aNwh6wSd/lib/python3.5/site-packages/IPython/core/magic_arguments.py'>,\n",
       " 'IPython.core.magics': <module 'IPython.core.magics' from '/home/edwardsb/.local/share/virtualenvs/spr_secure_intelligence-trusted_federated_-aNwh6wSd/lib/python3.5/site-packages/IPython/core/magics/__init__.py'>,\n",
       " 'IPython.core.magics.auto': <module 'IPython.core.magics.auto' from '/home/edwardsb/.local/share/virtualenvs/spr_secure_intelligence-trusted_federated_-aNwh6wSd/lib/python3.5/site-packages/IPython/core/magics/auto.py'>,\n",
       " 'IPython.core.magics.basic': <module 'IPython.core.magics.basic' from '/home/edwardsb/.local/share/virtualenvs/spr_secure_intelligence-trusted_federated_-aNwh6wSd/lib/python3.5/site-packages/IPython/core/magics/basic.py'>,\n",
       " 'IPython.core.magics.code': <module 'IPython.core.magics.code' from '/home/edwardsb/.local/share/virtualenvs/spr_secure_intelligence-trusted_federated_-aNwh6wSd/lib/python3.5/site-packages/IPython/core/magics/code.py'>,\n",
       " 'IPython.core.magics.config': <module 'IPython.core.magics.config' from '/home/edwardsb/.local/share/virtualenvs/spr_secure_intelligence-trusted_federated_-aNwh6wSd/lib/python3.5/site-packages/IPython/core/magics/config.py'>,\n",
       " 'IPython.core.magics.display': <module 'IPython.core.magics.display' from '/home/edwardsb/.local/share/virtualenvs/spr_secure_intelligence-trusted_federated_-aNwh6wSd/lib/python3.5/site-packages/IPython/core/magics/display.py'>,\n",
       " 'IPython.core.magics.execution': <module 'IPython.core.magics.execution' from '/home/edwardsb/.local/share/virtualenvs/spr_secure_intelligence-trusted_federated_-aNwh6wSd/lib/python3.5/site-packages/IPython/core/magics/execution.py'>,\n",
       " 'IPython.core.magics.extension': <module 'IPython.core.magics.extension' from '/home/edwardsb/.local/share/virtualenvs/spr_secure_intelligence-trusted_federated_-aNwh6wSd/lib/python3.5/site-packages/IPython/core/magics/extension.py'>,\n",
       " 'IPython.core.magics.history': <module 'IPython.core.magics.history' from '/home/edwardsb/.local/share/virtualenvs/spr_secure_intelligence-trusted_federated_-aNwh6wSd/lib/python3.5/site-packages/IPython/core/magics/history.py'>,\n",
       " 'IPython.core.magics.logging': <module 'IPython.core.magics.logging' from '/home/edwardsb/.local/share/virtualenvs/spr_secure_intelligence-trusted_federated_-aNwh6wSd/lib/python3.5/site-packages/IPython/core/magics/logging.py'>,\n",
       " 'IPython.core.magics.namespace': <module 'IPython.core.magics.namespace' from '/home/edwardsb/.local/share/virtualenvs/spr_secure_intelligence-trusted_federated_-aNwh6wSd/lib/python3.5/site-packages/IPython/core/magics/namespace.py'>,\n",
       " 'IPython.core.magics.osm': <module 'IPython.core.magics.osm' from '/home/edwardsb/.local/share/virtualenvs/spr_secure_intelligence-trusted_federated_-aNwh6wSd/lib/python3.5/site-packages/IPython/core/magics/osm.py'>,\n",
       " 'IPython.core.magics.packaging': <module 'IPython.core.magics.packaging' from '/home/edwardsb/.local/share/virtualenvs/spr_secure_intelligence-trusted_federated_-aNwh6wSd/lib/python3.5/site-packages/IPython/core/magics/packaging.py'>,\n",
       " 'IPython.core.magics.pylab': <module 'IPython.core.magics.pylab' from '/home/edwardsb/.local/share/virtualenvs/spr_secure_intelligence-trusted_federated_-aNwh6wSd/lib/python3.5/site-packages/IPython/core/magics/pylab.py'>,\n",
       " 'IPython.core.magics.script': <module 'IPython.core.magics.script' from '/home/edwardsb/.local/share/virtualenvs/spr_secure_intelligence-trusted_federated_-aNwh6wSd/lib/python3.5/site-packages/IPython/core/magics/script.py'>,\n",
       " 'IPython.core.oinspect': <module 'IPython.core.oinspect' from '/home/edwardsb/.local/share/virtualenvs/spr_secure_intelligence-trusted_federated_-aNwh6wSd/lib/python3.5/site-packages/IPython/core/oinspect.py'>,\n",
       " 'IPython.core.page': <module 'IPython.core.page' from '/home/edwardsb/.local/share/virtualenvs/spr_secure_intelligence-trusted_federated_-aNwh6wSd/lib/python3.5/site-packages/IPython/core/page.py'>,\n",
       " 'IPython.core.payload': <module 'IPython.core.payload' from '/home/edwardsb/.local/share/virtualenvs/spr_secure_intelligence-trusted_federated_-aNwh6wSd/lib/python3.5/site-packages/IPython/core/payload.py'>,\n",
       " 'IPython.core.payloadpage': <module 'IPython.core.payloadpage' from '/home/edwardsb/.local/share/virtualenvs/spr_secure_intelligence-trusted_federated_-aNwh6wSd/lib/python3.5/site-packages/IPython/core/payloadpage.py'>,\n",
       " 'IPython.core.prefilter': <module 'IPython.core.prefilter' from '/home/edwardsb/.local/share/virtualenvs/spr_secure_intelligence-trusted_federated_-aNwh6wSd/lib/python3.5/site-packages/IPython/core/prefilter.py'>,\n",
       " 'IPython.core.profiledir': <module 'IPython.core.profiledir' from '/home/edwardsb/.local/share/virtualenvs/spr_secure_intelligence-trusted_federated_-aNwh6wSd/lib/python3.5/site-packages/IPython/core/profiledir.py'>,\n",
       " 'IPython.core.pylabtools': <module 'IPython.core.pylabtools' from '/home/edwardsb/.local/share/virtualenvs/spr_secure_intelligence-trusted_federated_-aNwh6wSd/lib/python3.5/site-packages/IPython/core/pylabtools.py'>,\n",
       " 'IPython.core.release': <module 'IPython.core.release' from '/home/edwardsb/.local/share/virtualenvs/spr_secure_intelligence-trusted_federated_-aNwh6wSd/lib/python3.5/site-packages/IPython/core/release.py'>,\n",
       " 'IPython.core.shellapp': <module 'IPython.core.shellapp' from '/home/edwardsb/.local/share/virtualenvs/spr_secure_intelligence-trusted_federated_-aNwh6wSd/lib/python3.5/site-packages/IPython/core/shellapp.py'>,\n",
       " 'IPython.core.splitinput': <module 'IPython.core.splitinput' from '/home/edwardsb/.local/share/virtualenvs/spr_secure_intelligence-trusted_federated_-aNwh6wSd/lib/python3.5/site-packages/IPython/core/splitinput.py'>,\n",
       " 'IPython.core.ultratb': <module 'IPython.core.ultratb' from '/home/edwardsb/.local/share/virtualenvs/spr_secure_intelligence-trusted_federated_-aNwh6wSd/lib/python3.5/site-packages/IPython/core/ultratb.py'>,\n",
       " 'IPython.core.usage': <module 'IPython.core.usage' from '/home/edwardsb/.local/share/virtualenvs/spr_secure_intelligence-trusted_federated_-aNwh6wSd/lib/python3.5/site-packages/IPython/core/usage.py'>,\n",
       " 'IPython.display': <module 'IPython.display' from '/home/edwardsb/.local/share/virtualenvs/spr_secure_intelligence-trusted_federated_-aNwh6wSd/lib/python3.5/site-packages/IPython/display.py'>,\n",
       " 'IPython.extensions': <module 'IPython.extensions' from '/home/edwardsb/.local/share/virtualenvs/spr_secure_intelligence-trusted_federated_-aNwh6wSd/lib/python3.5/site-packages/IPython/extensions/__init__.py'>,\n",
       " 'IPython.extensions.storemagic': <module 'IPython.extensions.storemagic' from '/home/edwardsb/.local/share/virtualenvs/spr_secure_intelligence-trusted_federated_-aNwh6wSd/lib/python3.5/site-packages/IPython/extensions/storemagic.py'>,\n",
       " 'IPython.lib': <module 'IPython.lib' from '/home/edwardsb/.local/share/virtualenvs/spr_secure_intelligence-trusted_federated_-aNwh6wSd/lib/python3.5/site-packages/IPython/lib/__init__.py'>,\n",
       " 'IPython.lib.backgroundjobs': <module 'IPython.lib.backgroundjobs' from '/home/edwardsb/.local/share/virtualenvs/spr_secure_intelligence-trusted_federated_-aNwh6wSd/lib/python3.5/site-packages/IPython/lib/backgroundjobs.py'>,\n",
       " 'IPython.lib.clipboard': <module 'IPython.lib.clipboard' from '/home/edwardsb/.local/share/virtualenvs/spr_secure_intelligence-trusted_federated_-aNwh6wSd/lib/python3.5/site-packages/IPython/lib/clipboard.py'>,\n",
       " 'IPython.lib.display': <module 'IPython.lib.display' from '/home/edwardsb/.local/share/virtualenvs/spr_secure_intelligence-trusted_federated_-aNwh6wSd/lib/python3.5/site-packages/IPython/lib/display.py'>,\n",
       " 'IPython.lib.pretty': <module 'IPython.lib.pretty' from '/home/edwardsb/.local/share/virtualenvs/spr_secure_intelligence-trusted_federated_-aNwh6wSd/lib/python3.5/site-packages/IPython/lib/pretty.py'>,\n",
       " 'IPython.lib.security': <module 'IPython.lib.security' from '/home/edwardsb/.local/share/virtualenvs/spr_secure_intelligence-trusted_federated_-aNwh6wSd/lib/python3.5/site-packages/IPython/lib/security.py'>,\n",
       " 'IPython.paths': <module 'IPython.paths' from '/home/edwardsb/.local/share/virtualenvs/spr_secure_intelligence-trusted_federated_-aNwh6wSd/lib/python3.5/site-packages/IPython/paths.py'>,\n",
       " 'IPython.terminal': <module 'IPython.terminal' from '/home/edwardsb/.local/share/virtualenvs/spr_secure_intelligence-trusted_federated_-aNwh6wSd/lib/python3.5/site-packages/IPython/terminal/__init__.py'>,\n",
       " 'IPython.terminal.debugger': <module 'IPython.terminal.debugger' from '/home/edwardsb/.local/share/virtualenvs/spr_secure_intelligence-trusted_federated_-aNwh6wSd/lib/python3.5/site-packages/IPython/terminal/debugger.py'>,\n",
       " 'IPython.terminal.embed': <module 'IPython.terminal.embed' from '/home/edwardsb/.local/share/virtualenvs/spr_secure_intelligence-trusted_federated_-aNwh6wSd/lib/python3.5/site-packages/IPython/terminal/embed.py'>,\n",
       " 'IPython.terminal.interactiveshell': <module 'IPython.terminal.interactiveshell' from '/home/edwardsb/.local/share/virtualenvs/spr_secure_intelligence-trusted_federated_-aNwh6wSd/lib/python3.5/site-packages/IPython/terminal/interactiveshell.py'>,\n",
       " 'IPython.terminal.ipapp': <module 'IPython.terminal.ipapp' from '/home/edwardsb/.local/share/virtualenvs/spr_secure_intelligence-trusted_federated_-aNwh6wSd/lib/python3.5/site-packages/IPython/terminal/ipapp.py'>,\n",
       " 'IPython.terminal.magics': <module 'IPython.terminal.magics' from '/home/edwardsb/.local/share/virtualenvs/spr_secure_intelligence-trusted_federated_-aNwh6wSd/lib/python3.5/site-packages/IPython/terminal/magics.py'>,\n",
       " 'IPython.terminal.prompts': <module 'IPython.terminal.prompts' from '/home/edwardsb/.local/share/virtualenvs/spr_secure_intelligence-trusted_federated_-aNwh6wSd/lib/python3.5/site-packages/IPython/terminal/prompts.py'>,\n",
       " 'IPython.terminal.pt_inputhooks': <module 'IPython.terminal.pt_inputhooks' from '/home/edwardsb/.local/share/virtualenvs/spr_secure_intelligence-trusted_federated_-aNwh6wSd/lib/python3.5/site-packages/IPython/terminal/pt_inputhooks/__init__.py'>,\n",
       " 'IPython.terminal.ptutils': <module 'IPython.terminal.ptutils' from '/home/edwardsb/.local/share/virtualenvs/spr_secure_intelligence-trusted_federated_-aNwh6wSd/lib/python3.5/site-packages/IPython/terminal/ptutils.py'>,\n",
       " 'IPython.terminal.shortcuts': <module 'IPython.terminal.shortcuts' from '/home/edwardsb/.local/share/virtualenvs/spr_secure_intelligence-trusted_federated_-aNwh6wSd/lib/python3.5/site-packages/IPython/terminal/shortcuts.py'>,\n",
       " 'IPython.testing': <module 'IPython.testing' from '/home/edwardsb/.local/share/virtualenvs/spr_secure_intelligence-trusted_federated_-aNwh6wSd/lib/python3.5/site-packages/IPython/testing/__init__.py'>,\n",
       " 'IPython.testing.skipdoctest': <module 'IPython.testing.skipdoctest' from '/home/edwardsb/.local/share/virtualenvs/spr_secure_intelligence-trusted_federated_-aNwh6wSd/lib/python3.5/site-packages/IPython/testing/skipdoctest.py'>,\n",
       " 'IPython.utils': <module 'IPython.utils' from '/home/edwardsb/.local/share/virtualenvs/spr_secure_intelligence-trusted_federated_-aNwh6wSd/lib/python3.5/site-packages/IPython/utils/__init__.py'>,\n",
       " 'IPython.utils.PyColorize': <module 'IPython.utils.PyColorize' from '/home/edwardsb/.local/share/virtualenvs/spr_secure_intelligence-trusted_federated_-aNwh6wSd/lib/python3.5/site-packages/IPython/utils/PyColorize.py'>,\n",
       " 'IPython.utils._process_common': <module 'IPython.utils._process_common' from '/home/edwardsb/.local/share/virtualenvs/spr_secure_intelligence-trusted_federated_-aNwh6wSd/lib/python3.5/site-packages/IPython/utils/_process_common.py'>,\n",
       " 'IPython.utils._process_posix': <module 'IPython.utils._process_posix' from '/home/edwardsb/.local/share/virtualenvs/spr_secure_intelligence-trusted_federated_-aNwh6wSd/lib/python3.5/site-packages/IPython/utils/_process_posix.py'>,\n",
       " 'IPython.utils._sysinfo': <module 'IPython.utils._sysinfo' from '/home/edwardsb/.local/share/virtualenvs/spr_secure_intelligence-trusted_federated_-aNwh6wSd/lib/python3.5/site-packages/IPython/utils/_sysinfo.py'>,\n",
       " 'IPython.utils.capture': <module 'IPython.utils.capture' from '/home/edwardsb/.local/share/virtualenvs/spr_secure_intelligence-trusted_federated_-aNwh6wSd/lib/python3.5/site-packages/IPython/utils/capture.py'>,\n",
       " 'IPython.utils.colorable': <module 'IPython.utils.colorable' from '/home/edwardsb/.local/share/virtualenvs/spr_secure_intelligence-trusted_federated_-aNwh6wSd/lib/python3.5/site-packages/IPython/utils/colorable.py'>,\n",
       " 'IPython.utils.coloransi': <module 'IPython.utils.coloransi' from '/home/edwardsb/.local/share/virtualenvs/spr_secure_intelligence-trusted_federated_-aNwh6wSd/lib/python3.5/site-packages/IPython/utils/coloransi.py'>,\n",
       " 'IPython.utils.contexts': <module 'IPython.utils.contexts' from '/home/edwardsb/.local/share/virtualenvs/spr_secure_intelligence-trusted_federated_-aNwh6wSd/lib/python3.5/site-packages/IPython/utils/contexts.py'>,\n",
       " 'IPython.utils.data': <module 'IPython.utils.data' from '/home/edwardsb/.local/share/virtualenvs/spr_secure_intelligence-trusted_federated_-aNwh6wSd/lib/python3.5/site-packages/IPython/utils/data.py'>,\n",
       " 'IPython.utils.decorators': <module 'IPython.utils.decorators' from '/home/edwardsb/.local/share/virtualenvs/spr_secure_intelligence-trusted_federated_-aNwh6wSd/lib/python3.5/site-packages/IPython/utils/decorators.py'>,\n",
       " 'IPython.utils.dir2': <module 'IPython.utils.dir2' from '/home/edwardsb/.local/share/virtualenvs/spr_secure_intelligence-trusted_federated_-aNwh6wSd/lib/python3.5/site-packages/IPython/utils/dir2.py'>,\n",
       " 'IPython.utils.encoding': <module 'IPython.utils.encoding' from '/home/edwardsb/.local/share/virtualenvs/spr_secure_intelligence-trusted_federated_-aNwh6wSd/lib/python3.5/site-packages/IPython/utils/encoding.py'>,\n",
       " 'IPython.utils.frame': <module 'IPython.utils.frame' from '/home/edwardsb/.local/share/virtualenvs/spr_secure_intelligence-trusted_federated_-aNwh6wSd/lib/python3.5/site-packages/IPython/utils/frame.py'>,\n",
       " 'IPython.utils.generics': <module 'IPython.utils.generics' from '/home/edwardsb/.local/share/virtualenvs/spr_secure_intelligence-trusted_federated_-aNwh6wSd/lib/python3.5/site-packages/IPython/utils/generics.py'>,\n",
       " 'IPython.utils.importstring': <module 'IPython.utils.importstring' from '/home/edwardsb/.local/share/virtualenvs/spr_secure_intelligence-trusted_federated_-aNwh6wSd/lib/python3.5/site-packages/IPython/utils/importstring.py'>,\n",
       " 'IPython.utils.io': <module 'IPython.utils.io' from '/home/edwardsb/.local/share/virtualenvs/spr_secure_intelligence-trusted_federated_-aNwh6wSd/lib/python3.5/site-packages/IPython/utils/io.py'>,\n",
       " 'IPython.utils.ipstruct': <module 'IPython.utils.ipstruct' from '/home/edwardsb/.local/share/virtualenvs/spr_secure_intelligence-trusted_federated_-aNwh6wSd/lib/python3.5/site-packages/IPython/utils/ipstruct.py'>,\n",
       " 'IPython.utils.module_paths': <module 'IPython.utils.module_paths' from '/home/edwardsb/.local/share/virtualenvs/spr_secure_intelligence-trusted_federated_-aNwh6wSd/lib/python3.5/site-packages/IPython/utils/module_paths.py'>,\n",
       " 'IPython.utils.openpy': <module 'IPython.utils.openpy' from '/home/edwardsb/.local/share/virtualenvs/spr_secure_intelligence-trusted_federated_-aNwh6wSd/lib/python3.5/site-packages/IPython/utils/openpy.py'>,\n",
       " 'IPython.utils.path': <module 'IPython.utils.path' from '/home/edwardsb/.local/share/virtualenvs/spr_secure_intelligence-trusted_federated_-aNwh6wSd/lib/python3.5/site-packages/IPython/utils/path.py'>,\n",
       " 'IPython.utils.process': <module 'IPython.utils.process' from '/home/edwardsb/.local/share/virtualenvs/spr_secure_intelligence-trusted_federated_-aNwh6wSd/lib/python3.5/site-packages/IPython/utils/process.py'>,\n",
       " 'IPython.utils.py3compat': <module 'IPython.utils.py3compat' from '/home/edwardsb/.local/share/virtualenvs/spr_secure_intelligence-trusted_federated_-aNwh6wSd/lib/python3.5/site-packages/IPython/utils/py3compat.py'>,\n",
       " 'IPython.utils.sentinel': <module 'IPython.utils.sentinel' from '/home/edwardsb/.local/share/virtualenvs/spr_secure_intelligence-trusted_federated_-aNwh6wSd/lib/python3.5/site-packages/IPython/utils/sentinel.py'>,\n",
       " 'IPython.utils.strdispatch': <module 'IPython.utils.strdispatch' from '/home/edwardsb/.local/share/virtualenvs/spr_secure_intelligence-trusted_federated_-aNwh6wSd/lib/python3.5/site-packages/IPython/utils/strdispatch.py'>,\n",
       " 'IPython.utils.sysinfo': <module 'IPython.utils.sysinfo' from '/home/edwardsb/.local/share/virtualenvs/spr_secure_intelligence-trusted_federated_-aNwh6wSd/lib/python3.5/site-packages/IPython/utils/sysinfo.py'>,\n",
       " 'IPython.utils.syspathcontext': <module 'IPython.utils.syspathcontext' from '/home/edwardsb/.local/share/virtualenvs/spr_secure_intelligence-trusted_federated_-aNwh6wSd/lib/python3.5/site-packages/IPython/utils/syspathcontext.py'>,\n",
       " 'IPython.utils.tempdir': <module 'IPython.utils.tempdir' from '/home/edwardsb/.local/share/virtualenvs/spr_secure_intelligence-trusted_federated_-aNwh6wSd/lib/python3.5/site-packages/IPython/utils/tempdir.py'>,\n",
       " 'IPython.utils.terminal': <module 'IPython.utils.terminal' from '/home/edwardsb/.local/share/virtualenvs/spr_secure_intelligence-trusted_federated_-aNwh6wSd/lib/python3.5/site-packages/IPython/utils/terminal.py'>,\n",
       " 'IPython.utils.text': <module 'IPython.utils.text' from '/home/edwardsb/.local/share/virtualenvs/spr_secure_intelligence-trusted_federated_-aNwh6wSd/lib/python3.5/site-packages/IPython/utils/text.py'>,\n",
       " 'IPython.utils.timing': <module 'IPython.utils.timing' from '/home/edwardsb/.local/share/virtualenvs/spr_secure_intelligence-trusted_federated_-aNwh6wSd/lib/python3.5/site-packages/IPython/utils/timing.py'>,\n",
       " 'IPython.utils.tokenutil': <module 'IPython.utils.tokenutil' from '/home/edwardsb/.local/share/virtualenvs/spr_secure_intelligence-trusted_federated_-aNwh6wSd/lib/python3.5/site-packages/IPython/utils/tokenutil.py'>,\n",
       " 'IPython.utils.wildcard': <module 'IPython.utils.wildcard' from '/home/edwardsb/.local/share/virtualenvs/spr_secure_intelligence-trusted_federated_-aNwh6wSd/lib/python3.5/site-packages/IPython/utils/wildcard.py'>,\n",
       " '__future__': <module '__future__' from '/home/edwardsb/.local/share/virtualenvs/spr_secure_intelligence-trusted_federated_-aNwh6wSd/lib/python3.5/__future__.py'>,\n",
       " '__main__': <module '__main__'>,\n",
       " '__mp_main__': <module 'ipykernel_launcher' from '/home/edwardsb/.local/share/virtualenvs/spr_secure_intelligence-trusted_federated_-aNwh6wSd/lib/python3.5/site-packages/ipykernel_launcher.py'>,\n",
       " '_ast': <module '_ast' (built-in)>,\n",
       " '_bisect': <module '_bisect' (built-in)>,\n",
       " '_bootlocale': <module '_bootlocale' from '/home/edwardsb/.local/share/virtualenvs/spr_secure_intelligence-trusted_federated_-aNwh6wSd/lib/python3.5/_bootlocale.py'>,\n",
       " '_bz2': <module '_bz2' from '/home/edwardsb/.local/share/virtualenvs/spr_secure_intelligence-trusted_federated_-aNwh6wSd/lib/python3.5/lib-dynload/_bz2.cpython-35m-x86_64-linux-gnu.so'>,\n",
       " '_codecs': <module '_codecs' (built-in)>,\n",
       " '_collections': <module '_collections' (built-in)>,\n",
       " '_collections_abc': <module '_collections_abc' from '/home/edwardsb/.local/share/virtualenvs/spr_secure_intelligence-trusted_federated_-aNwh6wSd/lib/python3.5/_collections_abc.py'>,\n",
       " '_compat_pickle': <module '_compat_pickle' from '/usr/lib/python3.5/_compat_pickle.py'>,\n",
       " '_compression': <module '_compression' from '/usr/lib/python3.5/_compression.py'>,\n",
       " '_ctypes': <module '_ctypes' from '/home/edwardsb/.local/share/virtualenvs/spr_secure_intelligence-trusted_federated_-aNwh6wSd/lib/python3.5/lib-dynload/_ctypes.cpython-35m-x86_64-linux-gnu.so'>,\n",
       " '_curses': <module '_curses' from '/home/edwardsb/.local/share/virtualenvs/spr_secure_intelligence-trusted_federated_-aNwh6wSd/lib/python3.5/lib-dynload/_curses.cpython-35m-x86_64-linux-gnu.so'>,\n",
       " '_cython_0_29_6': <module '_cython_0_29_6'>,\n",
       " '_datetime': <module '_datetime' (built-in)>,\n",
       " '_decimal': <module '_decimal' from '/home/edwardsb/.local/share/virtualenvs/spr_secure_intelligence-trusted_federated_-aNwh6wSd/lib/python3.5/lib-dynload/_decimal.cpython-35m-x86_64-linux-gnu.so'>,\n",
       " '_frozen_importlib': <module 'importlib._bootstrap' (frozen)>,\n",
       " '_frozen_importlib_external': <module 'importlib._bootstrap_external' (frozen)>,\n",
       " '_functools': <module '_functools' (built-in)>,\n",
       " '_hashlib': <module '_hashlib' from '/home/edwardsb/.local/share/virtualenvs/spr_secure_intelligence-trusted_federated_-aNwh6wSd/lib/python3.5/lib-dynload/_hashlib.cpython-35m-x86_64-linux-gnu.so'>,\n",
       " '_heapq': <module '_heapq' (built-in)>,\n",
       " '_imp': <module '_imp' (built-in)>,\n",
       " '_io': <module 'io' (built-in)>,\n",
       " '_json': <module '_json' from '/home/edwardsb/.local/share/virtualenvs/spr_secure_intelligence-trusted_federated_-aNwh6wSd/lib/python3.5/lib-dynload/_json.cpython-35m-x86_64-linux-gnu.so'>,\n",
       " '_locale': <module '_locale' (built-in)>,\n",
       " '_lsprof': <module '_lsprof' from '/home/edwardsb/.local/share/virtualenvs/spr_secure_intelligence-trusted_federated_-aNwh6wSd/lib/python3.5/lib-dynload/_lsprof.cpython-35m-x86_64-linux-gnu.so'>,\n",
       " '_lzma': <module '_lzma' from '/home/edwardsb/.local/share/virtualenvs/spr_secure_intelligence-trusted_federated_-aNwh6wSd/lib/python3.5/lib-dynload/_lzma.cpython-35m-x86_64-linux-gnu.so'>,\n",
       " '_multiprocessing': <module '_multiprocessing' from '/home/edwardsb/.local/share/virtualenvs/spr_secure_intelligence-trusted_federated_-aNwh6wSd/lib/python3.5/lib-dynload/_multiprocessing.cpython-35m-x86_64-linux-gnu.so'>,\n",
       " '_opcode': <module '_opcode' from '/home/edwardsb/.local/share/virtualenvs/spr_secure_intelligence-trusted_federated_-aNwh6wSd/lib/python3.5/lib-dynload/_opcode.cpython-35m-x86_64-linux-gnu.so'>,\n",
       " '_operator': <module '_operator' (built-in)>,\n",
       " '_pickle': <module '_pickle' (built-in)>,\n",
       " '_posixsubprocess': <module '_posixsubprocess' (built-in)>,\n",
       " '_random': <module '_random' (built-in)>,\n",
       " '_signal': <module '_signal' (built-in)>,\n",
       " '_socket': <module '_socket' (built-in)>,\n",
       " '_sqlite3': <module '_sqlite3' from '/home/edwardsb/.local/share/virtualenvs/spr_secure_intelligence-trusted_federated_-aNwh6wSd/lib/python3.5/lib-dynload/_sqlite3.cpython-35m-x86_64-linux-gnu.so'>,\n",
       " '_sre': <module '_sre' (built-in)>,\n",
       " '_ssl': <module '_ssl' from '/home/edwardsb/.local/share/virtualenvs/spr_secure_intelligence-trusted_federated_-aNwh6wSd/lib/python3.5/lib-dynload/_ssl.cpython-35m-x86_64-linux-gnu.so'>,\n",
       " '_stat': <module '_stat' (built-in)>,\n",
       " '_string': <module '_string' (built-in)>,\n",
       " '_strptime': <module '_strptime' from '/usr/lib/python3.5/_strptime.py'>,\n",
       " '_struct': <module '_struct' (built-in)>,\n",
       " '_thread': <module '_thread' (built-in)>,\n",
       " '_warnings': <module '_warnings' (built-in)>,\n",
       " '_weakref': <module '_weakref' (built-in)>,\n",
       " '_weakrefset': <module '_weakrefset' from '/home/edwardsb/.local/share/virtualenvs/spr_secure_intelligence-trusted_federated_-aNwh6wSd/lib/python3.5/_weakrefset.py'>,\n",
       " 'abc': <module 'abc' from '/home/edwardsb/.local/share/virtualenvs/spr_secure_intelligence-trusted_federated_-aNwh6wSd/lib/python3.5/abc.py'>,\n",
       " 'argparse': <module 'argparse' from '/usr/lib/python3.5/argparse.py'>,\n",
       " 'array': <module 'array' (built-in)>,\n",
       " 'ast': <module 'ast' from '/usr/lib/python3.5/ast.py'>,\n",
       " 'asyncio': <module 'asyncio' from '/usr/lib/python3.5/asyncio/__init__.py'>,\n",
       " 'asyncio.base_events': <module 'asyncio.base_events' from '/usr/lib/python3.5/asyncio/base_events.py'>,\n",
       " 'asyncio.base_subprocess': <module 'asyncio.base_subprocess' from '/usr/lib/python3.5/asyncio/base_subprocess.py'>,\n",
       " 'asyncio.compat': <module 'asyncio.compat' from '/usr/lib/python3.5/asyncio/compat.py'>,\n",
       " 'asyncio.constants': <module 'asyncio.constants' from '/usr/lib/python3.5/asyncio/constants.py'>,\n",
       " 'asyncio.coroutines': <module 'asyncio.coroutines' from '/usr/lib/python3.5/asyncio/coroutines.py'>,\n",
       " 'asyncio.events': <module 'asyncio.events' from '/usr/lib/python3.5/asyncio/events.py'>,\n",
       " 'asyncio.futures': <module 'asyncio.futures' from '/usr/lib/python3.5/asyncio/futures.py'>,\n",
       " 'asyncio.locks': <module 'asyncio.locks' from '/usr/lib/python3.5/asyncio/locks.py'>,\n",
       " 'asyncio.log': <module 'asyncio.log' from '/usr/lib/python3.5/asyncio/log.py'>,\n",
       " 'asyncio.protocols': <module 'asyncio.protocols' from '/usr/lib/python3.5/asyncio/protocols.py'>,\n",
       " 'asyncio.queues': <module 'asyncio.queues' from '/usr/lib/python3.5/asyncio/queues.py'>,\n",
       " 'asyncio.selector_events': <module 'asyncio.selector_events' from '/usr/lib/python3.5/asyncio/selector_events.py'>,\n",
       " 'asyncio.sslproto': <module 'asyncio.sslproto' from '/usr/lib/python3.5/asyncio/sslproto.py'>,\n",
       " 'asyncio.streams': <module 'asyncio.streams' from '/usr/lib/python3.5/asyncio/streams.py'>,\n",
       " 'asyncio.subprocess': <module 'asyncio.subprocess' from '/usr/lib/python3.5/asyncio/subprocess.py'>,\n",
       " 'asyncio.tasks': <module 'asyncio.tasks' from '/usr/lib/python3.5/asyncio/tasks.py'>,\n",
       " 'asyncio.transports': <module 'asyncio.transports' from '/usr/lib/python3.5/asyncio/transports.py'>,\n",
       " 'asyncio.unix_events': <module 'asyncio.unix_events' from '/usr/lib/python3.5/asyncio/unix_events.py'>,\n",
       " 'atexit': <module 'atexit' (built-in)>,\n",
       " 'backcall': <module 'backcall' from '/home/edwardsb/.local/share/virtualenvs/spr_secure_intelligence-trusted_federated_-aNwh6wSd/lib/python3.5/site-packages/backcall/__init__.py'>,\n",
       " 'backcall.backcall': <module 'backcall.backcall' from '/home/edwardsb/.local/share/virtualenvs/spr_secure_intelligence-trusted_federated_-aNwh6wSd/lib/python3.5/site-packages/backcall/backcall.py'>,\n",
       " 'base64': <module 'base64' from '/home/edwardsb/.local/share/virtualenvs/spr_secure_intelligence-trusted_federated_-aNwh6wSd/lib/python3.5/base64.py'>,\n",
       " 'bdb': <module 'bdb' from '/usr/lib/python3.5/bdb.py'>,\n",
       " 'binascii': <module 'binascii' (built-in)>,\n",
       " 'bisect': <module 'bisect' from '/home/edwardsb/.local/share/virtualenvs/spr_secure_intelligence-trusted_federated_-aNwh6wSd/lib/python3.5/bisect.py'>,\n",
       " 'builtins': <module 'builtins' (built-in)>,\n",
       " 'bz2': <module 'bz2' from '/usr/lib/python3.5/bz2.py'>,\n",
       " 'cProfile': <module 'cProfile' from '/usr/lib/python3.5/cProfile.py'>,\n",
       " 'calendar': <module 'calendar' from '/usr/lib/python3.5/calendar.py'>,\n",
       " 'cmd': <module 'cmd' from '/usr/lib/python3.5/cmd.py'>,\n",
       " 'code': <module 'code' from '/usr/lib/python3.5/code.py'>,\n",
       " 'codecs': <module 'codecs' from '/home/edwardsb/.local/share/virtualenvs/spr_secure_intelligence-trusted_federated_-aNwh6wSd/lib/python3.5/codecs.py'>,\n",
       " 'codeop': <module 'codeop' from '/usr/lib/python3.5/codeop.py'>,\n",
       " 'collections': <module 'collections' from '/home/edwardsb/.local/share/virtualenvs/spr_secure_intelligence-trusted_federated_-aNwh6wSd/lib/python3.5/collections/__init__.py'>,\n",
       " 'collections.abc': <module 'collections.abc' from '/home/edwardsb/.local/share/virtualenvs/spr_secure_intelligence-trusted_federated_-aNwh6wSd/lib/python3.5/collections/abc.py'>,\n",
       " 'colorsys': <module 'colorsys' from '/usr/lib/python3.5/colorsys.py'>,\n",
       " 'concurrent': <module 'concurrent' from '/usr/lib/python3.5/concurrent/__init__.py'>,\n",
       " 'concurrent.futures': <module 'concurrent.futures' from '/usr/lib/python3.5/concurrent/futures/__init__.py'>,\n",
       " 'concurrent.futures._base': <module 'concurrent.futures._base' from '/usr/lib/python3.5/concurrent/futures/_base.py'>,\n",
       " 'concurrent.futures.process': <module 'concurrent.futures.process' from '/usr/lib/python3.5/concurrent/futures/process.py'>,\n",
       " 'concurrent.futures.thread': <module 'concurrent.futures.thread' from '/usr/lib/python3.5/concurrent/futures/thread.py'>,\n",
       " 'contextlib': <module 'contextlib' from '/usr/lib/python3.5/contextlib.py'>,\n",
       " 'copy': <module 'copy' from '/home/edwardsb/.local/share/virtualenvs/spr_secure_intelligence-trusted_federated_-aNwh6wSd/lib/python3.5/copy.py'>,\n",
       " 'copyreg': <module 'copyreg' from '/home/edwardsb/.local/share/virtualenvs/spr_secure_intelligence-trusted_federated_-aNwh6wSd/lib/python3.5/copyreg.py'>,\n",
       " 'ctypes': <module 'ctypes' from '/usr/lib/python3.5/ctypes/__init__.py'>,\n",
       " 'ctypes._endian': <module 'ctypes._endian' from '/usr/lib/python3.5/ctypes/_endian.py'>,\n",
       " 'ctypes.util': <module 'ctypes.util' from '/usr/lib/python3.5/ctypes/util.py'>,\n",
       " 'curses': <module 'curses' from '/usr/lib/python3.5/curses/__init__.py'>,\n",
       " 'cython_runtime': <module 'cython_runtime'>,\n",
       " 'datetime': <module 'datetime' from '/usr/lib/python3.5/datetime.py'>,\n",
       " 'dateutil': <module 'dateutil' from '/home/edwardsb/.local/share/virtualenvs/spr_secure_intelligence-trusted_federated_-aNwh6wSd/lib/python3.5/site-packages/dateutil/__init__.py'>,\n",
       " 'dateutil._common': <module 'dateutil._common' from '/home/edwardsb/.local/share/virtualenvs/spr_secure_intelligence-trusted_federated_-aNwh6wSd/lib/python3.5/site-packages/dateutil/_common.py'>,\n",
       " 'dateutil._version': <module 'dateutil._version' from '/home/edwardsb/.local/share/virtualenvs/spr_secure_intelligence-trusted_federated_-aNwh6wSd/lib/python3.5/site-packages/dateutil/_version.py'>,\n",
       " 'dateutil.parser': <module 'dateutil.parser' from '/home/edwardsb/.local/share/virtualenvs/spr_secure_intelligence-trusted_federated_-aNwh6wSd/lib/python3.5/site-packages/dateutil/parser/__init__.py'>,\n",
       " 'dateutil.parser._parser': <module 'dateutil.parser._parser' from '/home/edwardsb/.local/share/virtualenvs/spr_secure_intelligence-trusted_federated_-aNwh6wSd/lib/python3.5/site-packages/dateutil/parser/_parser.py'>,\n",
       " 'dateutil.parser.isoparser': <module 'dateutil.parser.isoparser' from '/home/edwardsb/.local/share/virtualenvs/spr_secure_intelligence-trusted_federated_-aNwh6wSd/lib/python3.5/site-packages/dateutil/parser/isoparser.py'>,\n",
       " 'dateutil.relativedelta': <module 'dateutil.relativedelta' from '/home/edwardsb/.local/share/virtualenvs/spr_secure_intelligence-trusted_federated_-aNwh6wSd/lib/python3.5/site-packages/dateutil/relativedelta.py'>,\n",
       " 'dateutil.tz': <module 'dateutil.tz' from '/home/edwardsb/.local/share/virtualenvs/spr_secure_intelligence-trusted_federated_-aNwh6wSd/lib/python3.5/site-packages/dateutil/tz/__init__.py'>,\n",
       " 'dateutil.tz._common': <module 'dateutil.tz._common' from '/home/edwardsb/.local/share/virtualenvs/spr_secure_intelligence-trusted_federated_-aNwh6wSd/lib/python3.5/site-packages/dateutil/tz/_common.py'>,\n",
       " 'dateutil.tz._factories': <module 'dateutil.tz._factories' from '/home/edwardsb/.local/share/virtualenvs/spr_secure_intelligence-trusted_federated_-aNwh6wSd/lib/python3.5/site-packages/dateutil/tz/_factories.py'>,\n",
       " 'dateutil.tz.tz': <module 'dateutil.tz.tz' from '/home/edwardsb/.local/share/virtualenvs/spr_secure_intelligence-trusted_federated_-aNwh6wSd/lib/python3.5/site-packages/dateutil/tz/tz.py'>,\n",
       " 'decimal': <module 'decimal' from '/usr/lib/python3.5/decimal.py'>,\n",
       " 'decorator': <module 'decorator' from '/home/edwardsb/.local/share/virtualenvs/spr_secure_intelligence-trusted_federated_-aNwh6wSd/lib/python3.5/site-packages/decorator.py'>,\n",
       " 'difflib': <module 'difflib' from '/usr/lib/python3.5/difflib.py'>,\n",
       " 'dis': <module 'dis' from '/usr/lib/python3.5/dis.py'>,\n",
       " 'email': <module 'email' from '/usr/lib/python3.5/email/__init__.py'>,\n",
       " 'email._encoded_words': <module 'email._encoded_words' from '/usr/lib/python3.5/email/_encoded_words.py'>,\n",
       " 'email._parseaddr': <module 'email._parseaddr' from '/usr/lib/python3.5/email/_parseaddr.py'>,\n",
       " 'email._policybase': <module 'email._policybase' from '/usr/lib/python3.5/email/_policybase.py'>,\n",
       " 'email.base64mime': <module 'email.base64mime' from '/usr/lib/python3.5/email/base64mime.py'>,\n",
       " 'email.charset': <module 'email.charset' from '/usr/lib/python3.5/email/charset.py'>,\n",
       " 'email.encoders': <module 'email.encoders' from '/usr/lib/python3.5/email/encoders.py'>,\n",
       " 'email.errors': <module 'email.errors' from '/usr/lib/python3.5/email/errors.py'>,\n",
       " 'email.feedparser': <module 'email.feedparser' from '/usr/lib/python3.5/email/feedparser.py'>,\n",
       " 'email.header': <module 'email.header' from '/usr/lib/python3.5/email/header.py'>,\n",
       " 'email.iterators': <module 'email.iterators' from '/usr/lib/python3.5/email/iterators.py'>,\n",
       " 'email.message': <module 'email.message' from '/usr/lib/python3.5/email/message.py'>,\n",
       " 'email.parser': <module 'email.parser' from '/usr/lib/python3.5/email/parser.py'>,\n",
       " 'email.quoprimime': <module 'email.quoprimime' from '/usr/lib/python3.5/email/quoprimime.py'>,\n",
       " 'email.utils': <module 'email.utils' from '/usr/lib/python3.5/email/utils.py'>,\n",
       " 'encodings': <module 'encodings' from '/home/edwardsb/.local/share/virtualenvs/spr_secure_intelligence-trusted_federated_-aNwh6wSd/lib/python3.5/encodings/__init__.py'>,\n",
       " 'encodings.aliases': <module 'encodings.aliases' from '/home/edwardsb/.local/share/virtualenvs/spr_secure_intelligence-trusted_federated_-aNwh6wSd/lib/python3.5/encodings/aliases.py'>,\n",
       " 'encodings.cp437': <module 'encodings.cp437' from '/home/edwardsb/.local/share/virtualenvs/spr_secure_intelligence-trusted_federated_-aNwh6wSd/lib/python3.5/encodings/cp437.py'>,\n",
       " 'encodings.latin_1': <module 'encodings.latin_1' from '/home/edwardsb/.local/share/virtualenvs/spr_secure_intelligence-trusted_federated_-aNwh6wSd/lib/python3.5/encodings/latin_1.py'>,\n",
       " 'encodings.utf_8': <module 'encodings.utf_8' from '/home/edwardsb/.local/share/virtualenvs/spr_secure_intelligence-trusted_federated_-aNwh6wSd/lib/python3.5/encodings/utf_8.py'>,\n",
       " 'enum': <module 'enum' from '/usr/lib/python3.5/enum.py'>,\n",
       " 'errno': <module 'errno' (built-in)>,\n",
       " 'faulthandler': <module 'faulthandler' (built-in)>,\n",
       " 'fcntl': <module 'fcntl' (built-in)>,\n",
       " 'filecmp': <module 'filecmp' from '/usr/lib/python3.5/filecmp.py'>,\n",
       " 'fnmatch': <module 'fnmatch' from '/home/edwardsb/.local/share/virtualenvs/spr_secure_intelligence-trusted_federated_-aNwh6wSd/lib/python3.5/fnmatch.py'>,\n",
       " 'functools': <module 'functools' from '/home/edwardsb/.local/share/virtualenvs/spr_secure_intelligence-trusted_federated_-aNwh6wSd/lib/python3.5/functools.py'>,\n",
       " 'gc': <module 'gc' (built-in)>,\n",
       " 'genericpath': <module 'genericpath' from '/home/edwardsb/.local/share/virtualenvs/spr_secure_intelligence-trusted_federated_-aNwh6wSd/lib/python3.5/genericpath.py'>,\n",
       " 'getopt': <module 'getopt' from '/usr/lib/python3.5/getopt.py'>,\n",
       " 'getpass': <module 'getpass' from '/usr/lib/python3.5/getpass.py'>,\n",
       " 'gettext': <module 'gettext' from '/usr/lib/python3.5/gettext.py'>,\n",
       " 'glob': <module 'glob' from '/usr/lib/python3.5/glob.py'>,\n",
       " 'google': <module 'google' (namespace)>,\n",
       " 'grp': <module 'grp' (built-in)>,\n",
       " 'hashlib': <module 'hashlib' from '/home/edwardsb/.local/share/virtualenvs/spr_secure_intelligence-trusted_federated_-aNwh6wSd/lib/python3.5/hashlib.py'>,\n",
       " 'heapq': <module 'heapq' from '/home/edwardsb/.local/share/virtualenvs/spr_secure_intelligence-trusted_federated_-aNwh6wSd/lib/python3.5/heapq.py'>,\n",
       " 'hmac': <module 'hmac' from '/home/edwardsb/.local/share/virtualenvs/spr_secure_intelligence-trusted_federated_-aNwh6wSd/lib/python3.5/hmac.py'>,\n",
       " 'html': <module 'html' from '/usr/lib/python3.5/html/__init__.py'>,\n",
       " 'html.entities': <module 'html.entities' from '/usr/lib/python3.5/html/entities.py'>,\n",
       " 'http': <module 'http' from '/usr/lib/python3.5/http/__init__.py'>,\n",
       " 'http.client': <module 'http.client' from '/usr/lib/python3.5/http/client.py'>,\n",
       " 'imp': <module 'imp' from '/home/edwardsb/.local/share/virtualenvs/spr_secure_intelligence-trusted_federated_-aNwh6wSd/lib/python3.5/imp.py'>,\n",
       " 'importlib': <module 'importlib' from '/home/edwardsb/.local/share/virtualenvs/spr_secure_intelligence-trusted_federated_-aNwh6wSd/lib/python3.5/importlib/__init__.py'>,\n",
       " 'importlib._bootstrap': <module 'importlib._bootstrap' (frozen)>,\n",
       " 'importlib._bootstrap_external': <module 'importlib._bootstrap_external' (frozen)>,\n",
       " 'importlib.abc': <module 'importlib.abc' from '/home/edwardsb/.local/share/virtualenvs/spr_secure_intelligence-trusted_federated_-aNwh6wSd/lib/python3.5/importlib/abc.py'>,\n",
       " 'importlib.machinery': <module 'importlib.machinery' from '/home/edwardsb/.local/share/virtualenvs/spr_secure_intelligence-trusted_federated_-aNwh6wSd/lib/python3.5/importlib/machinery.py'>,\n",
       " 'importlib.util': <module 'importlib.util' from '/home/edwardsb/.local/share/virtualenvs/spr_secure_intelligence-trusted_federated_-aNwh6wSd/lib/python3.5/importlib/util.py'>,\n",
       " 'inspect': <module 'inspect' from '/usr/lib/python3.5/inspect.py'>,\n",
       " 'io': <module 'io' from '/home/edwardsb/.local/share/virtualenvs/spr_secure_intelligence-trusted_federated_-aNwh6wSd/lib/python3.5/io.py'>,\n",
       " 'ipaddress': <module 'ipaddress' from '/usr/lib/python3.5/ipaddress.py'>,\n",
       " 'ipykernel': <module 'ipykernel' from '/home/edwardsb/.local/share/virtualenvs/spr_secure_intelligence-trusted_federated_-aNwh6wSd/lib/python3.5/site-packages/ipykernel/__init__.py'>,\n",
       " 'ipykernel._version': <module 'ipykernel._version' from '/home/edwardsb/.local/share/virtualenvs/spr_secure_intelligence-trusted_federated_-aNwh6wSd/lib/python3.5/site-packages/ipykernel/_version.py'>,\n",
       " 'ipykernel.codeutil': <module 'ipykernel.codeutil' from '/home/edwardsb/.local/share/virtualenvs/spr_secure_intelligence-trusted_federated_-aNwh6wSd/lib/python3.5/site-packages/ipykernel/codeutil.py'>,\n",
       " 'ipykernel.comm': <module 'ipykernel.comm' from '/home/edwardsb/.local/share/virtualenvs/spr_secure_intelligence-trusted_federated_-aNwh6wSd/lib/python3.5/site-packages/ipykernel/comm/__init__.py'>,\n",
       " 'ipykernel.comm.comm': <module 'ipykernel.comm.comm' from '/home/edwardsb/.local/share/virtualenvs/spr_secure_intelligence-trusted_federated_-aNwh6wSd/lib/python3.5/site-packages/ipykernel/comm/comm.py'>,\n",
       " 'ipykernel.comm.manager': <module 'ipykernel.comm.manager' from '/home/edwardsb/.local/share/virtualenvs/spr_secure_intelligence-trusted_federated_-aNwh6wSd/lib/python3.5/site-packages/ipykernel/comm/manager.py'>,\n",
       " 'ipykernel.connect': <module 'ipykernel.connect' from '/home/edwardsb/.local/share/virtualenvs/spr_secure_intelligence-trusted_federated_-aNwh6wSd/lib/python3.5/site-packages/ipykernel/connect.py'>,\n",
       " 'ipykernel.datapub': <module 'ipykernel.datapub' from '/home/edwardsb/.local/share/virtualenvs/spr_secure_intelligence-trusted_federated_-aNwh6wSd/lib/python3.5/site-packages/ipykernel/datapub.py'>,\n",
       " 'ipykernel.displayhook': <module 'ipykernel.displayhook' from '/home/edwardsb/.local/share/virtualenvs/spr_secure_intelligence-trusted_federated_-aNwh6wSd/lib/python3.5/site-packages/ipykernel/displayhook.py'>,\n",
       " 'ipykernel.heartbeat': <module 'ipykernel.heartbeat' from '/home/edwardsb/.local/share/virtualenvs/spr_secure_intelligence-trusted_federated_-aNwh6wSd/lib/python3.5/site-packages/ipykernel/heartbeat.py'>,\n",
       " 'ipykernel.iostream': <module 'ipykernel.iostream' from '/home/edwardsb/.local/share/virtualenvs/spr_secure_intelligence-trusted_federated_-aNwh6wSd/lib/python3.5/site-packages/ipykernel/iostream.py'>,\n",
       " 'ipykernel.ipkernel': <module 'ipykernel.ipkernel' from '/home/edwardsb/.local/share/virtualenvs/spr_secure_intelligence-trusted_federated_-aNwh6wSd/lib/python3.5/site-packages/ipykernel/ipkernel.py'>,\n",
       " 'ipykernel.jsonutil': <module 'ipykernel.jsonutil' from '/home/edwardsb/.local/share/virtualenvs/spr_secure_intelligence-trusted_federated_-aNwh6wSd/lib/python3.5/site-packages/ipykernel/jsonutil.py'>,\n",
       " 'ipykernel.kernelapp': <module 'ipykernel.kernelapp' from '/home/edwardsb/.local/share/virtualenvs/spr_secure_intelligence-trusted_federated_-aNwh6wSd/lib/python3.5/site-packages/ipykernel/kernelapp.py'>,\n",
       " 'ipykernel.kernelbase': <module 'ipykernel.kernelbase' from '/home/edwardsb/.local/share/virtualenvs/spr_secure_intelligence-trusted_federated_-aNwh6wSd/lib/python3.5/site-packages/ipykernel/kernelbase.py'>,\n",
       " 'ipykernel.parentpoller': <module 'ipykernel.parentpoller' from '/home/edwardsb/.local/share/virtualenvs/spr_secure_intelligence-trusted_federated_-aNwh6wSd/lib/python3.5/site-packages/ipykernel/parentpoller.py'>,\n",
       " 'ipykernel.pickleutil': <module 'ipykernel.pickleutil' from '/home/edwardsb/.local/share/virtualenvs/spr_secure_intelligence-trusted_federated_-aNwh6wSd/lib/python3.5/site-packages/ipykernel/pickleutil.py'>,\n",
       " 'ipykernel.serialize': <module 'ipykernel.serialize' from '/home/edwardsb/.local/share/virtualenvs/spr_secure_intelligence-trusted_federated_-aNwh6wSd/lib/python3.5/site-packages/ipykernel/serialize.py'>,\n",
       " 'ipykernel.zmqshell': <module 'ipykernel.zmqshell' from '/home/edwardsb/.local/share/virtualenvs/spr_secure_intelligence-trusted_federated_-aNwh6wSd/lib/python3.5/site-packages/ipykernel/zmqshell.py'>,\n",
       " 'ipython_genutils': <module 'ipython_genutils' from '/home/edwardsb/.local/share/virtualenvs/spr_secure_intelligence-trusted_federated_-aNwh6wSd/lib/python3.5/site-packages/ipython_genutils/__init__.py'>,\n",
       " 'ipython_genutils._version': <module 'ipython_genutils._version' from '/home/edwardsb/.local/share/virtualenvs/spr_secure_intelligence-trusted_federated_-aNwh6wSd/lib/python3.5/site-packages/ipython_genutils/_version.py'>,\n",
       " 'ipython_genutils.encoding': <module 'ipython_genutils.encoding' from '/home/edwardsb/.local/share/virtualenvs/spr_secure_intelligence-trusted_federated_-aNwh6wSd/lib/python3.5/site-packages/ipython_genutils/encoding.py'>,\n",
       " 'ipython_genutils.importstring': <module 'ipython_genutils.importstring' from '/home/edwardsb/.local/share/virtualenvs/spr_secure_intelligence-trusted_federated_-aNwh6wSd/lib/python3.5/site-packages/ipython_genutils/importstring.py'>,\n",
       " 'ipython_genutils.path': <module 'ipython_genutils.path' from '/home/edwardsb/.local/share/virtualenvs/spr_secure_intelligence-trusted_federated_-aNwh6wSd/lib/python3.5/site-packages/ipython_genutils/path.py'>,\n",
       " 'ipython_genutils.py3compat': <module 'ipython_genutils.py3compat' from '/home/edwardsb/.local/share/virtualenvs/spr_secure_intelligence-trusted_federated_-aNwh6wSd/lib/python3.5/site-packages/ipython_genutils/py3compat.py'>,\n",
       " 'ipython_genutils.text': <module 'ipython_genutils.text' from '/home/edwardsb/.local/share/virtualenvs/spr_secure_intelligence-trusted_federated_-aNwh6wSd/lib/python3.5/site-packages/ipython_genutils/text.py'>,\n",
       " 'itertools': <module 'itertools' (built-in)>,\n",
       " 'jedi': <module 'jedi' from '/home/edwardsb/.local/share/virtualenvs/spr_secure_intelligence-trusted_federated_-aNwh6wSd/lib/python3.5/site-packages/jedi/__init__.py'>,\n",
       " 'jedi._compatibility': <module 'jedi._compatibility' from '/home/edwardsb/.local/share/virtualenvs/spr_secure_intelligence-trusted_federated_-aNwh6wSd/lib/python3.5/site-packages/jedi/_compatibility.py'>,\n",
       " 'jedi.api': <module 'jedi.api' from '/home/edwardsb/.local/share/virtualenvs/spr_secure_intelligence-trusted_federated_-aNwh6wSd/lib/python3.5/site-packages/jedi/api/__init__.py'>,\n",
       " 'jedi.api.classes': <module 'jedi.api.classes' from '/home/edwardsb/.local/share/virtualenvs/spr_secure_intelligence-trusted_federated_-aNwh6wSd/lib/python3.5/site-packages/jedi/api/classes.py'>,\n",
       " 'jedi.api.completion': <module 'jedi.api.completion' from '/home/edwardsb/.local/share/virtualenvs/spr_secure_intelligence-trusted_federated_-aNwh6wSd/lib/python3.5/site-packages/jedi/api/completion.py'>,\n",
       " 'jedi.api.environment': <module 'jedi.api.environment' from '/home/edwardsb/.local/share/virtualenvs/spr_secure_intelligence-trusted_federated_-aNwh6wSd/lib/python3.5/site-packages/jedi/api/environment.py'>,\n",
       " 'jedi.api.exceptions': <module 'jedi.api.exceptions' from '/home/edwardsb/.local/share/virtualenvs/spr_secure_intelligence-trusted_federated_-aNwh6wSd/lib/python3.5/site-packages/jedi/api/exceptions.py'>,\n",
       " 'jedi.api.helpers': <module 'jedi.api.helpers' from '/home/edwardsb/.local/share/virtualenvs/spr_secure_intelligence-trusted_federated_-aNwh6wSd/lib/python3.5/site-packages/jedi/api/helpers.py'>,\n",
       " 'jedi.api.interpreter': <module 'jedi.api.interpreter' from '/home/edwardsb/.local/share/virtualenvs/spr_secure_intelligence-trusted_federated_-aNwh6wSd/lib/python3.5/site-packages/jedi/api/interpreter.py'>,\n",
       " 'jedi.api.keywords': <module 'jedi.api.keywords' from '/home/edwardsb/.local/share/virtualenvs/spr_secure_intelligence-trusted_federated_-aNwh6wSd/lib/python3.5/site-packages/jedi/api/keywords.py'>,\n",
       " 'jedi.api.project': <module 'jedi.api.project' from '/home/edwardsb/.local/share/virtualenvs/spr_secure_intelligence-trusted_federated_-aNwh6wSd/lib/python3.5/site-packages/jedi/api/project.py'>,\n",
       " 'jedi.cache': <module 'jedi.cache' from '/home/edwardsb/.local/share/virtualenvs/spr_secure_intelligence-trusted_federated_-aNwh6wSd/lib/python3.5/site-packages/jedi/cache.py'>,\n",
       " 'jedi.common': <module 'jedi.common' from '/home/edwardsb/.local/share/virtualenvs/spr_secure_intelligence-trusted_federated_-aNwh6wSd/lib/python3.5/site-packages/jedi/common/__init__.py'>,\n",
       " 'jedi.common.context': <module 'jedi.common.context' from '/home/edwardsb/.local/share/virtualenvs/spr_secure_intelligence-trusted_federated_-aNwh6wSd/lib/python3.5/site-packages/jedi/common/context.py'>,\n",
       " 'jedi.common.utils': <module 'jedi.common.utils' from '/home/edwardsb/.local/share/virtualenvs/spr_secure_intelligence-trusted_federated_-aNwh6wSd/lib/python3.5/site-packages/jedi/common/utils.py'>,\n",
       " 'jedi.debug': <module 'jedi.debug' from '/home/edwardsb/.local/share/virtualenvs/spr_secure_intelligence-trusted_federated_-aNwh6wSd/lib/python3.5/site-packages/jedi/debug.py'>,\n",
       " 'jedi.evaluate': <module 'jedi.evaluate' from '/home/edwardsb/.local/share/virtualenvs/spr_secure_intelligence-trusted_federated_-aNwh6wSd/lib/python3.5/site-packages/jedi/evaluate/__init__.py'>,\n",
       " 'jedi.evaluate.analysis': <module 'jedi.evaluate.analysis' from '/home/edwardsb/.local/share/virtualenvs/spr_secure_intelligence-trusted_federated_-aNwh6wSd/lib/python3.5/site-packages/jedi/evaluate/analysis.py'>,\n",
       " 'jedi.evaluate.arguments': <module 'jedi.evaluate.arguments' from '/home/edwardsb/.local/share/virtualenvs/spr_secure_intelligence-trusted_federated_-aNwh6wSd/lib/python3.5/site-packages/jedi/evaluate/arguments.py'>,\n",
       " 'jedi.evaluate.base_context': <module 'jedi.evaluate.base_context' from '/home/edwardsb/.local/share/virtualenvs/spr_secure_intelligence-trusted_federated_-aNwh6wSd/lib/python3.5/site-packages/jedi/evaluate/base_context.py'>,\n",
       " 'jedi.evaluate.cache': <module 'jedi.evaluate.cache' from '/home/edwardsb/.local/share/virtualenvs/spr_secure_intelligence-trusted_federated_-aNwh6wSd/lib/python3.5/site-packages/jedi/evaluate/cache.py'>,\n",
       " 'jedi.evaluate.compiled': <module 'jedi.evaluate.compiled' from '/home/edwardsb/.local/share/virtualenvs/spr_secure_intelligence-trusted_federated_-aNwh6wSd/lib/python3.5/site-packages/jedi/evaluate/compiled/__init__.py'>,\n",
       " 'jedi.evaluate.compiled.access': <module 'jedi.evaluate.compiled.access' from '/home/edwardsb/.local/share/virtualenvs/spr_secure_intelligence-trusted_federated_-aNwh6wSd/lib/python3.5/site-packages/jedi/evaluate/compiled/access.py'>,\n",
       " 'jedi.evaluate.compiled.context': <module 'jedi.evaluate.compiled.context' from '/home/edwardsb/.local/share/virtualenvs/spr_secure_intelligence-trusted_federated_-aNwh6wSd/lib/python3.5/site-packages/jedi/evaluate/compiled/context.py'>,\n",
       " 'jedi.evaluate.compiled.fake': <module 'jedi.evaluate.compiled.fake' from '/home/edwardsb/.local/share/virtualenvs/spr_secure_intelligence-trusted_federated_-aNwh6wSd/lib/python3.5/site-packages/jedi/evaluate/compiled/fake.py'>,\n",
       " 'jedi.evaluate.compiled.getattr_static': <module 'jedi.evaluate.compiled.getattr_static' from '/home/edwardsb/.local/share/virtualenvs/spr_secure_intelligence-trusted_federated_-aNwh6wSd/lib/python3.5/site-packages/jedi/evaluate/compiled/getattr_static.py'>,\n",
       " 'jedi.evaluate.compiled.mixed': <module 'jedi.evaluate.compiled.mixed' from '/home/edwardsb/.local/share/virtualenvs/spr_secure_intelligence-trusted_federated_-aNwh6wSd/lib/python3.5/site-packages/jedi/evaluate/compiled/mixed.py'>,\n",
       " 'jedi.evaluate.compiled.subprocess': <module 'jedi.evaluate.compiled.subprocess' from '/home/edwardsb/.local/share/virtualenvs/spr_secure_intelligence-trusted_federated_-aNwh6wSd/lib/python3.5/site-packages/jedi/evaluate/compiled/subprocess/__init__.py'>,\n",
       " 'jedi.evaluate.compiled.subprocess.functions': <module 'jedi.evaluate.compiled.subprocess.functions' from '/home/edwardsb/.local/share/virtualenvs/spr_secure_intelligence-trusted_federated_-aNwh6wSd/lib/python3.5/site-packages/jedi/evaluate/compiled/subprocess/functions.py'>,\n",
       " 'jedi.evaluate.context': <module 'jedi.evaluate.context' from '/home/edwardsb/.local/share/virtualenvs/spr_secure_intelligence-trusted_federated_-aNwh6wSd/lib/python3.5/site-packages/jedi/evaluate/context/__init__.py'>,\n",
       " 'jedi.evaluate.context.asynchronous': <module 'jedi.evaluate.context.asynchronous' from '/home/edwardsb/.local/share/virtualenvs/spr_secure_intelligence-trusted_federated_-aNwh6wSd/lib/python3.5/site-packages/jedi/evaluate/context/asynchronous.py'>,\n",
       " 'jedi.evaluate.context.function': <module 'jedi.evaluate.context.function' from '/home/edwardsb/.local/share/virtualenvs/spr_secure_intelligence-trusted_federated_-aNwh6wSd/lib/python3.5/site-packages/jedi/evaluate/context/function.py'>,\n",
       " 'jedi.evaluate.context.instance': <module 'jedi.evaluate.context.instance' from '/home/edwardsb/.local/share/virtualenvs/spr_secure_intelligence-trusted_federated_-aNwh6wSd/lib/python3.5/site-packages/jedi/evaluate/context/instance.py'>,\n",
       " 'jedi.evaluate.context.iterable': <module 'jedi.evaluate.context.iterable' from '/home/edwardsb/.local/share/virtualenvs/spr_secure_intelligence-trusted_federated_-aNwh6wSd/lib/python3.5/site-packages/jedi/evaluate/context/iterable.py'>,\n",
       " 'jedi.evaluate.context.klass': <module 'jedi.evaluate.context.klass' from '/home/edwardsb/.local/share/virtualenvs/spr_secure_intelligence-trusted_federated_-aNwh6wSd/lib/python3.5/site-packages/jedi/evaluate/context/klass.py'>,\n",
       " 'jedi.evaluate.context.module': <module 'jedi.evaluate.context.module' from '/home/edwardsb/.local/share/virtualenvs/spr_secure_intelligence-trusted_federated_-aNwh6wSd/lib/python3.5/site-packages/jedi/evaluate/context/module.py'>,\n",
       " 'jedi.evaluate.docstrings': <module 'jedi.evaluate.docstrings' from '/home/edwardsb/.local/share/virtualenvs/spr_secure_intelligence-trusted_federated_-aNwh6wSd/lib/python3.5/site-packages/jedi/evaluate/docstrings.py'>,\n",
       " 'jedi.evaluate.filters': <module 'jedi.evaluate.filters' from '/home/edwardsb/.local/share/virtualenvs/spr_secure_intelligence-trusted_federated_-aNwh6wSd/lib/python3.5/site-packages/jedi/evaluate/filters.py'>,\n",
       " 'jedi.evaluate.finder': <module 'jedi.evaluate.finder' from '/home/edwardsb/.local/share/virtualenvs/spr_secure_intelligence-trusted_federated_-aNwh6wSd/lib/python3.5/site-packages/jedi/evaluate/finder.py'>,\n",
       " 'jedi.evaluate.flow_analysis': <module 'jedi.evaluate.flow_analysis' from '/home/edwardsb/.local/share/virtualenvs/spr_secure_intelligence-trusted_federated_-aNwh6wSd/lib/python3.5/site-packages/jedi/evaluate/flow_analysis.py'>,\n",
       " 'jedi.evaluate.helpers': <module 'jedi.evaluate.helpers' from '/home/edwardsb/.local/share/virtualenvs/spr_secure_intelligence-trusted_federated_-aNwh6wSd/lib/python3.5/site-packages/jedi/evaluate/helpers.py'>,\n",
       " 'jedi.evaluate.imports': <module 'jedi.evaluate.imports' from '/home/edwardsb/.local/share/virtualenvs/spr_secure_intelligence-trusted_federated_-aNwh6wSd/lib/python3.5/site-packages/jedi/evaluate/imports.py'>,\n",
       " 'jedi.evaluate.lazy_context': <module 'jedi.evaluate.lazy_context' from '/home/edwardsb/.local/share/virtualenvs/spr_secure_intelligence-trusted_federated_-aNwh6wSd/lib/python3.5/site-packages/jedi/evaluate/lazy_context.py'>,\n",
       " 'jedi.evaluate.param': <module 'jedi.evaluate.param' from '/home/edwardsb/.local/share/virtualenvs/spr_secure_intelligence-trusted_federated_-aNwh6wSd/lib/python3.5/site-packages/jedi/evaluate/param.py'>,\n",
       " 'jedi.evaluate.parser_cache': <module 'jedi.evaluate.parser_cache' from '/home/edwardsb/.local/share/virtualenvs/spr_secure_intelligence-trusted_federated_-aNwh6wSd/lib/python3.5/site-packages/jedi/evaluate/parser_cache.py'>,\n",
       " 'jedi.evaluate.pep0484': <module 'jedi.evaluate.pep0484' from '/home/edwardsb/.local/share/virtualenvs/spr_secure_intelligence-trusted_federated_-aNwh6wSd/lib/python3.5/site-packages/jedi/evaluate/pep0484.py'>,\n",
       " 'jedi.evaluate.recursion': <module 'jedi.evaluate.recursion' from '/home/edwardsb/.local/share/virtualenvs/spr_secure_intelligence-trusted_federated_-aNwh6wSd/lib/python3.5/site-packages/jedi/evaluate/recursion.py'>,\n",
       " 'jedi.evaluate.syntax_tree': <module 'jedi.evaluate.syntax_tree' from '/home/edwardsb/.local/share/virtualenvs/spr_secure_intelligence-trusted_federated_-aNwh6wSd/lib/python3.5/site-packages/jedi/evaluate/syntax_tree.py'>,\n",
       " 'jedi.evaluate.sys_path': <module 'jedi.evaluate.sys_path' from '/home/edwardsb/.local/share/virtualenvs/spr_secure_intelligence-trusted_federated_-aNwh6wSd/lib/python3.5/site-packages/jedi/evaluate/sys_path.py'>,\n",
       " 'jedi.evaluate.usages': <module 'jedi.evaluate.usages' from '/home/edwardsb/.local/share/virtualenvs/spr_secure_intelligence-trusted_federated_-aNwh6wSd/lib/python3.5/site-packages/jedi/evaluate/usages.py'>,\n",
       " 'jedi.evaluate.utils': <module 'jedi.evaluate.utils' from '/home/edwardsb/.local/share/virtualenvs/spr_secure_intelligence-trusted_federated_-aNwh6wSd/lib/python3.5/site-packages/jedi/evaluate/utils.py'>,\n",
       " 'jedi.parser_utils': <module 'jedi.parser_utils' from '/home/edwardsb/.local/share/virtualenvs/spr_secure_intelligence-trusted_federated_-aNwh6wSd/lib/python3.5/site-packages/jedi/parser_utils.py'>,\n",
       " 'jedi.settings': <module 'jedi.settings' from '/home/edwardsb/.local/share/virtualenvs/spr_secure_intelligence-trusted_federated_-aNwh6wSd/lib/python3.5/site-packages/jedi/settings.py'>,\n",
       " 'json': <module 'json' from '/usr/lib/python3.5/json/__init__.py'>,\n",
       " 'json.decoder': <module 'json.decoder' from '/usr/lib/python3.5/json/decoder.py'>,\n",
       " 'json.encoder': <module 'json.encoder' from '/usr/lib/python3.5/json/encoder.py'>,\n",
       " 'json.scanner': <module 'json.scanner' from '/usr/lib/python3.5/json/scanner.py'>,\n",
       " 'jupyter_client': <module 'jupyter_client' from '/home/edwardsb/.local/share/virtualenvs/spr_secure_intelligence-trusted_federated_-aNwh6wSd/lib/python3.5/site-packages/jupyter_client/__init__.py'>,\n",
       " 'jupyter_client._version': <module 'jupyter_client._version' from '/home/edwardsb/.local/share/virtualenvs/spr_secure_intelligence-trusted_federated_-aNwh6wSd/lib/python3.5/site-packages/jupyter_client/_version.py'>,\n",
       " 'jupyter_client.adapter': <module 'jupyter_client.adapter' from '/home/edwardsb/.local/share/virtualenvs/spr_secure_intelligence-trusted_federated_-aNwh6wSd/lib/python3.5/site-packages/jupyter_client/adapter.py'>,\n",
       " 'jupyter_client.blocking': <module 'jupyter_client.blocking' from '/home/edwardsb/.local/share/virtualenvs/spr_secure_intelligence-trusted_federated_-aNwh6wSd/lib/python3.5/site-packages/jupyter_client/blocking/__init__.py'>,\n",
       " 'jupyter_client.blocking.channels': <module 'jupyter_client.blocking.channels' from '/home/edwardsb/.local/share/virtualenvs/spr_secure_intelligence-trusted_federated_-aNwh6wSd/lib/python3.5/site-packages/jupyter_client/blocking/channels.py'>,\n",
       " 'jupyter_client.blocking.client': <module 'jupyter_client.blocking.client' from '/home/edwardsb/.local/share/virtualenvs/spr_secure_intelligence-trusted_federated_-aNwh6wSd/lib/python3.5/site-packages/jupyter_client/blocking/client.py'>,\n",
       " 'jupyter_client.channels': <module 'jupyter_client.channels' from '/home/edwardsb/.local/share/virtualenvs/spr_secure_intelligence-trusted_federated_-aNwh6wSd/lib/python3.5/site-packages/jupyter_client/channels.py'>,\n",
       " 'jupyter_client.channelsabc': <module 'jupyter_client.channelsabc' from '/home/edwardsb/.local/share/virtualenvs/spr_secure_intelligence-trusted_federated_-aNwh6wSd/lib/python3.5/site-packages/jupyter_client/channelsabc.py'>,\n",
       " 'jupyter_client.client': <module 'jupyter_client.client' from '/home/edwardsb/.local/share/virtualenvs/spr_secure_intelligence-trusted_federated_-aNwh6wSd/lib/python3.5/site-packages/jupyter_client/client.py'>,\n",
       " 'jupyter_client.clientabc': <module 'jupyter_client.clientabc' from '/home/edwardsb/.local/share/virtualenvs/spr_secure_intelligence-trusted_federated_-aNwh6wSd/lib/python3.5/site-packages/jupyter_client/clientabc.py'>,\n",
       " 'jupyter_client.connect': <module 'jupyter_client.connect' from '/home/edwardsb/.local/share/virtualenvs/spr_secure_intelligence-trusted_federated_-aNwh6wSd/lib/python3.5/site-packages/jupyter_client/connect.py'>,\n",
       " 'jupyter_client.jsonutil': <module 'jupyter_client.jsonutil' from '/home/edwardsb/.local/share/virtualenvs/spr_secure_intelligence-trusted_federated_-aNwh6wSd/lib/python3.5/site-packages/jupyter_client/jsonutil.py'>,\n",
       " 'jupyter_client.kernelspec': <module 'jupyter_client.kernelspec' from '/home/edwardsb/.local/share/virtualenvs/spr_secure_intelligence-trusted_federated_-aNwh6wSd/lib/python3.5/site-packages/jupyter_client/kernelspec.py'>,\n",
       " 'jupyter_client.launcher': <module 'jupyter_client.launcher' from '/home/edwardsb/.local/share/virtualenvs/spr_secure_intelligence-trusted_federated_-aNwh6wSd/lib/python3.5/site-packages/jupyter_client/launcher.py'>,\n",
       " 'jupyter_client.localinterfaces': <module 'jupyter_client.localinterfaces' from '/home/edwardsb/.local/share/virtualenvs/spr_secure_intelligence-trusted_federated_-aNwh6wSd/lib/python3.5/site-packages/jupyter_client/localinterfaces.py'>,\n",
       " 'jupyter_client.manager': <module 'jupyter_client.manager' from '/home/edwardsb/.local/share/virtualenvs/spr_secure_intelligence-trusted_federated_-aNwh6wSd/lib/python3.5/site-packages/jupyter_client/manager.py'>,\n",
       " 'jupyter_client.managerabc': <module 'jupyter_client.managerabc' from '/home/edwardsb/.local/share/virtualenvs/spr_secure_intelligence-trusted_federated_-aNwh6wSd/lib/python3.5/site-packages/jupyter_client/managerabc.py'>,\n",
       " 'jupyter_client.multikernelmanager': <module 'jupyter_client.multikernelmanager' from '/home/edwardsb/.local/share/virtualenvs/spr_secure_intelligence-trusted_federated_-aNwh6wSd/lib/python3.5/site-packages/jupyter_client/multikernelmanager.py'>,\n",
       " 'jupyter_client.session': <module 'jupyter_client.session' from '/home/edwardsb/.local/share/virtualenvs/spr_secure_intelligence-trusted_federated_-aNwh6wSd/lib/python3.5/site-packages/jupyter_client/session.py'>,\n",
       " 'jupyter_core': <module 'jupyter_core' from '/home/edwardsb/.local/share/virtualenvs/spr_secure_intelligence-trusted_federated_-aNwh6wSd/lib/python3.5/site-packages/jupyter_core/__init__.py'>,\n",
       " 'jupyter_core.paths': <module 'jupyter_core.paths' from '/home/edwardsb/.local/share/virtualenvs/spr_secure_intelligence-trusted_federated_-aNwh6wSd/lib/python3.5/site-packages/jupyter_core/paths.py'>,\n",
       " 'jupyter_core.version': <module 'jupyter_core.version' from '/home/edwardsb/.local/share/virtualenvs/spr_secure_intelligence-trusted_federated_-aNwh6wSd/lib/python3.5/site-packages/jupyter_core/version.py'>,\n",
       " 'keyword': <module 'keyword' from '/home/edwardsb/.local/share/virtualenvs/spr_secure_intelligence-trusted_federated_-aNwh6wSd/lib/python3.5/keyword.py'>,\n",
       " 'linecache': <module 'linecache' from '/home/edwardsb/.local/share/virtualenvs/spr_secure_intelligence-trusted_federated_-aNwh6wSd/lib/python3.5/linecache.py'>,\n",
       " 'locale': <module 'locale' from '/home/edwardsb/.local/share/virtualenvs/spr_secure_intelligence-trusted_federated_-aNwh6wSd/lib/python3.5/locale.py'>,\n",
       " 'logging': <module 'logging' from '/usr/lib/python3.5/logging/__init__.py'>,\n",
       " 'logging.handlers': <module 'logging.handlers' from '/usr/lib/python3.5/logging/handlers.py'>,\n",
       " 'lzma': <module 'lzma' from '/usr/lib/python3.5/lzma.py'>,\n",
       " 'marshal': <module 'marshal' (built-in)>,\n",
       " 'math': <module 'math' (built-in)>,\n",
       " 'mimetypes': <module 'mimetypes' from '/usr/lib/python3.5/mimetypes.py'>,\n",
       " 'multiprocessing': <module 'multiprocessing' from '/usr/lib/python3.5/multiprocessing/__init__.py'>,\n",
       " 'multiprocessing.connection': <module 'multiprocessing.connection' from '/usr/lib/python3.5/multiprocessing/connection.py'>,\n",
       " 'multiprocessing.context': <module 'multiprocessing.context' from '/usr/lib/python3.5/multiprocessing/context.py'>,\n",
       " 'multiprocessing.process': <module 'multiprocessing.process' from '/usr/lib/python3.5/multiprocessing/process.py'>,\n",
       " 'multiprocessing.reduction': <module 'multiprocessing.reduction' from '/usr/lib/python3.5/multiprocessing/reduction.py'>,\n",
       " 'multiprocessing.util': <module 'multiprocessing.util' from '/usr/lib/python3.5/multiprocessing/util.py'>,\n",
       " 'ntpath': <module 'ntpath' from '/home/edwardsb/.local/share/virtualenvs/spr_secure_intelligence-trusted_federated_-aNwh6wSd/lib/python3.5/ntpath.py'>,\n",
       " 'numbers': <module 'numbers' from '/usr/lib/python3.5/numbers.py'>,\n",
       " 'opcode': <module 'opcode' from '/usr/lib/python3.5/opcode.py'>,\n",
       " 'operator': <module 'operator' from '/home/edwardsb/.local/share/virtualenvs/spr_secure_intelligence-trusted_federated_-aNwh6wSd/lib/python3.5/operator.py'>,\n",
       " 'optparse': <module 'optparse' from '/usr/lib/python3.5/optparse.py'>,\n",
       " 'os': <module 'os' from '/home/edwardsb/.local/share/virtualenvs/spr_secure_intelligence-trusted_federated_-aNwh6wSd/lib/python3.5/os.py'>,\n",
       " 'os.path': <module 'posixpath' from '/home/edwardsb/.local/share/virtualenvs/spr_secure_intelligence-trusted_federated_-aNwh6wSd/lib/python3.5/posixpath.py'>,\n",
       " 'parso': <module 'parso' from '/home/edwardsb/.local/share/virtualenvs/spr_secure_intelligence-trusted_federated_-aNwh6wSd/lib/python3.5/site-packages/parso/__init__.py'>,\n",
       " 'parso._compatibility': <module 'parso._compatibility' from '/home/edwardsb/.local/share/virtualenvs/spr_secure_intelligence-trusted_federated_-aNwh6wSd/lib/python3.5/site-packages/parso/_compatibility.py'>,\n",
       " 'parso.cache': <module 'parso.cache' from '/home/edwardsb/.local/share/virtualenvs/spr_secure_intelligence-trusted_federated_-aNwh6wSd/lib/python3.5/site-packages/parso/cache.py'>,\n",
       " 'parso.file_io': <module 'parso.file_io' from '/home/edwardsb/.local/share/virtualenvs/spr_secure_intelligence-trusted_federated_-aNwh6wSd/lib/python3.5/site-packages/parso/file_io.py'>,\n",
       " 'parso.grammar': <module 'parso.grammar' from '/home/edwardsb/.local/share/virtualenvs/spr_secure_intelligence-trusted_federated_-aNwh6wSd/lib/python3.5/site-packages/parso/grammar.py'>,\n",
       " 'parso.normalizer': <module 'parso.normalizer' from '/home/edwardsb/.local/share/virtualenvs/spr_secure_intelligence-trusted_federated_-aNwh6wSd/lib/python3.5/site-packages/parso/normalizer.py'>,\n",
       " 'parso.parser': <module 'parso.parser' from '/home/edwardsb/.local/share/virtualenvs/spr_secure_intelligence-trusted_federated_-aNwh6wSd/lib/python3.5/site-packages/parso/parser.py'>,\n",
       " 'parso.pgen2': <module 'parso.pgen2' from '/home/edwardsb/.local/share/virtualenvs/spr_secure_intelligence-trusted_federated_-aNwh6wSd/lib/python3.5/site-packages/parso/pgen2/__init__.py'>,\n",
       " 'parso.pgen2.generator': <module 'parso.pgen2.generator' from '/home/edwardsb/.local/share/virtualenvs/spr_secure_intelligence-trusted_federated_-aNwh6wSd/lib/python3.5/site-packages/parso/pgen2/generator.py'>,\n",
       " 'parso.pgen2.grammar_parser': <module 'parso.pgen2.grammar_parser' from '/home/edwardsb/.local/share/virtualenvs/spr_secure_intelligence-trusted_federated_-aNwh6wSd/lib/python3.5/site-packages/parso/pgen2/grammar_parser.py'>,\n",
       " 'parso.python': <module 'parso.python' from '/home/edwardsb/.local/share/virtualenvs/spr_secure_intelligence-trusted_federated_-aNwh6wSd/lib/python3.5/site-packages/parso/python/__init__.py'>,\n",
       " 'parso.python.diff': <module 'parso.python.diff' from '/home/edwardsb/.local/share/virtualenvs/spr_secure_intelligence-trusted_federated_-aNwh6wSd/lib/python3.5/site-packages/parso/python/diff.py'>,\n",
       " 'parso.python.errors': <module 'parso.python.errors' from '/home/edwardsb/.local/share/virtualenvs/spr_secure_intelligence-trusted_federated_-aNwh6wSd/lib/python3.5/site-packages/parso/python/errors.py'>,\n",
       " 'parso.python.parser': <module 'parso.python.parser' from '/home/edwardsb/.local/share/virtualenvs/spr_secure_intelligence-trusted_federated_-aNwh6wSd/lib/python3.5/site-packages/parso/python/parser.py'>,\n",
       " 'parso.python.pep8': <module 'parso.python.pep8' from '/home/edwardsb/.local/share/virtualenvs/spr_secure_intelligence-trusted_federated_-aNwh6wSd/lib/python3.5/site-packages/parso/python/pep8.py'>,\n",
       " 'parso.python.prefix': <module 'parso.python.prefix' from '/home/edwardsb/.local/share/virtualenvs/spr_secure_intelligence-trusted_federated_-aNwh6wSd/lib/python3.5/site-packages/parso/python/prefix.py'>,\n",
       " 'parso.python.token': <module 'parso.python.token' from '/home/edwardsb/.local/share/virtualenvs/spr_secure_intelligence-trusted_federated_-aNwh6wSd/lib/python3.5/site-packages/parso/python/token.py'>,\n",
       " 'parso.python.tokenize': <module 'parso.python.tokenize' from '/home/edwardsb/.local/share/virtualenvs/spr_secure_intelligence-trusted_federated_-aNwh6wSd/lib/python3.5/site-packages/parso/python/tokenize.py'>,\n",
       " 'parso.python.tree': <module 'parso.python.tree' from '/home/edwardsb/.local/share/virtualenvs/spr_secure_intelligence-trusted_federated_-aNwh6wSd/lib/python3.5/site-packages/parso/python/tree.py'>,\n",
       " 'parso.tree': <module 'parso.tree' from '/home/edwardsb/.local/share/virtualenvs/spr_secure_intelligence-trusted_federated_-aNwh6wSd/lib/python3.5/site-packages/parso/tree.py'>,\n",
       " 'parso.utils': <module 'parso.utils' from '/home/edwardsb/.local/share/virtualenvs/spr_secure_intelligence-trusted_federated_-aNwh6wSd/lib/python3.5/site-packages/parso/utils.py'>,\n",
       " 'pathlib': <module 'pathlib' from '/usr/lib/python3.5/pathlib.py'>,\n",
       " 'pdb': <module 'pdb' from '/usr/lib/python3.5/pdb.py'>,\n",
       " 'pexpect': <module 'pexpect' from '/home/edwardsb/.local/share/virtualenvs/spr_secure_intelligence-trusted_federated_-aNwh6wSd/lib/python3.5/site-packages/pexpect/__init__.py'>,\n",
       " 'pexpect.exceptions': <module 'pexpect.exceptions' from '/home/edwardsb/.local/share/virtualenvs/spr_secure_intelligence-trusted_federated_-aNwh6wSd/lib/python3.5/site-packages/pexpect/exceptions.py'>,\n",
       " 'pexpect.expect': <module 'pexpect.expect' from '/home/edwardsb/.local/share/virtualenvs/spr_secure_intelligence-trusted_federated_-aNwh6wSd/lib/python3.5/site-packages/pexpect/expect.py'>,\n",
       " 'pexpect.pty_spawn': <module 'pexpect.pty_spawn' from '/home/edwardsb/.local/share/virtualenvs/spr_secure_intelligence-trusted_federated_-aNwh6wSd/lib/python3.5/site-packages/pexpect/pty_spawn.py'>,\n",
       " 'pexpect.run': <module 'pexpect.run' from '/home/edwardsb/.local/share/virtualenvs/spr_secure_intelligence-trusted_federated_-aNwh6wSd/lib/python3.5/site-packages/pexpect/run.py'>,\n",
       " 'pexpect.spawnbase': <module 'pexpect.spawnbase' from '/home/edwardsb/.local/share/virtualenvs/spr_secure_intelligence-trusted_federated_-aNwh6wSd/lib/python3.5/site-packages/pexpect/spawnbase.py'>,\n",
       " 'pexpect.utils': <module 'pexpect.utils' from '/home/edwardsb/.local/share/virtualenvs/spr_secure_intelligence-trusted_federated_-aNwh6wSd/lib/python3.5/site-packages/pexpect/utils.py'>,\n",
       " 'pickle': <module 'pickle' from '/usr/lib/python3.5/pickle.py'>,\n",
       " 'pickleshare': <module 'pickleshare' from '/home/edwardsb/.local/share/virtualenvs/spr_secure_intelligence-trusted_federated_-aNwh6wSd/lib/python3.5/site-packages/pickleshare.py'>,\n",
       " 'pkgutil': <module 'pkgutil' from '/usr/lib/python3.5/pkgutil.py'>,\n",
       " 'platform': <module 'platform' from '/usr/lib/python3.5/platform.py'>,\n",
       " 'posix': <module 'posix' (built-in)>,\n",
       " 'posixpath': <module 'posixpath' from '/home/edwardsb/.local/share/virtualenvs/spr_secure_intelligence-trusted_federated_-aNwh6wSd/lib/python3.5/posixpath.py'>,\n",
       " 'pprint': <module 'pprint' from '/usr/lib/python3.5/pprint.py'>,\n",
       " 'profile': <module 'profile' from '/usr/lib/python3.5/profile.py'>,\n",
       " 'prompt_toolkit': <module 'prompt_toolkit' from '/home/edwardsb/.local/share/virtualenvs/spr_secure_intelligence-trusted_federated_-aNwh6wSd/lib/python3.5/site-packages/prompt_toolkit/__init__.py'>,\n",
       " 'prompt_toolkit.application': <module 'prompt_toolkit.application' from '/home/edwardsb/.local/share/virtualenvs/spr_secure_intelligence-trusted_federated_-aNwh6wSd/lib/python3.5/site-packages/prompt_toolkit/application/__init__.py'>,\n",
       " 'prompt_toolkit.application.application': <module 'prompt_toolkit.application.application' from '/home/edwardsb/.local/share/virtualenvs/spr_secure_intelligence-trusted_federated_-aNwh6wSd/lib/python3.5/site-packages/prompt_toolkit/application/application.py'>,\n",
       " 'prompt_toolkit.application.current': <module 'prompt_toolkit.application.current' from '/home/edwardsb/.local/share/virtualenvs/spr_secure_intelligence-trusted_federated_-aNwh6wSd/lib/python3.5/site-packages/prompt_toolkit/application/current.py'>,\n",
       " 'prompt_toolkit.application.dummy': <module 'prompt_toolkit.application.dummy' from '/home/edwardsb/.local/share/virtualenvs/spr_secure_intelligence-trusted_federated_-aNwh6wSd/lib/python3.5/site-packages/prompt_toolkit/application/dummy.py'>,\n",
       " 'prompt_toolkit.application.run_in_terminal': <module 'prompt_toolkit.application.run_in_terminal' from '/home/edwardsb/.local/share/virtualenvs/spr_secure_intelligence-trusted_federated_-aNwh6wSd/lib/python3.5/site-packages/prompt_toolkit/application/run_in_terminal.py'>,\n",
       " 'prompt_toolkit.auto_suggest': <module 'prompt_toolkit.auto_suggest' from '/home/edwardsb/.local/share/virtualenvs/spr_secure_intelligence-trusted_federated_-aNwh6wSd/lib/python3.5/site-packages/prompt_toolkit/auto_suggest.py'>,\n",
       " 'prompt_toolkit.buffer': <module 'prompt_toolkit.buffer' from '/home/edwardsb/.local/share/virtualenvs/spr_secure_intelligence-trusted_federated_-aNwh6wSd/lib/python3.5/site-packages/prompt_toolkit/buffer.py'>,\n",
       " 'prompt_toolkit.cache': <module 'prompt_toolkit.cache' from '/home/edwardsb/.local/share/virtualenvs/spr_secure_intelligence-trusted_federated_-aNwh6wSd/lib/python3.5/site-packages/prompt_toolkit/cache.py'>,\n",
       " 'prompt_toolkit.clipboard': <module 'prompt_toolkit.clipboard' from '/home/edwardsb/.local/share/virtualenvs/spr_secure_intelligence-trusted_federated_-aNwh6wSd/lib/python3.5/site-packages/prompt_toolkit/clipboard/__init__.py'>,\n",
       " 'prompt_toolkit.clipboard.base': <module 'prompt_toolkit.clipboard.base' from '/home/edwardsb/.local/share/virtualenvs/spr_secure_intelligence-trusted_federated_-aNwh6wSd/lib/python3.5/site-packages/prompt_toolkit/clipboard/base.py'>,\n",
       " 'prompt_toolkit.clipboard.in_memory': <module 'prompt_toolkit.clipboard.in_memory' from '/home/edwardsb/.local/share/virtualenvs/spr_secure_intelligence-trusted_federated_-aNwh6wSd/lib/python3.5/site-packages/prompt_toolkit/clipboard/in_memory.py'>,\n",
       " 'prompt_toolkit.completion': <module 'prompt_toolkit.completion' from '/home/edwardsb/.local/share/virtualenvs/spr_secure_intelligence-trusted_federated_-aNwh6wSd/lib/python3.5/site-packages/prompt_toolkit/completion/__init__.py'>,\n",
       " 'prompt_toolkit.completion.base': <module 'prompt_toolkit.completion.base' from '/home/edwardsb/.local/share/virtualenvs/spr_secure_intelligence-trusted_federated_-aNwh6wSd/lib/python3.5/site-packages/prompt_toolkit/completion/base.py'>,\n",
       " 'prompt_toolkit.completion.filesystem': <module 'prompt_toolkit.completion.filesystem' from '/home/edwardsb/.local/share/virtualenvs/spr_secure_intelligence-trusted_federated_-aNwh6wSd/lib/python3.5/site-packages/prompt_toolkit/completion/filesystem.py'>,\n",
       " 'prompt_toolkit.completion.fuzzy_completer': <module 'prompt_toolkit.completion.fuzzy_completer' from '/home/edwardsb/.local/share/virtualenvs/spr_secure_intelligence-trusted_federated_-aNwh6wSd/lib/python3.5/site-packages/prompt_toolkit/completion/fuzzy_completer.py'>,\n",
       " 'prompt_toolkit.completion.word_completer': <module 'prompt_toolkit.completion.word_completer' from '/home/edwardsb/.local/share/virtualenvs/spr_secure_intelligence-trusted_federated_-aNwh6wSd/lib/python3.5/site-packages/prompt_toolkit/completion/word_completer.py'>,\n",
       " 'prompt_toolkit.document': <module 'prompt_toolkit.document' from '/home/edwardsb/.local/share/virtualenvs/spr_secure_intelligence-trusted_federated_-aNwh6wSd/lib/python3.5/site-packages/prompt_toolkit/document.py'>,\n",
       " 'prompt_toolkit.enums': <module 'prompt_toolkit.enums' from '/home/edwardsb/.local/share/virtualenvs/spr_secure_intelligence-trusted_federated_-aNwh6wSd/lib/python3.5/site-packages/prompt_toolkit/enums.py'>,\n",
       " 'prompt_toolkit.eventloop': <module 'prompt_toolkit.eventloop' from '/home/edwardsb/.local/share/virtualenvs/spr_secure_intelligence-trusted_federated_-aNwh6wSd/lib/python3.5/site-packages/prompt_toolkit/eventloop/__init__.py'>,\n",
       " 'prompt_toolkit.eventloop.async_generator': <module 'prompt_toolkit.eventloop.async_generator' from '/home/edwardsb/.local/share/virtualenvs/spr_secure_intelligence-trusted_federated_-aNwh6wSd/lib/python3.5/site-packages/prompt_toolkit/eventloop/async_generator.py'>,\n",
       " 'prompt_toolkit.eventloop.base': <module 'prompt_toolkit.eventloop.base' from '/home/edwardsb/.local/share/virtualenvs/spr_secure_intelligence-trusted_federated_-aNwh6wSd/lib/python3.5/site-packages/prompt_toolkit/eventloop/base.py'>,\n",
       " 'prompt_toolkit.eventloop.context': <module 'prompt_toolkit.eventloop.context' from '/home/edwardsb/.local/share/virtualenvs/spr_secure_intelligence-trusted_federated_-aNwh6wSd/lib/python3.5/site-packages/prompt_toolkit/eventloop/context.py'>,\n",
       " 'prompt_toolkit.eventloop.coroutine': <module 'prompt_toolkit.eventloop.coroutine' from '/home/edwardsb/.local/share/virtualenvs/spr_secure_intelligence-trusted_federated_-aNwh6wSd/lib/python3.5/site-packages/prompt_toolkit/eventloop/coroutine.py'>,\n",
       " 'prompt_toolkit.eventloop.defaults': <module 'prompt_toolkit.eventloop.defaults' from '/home/edwardsb/.local/share/virtualenvs/spr_secure_intelligence-trusted_federated_-aNwh6wSd/lib/python3.5/site-packages/prompt_toolkit/eventloop/defaults.py'>,\n",
       " 'prompt_toolkit.eventloop.event': <module 'prompt_toolkit.eventloop.event' from '/home/edwardsb/.local/share/virtualenvs/spr_secure_intelligence-trusted_federated_-aNwh6wSd/lib/python3.5/site-packages/prompt_toolkit/eventloop/event.py'>,\n",
       " 'prompt_toolkit.eventloop.future': <module 'prompt_toolkit.eventloop.future' from '/home/edwardsb/.local/share/virtualenvs/spr_secure_intelligence-trusted_federated_-aNwh6wSd/lib/python3.5/site-packages/prompt_toolkit/eventloop/future.py'>,\n",
       " 'prompt_toolkit.filters': <module 'prompt_toolkit.filters' from '/home/edwardsb/.local/share/virtualenvs/spr_secure_intelligence-trusted_federated_-aNwh6wSd/lib/python3.5/site-packages/prompt_toolkit/filters/__init__.py'>,\n",
       " 'prompt_toolkit.filters.app': <module 'prompt_toolkit.filters.app' from '/home/edwardsb/.local/share/virtualenvs/spr_secure_intelligence-trusted_federated_-aNwh6wSd/lib/python3.5/site-packages/prompt_toolkit/filters/app.py'>,\n",
       " 'prompt_toolkit.filters.base': <module 'prompt_toolkit.filters.base' from '/home/edwardsb/.local/share/virtualenvs/spr_secure_intelligence-trusted_federated_-aNwh6wSd/lib/python3.5/site-packages/prompt_toolkit/filters/base.py'>,\n",
       " 'prompt_toolkit.filters.cli': <module 'prompt_toolkit.filters.cli' from '/home/edwardsb/.local/share/virtualenvs/spr_secure_intelligence-trusted_federated_-aNwh6wSd/lib/python3.5/site-packages/prompt_toolkit/filters/cli.py'>,\n",
       " 'prompt_toolkit.filters.utils': <module 'prompt_toolkit.filters.utils' from '/home/edwardsb/.local/share/virtualenvs/spr_secure_intelligence-trusted_federated_-aNwh6wSd/lib/python3.5/site-packages/prompt_toolkit/filters/utils.py'>,\n",
       " 'prompt_toolkit.formatted_text': <module 'prompt_toolkit.formatted_text' from '/home/edwardsb/.local/share/virtualenvs/spr_secure_intelligence-trusted_federated_-aNwh6wSd/lib/python3.5/site-packages/prompt_toolkit/formatted_text/__init__.py'>,\n",
       " 'prompt_toolkit.formatted_text.ansi': <module 'prompt_toolkit.formatted_text.ansi' from '/home/edwardsb/.local/share/virtualenvs/spr_secure_intelligence-trusted_federated_-aNwh6wSd/lib/python3.5/site-packages/prompt_toolkit/formatted_text/ansi.py'>,\n",
       " 'prompt_toolkit.formatted_text.base': <module 'prompt_toolkit.formatted_text.base' from '/home/edwardsb/.local/share/virtualenvs/spr_secure_intelligence-trusted_federated_-aNwh6wSd/lib/python3.5/site-packages/prompt_toolkit/formatted_text/base.py'>,\n",
       " 'prompt_toolkit.formatted_text.html': <module 'prompt_toolkit.formatted_text.html' from '/home/edwardsb/.local/share/virtualenvs/spr_secure_intelligence-trusted_federated_-aNwh6wSd/lib/python3.5/site-packages/prompt_toolkit/formatted_text/html.py'>,\n",
       " 'prompt_toolkit.formatted_text.pygments': <module 'prompt_toolkit.formatted_text.pygments' from '/home/edwardsb/.local/share/virtualenvs/spr_secure_intelligence-trusted_federated_-aNwh6wSd/lib/python3.5/site-packages/prompt_toolkit/formatted_text/pygments.py'>,\n",
       " 'prompt_toolkit.formatted_text.utils': <module 'prompt_toolkit.formatted_text.utils' from '/home/edwardsb/.local/share/virtualenvs/spr_secure_intelligence-trusted_federated_-aNwh6wSd/lib/python3.5/site-packages/prompt_toolkit/formatted_text/utils.py'>,\n",
       " 'prompt_toolkit.history': <module 'prompt_toolkit.history' from '/home/edwardsb/.local/share/virtualenvs/spr_secure_intelligence-trusted_federated_-aNwh6wSd/lib/python3.5/site-packages/prompt_toolkit/history.py'>,\n",
       " 'prompt_toolkit.input': <module 'prompt_toolkit.input' from '/home/edwardsb/.local/share/virtualenvs/spr_secure_intelligence-trusted_federated_-aNwh6wSd/lib/python3.5/site-packages/prompt_toolkit/input/__init__.py'>,\n",
       " 'prompt_toolkit.input.ansi_escape_sequences': <module 'prompt_toolkit.input.ansi_escape_sequences' from '/home/edwardsb/.local/share/virtualenvs/spr_secure_intelligence-trusted_federated_-aNwh6wSd/lib/python3.5/site-packages/prompt_toolkit/input/ansi_escape_sequences.py'>,\n",
       " 'prompt_toolkit.input.base': <module 'prompt_toolkit.input.base' from '/home/edwardsb/.local/share/virtualenvs/spr_secure_intelligence-trusted_federated_-aNwh6wSd/lib/python3.5/site-packages/prompt_toolkit/input/base.py'>,\n",
       " 'prompt_toolkit.input.defaults': <module 'prompt_toolkit.input.defaults' from '/home/edwardsb/.local/share/virtualenvs/spr_secure_intelligence-trusted_federated_-aNwh6wSd/lib/python3.5/site-packages/prompt_toolkit/input/defaults.py'>,\n",
       " 'prompt_toolkit.input.typeahead': <module 'prompt_toolkit.input.typeahead' from '/home/edwardsb/.local/share/virtualenvs/spr_secure_intelligence-trusted_federated_-aNwh6wSd/lib/python3.5/site-packages/prompt_toolkit/input/typeahead.py'>,\n",
       " 'prompt_toolkit.input.vt100_parser': <module 'prompt_toolkit.input.vt100_parser' from '/home/edwardsb/.local/share/virtualenvs/spr_secure_intelligence-trusted_federated_-aNwh6wSd/lib/python3.5/site-packages/prompt_toolkit/input/vt100_parser.py'>,\n",
       " 'prompt_toolkit.key_binding': <module 'prompt_toolkit.key_binding' from '/home/edwardsb/.local/share/virtualenvs/spr_secure_intelligence-trusted_federated_-aNwh6wSd/lib/python3.5/site-packages/prompt_toolkit/key_binding/__init__.py'>,\n",
       " 'prompt_toolkit.key_binding.bindings': <module 'prompt_toolkit.key_binding.bindings' from '/home/edwardsb/.local/share/virtualenvs/spr_secure_intelligence-trusted_federated_-aNwh6wSd/lib/python3.5/site-packages/prompt_toolkit/key_binding/bindings/__init__.py'>,\n",
       " 'prompt_toolkit.key_binding.bindings.auto_suggest': <module 'prompt_toolkit.key_binding.bindings.auto_suggest' from '/home/edwardsb/.local/share/virtualenvs/spr_secure_intelligence-trusted_federated_-aNwh6wSd/lib/python3.5/site-packages/prompt_toolkit/key_binding/bindings/auto_suggest.py'>,\n",
       " 'prompt_toolkit.key_binding.bindings.basic': <module 'prompt_toolkit.key_binding.bindings.basic' from '/home/edwardsb/.local/share/virtualenvs/spr_secure_intelligence-trusted_federated_-aNwh6wSd/lib/python3.5/site-packages/prompt_toolkit/key_binding/bindings/basic.py'>,\n",
       " 'prompt_toolkit.key_binding.bindings.completion': <module 'prompt_toolkit.key_binding.bindings.completion' from '/home/edwardsb/.local/share/virtualenvs/spr_secure_intelligence-trusted_federated_-aNwh6wSd/lib/python3.5/site-packages/prompt_toolkit/key_binding/bindings/completion.py'>,\n",
       " 'prompt_toolkit.key_binding.bindings.cpr': <module 'prompt_toolkit.key_binding.bindings.cpr' from '/home/edwardsb/.local/share/virtualenvs/spr_secure_intelligence-trusted_federated_-aNwh6wSd/lib/python3.5/site-packages/prompt_toolkit/key_binding/bindings/cpr.py'>,\n",
       " 'prompt_toolkit.key_binding.bindings.emacs': <module 'prompt_toolkit.key_binding.bindings.emacs' from '/home/edwardsb/.local/share/virtualenvs/spr_secure_intelligence-trusted_federated_-aNwh6wSd/lib/python3.5/site-packages/prompt_toolkit/key_binding/bindings/emacs.py'>,\n",
       " 'prompt_toolkit.key_binding.bindings.focus': <module 'prompt_toolkit.key_binding.bindings.focus' from '/home/edwardsb/.local/share/virtualenvs/spr_secure_intelligence-trusted_federated_-aNwh6wSd/lib/python3.5/site-packages/prompt_toolkit/key_binding/bindings/focus.py'>,\n",
       " 'prompt_toolkit.key_binding.bindings.mouse': <module 'prompt_toolkit.key_binding.bindings.mouse' from '/home/edwardsb/.local/share/virtualenvs/spr_secure_intelligence-trusted_federated_-aNwh6wSd/lib/python3.5/site-packages/prompt_toolkit/key_binding/bindings/mouse.py'>,\n",
       " 'prompt_toolkit.key_binding.bindings.named_commands': <module 'prompt_toolkit.key_binding.bindings.named_commands' from '/home/edwardsb/.local/share/virtualenvs/spr_secure_intelligence-trusted_federated_-aNwh6wSd/lib/python3.5/site-packages/prompt_toolkit/key_binding/bindings/named_commands.py'>,\n",
       " 'prompt_toolkit.key_binding.bindings.open_in_editor': <module 'prompt_toolkit.key_binding.bindings.open_in_editor' from '/home/edwardsb/.local/share/virtualenvs/spr_secure_intelligence-trusted_federated_-aNwh6wSd/lib/python3.5/site-packages/prompt_toolkit/key_binding/bindings/open_in_editor.py'>,\n",
       " 'prompt_toolkit.key_binding.bindings.page_navigation': <module 'prompt_toolkit.key_binding.bindings.page_navigation' from '/home/edwardsb/.local/share/virtualenvs/spr_secure_intelligence-trusted_federated_-aNwh6wSd/lib/python3.5/site-packages/prompt_toolkit/key_binding/bindings/page_navigation.py'>,\n",
       " 'prompt_toolkit.key_binding.bindings.scroll': <module 'prompt_toolkit.key_binding.bindings.scroll' from '/home/edwardsb/.local/share/virtualenvs/spr_secure_intelligence-trusted_federated_-aNwh6wSd/lib/python3.5/site-packages/prompt_toolkit/key_binding/bindings/scroll.py'>,\n",
       " 'prompt_toolkit.key_binding.bindings.vi': <module 'prompt_toolkit.key_binding.bindings.vi' from '/home/edwardsb/.local/share/virtualenvs/spr_secure_intelligence-trusted_federated_-aNwh6wSd/lib/python3.5/site-packages/prompt_toolkit/key_binding/bindings/vi.py'>,\n",
       " 'prompt_toolkit.key_binding.defaults': <module 'prompt_toolkit.key_binding.defaults' from '/home/edwardsb/.local/share/virtualenvs/spr_secure_intelligence-trusted_federated_-aNwh6wSd/lib/python3.5/site-packages/prompt_toolkit/key_binding/defaults.py'>,\n",
       " 'prompt_toolkit.key_binding.digraphs': <module 'prompt_toolkit.key_binding.digraphs' from '/home/edwardsb/.local/share/virtualenvs/spr_secure_intelligence-trusted_federated_-aNwh6wSd/lib/python3.5/site-packages/prompt_toolkit/key_binding/digraphs.py'>,\n",
       " 'prompt_toolkit.key_binding.emacs_state': <module 'prompt_toolkit.key_binding.emacs_state' from '/home/edwardsb/.local/share/virtualenvs/spr_secure_intelligence-trusted_federated_-aNwh6wSd/lib/python3.5/site-packages/prompt_toolkit/key_binding/emacs_state.py'>,\n",
       " 'prompt_toolkit.key_binding.key_bindings': <module 'prompt_toolkit.key_binding.key_bindings' from '/home/edwardsb/.local/share/virtualenvs/spr_secure_intelligence-trusted_federated_-aNwh6wSd/lib/python3.5/site-packages/prompt_toolkit/key_binding/key_bindings.py'>,\n",
       " 'prompt_toolkit.key_binding.key_processor': <module 'prompt_toolkit.key_binding.key_processor' from '/home/edwardsb/.local/share/virtualenvs/spr_secure_intelligence-trusted_federated_-aNwh6wSd/lib/python3.5/site-packages/prompt_toolkit/key_binding/key_processor.py'>,\n",
       " 'prompt_toolkit.key_binding.vi_state': <module 'prompt_toolkit.key_binding.vi_state' from '/home/edwardsb/.local/share/virtualenvs/spr_secure_intelligence-trusted_federated_-aNwh6wSd/lib/python3.5/site-packages/prompt_toolkit/key_binding/vi_state.py'>,\n",
       " 'prompt_toolkit.keys': <module 'prompt_toolkit.keys' from '/home/edwardsb/.local/share/virtualenvs/spr_secure_intelligence-trusted_federated_-aNwh6wSd/lib/python3.5/site-packages/prompt_toolkit/keys.py'>,\n",
       " 'prompt_toolkit.layout': <module 'prompt_toolkit.layout' from '/home/edwardsb/.local/share/virtualenvs/spr_secure_intelligence-trusted_federated_-aNwh6wSd/lib/python3.5/site-packages/prompt_toolkit/layout/__init__.py'>,\n",
       " 'prompt_toolkit.layout.containers': <module 'prompt_toolkit.layout.containers' from '/home/edwardsb/.local/share/virtualenvs/spr_secure_intelligence-trusted_federated_-aNwh6wSd/lib/python3.5/site-packages/prompt_toolkit/layout/containers.py'>,\n",
       " 'prompt_toolkit.layout.controls': <module 'prompt_toolkit.layout.controls' from '/home/edwardsb/.local/share/virtualenvs/spr_secure_intelligence-trusted_federated_-aNwh6wSd/lib/python3.5/site-packages/prompt_toolkit/layout/controls.py'>,\n",
       " 'prompt_toolkit.layout.dimension': <module 'prompt_toolkit.layout.dimension' from '/home/edwardsb/.local/share/virtualenvs/spr_secure_intelligence-trusted_federated_-aNwh6wSd/lib/python3.5/site-packages/prompt_toolkit/layout/dimension.py'>,\n",
       " 'prompt_toolkit.layout.dummy': <module 'prompt_toolkit.layout.dummy' from '/home/edwardsb/.local/share/virtualenvs/spr_secure_intelligence-trusted_federated_-aNwh6wSd/lib/python3.5/site-packages/prompt_toolkit/layout/dummy.py'>,\n",
       " 'prompt_toolkit.layout.layout': <module 'prompt_toolkit.layout.layout' from '/home/edwardsb/.local/share/virtualenvs/spr_secure_intelligence-trusted_federated_-aNwh6wSd/lib/python3.5/site-packages/prompt_toolkit/layout/layout.py'>,\n",
       " 'prompt_toolkit.layout.margins': <module 'prompt_toolkit.layout.margins' from '/home/edwardsb/.local/share/virtualenvs/spr_secure_intelligence-trusted_federated_-aNwh6wSd/lib/python3.5/site-packages/prompt_toolkit/layout/margins.py'>,\n",
       " 'prompt_toolkit.layout.menus': <module 'prompt_toolkit.layout.menus' from '/home/edwardsb/.local/share/virtualenvs/spr_secure_intelligence-trusted_federated_-aNwh6wSd/lib/python3.5/site-packages/prompt_toolkit/layout/menus.py'>,\n",
       " 'prompt_toolkit.layout.mouse_handlers': <module 'prompt_toolkit.layout.mouse_handlers' from '/home/edwardsb/.local/share/virtualenvs/spr_secure_intelligence-trusted_federated_-aNwh6wSd/lib/python3.5/site-packages/prompt_toolkit/layout/mouse_handlers.py'>,\n",
       " 'prompt_toolkit.layout.processors': <module 'prompt_toolkit.layout.processors' from '/home/edwardsb/.local/share/virtualenvs/spr_secure_intelligence-trusted_federated_-aNwh6wSd/lib/python3.5/site-packages/prompt_toolkit/layout/processors.py'>,\n",
       " 'prompt_toolkit.layout.screen': <module 'prompt_toolkit.layout.screen' from '/home/edwardsb/.local/share/virtualenvs/spr_secure_intelligence-trusted_federated_-aNwh6wSd/lib/python3.5/site-packages/prompt_toolkit/layout/screen.py'>,\n",
       " 'prompt_toolkit.layout.utils': <module 'prompt_toolkit.layout.utils' from '/home/edwardsb/.local/share/virtualenvs/spr_secure_intelligence-trusted_federated_-aNwh6wSd/lib/python3.5/site-packages/prompt_toolkit/layout/utils.py'>,\n",
       " 'prompt_toolkit.lexers': <module 'prompt_toolkit.lexers' from '/home/edwardsb/.local/share/virtualenvs/spr_secure_intelligence-trusted_federated_-aNwh6wSd/lib/python3.5/site-packages/prompt_toolkit/lexers/__init__.py'>,\n",
       " 'prompt_toolkit.lexers.base': <module 'prompt_toolkit.lexers.base' from '/home/edwardsb/.local/share/virtualenvs/spr_secure_intelligence-trusted_federated_-aNwh6wSd/lib/python3.5/site-packages/prompt_toolkit/lexers/base.py'>,\n",
       " 'prompt_toolkit.lexers.pygments': <module 'prompt_toolkit.lexers.pygments' from '/home/edwardsb/.local/share/virtualenvs/spr_secure_intelligence-trusted_federated_-aNwh6wSd/lib/python3.5/site-packages/prompt_toolkit/lexers/pygments.py'>,\n",
       " 'prompt_toolkit.log': <module 'prompt_toolkit.log' from '/home/edwardsb/.local/share/virtualenvs/spr_secure_intelligence-trusted_federated_-aNwh6wSd/lib/python3.5/site-packages/prompt_toolkit/log.py'>,\n",
       " 'prompt_toolkit.mouse_events': <module 'prompt_toolkit.mouse_events' from '/home/edwardsb/.local/share/virtualenvs/spr_secure_intelligence-trusted_federated_-aNwh6wSd/lib/python3.5/site-packages/prompt_toolkit/mouse_events.py'>,\n",
       " 'prompt_toolkit.output': <module 'prompt_toolkit.output' from '/home/edwardsb/.local/share/virtualenvs/spr_secure_intelligence-trusted_federated_-aNwh6wSd/lib/python3.5/site-packages/prompt_toolkit/output/__init__.py'>,\n",
       " 'prompt_toolkit.output.base': <module 'prompt_toolkit.output.base' from '/home/edwardsb/.local/share/virtualenvs/spr_secure_intelligence-trusted_federated_-aNwh6wSd/lib/python3.5/site-packages/prompt_toolkit/output/base.py'>,\n",
       " 'prompt_toolkit.output.color_depth': <module 'prompt_toolkit.output.color_depth' from '/home/edwardsb/.local/share/virtualenvs/spr_secure_intelligence-trusted_federated_-aNwh6wSd/lib/python3.5/site-packages/prompt_toolkit/output/color_depth.py'>,\n",
       " 'prompt_toolkit.output.defaults': <module 'prompt_toolkit.output.defaults' from '/home/edwardsb/.local/share/virtualenvs/spr_secure_intelligence-trusted_federated_-aNwh6wSd/lib/python3.5/site-packages/prompt_toolkit/output/defaults.py'>,\n",
       " 'prompt_toolkit.output.vt100': <module 'prompt_toolkit.output.vt100' from '/home/edwardsb/.local/share/virtualenvs/spr_secure_intelligence-trusted_federated_-aNwh6wSd/lib/python3.5/site-packages/prompt_toolkit/output/vt100.py'>,\n",
       " 'prompt_toolkit.patch_stdout': <module 'prompt_toolkit.patch_stdout' from '/home/edwardsb/.local/share/virtualenvs/spr_secure_intelligence-trusted_federated_-aNwh6wSd/lib/python3.5/site-packages/prompt_toolkit/patch_stdout.py'>,\n",
       " 'prompt_toolkit.renderer': <module 'prompt_toolkit.renderer' from '/home/edwardsb/.local/share/virtualenvs/spr_secure_intelligence-trusted_federated_-aNwh6wSd/lib/python3.5/site-packages/prompt_toolkit/renderer.py'>,\n",
       " 'prompt_toolkit.search': <module 'prompt_toolkit.search' from '/home/edwardsb/.local/share/virtualenvs/spr_secure_intelligence-trusted_federated_-aNwh6wSd/lib/python3.5/site-packages/prompt_toolkit/search.py'>,\n",
       " 'prompt_toolkit.selection': <module 'prompt_toolkit.selection' from '/home/edwardsb/.local/share/virtualenvs/spr_secure_intelligence-trusted_federated_-aNwh6wSd/lib/python3.5/site-packages/prompt_toolkit/selection.py'>,\n",
       " 'prompt_toolkit.shortcuts': <module 'prompt_toolkit.shortcuts' from '/home/edwardsb/.local/share/virtualenvs/spr_secure_intelligence-trusted_federated_-aNwh6wSd/lib/python3.5/site-packages/prompt_toolkit/shortcuts/__init__.py'>,\n",
       " 'prompt_toolkit.shortcuts.dialogs': <module 'prompt_toolkit.shortcuts.dialogs' from '/home/edwardsb/.local/share/virtualenvs/spr_secure_intelligence-trusted_federated_-aNwh6wSd/lib/python3.5/site-packages/prompt_toolkit/shortcuts/dialogs.py'>,\n",
       " 'prompt_toolkit.shortcuts.progress_bar': <module 'prompt_toolkit.shortcuts.progress_bar' from '/home/edwardsb/.local/share/virtualenvs/spr_secure_intelligence-trusted_federated_-aNwh6wSd/lib/python3.5/site-packages/prompt_toolkit/shortcuts/progress_bar/__init__.py'>,\n",
       " 'prompt_toolkit.shortcuts.progress_bar.base': <module 'prompt_toolkit.shortcuts.progress_bar.base' from '/home/edwardsb/.local/share/virtualenvs/spr_secure_intelligence-trusted_federated_-aNwh6wSd/lib/python3.5/site-packages/prompt_toolkit/shortcuts/progress_bar/base.py'>,\n",
       " 'prompt_toolkit.shortcuts.progress_bar.formatters': <module 'prompt_toolkit.shortcuts.progress_bar.formatters' from '/home/edwardsb/.local/share/virtualenvs/spr_secure_intelligence-trusted_federated_-aNwh6wSd/lib/python3.5/site-packages/prompt_toolkit/shortcuts/progress_bar/formatters.py'>,\n",
       " 'prompt_toolkit.shortcuts.prompt': <module 'prompt_toolkit.shortcuts.prompt' from '/home/edwardsb/.local/share/virtualenvs/spr_secure_intelligence-trusted_federated_-aNwh6wSd/lib/python3.5/site-packages/prompt_toolkit/shortcuts/prompt.py'>,\n",
       " 'prompt_toolkit.shortcuts.utils': <module 'prompt_toolkit.shortcuts.utils' from '/home/edwardsb/.local/share/virtualenvs/spr_secure_intelligence-trusted_federated_-aNwh6wSd/lib/python3.5/site-packages/prompt_toolkit/shortcuts/utils.py'>,\n",
       " 'prompt_toolkit.styles': <module 'prompt_toolkit.styles' from '/home/edwardsb/.local/share/virtualenvs/spr_secure_intelligence-trusted_federated_-aNwh6wSd/lib/python3.5/site-packages/prompt_toolkit/styles/__init__.py'>,\n",
       " 'prompt_toolkit.styles.base': <module 'prompt_toolkit.styles.base' from '/home/edwardsb/.local/share/virtualenvs/spr_secure_intelligence-trusted_federated_-aNwh6wSd/lib/python3.5/site-packages/prompt_toolkit/styles/base.py'>,\n",
       " 'prompt_toolkit.styles.defaults': <module 'prompt_toolkit.styles.defaults' from '/home/edwardsb/.local/share/virtualenvs/spr_secure_intelligence-trusted_federated_-aNwh6wSd/lib/python3.5/site-packages/prompt_toolkit/styles/defaults.py'>,\n",
       " 'prompt_toolkit.styles.named_colors': <module 'prompt_toolkit.styles.named_colors' from '/home/edwardsb/.local/share/virtualenvs/spr_secure_intelligence-trusted_federated_-aNwh6wSd/lib/python3.5/site-packages/prompt_toolkit/styles/named_colors.py'>,\n",
       " 'prompt_toolkit.styles.pygments': <module 'prompt_toolkit.styles.pygments' from '/home/edwardsb/.local/share/virtualenvs/spr_secure_intelligence-trusted_federated_-aNwh6wSd/lib/python3.5/site-packages/prompt_toolkit/styles/pygments.py'>,\n",
       " 'prompt_toolkit.styles.style': <module 'prompt_toolkit.styles.style' from '/home/edwardsb/.local/share/virtualenvs/spr_secure_intelligence-trusted_federated_-aNwh6wSd/lib/python3.5/site-packages/prompt_toolkit/styles/style.py'>,\n",
       " 'prompt_toolkit.styles.style_transformation': <module 'prompt_toolkit.styles.style_transformation' from '/home/edwardsb/.local/share/virtualenvs/spr_secure_intelligence-trusted_federated_-aNwh6wSd/lib/python3.5/site-packages/prompt_toolkit/styles/style_transformation.py'>,\n",
       " 'prompt_toolkit.utils': <module 'prompt_toolkit.utils' from '/home/edwardsb/.local/share/virtualenvs/spr_secure_intelligence-trusted_federated_-aNwh6wSd/lib/python3.5/site-packages/prompt_toolkit/utils.py'>,\n",
       " 'prompt_toolkit.validation': <module 'prompt_toolkit.validation' from '/home/edwardsb/.local/share/virtualenvs/spr_secure_intelligence-trusted_federated_-aNwh6wSd/lib/python3.5/site-packages/prompt_toolkit/validation.py'>,\n",
       " 'prompt_toolkit.widgets': <module 'prompt_toolkit.widgets' from '/home/edwardsb/.local/share/virtualenvs/spr_secure_intelligence-trusted_federated_-aNwh6wSd/lib/python3.5/site-packages/prompt_toolkit/widgets/__init__.py'>,\n",
       " 'prompt_toolkit.widgets.base': <module 'prompt_toolkit.widgets.base' from '/home/edwardsb/.local/share/virtualenvs/spr_secure_intelligence-trusted_federated_-aNwh6wSd/lib/python3.5/site-packages/prompt_toolkit/widgets/base.py'>,\n",
       " 'prompt_toolkit.widgets.dialogs': <module 'prompt_toolkit.widgets.dialogs' from '/home/edwardsb/.local/share/virtualenvs/spr_secure_intelligence-trusted_federated_-aNwh6wSd/lib/python3.5/site-packages/prompt_toolkit/widgets/dialogs.py'>,\n",
       " 'prompt_toolkit.widgets.menus': <module 'prompt_toolkit.widgets.menus' from '/home/edwardsb/.local/share/virtualenvs/spr_secure_intelligence-trusted_federated_-aNwh6wSd/lib/python3.5/site-packages/prompt_toolkit/widgets/menus.py'>,\n",
       " 'prompt_toolkit.widgets.toolbars': <module 'prompt_toolkit.widgets.toolbars' from '/home/edwardsb/.local/share/virtualenvs/spr_secure_intelligence-trusted_federated_-aNwh6wSd/lib/python3.5/site-packages/prompt_toolkit/widgets/toolbars.py'>,\n",
       " 'pstats': <module 'pstats' from '/usr/lib/python3.5/pstats.py'>,\n",
       " 'pty': <module 'pty' from '/usr/lib/python3.5/pty.py'>,\n",
       " 'ptyprocess': <module 'ptyprocess' from '/home/edwardsb/.local/share/virtualenvs/spr_secure_intelligence-trusted_federated_-aNwh6wSd/lib/python3.5/site-packages/ptyprocess/__init__.py'>,\n",
       " 'ptyprocess.ptyprocess': <module 'ptyprocess.ptyprocess' from '/home/edwardsb/.local/share/virtualenvs/spr_secure_intelligence-trusted_federated_-aNwh6wSd/lib/python3.5/site-packages/ptyprocess/ptyprocess.py'>,\n",
       " 'ptyprocess.util': <module 'ptyprocess.util' from '/home/edwardsb/.local/share/virtualenvs/spr_secure_intelligence-trusted_federated_-aNwh6wSd/lib/python3.5/site-packages/ptyprocess/util.py'>,\n",
       " 'pwd': <module 'pwd' (built-in)>,\n",
       " 'pydoc': <module 'pydoc' from '/usr/lib/python3.5/pydoc.py'>,\n",
       " 'pydoc_data': <module 'pydoc_data' from '/usr/lib/python3.5/pydoc_data/__init__.py'>,\n",
       " 'pydoc_data.topics': <module 'pydoc_data.topics' from '/usr/lib/python3.5/pydoc_data/topics.py'>,\n",
       " 'pygments': <module 'pygments' from '/home/edwardsb/.local/share/virtualenvs/spr_secure_intelligence-trusted_federated_-aNwh6wSd/lib/python3.5/site-packages/pygments/__init__.py'>,\n",
       " 'pygments.filter': <module 'pygments.filter' from '/home/edwardsb/.local/share/virtualenvs/spr_secure_intelligence-trusted_federated_-aNwh6wSd/lib/python3.5/site-packages/pygments/filter.py'>,\n",
       " 'pygments.filters': <module 'pygments.filters' from '/home/edwardsb/.local/share/virtualenvs/spr_secure_intelligence-trusted_federated_-aNwh6wSd/lib/python3.5/site-packages/pygments/filters/__init__.py'>,\n",
       " 'pygments.formatter': <module 'pygments.formatter' from '/home/edwardsb/.local/share/virtualenvs/spr_secure_intelligence-trusted_federated_-aNwh6wSd/lib/python3.5/site-packages/pygments/formatter.py'>,\n",
       " 'pygments.formatters': <module 'pygments.formatters' from '/home/edwardsb/.local/share/virtualenvs/spr_secure_intelligence-trusted_federated_-aNwh6wSd/lib/python3.5/site-packages/pygments/formatters/__init__.py'>,\n",
       " 'pygments.formatters._mapping': <module 'pygments.formatters._mapping' from '/home/edwardsb/.local/share/virtualenvs/spr_secure_intelligence-trusted_federated_-aNwh6wSd/lib/python3.5/site-packages/pygments/formatters/_mapping.py'>,\n",
       " 'pygments.formatters.html': <module 'pygments.formatters.html' from '/home/edwardsb/.local/share/virtualenvs/spr_secure_intelligence-trusted_federated_-aNwh6wSd/lib/python3.5/site-packages/pygments/formatters/html.py'>,\n",
       " 'pygments.lexer': <module 'pygments.lexer' from '/home/edwardsb/.local/share/virtualenvs/spr_secure_intelligence-trusted_federated_-aNwh6wSd/lib/python3.5/site-packages/pygments/lexer.py'>,\n",
       " 'pygments.lexers': <module 'pygments.lexers' from '/home/edwardsb/.local/share/virtualenvs/spr_secure_intelligence-trusted_federated_-aNwh6wSd/lib/python3.5/site-packages/pygments/lexers/__init__.py'>,\n",
       " 'pygments.lexers._mapping': <module 'pygments.lexers._mapping' from '/home/edwardsb/.local/share/virtualenvs/spr_secure_intelligence-trusted_federated_-aNwh6wSd/lib/python3.5/site-packages/pygments/lexers/_mapping.py'>,\n",
       " 'pygments.lexers.python': <module 'pygments.lexers.python' from '/home/edwardsb/.local/share/virtualenvs/spr_secure_intelligence-trusted_federated_-aNwh6wSd/lib/python3.5/site-packages/pygments/lexers/python.py'>,\n",
       " 'pygments.modeline': <module 'pygments.modeline' from '/home/edwardsb/.local/share/virtualenvs/spr_secure_intelligence-trusted_federated_-aNwh6wSd/lib/python3.5/site-packages/pygments/modeline.py'>,\n",
       " 'pygments.plugin': <module 'pygments.plugin' from '/home/edwardsb/.local/share/virtualenvs/spr_secure_intelligence-trusted_federated_-aNwh6wSd/lib/python3.5/site-packages/pygments/plugin.py'>,\n",
       " 'pygments.regexopt': <module 'pygments.regexopt' from '/home/edwardsb/.local/share/virtualenvs/spr_secure_intelligence-trusted_federated_-aNwh6wSd/lib/python3.5/site-packages/pygments/regexopt.py'>,\n",
       " 'pygments.style': <module 'pygments.style' from '/home/edwardsb/.local/share/virtualenvs/spr_secure_intelligence-trusted_federated_-aNwh6wSd/lib/python3.5/site-packages/pygments/style.py'>,\n",
       " 'pygments.styles': <module 'pygments.styles' from '/home/edwardsb/.local/share/virtualenvs/spr_secure_intelligence-trusted_federated_-aNwh6wSd/lib/python3.5/site-packages/pygments/styles/__init__.py'>,\n",
       " 'pygments.token': <module 'pygments.token' from '/home/edwardsb/.local/share/virtualenvs/spr_secure_intelligence-trusted_federated_-aNwh6wSd/lib/python3.5/site-packages/pygments/token.py'>,\n",
       " 'pygments.unistring': <module 'pygments.unistring' from '/home/edwardsb/.local/share/virtualenvs/spr_secure_intelligence-trusted_federated_-aNwh6wSd/lib/python3.5/site-packages/pygments/unistring.py'>,\n",
       " 'pygments.util': <module 'pygments.util' from '/home/edwardsb/.local/share/virtualenvs/spr_secure_intelligence-trusted_federated_-aNwh6wSd/lib/python3.5/site-packages/pygments/util.py'>,\n",
       " 'queue': <module 'queue' from '/usr/lib/python3.5/queue.py'>,\n",
       " 'quopri': <module 'quopri' from '/usr/lib/python3.5/quopri.py'>,\n",
       " 'random': <module 'random' from '/home/edwardsb/.local/share/virtualenvs/spr_secure_intelligence-trusted_federated_-aNwh6wSd/lib/python3.5/random.py'>,\n",
       " 're': <module 're' from '/home/edwardsb/.local/share/virtualenvs/spr_secure_intelligence-trusted_federated_-aNwh6wSd/lib/python3.5/re.py'>,\n",
       " 'reprlib': <module 'reprlib' from '/home/edwardsb/.local/share/virtualenvs/spr_secure_intelligence-trusted_federated_-aNwh6wSd/lib/python3.5/reprlib.py'>,\n",
       " 'resource': <module 'resource' from '/home/edwardsb/.local/share/virtualenvs/spr_secure_intelligence-trusted_federated_-aNwh6wSd/lib/python3.5/lib-dynload/resource.cpython-35m-x86_64-linux-gnu.so'>,\n",
       " 'runpy': <module 'runpy' from '/usr/lib/python3.5/runpy.py'>,\n",
       " 'select': <module 'select' (built-in)>,\n",
       " 'selectors': <module 'selectors' from '/usr/lib/python3.5/selectors.py'>,\n",
       " 'shlex': <module 'shlex' from '/usr/lib/python3.5/shlex.py'>,\n",
       " 'shutil': <module 'shutil' from '/home/edwardsb/.local/share/virtualenvs/spr_secure_intelligence-trusted_federated_-aNwh6wSd/lib/python3.5/shutil.py'>,\n",
       " 'signal': <module 'signal' from '/usr/lib/python3.5/signal.py'>,\n",
       " 'site': <module 'site' from '/home/edwardsb/.local/share/virtualenvs/spr_secure_intelligence-trusted_federated_-aNwh6wSd/lib/python3.5/site.py'>,\n",
       " 'sitecustomize': <module 'sitecustomize' from '/usr/lib/python3.5/sitecustomize.py'>,\n",
       " 'six': <module 'six' from '/home/edwardsb/.local/share/virtualenvs/spr_secure_intelligence-trusted_federated_-aNwh6wSd/lib/python3.5/site-packages/six.py'>,\n",
       " 'six.moves': <module 'six.moves' (<six._SixMetaPathImporter object at 0x7fed4e780ef0>)>,\n",
       " 'six.moves.queue': <module 'queue' from '/usr/lib/python3.5/queue.py'>,\n",
       " 'socket': <module 'socket' from '/usr/lib/python3.5/socket.py'>,\n",
       " 'sqlite3': <module 'sqlite3' from '/usr/lib/python3.5/sqlite3/__init__.py'>,\n",
       " 'sqlite3.dbapi2': <module 'sqlite3.dbapi2' from '/usr/lib/python3.5/sqlite3/dbapi2.py'>,\n",
       " 'sre_compile': <module 'sre_compile' from '/home/edwardsb/.local/share/virtualenvs/spr_secure_intelligence-trusted_federated_-aNwh6wSd/lib/python3.5/sre_compile.py'>,\n",
       " 'sre_constants': <module 'sre_constants' from '/home/edwardsb/.local/share/virtualenvs/spr_secure_intelligence-trusted_federated_-aNwh6wSd/lib/python3.5/sre_constants.py'>,\n",
       " 'sre_parse': <module 'sre_parse' from '/home/edwardsb/.local/share/virtualenvs/spr_secure_intelligence-trusted_federated_-aNwh6wSd/lib/python3.5/sre_parse.py'>,\n",
       " 'ssl': <module 'ssl' from '/usr/lib/python3.5/ssl.py'>,\n",
       " 'stat': <module 'stat' from '/home/edwardsb/.local/share/virtualenvs/spr_secure_intelligence-trusted_federated_-aNwh6wSd/lib/python3.5/stat.py'>,\n",
       " 'storemagic': <module 'storemagic' from '/home/edwardsb/.local/share/virtualenvs/spr_secure_intelligence-trusted_federated_-aNwh6wSd/lib/python3.5/site-packages/IPython/extensions/storemagic.py'>,\n",
       " 'string': <module 'string' from '/usr/lib/python3.5/string.py'>,\n",
       " 'struct': <module 'struct' from '/home/edwardsb/.local/share/virtualenvs/spr_secure_intelligence-trusted_federated_-aNwh6wSd/lib/python3.5/struct.py'>,\n",
       " 'subprocess': <module 'subprocess' from '/usr/lib/python3.5/subprocess.py'>,\n",
       " 'sys': <module 'sys' (built-in)>,\n",
       " 'tarfile': <module 'tarfile' from '/home/edwardsb/.local/share/virtualenvs/spr_secure_intelligence-trusted_federated_-aNwh6wSd/lib/python3.5/tarfile.py'>,\n",
       " 'tempfile': <module 'tempfile' from '/home/edwardsb/.local/share/virtualenvs/spr_secure_intelligence-trusted_federated_-aNwh6wSd/lib/python3.5/tempfile.py'>,\n",
       " 'termios': <module 'termios' from '/home/edwardsb/.local/share/virtualenvs/spr_secure_intelligence-trusted_federated_-aNwh6wSd/lib/python3.5/lib-dynload/termios.cpython-35m-x86_64-linux-gnu.so'>,\n",
       " 'textwrap': <module 'textwrap' from '/usr/lib/python3.5/textwrap.py'>,\n",
       " 'tfedlrn': <module 'tfedlrn' from '/home/edwardsb/.local/share/virtualenvs/spr_secure_intelligence-trusted_federated_-aNwh6wSd/lib/python3.5/site-packages/tfedlrn-0.0.0-py3.5.egg/tfedlrn/__init__.py'>,\n",
       " 'tfedlrn.collaborator': <module 'tfedlrn.collaborator' from '/home/edwardsb/.local/share/virtualenvs/spr_secure_intelligence-trusted_federated_-aNwh6wSd/lib/python3.5/site-packages/tfedlrn-0.0.0-py3.5.egg/tfedlrn/collaborator/__init__.py'>,\n",
       " 'threading': <module 'threading' from '/usr/lib/python3.5/threading.py'>,\n",
       " 'time': <module 'time' (built-in)>,\n",
       " 'timeit': <module 'timeit' from '/usr/lib/python3.5/timeit.py'>,\n",
       " 'token': <module 'token' from '/home/edwardsb/.local/share/virtualenvs/spr_secure_intelligence-trusted_federated_-aNwh6wSd/lib/python3.5/token.py'>,\n",
       " 'tokenize': <module 'tokenize' from '/home/edwardsb/.local/share/virtualenvs/spr_secure_intelligence-trusted_federated_-aNwh6wSd/lib/python3.5/tokenize.py'>,\n",
       " 'tornado': <module 'tornado' from '/home/edwardsb/.local/share/virtualenvs/spr_secure_intelligence-trusted_federated_-aNwh6wSd/lib/python3.5/site-packages/tornado/__init__.py'>,\n",
       " 'tornado.concurrent': <module 'tornado.concurrent' from '/home/edwardsb/.local/share/virtualenvs/spr_secure_intelligence-trusted_federated_-aNwh6wSd/lib/python3.5/site-packages/tornado/concurrent.py'>,\n",
       " 'tornado.escape': <module 'tornado.escape' from '/home/edwardsb/.local/share/virtualenvs/spr_secure_intelligence-trusted_federated_-aNwh6wSd/lib/python3.5/site-packages/tornado/escape.py'>,\n",
       " 'tornado.gen': <module 'tornado.gen' from '/home/edwardsb/.local/share/virtualenvs/spr_secure_intelligence-trusted_federated_-aNwh6wSd/lib/python3.5/site-packages/tornado/gen.py'>,\n",
       " 'tornado.ioloop': <module 'tornado.ioloop' from '/home/edwardsb/.local/share/virtualenvs/spr_secure_intelligence-trusted_federated_-aNwh6wSd/lib/python3.5/site-packages/tornado/ioloop.py'>,\n",
       " 'tornado.locks': <module 'tornado.locks' from '/home/edwardsb/.local/share/virtualenvs/spr_secure_intelligence-trusted_federated_-aNwh6wSd/lib/python3.5/site-packages/tornado/locks.py'>,\n",
       " 'tornado.log': <module 'tornado.log' from '/home/edwardsb/.local/share/virtualenvs/spr_secure_intelligence-trusted_federated_-aNwh6wSd/lib/python3.5/site-packages/tornado/log.py'>,\n",
       " 'tornado.platform': <module 'tornado.platform' from '/home/edwardsb/.local/share/virtualenvs/spr_secure_intelligence-trusted_federated_-aNwh6wSd/lib/python3.5/site-packages/tornado/platform/__init__.py'>,\n",
       " 'tornado.platform.asyncio': <module 'tornado.platform.asyncio' from '/home/edwardsb/.local/share/virtualenvs/spr_secure_intelligence-trusted_federated_-aNwh6wSd/lib/python3.5/site-packages/tornado/platform/asyncio.py'>,\n",
       " 'tornado.queues': <module 'tornado.queues' from '/home/edwardsb/.local/share/virtualenvs/spr_secure_intelligence-trusted_federated_-aNwh6wSd/lib/python3.5/site-packages/tornado/queues.py'>,\n",
       " 'tornado.speedups': <module 'tornado.speedups' from '/home/edwardsb/.local/share/virtualenvs/spr_secure_intelligence-trusted_federated_-aNwh6wSd/lib/python3.5/site-packages/tornado/speedups.cpython-35m-x86_64-linux-gnu.so'>,\n",
       " 'tornado.util': <module 'tornado.util' from '/home/edwardsb/.local/share/virtualenvs/spr_secure_intelligence-trusted_federated_-aNwh6wSd/lib/python3.5/site-packages/tornado/util.py'>,\n",
       " 'traceback': <module 'traceback' from '/usr/lib/python3.5/traceback.py'>,\n",
       " 'traitlets': <module 'traitlets' from '/home/edwardsb/.local/share/virtualenvs/spr_secure_intelligence-trusted_federated_-aNwh6wSd/lib/python3.5/site-packages/traitlets/__init__.py'>,\n",
       " 'traitlets._version': <module 'traitlets._version' from '/home/edwardsb/.local/share/virtualenvs/spr_secure_intelligence-trusted_federated_-aNwh6wSd/lib/python3.5/site-packages/traitlets/_version.py'>,\n",
       " 'traitlets.config': <module 'traitlets.config' from '/home/edwardsb/.local/share/virtualenvs/spr_secure_intelligence-trusted_federated_-aNwh6wSd/lib/python3.5/site-packages/traitlets/config/__init__.py'>,\n",
       " 'traitlets.config.application': <module 'traitlets.config.application' from '/home/edwardsb/.local/share/virtualenvs/spr_secure_intelligence-trusted_federated_-aNwh6wSd/lib/python3.5/site-packages/traitlets/config/application.py'>,\n",
       " 'traitlets.config.configurable': <module 'traitlets.config.configurable' from '/home/edwardsb/.local/share/virtualenvs/spr_secure_intelligence-trusted_federated_-aNwh6wSd/lib/python3.5/site-packages/traitlets/config/configurable.py'>,\n",
       " 'traitlets.config.loader': <module 'traitlets.config.loader' from '/home/edwardsb/.local/share/virtualenvs/spr_secure_intelligence-trusted_federated_-aNwh6wSd/lib/python3.5/site-packages/traitlets/config/loader.py'>,\n",
       " 'traitlets.log': <module 'traitlets.log' from '/home/edwardsb/.local/share/virtualenvs/spr_secure_intelligence-trusted_federated_-aNwh6wSd/lib/python3.5/site-packages/traitlets/log.py'>,\n",
       " 'traitlets.traitlets': <module 'traitlets.traitlets' from '/home/edwardsb/.local/share/virtualenvs/spr_secure_intelligence-trusted_federated_-aNwh6wSd/lib/python3.5/site-packages/traitlets/traitlets.py'>,\n",
       " 'traitlets.utils': <module 'traitlets.utils' from '/home/edwardsb/.local/share/virtualenvs/spr_secure_intelligence-trusted_federated_-aNwh6wSd/lib/python3.5/site-packages/traitlets/utils/__init__.py'>,\n",
       " 'traitlets.utils.bunch': <module 'traitlets.utils.bunch' from '/home/edwardsb/.local/share/virtualenvs/spr_secure_intelligence-trusted_federated_-aNwh6wSd/lib/python3.5/site-packages/traitlets/utils/bunch.py'>,\n",
       " 'traitlets.utils.getargspec': <module 'traitlets.utils.getargspec' from '/home/edwardsb/.local/share/virtualenvs/spr_secure_intelligence-trusted_federated_-aNwh6wSd/lib/python3.5/site-packages/traitlets/utils/getargspec.py'>,\n",
       " 'traitlets.utils.importstring': <module 'traitlets.utils.importstring' from '/home/edwardsb/.local/share/virtualenvs/spr_secure_intelligence-trusted_federated_-aNwh6wSd/lib/python3.5/site-packages/traitlets/utils/importstring.py'>,\n",
       " 'traitlets.utils.sentinel': <module 'traitlets.utils.sentinel' from '/home/edwardsb/.local/share/virtualenvs/spr_secure_intelligence-trusted_federated_-aNwh6wSd/lib/python3.5/site-packages/traitlets/utils/sentinel.py'>,\n",
       " 'tty': <module 'tty' from '/usr/lib/python3.5/tty.py'>,\n",
       " 'types': <module 'types' from '/home/edwardsb/.local/share/virtualenvs/spr_secure_intelligence-trusted_federated_-aNwh6wSd/lib/python3.5/types.py'>,\n",
       " 'typing': <module 'typing' from '/usr/lib/python3.5/typing.py'>,\n",
       " 'typing.io': typing.io,\n",
       " 'typing.re': typing.re,\n",
       " 'unicodedata': <module 'unicodedata' (built-in)>,\n",
       " 'urllib': <module 'urllib' from '/usr/lib/python3.5/urllib/__init__.py'>,\n",
       " 'urllib.error': <module 'urllib.error' from '/usr/lib/python3.5/urllib/error.py'>,\n",
       " 'urllib.parse': <module 'urllib.parse' from '/usr/lib/python3.5/urllib/parse.py'>,\n",
       " 'urllib.request': <module 'urllib.request' from '/usr/lib/python3.5/urllib/request.py'>,\n",
       " 'urllib.response': <module 'urllib.response' from '/usr/lib/python3.5/urllib/response.py'>,\n",
       " 'uu': <module 'uu' from '/usr/lib/python3.5/uu.py'>,\n",
       " 'uuid': <module 'uuid' from '/usr/lib/python3.5/uuid.py'>,\n",
       " 'warnings': <module 'warnings' from '/home/edwardsb/.local/share/virtualenvs/spr_secure_intelligence-trusted_federated_-aNwh6wSd/lib/python3.5/warnings.py'>,\n",
       " 'wcwidth': <module 'wcwidth' from '/home/edwardsb/.local/share/virtualenvs/spr_secure_intelligence-trusted_federated_-aNwh6wSd/lib/python3.5/site-packages/wcwidth/__init__.py'>,\n",
       " 'wcwidth.table_wide': <module 'wcwidth.table_wide' from '/home/edwardsb/.local/share/virtualenvs/spr_secure_intelligence-trusted_federated_-aNwh6wSd/lib/python3.5/site-packages/wcwidth/table_wide.py'>,\n",
       " 'wcwidth.table_zero': <module 'wcwidth.table_zero' from '/home/edwardsb/.local/share/virtualenvs/spr_secure_intelligence-trusted_federated_-aNwh6wSd/lib/python3.5/site-packages/wcwidth/table_zero.py'>,\n",
       " 'wcwidth.wcwidth': <module 'wcwidth.wcwidth' from '/home/edwardsb/.local/share/virtualenvs/spr_secure_intelligence-trusted_federated_-aNwh6wSd/lib/python3.5/site-packages/wcwidth/wcwidth.py'>,\n",
       " 'weakref': <module 'weakref' from '/home/edwardsb/.local/share/virtualenvs/spr_secure_intelligence-trusted_federated_-aNwh6wSd/lib/python3.5/weakref.py'>,\n",
       " 'xml': <module 'xml' from '/usr/lib/python3.5/xml/__init__.py'>,\n",
       " 'xml.dom': <module 'xml.dom' from '/usr/lib/python3.5/xml/dom/__init__.py'>,\n",
       " 'xml.dom.NodeFilter': <module 'xml.dom.NodeFilter' from '/usr/lib/python3.5/xml/dom/NodeFilter.py'>,\n",
       " 'xml.dom.domreg': <module 'xml.dom.domreg' from '/usr/lib/python3.5/xml/dom/domreg.py'>,\n",
       " 'xml.dom.minicompat': <module 'xml.dom.minicompat' from '/usr/lib/python3.5/xml/dom/minicompat.py'>,\n",
       " 'xml.dom.minidom': <module 'xml.dom.minidom' from '/usr/lib/python3.5/xml/dom/minidom.py'>,\n",
       " 'xml.dom.xmlbuilder': <module 'xml.dom.xmlbuilder' from '/usr/lib/python3.5/xml/dom/xmlbuilder.py'>,\n",
       " 'zipimport': <module 'zipimport' (built-in)>,\n",
       " 'zlib': <module 'zlib' (built-in)>,\n",
       " 'zmq': <module 'zmq' from '/home/edwardsb/.local/share/virtualenvs/spr_secure_intelligence-trusted_federated_-aNwh6wSd/lib/python3.5/site-packages/zmq/__init__.py'>,\n",
       " 'zmq.backend': <module 'zmq.backend' from '/home/edwardsb/.local/share/virtualenvs/spr_secure_intelligence-trusted_federated_-aNwh6wSd/lib/python3.5/site-packages/zmq/backend/__init__.py'>,\n",
       " 'zmq.backend.cython': <module 'zmq.backend.cython' from '/home/edwardsb/.local/share/virtualenvs/spr_secure_intelligence-trusted_federated_-aNwh6wSd/lib/python3.5/site-packages/zmq/backend/cython/__init__.py'>,\n",
       " 'zmq.backend.cython._device': <module 'zmq.backend.cython._device' from '/home/edwardsb/.local/share/virtualenvs/spr_secure_intelligence-trusted_federated_-aNwh6wSd/lib/python3.5/site-packages/zmq/backend/cython/_device.cpython-35m-x86_64-linux-gnu.so'>,\n",
       " 'zmq.backend.cython._poll': <module 'zmq.backend.cython._poll' from '/home/edwardsb/.local/share/virtualenvs/spr_secure_intelligence-trusted_federated_-aNwh6wSd/lib/python3.5/site-packages/zmq/backend/cython/_poll.cpython-35m-x86_64-linux-gnu.so'>,\n",
       " 'zmq.backend.cython._proxy_steerable': <module 'zmq.backend.cython._proxy_steerable' from '/home/edwardsb/.local/share/virtualenvs/spr_secure_intelligence-trusted_federated_-aNwh6wSd/lib/python3.5/site-packages/zmq/backend/cython/_proxy_steerable.cpython-35m-x86_64-linux-gnu.so'>,\n",
       " 'zmq.backend.cython._version': <module 'zmq.backend.cython._version' from '/home/edwardsb/.local/share/virtualenvs/spr_secure_intelligence-trusted_federated_-aNwh6wSd/lib/python3.5/site-packages/zmq/backend/cython/_version.cpython-35m-x86_64-linux-gnu.so'>,\n",
       " 'zmq.backend.cython.constants': <module 'zmq.backend.cython.constants' from '/home/edwardsb/.local/share/virtualenvs/spr_secure_intelligence-trusted_federated_-aNwh6wSd/lib/python3.5/site-packages/zmq/backend/cython/constants.cpython-35m-x86_64-linux-gnu.so'>,\n",
       " 'zmq.backend.cython.context': <module 'zmq.backend.cython.context' from '/home/edwardsb/.local/share/virtualenvs/spr_secure_intelligence-trusted_federated_-aNwh6wSd/lib/python3.5/site-packages/zmq/backend/cython/context.cpython-35m-x86_64-linux-gnu.so'>,\n",
       " 'zmq.backend.cython.error': <module 'zmq.backend.cython.error' from '/home/edwardsb/.local/share/virtualenvs/spr_secure_intelligence-trusted_federated_-aNwh6wSd/lib/python3.5/site-packages/zmq/backend/cython/error.cpython-35m-x86_64-linux-gnu.so'>,\n",
       " 'zmq.backend.cython.message': <module 'zmq.backend.cython.message' from '/home/edwardsb/.local/share/virtualenvs/spr_secure_intelligence-trusted_federated_-aNwh6wSd/lib/python3.5/site-packages/zmq/backend/cython/message.cpython-35m-x86_64-linux-gnu.so'>,\n",
       " 'zmq.backend.cython.socket': <module 'zmq.backend.cython.socket' from '/home/edwardsb/.local/share/virtualenvs/spr_secure_intelligence-trusted_federated_-aNwh6wSd/lib/python3.5/site-packages/zmq/backend/cython/socket.cpython-35m-x86_64-linux-gnu.so'>,\n",
       " 'zmq.backend.cython.utils': <module 'zmq.backend.cython.utils' from '/home/edwardsb/.local/share/virtualenvs/spr_secure_intelligence-trusted_federated_-aNwh6wSd/lib/python3.5/site-packages/zmq/backend/cython/utils.cpython-35m-x86_64-linux-gnu.so'>,\n",
       " 'zmq.backend.select': <module 'zmq.backend.select' from '/home/edwardsb/.local/share/virtualenvs/spr_secure_intelligence-trusted_federated_-aNwh6wSd/lib/python3.5/site-packages/zmq/backend/select.py'>,\n",
       " 'zmq.error': <module 'zmq.error' from '/home/edwardsb/.local/share/virtualenvs/spr_secure_intelligence-trusted_federated_-aNwh6wSd/lib/python3.5/site-packages/zmq/error.py'>,\n",
       " 'zmq.eventloop': <module 'zmq.eventloop' from '/home/edwardsb/.local/share/virtualenvs/spr_secure_intelligence-trusted_federated_-aNwh6wSd/lib/python3.5/site-packages/zmq/eventloop/__init__.py'>,\n",
       " 'zmq.eventloop.ioloop': <module 'zmq.eventloop.ioloop' from '/home/edwardsb/.local/share/virtualenvs/spr_secure_intelligence-trusted_federated_-aNwh6wSd/lib/python3.5/site-packages/zmq/eventloop/ioloop.py'>,\n",
       " 'zmq.eventloop.zmqstream': <module 'zmq.eventloop.zmqstream' from '/home/edwardsb/.local/share/virtualenvs/spr_secure_intelligence-trusted_federated_-aNwh6wSd/lib/python3.5/site-packages/zmq/eventloop/zmqstream.py'>,\n",
       " 'zmq.sugar': <module 'zmq.sugar' from '/home/edwardsb/.local/share/virtualenvs/spr_secure_intelligence-trusted_federated_-aNwh6wSd/lib/python3.5/site-packages/zmq/sugar/__init__.py'>,\n",
       " 'zmq.sugar.attrsettr': <module 'zmq.sugar.attrsettr' from '/home/edwardsb/.local/share/virtualenvs/spr_secure_intelligence-trusted_federated_-aNwh6wSd/lib/python3.5/site-packages/zmq/sugar/attrsettr.py'>,\n",
       " 'zmq.sugar.constants': <module 'zmq.sugar.constants' from '/home/edwardsb/.local/share/virtualenvs/spr_secure_intelligence-trusted_federated_-aNwh6wSd/lib/python3.5/site-packages/zmq/sugar/constants.py'>,\n",
       " 'zmq.sugar.context': <module 'zmq.sugar.context' from '/home/edwardsb/.local/share/virtualenvs/spr_secure_intelligence-trusted_federated_-aNwh6wSd/lib/python3.5/site-packages/zmq/sugar/context.py'>,\n",
       " 'zmq.sugar.frame': <module 'zmq.sugar.frame' from '/home/edwardsb/.local/share/virtualenvs/spr_secure_intelligence-trusted_federated_-aNwh6wSd/lib/python3.5/site-packages/zmq/sugar/frame.py'>,\n",
       " 'zmq.sugar.poll': <module 'zmq.sugar.poll' from '/home/edwardsb/.local/share/virtualenvs/spr_secure_intelligence-trusted_federated_-aNwh6wSd/lib/python3.5/site-packages/zmq/sugar/poll.py'>,\n",
       " 'zmq.sugar.socket': <module 'zmq.sugar.socket' from '/home/edwardsb/.local/share/virtualenvs/spr_secure_intelligence-trusted_federated_-aNwh6wSd/lib/python3.5/site-packages/zmq/sugar/socket.py'>,\n",
       " 'zmq.sugar.stopwatch': <module 'zmq.sugar.stopwatch' from '/home/edwardsb/.local/share/virtualenvs/spr_secure_intelligence-trusted_federated_-aNwh6wSd/lib/python3.5/site-packages/zmq/sugar/stopwatch.py'>,\n",
       " 'zmq.sugar.tracker': <module 'zmq.sugar.tracker' from '/home/edwardsb/.local/share/virtualenvs/spr_secure_intelligence-trusted_federated_-aNwh6wSd/lib/python3.5/site-packages/zmq/sugar/tracker.py'>,\n",
       " 'zmq.sugar.version': <module 'zmq.sugar.version' from '/home/edwardsb/.local/share/virtualenvs/spr_secure_intelligence-trusted_federated_-aNwh6wSd/lib/python3.5/site-packages/zmq/sugar/version.py'>,\n",
       " 'zmq.utils': <module 'zmq.utils' from '/home/edwardsb/.local/share/virtualenvs/spr_secure_intelligence-trusted_federated_-aNwh6wSd/lib/python3.5/site-packages/zmq/utils/__init__.py'>,\n",
       " 'zmq.utils.constant_names': <module 'zmq.utils.constant_names' from '/home/edwardsb/.local/share/virtualenvs/spr_secure_intelligence-trusted_federated_-aNwh6wSd/lib/python3.5/site-packages/zmq/utils/constant_names.py'>,\n",
       " 'zmq.utils.garbage': <module 'zmq.utils.garbage' from '/home/edwardsb/.local/share/virtualenvs/spr_secure_intelligence-trusted_federated_-aNwh6wSd/lib/python3.5/site-packages/zmq/utils/garbage.py'>,\n",
       " 'zmq.utils.jsonapi': <module 'zmq.utils.jsonapi' from '/home/edwardsb/.local/share/virtualenvs/spr_secure_intelligence-trusted_federated_-aNwh6wSd/lib/python3.5/site-packages/zmq/utils/jsonapi.py'>,\n",
       " 'zmq.utils.strtypes': <module 'zmq.utils.strtypes' from '/home/edwardsb/.local/share/virtualenvs/spr_secure_intelligence-trusted_federated_-aNwh6wSd/lib/python3.5/site-packages/zmq/utils/strtypes.py'>}"
      ]
     },
     "execution_count": 9,
     "metadata": {},
     "output_type": "execute_result"
    }
   ],
   "source": [
    "sys.modules"
   ]
  },
  {
   "cell_type": "code",
   "execution_count": 7,
   "metadata": {},
   "outputs": [
    {
     "data": {
      "text/plain": [
       "['/home/edwardsb/.local/share/virtualenvs/spr_secure_intelligence-trusted_federated_-aNwh6wSd/lib/python35.zip',\n",
       " '/home/edwardsb/.local/share/virtualenvs/spr_secure_intelligence-trusted_federated_-aNwh6wSd/lib/python3.5',\n",
       " '/home/edwardsb/.local/share/virtualenvs/spr_secure_intelligence-trusted_federated_-aNwh6wSd/lib/python3.5/plat-x86_64-linux-gnu',\n",
       " '/home/edwardsb/.local/share/virtualenvs/spr_secure_intelligence-trusted_federated_-aNwh6wSd/lib/python3.5/lib-dynload',\n",
       " '/usr/lib/python3.5',\n",
       " '/usr/lib/python3.5/plat-x86_64-linux-gnu',\n",
       " '',\n",
       " '/home/edwardsb/.local/share/virtualenvs/spr_secure_intelligence-trusted_federated_-aNwh6wSd/lib/python3.5/site-packages',\n",
       " '/home/edwardsb/.local/share/virtualenvs/spr_secure_intelligence-trusted_federated_-aNwh6wSd/lib/python3.5/site-packages/tfedlrn-0.0.0-py3.5.egg',\n",
       " '/home/edwardsb/.local/share/virtualenvs/spr_secure_intelligence-trusted_federated_-aNwh6wSd/lib/python3.5/site-packages/IPython/extensions',\n",
       " '/home/edwardsb/.ipython']"
      ]
     },
     "execution_count": 7,
     "metadata": {},
     "output_type": "execute_result"
    }
   ],
   "source": [
    "import sys\n",
    "sys.path"
   ]
  },
  {
   "cell_type": "code",
   "execution_count": 2,
   "metadata": {},
   "outputs": [
    {
     "ename": "NameError",
     "evalue": "name 'Collaborator' is not defined",
     "output_type": "error",
     "traceback": [
      "\u001b[0;31m---------------------------------------------------------------------------\u001b[0m",
      "\u001b[0;31mNameError\u001b[0m                                 Traceback (most recent call last)",
      "\u001b[0;32m<ipython-input-2-d7eb95673098>\u001b[0m in \u001b[0;36m<module>\u001b[0;34m\u001b[0m\n\u001b[0;32m----> 1\u001b[0;31m \u001b[0mCollaborator\u001b[0m\u001b[0;34m(\u001b[0m\u001b[0;34m)\u001b[0m\u001b[0;34m\u001b[0m\u001b[0m\n\u001b[0m",
      "\u001b[0;31mNameError\u001b[0m: name 'Collaborator' is not defined"
     ]
    }
   ],
   "source": [
    "Collaborator()"
   ]
  },
  {
   "cell_type": "code",
   "execution_count": 3,
   "metadata": {},
   "outputs": [
    {
     "ename": "NameError",
     "evalue": "name 'Pytorch2DUNet' is not defined",
     "output_type": "error",
     "traceback": [
      "\u001b[0;31m---------------------------------------------------------------------------\u001b[0m",
      "\u001b[0;31mNameError\u001b[0m                                 Traceback (most recent call last)",
      "\u001b[0;32m<ipython-input-3-4abb9b5ed84d>\u001b[0m in \u001b[0;36m<module>\u001b[0;34m\u001b[0m\n\u001b[0;32m----> 1\u001b[0;31m \u001b[0mPytorch2DUNet\u001b[0m\u001b[0;34m(\u001b[0m\u001b[0;34m)\u001b[0m\u001b[0;34m\u001b[0m\u001b[0m\n\u001b[0m",
      "\u001b[0;31mNameError\u001b[0m: name 'Pytorch2DUNet' is not defined"
     ]
    }
   ],
   "source": [
    "Pytorch2DUNet()"
   ]
  },
  {
   "cell_type": "code",
   "execution_count": 7,
   "metadata": {},
   "outputs": [],
   "source": [
    "# Set here the type of optimizer that you want to test with"
   ]
  },
  {
   "cell_type": "code",
   "execution_count": 8,
   "metadata": {},
   "outputs": [],
   "source": [
    "this_optimizer = 'Adam'  # NOTE: If model below is chosen as PyTorchMNISTCNN, SGD will be used instead !!!! \n",
    "this_model = PyTorchMNISTCNN  # PyTorch2DUNet  "
   ]
  },
  {
   "cell_type": "code",
   "execution_count": null,
   "metadata": {},
   "outputs": [],
   "source": []
  },
  {
   "cell_type": "code",
   "execution_count": 9,
   "metadata": {},
   "outputs": [],
   "source": [
    "device = torch.device(\"cuda\")"
   ]
  },
  {
   "cell_type": "code",
   "execution_count": null,
   "metadata": {},
   "outputs": [],
   "source": []
  },
  {
   "cell_type": "code",
   "execution_count": 10,
   "metadata": {},
   "outputs": [],
   "source": [
    "#######################################################################################################"
   ]
  },
  {
   "cell_type": "code",
   "execution_count": 22,
   "metadata": {},
   "outputs": [],
   "source": [
    "###############         EXPLORING SAVING AND RESTORING OPTIMIZER and MODEL          ###################"
   ]
  },
  {
   "cell_type": "code",
   "execution_count": 23,
   "metadata": {},
   "outputs": [],
   "source": [
    "#######################################################################################################"
   ]
  },
  {
   "cell_type": "code",
   "execution_count": null,
   "metadata": {},
   "outputs": [],
   "source": []
  },
  {
   "cell_type": "code",
   "execution_count": null,
   "metadata": {},
   "outputs": [],
   "source": []
  },
  {
   "cell_type": "code",
   "execution_count": 24,
   "metadata": {},
   "outputs": [],
   "source": [
    "cnn = this_model(device=device, optimizer=this_optimizer)"
   ]
  },
  {
   "cell_type": "code",
   "execution_count": 25,
   "metadata": {},
   "outputs": [],
   "source": [
    "# Testing that the data used for training is reproducible by looking at its sum"
   ]
  },
  {
   "cell_type": "code",
   "execution_count": 26,
   "metadata": {},
   "outputs": [
    {
     "data": {
      "text/plain": [
       "(5.5569515, 'Sum of batch is data: -399206.46875, target: 86.0')"
      ]
     },
     "execution_count": 26,
     "metadata": {},
     "output_type": "execute_result"
    }
   ],
   "source": [
    "cnn.train_partial_epoch()"
   ]
  },
  {
   "cell_type": "code",
   "execution_count": 27,
   "metadata": {},
   "outputs": [
    {
     "data": {
      "text/plain": [
       "(5.556761, 'Sum of batch is data: -399206.46875, target: 86.0')"
      ]
     },
     "execution_count": 27,
     "metadata": {},
     "output_type": "execute_result"
    }
   ],
   "source": [
    "cnn.train_partial_epoch()"
   ]
  },
  {
   "cell_type": "code",
   "execution_count": 28,
   "metadata": {},
   "outputs": [],
   "source": [
    "# testing that validation is reproducible for a given model"
   ]
  },
  {
   "cell_type": "code",
   "execution_count": 29,
   "metadata": {},
   "outputs": [
    {
     "data": {
      "text/plain": [
       "0.03455506780301221"
      ]
     },
     "execution_count": 29,
     "metadata": {},
     "output_type": "execute_result"
    }
   ],
   "source": [
    "cnn.validate()"
   ]
  },
  {
   "cell_type": "code",
   "execution_count": 30,
   "metadata": {},
   "outputs": [
    {
     "data": {
      "text/plain": [
       "0.03455506780301221"
      ]
     },
     "execution_count": 30,
     "metadata": {},
     "output_type": "execute_result"
    }
   ],
   "source": [
    "cnn.validate()"
   ]
  },
  {
   "cell_type": "code",
   "execution_count": null,
   "metadata": {},
   "outputs": [],
   "source": []
  },
  {
   "cell_type": "code",
   "execution_count": 31,
   "metadata": {},
   "outputs": [],
   "source": [
    "############################################################################################\n",
    "# testing restoring model and optimizer, should result in training to the same validation ##\n",
    "############################################################################################"
   ]
  },
  {
   "cell_type": "code",
   "execution_count": 32,
   "metadata": {},
   "outputs": [
    {
     "data": {
      "text/plain": [
       "0.03455506780301221"
      ]
     },
     "execution_count": 32,
     "metadata": {},
     "output_type": "execute_result"
    }
   ],
   "source": [
    "initial_val = cnn.validate()\n",
    "initial_val"
   ]
  },
  {
   "cell_type": "code",
   "execution_count": 33,
   "metadata": {},
   "outputs": [],
   "source": [
    "# save model\n",
    "model_weights = cnn.get_tensor_dict()"
   ]
  },
  {
   "cell_type": "code",
   "execution_count": null,
   "metadata": {},
   "outputs": [],
   "source": []
  },
  {
   "cell_type": "code",
   "execution_count": null,
   "metadata": {},
   "outputs": [],
   "source": []
  },
  {
   "cell_type": "code",
   "execution_count": 34,
   "metadata": {},
   "outputs": [],
   "source": [
    "# train for some more, then see that model is different now"
   ]
  },
  {
   "cell_type": "code",
   "execution_count": 35,
   "metadata": {},
   "outputs": [
    {
     "data": {
      "text/plain": [
       "(5.55657, 'Sum of batch is data: -399206.46875, target: 86.0')"
      ]
     },
     "execution_count": 35,
     "metadata": {},
     "output_type": "execute_result"
    }
   ],
   "source": [
    "cnn.train_partial_epoch()"
   ]
  },
  {
   "cell_type": "code",
   "execution_count": 36,
   "metadata": {},
   "outputs": [
    {
     "data": {
      "text/plain": [
       "0.03455377297359519"
      ]
     },
     "execution_count": 36,
     "metadata": {},
     "output_type": "execute_result"
    }
   ],
   "source": [
    "# see valiation is not the same now\n",
    "after_train_val = cnn.validate()\n",
    "after_train_val"
   ]
  },
  {
   "cell_type": "code",
   "execution_count": null,
   "metadata": {},
   "outputs": [],
   "source": []
  },
  {
   "cell_type": "code",
   "execution_count": 37,
   "metadata": {},
   "outputs": [],
   "source": [
    "# restore saved model\n",
    "cnn.set_tensor_dict(model_weights)"
   ]
  },
  {
   "cell_type": "code",
   "execution_count": 38,
   "metadata": {},
   "outputs": [
    {
     "data": {
      "text/plain": [
       "True"
      ]
     },
     "execution_count": 38,
     "metadata": {},
     "output_type": "execute_result"
    }
   ],
   "source": [
    "# see validation is back to previously observed for saved model\n",
    "initial_val == cnn.validate()"
   ]
  },
  {
   "cell_type": "code",
   "execution_count": null,
   "metadata": {},
   "outputs": [],
   "source": []
  },
  {
   "cell_type": "code",
   "execution_count": 39,
   "metadata": {},
   "outputs": [],
   "source": [
    "# see if grabbing the full state again, it gives the same thing as we had saved before"
   ]
  },
  {
   "cell_type": "code",
   "execution_count": 40,
   "metadata": {},
   "outputs": [],
   "source": [
    "model_weights_2 = cnn.get_tensor_dict()"
   ]
  },
  {
   "cell_type": "code",
   "execution_count": 41,
   "metadata": {},
   "outputs": [
    {
     "data": {
      "text/plain": [
       "True"
      ]
     },
     "execution_count": 41,
     "metadata": {},
     "output_type": "execute_result"
    }
   ],
   "source": [
    "bool_array = np.array([])\n",
    "for key in model_weights:\n",
    "    if key.startswith('__opt_'):\n",
    "        for inner_key in model_weights[key]:\n",
    "            np.append(bool_array, model_weights[key][inner_key] == model_weights_2[key][inner_key])\n",
    "    else:\n",
    "        np.append(bool_array, [np.all(model_weights[key] == model_weights_2[key])])\n",
    "np.all(bool_array)\n"
   ]
  },
  {
   "cell_type": "code",
   "execution_count": null,
   "metadata": {},
   "outputs": [],
   "source": []
  },
  {
   "cell_type": "code",
   "execution_count": null,
   "metadata": {},
   "outputs": [],
   "source": []
  },
  {
   "cell_type": "code",
   "execution_count": 42,
   "metadata": {},
   "outputs": [],
   "source": [
    "# now train again and see you get back to the place you did before after running 'train_partial_epoch' once"
   ]
  },
  {
   "cell_type": "code",
   "execution_count": 43,
   "metadata": {},
   "outputs": [
    {
     "data": {
      "text/plain": [
       "(5.55657, 'Sum of batch is data: -399206.46875, target: 86.0')"
      ]
     },
     "execution_count": 43,
     "metadata": {},
     "output_type": "execute_result"
    }
   ],
   "source": [
    "cnn.train_partial_epoch()"
   ]
  },
  {
   "cell_type": "code",
   "execution_count": 44,
   "metadata": {},
   "outputs": [
    {
     "data": {
      "text/plain": [
       "True"
      ]
     },
     "execution_count": 44,
     "metadata": {},
     "output_type": "execute_result"
    }
   ],
   "source": [
    "after_train_val == cnn.validate()"
   ]
  },
  {
   "cell_type": "code",
   "execution_count": null,
   "metadata": {},
   "outputs": [],
   "source": []
  },
  {
   "cell_type": "code",
   "execution_count": 46,
   "metadata": {},
   "outputs": [],
   "source": [
    "#######################################"
   ]
  },
  {
   "cell_type": "code",
   "execution_count": 47,
   "metadata": {},
   "outputs": [],
   "source": [
    "# ----now test that restoring can happen across processes"
   ]
  },
  {
   "cell_type": "code",
   "execution_count": 48,
   "metadata": {},
   "outputs": [],
   "source": [
    "########################################"
   ]
  },
  {
   "cell_type": "code",
   "execution_count": 49,
   "metadata": {},
   "outputs": [],
   "source": [
    "# saving model to disk as well as initial_val and after_train_val"
   ]
  },
  {
   "cell_type": "code",
   "execution_count": 50,
   "metadata": {},
   "outputs": [],
   "source": [
    "import pickle\n",
    "filenames = ['saved_model.pkl', 'initial_val.pkl', 'after_train_val.pkl']\n",
    "objects = [model_weights, initial_val, after_train_val]\n",
    "for ob, filename in zip(objects, filenames):\n",
    "    with open(filename, 'wb') as file:\n",
    "        pickle.dump(ob, file)"
   ]
  },
  {
   "cell_type": "code",
   "execution_count": null,
   "metadata": {},
   "outputs": [],
   "source": []
  },
  {
   "cell_type": "code",
   "execution_count": null,
   "metadata": {},
   "outputs": [],
   "source": []
  },
  {
   "cell_type": "code",
   "execution_count": 41,
   "metadata": {},
   "outputs": [],
   "source": [
    "##############################################################################################################"
   ]
  },
  {
   "cell_type": "code",
   "execution_count": 42,
   "metadata": {},
   "outputs": [],
   "source": [
    "######                         !!!!!!!!!!!!!!!!  RESTART KERNEL HERE !!!!!!!!!!!                 #############"
   ]
  },
  {
   "cell_type": "code",
   "execution_count": 10,
   "metadata": {},
   "outputs": [],
   "source": [
    "######         (then run the top cells of this workbook up to device intialization)            ###############"
   ]
  },
  {
   "cell_type": "code",
   "execution_count": 11,
   "metadata": {},
   "outputs": [],
   "source": [
    "#############################################################################################################"
   ]
  },
  {
   "cell_type": "code",
   "execution_count": null,
   "metadata": {},
   "outputs": [],
   "source": []
  },
  {
   "cell_type": "code",
   "execution_count": null,
   "metadata": {},
   "outputs": [],
   "source": []
  },
  {
   "cell_type": "code",
   "execution_count": 11,
   "metadata": {},
   "outputs": [],
   "source": [
    "###### Then return to this point and run cells below ####################"
   ]
  },
  {
   "cell_type": "code",
   "execution_count": 12,
   "metadata": {},
   "outputs": [],
   "source": [
    "#initiate model and train a bit, then restore model from disk"
   ]
  },
  {
   "cell_type": "code",
   "execution_count": 13,
   "metadata": {},
   "outputs": [],
   "source": [
    "cnn = this_model(device, optimizer=this_optimizer)"
   ]
  },
  {
   "cell_type": "code",
   "execution_count": 14,
   "metadata": {},
   "outputs": [
    {
     "data": {
      "text/plain": [
       "(5.514941, 'Sum of batch is data: -399206.46875, target: 86.0')"
      ]
     },
     "execution_count": 14,
     "metadata": {},
     "output_type": "execute_result"
    }
   ],
   "source": [
    "cnn.train_partial_epoch()"
   ]
  },
  {
   "cell_type": "code",
   "execution_count": null,
   "metadata": {},
   "outputs": [],
   "source": []
  },
  {
   "cell_type": "code",
   "execution_count": 15,
   "metadata": {},
   "outputs": [],
   "source": [
    "# get model weights and validation values from disk"
   ]
  },
  {
   "cell_type": "code",
   "execution_count": 16,
   "metadata": {},
   "outputs": [],
   "source": [
    "filenames = ['saved_model.pkl', 'initial_val.pkl', 'after_train_val.pkl']\n",
    "object_names = ['model_weights', 'initial_val', 'after_train_val']\n",
    "for object_name, filename in zip(object_names, filenames):\n",
    "    with open(filename, 'rb') as file:\n",
    "        vars()[object_name] = pickle.load(file)\n",
    "\n"
   ]
  },
  {
   "cell_type": "code",
   "execution_count": null,
   "metadata": {},
   "outputs": [],
   "source": []
  },
  {
   "cell_type": "code",
   "execution_count": null,
   "metadata": {},
   "outputs": [],
   "source": []
  },
  {
   "cell_type": "code",
   "execution_count": 17,
   "metadata": {},
   "outputs": [
    {
     "data": {
      "text/plain": [
       "True"
      ]
     },
     "execution_count": 17,
     "metadata": {},
     "output_type": "execute_result"
    }
   ],
   "source": [
    "# see valiation is not the same as the ones before\n",
    "this_val = cnn.validate()\n",
    "initial_val != this_val and after_train_val != this_val "
   ]
  },
  {
   "cell_type": "code",
   "execution_count": null,
   "metadata": {},
   "outputs": [],
   "source": []
  },
  {
   "cell_type": "code",
   "execution_count": 18,
   "metadata": {},
   "outputs": [],
   "source": [
    "# restore model to saved values\n",
    "cnn.set_tensor_dict(model_weights)"
   ]
  },
  {
   "cell_type": "code",
   "execution_count": 19,
   "metadata": {},
   "outputs": [
    {
     "data": {
      "text/plain": [
       "True"
      ]
     },
     "execution_count": 19,
     "metadata": {},
     "output_type": "execute_result"
    }
   ],
   "source": [
    "# see validation is back to previously observed for saved model\n",
    "initial_val == cnn.validate()"
   ]
  },
  {
   "cell_type": "code",
   "execution_count": null,
   "metadata": {},
   "outputs": [],
   "source": []
  },
  {
   "cell_type": "code",
   "execution_count": 20,
   "metadata": {},
   "outputs": [],
   "source": [
    "# see if grabbing the full state again, it gives the same thing as we had saved before"
   ]
  },
  {
   "cell_type": "code",
   "execution_count": 21,
   "metadata": {},
   "outputs": [],
   "source": [
    "model_weights_2 = cnn.get_tensor_dict()"
   ]
  },
  {
   "cell_type": "code",
   "execution_count": 22,
   "metadata": {},
   "outputs": [
    {
     "data": {
      "text/plain": [
       "True"
      ]
     },
     "execution_count": 22,
     "metadata": {},
     "output_type": "execute_result"
    }
   ],
   "source": [
    "bool_array = np.array([])\n",
    "for key in model_weights:\n",
    "    if key.startswith('__opt_'):\n",
    "        for inner_key in model_weights[key]:\n",
    "            np.append(bool_array, model_weights[key][inner_key] == model_weights_2[key][inner_key])\n",
    "    else:\n",
    "        np.append(bool_array, [np.all(model_weights[key] == model_weights_2[key])])\n",
    "np.all(bool_array)\n"
   ]
  },
  {
   "cell_type": "code",
   "execution_count": null,
   "metadata": {},
   "outputs": [],
   "source": []
  },
  {
   "cell_type": "code",
   "execution_count": null,
   "metadata": {},
   "outputs": [],
   "source": []
  },
  {
   "cell_type": "code",
   "execution_count": 23,
   "metadata": {},
   "outputs": [
    {
     "data": {
      "text/plain": [
       "(5.55657, 'Sum of batch is data: -399206.46875, target: 86.0')"
      ]
     },
     "execution_count": 23,
     "metadata": {},
     "output_type": "execute_result"
    }
   ],
   "source": [
    "# now train to get a new validation, and see that it matches what we had after training once before\n",
    "cnn.train_partial_epoch()"
   ]
  },
  {
   "cell_type": "code",
   "execution_count": 24,
   "metadata": {},
   "outputs": [
    {
     "data": {
      "text/plain": [
       "True"
      ]
     },
     "execution_count": 24,
     "metadata": {},
     "output_type": "execute_result"
    }
   ],
   "source": [
    "\n",
    "after_train_val == cnn.validate()"
   ]
  },
  {
   "cell_type": "code",
   "execution_count": null,
   "metadata": {},
   "outputs": [],
   "source": []
  }
 ],
 "metadata": {
  "kernelspec": {
   "display_name": "tfedlearn",
   "language": "python",
   "name": "tfedlearn"
  },
  "language_info": {
   "codemirror_mode": {
    "name": "ipython",
    "version": 3
   },
   "file_extension": ".py",
   "mimetype": "text/x-python",
   "name": "python",
   "nbconvert_exporter": "python",
   "pygments_lexer": "ipython3",
   "version": "3.5.2"
  }
 },
 "nbformat": 4,
 "nbformat_minor": 2
}
