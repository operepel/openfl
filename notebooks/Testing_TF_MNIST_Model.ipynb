{
 "cells": [
  {
   "cell_type": "code",
   "execution_count": 1,
   "metadata": {},
   "outputs": [],
   "source": [
    "from tfedlrn.collaborator.tensorflowmodels.tensorflowmnistcnn \\\n",
    "  import TensorFlowMNISTCNN\n",
    "from tfedlrn.datasets import load_dataset"
   ]
  },
  {
   "cell_type": "code",
   "execution_count": 2,
   "metadata": {},
   "outputs": [],
   "source": [
    "import os\n",
    "os.environ['CUDA_VISIBLE_DEVICES']='5'"
   ]
  },
  {
   "cell_type": "code",
   "execution_count": 3,
   "metadata": {},
   "outputs": [],
   "source": [
    "X_train, y_train, X_test, y_test = load_dataset('mnist')\n",
    "X_train = X_train.reshape([-1, 28, 28, 1])\n",
    "X_test = X_test.reshape([-1, 28, 28, 1])"
   ]
  },
  {
   "cell_type": "code",
   "execution_count": 4,
   "metadata": {},
   "outputs": [],
   "source": [
    "model = TensorFlowMNISTCNN(X_train, y_train, X_test, y_test)"
   ]
  },
  {
   "cell_type": "code",
   "execution_count": 5,
   "metadata": {},
   "outputs": [
    {
     "name": "stdout",
     "output_type": "stream",
     "text": [
      "Trainin loss: 2.0983994007110596, and Validation: 0.7916\n",
      "Trainin loss: 1.6585255861282349, and Validation: 0.8374\n",
      "Trainin loss: 1.6245437860488892, and Validation: 0.8553000000000007\n",
      "Trainin loss: 1.6092472076416016, and Validation: 0.8673000000000011\n",
      "Trainin loss: 1.598552942276001, and Validation: 0.8701000000000013\n",
      "Trainin loss: 1.5920220613479614, and Validation: 0.8768000000000012\n",
      "Trainin loss: 1.587756872177124, and Validation: 0.8763000000000011\n",
      "Trainin loss: 1.5249570608139038, and Validation: 0.9700999999999983\n",
      "Trainin loss: 1.4980783462524414, and Validation: 0.974299999999998\n",
      "Trainin loss: 1.4934998750686646, and Validation: 0.9774999999999979\n"
     ]
    }
   ],
   "source": [
    "for i in range(10):\n",
    "    loss = model.train_epoch()\n",
    "    val_score = model.validate()\n",
    "    print(\"Trainin loss: {}, and Validation: {}\".format(loss, val_score))\n",
    "    "
   ]
  },
  {
   "cell_type": "code",
   "execution_count": null,
   "metadata": {},
   "outputs": [],
   "source": []
  }
 ],
 "metadata": {
  "kernelspec": {
   "display_name": "tfedlearn",
   "language": "python",
   "name": "tfedlearn"
  },
  "language_info": {
   "codemirror_mode": {
    "name": "ipython",
    "version": 3
   },
   "file_extension": ".py",
   "mimetype": "text/x-python",
   "name": "python",
   "nbconvert_exporter": "python",
   "pygments_lexer": "ipython3",
   "version": "3.5.2"
  }
 },
 "nbformat": 4,
 "nbformat_minor": 2
}
