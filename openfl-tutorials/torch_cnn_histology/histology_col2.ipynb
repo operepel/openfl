{
 "cells": [
  {
   "cell_type": "markdown",
   "metadata": {},
   "source": [
    "## 9. Make sure you have copied the workspace archive (.zip) from the aggregator node to the collaborator node."
   ]
  },
  {
   "cell_type": "code",
   "execution_count": 6,
   "metadata": {},
   "outputs": [
    {
     "name": "stdout",
     "output_type": "stream",
     "text": [
      "Requirement already satisfied: paramiko in /home/itrushkin/.virtualenvs/openfl/lib/python3.6/site-packages (2.7.2)\n",
      "Requirement already satisfied: scp in /home/itrushkin/.virtualenvs/openfl/lib/python3.6/site-packages (0.13.3)\n",
      "Requirement already satisfied: bcrypt>=3.1.3 in /home/itrushkin/.virtualenvs/openfl/lib/python3.6/site-packages (from paramiko) (3.2.0)\n",
      "Requirement already satisfied: cryptography>=2.5 in /home/itrushkin/.virtualenvs/openfl/lib/python3.6/site-packages (from paramiko) (3.2.1)\n",
      "Requirement already satisfied: pynacl>=1.0.1 in /home/itrushkin/.virtualenvs/openfl/lib/python3.6/site-packages (from paramiko) (1.4.0)\n",
      "Requirement already satisfied: six>=1.4.1 in /home/itrushkin/.virtualenvs/openfl/lib/python3.6/site-packages (from bcrypt>=3.1.3->paramiko) (1.15.0)\n",
      "Requirement already satisfied: cffi>=1.1 in /home/itrushkin/.virtualenvs/openfl/lib/python3.6/site-packages (from bcrypt>=3.1.3->paramiko) (1.14.3)\n",
      "Requirement already satisfied: pycparser in /home/itrushkin/.virtualenvs/openfl/lib/python3.6/site-packages (from cffi>=1.1->bcrypt>=3.1.3->paramiko) (2.20)\n",
      "\u001b[33mWARNING: You are using pip version 20.2.4; however, version 20.3.3 is available.\n",
      "You should consider upgrading via the '/home/itrushkin/.virtualenvs/openfl/bin/python -m pip install --upgrade pip' command.\u001b[0m\n",
      "Enter itrushki@nnlicv431.inn.intel.com password:········\n"
     ]
    }
   ],
   "source": [
    "!pip install paramiko scp\n",
    "\n",
    "from paramiko import SSHClient, AutoAddPolicy\n",
    "from scp import SCPClient\n",
    "from pathlib import Path\n",
    "from getpass import getpass\n",
    "import os\n",
    "\n",
    "afqdn = # 'domain.example.com'\n",
    "workspace_src = # '/path/to/workspace'\n",
    "archive_name = 'workspace.zip'\n",
    "folder_name = archive_name.split('.')[0]\n",
    "workspace_dst = # '/root/path/for/workspace'\n",
    "src_user = 'itrushki'\n",
    "\n",
    "\n",
    "ssh_client = SSHClient()\n",
    "ssh_client.set_missing_host_key_policy(AutoAddPolicy())\n",
    "ssh_client.connect(afqdn, username=src_user, password=getpass(f'Enter {src_user}@{afqdn} password:'))\n",
    "scp = SCPClient(ssh_client.get_transport())\n",
    "os.makedirs(workspace_dst, exist_ok=True)\n",
    "scp.get(str(Path(workspace_src) / archive_name), workspace_dst)"
   ]
  },
  {
   "cell_type": "markdown",
   "metadata": {},
   "source": [
    "# 11. Import the workspace archive."
   ]
  },
  {
   "cell_type": "code",
   "execution_count": 9,
   "metadata": {},
   "outputs": [
    {
     "name": "stdout",
     "output_type": "stream",
     "text": [
      "/home/itrushkin/col2\n",
      "\u001b[2J\u001b[1;1H\u001b[104m\u001b[1mIntel openfl - Secure Federated Learning at the Edge™                           \u001b[0m\n",
      "\n",
      "2020-12-21 12:43:47.989716: W tensorflow/stream_executor/platform/default/dso_loader.cc:59] Could not load dynamic library 'libcudart.so.10.1'; dlerror: libcudart.so.10.1: cannot open shared object file: No such file or directory\n",
      "2020-12-21 12:43:47.989741: I tensorflow/stream_executor/cuda/cudart_stub.cc:29] Ignore above cudart dlerror if you do not have a GPU set up on your machine.\n",
      "\u001b[33mWARNING: You are using pip version 20.2.4; however, version 20.3.3 is available.\n",
      "You should consider upgrading via the '/home/itrushkin/.virtualenvs/openfl/bin/python -m pip install --upgrade pip' command.\u001b[0m\n",
      "Workspace workspace.zip has been imported.\n",
      "You may need to copy your PKI certificates to join the federation.\n",
      "\n",
      " ✔️ OK\n",
      "/home/itrushkin/col2/workspace\n"
     ]
    }
   ],
   "source": [
    "%cd $workspace_dst\n",
    "!rm -rf $folder_name\n",
    "!fx workspace import --archive $archive_name\n",
    "%cd $folder_name"
   ]
  },
  {
   "cell_type": "markdown",
   "metadata": {},
   "source": [
    "## 13. Create a collaborator certificate request."
   ]
  },
  {
   "cell_type": "code",
   "execution_count": 11,
   "metadata": {},
   "outputs": [
    {
     "name": "stdout",
     "output_type": "stream",
     "text": [
      "\u001b[2J\u001b[1;1H\u001b[104m\u001b[1mIntel openfl - Secure Federated Learning at the Edge™                           \u001b[0m\n",
      "\n",
      "2020-12-21 12:44:07.494683: W tensorflow/stream_executor/platform/default/dso_loader.cc:59] Could not load dynamic library 'libcudart.so.10.1'; dlerror: libcudart.so.10.1: cannot open shared object file: No such file or directory\n",
      "2020-12-21 12:44:07.494710: I tensorflow/stream_executor/cuda/cudart_stub.cc:29] Ignore above cudart dlerror if you do not have a GPU set up on your machine.\n",
      "Creating COLLABORATOR certificate key pair with following settings: CN=\u001b[31mtwo\u001b[0m, SAN=\u001b[31mDNS:two\u001b[0m\n",
      "  Moving COLLABORATOR certificate to: \u001b[32mcert/col_two\u001b[0m\n",
      "Archive col_two_to_agg_cert_request.zip with certificate signing request created\n",
      "This file should be sent to the certificate authority (typically hosted by the aggregator) for signing\n",
      "\n",
      " ✔️ OK\n"
     ]
    }
   ],
   "source": [
    "!fx collaborator generate-cert-request -n two -d 2\n",
    "scp.put('col_two_to_agg_cert_request.zip', workspace_src)"
   ]
  },
  {
   "cell_type": "markdown",
   "metadata": {},
   "source": [
    "# Get signed certificates from the aggregator"
   ]
  },
  {
   "cell_type": "code",
   "execution_count": 12,
   "metadata": {},
   "outputs": [
    {
     "name": "stdout",
     "output_type": "stream",
     "text": [
      "\u001b[2J\u001b[1;1H\u001b[104m\u001b[1mIntel openfl - Secure Federated Learning at the Edge™                           \u001b[0m\n",
      "\n",
      "2020-12-21 12:55:38.623383: W tensorflow/stream_executor/platform/default/dso_loader.cc:59] Could not load dynamic library 'libcudart.so.10.1'; dlerror: libcudart.so.10.1: cannot open shared object file: No such file or directory\n",
      "2020-12-21 12:55:38.623408: I tensorflow/stream_executor/cuda/cudart_stub.cc:29] Ignore above cudart dlerror if you do not have a GPU set up on your machine.\n",
      "Certificate col_two.crt installed to PKI directory\n",
      "\n",
      " ✔️ OK\n"
     ]
    }
   ],
   "source": [
    "scp.get(str(Path(workspace_src) / 'agg_to_col_two_signed_cert.zip'), '.')\n",
    "!fx collaborator certify --import agg_to_col_two_signed_cert.zip"
   ]
  },
  {
   "cell_type": "markdown",
   "metadata": {},
   "source": [
    "# Choose a device"
   ]
  },
  {
   "cell_type": "code",
   "execution_count": 13,
   "metadata": {},
   "outputs": [
    {
     "name": "stdout",
     "output_type": "stream",
     "text": [
      "env: CUDA_VISIBLE_DEVICES=1\n"
     ]
    }
   ],
   "source": [
    "%env CUDA_VISIBLE_DEVICES=1"
   ]
  },
  {
   "cell_type": "markdown",
   "metadata": {},
   "source": [
    "# Run the collaborator process"
   ]
  },
  {
   "cell_type": "code",
   "execution_count": 14,
   "metadata": {},
   "outputs": [
    {
     "name": "stdout",
     "output_type": "stream",
     "text": [
      "\u001b[2J\u001b[1;1H\u001b[104m\u001b[1mIntel openfl - Secure Federated Learning at the Edge™                           \u001b[0m\n",
      "\n",
      "2020-12-21 12:55:40.735389: W tensorflow/stream_executor/platform/default/dso_loader.cc:59] Could not load dynamic library 'libcudart.so.10.1'; dlerror: libcudart.so.10.1: cannot open shared object file: No such file or directory\n",
      "2020-12-21 12:55:40.735411: I tensorflow/stream_executor/cuda/cudart_stub.cc:29] Ignore above cudart dlerror if you do not have a GPU set up on your machine.\n",
      "\u001b[2;36m[12:55:41]\u001b[0m\u001b[2;36m \u001b[0m\u001b[34mINFO\u001b[0m     Loading DEFAULTS for section \u001b[31maggregator\u001b[0m from file \u001b[31mplan/defaults/aggregator.yaml\u001b[0m.                                                  \u001b]8;id=1608544541.7574365-403795;file:///home/itrushkin/.virtualenvs/openfl/lib/python3.6/site-packages/openfl/federated/plan/plan.py\u001b\\\u001b[2mplan.py\u001b[0m\u001b]8;;\u001b\\\u001b[2m:87\u001b[0m\n",
      "\u001b[2;36m          \u001b[0m\u001b[2;36m \u001b[0m\u001b[34mINFO\u001b[0m     Loading DEFAULTS for section \u001b[31massigner\u001b[0m from file \u001b[31mplan/defaults/assigner.yaml\u001b[0m.                                                      \u001b]8;id=1608544541.759193-696165;file:///home/itrushkin/.virtualenvs/openfl/lib/python3.6/site-packages/openfl/federated/plan/plan.py\u001b\\\u001b[2mplan.py\u001b[0m\u001b]8;;\u001b\\\u001b[2m:87\u001b[0m\n",
      "\u001b[2;36m          \u001b[0m\u001b[2;36m \u001b[0m\u001b[34mINFO\u001b[0m     Loading DEFAULTS for section \u001b[31mcollaborator\u001b[0m from file \u001b[31mplan/defaults/collaborator.yaml\u001b[0m.                                              \u001b]8;id=1608544541.7613442-579533;file:///home/itrushkin/.virtualenvs/openfl/lib/python3.6/site-packages/openfl/federated/plan/plan.py\u001b\\\u001b[2mplan.py\u001b[0m\u001b]8;;\u001b\\\u001b[2m:87\u001b[0m\n",
      "\u001b[2;36m          \u001b[0m\u001b[2;36m \u001b[0m\u001b[34mINFO\u001b[0m     Loading DEFAULTS for section \u001b[31mnetwork\u001b[0m from file \u001b[31mplan/defaults/network.yaml\u001b[0m.                                                        \u001b]8;id=1608544541.7632153-355619;file:///home/itrushkin/.virtualenvs/openfl/lib/python3.6/site-packages/openfl/federated/plan/plan.py\u001b\\\u001b[2mplan.py\u001b[0m\u001b]8;;\u001b\\\u001b[2m:87\u001b[0m\n",
      "\u001b[2;36m          \u001b[0m\u001b[2;36m \u001b[0m\u001b[34mINFO\u001b[0m     Loading DEFAULTS for section \u001b[31mtask_runner\u001b[0m from file \u001b[31mplan/defaults/task_runner.yaml\u001b[0m.                                                \u001b]8;id=1608544541.7653046-600490;file:///home/itrushkin/.virtualenvs/openfl/lib/python3.6/site-packages/openfl/federated/plan/plan.py\u001b\\\u001b[2mplan.py\u001b[0m\u001b]8;;\u001b\\\u001b[2m:87\u001b[0m\n",
      "\u001b[2;36m          \u001b[0m\u001b[2;36m \u001b[0m\u001b[34mINFO\u001b[0m     Loading DEFAULTS for section \u001b[31mtasks\u001b[0m from file \u001b[31mplan/defaults/tasks_torch.yaml\u001b[0m.                                                      \u001b]8;id=1608544541.7668269-440415;file:///home/itrushkin/.virtualenvs/openfl/lib/python3.6/site-packages/openfl/federated/plan/plan.py\u001b\\\u001b[2mplan.py\u001b[0m\u001b]8;;\u001b\\\u001b[2m:87\u001b[0m\n",
      "\u001b[2;36m          \u001b[0m\u001b[2;36m \u001b[0m\u001b[34mINFO\u001b[0m     FL-Plan hash is \u001b[34m7da62f28238a0d52ab0db363b2fe9a46\u001b[0m                                                                                 \u001b]8;id=1608544541.7719252-879337;file:///home/itrushkin/.virtualenvs/openfl/lib/python3.6/site-packages/openfl/federated/plan/plan.py\u001b\\\u001b[2mplan.py\u001b[0m\u001b]8;;\u001b\\\u001b[2m:183\u001b[0m\n",
      "\u001b[2;36m          \u001b[0m\u001b[2;36m \u001b[0m\u001b[34mINFO\u001b[0m     FL-Plan hash is \u001b[34m7da62f28238a0d52ab0db363b2fe9a46\u001b[0m                                                                                 \u001b]8;id=1608544541.7758272-926489;file:///home/itrushkin/.virtualenvs/openfl/lib/python3.6/site-packages/openfl/federated/plan/plan.py\u001b\\\u001b[2mplan.py\u001b[0m\u001b]8;;\u001b\\\u001b[2m:183\u001b[0m\n",
      "\u001b[2;36m          \u001b[0m\u001b[2;36m \u001b[0m\u001b[34mINFO\u001b[0m     Parsing Federated Learning Plan : \u001b[32mSUCCESS\u001b[0m : \u001b[34mplan/plan.yaml\u001b[0m.                                                                      \u001b]8;id=1608544541.777268-12276;file:///home/itrushkin/.virtualenvs/openfl/lib/python3.6/site-packages/openfl/federated/plan/plan.py\u001b\\\u001b[2mplan.py\u001b[0m\u001b]8;;\u001b\\\u001b[2m:116\u001b[0m\n",
      "\u001b[2;36m          \u001b[0m\u001b[2;36m \u001b[0m\u001b[34mINFO\u001b[0m     aggregator:                                                                                                                      \u001b]8;id=1608544541.7884212-484361;file:///home/itrushkin/.virtualenvs/openfl/lib/python3.6/site-packages/openfl/federated/plan/plan.py\u001b\\\u001b[2mplan.py\u001b[0m\u001b]8;;\u001b\\\u001b[2m:117\u001b[0m\n",
      "                      defaults: plan/defaults/aggregator.yaml                                                                                                   \n",
      "                      settings:                                                                                                                                 \n",
      "                        best_state_path: save/torch_cnn_histology_best.pbuf                                                                                     \n",
      "                        db_store_rounds: \u001b[1;34m1\u001b[0m                                                                                                                      \n",
      "                        init_state_path: save/torch_cnn_histology_init.pbuf                                                                                     \n",
      "                        last_state_path: save/torch_cnn_histology_last.pbuf                                                                                     \n",
      "                        rounds_to_train: \u001b[1;34m20\u001b[0m                                                                                                                     \n",
      "                      template: openfl.component.Aggregator                                                                                                     \n",
      "                    assigner:                                                                                                                                   \n",
      "                      defaults: plan/defaults/assigner.yaml                                                                                                     \n",
      "                      settings:                                                                                                                                 \n",
      "                        task_groups:                                                                                                                            \n",
      "                        - name: train_and_validate                                                                                                              \n",
      "                          percentage: \u001b[1;34m1.0\u001b[0m                                                                                                                       \n",
      "                          tasks:                                                                                                                                \n",
      "                          - aggregated_model_validation                                                                                                         \n",
      "                          - train                                                                                                                               \n",
      "                          - locally_tuned_model_validation                                                                                                      \n",
      "                      template: openfl.component.RandomGroupedAssigner                                                                                          \n",
      "                    collaborator:                                                                                                                               \n",
      "                      defaults: plan/defaults/collaborator.yaml                                                                                                 \n",
      "                      settings:                                                                                                                                 \n",
      "                        db_store_rounds: \u001b[1;34m1\u001b[0m                                                                                                                      \n",
      "                        delta_updates: false                                                                                                                    \n",
      "                        epochs_per_round: \u001b[1;34m1.0\u001b[0m                                                                                                                   \n",
      "                        opt_treatment: RESET                                                                                                                    \n",
      "                        polling_interval: \u001b[1;34m4\u001b[0m                                                                                                                     \n",
      "                      template: openfl.component.Collaborator                                                                                                   \n",
      "                    data_loader:                                                                                                                                \n",
      "                      settings:                                                                                                                                 \n",
      "                        batch_size: \u001b[1;34m128\u001b[0m                                                                                                                         \n",
      "                        collaborator_count: \u001b[1;34m2\u001b[0m                                                                                                                   \n",
      "                        data_group_name: histology                                                                                                              \n",
      "                      template: code.pthistology_inmemory.PyTorchHistologyInMemory                                                                              \n",
      "                    network:                                                                                                                                    \n",
      "                      defaults: plan/defaults/network.yaml                                                                                                      \n",
      "                      settings:                                                                                                                                 \n",
      "                        agg_addr: nnlicv431.inn.intel.com                                                                                                       \n",
      "                        agg_port: \u001b[1;34m60714\u001b[0m                                                                                                                         \n",
      "                        cert_folder: cert                                                                                                                       \n",
      "                        disable_client_auth: false                                                                                                              \n",
      "                        disable_tls: false                                                                                                                      \n",
      "                        hash_salt: auto                                                                                                                         \n",
      "                      template: openfl.federation.Network                                                                                                       \n",
      "                    task_runner:                                                                                                                                \n",
      "                      defaults: plan/defaults/task_runner.yaml                                                                                                  \n",
      "                      settings: \u001b[1m{\u001b[0m\u001b[1m}\u001b[0m                                                                                                                              \n",
      "                      template: code.pt_cnn.PyTorchCNN                                                                                                          \n",
      "                    tasks:                                                                                                                                      \n",
      "                      aggregated_model_validation:                                                                                                              \n",
      "                        function: validate                                                                                                                      \n",
      "                        kwargs:                                                                                                                                 \n",
      "                          apply: global                                                                                                                         \n",
      "                          metrics:                                                                                                                              \n",
      "                          - acc                                                                                                                                 \n",
      "                      defaults: plan/defaults/tasks_torch.yaml                                                                                                  \n",
      "                      locally_tuned_model_validation:                                                                                                           \n",
      "                        function: validate                                                                                                                      \n",
      "                        kwargs:                                                                                                                                 \n",
      "                          apply: local                                                                                                                          \n",
      "                          metrics:                                                                                                                              \n",
      "                          - acc                                                                                                                                 \n",
      "                      settings: \u001b[1m{\u001b[0m\u001b[1m}\u001b[0m                                                                                                                              \n",
      "                      train:                                                                                                                                    \n",
      "                        function: train_batches                                                                                                                 \n",
      "                        kwargs:                                                                                                                                 \n",
      "                          metrics:                                                                                                                              \n",
      "                          - loss                                                                                                                                \n",
      "                                                                                                                                                                \n",
      "Data = {'one': '1', 'two': '2'}\n",
      "\u001b[2;36m          \u001b[0m\u001b[2;36m \u001b[0m\u001b[34mINFO\u001b[0m     🧿 Starting a Collaborator Service.                                                                                       \u001b]8;id=1608544541.7920544-925059;file:///home/itrushkin/.virtualenvs/openfl/lib/python3.6/site-packages/openfl/interface/collaborator.py\u001b\\\u001b[2mcollaborator.py\u001b[0m\u001b]8;;\u001b\\\u001b[2m:32\u001b[0m\n",
      "\u001b[2;36m          \u001b[0m\u001b[2;36m \u001b[0m\u001b[34mINFO\u001b[0m     Building \u001b[31m🡆\u001b[0m Object \u001b[31mPyTorchHistologyInMemory\u001b[0m from \u001b[31mcode.pthistology_inmemory\u001b[0m Module.                                                \u001b]8;id=1608544541.7935724-665172;file:///home/itrushkin/.virtualenvs/openfl/lib/python3.6/site-packages/openfl/federated/plan/plan.py\u001b\\\u001b[2mplan.py\u001b[0m\u001b]8;;\u001b\\\u001b[2m:147\u001b[0m\n",
      "\u001b[2;36m          \u001b[0m\u001b[2;36m \u001b[0m\u001b[34mINFO\u001b[0m     Settings \u001b[31m🡆\u001b[0m \u001b[1m{\u001b[0m\u001b[32m'batch_size'\u001b[0m: \u001b[1;34m128\u001b[0m, \u001b[32m'collaborator_count'\u001b[0m: \u001b[1;34m2\u001b[0m, \u001b[32m'data_group_name'\u001b[0m: \u001b[32m'histology'\u001b[0m, \u001b[32m'data_path'\u001b[0m: \u001b[32m'2'\u001b[0m\u001b[1m}\u001b[0m                        \u001b]8;id=1608544541.795101-177289;file:///home/itrushkin/.virtualenvs/openfl/lib/python3.6/site-packages/openfl/federated/plan/plan.py\u001b\\\u001b[2mplan.py\u001b[0m\u001b]8;;\u001b\\\u001b[2m:148\u001b[0m\n",
      "\u001b[2;36m          \u001b[0m\u001b[2;36m \u001b[0m\u001b[34mINFO\u001b[0m     Override \u001b[31m🡆\u001b[0m \u001b[1m{\u001b[0m\u001b[1m}\u001b[0m                                                                                                                    \u001b]8;id=1608544541.796498-87175;file:///home/itrushkin/.virtualenvs/openfl/lib/python3.6/site-packages/openfl/federated/plan/plan.py\u001b\\\u001b[2mplan.py\u001b[0m\u001b]8;;\u001b\\\u001b[2m:149\u001b[0m\n"
     ]
    },
    {
     "name": "stdout",
     "output_type": "stream",
     "text": [
      "\u001b[2;36m[12:55:43]\u001b[0m\u001b[2;36m \u001b[0m\u001b[34mINFO\u001b[0m     Histology > X_train Shape : \u001b[1m(\u001b[0m\u001b[1;34m1999\u001b[0m, \u001b[1;34m3\u001b[0m, \u001b[1;34m150\u001b[0m, \u001b[1;34m150\u001b[0m\u001b[1m)\u001b[0m                                                                       \u001b]8;id=1608544543.327014-720822;file:///home/itrushkin/col2/workspace/code/histology_utils.py\u001b\\\u001b[2mhistology_utils.py\u001b[0m\u001b]8;;\u001b\\\u001b[2m:136\u001b[0m\n",
      "\u001b[2;36m          \u001b[0m\u001b[2;36m \u001b[0m\u001b[34mINFO\u001b[0m     Histology > y_train Shape : \u001b[1m(\u001b[0m\u001b[1;34m1999\u001b[0m,\u001b[1m)\u001b[0m                                                                                   \u001b]8;id=1608544543.3284926-348201;file:///home/itrushkin/col2/workspace/code/histology_utils.py\u001b\\\u001b[2mhistology_utils.py\u001b[0m\u001b]8;;\u001b\\\u001b[2m:137\u001b[0m\n",
      "\u001b[2;36m          \u001b[0m\u001b[2;36m \u001b[0m\u001b[34mINFO\u001b[0m     Histology > Train Samples : \u001b[1;34m1999\u001b[0m                                                                                      \u001b]8;id=1608544543.3298-173285;file:///home/itrushkin/col2/workspace/code/histology_utils.py\u001b\\\u001b[2mhistology_utils.py\u001b[0m\u001b]8;;\u001b\\\u001b[2m:138\u001b[0m\n",
      "\u001b[2;36m          \u001b[0m\u001b[2;36m \u001b[0m\u001b[34mINFO\u001b[0m     Histology > Valid Samples : \u001b[1;34m499\u001b[0m                                                                                       \u001b]8;id=1608544543.3310463-697027;file:///home/itrushkin/col2/workspace/code/histology_utils.py\u001b\\\u001b[2mhistology_utils.py\u001b[0m\u001b]8;;\u001b\\\u001b[2m:139\u001b[0m\n",
      "\u001b[2;36m          \u001b[0m\u001b[2;36m \u001b[0m\u001b[34mINFO\u001b[0m     Building \u001b[31m🡆\u001b[0m Object \u001b[31mPyTorchCNN\u001b[0m from \u001b[31mcode.pt_cnn\u001b[0m Module.                                                                            \u001b]8;id=1608544543.33256-592112;file:///home/itrushkin/.virtualenvs/openfl/lib/python3.6/site-packages/openfl/federated/plan/plan.py\u001b\\\u001b[2mplan.py\u001b[0m\u001b]8;;\u001b\\\u001b[2m:147\u001b[0m\n",
      "\u001b[2;36m          \u001b[0m\u001b[2;36m \u001b[0m\u001b[34mINFO\u001b[0m     Settings \u001b[31m🡆\u001b[0m \u001b[1m{\u001b[0m\u001b[32m'data_loader'\u001b[0m: \u001b[1m<\u001b[0m\u001b[1;95mcode.pthistology_inmemory.PyTorchHistologyInMemory\u001b[0m\u001b[39m object at \u001b[0m\u001b[1;34m0x7effa88dbe80\u001b[0m\u001b[1m>\u001b[0m\u001b[1m}\u001b[0m                        \u001b]8;id=1608544543.3341253-964364;file:///home/itrushkin/.virtualenvs/openfl/lib/python3.6/site-packages/openfl/federated/plan/plan.py\u001b\\\u001b[2mplan.py\u001b[0m\u001b]8;;\u001b\\\u001b[2m:148\u001b[0m\n",
      "\u001b[2;36m          \u001b[0m\u001b[2;36m \u001b[0m\u001b[34mINFO\u001b[0m     Override \u001b[31m🡆\u001b[0m \u001b[1m{\u001b[0m\u001b[32m'defaults'\u001b[0m: \u001b[32m'plan/defaults/task_runner.yaml'\u001b[0m\u001b[1m}\u001b[0m                                                                        \u001b]8;id=1608544543.3355-32397;file:///home/itrushkin/.virtualenvs/openfl/lib/python3.6/site-packages/openfl/federated/plan/plan.py\u001b\\\u001b[2mplan.py\u001b[0m\u001b]8;;\u001b\\\u001b[2m:149\u001b[0m\n",
      "PyTorchCNN(\n",
      "  (conv1): Conv2d(3, 16, kernel_size=(3, 3), stride=(1, 1), padding=(1, 1))\n",
      "  (conv2): Conv2d(16, 32, kernel_size=(3, 3), stride=(1, 1), padding=(1, 1))\n",
      "  (conv3): Conv2d(32, 64, kernel_size=(3, 3), stride=(1, 1), padding=(1, 1))\n",
      "  (conv4): Conv2d(64, 128, kernel_size=(3, 3), stride=(1, 1), padding=(1, 1))\n",
      "  (conv5): Conv2d(160, 256, kernel_size=(3, 3), stride=(1, 1), padding=(1, 1))\n",
      "  (conv6): Conv2d(256, 512, kernel_size=(3, 3), stride=(1, 1), padding=(1, 1))\n",
      "  (conv7): Conv2d(672, 256, kernel_size=(3, 3), stride=(1, 1), padding=(1, 1))\n",
      "  (conv8): Conv2d(256, 512, kernel_size=(3, 3), stride=(1, 1), padding=(1, 1))\n",
      "  (fc1): Linear(in_features=95904, out_features=128, bias=True)\n",
      "  (fc2): Linear(in_features=128, out_features=8, bias=True)\n",
      ")\n",
      "\u001b[2;36m[12:55:45]\u001b[0m\u001b[2;36m \u001b[0m\u001b[31mWARNING\u001b[0m  tried to remove tensor: __opt_state_needed not present in the tensor dict                                                        \u001b]8;id=1608544545.4103065-480095;file:///home/itrushkin/.virtualenvs/openfl/lib/python3.6/site-packages/openfl/utilities/utils.py\u001b\\\u001b[2mutils.py\u001b[0m\u001b]8;;\u001b\\\u001b[2m:78\u001b[0m\n",
      "\u001b[2;36m          \u001b[0m\u001b[2;36m \u001b[0m\u001b[34mINFO\u001b[0m     Building \u001b[31m🡆\u001b[0m Object \u001b[31mNoCompressionPipeline\u001b[0m from \u001b[31mopenfl.pipelines\u001b[0m Module.                                                            \u001b]8;id=1608544545.4129248-604292;file:///home/itrushkin/.virtualenvs/openfl/lib/python3.6/site-packages/openfl/federated/plan/plan.py\u001b\\\u001b[2mplan.py\u001b[0m\u001b]8;;\u001b\\\u001b[2m:147\u001b[0m\n",
      "\u001b[2;36m          \u001b[0m\u001b[2;36m \u001b[0m\u001b[34mINFO\u001b[0m     Settings \u001b[31m🡆\u001b[0m \u001b[1m{\u001b[0m\u001b[1m}\u001b[0m                                                                                                                    \u001b]8;id=1608544545.4143312-455045;file:///home/itrushkin/.virtualenvs/openfl/lib/python3.6/site-packages/openfl/federated/plan/plan.py\u001b\\\u001b[2mplan.py\u001b[0m\u001b]8;;\u001b\\\u001b[2m:148\u001b[0m\n",
      "\u001b[2;36m          \u001b[0m\u001b[2;36m \u001b[0m\u001b[34mINFO\u001b[0m     Override \u001b[31m🡆\u001b[0m \u001b[1m{\u001b[0m\u001b[1m}\u001b[0m                                                                                                                    \u001b]8;id=1608544545.4157279-16574;file:///home/itrushkin/.virtualenvs/openfl/lib/python3.6/site-packages/openfl/federated/plan/plan.py\u001b\\\u001b[2mplan.py\u001b[0m\u001b]8;;\u001b\\\u001b[2m:149\u001b[0m\n",
      "\u001b[2;36m          \u001b[0m\u001b[2;36m \u001b[0m\u001b[34mINFO\u001b[0m     Building \u001b[31m🡆\u001b[0m Object \u001b[31mCollaborator\u001b[0m from \u001b[31mopenfl.component\u001b[0m Module.                                                                     \u001b]8;id=1608544545.4205077-404377;file:///home/itrushkin/.virtualenvs/openfl/lib/python3.6/site-packages/openfl/federated/plan/plan.py\u001b\\\u001b[2mplan.py\u001b[0m\u001b]8;;\u001b\\\u001b[2m:147\u001b[0m\n",
      "\u001b[2;36m          \u001b[0m\u001b[2;36m \u001b[0m\u001b[34mINFO\u001b[0m     Settings \u001b[31m🡆\u001b[0m \u001b[1m{\u001b[0m\u001b[32m'opt_treatment'\u001b[0m: \u001b[32m'RESET'\u001b[0m, \u001b[32m'delta_updates'\u001b[0m: \u001b[3;91mFalse\u001b[0m, \u001b[32m'db_store_rounds'\u001b[0m: \u001b[1;34m1\u001b[0m, \u001b[32m'epochs_per_round'\u001b[0m: \u001b[1;34m1.0\u001b[0m, \u001b[32m'polling_interval'\u001b[0m: \u001b]8;id=1608544545.427614-979231;file:///home/itrushkin/.virtualenvs/openfl/lib/python3.6/site-packages/openfl/federated/plan/plan.py\u001b\\\u001b[2mplan.py\u001b[0m\u001b]8;;\u001b\\\u001b[2m:148\u001b[0m\n",
      "                    \u001b[1;34m4\u001b[0m, \u001b[32m'collaborator_name'\u001b[0m: \u001b[32m'two'\u001b[0m, \u001b[32m'aggregator_uuid'\u001b[0m: \u001b[32m'aggregator_plan.yaml_7da62f28'\u001b[0m, \u001b[32m'federation_uuid'\u001b[0m: \u001b[32m'plan.yaml_7da62f28'\u001b[0m,                 \n",
      "                    \u001b[32m'task_runner'\u001b[0m: PyTorchCNN\u001b[1m(\u001b[0m                                                                                                                  \n",
      "                      \u001b[1m(\u001b[0mconv1\u001b[1m)\u001b[0m: Conv2d\u001b[1m(\u001b[0m\u001b[1;34m3\u001b[0m, \u001b[1;34m16\u001b[0m, \u001b[33mkernel_size\u001b[0m=\u001b[1m(\u001b[0m\u001b[1;34m3\u001b[0m, \u001b[1;34m3\u001b[0m\u001b[1m)\u001b[0m, \u001b[33mstride\u001b[0m=\u001b[1m(\u001b[0m\u001b[1;34m1\u001b[0m, \u001b[1;34m1\u001b[0m\u001b[1m)\u001b[0m, \u001b[33mpadding\u001b[0m=\u001b[1m(\u001b[0m\u001b[1;34m1\u001b[0m, \u001b[1;34m1\u001b[0m\u001b[1m)\u001b[0m\u001b[1m)\u001b[0m                                                                 \n",
      "                      \u001b[1m(\u001b[0mconv2\u001b[1m)\u001b[0m: Conv2d\u001b[1m(\u001b[0m\u001b[1;34m16\u001b[0m, \u001b[1;34m32\u001b[0m, \u001b[33mkernel_size\u001b[0m=\u001b[1m(\u001b[0m\u001b[1;34m3\u001b[0m, \u001b[1;34m3\u001b[0m\u001b[1m)\u001b[0m, \u001b[33mstride\u001b[0m=\u001b[1m(\u001b[0m\u001b[1;34m1\u001b[0m, \u001b[1;34m1\u001b[0m\u001b[1m)\u001b[0m, \u001b[33mpadding\u001b[0m=\u001b[1m(\u001b[0m\u001b[1;34m1\u001b[0m, \u001b[1;34m1\u001b[0m\u001b[1m)\u001b[0m\u001b[1m)\u001b[0m                                                                \n",
      "                      \u001b[1m(\u001b[0mconv3\u001b[1m)\u001b[0m: Conv2d\u001b[1m(\u001b[0m\u001b[1;34m32\u001b[0m, \u001b[1;34m64\u001b[0m, \u001b[33mkernel_size\u001b[0m=\u001b[1m(\u001b[0m\u001b[1;34m3\u001b[0m, \u001b[1;34m3\u001b[0m\u001b[1m)\u001b[0m, \u001b[33mstride\u001b[0m=\u001b[1m(\u001b[0m\u001b[1;34m1\u001b[0m, \u001b[1;34m1\u001b[0m\u001b[1m)\u001b[0m, \u001b[33mpadding\u001b[0m=\u001b[1m(\u001b[0m\u001b[1;34m1\u001b[0m, \u001b[1;34m1\u001b[0m\u001b[1m)\u001b[0m\u001b[1m)\u001b[0m                                                                \n",
      "                      \u001b[1m(\u001b[0mconv4\u001b[1m)\u001b[0m: Conv2d\u001b[1m(\u001b[0m\u001b[1;34m64\u001b[0m, \u001b[1;34m128\u001b[0m, \u001b[33mkernel_size\u001b[0m=\u001b[1m(\u001b[0m\u001b[1;34m3\u001b[0m, \u001b[1;34m3\u001b[0m\u001b[1m)\u001b[0m, \u001b[33mstride\u001b[0m=\u001b[1m(\u001b[0m\u001b[1;34m1\u001b[0m, \u001b[1;34m1\u001b[0m\u001b[1m)\u001b[0m, \u001b[33mpadding\u001b[0m=\u001b[1m(\u001b[0m\u001b[1;34m1\u001b[0m, \u001b[1;34m1\u001b[0m\u001b[1m)\u001b[0m\u001b[1m)\u001b[0m                                                               \n",
      "                      \u001b[1m(\u001b[0mconv5\u001b[1m)\u001b[0m: Conv2d\u001b[1m(\u001b[0m\u001b[1;34m160\u001b[0m, \u001b[1;34m256\u001b[0m, \u001b[33mkernel_size\u001b[0m=\u001b[1m(\u001b[0m\u001b[1;34m3\u001b[0m, \u001b[1;34m3\u001b[0m\u001b[1m)\u001b[0m, \u001b[33mstride\u001b[0m=\u001b[1m(\u001b[0m\u001b[1;34m1\u001b[0m, \u001b[1;34m1\u001b[0m\u001b[1m)\u001b[0m, \u001b[33mpadding\u001b[0m=\u001b[1m(\u001b[0m\u001b[1;34m1\u001b[0m, \u001b[1;34m1\u001b[0m\u001b[1m)\u001b[0m\u001b[1m)\u001b[0m                                                              \n",
      "                      \u001b[1m(\u001b[0mconv6\u001b[1m)\u001b[0m: Conv2d\u001b[1m(\u001b[0m\u001b[1;34m256\u001b[0m, \u001b[1;34m512\u001b[0m, \u001b[33mkernel_size\u001b[0m=\u001b[1m(\u001b[0m\u001b[1;34m3\u001b[0m, \u001b[1;34m3\u001b[0m\u001b[1m)\u001b[0m, \u001b[33mstride\u001b[0m=\u001b[1m(\u001b[0m\u001b[1;34m1\u001b[0m, \u001b[1;34m1\u001b[0m\u001b[1m)\u001b[0m, \u001b[33mpadding\u001b[0m=\u001b[1m(\u001b[0m\u001b[1;34m1\u001b[0m, \u001b[1;34m1\u001b[0m\u001b[1m)\u001b[0m\u001b[1m)\u001b[0m                                                              \n",
      "                      \u001b[1m(\u001b[0mconv7\u001b[1m)\u001b[0m: Conv2d\u001b[1m(\u001b[0m\u001b[1;34m672\u001b[0m, \u001b[1;34m256\u001b[0m, \u001b[33mkernel_size\u001b[0m=\u001b[1m(\u001b[0m\u001b[1;34m3\u001b[0m, \u001b[1;34m3\u001b[0m\u001b[1m)\u001b[0m, \u001b[33mstride\u001b[0m=\u001b[1m(\u001b[0m\u001b[1;34m1\u001b[0m, \u001b[1;34m1\u001b[0m\u001b[1m)\u001b[0m, \u001b[33mpadding\u001b[0m=\u001b[1m(\u001b[0m\u001b[1;34m1\u001b[0m, \u001b[1;34m1\u001b[0m\u001b[1m)\u001b[0m\u001b[1m)\u001b[0m                                                              \n",
      "                      \u001b[1m(\u001b[0mconv8\u001b[1m)\u001b[0m: Conv2d\u001b[1m(\u001b[0m\u001b[1;34m256\u001b[0m, \u001b[1;34m512\u001b[0m, \u001b[33mkernel_size\u001b[0m=\u001b[1m(\u001b[0m\u001b[1;34m3\u001b[0m, \u001b[1;34m3\u001b[0m\u001b[1m)\u001b[0m, \u001b[33mstride\u001b[0m=\u001b[1m(\u001b[0m\u001b[1;34m1\u001b[0m, \u001b[1;34m1\u001b[0m\u001b[1m)\u001b[0m, \u001b[33mpadding\u001b[0m=\u001b[1m(\u001b[0m\u001b[1;34m1\u001b[0m, \u001b[1;34m1\u001b[0m\u001b[1m)\u001b[0m\u001b[1m)\u001b[0m                                                              \n",
      "                      \u001b[1m(\u001b[0mfc1\u001b[1m)\u001b[0m: Linear\u001b[1m(\u001b[0m\u001b[33min_features\u001b[0m=\u001b[1;34m95904\u001b[0m, \u001b[33mout_features\u001b[0m=\u001b[1;34m128\u001b[0m, \u001b[33mbias\u001b[0m=\u001b[3;92mTrue\u001b[0m\u001b[1m)\u001b[0m                                                                             \n",
      "                      \u001b[1m(\u001b[0mfc2\u001b[1m)\u001b[0m: Linear\u001b[1m(\u001b[0m\u001b[33min_features\u001b[0m=\u001b[1;34m128\u001b[0m, \u001b[33mout_features\u001b[0m=\u001b[1;34m8\u001b[0m, \u001b[33mbias\u001b[0m=\u001b[3;92mTrue\u001b[0m\u001b[1m)\u001b[0m                                                                                 \n",
      "                      \u001b[1m(\u001b[0mloss_fn\u001b[1m)\u001b[0m: CrossEntropyLoss\u001b[1m(\u001b[0m\u001b[1m)\u001b[0m                                                                                                             \n",
      "                    \u001b[1m)\u001b[0m, \u001b[32m'tensor_pipe'\u001b[0m: \u001b[1m<\u001b[0m\u001b[1;95mopenfl.pipelines.no_compression_pipeline.NoCompressionPipeline\u001b[0m\u001b[39m object at \u001b[0m\u001b[1;34m0x7effa07d8b00\u001b[0m\u001b[1m>\u001b[0m, \u001b[32m'task_config'\u001b[0m:                 \n",
      "                    \u001b[1m{\u001b[0m\u001b[32m'aggregated_model_validation'\u001b[0m: \u001b[1m{\u001b[0m\u001b[32m'function'\u001b[0m: \u001b[32m'validate'\u001b[0m, \u001b[32m'kwargs'\u001b[0m: \u001b[1m{\u001b[0m\u001b[32m'apply'\u001b[0m: \u001b[32m'global'\u001b[0m, \u001b[32m'metrics'\u001b[0m: \u001b[1m[\u001b[0m\u001b[32m'acc'\u001b[0m\u001b[1m]\u001b[0m\u001b[1m}\u001b[0m\u001b[1m}\u001b[0m,                                \n",
      "                    \u001b[32m'locally_tuned_model_validation'\u001b[0m: \u001b[1m{\u001b[0m\u001b[32m'function'\u001b[0m: \u001b[32m'validate'\u001b[0m, \u001b[32m'kwargs'\u001b[0m: \u001b[1m{\u001b[0m\u001b[32m'apply'\u001b[0m: \u001b[32m'local'\u001b[0m, \u001b[32m'metrics'\u001b[0m: \u001b[1m[\u001b[0m\u001b[32m'acc'\u001b[0m\u001b[1m]\u001b[0m\u001b[1m}\u001b[0m\u001b[1m}\u001b[0m, \u001b[32m'train'\u001b[0m:                      \n",
      "                    \u001b[1m{\u001b[0m\u001b[32m'function'\u001b[0m: \u001b[32m'train_batches'\u001b[0m, \u001b[32m'kwargs'\u001b[0m: \u001b[1m{\u001b[0m\u001b[32m'metrics'\u001b[0m: \u001b[1m[\u001b[0m\u001b[32m'loss'\u001b[0m\u001b[1m]\u001b[0m\u001b[1m}\u001b[0m\u001b[1m}\u001b[0m, \u001b[32m'defaults'\u001b[0m: \u001b[32m'plan/defaults/tasks_torch.yaml'\u001b[0m, \u001b[32m'settings'\u001b[0m: \u001b[1m{\u001b[0m\u001b[1m}\u001b[0m\u001b[1m}\u001b[0m,              \n",
      "                    \u001b[32m'client'\u001b[0m: \u001b[1m<\u001b[0m\u001b[1;95mopenfl.transport.grpc.client.CollaboratorGRPCClient\u001b[0m\u001b[39m object at \u001b[0m\u001b[1;34m0x7effa07d8e80\u001b[0m\u001b[1m>\u001b[0m\u001b[1m}\u001b[0m                                                   \n",
      "\u001b[2;36m          \u001b[0m\u001b[2;36m \u001b[0m\u001b[34mINFO\u001b[0m     Override \u001b[31m🡆\u001b[0m \u001b[1m{\u001b[0m\u001b[32m'defaults'\u001b[0m: \u001b[32m'plan/defaults/collaborator.yaml'\u001b[0m\u001b[1m}\u001b[0m                                                                       \u001b]8;id=1608544545.4296541-89934;file:///home/itrushkin/.virtualenvs/openfl/lib/python3.6/site-packages/openfl/federated/plan/plan.py\u001b\\\u001b[2mplan.py\u001b[0m\u001b]8;;\u001b\\\u001b[2m:149\u001b[0m\n",
      "\u001b[2;36m          \u001b[0m\u001b[2;36m \u001b[0m\u001b[34mINFO\u001b[0m     Waiting for tasks\u001b[33m...\u001b[0m                                                                                                     \u001b]8;id=1608544545.4348164-228250;file:///home/itrushkin/.virtualenvs/openfl/lib/python3.6/site-packages/openfl/component/collaborator/collaborator.py\u001b\\\u001b[2mcollaborator.py\u001b[0m\u001b]8;;\u001b\\\u001b[2m:167\u001b[0m\n"
     ]
    },
    {
     "name": "stdout",
     "output_type": "stream",
     "text": [
      "\u001b[2;36m          \u001b[0m\u001b[2;36m \u001b[0m\u001b[34mINFO\u001b[0m     Received the following tasks: \u001b[1m[\u001b[0m\u001b[32m'aggregated_model_validation'\u001b[0m, \u001b[32m'train'\u001b[0m, \u001b[32m'locally_tuned_model_validation'\u001b[0m\u001b[1m]\u001b[0m                 \u001b]8;id=1608544545.6816912-46451;file:///home/itrushkin/.virtualenvs/openfl/lib/python3.6/site-packages/openfl/component/collaborator/collaborator.py\u001b\\\u001b[2mcollaborator.py\u001b[0m\u001b]8;;\u001b\\\u001b[2m:137\u001b[0m\n",
      "/home/itrushkin/.virtualenvs/openfl/lib/python3.6/site-packages/openfl/federated/task/runner_pt.py:236: UserWarning: The given NumPy array is not writeable, and PyTorch does not support non-writeable tensors. This means you can write to the underlying (supposedly non-writeable) NumPy array using the tensor. You may want to copy the array to protect its data or make it writeable before converting it to a tensor. This type of warning will be suppressed for the rest of this program. (Triggered internally at  /pytorch/torch/csrc/utils/tensor_numpy.cpp:141.)\n",
      "  new_state[k] = pt.from_numpy(tensor_dict.pop(k)).to(device)\n",
      "\u001b[2;36m[12:55:54]\u001b[0m\u001b[2;36m \u001b[0m\u001b[34mINFO\u001b[0m     Sending metric for task aggregated_model_validation, round number \u001b[1;34m0\u001b[0m: acc        \u001b[1;34m0.12625250501002003\u001b[0m                      \u001b]8;id=1608544554.4309602-209121;file:///home/itrushkin/.virtualenvs/openfl/lib/python3.6/site-packages/openfl/component/collaborator/collaborator.py\u001b\\\u001b[2mcollaborator.py\u001b[0m\u001b]8;;\u001b\\\u001b[2m:324\u001b[0m\n",
      "train epoch: 16it [00:04,  3.34it/s]\n",
      "\u001b[2;36m[12:55:59]\u001b[0m\u001b[2;36m \u001b[0m\u001b[34mINFO\u001b[0m     Sending metric for task train, round number \u001b[1;34m0\u001b[0m: CrossEntropyLoss \u001b[1;34m1.9138833284378052\u001b[0m                                       \u001b]8;id=1608544559.5984957-3142;file:///home/itrushkin/.virtualenvs/openfl/lib/python3.6/site-packages/openfl/component/collaborator/collaborator.py\u001b\\\u001b[2mcollaborator.py\u001b[0m\u001b]8;;\u001b\\\u001b[2m:324\u001b[0m\n",
      "\u001b[2;36m[12:56:09]\u001b[0m\u001b[2;36m \u001b[0m\u001b[34mINFO\u001b[0m     Sending metric for task locally_tuned_model_validation, round number \u001b[1;34m0\u001b[0m: acc     \u001b[1;34m0.4088176352705411\u001b[0m                       \u001b]8;id=1608544569.0763535-656592;file:///home/itrushkin/.virtualenvs/openfl/lib/python3.6/site-packages/openfl/component/collaborator/collaborator.py\u001b\\\u001b[2mcollaborator.py\u001b[0m\u001b]8;;\u001b\\\u001b[2m:324\u001b[0m\n",
      "\u001b[2;36m[12:56:11]\u001b[0m\u001b[2;36m \u001b[0m\u001b[34mINFO\u001b[0m     Waiting for tasks\u001b[33m...\u001b[0m                                                                                                     \u001b]8;id=1608544571.86254-842933;file:///home/itrushkin/.virtualenvs/openfl/lib/python3.6/site-packages/openfl/component/collaborator/collaborator.py\u001b\\\u001b[2mcollaborator.py\u001b[0m\u001b]8;;\u001b\\\u001b[2m:167\u001b[0m\n",
      "\u001b[2;36m          \u001b[0m\u001b[2;36m \u001b[0m\u001b[34mINFO\u001b[0m     Received the following tasks: \u001b[1m[\u001b[0m\u001b[32m'aggregated_model_validation'\u001b[0m, \u001b[32m'train'\u001b[0m, \u001b[32m'locally_tuned_model_validation'\u001b[0m\u001b[1m]\u001b[0m                 \u001b]8;id=1608544571.8827403-769009;file:///home/itrushkin/.virtualenvs/openfl/lib/python3.6/site-packages/openfl/component/collaborator/collaborator.py\u001b\\\u001b[2mcollaborator.py\u001b[0m\u001b]8;;\u001b\\\u001b[2m:137\u001b[0m\n",
      "\u001b[2;36m[12:56:14]\u001b[0m\u001b[2;36m \u001b[0m\u001b[34mINFO\u001b[0m     Sending metric for task aggregated_model_validation, round number \u001b[1;34m1\u001b[0m: acc        \u001b[1;34m0.32064128256513025\u001b[0m                      \u001b]8;id=1608544574.3540971-679424;file:///home/itrushkin/.virtualenvs/openfl/lib/python3.6/site-packages/openfl/component/collaborator/collaborator.py\u001b\\\u001b[2mcollaborator.py\u001b[0m\u001b]8;;\u001b\\\u001b[2m:324\u001b[0m\n",
      "train epoch: 16it [00:04,  3.32it/s]\n",
      "\u001b[2;36m[12:56:19]\u001b[0m\u001b[2;36m \u001b[0m\u001b[34mINFO\u001b[0m     Sending metric for task train, round number \u001b[1;34m1\u001b[0m: CrossEntropyLoss \u001b[1;34m1.4261868000030518\u001b[0m                                       \u001b]8;id=1608544579.5439515-922795;file:///home/itrushkin/.virtualenvs/openfl/lib/python3.6/site-packages/openfl/component/collaborator/collaborator.py\u001b\\\u001b[2mcollaborator.py\u001b[0m\u001b]8;;\u001b\\\u001b[2m:324\u001b[0m\n",
      "\u001b[2;36m[12:56:36]\u001b[0m\u001b[2;36m \u001b[0m\u001b[34mINFO\u001b[0m     Sending metric for task locally_tuned_model_validation, round number \u001b[1;34m1\u001b[0m: acc     \u001b[1;34m0.5410821643286573\u001b[0m                       \u001b]8;id=1608544596.4321237-998741;file:///home/itrushkin/.virtualenvs/openfl/lib/python3.6/site-packages/openfl/component/collaborator/collaborator.py\u001b\\\u001b[2mcollaborator.py\u001b[0m\u001b]8;;\u001b\\\u001b[2m:324\u001b[0m\n",
      "\u001b[2;36m[12:56:37]\u001b[0m\u001b[2;36m \u001b[0m\u001b[34mINFO\u001b[0m     Waiting for tasks\u001b[33m...\u001b[0m                                                                                                     \u001b]8;id=1608544597.0320866-562354;file:///home/itrushkin/.virtualenvs/openfl/lib/python3.6/site-packages/openfl/component/collaborator/collaborator.py\u001b\\\u001b[2mcollaborator.py\u001b[0m\u001b]8;;\u001b\\\u001b[2m:167\u001b[0m\n",
      "\u001b[2;36m[12:56:47]\u001b[0m\u001b[2;36m \u001b[0m\u001b[34mINFO\u001b[0m     Waiting for tasks\u001b[33m...\u001b[0m                                                                                                     \u001b]8;id=1608544607.4310057-387558;file:///home/itrushkin/.virtualenvs/openfl/lib/python3.6/site-packages/openfl/component/collaborator/collaborator.py\u001b\\\u001b[2mcollaborator.py\u001b[0m\u001b]8;;\u001b\\\u001b[2m:167\u001b[0m\n",
      "\u001b[2;36m          \u001b[0m\u001b[2;36m \u001b[0m\u001b[34mINFO\u001b[0m     Received the following tasks: \u001b[1m[\u001b[0m\u001b[32m'aggregated_model_validation'\u001b[0m, \u001b[32m'train'\u001b[0m, \u001b[32m'locally_tuned_model_validation'\u001b[0m\u001b[1m]\u001b[0m                 \u001b]8;id=1608544607.4497986-681810;file:///home/itrushkin/.virtualenvs/openfl/lib/python3.6/site-packages/openfl/component/collaborator/collaborator.py\u001b\\\u001b[2mcollaborator.py\u001b[0m\u001b]8;;\u001b\\\u001b[2m:137\u001b[0m\n",
      "\u001b[2;36m[12:56:49]\u001b[0m\u001b[2;36m \u001b[0m\u001b[34mINFO\u001b[0m     Sending metric for task aggregated_model_validation, round number \u001b[1;34m2\u001b[0m: acc        \u001b[1;34m0.49899799599198397\u001b[0m                      \u001b]8;id=1608544609.7405944-988674;file:///home/itrushkin/.virtualenvs/openfl/lib/python3.6/site-packages/openfl/component/collaborator/collaborator.py\u001b\\\u001b[2mcollaborator.py\u001b[0m\u001b]8;;\u001b\\\u001b[2m:324\u001b[0m\n",
      "train epoch: 16it [00:04,  3.32it/s]\n",
      "\u001b[2;36m[12:56:54]\u001b[0m\u001b[2;36m \u001b[0m\u001b[34mINFO\u001b[0m     Sending metric for task train, round number \u001b[1;34m2\u001b[0m: CrossEntropyLoss \u001b[1;34m1.379079818725586\u001b[0m                                        \u001b]8;id=1608544614.9222472-650516;file:///home/itrushkin/.virtualenvs/openfl/lib/python3.6/site-packages/openfl/component/collaborator/collaborator.py\u001b\\\u001b[2mcollaborator.py\u001b[0m\u001b]8;;\u001b\\\u001b[2m:324\u001b[0m\n",
      "\u001b[2;36m[12:57:09]\u001b[0m\u001b[2;36m \u001b[0m\u001b[34mINFO\u001b[0m     Sending metric for task locally_tuned_model_validation, round number \u001b[1;34m2\u001b[0m: acc     \u001b[1;34m0.5070140280561122\u001b[0m                       \u001b]8;id=1608544629.134227-688543;file:///home/itrushkin/.virtualenvs/openfl/lib/python3.6/site-packages/openfl/component/collaborator/collaborator.py\u001b\\\u001b[2mcollaborator.py\u001b[0m\u001b]8;;\u001b\\\u001b[2m:324\u001b[0m\n",
      "\u001b[2;36m[12:57:12]\u001b[0m\u001b[2;36m \u001b[0m\u001b[34mINFO\u001b[0m     Waiting for tasks\u001b[33m...\u001b[0m                                                                                                     \u001b]8;id=1608544632.526519-74172;file:///home/itrushkin/.virtualenvs/openfl/lib/python3.6/site-packages/openfl/component/collaborator/collaborator.py\u001b\\\u001b[2mcollaborator.py\u001b[0m\u001b]8;;\u001b\\\u001b[2m:167\u001b[0m\n",
      "\u001b[2;36m          \u001b[0m\u001b[2;36m \u001b[0m\u001b[34mINFO\u001b[0m     Received the following tasks: \u001b[1m[\u001b[0m\u001b[32m'aggregated_model_validation'\u001b[0m, \u001b[32m'train'\u001b[0m, \u001b[32m'locally_tuned_model_validation'\u001b[0m\u001b[1m]\u001b[0m                 \u001b]8;id=1608544632.5464242-846736;file:///home/itrushkin/.virtualenvs/openfl/lib/python3.6/site-packages/openfl/component/collaborator/collaborator.py\u001b\\\u001b[2mcollaborator.py\u001b[0m\u001b]8;;\u001b\\\u001b[2m:137\u001b[0m\n",
      "\u001b[2;36m[12:57:14]\u001b[0m\u001b[2;36m \u001b[0m\u001b[34mINFO\u001b[0m     Sending metric for task aggregated_model_validation, round number \u001b[1;34m3\u001b[0m: acc        \u001b[1;34m0.561122244488978\u001b[0m                        \u001b]8;id=1608544634.9385865-861933;file:///home/itrushkin/.virtualenvs/openfl/lib/python3.6/site-packages/openfl/component/collaborator/collaborator.py\u001b\\\u001b[2mcollaborator.py\u001b[0m\u001b]8;;\u001b\\\u001b[2m:324\u001b[0m\n",
      "train epoch: 16it [00:04,  3.30it/s]\n",
      "\u001b[2;36m[12:57:20]\u001b[0m\u001b[2;36m \u001b[0m\u001b[34mINFO\u001b[0m     Sending metric for task train, round number \u001b[1;34m3\u001b[0m: CrossEntropyLoss \u001b[1;34m1.0693978071212769\u001b[0m                                       \u001b]8;id=1608544640.2213702-565964;file:///home/itrushkin/.virtualenvs/openfl/lib/python3.6/site-packages/openfl/component/collaborator/collaborator.py\u001b\\\u001b[2mcollaborator.py\u001b[0m\u001b]8;;\u001b\\\u001b[2m:324\u001b[0m\n",
      "\u001b[2;36m[12:57:33]\u001b[0m\u001b[2;36m \u001b[0m\u001b[34mINFO\u001b[0m     Sending metric for task locally_tuned_model_validation, round number \u001b[1;34m3\u001b[0m: acc     \u001b[1;34m0.5891783567134269\u001b[0m                       \u001b]8;id=1608544653.5407743-128022;file:///home/itrushkin/.virtualenvs/openfl/lib/python3.6/site-packages/openfl/component/collaborator/collaborator.py\u001b\\\u001b[2mcollaborator.py\u001b[0m\u001b]8;;\u001b\\\u001b[2m:324\u001b[0m\n"
     ]
    },
    {
     "name": "stdout",
     "output_type": "stream",
     "text": [
      "\u001b[2;36m[12:57:34]\u001b[0m\u001b[2;36m \u001b[0m\u001b[34mINFO\u001b[0m     Waiting for tasks\u001b[33m...\u001b[0m                                                                                                     \u001b]8;id=1608544654.188013-587264;file:///home/itrushkin/.virtualenvs/openfl/lib/python3.6/site-packages/openfl/component/collaborator/collaborator.py\u001b\\\u001b[2mcollaborator.py\u001b[0m\u001b]8;;\u001b\\\u001b[2m:167\u001b[0m\n",
      "\u001b[2;36m[12:57:44]\u001b[0m\u001b[2;36m \u001b[0m\u001b[34mINFO\u001b[0m     Waiting for tasks\u001b[33m...\u001b[0m                                                                                                     \u001b]8;id=1608544664.5879812-74396;file:///home/itrushkin/.virtualenvs/openfl/lib/python3.6/site-packages/openfl/component/collaborator/collaborator.py\u001b\\\u001b[2mcollaborator.py\u001b[0m\u001b]8;;\u001b\\\u001b[2m:167\u001b[0m\n",
      "\u001b[2;36m          \u001b[0m\u001b[2;36m \u001b[0m\u001b[34mINFO\u001b[0m     Received the following tasks: \u001b[1m[\u001b[0m\u001b[32m'aggregated_model_validation'\u001b[0m, \u001b[32m'train'\u001b[0m, \u001b[32m'locally_tuned_model_validation'\u001b[0m\u001b[1m]\u001b[0m                 \u001b]8;id=1608544664.6067753-758209;file:///home/itrushkin/.virtualenvs/openfl/lib/python3.6/site-packages/openfl/component/collaborator/collaborator.py\u001b\\\u001b[2mcollaborator.py\u001b[0m\u001b]8;;\u001b\\\u001b[2m:137\u001b[0m\n",
      "\u001b[2;36m[12:57:46]\u001b[0m\u001b[2;36m \u001b[0m\u001b[34mINFO\u001b[0m     Sending metric for task aggregated_model_validation, round number \u001b[1;34m4\u001b[0m: acc        \u001b[1;34m0.6032064128256514\u001b[0m                       \u001b]8;id=1608544666.8770628-8835;file:///home/itrushkin/.virtualenvs/openfl/lib/python3.6/site-packages/openfl/component/collaborator/collaborator.py\u001b\\\u001b[2mcollaborator.py\u001b[0m\u001b]8;;\u001b\\\u001b[2m:324\u001b[0m\n",
      "train epoch: 16it [00:04,  3.29it/s]\n",
      "\u001b[2;36m[12:57:52]\u001b[0m\u001b[2;36m \u001b[0m\u001b[34mINFO\u001b[0m     Sending metric for task train, round number \u001b[1;34m4\u001b[0m: CrossEntropyLoss \u001b[1;34m1.0322691202163696\u001b[0m                                       \u001b]8;id=1608544672.1020718-427977;file:///home/itrushkin/.virtualenvs/openfl/lib/python3.6/site-packages/openfl/component/collaborator/collaborator.py\u001b\\\u001b[2mcollaborator.py\u001b[0m\u001b]8;;\u001b\\\u001b[2m:324\u001b[0m\n",
      "\u001b[2;36m[12:58:10]\u001b[0m\u001b[2;36m \u001b[0m\u001b[34mINFO\u001b[0m     Sending metric for task locally_tuned_model_validation, round number \u001b[1;34m4\u001b[0m: acc     \u001b[1;34m0.6192384769539078\u001b[0m                       \u001b]8;id=1608544690.4397025-378784;file:///home/itrushkin/.virtualenvs/openfl/lib/python3.6/site-packages/openfl/component/collaborator/collaborator.py\u001b\\\u001b[2mcollaborator.py\u001b[0m\u001b]8;;\u001b\\\u001b[2m:324\u001b[0m\n",
      "\u001b[2;36m[12:58:13]\u001b[0m\u001b[2;36m \u001b[0m\u001b[34mINFO\u001b[0m     Waiting for tasks\u001b[33m...\u001b[0m                                                                                                     \u001b]8;id=1608544693.541752-286170;file:///home/itrushkin/.virtualenvs/openfl/lib/python3.6/site-packages/openfl/component/collaborator/collaborator.py\u001b\\\u001b[2mcollaborator.py\u001b[0m\u001b]8;;\u001b\\\u001b[2m:167\u001b[0m\n",
      "\u001b[2;36m          \u001b[0m\u001b[2;36m \u001b[0m\u001b[34mINFO\u001b[0m     Received the following tasks: \u001b[1m[\u001b[0m\u001b[32m'aggregated_model_validation'\u001b[0m, \u001b[32m'train'\u001b[0m, \u001b[32m'locally_tuned_model_validation'\u001b[0m\u001b[1m]\u001b[0m                 \u001b]8;id=1608544693.559887-483844;file:///home/itrushkin/.virtualenvs/openfl/lib/python3.6/site-packages/openfl/component/collaborator/collaborator.py\u001b\\\u001b[2mcollaborator.py\u001b[0m\u001b]8;;\u001b\\\u001b[2m:137\u001b[0m\n",
      "\u001b[2;36m[12:58:15]\u001b[0m\u001b[2;36m \u001b[0m\u001b[34mINFO\u001b[0m     Sending metric for task aggregated_model_validation, round number \u001b[1;34m5\u001b[0m: acc        \u001b[1;34m0.6372745490981964\u001b[0m                       \u001b]8;id=1608544695.9782817-411347;file:///home/itrushkin/.virtualenvs/openfl/lib/python3.6/site-packages/openfl/component/collaborator/collaborator.py\u001b\\\u001b[2mcollaborator.py\u001b[0m\u001b]8;;\u001b\\\u001b[2m:324\u001b[0m\n",
      "train epoch: 16it [00:04,  3.29it/s]\n",
      "\u001b[2;36m[12:58:21]\u001b[0m\u001b[2;36m \u001b[0m\u001b[34mINFO\u001b[0m     Sending metric for task train, round number \u001b[1;34m5\u001b[0m: CrossEntropyLoss \u001b[1;34m0.8970016241073608\u001b[0m                                       \u001b]8;id=1608544701.221131-631425;file:///home/itrushkin/.virtualenvs/openfl/lib/python3.6/site-packages/openfl/component/collaborator/collaborator.py\u001b\\\u001b[2mcollaborator.py\u001b[0m\u001b]8;;\u001b\\\u001b[2m:324\u001b[0m\n",
      "\u001b[2;36m[12:58:34]\u001b[0m\u001b[2;36m \u001b[0m\u001b[34mINFO\u001b[0m     Sending metric for task locally_tuned_model_validation, round number \u001b[1;34m5\u001b[0m: acc     \u001b[1;34m0.6653306613226453\u001b[0m                       \u001b]8;id=1608544714.924427-660204;file:///home/itrushkin/.virtualenvs/openfl/lib/python3.6/site-packages/openfl/component/collaborator/collaborator.py\u001b\\\u001b[2mcollaborator.py\u001b[0m\u001b]8;;\u001b\\\u001b[2m:324\u001b[0m\n",
      "\u001b[2;36m[12:58:35]\u001b[0m\u001b[2;36m \u001b[0m\u001b[34mINFO\u001b[0m     Waiting for tasks\u001b[33m...\u001b[0m                                                                                                     \u001b]8;id=1608544715.5124552-96192;file:///home/itrushkin/.virtualenvs/openfl/lib/python3.6/site-packages/openfl/component/collaborator/collaborator.py\u001b\\\u001b[2mcollaborator.py\u001b[0m\u001b]8;;\u001b\\\u001b[2m:167\u001b[0m\n",
      "\u001b[2;36m[12:58:45]\u001b[0m\u001b[2;36m \u001b[0m\u001b[34mINFO\u001b[0m     Waiting for tasks\u001b[33m...\u001b[0m                                                                                                     \u001b]8;id=1608544725.9563248-975941;file:///home/itrushkin/.virtualenvs/openfl/lib/python3.6/site-packages/openfl/component/collaborator/collaborator.py\u001b\\\u001b[2mcollaborator.py\u001b[0m\u001b]8;;\u001b\\\u001b[2m:167\u001b[0m\n",
      "\u001b[2;36m          \u001b[0m\u001b[2;36m \u001b[0m\u001b[34mINFO\u001b[0m     Received the following tasks: \u001b[1m[\u001b[0m\u001b[32m'aggregated_model_validation'\u001b[0m, \u001b[32m'train'\u001b[0m, \u001b[32m'locally_tuned_model_validation'\u001b[0m\u001b[1m]\u001b[0m                 \u001b]8;id=1608544725.9755774-645667;file:///home/itrushkin/.virtualenvs/openfl/lib/python3.6/site-packages/openfl/component/collaborator/collaborator.py\u001b\\\u001b[2mcollaborator.py\u001b[0m\u001b]8;;\u001b\\\u001b[2m:137\u001b[0m\n",
      "\u001b[2;36m[12:58:48]\u001b[0m\u001b[2;36m \u001b[0m\u001b[34mINFO\u001b[0m     Sending metric for task aggregated_model_validation, round number \u001b[1;34m6\u001b[0m: acc        \u001b[1;34m0.6993987975951904\u001b[0m                       \u001b]8;id=1608544728.2611148-437777;file:///home/itrushkin/.virtualenvs/openfl/lib/python3.6/site-packages/openfl/component/collaborator/collaborator.py\u001b\\\u001b[2mcollaborator.py\u001b[0m\u001b]8;;\u001b\\\u001b[2m:324\u001b[0m\n",
      "train epoch: 16it [00:04,  3.33it/s]\n",
      "\u001b[2;36m[12:58:53]\u001b[0m\u001b[2;36m \u001b[0m\u001b[34mINFO\u001b[0m     Sending metric for task train, round number \u001b[1;34m6\u001b[0m: CrossEntropyLoss \u001b[1;34m0.8828177452087402\u001b[0m                                       \u001b]8;id=1608544733.414687-155025;file:///home/itrushkin/.virtualenvs/openfl/lib/python3.6/site-packages/openfl/component/collaborator/collaborator.py\u001b\\\u001b[2mcollaborator.py\u001b[0m\u001b]8;;\u001b\\\u001b[2m:324\u001b[0m\n",
      "\u001b[2;36m[12:59:11]\u001b[0m\u001b[2;36m \u001b[0m\u001b[34mINFO\u001b[0m     Sending metric for task locally_tuned_model_validation, round number \u001b[1;34m6\u001b[0m: acc     \u001b[1;34m0.6893787575150301\u001b[0m                       \u001b]8;id=1608544751.3064146-332852;file:///home/itrushkin/.virtualenvs/openfl/lib/python3.6/site-packages/openfl/component/collaborator/collaborator.py\u001b\\\u001b[2mcollaborator.py\u001b[0m\u001b]8;;\u001b\\\u001b[2m:324\u001b[0m\n",
      "\u001b[2;36m[12:59:14]\u001b[0m\u001b[2;36m \u001b[0m\u001b[34mINFO\u001b[0m     Waiting for tasks\u001b[33m...\u001b[0m                                                                                                     \u001b]8;id=1608544754.4027221-381700;file:///home/itrushkin/.virtualenvs/openfl/lib/python3.6/site-packages/openfl/component/collaborator/collaborator.py\u001b\\\u001b[2mcollaborator.py\u001b[0m\u001b]8;;\u001b\\\u001b[2m:167\u001b[0m\n",
      "\u001b[2;36m          \u001b[0m\u001b[2;36m \u001b[0m\u001b[34mINFO\u001b[0m     Received the following tasks: \u001b[1m[\u001b[0m\u001b[32m'aggregated_model_validation'\u001b[0m, \u001b[32m'train'\u001b[0m, \u001b[32m'locally_tuned_model_validation'\u001b[0m\u001b[1m]\u001b[0m                 \u001b]8;id=1608544754.4225194-47500;file:///home/itrushkin/.virtualenvs/openfl/lib/python3.6/site-packages/openfl/component/collaborator/collaborator.py\u001b\\\u001b[2mcollaborator.py\u001b[0m\u001b]8;;\u001b\\\u001b[2m:137\u001b[0m\n",
      "\u001b[2;36m[12:59:16]\u001b[0m\u001b[2;36m \u001b[0m\u001b[34mINFO\u001b[0m     Sending metric for task aggregated_model_validation, round number \u001b[1;34m7\u001b[0m: acc        \u001b[1;34m0.717434869739479\u001b[0m                        \u001b]8;id=1608544756.6815767-305735;file:///home/itrushkin/.virtualenvs/openfl/lib/python3.6/site-packages/openfl/component/collaborator/collaborator.py\u001b\\\u001b[2mcollaborator.py\u001b[0m\u001b]8;;\u001b\\\u001b[2m:324\u001b[0m\n",
      "train epoch: 16it [00:04,  3.31it/s]\n",
      "\u001b[2;36m[12:59:21]\u001b[0m\u001b[2;36m \u001b[0m\u001b[34mINFO\u001b[0m     Sending metric for task train, round number \u001b[1;34m7\u001b[0m: CrossEntropyLoss \u001b[1;34m0.9008904099464417\u001b[0m                                       \u001b]8;id=1608544761.8704846-581712;file:///home/itrushkin/.virtualenvs/openfl/lib/python3.6/site-packages/openfl/component/collaborator/collaborator.py\u001b\\\u001b[2mcollaborator.py\u001b[0m\u001b]8;;\u001b\\\u001b[2m:324\u001b[0m\n"
     ]
    },
    {
     "name": "stdout",
     "output_type": "stream",
     "text": [
      "\u001b[2;36m[12:59:32]\u001b[0m\u001b[2;36m \u001b[0m\u001b[34mINFO\u001b[0m     Sending metric for task locally_tuned_model_validation, round number \u001b[1;34m7\u001b[0m: acc     \u001b[1;34m0.6412825651302605\u001b[0m                       \u001b]8;id=1608544772.0952048-336688;file:///home/itrushkin/.virtualenvs/openfl/lib/python3.6/site-packages/openfl/component/collaborator/collaborator.py\u001b\\\u001b[2mcollaborator.py\u001b[0m\u001b]8;;\u001b\\\u001b[2m:324\u001b[0m\n",
      "\u001b[2;36m          \u001b[0m\u001b[2;36m \u001b[0m\u001b[34mINFO\u001b[0m     Waiting for tasks\u001b[33m...\u001b[0m                                                                                                     \u001b]8;id=1608544772.3835971-242143;file:///home/itrushkin/.virtualenvs/openfl/lib/python3.6/site-packages/openfl/component/collaborator/collaborator.py\u001b\\\u001b[2mcollaborator.py\u001b[0m\u001b]8;;\u001b\\\u001b[2m:167\u001b[0m\n",
      "\u001b[2;36m[12:59:42]\u001b[0m\u001b[2;36m \u001b[0m\u001b[34mINFO\u001b[0m     Waiting for tasks\u001b[33m...\u001b[0m                                                                                                     \u001b]8;id=1608544782.6668725-969642;file:///home/itrushkin/.virtualenvs/openfl/lib/python3.6/site-packages/openfl/component/collaborator/collaborator.py\u001b\\\u001b[2mcollaborator.py\u001b[0m\u001b]8;;\u001b\\\u001b[2m:167\u001b[0m\n",
      "\u001b[2;36m[12:59:52]\u001b[0m\u001b[2;36m \u001b[0m\u001b[34mINFO\u001b[0m     Waiting for tasks\u001b[33m...\u001b[0m                                                                                                     \u001b]8;id=1608544792.6911101-82590;file:///home/itrushkin/.virtualenvs/openfl/lib/python3.6/site-packages/openfl/component/collaborator/collaborator.py\u001b\\\u001b[2mcollaborator.py\u001b[0m\u001b]8;;\u001b\\\u001b[2m:167\u001b[0m\n",
      "\u001b[2;36m          \u001b[0m\u001b[2;36m \u001b[0m\u001b[34mINFO\u001b[0m     Received the following tasks: \u001b[1m[\u001b[0m\u001b[32m'aggregated_model_validation'\u001b[0m, \u001b[32m'train'\u001b[0m, \u001b[32m'locally_tuned_model_validation'\u001b[0m\u001b[1m]\u001b[0m                 \u001b]8;id=1608544792.8553085-467728;file:///home/itrushkin/.virtualenvs/openfl/lib/python3.6/site-packages/openfl/component/collaborator/collaborator.py\u001b\\\u001b[2mcollaborator.py\u001b[0m\u001b]8;;\u001b\\\u001b[2m:137\u001b[0m\n",
      "\u001b[2;36m[13:00:01]\u001b[0m\u001b[2;36m \u001b[0m\u001b[34mINFO\u001b[0m     Sending metric for task aggregated_model_validation, round number \u001b[1;34m8\u001b[0m: acc        \u001b[1;34m0.6533066132264529\u001b[0m                       \u001b]8;id=1608544801.4326859-317961;file:///home/itrushkin/.virtualenvs/openfl/lib/python3.6/site-packages/openfl/component/collaborator/collaborator.py\u001b\\\u001b[2mcollaborator.py\u001b[0m\u001b]8;;\u001b\\\u001b[2m:324\u001b[0m\n",
      "train epoch: 16it [00:04,  3.35it/s]\n",
      "\u001b[2;36m[13:00:06]\u001b[0m\u001b[2;36m \u001b[0m\u001b[34mINFO\u001b[0m     Sending metric for task train, round number \u001b[1;34m8\u001b[0m: CrossEntropyLoss \u001b[1;34m0.8357743620872498\u001b[0m                                       \u001b]8;id=1608544806.538011-255463;file:///home/itrushkin/.virtualenvs/openfl/lib/python3.6/site-packages/openfl/component/collaborator/collaborator.py\u001b\\\u001b[2mcollaborator.py\u001b[0m\u001b]8;;\u001b\\\u001b[2m:324\u001b[0m\n",
      "\u001b[2;36m[13:00:16]\u001b[0m\u001b[2;36m \u001b[0m\u001b[34mINFO\u001b[0m     Sending metric for task locally_tuned_model_validation, round number \u001b[1;34m8\u001b[0m: acc     \u001b[1;34m0.7274549098196392\u001b[0m                       \u001b]8;id=1608544816.3156483-412538;file:///home/itrushkin/.virtualenvs/openfl/lib/python3.6/site-packages/openfl/component/collaborator/collaborator.py\u001b\\\u001b[2mcollaborator.py\u001b[0m\u001b]8;;\u001b\\\u001b[2m:324\u001b[0m\n",
      "\u001b[2;36m[13:00:19]\u001b[0m\u001b[2;36m \u001b[0m\u001b[34mINFO\u001b[0m     Waiting for tasks\u001b[33m...\u001b[0m                                                                                                     \u001b]8;id=1608544819.3128707-509636;file:///home/itrushkin/.virtualenvs/openfl/lib/python3.6/site-packages/openfl/component/collaborator/collaborator.py\u001b\\\u001b[2mcollaborator.py\u001b[0m\u001b]8;;\u001b\\\u001b[2m:167\u001b[0m\n",
      "\u001b[2;36m          \u001b[0m\u001b[2;36m \u001b[0m\u001b[34mINFO\u001b[0m     Received the following tasks: \u001b[1m[\u001b[0m\u001b[32m'aggregated_model_validation'\u001b[0m, \u001b[32m'train'\u001b[0m, \u001b[32m'locally_tuned_model_validation'\u001b[0m\u001b[1m]\u001b[0m                 \u001b]8;id=1608544819.3325708-190625;file:///home/itrushkin/.virtualenvs/openfl/lib/python3.6/site-packages/openfl/component/collaborator/collaborator.py\u001b\\\u001b[2mcollaborator.py\u001b[0m\u001b]8;;\u001b\\\u001b[2m:137\u001b[0m\n",
      "\u001b[2;36m[13:00:21]\u001b[0m\u001b[2;36m \u001b[0m\u001b[34mINFO\u001b[0m     Sending metric for task aggregated_model_validation, round number \u001b[1;34m9\u001b[0m: acc        \u001b[1;34m0.6973947895791583\u001b[0m                       \u001b]8;id=1608544821.722213-881106;file:///home/itrushkin/.virtualenvs/openfl/lib/python3.6/site-packages/openfl/component/collaborator/collaborator.py\u001b\\\u001b[2mcollaborator.py\u001b[0m\u001b]8;;\u001b\\\u001b[2m:324\u001b[0m\n",
      "train epoch: 16it [00:04,  3.30it/s]\n",
      "\u001b[2;36m[13:00:26]\u001b[0m\u001b[2;36m \u001b[0m\u001b[34mINFO\u001b[0m     Sending metric for task train, round number \u001b[1;34m9\u001b[0m: CrossEntropyLoss \u001b[1;34m0.7206981778144836\u001b[0m                                       \u001b]8;id=1608544826.921752-17547;file:///home/itrushkin/.virtualenvs/openfl/lib/python3.6/site-packages/openfl/component/collaborator/collaborator.py\u001b\\\u001b[2mcollaborator.py\u001b[0m\u001b]8;;\u001b\\\u001b[2m:324\u001b[0m\n",
      "\u001b[2;36m[13:00:45]\u001b[0m\u001b[2;36m \u001b[0m\u001b[34mINFO\u001b[0m     Sending metric for task locally_tuned_model_validation, round number \u001b[1;34m9\u001b[0m: acc     \u001b[1;34m0.7535070140280561\u001b[0m                       \u001b]8;id=1608544845.8190432-30505;file:///home/itrushkin/.virtualenvs/openfl/lib/python3.6/site-packages/openfl/component/collaborator/collaborator.py\u001b\\\u001b[2mcollaborator.py\u001b[0m\u001b]8;;\u001b\\\u001b[2m:324\u001b[0m\n",
      "\u001b[2;36m          \u001b[0m\u001b[2;36m \u001b[0m\u001b[34mINFO\u001b[0m     Waiting for tasks\u001b[33m...\u001b[0m                                                                                                     \u001b]8;id=1608544845.8460913-284089;file:///home/itrushkin/.virtualenvs/openfl/lib/python3.6/site-packages/openfl/component/collaborator/collaborator.py\u001b\\\u001b[2mcollaborator.py\u001b[0m\u001b]8;;\u001b\\\u001b[2m:167\u001b[0m\n",
      "\u001b[2;36m[13:00:55]\u001b[0m\u001b[2;36m \u001b[0m\u001b[34mINFO\u001b[0m     Waiting for tasks\u001b[33m...\u001b[0m                                                                                                     \u001b]8;id=1608544855.8685036-863344;file:///home/itrushkin/.virtualenvs/openfl/lib/python3.6/site-packages/openfl/component/collaborator/collaborator.py\u001b\\\u001b[2mcollaborator.py\u001b[0m\u001b]8;;\u001b\\\u001b[2m:167\u001b[0m\n",
      "\u001b[2;36m          \u001b[0m\u001b[2;36m \u001b[0m\u001b[34mINFO\u001b[0m     Received the following tasks: \u001b[1m[\u001b[0m\u001b[32m'aggregated_model_validation'\u001b[0m, \u001b[32m'train'\u001b[0m, \u001b[32m'locally_tuned_model_validation'\u001b[0m\u001b[1m]\u001b[0m                 \u001b]8;id=1608544855.8887093-429353;file:///home/itrushkin/.virtualenvs/openfl/lib/python3.6/site-packages/openfl/component/collaborator/collaborator.py\u001b\\\u001b[2mcollaborator.py\u001b[0m\u001b]8;;\u001b\\\u001b[2m:137\u001b[0m\n",
      "\u001b[2;36m[13:00:58]\u001b[0m\u001b[2;36m \u001b[0m\u001b[34mINFO\u001b[0m     Sending metric for task aggregated_model_validation, round number \u001b[1;34m10\u001b[0m: acc       \u001b[1;34m0.751503006012024\u001b[0m                        \u001b]8;id=1608544858.2133565-794661;file:///home/itrushkin/.virtualenvs/openfl/lib/python3.6/site-packages/openfl/component/collaborator/collaborator.py\u001b\\\u001b[2mcollaborator.py\u001b[0m\u001b]8;;\u001b\\\u001b[2m:324\u001b[0m\n",
      "train epoch: 16it [00:04,  3.30it/s]\n",
      "\u001b[2;36m[13:01:03]\u001b[0m\u001b[2;36m \u001b[0m\u001b[34mINFO\u001b[0m     Sending metric for task train, round number \u001b[1;34m10\u001b[0m: CrossEntropyLoss        \u001b[1;34m0.7225041389465332\u001b[0m                               \u001b]8;id=1608544863.4735043-148008;file:///home/itrushkin/.virtualenvs/openfl/lib/python3.6/site-packages/openfl/component/collaborator/collaborator.py\u001b\\\u001b[2mcollaborator.py\u001b[0m\u001b]8;;\u001b\\\u001b[2m:324\u001b[0m\n",
      "\u001b[2;36m[13:01:16]\u001b[0m\u001b[2;36m \u001b[0m\u001b[34mINFO\u001b[0m     Sending metric for task locally_tuned_model_validation, round number \u001b[1;34m10\u001b[0m: acc    \u001b[1;34m0.7154308617234469\u001b[0m                       \u001b]8;id=1608544876.103078-391882;file:///home/itrushkin/.virtualenvs/openfl/lib/python3.6/site-packages/openfl/component/collaborator/collaborator.py\u001b\\\u001b[2mcollaborator.py\u001b[0m\u001b]8;;\u001b\\\u001b[2m:324\u001b[0m\n",
      "\u001b[2;36m[13:01:19]\u001b[0m\u001b[2;36m \u001b[0m\u001b[34mINFO\u001b[0m     Waiting for tasks\u001b[33m...\u001b[0m                                                                                                     \u001b]8;id=1608544879.3228645-737;file:///home/itrushkin/.virtualenvs/openfl/lib/python3.6/site-packages/openfl/component/collaborator/collaborator.py\u001b\\\u001b[2mcollaborator.py\u001b[0m\u001b]8;;\u001b\\\u001b[2m:167\u001b[0m\n",
      "\u001b[2;36m          \u001b[0m\u001b[2;36m \u001b[0m\u001b[34mINFO\u001b[0m     Received the following tasks: \u001b[1m[\u001b[0m\u001b[32m'aggregated_model_validation'\u001b[0m, \u001b[32m'train'\u001b[0m, \u001b[32m'locally_tuned_model_validation'\u001b[0m\u001b[1m]\u001b[0m                 \u001b]8;id=1608544879.3407855-516297;file:///home/itrushkin/.virtualenvs/openfl/lib/python3.6/site-packages/openfl/component/collaborator/collaborator.py\u001b\\\u001b[2mcollaborator.py\u001b[0m\u001b]8;;\u001b\\\u001b[2m:137\u001b[0m\n"
     ]
    },
    {
     "name": "stdout",
     "output_type": "stream",
     "text": [
      "\u001b[2;36m[13:01:21]\u001b[0m\u001b[2;36m \u001b[0m\u001b[34mINFO\u001b[0m     Sending metric for task aggregated_model_validation, round number \u001b[1;34m11\u001b[0m: acc       \u001b[1;34m0.7234468937875751\u001b[0m                       \u001b]8;id=1608544881.6858318-493030;file:///home/itrushkin/.virtualenvs/openfl/lib/python3.6/site-packages/openfl/component/collaborator/collaborator.py\u001b\\\u001b[2mcollaborator.py\u001b[0m\u001b]8;;\u001b\\\u001b[2m:324\u001b[0m\n",
      "train epoch: 16it [00:04,  3.29it/s]\n",
      "\u001b[2;36m[13:01:26]\u001b[0m\u001b[2;36m \u001b[0m\u001b[34mINFO\u001b[0m     Sending metric for task train, round number \u001b[1;34m11\u001b[0m: CrossEntropyLoss        \u001b[1;34m0.7624332904815674\u001b[0m                               \u001b]8;id=1608544886.8876884-229878;file:///home/itrushkin/.virtualenvs/openfl/lib/python3.6/site-packages/openfl/component/collaborator/collaborator.py\u001b\\\u001b[2mcollaborator.py\u001b[0m\u001b]8;;\u001b\\\u001b[2m:324\u001b[0m\n",
      "\u001b[2;36m[13:01:48]\u001b[0m\u001b[2;36m \u001b[0m\u001b[34mINFO\u001b[0m     Sending metric for task locally_tuned_model_validation, round number \u001b[1;34m11\u001b[0m: acc    \u001b[1;34m0.7034068136272545\u001b[0m                       \u001b]8;id=1608544908.0838487-91933;file:///home/itrushkin/.virtualenvs/openfl/lib/python3.6/site-packages/openfl/component/collaborator/collaborator.py\u001b\\\u001b[2mcollaborator.py\u001b[0m\u001b]8;;\u001b\\\u001b[2m:324\u001b[0m\n",
      "\u001b[2;36m          \u001b[0m\u001b[2;36m \u001b[0m\u001b[34mINFO\u001b[0m     Waiting for tasks\u001b[33m...\u001b[0m                                                                                                     \u001b]8;id=1608544908.112079-63104;file:///home/itrushkin/.virtualenvs/openfl/lib/python3.6/site-packages/openfl/component/collaborator/collaborator.py\u001b\\\u001b[2mcollaborator.py\u001b[0m\u001b]8;;\u001b\\\u001b[2m:167\u001b[0m\n",
      "\u001b[2;36m[13:01:58]\u001b[0m\u001b[2;36m \u001b[0m\u001b[34mINFO\u001b[0m     Waiting for tasks\u001b[33m...\u001b[0m                                                                                                     \u001b]8;id=1608544918.1323638-458866;file:///home/itrushkin/.virtualenvs/openfl/lib/python3.6/site-packages/openfl/component/collaborator/collaborator.py\u001b\\\u001b[2mcollaborator.py\u001b[0m\u001b]8;;\u001b\\\u001b[2m:167\u001b[0m\n",
      "\u001b[2;36m          \u001b[0m\u001b[2;36m \u001b[0m\u001b[34mINFO\u001b[0m     Received the following tasks: \u001b[1m[\u001b[0m\u001b[32m'aggregated_model_validation'\u001b[0m, \u001b[32m'train'\u001b[0m, \u001b[32m'locally_tuned_model_validation'\u001b[0m\u001b[1m]\u001b[0m                 \u001b]8;id=1608544918.1526186-427319;file:///home/itrushkin/.virtualenvs/openfl/lib/python3.6/site-packages/openfl/component/collaborator/collaborator.py\u001b\\\u001b[2mcollaborator.py\u001b[0m\u001b]8;;\u001b\\\u001b[2m:137\u001b[0m\n",
      "\u001b[2;36m[13:02:00]\u001b[0m\u001b[2;36m \u001b[0m\u001b[34mINFO\u001b[0m     Sending metric for task aggregated_model_validation, round number \u001b[1;34m12\u001b[0m: acc       \u001b[1;34m0.7274549098196392\u001b[0m                       \u001b]8;id=1608544920.6045763-827077;file:///home/itrushkin/.virtualenvs/openfl/lib/python3.6/site-packages/openfl/component/collaborator/collaborator.py\u001b\\\u001b[2mcollaborator.py\u001b[0m\u001b]8;;\u001b\\\u001b[2m:324\u001b[0m\n",
      "train epoch: 16it [00:04,  3.26it/s]\n",
      "\u001b[2;36m[13:02:05]\u001b[0m\u001b[2;36m \u001b[0m\u001b[34mINFO\u001b[0m     Sending metric for task train, round number \u001b[1;34m12\u001b[0m: CrossEntropyLoss        \u001b[1;34m0.7820237874984741\u001b[0m                               \u001b]8;id=1608544925.993206-653740;file:///home/itrushkin/.virtualenvs/openfl/lib/python3.6/site-packages/openfl/component/collaborator/collaborator.py\u001b\\\u001b[2mcollaborator.py\u001b[0m\u001b]8;;\u001b\\\u001b[2m:324\u001b[0m\n",
      "\u001b[2;36m[13:02:17]\u001b[0m\u001b[2;36m \u001b[0m\u001b[34mINFO\u001b[0m     Sending metric for task locally_tuned_model_validation, round number \u001b[1;34m12\u001b[0m: acc    \u001b[1;34m0.7394789579158316\u001b[0m                       \u001b]8;id=1608544937.960375-755320;file:///home/itrushkin/.virtualenvs/openfl/lib/python3.6/site-packages/openfl/component/collaborator/collaborator.py\u001b\\\u001b[2mcollaborator.py\u001b[0m\u001b]8;;\u001b\\\u001b[2m:324\u001b[0m\n",
      "\u001b[2;36m[13:02:20]\u001b[0m\u001b[2;36m \u001b[0m\u001b[34mINFO\u001b[0m     Waiting for tasks\u001b[33m...\u001b[0m                                                                                                     \u001b]8;id=1608544940.8307056-573267;file:///home/itrushkin/.virtualenvs/openfl/lib/python3.6/site-packages/openfl/component/collaborator/collaborator.py\u001b\\\u001b[2mcollaborator.py\u001b[0m\u001b]8;;\u001b\\\u001b[2m:167\u001b[0m\n",
      "\u001b[2;36m          \u001b[0m\u001b[2;36m \u001b[0m\u001b[34mINFO\u001b[0m     Received the following tasks: \u001b[1m[\u001b[0m\u001b[32m'aggregated_model_validation'\u001b[0m, \u001b[32m'train'\u001b[0m, \u001b[32m'locally_tuned_model_validation'\u001b[0m\u001b[1m]\u001b[0m                 \u001b]8;id=1608544940.8491383-859361;file:///home/itrushkin/.virtualenvs/openfl/lib/python3.6/site-packages/openfl/component/collaborator/collaborator.py\u001b\\\u001b[2mcollaborator.py\u001b[0m\u001b]8;;\u001b\\\u001b[2m:137\u001b[0m\n",
      "\u001b[2;36m[13:02:23]\u001b[0m\u001b[2;36m \u001b[0m\u001b[34mINFO\u001b[0m     Sending metric for task aggregated_model_validation, round number \u001b[1;34m13\u001b[0m: acc       \u001b[1;34m0.7615230460921844\u001b[0m                       \u001b]8;id=1608544943.2980826-523933;file:///home/itrushkin/.virtualenvs/openfl/lib/python3.6/site-packages/openfl/component/collaborator/collaborator.py\u001b\\\u001b[2mcollaborator.py\u001b[0m\u001b]8;;\u001b\\\u001b[2m:324\u001b[0m\n",
      "train epoch: 16it [00:04,  3.25it/s]\n",
      "\u001b[2;36m[13:02:28]\u001b[0m\u001b[2;36m \u001b[0m\u001b[34mINFO\u001b[0m     Sending metric for task train, round number \u001b[1;34m13\u001b[0m: CrossEntropyLoss        \u001b[1;34m0.6464411020278931\u001b[0m                               \u001b]8;id=1608544948.6064181-397376;file:///home/itrushkin/.virtualenvs/openfl/lib/python3.6/site-packages/openfl/component/collaborator/collaborator.py\u001b\\\u001b[2mcollaborator.py\u001b[0m\u001b]8;;\u001b\\\u001b[2m:324\u001b[0m\n",
      "\u001b[2;36m[13:02:47]\u001b[0m\u001b[2;36m \u001b[0m\u001b[34mINFO\u001b[0m     Sending metric for task locally_tuned_model_validation, round number \u001b[1;34m13\u001b[0m: acc    \u001b[1;34m0.7935871743486974\u001b[0m                       \u001b]8;id=1608544967.4323676-107361;file:///home/itrushkin/.virtualenvs/openfl/lib/python3.6/site-packages/openfl/component/collaborator/collaborator.py\u001b\\\u001b[2mcollaborator.py\u001b[0m\u001b]8;;\u001b\\\u001b[2m:324\u001b[0m\n",
      "\u001b[2;36m          \u001b[0m\u001b[2;36m \u001b[0m\u001b[34mINFO\u001b[0m     Waiting for tasks\u001b[33m...\u001b[0m                                                                                                     \u001b]8;id=1608544967.457443-815247;file:///home/itrushkin/.virtualenvs/openfl/lib/python3.6/site-packages/openfl/component/collaborator/collaborator.py\u001b\\\u001b[2mcollaborator.py\u001b[0m\u001b]8;;\u001b\\\u001b[2m:167\u001b[0m\n",
      "\u001b[2;36m[13:02:57]\u001b[0m\u001b[2;36m \u001b[0m\u001b[34mINFO\u001b[0m     Waiting for tasks\u001b[33m...\u001b[0m                                                                                                     \u001b]8;id=1608544977.4803379-315018;file:///home/itrushkin/.virtualenvs/openfl/lib/python3.6/site-packages/openfl/component/collaborator/collaborator.py\u001b\\\u001b[2mcollaborator.py\u001b[0m\u001b]8;;\u001b\\\u001b[2m:167\u001b[0m\n",
      "\u001b[2;36m          \u001b[0m\u001b[2;36m \u001b[0m\u001b[34mINFO\u001b[0m     Received the following tasks: \u001b[1m[\u001b[0m\u001b[32m'aggregated_model_validation'\u001b[0m, \u001b[32m'train'\u001b[0m, \u001b[32m'locally_tuned_model_validation'\u001b[0m\u001b[1m]\u001b[0m                 \u001b]8;id=1608544977.500233-857675;file:///home/itrushkin/.virtualenvs/openfl/lib/python3.6/site-packages/openfl/component/collaborator/collaborator.py\u001b\\\u001b[2mcollaborator.py\u001b[0m\u001b]8;;\u001b\\\u001b[2m:137\u001b[0m\n",
      "\u001b[2;36m[13:02:59]\u001b[0m\u001b[2;36m \u001b[0m\u001b[34mINFO\u001b[0m     Sending metric for task aggregated_model_validation, round number \u001b[1;34m14\u001b[0m: acc       \u001b[1;34m0.811623246492986\u001b[0m                        \u001b]8;id=1608544979.9962301-113987;file:///home/itrushkin/.virtualenvs/openfl/lib/python3.6/site-packages/openfl/component/collaborator/collaborator.py\u001b\\\u001b[2mcollaborator.py\u001b[0m\u001b]8;;\u001b\\\u001b[2m:324\u001b[0m\n",
      "train epoch: 16it [00:04,  3.26it/s]\n",
      "\u001b[2;36m[13:03:05]\u001b[0m\u001b[2;36m \u001b[0m\u001b[34mINFO\u001b[0m     Sending metric for task train, round number \u001b[1;34m14\u001b[0m: CrossEntropyLoss        \u001b[1;34m0.7216417789459229\u001b[0m                               \u001b]8;id=1608544985.366623-985040;file:///home/itrushkin/.virtualenvs/openfl/lib/python3.6/site-packages/openfl/component/collaborator/collaborator.py\u001b\\\u001b[2mcollaborator.py\u001b[0m\u001b]8;;\u001b\\\u001b[2m:324\u001b[0m\n",
      "\u001b[2;36m[13:03:16]\u001b[0m\u001b[2;36m \u001b[0m\u001b[34mINFO\u001b[0m     Sending metric for task locally_tuned_model_validation, round number \u001b[1;34m14\u001b[0m: acc    \u001b[1;34m0.7555110220440882\u001b[0m                       \u001b]8;id=1608544996.591865-35721;file:///home/itrushkin/.virtualenvs/openfl/lib/python3.6/site-packages/openfl/component/collaborator/collaborator.py\u001b\\\u001b[2mcollaborator.py\u001b[0m\u001b]8;;\u001b\\\u001b[2m:324\u001b[0m\n",
      "\u001b[2;36m[13:03:19]\u001b[0m\u001b[2;36m \u001b[0m\u001b[34mINFO\u001b[0m     Waiting for tasks\u001b[33m...\u001b[0m                                                                                                     \u001b]8;id=1608544999.9678457-857375;file:///home/itrushkin/.virtualenvs/openfl/lib/python3.6/site-packages/openfl/component/collaborator/collaborator.py\u001b\\\u001b[2mcollaborator.py\u001b[0m\u001b]8;;\u001b\\\u001b[2m:167\u001b[0m\n"
     ]
    },
    {
     "name": "stdout",
     "output_type": "stream",
     "text": [
      "\u001b[2;36m          \u001b[0m\u001b[2;36m \u001b[0m\u001b[34mINFO\u001b[0m     Received the following tasks: \u001b[1m[\u001b[0m\u001b[32m'aggregated_model_validation'\u001b[0m, \u001b[32m'train'\u001b[0m, \u001b[32m'locally_tuned_model_validation'\u001b[0m\u001b[1m]\u001b[0m                 \u001b]8;id=1608544999.9876935-34429;file:///home/itrushkin/.virtualenvs/openfl/lib/python3.6/site-packages/openfl/component/collaborator/collaborator.py\u001b\\\u001b[2mcollaborator.py\u001b[0m\u001b]8;;\u001b\\\u001b[2m:137\u001b[0m\n",
      "\u001b[2;36m[13:03:22]\u001b[0m\u001b[2;36m \u001b[0m\u001b[34mINFO\u001b[0m     Sending metric for task aggregated_model_validation, round number \u001b[1;34m15\u001b[0m: acc       \u001b[1;34m0.7855711422845691\u001b[0m                       \u001b]8;id=1608545002.3742096-767439;file:///home/itrushkin/.virtualenvs/openfl/lib/python3.6/site-packages/openfl/component/collaborator/collaborator.py\u001b\\\u001b[2mcollaborator.py\u001b[0m\u001b]8;;\u001b\\\u001b[2m:324\u001b[0m\n",
      "train epoch: 16it [00:04,  3.25it/s]\n",
      "\u001b[2;36m[13:03:27]\u001b[0m\u001b[2;36m \u001b[0m\u001b[34mINFO\u001b[0m     Sending metric for task train, round number \u001b[1;34m15\u001b[0m: CrossEntropyLoss        \u001b[1;34m0.5886895656585693\u001b[0m                               \u001b]8;id=1608545007.663677-731667;file:///home/itrushkin/.virtualenvs/openfl/lib/python3.6/site-packages/openfl/component/collaborator/collaborator.py\u001b\\\u001b[2mcollaborator.py\u001b[0m\u001b]8;;\u001b\\\u001b[2m:324\u001b[0m\n",
      "\u001b[2;36m[13:03:38]\u001b[0m\u001b[2;36m \u001b[0m\u001b[34mINFO\u001b[0m     Sending metric for task locally_tuned_model_validation, round number \u001b[1;34m15\u001b[0m: acc    \u001b[1;34m0.7895791583166333\u001b[0m                       \u001b]8;id=1608545018.486045-467277;file:///home/itrushkin/.virtualenvs/openfl/lib/python3.6/site-packages/openfl/component/collaborator/collaborator.py\u001b\\\u001b[2mcollaborator.py\u001b[0m\u001b]8;;\u001b\\\u001b[2m:324\u001b[0m\n",
      "\u001b[2;36m          \u001b[0m\u001b[2;36m \u001b[0m\u001b[34mINFO\u001b[0m     Waiting for tasks\u001b[33m...\u001b[0m                                                                                                     \u001b]8;id=1608545018.5119503-11755;file:///home/itrushkin/.virtualenvs/openfl/lib/python3.6/site-packages/openfl/component/collaborator/collaborator.py\u001b\\\u001b[2mcollaborator.py\u001b[0m\u001b]8;;\u001b\\\u001b[2m:167\u001b[0m\n",
      "\u001b[2;36m[13:03:48]\u001b[0m\u001b[2;36m \u001b[0m\u001b[34mINFO\u001b[0m     Waiting for tasks\u001b[33m...\u001b[0m                                                                                                     \u001b]8;id=1608545028.5350661-973217;file:///home/itrushkin/.virtualenvs/openfl/lib/python3.6/site-packages/openfl/component/collaborator/collaborator.py\u001b\\\u001b[2mcollaborator.py\u001b[0m\u001b]8;;\u001b\\\u001b[2m:167\u001b[0m\n",
      "\u001b[2;36m[13:03:58]\u001b[0m\u001b[2;36m \u001b[0m\u001b[34mINFO\u001b[0m     Waiting for tasks\u001b[33m...\u001b[0m                                                                                                     \u001b]8;id=1608545038.6923206-824887;file:///home/itrushkin/.virtualenvs/openfl/lib/python3.6/site-packages/openfl/component/collaborator/collaborator.py\u001b\\\u001b[2mcollaborator.py\u001b[0m\u001b]8;;\u001b\\\u001b[2m:167\u001b[0m\n",
      "\u001b[2;36m          \u001b[0m\u001b[2;36m \u001b[0m\u001b[34mINFO\u001b[0m     Received the following tasks: \u001b[1m[\u001b[0m\u001b[32m'aggregated_model_validation'\u001b[0m, \u001b[32m'train'\u001b[0m, \u001b[32m'locally_tuned_model_validation'\u001b[0m\u001b[1m]\u001b[0m                 \u001b]8;id=1608545038.7123373-463678;file:///home/itrushkin/.virtualenvs/openfl/lib/python3.6/site-packages/openfl/component/collaborator/collaborator.py\u001b\\\u001b[2mcollaborator.py\u001b[0m\u001b]8;;\u001b\\\u001b[2m:137\u001b[0m\n",
      "\u001b[2;36m[13:04:01]\u001b[0m\u001b[2;36m \u001b[0m\u001b[34mINFO\u001b[0m     Sending metric for task aggregated_model_validation, round number \u001b[1;34m16\u001b[0m: acc       \u001b[1;34m0.8236472945891784\u001b[0m                       \u001b]8;id=1608545041.1239662-128776;file:///home/itrushkin/.virtualenvs/openfl/lib/python3.6/site-packages/openfl/component/collaborator/collaborator.py\u001b\\\u001b[2mcollaborator.py\u001b[0m\u001b]8;;\u001b\\\u001b[2m:324\u001b[0m\n",
      "train epoch: 16it [00:04,  3.26it/s]\n",
      "\u001b[2;36m[13:04:06]\u001b[0m\u001b[2;36m \u001b[0m\u001b[34mINFO\u001b[0m     Sending metric for task train, round number \u001b[1;34m16\u001b[0m: CrossEntropyLoss        \u001b[1;34m0.6072500348091125\u001b[0m                               \u001b]8;id=1608545046.4012353-675131;file:///home/itrushkin/.virtualenvs/openfl/lib/python3.6/site-packages/openfl/component/collaborator/collaborator.py\u001b\\\u001b[2mcollaborator.py\u001b[0m\u001b]8;;\u001b\\\u001b[2m:324\u001b[0m\n",
      "\u001b[2;36m[13:04:23]\u001b[0m\u001b[2;36m \u001b[0m\u001b[34mINFO\u001b[0m     Sending metric for task locally_tuned_model_validation, round number \u001b[1;34m16\u001b[0m: acc    \u001b[1;34m0.7875751503006012\u001b[0m                       \u001b]8;id=1608545063.2920752-503980;file:///home/itrushkin/.virtualenvs/openfl/lib/python3.6/site-packages/openfl/component/collaborator/collaborator.py\u001b\\\u001b[2mcollaborator.py\u001b[0m\u001b]8;;\u001b\\\u001b[2m:324\u001b[0m\n",
      "\u001b[2;36m[13:04:26]\u001b[0m\u001b[2;36m \u001b[0m\u001b[34mINFO\u001b[0m     Waiting for tasks\u001b[33m...\u001b[0m                                                                                                     \u001b]8;id=1608545066.379778-86730;file:///home/itrushkin/.virtualenvs/openfl/lib/python3.6/site-packages/openfl/component/collaborator/collaborator.py\u001b\\\u001b[2mcollaborator.py\u001b[0m\u001b]8;;\u001b\\\u001b[2m:167\u001b[0m\n",
      "\u001b[2;36m          \u001b[0m\u001b[2;36m \u001b[0m\u001b[34mINFO\u001b[0m     Received the following tasks: \u001b[1m[\u001b[0m\u001b[32m'aggregated_model_validation'\u001b[0m, \u001b[32m'train'\u001b[0m, \u001b[32m'locally_tuned_model_validation'\u001b[0m\u001b[1m]\u001b[0m                 \u001b]8;id=1608545066.3981168-178690;file:///home/itrushkin/.virtualenvs/openfl/lib/python3.6/site-packages/openfl/component/collaborator/collaborator.py\u001b\\\u001b[2mcollaborator.py\u001b[0m\u001b]8;;\u001b\\\u001b[2m:137\u001b[0m\n",
      "\u001b[2;36m[13:04:28]\u001b[0m\u001b[2;36m \u001b[0m\u001b[34mINFO\u001b[0m     Sending metric for task aggregated_model_validation, round number \u001b[1;34m17\u001b[0m: acc       \u001b[1;34m0.781563126252505\u001b[0m                        \u001b]8;id=1608545068.717997-315443;file:///home/itrushkin/.virtualenvs/openfl/lib/python3.6/site-packages/openfl/component/collaborator/collaborator.py\u001b\\\u001b[2mcollaborator.py\u001b[0m\u001b]8;;\u001b\\\u001b[2m:324\u001b[0m\n",
      "train epoch: 16it [00:04,  3.25it/s]\n",
      "\u001b[2;36m[13:04:34]\u001b[0m\u001b[2;36m \u001b[0m\u001b[34mINFO\u001b[0m     Sending metric for task train, round number \u001b[1;34m17\u001b[0m: CrossEntropyLoss        \u001b[1;34m0.5761207938194275\u001b[0m                               \u001b]8;id=1608545074.0126967-457360;file:///home/itrushkin/.virtualenvs/openfl/lib/python3.6/site-packages/openfl/component/collaborator/collaborator.py\u001b\\\u001b[2mcollaborator.py\u001b[0m\u001b]8;;\u001b\\\u001b[2m:324\u001b[0m\n",
      "\u001b[2;36m[13:04:44]\u001b[0m\u001b[2;36m \u001b[0m\u001b[34mINFO\u001b[0m     Sending metric for task locally_tuned_model_validation, round number \u001b[1;34m17\u001b[0m: acc    \u001b[1;34m0.7955911823647295\u001b[0m                       \u001b]8;id=1608545084.7852952-205396;file:///home/itrushkin/.virtualenvs/openfl/lib/python3.6/site-packages/openfl/component/collaborator/collaborator.py\u001b\\\u001b[2mcollaborator.py\u001b[0m\u001b]8;;\u001b\\\u001b[2m:324\u001b[0m\n",
      "\u001b[2;36m[13:04:45]\u001b[0m\u001b[2;36m \u001b[0m\u001b[34mINFO\u001b[0m     Waiting for tasks\u001b[33m...\u001b[0m                                                                                                     \u001b]8;id=1608545085.1441953-970075;file:///home/itrushkin/.virtualenvs/openfl/lib/python3.6/site-packages/openfl/component/collaborator/collaborator.py\u001b\\\u001b[2mcollaborator.py\u001b[0m\u001b]8;;\u001b\\\u001b[2m:167\u001b[0m\n",
      "\u001b[2;36m[13:04:55]\u001b[0m\u001b[2;36m \u001b[0m\u001b[34mINFO\u001b[0m     Waiting for tasks\u001b[33m...\u001b[0m                                                                                                     \u001b]8;id=1608545095.5570009-772348;file:///home/itrushkin/.virtualenvs/openfl/lib/python3.6/site-packages/openfl/component/collaborator/collaborator.py\u001b\\\u001b[2mcollaborator.py\u001b[0m\u001b]8;;\u001b\\\u001b[2m:167\u001b[0m\n",
      "\u001b[2;36m          \u001b[0m\u001b[2;36m \u001b[0m\u001b[34mINFO\u001b[0m     Received the following tasks: \u001b[1m[\u001b[0m\u001b[32m'aggregated_model_validation'\u001b[0m, \u001b[32m'train'\u001b[0m, \u001b[32m'locally_tuned_model_validation'\u001b[0m\u001b[1m]\u001b[0m                 \u001b]8;id=1608545095.57418-374536;file:///home/itrushkin/.virtualenvs/openfl/lib/python3.6/site-packages/openfl/component/collaborator/collaborator.py\u001b\\\u001b[2mcollaborator.py\u001b[0m\u001b]8;;\u001b\\\u001b[2m:137\u001b[0m\n",
      "\u001b[2;36m[13:04:58]\u001b[0m\u001b[2;36m \u001b[0m\u001b[34mINFO\u001b[0m     Sending metric for task aggregated_model_validation, round number \u001b[1;34m18\u001b[0m: acc       \u001b[1;34m0.781563126252505\u001b[0m                        \u001b]8;id=1608545098.5406241-446435;file:///home/itrushkin/.virtualenvs/openfl/lib/python3.6/site-packages/openfl/component/collaborator/collaborator.py\u001b\\\u001b[2mcollaborator.py\u001b[0m\u001b]8;;\u001b\\\u001b[2m:324\u001b[0m\n",
      "train epoch: 16it [00:04,  3.25it/s]\n",
      "\u001b[2;36m[13:05:03]\u001b[0m\u001b[2;36m \u001b[0m\u001b[34mINFO\u001b[0m     Sending metric for task train, round number \u001b[1;34m18\u001b[0m: CrossEntropyLoss        \u001b[1;34m0.6464892029762268\u001b[0m                               \u001b]8;id=1608545103.8306437-60994;file:///home/itrushkin/.virtualenvs/openfl/lib/python3.6/site-packages/openfl/component/collaborator/collaborator.py\u001b\\\u001b[2mcollaborator.py\u001b[0m\u001b]8;;\u001b\\\u001b[2m:324\u001b[0m\n"
     ]
    },
    {
     "name": "stdout",
     "output_type": "stream",
     "text": [
      "\u001b[2;36m[13:05:23]\u001b[0m\u001b[2;36m \u001b[0m\u001b[34mINFO\u001b[0m     Sending metric for task locally_tuned_model_validation, round number \u001b[1;34m18\u001b[0m: acc    \u001b[1;34m0.781563126252505\u001b[0m                        \u001b]8;id=1608545123.6327782-138485;file:///home/itrushkin/.virtualenvs/openfl/lib/python3.6/site-packages/openfl/component/collaborator/collaborator.py\u001b\\\u001b[2mcollaborator.py\u001b[0m\u001b]8;;\u001b\\\u001b[2m:324\u001b[0m\n",
      "\u001b[2;36m[13:05:26]\u001b[0m\u001b[2;36m \u001b[0m\u001b[34mINFO\u001b[0m     Waiting for tasks\u001b[33m...\u001b[0m                                                                                                     \u001b]8;id=1608545126.521226-473855;file:///home/itrushkin/.virtualenvs/openfl/lib/python3.6/site-packages/openfl/component/collaborator/collaborator.py\u001b\\\u001b[2mcollaborator.py\u001b[0m\u001b]8;;\u001b\\\u001b[2m:167\u001b[0m\n",
      "\u001b[2;36m          \u001b[0m\u001b[2;36m \u001b[0m\u001b[34mINFO\u001b[0m     Received the following tasks: \u001b[1m[\u001b[0m\u001b[32m'aggregated_model_validation'\u001b[0m, \u001b[32m'train'\u001b[0m, \u001b[32m'locally_tuned_model_validation'\u001b[0m\u001b[1m]\u001b[0m                 \u001b]8;id=1608545126.5412688-501903;file:///home/itrushkin/.virtualenvs/openfl/lib/python3.6/site-packages/openfl/component/collaborator/collaborator.py\u001b\\\u001b[2mcollaborator.py\u001b[0m\u001b]8;;\u001b\\\u001b[2m:137\u001b[0m\n",
      "\u001b[2;36m[13:05:28]\u001b[0m\u001b[2;36m \u001b[0m\u001b[34mINFO\u001b[0m     Sending metric for task aggregated_model_validation, round number \u001b[1;34m19\u001b[0m: acc       \u001b[1;34m0.7935871743486974\u001b[0m                       \u001b]8;id=1608545128.976869-499598;file:///home/itrushkin/.virtualenvs/openfl/lib/python3.6/site-packages/openfl/component/collaborator/collaborator.py\u001b\\\u001b[2mcollaborator.py\u001b[0m\u001b]8;;\u001b\\\u001b[2m:324\u001b[0m\n",
      "train epoch: 16it [00:04,  3.25it/s]\n",
      "\u001b[2;36m[13:05:34]\u001b[0m\u001b[2;36m \u001b[0m\u001b[34mINFO\u001b[0m     Sending metric for task train, round number \u001b[1;34m19\u001b[0m: CrossEntropyLoss        \u001b[1;34m0.6777623891830444\u001b[0m                               \u001b]8;id=1608545134.264008-211593;file:///home/itrushkin/.virtualenvs/openfl/lib/python3.6/site-packages/openfl/component/collaborator/collaborator.py\u001b\\\u001b[2mcollaborator.py\u001b[0m\u001b]8;;\u001b\\\u001b[2m:324\u001b[0m\n",
      "\u001b[2;36m[13:05:48]\u001b[0m\u001b[2;36m \u001b[0m\u001b[34mINFO\u001b[0m     Sending metric for task locally_tuned_model_validation, round number \u001b[1;34m19\u001b[0m: acc    \u001b[1;34m0.7254509018036072\u001b[0m                       \u001b]8;id=1608545148.3858829-121949;file:///home/itrushkin/.virtualenvs/openfl/lib/python3.6/site-packages/openfl/component/collaborator/collaborator.py\u001b\\\u001b[2mcollaborator.py\u001b[0m\u001b]8;;\u001b\\\u001b[2m:324\u001b[0m\n",
      "\u001b[2;36m          \u001b[0m\u001b[2;36m \u001b[0m\u001b[34mINFO\u001b[0m     Waiting for tasks\u001b[33m...\u001b[0m                                                                                                     \u001b]8;id=1608545148.709236-791850;file:///home/itrushkin/.virtualenvs/openfl/lib/python3.6/site-packages/openfl/component/collaborator/collaborator.py\u001b\\\u001b[2mcollaborator.py\u001b[0m\u001b]8;;\u001b\\\u001b[2m:167\u001b[0m\n",
      "\u001b[2;36m[13:05:58]\u001b[0m\u001b[2;36m \u001b[0m\u001b[34mINFO\u001b[0m     Waiting for tasks\u001b[33m...\u001b[0m                                                                                                     \u001b]8;id=1608545159.0001457-181709;file:///home/itrushkin/.virtualenvs/openfl/lib/python3.6/site-packages/openfl/component/collaborator/collaborator.py\u001b\\\u001b[2mcollaborator.py\u001b[0m\u001b]8;;\u001b\\\u001b[2m:167\u001b[0m\n",
      "\u001b[2;36m[13:05:59]\u001b[0m\u001b[2;36m \u001b[0m\u001b[34mINFO\u001b[0m     End of Federation reached. Exiting\u001b[33m...\u001b[0m                                                                                    \u001b]8;id=1608545159.0184453-5184;file:///home/itrushkin/.virtualenvs/openfl/lib/python3.6/site-packages/openfl/component/collaborator/collaborator.py\u001b\\\u001b[2mcollaborator.py\u001b[0m\u001b]8;;\u001b\\\u001b[2m:144\u001b[0m\n",
      "\n",
      " ✔️ OK\n"
     ]
    }
   ],
   "source": [
    "!fx collaborator start -n two"
   ]
  },
  {
   "cell_type": "code",
   "execution_count": null,
   "metadata": {},
   "outputs": [],
   "source": []
  }
 ],
 "metadata": {
  "kernelspec": {
   "display_name": "openfl",
   "language": "python",
   "name": "openfl"
  },
  "language_info": {
   "codemirror_mode": {
    "name": "ipython",
    "version": 3
   },
   "file_extension": ".py",
   "mimetype": "text/x-python",
   "name": "python",
   "nbconvert_exporter": "python",
   "pygments_lexer": "ipython3",
   "version": "3.6.9"
  }
 },
 "nbformat": 4,
 "nbformat_minor": 4
}
