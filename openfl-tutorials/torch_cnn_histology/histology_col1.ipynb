{
 "cells": [
  {
   "cell_type": "markdown",
   "metadata": {},
   "source": [
    "## 8. Make sure you have copied the workspace archive (.zip) from the aggregator node to the collaborator node."
   ]
  },
  {
   "cell_type": "code",
   "execution_count": 2,
   "metadata": {},
   "outputs": [
    {
     "name": "stdout",
     "output_type": "stream",
     "text": [
      "Requirement already satisfied: paramiko in /home/itrushkin/.virtualenvs/openfl/lib/python3.6/site-packages (2.7.2)\n",
      "Requirement already satisfied: scp in /home/itrushkin/.virtualenvs/openfl/lib/python3.6/site-packages (0.13.3)\n",
      "Requirement already satisfied: pynacl>=1.0.1 in /home/itrushkin/.virtualenvs/openfl/lib/python3.6/site-packages (from paramiko) (1.4.0)\n",
      "Requirement already satisfied: bcrypt>=3.1.3 in /home/itrushkin/.virtualenvs/openfl/lib/python3.6/site-packages (from paramiko) (3.2.0)\n",
      "Requirement already satisfied: cryptography>=2.5 in /home/itrushkin/.virtualenvs/openfl/lib/python3.6/site-packages (from paramiko) (3.2.1)\n",
      "Requirement already satisfied: six in /home/itrushkin/.virtualenvs/openfl/lib/python3.6/site-packages (from pynacl>=1.0.1->paramiko) (1.15.0)\n",
      "Requirement already satisfied: cffi>=1.4.1 in /home/itrushkin/.virtualenvs/openfl/lib/python3.6/site-packages (from pynacl>=1.0.1->paramiko) (1.14.3)\n",
      "Requirement already satisfied: pycparser in /home/itrushkin/.virtualenvs/openfl/lib/python3.6/site-packages (from cffi>=1.4.1->pynacl>=1.0.1->paramiko) (2.20)\n",
      "\u001b[33mWARNING: You are using pip version 20.2.4; however, version 20.3.3 is available.\n",
      "You should consider upgrading via the '/home/itrushkin/.virtualenvs/openfl/bin/python -m pip install --upgrade pip' command.\u001b[0m\n",
      "Enter itrushki@nnlicv431.inn.intel.com password:········\n"
     ]
    }
   ],
   "source": [
    "!pip install paramiko scp\n",
    "\n",
    "from paramiko import SSHClient, AutoAddPolicy\n",
    "from scp import SCPClient\n",
    "from pathlib import Path\n",
    "from getpass import getpass\n",
    "import os\n",
    "\n",
    "afqdn =  # 'example.domain.com'\n",
    "workspace_src = # 'path/to/workspace'\n",
    "archive_name = 'workspace.zip'\n",
    "folder_name = archive_name.split('.')[0]\n",
    "workspace_dst = # 'root path of workspace on destination machine'\n",
    "src_user = 'user'\n",
    "\n",
    "\n",
    "ssh_client = SSHClient()\n",
    "ssh_client.set_missing_host_key_policy(AutoAddPolicy())\n",
    "ssh_client.connect(afqdn, username=src_user, password=getpass(f'Enter {src_user}@{afqdn} password:'))\n",
    "scp = SCPClient(ssh_client.get_transport())\n",
    "os.makedirs(workspace_dst, exist_ok=True)\n",
    "scp.get(str(Path(workspace_src) / archive_name), workspace_dst)"
   ]
  },
  {
   "cell_type": "markdown",
   "metadata": {},
   "source": [
    "# 10. Import the workspace archive."
   ]
  },
  {
   "cell_type": "code",
   "execution_count": 3,
   "metadata": {},
   "outputs": [
    {
     "name": "stdout",
     "output_type": "stream",
     "text": [
      "/home/itrushkin/col1\n",
      "\u001b[2J\u001b[1;1H\u001b[104m\u001b[1mIntel openfl - Secure Federated Learning at the Edge™                           \u001b[0m\n",
      "\n",
      "2020-12-21 12:42:23.687957: W tensorflow/stream_executor/platform/default/dso_loader.cc:59] Could not load dynamic library 'libcudart.so.10.1'; dlerror: libcudart.so.10.1: cannot open shared object file: No such file or directory\n",
      "2020-12-21 12:42:23.687983: I tensorflow/stream_executor/cuda/cudart_stub.cc:29] Ignore above cudart dlerror if you do not have a GPU set up on your machine.\n",
      "\u001b[33mWARNING: You are using pip version 20.2.4; however, version 20.3.3 is available.\n",
      "You should consider upgrading via the '/home/itrushkin/.virtualenvs/openfl/bin/python -m pip install --upgrade pip' command.\u001b[0m\n",
      "Workspace workspace.zip has been imported.\n",
      "You may need to copy your PKI certificates to join the federation.\n",
      "\n",
      " ✔️ OK\n",
      "/home/itrushkin/col1/workspace\n"
     ]
    }
   ],
   "source": [
    "%cd $workspace_dst\n",
    "!rm -rf $folder_name\n",
    "!fx workspace import --archive $archive_name\n",
    "%cd $folder_name"
   ]
  },
  {
   "cell_type": "markdown",
   "metadata": {},
   "source": [
    "## 12. Create a collaborator certificate request."
   ]
  },
  {
   "cell_type": "code",
   "execution_count": 4,
   "metadata": {},
   "outputs": [
    {
     "name": "stdout",
     "output_type": "stream",
     "text": [
      "\u001b[2J\u001b[1;1H\u001b[104m\u001b[1mIntel openfl - Secure Federated Learning at the Edge™                           \u001b[0m\n",
      "\n",
      "2020-12-21 12:42:28.522804: W tensorflow/stream_executor/platform/default/dso_loader.cc:59] Could not load dynamic library 'libcudart.so.10.1'; dlerror: libcudart.so.10.1: cannot open shared object file: No such file or directory\n",
      "2020-12-21 12:42:28.522830: I tensorflow/stream_executor/cuda/cudart_stub.cc:29] Ignore above cudart dlerror if you do not have a GPU set up on your machine.\n",
      "Creating COLLABORATOR certificate key pair with following settings: CN=\u001b[31mone\u001b[0m, SAN=\u001b[31mDNS:one\u001b[0m\n",
      "  Moving COLLABORATOR certificate to: \u001b[32mcert/col_one\u001b[0m\n",
      "Archive col_one_to_agg_cert_request.zip with certificate signing request created\n",
      "This file should be sent to the certificate authority (typically hosted by the aggregator) for signing\n",
      "\n",
      " ✔️ OK\n"
     ]
    }
   ],
   "source": [
    "!fx collaborator generate-cert-request -n one -d 1\n",
    "scp.put('col_one_to_agg_cert_request.zip', workspace_src)"
   ]
  },
  {
   "cell_type": "markdown",
   "metadata": {},
   "source": [
    "## 15. Get signed certificates from the aggregator."
   ]
  },
  {
   "cell_type": "code",
   "execution_count": 6,
   "metadata": {},
   "outputs": [
    {
     "name": "stdout",
     "output_type": "stream",
     "text": [
      "\u001b[2J\u001b[1;1H\u001b[104m\u001b[1mIntel openfl - Secure Federated Learning at the Edge™                           \u001b[0m\n",
      "\n",
      "2020-12-21 12:55:00.484566: W tensorflow/stream_executor/platform/default/dso_loader.cc:59] Could not load dynamic library 'libcudart.so.10.1'; dlerror: libcudart.so.10.1: cannot open shared object file: No such file or directory\n",
      "2020-12-21 12:55:00.484592: I tensorflow/stream_executor/cuda/cudart_stub.cc:29] Ignore above cudart dlerror if you do not have a GPU set up on your machine.\n",
      "Certificate col_one.crt installed to PKI directory\n",
      "\n",
      " ✔️ OK\n"
     ]
    }
   ],
   "source": [
    "scp.get(str(Path(workspace_src) / 'agg_to_col_one_signed_cert.zip'), '.')\n",
    "!fx collaborator certify --import agg_to_col_one_signed_cert.zip"
   ]
  },
  {
   "cell_type": "markdown",
   "metadata": {},
   "source": [
    "# Choose a device"
   ]
  },
  {
   "cell_type": "code",
   "execution_count": 7,
   "metadata": {},
   "outputs": [
    {
     "name": "stdout",
     "output_type": "stream",
     "text": [
      "env: CUDA_VISIBLE_DEVICES=0\n"
     ]
    }
   ],
   "source": [
    "%env CUDA_VISIBLE_DEVICES=0"
   ]
  },
  {
   "cell_type": "markdown",
   "metadata": {},
   "source": [
    "# Run the collaborator process"
   ]
  },
  {
   "cell_type": "code",
   "execution_count": 8,
   "metadata": {},
   "outputs": [
    {
     "name": "stdout",
     "output_type": "stream",
     "text": [
      "\u001b[2J\u001b[1;1H\u001b[104m\u001b[1mIntel openfl - Secure Federated Learning at the Edge™                           \u001b[0m\n",
      "\n",
      "2020-12-21 12:55:31.062344: W tensorflow/stream_executor/platform/default/dso_loader.cc:59] Could not load dynamic library 'libcudart.so.10.1'; dlerror: libcudart.so.10.1: cannot open shared object file: No such file or directory\n",
      "2020-12-21 12:55:31.062371: I tensorflow/stream_executor/cuda/cudart_stub.cc:29] Ignore above cudart dlerror if you do not have a GPU set up on your machine.\n",
      "\u001b[2;36m[12:55:32]\u001b[0m\u001b[2;36m \u001b[0m\u001b[34mINFO\u001b[0m     Loading DEFAULTS for section \u001b[31maggregator\u001b[0m from file \u001b[31mplan/defaults/aggregator.yaml\u001b[0m.                                                  \u001b]8;id=1608544532.0565982-669607;file:///home/itrushkin/.virtualenvs/openfl/lib/python3.6/site-packages/openfl/federated/plan/plan.py\u001b\\\u001b[2mplan.py\u001b[0m\u001b]8;;\u001b\\\u001b[2m:87\u001b[0m\n",
      "\u001b[2;36m          \u001b[0m\u001b[2;36m \u001b[0m\u001b[34mINFO\u001b[0m     Loading DEFAULTS for section \u001b[31massigner\u001b[0m from file \u001b[31mplan/defaults/assigner.yaml\u001b[0m.                                                      \u001b]8;id=1608544532.0583134-696889;file:///home/itrushkin/.virtualenvs/openfl/lib/python3.6/site-packages/openfl/federated/plan/plan.py\u001b\\\u001b[2mplan.py\u001b[0m\u001b]8;;\u001b\\\u001b[2m:87\u001b[0m\n",
      "\u001b[2;36m          \u001b[0m\u001b[2;36m \u001b[0m\u001b[34mINFO\u001b[0m     Loading DEFAULTS for section \u001b[31mcollaborator\u001b[0m from file \u001b[31mplan/defaults/collaborator.yaml\u001b[0m.                                              \u001b]8;id=1608544532.0603242-45930;file:///home/itrushkin/.virtualenvs/openfl/lib/python3.6/site-packages/openfl/federated/plan/plan.py\u001b\\\u001b[2mplan.py\u001b[0m\u001b]8;;\u001b\\\u001b[2m:87\u001b[0m\n",
      "\u001b[2;36m          \u001b[0m\u001b[2;36m \u001b[0m\u001b[34mINFO\u001b[0m     Loading DEFAULTS for section \u001b[31mnetwork\u001b[0m from file \u001b[31mplan/defaults/network.yaml\u001b[0m.                                                        \u001b]8;id=1608544532.0621107-260206;file:///home/itrushkin/.virtualenvs/openfl/lib/python3.6/site-packages/openfl/federated/plan/plan.py\u001b\\\u001b[2mplan.py\u001b[0m\u001b]8;;\u001b\\\u001b[2m:87\u001b[0m\n",
      "\u001b[2;36m          \u001b[0m\u001b[2;36m \u001b[0m\u001b[34mINFO\u001b[0m     Loading DEFAULTS for section \u001b[31mtask_runner\u001b[0m from file \u001b[31mplan/defaults/task_runner.yaml\u001b[0m.                                                \u001b]8;id=1608544532.0640738-537551;file:///home/itrushkin/.virtualenvs/openfl/lib/python3.6/site-packages/openfl/federated/plan/plan.py\u001b\\\u001b[2mplan.py\u001b[0m\u001b]8;;\u001b\\\u001b[2m:87\u001b[0m\n",
      "\u001b[2;36m          \u001b[0m\u001b[2;36m \u001b[0m\u001b[34mINFO\u001b[0m     Loading DEFAULTS for section \u001b[31mtasks\u001b[0m from file \u001b[31mplan/defaults/tasks_torch.yaml\u001b[0m.                                                      \u001b]8;id=1608544532.0655837-463451;file:///home/itrushkin/.virtualenvs/openfl/lib/python3.6/site-packages/openfl/federated/plan/plan.py\u001b\\\u001b[2mplan.py\u001b[0m\u001b]8;;\u001b\\\u001b[2m:87\u001b[0m\n",
      "\u001b[2;36m          \u001b[0m\u001b[2;36m \u001b[0m\u001b[34mINFO\u001b[0m     FL-Plan hash is \u001b[34m7da62f28238a0d52ab0db363b2fe9a46\u001b[0m                                                                                 \u001b]8;id=1608544532.0704436-45199;file:///home/itrushkin/.virtualenvs/openfl/lib/python3.6/site-packages/openfl/federated/plan/plan.py\u001b\\\u001b[2mplan.py\u001b[0m\u001b]8;;\u001b\\\u001b[2m:183\u001b[0m\n",
      "\u001b[2;36m          \u001b[0m\u001b[2;36m \u001b[0m\u001b[34mINFO\u001b[0m     FL-Plan hash is \u001b[34m7da62f28238a0d52ab0db363b2fe9a46\u001b[0m                                                                                 \u001b]8;id=1608544532.0741727-145108;file:///home/itrushkin/.virtualenvs/openfl/lib/python3.6/site-packages/openfl/federated/plan/plan.py\u001b\\\u001b[2mplan.py\u001b[0m\u001b]8;;\u001b\\\u001b[2m:183\u001b[0m\n",
      "\u001b[2;36m          \u001b[0m\u001b[2;36m \u001b[0m\u001b[34mINFO\u001b[0m     Parsing Federated Learning Plan : \u001b[32mSUCCESS\u001b[0m : \u001b[34mplan/plan.yaml\u001b[0m.                                                                      \u001b]8;id=1608544532.0755672-462132;file:///home/itrushkin/.virtualenvs/openfl/lib/python3.6/site-packages/openfl/federated/plan/plan.py\u001b\\\u001b[2mplan.py\u001b[0m\u001b]8;;\u001b\\\u001b[2m:116\u001b[0m\n",
      "\u001b[2;36m          \u001b[0m\u001b[2;36m \u001b[0m\u001b[34mINFO\u001b[0m     aggregator:                                                                                                                      \u001b]8;id=1608544532.0862908-506125;file:///home/itrushkin/.virtualenvs/openfl/lib/python3.6/site-packages/openfl/federated/plan/plan.py\u001b\\\u001b[2mplan.py\u001b[0m\u001b]8;;\u001b\\\u001b[2m:117\u001b[0m\n",
      "                      defaults: plan/defaults/aggregator.yaml                                                                                                   \n",
      "                      settings:                                                                                                                                 \n",
      "                        best_state_path: save/torch_cnn_histology_best.pbuf                                                                                     \n",
      "                        db_store_rounds: \u001b[1;34m1\u001b[0m                                                                                                                      \n",
      "                        init_state_path: save/torch_cnn_histology_init.pbuf                                                                                     \n",
      "                        last_state_path: save/torch_cnn_histology_last.pbuf                                                                                     \n",
      "                        rounds_to_train: \u001b[1;34m20\u001b[0m                                                                                                                     \n",
      "                      template: openfl.component.Aggregator                                                                                                     \n",
      "                    assigner:                                                                                                                                   \n",
      "                      defaults: plan/defaults/assigner.yaml                                                                                                     \n",
      "                      settings:                                                                                                                                 \n",
      "                        task_groups:                                                                                                                            \n",
      "                        - name: train_and_validate                                                                                                              \n",
      "                          percentage: \u001b[1;34m1.0\u001b[0m                                                                                                                       \n",
      "                          tasks:                                                                                                                                \n",
      "                          - aggregated_model_validation                                                                                                         \n",
      "                          - train                                                                                                                               \n",
      "                          - locally_tuned_model_validation                                                                                                      \n",
      "                      template: openfl.component.RandomGroupedAssigner                                                                                          \n",
      "                    collaborator:                                                                                                                               \n",
      "                      defaults: plan/defaults/collaborator.yaml                                                                                                 \n",
      "                      settings:                                                                                                                                 \n",
      "                        db_store_rounds: \u001b[1;34m1\u001b[0m                                                                                                                      \n",
      "                        delta_updates: false                                                                                                                    \n",
      "                        epochs_per_round: \u001b[1;34m1.0\u001b[0m                                                                                                                   \n",
      "                        opt_treatment: RESET                                                                                                                    \n",
      "                        polling_interval: \u001b[1;34m4\u001b[0m                                                                                                                     \n",
      "                      template: openfl.component.Collaborator                                                                                                   \n",
      "                    data_loader:                                                                                                                                \n",
      "                      settings:                                                                                                                                 \n",
      "                        batch_size: \u001b[1;34m128\u001b[0m                                                                                                                         \n",
      "                        collaborator_count: \u001b[1;34m2\u001b[0m                                                                                                                   \n",
      "                        data_group_name: histology                                                                                                              \n",
      "                      template: code.pthistology_inmemory.PyTorchHistologyInMemory                                                                              \n",
      "                    network:                                                                                                                                    \n",
      "                      defaults: plan/defaults/network.yaml                                                                                                      \n",
      "                      settings:                                                                                                                                 \n",
      "                        agg_addr: nnlicv431.inn.intel.com                                                                                                       \n",
      "                        agg_port: \u001b[1;34m60714\u001b[0m                                                                                                                         \n",
      "                        cert_folder: cert                                                                                                                       \n",
      "                        disable_client_auth: false                                                                                                              \n",
      "                        disable_tls: false                                                                                                                      \n",
      "                        hash_salt: auto                                                                                                                         \n",
      "                      template: openfl.federation.Network                                                                                                       \n",
      "                    task_runner:                                                                                                                                \n",
      "                      defaults: plan/defaults/task_runner.yaml                                                                                                  \n",
      "                      settings: \u001b[1m{\u001b[0m\u001b[1m}\u001b[0m                                                                                                                              \n",
      "                      template: code.pt_cnn.PyTorchCNN                                                                                                          \n",
      "                    tasks:                                                                                                                                      \n",
      "                      aggregated_model_validation:                                                                                                              \n",
      "                        function: validate                                                                                                                      \n",
      "                        kwargs:                                                                                                                                 \n",
      "                          apply: global                                                                                                                         \n",
      "                          metrics:                                                                                                                              \n",
      "                          - acc                                                                                                                                 \n",
      "                      defaults: plan/defaults/tasks_torch.yaml                                                                                                  \n",
      "                      locally_tuned_model_validation:                                                                                                           \n",
      "                        function: validate                                                                                                                      \n",
      "                        kwargs:                                                                                                                                 \n",
      "                          apply: local                                                                                                                          \n",
      "                          metrics:                                                                                                                              \n",
      "                          - acc                                                                                                                                 \n",
      "                      settings: \u001b[1m{\u001b[0m\u001b[1m}\u001b[0m                                                                                                                              \n",
      "                      train:                                                                                                                                    \n",
      "                        function: train_batches                                                                                                                 \n",
      "                        kwargs:                                                                                                                                 \n",
      "                          metrics:                                                                                                                              \n",
      "                          - loss                                                                                                                                \n",
      "                                                                                                                                                                \n",
      "Data = {'one': '1', 'two': '2'}\n",
      "\u001b[2;36m          \u001b[0m\u001b[2;36m \u001b[0m\u001b[34mINFO\u001b[0m     🧿 Starting a Collaborator Service.                                                                                       \u001b]8;id=1608544532.0900402-207615;file:///home/itrushkin/.virtualenvs/openfl/lib/python3.6/site-packages/openfl/interface/collaborator.py\u001b\\\u001b[2mcollaborator.py\u001b[0m\u001b]8;;\u001b\\\u001b[2m:32\u001b[0m\n",
      "\u001b[2;36m          \u001b[0m\u001b[2;36m \u001b[0m\u001b[34mINFO\u001b[0m     Building \u001b[31m🡆\u001b[0m Object \u001b[31mPyTorchHistologyInMemory\u001b[0m from \u001b[31mcode.pthistology_inmemory\u001b[0m Module.                                                \u001b]8;id=1608544532.0914562-756675;file:///home/itrushkin/.virtualenvs/openfl/lib/python3.6/site-packages/openfl/federated/plan/plan.py\u001b\\\u001b[2mplan.py\u001b[0m\u001b]8;;\u001b\\\u001b[2m:147\u001b[0m\n",
      "\u001b[2;36m          \u001b[0m\u001b[2;36m \u001b[0m\u001b[34mINFO\u001b[0m     Settings \u001b[31m🡆\u001b[0m \u001b[1m{\u001b[0m\u001b[32m'batch_size'\u001b[0m: \u001b[1;34m128\u001b[0m, \u001b[32m'collaborator_count'\u001b[0m: \u001b[1;34m2\u001b[0m, \u001b[32m'data_group_name'\u001b[0m: \u001b[32m'histology'\u001b[0m, \u001b[32m'data_path'\u001b[0m: \u001b[32m'1'\u001b[0m\u001b[1m}\u001b[0m                        \u001b]8;id=1608544532.092915-251333;file:///home/itrushkin/.virtualenvs/openfl/lib/python3.6/site-packages/openfl/federated/plan/plan.py\u001b\\\u001b[2mplan.py\u001b[0m\u001b]8;;\u001b\\\u001b[2m:148\u001b[0m\n",
      "\u001b[2;36m          \u001b[0m\u001b[2;36m \u001b[0m\u001b[34mINFO\u001b[0m     Override \u001b[31m🡆\u001b[0m \u001b[1m{\u001b[0m\u001b[1m}\u001b[0m                                                                                                                    \u001b]8;id=1608544532.0942154-554947;file:///home/itrushkin/.virtualenvs/openfl/lib/python3.6/site-packages/openfl/federated/plan/plan.py\u001b\\\u001b[2mplan.py\u001b[0m\u001b]8;;\u001b\\\u001b[2m:149\u001b[0m\n"
     ]
    },
    {
     "name": "stdout",
     "output_type": "stream",
     "text": [
      "\u001b[2;36m[12:55:33]\u001b[0m\u001b[2;36m \u001b[0m\u001b[34mINFO\u001b[0m     Histology > X_train Shape : \u001b[1m(\u001b[0m\u001b[1;34m2000\u001b[0m, \u001b[1;34m3\u001b[0m, \u001b[1;34m150\u001b[0m, \u001b[1;34m150\u001b[0m\u001b[1m)\u001b[0m                                                                       \u001b]8;id=1608544533.5810006-920975;file:///home/itrushkin/col1/workspace/code/histology_utils.py\u001b\\\u001b[2mhistology_utils.py\u001b[0m\u001b]8;;\u001b\\\u001b[2m:136\u001b[0m\n",
      "\u001b[2;36m          \u001b[0m\u001b[2;36m \u001b[0m\u001b[34mINFO\u001b[0m     Histology > y_train Shape : \u001b[1m(\u001b[0m\u001b[1;34m2000\u001b[0m,\u001b[1m)\u001b[0m                                                                                   \u001b]8;id=1608544533.5824144-229430;file:///home/itrushkin/col1/workspace/code/histology_utils.py\u001b\\\u001b[2mhistology_utils.py\u001b[0m\u001b]8;;\u001b\\\u001b[2m:137\u001b[0m\n",
      "\u001b[2;36m          \u001b[0m\u001b[2;36m \u001b[0m\u001b[34mINFO\u001b[0m     Histology > Train Samples : \u001b[1;34m2000\u001b[0m                                                                                      \u001b]8;id=1608544533.583696-878858;file:///home/itrushkin/col1/workspace/code/histology_utils.py\u001b\\\u001b[2mhistology_utils.py\u001b[0m\u001b]8;;\u001b\\\u001b[2m:138\u001b[0m\n",
      "\u001b[2;36m          \u001b[0m\u001b[2;36m \u001b[0m\u001b[34mINFO\u001b[0m     Histology > Valid Samples : \u001b[1;34m500\u001b[0m                                                                                       \u001b]8;id=1608544533.5849416-849294;file:///home/itrushkin/col1/workspace/code/histology_utils.py\u001b\\\u001b[2mhistology_utils.py\u001b[0m\u001b]8;;\u001b\\\u001b[2m:139\u001b[0m\n",
      "\u001b[2;36m          \u001b[0m\u001b[2;36m \u001b[0m\u001b[34mINFO\u001b[0m     Building \u001b[31m🡆\u001b[0m Object \u001b[31mPyTorchCNN\u001b[0m from \u001b[31mcode.pt_cnn\u001b[0m Module.                                                                            \u001b]8;id=1608544533.5863879-713983;file:///home/itrushkin/.virtualenvs/openfl/lib/python3.6/site-packages/openfl/federated/plan/plan.py\u001b\\\u001b[2mplan.py\u001b[0m\u001b]8;;\u001b\\\u001b[2m:147\u001b[0m\n",
      "\u001b[2;36m          \u001b[0m\u001b[2;36m \u001b[0m\u001b[34mINFO\u001b[0m     Settings \u001b[31m🡆\u001b[0m \u001b[1m{\u001b[0m\u001b[32m'data_loader'\u001b[0m: \u001b[1m<\u001b[0m\u001b[1;95mcode.pthistology_inmemory.PyTorchHistologyInMemory\u001b[0m\u001b[39m object at \u001b[0m\u001b[1;34m0x7fcc572f0c18\u001b[0m\u001b[1m>\u001b[0m\u001b[1m}\u001b[0m                        \u001b]8;id=1608544533.5878923-589914;file:///home/itrushkin/.virtualenvs/openfl/lib/python3.6/site-packages/openfl/federated/plan/plan.py\u001b\\\u001b[2mplan.py\u001b[0m\u001b]8;;\u001b\\\u001b[2m:148\u001b[0m\n",
      "\u001b[2;36m          \u001b[0m\u001b[2;36m \u001b[0m\u001b[34mINFO\u001b[0m     Override \u001b[31m🡆\u001b[0m \u001b[1m{\u001b[0m\u001b[32m'defaults'\u001b[0m: \u001b[32m'plan/defaults/task_runner.yaml'\u001b[0m\u001b[1m}\u001b[0m                                                                        \u001b]8;id=1608544533.5892725-144038;file:///home/itrushkin/.virtualenvs/openfl/lib/python3.6/site-packages/openfl/federated/plan/plan.py\u001b\\\u001b[2mplan.py\u001b[0m\u001b]8;;\u001b\\\u001b[2m:149\u001b[0m\n",
      "PyTorchCNN(\n",
      "  (conv1): Conv2d(3, 16, kernel_size=(3, 3), stride=(1, 1), padding=(1, 1))\n",
      "  (conv2): Conv2d(16, 32, kernel_size=(3, 3), stride=(1, 1), padding=(1, 1))\n",
      "  (conv3): Conv2d(32, 64, kernel_size=(3, 3), stride=(1, 1), padding=(1, 1))\n",
      "  (conv4): Conv2d(64, 128, kernel_size=(3, 3), stride=(1, 1), padding=(1, 1))\n",
      "  (conv5): Conv2d(160, 256, kernel_size=(3, 3), stride=(1, 1), padding=(1, 1))\n",
      "  (conv6): Conv2d(256, 512, kernel_size=(3, 3), stride=(1, 1), padding=(1, 1))\n",
      "  (conv7): Conv2d(672, 256, kernel_size=(3, 3), stride=(1, 1), padding=(1, 1))\n",
      "  (conv8): Conv2d(256, 512, kernel_size=(3, 3), stride=(1, 1), padding=(1, 1))\n",
      "  (fc1): Linear(in_features=95904, out_features=128, bias=True)\n",
      "  (fc2): Linear(in_features=128, out_features=8, bias=True)\n",
      ")\n",
      "\u001b[2;36m[12:55:35]\u001b[0m\u001b[2;36m \u001b[0m\u001b[31mWARNING\u001b[0m  tried to remove tensor: __opt_state_needed not present in the tensor dict                                                        \u001b]8;id=1608544535.6076677-995046;file:///home/itrushkin/.virtualenvs/openfl/lib/python3.6/site-packages/openfl/utilities/utils.py\u001b\\\u001b[2mutils.py\u001b[0m\u001b]8;;\u001b\\\u001b[2m:78\u001b[0m\n",
      "\u001b[2;36m          \u001b[0m\u001b[2;36m \u001b[0m\u001b[34mINFO\u001b[0m     Building \u001b[31m🡆\u001b[0m Object \u001b[31mNoCompressionPipeline\u001b[0m from \u001b[31mopenfl.pipelines\u001b[0m Module.                                                            \u001b]8;id=1608544535.6101656-760638;file:///home/itrushkin/.virtualenvs/openfl/lib/python3.6/site-packages/openfl/federated/plan/plan.py\u001b\\\u001b[2mplan.py\u001b[0m\u001b]8;;\u001b\\\u001b[2m:147\u001b[0m\n",
      "\u001b[2;36m          \u001b[0m\u001b[2;36m \u001b[0m\u001b[34mINFO\u001b[0m     Settings \u001b[31m🡆\u001b[0m \u001b[1m{\u001b[0m\u001b[1m}\u001b[0m                                                                                                                    \u001b]8;id=1608544535.6114748-894233;file:///home/itrushkin/.virtualenvs/openfl/lib/python3.6/site-packages/openfl/federated/plan/plan.py\u001b\\\u001b[2mplan.py\u001b[0m\u001b]8;;\u001b\\\u001b[2m:148\u001b[0m\n",
      "\u001b[2;36m          \u001b[0m\u001b[2;36m \u001b[0m\u001b[34mINFO\u001b[0m     Override \u001b[31m🡆\u001b[0m \u001b[1m{\u001b[0m\u001b[1m}\u001b[0m                                                                                                                    \u001b]8;id=1608544535.6127903-616858;file:///home/itrushkin/.virtualenvs/openfl/lib/python3.6/site-packages/openfl/federated/plan/plan.py\u001b\\\u001b[2mplan.py\u001b[0m\u001b]8;;\u001b\\\u001b[2m:149\u001b[0m\n",
      "\u001b[2;36m          \u001b[0m\u001b[2;36m \u001b[0m\u001b[34mINFO\u001b[0m     Building \u001b[31m🡆\u001b[0m Object \u001b[31mCollaborator\u001b[0m from \u001b[31mopenfl.component\u001b[0m Module.                                                                     \u001b]8;id=1608544535.6172945-968203;file:///home/itrushkin/.virtualenvs/openfl/lib/python3.6/site-packages/openfl/federated/plan/plan.py\u001b\\\u001b[2mplan.py\u001b[0m\u001b]8;;\u001b\\\u001b[2m:147\u001b[0m\n",
      "\u001b[2;36m          \u001b[0m\u001b[2;36m \u001b[0m\u001b[34mINFO\u001b[0m     Settings \u001b[31m🡆\u001b[0m \u001b[1m{\u001b[0m\u001b[32m'opt_treatment'\u001b[0m: \u001b[32m'RESET'\u001b[0m, \u001b[32m'delta_updates'\u001b[0m: \u001b[3;91mFalse\u001b[0m, \u001b[32m'db_store_rounds'\u001b[0m: \u001b[1;34m1\u001b[0m, \u001b[32m'epochs_per_round'\u001b[0m: \u001b[1;34m1.0\u001b[0m, \u001b[32m'polling_interval'\u001b[0m: \u001b]8;id=1608544535.6243737-346564;file:///home/itrushkin/.virtualenvs/openfl/lib/python3.6/site-packages/openfl/federated/plan/plan.py\u001b\\\u001b[2mplan.py\u001b[0m\u001b]8;;\u001b\\\u001b[2m:148\u001b[0m\n",
      "                    \u001b[1;34m4\u001b[0m, \u001b[32m'collaborator_name'\u001b[0m: \u001b[32m'one'\u001b[0m, \u001b[32m'aggregator_uuid'\u001b[0m: \u001b[32m'aggregator_plan.yaml_7da62f28'\u001b[0m, \u001b[32m'federation_uuid'\u001b[0m: \u001b[32m'plan.yaml_7da62f28'\u001b[0m,                 \n",
      "                    \u001b[32m'task_runner'\u001b[0m: PyTorchCNN\u001b[1m(\u001b[0m                                                                                                                  \n",
      "                      \u001b[1m(\u001b[0mconv1\u001b[1m)\u001b[0m: Conv2d\u001b[1m(\u001b[0m\u001b[1;34m3\u001b[0m, \u001b[1;34m16\u001b[0m, \u001b[33mkernel_size\u001b[0m=\u001b[1m(\u001b[0m\u001b[1;34m3\u001b[0m, \u001b[1;34m3\u001b[0m\u001b[1m)\u001b[0m, \u001b[33mstride\u001b[0m=\u001b[1m(\u001b[0m\u001b[1;34m1\u001b[0m, \u001b[1;34m1\u001b[0m\u001b[1m)\u001b[0m, \u001b[33mpadding\u001b[0m=\u001b[1m(\u001b[0m\u001b[1;34m1\u001b[0m, \u001b[1;34m1\u001b[0m\u001b[1m)\u001b[0m\u001b[1m)\u001b[0m                                                                 \n",
      "                      \u001b[1m(\u001b[0mconv2\u001b[1m)\u001b[0m: Conv2d\u001b[1m(\u001b[0m\u001b[1;34m16\u001b[0m, \u001b[1;34m32\u001b[0m, \u001b[33mkernel_size\u001b[0m=\u001b[1m(\u001b[0m\u001b[1;34m3\u001b[0m, \u001b[1;34m3\u001b[0m\u001b[1m)\u001b[0m, \u001b[33mstride\u001b[0m=\u001b[1m(\u001b[0m\u001b[1;34m1\u001b[0m, \u001b[1;34m1\u001b[0m\u001b[1m)\u001b[0m, \u001b[33mpadding\u001b[0m=\u001b[1m(\u001b[0m\u001b[1;34m1\u001b[0m, \u001b[1;34m1\u001b[0m\u001b[1m)\u001b[0m\u001b[1m)\u001b[0m                                                                \n",
      "                      \u001b[1m(\u001b[0mconv3\u001b[1m)\u001b[0m: Conv2d\u001b[1m(\u001b[0m\u001b[1;34m32\u001b[0m, \u001b[1;34m64\u001b[0m, \u001b[33mkernel_size\u001b[0m=\u001b[1m(\u001b[0m\u001b[1;34m3\u001b[0m, \u001b[1;34m3\u001b[0m\u001b[1m)\u001b[0m, \u001b[33mstride\u001b[0m=\u001b[1m(\u001b[0m\u001b[1;34m1\u001b[0m, \u001b[1;34m1\u001b[0m\u001b[1m)\u001b[0m, \u001b[33mpadding\u001b[0m=\u001b[1m(\u001b[0m\u001b[1;34m1\u001b[0m, \u001b[1;34m1\u001b[0m\u001b[1m)\u001b[0m\u001b[1m)\u001b[0m                                                                \n",
      "                      \u001b[1m(\u001b[0mconv4\u001b[1m)\u001b[0m: Conv2d\u001b[1m(\u001b[0m\u001b[1;34m64\u001b[0m, \u001b[1;34m128\u001b[0m, \u001b[33mkernel_size\u001b[0m=\u001b[1m(\u001b[0m\u001b[1;34m3\u001b[0m, \u001b[1;34m3\u001b[0m\u001b[1m)\u001b[0m, \u001b[33mstride\u001b[0m=\u001b[1m(\u001b[0m\u001b[1;34m1\u001b[0m, \u001b[1;34m1\u001b[0m\u001b[1m)\u001b[0m, \u001b[33mpadding\u001b[0m=\u001b[1m(\u001b[0m\u001b[1;34m1\u001b[0m, \u001b[1;34m1\u001b[0m\u001b[1m)\u001b[0m\u001b[1m)\u001b[0m                                                               \n",
      "                      \u001b[1m(\u001b[0mconv5\u001b[1m)\u001b[0m: Conv2d\u001b[1m(\u001b[0m\u001b[1;34m160\u001b[0m, \u001b[1;34m256\u001b[0m, \u001b[33mkernel_size\u001b[0m=\u001b[1m(\u001b[0m\u001b[1;34m3\u001b[0m, \u001b[1;34m3\u001b[0m\u001b[1m)\u001b[0m, \u001b[33mstride\u001b[0m=\u001b[1m(\u001b[0m\u001b[1;34m1\u001b[0m, \u001b[1;34m1\u001b[0m\u001b[1m)\u001b[0m, \u001b[33mpadding\u001b[0m=\u001b[1m(\u001b[0m\u001b[1;34m1\u001b[0m, \u001b[1;34m1\u001b[0m\u001b[1m)\u001b[0m\u001b[1m)\u001b[0m                                                              \n",
      "                      \u001b[1m(\u001b[0mconv6\u001b[1m)\u001b[0m: Conv2d\u001b[1m(\u001b[0m\u001b[1;34m256\u001b[0m, \u001b[1;34m512\u001b[0m, \u001b[33mkernel_size\u001b[0m=\u001b[1m(\u001b[0m\u001b[1;34m3\u001b[0m, \u001b[1;34m3\u001b[0m\u001b[1m)\u001b[0m, \u001b[33mstride\u001b[0m=\u001b[1m(\u001b[0m\u001b[1;34m1\u001b[0m, \u001b[1;34m1\u001b[0m\u001b[1m)\u001b[0m, \u001b[33mpadding\u001b[0m=\u001b[1m(\u001b[0m\u001b[1;34m1\u001b[0m, \u001b[1;34m1\u001b[0m\u001b[1m)\u001b[0m\u001b[1m)\u001b[0m                                                              \n",
      "                      \u001b[1m(\u001b[0mconv7\u001b[1m)\u001b[0m: Conv2d\u001b[1m(\u001b[0m\u001b[1;34m672\u001b[0m, \u001b[1;34m256\u001b[0m, \u001b[33mkernel_size\u001b[0m=\u001b[1m(\u001b[0m\u001b[1;34m3\u001b[0m, \u001b[1;34m3\u001b[0m\u001b[1m)\u001b[0m, \u001b[33mstride\u001b[0m=\u001b[1m(\u001b[0m\u001b[1;34m1\u001b[0m, \u001b[1;34m1\u001b[0m\u001b[1m)\u001b[0m, \u001b[33mpadding\u001b[0m=\u001b[1m(\u001b[0m\u001b[1;34m1\u001b[0m, \u001b[1;34m1\u001b[0m\u001b[1m)\u001b[0m\u001b[1m)\u001b[0m                                                              \n",
      "                      \u001b[1m(\u001b[0mconv8\u001b[1m)\u001b[0m: Conv2d\u001b[1m(\u001b[0m\u001b[1;34m256\u001b[0m, \u001b[1;34m512\u001b[0m, \u001b[33mkernel_size\u001b[0m=\u001b[1m(\u001b[0m\u001b[1;34m3\u001b[0m, \u001b[1;34m3\u001b[0m\u001b[1m)\u001b[0m, \u001b[33mstride\u001b[0m=\u001b[1m(\u001b[0m\u001b[1;34m1\u001b[0m, \u001b[1;34m1\u001b[0m\u001b[1m)\u001b[0m, \u001b[33mpadding\u001b[0m=\u001b[1m(\u001b[0m\u001b[1;34m1\u001b[0m, \u001b[1;34m1\u001b[0m\u001b[1m)\u001b[0m\u001b[1m)\u001b[0m                                                              \n",
      "                      \u001b[1m(\u001b[0mfc1\u001b[1m)\u001b[0m: Linear\u001b[1m(\u001b[0m\u001b[33min_features\u001b[0m=\u001b[1;34m95904\u001b[0m, \u001b[33mout_features\u001b[0m=\u001b[1;34m128\u001b[0m, \u001b[33mbias\u001b[0m=\u001b[3;92mTrue\u001b[0m\u001b[1m)\u001b[0m                                                                             \n",
      "                      \u001b[1m(\u001b[0mfc2\u001b[1m)\u001b[0m: Linear\u001b[1m(\u001b[0m\u001b[33min_features\u001b[0m=\u001b[1;34m128\u001b[0m, \u001b[33mout_features\u001b[0m=\u001b[1;34m8\u001b[0m, \u001b[33mbias\u001b[0m=\u001b[3;92mTrue\u001b[0m\u001b[1m)\u001b[0m                                                                                 \n",
      "                      \u001b[1m(\u001b[0mloss_fn\u001b[1m)\u001b[0m: CrossEntropyLoss\u001b[1m(\u001b[0m\u001b[1m)\u001b[0m                                                                                                             \n",
      "                    \u001b[1m)\u001b[0m, \u001b[32m'tensor_pipe'\u001b[0m: \u001b[1m<\u001b[0m\u001b[1;95mopenfl.pipelines.no_compression_pipeline.NoCompressionPipeline\u001b[0m\u001b[39m object at \u001b[0m\u001b[1;34m0x7fcc529feb70\u001b[0m\u001b[1m>\u001b[0m, \u001b[32m'task_config'\u001b[0m:                 \n",
      "                    \u001b[1m{\u001b[0m\u001b[32m'aggregated_model_validation'\u001b[0m: \u001b[1m{\u001b[0m\u001b[32m'function'\u001b[0m: \u001b[32m'validate'\u001b[0m, \u001b[32m'kwargs'\u001b[0m: \u001b[1m{\u001b[0m\u001b[32m'apply'\u001b[0m: \u001b[32m'global'\u001b[0m, \u001b[32m'metrics'\u001b[0m: \u001b[1m[\u001b[0m\u001b[32m'acc'\u001b[0m\u001b[1m]\u001b[0m\u001b[1m}\u001b[0m\u001b[1m}\u001b[0m,                                \n",
      "                    \u001b[32m'locally_tuned_model_validation'\u001b[0m: \u001b[1m{\u001b[0m\u001b[32m'function'\u001b[0m: \u001b[32m'validate'\u001b[0m, \u001b[32m'kwargs'\u001b[0m: \u001b[1m{\u001b[0m\u001b[32m'apply'\u001b[0m: \u001b[32m'local'\u001b[0m, \u001b[32m'metrics'\u001b[0m: \u001b[1m[\u001b[0m\u001b[32m'acc'\u001b[0m\u001b[1m]\u001b[0m\u001b[1m}\u001b[0m\u001b[1m}\u001b[0m, \u001b[32m'train'\u001b[0m:                      \n",
      "                    \u001b[1m{\u001b[0m\u001b[32m'function'\u001b[0m: \u001b[32m'train_batches'\u001b[0m, \u001b[32m'kwargs'\u001b[0m: \u001b[1m{\u001b[0m\u001b[32m'metrics'\u001b[0m: \u001b[1m[\u001b[0m\u001b[32m'loss'\u001b[0m\u001b[1m]\u001b[0m\u001b[1m}\u001b[0m\u001b[1m}\u001b[0m, \u001b[32m'defaults'\u001b[0m: \u001b[32m'plan/defaults/tasks_torch.yaml'\u001b[0m, \u001b[32m'settings'\u001b[0m: \u001b[1m{\u001b[0m\u001b[1m}\u001b[0m\u001b[1m}\u001b[0m,              \n",
      "                    \u001b[32m'client'\u001b[0m: \u001b[1m<\u001b[0m\u001b[1;95mopenfl.transport.grpc.client.CollaboratorGRPCClient\u001b[0m\u001b[39m object at \u001b[0m\u001b[1;34m0x7fcc529feef0\u001b[0m\u001b[1m>\u001b[0m\u001b[1m}\u001b[0m                                                   \n",
      "\u001b[2;36m          \u001b[0m\u001b[2;36m \u001b[0m\u001b[34mINFO\u001b[0m     Override \u001b[31m🡆\u001b[0m \u001b[1m{\u001b[0m\u001b[32m'defaults'\u001b[0m: \u001b[32m'plan/defaults/collaborator.yaml'\u001b[0m\u001b[1m}\u001b[0m                                                                       \u001b]8;id=1608544535.6264007-278840;file:///home/itrushkin/.virtualenvs/openfl/lib/python3.6/site-packages/openfl/federated/plan/plan.py\u001b\\\u001b[2mplan.py\u001b[0m\u001b]8;;\u001b\\\u001b[2m:149\u001b[0m\n",
      "\u001b[2;36m          \u001b[0m\u001b[2;36m \u001b[0m\u001b[34mINFO\u001b[0m     Waiting for tasks\u001b[33m...\u001b[0m                                                                                                     \u001b]8;id=1608544535.6314998-995290;file:///home/itrushkin/.virtualenvs/openfl/lib/python3.6/site-packages/openfl/component/collaborator/collaborator.py\u001b\\\u001b[2mcollaborator.py\u001b[0m\u001b]8;;\u001b\\\u001b[2m:167\u001b[0m\n"
     ]
    },
    {
     "name": "stdout",
     "output_type": "stream",
     "text": [
      "\u001b[2;36m          \u001b[0m\u001b[2;36m \u001b[0m\u001b[34mINFO\u001b[0m     Received the following tasks: \u001b[1m[\u001b[0m\u001b[32m'aggregated_model_validation'\u001b[0m, \u001b[32m'train'\u001b[0m, \u001b[32m'locally_tuned_model_validation'\u001b[0m\u001b[1m]\u001b[0m                 \u001b]8;id=1608544535.7106516-672846;file:///home/itrushkin/.virtualenvs/openfl/lib/python3.6/site-packages/openfl/component/collaborator/collaborator.py\u001b\\\u001b[2mcollaborator.py\u001b[0m\u001b]8;;\u001b\\\u001b[2m:137\u001b[0m\n",
      "/home/itrushkin/.virtualenvs/openfl/lib/python3.6/site-packages/openfl/federated/task/runner_pt.py:236: UserWarning: The given NumPy array is not writeable, and PyTorch does not support non-writeable tensors. This means you can write to the underlying (supposedly non-writeable) NumPy array using the tensor. You may want to copy the array to protect its data or make it writeable before converting it to a tensor. This type of warning will be suppressed for the rest of this program. (Triggered internally at  /pytorch/torch/csrc/utils/tensor_numpy.cpp:141.)\n",
      "  new_state[k] = pt.from_numpy(tensor_dict.pop(k)).to(device)\n",
      "\u001b[2;36m[12:55:38]\u001b[0m\u001b[2;36m \u001b[0m\u001b[34mINFO\u001b[0m     Sending metric for task aggregated_model_validation, round number \u001b[1;34m0\u001b[0m: acc        \u001b[1;34m0.138\u001b[0m                                    \u001b]8;id=1608544538.1725674-823869;file:///home/itrushkin/.virtualenvs/openfl/lib/python3.6/site-packages/openfl/component/collaborator/collaborator.py\u001b\\\u001b[2mcollaborator.py\u001b[0m\u001b]8;;\u001b\\\u001b[2m:324\u001b[0m\n",
      "train epoch: 16it [00:04,  3.28it/s]\n",
      "\u001b[2;36m[12:55:43]\u001b[0m\u001b[2;36m \u001b[0m\u001b[34mINFO\u001b[0m     Sending metric for task train, round number \u001b[1;34m0\u001b[0m: CrossEntropyLoss \u001b[1;34m1.8772540092468262\u001b[0m                                       \u001b]8;id=1608544543.431079-315589;file:///home/itrushkin/.virtualenvs/openfl/lib/python3.6/site-packages/openfl/component/collaborator/collaborator.py\u001b\\\u001b[2mcollaborator.py\u001b[0m\u001b]8;;\u001b\\\u001b[2m:324\u001b[0m\n",
      "\u001b[2;36m[12:55:54]\u001b[0m\u001b[2;36m \u001b[0m\u001b[34mINFO\u001b[0m     Sending metric for task locally_tuned_model_validation, round number \u001b[1;34m0\u001b[0m: acc     \u001b[1;34m0.374\u001b[0m                                    \u001b]8;id=1608544554.4493763-518983;file:///home/itrushkin/.virtualenvs/openfl/lib/python3.6/site-packages/openfl/component/collaborator/collaborator.py\u001b\\\u001b[2mcollaborator.py\u001b[0m\u001b]8;;\u001b\\\u001b[2m:324\u001b[0m\n",
      "\u001b[2;36m          \u001b[0m\u001b[2;36m \u001b[0m\u001b[34mINFO\u001b[0m     Waiting for tasks\u001b[33m...\u001b[0m                                                                                                     \u001b]8;id=1608544554.4848435-230942;file:///home/itrushkin/.virtualenvs/openfl/lib/python3.6/site-packages/openfl/component/collaborator/collaborator.py\u001b\\\u001b[2mcollaborator.py\u001b[0m\u001b]8;;\u001b\\\u001b[2m:167\u001b[0m\n",
      "\u001b[2;36m[12:56:04]\u001b[0m\u001b[2;36m \u001b[0m\u001b[34mINFO\u001b[0m     Waiting for tasks\u001b[33m...\u001b[0m                                                                                                     \u001b]8;id=1608544564.5004375-109601;file:///home/itrushkin/.virtualenvs/openfl/lib/python3.6/site-packages/openfl/component/collaborator/collaborator.py\u001b\\\u001b[2mcollaborator.py\u001b[0m\u001b]8;;\u001b\\\u001b[2m:167\u001b[0m\n",
      "\u001b[2;36m[12:56:14]\u001b[0m\u001b[2;36m \u001b[0m\u001b[34mINFO\u001b[0m     Waiting for tasks\u001b[33m...\u001b[0m                                                                                                     \u001b]8;id=1608544574.7678833-166259;file:///home/itrushkin/.virtualenvs/openfl/lib/python3.6/site-packages/openfl/component/collaborator/collaborator.py\u001b\\\u001b[2mcollaborator.py\u001b[0m\u001b]8;;\u001b\\\u001b[2m:167\u001b[0m\n",
      "\u001b[2;36m          \u001b[0m\u001b[2;36m \u001b[0m\u001b[34mINFO\u001b[0m     Received the following tasks: \u001b[1m[\u001b[0m\u001b[32m'aggregated_model_validation'\u001b[0m, \u001b[32m'train'\u001b[0m, \u001b[32m'locally_tuned_model_validation'\u001b[0m\u001b[1m]\u001b[0m                 \u001b]8;id=1608544574.7878892-590714;file:///home/itrushkin/.virtualenvs/openfl/lib/python3.6/site-packages/openfl/component/collaborator/collaborator.py\u001b\\\u001b[2mcollaborator.py\u001b[0m\u001b]8;;\u001b\\\u001b[2m:137\u001b[0m\n",
      "\u001b[2;36m[12:56:17]\u001b[0m\u001b[2;36m \u001b[0m\u001b[34mINFO\u001b[0m     Sending metric for task aggregated_model_validation, round number \u001b[1;34m1\u001b[0m: acc        \u001b[1;34m0.294\u001b[0m                                    \u001b]8;id=1608544577.2101247-203801;file:///home/itrushkin/.virtualenvs/openfl/lib/python3.6/site-packages/openfl/component/collaborator/collaborator.py\u001b\\\u001b[2mcollaborator.py\u001b[0m\u001b]8;;\u001b\\\u001b[2m:324\u001b[0m\n",
      "train epoch: 16it [00:04,  3.27it/s]\n",
      "\u001b[2;36m[12:56:22]\u001b[0m\u001b[2;36m \u001b[0m\u001b[34mINFO\u001b[0m     Sending metric for task train, round number \u001b[1;34m1\u001b[0m: CrossEntropyLoss \u001b[1;34m1.4264435768127441\u001b[0m                                       \u001b]8;id=1608544582.4584959-976682;file:///home/itrushkin/.virtualenvs/openfl/lib/python3.6/site-packages/openfl/component/collaborator/collaborator.py\u001b\\\u001b[2mcollaborator.py\u001b[0m\u001b]8;;\u001b\\\u001b[2m:324\u001b[0m\n",
      "\u001b[2;36m[12:56:38]\u001b[0m\u001b[2;36m \u001b[0m\u001b[34mINFO\u001b[0m     Sending metric for task locally_tuned_model_validation, round number \u001b[1;34m1\u001b[0m: acc     \u001b[1;34m0.482\u001b[0m                                    \u001b]8;id=1608544598.9356022-505596;file:///home/itrushkin/.virtualenvs/openfl/lib/python3.6/site-packages/openfl/component/collaborator/collaborator.py\u001b\\\u001b[2mcollaborator.py\u001b[0m\u001b]8;;\u001b\\\u001b[2m:324\u001b[0m\n",
      "\u001b[2;36m[12:56:42]\u001b[0m\u001b[2;36m \u001b[0m\u001b[34mINFO\u001b[0m     Waiting for tasks\u001b[33m...\u001b[0m                                                                                                     \u001b]8;id=1608544602.103543-227495;file:///home/itrushkin/.virtualenvs/openfl/lib/python3.6/site-packages/openfl/component/collaborator/collaborator.py\u001b\\\u001b[2mcollaborator.py\u001b[0m\u001b]8;;\u001b\\\u001b[2m:167\u001b[0m\n",
      "\u001b[2;36m          \u001b[0m\u001b[2;36m \u001b[0m\u001b[34mINFO\u001b[0m     Received the following tasks: \u001b[1m[\u001b[0m\u001b[32m'aggregated_model_validation'\u001b[0m, \u001b[32m'train'\u001b[0m, \u001b[32m'locally_tuned_model_validation'\u001b[0m\u001b[1m]\u001b[0m                 \u001b]8;id=1608544602.1239934-214241;file:///home/itrushkin/.virtualenvs/openfl/lib/python3.6/site-packages/openfl/component/collaborator/collaborator.py\u001b\\\u001b[2mcollaborator.py\u001b[0m\u001b]8;;\u001b\\\u001b[2m:137\u001b[0m\n",
      "\u001b[2;36m[12:56:44]\u001b[0m\u001b[2;36m \u001b[0m\u001b[34mINFO\u001b[0m     Sending metric for task aggregated_model_validation, round number \u001b[1;34m2\u001b[0m: acc        \u001b[1;34m0.484\u001b[0m                                    \u001b]8;id=1608544604.4815075-866327;file:///home/itrushkin/.virtualenvs/openfl/lib/python3.6/site-packages/openfl/component/collaborator/collaborator.py\u001b\\\u001b[2mcollaborator.py\u001b[0m\u001b]8;;\u001b\\\u001b[2m:324\u001b[0m\n",
      "train epoch: 16it [00:04,  3.26it/s]\n",
      "\u001b[2;36m[12:56:49]\u001b[0m\u001b[2;36m \u001b[0m\u001b[34mINFO\u001b[0m     Sending metric for task train, round number \u001b[1;34m2\u001b[0m: CrossEntropyLoss \u001b[1;34m1.3047155141830444\u001b[0m                                       \u001b]8;id=1608544609.7790082-218275;file:///home/itrushkin/.virtualenvs/openfl/lib/python3.6/site-packages/openfl/component/collaborator/collaborator.py\u001b\\\u001b[2mcollaborator.py\u001b[0m\u001b]8;;\u001b\\\u001b[2m:324\u001b[0m\n",
      "\u001b[2;36m[12:57:08]\u001b[0m\u001b[2;36m \u001b[0m\u001b[34mINFO\u001b[0m     Sending metric for task locally_tuned_model_validation, round number \u001b[1;34m2\u001b[0m: acc     \u001b[1;34m0.538\u001b[0m                                    \u001b]8;id=1608544628.9562616-191051;file:///home/itrushkin/.virtualenvs/openfl/lib/python3.6/site-packages/openfl/component/collaborator/collaborator.py\u001b\\\u001b[2mcollaborator.py\u001b[0m\u001b]8;;\u001b\\\u001b[2m:324\u001b[0m\n",
      "\u001b[2;36m          \u001b[0m\u001b[2;36m \u001b[0m\u001b[34mINFO\u001b[0m     Waiting for tasks\u001b[33m...\u001b[0m                                                                                                     \u001b]8;id=1608544628.9814203-377975;file:///home/itrushkin/.virtualenvs/openfl/lib/python3.6/site-packages/openfl/component/collaborator/collaborator.py\u001b\\\u001b[2mcollaborator.py\u001b[0m\u001b]8;;\u001b\\\u001b[2m:167\u001b[0m\n",
      "\u001b[2;36m[12:57:18]\u001b[0m\u001b[2;36m \u001b[0m\u001b[34mINFO\u001b[0m     Waiting for tasks\u001b[33m...\u001b[0m                                                                                                     \u001b]8;id=1608544639.0043495-393561;file:///home/itrushkin/.virtualenvs/openfl/lib/python3.6/site-packages/openfl/component/collaborator/collaborator.py\u001b\\\u001b[2mcollaborator.py\u001b[0m\u001b]8;;\u001b\\\u001b[2m:167\u001b[0m\n",
      "\u001b[2;36m[12:57:19]\u001b[0m\u001b[2;36m \u001b[0m\u001b[34mINFO\u001b[0m     Received the following tasks: \u001b[1m[\u001b[0m\u001b[32m'aggregated_model_validation'\u001b[0m, \u001b[32m'train'\u001b[0m, \u001b[32m'locally_tuned_model_validation'\u001b[0m\u001b[1m]\u001b[0m                 \u001b]8;id=1608544639.0249493-739469;file:///home/itrushkin/.virtualenvs/openfl/lib/python3.6/site-packages/openfl/component/collaborator/collaborator.py\u001b\\\u001b[2mcollaborator.py\u001b[0m\u001b]8;;\u001b\\\u001b[2m:137\u001b[0m\n",
      "\u001b[2;36m[12:57:21]\u001b[0m\u001b[2;36m \u001b[0m\u001b[34mINFO\u001b[0m     Sending metric for task aggregated_model_validation, round number \u001b[1;34m3\u001b[0m: acc        \u001b[1;34m0.564\u001b[0m                                    \u001b]8;id=1608544641.945825-866199;file:///home/itrushkin/.virtualenvs/openfl/lib/python3.6/site-packages/openfl/component/collaborator/collaborator.py\u001b\\\u001b[2mcollaborator.py\u001b[0m\u001b]8;;\u001b\\\u001b[2m:324\u001b[0m\n"
     ]
    },
    {
     "name": "stdout",
     "output_type": "stream",
     "text": [
      "train epoch: 16it [00:04,  3.24it/s]\n",
      "\u001b[2;36m[12:57:27]\u001b[0m\u001b[2;36m \u001b[0m\u001b[34mINFO\u001b[0m     Sending metric for task train, round number \u001b[1;34m3\u001b[0m: CrossEntropyLoss \u001b[1;34m1.022982120513916\u001b[0m                                        \u001b]8;id=1608544647.3528697-226761;file:///home/itrushkin/.virtualenvs/openfl/lib/python3.6/site-packages/openfl/component/collaborator/collaborator.py\u001b\\\u001b[2mcollaborator.py\u001b[0m\u001b]8;;\u001b\\\u001b[2m:324\u001b[0m\n",
      "\u001b[2;36m[12:57:38]\u001b[0m\u001b[2;36m \u001b[0m\u001b[34mINFO\u001b[0m     Sending metric for task locally_tuned_model_validation, round number \u001b[1;34m3\u001b[0m: acc     \u001b[1;34m0.594\u001b[0m                                    \u001b]8;id=1608544658.3514962-420849;file:///home/itrushkin/.virtualenvs/openfl/lib/python3.6/site-packages/openfl/component/collaborator/collaborator.py\u001b\\\u001b[2mcollaborator.py\u001b[0m\u001b]8;;\u001b\\\u001b[2m:324\u001b[0m\n",
      "\u001b[2;36m[12:57:41]\u001b[0m\u001b[2;36m \u001b[0m\u001b[34mINFO\u001b[0m     Waiting for tasks\u001b[33m...\u001b[0m                                                                                                     \u001b]8;id=1608544661.8527699-836101;file:///home/itrushkin/.virtualenvs/openfl/lib/python3.6/site-packages/openfl/component/collaborator/collaborator.py\u001b\\\u001b[2mcollaborator.py\u001b[0m\u001b]8;;\u001b\\\u001b[2m:167\u001b[0m\n",
      "\u001b[2;36m          \u001b[0m\u001b[2;36m \u001b[0m\u001b[34mINFO\u001b[0m     Received the following tasks: \u001b[1m[\u001b[0m\u001b[32m'aggregated_model_validation'\u001b[0m, \u001b[32m'train'\u001b[0m, \u001b[32m'locally_tuned_model_validation'\u001b[0m\u001b[1m]\u001b[0m                 \u001b]8;id=1608544661.87167-532434;file:///home/itrushkin/.virtualenvs/openfl/lib/python3.6/site-packages/openfl/component/collaborator/collaborator.py\u001b\\\u001b[2mcollaborator.py\u001b[0m\u001b]8;;\u001b\\\u001b[2m:137\u001b[0m\n",
      "\u001b[2;36m[12:57:44]\u001b[0m\u001b[2;36m \u001b[0m\u001b[34mINFO\u001b[0m     Sending metric for task aggregated_model_validation, round number \u001b[1;34m4\u001b[0m: acc        \u001b[1;34m0.592\u001b[0m                                    \u001b]8;id=1608544664.2719817-39454;file:///home/itrushkin/.virtualenvs/openfl/lib/python3.6/site-packages/openfl/component/collaborator/collaborator.py\u001b\\\u001b[2mcollaborator.py\u001b[0m\u001b]8;;\u001b\\\u001b[2m:324\u001b[0m\n",
      "train epoch: 16it [00:04,  3.27it/s]\n",
      "\u001b[2;36m[12:57:49]\u001b[0m\u001b[2;36m \u001b[0m\u001b[34mINFO\u001b[0m     Sending metric for task train, round number \u001b[1;34m4\u001b[0m: CrossEntropyLoss \u001b[1;34m1.0148231983184814\u001b[0m                                       \u001b]8;id=1608544669.5248184-437874;file:///home/itrushkin/.virtualenvs/openfl/lib/python3.6/site-packages/openfl/component/collaborator/collaborator.py\u001b\\\u001b[2mcollaborator.py\u001b[0m\u001b]8;;\u001b\\\u001b[2m:324\u001b[0m\n",
      "\u001b[2;36m[12:58:10]\u001b[0m\u001b[2;36m \u001b[0m\u001b[34mINFO\u001b[0m     Sending metric for task locally_tuned_model_validation, round number \u001b[1;34m4\u001b[0m: acc     \u001b[1;34m0.63\u001b[0m                                     \u001b]8;id=1608544690.2116628-16701;file:///home/itrushkin/.virtualenvs/openfl/lib/python3.6/site-packages/openfl/component/collaborator/collaborator.py\u001b\\\u001b[2mcollaborator.py\u001b[0m\u001b]8;;\u001b\\\u001b[2m:324\u001b[0m\n",
      "\u001b[2;36m          \u001b[0m\u001b[2;36m \u001b[0m\u001b[34mINFO\u001b[0m     Waiting for tasks\u001b[33m...\u001b[0m                                                                                                     \u001b]8;id=1608544690.236583-441317;file:///home/itrushkin/.virtualenvs/openfl/lib/python3.6/site-packages/openfl/component/collaborator/collaborator.py\u001b\\\u001b[2mcollaborator.py\u001b[0m\u001b]8;;\u001b\\\u001b[2m:167\u001b[0m\n",
      "\u001b[2;36m[12:58:20]\u001b[0m\u001b[2;36m \u001b[0m\u001b[34mINFO\u001b[0m     Waiting for tasks\u001b[33m...\u001b[0m                                                                                                     \u001b]8;id=1608544700.262297-378069;file:///home/itrushkin/.virtualenvs/openfl/lib/python3.6/site-packages/openfl/component/collaborator/collaborator.py\u001b\\\u001b[2mcollaborator.py\u001b[0m\u001b]8;;\u001b\\\u001b[2m:167\u001b[0m\n",
      "\u001b[2;36m          \u001b[0m\u001b[2;36m \u001b[0m\u001b[34mINFO\u001b[0m     Received the following tasks: \u001b[1m[\u001b[0m\u001b[32m'aggregated_model_validation'\u001b[0m, \u001b[32m'train'\u001b[0m, \u001b[32m'locally_tuned_model_validation'\u001b[0m\u001b[1m]\u001b[0m                 \u001b]8;id=1608544700.282904-441853;file:///home/itrushkin/.virtualenvs/openfl/lib/python3.6/site-packages/openfl/component/collaborator/collaborator.py\u001b\\\u001b[2mcollaborator.py\u001b[0m\u001b]8;;\u001b\\\u001b[2m:137\u001b[0m\n",
      "\u001b[2;36m[12:58:22]\u001b[0m\u001b[2;36m \u001b[0m\u001b[34mINFO\u001b[0m     Sending metric for task aggregated_model_validation, round number \u001b[1;34m5\u001b[0m: acc        \u001b[1;34m0.64\u001b[0m                                     \u001b]8;id=1608544702.764195-409455;file:///home/itrushkin/.virtualenvs/openfl/lib/python3.6/site-packages/openfl/component/collaborator/collaborator.py\u001b\\\u001b[2mcollaborator.py\u001b[0m\u001b]8;;\u001b\\\u001b[2m:324\u001b[0m\n",
      "train epoch: 16it [00:04,  3.27it/s]\n",
      "\u001b[2;36m[12:58:28]\u001b[0m\u001b[2;36m \u001b[0m\u001b[34mINFO\u001b[0m     Sending metric for task train, round number \u001b[1;34m5\u001b[0m: CrossEntropyLoss \u001b[1;34m0.8908397555351257\u001b[0m                                       \u001b]8;id=1608544708.1530437-181172;file:///home/itrushkin/.virtualenvs/openfl/lib/python3.6/site-packages/openfl/component/collaborator/collaborator.py\u001b\\\u001b[2mcollaborator.py\u001b[0m\u001b]8;;\u001b\\\u001b[2m:324\u001b[0m\n",
      "\u001b[2;36m[12:58:40]\u001b[0m\u001b[2;36m \u001b[0m\u001b[34mINFO\u001b[0m     Sending metric for task locally_tuned_model_validation, round number \u001b[1;34m5\u001b[0m: acc     \u001b[1;34m0.644\u001b[0m                                    \u001b]8;id=1608544720.1770282-84661;file:///home/itrushkin/.virtualenvs/openfl/lib/python3.6/site-packages/openfl/component/collaborator/collaborator.py\u001b\\\u001b[2mcollaborator.py\u001b[0m\u001b]8;;\u001b\\\u001b[2m:324\u001b[0m\n",
      "\u001b[2;36m[12:58:43]\u001b[0m\u001b[2;36m \u001b[0m\u001b[34mINFO\u001b[0m     Waiting for tasks\u001b[33m...\u001b[0m                                                                                                     \u001b]8;id=1608544723.4347017-667939;file:///home/itrushkin/.virtualenvs/openfl/lib/python3.6/site-packages/openfl/component/collaborator/collaborator.py\u001b\\\u001b[2mcollaborator.py\u001b[0m\u001b]8;;\u001b\\\u001b[2m:167\u001b[0m\n",
      "\u001b[2;36m          \u001b[0m\u001b[2;36m \u001b[0m\u001b[34mINFO\u001b[0m     Received the following tasks: \u001b[1m[\u001b[0m\u001b[32m'aggregated_model_validation'\u001b[0m, \u001b[32m'train'\u001b[0m, \u001b[32m'locally_tuned_model_validation'\u001b[0m\u001b[1m]\u001b[0m                 \u001b]8;id=1608544723.454417-981837;file:///home/itrushkin/.virtualenvs/openfl/lib/python3.6/site-packages/openfl/component/collaborator/collaborator.py\u001b\\\u001b[2mcollaborator.py\u001b[0m\u001b]8;;\u001b\\\u001b[2m:137\u001b[0m\n",
      "\u001b[2;36m[12:58:45]\u001b[0m\u001b[2;36m \u001b[0m\u001b[34mINFO\u001b[0m     Sending metric for task aggregated_model_validation, round number \u001b[1;34m6\u001b[0m: acc        \u001b[1;34m0.662\u001b[0m                                    \u001b]8;id=1608544725.8181758-570811;file:///home/itrushkin/.virtualenvs/openfl/lib/python3.6/site-packages/openfl/component/collaborator/collaborator.py\u001b\\\u001b[2mcollaborator.py\u001b[0m\u001b]8;;\u001b\\\u001b[2m:324\u001b[0m\n",
      "train epoch: 16it [00:04,  3.26it/s]\n",
      "\u001b[2;36m[12:58:51]\u001b[0m\u001b[2;36m \u001b[0m\u001b[34mINFO\u001b[0m     Sending metric for task train, round number \u001b[1;34m6\u001b[0m: CrossEntropyLoss \u001b[1;34m0.9220378398895264\u001b[0m                                       \u001b]8;id=1608544731.0735822-243748;file:///home/itrushkin/.virtualenvs/openfl/lib/python3.6/site-packages/openfl/component/collaborator/collaborator.py\u001b\\\u001b[2mcollaborator.py\u001b[0m\u001b]8;;\u001b\\\u001b[2m:324\u001b[0m\n",
      "\u001b[2;36m[12:59:11]\u001b[0m\u001b[2;36m \u001b[0m\u001b[34mINFO\u001b[0m     Sending metric for task locally_tuned_model_validation, round number \u001b[1;34m6\u001b[0m: acc     \u001b[1;34m0.62\u001b[0m                                     \u001b]8;id=1608544751.1177928-157360;file:///home/itrushkin/.virtualenvs/openfl/lib/python3.6/site-packages/openfl/component/collaborator/collaborator.py\u001b\\\u001b[2mcollaborator.py\u001b[0m\u001b]8;;\u001b\\\u001b[2m:324\u001b[0m\n",
      "\u001b[2;36m          \u001b[0m\u001b[2;36m \u001b[0m\u001b[34mINFO\u001b[0m     Waiting for tasks\u001b[33m...\u001b[0m                                                                                                     \u001b]8;id=1608544751.1434975-330694;file:///home/itrushkin/.virtualenvs/openfl/lib/python3.6/site-packages/openfl/component/collaborator/collaborator.py\u001b\\\u001b[2mcollaborator.py\u001b[0m\u001b]8;;\u001b\\\u001b[2m:167\u001b[0m\n",
      "\u001b[2;36m[12:59:21]\u001b[0m\u001b[2;36m \u001b[0m\u001b[34mINFO\u001b[0m     Waiting for tasks\u001b[33m...\u001b[0m                                                                                                     \u001b]8;id=1608544761.1667843-59545;file:///home/itrushkin/.virtualenvs/openfl/lib/python3.6/site-packages/openfl/component/collaborator/collaborator.py\u001b\\\u001b[2mcollaborator.py\u001b[0m\u001b]8;;\u001b\\\u001b[2m:167\u001b[0m\n",
      "\u001b[2;36m          \u001b[0m\u001b[2;36m \u001b[0m\u001b[34mINFO\u001b[0m     Received the following tasks: \u001b[1m[\u001b[0m\u001b[32m'aggregated_model_validation'\u001b[0m, \u001b[32m'train'\u001b[0m, \u001b[32m'locally_tuned_model_validation'\u001b[0m\u001b[1m]\u001b[0m                 \u001b]8;id=1608544761.1872795-888456;file:///home/itrushkin/.virtualenvs/openfl/lib/python3.6/site-packages/openfl/component/collaborator/collaborator.py\u001b\\\u001b[2mcollaborator.py\u001b[0m\u001b]8;;\u001b\\\u001b[2m:137\u001b[0m\n"
     ]
    },
    {
     "name": "stdout",
     "output_type": "stream",
     "text": [
      "\u001b[2;36m[12:59:23]\u001b[0m\u001b[2;36m \u001b[0m\u001b[34mINFO\u001b[0m     Sending metric for task aggregated_model_validation, round number \u001b[1;34m7\u001b[0m: acc        \u001b[1;34m0.674\u001b[0m                                    \u001b]8;id=1608544763.8796725-684251;file:///home/itrushkin/.virtualenvs/openfl/lib/python3.6/site-packages/openfl/component/collaborator/collaborator.py\u001b\\\u001b[2mcollaborator.py\u001b[0m\u001b]8;;\u001b\\\u001b[2m:324\u001b[0m\n",
      "train epoch: 16it [00:04,  3.22it/s]\n",
      "\u001b[2;36m[12:59:29]\u001b[0m\u001b[2;36m \u001b[0m\u001b[34mINFO\u001b[0m     Sending metric for task train, round number \u001b[1;34m7\u001b[0m: CrossEntropyLoss \u001b[1;34m0.8691045045852661\u001b[0m                                       \u001b]8;id=1608544769.485651-163740;file:///home/itrushkin/.virtualenvs/openfl/lib/python3.6/site-packages/openfl/component/collaborator/collaborator.py\u001b\\\u001b[2mcollaborator.py\u001b[0m\u001b]8;;\u001b\\\u001b[2m:324\u001b[0m\n",
      "\u001b[2;36m[12:59:39]\u001b[0m\u001b[2;36m \u001b[0m\u001b[34mINFO\u001b[0m     Sending metric for task locally_tuned_model_validation, round number \u001b[1;34m7\u001b[0m: acc     \u001b[1;34m0.68\u001b[0m                                     \u001b]8;id=1608544779.919683-364226;file:///home/itrushkin/.virtualenvs/openfl/lib/python3.6/site-packages/openfl/component/collaborator/collaborator.py\u001b\\\u001b[2mcollaborator.py\u001b[0m\u001b]8;;\u001b\\\u001b[2m:324\u001b[0m\n",
      "\u001b[2;36m[12:59:43]\u001b[0m\u001b[2;36m \u001b[0m\u001b[34mINFO\u001b[0m     Waiting for tasks\u001b[33m...\u001b[0m                                                                                                     \u001b]8;id=1608544783.2511547-752238;file:///home/itrushkin/.virtualenvs/openfl/lib/python3.6/site-packages/openfl/component/collaborator/collaborator.py\u001b\\\u001b[2mcollaborator.py\u001b[0m\u001b]8;;\u001b\\\u001b[2m:167\u001b[0m\n",
      "\u001b[2;36m          \u001b[0m\u001b[2;36m \u001b[0m\u001b[34mINFO\u001b[0m     Received the following tasks: \u001b[1m[\u001b[0m\u001b[32m'aggregated_model_validation'\u001b[0m, \u001b[32m'train'\u001b[0m, \u001b[32m'locally_tuned_model_validation'\u001b[0m\u001b[1m]\u001b[0m                 \u001b]8;id=1608544783.2716393-385203;file:///home/itrushkin/.virtualenvs/openfl/lib/python3.6/site-packages/openfl/component/collaborator/collaborator.py\u001b\\\u001b[2mcollaborator.py\u001b[0m\u001b]8;;\u001b\\\u001b[2m:137\u001b[0m\n",
      "\u001b[2;36m[12:59:45]\u001b[0m\u001b[2;36m \u001b[0m\u001b[34mINFO\u001b[0m     Sending metric for task aggregated_model_validation, round number \u001b[1;34m8\u001b[0m: acc        \u001b[1;34m0.654\u001b[0m                                    \u001b]8;id=1608544785.67897-801316;file:///home/itrushkin/.virtualenvs/openfl/lib/python3.6/site-packages/openfl/component/collaborator/collaborator.py\u001b\\\u001b[2mcollaborator.py\u001b[0m\u001b]8;;\u001b\\\u001b[2m:324\u001b[0m\n",
      "train epoch: 16it [00:04,  3.27it/s]\n",
      "\u001b[2;36m[12:59:50]\u001b[0m\u001b[2;36m \u001b[0m\u001b[34mINFO\u001b[0m     Sending metric for task train, round number \u001b[1;34m8\u001b[0m: CrossEntropyLoss \u001b[1;34m0.8869100213050842\u001b[0m                                       \u001b]8;id=1608544790.933273-724940;file:///home/itrushkin/.virtualenvs/openfl/lib/python3.6/site-packages/openfl/component/collaborator/collaborator.py\u001b\\\u001b[2mcollaborator.py\u001b[0m\u001b]8;;\u001b\\\u001b[2m:324\u001b[0m\n",
      "\u001b[2;36m[13:00:01]\u001b[0m\u001b[2;36m \u001b[0m\u001b[34mINFO\u001b[0m     Sending metric for task locally_tuned_model_validation, round number \u001b[1;34m8\u001b[0m: acc     \u001b[1;34m0.652\u001b[0m                                    \u001b]8;id=1608544801.4792671-433543;file:///home/itrushkin/.virtualenvs/openfl/lib/python3.6/site-packages/openfl/component/collaborator/collaborator.py\u001b\\\u001b[2mcollaborator.py\u001b[0m\u001b]8;;\u001b\\\u001b[2m:324\u001b[0m\n",
      "\u001b[2;36m          \u001b[0m\u001b[2;36m \u001b[0m\u001b[34mINFO\u001b[0m     Waiting for tasks\u001b[33m...\u001b[0m                                                                                                     \u001b]8;id=1608544801.5022738-524216;file:///home/itrushkin/.virtualenvs/openfl/lib/python3.6/site-packages/openfl/component/collaborator/collaborator.py\u001b\\\u001b[2mcollaborator.py\u001b[0m\u001b]8;;\u001b\\\u001b[2m:167\u001b[0m\n",
      "\u001b[2;36m[13:00:11]\u001b[0m\u001b[2;36m \u001b[0m\u001b[34mINFO\u001b[0m     Waiting for tasks\u001b[33m...\u001b[0m                                                                                                     \u001b]8;id=1608544811.5201616-653262;file:///home/itrushkin/.virtualenvs/openfl/lib/python3.6/site-packages/openfl/component/collaborator/collaborator.py\u001b\\\u001b[2mcollaborator.py\u001b[0m\u001b]8;;\u001b\\\u001b[2m:167\u001b[0m\n",
      "\u001b[2;36m[13:00:21]\u001b[0m\u001b[2;36m \u001b[0m\u001b[34mINFO\u001b[0m     Waiting for tasks\u001b[33m...\u001b[0m                                                                                                     \u001b]8;id=1608544821.7643795-970115;file:///home/itrushkin/.virtualenvs/openfl/lib/python3.6/site-packages/openfl/component/collaborator/collaborator.py\u001b\\\u001b[2mcollaborator.py\u001b[0m\u001b]8;;\u001b\\\u001b[2m:167\u001b[0m\n",
      "\u001b[2;36m          \u001b[0m\u001b[2;36m \u001b[0m\u001b[34mINFO\u001b[0m     Received the following tasks: \u001b[1m[\u001b[0m\u001b[32m'aggregated_model_validation'\u001b[0m, \u001b[32m'train'\u001b[0m, \u001b[32m'locally_tuned_model_validation'\u001b[0m\u001b[1m]\u001b[0m                 \u001b]8;id=1608544821.785002-278193;file:///home/itrushkin/.virtualenvs/openfl/lib/python3.6/site-packages/openfl/component/collaborator/collaborator.py\u001b\\\u001b[2mcollaborator.py\u001b[0m\u001b]8;;\u001b\\\u001b[2m:137\u001b[0m\n",
      "\u001b[2;36m[13:00:24]\u001b[0m\u001b[2;36m \u001b[0m\u001b[34mINFO\u001b[0m     Sending metric for task aggregated_model_validation, round number \u001b[1;34m9\u001b[0m: acc        \u001b[1;34m0.666\u001b[0m                                    \u001b]8;id=1608544824.1729794-987214;file:///home/itrushkin/.virtualenvs/openfl/lib/python3.6/site-packages/openfl/component/collaborator/collaborator.py\u001b\\\u001b[2mcollaborator.py\u001b[0m\u001b]8;;\u001b\\\u001b[2m:324\u001b[0m\n",
      "train epoch: 16it [00:04,  3.22it/s]\n",
      "\u001b[2;36m[13:00:29]\u001b[0m\u001b[2;36m \u001b[0m\u001b[34mINFO\u001b[0m     Sending metric for task train, round number \u001b[1;34m9\u001b[0m: CrossEntropyLoss \u001b[1;34m0.7913550138473511\u001b[0m                                       \u001b]8;id=1608544829.5114422-556866;file:///home/itrushkin/.virtualenvs/openfl/lib/python3.6/site-packages/openfl/component/collaborator/collaborator.py\u001b\\\u001b[2mcollaborator.py\u001b[0m\u001b]8;;\u001b\\\u001b[2m:324\u001b[0m\n",
      "\u001b[2;36m[13:00:46]\u001b[0m\u001b[2;36m \u001b[0m\u001b[34mINFO\u001b[0m     Sending metric for task locally_tuned_model_validation, round number \u001b[1;34m9\u001b[0m: acc     \u001b[1;34m0.756\u001b[0m                                    \u001b]8;id=1608544846.0917256-764337;file:///home/itrushkin/.virtualenvs/openfl/lib/python3.6/site-packages/openfl/component/collaborator/collaborator.py\u001b\\\u001b[2mcollaborator.py\u001b[0m\u001b]8;;\u001b\\\u001b[2m:324\u001b[0m\n",
      "\u001b[2;36m[13:00:49]\u001b[0m\u001b[2;36m \u001b[0m\u001b[34mINFO\u001b[0m     Waiting for tasks\u001b[33m...\u001b[0m                                                                                                     \u001b]8;id=1608544849.176778-695837;file:///home/itrushkin/.virtualenvs/openfl/lib/python3.6/site-packages/openfl/component/collaborator/collaborator.py\u001b\\\u001b[2mcollaborator.py\u001b[0m\u001b]8;;\u001b\\\u001b[2m:167\u001b[0m\n",
      "\u001b[2;36m          \u001b[0m\u001b[2;36m \u001b[0m\u001b[34mINFO\u001b[0m     Received the following tasks: \u001b[1m[\u001b[0m\u001b[32m'aggregated_model_validation'\u001b[0m, \u001b[32m'train'\u001b[0m, \u001b[32m'locally_tuned_model_validation'\u001b[0m\u001b[1m]\u001b[0m                 \u001b]8;id=1608544849.1971917-349115;file:///home/itrushkin/.virtualenvs/openfl/lib/python3.6/site-packages/openfl/component/collaborator/collaborator.py\u001b\\\u001b[2mcollaborator.py\u001b[0m\u001b]8;;\u001b\\\u001b[2m:137\u001b[0m\n",
      "\u001b[2;36m[13:00:51]\u001b[0m\u001b[2;36m \u001b[0m\u001b[34mINFO\u001b[0m     Sending metric for task aggregated_model_validation, round number \u001b[1;34m10\u001b[0m: acc       \u001b[1;34m0.734\u001b[0m                                    \u001b]8;id=1608544851.5926461-900134;file:///home/itrushkin/.virtualenvs/openfl/lib/python3.6/site-packages/openfl/component/collaborator/collaborator.py\u001b\\\u001b[2mcollaborator.py\u001b[0m\u001b]8;;\u001b\\\u001b[2m:324\u001b[0m\n",
      "train epoch: 16it [00:04,  3.26it/s]\n",
      "\u001b[2;36m[13:00:56]\u001b[0m\u001b[2;36m \u001b[0m\u001b[34mINFO\u001b[0m     Sending metric for task train, round number \u001b[1;34m10\u001b[0m: CrossEntropyLoss        \u001b[1;34m0.7749706506729126\u001b[0m                               \u001b]8;id=1608544856.8693683-44982;file:///home/itrushkin/.virtualenvs/openfl/lib/python3.6/site-packages/openfl/component/collaborator/collaborator.py\u001b\\\u001b[2mcollaborator.py\u001b[0m\u001b]8;;\u001b\\\u001b[2m:324\u001b[0m\n",
      "\u001b[2;36m[13:01:09]\u001b[0m\u001b[2;36m \u001b[0m\u001b[34mINFO\u001b[0m     Sending metric for task locally_tuned_model_validation, round number \u001b[1;34m10\u001b[0m: acc    \u001b[1;34m0.718\u001b[0m                                    \u001b]8;id=1608544869.7527192-606726;file:///home/itrushkin/.virtualenvs/openfl/lib/python3.6/site-packages/openfl/component/collaborator/collaborator.py\u001b\\\u001b[2mcollaborator.py\u001b[0m\u001b]8;;\u001b\\\u001b[2m:324\u001b[0m\n",
      "\u001b[2;36m[13:01:10]\u001b[0m\u001b[2;36m \u001b[0m\u001b[34mINFO\u001b[0m     Waiting for tasks\u001b[33m...\u001b[0m                                                                                                     \u001b]8;id=1608544870.4564893-426474;file:///home/itrushkin/.virtualenvs/openfl/lib/python3.6/site-packages/openfl/component/collaborator/collaborator.py\u001b\\\u001b[2mcollaborator.py\u001b[0m\u001b]8;;\u001b\\\u001b[2m:167\u001b[0m\n"
     ]
    },
    {
     "name": "stdout",
     "output_type": "stream",
     "text": [
      "\u001b[2;36m[13:01:20]\u001b[0m\u001b[2;36m \u001b[0m\u001b[34mINFO\u001b[0m     Waiting for tasks\u001b[33m...\u001b[0m                                                                                                     \u001b]8;id=1608544880.751613-952926;file:///home/itrushkin/.virtualenvs/openfl/lib/python3.6/site-packages/openfl/component/collaborator/collaborator.py\u001b\\\u001b[2mcollaborator.py\u001b[0m\u001b]8;;\u001b\\\u001b[2m:167\u001b[0m\n",
      "\u001b[2;36m          \u001b[0m\u001b[2;36m \u001b[0m\u001b[34mINFO\u001b[0m     Received the following tasks: \u001b[1m[\u001b[0m\u001b[32m'aggregated_model_validation'\u001b[0m, \u001b[32m'train'\u001b[0m, \u001b[32m'locally_tuned_model_validation'\u001b[0m\u001b[1m]\u001b[0m                 \u001b]8;id=1608544880.8453112-807352;file:///home/itrushkin/.virtualenvs/openfl/lib/python3.6/site-packages/openfl/component/collaborator/collaborator.py\u001b\\\u001b[2mcollaborator.py\u001b[0m\u001b]8;;\u001b\\\u001b[2m:137\u001b[0m\n",
      "\u001b[2;36m[13:01:23]\u001b[0m\u001b[2;36m \u001b[0m\u001b[34mINFO\u001b[0m     Sending metric for task aggregated_model_validation, round number \u001b[1;34m11\u001b[0m: acc       \u001b[1;34m0.69\u001b[0m                                     \u001b]8;id=1608544883.2829597-690887;file:///home/itrushkin/.virtualenvs/openfl/lib/python3.6/site-packages/openfl/component/collaborator/collaborator.py\u001b\\\u001b[2mcollaborator.py\u001b[0m\u001b]8;;\u001b\\\u001b[2m:324\u001b[0m\n",
      "train epoch: 16it [00:04,  3.21it/s]\n",
      "\u001b[2;36m[13:01:28]\u001b[0m\u001b[2;36m \u001b[0m\u001b[34mINFO\u001b[0m     Sending metric for task train, round number \u001b[1;34m11\u001b[0m: CrossEntropyLoss        \u001b[1;34m0.719323992729187\u001b[0m                                \u001b]8;id=1608544888.637193-500874;file:///home/itrushkin/.virtualenvs/openfl/lib/python3.6/site-packages/openfl/component/collaborator/collaborator.py\u001b\\\u001b[2mcollaborator.py\u001b[0m\u001b]8;;\u001b\\\u001b[2m:324\u001b[0m\n",
      "\u001b[2;36m[13:01:48]\u001b[0m\u001b[2;36m \u001b[0m\u001b[34mINFO\u001b[0m     Sending metric for task locally_tuned_model_validation, round number \u001b[1;34m11\u001b[0m: acc    \u001b[1;34m0.718\u001b[0m                                    \u001b]8;id=1608544908.2710335-953966;file:///home/itrushkin/.virtualenvs/openfl/lib/python3.6/site-packages/openfl/component/collaborator/collaborator.py\u001b\\\u001b[2mcollaborator.py\u001b[0m\u001b]8;;\u001b\\\u001b[2m:324\u001b[0m\n",
      "\u001b[2;36m[13:01:51]\u001b[0m\u001b[2;36m \u001b[0m\u001b[34mINFO\u001b[0m     Waiting for tasks\u001b[33m...\u001b[0m                                                                                                     \u001b]8;id=1608544911.0881133-694705;file:///home/itrushkin/.virtualenvs/openfl/lib/python3.6/site-packages/openfl/component/collaborator/collaborator.py\u001b\\\u001b[2mcollaborator.py\u001b[0m\u001b]8;;\u001b\\\u001b[2m:167\u001b[0m\n",
      "\u001b[2;36m          \u001b[0m\u001b[2;36m \u001b[0m\u001b[34mINFO\u001b[0m     Received the following tasks: \u001b[1m[\u001b[0m\u001b[32m'aggregated_model_validation'\u001b[0m, \u001b[32m'train'\u001b[0m, \u001b[32m'locally_tuned_model_validation'\u001b[0m\u001b[1m]\u001b[0m                 \u001b]8;id=1608544911.1082413-218826;file:///home/itrushkin/.virtualenvs/openfl/lib/python3.6/site-packages/openfl/component/collaborator/collaborator.py\u001b\\\u001b[2mcollaborator.py\u001b[0m\u001b]8;;\u001b\\\u001b[2m:137\u001b[0m\n",
      "\u001b[2;36m[13:01:53]\u001b[0m\u001b[2;36m \u001b[0m\u001b[34mINFO\u001b[0m     Sending metric for task aggregated_model_validation, round number \u001b[1;34m12\u001b[0m: acc       \u001b[1;34m0.704\u001b[0m                                    \u001b]8;id=1608544913.4784908-698017;file:///home/itrushkin/.virtualenvs/openfl/lib/python3.6/site-packages/openfl/component/collaborator/collaborator.py\u001b\\\u001b[2mcollaborator.py\u001b[0m\u001b]8;;\u001b\\\u001b[2m:324\u001b[0m\n",
      "train epoch: 16it [00:04,  3.26it/s]\n",
      "\u001b[2;36m[13:01:58]\u001b[0m\u001b[2;36m \u001b[0m\u001b[34mINFO\u001b[0m     Sending metric for task train, round number \u001b[1;34m12\u001b[0m: CrossEntropyLoss        \u001b[1;34m0.6719014644622803\u001b[0m                               \u001b]8;id=1608544918.751735-693308;file:///home/itrushkin/.virtualenvs/openfl/lib/python3.6/site-packages/openfl/component/collaborator/collaborator.py\u001b\\\u001b[2mcollaborator.py\u001b[0m\u001b]8;;\u001b\\\u001b[2m:324\u001b[0m\n",
      "\u001b[2;36m[13:02:13]\u001b[0m\u001b[2;36m \u001b[0m\u001b[34mINFO\u001b[0m     Sending metric for task locally_tuned_model_validation, round number \u001b[1;34m12\u001b[0m: acc    \u001b[1;34m0.75\u001b[0m                                     \u001b]8;id=1608544933.174259-879914;file:///home/itrushkin/.virtualenvs/openfl/lib/python3.6/site-packages/openfl/component/collaborator/collaborator.py\u001b\\\u001b[2mcollaborator.py\u001b[0m\u001b]8;;\u001b\\\u001b[2m:324\u001b[0m\n",
      "\u001b[2;36m          \u001b[0m\u001b[2;36m \u001b[0m\u001b[34mINFO\u001b[0m     Waiting for tasks\u001b[33m...\u001b[0m                                                                                                     \u001b]8;id=1608544933.5059114-405335;file:///home/itrushkin/.virtualenvs/openfl/lib/python3.6/site-packages/openfl/component/collaborator/collaborator.py\u001b\\\u001b[2mcollaborator.py\u001b[0m\u001b]8;;\u001b\\\u001b[2m:167\u001b[0m\n",
      "\u001b[2;36m[13:02:23]\u001b[0m\u001b[2;36m \u001b[0m\u001b[34mINFO\u001b[0m     Waiting for tasks\u001b[33m...\u001b[0m                                                                                                     \u001b]8;id=1608544943.9436657-897268;file:///home/itrushkin/.virtualenvs/openfl/lib/python3.6/site-packages/openfl/component/collaborator/collaborator.py\u001b\\\u001b[2mcollaborator.py\u001b[0m\u001b]8;;\u001b\\\u001b[2m:167\u001b[0m\n",
      "\u001b[2;36m          \u001b[0m\u001b[2;36m \u001b[0m\u001b[34mINFO\u001b[0m     Received the following tasks: \u001b[1m[\u001b[0m\u001b[32m'aggregated_model_validation'\u001b[0m, \u001b[32m'train'\u001b[0m, \u001b[32m'locally_tuned_model_validation'\u001b[0m\u001b[1m]\u001b[0m                 \u001b]8;id=1608544943.9640083-828123;file:///home/itrushkin/.virtualenvs/openfl/lib/python3.6/site-packages/openfl/component/collaborator/collaborator.py\u001b\\\u001b[2mcollaborator.py\u001b[0m\u001b]8;;\u001b\\\u001b[2m:137\u001b[0m\n",
      "\u001b[2;36m[13:02:26]\u001b[0m\u001b[2;36m \u001b[0m\u001b[34mINFO\u001b[0m     Sending metric for task aggregated_model_validation, round number \u001b[1;34m13\u001b[0m: acc       \u001b[1;34m0.734\u001b[0m                                    \u001b]8;id=1608544946.3216577-675885;file:///home/itrushkin/.virtualenvs/openfl/lib/python3.6/site-packages/openfl/component/collaborator/collaborator.py\u001b\\\u001b[2mcollaborator.py\u001b[0m\u001b]8;;\u001b\\\u001b[2m:324\u001b[0m\n",
      "train epoch: 16it [00:04,  3.25it/s]\n",
      "\u001b[2;36m[13:02:31]\u001b[0m\u001b[2;36m \u001b[0m\u001b[34mINFO\u001b[0m     Sending metric for task train, round number \u001b[1;34m13\u001b[0m: CrossEntropyLoss        \u001b[1;34m0.5819230079650879\u001b[0m                               \u001b]8;id=1608544951.583575-955993;file:///home/itrushkin/.virtualenvs/openfl/lib/python3.6/site-packages/openfl/component/collaborator/collaborator.py\u001b\\\u001b[2mcollaborator.py\u001b[0m\u001b]8;;\u001b\\\u001b[2m:324\u001b[0m\n",
      "\u001b[2;36m[13:02:47]\u001b[0m\u001b[2;36m \u001b[0m\u001b[34mINFO\u001b[0m     Sending metric for task locally_tuned_model_validation, round number \u001b[1;34m13\u001b[0m: acc    \u001b[1;34m0.778\u001b[0m                                    \u001b]8;id=1608544967.6045823-610132;file:///home/itrushkin/.virtualenvs/openfl/lib/python3.6/site-packages/openfl/component/collaborator/collaborator.py\u001b\\\u001b[2mcollaborator.py\u001b[0m\u001b]8;;\u001b\\\u001b[2m:324\u001b[0m\n",
      "\u001b[2;36m[13:02:50]\u001b[0m\u001b[2;36m \u001b[0m\u001b[34mINFO\u001b[0m     Waiting for tasks\u001b[33m...\u001b[0m                                                                                                     \u001b]8;id=1608544970.9528897-533040;file:///home/itrushkin/.virtualenvs/openfl/lib/python3.6/site-packages/openfl/component/collaborator/collaborator.py\u001b\\\u001b[2mcollaborator.py\u001b[0m\u001b]8;;\u001b\\\u001b[2m:167\u001b[0m\n",
      "\u001b[2;36m          \u001b[0m\u001b[2;36m \u001b[0m\u001b[34mINFO\u001b[0m     Received the following tasks: \u001b[1m[\u001b[0m\u001b[32m'aggregated_model_validation'\u001b[0m, \u001b[32m'train'\u001b[0m, \u001b[32m'locally_tuned_model_validation'\u001b[0m\u001b[1m]\u001b[0m                 \u001b]8;id=1608544970.9694057-342651;file:///home/itrushkin/.virtualenvs/openfl/lib/python3.6/site-packages/openfl/component/collaborator/collaborator.py\u001b\\\u001b[2mcollaborator.py\u001b[0m\u001b]8;;\u001b\\\u001b[2m:137\u001b[0m\n",
      "\u001b[2;36m[13:02:53]\u001b[0m\u001b[2;36m \u001b[0m\u001b[34mINFO\u001b[0m     Sending metric for task aggregated_model_validation, round number \u001b[1;34m14\u001b[0m: acc       \u001b[1;34m0.788\u001b[0m                                    \u001b]8;id=1608544973.4262762-82524;file:///home/itrushkin/.virtualenvs/openfl/lib/python3.6/site-packages/openfl/component/collaborator/collaborator.py\u001b\\\u001b[2mcollaborator.py\u001b[0m\u001b]8;;\u001b\\\u001b[2m:324\u001b[0m\n",
      "train epoch: 16it [00:04,  3.22it/s]\n",
      "\u001b[2;36m[13:02:58]\u001b[0m\u001b[2;36m \u001b[0m\u001b[34mINFO\u001b[0m     Sending metric for task train, round number \u001b[1;34m14\u001b[0m: CrossEntropyLoss        \u001b[1;34m0.7114642858505249\u001b[0m                               \u001b]8;id=1608544978.7694087-124206;file:///home/itrushkin/.virtualenvs/openfl/lib/python3.6/site-packages/openfl/component/collaborator/collaborator.py\u001b\\\u001b[2mcollaborator.py\u001b[0m\u001b]8;;\u001b\\\u001b[2m:324\u001b[0m\n",
      "\u001b[2;36m[13:03:08]\u001b[0m\u001b[2;36m \u001b[0m\u001b[34mINFO\u001b[0m     Sending metric for task locally_tuned_model_validation, round number \u001b[1;34m14\u001b[0m: acc    \u001b[1;34m0.764\u001b[0m                                    \u001b]8;id=1608544988.5669196-614804;file:///home/itrushkin/.virtualenvs/openfl/lib/python3.6/site-packages/openfl/component/collaborator/collaborator.py\u001b\\\u001b[2mcollaborator.py\u001b[0m\u001b]8;;\u001b\\\u001b[2m:324\u001b[0m\n"
     ]
    },
    {
     "name": "stdout",
     "output_type": "stream",
     "text": [
      "\u001b[2;36m          \u001b[0m\u001b[2;36m \u001b[0m\u001b[34mINFO\u001b[0m     Waiting for tasks\u001b[33m...\u001b[0m                                                                                                     \u001b]8;id=1608544988.793755-602595;file:///home/itrushkin/.virtualenvs/openfl/lib/python3.6/site-packages/openfl/component/collaborator/collaborator.py\u001b\\\u001b[2mcollaborator.py\u001b[0m\u001b]8;;\u001b\\\u001b[2m:167\u001b[0m\n",
      "\u001b[2;36m[13:03:19]\u001b[0m\u001b[2;36m \u001b[0m\u001b[34mINFO\u001b[0m     Waiting for tasks\u001b[33m...\u001b[0m                                                                                                     \u001b]8;id=1608544999.0552046-776591;file:///home/itrushkin/.virtualenvs/openfl/lib/python3.6/site-packages/openfl/component/collaborator/collaborator.py\u001b\\\u001b[2mcollaborator.py\u001b[0m\u001b]8;;\u001b\\\u001b[2m:167\u001b[0m\n",
      "\u001b[2;36m[13:03:29]\u001b[0m\u001b[2;36m \u001b[0m\u001b[34mINFO\u001b[0m     Waiting for tasks\u001b[33m...\u001b[0m                                                                                                     \u001b]8;id=1608545009.0763102-290690;file:///home/itrushkin/.virtualenvs/openfl/lib/python3.6/site-packages/openfl/component/collaborator/collaborator.py\u001b\\\u001b[2mcollaborator.py\u001b[0m\u001b]8;;\u001b\\\u001b[2m:167\u001b[0m\n",
      "\u001b[2;36m          \u001b[0m\u001b[2;36m \u001b[0m\u001b[34mINFO\u001b[0m     Received the following tasks: \u001b[1m[\u001b[0m\u001b[32m'aggregated_model_validation'\u001b[0m, \u001b[32m'train'\u001b[0m, \u001b[32m'locally_tuned_model_validation'\u001b[0m\u001b[1m]\u001b[0m                 \u001b]8;id=1608545009.149397-783807;file:///home/itrushkin/.virtualenvs/openfl/lib/python3.6/site-packages/openfl/component/collaborator/collaborator.py\u001b\\\u001b[2mcollaborator.py\u001b[0m\u001b]8;;\u001b\\\u001b[2m:137\u001b[0m\n",
      "\u001b[2;36m[13:03:38]\u001b[0m\u001b[2;36m \u001b[0m\u001b[34mINFO\u001b[0m     Sending metric for task aggregated_model_validation, round number \u001b[1;34m15\u001b[0m: acc       \u001b[1;34m0.76\u001b[0m                                     \u001b]8;id=1608545018.1608622-250140;file:///home/itrushkin/.virtualenvs/openfl/lib/python3.6/site-packages/openfl/component/collaborator/collaborator.py\u001b\\\u001b[2mcollaborator.py\u001b[0m\u001b]8;;\u001b\\\u001b[2m:324\u001b[0m\n",
      "train epoch: 16it [00:04,  3.27it/s]\n",
      "\u001b[2;36m[13:03:43]\u001b[0m\u001b[2;36m \u001b[0m\u001b[34mINFO\u001b[0m     Sending metric for task train, round number \u001b[1;34m15\u001b[0m: CrossEntropyLoss        \u001b[1;34m0.5855493545532227\u001b[0m                               \u001b]8;id=1608545023.3955653-274917;file:///home/itrushkin/.virtualenvs/openfl/lib/python3.6/site-packages/openfl/component/collaborator/collaborator.py\u001b\\\u001b[2mcollaborator.py\u001b[0m\u001b]8;;\u001b\\\u001b[2m:324\u001b[0m\n",
      "\u001b[2;36m[13:03:52]\u001b[0m\u001b[2;36m \u001b[0m\u001b[34mINFO\u001b[0m     Sending metric for task locally_tuned_model_validation, round number \u001b[1;34m15\u001b[0m: acc    \u001b[1;34m0.774\u001b[0m                                    \u001b]8;id=1608545032.8358421-952735;file:///home/itrushkin/.virtualenvs/openfl/lib/python3.6/site-packages/openfl/component/collaborator/collaborator.py\u001b\\\u001b[2mcollaborator.py\u001b[0m\u001b]8;;\u001b\\\u001b[2m:324\u001b[0m\n",
      "\u001b[2;36m[13:03:55]\u001b[0m\u001b[2;36m \u001b[0m\u001b[34mINFO\u001b[0m     Waiting for tasks\u001b[33m...\u001b[0m                                                                                                     \u001b]8;id=1608545035.7390015-228520;file:///home/itrushkin/.virtualenvs/openfl/lib/python3.6/site-packages/openfl/component/collaborator/collaborator.py\u001b\\\u001b[2mcollaborator.py\u001b[0m\u001b]8;;\u001b\\\u001b[2m:167\u001b[0m\n",
      "\u001b[2;36m          \u001b[0m\u001b[2;36m \u001b[0m\u001b[34mINFO\u001b[0m     Received the following tasks: \u001b[1m[\u001b[0m\u001b[32m'aggregated_model_validation'\u001b[0m, \u001b[32m'train'\u001b[0m, \u001b[32m'locally_tuned_model_validation'\u001b[0m\u001b[1m]\u001b[0m                 \u001b]8;id=1608545035.7587252-502374;file:///home/itrushkin/.virtualenvs/openfl/lib/python3.6/site-packages/openfl/component/collaborator/collaborator.py\u001b\\\u001b[2mcollaborator.py\u001b[0m\u001b]8;;\u001b\\\u001b[2m:137\u001b[0m\n",
      "\u001b[2;36m[13:03:58]\u001b[0m\u001b[2;36m \u001b[0m\u001b[34mINFO\u001b[0m     Sending metric for task aggregated_model_validation, round number \u001b[1;34m16\u001b[0m: acc       \u001b[1;34m0.806\u001b[0m                                    \u001b]8;id=1608545038.1015115-970388;file:///home/itrushkin/.virtualenvs/openfl/lib/python3.6/site-packages/openfl/component/collaborator/collaborator.py\u001b\\\u001b[2mcollaborator.py\u001b[0m\u001b]8;;\u001b\\\u001b[2m:324\u001b[0m\n",
      "train epoch: 16it [00:04,  3.28it/s]\n",
      "\u001b[2;36m[13:04:03]\u001b[0m\u001b[2;36m \u001b[0m\u001b[34mINFO\u001b[0m     Sending metric for task train, round number \u001b[1;34m16\u001b[0m: CrossEntropyLoss        \u001b[1;34m0.5347692370414734\u001b[0m                               \u001b]8;id=1608545043.3234005-370857;file:///home/itrushkin/.virtualenvs/openfl/lib/python3.6/site-packages/openfl/component/collaborator/collaborator.py\u001b\\\u001b[2mcollaborator.py\u001b[0m\u001b]8;;\u001b\\\u001b[2m:324\u001b[0m\n",
      "\u001b[2;36m[13:04:23]\u001b[0m\u001b[2;36m \u001b[0m\u001b[34mINFO\u001b[0m     Sending metric for task locally_tuned_model_validation, round number \u001b[1;34m16\u001b[0m: acc    \u001b[1;34m0.796\u001b[0m                                    \u001b]8;id=1608545063.045827-196090;file:///home/itrushkin/.virtualenvs/openfl/lib/python3.6/site-packages/openfl/component/collaborator/collaborator.py\u001b\\\u001b[2mcollaborator.py\u001b[0m\u001b]8;;\u001b\\\u001b[2m:324\u001b[0m\n",
      "\u001b[2;36m          \u001b[0m\u001b[2;36m \u001b[0m\u001b[34mINFO\u001b[0m     Waiting for tasks\u001b[33m...\u001b[0m                                                                                                     \u001b]8;id=1608545063.0743506-518202;file:///home/itrushkin/.virtualenvs/openfl/lib/python3.6/site-packages/openfl/component/collaborator/collaborator.py\u001b\\\u001b[2mcollaborator.py\u001b[0m\u001b]8;;\u001b\\\u001b[2m:167\u001b[0m\n",
      "\u001b[2;36m[13:04:33]\u001b[0m\u001b[2;36m \u001b[0m\u001b[34mINFO\u001b[0m     Waiting for tasks\u001b[33m...\u001b[0m                                                                                                     \u001b]8;id=1608545073.0963988-211460;file:///home/itrushkin/.virtualenvs/openfl/lib/python3.6/site-packages/openfl/component/collaborator/collaborator.py\u001b\\\u001b[2mcollaborator.py\u001b[0m\u001b]8;;\u001b\\\u001b[2m:167\u001b[0m\n",
      "\u001b[2;36m          \u001b[0m\u001b[2;36m \u001b[0m\u001b[34mINFO\u001b[0m     Received the following tasks: \u001b[1m[\u001b[0m\u001b[32m'aggregated_model_validation'\u001b[0m, \u001b[32m'train'\u001b[0m, \u001b[32m'locally_tuned_model_validation'\u001b[0m\u001b[1m]\u001b[0m                 \u001b]8;id=1608545073.1166556-514047;file:///home/itrushkin/.virtualenvs/openfl/lib/python3.6/site-packages/openfl/component/collaborator/collaborator.py\u001b\\\u001b[2mcollaborator.py\u001b[0m\u001b]8;;\u001b\\\u001b[2m:137\u001b[0m\n",
      "\u001b[2;36m[13:04:35]\u001b[0m\u001b[2;36m \u001b[0m\u001b[34mINFO\u001b[0m     Sending metric for task aggregated_model_validation, round number \u001b[1;34m17\u001b[0m: acc       \u001b[1;34m0.766\u001b[0m                                    \u001b]8;id=1608545075.5744061-904062;file:///home/itrushkin/.virtualenvs/openfl/lib/python3.6/site-packages/openfl/component/collaborator/collaborator.py\u001b\\\u001b[2mcollaborator.py\u001b[0m\u001b]8;;\u001b\\\u001b[2m:324\u001b[0m\n",
      "train epoch: 16it [00:04,  3.22it/s]\n",
      "\u001b[2;36m[13:04:41]\u001b[0m\u001b[2;36m \u001b[0m\u001b[34mINFO\u001b[0m     Sending metric for task train, round number \u001b[1;34m17\u001b[0m: CrossEntropyLoss        \u001b[1;34m0.5409793853759766\u001b[0m                               \u001b]8;id=1608545081.2835257-564881;file:///home/itrushkin/.virtualenvs/openfl/lib/python3.6/site-packages/openfl/component/collaborator/collaborator.py\u001b\\\u001b[2mcollaborator.py\u001b[0m\u001b]8;;\u001b\\\u001b[2m:324\u001b[0m\n",
      "\u001b[2;36m[13:04:51]\u001b[0m\u001b[2;36m \u001b[0m\u001b[34mINFO\u001b[0m     Sending metric for task locally_tuned_model_validation, round number \u001b[1;34m17\u001b[0m: acc    \u001b[1;34m0.8\u001b[0m                                      \u001b]8;id=1608545091.9902165-779815;file:///home/itrushkin/.virtualenvs/openfl/lib/python3.6/site-packages/openfl/component/collaborator/collaborator.py\u001b\\\u001b[2mcollaborator.py\u001b[0m\u001b]8;;\u001b\\\u001b[2m:324\u001b[0m\n",
      "\u001b[2;36m[13:04:55]\u001b[0m\u001b[2;36m \u001b[0m\u001b[34mINFO\u001b[0m     Waiting for tasks\u001b[33m...\u001b[0m                                                                                                     \u001b]8;id=1608545095.0302575-935940;file:///home/itrushkin/.virtualenvs/openfl/lib/python3.6/site-packages/openfl/component/collaborator/collaborator.py\u001b\\\u001b[2mcollaborator.py\u001b[0m\u001b]8;;\u001b\\\u001b[2m:167\u001b[0m\n",
      "\u001b[2;36m          \u001b[0m\u001b[2;36m \u001b[0m\u001b[34mINFO\u001b[0m     Received the following tasks: \u001b[1m[\u001b[0m\u001b[32m'aggregated_model_validation'\u001b[0m, \u001b[32m'train'\u001b[0m, \u001b[32m'locally_tuned_model_validation'\u001b[0m\u001b[1m]\u001b[0m                 \u001b]8;id=1608545095.0491874-776343;file:///home/itrushkin/.virtualenvs/openfl/lib/python3.6/site-packages/openfl/component/collaborator/collaborator.py\u001b\\\u001b[2mcollaborator.py\u001b[0m\u001b]8;;\u001b\\\u001b[2m:137\u001b[0m\n",
      "\u001b[2;36m[13:04:57]\u001b[0m\u001b[2;36m \u001b[0m\u001b[34mINFO\u001b[0m     Sending metric for task aggregated_model_validation, round number \u001b[1;34m18\u001b[0m: acc       \u001b[1;34m0.81\u001b[0m                                     \u001b]8;id=1608545097.6174011-872676;file:///home/itrushkin/.virtualenvs/openfl/lib/python3.6/site-packages/openfl/component/collaborator/collaborator.py\u001b\\\u001b[2mcollaborator.py\u001b[0m\u001b]8;;\u001b\\\u001b[2m:324\u001b[0m\n"
     ]
    },
    {
     "name": "stdout",
     "output_type": "stream",
     "text": [
      "train epoch: 16it [00:04,  3.20it/s]\n",
      "\u001b[2;36m[13:05:03]\u001b[0m\u001b[2;36m \u001b[0m\u001b[34mINFO\u001b[0m     Sending metric for task train, round number \u001b[1;34m18\u001b[0m: CrossEntropyLoss        \u001b[1;34m0.5622708797454834\u001b[0m                               \u001b]8;id=1608545103.0150223-747569;file:///home/itrushkin/.virtualenvs/openfl/lib/python3.6/site-packages/openfl/component/collaborator/collaborator.py\u001b\\\u001b[2mcollaborator.py\u001b[0m\u001b]8;;\u001b\\\u001b[2m:324\u001b[0m\n",
      "\u001b[2;36m[13:05:23]\u001b[0m\u001b[2;36m \u001b[0m\u001b[34mINFO\u001b[0m     Sending metric for task locally_tuned_model_validation, round number \u001b[1;34m18\u001b[0m: acc    \u001b[1;34m0.77\u001b[0m                                     \u001b]8;id=1608545123.4526374-793798;file:///home/itrushkin/.virtualenvs/openfl/lib/python3.6/site-packages/openfl/component/collaborator/collaborator.py\u001b\\\u001b[2mcollaborator.py\u001b[0m\u001b]8;;\u001b\\\u001b[2m:324\u001b[0m\n",
      "\u001b[2;36m          \u001b[0m\u001b[2;36m \u001b[0m\u001b[34mINFO\u001b[0m     Waiting for tasks\u001b[33m...\u001b[0m                                                                                                     \u001b]8;id=1608545123.4831207-678593;file:///home/itrushkin/.virtualenvs/openfl/lib/python3.6/site-packages/openfl/component/collaborator/collaborator.py\u001b\\\u001b[2mcollaborator.py\u001b[0m\u001b]8;;\u001b\\\u001b[2m:167\u001b[0m\n",
      "\u001b[2;36m[13:05:33]\u001b[0m\u001b[2;36m \u001b[0m\u001b[34mINFO\u001b[0m     Waiting for tasks\u001b[33m...\u001b[0m                                                                                                     \u001b]8;id=1608545133.5001433-287652;file:///home/itrushkin/.virtualenvs/openfl/lib/python3.6/site-packages/openfl/component/collaborator/collaborator.py\u001b\\\u001b[2mcollaborator.py\u001b[0m\u001b]8;;\u001b\\\u001b[2m:167\u001b[0m\n",
      "\u001b[2;36m          \u001b[0m\u001b[2;36m \u001b[0m\u001b[34mINFO\u001b[0m     Received the following tasks: \u001b[1m[\u001b[0m\u001b[32m'aggregated_model_validation'\u001b[0m, \u001b[32m'train'\u001b[0m, \u001b[32m'locally_tuned_model_validation'\u001b[0m\u001b[1m]\u001b[0m                 \u001b]8;id=1608545133.5208735-471277;file:///home/itrushkin/.virtualenvs/openfl/lib/python3.6/site-packages/openfl/component/collaborator/collaborator.py\u001b\\\u001b[2mcollaborator.py\u001b[0m\u001b]8;;\u001b\\\u001b[2m:137\u001b[0m\n",
      "\u001b[2;36m[13:05:36]\u001b[0m\u001b[2;36m \u001b[0m\u001b[34mINFO\u001b[0m     Sending metric for task aggregated_model_validation, round number \u001b[1;34m19\u001b[0m: acc       \u001b[1;34m0.79\u001b[0m                                     \u001b]8;id=1608545136.2882488-386263;file:///home/itrushkin/.virtualenvs/openfl/lib/python3.6/site-packages/openfl/component/collaborator/collaborator.py\u001b\\\u001b[2mcollaborator.py\u001b[0m\u001b]8;;\u001b\\\u001b[2m:324\u001b[0m\n",
      "train epoch: 16it [00:04,  3.27it/s]\n",
      "\u001b[2;36m[13:05:41]\u001b[0m\u001b[2;36m \u001b[0m\u001b[34mINFO\u001b[0m     Sending metric for task train, round number \u001b[1;34m19\u001b[0m: CrossEntropyLoss        \u001b[1;34m0.5270707011222839\u001b[0m                               \u001b]8;id=1608545141.7256422-897595;file:///home/itrushkin/.virtualenvs/openfl/lib/python3.6/site-packages/openfl/component/collaborator/collaborator.py\u001b\\\u001b[2mcollaborator.py\u001b[0m\u001b]8;;\u001b\\\u001b[2m:324\u001b[0m\n",
      "\u001b[2;36m[13:05:53]\u001b[0m\u001b[2;36m \u001b[0m\u001b[34mINFO\u001b[0m     Sending metric for task locally_tuned_model_validation, round number \u001b[1;34m19\u001b[0m: acc    \u001b[1;34m0.778\u001b[0m                                    \u001b]8;id=1608545153.138839-499780;file:///home/itrushkin/.virtualenvs/openfl/lib/python3.6/site-packages/openfl/component/collaborator/collaborator.py\u001b\\\u001b[2mcollaborator.py\u001b[0m\u001b]8;;\u001b\\\u001b[2m:324\u001b[0m\n",
      "\u001b[2;36m[13:05:56]\u001b[0m\u001b[2;36m \u001b[0m\u001b[34mINFO\u001b[0m     Waiting for tasks\u001b[33m...\u001b[0m                                                                                                     \u001b]8;id=1608545156.2125185-24227;file:///home/itrushkin/.virtualenvs/openfl/lib/python3.6/site-packages/openfl/component/collaborator/collaborator.py\u001b\\\u001b[2mcollaborator.py\u001b[0m\u001b]8;;\u001b\\\u001b[2m:167\u001b[0m\n",
      "\u001b[2;36m          \u001b[0m\u001b[2;36m \u001b[0m\u001b[34mINFO\u001b[0m     End of Federation reached. Exiting\u001b[33m...\u001b[0m                                                                                    \u001b]8;id=1608545156.2332923-800454;file:///home/itrushkin/.virtualenvs/openfl/lib/python3.6/site-packages/openfl/component/collaborator/collaborator.py\u001b\\\u001b[2mcollaborator.py\u001b[0m\u001b]8;;\u001b\\\u001b[2m:144\u001b[0m\n",
      "\n",
      " ✔️ OK\n"
     ]
    }
   ],
   "source": [
    "!fx collaborator start -n one"
   ]
  },
  {
   "cell_type": "code",
   "execution_count": null,
   "metadata": {},
   "outputs": [],
   "source": []
  }
 ],
 "metadata": {
  "kernelspec": {
   "display_name": "openfl",
   "language": "python",
   "name": "openfl"
  },
  "language_info": {
   "codemirror_mode": {
    "name": "ipython",
    "version": 3
   },
   "file_extension": ".py",
   "mimetype": "text/x-python",
   "name": "python",
   "nbconvert_exporter": "python",
   "pygments_lexer": "ipython3",
   "version": "3.6.9"
  }
 },
 "nbformat": 4,
 "nbformat_minor": 4
}
