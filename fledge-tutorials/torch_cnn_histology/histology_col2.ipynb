{
 "cells": [
  {
   "cell_type": "markdown",
   "metadata": {},
   "source": [
    "## 9. Make sure you have copied the workspace archive (.zip) from the aggregator node to the collaborator node."
   ]
  },
  {
   "cell_type": "code",
   "execution_count": 2,
   "metadata": {},
   "outputs": [
    {
     "name": "stdout",
     "output_type": "stream",
     "text": [
      "Requirement already satisfied: paramiko in /home/itrushkin/.virtualenvs/fledge/lib/python3.6/site-packages (2.7.2)\n",
      "Requirement already satisfied: scp in /home/itrushkin/.virtualenvs/fledge/lib/python3.6/site-packages (0.13.3)\n",
      "Requirement already satisfied: bcrypt>=3.1.3 in /home/itrushkin/.virtualenvs/fledge/lib/python3.6/site-packages (from paramiko) (3.2.0)\n",
      "Requirement already satisfied: pynacl>=1.0.1 in /home/itrushkin/.virtualenvs/fledge/lib/python3.6/site-packages (from paramiko) (1.4.0)\n",
      "Requirement already satisfied: cryptography>=2.5 in /home/itrushkin/.virtualenvs/fledge/lib/python3.6/site-packages (from paramiko) (3.2.1)\n",
      "Requirement already satisfied: six>=1.4.1 in /home/itrushkin/.virtualenvs/fledge/lib/python3.6/site-packages (from bcrypt>=3.1.3->paramiko) (1.15.0)\n",
      "Requirement already satisfied: cffi>=1.1 in /home/itrushkin/.virtualenvs/fledge/lib/python3.6/site-packages (from bcrypt>=3.1.3->paramiko) (1.14.3)\n",
      "Requirement already satisfied: pycparser in /home/itrushkin/.virtualenvs/fledge/lib/python3.6/site-packages (from cffi>=1.1->bcrypt>=3.1.3->paramiko) (2.20)\n",
      "Enter itrushki@nnlicv431.inn.intel.com password:········\n"
     ]
    }
   ],
   "source": [
    "!pip install paramiko scp\n",
    "\n",
    "from paramiko import SSHClient, AutoAddPolicy\n",
    "from scp import SCPClient\n",
    "from pathlib import Path\n",
    "from getpass import getpass\n",
    "afqdn = 'nnlicv431.inn.intel.com'\n",
    "workspace_src = '/home/itrushkin/workspace'\n",
    "archive_name = 'workspace.zip'\n",
    "signed_cert = 'agg_to_col_two_signed_cert.zip'\n",
    "key = 'cert/client/col_two.key'  \n",
    "folder_name = archive_name.split('.')[0]\n",
    "workspace_dst = '/home/itrushkin'\n",
    "src_user = 'itrushki'\n",
    "\n",
    "\n",
    "ssh_client = SSHClient()\n",
    "ssh_client.set_missing_host_key_policy(AutoAddPolicy())\n",
    "ssh_client.connect(afqdn, username=src_user, password=getpass(f'Enter {src_user}@{afqdn} password:'))\n",
    "scp = SCPClient(ssh_client.get_transport())\n",
    "scp.get(str(Path(workspace_src) / archive_name), workspace_dst)"
   ]
  },
  {
   "cell_type": "markdown",
   "metadata": {},
   "source": [
    "# 11. Import the workspace archive."
   ]
  },
  {
   "cell_type": "code",
   "execution_count": 13,
   "metadata": {},
   "outputs": [
    {
     "name": "stdout",
     "output_type": "stream",
     "text": [
      "/home/itrushkin\n",
      "\u001b[2J\u001b[1;1H\u001b[104m\u001b[1mIntel FLedge - Secure Federated Learning at the Edge™                           \u001b[0m\n",
      "\n",
      "2020-12-04 18:38:26.404017: W tensorflow/stream_executor/platform/default/dso_loader.cc:59] Could not load dynamic library 'libcudart.so.10.1'; dlerror: libcudart.so.10.1: cannot open shared object file: No such file or directory\n",
      "2020-12-04 18:38:26.404043: I tensorflow/stream_executor/cuda/cudart_stub.cc:29] Ignore above cudart dlerror if you do not have a GPU set up on your machine.\n",
      "Requirement already satisfied: torch==1.6.0 in /home/itrushkin/.virtualenvs/fledge/lib/python3.6/site-packages (from -r requirements.txt (line 1)) (1.6.0)\n",
      "Requirement already satisfied: torchvision==0.7.0 in /home/itrushkin/.virtualenvs/fledge/lib/python3.6/site-packages (from -r requirements.txt (line 3)) (0.7.0)\n",
      "Requirement already satisfied: numpy in /home/itrushkin/.virtualenvs/fledge/lib/python3.6/site-packages (from torch==1.6.0->-r requirements.txt (line 1)) (1.18.5)\n",
      "Requirement already satisfied: future in /home/itrushkin/.virtualenvs/fledge/lib/python3.6/site-packages (from torch==1.6.0->-r requirements.txt (line 1)) (0.18.2)\n",
      "Requirement already satisfied: pillow>=4.1.1 in /home/itrushkin/.virtualenvs/fledge/lib/python3.6/site-packages (from torchvision==0.7.0->-r requirements.txt (line 3)) (7.2.0)\n",
      "Workspace workspace.zip has been imported.\n",
      "You may need to copy your PKI certificates to join the federation.\n",
      "\n",
      " ✔️ OK\n",
      "/home/itrushkin/workspace\n"
     ]
    }
   ],
   "source": [
    "%cd $workspace_dst\n",
    "!rm -rf $folder_name\n",
    "!fx workspace import --archive $archive_name\n",
    "%cd $folder_name"
   ]
  },
  {
   "cell_type": "markdown",
   "metadata": {},
   "source": [
    "## 13. Create a collaborator certificate request."
   ]
  },
  {
   "cell_type": "code",
   "execution_count": 14,
   "metadata": {},
   "outputs": [
    {
     "name": "stdout",
     "output_type": "stream",
     "text": [
      "\u001b[2J\u001b[1;1H\u001b[104m\u001b[1mIntel FLedge - Secure Federated Learning at the Edge™                           \u001b[0m\n",
      "\n",
      "2020-12-04 18:38:34.339652: W tensorflow/stream_executor/platform/default/dso_loader.cc:59] Could not load dynamic library 'libcudart.so.10.1'; dlerror: libcudart.so.10.1: cannot open shared object file: No such file or directory\n",
      "2020-12-04 18:38:34.339679: I tensorflow/stream_executor/cuda/cudart_stub.cc:29] Ignore above cudart dlerror if you do not have a GPU set up on your machine.\n",
      "Creating COLLABORATOR certificate key pair with following settings: CN=\u001b[31mtwo\u001b[0m, SAN=\u001b[31mDNS:two\u001b[0m\n",
      "  Moving COLLABORATOR certificate to: \u001b[32mcert/col_two\u001b[0m\n",
      "Archive col_two_to_agg_cert_request.zip with certificate signing request created\n",
      "This file should be sent to the certificate authority (typically hosted by the aggregator) for signing\n",
      "\n",
      " ✔️ OK\n"
     ]
    }
   ],
   "source": [
    "!fx collaborator generate-cert-request -n two -d 2\n",
    "scp.put('col_two_to_agg_cert_request.zip', workspace_src)"
   ]
  },
  {
   "cell_type": "markdown",
   "metadata": {},
   "source": [
    "# Get signed certificates from the aggregator"
   ]
  },
  {
   "cell_type": "code",
   "execution_count": 3,
   "metadata": {},
   "outputs": [
    {
     "name": "stdout",
     "output_type": "stream",
     "text": [
      "\u001b[2J\u001b[1;1H\u001b[104m\u001b[1mIntel FLedge - Secure Federated Learning at the Edge™                           \u001b[0m\n",
      "\n",
      "2020-12-04 18:40:47.402441: W tensorflow/stream_executor/platform/default/dso_loader.cc:59] Could not load dynamic library 'libcudart.so.10.1'; dlerror: libcudart.so.10.1: cannot open shared object file: No such file or directory\n",
      "2020-12-04 18:40:47.402467: I tensorflow/stream_executor/cuda/cudart_stub.cc:29] Ignore above cudart dlerror if you do not have a GPU set up on your machine.\n",
      "Certificate col_two.crt installed to PKI directory\n",
      "\n",
      " ✔️ OK\n"
     ]
    }
   ],
   "source": [
    "scp.get(str(Path(workspace_src) / 'agg_to_col_two_signed_cert.zip'), '.')\n",
    "!fx collaborator certify --import agg_to_col_two_signed_cert.zip"
   ]
  },
  {
   "cell_type": "markdown",
   "metadata": {},
   "source": [
    "# Choose a device"
   ]
  },
  {
   "cell_type": "code",
   "execution_count": 4,
   "metadata": {},
   "outputs": [
    {
     "name": "stdout",
     "output_type": "stream",
     "text": [
      "env: CUDA_VISIBLE_DEVICES=1\n"
     ]
    }
   ],
   "source": [
    "%env CUDA_VISIBLE_DEVICES=1"
   ]
  },
  {
   "cell_type": "markdown",
   "metadata": {},
   "source": [
    "# Run the collaborator process"
   ]
  },
  {
   "cell_type": "code",
   "execution_count": 8,
   "metadata": {},
   "outputs": [
    {
     "name": "stdout",
     "output_type": "stream",
     "text": [
      "\u001b[2J\u001b[1;1H\u001b[104m\u001b[1mIntel FLedge - Secure Federated Learning at the Edge™                           \u001b[0m\n",
      "\n",
      "2020-12-04 18:41:39.484487: W tensorflow/stream_executor/platform/default/dso_loader.cc:59] Could not load dynamic library 'libcudart.so.10.1'; dlerror: libcudart.so.10.1: cannot open shared object file: No such file or directory\n",
      "2020-12-04 18:41:39.484515: I tensorflow/stream_executor/cuda/cudart_stub.cc:29] Ignore above cudart dlerror if you do not have a GPU set up on your machine.\n",
      "\u001b[2;36m[18:41:40]\u001b[0m\u001b[2;36m \u001b[0m\u001b[34mINFO\u001b[0m     Loading DEFAULTS for section \u001b[31maggregator\u001b[0m from file \u001b[31mplan/defaults/aggregator.yaml\u001b[0m.                                                  \u001b]8;id=1607096500.4611084-902181;file:///home/itrushkin/.virtualenvs/fledge/lib/python3.6/site-packages/fledge/federated/plan/plan.py\u001b\\\u001b[2mplan.py\u001b[0m\u001b]8;;\u001b\\\u001b[2m:87\u001b[0m\n",
      "\u001b[2;36m          \u001b[0m\u001b[2;36m \u001b[0m\u001b[34mINFO\u001b[0m     Loading DEFAULTS for section \u001b[31massigner\u001b[0m from file \u001b[31mplan/defaults/assigner.yaml\u001b[0m.                                                      \u001b]8;id=1607096500.462991-506550;file:///home/itrushkin/.virtualenvs/fledge/lib/python3.6/site-packages/fledge/federated/plan/plan.py\u001b\\\u001b[2mplan.py\u001b[0m\u001b]8;;\u001b\\\u001b[2m:87\u001b[0m\n",
      "\u001b[2;36m          \u001b[0m\u001b[2;36m \u001b[0m\u001b[34mINFO\u001b[0m     Loading DEFAULTS for section \u001b[31mcollaborator\u001b[0m from file \u001b[31mplan/defaults/collaborator.yaml\u001b[0m.                                              \u001b]8;id=1607096500.465133-8977;file:///home/itrushkin/.virtualenvs/fledge/lib/python3.6/site-packages/fledge/federated/plan/plan.py\u001b\\\u001b[2mplan.py\u001b[0m\u001b]8;;\u001b\\\u001b[2m:87\u001b[0m\n",
      "\u001b[2;36m          \u001b[0m\u001b[2;36m \u001b[0m\u001b[34mINFO\u001b[0m     Loading DEFAULTS for section \u001b[31mnetwork\u001b[0m from file \u001b[31mplan/defaults/network.yaml\u001b[0m.                                                        \u001b]8;id=1607096500.46694-925690;file:///home/itrushkin/.virtualenvs/fledge/lib/python3.6/site-packages/fledge/federated/plan/plan.py\u001b\\\u001b[2mplan.py\u001b[0m\u001b]8;;\u001b\\\u001b[2m:87\u001b[0m\n",
      "\u001b[2;36m          \u001b[0m\u001b[2;36m \u001b[0m\u001b[34mINFO\u001b[0m     Loading DEFAULTS for section \u001b[31mtask_runner\u001b[0m from file \u001b[31mplan/defaults/task_runner.yaml\u001b[0m.                                                \u001b]8;id=1607096500.4690452-489876;file:///home/itrushkin/.virtualenvs/fledge/lib/python3.6/site-packages/fledge/federated/plan/plan.py\u001b\\\u001b[2mplan.py\u001b[0m\u001b]8;;\u001b\\\u001b[2m:87\u001b[0m\n",
      "\u001b[2;36m          \u001b[0m\u001b[2;36m \u001b[0m\u001b[34mINFO\u001b[0m     Loading DEFAULTS for section \u001b[31mtasks\u001b[0m from file \u001b[31mplan/defaults/tasks_torch.yaml\u001b[0m.                                                      \u001b]8;id=1607096500.4706745-756840;file:///home/itrushkin/.virtualenvs/fledge/lib/python3.6/site-packages/fledge/federated/plan/plan.py\u001b\\\u001b[2mplan.py\u001b[0m\u001b]8;;\u001b\\\u001b[2m:87\u001b[0m\n",
      "\u001b[2;36m          \u001b[0m\u001b[2;36m \u001b[0m\u001b[34mINFO\u001b[0m     FL-Plan hash is \u001b[34m7da62f28238a0d52ab0db363b2fe9a46\u001b[0m                                                                                 \u001b]8;id=1607096500.475722-180399;file:///home/itrushkin/.virtualenvs/fledge/lib/python3.6/site-packages/fledge/federated/plan/plan.py\u001b\\\u001b[2mplan.py\u001b[0m\u001b]8;;\u001b\\\u001b[2m:183\u001b[0m\n",
      "\u001b[2;36m          \u001b[0m\u001b[2;36m \u001b[0m\u001b[34mINFO\u001b[0m     FL-Plan hash is \u001b[34m7da62f28238a0d52ab0db363b2fe9a46\u001b[0m                                                                                 \u001b]8;id=1607096500.479467-724032;file:///home/itrushkin/.virtualenvs/fledge/lib/python3.6/site-packages/fledge/federated/plan/plan.py\u001b\\\u001b[2mplan.py\u001b[0m\u001b]8;;\u001b\\\u001b[2m:183\u001b[0m\n",
      "\u001b[2;36m          \u001b[0m\u001b[2;36m \u001b[0m\u001b[34mINFO\u001b[0m     Parsing Federated Learning Plan : \u001b[32mSUCCESS\u001b[0m : \u001b[34mplan/plan.yaml\u001b[0m.                                                                      \u001b]8;id=1607096500.480937-329592;file:///home/itrushkin/.virtualenvs/fledge/lib/python3.6/site-packages/fledge/federated/plan/plan.py\u001b\\\u001b[2mplan.py\u001b[0m\u001b]8;;\u001b\\\u001b[2m:116\u001b[0m\n",
      "\u001b[2;36m          \u001b[0m\u001b[2;36m \u001b[0m\u001b[34mINFO\u001b[0m     aggregator:                                                                                                                      \u001b]8;id=1607096500.491801-105972;file:///home/itrushkin/.virtualenvs/fledge/lib/python3.6/site-packages/fledge/federated/plan/plan.py\u001b\\\u001b[2mplan.py\u001b[0m\u001b]8;;\u001b\\\u001b[2m:117\u001b[0m\n",
      "                      defaults: plan/defaults/aggregator.yaml                                                                                                   \n",
      "                      settings:                                                                                                                                 \n",
      "                        best_state_path: save/torch_cnn_histology_best.pbuf                                                                                     \n",
      "                        db_store_rounds: \u001b[1;34m1\u001b[0m                                                                                                                      \n",
      "                        init_state_path: save/torch_cnn_histology_init.pbuf                                                                                     \n",
      "                        last_state_path: save/torch_cnn_histology_last.pbuf                                                                                     \n",
      "                        rounds_to_train: \u001b[1;34m20\u001b[0m                                                                                                                     \n",
      "                      template: fledge.component.Aggregator                                                                                                     \n",
      "                    assigner:                                                                                                                                   \n",
      "                      defaults: plan/defaults/assigner.yaml                                                                                                     \n",
      "                      settings:                                                                                                                                 \n",
      "                        task_groups:                                                                                                                            \n",
      "                        - name: train_and_validate                                                                                                              \n",
      "                          percentage: \u001b[1;34m1.0\u001b[0m                                                                                                                       \n",
      "                          tasks:                                                                                                                                \n",
      "                          - aggregated_model_validation                                                                                                         \n",
      "                          - train                                                                                                                               \n",
      "                          - locally_tuned_model_validation                                                                                                      \n",
      "                      template: fledge.component.RandomGroupedAssigner                                                                                          \n",
      "                    collaborator:                                                                                                                               \n",
      "                      defaults: plan/defaults/collaborator.yaml                                                                                                 \n",
      "                      settings:                                                                                                                                 \n",
      "                        db_store_rounds: \u001b[1;34m1\u001b[0m                                                                                                                      \n",
      "                        delta_updates: false                                                                                                                    \n",
      "                        epochs_per_round: \u001b[1;34m1.0\u001b[0m                                                                                                                   \n",
      "                        opt_treatment: RESET                                                                                                                    \n",
      "                        polling_interval: \u001b[1;34m4\u001b[0m                                                                                                                     \n",
      "                      template: fledge.component.Collaborator                                                                                                   \n",
      "                    data_loader:                                                                                                                                \n",
      "                      settings:                                                                                                                                 \n",
      "                        batch_size: \u001b[1;34m128\u001b[0m                                                                                                                         \n",
      "                        collaborator_count: \u001b[1;34m2\u001b[0m                                                                                                                   \n",
      "                        data_group_name: histology                                                                                                              \n",
      "                      template: code.pthistology_inmemory.PyTorchHistologyInMemory                                                                              \n",
      "                    network:                                                                                                                                    \n",
      "                      defaults: plan/defaults/network.yaml                                                                                                      \n",
      "                      settings:                                                                                                                                 \n",
      "                        agg_addr: nnlicv431.inn.intel.com                                                                                                       \n",
      "                        agg_port: \u001b[1;34m60714\u001b[0m                                                                                                                         \n",
      "                        cert_folder: cert                                                                                                                       \n",
      "                        disable_client_auth: false                                                                                                              \n",
      "                        disable_tls: false                                                                                                                      \n",
      "                        hash_salt: auto                                                                                                                         \n",
      "                      template: fledge.federation.Network                                                                                                       \n",
      "                    task_runner:                                                                                                                                \n",
      "                      defaults: plan/defaults/task_runner.yaml                                                                                                  \n",
      "                      settings: \u001b[1m{\u001b[0m\u001b[1m}\u001b[0m                                                                                                                              \n",
      "                      template: code.pt_cnn.PyTorchCNN                                                                                                          \n",
      "                    tasks:                                                                                                                                      \n",
      "                      aggregated_model_validation:                                                                                                              \n",
      "                        function: validate                                                                                                                      \n",
      "                        kwargs:                                                                                                                                 \n",
      "                          apply: global                                                                                                                         \n",
      "                          metrics:                                                                                                                              \n",
      "                          - acc                                                                                                                                 \n",
      "                      defaults: plan/defaults/tasks_torch.yaml                                                                                                  \n",
      "                      locally_tuned_model_validation:                                                                                                           \n",
      "                        function: validate                                                                                                                      \n",
      "                        kwargs:                                                                                                                                 \n",
      "                          apply: local                                                                                                                          \n",
      "                          metrics:                                                                                                                              \n",
      "                          - acc                                                                                                                                 \n",
      "                      settings: \u001b[1m{\u001b[0m\u001b[1m}\u001b[0m                                                                                                                              \n",
      "                      train:                                                                                                                                    \n",
      "                        function: train_batches                                                                                                                 \n",
      "                        kwargs:                                                                                                                                 \n",
      "                          metrics:                                                                                                                              \n",
      "                          - loss                                                                                                                                \n",
      "                                                                                                                                                                \n",
      "Data = {'one': '1', 'two': '2'}\n",
      "\u001b[2;36m          \u001b[0m\u001b[2;36m \u001b[0m\u001b[34mINFO\u001b[0m     🧿 Starting a Collaborator Service.                                                                                       \u001b]8;id=1607096500.4954102-13486;file:///home/itrushkin/.virtualenvs/fledge/lib/python3.6/site-packages/fledge/interface/collaborator.py\u001b\\\u001b[2mcollaborator.py\u001b[0m\u001b]8;;\u001b\\\u001b[2m:32\u001b[0m\n",
      "\u001b[2;36m          \u001b[0m\u001b[2;36m \u001b[0m\u001b[34mINFO\u001b[0m     Building \u001b[31m🡆\u001b[0m Object \u001b[31mPyTorchHistologyInMemory\u001b[0m from \u001b[31mcode.pthistology_inmemory\u001b[0m Module.                                                \u001b]8;id=1607096500.496946-273431;file:///home/itrushkin/.virtualenvs/fledge/lib/python3.6/site-packages/fledge/federated/plan/plan.py\u001b\\\u001b[2mplan.py\u001b[0m\u001b]8;;\u001b\\\u001b[2m:147\u001b[0m\n",
      "\u001b[2;36m          \u001b[0m\u001b[2;36m \u001b[0m\u001b[34mINFO\u001b[0m     Settings \u001b[31m🡆\u001b[0m \u001b[1m{\u001b[0m\u001b[32m'batch_size'\u001b[0m: \u001b[1;34m128\u001b[0m, \u001b[32m'collaborator_count'\u001b[0m: \u001b[1;34m2\u001b[0m, \u001b[32m'data_group_name'\u001b[0m: \u001b[32m'histology'\u001b[0m, \u001b[32m'data_path'\u001b[0m: \u001b[32m'2'\u001b[0m\u001b[1m}\u001b[0m                        \u001b]8;id=1607096500.4985101-591119;file:///home/itrushkin/.virtualenvs/fledge/lib/python3.6/site-packages/fledge/federated/plan/plan.py\u001b\\\u001b[2mplan.py\u001b[0m\u001b]8;;\u001b\\\u001b[2m:148\u001b[0m\n",
      "\u001b[2;36m          \u001b[0m\u001b[2;36m \u001b[0m\u001b[34mINFO\u001b[0m     Override \u001b[31m🡆\u001b[0m \u001b[1m{\u001b[0m\u001b[1m}\u001b[0m                                                                                                                    \u001b]8;id=1607096500.4999192-83702;file:///home/itrushkin/.virtualenvs/fledge/lib/python3.6/site-packages/fledge/federated/plan/plan.py\u001b\\\u001b[2mplan.py\u001b[0m\u001b]8;;\u001b\\\u001b[2m:149\u001b[0m\n"
     ]
    },
    {
     "name": "stdout",
     "output_type": "stream",
     "text": [
      "\u001b[2;36m[18:41:42]\u001b[0m\u001b[2;36m \u001b[0m\u001b[34mINFO\u001b[0m     Histology > X_train Shape : \u001b[1m(\u001b[0m\u001b[1;34m1999\u001b[0m, \u001b[1;34m3\u001b[0m, \u001b[1;34m150\u001b[0m, \u001b[1;34m150\u001b[0m\u001b[1m)\u001b[0m                                                                       \u001b]8;id=1607096502.079867-678233;file:///home/itrushkin/workspace/code/histology_utils.py\u001b\\\u001b[2mhistology_utils.py\u001b[0m\u001b]8;;\u001b\\\u001b[2m:136\u001b[0m\n",
      "\u001b[2;36m          \u001b[0m\u001b[2;36m \u001b[0m\u001b[34mINFO\u001b[0m     Histology > y_train Shape : \u001b[1m(\u001b[0m\u001b[1;34m1999\u001b[0m,\u001b[1m)\u001b[0m                                                                                   \u001b]8;id=1607096502.0812583-9454;file:///home/itrushkin/workspace/code/histology_utils.py\u001b\\\u001b[2mhistology_utils.py\u001b[0m\u001b]8;;\u001b\\\u001b[2m:137\u001b[0m\n",
      "\u001b[2;36m          \u001b[0m\u001b[2;36m \u001b[0m\u001b[34mINFO\u001b[0m     Histology > Train Samples : \u001b[1;34m1999\u001b[0m                                                                                      \u001b]8;id=1607096502.0824928-54680;file:///home/itrushkin/workspace/code/histology_utils.py\u001b\\\u001b[2mhistology_utils.py\u001b[0m\u001b]8;;\u001b\\\u001b[2m:138\u001b[0m\n",
      "\u001b[2;36m          \u001b[0m\u001b[2;36m \u001b[0m\u001b[34mINFO\u001b[0m     Histology > Valid Samples : \u001b[1;34m499\u001b[0m                                                                                       \u001b]8;id=1607096502.0838022-981723;file:///home/itrushkin/workspace/code/histology_utils.py\u001b\\\u001b[2mhistology_utils.py\u001b[0m\u001b]8;;\u001b\\\u001b[2m:139\u001b[0m\n",
      "\u001b[2;36m          \u001b[0m\u001b[2;36m \u001b[0m\u001b[34mINFO\u001b[0m     Building \u001b[31m🡆\u001b[0m Object \u001b[31mPyTorchCNN\u001b[0m from \u001b[31mcode.pt_cnn\u001b[0m Module.                                                                            \u001b]8;id=1607096502.0852518-772692;file:///home/itrushkin/.virtualenvs/fledge/lib/python3.6/site-packages/fledge/federated/plan/plan.py\u001b\\\u001b[2mplan.py\u001b[0m\u001b]8;;\u001b\\\u001b[2m:147\u001b[0m\n",
      "\u001b[2;36m          \u001b[0m\u001b[2;36m \u001b[0m\u001b[34mINFO\u001b[0m     Settings \u001b[31m🡆\u001b[0m \u001b[1m{\u001b[0m\u001b[32m'data_loader'\u001b[0m: \u001b[1m<\u001b[0m\u001b[1;95mcode.pthistology_inmemory.PyTorchHistologyInMemory\u001b[0m\u001b[39m object at \u001b[0m\u001b[1;34m0x7fb94cd62978\u001b[0m\u001b[1m>\u001b[0m\u001b[1m}\u001b[0m                        \u001b]8;id=1607096502.0866911-496276;file:///home/itrushkin/.virtualenvs/fledge/lib/python3.6/site-packages/fledge/federated/plan/plan.py\u001b\\\u001b[2mplan.py\u001b[0m\u001b]8;;\u001b\\\u001b[2m:148\u001b[0m\n",
      "\u001b[2;36m          \u001b[0m\u001b[2;36m \u001b[0m\u001b[34mINFO\u001b[0m     Override \u001b[31m🡆\u001b[0m \u001b[1m{\u001b[0m\u001b[32m'defaults'\u001b[0m: \u001b[32m'plan/defaults/task_runner.yaml'\u001b[0m\u001b[1m}\u001b[0m                                                                        \u001b]8;id=1607096502.0881443-95064;file:///home/itrushkin/.virtualenvs/fledge/lib/python3.6/site-packages/fledge/federated/plan/plan.py\u001b\\\u001b[2mplan.py\u001b[0m\u001b]8;;\u001b\\\u001b[2m:149\u001b[0m\n",
      "PyTorchCNN(\n",
      "  (conv1): Conv2d(3, 16, kernel_size=(3, 3), stride=(1, 1), padding=(1, 1))\n",
      "  (conv2): Conv2d(16, 32, kernel_size=(3, 3), stride=(1, 1), padding=(1, 1))\n",
      "  (conv3): Conv2d(32, 64, kernel_size=(3, 3), stride=(1, 1), padding=(1, 1))\n",
      "  (conv4): Conv2d(64, 128, kernel_size=(3, 3), stride=(1, 1), padding=(1, 1))\n",
      "  (conv5): Conv2d(160, 256, kernel_size=(3, 3), stride=(1, 1), padding=(1, 1))\n",
      "  (conv6): Conv2d(256, 512, kernel_size=(3, 3), stride=(1, 1), padding=(1, 1))\n",
      "  (conv7): Conv2d(672, 256, kernel_size=(3, 3), stride=(1, 1), padding=(1, 1))\n",
      "  (conv8): Conv2d(256, 512, kernel_size=(3, 3), stride=(1, 1), padding=(1, 1))\n",
      "  (fc1): Linear(in_features=95904, out_features=128, bias=True)\n",
      "  (fc2): Linear(in_features=128, out_features=8, bias=True)\n",
      ")\n",
      "\u001b[2;36m[18:41:44]\u001b[0m\u001b[2;36m \u001b[0m\u001b[31mWARNING\u001b[0m  tried to remove tensor: __opt_state_needed not present in the tensor dict                                                        \u001b]8;id=1607096504.105279-744622;file:///home/itrushkin/.virtualenvs/fledge/lib/python3.6/site-packages/fledge/utilities/utils.py\u001b\\\u001b[2mutils.py\u001b[0m\u001b]8;;\u001b\\\u001b[2m:78\u001b[0m\n",
      "\u001b[2;36m          \u001b[0m\u001b[2;36m \u001b[0m\u001b[34mINFO\u001b[0m     Building \u001b[31m🡆\u001b[0m Object \u001b[31mNoCompressionPipeline\u001b[0m from \u001b[31mfledge.pipelines\u001b[0m Module.                                                            \u001b]8;id=1607096504.107864-423860;file:///home/itrushkin/.virtualenvs/fledge/lib/python3.6/site-packages/fledge/federated/plan/plan.py\u001b\\\u001b[2mplan.py\u001b[0m\u001b]8;;\u001b\\\u001b[2m:147\u001b[0m\n",
      "\u001b[2;36m          \u001b[0m\u001b[2;36m \u001b[0m\u001b[34mINFO\u001b[0m     Settings \u001b[31m🡆\u001b[0m \u001b[1m{\u001b[0m\u001b[1m}\u001b[0m                                                                                                                    \u001b]8;id=1607096504.1092653-979107;file:///home/itrushkin/.virtualenvs/fledge/lib/python3.6/site-packages/fledge/federated/plan/plan.py\u001b\\\u001b[2mplan.py\u001b[0m\u001b]8;;\u001b\\\u001b[2m:148\u001b[0m\n",
      "\u001b[2;36m          \u001b[0m\u001b[2;36m \u001b[0m\u001b[34mINFO\u001b[0m     Override \u001b[31m🡆\u001b[0m \u001b[1m{\u001b[0m\u001b[1m}\u001b[0m                                                                                                                    \u001b]8;id=1607096504.1106641-797211;file:///home/itrushkin/.virtualenvs/fledge/lib/python3.6/site-packages/fledge/federated/plan/plan.py\u001b\\\u001b[2mplan.py\u001b[0m\u001b]8;;\u001b\\\u001b[2m:149\u001b[0m\n",
      "\u001b[31m\u001b[1mEXCEPTION\u001b[0m : \u001b[31m[Errno 2] No such file or directory: 'cert/client/col_two.key'\u001b[0m\n",
      "\u001b[91m╭─\u001b[0m\u001b[91m──────────────────── \u001b[0m\u001b[1;31mTraceback \u001b[0m\u001b[1;2;31m(most recent call last)\u001b[0m\u001b[91m ─────────────────────\u001b[0m\u001b[91m─╮\u001b[0m\n",
      "\u001b[91m│\u001b[0m \u001b[2;33m/home/itrushkin/.virtualenvs/fledge/bin/\u001b[0m\u001b[1;33mfx\u001b[0m:\u001b[94m8\u001b[0m in \u001b[92m<module>\u001b[0m                     \u001b[91m│\u001b[0m\n",
      "\u001b[91m│\u001b[0m                                                                              \u001b[91m│\u001b[0m\n",
      "\u001b[91m│\u001b[0m \u001b[2;33m/home/itrushkin/.virtualenvs/fledge/lib/python3.6/site-packages/fledge/inter\u001b[0m \u001b[91m│\u001b[0m\n",
      "\u001b[91m│\u001b[0m \u001b[2;33mface/\u001b[0m\u001b[1;33mcli.py\u001b[0m:\u001b[94m150\u001b[0m in \u001b[92mentry\u001b[0m                                                     \u001b[91m│\u001b[0m\n",
      "\u001b[91m│\u001b[0m                                                                              \u001b[91m│\u001b[0m\n",
      "\u001b[91m│\u001b[0m   \u001b[2m147 \u001b[0m\u001b[2m│   \u001b[0m\u001b[94mtry\u001b[0m:                                                               \u001b[91m│\u001b[0m\n",
      "\u001b[91m│\u001b[0m   \u001b[2m148 \u001b[0m\u001b[2m│   │   \u001b[0mcli()                                                          \u001b[91m│\u001b[0m\n",
      "\u001b[91m│\u001b[0m   \u001b[2m149 \u001b[0m\u001b[2m│   \u001b[0m\u001b[94mexcept\u001b[0m \u001b[96mException\u001b[0m \u001b[94mas\u001b[0m e:                                             \u001b[91m│\u001b[0m\n",
      "\u001b[91m│\u001b[0m \u001b[31m❱ \u001b[0m150 \u001b[2m│   │   \u001b[0merror_handler(e)                                               \u001b[91m│\u001b[0m\n",
      "\u001b[91m│\u001b[0m   \u001b[2m151 \u001b[0m\u001b[2m│   │   \u001b[0m\u001b[2m#echo(style(f'EXCEPTION', fg = 'red', bold = True) + ' : ' + s\u001b[0m \u001b[91m│\u001b[0m\n",
      "\u001b[91m│\u001b[0m   \u001b[2m152 \u001b[0m\u001b[2m│   │   \u001b[0m\u001b[2m#raise e\u001b[0m                                                       \u001b[91m│\u001b[0m\n",
      "\u001b[91m│\u001b[0m   \u001b[2m153 \u001b[0m                                                                       \u001b[91m│\u001b[0m\n",
      "\u001b[91m│\u001b[0m                                                                              \u001b[91m│\u001b[0m\n",
      "\u001b[91m│\u001b[0m \u001b[2;33m/home/itrushkin/.virtualenvs/fledge/lib/python3.6/site-packages/fledge/inter\u001b[0m \u001b[91m│\u001b[0m\n",
      "\u001b[91m│\u001b[0m \u001b[2;33mface/\u001b[0m\u001b[1;33mcli.py\u001b[0m:\u001b[94m112\u001b[0m in \u001b[92merror_handler\u001b[0m                                             \u001b[91m│\u001b[0m\n",
      "\u001b[91m│\u001b[0m                                                                              \u001b[91m│\u001b[0m\n",
      "\u001b[91m│\u001b[0m   \u001b[2m109 \u001b[0m\u001b[2m│   │   \u001b[0m\u001b[94mif\u001b[0m \u001b[33m'\u001b[0m\u001b[33mPyTorch\u001b[0m\u001b[33m'\u001b[0m \u001b[95min\u001b[0m \u001b[96mstr\u001b[0m(error):                                    \u001b[91m│\u001b[0m\n",
      "\u001b[91m│\u001b[0m   \u001b[2m110 \u001b[0m\u001b[2m│   │   │   \u001b[0mecho(style(\u001b[33mf\u001b[0m\u001b[33m'\u001b[0m\u001b[33mEXCEPTION\u001b[0m\u001b[33m'\u001b[0m, fg = \u001b[33m'\u001b[0m\u001b[33mred\u001b[0m\u001b[33m'\u001b[0m, bold = \u001b[94mTrue\u001b[0m) + \u001b[33m'\u001b[0m\u001b[33m : \u001b[0m\u001b[33m'\u001b[0m  \u001b[91m│\u001b[0m\n",
      "\u001b[91m│\u001b[0m   \u001b[2m111 \u001b[0m\u001b[2m│   \u001b[0mecho(style(\u001b[33mf\u001b[0m\u001b[33m'\u001b[0m\u001b[33mEXCEPTION\u001b[0m\u001b[33m'\u001b[0m, fg = \u001b[33m'\u001b[0m\u001b[33mred\u001b[0m\u001b[33m'\u001b[0m, bold = \u001b[94mTrue\u001b[0m) + \u001b[33m'\u001b[0m\u001b[33m : \u001b[0m\u001b[33m'\u001b[0m + style( \u001b[91m│\u001b[0m\n",
      "\u001b[91m│\u001b[0m \u001b[31m❱ \u001b[0m112 \u001b[2m│   \u001b[0m\u001b[94mraise\u001b[0m error                                                        \u001b[91m│\u001b[0m\n",
      "\u001b[91m│\u001b[0m   \u001b[2m113 \u001b[0m                                                                       \u001b[91m│\u001b[0m\n",
      "\u001b[91m│\u001b[0m   \u001b[2m114 \u001b[0m                                                                       \u001b[91m│\u001b[0m\n",
      "\u001b[91m│\u001b[0m   \u001b[2m115 \u001b[0m                                                                       \u001b[91m│\u001b[0m\n",
      "\u001b[91m│\u001b[0m                                                                              \u001b[91m│\u001b[0m\n",
      "\u001b[91m│\u001b[0m \u001b[2;33m/home/itrushkin/.virtualenvs/fledge/lib/python3.6/site-packages/fledge/inter\u001b[0m \u001b[91m│\u001b[0m\n",
      "\u001b[91m│\u001b[0m \u001b[2;33mface/\u001b[0m\u001b[1;33mcli.py\u001b[0m:\u001b[94m148\u001b[0m in \u001b[92mentry\u001b[0m                                                     \u001b[91m│\u001b[0m\n",
      "\u001b[91m│\u001b[0m                                                                              \u001b[91m│\u001b[0m\n",
      "\u001b[91m│\u001b[0m   \u001b[2m145 \u001b[0m\u001b[2m│   │   \u001b[0mcli.add_command(command_group.\u001b[92m__getattribute__\u001b[0m(module))        \u001b[91m│\u001b[0m\n",
      "\u001b[91m│\u001b[0m   \u001b[2m146 \u001b[0m\u001b[2m│   \u001b[0m                                                                   \u001b[91m│\u001b[0m\n",
      "\u001b[91m│\u001b[0m   \u001b[2m147 \u001b[0m\u001b[2m│   \u001b[0m\u001b[94mtry\u001b[0m:                                                               \u001b[91m│\u001b[0m\n",
      "\u001b[91m│\u001b[0m \u001b[31m❱ \u001b[0m148 \u001b[2m│   │   \u001b[0mcli()                                                          \u001b[91m│\u001b[0m\n",
      "\u001b[91m│\u001b[0m   \u001b[2m149 \u001b[0m\u001b[2m│   \u001b[0m\u001b[94mexcept\u001b[0m \u001b[96mException\u001b[0m \u001b[94mas\u001b[0m e:                                             \u001b[91m│\u001b[0m\n",
      "\u001b[91m│\u001b[0m   \u001b[2m150 \u001b[0m\u001b[2m│   │   \u001b[0merror_handler(e)                                               \u001b[91m│\u001b[0m\n",
      "\u001b[91m│\u001b[0m   \u001b[2m151 \u001b[0m\u001b[2m│   │   \u001b[0m\u001b[2m#echo(style(f'EXCEPTION', fg = 'red', bold = True) + ' : ' + s\u001b[0m \u001b[91m│\u001b[0m\n",
      "\u001b[91m│\u001b[0m                                                                              \u001b[91m│\u001b[0m\n",
      "\u001b[91m│\u001b[0m \u001b[2;33m/home/itrushkin/.virtualenvs/fledge/lib/python3.6/site-packages/click/\u001b[0m\u001b[1;33mcore.p\u001b[0m \u001b[91m│\u001b[0m\n",
      "\u001b[91m│\u001b[0m \u001b[1;33my\u001b[0m:\u001b[94m829\u001b[0m in \u001b[92m__call__\u001b[0m                                                            \u001b[91m│\u001b[0m\n",
      "\u001b[91m│\u001b[0m                                                                              \u001b[91m│\u001b[0m\n",
      "\u001b[91m│\u001b[0m   \u001b[2m 826 \u001b[0m\u001b[2m│   \u001b[0m                                                                  \u001b[91m│\u001b[0m\n",
      "\u001b[91m│\u001b[0m   \u001b[2m 827 \u001b[0m\u001b[2m│   \u001b[0m\u001b[94mdef\u001b[0m \u001b[92m__call__\u001b[0m(\u001b[96mself\u001b[0m, *args, **kwargs):                              \u001b[91m│\u001b[0m\n",
      "\u001b[91m│\u001b[0m   \u001b[2m 828 \u001b[0m\u001b[2m│   │   \u001b[0m\u001b[33m\"\"\"Alias for :meth:`main`.\"\"\"\u001b[0m                                 \u001b[91m│\u001b[0m\n",
      "\u001b[91m│\u001b[0m \u001b[31m❱ \u001b[0m 829 \u001b[2m│   │   \u001b[0m\u001b[94mreturn\u001b[0m \u001b[96mself\u001b[0m.main(*args, **kwargs)                             \u001b[91m│\u001b[0m\n",
      "\u001b[91m│\u001b[0m   \u001b[2m 830 \u001b[0m                                                                      \u001b[91m│\u001b[0m\n",
      "\u001b[91m│\u001b[0m   \u001b[2m 831 \u001b[0m                                                                      \u001b[91m│\u001b[0m\n",
      "\u001b[91m│\u001b[0m   \u001b[2m 832 \u001b[0m\u001b[94mclass\u001b[0m \u001b[4;92mCommand\u001b[0m(BaseCommand):                                           \u001b[91m│\u001b[0m\n",
      "\u001b[91m│\u001b[0m                                                                              \u001b[91m│\u001b[0m\n",
      "\u001b[91m│\u001b[0m \u001b[2;33m/home/itrushkin/.virtualenvs/fledge/lib/python3.6/site-packages/click/\u001b[0m\u001b[1;33mcore.p\u001b[0m \u001b[91m│\u001b[0m\n",
      "\u001b[91m│\u001b[0m \u001b[1;33my\u001b[0m:\u001b[94m782\u001b[0m in \u001b[92mmain\u001b[0m                                                                \u001b[91m│\u001b[0m\n",
      "\u001b[91m│\u001b[0m                                                                              \u001b[91m│\u001b[0m\n",
      "\u001b[91m│\u001b[0m   \u001b[2m 779 \u001b[0m\u001b[2m│   │   \u001b[0m\u001b[94mtry\u001b[0m:                                                          \u001b[91m│\u001b[0m\n",
      "\u001b[91m│\u001b[0m   \u001b[2m 780 \u001b[0m\u001b[2m│   │   │   \u001b[0m\u001b[94mtry\u001b[0m:                                                      \u001b[91m│\u001b[0m\n",
      "\u001b[91m│\u001b[0m   \u001b[2m 781 \u001b[0m\u001b[2m│   │   │   │   \u001b[0m\u001b[94mwith\u001b[0m \u001b[96mself\u001b[0m.make_context(prog_name, args, **extra) \u001b[94mas\u001b[0m c \u001b[91m│\u001b[0m\n",
      "\u001b[91m│\u001b[0m \u001b[31m❱ \u001b[0m 782 \u001b[2m│   │   │   │   │   \u001b[0mrv = \u001b[96mself\u001b[0m.invoke(ctx)                             \u001b[91m│\u001b[0m\n",
      "\u001b[91m│\u001b[0m   \u001b[2m 783 \u001b[0m\u001b[2m│   │   │   │   │   \u001b[0m\u001b[94mif\u001b[0m \u001b[95mnot\u001b[0m standalone_mode:                           \u001b[91m│\u001b[0m\n",
      "\u001b[91m│\u001b[0m   \u001b[2m 784 \u001b[0m\u001b[2m│   │   │   │   │   │   \u001b[0m\u001b[94mreturn\u001b[0m rv                                     \u001b[91m│\u001b[0m\n",
      "\u001b[91m│\u001b[0m   \u001b[2m 785 \u001b[0m\u001b[2m│   │   │   │   │   \u001b[0m\u001b[2m# it's not safe to `ctx.exit(rv)` here!\u001b[0m           \u001b[91m│\u001b[0m\n",
      "\u001b[91m│\u001b[0m                                                                              \u001b[91m│\u001b[0m\n",
      "\u001b[91m│\u001b[0m \u001b[2;33m/home/itrushkin/.virtualenvs/fledge/lib/python3.6/site-packages/click/\u001b[0m\u001b[1;33mcore.p\u001b[0m \u001b[91m│\u001b[0m\n",
      "\u001b[91m│\u001b[0m \u001b[1;33my\u001b[0m:\u001b[94m1259\u001b[0m in \u001b[92minvoke\u001b[0m                                                             \u001b[91m│\u001b[0m\n",
      "\u001b[91m│\u001b[0m                                                                              \u001b[91m│\u001b[0m\n",
      "\u001b[91m│\u001b[0m   \u001b[2m1256 \u001b[0m\u001b[2m│   │   │   │   \u001b[0mCommand.invoke(\u001b[96mself\u001b[0m, ctx)                             \u001b[91m│\u001b[0m\n",
      "\u001b[91m│\u001b[0m   \u001b[2m1257 \u001b[0m\u001b[2m│   │   │   │   \u001b[0msub_ctx = cmd.make_context(cmd_name, args, parent=ctx \u001b[91m│\u001b[0m\n",
      "\u001b[91m│\u001b[0m   \u001b[2m1258 \u001b[0m\u001b[2m│   │   │   │   \u001b[0m\u001b[94mwith\u001b[0m sub_ctx:                                         \u001b[91m│\u001b[0m\n",
      "\u001b[91m│\u001b[0m \u001b[31m❱ \u001b[0m1259 \u001b[2m│   │   │   │   │   \u001b[0m\u001b[94mreturn\u001b[0m _process_result(sub_ctx.command.invoke(sub \u001b[91m│\u001b[0m\n",
      "\u001b[91m│\u001b[0m   \u001b[2m1260 \u001b[0m\u001b[2m│   │   \u001b[0m                                                              \u001b[91m│\u001b[0m\n",
      "\u001b[91m│\u001b[0m   \u001b[2m1261 \u001b[0m\u001b[2m│   │   \u001b[0m\u001b[2m# In chain mode we create the contexts step by step, but afte\u001b[0m \u001b[91m│\u001b[0m\n",
      "\u001b[91m│\u001b[0m   \u001b[2m1262 \u001b[0m\u001b[2m│   │   \u001b[0m\u001b[2m# base command has been invoked.  Because at that point we do\u001b[0m \u001b[91m│\u001b[0m\n",
      "\u001b[91m│\u001b[0m                                                                              \u001b[91m│\u001b[0m\n",
      "\u001b[91m│\u001b[0m \u001b[2;33m/home/itrushkin/.virtualenvs/fledge/lib/python3.6/site-packages/click/\u001b[0m\u001b[1;33mcore.p\u001b[0m \u001b[91m│\u001b[0m\n",
      "\u001b[91m│\u001b[0m \u001b[1;33my\u001b[0m:\u001b[94m1259\u001b[0m in \u001b[92minvoke\u001b[0m                                                             \u001b[91m│\u001b[0m\n",
      "\u001b[91m│\u001b[0m                                                                              \u001b[91m│\u001b[0m\n",
      "\u001b[91m│\u001b[0m   \u001b[2m1256 \u001b[0m\u001b[2m│   │   │   │   \u001b[0mCommand.invoke(\u001b[96mself\u001b[0m, ctx)                             \u001b[91m│\u001b[0m\n",
      "\u001b[91m│\u001b[0m   \u001b[2m1257 \u001b[0m\u001b[2m│   │   │   │   \u001b[0msub_ctx = cmd.make_context(cmd_name, args, parent=ctx \u001b[91m│\u001b[0m\n",
      "\u001b[91m│\u001b[0m   \u001b[2m1258 \u001b[0m\u001b[2m│   │   │   │   \u001b[0m\u001b[94mwith\u001b[0m sub_ctx:                                         \u001b[91m│\u001b[0m\n",
      "\u001b[91m│\u001b[0m \u001b[31m❱ \u001b[0m1259 \u001b[2m│   │   │   │   │   \u001b[0m\u001b[94mreturn\u001b[0m _process_result(sub_ctx.command.invoke(sub \u001b[91m│\u001b[0m\n",
      "\u001b[91m│\u001b[0m   \u001b[2m1260 \u001b[0m\u001b[2m│   │   \u001b[0m                                                              \u001b[91m│\u001b[0m\n",
      "\u001b[91m│\u001b[0m   \u001b[2m1261 \u001b[0m\u001b[2m│   │   \u001b[0m\u001b[2m# In chain mode we create the contexts step by step, but afte\u001b[0m \u001b[91m│\u001b[0m\n",
      "\u001b[91m│\u001b[0m   \u001b[2m1262 \u001b[0m\u001b[2m│   │   \u001b[0m\u001b[2m# base command has been invoked.  Because at that point we do\u001b[0m \u001b[91m│\u001b[0m\n",
      "\u001b[91m│\u001b[0m                                                                              \u001b[91m│\u001b[0m\n",
      "\u001b[91m│\u001b[0m \u001b[2;33m/home/itrushkin/.virtualenvs/fledge/lib/python3.6/site-packages/click/\u001b[0m\u001b[1;33mcore.p\u001b[0m \u001b[91m│\u001b[0m\n",
      "\u001b[91m│\u001b[0m \u001b[1;33my\u001b[0m:\u001b[94m1066\u001b[0m in \u001b[92minvoke\u001b[0m                                                             \u001b[91m│\u001b[0m\n",
      "\u001b[91m│\u001b[0m                                                                              \u001b[91m│\u001b[0m\n",
      "\u001b[91m│\u001b[0m   \u001b[2m1063 \u001b[0m\u001b[2;33m│   │   \u001b[0m\u001b[33m\"\"\"\u001b[0m                                                           \u001b[91m│\u001b[0m\n",
      "\u001b[91m│\u001b[0m   \u001b[2m1064 \u001b[0m\u001b[2m│   │   \u001b[0m_maybe_show_deprecated_notice(\u001b[96mself\u001b[0m)                           \u001b[91m│\u001b[0m\n",
      "\u001b[91m│\u001b[0m   \u001b[2m1065 \u001b[0m\u001b[2m│   │   \u001b[0m\u001b[94mif\u001b[0m \u001b[96mself\u001b[0m.callback \u001b[95mis\u001b[0m \u001b[95mnot\u001b[0m \u001b[94mNone\u001b[0m:                                 \u001b[91m│\u001b[0m\n",
      "\u001b[91m│\u001b[0m \u001b[31m❱ \u001b[0m1066 \u001b[2m│   │   │   \u001b[0m\u001b[94mreturn\u001b[0m ctx.invoke(\u001b[96mself\u001b[0m.callback, **ctx.params)            \u001b[91m│\u001b[0m\n",
      "\u001b[91m│\u001b[0m   \u001b[2m1067 \u001b[0m                                                                      \u001b[91m│\u001b[0m\n",
      "\u001b[91m│\u001b[0m   \u001b[2m1068 \u001b[0m                                                                      \u001b[91m│\u001b[0m\n",
      "\u001b[91m│\u001b[0m   \u001b[2m1069 \u001b[0m\u001b[94mclass\u001b[0m \u001b[4;92mMultiCommand\u001b[0m(Command):                                          \u001b[91m│\u001b[0m\n",
      "\u001b[91m│\u001b[0m                                                                              \u001b[91m│\u001b[0m\n",
      "\u001b[91m│\u001b[0m \u001b[2;33m/home/itrushkin/.virtualenvs/fledge/lib/python3.6/site-packages/click/\u001b[0m\u001b[1;33mcore.p\u001b[0m \u001b[91m│\u001b[0m\n",
      "\u001b[91m│\u001b[0m \u001b[1;33my\u001b[0m:\u001b[94m610\u001b[0m in \u001b[92minvoke\u001b[0m                                                              \u001b[91m│\u001b[0m\n",
      "\u001b[91m│\u001b[0m                                                                              \u001b[91m│\u001b[0m\n",
      "\u001b[91m│\u001b[0m   \u001b[2m 607 \u001b[0m\u001b[2m│   │   \u001b[0margs = args[\u001b[94m2\u001b[0m:]                                               \u001b[91m│\u001b[0m\n",
      "\u001b[91m│\u001b[0m   \u001b[2m 608 \u001b[0m\u001b[2m│   │   \u001b[0m\u001b[94mwith\u001b[0m augment_usage_errors(\u001b[96mself\u001b[0m):                              \u001b[91m│\u001b[0m\n",
      "\u001b[91m│\u001b[0m   \u001b[2m 609 \u001b[0m\u001b[2m│   │   │   \u001b[0m\u001b[94mwith\u001b[0m ctx:                                                 \u001b[91m│\u001b[0m\n",
      "\u001b[91m│\u001b[0m \u001b[31m❱ \u001b[0m 610 \u001b[2m│   │   │   │   \u001b[0m\u001b[94mreturn\u001b[0m callback(*args, **kwargs)                      \u001b[91m│\u001b[0m\n",
      "\u001b[91m│\u001b[0m   \u001b[2m 611 \u001b[0m\u001b[2m│   \u001b[0m                                                                  \u001b[91m│\u001b[0m\n",
      "\u001b[91m│\u001b[0m   \u001b[2m 612 \u001b[0m\u001b[2m│   \u001b[0m\u001b[94mdef\u001b[0m \u001b[92mforward\u001b[0m(*args, **kwargs):  \u001b[2m# noqa: B902\u001b[0m                       \u001b[91m│\u001b[0m\n",
      "\u001b[91m│\u001b[0m   \u001b[2m 613 \u001b[0m\u001b[2m│   │   \u001b[0m\u001b[33m\"\"\"Similar to :meth:`invoke` but fills in default keyword\u001b[0m     \u001b[91m│\u001b[0m\n",
      "\u001b[91m│\u001b[0m                                                                              \u001b[91m│\u001b[0m\n",
      "\u001b[91m│\u001b[0m \u001b[2;33m/home/itrushkin/.virtualenvs/fledge/lib/python3.6/site-packages/click/\u001b[0m\u001b[1;33mdecora\u001b[0m \u001b[91m│\u001b[0m\n",
      "\u001b[91m│\u001b[0m \u001b[1;33mtors.py\u001b[0m:\u001b[94m21\u001b[0m in \u001b[92mnew_func\u001b[0m                                                       \u001b[91m│\u001b[0m\n",
      "\u001b[91m│\u001b[0m                                                                              \u001b[91m│\u001b[0m\n",
      "\u001b[91m│\u001b[0m   \u001b[2m 18 \u001b[0m\u001b[2;33m│   \u001b[0m\u001b[33m\"\"\"\u001b[0m                                                                \u001b[91m│\u001b[0m\n",
      "\u001b[91m│\u001b[0m   \u001b[2m 19 \u001b[0m\u001b[2m│   \u001b[0m                                                                   \u001b[91m│\u001b[0m\n",
      "\u001b[91m│\u001b[0m   \u001b[2m 20 \u001b[0m\u001b[2m│   \u001b[0m\u001b[94mdef\u001b[0m \u001b[92mnew_func\u001b[0m(*args, **kwargs):                                     \u001b[91m│\u001b[0m\n",
      "\u001b[91m│\u001b[0m \u001b[31m❱ \u001b[0m 21 \u001b[2m│   │   \u001b[0m\u001b[94mreturn\u001b[0m f(get_current_context(), *args, **kwargs)               \u001b[91m│\u001b[0m\n",
      "\u001b[91m│\u001b[0m   \u001b[2m 22 \u001b[0m\u001b[2m│   \u001b[0m                                                                   \u001b[91m│\u001b[0m\n",
      "\u001b[91m│\u001b[0m   \u001b[2m 23 \u001b[0m\u001b[2m│   \u001b[0m\u001b[94mreturn\u001b[0m update_wrapper(new_func, f)                                 \u001b[91m│\u001b[0m\n",
      "\u001b[91m│\u001b[0m   \u001b[2m 24 \u001b[0m                                                                       \u001b[91m│\u001b[0m\n",
      "\u001b[91m│\u001b[0m                                                                              \u001b[91m│\u001b[0m\n",
      "\u001b[91m│\u001b[0m \u001b[2;33m/home/itrushkin/.virtualenvs/fledge/lib/python3.6/site-packages/fledge/inter\u001b[0m \u001b[91m│\u001b[0m\n",
      "\u001b[91m│\u001b[0m \u001b[2;33mface/\u001b[0m\u001b[1;33mcollaborator.py\u001b[0m:\u001b[94m34\u001b[0m in \u001b[92mstart_\u001b[0m                                            \u001b[91m│\u001b[0m\n",
      "\u001b[91m│\u001b[0m                                                                              \u001b[91m│\u001b[0m\n",
      "\u001b[91m│\u001b[0m   \u001b[2m 31 \u001b[0m\u001b[2m│   \u001b[0mecho(\u001b[33mf\u001b[0m\u001b[33m'\u001b[0m\u001b[33mData = \u001b[0m\u001b[33m{\u001b[0mplan.cols_data_paths\u001b[33m}\u001b[0m\u001b[33m'\u001b[0m)                             \u001b[91m│\u001b[0m\n",
      "\u001b[91m│\u001b[0m   \u001b[2m 32 \u001b[0m\u001b[2m│   \u001b[0mlogger.info(\u001b[33m'\u001b[0m\u001b[33m🧿 Starting a Collaborator Service.\u001b[0m\u001b[33m'\u001b[0m)                 \u001b[91m│\u001b[0m\n",
      "\u001b[91m│\u001b[0m   \u001b[2m 33 \u001b[0m\u001b[2m│   \u001b[0m                                                                   \u001b[91m│\u001b[0m\n",
      "\u001b[91m│\u001b[0m \u001b[31m❱ \u001b[0m 34 \u001b[2m│   \u001b[0mplan.get_collaborator(collaborator_name).run()                     \u001b[91m│\u001b[0m\n",
      "\u001b[91m│\u001b[0m   \u001b[2m 35 \u001b[0m                                                                       \u001b[91m│\u001b[0m\n",
      "\u001b[91m│\u001b[0m   \u001b[2m 36 \u001b[0m\u001b[94mdef\u001b[0m \u001b[92mRegisterDataPath\u001b[0m(collaborator_name, data_path=\u001b[94mNone\u001b[0m, silent=\u001b[94mFalse\u001b[0m): \u001b[91m│\u001b[0m\n",
      "\u001b[91m│\u001b[0m   \u001b[2m 37 \u001b[0m\u001b[2m│   \u001b[0m\u001b[33m'''Register dataset path in the plan/data.yaml file\u001b[0m                \u001b[91m│\u001b[0m\n",
      "\u001b[91m│\u001b[0m                                                                              \u001b[91m│\u001b[0m\n",
      "\u001b[91m│\u001b[0m \u001b[2;33m/home/itrushkin/.virtualenvs/fledge/lib/python3.6/site-packages/fledge/feder\u001b[0m \u001b[91m│\u001b[0m\n",
      "\u001b[91m│\u001b[0m \u001b[2;33mated/plan/\u001b[0m\u001b[1;33mplan.py\u001b[0m:\u001b[94m299\u001b[0m in \u001b[92mget_collaborator\u001b[0m                                    \u001b[91m│\u001b[0m\n",
      "\u001b[91m│\u001b[0m                                                                              \u001b[91m│\u001b[0m\n",
      "\u001b[91m│\u001b[0m   \u001b[2m296 \u001b[0m\u001b[2m│   │   \u001b[0m\u001b[94mif\u001b[0m client \u001b[95mis\u001b[0m \u001b[95mnot\u001b[0m \u001b[94mNone\u001b[0m:                                         \u001b[91m│\u001b[0m\n",
      "\u001b[91m│\u001b[0m   \u001b[2m297 \u001b[0m\u001b[2m│   │   │   \u001b[0mdefaults[SETTINGS][\u001b[33m'\u001b[0m\u001b[33mclient\u001b[0m\u001b[33m'\u001b[0m       ] = client               \u001b[91m│\u001b[0m\n",
      "\u001b[91m│\u001b[0m   \u001b[2m298 \u001b[0m\u001b[2m│   │   \u001b[0m\u001b[94melse\u001b[0m:                                                          \u001b[91m│\u001b[0m\n",
      "\u001b[91m│\u001b[0m \u001b[31m❱ \u001b[0m299 \u001b[2m│   │   │   \u001b[0mdefaults[SETTINGS][\u001b[33m'\u001b[0m\u001b[33mclient\u001b[0m\u001b[33m'\u001b[0m       ] = \u001b[96mself\u001b[0m.get_client(coll \u001b[91m│\u001b[0m\n",
      "\u001b[91m│\u001b[0m   \u001b[2m300 \u001b[0m\u001b[2m│   │   \u001b[0m                                                               \u001b[91m│\u001b[0m\n",
      "\u001b[91m│\u001b[0m   \u001b[2m301 \u001b[0m\u001b[2m│   │   \u001b[0m\u001b[94mif\u001b[0m  \u001b[96mself\u001b[0m.collaborator_ == \u001b[94mNone\u001b[0m:                                \u001b[91m│\u001b[0m\n",
      "\u001b[91m│\u001b[0m   \u001b[2m302 \u001b[0m\u001b[2m│   │   │   \u001b[0m\u001b[96mself\u001b[0m.collaborator_  = Plan.Build(**defaults)               \u001b[91m│\u001b[0m\n",
      "\u001b[91m│\u001b[0m                                                                              \u001b[91m│\u001b[0m\n",
      "\u001b[91m│\u001b[0m \u001b[2;33m/home/itrushkin/.virtualenvs/fledge/lib/python3.6/site-packages/fledge/feder\u001b[0m \u001b[91m│\u001b[0m\n",
      "\u001b[91m│\u001b[0m \u001b[2;33mated/plan/\u001b[0m\u001b[1;33mplan.py\u001b[0m:\u001b[94m323\u001b[0m in \u001b[92mget_client\u001b[0m                                          \u001b[91m│\u001b[0m\n",
      "\u001b[91m│\u001b[0m                                                                              \u001b[91m│\u001b[0m\n",
      "\u001b[91m│\u001b[0m   \u001b[2m320 \u001b[0m\u001b[2m│   │   \u001b[0mclient_args[\u001b[33m'\u001b[0m\u001b[33mprivate_key\u001b[0m\u001b[33m'\u001b[0m] = private_key                       \u001b[91m│\u001b[0m\n",
      "\u001b[91m│\u001b[0m   \u001b[2m321 \u001b[0m\u001b[2m│   │   \u001b[0m                                                               \u001b[91m│\u001b[0m\n",
      "\u001b[91m│\u001b[0m   \u001b[2m322 \u001b[0m\u001b[2m│   │   \u001b[0m\u001b[94mif\u001b[0m  \u001b[96mself\u001b[0m.client_ == \u001b[94mNone\u001b[0m:                                      \u001b[91m│\u001b[0m\n",
      "\u001b[91m│\u001b[0m \u001b[31m❱ \u001b[0m323 \u001b[2m│   │   │   \u001b[0m\u001b[96mself\u001b[0m.client_  = CollaboratorGRPCClient(**client_args)      \u001b[91m│\u001b[0m\n",
      "\u001b[91m│\u001b[0m   \u001b[2m324 \u001b[0m\u001b[2m│   │   \u001b[0m                                                               \u001b[91m│\u001b[0m\n",
      "\u001b[91m│\u001b[0m   \u001b[2m325 \u001b[0m\u001b[2m│   │   \u001b[0m\u001b[94mreturn\u001b[0m \u001b[96mself\u001b[0m.client_                                            \u001b[91m│\u001b[0m\n",
      "\u001b[91m│\u001b[0m   \u001b[2m326 \u001b[0m\u001b[2m│   \u001b[0m                                                                   \u001b[91m│\u001b[0m\n",
      "\u001b[91m│\u001b[0m                                                                              \u001b[91m│\u001b[0m\n",
      "\u001b[91m│\u001b[0m \u001b[2;33m/home/itrushkin/.virtualenvs/fledge/lib/python3.6/site-packages/fledge/trans\u001b[0m \u001b[91m│\u001b[0m\n",
      "\u001b[91m│\u001b[0m \u001b[2;33mport/grpc/\u001b[0m\u001b[1;33mclient.py\u001b[0m:\u001b[94m41\u001b[0m in \u001b[92m__init__\u001b[0m                                           \u001b[91m│\u001b[0m\n",
      "\u001b[91m│\u001b[0m                                                                              \u001b[91m│\u001b[0m\n",
      "\u001b[91m│\u001b[0m   \u001b[2m 38 \u001b[0m\u001b[2m│   │   \u001b[0m\u001b[94mif\u001b[0m  \u001b[96mself\u001b[0m.disable_tls:                                          \u001b[91m│\u001b[0m\n",
      "\u001b[91m│\u001b[0m   \u001b[2m 39 \u001b[0m\u001b[2m│   │   │   \u001b[0m\u001b[96mself\u001b[0m.channel = \u001b[96mself\u001b[0m.create_insecure_channel(\u001b[96mself\u001b[0m.uri)      \u001b[91m│\u001b[0m\n",
      "\u001b[91m│\u001b[0m   \u001b[2m 40 \u001b[0m\u001b[2m│   │   \u001b[0m\u001b[94melse\u001b[0m:                                                          \u001b[91m│\u001b[0m\n",
      "\u001b[91m│\u001b[0m \u001b[31m❱ \u001b[0m 41 \u001b[2m│   │   │   \u001b[0m\u001b[96mself\u001b[0m.channel = \u001b[96mself\u001b[0m.create_tls_channel(\u001b[96mself\u001b[0m.uri, \u001b[96mself\u001b[0m.ca,  \u001b[91m│\u001b[0m\n",
      "\u001b[91m│\u001b[0m   \u001b[2m 42 \u001b[0m\u001b[2m│   │   \u001b[0m                                                               \u001b[91m│\u001b[0m\n",
      "\u001b[91m│\u001b[0m   \u001b[2m 43 \u001b[0m\u001b[2m│   │   \u001b[0m\u001b[96mself\u001b[0m.logger.debug(\u001b[33m'\u001b[0m\u001b[33mConnecting to gRPC at \u001b[0m\u001b[33m{uri}\u001b[0m\u001b[33m'\u001b[0m)               \u001b[91m│\u001b[0m\n",
      "\u001b[91m│\u001b[0m   \u001b[2m 44 \u001b[0m\u001b[2m│   │   \u001b[0m                                                               \u001b[91m│\u001b[0m\n",
      "\u001b[91m│\u001b[0m                                                                              \u001b[91m│\u001b[0m\n",
      "\u001b[91m│\u001b[0m \u001b[2;33m/home/itrushkin/.virtualenvs/fledge/lib/python3.6/site-packages/fledge/trans\u001b[0m \u001b[91m│\u001b[0m\n",
      "\u001b[91m│\u001b[0m \u001b[2;33mport/grpc/\u001b[0m\u001b[1;33mclient.py\u001b[0m:\u001b[94m84\u001b[0m in \u001b[92mcreate_tls_channel\u001b[0m                                 \u001b[91m│\u001b[0m\n",
      "\u001b[91m│\u001b[0m                                                                              \u001b[91m│\u001b[0m\n",
      "\u001b[91m│\u001b[0m   \u001b[2m 81 \u001b[0m\u001b[2m│   │   │   \u001b[0mprivate_key = \u001b[94mNone\u001b[0m                                         \u001b[91m│\u001b[0m\n",
      "\u001b[91m│\u001b[0m   \u001b[2m 82 \u001b[0m\u001b[2m│   │   │   \u001b[0mclient_cert = \u001b[94mNone\u001b[0m                                         \u001b[91m│\u001b[0m\n",
      "\u001b[91m│\u001b[0m   \u001b[2m 83 \u001b[0m\u001b[2m│   │   \u001b[0m\u001b[94melse\u001b[0m:                                                          \u001b[91m│\u001b[0m\n",
      "\u001b[91m│\u001b[0m \u001b[31m❱ \u001b[0m 84 \u001b[2m│   │   │   \u001b[0m\u001b[94mwith\u001b[0m \u001b[96mopen\u001b[0m(private_key, \u001b[33m'\u001b[0m\u001b[33mrb\u001b[0m\u001b[33m'\u001b[0m) \u001b[94mas\u001b[0m f: private_key = f.read()  \u001b[91m│\u001b[0m\n",
      "\u001b[91m│\u001b[0m   \u001b[2m 85 \u001b[0m\u001b[2m│   │   │   \u001b[0m\u001b[94mwith\u001b[0m \u001b[96mopen\u001b[0m(certificate, \u001b[33m'\u001b[0m\u001b[33mrb\u001b[0m\u001b[33m'\u001b[0m) \u001b[94mas\u001b[0m f: client_cert = f.read()  \u001b[91m│\u001b[0m\n",
      "\u001b[91m│\u001b[0m   \u001b[2m 86 \u001b[0m\u001b[2m│   │   \u001b[0m                                                               \u001b[91m│\u001b[0m\n",
      "\u001b[91m│\u001b[0m   \u001b[2m 87 \u001b[0m\u001b[2m│   │   \u001b[0mcredentials = grpc.ssl_channel_credentials(                    \u001b[91m│\u001b[0m\n",
      "\u001b[91m╰──────────────────────────────────────────────────────────────────────────────╯\u001b[0m\n",
      "\u001b[1;91mFileNotFoundError: \u001b[0m\u001b[1m[\u001b[0mErrno \u001b[1;34m2\u001b[0m\u001b[1m]\u001b[0m No such file or directory: \n",
      "\u001b[32m'cert/client/col_two.key'\u001b[0m\n"
     ]
    }
   ],
   "source": [
    "!fx collaborator start -n two"
   ]
  },
  {
   "cell_type": "code",
   "execution_count": 7,
   "metadata": {},
   "outputs": [
    {
     "name": "stdout",
     "output_type": "stream",
     "text": [
      "/home/itrushkin/workspace\n"
     ]
    }
   ],
   "source": [
    "%cd /home/itrushkin/workspace"
   ]
  },
  {
   "cell_type": "code",
   "execution_count": null,
   "metadata": {},
   "outputs": [],
   "source": []
  }
 ],
 "metadata": {
  "kernelspec": {
   "display_name": "fledge",
   "language": "python",
   "name": "fledge"
  },
  "language_info": {
   "codemirror_mode": {
    "name": "ipython",
    "version": 3
   },
   "file_extension": ".py",
   "mimetype": "text/x-python",
   "name": "python",
   "nbconvert_exporter": "python",
   "pygments_lexer": "ipython3",
   "version": "3.6.9"
  }
 },
 "nbformat": 4,
 "nbformat_minor": 4
}
