{
 "cells": [
  {
   "cell_type": "code",
   "execution_count": 1,
   "metadata": {},
   "outputs": [
    {
     "data": {
      "text/plain": [
       "'nnlicv611.inn.intel.com'"
      ]
     },
     "execution_count": 1,
     "metadata": {},
     "output_type": "execute_result"
    }
   ],
   "source": [
    "import socket\n",
    "\n",
    "afqdn = socket.getfqdn() # your /etc/hosts should be set up to contain fully qualified domain name of the machine\n",
    "afqdn"
   ]
  },
  {
   "cell_type": "code",
   "execution_count": 2,
   "metadata": {},
   "outputs": [
    {
     "name": "stdout",
     "output_type": "stream",
     "text": [
      "\u001b[2J\u001b[1;1H\u001b[104m\u001b[1mIntel FLedge - Secure Federated Learning at the Edge™                           \u001b[0m\n",
      "\n",
      "2020-12-02 18:27:17.361264: W tensorflow/stream_executor/platform/default/dso_loader.cc:59] Could not load dynamic library 'libcudart.so.10.1'; dlerror: libcudart.so.10.1: cannot open shared object file: No such file or directory\n",
      "2020-12-02 18:27:17.361292: I tensorflow/stream_executor/cuda/cudart_stub.cc:29] Ignore above cudart dlerror if you do not have a GPU set up on your machine.\n",
      "Creating Workspace Directories\n",
      "Creating Workspace Certifications\n",
      "Creating Workspace Templates\n",
      "Requirement already satisfied: torchvision==0.7.0 in /home/itrushkin/.virtualenvs/fledge/lib/python3.6/site-packages (from -r /home/itrushkin/workspace/requirements.txt (line 1)) (0.7.0)\n",
      "Requirement already satisfied: torch==1.6.0 in /home/itrushkin/.virtualenvs/fledge/lib/python3.6/site-packages (from -r /home/itrushkin/workspace/requirements.txt (line 2)) (1.6.0)\n",
      "Requirement already satisfied: numpy in /home/itrushkin/.virtualenvs/fledge/lib/python3.6/site-packages (from torchvision==0.7.0->-r /home/itrushkin/workspace/requirements.txt (line 1)) (1.18.5)\n",
      "Requirement already satisfied: pillow>=4.1.1 in /home/itrushkin/.virtualenvs/fledge/lib/python3.6/site-packages (from torchvision==0.7.0->-r /home/itrushkin/workspace/requirements.txt (line 1)) (7.2.0)\n",
      "Requirement already satisfied: future in /home/itrushkin/.virtualenvs/fledge/lib/python3.6/site-packages (from torch==1.6.0->-r /home/itrushkin/workspace/requirements.txt (line 2)) (0.18.2)\n",
      "Successfully installed packages from /home/itrushkin/workspace/requirements.txt.\n",
      "\n",
      "New workspace directory structure:\n",
      "workspace\n",
      "├── code\n",
      "│   ├── pthistology_inmemory.py\n",
      "│   ├── pt_cnn.py\n",
      "│   ├── keras_cnn.py\n",
      "│   ├── histology_utils.py\n",
      "│   ├── requirements.txt\n",
      "│   ├── __pycache__\n",
      "│   │   ├── pthistology_inmemory.cpython-36.pyc\n",
      "│   │   ├── pt_cnn.cpython-36.pyc\n",
      "│   │   ├── __init__.cpython-36.pyc\n",
      "│   │   └── histology_utils.cpython-36.pyc\n",
      "│   ├── mnist_utils.py\n",
      "│   ├── __init__.py\n",
      "│   └── tfmnist_inmemory.py\n",
      "├── plan\n",
      "│   ├── cols.yaml\n",
      "│   ├── data.yaml\n",
      "│   ├── plan_041c6131.yaml\n",
      "│   ├── plan_bad19ed7.yaml\n",
      "│   ├── defaults\n",
      "│   │   ├── tasks_keras.yaml\n",
      "│   │   ├── tasks_tensorflow.yaml\n",
      "│   │   ├── tasks_fast_estimator.yaml\n",
      "│   │   ├── network.yaml\n",
      "│   │   ├── collaborator.yaml\n",
      "│   │   ├── defaults\n",
      "│   │   ├── assigner.yaml\n",
      "│   │   ├── tasks_torch.yaml\n",
      "│   │   ├── aggregator.yaml\n",
      "│   │   ├── task_runner.yaml\n",
      "│   │   └── data_loader.yaml\n",
      "│   ├── plans\n",
      "│   │   └── default\n",
      "│   ├── plan.yaml\n",
      "│   └── plan_7da62f28.yaml\n",
      "├── .workspace\n",
      "├── requirements.txt\n",
      "├── logs\n",
      "├── cert\n",
      "│   ├── config\n",
      "│   │   ├── client.conf\n",
      "│   │   ├── signing-ca.conf\n",
      "│   │   ├── server.conf\n",
      "│   │   └── root-ca.conf\n",
      "│   ├── client\n",
      "│   │   ├── col_one.crt\n",
      "│   │   └── col_one.key\n",
      "│   └── cert_chain.crt\n",
      "├── data\n",
      "├── save\n",
      "└── __init__.py\n",
      "\n",
      "12 directories, 39 files\n",
      "\n",
      " ✔️ OK\n",
      "/home/itrushkin/workspace\n"
     ]
    }
   ],
   "source": [
    "!fx workspace create --prefix ~/workspace --template torch_cnn_histology\n",
    "%cd ~/workspace"
   ]
  },
  {
   "cell_type": "code",
   "execution_count": 3,
   "metadata": {},
   "outputs": [
    {
     "name": "stdout",
     "output_type": "stream",
     "text": [
      "\u001b[2J\u001b[1;1H\u001b[104m\u001b[1mIntel FLedge - Secure Federated Learning at the Edge™                           \u001b[0m\n",
      "\n",
      "2020-12-02 18:27:20.804965: W tensorflow/stream_executor/platform/default/dso_loader.cc:59] Could not load dynamic library 'libcudart.so.10.1'; dlerror: libcudart.so.10.1: cannot open shared object file: No such file or directory\n",
      "2020-12-02 18:27:20.804988: I tensorflow/stream_executor/cuda/cudart_stub.cc:29] Ignore above cudart dlerror if you do not have a GPU set up on your machine.\n",
      "Setting Up Certificate Authority...\n",
      "\n",
      "1.  Create Root CA\n",
      "1.1 Create Directories\n",
      "1.2 Create Database\n",
      "1.3 Create CA Request\n",
      "1.4 Create CA Certificate\n",
      "2.  Create Signing Certificate\n",
      "2.1 Create Directories\n",
      "2.2 Create Database\n",
      "2.3 Create Signing Certificate CSR\n",
      "2.4 Sign Signing Certificate CSR\n",
      "3   Create Certificate Chain\n",
      "\n",
      "Done.\n",
      "\n",
      " ✔️ OK\n"
     ]
    }
   ],
   "source": [
    "!fx workspace certify"
   ]
  },
  {
   "cell_type": "code",
   "execution_count": 4,
   "metadata": {},
   "outputs": [
    {
     "name": "stdout",
     "output_type": "stream",
     "text": [
      "\u001b[2J\u001b[1;1H\u001b[104m\u001b[1mIntel FLedge - Secure Federated Learning at the Edge™                           \u001b[0m\n",
      "\n",
      "2020-12-02 18:27:23.328797: W tensorflow/stream_executor/platform/default/dso_loader.cc:59] Could not load dynamic library 'libcudart.so.10.1'; dlerror: libcudart.so.10.1: cannot open shared object file: No such file or directory\n",
      "2020-12-02 18:27:23.328824: I tensorflow/stream_executor/cuda/cudart_stub.cc:29] Ignore above cudart dlerror if you do not have a GPU set up on your machine.\n",
      "Creating AGGREGATOR certificate key pair with following settings: CN=\u001b[31mnnlicv611.inn.intel.com\u001b[0m, SAN=\u001b[31mDNS:nnlicv611.inn.intel.com\u001b[0m\n",
      "  Moving AGGREGATOR certificate key pair to: \u001b[32mcert/server\u001b[0m\n",
      "\n",
      " ✔️ OK\n"
     ]
    }
   ],
   "source": [
    "!fx aggregator generate-cert-request --fqdn $afqdn"
   ]
  },
  {
   "cell_type": "code",
   "execution_count": 5,
   "metadata": {},
   "outputs": [
    {
     "name": "stdout",
     "output_type": "stream",
     "text": [
      "\u001b[2J\u001b[1;1H\u001b[104m\u001b[1mIntel FLedge - Secure Federated Learning at the Edge™                           \u001b[0m\n",
      "\n",
      "2020-12-02 18:27:25.620650: W tensorflow/stream_executor/platform/default/dso_loader.cc:59] Could not load dynamic library 'libcudart.so.10.1'; dlerror: libcudart.so.10.1: cannot open shared object file: No such file or directory\n",
      "2020-12-02 18:27:25.620673: I tensorflow/stream_executor/cuda/cudart_stub.cc:29] Ignore above cudart dlerror if you do not have a GPU set up on your machine.\n",
      "The CSR Hash for file \u001b[32magg_nnlicv611.inn.intel.com.csr\u001b[0m = \u001b[31m 05570d2fd47eed2bfa10d120b743adbbce6763899565374d8f6099eca1ce88a0\n",
      "\u001b[0m\n",
      " Signing AGGREGATOR certificate key pair\n",
      "  Moving AGGREGATOR certificate key pair to: \u001b[32mcert/server\u001b[0m\n",
      "\n",
      " ✔️ OK\n"
     ]
    }
   ],
   "source": [
    "!fx aggregator certify -s --fqdn $afqdn"
   ]
  },
  {
   "cell_type": "code",
   "execution_count": 6,
   "metadata": {},
   "outputs": [
    {
     "name": "stdout",
     "output_type": "stream",
     "text": [
      "\u001b[2J\u001b[1;1H\u001b[104m\u001b[1mIntel FLedge - Secure Federated Learning at the Edge™                           \u001b[0m\n",
      "\n",
      "2020-12-02 18:27:27.826188: W tensorflow/stream_executor/platform/default/dso_loader.cc:59] Could not load dynamic library 'libcudart.so.10.1'; dlerror: libcudart.so.10.1: cannot open shared object file: No such file or directory\n",
      "2020-12-02 18:27:27.826212: I tensorflow/stream_executor/cuda/cudart_stub.cc:29] Ignore above cudart dlerror if you do not have a GPU set up on your machine.\n",
      "Creating COLLABORATOR certificate key pair with following settings: CN=\u001b[31mone\u001b[0m, SAN=\u001b[31mDNS:one\u001b[0m\n",
      "  Moving COLLABORATOR certificate to: \u001b[32mcert/col_one\u001b[0m\n",
      "Archive col_one_to_agg_cert_request.zip with certificate signing request created\n",
      "This file should be sent to the certificate authority (typically hosted by the aggregator) for signing\n",
      "\n",
      " ✔️ OK\n"
     ]
    }
   ],
   "source": [
    "!fx collaborator generate-cert-request -n one -d 1"
   ]
  },
  {
   "cell_type": "code",
   "execution_count": 7,
   "metadata": {},
   "outputs": [
    {
     "name": "stdout",
     "output_type": "stream",
     "text": [
      "\u001b[2J\u001b[1;1H\u001b[104m\u001b[1mIntel FLedge - Secure Federated Learning at the Edge™                           \u001b[0m\n",
      "\n",
      "2020-12-02 18:27:30.104611: W tensorflow/stream_executor/platform/default/dso_loader.cc:59] Could not load dynamic library 'libcudart.so.10.1'; dlerror: libcudart.so.10.1: cannot open shared object file: No such file or directory\n",
      "2020-12-02 18:27:30.104638: I tensorflow/stream_executor/cuda/cudart_stub.cc:29] Ignore above cudart dlerror if you do not have a GPU set up on your machine.\n",
      "The CSR Hash for file \u001b[32mcol_one.csr\u001b[0m = \u001b[31m 42d65e339988ea9299f5cd16f19ea1a2611f3cc432e8d70e637542d474b17408\n",
      "\u001b[0m\n",
      " Signing COLLABORATOR certificate key pair\n",
      "  Moving COLLABORATOR certificate key pair to: \u001b[32mcert/client\u001b[0m\n",
      "\n",
      "Registering \u001b[32mone\u001b[0m in \u001b[32mplan/cols.yaml\u001b[0m\n",
      "\n",
      " ✔️ OK\n"
     ]
    }
   ],
   "source": [
    "!fx collaborator certify -s -n one"
   ]
  },
  {
   "cell_type": "code",
   "execution_count": 8,
   "metadata": {},
   "outputs": [
    {
     "name": "stdout",
     "output_type": "stream",
     "text": [
      "\u001b[2J\u001b[1;1H\u001b[104m\u001b[1mIntel FLedge - Secure Federated Learning at the Edge™                           \u001b[0m\n",
      "\n",
      "2020-12-02 18:27:32.313255: W tensorflow/stream_executor/platform/default/dso_loader.cc:59] Could not load dynamic library 'libcudart.so.10.1'; dlerror: libcudart.so.10.1: cannot open shared object file: No such file or directory\n",
      "2020-12-02 18:27:32.313279: I tensorflow/stream_executor/cuda/cudart_stub.cc:29] Ignore above cudart dlerror if you do not have a GPU set up on your machine.\n",
      "Creating COLLABORATOR certificate key pair with following settings: CN=\u001b[31mtwo\u001b[0m, SAN=\u001b[31mDNS:two\u001b[0m\n",
      "  Moving COLLABORATOR certificate to: \u001b[32mcert/col_two\u001b[0m\n",
      "Archive col_two_to_agg_cert_request.zip with certificate signing request created\n",
      "This file should be sent to the certificate authority (typically hosted by the aggregator) for signing\n",
      "\n",
      " ✔️ OK\n"
     ]
    }
   ],
   "source": [
    "!fx collaborator generate-cert-request -n two -d 2"
   ]
  },
  {
   "cell_type": "code",
   "execution_count": 9,
   "metadata": {},
   "outputs": [
    {
     "name": "stdout",
     "output_type": "stream",
     "text": [
      "\u001b[2J\u001b[1;1H\u001b[104m\u001b[1mIntel FLedge - Secure Federated Learning at the Edge™                           \u001b[0m\n",
      "\n",
      "2020-12-02 18:27:34.603731: W tensorflow/stream_executor/platform/default/dso_loader.cc:59] Could not load dynamic library 'libcudart.so.10.1'; dlerror: libcudart.so.10.1: cannot open shared object file: No such file or directory\n",
      "2020-12-02 18:27:34.603756: I tensorflow/stream_executor/cuda/cudart_stub.cc:29] Ignore above cudart dlerror if you do not have a GPU set up on your machine.\n",
      "The CSR Hash for file \u001b[32mcol_two.csr\u001b[0m = \u001b[31m 520b848d9a319ef91187b40ed390e1cc9944154a9529fc86a1ff7bf32fbd9604\n",
      "\u001b[0m\n",
      " Signing COLLABORATOR certificate key pair\n",
      "  Moving COLLABORATOR certificate key pair to: \u001b[32mcert/client\u001b[0m\n",
      "\n",
      "Registering \u001b[32mtwo\u001b[0m in \u001b[32mplan/cols.yaml\u001b[0m\n",
      "\n",
      " ✔️ OK\n"
     ]
    }
   ],
   "source": [
    "!fx collaborator certify -s -n two"
   ]
  },
  {
   "cell_type": "code",
   "execution_count": 10,
   "metadata": {},
   "outputs": [
    {
     "name": "stdout",
     "output_type": "stream",
     "text": [
      "\u001b[2J\u001b[1;1H\u001b[104m\u001b[1mIntel FLedge - Secure Federated Learning at the Edge™                           \u001b[0m\n",
      "\n",
      "2020-12-02 18:27:36.849734: W tensorflow/stream_executor/platform/default/dso_loader.cc:59] Could not load dynamic library 'libcudart.so.10.1'; dlerror: libcudart.so.10.1: cannot open shared object file: No such file or directory\n",
      "2020-12-02 18:27:36.849761: I tensorflow/stream_executor/cuda/cudart_stub.cc:29] Ignore above cudart dlerror if you do not have a GPU set up on your machine.\n",
      "\u001b[2;36m[18:27:37]\u001b[0m\u001b[2;36m \u001b[0m\u001b[34mINFO\u001b[0m     Loading DEFAULTS for section \u001b[31maggregator\u001b[0m from file \u001b[31mplan/defaults/aggregator.yaml\u001b[0m.                                                  \u001b]8;id=1606922857.8699079-370773;file:///home/itrushkin/.virtualenvs/fledge/lib/python3.6/site-packages/fledge/federated/plan/plan.py\u001b\\\u001b[2mplan.py\u001b[0m\u001b]8;;\u001b\\\u001b[2m:87\u001b[0m\n",
      "\u001b[2;36m          \u001b[0m\u001b[2;36m \u001b[0m\u001b[34mINFO\u001b[0m     Loading DEFAULTS for section \u001b[31massigner\u001b[0m from file \u001b[31mplan/defaults/assigner.yaml\u001b[0m.                                                      \u001b]8;id=1606922857.8717434-300529;file:///home/itrushkin/.virtualenvs/fledge/lib/python3.6/site-packages/fledge/federated/plan/plan.py\u001b\\\u001b[2mplan.py\u001b[0m\u001b]8;;\u001b\\\u001b[2m:87\u001b[0m\n",
      "\u001b[2;36m          \u001b[0m\u001b[2;36m \u001b[0m\u001b[34mINFO\u001b[0m     Loading DEFAULTS for section \u001b[31mcollaborator\u001b[0m from file \u001b[31mplan/defaults/collaborator.yaml\u001b[0m.                                              \u001b]8;id=1606922857.8738534-228595;file:///home/itrushkin/.virtualenvs/fledge/lib/python3.6/site-packages/fledge/federated/plan/plan.py\u001b\\\u001b[2mplan.py\u001b[0m\u001b]8;;\u001b\\\u001b[2m:87\u001b[0m\n",
      "\u001b[2;36m          \u001b[0m\u001b[2;36m \u001b[0m\u001b[34mINFO\u001b[0m     Loading DEFAULTS for section \u001b[31mnetwork\u001b[0m from file \u001b[31mplan/defaults/network.yaml\u001b[0m.                                                        \u001b]8;id=1606922857.8758056-131747;file:///home/itrushkin/.virtualenvs/fledge/lib/python3.6/site-packages/fledge/federated/plan/plan.py\u001b\\\u001b[2mplan.py\u001b[0m\u001b]8;;\u001b\\\u001b[2m:87\u001b[0m\n",
      "\u001b[2;36m          \u001b[0m\u001b[2;36m \u001b[0m\u001b[34mINFO\u001b[0m     Loading DEFAULTS for section \u001b[31mtask_runner\u001b[0m from file \u001b[31mplan/defaults/task_runner.yaml\u001b[0m.                                                \u001b]8;id=1606922857.877862-33015;file:///home/itrushkin/.virtualenvs/fledge/lib/python3.6/site-packages/fledge/federated/plan/plan.py\u001b\\\u001b[2mplan.py\u001b[0m\u001b]8;;\u001b\\\u001b[2m:87\u001b[0m\n",
      "\u001b[2;36m          \u001b[0m\u001b[2;36m \u001b[0m\u001b[34mINFO\u001b[0m     Loading DEFAULTS for section \u001b[31mtasks\u001b[0m from file \u001b[31mplan/defaults/tasks_torch.yaml\u001b[0m.                                                      \u001b]8;id=1606922857.8794875-570156;file:///home/itrushkin/.virtualenvs/fledge/lib/python3.6/site-packages/fledge/federated/plan/plan.py\u001b\\\u001b[2mplan.py\u001b[0m\u001b]8;;\u001b\\\u001b[2m:87\u001b[0m\n",
      "\u001b[2;36m          \u001b[0m\u001b[2;36m \u001b[0m\u001b[34mINFO\u001b[0m     FL-Plan hash is \u001b[34mbad19ed72d45419e97e9dcd23e51ea88\u001b[0m                                                                                 \u001b]8;id=1606922857.8846445-648499;file:///home/itrushkin/.virtualenvs/fledge/lib/python3.6/site-packages/fledge/federated/plan/plan.py\u001b\\\u001b[2mplan.py\u001b[0m\u001b]8;;\u001b\\\u001b[2m:183\u001b[0m\n",
      "\u001b[2;36m          \u001b[0m\u001b[2;36m \u001b[0m\u001b[34mINFO\u001b[0m     FL-Plan hash is \u001b[34mab7a7d1dd524483741686fa58a3df558\u001b[0m                                                                                 \u001b]8;id=1606922857.888527-656275;file:///home/itrushkin/.virtualenvs/fledge/lib/python3.6/site-packages/fledge/federated/plan/plan.py\u001b\\\u001b[2mplan.py\u001b[0m\u001b]8;;\u001b\\\u001b[2m:183\u001b[0m\n",
      "\u001b[2;36m          \u001b[0m\u001b[2;36m \u001b[0m\u001b[34mINFO\u001b[0m     Parsing Federated Learning Plan : \u001b[32mSUCCESS\u001b[0m : \u001b[34mplan/plan.yaml\u001b[0m.                                                                      \u001b]8;id=1606922857.8899665-739037;file:///home/itrushkin/.virtualenvs/fledge/lib/python3.6/site-packages/fledge/federated/plan/plan.py\u001b\\\u001b[2mplan.py\u001b[0m\u001b]8;;\u001b\\\u001b[2m:116\u001b[0m\n",
      "\u001b[2;36m          \u001b[0m\u001b[2;36m \u001b[0m\u001b[34mINFO\u001b[0m     aggregator:                                                                                                                      \u001b]8;id=1606922857.9009476-432176;file:///home/itrushkin/.virtualenvs/fledge/lib/python3.6/site-packages/fledge/federated/plan/plan.py\u001b\\\u001b[2mplan.py\u001b[0m\u001b]8;;\u001b\\\u001b[2m:117\u001b[0m\n",
      "                      defaults: plan/defaults/aggregator.yaml                                                                                                   \n",
      "                      settings:                                                                                                                                 \n",
      "                        best_state_path: save/torch_cnn_histology_best.pbuf                                                                                     \n",
      "                        db_store_rounds: \u001b[1;34m1\u001b[0m                                                                                                                      \n",
      "                        init_state_path: save/torch_cnn_histology_init.pbuf                                                                                     \n",
      "                        last_state_path: save/torch_cnn_histology_last.pbuf                                                                                     \n",
      "                        rounds_to_train: \u001b[1;34m20\u001b[0m                                                                                                                     \n",
      "                      template: fledge.component.Aggregator                                                                                                     \n",
      "                    assigner:                                                                                                                                   \n",
      "                      defaults: plan/defaults/assigner.yaml                                                                                                     \n",
      "                      settings:                                                                                                                                 \n",
      "                        task_groups:                                                                                                                            \n",
      "                        - name: train_and_validate                                                                                                              \n",
      "                          percentage: \u001b[1;34m1.0\u001b[0m                                                                                                                       \n",
      "                          tasks:                                                                                                                                \n",
      "                          - aggregated_model_validation                                                                                                         \n",
      "                          - train                                                                                                                               \n",
      "                          - locally_tuned_model_validation                                                                                                      \n",
      "                      template: fledge.component.RandomGroupedAssigner                                                                                          \n",
      "                    collaborator:                                                                                                                               \n",
      "                      defaults: plan/defaults/collaborator.yaml                                                                                                 \n",
      "                      settings:                                                                                                                                 \n",
      "                        db_store_rounds: \u001b[1;34m1\u001b[0m                                                                                                                      \n",
      "                        delta_updates: false                                                                                                                    \n",
      "                        epochs_per_round: \u001b[1;34m1.0\u001b[0m                                                                                                                   \n",
      "                        opt_treatment: RESET                                                                                                                    \n",
      "                        polling_interval: \u001b[1;34m4\u001b[0m                                                                                                                     \n",
      "                      template: fledge.component.Collaborator                                                                                                   \n",
      "                    data_loader:                                                                                                                                \n",
      "                      settings:                                                                                                                                 \n",
      "                        batch_size: \u001b[1;34m128\u001b[0m                                                                                                                         \n",
      "                        collaborator_count: \u001b[1;34m2\u001b[0m                                                                                                                   \n",
      "                        data_group_name: histology                                                                                                              \n",
      "                      template: code.pthistology_inmemory.PyTorchHistologyInMemory                                                                              \n",
      "                    network:                                                                                                                                    \n",
      "                      defaults: plan/defaults/network.yaml                                                                                                      \n",
      "                      settings:                                                                                                                                 \n",
      "                        agg_addr: nnlicv611.inn.intel.com                                                                                                       \n",
      "                        agg_port: \u001b[1;34m55029\u001b[0m                                                                                                                         \n",
      "                        cert_folder: cert                                                                                                                       \n",
      "                        disable_client_auth: false                                                                                                              \n",
      "                        disable_tls: false                                                                                                                      \n",
      "                        hash_salt: auto                                                                                                                         \n",
      "                      template: fledge.federation.Network                                                                                                       \n",
      "                    task_runner:                                                                                                                                \n",
      "                      defaults: plan/defaults/task_runner.yaml                                                                                                  \n",
      "                      settings: \u001b[1m{\u001b[0m\u001b[1m}\u001b[0m                                                                                                                              \n",
      "                      template: code.pt_cnn.PyTorchCNN                                                                                                          \n",
      "                    tasks:                                                                                                                                      \n",
      "                      aggregated_model_validation:                                                                                                              \n",
      "                        function: validate                                                                                                                      \n",
      "                        kwargs:                                                                                                                                 \n",
      "                          apply: global                                                                                                                         \n",
      "                          metrics:                                                                                                                              \n",
      "                          - acc                                                                                                                                 \n",
      "                      defaults: plan/defaults/tasks_torch.yaml                                                                                                  \n",
      "                      locally_tuned_model_validation:                                                                                                           \n",
      "                        function: validate                                                                                                                      \n",
      "                        kwargs:                                                                                                                                 \n",
      "                          apply: local                                                                                                                          \n",
      "                          metrics:                                                                                                                              \n",
      "                          - acc                                                                                                                                 \n",
      "                      settings: \u001b[1m{\u001b[0m\u001b[1m}\u001b[0m                                                                                                                              \n",
      "                      train:                                                                                                                                    \n",
      "                        function: train_batches                                                                                                                 \n",
      "                        kwargs:                                                                                                                                 \n",
      "                          metrics:                                                                                                                              \n",
      "                          - loss                                                                                                                                \n",
      "                                                                                                                                                                \n",
      "{'one': '1', 'two': '2'}\n",
      "\u001b[2;36m          \u001b[0m\u001b[2;36m \u001b[0m\u001b[34mINFO\u001b[0m     Building \u001b[31m🡆\u001b[0m Object \u001b[31mPyTorchHistologyInMemory\u001b[0m from \u001b[31mcode.pthistology_inmemory\u001b[0m Module.                                                \u001b]8;id=1606922857.9046695-53537;file:///home/itrushkin/.virtualenvs/fledge/lib/python3.6/site-packages/fledge/federated/plan/plan.py\u001b\\\u001b[2mplan.py\u001b[0m\u001b]8;;\u001b\\\u001b[2m:147\u001b[0m\n",
      "\u001b[2;36m          \u001b[0m\u001b[2;36m \u001b[0m\u001b[34mINFO\u001b[0m     Settings \u001b[31m🡆\u001b[0m \u001b[1m{\u001b[0m\u001b[32m'collaborator_count'\u001b[0m: \u001b[1;34m2\u001b[0m, \u001b[32m'data_group_name'\u001b[0m: \u001b[32m'histology'\u001b[0m, \u001b[32m'batch_size'\u001b[0m: \u001b[1;34m128\u001b[0m, \u001b[32m'data_path'\u001b[0m: \u001b[32m'1'\u001b[0m\u001b[1m}\u001b[0m                        \u001b]8;id=1606922857.9061046-273492;file:///home/itrushkin/.virtualenvs/fledge/lib/python3.6/site-packages/fledge/federated/plan/plan.py\u001b\\\u001b[2mplan.py\u001b[0m\u001b]8;;\u001b\\\u001b[2m:148\u001b[0m\n",
      "\u001b[2;36m          \u001b[0m\u001b[2;36m \u001b[0m\u001b[34mINFO\u001b[0m     Override \u001b[31m🡆\u001b[0m \u001b[1m{\u001b[0m\u001b[1m}\u001b[0m                                                                                                                    \u001b]8;id=1606922857.9075115-699612;file:///home/itrushkin/.virtualenvs/fledge/lib/python3.6/site-packages/fledge/federated/plan/plan.py\u001b\\\u001b[2mplan.py\u001b[0m\u001b]8;;\u001b\\\u001b[2m:149\u001b[0m\n"
     ]
    },
    {
     "name": "stdout",
     "output_type": "stream",
     "text": [
      "\u001b[2;36m[18:27:39]\u001b[0m\u001b[2;36m \u001b[0m\u001b[34mINFO\u001b[0m     Histology > X_train Shape : \u001b[1m(\u001b[0m\u001b[1;34m2000\u001b[0m, \u001b[1;34m3\u001b[0m, \u001b[1;34m150\u001b[0m, \u001b[1;34m150\u001b[0m\u001b[1m)\u001b[0m                                                                       \u001b]8;id=1606922859.486859-706496;file:///home/itrushkin/workspace/code/histology_utils.py\u001b\\\u001b[2mhistology_utils.py\u001b[0m\u001b]8;;\u001b\\\u001b[2m:128\u001b[0m\n",
      "\u001b[2;36m          \u001b[0m\u001b[2;36m \u001b[0m\u001b[34mINFO\u001b[0m     Histology > y_train Shape : \u001b[1m(\u001b[0m\u001b[1;34m2000\u001b[0m,\u001b[1m)\u001b[0m                                                                                   \u001b]8;id=1606922859.4883358-245991;file:///home/itrushkin/workspace/code/histology_utils.py\u001b\\\u001b[2mhistology_utils.py\u001b[0m\u001b]8;;\u001b\\\u001b[2m:129\u001b[0m\n",
      "\u001b[2;36m          \u001b[0m\u001b[2;36m \u001b[0m\u001b[34mINFO\u001b[0m     Histology > Train Samples : \u001b[1;34m2000\u001b[0m                                                                                      \u001b]8;id=1606922859.4896574-479905;file:///home/itrushkin/workspace/code/histology_utils.py\u001b\\\u001b[2mhistology_utils.py\u001b[0m\u001b]8;;\u001b\\\u001b[2m:130\u001b[0m\n",
      "\u001b[2;36m          \u001b[0m\u001b[2;36m \u001b[0m\u001b[34mINFO\u001b[0m     Histology > Valid Samples : \u001b[1;34m500\u001b[0m                                                                                       \u001b]8;id=1606922859.4909852-488793;file:///home/itrushkin/workspace/code/histology_utils.py\u001b\\\u001b[2mhistology_utils.py\u001b[0m\u001b]8;;\u001b\\\u001b[2m:131\u001b[0m\n",
      "\u001b[2;36m          \u001b[0m\u001b[2;36m \u001b[0m\u001b[34mINFO\u001b[0m     Building \u001b[31m🡆\u001b[0m Object \u001b[31mPyTorchCNN\u001b[0m from \u001b[31mcode.pt_cnn\u001b[0m Module.                                                                            \u001b]8;id=1606922859.4924934-894325;file:///home/itrushkin/.virtualenvs/fledge/lib/python3.6/site-packages/fledge/federated/plan/plan.py\u001b\\\u001b[2mplan.py\u001b[0m\u001b]8;;\u001b\\\u001b[2m:147\u001b[0m\n",
      "\u001b[2;36m          \u001b[0m\u001b[2;36m \u001b[0m\u001b[34mINFO\u001b[0m     Settings \u001b[31m🡆\u001b[0m \u001b[1m{\u001b[0m\u001b[32m'data_loader'\u001b[0m: \u001b[1m<\u001b[0m\u001b[1;95mcode.pthistology_inmemory.PyTorchHistologyInMemory\u001b[0m\u001b[39m object at \u001b[0m\u001b[1;34m0x7f55692cbbe0\u001b[0m\u001b[1m>\u001b[0m\u001b[1m}\u001b[0m                        \u001b]8;id=1606922859.4940524-61416;file:///home/itrushkin/.virtualenvs/fledge/lib/python3.6/site-packages/fledge/federated/plan/plan.py\u001b\\\u001b[2mplan.py\u001b[0m\u001b]8;;\u001b\\\u001b[2m:148\u001b[0m\n",
      "\u001b[2;36m          \u001b[0m\u001b[2;36m \u001b[0m\u001b[34mINFO\u001b[0m     Override \u001b[31m🡆\u001b[0m \u001b[1m{\u001b[0m\u001b[32m'defaults'\u001b[0m: \u001b[32m'plan/defaults/task_runner.yaml'\u001b[0m\u001b[1m}\u001b[0m                                                                        \u001b]8;id=1606922859.4955132-877247;file:///home/itrushkin/.virtualenvs/fledge/lib/python3.6/site-packages/fledge/federated/plan/plan.py\u001b\\\u001b[2mplan.py\u001b[0m\u001b]8;;\u001b\\\u001b[2m:149\u001b[0m\n",
      "PyTorchCNN(\n",
      "  (conv1): Conv2d(3, 16, kernel_size=(3, 3), stride=(1, 1), padding=(1, 1))\n",
      "  (conv2): Conv2d(16, 32, kernel_size=(3, 3), stride=(1, 1), padding=(1, 1))\n",
      "  (conv3): Conv2d(32, 64, kernel_size=(3, 3), stride=(1, 1), padding=(1, 1))\n",
      "  (conv4): Conv2d(64, 128, kernel_size=(3, 3), stride=(1, 1), padding=(1, 1))\n",
      "  (conv5): Conv2d(160, 256, kernel_size=(3, 3), stride=(1, 1), padding=(1, 1))\n",
      "  (conv6): Conv2d(256, 512, kernel_size=(3, 3), stride=(1, 1), padding=(1, 1))\n",
      "  (conv7): Conv2d(672, 256, kernel_size=(3, 3), stride=(1, 1), padding=(1, 1))\n",
      "  (conv8): Conv2d(256, 512, kernel_size=(3, 3), stride=(1, 1), padding=(1, 1))\n",
      "  (fc1): Linear(in_features=95904, out_features=128, bias=True)\n",
      "  (fc2): Linear(in_features=128, out_features=8, bias=True)\n",
      ")\n",
      "\u001b[2;36m[18:27:41]\u001b[0m\u001b[2;36m \u001b[0m\u001b[31mWARNING\u001b[0m  tried to remove tensor: __opt_state_needed not present in the tensor dict                                                        \u001b]8;id=1606922861.5500178-304481;file:///home/itrushkin/.virtualenvs/fledge/lib/python3.6/site-packages/fledge/utilities/utils.py\u001b\\\u001b[2mutils.py\u001b[0m\u001b]8;;\u001b\\\u001b[2m:78\u001b[0m\n",
      "\u001b[2;36m          \u001b[0m\u001b[2;36m \u001b[0m\u001b[34mINFO\u001b[0m     Building \u001b[31m🡆\u001b[0m Object \u001b[31mNoCompressionPipeline\u001b[0m from \u001b[31mfledge.pipelines\u001b[0m Module.                                                            \u001b]8;id=1606922861.5526156-719753;file:///home/itrushkin/.virtualenvs/fledge/lib/python3.6/site-packages/fledge/federated/plan/plan.py\u001b\\\u001b[2mplan.py\u001b[0m\u001b]8;;\u001b\\\u001b[2m:147\u001b[0m\n",
      "\u001b[2;36m          \u001b[0m\u001b[2;36m \u001b[0m\u001b[34mINFO\u001b[0m     Settings \u001b[31m🡆\u001b[0m \u001b[1m{\u001b[0m\u001b[1m}\u001b[0m                                                                                                                    \u001b]8;id=1606922861.5540075-256364;file:///home/itrushkin/.virtualenvs/fledge/lib/python3.6/site-packages/fledge/federated/plan/plan.py\u001b\\\u001b[2mplan.py\u001b[0m\u001b]8;;\u001b\\\u001b[2m:148\u001b[0m\n",
      "\u001b[2;36m          \u001b[0m\u001b[2;36m \u001b[0m\u001b[34mINFO\u001b[0m     Override \u001b[31m🡆\u001b[0m \u001b[1m{\u001b[0m\u001b[1m}\u001b[0m                                                                                                                    \u001b]8;id=1606922861.555393-941544;file:///home/itrushkin/.virtualenvs/fledge/lib/python3.6/site-packages/fledge/federated/plan/plan.py\u001b\\\u001b[2mplan.py\u001b[0m\u001b]8;;\u001b\\\u001b[2m:149\u001b[0m\n",
      "\u001b[2;36m          \u001b[0m\u001b[2;36m \u001b[0m\u001b[31mWARNING\u001b[0m  tried to remove tensor: __opt_state_needed not present in the tensor dict                                                        \u001b]8;id=1606922861.578486-339839;file:///home/itrushkin/.virtualenvs/fledge/lib/python3.6/site-packages/fledge/utilities/utils.py\u001b\\\u001b[2mutils.py\u001b[0m\u001b]8;;\u001b\\\u001b[2m:78\u001b[0m\n",
      "\u001b[2;36m          \u001b[0m\u001b[2;36m \u001b[0m\u001b[31mWARNING\u001b[0m  Following parameters omitted from global initial model, local initialization will determine values: \u001b[1m[\u001b[0m\u001b[1m]\u001b[0m                            \u001b]8;id=1606922861.5800455-526757;file:///home/itrushkin/.virtualenvs/fledge/lib/python3.6/site-packages/fledge/interface/plan.py\u001b\\\u001b[2mplan.py\u001b[0m\u001b]8;;\u001b\\\u001b[2m:63\u001b[0m\n",
      "\u001b[2;36m          \u001b[0m\u001b[2;36m \u001b[0m\u001b[34mINFO\u001b[0m     Creating Initial Weights File    🠆 save/torch_cnn_histology_init.pbuf                                                             \u001b]8;id=1606922861.6380577-618019;file:///home/itrushkin/.virtualenvs/fledge/lib/python3.6/site-packages/fledge/interface/plan.py\u001b\\\u001b[2mplan.py\u001b[0m\u001b]8;;\u001b\\\u001b[2m:70\u001b[0m\n",
      "\u001b[2;36m          \u001b[0m\u001b[2;36m \u001b[0m\u001b[31mWARNING\u001b[0m  Patching Aggregator Addr in Plan 🠆 nnlicv611.inn.intel.com                                                                        \u001b]8;id=1606922861.695925-448681;file:///home/itrushkin/.virtualenvs/fledge/lib/python3.6/site-packages/fledge/interface/plan.py\u001b\\\u001b[2mplan.py\u001b[0m\u001b]8;;\u001b\\\u001b[2m:80\u001b[0m\n",
      "\u001b[2;36m          \u001b[0m\u001b[2;36m \u001b[0m\u001b[34mINFO\u001b[0m     FL-Plan hash is \u001b[34mab7a7d1dd524483741686fa58a3df558\u001b[0m                                                                                 \u001b]8;id=1606922861.7024798-162675;file:///home/itrushkin/.virtualenvs/fledge/lib/python3.6/site-packages/fledge/federated/plan/plan.py\u001b\\\u001b[2mplan.py\u001b[0m\u001b]8;;\u001b\\\u001b[2m:183\u001b[0m\n",
      "\u001b[2;36m          \u001b[0m\u001b[2;36m \u001b[0m\u001b[34mINFO\u001b[0m     \u001b[1m[\u001b[0m\u001b[32m'plan_ab7a7d1d'\u001b[0m\u001b[1m]\u001b[0m                                                                                                                 \u001b]8;id=1606922861.7038193-258155;file:///home/itrushkin/.virtualenvs/fledge/lib/python3.6/site-packages/fledge/interface/plan.py\u001b\\\u001b[2mplan.py\u001b[0m\u001b]8;;\u001b\\\u001b[2m:90\u001b[0m\n",
      "\n",
      " ✔️ OK\n"
     ]
    }
   ],
   "source": [
    "!fx plan initialize -a $afqdn"
   ]
  },
  {
   "cell_type": "code",
   "execution_count": 11,
   "metadata": {},
   "outputs": [
    {
     "name": "stdout",
     "output_type": "stream",
     "text": [
      "\u001b[2J\u001b[1;1H\u001b[104m\u001b[1mIntel FLedge - Secure Federated Learning at the Edge™                           \u001b[0m\n",
      "\n",
      "2020-12-02 18:27:43.074972: W tensorflow/stream_executor/platform/default/dso_loader.cc:59] Could not load dynamic library 'libcudart.so.10.1'; dlerror: libcudart.so.10.1: cannot open shared object file: No such file or directory\n",
      "2020-12-02 18:27:43.074998: I tensorflow/stream_executor/cuda/cudart_stub.cc:29] Ignore above cudart dlerror if you do not have a GPU set up on your machine.\n",
      "\u001b[2;36m[18:27:44]\u001b[0m\u001b[2;36m \u001b[0m\u001b[34mINFO\u001b[0m     FL-Plan hash is \u001b[34mab7a7d1dd524483741686fa58a3df558\u001b[0m                                                                                 \u001b]8;id=1606922864.1743047-808914;file:///home/itrushkin/.virtualenvs/fledge/lib/python3.6/site-packages/fledge/federated/plan/plan.py\u001b\\\u001b[2mplan.py\u001b[0m\u001b]8;;\u001b\\\u001b[2m:183\u001b[0m\n",
      "\u001b[2;36m          \u001b[0m\u001b[2;36m \u001b[0m\u001b[34mINFO\u001b[0m     plan.yaml frozen successfully                                                                                                     \u001b]8;id=1606922864.1783352-969786;file:///home/itrushkin/.virtualenvs/fledge/lib/python3.6/site-packages/fledge/federated/plan/plan.py\u001b\\\u001b[2mplan.py\u001b[0m\u001b]8;;\u001b\\\u001b[2m:50\u001b[0m\n",
      "/home/itrushkin/.virtualenvs/fledge/lib/python3.6/site-packages/fledge/interface/workspace.py:121: UserWarning: Could not generate requirements for fledge @ file:///home/itrushkin/repos/fledge\n",
      ". Consider installing it manually after workspace import.\n",
      "  warn(f'Could not generate requirements for {package}. Consider installing it manually after workspace import.')\n",
      "requirements.export.txt written.\n",
      "Workspace exported to archive: workspace.zip\n",
      "\n",
      " ✔️ OK\n"
     ]
    }
   ],
   "source": [
    "!fx workspace export"
   ]
  },
  {
   "cell_type": "code",
   "execution_count": null,
   "metadata": {},
   "outputs": [
    {
     "name": "stdout",
     "output_type": "stream",
     "text": [
      "\u001b[2J\u001b[1;1H\u001b[104m\u001b[1mIntel FLedge - Secure Federated Learning at the Edge™                           \u001b[0m\n",
      "\n",
      "2020-12-02 18:27:45.734542: W tensorflow/stream_executor/platform/default/dso_loader.cc:59] Could not load dynamic library 'libcudart.so.10.1'; dlerror: libcudart.so.10.1: cannot open shared object file: No such file or directory\n",
      "2020-12-02 18:27:45.734568: I tensorflow/stream_executor/cuda/cudart_stub.cc:29] Ignore above cudart dlerror if you do not have a GPU set up on your machine.\n",
      "\u001b[2;36m[18:27:46]\u001b[0m\u001b[2;36m \u001b[0m\u001b[34mINFO\u001b[0m     Loading DEFAULTS for section \u001b[31maggregator\u001b[0m from file \u001b[31mplan/defaults/aggregator.yaml\u001b[0m.                                                  \u001b]8;id=1606922866.7470603-734750;file:///home/itrushkin/.virtualenvs/fledge/lib/python3.6/site-packages/fledge/federated/plan/plan.py\u001b\\\u001b[2mplan.py\u001b[0m\u001b]8;;\u001b\\\u001b[2m:87\u001b[0m\n",
      "\u001b[2;36m          \u001b[0m\u001b[2;36m \u001b[0m\u001b[34mINFO\u001b[0m     Loading DEFAULTS for section \u001b[31massigner\u001b[0m from file \u001b[31mplan/defaults/assigner.yaml\u001b[0m.                                                      \u001b]8;id=1606922866.7488964-42667;file:///home/itrushkin/.virtualenvs/fledge/lib/python3.6/site-packages/fledge/federated/plan/plan.py\u001b\\\u001b[2mplan.py\u001b[0m\u001b]8;;\u001b\\\u001b[2m:87\u001b[0m\n",
      "\u001b[2;36m          \u001b[0m\u001b[2;36m \u001b[0m\u001b[34mINFO\u001b[0m     Loading DEFAULTS for section \u001b[31mcollaborator\u001b[0m from file \u001b[31mplan/defaults/collaborator.yaml\u001b[0m.                                              \u001b]8;id=1606922866.7510073-903312;file:///home/itrushkin/.virtualenvs/fledge/lib/python3.6/site-packages/fledge/federated/plan/plan.py\u001b\\\u001b[2mplan.py\u001b[0m\u001b]8;;\u001b\\\u001b[2m:87\u001b[0m\n",
      "\u001b[2;36m          \u001b[0m\u001b[2;36m \u001b[0m\u001b[34mINFO\u001b[0m     Loading DEFAULTS for section \u001b[31mnetwork\u001b[0m from file \u001b[31mplan/defaults/network.yaml\u001b[0m.                                                        \u001b]8;id=1606922866.752914-644236;file:///home/itrushkin/.virtualenvs/fledge/lib/python3.6/site-packages/fledge/federated/plan/plan.py\u001b\\\u001b[2mplan.py\u001b[0m\u001b]8;;\u001b\\\u001b[2m:87\u001b[0m\n",
      "\u001b[2;36m          \u001b[0m\u001b[2;36m \u001b[0m\u001b[34mINFO\u001b[0m     Loading DEFAULTS for section \u001b[31mtask_runner\u001b[0m from file \u001b[31mplan/defaults/task_runner.yaml\u001b[0m.                                                \u001b]8;id=1606922866.754982-955981;file:///home/itrushkin/.virtualenvs/fledge/lib/python3.6/site-packages/fledge/federated/plan/plan.py\u001b\\\u001b[2mplan.py\u001b[0m\u001b]8;;\u001b\\\u001b[2m:87\u001b[0m\n",
      "\u001b[2;36m          \u001b[0m\u001b[2;36m \u001b[0m\u001b[34mINFO\u001b[0m     Loading DEFAULTS for section \u001b[31mtasks\u001b[0m from file \u001b[31mplan/defaults/tasks_torch.yaml\u001b[0m.                                                      \u001b]8;id=1606922866.7566364-618260;file:///home/itrushkin/.virtualenvs/fledge/lib/python3.6/site-packages/fledge/federated/plan/plan.py\u001b\\\u001b[2mplan.py\u001b[0m\u001b]8;;\u001b\\\u001b[2m:87\u001b[0m\n",
      "\u001b[2;36m          \u001b[0m\u001b[2;36m \u001b[0m\u001b[34mINFO\u001b[0m     FL-Plan hash is \u001b[34mab7a7d1dd524483741686fa58a3df558\u001b[0m                                                                                 \u001b]8;id=1606922866.7618635-517290;file:///home/itrushkin/.virtualenvs/fledge/lib/python3.6/site-packages/fledge/federated/plan/plan.py\u001b\\\u001b[2mplan.py\u001b[0m\u001b]8;;\u001b\\\u001b[2m:183\u001b[0m\n",
      "\u001b[2;36m          \u001b[0m\u001b[2;36m \u001b[0m\u001b[34mINFO\u001b[0m     FL-Plan hash is \u001b[34mab7a7d1dd524483741686fa58a3df558\u001b[0m                                                                                 \u001b]8;id=1606922866.765814-386376;file:///home/itrushkin/.virtualenvs/fledge/lib/python3.6/site-packages/fledge/federated/plan/plan.py\u001b\\\u001b[2mplan.py\u001b[0m\u001b]8;;\u001b\\\u001b[2m:183\u001b[0m\n",
      "\u001b[2;36m          \u001b[0m\u001b[2;36m \u001b[0m\u001b[34mINFO\u001b[0m     Parsing Federated Learning Plan : \u001b[32mSUCCESS\u001b[0m : \u001b[34mplan/plan.yaml\u001b[0m.                                                                      \u001b]8;id=1606922866.7673223-457755;file:///home/itrushkin/.virtualenvs/fledge/lib/python3.6/site-packages/fledge/federated/plan/plan.py\u001b\\\u001b[2mplan.py\u001b[0m\u001b]8;;\u001b\\\u001b[2m:116\u001b[0m\n",
      "\u001b[2;36m          \u001b[0m\u001b[2;36m \u001b[0m\u001b[34mINFO\u001b[0m     aggregator:                                                                                                                      \u001b]8;id=1606922866.7786067-566200;file:///home/itrushkin/.virtualenvs/fledge/lib/python3.6/site-packages/fledge/federated/plan/plan.py\u001b\\\u001b[2mplan.py\u001b[0m\u001b]8;;\u001b\\\u001b[2m:117\u001b[0m\n",
      "                      defaults: plan/defaults/aggregator.yaml                                                                                                   \n",
      "                      settings:                                                                                                                                 \n",
      "                        best_state_path: save/torch_cnn_histology_best.pbuf                                                                                     \n",
      "                        db_store_rounds: \u001b[1;34m1\u001b[0m                                                                                                                      \n",
      "                        init_state_path: save/torch_cnn_histology_init.pbuf                                                                                     \n",
      "                        last_state_path: save/torch_cnn_histology_last.pbuf                                                                                     \n",
      "                        rounds_to_train: \u001b[1;34m20\u001b[0m                                                                                                                     \n",
      "                      template: fledge.component.Aggregator                                                                                                     \n",
      "                    assigner:                                                                                                                                   \n",
      "                      defaults: plan/defaults/assigner.yaml                                                                                                     \n",
      "                      settings:                                                                                                                                 \n",
      "                        task_groups:                                                                                                                            \n",
      "                        - name: train_and_validate                                                                                                              \n",
      "                          percentage: \u001b[1;34m1.0\u001b[0m                                                                                                                       \n",
      "                          tasks:                                                                                                                                \n",
      "                          - aggregated_model_validation                                                                                                         \n",
      "                          - train                                                                                                                               \n",
      "                          - locally_tuned_model_validation                                                                                                      \n",
      "                      template: fledge.component.RandomGroupedAssigner                                                                                          \n",
      "                    collaborator:                                                                                                                               \n",
      "                      defaults: plan/defaults/collaborator.yaml                                                                                                 \n",
      "                      settings:                                                                                                                                 \n",
      "                        db_store_rounds: \u001b[1;34m1\u001b[0m                                                                                                                      \n",
      "                        delta_updates: false                                                                                                                    \n",
      "                        epochs_per_round: \u001b[1;34m1.0\u001b[0m                                                                                                                   \n",
      "                        opt_treatment: RESET                                                                                                                    \n",
      "                        polling_interval: \u001b[1;34m4\u001b[0m                                                                                                                     \n",
      "                      template: fledge.component.Collaborator                                                                                                   \n",
      "                    data_loader:                                                                                                                                \n",
      "                      settings:                                                                                                                                 \n",
      "                        batch_size: \u001b[1;34m128\u001b[0m                                                                                                                         \n",
      "                        collaborator_count: \u001b[1;34m2\u001b[0m                                                                                                                   \n",
      "                        data_group_name: histology                                                                                                              \n",
      "                      template: code.pthistology_inmemory.PyTorchHistologyInMemory                                                                              \n",
      "                    network:                                                                                                                                    \n",
      "                      defaults: plan/defaults/network.yaml                                                                                                      \n",
      "                      settings:                                                                                                                                 \n",
      "                        agg_addr: nnlicv611.inn.intel.com                                                                                                       \n",
      "                        agg_port: \u001b[1;34m55029\u001b[0m                                                                                                                         \n",
      "                        cert_folder: cert                                                                                                                       \n",
      "                        disable_client_auth: false                                                                                                              \n",
      "                        disable_tls: false                                                                                                                      \n",
      "                        hash_salt: auto                                                                                                                         \n",
      "                      template: fledge.federation.Network                                                                                                       \n",
      "                    task_runner:                                                                                                                                \n",
      "                      defaults: plan/defaults/task_runner.yaml                                                                                                  \n",
      "                      settings: \u001b[1m{\u001b[0m\u001b[1m}\u001b[0m                                                                                                                              \n",
      "                      template: code.pt_cnn.PyTorchCNN                                                                                                          \n",
      "                    tasks:                                                                                                                                      \n",
      "                      aggregated_model_validation:                                                                                                              \n",
      "                        function: validate                                                                                                                      \n",
      "                        kwargs:                                                                                                                                 \n",
      "                          apply: global                                                                                                                         \n",
      "                          metrics:                                                                                                                              \n",
      "                          - acc                                                                                                                                 \n",
      "                      defaults: plan/defaults/tasks_torch.yaml                                                                                                  \n",
      "                      locally_tuned_model_validation:                                                                                                           \n",
      "                        function: validate                                                                                                                      \n",
      "                        kwargs:                                                                                                                                 \n",
      "                          apply: local                                                                                                                          \n",
      "                          metrics:                                                                                                                              \n",
      "                          - acc                                                                                                                                 \n",
      "                      settings: \u001b[1m{\u001b[0m\u001b[1m}\u001b[0m                                                                                                                              \n",
      "                      train:                                                                                                                                    \n",
      "                        function: train_batches                                                                                                                 \n",
      "                        kwargs:                                                                                                                                 \n",
      "                          metrics:                                                                                                                              \n",
      "                          - loss                                                                                                                                \n",
      "                                                                                                                                                                \n",
      "\u001b[2;36m          \u001b[0m\u001b[2;36m \u001b[0m\u001b[34mINFO\u001b[0m     🧿 Starting the Aggregator Service.                                                                                         \u001b]8;id=1606922866.7824543-824832;file:///home/itrushkin/.virtualenvs/fledge/lib/python3.6/site-packages/fledge/interface/aggregator.py\u001b\\\u001b[2maggregator.py\u001b[0m\u001b]8;;\u001b\\\u001b[2m:28\u001b[0m\n",
      "\u001b[2;36m          \u001b[0m\u001b[2;36m \u001b[0m\u001b[34mINFO\u001b[0m     Building \u001b[31m🡆\u001b[0m Object \u001b[31mRandomGroupedAssigner\u001b[0m from \u001b[31mfledge.component\u001b[0m Module.                                                            \u001b]8;id=1606922866.7840278-922496;file:///home/itrushkin/.virtualenvs/fledge/lib/python3.6/site-packages/fledge/federated/plan/plan.py\u001b\\\u001b[2mplan.py\u001b[0m\u001b]8;;\u001b\\\u001b[2m:147\u001b[0m\n",
      "\u001b[2;36m          \u001b[0m\u001b[2;36m \u001b[0m\u001b[34mINFO\u001b[0m     Settings \u001b[31m🡆\u001b[0m \u001b[1m{\u001b[0m\u001b[32m'task_groups'\u001b[0m: \u001b[1m[\u001b[0m\u001b[1m{\u001b[0m\u001b[32m'name'\u001b[0m: \u001b[32m'train_and_validate'\u001b[0m, \u001b[32m'percentage'\u001b[0m: \u001b[1;34m1.0\u001b[0m, \u001b[32m'tasks'\u001b[0m: \u001b[1m[\u001b[0m\u001b[32m'aggregated_model_validation'\u001b[0m, \u001b[32m'train'\u001b[0m,  \u001b]8;id=1606922866.7867916-989500;file:///home/itrushkin/.virtualenvs/fledge/lib/python3.6/site-packages/fledge/federated/plan/plan.py\u001b\\\u001b[2mplan.py\u001b[0m\u001b]8;;\u001b\\\u001b[2m:148\u001b[0m\n",
      "                    \u001b[32m'locally_tuned_model_validation'\u001b[0m\u001b[1m]\u001b[0m\u001b[1m}\u001b[0m\u001b[1m]\u001b[0m, \u001b[32m'authorized_cols'\u001b[0m: \u001b[1m[\u001b[0m\u001b[32m'one'\u001b[0m, \u001b[32m'two'\u001b[0m\u001b[1m]\u001b[0m, \u001b[32m'rounds_to_train'\u001b[0m: \u001b[1;34m20\u001b[0m, \u001b[32m'tasks'\u001b[0m:                                     \n",
      "                    \u001b[1m{\u001b[0m\u001b[32m'aggregated_model_validation'\u001b[0m: \u001b[1m{\u001b[0m\u001b[32m'function'\u001b[0m: \u001b[32m'validate'\u001b[0m, \u001b[32m'kwargs'\u001b[0m: \u001b[1m{\u001b[0m\u001b[32m'apply'\u001b[0m: \u001b[32m'global'\u001b[0m, \u001b[32m'metrics'\u001b[0m: \u001b[1m[\u001b[0m\u001b[32m'acc'\u001b[0m\u001b[1m]\u001b[0m\u001b[1m}\u001b[0m\u001b[1m}\u001b[0m,                                \n",
      "                    \u001b[32m'locally_tuned_model_validation'\u001b[0m: \u001b[1m{\u001b[0m\u001b[32m'function'\u001b[0m: \u001b[32m'validate'\u001b[0m, \u001b[32m'kwargs'\u001b[0m: \u001b[1m{\u001b[0m\u001b[32m'apply'\u001b[0m: \u001b[32m'local'\u001b[0m, \u001b[32m'metrics'\u001b[0m: \u001b[1m[\u001b[0m\u001b[32m'acc'\u001b[0m\u001b[1m]\u001b[0m\u001b[1m}\u001b[0m\u001b[1m}\u001b[0m, \u001b[32m'train'\u001b[0m:                      \n",
      "                    \u001b[1m{\u001b[0m\u001b[32m'function'\u001b[0m: \u001b[32m'train_batches'\u001b[0m, \u001b[32m'kwargs'\u001b[0m: \u001b[1m{\u001b[0m\u001b[32m'metrics'\u001b[0m: \u001b[1m[\u001b[0m\u001b[32m'loss'\u001b[0m\u001b[1m]\u001b[0m\u001b[1m}\u001b[0m\u001b[1m}\u001b[0m, \u001b[32m'defaults'\u001b[0m: \u001b[32m'plan/defaults/tasks_torch.yaml'\u001b[0m, \u001b[32m'settings'\u001b[0m: \u001b[1m{\u001b[0m\u001b[1m}\u001b[0m\u001b[1m}\u001b[0m\u001b[1m}\u001b[0m              \n",
      "\u001b[2;36m          \u001b[0m\u001b[2;36m \u001b[0m\u001b[34mINFO\u001b[0m     Override \u001b[31m🡆\u001b[0m \u001b[1m{\u001b[0m\u001b[32m'defaults'\u001b[0m: \u001b[32m'plan/defaults/assigner.yaml'\u001b[0m\u001b[1m}\u001b[0m                                                                           \u001b]8;id=1606922866.788419-18586;file:///home/itrushkin/.virtualenvs/fledge/lib/python3.6/site-packages/fledge/federated/plan/plan.py\u001b\\\u001b[2mplan.py\u001b[0m\u001b]8;;\u001b\\\u001b[2m:149\u001b[0m\n",
      "\u001b[2;36m          \u001b[0m\u001b[2;36m \u001b[0m\u001b[34mINFO\u001b[0m     Building \u001b[31m🡆\u001b[0m Object \u001b[31mAggregator\u001b[0m from \u001b[31mfledge.component\u001b[0m Module.                                                                       \u001b]8;id=1606922866.7902648-460006;file:///home/itrushkin/.virtualenvs/fledge/lib/python3.6/site-packages/fledge/federated/plan/plan.py\u001b\\\u001b[2mplan.py\u001b[0m\u001b]8;;\u001b\\\u001b[2m:147\u001b[0m\n",
      "\u001b[2;36m          \u001b[0m\u001b[2;36m \u001b[0m\u001b[34mINFO\u001b[0m     Settings \u001b[31m🡆\u001b[0m \u001b[1m{\u001b[0m\u001b[32m'db_store_rounds'\u001b[0m: \u001b[1;34m1\u001b[0m, \u001b[32m'best_state_path'\u001b[0m: \u001b[32m'save/torch_cnn_histology_best.pbuf'\u001b[0m, \u001b[32m'init_state_path'\u001b[0m:                    \u001b]8;id=1606922866.7926276-740428;file:///home/itrushkin/.virtualenvs/fledge/lib/python3.6/site-packages/fledge/federated/plan/plan.py\u001b\\\u001b[2mplan.py\u001b[0m\u001b]8;;\u001b\\\u001b[2m:148\u001b[0m\n",
      "                    \u001b[32m'save/torch_cnn_histology_init.pbuf'\u001b[0m, \u001b[32m'last_state_path'\u001b[0m: \u001b[32m'save/torch_cnn_histology_last.pbuf'\u001b[0m, \u001b[32m'rounds_to_train'\u001b[0m: \u001b[1;34m20\u001b[0m,                       \n",
      "                    \u001b[32m'aggregator_uuid'\u001b[0m: \u001b[32m'aggregator_plan.yaml_ab7a7d1d'\u001b[0m, \u001b[32m'federation_uuid'\u001b[0m: \u001b[32m'plan.yaml_ab7a7d1d'\u001b[0m, \u001b[32m'authorized_cols'\u001b[0m: \u001b[1m[\u001b[0m\u001b[32m'one'\u001b[0m, \u001b[32m'two'\u001b[0m\u001b[1m]\u001b[0m,             \n",
      "                    \u001b[32m'assigner'\u001b[0m: \u001b[1m<\u001b[0m\u001b[1;95mfledge.component.assigner.random_grouped_assigner.RandomGroupedAssigner\u001b[0m\u001b[39m object at \u001b[0m\u001b[1;34m0x7f4f2f8e9400\u001b[0m\u001b[1m>\u001b[0m\u001b[1m}\u001b[0m                             \n",
      "\u001b[2;36m          \u001b[0m\u001b[2;36m \u001b[0m\u001b[34mINFO\u001b[0m     Override \u001b[31m🡆\u001b[0m \u001b[1m{\u001b[0m\u001b[32m'defaults'\u001b[0m: \u001b[32m'plan/defaults/aggregator.yaml'\u001b[0m\u001b[1m}\u001b[0m                                                                         \u001b]8;id=1606922866.7941453-365342;file:///home/itrushkin/.virtualenvs/fledge/lib/python3.6/site-packages/fledge/federated/plan/plan.py\u001b\\\u001b[2mplan.py\u001b[0m\u001b]8;;\u001b\\\u001b[2m:149\u001b[0m\n"
     ]
    },
    {
     "name": "stdout",
     "output_type": "stream",
     "text": [
      "\u001b[2;36m          \u001b[0m\u001b[2;36m \u001b[0m\u001b[34mINFO\u001b[0m     Starting Aggregator gRPC Server                                                                                                \u001b]8;id=1606922866.9001725-996669;file:///home/itrushkin/.virtualenvs/fledge/lib/python3.6/site-packages/fledge/transport/grpc/server.py\u001b\\\u001b[2mserver.py\u001b[0m\u001b]8;;\u001b\\\u001b[2m:145\u001b[0m\r\n"
     ]
    }
   ],
   "source": [
    "!fx aggregator start"
   ]
  }
 ],
 "metadata": {
  "kernelspec": {
   "display_name": "fledge",
   "language": "python",
   "name": "fledge"
  },
  "language_info": {
   "codemirror_mode": {
    "name": "ipython",
    "version": 3
   },
   "file_extension": ".py",
   "mimetype": "text/x-python",
   "name": "python",
   "nbconvert_exporter": "python",
   "pygments_lexer": "ipython3",
   "version": "3.6.9"
  }
 },
 "nbformat": 4,
 "nbformat_minor": 4
}
