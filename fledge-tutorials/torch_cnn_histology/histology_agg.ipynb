{
 "cells": [
  {
   "cell_type": "code",
   "execution_count": 1,
   "metadata": {},
   "outputs": [
    {
     "data": {
      "text/plain": [
       "'nnlicv431.inn.intel.com'"
      ]
     },
     "execution_count": 1,
     "metadata": {},
     "output_type": "execute_result"
    }
   ],
   "source": [
    "import socket\n",
    "\n",
    "afqdn = socket.getfqdn() # your /etc/hosts should be set up to contain fully qualified domain name of the machine\n",
    "afqdn = 'nnlicv431.inn.intel.com'\n",
    "afqdn"
   ]
  },
  {
   "cell_type": "markdown",
   "metadata": {},
   "source": [
    "## 1. Make sure you can run the `fx` command."
   ]
  },
  {
   "cell_type": "markdown",
   "metadata": {},
   "source": [
    "## 2. Create a workspace for the new federation project."
   ]
  },
  {
   "cell_type": "code",
   "execution_count": 2,
   "metadata": {},
   "outputs": [
    {
     "name": "stdout",
     "output_type": "stream",
     "text": [
      "\u001b[2J\u001b[1;1H\u001b[104m\u001b[1mIntel FLedge - Secure Federated Learning at the Edge™                           \u001b[0m\n",
      "\n",
      "Creating Workspace Directories\n",
      "Creating Workspace Certifications\n",
      "Creating Workspace Templates\n",
      "Requirement already satisfied: torchvision==0.7.0 in /home/itrushkin/venvs/fledge/lib/python3.6/site-packages (from -r /home/itrushkin/workspace/requirements.txt (line 1)) (0.7.0)\n",
      "Requirement already satisfied: torch==1.6.0 in /home/itrushkin/venvs/fledge/lib/python3.6/site-packages (from -r /home/itrushkin/workspace/requirements.txt (line 2)) (1.6.0)\n",
      "Requirement already satisfied: pillow>=4.1.1 in /home/itrushkin/venvs/fledge/lib/python3.6/site-packages (from torchvision==0.7.0->-r /home/itrushkin/workspace/requirements.txt (line 1)) (8.0.1)\n",
      "Requirement already satisfied: numpy in /home/itrushkin/venvs/fledge/lib/python3.6/site-packages (from torchvision==0.7.0->-r /home/itrushkin/workspace/requirements.txt (line 1)) (1.19.4)\n",
      "Requirement already satisfied: future in /home/itrushkin/venvs/fledge/lib/python3.6/site-packages (from torch==1.6.0->-r /home/itrushkin/workspace/requirements.txt (line 2)) (0.18.2)\n",
      "\u001b[33mYou are using pip version 18.1, however version 20.3 is available.\n",
      "You should consider upgrading via the 'pip install --upgrade pip' command.\u001b[0m\n",
      "Successfully installed packages from /home/itrushkin/workspace/requirements.txt.\n",
      "\n",
      "New workspace directory structure:\n",
      "workspace\n",
      "├── code\n",
      "│   ├── keras_cnn.py\n",
      "│   ├── __pycache__\n",
      "│   │   ├── __init__.cpython-36.pyc\n",
      "│   │   ├── pt_cnn.cpython-36.pyc\n",
      "│   │   ├── histology_utils.cpython-36.pyc\n",
      "│   │   └── pthistology_inmemory.cpython-36.pyc\n",
      "│   ├── mnist_utils.py\n",
      "│   ├── tfmnist_inmemory.py\n",
      "│   ├── pthistology_inmemory.py\n",
      "│   ├── __init__.py\n",
      "│   ├── histology_utils.py\n",
      "│   ├── requirements.txt\n",
      "│   └── pt_cnn.py\n",
      "├── agg_to_col_two_signed_cert.zip\n",
      "├── requirements.export.txt\n",
      "├── cert\n",
      "│   ├── ca\n",
      "│   │   ├── root-ca.csr\n",
      "│   │   ├── signing-ca\n",
      "│   │   ├── root-ca.crt\n",
      "│   │   ├── signing-ca.crt\n",
      "│   │   ├── root-ca\n",
      "│   │   └── signing-ca.csr\n",
      "│   ├── client\n",
      "│   │   ├── col_one.key\n",
      "│   │   ├── col_two.csr\n",
      "│   │   ├── col_one.crt\n",
      "│   │   ├── col_two.crt\n",
      "│   │   ├── col_two.key\n",
      "│   │   └── col_one.csr\n",
      "│   ├── server\n",
      "│   │   ├── agg_nnlicv431.inn.intel.com.crt\n",
      "│   │   ├── agg_nnlicv431.key\n",
      "│   │   ├── agg_fqdn.key\n",
      "│   │   ├── agg_nnlicv431.inn.intel.com.key\n",
      "│   │   ├── agg_nnlicv431.crt\n",
      "│   │   ├── agg_nnlicv431.inn.intel.com.csr\n",
      "│   │   ├── agg_fqdn.csr\n",
      "│   │   └── agg_nnlicv431.csr\n",
      "│   ├── config\n",
      "│   │   ├── server.conf\n",
      "│   │   ├── signing-ca.conf\n",
      "│   │   ├── client.conf\n",
      "│   │   └── root-ca.conf\n",
      "│   └── cert_chain.crt\n",
      "├── col_one_to_agg_cert_request.zip\n",
      "├── workspace.zip\n",
      "├── col_two_to_agg_cert_request.zip\n",
      "├── .workspace\n",
      "├── __init__.py\n",
      "├── logs\n",
      "├── data\n",
      "├── agg_to_col_one_signed_cert.zip\n",
      "├── plan\n",
      "│   ├── plan_041c6131.yaml\n",
      "│   ├── data.yaml\n",
      "│   ├── cols.yaml\n",
      "│   ├── plan_7da62f28.yaml\n",
      "│   ├── plan_bad19ed7.yaml\n",
      "│   ├── plan.yaml\n",
      "│   ├── defaults\n",
      "│   │   ├── tasks_torch.yaml\n",
      "│   │   ├── assigner.yaml\n",
      "│   │   ├── aggregator.yaml\n",
      "│   │   ├── data_loader.yaml\n",
      "│   │   ├── tasks_tensorflow.yaml\n",
      "│   │   ├── collaborator.yaml\n",
      "│   │   ├── defaults\n",
      "│   │   ├── task_runner.yaml\n",
      "│   │   ├── network.yaml\n",
      "│   │   ├── tasks_keras.yaml\n",
      "│   │   └── tasks_fast_estimator.yaml\n",
      "│   └── plans\n",
      "│       └── default\n",
      "├── requirements.txt\n",
      "└── save\n",
      "    ├── torch_cnn_histology_init.pbuf\n",
      "    ├── torch_cnn_histology_best.pbuf\n",
      "    └── torch_cnn_histology_last.pbuf\n",
      "\n",
      "16 directories, 64 files\n",
      "\n",
      " ✔️ OK\n",
      "/home/itrushkin/workspace\n"
     ]
    }
   ],
   "source": [
    "!fx workspace create --prefix ~/workspace --template torch_cnn_histology\n",
    "%cd ~/workspace"
   ]
  },
  {
   "cell_type": "markdown",
   "metadata": {},
   "source": [
    "## 3. Initialize the plan\n",
    "Although it is possible to train models from scratch, it is assumed that in many cases the federation may perform fine-tuning of a previously-trained model. For this reason, the pre-trained weights for the model will be stored within protobuf files on the aggregator and passed to the collaborators during initialization. As seen in the YAML file, the protobuf file with the initial weights is expected to be found in the file `torch_cnn_mnist_init.pbuf`. Let's just create an initial set of random model weights and put it into that file by running the command:"
   ]
  },
  {
   "cell_type": "code",
   "execution_count": 3,
   "metadata": {},
   "outputs": [
    {
     "name": "stdout",
     "output_type": "stream",
     "text": [
      "\u001b[2J\u001b[1;1H\u001b[104m\u001b[1mIntel FLedge - Secure Federated Learning at the Edge™                           \u001b[0m\n",
      "\n",
      "\u001b[2;36m[18:31:48]\u001b[0m\u001b[2;36m \u001b[0m\u001b[34mINFO    \u001b[0m Loading DEFAULTS for section \u001b[31maggregator\u001b[0m from file \u001b[31mplan/defaults/aggregator.yaml\u001b[0m.                                                  \u001b]8;id=1607095908.4073274-746187;file:///home/itrushkin/venvs/fledge/lib/python3.6/site-packages/fledge/federated/plan/plan.py\u001b\\\u001b[2mplan.py\u001b[0m\u001b]8;;\u001b\\\u001b[2m:94\u001b[0m\n",
      "\u001b[2;36m          \u001b[0m\u001b[2;36m \u001b[0m\u001b[34mINFO    \u001b[0m Loading DEFAULTS for section \u001b[31massigner\u001b[0m from file \u001b[31mplan/defaults/assigner.yaml\u001b[0m.                                                      \u001b]8;id=1607095908.409751-89977;file:///home/itrushkin/venvs/fledge/lib/python3.6/site-packages/fledge/federated/plan/plan.py\u001b\\\u001b[2mplan.py\u001b[0m\u001b]8;;\u001b\\\u001b[2m:94\u001b[0m\n",
      "\u001b[2;36m          \u001b[0m\u001b[2;36m \u001b[0m\u001b[34mINFO    \u001b[0m Loading DEFAULTS for section \u001b[31mcollaborator\u001b[0m from file \u001b[31mplan/defaults/collaborator.yaml\u001b[0m.                                              \u001b]8;id=1607095908.4125698-284876;file:///home/itrushkin/venvs/fledge/lib/python3.6/site-packages/fledge/federated/plan/plan.py\u001b\\\u001b[2mplan.py\u001b[0m\u001b]8;;\u001b\\\u001b[2m:94\u001b[0m\n",
      "\u001b[2;36m          \u001b[0m\u001b[2;36m \u001b[0m\u001b[34mINFO    \u001b[0m Loading DEFAULTS for section \u001b[31mnetwork\u001b[0m from file \u001b[31mplan/defaults/network.yaml\u001b[0m.                                                        \u001b]8;id=1607095908.4150603-656215;file:///home/itrushkin/venvs/fledge/lib/python3.6/site-packages/fledge/federated/plan/plan.py\u001b\\\u001b[2mplan.py\u001b[0m\u001b]8;;\u001b\\\u001b[2m:94\u001b[0m\n",
      "\u001b[2;36m          \u001b[0m\u001b[2;36m \u001b[0m\u001b[34mINFO    \u001b[0m Loading DEFAULTS for section \u001b[31mtask_runner\u001b[0m from file \u001b[31mplan/defaults/task_runner.yaml\u001b[0m.                                                \u001b]8;id=1607095908.4178345-892820;file:///home/itrushkin/venvs/fledge/lib/python3.6/site-packages/fledge/federated/plan/plan.py\u001b\\\u001b[2mplan.py\u001b[0m\u001b]8;;\u001b\\\u001b[2m:94\u001b[0m\n",
      "\u001b[2;36m          \u001b[0m\u001b[2;36m \u001b[0m\u001b[34mINFO    \u001b[0m Loading DEFAULTS for section \u001b[31mtasks\u001b[0m from file \u001b[31mplan/defaults/tasks_torch.yaml\u001b[0m.                                                      \u001b]8;id=1607095908.4199793-479324;file:///home/itrushkin/venvs/fledge/lib/python3.6/site-packages/fledge/federated/plan/plan.py\u001b\\\u001b[2mplan.py\u001b[0m\u001b]8;;\u001b\\\u001b[2m:94\u001b[0m\n",
      "\u001b[2;36m          \u001b[0m\u001b[2;36m \u001b[0m\u001b[34mINFO    \u001b[0m FL-Plan hash is \u001b[34mbad19ed72d45419e97e9dcd23e51ea88\u001b[0m                                                                                 \u001b]8;id=1607095908.4269936-836996;file:///home/itrushkin/venvs/fledge/lib/python3.6/site-packages/fledge/federated/plan/plan.py\u001b\\\u001b[2mplan.py\u001b[0m\u001b]8;;\u001b\\\u001b[2m:204\u001b[0m\n",
      "\u001b[2;36m          \u001b[0m\u001b[2;36m \u001b[0m\u001b[34mINFO    \u001b[0m FL-Plan hash is \u001b[34m041c61316e041ca857288758add569be\u001b[0m                                                                                 \u001b]8;id=1607095908.432305-61502;file:///home/itrushkin/venvs/fledge/lib/python3.6/site-packages/fledge/federated/plan/plan.py\u001b\\\u001b[2mplan.py\u001b[0m\u001b]8;;\u001b\\\u001b[2m:204\u001b[0m\n",
      "\u001b[2;36m          \u001b[0m\u001b[2;36m \u001b[0m\u001b[34mINFO    \u001b[0m Parsing Federated Learning Plan : \u001b[32mSUCCESS\u001b[0m : \u001b[34mplan/plan.yaml\u001b[0m.                                                                      \u001b]8;id=1607095908.4342318-697100;file:///home/itrushkin/venvs/fledge/lib/python3.6/site-packages/fledge/federated/plan/plan.py\u001b\\\u001b[2mplan.py\u001b[0m\u001b]8;;\u001b\\\u001b[2m:130\u001b[0m\n",
      "\u001b[2;36m          \u001b[0m\u001b[2;36m \u001b[0m\u001b[34mINFO    \u001b[0m aggregator:                                                                                                                      \u001b]8;id=1607095908.449394-780674;file:///home/itrushkin/venvs/fledge/lib/python3.6/site-packages/fledge/federated/plan/plan.py\u001b\\\u001b[2mplan.py\u001b[0m\u001b]8;;\u001b\\\u001b[2m:131\u001b[0m\n",
      "                      defaults: plan/defaults/aggregator.yaml                                                                                                   \n",
      "                      settings:                                                                                                                                 \n",
      "                        best_state_path: save/torch_cnn_histology_best.pbuf                                                                                     \n",
      "                        db_store_rounds: \u001b[1;34m1\u001b[0m                                                                                                                      \n",
      "                        init_state_path: save/torch_cnn_histology_init.pbuf                                                                                     \n",
      "                        last_state_path: save/torch_cnn_histology_last.pbuf                                                                                     \n",
      "                        rounds_to_train: \u001b[1;34m20\u001b[0m                                                                                                                     \n",
      "                      template: fledge.component.Aggregator                                                                                                     \n",
      "                    assigner:                                                                                                                                   \n",
      "                      defaults: plan/defaults/assigner.yaml                                                                                                     \n",
      "                      settings:                                                                                                                                 \n",
      "                        task_groups:                                                                                                                            \n",
      "                        - name: train_and_validate                                                                                                              \n",
      "                          percentage: \u001b[1;34m1.0\u001b[0m                                                                                                                       \n",
      "                          tasks:                                                                                                                                \n",
      "                          - aggregated_model_validation                                                                                                         \n",
      "                          - train                                                                                                                               \n",
      "                          - locally_tuned_model_validation                                                                                                      \n",
      "                      template: fledge.component.RandomGroupedAssigner                                                                                          \n",
      "                    collaborator:                                                                                                                               \n",
      "                      defaults: plan/defaults/collaborator.yaml                                                                                                 \n",
      "                      settings:                                                                                                                                 \n",
      "                        db_store_rounds: \u001b[1;34m1\u001b[0m                                                                                                                      \n",
      "                        delta_updates: false                                                                                                                    \n",
      "                        epochs_per_round: \u001b[1;34m1.0\u001b[0m                                                                                                                   \n",
      "                        opt_treatment: RESET                                                                                                                    \n",
      "                        polling_interval: \u001b[1;34m4\u001b[0m                                                                                                                     \n",
      "                      template: fledge.component.Collaborator                                                                                                   \n",
      "                    data_loader:                                                                                                                                \n",
      "                      settings:                                                                                                                                 \n",
      "                        batch_size: \u001b[1;34m128\u001b[0m                                                                                                                         \n",
      "                        collaborator_count: \u001b[1;34m2\u001b[0m                                                                                                                   \n",
      "                        data_group_name: histology                                                                                                              \n",
      "                      template: code.pthistology_inmemory.PyTorchHistologyInMemory                                                                              \n"
     ]
    },
    {
     "name": "stdout",
     "output_type": "stream",
     "text": [
      "                    network:                                                                                                                                    \n",
      "                      defaults: plan/defaults/network.yaml                                                                                                      \n",
      "                      settings:                                                                                                                                 \n",
      "                        agg_addr: nnlicv431                                                                                                                     \n",
      "                        agg_port: \u001b[1;34m56518\u001b[0m                                                                                                                         \n",
      "                        cert_folder: cert                                                                                                                       \n",
      "                        disable_client_auth: false                                                                                                              \n",
      "                        disable_tls: false                                                                                                                      \n",
      "                        hash_salt: auto                                                                                                                         \n",
      "                      template: fledge.federation.Network                                                                                                       \n",
      "                    task_runner:                                                                                                                                \n",
      "                      defaults: plan/defaults/task_runner.yaml                                                                                                  \n",
      "                      settings: \u001b[1m{\u001b[0m\u001b[1m}\u001b[0m                                                                                                                              \n",
      "                      template: code.pt_cnn.PyTorchCNN                                                                                                          \n",
      "                    tasks:                                                                                                                                      \n",
      "                      aggregated_model_validation:                                                                                                              \n",
      "                        function: validate                                                                                                                      \n",
      "                        kwargs:                                                                                                                                 \n",
      "                          apply: global                                                                                                                         \n",
      "                          metrics:                                                                                                                              \n",
      "                          - acc                                                                                                                                 \n",
      "                      defaults: plan/defaults/tasks_torch.yaml                                                                                                  \n",
      "                      locally_tuned_model_validation:                                                                                                           \n",
      "                        function: validate                                                                                                                      \n",
      "                        kwargs:                                                                                                                                 \n",
      "                          apply: local                                                                                                                          \n",
      "                          metrics:                                                                                                                              \n",
      "                          - acc                                                                                                                                 \n",
      "                      settings: \u001b[1m{\u001b[0m\u001b[1m}\u001b[0m                                                                                                                              \n",
      "                      train:                                                                                                                                    \n",
      "                        function: train_batches                                                                                                                 \n",
      "                        kwargs:                                                                                                                                 \n",
      "                          metrics:                                                                                                                              \n",
      "                          - loss                                                                                                                                \n",
      "                                                                                                                                                                \n",
      "{'one': '1', 'two': '2'}\n",
      "\u001b[2;36m          \u001b[0m\u001b[2;36m \u001b[0m\u001b[34mINFO    \u001b[0m Building \u001b[31m🡆\u001b[0m Object \u001b[31mPyTorchHistologyInMemory\u001b[0m from \u001b[31mcode.pthistology_inmemory\u001b[0m Module.                                                \u001b]8;id=1607095908.45463-450639;file:///home/itrushkin/venvs/fledge/lib/python3.6/site-packages/fledge/federated/plan/plan.py\u001b\\\u001b[2mplan.py\u001b[0m\u001b]8;;\u001b\\\u001b[2m:165\u001b[0m\n",
      "\u001b[2;36m          \u001b[0m\u001b[2;36m \u001b[0m\u001b[34mINFO    \u001b[0m Settings \u001b[31m🡆\u001b[0m \u001b[1m{\u001b[0m\u001b[32m'collaborator_count'\u001b[0m: \u001b[1;34m2\u001b[0m, \u001b[32m'data_group_name'\u001b[0m: \u001b[32m'histology'\u001b[0m, \u001b[32m'batch_size'\u001b[0m: \u001b[1;34m128\u001b[0m, \u001b[32m'data_path'\u001b[0m: \u001b[32m'1'\u001b[0m\u001b[1m}\u001b[0m                        \u001b]8;id=1607095908.45674-406823;file:///home/itrushkin/venvs/fledge/lib/python3.6/site-packages/fledge/federated/plan/plan.py\u001b\\\u001b[2mplan.py\u001b[0m\u001b]8;;\u001b\\\u001b[2m:167\u001b[0m\n",
      "\u001b[2;36m          \u001b[0m\u001b[2;36m \u001b[0m\u001b[34mINFO    \u001b[0m Override \u001b[31m🡆\u001b[0m \u001b[1m{\u001b[0m\u001b[1m}\u001b[0m                                                                                                                    \u001b]8;id=1607095908.4586036-360411;file:///home/itrushkin/venvs/fledge/lib/python3.6/site-packages/fledge/federated/plan/plan.py\u001b\\\u001b[2mplan.py\u001b[0m\u001b]8;;\u001b\\\u001b[2m:169\u001b[0m\n",
      "\u001b[2;36m[18:31:51]\u001b[0m\u001b[2;36m \u001b[0m\u001b[34mINFO    \u001b[0m Histology > X_train Shape : \u001b[1m(\u001b[0m\u001b[1;34m2000\u001b[0m, \u001b[1;34m3\u001b[0m, \u001b[1;34m150\u001b[0m, \u001b[1;34m150\u001b[0m\u001b[1m)\u001b[0m                                                                       \u001b]8;id=1607095911.3127658-998818;file:///home/itrushkin/workspace/code/histology_utils.py\u001b\\\u001b[2mhistology_utils.py\u001b[0m\u001b]8;;\u001b\\\u001b[2m:136\u001b[0m\n",
      "\u001b[2;36m          \u001b[0m\u001b[2;36m \u001b[0m\u001b[34mINFO    \u001b[0m Histology > y_train Shape : \u001b[1m(\u001b[0m\u001b[1;34m2000\u001b[0m,\u001b[1m)\u001b[0m                                                                                   \u001b]8;id=1607095911.3147619-721517;file:///home/itrushkin/workspace/code/histology_utils.py\u001b\\\u001b[2mhistology_utils.py\u001b[0m\u001b]8;;\u001b\\\u001b[2m:137\u001b[0m\n",
      "\u001b[2;36m          \u001b[0m\u001b[2;36m \u001b[0m\u001b[34mINFO    \u001b[0m Histology > Train Samples : \u001b[1;34m2000\u001b[0m                                                                                      \u001b]8;id=1607095911.316642-626860;file:///home/itrushkin/workspace/code/histology_utils.py\u001b\\\u001b[2mhistology_utils.py\u001b[0m\u001b]8;;\u001b\\\u001b[2m:138\u001b[0m\n",
      "\u001b[2;36m          \u001b[0m\u001b[2;36m \u001b[0m\u001b[34mINFO    \u001b[0m Histology > Valid Samples : \u001b[1;34m500\u001b[0m                                                                                       \u001b]8;id=1607095911.3184612-486079;file:///home/itrushkin/workspace/code/histology_utils.py\u001b\\\u001b[2mhistology_utils.py\u001b[0m\u001b]8;;\u001b\\\u001b[2m:139\u001b[0m\n",
      "\u001b[2;36m          \u001b[0m\u001b[2;36m \u001b[0m\u001b[34mINFO    \u001b[0m Building \u001b[31m🡆\u001b[0m Object \u001b[31mPyTorchCNN\u001b[0m from \u001b[31mcode.pt_cnn\u001b[0m Module.                                                                            \u001b]8;id=1607095911.3205328-749129;file:///home/itrushkin/venvs/fledge/lib/python3.6/site-packages/fledge/federated/plan/plan.py\u001b\\\u001b[2mplan.py\u001b[0m\u001b]8;;\u001b\\\u001b[2m:165\u001b[0m\n",
      "\u001b[2;36m          \u001b[0m\u001b[2;36m \u001b[0m\u001b[34mINFO    \u001b[0m Settings \u001b[31m🡆\u001b[0m \u001b[1m{\u001b[0m\u001b[32m'data_loader'\u001b[0m: \u001b[1m<\u001b[0m\u001b[1;95mcode.pthistology_inmemory.PyTorchHistologyInMemory\u001b[0m\u001b[39m object at \u001b[0m\u001b[1;34m0x7f3a45adb1d0\u001b[0m\u001b[1m>\u001b[0m\u001b[1m}\u001b[0m                        \u001b]8;id=1607095911.3226027-449452;file:///home/itrushkin/venvs/fledge/lib/python3.6/site-packages/fledge/federated/plan/plan.py\u001b\\\u001b[2mplan.py\u001b[0m\u001b]8;;\u001b\\\u001b[2m:167\u001b[0m\n",
      "\u001b[2;36m          \u001b[0m\u001b[2;36m \u001b[0m\u001b[34mINFO    \u001b[0m Override \u001b[31m🡆\u001b[0m \u001b[1m{\u001b[0m\u001b[32m'defaults'\u001b[0m: \u001b[32m'plan/defaults/task_runner.yaml'\u001b[0m\u001b[1m}\u001b[0m                                                                        \u001b]8;id=1607095911.3245342-508066;file:///home/itrushkin/venvs/fledge/lib/python3.6/site-packages/fledge/federated/plan/plan.py\u001b\\\u001b[2mplan.py\u001b[0m\u001b]8;;\u001b\\\u001b[2m:169\u001b[0m\n"
     ]
    },
    {
     "name": "stdout",
     "output_type": "stream",
     "text": [
      "PyTorchCNN(\n",
      "  (conv1): Conv2d(3, 16, kernel_size=(3, 3), stride=(1, 1), padding=(1, 1))\n",
      "  (conv2): Conv2d(16, 32, kernel_size=(3, 3), stride=(1, 1), padding=(1, 1))\n",
      "  (conv3): Conv2d(32, 64, kernel_size=(3, 3), stride=(1, 1), padding=(1, 1))\n",
      "  (conv4): Conv2d(64, 128, kernel_size=(3, 3), stride=(1, 1), padding=(1, 1))\n",
      "  (conv5): Conv2d(160, 256, kernel_size=(3, 3), stride=(1, 1), padding=(1, 1))\n",
      "  (conv6): Conv2d(256, 512, kernel_size=(3, 3), stride=(1, 1), padding=(1, 1))\n",
      "  (conv7): Conv2d(672, 256, kernel_size=(3, 3), stride=(1, 1), padding=(1, 1))\n",
      "  (conv8): Conv2d(256, 512, kernel_size=(3, 3), stride=(1, 1), padding=(1, 1))\n",
      "  (fc1): Linear(in_features=95904, out_features=128, bias=True)\n",
      "  (fc2): Linear(in_features=128, out_features=8, bias=True)\n",
      ")\n",
      "\u001b[2;36m[18:31:54]\u001b[0m\u001b[2;36m \u001b[0m\u001b[31mWARNING \u001b[0m tried to remove tensor: __opt_state_needed not present in the tensor dict                                                        \u001b]8;id=1607095914.0813074-677771;file:///home/itrushkin/venvs/fledge/lib/python3.6/site-packages/fledge/utilities/utils.py\u001b\\\u001b[2mutils.py\u001b[0m\u001b]8;;\u001b\\\u001b[2m:87\u001b[0m\n",
      "\u001b[2;36m          \u001b[0m\u001b[2;36m \u001b[0m\u001b[34mINFO    \u001b[0m Building \u001b[31m🡆\u001b[0m Object \u001b[31mNoCompressionPipeline\u001b[0m from \u001b[31mfledge.pipelines\u001b[0m Module.                                                            \u001b]8;id=1607095914.0846741-798705;file:///home/itrushkin/venvs/fledge/lib/python3.6/site-packages/fledge/federated/plan/plan.py\u001b\\\u001b[2mplan.py\u001b[0m\u001b]8;;\u001b\\\u001b[2m:165\u001b[0m\n",
      "\u001b[2;36m          \u001b[0m\u001b[2;36m \u001b[0m\u001b[34mINFO    \u001b[0m Settings \u001b[31m🡆\u001b[0m \u001b[1m{\u001b[0m\u001b[1m}\u001b[0m                                                                                                                    \u001b]8;id=1607095914.0865908-410640;file:///home/itrushkin/venvs/fledge/lib/python3.6/site-packages/fledge/federated/plan/plan.py\u001b\\\u001b[2mplan.py\u001b[0m\u001b]8;;\u001b\\\u001b[2m:167\u001b[0m\n",
      "\u001b[2;36m          \u001b[0m\u001b[2;36m \u001b[0m\u001b[34mINFO    \u001b[0m Override \u001b[31m🡆\u001b[0m \u001b[1m{\u001b[0m\u001b[1m}\u001b[0m                                                                                                                    \u001b]8;id=1607095914.0884397-332519;file:///home/itrushkin/venvs/fledge/lib/python3.6/site-packages/fledge/federated/plan/plan.py\u001b\\\u001b[2mplan.py\u001b[0m\u001b]8;;\u001b\\\u001b[2m:169\u001b[0m\n",
      "\u001b[2;36m          \u001b[0m\u001b[2;36m \u001b[0m\u001b[31mWARNING \u001b[0m tried to remove tensor: __opt_state_needed not present in the tensor dict                                                        \u001b]8;id=1607095914.5901546-451654;file:///home/itrushkin/venvs/fledge/lib/python3.6/site-packages/fledge/utilities/utils.py\u001b\\\u001b[2mutils.py\u001b[0m\u001b]8;;\u001b\\\u001b[2m:87\u001b[0m\n",
      "\u001b[2;36m          \u001b[0m\u001b[2;36m \u001b[0m\u001b[31mWARNING \u001b[0m Following parameters omitted from global initial model, local initialization will determine values: \u001b[1m[\u001b[0m\u001b[1m]\u001b[0m                            \u001b]8;id=1607095914.592522-563102;file:///home/itrushkin/venvs/fledge/lib/python3.6/site-packages/fledge/interface/plan.py\u001b\\\u001b[2mplan.py\u001b[0m\u001b]8;;\u001b\\\u001b[2m:87\u001b[0m\n",
      "\u001b[2;36m          \u001b[0m\u001b[2;36m \u001b[0m\u001b[34mINFO    \u001b[0m Creating Initial Weights File    🠆 save/torch_cnn_histology_init.pbuf                                                             \u001b]8;id=1607095914.6961923-178419;file:///home/itrushkin/venvs/fledge/lib/python3.6/site-packages/fledge/interface/plan.py\u001b\\\u001b[2mplan.py\u001b[0m\u001b]8;;\u001b\\\u001b[2m:95\u001b[0m\n",
      "\u001b[2;36m          \u001b[0m\u001b[2;36m \u001b[0m\u001b[31mWARNING \u001b[0m Patching Aggregator Addr in Plan 🠆 nnlicv431.inn.intel.com                                                                       \u001b]8;id=1607095914.8055294-654711;file:///home/itrushkin/venvs/fledge/lib/python3.6/site-packages/fledge/interface/plan.py\u001b\\\u001b[2mplan.py\u001b[0m\u001b]8;;\u001b\\\u001b[2m:108\u001b[0m\n",
      "\u001b[2;36m          \u001b[0m\u001b[2;36m \u001b[0m\u001b[34mINFO    \u001b[0m FL-Plan hash is \u001b[34m7da62f28238a0d52ab0db363b2fe9a46\u001b[0m                                                                                 \u001b]8;id=1607095914.8155973-781068;file:///home/itrushkin/venvs/fledge/lib/python3.6/site-packages/fledge/federated/plan/plan.py\u001b\\\u001b[2mplan.py\u001b[0m\u001b]8;;\u001b\\\u001b[2m:204\u001b[0m\n",
      "\u001b[2;36m          \u001b[0m\u001b[2;36m \u001b[0m\u001b[34mINFO    \u001b[0m \u001b[1m[\u001b[0m\u001b[32m'plan_7da62f28'\u001b[0m\u001b[1m]\u001b[0m                                                                                                                \u001b]8;id=1607095914.8174798-419769;file:///home/itrushkin/venvs/fledge/lib/python3.6/site-packages/fledge/interface/plan.py\u001b\\\u001b[2mplan.py\u001b[0m\u001b]8;;\u001b\\\u001b[2m:119\u001b[0m\n",
      "\n",
      " ✔️ OK\n"
     ]
    }
   ],
   "source": [
    "!fx plan initialize -a $afqdn"
   ]
  },
  {
   "cell_type": "markdown",
   "metadata": {},
   "source": [
    "## 4. Run the Certificate Authority command.\n",
    "This will setup the Aggregator node as the Certificate Authority for the Federation. All certificates will be signed by the aggregator. The command will create a simple database file to keep track of all issued certificates."
   ]
  },
  {
   "cell_type": "code",
   "execution_count": 4,
   "metadata": {},
   "outputs": [
    {
     "name": "stdout",
     "output_type": "stream",
     "text": [
      "\u001b[2J\u001b[1;1H\u001b[104m\u001b[1mIntel FLedge - Secure Federated Learning at the Edge™                           \u001b[0m\n",
      "\n",
      "Setting Up Certificate Authority...\n",
      "\n",
      "1.  Create Root CA\n",
      "1.1 Create Directories\n",
      "1.2 Create Database\n",
      "1.3 Create CA Request\n",
      "1.4 Create CA Certificate\n",
      "2.  Create Signing Certificate\n",
      "2.1 Create Directories\n",
      "2.2 Create Database\n",
      "2.3 Create Signing Certificate CSR\n",
      "2.4 Sign Signing Certificate CSR\n",
      "3   Create Certificate Chain\n",
      "\n",
      "Done.\n",
      "\n",
      " ✔️ OK\n"
     ]
    }
   ],
   "source": [
    "!fx workspace certify"
   ]
  },
  {
   "cell_type": "markdown",
   "metadata": {},
   "source": [
    "## 5. Run the aggregator certificate creation command."
   ]
  },
  {
   "cell_type": "code",
   "execution_count": 5,
   "metadata": {},
   "outputs": [
    {
     "name": "stdout",
     "output_type": "stream",
     "text": [
      "\u001b[2J\u001b[1;1H\u001b[104m\u001b[1mIntel FLedge - Secure Federated Learning at the Edge™                           \u001b[0m\n",
      "\n",
      "Creating AGGREGATOR certificate key pair with following settings: CN=\u001b[31mnnlicv431.inn.intel.com\u001b[0m, SAN=\u001b[31mDNS:nnlicv431.inn.intel.com\u001b[0m\n",
      "  Moving AGGREGATOR certificate key pair to: \u001b[32mcert/server\u001b[0m\n",
      "\n",
      " ✔️ OK\n"
     ]
    }
   ],
   "source": [
    "!fx aggregator generate-cert-request --fqdn $afqdn"
   ]
  },
  {
   "cell_type": "markdown",
   "metadata": {},
   "source": [
    "## 6. Run the aggregator certificate signing command"
   ]
  },
  {
   "cell_type": "code",
   "execution_count": 6,
   "metadata": {},
   "outputs": [
    {
     "name": "stdout",
     "output_type": "stream",
     "text": [
      "\u001b[2J\u001b[1;1H\u001b[104m\u001b[1mIntel FLedge - Secure Federated Learning at the Edge™                           \u001b[0m\n",
      "\n",
      "The CSR Hash for file \u001b[32magg_nnlicv431.inn.intel.com.csr\u001b[0m = \u001b[31m 2302b01bb32e2dee78208747aeff01c60b70db9e805da08f1f3944552594a478\n",
      "\u001b[0m\n",
      " Signing AGGREGATOR certificate key pair\n",
      "  Moving AGGREGATOR certificate key pair to: \u001b[32mcert/server\u001b[0m\n",
      "\n",
      " ✔️ OK\n"
     ]
    }
   ],
   "source": [
    "!fx aggregator certify -s --fqdn $afqdn"
   ]
  },
  {
   "cell_type": "markdown",
   "metadata": {},
   "source": [
    "## 7. Export the workspace so that it can be imported to the collaborator nodes."
   ]
  },
  {
   "cell_type": "code",
   "execution_count": 7,
   "metadata": {},
   "outputs": [
    {
     "name": "stdout",
     "output_type": "stream",
     "text": [
      "\u001b[2J\u001b[1;1H\u001b[104m\u001b[1mIntel FLedge - Secure Federated Learning at the Edge™                           \u001b[0m\n",
      "\n",
      "\u001b[2;36m[18:32:01]\u001b[0m\u001b[2;36m \u001b[0m\u001b[34mINFO    \u001b[0m FL-Plan hash is \u001b[34m7da62f28238a0d52ab0db363b2fe9a46\u001b[0m                                                                                 \u001b]8;id=1607095921.0994592-9118;file:///home/itrushkin/venvs/fledge/lib/python3.6/site-packages/fledge/federated/plan/plan.py\u001b\\\u001b[2mplan.py\u001b[0m\u001b]8;;\u001b\\\u001b[2m:204\u001b[0m\n",
      "\u001b[2;36m          \u001b[0m\u001b[2;36m \u001b[0m\u001b[34mINFO    \u001b[0m plan.yaml is already frozen                                                                                                       \u001b]8;id=1607095921.1016436-451978;file:///home/itrushkin/venvs/fledge/lib/python3.6/site-packages/fledge/federated/plan/plan.py\u001b\\\u001b[2mplan.py\u001b[0m\u001b]8;;\u001b\\\u001b[2m:45\u001b[0m\n",
      "Writing torch==1.6.0\n",
      " to requirements.txt...\n",
      "Writing torchvision==0.7.0\n",
      " to requirements.txt...\n",
      "requirements.export.txt written.\n",
      "Workspace exported to archive: workspace.zip\n",
      "\n",
      " ✔️ OK\n"
     ]
    }
   ],
   "source": [
    "!fx workspace export"
   ]
  },
  {
   "cell_type": "markdown",
   "metadata": {},
   "source": [
    "## 14. Sign collaborators certificates"
   ]
  },
  {
   "cell_type": "code",
   "execution_count": 8,
   "metadata": {},
   "outputs": [
    {
     "name": "stdout",
     "output_type": "stream",
     "text": [
      "\u001b[2J\u001b[1;1H\u001b[104m\u001b[1mIntel FLedge - Secure Federated Learning at the Edge™                           \u001b[0m\n",
      "\n",
      "The CSR Hash for file \u001b[32mcol_one.csr\u001b[0m = \u001b[31m 152992fca165b3dde37842b2b2ad2a8ade4c50bffc7ffa6a6c24b70c69826a58\n",
      "\u001b[0m\n",
      " Signing COLLABORATOR certificate key pair\n",
      "  Moving COLLABORATOR certificate key pair to: \u001b[32mcert/client\u001b[0m\n",
      "\n",
      "Registering \u001b[32mone\u001b[0m in \u001b[32mplan/cols.yaml\u001b[0m\n",
      "\n",
      " ✔️ OK\n"
     ]
    }
   ],
   "source": [
    "!fx collaborator certify -s --request-pkg col_one_to_agg_cert_request.zip"
   ]
  },
  {
   "cell_type": "code",
   "execution_count": 9,
   "metadata": {},
   "outputs": [
    {
     "name": "stdout",
     "output_type": "stream",
     "text": [
      "\u001b[2J\u001b[1;1H\u001b[104m\u001b[1mIntel FLedge - Secure Federated Learning at the Edge™                           \u001b[0m\n",
      "\n",
      "The CSR Hash for file \u001b[32mcol_two.csr\u001b[0m = \u001b[31m 4ba2331d1e700201b889119dab2c48dcaf678c88cae6add38b52d13bfd1a4379\n",
      "\u001b[0m\n",
      " Signing COLLABORATOR certificate key pair\n",
      "  Moving COLLABORATOR certificate key pair to: \u001b[32mcert/client\u001b[0m\n",
      "\n",
      "Registering \u001b[32mtwo\u001b[0m in \u001b[32mplan/cols.yaml\u001b[0m\n",
      "\n",
      " ✔️ OK\n"
     ]
    }
   ],
   "source": [
    "!fx collaborator certify -s --request-pkg col_two_to_agg_cert_request.zip"
   ]
  },
  {
   "cell_type": "code",
   "execution_count": 16,
   "metadata": {},
   "outputs": [
    {
     "name": "stdout",
     "output_type": "stream",
     "text": [
      "agg_to_col_one_signed_cert.zip   __init__.py\r\n",
      "agg_to_col_two_signed_cert.zip   \u001b[0m\u001b[01;34mlogs\u001b[0m/\r\n",
      "\u001b[01;34mcert\u001b[0m/                            \u001b[01;34mplan\u001b[0m/\r\n",
      "\u001b[01;34mcode\u001b[0m/                            requirements.export.txt\r\n",
      "col_one_to_agg_cert_request.zip  requirements.txt\r\n",
      "col_two_to_agg_cert_request.zip  \u001b[01;34msave\u001b[0m/\r\n",
      "\u001b[01;34mdata\u001b[0m/                            workspace.zip\r\n"
     ]
    }
   ],
   "source": [
    "ls"
   ]
  },
  {
   "cell_type": "markdown",
   "metadata": {},
   "source": [
    "## Start the aggregator."
   ]
  },
  {
   "cell_type": "code",
   "execution_count": 10,
   "metadata": {},
   "outputs": [
    {
     "name": "stdout",
     "output_type": "stream",
     "text": [
      "\u001b[2J\u001b[1;1H\u001b[104m\u001b[1mIntel FLedge - Secure Federated Learning at the Edge™                           \u001b[0m\n",
      "\n",
      "\u001b[2;36m[18:40:55]\u001b[0m\u001b[2;36m \u001b[0m\u001b[34mINFO    \u001b[0m Loading DEFAULTS for section \u001b[31maggregator\u001b[0m from file \u001b[31mplan/defaults/aggregator.yaml\u001b[0m.                                                  \u001b]8;id=1607096455.9674318-401819;file:///home/itrushkin/venvs/fledge/lib/python3.6/site-packages/fledge/federated/plan/plan.py\u001b\\\u001b[2mplan.py\u001b[0m\u001b]8;;\u001b\\\u001b[2m:94\u001b[0m\n",
      "\u001b[2;36m          \u001b[0m\u001b[2;36m \u001b[0m\u001b[34mINFO    \u001b[0m Loading DEFAULTS for section \u001b[31massigner\u001b[0m from file \u001b[31mplan/defaults/assigner.yaml\u001b[0m.                                                      \u001b]8;id=1607096455.9713798-767882;file:///home/itrushkin/venvs/fledge/lib/python3.6/site-packages/fledge/federated/plan/plan.py\u001b\\\u001b[2mplan.py\u001b[0m\u001b]8;;\u001b\\\u001b[2m:94\u001b[0m\n",
      "\u001b[2;36m          \u001b[0m\u001b[2;36m \u001b[0m\u001b[34mINFO    \u001b[0m Loading DEFAULTS for section \u001b[31mcollaborator\u001b[0m from file \u001b[31mplan/defaults/collaborator.yaml\u001b[0m.                                              \u001b]8;id=1607096455.9760892-760982;file:///home/itrushkin/venvs/fledge/lib/python3.6/site-packages/fledge/federated/plan/plan.py\u001b\\\u001b[2mplan.py\u001b[0m\u001b]8;;\u001b\\\u001b[2m:94\u001b[0m\n",
      "\u001b[2;36m          \u001b[0m\u001b[2;36m \u001b[0m\u001b[34mINFO    \u001b[0m Loading DEFAULTS for section \u001b[31mnetwork\u001b[0m from file \u001b[31mplan/defaults/network.yaml\u001b[0m.                                                        \u001b]8;id=1607096455.9802537-534784;file:///home/itrushkin/venvs/fledge/lib/python3.6/site-packages/fledge/federated/plan/plan.py\u001b\\\u001b[2mplan.py\u001b[0m\u001b]8;;\u001b\\\u001b[2m:94\u001b[0m\n",
      "\u001b[2;36m          \u001b[0m\u001b[2;36m \u001b[0m\u001b[34mINFO    \u001b[0m Loading DEFAULTS for section \u001b[31mtask_runner\u001b[0m from file \u001b[31mplan/defaults/task_runner.yaml\u001b[0m.                                                \u001b]8;id=1607096455.984858-350859;file:///home/itrushkin/venvs/fledge/lib/python3.6/site-packages/fledge/federated/plan/plan.py\u001b\\\u001b[2mplan.py\u001b[0m\u001b]8;;\u001b\\\u001b[2m:94\u001b[0m\n",
      "\u001b[2;36m          \u001b[0m\u001b[2;36m \u001b[0m\u001b[34mINFO    \u001b[0m Loading DEFAULTS for section \u001b[31mtasks\u001b[0m from file \u001b[31mplan/defaults/tasks_torch.yaml\u001b[0m.                                                      \u001b]8;id=1607096455.9883873-388060;file:///home/itrushkin/venvs/fledge/lib/python3.6/site-packages/fledge/federated/plan/plan.py\u001b\\\u001b[2mplan.py\u001b[0m\u001b]8;;\u001b\\\u001b[2m:94\u001b[0m\n",
      "\u001b[2;36m          \u001b[0m\u001b[2;36m \u001b[0m\u001b[34mINFO    \u001b[0m FL-Plan hash is \u001b[34m7da62f28238a0d52ab0db363b2fe9a46\u001b[0m                                                                                 \u001b]8;id=1607096456.0008588-207177;file:///home/itrushkin/venvs/fledge/lib/python3.6/site-packages/fledge/federated/plan/plan.py\u001b\\\u001b[2mplan.py\u001b[0m\u001b]8;;\u001b\\\u001b[2m:204\u001b[0m\n",
      "\u001b[2;36m[18:40:56]\u001b[0m\u001b[2;36m \u001b[0m\u001b[34mINFO    \u001b[0m FL-Plan hash is \u001b[34m7da62f28238a0d52ab0db363b2fe9a46\u001b[0m                                                                                 \u001b]8;id=1607096456.0097249-726907;file:///home/itrushkin/venvs/fledge/lib/python3.6/site-packages/fledge/federated/plan/plan.py\u001b\\\u001b[2mplan.py\u001b[0m\u001b]8;;\u001b\\\u001b[2m:204\u001b[0m\n",
      "\u001b[2;36m          \u001b[0m\u001b[2;36m \u001b[0m\u001b[34mINFO    \u001b[0m Parsing Federated Learning Plan : \u001b[32mSUCCESS\u001b[0m : \u001b[34mplan/plan.yaml\u001b[0m.                                                                      \u001b]8;id=1607096456.0129461-565249;file:///home/itrushkin/venvs/fledge/lib/python3.6/site-packages/fledge/federated/plan/plan.py\u001b\\\u001b[2mplan.py\u001b[0m\u001b]8;;\u001b\\\u001b[2m:130\u001b[0m\n",
      "\u001b[2;36m          \u001b[0m\u001b[2;36m \u001b[0m\u001b[34mINFO    \u001b[0m aggregator:                                                                                                                      \u001b]8;id=1607096456.0393124-531474;file:///home/itrushkin/venvs/fledge/lib/python3.6/site-packages/fledge/federated/plan/plan.py\u001b\\\u001b[2mplan.py\u001b[0m\u001b]8;;\u001b\\\u001b[2m:131\u001b[0m\n",
      "                      defaults: plan/defaults/aggregator.yaml                                                                                                   \n",
      "                      settings:                                                                                                                                 \n",
      "                        best_state_path: save/torch_cnn_histology_best.pbuf                                                                                     \n",
      "                        db_store_rounds: \u001b[1;34m1\u001b[0m                                                                                                                      \n",
      "                        init_state_path: save/torch_cnn_histology_init.pbuf                                                                                     \n",
      "                        last_state_path: save/torch_cnn_histology_last.pbuf                                                                                     \n",
      "                        rounds_to_train: \u001b[1;34m20\u001b[0m                                                                                                                     \n",
      "                      template: fledge.component.Aggregator                                                                                                     \n",
      "                    assigner:                                                                                                                                   \n",
      "                      defaults: plan/defaults/assigner.yaml                                                                                                     \n",
      "                      settings:                                                                                                                                 \n",
      "                        task_groups:                                                                                                                            \n",
      "                        - name: train_and_validate                                                                                                              \n",
      "                          percentage: \u001b[1;34m1.0\u001b[0m                                                                                                                       \n",
      "                          tasks:                                                                                                                                \n",
      "                          - aggregated_model_validation                                                                                                         \n",
      "                          - train                                                                                                                               \n",
      "                          - locally_tuned_model_validation                                                                                                      \n",
      "                      template: fledge.component.RandomGroupedAssigner                                                                                          \n",
      "                    collaborator:                                                                                                                               \n",
      "                      defaults: plan/defaults/collaborator.yaml                                                                                                 \n",
      "                      settings:                                                                                                                                 \n",
      "                        db_store_rounds: \u001b[1;34m1\u001b[0m                                                                                                                      \n",
      "                        delta_updates: false                                                                                                                    \n",
      "                        epochs_per_round: \u001b[1;34m1.0\u001b[0m                                                                                                                   \n",
      "                        opt_treatment: RESET                                                                                                                    \n",
      "                        polling_interval: \u001b[1;34m4\u001b[0m                                                                                                                     \n",
      "                      template: fledge.component.Collaborator                                                                                                   \n",
      "                    data_loader:                                                                                                                                \n",
      "                      settings:                                                                                                                                 \n",
      "                        batch_size: \u001b[1;34m128\u001b[0m                                                                                                                         \n",
      "                        collaborator_count: \u001b[1;34m2\u001b[0m                                                                                                                   \n",
      "                        data_group_name: histology                                                                                                              \n",
      "                      template: code.pthistology_inmemory.PyTorchHistologyInMemory                                                                              \n",
      "                    network:                                                                                                                                    \n",
      "                      defaults: plan/defaults/network.yaml                                                                                                      \n",
      "                      settings:                                                                                                                                 \n",
      "                        agg_addr: nnlicv431.inn.intel.com                                                                                                       \n",
      "                        agg_port: \u001b[1;34m60714\u001b[0m                                                                                                                         \n",
      "                        cert_folder: cert                                                                                                                       \n",
      "                        disable_client_auth: false                                                                                                              \n",
      "                        disable_tls: false                                                                                                                      \n",
      "                        hash_salt: auto                                                                                                                         \n",
      "                      template: fledge.federation.Network                                                                                                       \n",
      "                    task_runner:                                                                                                                                \n",
      "                      defaults: plan/defaults/task_runner.yaml                                                                                                  \n",
      "                      settings: \u001b[1m{\u001b[0m\u001b[1m}\u001b[0m                                                                                                                              \n",
      "                      template: code.pt_cnn.PyTorchCNN                                                                                                          \n",
      "                    tasks:                                                                                                                                      \n",
      "                      aggregated_model_validation:                                                                                                              \n",
      "                        function: validate                                                                                                                      \n",
      "                        kwargs:                                                                                                                                 \n",
      "                          apply: global                                                                                                                         \n",
      "                          metrics:                                                                                                                              \n",
      "                          - acc                                                                                                                                 \n",
      "                      defaults: plan/defaults/tasks_torch.yaml                                                                                                  \n",
      "                      locally_tuned_model_validation:                                                                                                           \n",
      "                        function: validate                                                                                                                      \n",
      "                        kwargs:                                                                                                                                 \n",
      "                          apply: local                                                                                                                          \n",
      "                          metrics:                                                                                                                              \n",
      "                          - acc                                                                                                                                 \n",
      "                      settings: \u001b[1m{\u001b[0m\u001b[1m}\u001b[0m                                                                                                                              \n",
      "                      train:                                                                                                                                    \n",
      "                        function: train_batches                                                                                                                 \n",
      "                        kwargs:                                                                                                                                 \n",
      "                          metrics:                                                                                                                              \n",
      "                          - loss                                                                                                                                \n",
      "                                                                                                                                                                \n",
      "\u001b[2;36m          \u001b[0m\u001b[2;36m \u001b[0m\u001b[34mINFO    \u001b[0m 🧿 Starting the Aggregator Service.                                                                                         \u001b]8;id=1607096456.0479348-974756;file:///home/itrushkin/venvs/fledge/lib/python3.6/site-packages/fledge/interface/aggregator.py\u001b\\\u001b[2maggregator.py\u001b[0m\u001b]8;;\u001b\\\u001b[2m:40\u001b[0m\n",
      "\u001b[2;36m          \u001b[0m\u001b[2;36m \u001b[0m\u001b[34mINFO    \u001b[0m Building \u001b[31m🡆\u001b[0m Object \u001b[31mRandomGroupedAssigner\u001b[0m from \u001b[31mfledge.component\u001b[0m Module.                                                            \u001b]8;id=1607096456.0512888-566834;file:///home/itrushkin/venvs/fledge/lib/python3.6/site-packages/fledge/federated/plan/plan.py\u001b\\\u001b[2mplan.py\u001b[0m\u001b]8;;\u001b\\\u001b[2m:165\u001b[0m\n"
     ]
    },
    {
     "name": "stdout",
     "output_type": "stream",
     "text": [
      "\u001b[2;36m          \u001b[0m\u001b[2;36m \u001b[0m\u001b[34mINFO    \u001b[0m Settings \u001b[31m🡆\u001b[0m \u001b[1m{\u001b[0m\u001b[32m'task_groups'\u001b[0m: \u001b[1m[\u001b[0m\u001b[1m{\u001b[0m\u001b[32m'name'\u001b[0m: \u001b[32m'train_and_validate'\u001b[0m, \u001b[32m'percentage'\u001b[0m: \u001b[1;34m1.0\u001b[0m, \u001b[32m'tasks'\u001b[0m: \u001b[1m[\u001b[0m\u001b[32m'aggregated_model_validation'\u001b[0m, \u001b[32m'train'\u001b[0m,  \u001b]8;id=1607096456.0577903-936036;file:///home/itrushkin/venvs/fledge/lib/python3.6/site-packages/fledge/federated/plan/plan.py\u001b\\\u001b[2mplan.py\u001b[0m\u001b]8;;\u001b\\\u001b[2m:167\u001b[0m\n",
      "                    \u001b[32m'locally_tuned_model_validation'\u001b[0m\u001b[1m]\u001b[0m\u001b[1m}\u001b[0m\u001b[1m]\u001b[0m, \u001b[32m'authorized_cols'\u001b[0m: \u001b[1m[\u001b[0m\u001b[32m'one'\u001b[0m, \u001b[32m'two'\u001b[0m\u001b[1m]\u001b[0m, \u001b[32m'rounds_to_train'\u001b[0m: \u001b[1;34m20\u001b[0m, \u001b[32m'tasks'\u001b[0m:                                     \n",
      "                    \u001b[1m{\u001b[0m\u001b[32m'aggregated_model_validation'\u001b[0m: \u001b[1m{\u001b[0m\u001b[32m'function'\u001b[0m: \u001b[32m'validate'\u001b[0m, \u001b[32m'kwargs'\u001b[0m: \u001b[1m{\u001b[0m\u001b[32m'apply'\u001b[0m: \u001b[32m'global'\u001b[0m, \u001b[32m'metrics'\u001b[0m: \u001b[1m[\u001b[0m\u001b[32m'acc'\u001b[0m\u001b[1m]\u001b[0m\u001b[1m}\u001b[0m\u001b[1m}\u001b[0m,                                \n",
      "                    \u001b[32m'locally_tuned_model_validation'\u001b[0m: \u001b[1m{\u001b[0m\u001b[32m'function'\u001b[0m: \u001b[32m'validate'\u001b[0m, \u001b[32m'kwargs'\u001b[0m: \u001b[1m{\u001b[0m\u001b[32m'apply'\u001b[0m: \u001b[32m'local'\u001b[0m, \u001b[32m'metrics'\u001b[0m: \u001b[1m[\u001b[0m\u001b[32m'acc'\u001b[0m\u001b[1m]\u001b[0m\u001b[1m}\u001b[0m\u001b[1m}\u001b[0m, \u001b[32m'train'\u001b[0m:                      \n",
      "                    \u001b[1m{\u001b[0m\u001b[32m'function'\u001b[0m: \u001b[32m'train_batches'\u001b[0m, \u001b[32m'kwargs'\u001b[0m: \u001b[1m{\u001b[0m\u001b[32m'metrics'\u001b[0m: \u001b[1m[\u001b[0m\u001b[32m'loss'\u001b[0m\u001b[1m]\u001b[0m\u001b[1m}\u001b[0m\u001b[1m}\u001b[0m, \u001b[32m'defaults'\u001b[0m: \u001b[32m'plan/defaults/tasks_torch.yaml'\u001b[0m, \u001b[32m'settings'\u001b[0m: \u001b[1m{\u001b[0m\u001b[1m}\u001b[0m\u001b[1m}\u001b[0m\u001b[1m}\u001b[0m              \n",
      "\u001b[2;36m          \u001b[0m\u001b[2;36m \u001b[0m\u001b[34mINFO    \u001b[0m Override \u001b[31m🡆\u001b[0m \u001b[1m{\u001b[0m\u001b[32m'defaults'\u001b[0m: \u001b[32m'plan/defaults/assigner.yaml'\u001b[0m\u001b[1m}\u001b[0m                                                                           \u001b]8;id=1607096456.0613344-11578;file:///home/itrushkin/venvs/fledge/lib/python3.6/site-packages/fledge/federated/plan/plan.py\u001b\\\u001b[2mplan.py\u001b[0m\u001b]8;;\u001b\\\u001b[2m:169\u001b[0m\n",
      "\u001b[2;36m          \u001b[0m\u001b[2;36m \u001b[0m\u001b[34mINFO    \u001b[0m Building \u001b[31m🡆\u001b[0m Object \u001b[31mAggregator\u001b[0m from \u001b[31mfledge.component\u001b[0m Module.                                                                       \u001b]8;id=1607096456.5829694-803755;file:///home/itrushkin/venvs/fledge/lib/python3.6/site-packages/fledge/federated/plan/plan.py\u001b\\\u001b[2mplan.py\u001b[0m\u001b]8;;\u001b\\\u001b[2m:165\u001b[0m\n",
      "\u001b[2;36m          \u001b[0m\u001b[2;36m \u001b[0m\u001b[34mINFO    \u001b[0m Settings \u001b[31m🡆\u001b[0m \u001b[1m{\u001b[0m\u001b[32m'db_store_rounds'\u001b[0m: \u001b[1;34m1\u001b[0m, \u001b[32m'best_state_path'\u001b[0m: \u001b[32m'save/torch_cnn_histology_best.pbuf'\u001b[0m, \u001b[32m'init_state_path'\u001b[0m:                    \u001b]8;id=1607096456.5863268-279178;file:///home/itrushkin/venvs/fledge/lib/python3.6/site-packages/fledge/federated/plan/plan.py\u001b\\\u001b[2mplan.py\u001b[0m\u001b]8;;\u001b\\\u001b[2m:167\u001b[0m\n",
      "                    \u001b[32m'save/torch_cnn_histology_init.pbuf'\u001b[0m, \u001b[32m'last_state_path'\u001b[0m: \u001b[32m'save/torch_cnn_histology_last.pbuf'\u001b[0m, \u001b[32m'rounds_to_train'\u001b[0m: \u001b[1;34m20\u001b[0m,                       \n",
      "                    \u001b[32m'aggregator_uuid'\u001b[0m: \u001b[32m'aggregator_plan.yaml_7da62f28'\u001b[0m, \u001b[32m'federation_uuid'\u001b[0m: \u001b[32m'plan.yaml_7da62f28'\u001b[0m, \u001b[32m'authorized_cols'\u001b[0m: \u001b[1m[\u001b[0m\u001b[32m'one'\u001b[0m, \u001b[32m'two'\u001b[0m\u001b[1m]\u001b[0m,             \n",
      "                    \u001b[32m'assigner'\u001b[0m: \u001b[1m<\u001b[0m\u001b[1;95mfledge.component.assigner.random_grouped_assigner.RandomGroupedAssigner\u001b[0m\u001b[39m object at \u001b[0m\u001b[1;34m0x7f3abfddd080\u001b[0m\u001b[1m>\u001b[0m\u001b[1m}\u001b[0m                             \n",
      "\u001b[2;36m          \u001b[0m\u001b[2;36m \u001b[0m\u001b[34mINFO    \u001b[0m Override \u001b[31m🡆\u001b[0m \u001b[1m{\u001b[0m\u001b[32m'defaults'\u001b[0m: \u001b[32m'plan/defaults/aggregator.yaml'\u001b[0m\u001b[1m}\u001b[0m                                                                         \u001b]8;id=1607096456.58838-772163;file:///home/itrushkin/venvs/fledge/lib/python3.6/site-packages/fledge/federated/plan/plan.py\u001b\\\u001b[2mplan.py\u001b[0m\u001b]8;;\u001b\\\u001b[2m:169\u001b[0m\n",
      "E1204 18:40:56.735971775   57113 server_secure_chttp2.cc:81] {\"created\":\"@1607096456.735923004\",\"description\":\"No address added out of total 1 resolved\",\"file\":\"src/core/ext/transport/chttp2/server/chttp2_server.cc\",\"file_line\":397,\"referenced_errors\":[{\"created\":\"@1607096456.735921039\",\"description\":\"Failed to add any wildcard listeners\",\"file\":\"src/core/lib/iomgr/tcp_server_posix.cc\",\"file_line\":344,\"referenced_errors\":[{\"created\":\"@1607096456.735913672\",\"description\":\"Unable to configure socket\",\"fd\":39,\"file\":\"src/core/lib/iomgr/tcp_server_utils_posix_common.cc\",\"file_line\":217,\"referenced_errors\":[{\"created\":\"@1607096456.735911367\",\"description\":\"Address already in use\",\"errno\":98,\"file\":\"src/core/lib/iomgr/tcp_server_utils_posix_common.cc\",\"file_line\":190,\"os_error\":\"Address already in use\",\"syscall\":\"bind\"}]},{\"created\":\"@1607096456.735920365\",\"description\":\"Unable to configure socket\",\"fd\":39,\"file\":\"src/core/lib/iomgr/tcp_server_utils_posix_common.cc\",\"file_line\":217,\"referenced_errors\":[{\"created\":\"@1607096456.735918929\",\"description\":\"Address already in use\",\"errno\":98,\"file\":\"src/core/lib/iomgr/tcp_server_utils_posix_common.cc\",\"file_line\":190,\"os_error\":\"Address already in use\",\"syscall\":\"bind\"}]}]}]}\n",
      "\u001b[2;36m          \u001b[0m\u001b[2;36m \u001b[0m\u001b[34mINFO    \u001b[0m Starting Aggregator gRPC Server                                                                                                \u001b]8;id=1607096456.7380235-176050;file:///home/itrushkin/venvs/fledge/lib/python3.6/site-packages/fledge/transport/grpc/server.py\u001b\\\u001b[2mserver.py\u001b[0m\u001b]8;;\u001b\\\u001b[2m:162\u001b[0m\n",
      "^C\n",
      "\n",
      " ✔️ OK\n"
     ]
    }
   ],
   "source": [
    "!fx aggregator start"
   ]
  },
  {
   "cell_type": "markdown",
   "metadata": {},
   "source": [
    "At this point, the aggregator is running and waiting for the collaborators to connect. When all of the collaborators connect, the aggregator starts training. When the last round of training is complete, the aggregator stores the final weights"
   ]
  },
  {
   "cell_type": "code",
   "execution_count": null,
   "metadata": {},
   "outputs": [],
   "source": []
  }
 ],
 "metadata": {
  "kernelspec": {
   "display_name": "fledge",
   "language": "python",
   "name": "fledge"
  },
  "language_info": {
   "codemirror_mode": {
    "name": "ipython",
    "version": 3
   },
   "file_extension": ".py",
   "mimetype": "text/x-python",
   "name": "python",
   "nbconvert_exporter": "python",
   "pygments_lexer": "ipython3",
   "version": "3.6.9"
  }
 },
 "nbformat": 4,
 "nbformat_minor": 4
}
