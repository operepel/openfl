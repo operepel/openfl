{
 "cells": [
  {
   "cell_type": "markdown",
   "metadata": {},
   "source": [
    "# Federated MNIST Experiment"
   ]
  },
  {
   "cell_type": "code",
   "execution_count": 1,
   "metadata": {},
   "outputs": [
    {
     "name": "stdout",
     "output_type": "stream",
     "text": [
      "WARNING:tensorflow:From /home/pfoley1/fl_venv/lib/python3.6/site-packages/tensorflow_core/python/compat/v2_compat.py:68: disable_resource_variables (from tensorflow.python.ops.variable_scope) is deprecated and will be removed in a future version.\n",
      "Instructions for updating:\n",
      "non-resource variables are not supported in the long term\n"
     ]
    }
   ],
   "source": [
    "import numpy as np\n",
    "import mnist\n",
    "import tensorflow      as tf\n",
    "import tensorflow.keras as keras\n",
    "from tensorflow.keras import backend as K\n",
    "from tensorflow.keras import Sequential\n",
    "from tensorflow.keras.layers import Conv2D, Flatten, Dense\n",
    "from tensorflow.keras.utils import to_categorical\n",
    "\n",
    "import fledge as fx\n",
    "from fledge.federated import FederatedModel,FederatedDataSet\n"
   ]
  },
  {
   "cell_type": "markdown",
   "metadata": {},
   "source": [
    "After importing the required packages, the next step is setting up our fledge workspace. To do this, simply run the `fx.init()` command as follows:"
   ]
  },
  {
   "cell_type": "code",
   "execution_count": 2,
   "metadata": {},
   "outputs": [],
   "source": [
    "#Setup default workspace, logging, etc.\n",
    "fx.init()"
   ]
  },
  {
   "cell_type": "markdown",
   "metadata": {},
   "source": [
    "Now we are ready to define our dataset and model to perform federated learning on. The dataset should be composed of a numpy arrayWe start with a simple fully connected model that is trained on the MNIST dataset. "
   ]
  },
  {
   "cell_type": "code",
   "execution_count": 3,
   "metadata": {},
   "outputs": [],
   "source": [
    "#Import training and validation images/labels\n",
    "train_images = mnist.train_images()\n",
    "train_labels = to_categorical(mnist.train_labels())\n",
    "valid_images = mnist.test_images()\n",
    "valid_labels = to_categorical(mnist.test_labels())\n",
    "\n",
    "def preprocess(images):\n",
    "    #Normalize\n",
    "    images = (images / 255) - 0.5\n",
    "    #Flatten\n",
    "    images = images.reshape((-1, 784))\n",
    "    return images\n",
    "\n",
    "# Preprocess the images.\n",
    "train_images = preprocess(train_images)\n",
    "valid_images = preprocess(valid_images)\n",
    "\n",
    "feature_shape = train_images.shape[1]\n",
    "classes       = 10\n",
    "\n",
    "fl_data = FederatedDataSet(train_images,train_labels,valid_images,valid_labels,batch_size=32,num_classes=classes)\n",
    "\n",
    "def build_model(feature_shape,classes):\n",
    "    #Defines the MNIST model\n",
    "    model = Sequential()\n",
    "    model.add(Dense(64, input_shape=feature_shape, activation='relu'))\n",
    "    model.add(Dense(64, activation='relu'))\n",
    "    model.add(Dense(classes, activation='softmax'))\n",
    "    \n",
    "    model.compile(optimizer='adam',loss='categorical_crossentropy',metrics=['accuracy'],)\n",
    "    return model"
   ]
  },
  {
   "cell_type": "code",
   "execution_count": 4,
   "metadata": {},
   "outputs": [],
   "source": [
    "\n",
    "#Create a federated model using the build model function and dataset\n",
    "fl_model = FederatedModel(build_model,data_loader=fl_data)"
   ]
  },
  {
   "cell_type": "markdown",
   "metadata": {},
   "source": [
    "The `FederatedModel` object is a wrapper around your Keras, Tensorflow or PyTorch model that makes it compatible with fledge. It provides built in federated training and validation functions that we will see used below. Using it's `setup` function, collaborator models and datasets can be automatically defined for the experiment. "
   ]
  },
  {
   "cell_type": "code",
   "execution_count": 10,
   "metadata": {},
   "outputs": [],
   "source": [
    "collaborator_models = fl_model.setup(num_collaborators=2)\n",
    "collaborators = {'one':collaborator_models[0],'two':collaborator_models[1]}#, 'three':collaborator_models[2]}"
   ]
  },
  {
   "cell_type": "code",
   "execution_count": 11,
   "metadata": {},
   "outputs": [
    {
     "name": "stdout",
     "output_type": "stream",
     "text": [
      "Original training data size: 60000\n",
      "Original validation data size: 10000\n",
      "\n",
      "Collaborator one's training data size: 30000\n",
      "Collaborator one's validation data size: 5000\n",
      "\n",
      "Collaborator two's training data size: 30000\n",
      "Collaborator two's validation data size: 5000\n",
      "\n"
     ]
    }
   ],
   "source": [
    "#Original MNIST dataset\n",
    "print(f'Original training data size: {len(train_images)}')\n",
    "print(f'Original validation data size: {len(valid_images)}\\n')\n",
    "\n",
    "#Collaborator one's data\n",
    "print(f'Collaborator one\\'s training data size: {len(collaborator_models[0].data_loader.X_train)}')\n",
    "print(f'Collaborator one\\'s validation data size: {len(collaborator_models[0].data_loader.X_valid)}\\n')\n",
    "\n",
    "#Collaborator two's data\n",
    "print(f'Collaborator two\\'s training data size: {len(collaborator_models[1].data_loader.X_train)}')\n",
    "print(f'Collaborator two\\'s validation data size: {len(collaborator_models[1].data_loader.X_valid)}\\n')\n",
    "\n",
    "#Collaborator three's data\n",
    "#print(f'Collaborator three\\'s training data size: {len(collaborator_models[2].data_loader.X_train)}')\n",
    "#print(f'Collaborator three\\'s validation data size: {len(collaborator_models[2].data_loader.X_valid)}')"
   ]
  },
  {
   "cell_type": "code",
   "execution_count": 12,
   "metadata": {},
   "outputs": [
    {
     "data": {
      "text/html": [
       "<pre style=\"white-space:pre;overflow-x:auto;line-height:normal;font-family:Menlo,'DejaVu Sans Mono',consolas,'Courier New',monospace\"><span style=\"color: #7fbfbf\">[10:16:28] </span><span style=\"color: #000080\">INFO</span>     Loading DEFAULTS for section <span style=\"color: #800000\">aggregator</span> from file <span style=\"color: #800000\">plan/defaults/aggregator.yaml</span>.                                                  <a href=\"file:///home/pfoley1/fl_venv/lib/python3.6/site-packages/fledge/federated/plan/plan.py\"><span style=\"color: #7f7f7f\">plan.py</span></a><span style=\"color: #7f7f7f\">:89</span>\n",
       "</pre>\n"
      ],
      "text/plain": [
       "<rich.jupyter.JupyterRenderable at 0x7efec43e27b8>"
      ]
     },
     "metadata": {},
     "output_type": "display_data"
    },
    {
     "data": {
      "text/html": [
       "<pre style=\"white-space:pre;overflow-x:auto;line-height:normal;font-family:Menlo,'DejaVu Sans Mono',consolas,'Courier New',monospace\"><span style=\"color: #7fbfbf\">           </span><span style=\"color: #000080\">INFO</span>     Loading DEFAULTS for section <span style=\"color: #800000\">assigner</span> from file <span style=\"color: #800000\">plan/defaults/assigner.yaml</span>.                                                      <a href=\"file:///home/pfoley1/fl_venv/lib/python3.6/site-packages/fledge/federated/plan/plan.py\"><span style=\"color: #7f7f7f\">plan.py</span></a><span style=\"color: #7f7f7f\">:89</span>\n",
       "</pre>\n"
      ],
      "text/plain": [
       "<rich.jupyter.JupyterRenderable at 0x7eff00422940>"
      ]
     },
     "metadata": {},
     "output_type": "display_data"
    },
    {
     "data": {
      "text/html": [
       "<pre style=\"white-space:pre;overflow-x:auto;line-height:normal;font-family:Menlo,'DejaVu Sans Mono',consolas,'Courier New',monospace\"><span style=\"color: #7fbfbf\">           </span><span style=\"color: #000080\">INFO</span>     Loading DEFAULTS for section <span style=\"color: #800000\">collaborator</span> from file <span style=\"color: #800000\">plan/defaults/collaborator.yaml</span>.                                              <a href=\"file:///home/pfoley1/fl_venv/lib/python3.6/site-packages/fledge/federated/plan/plan.py\"><span style=\"color: #7f7f7f\">plan.py</span></a><span style=\"color: #7f7f7f\">:89</span>\n",
       "</pre>\n"
      ],
      "text/plain": [
       "<rich.jupyter.JupyterRenderable at 0x7efec4383e80>"
      ]
     },
     "metadata": {},
     "output_type": "display_data"
    },
    {
     "data": {
      "text/html": [
       "<pre style=\"white-space:pre;overflow-x:auto;line-height:normal;font-family:Menlo,'DejaVu Sans Mono',consolas,'Courier New',monospace\"><span style=\"color: #7fbfbf\">           </span><span style=\"color: #000080\">INFO</span>     Loading DEFAULTS for section <span style=\"color: #800000\">data_loader</span> from file <span style=\"color: #800000\">plan/defaults/data_loader.yaml</span>.                                                <a href=\"file:///home/pfoley1/fl_venv/lib/python3.6/site-packages/fledge/federated/plan/plan.py\"><span style=\"color: #7f7f7f\">plan.py</span></a><span style=\"color: #7f7f7f\">:89</span>\n",
       "</pre>\n"
      ],
      "text/plain": [
       "<rich.jupyter.JupyterRenderable at 0x7f010c0cd518>"
      ]
     },
     "metadata": {},
     "output_type": "display_data"
    },
    {
     "data": {
      "text/html": [
       "<pre style=\"white-space:pre;overflow-x:auto;line-height:normal;font-family:Menlo,'DejaVu Sans Mono',consolas,'Courier New',monospace\"><span style=\"color: #7fbfbf\">           </span><span style=\"color: #000080\">INFO</span>     Loading DEFAULTS for section <span style=\"color: #800000\">network</span> from file <span style=\"color: #800000\">plan/defaults/network.yaml</span>.                                                        <a href=\"file:///home/pfoley1/fl_venv/lib/python3.6/site-packages/fledge/federated/plan/plan.py\"><span style=\"color: #7f7f7f\">plan.py</span></a><span style=\"color: #7f7f7f\">:89</span>\n",
       "</pre>\n"
      ],
      "text/plain": [
       "<rich.jupyter.JupyterRenderable at 0x7efec4383b00>"
      ]
     },
     "metadata": {},
     "output_type": "display_data"
    },
    {
     "data": {
      "text/html": [
       "<pre style=\"white-space:pre;overflow-x:auto;line-height:normal;font-family:Menlo,'DejaVu Sans Mono',consolas,'Courier New',monospace\"><span style=\"color: #7fbfbf\">           </span><span style=\"color: #000080\">INFO</span>     Loading DEFAULTS for section <span style=\"color: #800000\">task_runner</span> from file <span style=\"color: #800000\">plan/defaults/task_runner.yaml</span>.                                                <a href=\"file:///home/pfoley1/fl_venv/lib/python3.6/site-packages/fledge/federated/plan/plan.py\"><span style=\"color: #7f7f7f\">plan.py</span></a><span style=\"color: #7f7f7f\">:89</span>\n",
       "</pre>\n"
      ],
      "text/plain": [
       "<rich.jupyter.JupyterRenderable at 0x7f010c0cd080>"
      ]
     },
     "metadata": {},
     "output_type": "display_data"
    },
    {
     "data": {
      "text/html": [
       "<pre style=\"white-space:pre;overflow-x:auto;line-height:normal;font-family:Menlo,'DejaVu Sans Mono',consolas,'Courier New',monospace\"><span style=\"color: #7fbfbf\">           </span><span style=\"color: #000080\">INFO</span>     Loading DEFAULTS for section <span style=\"color: #800000\">tasks</span> from file <span style=\"color: #800000\">plan/defaults/tasks_keras.yaml</span>.                                                      <a href=\"file:///home/pfoley1/fl_venv/lib/python3.6/site-packages/fledge/federated/plan/plan.py\"><span style=\"color: #7f7f7f\">plan.py</span></a><span style=\"color: #7f7f7f\">:89</span>\n",
       "</pre>\n"
      ],
      "text/plain": [
       "<rich.jupyter.JupyterRenderable at 0x7eff003e6860>"
      ]
     },
     "metadata": {},
     "output_type": "display_data"
    },
    {
     "data": {
      "text/html": [
       "<pre style=\"white-space:pre;overflow-x:auto;line-height:normal;font-family:Menlo,'DejaVu Sans Mono',consolas,'Courier New',monospace\"><span style=\"color: #7fbfbf\">           </span><span style=\"color: #000080\">INFO</span>     FL-Plan hash is <span style=\"color: #000080\">27b072bfc4484b5aff81ba0791cd40f3</span>                                                                                 <a href=\"file:///home/pfoley1/fl_venv/lib/python3.6/site-packages/fledge/federated/plan/plan.py\"><span style=\"color: #7f7f7f\">plan.py</span></a><span style=\"color: #7f7f7f\">:185</span>\n",
       "</pre>\n"
      ],
      "text/plain": [
       "<rich.jupyter.JupyterRenderable at 0x7efec438f4e0>"
      ]
     },
     "metadata": {},
     "output_type": "display_data"
    },
    {
     "data": {
      "text/html": [
       "<pre style=\"white-space:pre;overflow-x:auto;line-height:normal;font-family:Menlo,'DejaVu Sans Mono',consolas,'Courier New',monospace\"><span style=\"color: #7fbfbf\">           </span><span style=\"color: #000080\">INFO</span>     FL-Plan hash is <span style=\"color: #000080\">4a358959adaad33710e44dc21bf795a2</span>                                                                                 <a href=\"file:///home/pfoley1/fl_venv/lib/python3.6/site-packages/fledge/federated/plan/plan.py\"><span style=\"color: #7f7f7f\">plan.py</span></a><span style=\"color: #7f7f7f\">:185</span>\n",
       "</pre>\n"
      ],
      "text/plain": [
       "<rich.jupyter.JupyterRenderable at 0x7eff00422940>"
      ]
     },
     "metadata": {},
     "output_type": "display_data"
    },
    {
     "data": {
      "text/html": [
       "<pre style=\"white-space:pre;overflow-x:auto;line-height:normal;font-family:Menlo,'DejaVu Sans Mono',consolas,'Courier New',monospace\"><span style=\"color: #7fbfbf\">           </span><span style=\"color: #000080\">INFO</span>     Parsing Federated Learning Plan : <span style=\"color: #008000\">SUCCESS</span> : <span style=\"color: #000080\">plan/plan.yaml</span>.                                                                      <a href=\"file:///home/pfoley1/fl_venv/lib/python3.6/site-packages/fledge/federated/plan/plan.py\"><span style=\"color: #7f7f7f\">plan.py</span></a><span style=\"color: #7f7f7f\">:118</span>\n",
       "</pre>\n"
      ],
      "text/plain": [
       "<rich.jupyter.JupyterRenderable at 0x7efec4383a20>"
      ]
     },
     "metadata": {},
     "output_type": "display_data"
    },
    {
     "data": {
      "text/html": [
       "<pre style=\"white-space:pre;overflow-x:auto;line-height:normal;font-family:Menlo,'DejaVu Sans Mono',consolas,'Courier New',monospace\"><span style=\"color: #7fbfbf\">           </span><span style=\"color: #000080\">INFO</span>     aggregator:                                                                                                                      <a href=\"file:///home/pfoley1/fl_venv/lib/python3.6/site-packages/fledge/federated/plan/plan.py\"><span style=\"color: #7f7f7f\">plan.py</span></a><span style=\"color: #7f7f7f\">:119</span>\n",
       "                      defaults: plan/defaults/aggregator.yaml                                                                                                   \n",
       "                      settings:                                                                                                                                 \n",
       "                        best_state_path: save/model_best.pbuf                                                                                                   \n",
       "                        init_state_path: save/model_init.pbuf                                                                                                   \n",
       "                        last_state_path: save/model_last.pbuf                                                                                                   \n",
       "                        rounds_to_train: <span style=\"color: #000080; font-weight: bold\">10</span>                                                                                                                     \n",
       "                      template: fledge.component.Aggregator                                                                                                     \n",
       "                    assigner:                                                                                                                                   \n",
       "                      defaults: plan/defaults/assigner.yaml                                                                                                     \n",
       "                      settings:                                                                                                                                 \n",
       "                        task_groups:                                                                                                                            \n",
       "                        - name: train_and_validate                                                                                                              \n",
       "                          percentage: <span style=\"color: #000080; font-weight: bold\">1.0</span>                                                                                                                       \n",
       "                          tasks:                                                                                                                                \n",
       "                          - aggregated_model_validation                                                                                                         \n",
       "                          - train                                                                                                                               \n",
       "                          - locally_tuned_model_validation                                                                                                      \n",
       "                      template: fledge.component.RandomGroupedAssigner                                                                                          \n",
       "                    collaborator:                                                                                                                               \n",
       "                      defaults: plan/defaults/collaborator.yaml                                                                                                 \n",
       "                      settings:                                                                                                                                 \n",
       "                        delta_updates: false                                                                                                                    \n",
       "                        epochs_per_round: <span style=\"color: #000080; font-weight: bold\">1.0</span>                                                                                                                   \n",
       "                        opt_treatment: RESET                                                                                                                    \n",
       "                        polling_interval: <span style=\"color: #000080; font-weight: bold\">4</span>                                                                                                                     \n",
       "                      template: fledge.component.Collaborator                                                                                                   \n",
       "                    data_loader:                                                                                                                                \n",
       "                      defaults: plan/defaults/data_loader.yaml                                                                                                  \n",
       "                      settings:                                                                                                                                 \n",
       "                        batch_size: <span style=\"color: #000080; font-weight: bold\">256</span>                                                                                                                         \n",
       "                        collaborator_count: <span style=\"color: #000080; font-weight: bold\">2</span>                                                                                                                   \n",
       "                        data_group_name: mnist                                                                                                                  \n",
       "                      template: code.tfmnist_inmemory.TensorFlowMNISTInMemory                                                                                   \n",
       "                    network:                                                                                                                                    \n",
       "                      defaults: plan/defaults/network.yaml                                                                                                      \n",
       "                      settings:                                                                                                                                 \n",
       "                        agg_addr: CONsdphost001.jf.intel.com                                                                                                    \n",
       "                        agg_port: <span style=\"color: #000080; font-weight: bold\">58628</span>                                                                                                                         \n",
       "                        cert_folder: cert                                                                                                                       \n",
       "                        disable_client_auth: false                                                                                                              \n",
       "                        disable_tls: false                                                                                                                      \n",
       "                        hash_salt: auto                                                                                                                         \n",
       "                      template: fledge.federation.Network                                                                                                       \n",
       "                    task_runner:                                                                                                                                \n",
       "                      defaults: plan/defaults/task_runner.yaml                                                                                                  \n",
       "                      settings: <span style=\"font-weight: bold\">{}</span>                                                                                                                              \n",
       "                      template: code.keras_cnn.KerasCNN                                                                                                         \n",
       "                    tasks:                                                                                                                                      \n",
       "                      aggregated_model_validation:                                                                                                              \n",
       "                        function: validate                                                                                                                      \n",
       "                        kwargs:                                                                                                                                 \n",
       "                          apply: global                                                                                                                         \n",
       "                          batch_size: <span style=\"color: #000080; font-weight: bold\">32</span>                                                                                                                        \n",
       "                          metrics:                                                                                                                              \n",
       "                          - acc                                                                                                                                 \n",
       "                      defaults: plan/defaults/tasks_keras.yaml                                                                                                  \n",
       "                      locally_tuned_model_validation:                                                                                                           \n",
       "                        function: validate                                                                                                                      \n",
       "                        kwargs:                                                                                                                                 \n",
       "                          apply: local                                                                                                                          \n",
       "                          batch_size: <span style=\"color: #000080; font-weight: bold\">32</span>                                                                                                                        \n",
       "                          metrics:                                                                                                                              \n",
       "                          - acc                                                                                                                                 \n",
       "                      settings: <span style=\"font-weight: bold\">{}</span>                                                                                                                              \n",
       "                      train:                                                                                                                                    \n",
       "                        function: train                                                                                                                         \n",
       "                        kwargs:                                                                                                                                 \n",
       "                          batch_size: <span style=\"color: #000080; font-weight: bold\">32</span>                                                                                                                        \n",
       "                          epochs: <span style=\"color: #000080; font-weight: bold\">1</span>                                                                                                                             \n",
       "                          metrics:                                                                                                                              \n",
       "                          - loss                                                                                                                                \n",
       "                                                                                                                                                                \n",
       "</pre>\n"
      ],
      "text/plain": [
       "<rich.jupyter.JupyterRenderable at 0x7efec4383dd8>"
      ]
     },
     "metadata": {},
     "output_type": "display_data"
    },
    {
     "data": {
      "text/html": [
       "<pre style=\"white-space:pre;overflow-x:auto;line-height:normal;font-family:Menlo,'DejaVu Sans Mono',consolas,'Courier New',monospace\"><span style=\"color: #7fbfbf\">           </span><span style=\"color: #000080\">INFO</span>     Building <span style=\"color: #800000\">🡆</span> Object <span style=\"color: #800000\">NoCompressionPipeline</span> from <span style=\"color: #800000\">fledge.pipelines</span> Module.                                                            <a href=\"file:///home/pfoley1/fl_venv/lib/python3.6/site-packages/fledge/federated/plan/plan.py\"><span style=\"color: #7f7f7f\">plan.py</span></a><span style=\"color: #7f7f7f\">:149</span>\n",
       "</pre>\n"
      ],
      "text/plain": [
       "<rich.jupyter.JupyterRenderable at 0x7efec4383dd8>"
      ]
     },
     "metadata": {},
     "output_type": "display_data"
    },
    {
     "data": {
      "text/html": [
       "<pre style=\"white-space:pre;overflow-x:auto;line-height:normal;font-family:Menlo,'DejaVu Sans Mono',consolas,'Courier New',monospace\"><span style=\"color: #7fbfbf\">           </span><span style=\"color: #000080\">INFO</span>     Settings <span style=\"color: #800000\">🡆</span> <span style=\"font-weight: bold\">{}</span>                                                                                                                    <a href=\"file:///home/pfoley1/fl_venv/lib/python3.6/site-packages/fledge/federated/plan/plan.py\"><span style=\"color: #7f7f7f\">plan.py</span></a><span style=\"color: #7f7f7f\">:150</span>\n",
       "</pre>\n"
      ],
      "text/plain": [
       "<rich.jupyter.JupyterRenderable at 0x7f010c0c7400>"
      ]
     },
     "metadata": {},
     "output_type": "display_data"
    },
    {
     "data": {
      "text/html": [
       "<pre style=\"white-space:pre;overflow-x:auto;line-height:normal;font-family:Menlo,'DejaVu Sans Mono',consolas,'Courier New',monospace\"><span style=\"color: #7fbfbf\">           </span><span style=\"color: #000080\">INFO</span>     Override <span style=\"color: #800000\">🡆</span> <span style=\"font-weight: bold\">{}</span>                                                                                                                    <a href=\"file:///home/pfoley1/fl_venv/lib/python3.6/site-packages/fledge/federated/plan/plan.py\"><span style=\"color: #7f7f7f\">plan.py</span></a><span style=\"color: #7f7f7f\">:151</span>\n",
       "</pre>\n"
      ],
      "text/plain": [
       "<rich.jupyter.JupyterRenderable at 0x7efec4383a20>"
      ]
     },
     "metadata": {},
     "output_type": "display_data"
    },
    {
     "data": {
      "text/html": [
       "<pre style=\"white-space:pre;overflow-x:auto;line-height:normal;font-family:Menlo,'DejaVu Sans Mono',consolas,'Courier New',monospace\"><span style=\"color: #7fbfbf\">           </span><span style=\"color: #000080\">INFO</span>     Creating Initial Weights File    🠆 save/model_init.pbuf                                                                        <a href=\"file:///home/pfoley1/fl_venv/lib/python3.6/site-packages/fledge/native/native.py\"><span style=\"color: #7f7f7f\">native.py</span></a><span style=\"color: #7f7f7f\">:134</span>\n",
       "</pre>\n"
      ],
      "text/plain": [
       "<rich.jupyter.JupyterRenderable at 0x7f010c0cd518>"
      ]
     },
     "metadata": {},
     "output_type": "display_data"
    },
    {
     "data": {
      "text/html": [
       "<pre style=\"white-space:pre;overflow-x:auto;line-height:normal;font-family:Menlo,'DejaVu Sans Mono',consolas,'Courier New',monospace\"><span style=\"color: #7fbfbf\">           </span><span style=\"color: #000080\">INFO</span>     Starting Experiment...                                                                                                         <a href=\"file:///home/pfoley1/fl_venv/lib/python3.6/site-packages/fledge/native/native.py\"><span style=\"color: #7f7f7f\">native.py</span></a><span style=\"color: #7f7f7f\">:138</span>\n",
       "</pre>\n"
      ],
      "text/plain": [
       "<rich.jupyter.JupyterRenderable at 0x7efec43837b8>"
      ]
     },
     "metadata": {},
     "output_type": "display_data"
    },
    {
     "data": {
      "text/html": [
       "<pre style=\"white-space:pre;overflow-x:auto;line-height:normal;font-family:Menlo,'DejaVu Sans Mono',consolas,'Courier New',monospace\"><span style=\"color: #7fbfbf\">           </span><span style=\"color: #000080\">INFO</span>     Building <span style=\"color: #800000\">🡆</span> Object <span style=\"color: #800000\">RandomGroupedAssigner</span> from <span style=\"color: #800000\">fledge.component</span> Module.                                                            <a href=\"file:///home/pfoley1/fl_venv/lib/python3.6/site-packages/fledge/federated/plan/plan.py\"><span style=\"color: #7f7f7f\">plan.py</span></a><span style=\"color: #7f7f7f\">:149</span>\n",
       "</pre>\n"
      ],
      "text/plain": [
       "<rich.jupyter.JupyterRenderable at 0x7f010c0cd518>"
      ]
     },
     "metadata": {},
     "output_type": "display_data"
    },
    {
     "data": {
      "text/html": [
       "<pre style=\"white-space:pre;overflow-x:auto;line-height:normal;font-family:Menlo,'DejaVu Sans Mono',consolas,'Courier New',monospace\"><span style=\"color: #7fbfbf\">           </span><span style=\"color: #000080\">INFO</span>     Settings <span style=\"color: #800000\">🡆</span> <span style=\"font-weight: bold\">{</span><span style=\"color: #008000\">'task_groups'</span>: <span style=\"font-weight: bold\">[{</span><span style=\"color: #008000\">'name'</span>: <span style=\"color: #008000\">'train_and_validate'</span>, <span style=\"color: #008000\">'percentage'</span>: <span style=\"color: #000080; font-weight: bold\">1.0</span>, <span style=\"color: #008000\">'tasks'</span>: <span style=\"font-weight: bold\">[</span><span style=\"color: #008000\">'aggregated_model_validation'</span>, <span style=\"color: #008000\">'train'</span>,  <a href=\"file:///home/pfoley1/fl_venv/lib/python3.6/site-packages/fledge/federated/plan/plan.py\"><span style=\"color: #7f7f7f\">plan.py</span></a><span style=\"color: #7f7f7f\">:150</span>\n",
       "                    <span style=\"color: #008000\">'locally_tuned_model_validation'</span><span style=\"font-weight: bold\">]}]</span>, <span style=\"color: #008000\">'authorized_cols'</span>: <span style=\"font-weight: bold\">[</span><span style=\"color: #008000\">'one'</span>, <span style=\"color: #008000\">'two'</span><span style=\"font-weight: bold\">]</span>, <span style=\"color: #008000\">'rounds_to_train'</span>: <span style=\"color: #000080; font-weight: bold\">10</span><span style=\"font-weight: bold\">}</span>                                              \n",
       "</pre>\n"
      ],
      "text/plain": [
       "<rich.jupyter.JupyterRenderable at 0x7efec4383ef0>"
      ]
     },
     "metadata": {},
     "output_type": "display_data"
    },
    {
     "data": {
      "text/html": [
       "<pre style=\"white-space:pre;overflow-x:auto;line-height:normal;font-family:Menlo,'DejaVu Sans Mono',consolas,'Courier New',monospace\"><span style=\"color: #7fbfbf\">           </span><span style=\"color: #000080\">INFO</span>     Override <span style=\"color: #800000\">🡆</span> <span style=\"font-weight: bold\">{</span><span style=\"color: #008000\">'defaults'</span>: <span style=\"color: #008000\">'plan/defaults/assigner.yaml'</span><span style=\"font-weight: bold\">}</span>                                                                           <a href=\"file:///home/pfoley1/fl_venv/lib/python3.6/site-packages/fledge/federated/plan/plan.py\"><span style=\"color: #7f7f7f\">plan.py</span></a><span style=\"color: #7f7f7f\">:151</span>\n",
       "</pre>\n"
      ],
      "text/plain": [
       "<rich.jupyter.JupyterRenderable at 0x7f010c0cd518>"
      ]
     },
     "metadata": {},
     "output_type": "display_data"
    },
    {
     "data": {
      "text/html": [
       "<pre style=\"white-space:pre;overflow-x:auto;line-height:normal;font-family:Menlo,'DejaVu Sans Mono',consolas,'Courier New',monospace\"><span style=\"color: #7fbfbf\">           </span><span style=\"color: #000080\">INFO</span>     Building <span style=\"color: #800000\">🡆</span> Object <span style=\"color: #800000\">Aggregator</span> from <span style=\"color: #800000\">fledge.component</span> Module.                                                                       <a href=\"file:///home/pfoley1/fl_venv/lib/python3.6/site-packages/fledge/federated/plan/plan.py\"><span style=\"color: #7f7f7f\">plan.py</span></a><span style=\"color: #7f7f7f\">:149</span>\n",
       "</pre>\n"
      ],
      "text/plain": [
       "<rich.jupyter.JupyterRenderable at 0x7efec4383e80>"
      ]
     },
     "metadata": {},
     "output_type": "display_data"
    },
    {
     "data": {
      "text/html": [
       "<pre style=\"white-space:pre;overflow-x:auto;line-height:normal;font-family:Menlo,'DejaVu Sans Mono',consolas,'Courier New',monospace\"><span style=\"color: #7fbfbf\">           </span><span style=\"color: #000080\">INFO</span>     Settings <span style=\"color: #800000\">🡆</span> <span style=\"font-weight: bold\">{</span><span style=\"color: #008000\">'init_state_path'</span>: <span style=\"color: #008000\">'save/model_init.pbuf'</span>, <span style=\"color: #008000\">'best_state_path'</span>: <span style=\"color: #008000\">'save/model_best.pbuf'</span>, <span style=\"color: #008000\">'last_state_path'</span>:             <a href=\"file:///home/pfoley1/fl_venv/lib/python3.6/site-packages/fledge/federated/plan/plan.py\"><span style=\"color: #7f7f7f\">plan.py</span></a><span style=\"color: #7f7f7f\">:150</span>\n",
       "                    <span style=\"color: #008000\">'save/model_last.pbuf'</span>, <span style=\"color: #008000\">'rounds_to_train'</span>: <span style=\"color: #000080; font-weight: bold\">10</span>, <span style=\"color: #008000\">'aggregator_uuid'</span>: <span style=\"color: #008000\">'aggregator_plan.yaml_27b072bf'</span>, <span style=\"color: #008000\">'federation_uuid'</span>:                       \n",
       "                    <span style=\"color: #008000\">'plan.yaml_27b072bf'</span>, <span style=\"color: #008000\">'authorized_cols'</span>: <span style=\"font-weight: bold\">[</span><span style=\"color: #008000\">'one'</span>, <span style=\"color: #008000\">'two'</span><span style=\"font-weight: bold\">]</span>, <span style=\"color: #008000\">'assigner'</span>:                                                                        \n",
       "                    <span style=\"font-weight: bold\">&lt;</span><span style=\"color: #ff00ff; font-weight: bold\">fledge.component.assigner.random_grouped_assigner.RandomGroupedAssigner</span><span style=\"color: #000000\"> object at </span><span style=\"color: #000080; font-weight: bold\">0x7f010c0c7400</span><span style=\"font-weight: bold\">&gt;}</span>                                         \n",
       "</pre>\n"
      ],
      "text/plain": [
       "<rich.jupyter.JupyterRenderable at 0x7f010c0cd518>"
      ]
     },
     "metadata": {},
     "output_type": "display_data"
    },
    {
     "data": {
      "text/html": [
       "<pre style=\"white-space:pre;overflow-x:auto;line-height:normal;font-family:Menlo,'DejaVu Sans Mono',consolas,'Courier New',monospace\"><span style=\"color: #7fbfbf\">           </span><span style=\"color: #000080\">INFO</span>     Override <span style=\"color: #800000\">🡆</span> <span style=\"font-weight: bold\">{</span><span style=\"color: #008000\">'defaults'</span>: <span style=\"color: #008000\">'plan/defaults/aggregator.yaml'</span><span style=\"font-weight: bold\">}</span>                                                                         <a href=\"file:///home/pfoley1/fl_venv/lib/python3.6/site-packages/fledge/federated/plan/plan.py\"><span style=\"color: #7f7f7f\">plan.py</span></a><span style=\"color: #7f7f7f\">:151</span>\n",
       "</pre>\n"
      ],
      "text/plain": [
       "<rich.jupyter.JupyterRenderable at 0x7efec4383ef0>"
      ]
     },
     "metadata": {},
     "output_type": "display_data"
    },
    {
     "data": {
      "text/html": [
       "<pre style=\"white-space:pre;overflow-x:auto;line-height:normal;font-family:Menlo,'DejaVu Sans Mono',consolas,'Courier New',monospace\"><span style=\"color: #7fbfbf\">           </span><span style=\"color: #000080\">INFO</span>     Building <span style=\"color: #800000\">🡆</span> Object <span style=\"color: #800000\">Collaborator</span> from <span style=\"color: #800000\">fledge.component</span> Module.                                                                     <a href=\"file:///home/pfoley1/fl_venv/lib/python3.6/site-packages/fledge/federated/plan/plan.py\"><span style=\"color: #7f7f7f\">plan.py</span></a><span style=\"color: #7f7f7f\">:149</span>\n",
       "</pre>\n"
      ],
      "text/plain": [
       "<rich.jupyter.JupyterRenderable at 0x7efec4397438>"
      ]
     },
     "metadata": {},
     "output_type": "display_data"
    },
    {
     "data": {
      "text/html": [
       "<pre style=\"white-space:pre;overflow-x:auto;line-height:normal;font-family:Menlo,'DejaVu Sans Mono',consolas,'Courier New',monospace\"><span style=\"color: #7fbfbf\">           </span><span style=\"color: #000080\">INFO</span>     Settings <span style=\"color: #800000\">🡆</span> <span style=\"font-weight: bold\">{</span><span style=\"color: #008000\">'opt_treatment'</span>: <span style=\"color: #008000\">'RESET'</span>, <span style=\"color: #008000\">'delta_updates'</span>: <span style=\"color: #ff0000; font-style: italic\">False</span>, <span style=\"color: #008000\">'epochs_per_round'</span>: <span style=\"color: #000080; font-weight: bold\">1.0</span>, <span style=\"color: #008000\">'polling_interval'</span>: <span style=\"color: #000080; font-weight: bold\">4</span>,                    <a href=\"file:///home/pfoley1/fl_venv/lib/python3.6/site-packages/fledge/federated/plan/plan.py\"><span style=\"color: #7f7f7f\">plan.py</span></a><span style=\"color: #7f7f7f\">:150</span>\n",
       "                    <span style=\"color: #008000\">'collaborator_name'</span>: <span style=\"color: #008000\">'one'</span>, <span style=\"color: #008000\">'aggregator_uuid'</span>: <span style=\"color: #008000\">'aggregator_plan.yaml_27b072bf'</span>, <span style=\"color: #008000\">'federation_uuid'</span>: <span style=\"color: #008000\">'plan.yaml_27b072bf'</span>,                    \n",
       "                    <span style=\"color: #008000\">'task_runner'</span>: <span style=\"font-weight: bold\">&lt;</span><span style=\"color: #ff00ff; font-weight: bold\">fledge.federated.task.fl_model.FederatedModel</span><span style=\"color: #000000\"> object at </span><span style=\"color: #000080; font-weight: bold\">0x7efee4139c50</span><span style=\"font-weight: bold\">&gt;</span>, <span style=\"color: #008000\">'tensor_pipe'</span>:                                     \n",
       "                    <span style=\"font-weight: bold\">&lt;</span><span style=\"color: #ff00ff; font-weight: bold\">fledge.pipelines.no_compression_pipeline.NoCompressionPipeline</span><span style=\"color: #000000\"> object at </span><span style=\"color: #000080; font-weight: bold\">0x7eff005160b8</span><span style=\"font-weight: bold\">&gt;</span>, <span style=\"color: #008000\">'task_config'</span>:                                   \n",
       "                    <span style=\"font-weight: bold\">{</span><span style=\"color: #008000\">'aggregated_model_validation'</span>: <span style=\"font-weight: bold\">{</span><span style=\"color: #008000\">'function'</span>: <span style=\"color: #008000\">'validate'</span>, <span style=\"color: #008000\">'kwargs'</span>: <span style=\"font-weight: bold\">{</span><span style=\"color: #008000\">'batch_size'</span>: <span style=\"color: #000080; font-weight: bold\">32</span>, <span style=\"color: #008000\">'apply'</span>: <span style=\"color: #008000\">'global'</span>, <span style=\"color: #008000\">'metrics'</span>: <span style=\"font-weight: bold\">[</span><span style=\"color: #008000\">'acc'</span><span style=\"font-weight: bold\">]}}</span>,              \n",
       "                    <span style=\"color: #008000\">'locally_tuned_model_validation'</span>: <span style=\"font-weight: bold\">{</span><span style=\"color: #008000\">'function'</span>: <span style=\"color: #008000\">'validate'</span>, <span style=\"color: #008000\">'kwargs'</span>: <span style=\"font-weight: bold\">{</span><span style=\"color: #008000\">'batch_size'</span>: <span style=\"color: #000080; font-weight: bold\">32</span>, <span style=\"color: #008000\">'apply'</span>: <span style=\"color: #008000\">'local'</span>, <span style=\"color: #008000\">'metrics'</span>: <span style=\"font-weight: bold\">[</span><span style=\"color: #008000\">'acc'</span><span style=\"font-weight: bold\">]}}</span>,             \n",
       "                    <span style=\"color: #008000\">'train'</span>: <span style=\"font-weight: bold\">{</span><span style=\"color: #008000\">'function'</span>: <span style=\"color: #008000\">'train'</span>, <span style=\"color: #008000\">'kwargs'</span>: <span style=\"font-weight: bold\">{</span><span style=\"color: #008000\">'batch_size'</span>: <span style=\"color: #000080; font-weight: bold\">32</span>, <span style=\"color: #008000\">'epochs'</span>: <span style=\"color: #000080; font-weight: bold\">1</span>, <span style=\"color: #008000\">'metrics'</span>: <span style=\"font-weight: bold\">[</span><span style=\"color: #008000\">'loss'</span><span style=\"font-weight: bold\">]}}</span>, <span style=\"color: #008000\">'defaults'</span>:                                 \n",
       "                    <span style=\"color: #008000\">'plan/defaults/tasks_keras.yaml'</span>, <span style=\"color: #008000\">'settings'</span>: <span style=\"font-weight: bold\">{}}</span>, <span style=\"color: #008000\">'client'</span>: <span style=\"font-weight: bold\">&lt;</span><span style=\"color: #ff00ff; font-weight: bold\">fledge.component.aggregator.aggregator.Aggregator</span><span style=\"color: #000000\"> object at </span>                  \n",
       "                    <span style=\"color: #000080; font-weight: bold\">0x7efec43e2d68</span><span style=\"font-weight: bold\">&gt;}</span>                                                                                                                            \n",
       "</pre>\n"
      ],
      "text/plain": [
       "<rich.jupyter.JupyterRenderable at 0x7efec43977f0>"
      ]
     },
     "metadata": {},
     "output_type": "display_data"
    },
    {
     "data": {
      "text/html": [
       "<pre style=\"white-space:pre;overflow-x:auto;line-height:normal;font-family:Menlo,'DejaVu Sans Mono',consolas,'Courier New',monospace\"><span style=\"color: #7fbfbf\">           </span><span style=\"color: #000080\">INFO</span>     Override <span style=\"color: #800000\">🡆</span> <span style=\"font-weight: bold\">{</span><span style=\"color: #008000\">'defaults'</span>: <span style=\"color: #008000\">'plan/defaults/collaborator.yaml'</span><span style=\"font-weight: bold\">}</span>                                                                       <a href=\"file:///home/pfoley1/fl_venv/lib/python3.6/site-packages/fledge/federated/plan/plan.py\"><span style=\"color: #7f7f7f\">plan.py</span></a><span style=\"color: #7f7f7f\">:151</span>\n",
       "</pre>\n"
      ],
      "text/plain": [
       "<rich.jupyter.JupyterRenderable at 0x7efee407e320>"
      ]
     },
     "metadata": {},
     "output_type": "display_data"
    },
    {
     "data": {
      "text/html": [
       "<pre style=\"white-space:pre;overflow-x:auto;line-height:normal;font-family:Menlo,'DejaVu Sans Mono',consolas,'Courier New',monospace\"><span style=\"color: #7fbfbf\">           </span><span style=\"color: #000080\">INFO</span>     Building <span style=\"color: #800000\">🡆</span> Object <span style=\"color: #800000\">Collaborator</span> from <span style=\"color: #800000\">fledge.component</span> Module.                                                                     <a href=\"file:///home/pfoley1/fl_venv/lib/python3.6/site-packages/fledge/federated/plan/plan.py\"><span style=\"color: #7f7f7f\">plan.py</span></a><span style=\"color: #7f7f7f\">:149</span>\n",
       "</pre>\n"
      ],
      "text/plain": [
       "<rich.jupyter.JupyterRenderable at 0x7efee407e320>"
      ]
     },
     "metadata": {},
     "output_type": "display_data"
    },
    {
     "data": {
      "text/html": [
       "<pre style=\"white-space:pre;overflow-x:auto;line-height:normal;font-family:Menlo,'DejaVu Sans Mono',consolas,'Courier New',monospace\"><span style=\"color: #7fbfbf\">           </span><span style=\"color: #000080\">INFO</span>     Settings <span style=\"color: #800000\">🡆</span> <span style=\"font-weight: bold\">{</span><span style=\"color: #008000\">'opt_treatment'</span>: <span style=\"color: #008000\">'RESET'</span>, <span style=\"color: #008000\">'delta_updates'</span>: <span style=\"color: #ff0000; font-style: italic\">False</span>, <span style=\"color: #008000\">'epochs_per_round'</span>: <span style=\"color: #000080; font-weight: bold\">1.0</span>, <span style=\"color: #008000\">'polling_interval'</span>: <span style=\"color: #000080; font-weight: bold\">4</span>,                    <a href=\"file:///home/pfoley1/fl_venv/lib/python3.6/site-packages/fledge/federated/plan/plan.py\"><span style=\"color: #7f7f7f\">plan.py</span></a><span style=\"color: #7f7f7f\">:150</span>\n",
       "                    <span style=\"color: #008000\">'collaborator_name'</span>: <span style=\"color: #008000\">'two'</span>, <span style=\"color: #008000\">'aggregator_uuid'</span>: <span style=\"color: #008000\">'aggregator_plan.yaml_27b072bf'</span>, <span style=\"color: #008000\">'federation_uuid'</span>: <span style=\"color: #008000\">'plan.yaml_27b072bf'</span>,                    \n",
       "                    <span style=\"color: #008000\">'task_runner'</span>: <span style=\"font-weight: bold\">&lt;</span><span style=\"color: #ff00ff; font-weight: bold\">fledge.federated.task.fl_model.FederatedModel</span><span style=\"color: #000000\"> object at </span><span style=\"color: #000080; font-weight: bold\">0x7efee4139c50</span><span style=\"font-weight: bold\">&gt;</span>, <span style=\"color: #008000\">'tensor_pipe'</span>:                                     \n",
       "                    <span style=\"font-weight: bold\">&lt;</span><span style=\"color: #ff00ff; font-weight: bold\">fledge.pipelines.no_compression_pipeline.NoCompressionPipeline</span><span style=\"color: #000000\"> object at </span><span style=\"color: #000080; font-weight: bold\">0x7eff005160b8</span><span style=\"font-weight: bold\">&gt;</span>, <span style=\"color: #008000\">'task_config'</span>:                                   \n",
       "                    <span style=\"font-weight: bold\">{</span><span style=\"color: #008000\">'aggregated_model_validation'</span>: <span style=\"font-weight: bold\">{</span><span style=\"color: #008000\">'function'</span>: <span style=\"color: #008000\">'validate'</span>, <span style=\"color: #008000\">'kwargs'</span>: <span style=\"font-weight: bold\">{</span><span style=\"color: #008000\">'batch_size'</span>: <span style=\"color: #000080; font-weight: bold\">32</span>, <span style=\"color: #008000\">'apply'</span>: <span style=\"color: #008000\">'global'</span>, <span style=\"color: #008000\">'metrics'</span>: <span style=\"font-weight: bold\">[</span><span style=\"color: #008000\">'acc'</span><span style=\"font-weight: bold\">]}}</span>,              \n",
       "                    <span style=\"color: #008000\">'locally_tuned_model_validation'</span>: <span style=\"font-weight: bold\">{</span><span style=\"color: #008000\">'function'</span>: <span style=\"color: #008000\">'validate'</span>, <span style=\"color: #008000\">'kwargs'</span>: <span style=\"font-weight: bold\">{</span><span style=\"color: #008000\">'batch_size'</span>: <span style=\"color: #000080; font-weight: bold\">32</span>, <span style=\"color: #008000\">'apply'</span>: <span style=\"color: #008000\">'local'</span>, <span style=\"color: #008000\">'metrics'</span>: <span style=\"font-weight: bold\">[</span><span style=\"color: #008000\">'acc'</span><span style=\"font-weight: bold\">]}}</span>,             \n",
       "                    <span style=\"color: #008000\">'train'</span>: <span style=\"font-weight: bold\">{</span><span style=\"color: #008000\">'function'</span>: <span style=\"color: #008000\">'train'</span>, <span style=\"color: #008000\">'kwargs'</span>: <span style=\"font-weight: bold\">{</span><span style=\"color: #008000\">'batch_size'</span>: <span style=\"color: #000080; font-weight: bold\">32</span>, <span style=\"color: #008000\">'epochs'</span>: <span style=\"color: #000080; font-weight: bold\">1</span>, <span style=\"color: #008000\">'metrics'</span>: <span style=\"font-weight: bold\">[</span><span style=\"color: #008000\">'loss'</span><span style=\"font-weight: bold\">]}}</span>, <span style=\"color: #008000\">'defaults'</span>:                                 \n",
       "                    <span style=\"color: #008000\">'plan/defaults/tasks_keras.yaml'</span>, <span style=\"color: #008000\">'settings'</span>: <span style=\"font-weight: bold\">{}}</span>, <span style=\"color: #008000\">'client'</span>: <span style=\"font-weight: bold\">&lt;</span><span style=\"color: #ff00ff; font-weight: bold\">fledge.component.aggregator.aggregator.Aggregator</span><span style=\"color: #000000\"> object at </span>                  \n",
       "                    <span style=\"color: #000080; font-weight: bold\">0x7efec43e2d68</span><span style=\"font-weight: bold\">&gt;</span>, <span style=\"color: #008000\">'defaults'</span>: <span style=\"color: #008000\">'plan/defaults/collaborator.yaml'</span><span style=\"font-weight: bold\">}</span>                                                                             \n",
       "</pre>\n"
      ],
      "text/plain": [
       "<rich.jupyter.JupyterRenderable at 0x7efee407eb38>"
      ]
     },
     "metadata": {},
     "output_type": "display_data"
    },
    {
     "data": {
      "text/html": [
       "<pre style=\"white-space:pre;overflow-x:auto;line-height:normal;font-family:Menlo,'DejaVu Sans Mono',consolas,'Courier New',monospace\"><span style=\"color: #7fbfbf\">           </span><span style=\"color: #000080\">INFO</span>     Override <span style=\"color: #800000\">🡆</span> <span style=\"font-weight: bold\">{</span><span style=\"color: #008000\">'defaults'</span>: <span style=\"color: #008000\">'plan/defaults/collaborator.yaml'</span><span style=\"font-weight: bold\">}</span>                                                                       <a href=\"file:///home/pfoley1/fl_venv/lib/python3.6/site-packages/fledge/federated/plan/plan.py\"><span style=\"color: #7f7f7f\">plan.py</span></a><span style=\"color: #7f7f7f\">:151</span>\n",
       "</pre>\n"
      ],
      "text/plain": [
       "<rich.jupyter.JupyterRenderable at 0x7efee407ef28>"
      ]
     },
     "metadata": {},
     "output_type": "display_data"
    },
    {
     "data": {
      "text/html": [
       "<pre style=\"white-space:pre;overflow-x:auto;line-height:normal;font-family:Menlo,'DejaVu Sans Mono',consolas,'Courier New',monospace\"><span style=\"color: #7fbfbf\">           </span><span style=\"color: #000080\">INFO</span>     Collaborator one Waiting for tasks...                                                                                    <a href=\"file:///home/pfoley1/fl_venv/lib/python3.6/site-packages/fledge/component/collaborator/collaborator.py\"><span style=\"color: #7f7f7f\">collaborator.py</span></a><span style=\"color: #7f7f7f\">:163</span>\n",
       "</pre>\n"
      ],
      "text/plain": [
       "<rich.jupyter.JupyterRenderable at 0x7efee407e320>"
      ]
     },
     "metadata": {},
     "output_type": "display_data"
    },
    {
     "data": {
      "text/html": [
       "<pre style=\"white-space:pre;overflow-x:auto;line-height:normal;font-family:Menlo,'DejaVu Sans Mono',consolas,'Courier New',monospace\"><span style=\"color: #7fbfbf\">           </span><span style=\"color: #000080\">INFO</span>     Aggregator GetTasks function reached from collaborator one...                                                              <a href=\"file:///home/pfoley1/fl_venv/lib/python3.6/site-packages/fledge/component/aggregator/aggregator.py\"><span style=\"color: #7f7f7f\">aggregator.py</span></a><span style=\"color: #7f7f7f\">:215</span>\n",
       "</pre>\n"
      ],
      "text/plain": [
       "<rich.jupyter.JupyterRenderable at 0x7efee407e320>"
      ]
     },
     "metadata": {},
     "output_type": "display_data"
    },
    {
     "data": {
      "text/html": [
       "<pre style=\"white-space:pre;overflow-x:auto;line-height:normal;font-family:Menlo,'DejaVu Sans Mono',consolas,'Courier New',monospace\"><span style=\"color: #7fbfbf\">           </span><span style=\"color: #000080\">INFO</span>     Sending tasks to collaborator one for round <span style=\"color: #000080; font-weight: bold\">0</span>                                                                              <a href=\"file:///home/pfoley1/fl_venv/lib/python3.6/site-packages/fledge/component/aggregator/aggregator.py\"><span style=\"color: #7f7f7f\">aggregator.py</span></a><span style=\"color: #7f7f7f\">:249</span>\n",
       "</pre>\n"
      ],
      "text/plain": [
       "<rich.jupyter.JupyterRenderable at 0x7efee407e320>"
      ]
     },
     "metadata": {},
     "output_type": "display_data"
    },
    {
     "data": {
      "text/html": [
       "<pre style=\"white-space:pre;overflow-x:auto;line-height:normal;font-family:Menlo,'DejaVu Sans Mono',consolas,'Courier New',monospace\"><span style=\"color: #7fbfbf\">           </span><span style=\"color: #000080\">INFO</span>     Received the following tasks: <span style=\"font-weight: bold\">[</span><span style=\"color: #008000\">'aggregated_model_validation'</span>, <span style=\"color: #008000\">'train'</span>, <span style=\"color: #008000\">'locally_tuned_model_validation'</span><span style=\"font-weight: bold\">]</span>                 <a href=\"file:///home/pfoley1/fl_venv/lib/python3.6/site-packages/fledge/component/collaborator/collaborator.py\"><span style=\"color: #7f7f7f\">collaborator.py</span></a><span style=\"color: #7f7f7f\">:155</span>\n",
       "</pre>\n"
      ],
      "text/plain": [
       "<rich.jupyter.JupyterRenderable at 0x7efee407ef28>"
      ]
     },
     "metadata": {},
     "output_type": "display_data"
    },
    {
     "data": {
      "text/html": [
       "<pre style=\"white-space:pre;overflow-x:auto;line-height:normal;font-family:Menlo,'DejaVu Sans Mono',consolas,'Courier New',monospace\"><span style=\"color: #7fbfbf\">           </span><span style=\"color: #000080\">INFO</span>     Sending metric for task aggregated_model_validation, round number <span style=\"color: #000080; font-weight: bold\">0</span>: acc        <span style=\"color: #000080; font-weight: bold\">0.1477999985218048</span>                       <a href=\"file:///home/pfoley1/fl_venv/lib/python3.6/site-packages/fledge/component/collaborator/collaborator.py\"><span style=\"color: #7f7f7f\">collaborator.py</span></a><span style=\"color: #7f7f7f\">:319</span>\n",
       "</pre>\n"
      ],
      "text/plain": [
       "<rich.jupyter.JupyterRenderable at 0x7efec4397358>"
      ]
     },
     "metadata": {},
     "output_type": "display_data"
    },
    {
     "data": {
      "text/html": [
       "<pre style=\"white-space:pre;overflow-x:auto;line-height:normal;font-family:Menlo,'DejaVu Sans Mono',consolas,'Courier New',monospace\"><span style=\"color: #7fbfbf\">           </span><span style=\"color: #000080\">INFO</span>     Collaborator one is sending task results for aggregated_model_validation, round <span style=\"color: #000080; font-weight: bold\">0</span>                                          <a href=\"file:///home/pfoley1/fl_venv/lib/python3.6/site-packages/fledge/component/aggregator/aggregator.py\"><span style=\"color: #7f7f7f\">aggregator.py</span></a><span style=\"color: #7f7f7f\">:369</span>\n",
       "</pre>\n"
      ],
      "text/plain": [
       "<rich.jupyter.JupyterRenderable at 0x7eff00422940>"
      ]
     },
     "metadata": {},
     "output_type": "display_data"
    },
    {
     "data": {
      "text/html": [
       "<pre style=\"white-space:pre;overflow-x:auto;line-height:normal;font-family:Menlo,'DejaVu Sans Mono',consolas,'Courier New',monospace\"><span style=\"color: #7fbfbf\">[10:16:31] </span><span style=\"color: #000080\">INFO</span>     Sending metric for task train, round number <span style=\"color: #000080; font-weight: bold\">0</span>: loss     <span style=\"color: #000080; font-weight: bold\">0.4706674101829529</span>                                               <a href=\"file:///home/pfoley1/fl_venv/lib/python3.6/site-packages/fledge/component/collaborator/collaborator.py\"><span style=\"color: #7f7f7f\">collaborator.py</span></a><span style=\"color: #7f7f7f\">:319</span>\n",
       "</pre>\n"
      ],
      "text/plain": [
       "<rich.jupyter.JupyterRenderable at 0x7efec42fbfd0>"
      ]
     },
     "metadata": {},
     "output_type": "display_data"
    },
    {
     "data": {
      "text/html": [
       "<pre style=\"white-space:pre;overflow-x:auto;line-height:normal;font-family:Menlo,'DejaVu Sans Mono',consolas,'Courier New',monospace\"><span style=\"color: #7fbfbf\">           </span><span style=\"color: #000080\">INFO</span>     Collaborator one is sending task results for train, round <span style=\"color: #000080; font-weight: bold\">0</span>                                                                <a href=\"file:///home/pfoley1/fl_venv/lib/python3.6/site-packages/fledge/component/aggregator/aggregator.py\"><span style=\"color: #7f7f7f\">aggregator.py</span></a><span style=\"color: #7f7f7f\">:369</span>\n",
       "</pre>\n"
      ],
      "text/plain": [
       "<rich.jupyter.JupyterRenderable at 0x7efec4397898>"
      ]
     },
     "metadata": {},
     "output_type": "display_data"
    },
    {
     "data": {
      "text/html": [
       "<pre style=\"white-space:pre;overflow-x:auto;line-height:normal;font-family:Menlo,'DejaVu Sans Mono',consolas,'Courier New',monospace\"><span style=\"color: #7fbfbf\">           </span><span style=\"color: #000080\">INFO</span>     Sending metric for task locally_tuned_model_validation, round number <span style=\"color: #000080; font-weight: bold\">0</span>: acc     <span style=\"color: #000080; font-weight: bold\">0.9146000146865845</span>                       <a href=\"file:///home/pfoley1/fl_venv/lib/python3.6/site-packages/fledge/component/collaborator/collaborator.py\"><span style=\"color: #7f7f7f\">collaborator.py</span></a><span style=\"color: #7f7f7f\">:319</span>\n",
       "</pre>\n"
      ],
      "text/plain": [
       "<rich.jupyter.JupyterRenderable at 0x7efec4319f28>"
      ]
     },
     "metadata": {},
     "output_type": "display_data"
    },
    {
     "data": {
      "text/html": [
       "<pre style=\"white-space:pre;overflow-x:auto;line-height:normal;font-family:Menlo,'DejaVu Sans Mono',consolas,'Courier New',monospace\"><span style=\"color: #7fbfbf\">           </span><span style=\"color: #000080\">INFO</span>     Collaborator one is sending task results for locally_tuned_model_validation, round <span style=\"color: #000080; font-weight: bold\">0</span>                                       <a href=\"file:///home/pfoley1/fl_venv/lib/python3.6/site-packages/fledge/component/aggregator/aggregator.py\"><span style=\"color: #7f7f7f\">aggregator.py</span></a><span style=\"color: #7f7f7f\">:369</span>\n",
       "</pre>\n"
      ],
      "text/plain": [
       "<rich.jupyter.JupyterRenderable at 0x7efec4399128>"
      ]
     },
     "metadata": {},
     "output_type": "display_data"
    },
    {
     "data": {
      "text/html": [
       "<pre style=\"white-space:pre;overflow-x:auto;line-height:normal;font-family:Menlo,'DejaVu Sans Mono',consolas,'Courier New',monospace\"><span style=\"color: #7fbfbf\">           </span><span style=\"color: #000080\">INFO</span>     All tasks completed on one for round <span style=\"color: #000080; font-weight: bold\">0</span>...                                                                                <a href=\"file:///home/pfoley1/fl_venv/lib/python3.6/site-packages/fledge/component/collaborator/collaborator.py\"><span style=\"color: #7f7f7f\">collaborator.py</span></a><span style=\"color: #7f7f7f\">:158</span>\n",
       "</pre>\n"
      ],
      "text/plain": [
       "<rich.jupyter.JupyterRenderable at 0x7efec4319d68>"
      ]
     },
     "metadata": {},
     "output_type": "display_data"
    },
    {
     "data": {
      "text/html": [
       "<pre style=\"white-space:pre;overflow-x:auto;line-height:normal;font-family:Menlo,'DejaVu Sans Mono',consolas,'Courier New',monospace\"><span style=\"color: #7fbfbf\">           </span><span style=\"color: #000080\">INFO</span>     Collaborator two Waiting for tasks...                                                                                    <a href=\"file:///home/pfoley1/fl_venv/lib/python3.6/site-packages/fledge/component/collaborator/collaborator.py\"><span style=\"color: #7f7f7f\">collaborator.py</span></a><span style=\"color: #7f7f7f\">:163</span>\n",
       "</pre>\n"
      ],
      "text/plain": [
       "<rich.jupyter.JupyterRenderable at 0x7efec4383e80>"
      ]
     },
     "metadata": {},
     "output_type": "display_data"
    },
    {
     "data": {
      "text/html": [
       "<pre style=\"white-space:pre;overflow-x:auto;line-height:normal;font-family:Menlo,'DejaVu Sans Mono',consolas,'Courier New',monospace\"><span style=\"color: #7fbfbf\">           </span><span style=\"color: #000080\">INFO</span>     Aggregator GetTasks function reached from collaborator two...                                                              <a href=\"file:///home/pfoley1/fl_venv/lib/python3.6/site-packages/fledge/component/aggregator/aggregator.py\"><span style=\"color: #7f7f7f\">aggregator.py</span></a><span style=\"color: #7f7f7f\">:215</span>\n",
       "</pre>\n"
      ],
      "text/plain": [
       "<rich.jupyter.JupyterRenderable at 0x7efec4399128>"
      ]
     },
     "metadata": {},
     "output_type": "display_data"
    },
    {
     "data": {
      "text/html": [
       "<pre style=\"white-space:pre;overflow-x:auto;line-height:normal;font-family:Menlo,'DejaVu Sans Mono',consolas,'Courier New',monospace\"><span style=\"color: #7fbfbf\">           </span><span style=\"color: #000080\">INFO</span>     Sending tasks to collaborator two for round <span style=\"color: #000080; font-weight: bold\">0</span>                                                                              <a href=\"file:///home/pfoley1/fl_venv/lib/python3.6/site-packages/fledge/component/aggregator/aggregator.py\"><span style=\"color: #7f7f7f\">aggregator.py</span></a><span style=\"color: #7f7f7f\">:249</span>\n",
       "</pre>\n"
      ],
      "text/plain": [
       "<rich.jupyter.JupyterRenderable at 0x7efec43992e8>"
      ]
     },
     "metadata": {},
     "output_type": "display_data"
    },
    {
     "data": {
      "text/html": [
       "<pre style=\"white-space:pre;overflow-x:auto;line-height:normal;font-family:Menlo,'DejaVu Sans Mono',consolas,'Courier New',monospace\"><span style=\"color: #7fbfbf\">           </span><span style=\"color: #000080\">INFO</span>     Received the following tasks: <span style=\"font-weight: bold\">[</span><span style=\"color: #008000\">'aggregated_model_validation'</span>, <span style=\"color: #008000\">'train'</span>, <span style=\"color: #008000\">'locally_tuned_model_validation'</span><span style=\"font-weight: bold\">]</span>                 <a href=\"file:///home/pfoley1/fl_venv/lib/python3.6/site-packages/fledge/component/collaborator/collaborator.py\"><span style=\"color: #7f7f7f\">collaborator.py</span></a><span style=\"color: #7f7f7f\">:155</span>\n",
       "</pre>\n"
      ],
      "text/plain": [
       "<rich.jupyter.JupyterRenderable at 0x7efec4383e80>"
      ]
     },
     "metadata": {},
     "output_type": "display_data"
    },
    {
     "data": {
      "text/html": [
       "<pre style=\"white-space:pre;overflow-x:auto;line-height:normal;font-family:Menlo,'DejaVu Sans Mono',consolas,'Courier New',monospace\"><span style=\"color: #7fbfbf\">[10:16:32] </span><span style=\"color: #000080\">INFO</span>     Sending metric for task aggregated_model_validation, round number <span style=\"color: #000080; font-weight: bold\">0</span>: acc        <span style=\"color: #000080; font-weight: bold\">0.1477999985218048</span>                       <a href=\"file:///home/pfoley1/fl_venv/lib/python3.6/site-packages/fledge/component/collaborator/collaborator.py\"><span style=\"color: #7f7f7f\">collaborator.py</span></a><span style=\"color: #7f7f7f\">:319</span>\n",
       "</pre>\n"
      ],
      "text/plain": [
       "<rich.jupyter.JupyterRenderable at 0x7efec431cac8>"
      ]
     },
     "metadata": {},
     "output_type": "display_data"
    },
    {
     "data": {
      "text/html": [
       "<pre style=\"white-space:pre;overflow-x:auto;line-height:normal;font-family:Menlo,'DejaVu Sans Mono',consolas,'Courier New',monospace\"><span style=\"color: #7fbfbf\">           </span><span style=\"color: #000080\">INFO</span>     Collaborator two is sending task results for aggregated_model_validation, round <span style=\"color: #000080; font-weight: bold\">0</span>                                          <a href=\"file:///home/pfoley1/fl_venv/lib/python3.6/site-packages/fledge/component/aggregator/aggregator.py\"><span style=\"color: #7f7f7f\">aggregator.py</span></a><span style=\"color: #7f7f7f\">:369</span>\n",
       "</pre>\n"
      ],
      "text/plain": [
       "<rich.jupyter.JupyterRenderable at 0x7efec431cda0>"
      ]
     },
     "metadata": {},
     "output_type": "display_data"
    },
    {
     "data": {
      "text/html": [
       "<pre style=\"white-space:pre;overflow-x:auto;line-height:normal;font-family:Menlo,'DejaVu Sans Mono',consolas,'Courier New',monospace\"><span style=\"color: #7fbfbf\">[10:16:34] </span><span style=\"color: #000080\">INFO</span>     Sending metric for task train, round number <span style=\"color: #000080; font-weight: bold\">0</span>: loss     <span style=\"color: #000080; font-weight: bold\">0.4580555865089099</span>                                               <a href=\"file:///home/pfoley1/fl_venv/lib/python3.6/site-packages/fledge/component/collaborator/collaborator.py\"><span style=\"color: #7f7f7f\">collaborator.py</span></a><span style=\"color: #7f7f7f\">:319</span>\n",
       "</pre>\n"
      ],
      "text/plain": [
       "<rich.jupyter.JupyterRenderable at 0x7efec431c0b8>"
      ]
     },
     "metadata": {},
     "output_type": "display_data"
    },
    {
     "data": {
      "text/html": [
       "<pre style=\"white-space:pre;overflow-x:auto;line-height:normal;font-family:Menlo,'DejaVu Sans Mono',consolas,'Courier New',monospace\"><span style=\"color: #7fbfbf\">           </span><span style=\"color: #000080\">INFO</span>     Collaborator two is sending task results for train, round <span style=\"color: #000080; font-weight: bold\">0</span>                                                                <a href=\"file:///home/pfoley1/fl_venv/lib/python3.6/site-packages/fledge/component/aggregator/aggregator.py\"><span style=\"color: #7f7f7f\">aggregator.py</span></a><span style=\"color: #7f7f7f\">:369</span>\n",
       "</pre>\n"
      ],
      "text/plain": [
       "<rich.jupyter.JupyterRenderable at 0x7efec431c9e8>"
      ]
     },
     "metadata": {},
     "output_type": "display_data"
    },
    {
     "data": {
      "text/html": [
       "<pre style=\"white-space:pre;overflow-x:auto;line-height:normal;font-family:Menlo,'DejaVu Sans Mono',consolas,'Courier New',monospace\"><span style=\"color: #7fbfbf\">           </span><span style=\"color: #000080\">INFO</span>     Sending metric for task locally_tuned_model_validation, round number <span style=\"color: #000080; font-weight: bold\">0</span>: acc     <span style=\"color: #000080; font-weight: bold\">0.9128000140190125</span>                       <a href=\"file:///home/pfoley1/fl_venv/lib/python3.6/site-packages/fledge/component/collaborator/collaborator.py\"><span style=\"color: #7f7f7f\">collaborator.py</span></a><span style=\"color: #7f7f7f\">:319</span>\n",
       "</pre>\n"
      ],
      "text/plain": [
       "<rich.jupyter.JupyterRenderable at 0x7efec431cbe0>"
      ]
     },
     "metadata": {},
     "output_type": "display_data"
    },
    {
     "data": {
      "text/html": [
       "<pre style=\"white-space:pre;overflow-x:auto;line-height:normal;font-family:Menlo,'DejaVu Sans Mono',consolas,'Courier New',monospace\"><span style=\"color: #7fbfbf\">           </span><span style=\"color: #000080\">INFO</span>     Collaborator two is sending task results for locally_tuned_model_validation, round <span style=\"color: #000080; font-weight: bold\">0</span>                                       <a href=\"file:///home/pfoley1/fl_venv/lib/python3.6/site-packages/fledge/component/aggregator/aggregator.py\"><span style=\"color: #7f7f7f\">aggregator.py</span></a><span style=\"color: #7f7f7f\">:369</span>\n",
       "</pre>\n"
      ],
      "text/plain": [
       "<rich.jupyter.JupyterRenderable at 0x7efec431cf28>"
      ]
     },
     "metadata": {},
     "output_type": "display_data"
    },
    {
     "data": {
      "text/html": [
       "<pre style=\"white-space:pre;overflow-x:auto;line-height:normal;font-family:Menlo,'DejaVu Sans Mono',consolas,'Courier New',monospace\"><span style=\"color: #7fbfbf\">           </span><span style=\"color: #000080\">INFO</span>     train task metrics...                                                                                                      <a href=\"file:///home/pfoley1/fl_venv/lib/python3.6/site-packages/fledge/component/aggregator/aggregator.py\"><span style=\"color: #7f7f7f\">aggregator.py</span></a><span style=\"color: #7f7f7f\">:505</span>\n",
       "</pre>\n"
      ],
      "text/plain": [
       "<rich.jupyter.JupyterRenderable at 0x7efec4322748>"
      ]
     },
     "metadata": {},
     "output_type": "display_data"
    },
    {
     "data": {
      "text/html": [
       "<pre style=\"white-space:pre;overflow-x:auto;line-height:normal;font-family:Menlo,'DejaVu Sans Mono',consolas,'Courier New',monospace\"><span style=\"color: #7fbfbf\">           </span><span style=\"color: #000080\">INFO</span>     loss:   <span style=\"color: #000080; font-weight: bold\">0.4644</span>                                                                                                             <a href=\"file:///home/pfoley1/fl_venv/lib/python3.6/site-packages/fledge/component/aggregator/aggregator.py\"><span style=\"color: #7f7f7f\">aggregator.py</span></a><span style=\"color: #7f7f7f\">:534</span>\n",
       "</pre>\n"
      ],
      "text/plain": [
       "<rich.jupyter.JupyterRenderable at 0x7efec43223c8>"
      ]
     },
     "metadata": {},
     "output_type": "display_data"
    },
    {
     "data": {
      "text/html": [
       "<pre style=\"white-space:pre;overflow-x:auto;line-height:normal;font-family:Menlo,'DejaVu Sans Mono',consolas,'Courier New',monospace\"><span style=\"color: #7fbfbf\">           </span><span style=\"color: #000080\">INFO</span>     locally_tuned_model_validation task metrics...                                                                             <a href=\"file:///home/pfoley1/fl_venv/lib/python3.6/site-packages/fledge/component/aggregator/aggregator.py\"><span style=\"color: #7f7f7f\">aggregator.py</span></a><span style=\"color: #7f7f7f\">:505</span>\n",
       "</pre>\n"
      ],
      "text/plain": [
       "<rich.jupyter.JupyterRenderable at 0x7efec43220f0>"
      ]
     },
     "metadata": {},
     "output_type": "display_data"
    },
    {
     "data": {
      "text/html": [
       "<pre style=\"white-space:pre;overflow-x:auto;line-height:normal;font-family:Menlo,'DejaVu Sans Mono',consolas,'Courier New',monospace\"><span style=\"color: #7fbfbf\">           </span><span style=\"color: #000080\">INFO</span>     acc:    <span style=\"color: #000080; font-weight: bold\">0.9137</span>                                                                                                             <a href=\"file:///home/pfoley1/fl_venv/lib/python3.6/site-packages/fledge/component/aggregator/aggregator.py\"><span style=\"color: #7f7f7f\">aggregator.py</span></a><span style=\"color: #7f7f7f\">:534</span>\n",
       "</pre>\n"
      ],
      "text/plain": [
       "<rich.jupyter.JupyterRenderable at 0x7efec4322710>"
      ]
     },
     "metadata": {},
     "output_type": "display_data"
    },
    {
     "data": {
      "text/html": [
       "<pre style=\"white-space:pre;overflow-x:auto;line-height:normal;font-family:Menlo,'DejaVu Sans Mono',consolas,'Courier New',monospace\"><span style=\"color: #7fbfbf\">           </span><span style=\"color: #000080\">INFO</span>     aggregated_model_validation task metrics...                                                                                <a href=\"file:///home/pfoley1/fl_venv/lib/python3.6/site-packages/fledge/component/aggregator/aggregator.py\"><span style=\"color: #7f7f7f\">aggregator.py</span></a><span style=\"color: #7f7f7f\">:505</span>\n",
       "</pre>\n"
      ],
      "text/plain": [
       "<rich.jupyter.JupyterRenderable at 0x7efec4322278>"
      ]
     },
     "metadata": {},
     "output_type": "display_data"
    },
    {
     "data": {
      "text/html": [
       "<pre style=\"white-space:pre;overflow-x:auto;line-height:normal;font-family:Menlo,'DejaVu Sans Mono',consolas,'Courier New',monospace\"><span style=\"color: #7fbfbf\">           </span><span style=\"color: #000080\">INFO</span>     acc:    <span style=\"color: #000080; font-weight: bold\">0.1478</span>                                                                                                             <a href=\"file:///home/pfoley1/fl_venv/lib/python3.6/site-packages/fledge/component/aggregator/aggregator.py\"><span style=\"color: #7f7f7f\">aggregator.py</span></a><span style=\"color: #7f7f7f\">:534</span>\n",
       "</pre>\n"
      ],
      "text/plain": [
       "<rich.jupyter.JupyterRenderable at 0x7efec43224e0>"
      ]
     },
     "metadata": {},
     "output_type": "display_data"
    },
    {
     "data": {
      "text/html": [
       "<pre style=\"white-space:pre;overflow-x:auto;line-height:normal;font-family:Menlo,'DejaVu Sans Mono',consolas,'Courier New',monospace\"><span style=\"color: #7fbfbf\">           </span><span style=\"color: #000080\">INFO</span>     Saved the best model with score <span style=\"color: #000080; font-weight: bold\">0.147800</span>                                                                                   <a href=\"file:///home/pfoley1/fl_venv/lib/python3.6/site-packages/fledge/component/aggregator/aggregator.py\"><span style=\"color: #7f7f7f\">aggregator.py</span></a><span style=\"color: #7f7f7f\">:539</span>\n",
       "</pre>\n"
      ],
      "text/plain": [
       "<rich.jupyter.JupyterRenderable at 0x7efec4322518>"
      ]
     },
     "metadata": {},
     "output_type": "display_data"
    },
    {
     "data": {
      "text/html": [
       "<pre style=\"white-space:pre;overflow-x:auto;line-height:normal;font-family:Menlo,'DejaVu Sans Mono',consolas,'Courier New',monospace\"><span style=\"color: #7fbfbf\">           </span><span style=\"color: #000080\">INFO</span>     Saving round <span style=\"color: #000080; font-weight: bold\">1</span> model...                                                                                                    <a href=\"file:///home/pfoley1/fl_venv/lib/python3.6/site-packages/fledge/component/aggregator/aggregator.py\"><span style=\"color: #7f7f7f\">aggregator.py</span></a><span style=\"color: #7f7f7f\">:595</span>\n",
       "</pre>\n"
      ],
      "text/plain": [
       "<rich.jupyter.JupyterRenderable at 0x7efec431cf28>"
      ]
     },
     "metadata": {},
     "output_type": "display_data"
    },
    {
     "data": {
      "text/html": [
       "<pre style=\"white-space:pre;overflow-x:auto;line-height:normal;font-family:Menlo,'DejaVu Sans Mono',consolas,'Courier New',monospace\"><span style=\"color: #7fbfbf\">           </span><span style=\"color: #000080\">INFO</span>     Starting round <span style=\"color: #000080; font-weight: bold\">1</span>...                                                                                                        <a href=\"file:///home/pfoley1/fl_venv/lib/python3.6/site-packages/fledge/component/aggregator/aggregator.py\"><span style=\"color: #7f7f7f\">aggregator.py</span></a><span style=\"color: #7f7f7f\">:603</span>\n",
       "</pre>\n"
      ],
      "text/plain": [
       "<rich.jupyter.JupyterRenderable at 0x7eff00422940>"
      ]
     },
     "metadata": {},
     "output_type": "display_data"
    },
    {
     "data": {
      "text/html": [
       "<pre style=\"white-space:pre;overflow-x:auto;line-height:normal;font-family:Menlo,'DejaVu Sans Mono',consolas,'Courier New',monospace\"><span style=\"color: #7fbfbf\">           </span><span style=\"color: #000080\">INFO</span>     All tasks completed on two for round <span style=\"color: #000080; font-weight: bold\">0</span>...                                                                                <a href=\"file:///home/pfoley1/fl_venv/lib/python3.6/site-packages/fledge/component/collaborator/collaborator.py\"><span style=\"color: #7f7f7f\">collaborator.py</span></a><span style=\"color: #7f7f7f\">:158</span>\n",
       "</pre>\n"
      ],
      "text/plain": [
       "<rich.jupyter.JupyterRenderable at 0x7efec43992e8>"
      ]
     },
     "metadata": {},
     "output_type": "display_data"
    },
    {
     "data": {
      "text/html": [
       "<pre style=\"white-space:pre;overflow-x:auto;line-height:normal;font-family:Menlo,'DejaVu Sans Mono',consolas,'Courier New',monospace\"><span style=\"color: #7fbfbf\">           </span><span style=\"color: #000080\">INFO</span>     Collaborator one Waiting for tasks...                                                                                    <a href=\"file:///home/pfoley1/fl_venv/lib/python3.6/site-packages/fledge/component/collaborator/collaborator.py\"><span style=\"color: #7f7f7f\">collaborator.py</span></a><span style=\"color: #7f7f7f\">:163</span>\n",
       "</pre>\n"
      ],
      "text/plain": [
       "<rich.jupyter.JupyterRenderable at 0x7efec4399128>"
      ]
     },
     "metadata": {},
     "output_type": "display_data"
    },
    {
     "data": {
      "text/html": [
       "<pre style=\"white-space:pre;overflow-x:auto;line-height:normal;font-family:Menlo,'DejaVu Sans Mono',consolas,'Courier New',monospace\"><span style=\"color: #7fbfbf\">           </span><span style=\"color: #000080\">INFO</span>     Aggregator GetTasks function reached from collaborator one...                                                              <a href=\"file:///home/pfoley1/fl_venv/lib/python3.6/site-packages/fledge/component/aggregator/aggregator.py\"><span style=\"color: #7f7f7f\">aggregator.py</span></a><span style=\"color: #7f7f7f\">:215</span>\n",
       "</pre>\n"
      ],
      "text/plain": [
       "<rich.jupyter.JupyterRenderable at 0x7efec431cf28>"
      ]
     },
     "metadata": {},
     "output_type": "display_data"
    },
    {
     "data": {
      "text/html": [
       "<pre style=\"white-space:pre;overflow-x:auto;line-height:normal;font-family:Menlo,'DejaVu Sans Mono',consolas,'Courier New',monospace\"><span style=\"color: #7fbfbf\">           </span><span style=\"color: #000080\">INFO</span>     Sending tasks to collaborator one for round <span style=\"color: #000080; font-weight: bold\">1</span>                                                                              <a href=\"file:///home/pfoley1/fl_venv/lib/python3.6/site-packages/fledge/component/aggregator/aggregator.py\"><span style=\"color: #7f7f7f\">aggregator.py</span></a><span style=\"color: #7f7f7f\">:249</span>\n",
       "</pre>\n"
      ],
      "text/plain": [
       "<rich.jupyter.JupyterRenderable at 0x7efec4397630>"
      ]
     },
     "metadata": {},
     "output_type": "display_data"
    },
    {
     "data": {
      "text/html": [
       "<pre style=\"white-space:pre;overflow-x:auto;line-height:normal;font-family:Menlo,'DejaVu Sans Mono',consolas,'Courier New',monospace\"><span style=\"color: #7fbfbf\">           </span><span style=\"color: #000080\">INFO</span>     Received the following tasks: <span style=\"font-weight: bold\">[</span><span style=\"color: #008000\">'aggregated_model_validation'</span>, <span style=\"color: #008000\">'train'</span>, <span style=\"color: #008000\">'locally_tuned_model_validation'</span><span style=\"font-weight: bold\">]</span>                 <a href=\"file:///home/pfoley1/fl_venv/lib/python3.6/site-packages/fledge/component/collaborator/collaborator.py\"><span style=\"color: #7f7f7f\">collaborator.py</span></a><span style=\"color: #7f7f7f\">:155</span>\n",
       "</pre>\n"
      ],
      "text/plain": [
       "<rich.jupyter.JupyterRenderable at 0x7efec43992e8>"
      ]
     },
     "metadata": {},
     "output_type": "display_data"
    },
    {
     "data": {
      "text/html": [
       "<pre style=\"white-space:pre;overflow-x:auto;line-height:normal;font-family:Menlo,'DejaVu Sans Mono',consolas,'Courier New',monospace\"><span style=\"color: #7fbfbf\">[10:16:35] </span><span style=\"color: #000080\">INFO</span>     Sending metric for task aggregated_model_validation, round number <span style=\"color: #000080; font-weight: bold\">1</span>: acc        <span style=\"color: #000080; font-weight: bold\">0.8884000182151794</span>                       <a href=\"file:///home/pfoley1/fl_venv/lib/python3.6/site-packages/fledge/component/collaborator/collaborator.py\"><span style=\"color: #7f7f7f\">collaborator.py</span></a><span style=\"color: #7f7f7f\">:319</span>\n",
       "</pre>\n"
      ],
      "text/plain": [
       "<rich.jupyter.JupyterRenderable at 0x7efec431c828>"
      ]
     },
     "metadata": {},
     "output_type": "display_data"
    },
    {
     "data": {
      "text/html": [
       "<pre style=\"white-space:pre;overflow-x:auto;line-height:normal;font-family:Menlo,'DejaVu Sans Mono',consolas,'Courier New',monospace\"><span style=\"color: #7fbfbf\">           </span><span style=\"color: #000080\">INFO</span>     Collaborator one is sending task results for aggregated_model_validation, round <span style=\"color: #000080; font-weight: bold\">1</span>                                          <a href=\"file:///home/pfoley1/fl_venv/lib/python3.6/site-packages/fledge/component/aggregator/aggregator.py\"><span style=\"color: #7f7f7f\">aggregator.py</span></a><span style=\"color: #7f7f7f\">:369</span>\n",
       "</pre>\n"
      ],
      "text/plain": [
       "<rich.jupyter.JupyterRenderable at 0x7efec431c828>"
      ]
     },
     "metadata": {},
     "output_type": "display_data"
    },
    {
     "data": {
      "text/html": [
       "<pre style=\"white-space:pre;overflow-x:auto;line-height:normal;font-family:Menlo,'DejaVu Sans Mono',consolas,'Courier New',monospace\"><span style=\"color: #7fbfbf\">[10:16:37] </span><span style=\"color: #000080\">INFO</span>     Sending metric for task train, round number <span style=\"color: #000080; font-weight: bold\">1</span>: loss     <span style=\"color: #000080; font-weight: bold\">0.2594336234251658</span>                                               <a href=\"file:///home/pfoley1/fl_venv/lib/python3.6/site-packages/fledge/component/collaborator/collaborator.py\"><span style=\"color: #7f7f7f\">collaborator.py</span></a><span style=\"color: #7f7f7f\">:319</span>\n",
       "</pre>\n"
      ],
      "text/plain": [
       "<rich.jupyter.JupyterRenderable at 0x7efec4322550>"
      ]
     },
     "metadata": {},
     "output_type": "display_data"
    },
    {
     "data": {
      "text/html": [
       "<pre style=\"white-space:pre;overflow-x:auto;line-height:normal;font-family:Menlo,'DejaVu Sans Mono',consolas,'Courier New',monospace\"><span style=\"color: #7fbfbf\">           </span><span style=\"color: #000080\">INFO</span>     Collaborator one is sending task results for train, round <span style=\"color: #000080; font-weight: bold\">1</span>                                                                <a href=\"file:///home/pfoley1/fl_venv/lib/python3.6/site-packages/fledge/component/aggregator/aggregator.py\"><span style=\"color: #7f7f7f\">aggregator.py</span></a><span style=\"color: #7f7f7f\">:369</span>\n",
       "</pre>\n"
      ],
      "text/plain": [
       "<rich.jupyter.JupyterRenderable at 0x7efec4322240>"
      ]
     },
     "metadata": {},
     "output_type": "display_data"
    },
    {
     "data": {
      "text/html": [
       "<pre style=\"white-space:pre;overflow-x:auto;line-height:normal;font-family:Menlo,'DejaVu Sans Mono',consolas,'Courier New',monospace\"><span style=\"color: #7fbfbf\">           </span><span style=\"color: #000080\">INFO</span>     Sending metric for task locally_tuned_model_validation, round number <span style=\"color: #000080; font-weight: bold\">1</span>: acc     <span style=\"color: #000080; font-weight: bold\">0.9345999956130981</span>                       <a href=\"file:///home/pfoley1/fl_venv/lib/python3.6/site-packages/fledge/component/collaborator/collaborator.py\"><span style=\"color: #7f7f7f\">collaborator.py</span></a><span style=\"color: #7f7f7f\">:319</span>\n",
       "</pre>\n"
      ],
      "text/plain": [
       "<rich.jupyter.JupyterRenderable at 0x7efec43224a8>"
      ]
     },
     "metadata": {},
     "output_type": "display_data"
    },
    {
     "data": {
      "text/html": [
       "<pre style=\"white-space:pre;overflow-x:auto;line-height:normal;font-family:Menlo,'DejaVu Sans Mono',consolas,'Courier New',monospace\"><span style=\"color: #7fbfbf\">           </span><span style=\"color: #000080\">INFO</span>     Collaborator one is sending task results for locally_tuned_model_validation, round <span style=\"color: #000080; font-weight: bold\">1</span>                                       <a href=\"file:///home/pfoley1/fl_venv/lib/python3.6/site-packages/fledge/component/aggregator/aggregator.py\"><span style=\"color: #7f7f7f\">aggregator.py</span></a><span style=\"color: #7f7f7f\">:369</span>\n",
       "</pre>\n"
      ],
      "text/plain": [
       "<rich.jupyter.JupyterRenderable at 0x7efec4322f98>"
      ]
     },
     "metadata": {},
     "output_type": "display_data"
    },
    {
     "data": {
      "text/html": [
       "<pre style=\"white-space:pre;overflow-x:auto;line-height:normal;font-family:Menlo,'DejaVu Sans Mono',consolas,'Courier New',monospace\"><span style=\"color: #7fbfbf\">           </span><span style=\"color: #000080\">INFO</span>     All tasks completed on one for round <span style=\"color: #000080; font-weight: bold\">1</span>...                                                                                <a href=\"file:///home/pfoley1/fl_venv/lib/python3.6/site-packages/fledge/component/collaborator/collaborator.py\"><span style=\"color: #7f7f7f\">collaborator.py</span></a><span style=\"color: #7f7f7f\">:158</span>\n",
       "</pre>\n"
      ],
      "text/plain": [
       "<rich.jupyter.JupyterRenderable at 0x7efec4322cf8>"
      ]
     },
     "metadata": {},
     "output_type": "display_data"
    },
    {
     "data": {
      "text/html": [
       "<pre style=\"white-space:pre;overflow-x:auto;line-height:normal;font-family:Menlo,'DejaVu Sans Mono',consolas,'Courier New',monospace\"><span style=\"color: #7fbfbf\">           </span><span style=\"color: #000080\">INFO</span>     Collaborator two Waiting for tasks...                                                                                    <a href=\"file:///home/pfoley1/fl_venv/lib/python3.6/site-packages/fledge/component/collaborator/collaborator.py\"><span style=\"color: #7f7f7f\">collaborator.py</span></a><span style=\"color: #7f7f7f\">:163</span>\n",
       "</pre>\n"
      ],
      "text/plain": [
       "<rich.jupyter.JupyterRenderable at 0x7efec4322cc0>"
      ]
     },
     "metadata": {},
     "output_type": "display_data"
    },
    {
     "data": {
      "text/html": [
       "<pre style=\"white-space:pre;overflow-x:auto;line-height:normal;font-family:Menlo,'DejaVu Sans Mono',consolas,'Courier New',monospace\"><span style=\"color: #7fbfbf\">           </span><span style=\"color: #000080\">INFO</span>     Aggregator GetTasks function reached from collaborator two...                                                              <a href=\"file:///home/pfoley1/fl_venv/lib/python3.6/site-packages/fledge/component/aggregator/aggregator.py\"><span style=\"color: #7f7f7f\">aggregator.py</span></a><span style=\"color: #7f7f7f\">:215</span>\n",
       "</pre>\n"
      ],
      "text/plain": [
       "<rich.jupyter.JupyterRenderable at 0x7efec4322518>"
      ]
     },
     "metadata": {},
     "output_type": "display_data"
    },
    {
     "data": {
      "text/html": [
       "<pre style=\"white-space:pre;overflow-x:auto;line-height:normal;font-family:Menlo,'DejaVu Sans Mono',consolas,'Courier New',monospace\"><span style=\"color: #7fbfbf\">           </span><span style=\"color: #000080\">INFO</span>     Sending tasks to collaborator two for round <span style=\"color: #000080; font-weight: bold\">1</span>                                                                              <a href=\"file:///home/pfoley1/fl_venv/lib/python3.6/site-packages/fledge/component/aggregator/aggregator.py\"><span style=\"color: #7f7f7f\">aggregator.py</span></a><span style=\"color: #7f7f7f\">:249</span>\n",
       "</pre>\n"
      ],
      "text/plain": [
       "<rich.jupyter.JupyterRenderable at 0x7efec4322898>"
      ]
     },
     "metadata": {},
     "output_type": "display_data"
    },
    {
     "data": {
      "text/html": [
       "<pre style=\"white-space:pre;overflow-x:auto;line-height:normal;font-family:Menlo,'DejaVu Sans Mono',consolas,'Courier New',monospace\"><span style=\"color: #7fbfbf\">           </span><span style=\"color: #000080\">INFO</span>     Received the following tasks: <span style=\"font-weight: bold\">[</span><span style=\"color: #008000\">'aggregated_model_validation'</span>, <span style=\"color: #008000\">'train'</span>, <span style=\"color: #008000\">'locally_tuned_model_validation'</span><span style=\"font-weight: bold\">]</span>                 <a href=\"file:///home/pfoley1/fl_venv/lib/python3.6/site-packages/fledge/component/collaborator/collaborator.py\"><span style=\"color: #7f7f7f\">collaborator.py</span></a><span style=\"color: #7f7f7f\">:155</span>\n",
       "</pre>\n"
      ],
      "text/plain": [
       "<rich.jupyter.JupyterRenderable at 0x7efec4322fd0>"
      ]
     },
     "metadata": {},
     "output_type": "display_data"
    },
    {
     "data": {
      "text/html": [
       "<pre style=\"white-space:pre;overflow-x:auto;line-height:normal;font-family:Menlo,'DejaVu Sans Mono',consolas,'Courier New',monospace\"><span style=\"color: #7fbfbf\">           </span><span style=\"color: #000080\">INFO</span>     Sending metric for task aggregated_model_validation, round number <span style=\"color: #000080; font-weight: bold\">1</span>: acc        <span style=\"color: #000080; font-weight: bold\">0.8884000182151794</span>                       <a href=\"file:///home/pfoley1/fl_venv/lib/python3.6/site-packages/fledge/component/collaborator/collaborator.py\"><span style=\"color: #7f7f7f\">collaborator.py</span></a><span style=\"color: #7f7f7f\">:319</span>\n",
       "</pre>\n"
      ],
      "text/plain": [
       "<rich.jupyter.JupyterRenderable at 0x7efec4322828>"
      ]
     },
     "metadata": {},
     "output_type": "display_data"
    },
    {
     "data": {
      "text/html": [
       "<pre style=\"white-space:pre;overflow-x:auto;line-height:normal;font-family:Menlo,'DejaVu Sans Mono',consolas,'Courier New',monospace\"><span style=\"color: #7fbfbf\">           </span><span style=\"color: #000080\">INFO</span>     Collaborator two is sending task results for aggregated_model_validation, round <span style=\"color: #000080; font-weight: bold\">1</span>                                          <a href=\"file:///home/pfoley1/fl_venv/lib/python3.6/site-packages/fledge/component/aggregator/aggregator.py\"><span style=\"color: #7f7f7f\">aggregator.py</span></a><span style=\"color: #7f7f7f\">:369</span>\n",
       "</pre>\n"
      ],
      "text/plain": [
       "<rich.jupyter.JupyterRenderable at 0x7efec4322240>"
      ]
     },
     "metadata": {},
     "output_type": "display_data"
    },
    {
     "data": {
      "text/html": [
       "<pre style=\"white-space:pre;overflow-x:auto;line-height:normal;font-family:Menlo,'DejaVu Sans Mono',consolas,'Courier New',monospace\"><span style=\"color: #7fbfbf\">[10:16:40] </span><span style=\"color: #000080\">INFO</span>     Sending metric for task train, round number <span style=\"color: #000080; font-weight: bold\">1</span>: loss     <span style=\"color: #000080; font-weight: bold\">0.2587057901183764</span>                                               <a href=\"file:///home/pfoley1/fl_venv/lib/python3.6/site-packages/fledge/component/collaborator/collaborator.py\"><span style=\"color: #7f7f7f\">collaborator.py</span></a><span style=\"color: #7f7f7f\">:319</span>\n",
       "</pre>\n"
      ],
      "text/plain": [
       "<rich.jupyter.JupyterRenderable at 0x7efec4322320>"
      ]
     },
     "metadata": {},
     "output_type": "display_data"
    },
    {
     "data": {
      "text/html": [
       "<pre style=\"white-space:pre;overflow-x:auto;line-height:normal;font-family:Menlo,'DejaVu Sans Mono',consolas,'Courier New',monospace\"><span style=\"color: #7fbfbf\">           </span><span style=\"color: #000080\">INFO</span>     Collaborator two is sending task results for train, round <span style=\"color: #000080; font-weight: bold\">1</span>                                                                <a href=\"file:///home/pfoley1/fl_venv/lib/python3.6/site-packages/fledge/component/aggregator/aggregator.py\"><span style=\"color: #7f7f7f\">aggregator.py</span></a><span style=\"color: #7f7f7f\">:369</span>\n",
       "</pre>\n"
      ],
      "text/plain": [
       "<rich.jupyter.JupyterRenderable at 0x7efec43220b8>"
      ]
     },
     "metadata": {},
     "output_type": "display_data"
    },
    {
     "data": {
      "text/html": [
       "<pre style=\"white-space:pre;overflow-x:auto;line-height:normal;font-family:Menlo,'DejaVu Sans Mono',consolas,'Courier New',monospace\"><span style=\"color: #7fbfbf\">           </span><span style=\"color: #000080\">INFO</span>     Sending metric for task locally_tuned_model_validation, round number <span style=\"color: #000080; font-weight: bold\">1</span>: acc     <span style=\"color: #000080; font-weight: bold\">0.9394000172615051</span>                       <a href=\"file:///home/pfoley1/fl_venv/lib/python3.6/site-packages/fledge/component/collaborator/collaborator.py\"><span style=\"color: #7f7f7f\">collaborator.py</span></a><span style=\"color: #7f7f7f\">:319</span>\n",
       "</pre>\n"
      ],
      "text/plain": [
       "<rich.jupyter.JupyterRenderable at 0x7efec4322128>"
      ]
     },
     "metadata": {},
     "output_type": "display_data"
    },
    {
     "data": {
      "text/html": [
       "<pre style=\"white-space:pre;overflow-x:auto;line-height:normal;font-family:Menlo,'DejaVu Sans Mono',consolas,'Courier New',monospace\"><span style=\"color: #7fbfbf\">           </span><span style=\"color: #000080\">INFO</span>     Collaborator two is sending task results for locally_tuned_model_validation, round <span style=\"color: #000080; font-weight: bold\">1</span>                                       <a href=\"file:///home/pfoley1/fl_venv/lib/python3.6/site-packages/fledge/component/aggregator/aggregator.py\"><span style=\"color: #7f7f7f\">aggregator.py</span></a><span style=\"color: #7f7f7f\">:369</span>\n",
       "</pre>\n"
      ],
      "text/plain": [
       "<rich.jupyter.JupyterRenderable at 0x7efec4322da0>"
      ]
     },
     "metadata": {},
     "output_type": "display_data"
    },
    {
     "data": {
      "text/html": [
       "<pre style=\"white-space:pre;overflow-x:auto;line-height:normal;font-family:Menlo,'DejaVu Sans Mono',consolas,'Courier New',monospace\"><span style=\"color: #7fbfbf\">           </span><span style=\"color: #000080\">INFO</span>     train task metrics...                                                                                                      <a href=\"file:///home/pfoley1/fl_venv/lib/python3.6/site-packages/fledge/component/aggregator/aggregator.py\"><span style=\"color: #7f7f7f\">aggregator.py</span></a><span style=\"color: #7f7f7f\">:505</span>\n",
       "</pre>\n"
      ],
      "text/plain": [
       "<rich.jupyter.JupyterRenderable at 0x7efec432a748>"
      ]
     },
     "metadata": {},
     "output_type": "display_data"
    },
    {
     "data": {
      "text/html": [
       "<pre style=\"white-space:pre;overflow-x:auto;line-height:normal;font-family:Menlo,'DejaVu Sans Mono',consolas,'Courier New',monospace\"><span style=\"color: #7fbfbf\">           </span><span style=\"color: #000080\">INFO</span>     loss:   <span style=\"color: #000080; font-weight: bold\">0.2591</span>                                                                                                             <a href=\"file:///home/pfoley1/fl_venv/lib/python3.6/site-packages/fledge/component/aggregator/aggregator.py\"><span style=\"color: #7f7f7f\">aggregator.py</span></a><span style=\"color: #7f7f7f\">:534</span>\n",
       "</pre>\n"
      ],
      "text/plain": [
       "<rich.jupyter.JupyterRenderable at 0x7efec432a358>"
      ]
     },
     "metadata": {},
     "output_type": "display_data"
    },
    {
     "data": {
      "text/html": [
       "<pre style=\"white-space:pre;overflow-x:auto;line-height:normal;font-family:Menlo,'DejaVu Sans Mono',consolas,'Courier New',monospace\"><span style=\"color: #7fbfbf\">           </span><span style=\"color: #000080\">INFO</span>     locally_tuned_model_validation task metrics...                                                                             <a href=\"file:///home/pfoley1/fl_venv/lib/python3.6/site-packages/fledge/component/aggregator/aggregator.py\"><span style=\"color: #7f7f7f\">aggregator.py</span></a><span style=\"color: #7f7f7f\">:505</span>\n",
       "</pre>\n"
      ],
      "text/plain": [
       "<rich.jupyter.JupyterRenderable at 0x7efec4322da0>"
      ]
     },
     "metadata": {},
     "output_type": "display_data"
    },
    {
     "data": {
      "text/html": [
       "<pre style=\"white-space:pre;overflow-x:auto;line-height:normal;font-family:Menlo,'DejaVu Sans Mono',consolas,'Courier New',monospace\"><span style=\"color: #7fbfbf\">           </span><span style=\"color: #000080\">INFO</span>     acc:    <span style=\"color: #000080; font-weight: bold\">0.9370</span>                                                                                                             <a href=\"file:///home/pfoley1/fl_venv/lib/python3.6/site-packages/fledge/component/aggregator/aggregator.py\"><span style=\"color: #7f7f7f\">aggregator.py</span></a><span style=\"color: #7f7f7f\">:534</span>\n",
       "</pre>\n"
      ],
      "text/plain": [
       "<rich.jupyter.JupyterRenderable at 0x7efec432a4a8>"
      ]
     },
     "metadata": {},
     "output_type": "display_data"
    },
    {
     "data": {
      "text/html": [
       "<pre style=\"white-space:pre;overflow-x:auto;line-height:normal;font-family:Menlo,'DejaVu Sans Mono',consolas,'Courier New',monospace\"><span style=\"color: #7fbfbf\">           </span><span style=\"color: #000080\">INFO</span>     aggregated_model_validation task metrics...                                                                                <a href=\"file:///home/pfoley1/fl_venv/lib/python3.6/site-packages/fledge/component/aggregator/aggregator.py\"><span style=\"color: #7f7f7f\">aggregator.py</span></a><span style=\"color: #7f7f7f\">:505</span>\n",
       "</pre>\n"
      ],
      "text/plain": [
       "<rich.jupyter.JupyterRenderable at 0x7efec4322da0>"
      ]
     },
     "metadata": {},
     "output_type": "display_data"
    },
    {
     "data": {
      "text/html": [
       "<pre style=\"white-space:pre;overflow-x:auto;line-height:normal;font-family:Menlo,'DejaVu Sans Mono',consolas,'Courier New',monospace\"><span style=\"color: #7fbfbf\">           </span><span style=\"color: #000080\">INFO</span>     acc:    <span style=\"color: #000080; font-weight: bold\">0.8884</span>                                                                                                             <a href=\"file:///home/pfoley1/fl_venv/lib/python3.6/site-packages/fledge/component/aggregator/aggregator.py\"><span style=\"color: #7f7f7f\">aggregator.py</span></a><span style=\"color: #7f7f7f\">:534</span>\n",
       "</pre>\n"
      ],
      "text/plain": [
       "<rich.jupyter.JupyterRenderable at 0x7efec432a748>"
      ]
     },
     "metadata": {},
     "output_type": "display_data"
    },
    {
     "data": {
      "text/html": [
       "<pre style=\"white-space:pre;overflow-x:auto;line-height:normal;font-family:Menlo,'DejaVu Sans Mono',consolas,'Courier New',monospace\"><span style=\"color: #7fbfbf\">           </span><span style=\"color: #000080\">INFO</span>     Saved the best model with score <span style=\"color: #000080; font-weight: bold\">0.888400</span>                                                                                   <a href=\"file:///home/pfoley1/fl_venv/lib/python3.6/site-packages/fledge/component/aggregator/aggregator.py\"><span style=\"color: #7f7f7f\">aggregator.py</span></a><span style=\"color: #7f7f7f\">:539</span>\n",
       "</pre>\n"
      ],
      "text/plain": [
       "<rich.jupyter.JupyterRenderable at 0x7efec432a6d8>"
      ]
     },
     "metadata": {},
     "output_type": "display_data"
    },
    {
     "data": {
      "text/html": [
       "<pre style=\"white-space:pre;overflow-x:auto;line-height:normal;font-family:Menlo,'DejaVu Sans Mono',consolas,'Courier New',monospace\"><span style=\"color: #7fbfbf\">           </span><span style=\"color: #000080\">INFO</span>     Saving round <span style=\"color: #000080; font-weight: bold\">2</span> model...                                                                                                    <a href=\"file:///home/pfoley1/fl_venv/lib/python3.6/site-packages/fledge/component/aggregator/aggregator.py\"><span style=\"color: #7f7f7f\">aggregator.py</span></a><span style=\"color: #7f7f7f\">:595</span>\n",
       "</pre>\n"
      ],
      "text/plain": [
       "<rich.jupyter.JupyterRenderable at 0x7efec43227b8>"
      ]
     },
     "metadata": {},
     "output_type": "display_data"
    },
    {
     "data": {
      "text/html": [
       "<pre style=\"white-space:pre;overflow-x:auto;line-height:normal;font-family:Menlo,'DejaVu Sans Mono',consolas,'Courier New',monospace\"><span style=\"color: #7fbfbf\">           </span><span style=\"color: #000080\">INFO</span>     Starting round <span style=\"color: #000080; font-weight: bold\">2</span>...                                                                                                        <a href=\"file:///home/pfoley1/fl_venv/lib/python3.6/site-packages/fledge/component/aggregator/aggregator.py\"><span style=\"color: #7f7f7f\">aggregator.py</span></a><span style=\"color: #7f7f7f\">:603</span>\n",
       "</pre>\n"
      ],
      "text/plain": [
       "<rich.jupyter.JupyterRenderable at 0x7efec432a860>"
      ]
     },
     "metadata": {},
     "output_type": "display_data"
    },
    {
     "data": {
      "text/html": [
       "<pre style=\"white-space:pre;overflow-x:auto;line-height:normal;font-family:Menlo,'DejaVu Sans Mono',consolas,'Courier New',monospace\"><span style=\"color: #7fbfbf\">           </span><span style=\"color: #000080\">INFO</span>     All tasks completed on two for round <span style=\"color: #000080; font-weight: bold\">1</span>...                                                                                <a href=\"file:///home/pfoley1/fl_venv/lib/python3.6/site-packages/fledge/component/collaborator/collaborator.py\"><span style=\"color: #7f7f7f\">collaborator.py</span></a><span style=\"color: #7f7f7f\">:158</span>\n",
       "</pre>\n"
      ],
      "text/plain": [
       "<rich.jupyter.JupyterRenderable at 0x7efec43227b8>"
      ]
     },
     "metadata": {},
     "output_type": "display_data"
    },
    {
     "data": {
      "text/html": [
       "<pre style=\"white-space:pre;overflow-x:auto;line-height:normal;font-family:Menlo,'DejaVu Sans Mono',consolas,'Courier New',monospace\"><span style=\"color: #7fbfbf\">           </span><span style=\"color: #000080\">INFO</span>     Collaborator one Waiting for tasks...                                                                                    <a href=\"file:///home/pfoley1/fl_venv/lib/python3.6/site-packages/fledge/component/collaborator/collaborator.py\"><span style=\"color: #7f7f7f\">collaborator.py</span></a><span style=\"color: #7f7f7f\">:163</span>\n",
       "</pre>\n"
      ],
      "text/plain": [
       "<rich.jupyter.JupyterRenderable at 0x7efec43227b8>"
      ]
     },
     "metadata": {},
     "output_type": "display_data"
    },
    {
     "data": {
      "text/html": [
       "<pre style=\"white-space:pre;overflow-x:auto;line-height:normal;font-family:Menlo,'DejaVu Sans Mono',consolas,'Courier New',monospace\"><span style=\"color: #7fbfbf\">           </span><span style=\"color: #000080\">INFO</span>     Aggregator GetTasks function reached from collaborator one...                                                              <a href=\"file:///home/pfoley1/fl_venv/lib/python3.6/site-packages/fledge/component/aggregator/aggregator.py\"><span style=\"color: #7f7f7f\">aggregator.py</span></a><span style=\"color: #7f7f7f\">:215</span>\n",
       "</pre>\n"
      ],
      "text/plain": [
       "<rich.jupyter.JupyterRenderable at 0x7efec432a390>"
      ]
     },
     "metadata": {},
     "output_type": "display_data"
    },
    {
     "data": {
      "text/html": [
       "<pre style=\"white-space:pre;overflow-x:auto;line-height:normal;font-family:Menlo,'DejaVu Sans Mono',consolas,'Courier New',monospace\"><span style=\"color: #7fbfbf\">           </span><span style=\"color: #000080\">INFO</span>     Sending tasks to collaborator one for round <span style=\"color: #000080; font-weight: bold\">2</span>                                                                              <a href=\"file:///home/pfoley1/fl_venv/lib/python3.6/site-packages/fledge/component/aggregator/aggregator.py\"><span style=\"color: #7f7f7f\">aggregator.py</span></a><span style=\"color: #7f7f7f\">:249</span>\n",
       "</pre>\n"
      ],
      "text/plain": [
       "<rich.jupyter.JupyterRenderable at 0x7efec432a4e0>"
      ]
     },
     "metadata": {},
     "output_type": "display_data"
    },
    {
     "data": {
      "text/html": [
       "<pre style=\"white-space:pre;overflow-x:auto;line-height:normal;font-family:Menlo,'DejaVu Sans Mono',consolas,'Courier New',monospace\"><span style=\"color: #7fbfbf\">           </span><span style=\"color: #000080\">INFO</span>     Received the following tasks: <span style=\"font-weight: bold\">[</span><span style=\"color: #008000\">'aggregated_model_validation'</span>, <span style=\"color: #008000\">'train'</span>, <span style=\"color: #008000\">'locally_tuned_model_validation'</span><span style=\"font-weight: bold\">]</span>                 <a href=\"file:///home/pfoley1/fl_venv/lib/python3.6/site-packages/fledge/component/collaborator/collaborator.py\"><span style=\"color: #7f7f7f\">collaborator.py</span></a><span style=\"color: #7f7f7f\">:155</span>\n",
       "</pre>\n"
      ],
      "text/plain": [
       "<rich.jupyter.JupyterRenderable at 0x7efec43227b8>"
      ]
     },
     "metadata": {},
     "output_type": "display_data"
    },
    {
     "data": {
      "text/html": [
       "<pre style=\"white-space:pre;overflow-x:auto;line-height:normal;font-family:Menlo,'DejaVu Sans Mono',consolas,'Courier New',monospace\"><span style=\"color: #7fbfbf\">           </span><span style=\"color: #000080\">INFO</span>     Sending metric for task aggregated_model_validation, round number <span style=\"color: #000080; font-weight: bold\">2</span>: acc        <span style=\"color: #000080; font-weight: bold\">0.942799985408783</span>                        <a href=\"file:///home/pfoley1/fl_venv/lib/python3.6/site-packages/fledge/component/collaborator/collaborator.py\"><span style=\"color: #7f7f7f\">collaborator.py</span></a><span style=\"color: #7f7f7f\">:319</span>\n",
       "</pre>\n"
      ],
      "text/plain": [
       "<rich.jupyter.JupyterRenderable at 0x7efec432aa20>"
      ]
     },
     "metadata": {},
     "output_type": "display_data"
    },
    {
     "data": {
      "text/html": [
       "<pre style=\"white-space:pre;overflow-x:auto;line-height:normal;font-family:Menlo,'DejaVu Sans Mono',consolas,'Courier New',monospace\"><span style=\"color: #7fbfbf\">           </span><span style=\"color: #000080\">INFO</span>     Collaborator one is sending task results for aggregated_model_validation, round <span style=\"color: #000080; font-weight: bold\">2</span>                                          <a href=\"file:///home/pfoley1/fl_venv/lib/python3.6/site-packages/fledge/component/aggregator/aggregator.py\"><span style=\"color: #7f7f7f\">aggregator.py</span></a><span style=\"color: #7f7f7f\">:369</span>\n",
       "</pre>\n"
      ],
      "text/plain": [
       "<rich.jupyter.JupyterRenderable at 0x7efec432a4e0>"
      ]
     },
     "metadata": {},
     "output_type": "display_data"
    },
    {
     "data": {
      "text/html": [
       "<pre style=\"white-space:pre;overflow-x:auto;line-height:normal;font-family:Menlo,'DejaVu Sans Mono',consolas,'Courier New',monospace\"><span style=\"color: #7fbfbf\">[10:16:43] </span><span style=\"color: #000080\">INFO</span>     Sending metric for task train, round number <span style=\"color: #000080; font-weight: bold\">2</span>: loss     <span style=\"color: #000080; font-weight: bold\">0.19125945693825683</span>                                              <a href=\"file:///home/pfoley1/fl_venv/lib/python3.6/site-packages/fledge/component/collaborator/collaborator.py\"><span style=\"color: #7f7f7f\">collaborator.py</span></a><span style=\"color: #7f7f7f\">:319</span>\n",
       "</pre>\n"
      ],
      "text/plain": [
       "<rich.jupyter.JupyterRenderable at 0x7efec432aa58>"
      ]
     },
     "metadata": {},
     "output_type": "display_data"
    },
    {
     "data": {
      "text/html": [
       "<pre style=\"white-space:pre;overflow-x:auto;line-height:normal;font-family:Menlo,'DejaVu Sans Mono',consolas,'Courier New',monospace\"><span style=\"color: #7fbfbf\">           </span><span style=\"color: #000080\">INFO</span>     Collaborator one is sending task results for train, round <span style=\"color: #000080; font-weight: bold\">2</span>                                                                <a href=\"file:///home/pfoley1/fl_venv/lib/python3.6/site-packages/fledge/component/aggregator/aggregator.py\"><span style=\"color: #7f7f7f\">aggregator.py</span></a><span style=\"color: #7f7f7f\">:369</span>\n",
       "</pre>\n"
      ],
      "text/plain": [
       "<rich.jupyter.JupyterRenderable at 0x7efec432aa20>"
      ]
     },
     "metadata": {},
     "output_type": "display_data"
    },
    {
     "data": {
      "text/html": [
       "<pre style=\"white-space:pre;overflow-x:auto;line-height:normal;font-family:Menlo,'DejaVu Sans Mono',consolas,'Courier New',monospace\"><span style=\"color: #7fbfbf\">           </span><span style=\"color: #000080\">INFO</span>     Sending metric for task locally_tuned_model_validation, round number <span style=\"color: #000080; font-weight: bold\">2</span>: acc     <span style=\"color: #000080; font-weight: bold\">0.9444000124931335</span>                       <a href=\"file:///home/pfoley1/fl_venv/lib/python3.6/site-packages/fledge/component/collaborator/collaborator.py\"><span style=\"color: #7f7f7f\">collaborator.py</span></a><span style=\"color: #7f7f7f\">:319</span>\n",
       "</pre>\n"
      ],
      "text/plain": [
       "<rich.jupyter.JupyterRenderable at 0x7efec432a320>"
      ]
     },
     "metadata": {},
     "output_type": "display_data"
    },
    {
     "data": {
      "text/html": [
       "<pre style=\"white-space:pre;overflow-x:auto;line-height:normal;font-family:Menlo,'DejaVu Sans Mono',consolas,'Courier New',monospace\"><span style=\"color: #7fbfbf\">           </span><span style=\"color: #000080\">INFO</span>     Collaborator one is sending task results for locally_tuned_model_validation, round <span style=\"color: #000080; font-weight: bold\">2</span>                                       <a href=\"file:///home/pfoley1/fl_venv/lib/python3.6/site-packages/fledge/component/aggregator/aggregator.py\"><span style=\"color: #7f7f7f\">aggregator.py</span></a><span style=\"color: #7f7f7f\">:369</span>\n",
       "</pre>\n"
      ],
      "text/plain": [
       "<rich.jupyter.JupyterRenderable at 0x7efec432a320>"
      ]
     },
     "metadata": {},
     "output_type": "display_data"
    },
    {
     "data": {
      "text/html": [
       "<pre style=\"white-space:pre;overflow-x:auto;line-height:normal;font-family:Menlo,'DejaVu Sans Mono',consolas,'Courier New',monospace\"><span style=\"color: #7fbfbf\">           </span><span style=\"color: #000080\">INFO</span>     All tasks completed on one for round <span style=\"color: #000080; font-weight: bold\">2</span>...                                                                                <a href=\"file:///home/pfoley1/fl_venv/lib/python3.6/site-packages/fledge/component/collaborator/collaborator.py\"><span style=\"color: #7f7f7f\">collaborator.py</span></a><span style=\"color: #7f7f7f\">:158</span>\n",
       "</pre>\n"
      ],
      "text/plain": [
       "<rich.jupyter.JupyterRenderable at 0x7efec432a320>"
      ]
     },
     "metadata": {},
     "output_type": "display_data"
    },
    {
     "data": {
      "text/html": [
       "<pre style=\"white-space:pre;overflow-x:auto;line-height:normal;font-family:Menlo,'DejaVu Sans Mono',consolas,'Courier New',monospace\"><span style=\"color: #7fbfbf\">           </span><span style=\"color: #000080\">INFO</span>     Collaborator two Waiting for tasks...                                                                                    <a href=\"file:///home/pfoley1/fl_venv/lib/python3.6/site-packages/fledge/component/collaborator/collaborator.py\"><span style=\"color: #7f7f7f\">collaborator.py</span></a><span style=\"color: #7f7f7f\">:163</span>\n",
       "</pre>\n"
      ],
      "text/plain": [
       "<rich.jupyter.JupyterRenderable at 0x7efec432aa20>"
      ]
     },
     "metadata": {},
     "output_type": "display_data"
    },
    {
     "data": {
      "text/html": [
       "<pre style=\"white-space:pre;overflow-x:auto;line-height:normal;font-family:Menlo,'DejaVu Sans Mono',consolas,'Courier New',monospace\"><span style=\"color: #7fbfbf\">           </span><span style=\"color: #000080\">INFO</span>     Aggregator GetTasks function reached from collaborator two...                                                              <a href=\"file:///home/pfoley1/fl_venv/lib/python3.6/site-packages/fledge/component/aggregator/aggregator.py\"><span style=\"color: #7f7f7f\">aggregator.py</span></a><span style=\"color: #7f7f7f\">:215</span>\n",
       "</pre>\n"
      ],
      "text/plain": [
       "<rich.jupyter.JupyterRenderable at 0x7efec432add8>"
      ]
     },
     "metadata": {},
     "output_type": "display_data"
    },
    {
     "data": {
      "text/html": [
       "<pre style=\"white-space:pre;overflow-x:auto;line-height:normal;font-family:Menlo,'DejaVu Sans Mono',consolas,'Courier New',monospace\"><span style=\"color: #7fbfbf\">           </span><span style=\"color: #000080\">INFO</span>     Sending tasks to collaborator two for round <span style=\"color: #000080; font-weight: bold\">2</span>                                                                              <a href=\"file:///home/pfoley1/fl_venv/lib/python3.6/site-packages/fledge/component/aggregator/aggregator.py\"><span style=\"color: #7f7f7f\">aggregator.py</span></a><span style=\"color: #7f7f7f\">:249</span>\n",
       "</pre>\n"
      ],
      "text/plain": [
       "<rich.jupyter.JupyterRenderable at 0x7efec432a160>"
      ]
     },
     "metadata": {},
     "output_type": "display_data"
    },
    {
     "data": {
      "text/html": [
       "<pre style=\"white-space:pre;overflow-x:auto;line-height:normal;font-family:Menlo,'DejaVu Sans Mono',consolas,'Courier New',monospace\"><span style=\"color: #7fbfbf\">           </span><span style=\"color: #000080\">INFO</span>     Received the following tasks: <span style=\"font-weight: bold\">[</span><span style=\"color: #008000\">'aggregated_model_validation'</span>, <span style=\"color: #008000\">'train'</span>, <span style=\"color: #008000\">'locally_tuned_model_validation'</span><span style=\"font-weight: bold\">]</span>                 <a href=\"file:///home/pfoley1/fl_venv/lib/python3.6/site-packages/fledge/component/collaborator/collaborator.py\"><span style=\"color: #7f7f7f\">collaborator.py</span></a><span style=\"color: #7f7f7f\">:155</span>\n",
       "</pre>\n"
      ],
      "text/plain": [
       "<rich.jupyter.JupyterRenderable at 0x7efec432a160>"
      ]
     },
     "metadata": {},
     "output_type": "display_data"
    },
    {
     "data": {
      "text/html": [
       "<pre style=\"white-space:pre;overflow-x:auto;line-height:normal;font-family:Menlo,'DejaVu Sans Mono',consolas,'Courier New',monospace\"><span style=\"color: #7fbfbf\">           </span><span style=\"color: #000080\">INFO</span>     Sending metric for task aggregated_model_validation, round number <span style=\"color: #000080; font-weight: bold\">2</span>: acc        <span style=\"color: #000080; font-weight: bold\">0.942799985408783</span>                        <a href=\"file:///home/pfoley1/fl_venv/lib/python3.6/site-packages/fledge/component/collaborator/collaborator.py\"><span style=\"color: #7f7f7f\">collaborator.py</span></a><span style=\"color: #7f7f7f\">:319</span>\n",
       "</pre>\n"
      ],
      "text/plain": [
       "<rich.jupyter.JupyterRenderable at 0x7efec432aef0>"
      ]
     },
     "metadata": {},
     "output_type": "display_data"
    },
    {
     "data": {
      "text/html": [
       "<pre style=\"white-space:pre;overflow-x:auto;line-height:normal;font-family:Menlo,'DejaVu Sans Mono',consolas,'Courier New',monospace\"><span style=\"color: #7fbfbf\">           </span><span style=\"color: #000080\">INFO</span>     Collaborator two is sending task results for aggregated_model_validation, round <span style=\"color: #000080; font-weight: bold\">2</span>                                          <a href=\"file:///home/pfoley1/fl_venv/lib/python3.6/site-packages/fledge/component/aggregator/aggregator.py\"><span style=\"color: #7f7f7f\">aggregator.py</span></a><span style=\"color: #7f7f7f\">:369</span>\n",
       "</pre>\n"
      ],
      "text/plain": [
       "<rich.jupyter.JupyterRenderable at 0x7efec432aa20>"
      ]
     },
     "metadata": {},
     "output_type": "display_data"
    },
    {
     "data": {
      "text/html": [
       "<pre style=\"white-space:pre;overflow-x:auto;line-height:normal;font-family:Menlo,'DejaVu Sans Mono',consolas,'Courier New',monospace\"><span style=\"color: #7fbfbf\">[10:16:45] </span><span style=\"color: #000080\">INFO</span>     Sending metric for task train, round number <span style=\"color: #000080; font-weight: bold\">2</span>: loss     <span style=\"color: #000080; font-weight: bold\">0.18823466065923372</span>                                              <a href=\"file:///home/pfoley1/fl_venv/lib/python3.6/site-packages/fledge/component/collaborator/collaborator.py\"><span style=\"color: #7f7f7f\">collaborator.py</span></a><span style=\"color: #7f7f7f\">:319</span>\n",
       "</pre>\n"
      ],
      "text/plain": [
       "<rich.jupyter.JupyterRenderable at 0x7efec432a358>"
      ]
     },
     "metadata": {},
     "output_type": "display_data"
    },
    {
     "data": {
      "text/html": [
       "<pre style=\"white-space:pre;overflow-x:auto;line-height:normal;font-family:Menlo,'DejaVu Sans Mono',consolas,'Courier New',monospace\"><span style=\"color: #7fbfbf\">           </span><span style=\"color: #000080\">INFO</span>     Collaborator two is sending task results for train, round <span style=\"color: #000080; font-weight: bold\">2</span>                                                                <a href=\"file:///home/pfoley1/fl_venv/lib/python3.6/site-packages/fledge/component/aggregator/aggregator.py\"><span style=\"color: #7f7f7f\">aggregator.py</span></a><span style=\"color: #7f7f7f\">:369</span>\n",
       "</pre>\n"
      ],
      "text/plain": [
       "<rich.jupyter.JupyterRenderable at 0x7efec432aef0>"
      ]
     },
     "metadata": {},
     "output_type": "display_data"
    },
    {
     "data": {
      "text/html": [
       "<pre style=\"white-space:pre;overflow-x:auto;line-height:normal;font-family:Menlo,'DejaVu Sans Mono',consolas,'Courier New',monospace\"><span style=\"color: #7fbfbf\">           </span><span style=\"color: #000080\">INFO</span>     Sending metric for task locally_tuned_model_validation, round number <span style=\"color: #000080; font-weight: bold\">2</span>: acc     <span style=\"color: #000080; font-weight: bold\">0.9435999989509583</span>                       <a href=\"file:///home/pfoley1/fl_venv/lib/python3.6/site-packages/fledge/component/collaborator/collaborator.py\"><span style=\"color: #7f7f7f\">collaborator.py</span></a><span style=\"color: #7f7f7f\">:319</span>\n",
       "</pre>\n"
      ],
      "text/plain": [
       "<rich.jupyter.JupyterRenderable at 0x7efec432a6a0>"
      ]
     },
     "metadata": {},
     "output_type": "display_data"
    },
    {
     "data": {
      "text/html": [
       "<pre style=\"white-space:pre;overflow-x:auto;line-height:normal;font-family:Menlo,'DejaVu Sans Mono',consolas,'Courier New',monospace\"><span style=\"color: #7fbfbf\">           </span><span style=\"color: #000080\">INFO</span>     Collaborator two is sending task results for locally_tuned_model_validation, round <span style=\"color: #000080; font-weight: bold\">2</span>                                       <a href=\"file:///home/pfoley1/fl_venv/lib/python3.6/site-packages/fledge/component/aggregator/aggregator.py\"><span style=\"color: #7f7f7f\">aggregator.py</span></a><span style=\"color: #7f7f7f\">:369</span>\n",
       "</pre>\n"
      ],
      "text/plain": [
       "<rich.jupyter.JupyterRenderable at 0x7efec432ae10>"
      ]
     },
     "metadata": {},
     "output_type": "display_data"
    },
    {
     "data": {
      "text/html": [
       "<pre style=\"white-space:pre;overflow-x:auto;line-height:normal;font-family:Menlo,'DejaVu Sans Mono',consolas,'Courier New',monospace\"><span style=\"color: #7fbfbf\">           </span><span style=\"color: #000080\">INFO</span>     train task metrics...                                                                                                      <a href=\"file:///home/pfoley1/fl_venv/lib/python3.6/site-packages/fledge/component/aggregator/aggregator.py\"><span style=\"color: #7f7f7f\">aggregator.py</span></a><span style=\"color: #7f7f7f\">:505</span>\n",
       "</pre>\n"
      ],
      "text/plain": [
       "<rich.jupyter.JupyterRenderable at 0x7efec42b00f0>"
      ]
     },
     "metadata": {},
     "output_type": "display_data"
    },
    {
     "data": {
      "text/html": [
       "<pre style=\"white-space:pre;overflow-x:auto;line-height:normal;font-family:Menlo,'DejaVu Sans Mono',consolas,'Courier New',monospace\"><span style=\"color: #7fbfbf\">           </span><span style=\"color: #000080\">INFO</span>     loss:   <span style=\"color: #000080; font-weight: bold\">0.1897</span>                                                                                                             <a href=\"file:///home/pfoley1/fl_venv/lib/python3.6/site-packages/fledge/component/aggregator/aggregator.py\"><span style=\"color: #7f7f7f\">aggregator.py</span></a><span style=\"color: #7f7f7f\">:534</span>\n",
       "</pre>\n"
      ],
      "text/plain": [
       "<rich.jupyter.JupyterRenderable at 0x7efec42b0160>"
      ]
     },
     "metadata": {},
     "output_type": "display_data"
    },
    {
     "data": {
      "text/html": [
       "<pre style=\"white-space:pre;overflow-x:auto;line-height:normal;font-family:Menlo,'DejaVu Sans Mono',consolas,'Courier New',monospace\"><span style=\"color: #7fbfbf\">[10:16:46] </span><span style=\"color: #000080\">INFO</span>     locally_tuned_model_validation task metrics...                                                                             <a href=\"file:///home/pfoley1/fl_venv/lib/python3.6/site-packages/fledge/component/aggregator/aggregator.py\"><span style=\"color: #7f7f7f\">aggregator.py</span></a><span style=\"color: #7f7f7f\">:505</span>\n",
       "</pre>\n"
      ],
      "text/plain": [
       "<rich.jupyter.JupyterRenderable at 0x7efec42b06d8>"
      ]
     },
     "metadata": {},
     "output_type": "display_data"
    },
    {
     "data": {
      "text/html": [
       "<pre style=\"white-space:pre;overflow-x:auto;line-height:normal;font-family:Menlo,'DejaVu Sans Mono',consolas,'Courier New',monospace\"><span style=\"color: #7fbfbf\">           </span><span style=\"color: #000080\">INFO</span>     acc:    <span style=\"color: #000080; font-weight: bold\">0.9440</span>                                                                                                             <a href=\"file:///home/pfoley1/fl_venv/lib/python3.6/site-packages/fledge/component/aggregator/aggregator.py\"><span style=\"color: #7f7f7f\">aggregator.py</span></a><span style=\"color: #7f7f7f\">:534</span>\n",
       "</pre>\n"
      ],
      "text/plain": [
       "<rich.jupyter.JupyterRenderable at 0x7efec42b0b38>"
      ]
     },
     "metadata": {},
     "output_type": "display_data"
    },
    {
     "data": {
      "text/html": [
       "<pre style=\"white-space:pre;overflow-x:auto;line-height:normal;font-family:Menlo,'DejaVu Sans Mono',consolas,'Courier New',monospace\"><span style=\"color: #7fbfbf\">           </span><span style=\"color: #000080\">INFO</span>     aggregated_model_validation task metrics...                                                                                <a href=\"file:///home/pfoley1/fl_venv/lib/python3.6/site-packages/fledge/component/aggregator/aggregator.py\"><span style=\"color: #7f7f7f\">aggregator.py</span></a><span style=\"color: #7f7f7f\">:505</span>\n",
       "</pre>\n"
      ],
      "text/plain": [
       "<rich.jupyter.JupyterRenderable at 0x7efec42b0b00>"
      ]
     },
     "metadata": {},
     "output_type": "display_data"
    },
    {
     "data": {
      "text/html": [
       "<pre style=\"white-space:pre;overflow-x:auto;line-height:normal;font-family:Menlo,'DejaVu Sans Mono',consolas,'Courier New',monospace\"><span style=\"color: #7fbfbf\">           </span><span style=\"color: #000080\">INFO</span>     acc:    <span style=\"color: #000080; font-weight: bold\">0.9428</span>                                                                                                             <a href=\"file:///home/pfoley1/fl_venv/lib/python3.6/site-packages/fledge/component/aggregator/aggregator.py\"><span style=\"color: #7f7f7f\">aggregator.py</span></a><span style=\"color: #7f7f7f\">:534</span>\n",
       "</pre>\n"
      ],
      "text/plain": [
       "<rich.jupyter.JupyterRenderable at 0x7efec42b07b8>"
      ]
     },
     "metadata": {},
     "output_type": "display_data"
    },
    {
     "data": {
      "text/html": [
       "<pre style=\"white-space:pre;overflow-x:auto;line-height:normal;font-family:Menlo,'DejaVu Sans Mono',consolas,'Courier New',monospace\"><span style=\"color: #7fbfbf\">           </span><span style=\"color: #000080\">INFO</span>     Saved the best model with score <span style=\"color: #000080; font-weight: bold\">0.942800</span>                                                                                   <a href=\"file:///home/pfoley1/fl_venv/lib/python3.6/site-packages/fledge/component/aggregator/aggregator.py\"><span style=\"color: #7f7f7f\">aggregator.py</span></a><span style=\"color: #7f7f7f\">:539</span>\n",
       "</pre>\n"
      ],
      "text/plain": [
       "<rich.jupyter.JupyterRenderable at 0x7efec42b0a58>"
      ]
     },
     "metadata": {},
     "output_type": "display_data"
    },
    {
     "data": {
      "text/html": [
       "<pre style=\"white-space:pre;overflow-x:auto;line-height:normal;font-family:Menlo,'DejaVu Sans Mono',consolas,'Courier New',monospace\"><span style=\"color: #7fbfbf\">           </span><span style=\"color: #000080\">INFO</span>     Saving round <span style=\"color: #000080; font-weight: bold\">3</span> model...                                                                                                    <a href=\"file:///home/pfoley1/fl_venv/lib/python3.6/site-packages/fledge/component/aggregator/aggregator.py\"><span style=\"color: #7f7f7f\">aggregator.py</span></a><span style=\"color: #7f7f7f\">:595</span>\n",
       "</pre>\n"
      ],
      "text/plain": [
       "<rich.jupyter.JupyterRenderable at 0x7efec42b00f0>"
      ]
     },
     "metadata": {},
     "output_type": "display_data"
    },
    {
     "data": {
      "text/html": [
       "<pre style=\"white-space:pre;overflow-x:auto;line-height:normal;font-family:Menlo,'DejaVu Sans Mono',consolas,'Courier New',monospace\"><span style=\"color: #7fbfbf\">           </span><span style=\"color: #000080\">INFO</span>     Starting round <span style=\"color: #000080; font-weight: bold\">3</span>...                                                                                                        <a href=\"file:///home/pfoley1/fl_venv/lib/python3.6/site-packages/fledge/component/aggregator/aggregator.py\"><span style=\"color: #7f7f7f\">aggregator.py</span></a><span style=\"color: #7f7f7f\">:603</span>\n",
       "</pre>\n"
      ],
      "text/plain": [
       "<rich.jupyter.JupyterRenderable at 0x7efec42b0080>"
      ]
     },
     "metadata": {},
     "output_type": "display_data"
    },
    {
     "data": {
      "text/html": [
       "<pre style=\"white-space:pre;overflow-x:auto;line-height:normal;font-family:Menlo,'DejaVu Sans Mono',consolas,'Courier New',monospace\"><span style=\"color: #7fbfbf\">           </span><span style=\"color: #000080\">INFO</span>     All tasks completed on two for round <span style=\"color: #000080; font-weight: bold\">2</span>...                                                                                <a href=\"file:///home/pfoley1/fl_venv/lib/python3.6/site-packages/fledge/component/collaborator/collaborator.py\"><span style=\"color: #7f7f7f\">collaborator.py</span></a><span style=\"color: #7f7f7f\">:158</span>\n",
       "</pre>\n"
      ],
      "text/plain": [
       "<rich.jupyter.JupyterRenderable at 0x7efec432a6a0>"
      ]
     },
     "metadata": {},
     "output_type": "display_data"
    },
    {
     "data": {
      "text/html": [
       "<pre style=\"white-space:pre;overflow-x:auto;line-height:normal;font-family:Menlo,'DejaVu Sans Mono',consolas,'Courier New',monospace\"><span style=\"color: #7fbfbf\">           </span><span style=\"color: #000080\">INFO</span>     Collaborator one Waiting for tasks...                                                                                    <a href=\"file:///home/pfoley1/fl_venv/lib/python3.6/site-packages/fledge/component/collaborator/collaborator.py\"><span style=\"color: #7f7f7f\">collaborator.py</span></a><span style=\"color: #7f7f7f\">:163</span>\n",
       "</pre>\n"
      ],
      "text/plain": [
       "<rich.jupyter.JupyterRenderable at 0x7efec432a6a0>"
      ]
     },
     "metadata": {},
     "output_type": "display_data"
    },
    {
     "data": {
      "text/html": [
       "<pre style=\"white-space:pre;overflow-x:auto;line-height:normal;font-family:Menlo,'DejaVu Sans Mono',consolas,'Courier New',monospace\"><span style=\"color: #7fbfbf\">           </span><span style=\"color: #000080\">INFO</span>     Aggregator GetTasks function reached from collaborator one...                                                              <a href=\"file:///home/pfoley1/fl_venv/lib/python3.6/site-packages/fledge/component/aggregator/aggregator.py\"><span style=\"color: #7f7f7f\">aggregator.py</span></a><span style=\"color: #7f7f7f\">:215</span>\n",
       "</pre>\n"
      ],
      "text/plain": [
       "<rich.jupyter.JupyterRenderable at 0x7efec432a3c8>"
      ]
     },
     "metadata": {},
     "output_type": "display_data"
    },
    {
     "data": {
      "text/html": [
       "<pre style=\"white-space:pre;overflow-x:auto;line-height:normal;font-family:Menlo,'DejaVu Sans Mono',consolas,'Courier New',monospace\"><span style=\"color: #7fbfbf\">           </span><span style=\"color: #000080\">INFO</span>     Sending tasks to collaborator one for round <span style=\"color: #000080; font-weight: bold\">3</span>                                                                              <a href=\"file:///home/pfoley1/fl_venv/lib/python3.6/site-packages/fledge/component/aggregator/aggregator.py\"><span style=\"color: #7f7f7f\">aggregator.py</span></a><span style=\"color: #7f7f7f\">:249</span>\n",
       "</pre>\n"
      ],
      "text/plain": [
       "<rich.jupyter.JupyterRenderable at 0x7efec432a3c8>"
      ]
     },
     "metadata": {},
     "output_type": "display_data"
    },
    {
     "data": {
      "text/html": [
       "<pre style=\"white-space:pre;overflow-x:auto;line-height:normal;font-family:Menlo,'DejaVu Sans Mono',consolas,'Courier New',monospace\"><span style=\"color: #7fbfbf\">           </span><span style=\"color: #000080\">INFO</span>     Received the following tasks: <span style=\"font-weight: bold\">[</span><span style=\"color: #008000\">'aggregated_model_validation'</span>, <span style=\"color: #008000\">'train'</span>, <span style=\"color: #008000\">'locally_tuned_model_validation'</span><span style=\"font-weight: bold\">]</span>                 <a href=\"file:///home/pfoley1/fl_venv/lib/python3.6/site-packages/fledge/component/collaborator/collaborator.py\"><span style=\"color: #7f7f7f\">collaborator.py</span></a><span style=\"color: #7f7f7f\">:155</span>\n",
       "</pre>\n"
      ],
      "text/plain": [
       "<rich.jupyter.JupyterRenderable at 0x7efec432a3c8>"
      ]
     },
     "metadata": {},
     "output_type": "display_data"
    },
    {
     "data": {
      "text/html": [
       "<pre style=\"white-space:pre;overflow-x:auto;line-height:normal;font-family:Menlo,'DejaVu Sans Mono',consolas,'Courier New',monospace\"><span style=\"color: #7fbfbf\">           </span><span style=\"color: #000080\">INFO</span>     Sending metric for task aggregated_model_validation, round number <span style=\"color: #000080; font-weight: bold\">3</span>: acc        <span style=\"color: #000080; font-weight: bold\">0.951200008392334</span>                        <a href=\"file:///home/pfoley1/fl_venv/lib/python3.6/site-packages/fledge/component/collaborator/collaborator.py\"><span style=\"color: #7f7f7f\">collaborator.py</span></a><span style=\"color: #7f7f7f\">:319</span>\n",
       "</pre>\n"
      ],
      "text/plain": [
       "<rich.jupyter.JupyterRenderable at 0x7efec42b0908>"
      ]
     },
     "metadata": {},
     "output_type": "display_data"
    },
    {
     "data": {
      "text/html": [
       "<pre style=\"white-space:pre;overflow-x:auto;line-height:normal;font-family:Menlo,'DejaVu Sans Mono',consolas,'Courier New',monospace\"><span style=\"color: #7fbfbf\">           </span><span style=\"color: #000080\">INFO</span>     Collaborator one is sending task results for aggregated_model_validation, round <span style=\"color: #000080; font-weight: bold\">3</span>                                          <a href=\"file:///home/pfoley1/fl_venv/lib/python3.6/site-packages/fledge/component/aggregator/aggregator.py\"><span style=\"color: #7f7f7f\">aggregator.py</span></a><span style=\"color: #7f7f7f\">:369</span>\n",
       "</pre>\n"
      ],
      "text/plain": [
       "<rich.jupyter.JupyterRenderable at 0x7efec42b07f0>"
      ]
     },
     "metadata": {},
     "output_type": "display_data"
    },
    {
     "data": {
      "text/html": [
       "<pre style=\"white-space:pre;overflow-x:auto;line-height:normal;font-family:Menlo,'DejaVu Sans Mono',consolas,'Courier New',monospace\"><span style=\"color: #7fbfbf\">[10:16:48] </span><span style=\"color: #000080\">INFO</span>     Sending metric for task train, round number <span style=\"color: #000080; font-weight: bold\">3</span>: loss     <span style=\"color: #000080; font-weight: bold\">0.15800552568137646</span>                                              <a href=\"file:///home/pfoley1/fl_venv/lib/python3.6/site-packages/fledge/component/collaborator/collaborator.py\"><span style=\"color: #7f7f7f\">collaborator.py</span></a><span style=\"color: #7f7f7f\">:319</span>\n",
       "</pre>\n"
      ],
      "text/plain": [
       "<rich.jupyter.JupyterRenderable at 0x7efec42b0978>"
      ]
     },
     "metadata": {},
     "output_type": "display_data"
    },
    {
     "data": {
      "text/html": [
       "<pre style=\"white-space:pre;overflow-x:auto;line-height:normal;font-family:Menlo,'DejaVu Sans Mono',consolas,'Courier New',monospace\"><span style=\"color: #7fbfbf\">           </span><span style=\"color: #000080\">INFO</span>     Collaborator one is sending task results for train, round <span style=\"color: #000080; font-weight: bold\">3</span>                                                                <a href=\"file:///home/pfoley1/fl_venv/lib/python3.6/site-packages/fledge/component/aggregator/aggregator.py\"><span style=\"color: #7f7f7f\">aggregator.py</span></a><span style=\"color: #7f7f7f\">:369</span>\n",
       "</pre>\n"
      ],
      "text/plain": [
       "<rich.jupyter.JupyterRenderable at 0x7efec42b0908>"
      ]
     },
     "metadata": {},
     "output_type": "display_data"
    },
    {
     "data": {
      "text/html": [
       "<pre style=\"white-space:pre;overflow-x:auto;line-height:normal;font-family:Menlo,'DejaVu Sans Mono',consolas,'Courier New',monospace\"><span style=\"color: #7fbfbf\">           </span><span style=\"color: #000080\">INFO</span>     Sending metric for task locally_tuned_model_validation, round number <span style=\"color: #000080; font-weight: bold\">3</span>: acc     <span style=\"color: #000080; font-weight: bold\">0.953000009059906</span>                        <a href=\"file:///home/pfoley1/fl_venv/lib/python3.6/site-packages/fledge/component/collaborator/collaborator.py\"><span style=\"color: #7f7f7f\">collaborator.py</span></a><span style=\"color: #7f7f7f\">:319</span>\n",
       "</pre>\n"
      ],
      "text/plain": [
       "<rich.jupyter.JupyterRenderable at 0x7efec42b0978>"
      ]
     },
     "metadata": {},
     "output_type": "display_data"
    },
    {
     "data": {
      "text/html": [
       "<pre style=\"white-space:pre;overflow-x:auto;line-height:normal;font-family:Menlo,'DejaVu Sans Mono',consolas,'Courier New',monospace\"><span style=\"color: #7fbfbf\">           </span><span style=\"color: #000080\">INFO</span>     Collaborator one is sending task results for locally_tuned_model_validation, round <span style=\"color: #000080; font-weight: bold\">3</span>                                       <a href=\"file:///home/pfoley1/fl_venv/lib/python3.6/site-packages/fledge/component/aggregator/aggregator.py\"><span style=\"color: #7f7f7f\">aggregator.py</span></a><span style=\"color: #7f7f7f\">:369</span>\n",
       "</pre>\n"
      ],
      "text/plain": [
       "<rich.jupyter.JupyterRenderable at 0x7efec42b0630>"
      ]
     },
     "metadata": {},
     "output_type": "display_data"
    },
    {
     "data": {
      "text/html": [
       "<pre style=\"white-space:pre;overflow-x:auto;line-height:normal;font-family:Menlo,'DejaVu Sans Mono',consolas,'Courier New',monospace\"><span style=\"color: #7fbfbf\">           </span><span style=\"color: #000080\">INFO</span>     All tasks completed on one for round <span style=\"color: #000080; font-weight: bold\">3</span>...                                                                                <a href=\"file:///home/pfoley1/fl_venv/lib/python3.6/site-packages/fledge/component/collaborator/collaborator.py\"><span style=\"color: #7f7f7f\">collaborator.py</span></a><span style=\"color: #7f7f7f\">:158</span>\n",
       "</pre>\n"
      ],
      "text/plain": [
       "<rich.jupyter.JupyterRenderable at 0x7efec42b0940>"
      ]
     },
     "metadata": {},
     "output_type": "display_data"
    },
    {
     "data": {
      "text/html": [
       "<pre style=\"white-space:pre;overflow-x:auto;line-height:normal;font-family:Menlo,'DejaVu Sans Mono',consolas,'Courier New',monospace\"><span style=\"color: #7fbfbf\">           </span><span style=\"color: #000080\">INFO</span>     Collaborator two Waiting for tasks...                                                                                    <a href=\"file:///home/pfoley1/fl_venv/lib/python3.6/site-packages/fledge/component/collaborator/collaborator.py\"><span style=\"color: #7f7f7f\">collaborator.py</span></a><span style=\"color: #7f7f7f\">:163</span>\n",
       "</pre>\n"
      ],
      "text/plain": [
       "<rich.jupyter.JupyterRenderable at 0x7efec42b0748>"
      ]
     },
     "metadata": {},
     "output_type": "display_data"
    },
    {
     "data": {
      "text/html": [
       "<pre style=\"white-space:pre;overflow-x:auto;line-height:normal;font-family:Menlo,'DejaVu Sans Mono',consolas,'Courier New',monospace\"><span style=\"color: #7fbfbf\">           </span><span style=\"color: #000080\">INFO</span>     Aggregator GetTasks function reached from collaborator two...                                                              <a href=\"file:///home/pfoley1/fl_venv/lib/python3.6/site-packages/fledge/component/aggregator/aggregator.py\"><span style=\"color: #7f7f7f\">aggregator.py</span></a><span style=\"color: #7f7f7f\">:215</span>\n",
       "</pre>\n"
      ],
      "text/plain": [
       "<rich.jupyter.JupyterRenderable at 0x7efec42b0160>"
      ]
     },
     "metadata": {},
     "output_type": "display_data"
    },
    {
     "data": {
      "text/html": [
       "<pre style=\"white-space:pre;overflow-x:auto;line-height:normal;font-family:Menlo,'DejaVu Sans Mono',consolas,'Courier New',monospace\"><span style=\"color: #7fbfbf\">           </span><span style=\"color: #000080\">INFO</span>     Sending tasks to collaborator two for round <span style=\"color: #000080; font-weight: bold\">3</span>                                                                              <a href=\"file:///home/pfoley1/fl_venv/lib/python3.6/site-packages/fledge/component/aggregator/aggregator.py\"><span style=\"color: #7f7f7f\">aggregator.py</span></a><span style=\"color: #7f7f7f\">:249</span>\n",
       "</pre>\n"
      ],
      "text/plain": [
       "<rich.jupyter.JupyterRenderable at 0x7efec42b0a58>"
      ]
     },
     "metadata": {},
     "output_type": "display_data"
    },
    {
     "data": {
      "text/html": [
       "<pre style=\"white-space:pre;overflow-x:auto;line-height:normal;font-family:Menlo,'DejaVu Sans Mono',consolas,'Courier New',monospace\"><span style=\"color: #7fbfbf\">           </span><span style=\"color: #000080\">INFO</span>     Received the following tasks: <span style=\"font-weight: bold\">[</span><span style=\"color: #008000\">'aggregated_model_validation'</span>, <span style=\"color: #008000\">'train'</span>, <span style=\"color: #008000\">'locally_tuned_model_validation'</span><span style=\"font-weight: bold\">]</span>                 <a href=\"file:///home/pfoley1/fl_venv/lib/python3.6/site-packages/fledge/component/collaborator/collaborator.py\"><span style=\"color: #7f7f7f\">collaborator.py</span></a><span style=\"color: #7f7f7f\">:155</span>\n",
       "</pre>\n"
      ],
      "text/plain": [
       "<rich.jupyter.JupyterRenderable at 0x7efec42b0630>"
      ]
     },
     "metadata": {},
     "output_type": "display_data"
    },
    {
     "data": {
      "text/html": [
       "<pre style=\"white-space:pre;overflow-x:auto;line-height:normal;font-family:Menlo,'DejaVu Sans Mono',consolas,'Courier New',monospace\"><span style=\"color: #7fbfbf\">[10:16:49] </span><span style=\"color: #000080\">INFO</span>     Sending metric for task aggregated_model_validation, round number <span style=\"color: #000080; font-weight: bold\">3</span>: acc        <span style=\"color: #000080; font-weight: bold\">0.951200008392334</span>                        <a href=\"file:///home/pfoley1/fl_venv/lib/python3.6/site-packages/fledge/component/collaborator/collaborator.py\"><span style=\"color: #7f7f7f\">collaborator.py</span></a><span style=\"color: #7f7f7f\">:319</span>\n",
       "</pre>\n"
      ],
      "text/plain": [
       "<rich.jupyter.JupyterRenderable at 0x7efec42b06d8>"
      ]
     },
     "metadata": {},
     "output_type": "display_data"
    },
    {
     "data": {
      "text/html": [
       "<pre style=\"white-space:pre;overflow-x:auto;line-height:normal;font-family:Menlo,'DejaVu Sans Mono',consolas,'Courier New',monospace\"><span style=\"color: #7fbfbf\">           </span><span style=\"color: #000080\">INFO</span>     Collaborator two is sending task results for aggregated_model_validation, round <span style=\"color: #000080; font-weight: bold\">3</span>                                          <a href=\"file:///home/pfoley1/fl_venv/lib/python3.6/site-packages/fledge/component/aggregator/aggregator.py\"><span style=\"color: #7f7f7f\">aggregator.py</span></a><span style=\"color: #7f7f7f\">:369</span>\n",
       "</pre>\n"
      ],
      "text/plain": [
       "<rich.jupyter.JupyterRenderable at 0x7efec432a748>"
      ]
     },
     "metadata": {},
     "output_type": "display_data"
    },
    {
     "data": {
      "text/html": [
       "<pre style=\"white-space:pre;overflow-x:auto;line-height:normal;font-family:Menlo,'DejaVu Sans Mono',consolas,'Courier New',monospace\"><span style=\"color: #7fbfbf\">[10:16:51] </span><span style=\"color: #000080\">INFO</span>     Sending metric for task train, round number <span style=\"color: #000080; font-weight: bold\">3</span>: loss     <span style=\"color: #000080; font-weight: bold\">0.15674723710070054</span>                                              <a href=\"file:///home/pfoley1/fl_venv/lib/python3.6/site-packages/fledge/component/collaborator/collaborator.py\"><span style=\"color: #7f7f7f\">collaborator.py</span></a><span style=\"color: #7f7f7f\">:319</span>\n",
       "</pre>\n"
      ],
      "text/plain": [
       "<rich.jupyter.JupyterRenderable at 0x7efec42b0cf8>"
      ]
     },
     "metadata": {},
     "output_type": "display_data"
    },
    {
     "data": {
      "text/html": [
       "<pre style=\"white-space:pre;overflow-x:auto;line-height:normal;font-family:Menlo,'DejaVu Sans Mono',consolas,'Courier New',monospace\"><span style=\"color: #7fbfbf\">           </span><span style=\"color: #000080\">INFO</span>     Collaborator two is sending task results for train, round <span style=\"color: #000080; font-weight: bold\">3</span>                                                                <a href=\"file:///home/pfoley1/fl_venv/lib/python3.6/site-packages/fledge/component/aggregator/aggregator.py\"><span style=\"color: #7f7f7f\">aggregator.py</span></a><span style=\"color: #7f7f7f\">:369</span>\n",
       "</pre>\n"
      ],
      "text/plain": [
       "<rich.jupyter.JupyterRenderable at 0x7efec42b0ac8>"
      ]
     },
     "metadata": {},
     "output_type": "display_data"
    },
    {
     "data": {
      "text/html": [
       "<pre style=\"white-space:pre;overflow-x:auto;line-height:normal;font-family:Menlo,'DejaVu Sans Mono',consolas,'Courier New',monospace\"><span style=\"color: #7fbfbf\">           </span><span style=\"color: #000080\">INFO</span>     Sending metric for task locally_tuned_model_validation, round number <span style=\"color: #000080; font-weight: bold\">3</span>: acc     <span style=\"color: #000080; font-weight: bold\">0.9521999955177307</span>                       <a href=\"file:///home/pfoley1/fl_venv/lib/python3.6/site-packages/fledge/component/collaborator/collaborator.py\"><span style=\"color: #7f7f7f\">collaborator.py</span></a><span style=\"color: #7f7f7f\">:319</span>\n",
       "</pre>\n"
      ],
      "text/plain": [
       "<rich.jupyter.JupyterRenderable at 0x7efec4322940>"
      ]
     },
     "metadata": {},
     "output_type": "display_data"
    },
    {
     "data": {
      "text/html": [
       "<pre style=\"white-space:pre;overflow-x:auto;line-height:normal;font-family:Menlo,'DejaVu Sans Mono',consolas,'Courier New',monospace\"><span style=\"color: #7fbfbf\">           </span><span style=\"color: #000080\">INFO</span>     Collaborator two is sending task results for locally_tuned_model_validation, round <span style=\"color: #000080; font-weight: bold\">3</span>                                       <a href=\"file:///home/pfoley1/fl_venv/lib/python3.6/site-packages/fledge/component/aggregator/aggregator.py\"><span style=\"color: #7f7f7f\">aggregator.py</span></a><span style=\"color: #7f7f7f\">:369</span>\n",
       "</pre>\n"
      ],
      "text/plain": [
       "<rich.jupyter.JupyterRenderable at 0x7efec432a160>"
      ]
     },
     "metadata": {},
     "output_type": "display_data"
    },
    {
     "data": {
      "text/html": [
       "<pre style=\"white-space:pre;overflow-x:auto;line-height:normal;font-family:Menlo,'DejaVu Sans Mono',consolas,'Courier New',monospace\"><span style=\"color: #7fbfbf\">           </span><span style=\"color: #000080\">INFO</span>     train task metrics...                                                                                                      <a href=\"file:///home/pfoley1/fl_venv/lib/python3.6/site-packages/fledge/component/aggregator/aggregator.py\"><span style=\"color: #7f7f7f\">aggregator.py</span></a><span style=\"color: #7f7f7f\">:505</span>\n",
       "</pre>\n"
      ],
      "text/plain": [
       "<rich.jupyter.JupyterRenderable at 0x7efec4322198>"
      ]
     },
     "metadata": {},
     "output_type": "display_data"
    },
    {
     "data": {
      "text/html": [
       "<pre style=\"white-space:pre;overflow-x:auto;line-height:normal;font-family:Menlo,'DejaVu Sans Mono',consolas,'Courier New',monospace\"><span style=\"color: #7fbfbf\">           </span><span style=\"color: #000080\">INFO</span>     loss:   <span style=\"color: #000080; font-weight: bold\">0.1574</span>                                                                                                             <a href=\"file:///home/pfoley1/fl_venv/lib/python3.6/site-packages/fledge/component/aggregator/aggregator.py\"><span style=\"color: #7f7f7f\">aggregator.py</span></a><span style=\"color: #7f7f7f\">:534</span>\n",
       "</pre>\n"
      ],
      "text/plain": [
       "<rich.jupyter.JupyterRenderable at 0x7efec4322240>"
      ]
     },
     "metadata": {},
     "output_type": "display_data"
    },
    {
     "data": {
      "text/html": [
       "<pre style=\"white-space:pre;overflow-x:auto;line-height:normal;font-family:Menlo,'DejaVu Sans Mono',consolas,'Courier New',monospace\"><span style=\"color: #7fbfbf\">           </span><span style=\"color: #000080\">INFO</span>     locally_tuned_model_validation task metrics...                                                                             <a href=\"file:///home/pfoley1/fl_venv/lib/python3.6/site-packages/fledge/component/aggregator/aggregator.py\"><span style=\"color: #7f7f7f\">aggregator.py</span></a><span style=\"color: #7f7f7f\">:505</span>\n",
       "</pre>\n"
      ],
      "text/plain": [
       "<rich.jupyter.JupyterRenderable at 0x7efec4322940>"
      ]
     },
     "metadata": {},
     "output_type": "display_data"
    },
    {
     "data": {
      "text/html": [
       "<pre style=\"white-space:pre;overflow-x:auto;line-height:normal;font-family:Menlo,'DejaVu Sans Mono',consolas,'Courier New',monospace\"><span style=\"color: #7fbfbf\">           </span><span style=\"color: #000080\">INFO</span>     acc:    <span style=\"color: #000080; font-weight: bold\">0.9526</span>                                                                                                             <a href=\"file:///home/pfoley1/fl_venv/lib/python3.6/site-packages/fledge/component/aggregator/aggregator.py\"><span style=\"color: #7f7f7f\">aggregator.py</span></a><span style=\"color: #7f7f7f\">:534</span>\n",
       "</pre>\n"
      ],
      "text/plain": [
       "<rich.jupyter.JupyterRenderable at 0x7efec4322940>"
      ]
     },
     "metadata": {},
     "output_type": "display_data"
    },
    {
     "data": {
      "text/html": [
       "<pre style=\"white-space:pre;overflow-x:auto;line-height:normal;font-family:Menlo,'DejaVu Sans Mono',consolas,'Courier New',monospace\"><span style=\"color: #7fbfbf\">           </span><span style=\"color: #000080\">INFO</span>     aggregated_model_validation task metrics...                                                                                <a href=\"file:///home/pfoley1/fl_venv/lib/python3.6/site-packages/fledge/component/aggregator/aggregator.py\"><span style=\"color: #7f7f7f\">aggregator.py</span></a><span style=\"color: #7f7f7f\">:505</span>\n",
       "</pre>\n"
      ],
      "text/plain": [
       "<rich.jupyter.JupyterRenderable at 0x7efec432a518>"
      ]
     },
     "metadata": {},
     "output_type": "display_data"
    },
    {
     "data": {
      "text/html": [
       "<pre style=\"white-space:pre;overflow-x:auto;line-height:normal;font-family:Menlo,'DejaVu Sans Mono',consolas,'Courier New',monospace\"><span style=\"color: #7fbfbf\">           </span><span style=\"color: #000080\">INFO</span>     acc:    <span style=\"color: #000080; font-weight: bold\">0.9512</span>                                                                                                             <a href=\"file:///home/pfoley1/fl_venv/lib/python3.6/site-packages/fledge/component/aggregator/aggregator.py\"><span style=\"color: #7f7f7f\">aggregator.py</span></a><span style=\"color: #7f7f7f\">:534</span>\n",
       "</pre>\n"
      ],
      "text/plain": [
       "<rich.jupyter.JupyterRenderable at 0x7efec432a978>"
      ]
     },
     "metadata": {},
     "output_type": "display_data"
    },
    {
     "data": {
      "text/html": [
       "<pre style=\"white-space:pre;overflow-x:auto;line-height:normal;font-family:Menlo,'DejaVu Sans Mono',consolas,'Courier New',monospace\"><span style=\"color: #7fbfbf\">           </span><span style=\"color: #000080\">INFO</span>     Saved the best model with score <span style=\"color: #000080; font-weight: bold\">0.951200</span>                                                                                   <a href=\"file:///home/pfoley1/fl_venv/lib/python3.6/site-packages/fledge/component/aggregator/aggregator.py\"><span style=\"color: #7f7f7f\">aggregator.py</span></a><span style=\"color: #7f7f7f\">:539</span>\n",
       "</pre>\n"
      ],
      "text/plain": [
       "<rich.jupyter.JupyterRenderable at 0x7efec4322e48>"
      ]
     },
     "metadata": {},
     "output_type": "display_data"
    },
    {
     "data": {
      "text/html": [
       "<pre style=\"white-space:pre;overflow-x:auto;line-height:normal;font-family:Menlo,'DejaVu Sans Mono',consolas,'Courier New',monospace\"><span style=\"color: #7fbfbf\">           </span><span style=\"color: #000080\">INFO</span>     Saving round <span style=\"color: #000080; font-weight: bold\">4</span> model...                                                                                                    <a href=\"file:///home/pfoley1/fl_venv/lib/python3.6/site-packages/fledge/component/aggregator/aggregator.py\"><span style=\"color: #7f7f7f\">aggregator.py</span></a><span style=\"color: #7f7f7f\">:595</span>\n",
       "</pre>\n"
      ],
      "text/plain": [
       "<rich.jupyter.JupyterRenderable at 0x7efec4322e48>"
      ]
     },
     "metadata": {},
     "output_type": "display_data"
    },
    {
     "data": {
      "text/html": [
       "<pre style=\"white-space:pre;overflow-x:auto;line-height:normal;font-family:Menlo,'DejaVu Sans Mono',consolas,'Courier New',monospace\"><span style=\"color: #7fbfbf\">           </span><span style=\"color: #000080\">INFO</span>     Starting round <span style=\"color: #000080; font-weight: bold\">4</span>...                                                                                                        <a href=\"file:///home/pfoley1/fl_venv/lib/python3.6/site-packages/fledge/component/aggregator/aggregator.py\"><span style=\"color: #7f7f7f\">aggregator.py</span></a><span style=\"color: #7f7f7f\">:603</span>\n",
       "</pre>\n"
      ],
      "text/plain": [
       "<rich.jupyter.JupyterRenderable at 0x7efec4322198>"
      ]
     },
     "metadata": {},
     "output_type": "display_data"
    },
    {
     "data": {
      "text/html": [
       "<pre style=\"white-space:pre;overflow-x:auto;line-height:normal;font-family:Menlo,'DejaVu Sans Mono',consolas,'Courier New',monospace\"><span style=\"color: #7fbfbf\">           </span><span style=\"color: #000080\">INFO</span>     All tasks completed on two for round <span style=\"color: #000080; font-weight: bold\">3</span>...                                                                                <a href=\"file:///home/pfoley1/fl_venv/lib/python3.6/site-packages/fledge/component/collaborator/collaborator.py\"><span style=\"color: #7f7f7f\">collaborator.py</span></a><span style=\"color: #7f7f7f\">:158</span>\n",
       "</pre>\n"
      ],
      "text/plain": [
       "<rich.jupyter.JupyterRenderable at 0x7efec4322240>"
      ]
     },
     "metadata": {},
     "output_type": "display_data"
    },
    {
     "data": {
      "text/html": [
       "<pre style=\"white-space:pre;overflow-x:auto;line-height:normal;font-family:Menlo,'DejaVu Sans Mono',consolas,'Courier New',monospace\"><span style=\"color: #7fbfbf\">           </span><span style=\"color: #000080\">INFO</span>     Collaborator one Waiting for tasks...                                                                                    <a href=\"file:///home/pfoley1/fl_venv/lib/python3.6/site-packages/fledge/component/collaborator/collaborator.py\"><span style=\"color: #7f7f7f\">collaborator.py</span></a><span style=\"color: #7f7f7f\">:163</span>\n",
       "</pre>\n"
      ],
      "text/plain": [
       "<rich.jupyter.JupyterRenderable at 0x7efec4322198>"
      ]
     },
     "metadata": {},
     "output_type": "display_data"
    },
    {
     "data": {
      "text/html": [
       "<pre style=\"white-space:pre;overflow-x:auto;line-height:normal;font-family:Menlo,'DejaVu Sans Mono',consolas,'Courier New',monospace\"><span style=\"color: #7fbfbf\">           </span><span style=\"color: #000080\">INFO</span>     Aggregator GetTasks function reached from collaborator one...                                                              <a href=\"file:///home/pfoley1/fl_venv/lib/python3.6/site-packages/fledge/component/aggregator/aggregator.py\"><span style=\"color: #7f7f7f\">aggregator.py</span></a><span style=\"color: #7f7f7f\">:215</span>\n",
       "</pre>\n"
      ],
      "text/plain": [
       "<rich.jupyter.JupyterRenderable at 0x7efec4322198>"
      ]
     },
     "metadata": {},
     "output_type": "display_data"
    },
    {
     "data": {
      "text/html": [
       "<pre style=\"white-space:pre;overflow-x:auto;line-height:normal;font-family:Menlo,'DejaVu Sans Mono',consolas,'Courier New',monospace\"><span style=\"color: #7fbfbf\">           </span><span style=\"color: #000080\">INFO</span>     Sending tasks to collaborator one for round <span style=\"color: #000080; font-weight: bold\">4</span>                                                                              <a href=\"file:///home/pfoley1/fl_venv/lib/python3.6/site-packages/fledge/component/aggregator/aggregator.py\"><span style=\"color: #7f7f7f\">aggregator.py</span></a><span style=\"color: #7f7f7f\">:249</span>\n",
       "</pre>\n"
      ],
      "text/plain": [
       "<rich.jupyter.JupyterRenderable at 0x7efec4322198>"
      ]
     },
     "metadata": {},
     "output_type": "display_data"
    },
    {
     "data": {
      "text/html": [
       "<pre style=\"white-space:pre;overflow-x:auto;line-height:normal;font-family:Menlo,'DejaVu Sans Mono',consolas,'Courier New',monospace\"><span style=\"color: #7fbfbf\">           </span><span style=\"color: #000080\">INFO</span>     Received the following tasks: <span style=\"font-weight: bold\">[</span><span style=\"color: #008000\">'aggregated_model_validation'</span>, <span style=\"color: #008000\">'train'</span>, <span style=\"color: #008000\">'locally_tuned_model_validation'</span><span style=\"font-weight: bold\">]</span>                 <a href=\"file:///home/pfoley1/fl_venv/lib/python3.6/site-packages/fledge/component/collaborator/collaborator.py\"><span style=\"color: #7f7f7f\">collaborator.py</span></a><span style=\"color: #7f7f7f\">:155</span>\n",
       "</pre>\n"
      ],
      "text/plain": [
       "<rich.jupyter.JupyterRenderable at 0x7efec4322240>"
      ]
     },
     "metadata": {},
     "output_type": "display_data"
    },
    {
     "data": {
      "text/html": [
       "<pre style=\"white-space:pre;overflow-x:auto;line-height:normal;font-family:Menlo,'DejaVu Sans Mono',consolas,'Courier New',monospace\"><span style=\"color: #7fbfbf\">[10:16:52] </span><span style=\"color: #000080\">INFO</span>     Sending metric for task aggregated_model_validation, round number <span style=\"color: #000080; font-weight: bold\">4</span>: acc        <span style=\"color: #000080; font-weight: bold\">0.9571999907493591</span>                       <a href=\"file:///home/pfoley1/fl_venv/lib/python3.6/site-packages/fledge/component/collaborator/collaborator.py\"><span style=\"color: #7f7f7f\">collaborator.py</span></a><span style=\"color: #7f7f7f\">:319</span>\n",
       "</pre>\n"
      ],
      "text/plain": [
       "<rich.jupyter.JupyterRenderable at 0x7efec42c27b8>"
      ]
     },
     "metadata": {},
     "output_type": "display_data"
    },
    {
     "data": {
      "text/html": [
       "<pre style=\"white-space:pre;overflow-x:auto;line-height:normal;font-family:Menlo,'DejaVu Sans Mono',consolas,'Courier New',monospace\"><span style=\"color: #7fbfbf\">           </span><span style=\"color: #000080\">INFO</span>     Collaborator one is sending task results for aggregated_model_validation, round <span style=\"color: #000080; font-weight: bold\">4</span>                                          <a href=\"file:///home/pfoley1/fl_venv/lib/python3.6/site-packages/fledge/component/aggregator/aggregator.py\"><span style=\"color: #7f7f7f\">aggregator.py</span></a><span style=\"color: #7f7f7f\">:369</span>\n",
       "</pre>\n"
      ],
      "text/plain": [
       "<rich.jupyter.JupyterRenderable at 0x7efec42c2588>"
      ]
     },
     "metadata": {},
     "output_type": "display_data"
    },
    {
     "data": {
      "text/html": [
       "<pre style=\"white-space:pre;overflow-x:auto;line-height:normal;font-family:Menlo,'DejaVu Sans Mono',consolas,'Courier New',monospace\"><span style=\"color: #7fbfbf\">[10:16:54] </span><span style=\"color: #000080\">INFO</span>     Sending metric for task train, round number <span style=\"color: #000080; font-weight: bold\">4</span>: loss     <span style=\"color: #000080; font-weight: bold\">0.13238197353954118</span>                                              <a href=\"file:///home/pfoley1/fl_venv/lib/python3.6/site-packages/fledge/component/collaborator/collaborator.py\"><span style=\"color: #7f7f7f\">collaborator.py</span></a><span style=\"color: #7f7f7f\">:319</span>\n",
       "</pre>\n"
      ],
      "text/plain": [
       "<rich.jupyter.JupyterRenderable at 0x7efec42c2898>"
      ]
     },
     "metadata": {},
     "output_type": "display_data"
    },
    {
     "data": {
      "text/html": [
       "<pre style=\"white-space:pre;overflow-x:auto;line-height:normal;font-family:Menlo,'DejaVu Sans Mono',consolas,'Courier New',monospace\"><span style=\"color: #7fbfbf\">           </span><span style=\"color: #000080\">INFO</span>     Collaborator one is sending task results for train, round <span style=\"color: #000080; font-weight: bold\">4</span>                                                                <a href=\"file:///home/pfoley1/fl_venv/lib/python3.6/site-packages/fledge/component/aggregator/aggregator.py\"><span style=\"color: #7f7f7f\">aggregator.py</span></a><span style=\"color: #7f7f7f\">:369</span>\n",
       "</pre>\n"
      ],
      "text/plain": [
       "<rich.jupyter.JupyterRenderable at 0x7efec42c27b8>"
      ]
     },
     "metadata": {},
     "output_type": "display_data"
    },
    {
     "data": {
      "text/html": [
       "<pre style=\"white-space:pre;overflow-x:auto;line-height:normal;font-family:Menlo,'DejaVu Sans Mono',consolas,'Courier New',monospace\"><span style=\"color: #7fbfbf\">           </span><span style=\"color: #000080\">INFO</span>     Sending metric for task locally_tuned_model_validation, round number <span style=\"color: #000080; font-weight: bold\">4</span>: acc     <span style=\"color: #000080; font-weight: bold\">0.9531999826431274</span>                       <a href=\"file:///home/pfoley1/fl_venv/lib/python3.6/site-packages/fledge/component/collaborator/collaborator.py\"><span style=\"color: #7f7f7f\">collaborator.py</span></a><span style=\"color: #7f7f7f\">:319</span>\n",
       "</pre>\n"
      ],
      "text/plain": [
       "<rich.jupyter.JupyterRenderable at 0x7efec432a518>"
      ]
     },
     "metadata": {},
     "output_type": "display_data"
    },
    {
     "data": {
      "text/html": [
       "<pre style=\"white-space:pre;overflow-x:auto;line-height:normal;font-family:Menlo,'DejaVu Sans Mono',consolas,'Courier New',monospace\"><span style=\"color: #7fbfbf\">           </span><span style=\"color: #000080\">INFO</span>     Collaborator one is sending task results for locally_tuned_model_validation, round <span style=\"color: #000080; font-weight: bold\">4</span>                                       <a href=\"file:///home/pfoley1/fl_venv/lib/python3.6/site-packages/fledge/component/aggregator/aggregator.py\"><span style=\"color: #7f7f7f\">aggregator.py</span></a><span style=\"color: #7f7f7f\">:369</span>\n",
       "</pre>\n"
      ],
      "text/plain": [
       "<rich.jupyter.JupyterRenderable at 0x7efec42c23c8>"
      ]
     },
     "metadata": {},
     "output_type": "display_data"
    },
    {
     "data": {
      "text/html": [
       "<pre style=\"white-space:pre;overflow-x:auto;line-height:normal;font-family:Menlo,'DejaVu Sans Mono',consolas,'Courier New',monospace\"><span style=\"color: #7fbfbf\">           </span><span style=\"color: #000080\">INFO</span>     All tasks completed on one for round <span style=\"color: #000080; font-weight: bold\">4</span>...                                                                                <a href=\"file:///home/pfoley1/fl_venv/lib/python3.6/site-packages/fledge/component/collaborator/collaborator.py\"><span style=\"color: #7f7f7f\">collaborator.py</span></a><span style=\"color: #7f7f7f\">:158</span>\n",
       "</pre>\n"
      ],
      "text/plain": [
       "<rich.jupyter.JupyterRenderable at 0x7efec42c2d30>"
      ]
     },
     "metadata": {},
     "output_type": "display_data"
    },
    {
     "data": {
      "text/html": [
       "<pre style=\"white-space:pre;overflow-x:auto;line-height:normal;font-family:Menlo,'DejaVu Sans Mono',consolas,'Courier New',monospace\"><span style=\"color: #7fbfbf\">           </span><span style=\"color: #000080\">INFO</span>     Collaborator two Waiting for tasks...                                                                                    <a href=\"file:///home/pfoley1/fl_venv/lib/python3.6/site-packages/fledge/component/collaborator/collaborator.py\"><span style=\"color: #7f7f7f\">collaborator.py</span></a><span style=\"color: #7f7f7f\">:163</span>\n",
       "</pre>\n"
      ],
      "text/plain": [
       "<rich.jupyter.JupyterRenderable at 0x7efec42c29b0>"
      ]
     },
     "metadata": {},
     "output_type": "display_data"
    },
    {
     "data": {
      "text/html": [
       "<pre style=\"white-space:pre;overflow-x:auto;line-height:normal;font-family:Menlo,'DejaVu Sans Mono',consolas,'Courier New',monospace\"><span style=\"color: #7fbfbf\">           </span><span style=\"color: #000080\">INFO</span>     Aggregator GetTasks function reached from collaborator two...                                                              <a href=\"file:///home/pfoley1/fl_venv/lib/python3.6/site-packages/fledge/component/aggregator/aggregator.py\"><span style=\"color: #7f7f7f\">aggregator.py</span></a><span style=\"color: #7f7f7f\">:215</span>\n",
       "</pre>\n"
      ],
      "text/plain": [
       "<rich.jupyter.JupyterRenderable at 0x7efec42c2c18>"
      ]
     },
     "metadata": {},
     "output_type": "display_data"
    },
    {
     "data": {
      "text/html": [
       "<pre style=\"white-space:pre;overflow-x:auto;line-height:normal;font-family:Menlo,'DejaVu Sans Mono',consolas,'Courier New',monospace\"><span style=\"color: #7fbfbf\">           </span><span style=\"color: #000080\">INFO</span>     Sending tasks to collaborator two for round <span style=\"color: #000080; font-weight: bold\">4</span>                                                                              <a href=\"file:///home/pfoley1/fl_venv/lib/python3.6/site-packages/fledge/component/aggregator/aggregator.py\"><span style=\"color: #7f7f7f\">aggregator.py</span></a><span style=\"color: #7f7f7f\">:249</span>\n",
       "</pre>\n"
      ],
      "text/plain": [
       "<rich.jupyter.JupyterRenderable at 0x7efec42c2518>"
      ]
     },
     "metadata": {},
     "output_type": "display_data"
    },
    {
     "data": {
      "text/html": [
       "<pre style=\"white-space:pre;overflow-x:auto;line-height:normal;font-family:Menlo,'DejaVu Sans Mono',consolas,'Courier New',monospace\"><span style=\"color: #7fbfbf\">           </span><span style=\"color: #000080\">INFO</span>     Received the following tasks: <span style=\"font-weight: bold\">[</span><span style=\"color: #008000\">'aggregated_model_validation'</span>, <span style=\"color: #008000\">'train'</span>, <span style=\"color: #008000\">'locally_tuned_model_validation'</span><span style=\"font-weight: bold\">]</span>                 <a href=\"file:///home/pfoley1/fl_venv/lib/python3.6/site-packages/fledge/component/collaborator/collaborator.py\"><span style=\"color: #7f7f7f\">collaborator.py</span></a><span style=\"color: #7f7f7f\">:155</span>\n",
       "</pre>\n"
      ],
      "text/plain": [
       "<rich.jupyter.JupyterRenderable at 0x7efec42c2f98>"
      ]
     },
     "metadata": {},
     "output_type": "display_data"
    },
    {
     "data": {
      "text/html": [
       "<pre style=\"white-space:pre;overflow-x:auto;line-height:normal;font-family:Menlo,'DejaVu Sans Mono',consolas,'Courier New',monospace\"><span style=\"color: #7fbfbf\">           </span><span style=\"color: #000080\">INFO</span>     Sending metric for task aggregated_model_validation, round number <span style=\"color: #000080; font-weight: bold\">4</span>: acc        <span style=\"color: #000080; font-weight: bold\">0.9571999907493591</span>                       <a href=\"file:///home/pfoley1/fl_venv/lib/python3.6/site-packages/fledge/component/collaborator/collaborator.py\"><span style=\"color: #7f7f7f\">collaborator.py</span></a><span style=\"color: #7f7f7f\">:319</span>\n",
       "</pre>\n"
      ],
      "text/plain": [
       "<rich.jupyter.JupyterRenderable at 0x7efec42c2cf8>"
      ]
     },
     "metadata": {},
     "output_type": "display_data"
    },
    {
     "data": {
      "text/html": [
       "<pre style=\"white-space:pre;overflow-x:auto;line-height:normal;font-family:Menlo,'DejaVu Sans Mono',consolas,'Courier New',monospace\"><span style=\"color: #7fbfbf\">           </span><span style=\"color: #000080\">INFO</span>     Collaborator two is sending task results for aggregated_model_validation, round <span style=\"color: #000080; font-weight: bold\">4</span>                                          <a href=\"file:///home/pfoley1/fl_venv/lib/python3.6/site-packages/fledge/component/aggregator/aggregator.py\"><span style=\"color: #7f7f7f\">aggregator.py</span></a><span style=\"color: #7f7f7f\">:369</span>\n",
       "</pre>\n"
      ],
      "text/plain": [
       "<rich.jupyter.JupyterRenderable at 0x7efec42c2630>"
      ]
     },
     "metadata": {},
     "output_type": "display_data"
    },
    {
     "data": {
      "text/html": [
       "<pre style=\"white-space:pre;overflow-x:auto;line-height:normal;font-family:Menlo,'DejaVu Sans Mono',consolas,'Courier New',monospace\"><span style=\"color: #7fbfbf\">[10:16:57] </span><span style=\"color: #000080\">INFO</span>     Sending metric for task train, round number <span style=\"color: #000080; font-weight: bold\">4</span>: loss     <span style=\"color: #000080; font-weight: bold\">0.13217818475017945</span>                                              <a href=\"file:///home/pfoley1/fl_venv/lib/python3.6/site-packages/fledge/component/collaborator/collaborator.py\"><span style=\"color: #7f7f7f\">collaborator.py</span></a><span style=\"color: #7f7f7f\">:319</span>\n",
       "</pre>\n"
      ],
      "text/plain": [
       "<rich.jupyter.JupyterRenderable at 0x7efec42c2518>"
      ]
     },
     "metadata": {},
     "output_type": "display_data"
    },
    {
     "data": {
      "text/html": [
       "<pre style=\"white-space:pre;overflow-x:auto;line-height:normal;font-family:Menlo,'DejaVu Sans Mono',consolas,'Courier New',monospace\"><span style=\"color: #7fbfbf\">           </span><span style=\"color: #000080\">INFO</span>     Collaborator two is sending task results for train, round <span style=\"color: #000080; font-weight: bold\">4</span>                                                                <a href=\"file:///home/pfoley1/fl_venv/lib/python3.6/site-packages/fledge/component/aggregator/aggregator.py\"><span style=\"color: #7f7f7f\">aggregator.py</span></a><span style=\"color: #7f7f7f\">:369</span>\n",
       "</pre>\n"
      ],
      "text/plain": [
       "<rich.jupyter.JupyterRenderable at 0x7efec42c22b0>"
      ]
     },
     "metadata": {},
     "output_type": "display_data"
    },
    {
     "data": {
      "text/html": [
       "<pre style=\"white-space:pre;overflow-x:auto;line-height:normal;font-family:Menlo,'DejaVu Sans Mono',consolas,'Courier New',monospace\"><span style=\"color: #7fbfbf\">           </span><span style=\"color: #000080\">INFO</span>     Sending metric for task locally_tuned_model_validation, round number <span style=\"color: #000080; font-weight: bold\">4</span>: acc     <span style=\"color: #000080; font-weight: bold\">0.9490000009536743</span>                       <a href=\"file:///home/pfoley1/fl_venv/lib/python3.6/site-packages/fledge/component/collaborator/collaborator.py\"><span style=\"color: #7f7f7f\">collaborator.py</span></a><span style=\"color: #7f7f7f\">:319</span>\n",
       "</pre>\n"
      ],
      "text/plain": [
       "<rich.jupyter.JupyterRenderable at 0x7efec42c2588>"
      ]
     },
     "metadata": {},
     "output_type": "display_data"
    },
    {
     "data": {
      "text/html": [
       "<pre style=\"white-space:pre;overflow-x:auto;line-height:normal;font-family:Menlo,'DejaVu Sans Mono',consolas,'Courier New',monospace\"><span style=\"color: #7fbfbf\">           </span><span style=\"color: #000080\">INFO</span>     Collaborator two is sending task results for locally_tuned_model_validation, round <span style=\"color: #000080; font-weight: bold\">4</span>                                       <a href=\"file:///home/pfoley1/fl_venv/lib/python3.6/site-packages/fledge/component/aggregator/aggregator.py\"><span style=\"color: #7f7f7f\">aggregator.py</span></a><span style=\"color: #7f7f7f\">:369</span>\n",
       "</pre>\n"
      ],
      "text/plain": [
       "<rich.jupyter.JupyterRenderable at 0x7efec42c2d68>"
      ]
     },
     "metadata": {},
     "output_type": "display_data"
    },
    {
     "data": {
      "text/html": [
       "<pre style=\"white-space:pre;overflow-x:auto;line-height:normal;font-family:Menlo,'DejaVu Sans Mono',consolas,'Courier New',monospace\"><span style=\"color: #7fbfbf\">           </span><span style=\"color: #000080\">INFO</span>     train task metrics...                                                                                                      <a href=\"file:///home/pfoley1/fl_venv/lib/python3.6/site-packages/fledge/component/aggregator/aggregator.py\"><span style=\"color: #7f7f7f\">aggregator.py</span></a><span style=\"color: #7f7f7f\">:505</span>\n",
       "</pre>\n"
      ],
      "text/plain": [
       "<rich.jupyter.JupyterRenderable at 0x7efec42be5f8>"
      ]
     },
     "metadata": {},
     "output_type": "display_data"
    },
    {
     "data": {
      "text/html": [
       "<pre style=\"white-space:pre;overflow-x:auto;line-height:normal;font-family:Menlo,'DejaVu Sans Mono',consolas,'Courier New',monospace\"><span style=\"color: #7fbfbf\">           </span><span style=\"color: #000080\">INFO</span>     loss:   <span style=\"color: #000080; font-weight: bold\">0.1323</span>                                                                                                             <a href=\"file:///home/pfoley1/fl_venv/lib/python3.6/site-packages/fledge/component/aggregator/aggregator.py\"><span style=\"color: #7f7f7f\">aggregator.py</span></a><span style=\"color: #7f7f7f\">:534</span>\n",
       "</pre>\n"
      ],
      "text/plain": [
       "<rich.jupyter.JupyterRenderable at 0x7efec42be2e8>"
      ]
     },
     "metadata": {},
     "output_type": "display_data"
    },
    {
     "data": {
      "text/html": [
       "<pre style=\"white-space:pre;overflow-x:auto;line-height:normal;font-family:Menlo,'DejaVu Sans Mono',consolas,'Courier New',monospace\"><span style=\"color: #7fbfbf\">           </span><span style=\"color: #000080\">INFO</span>     locally_tuned_model_validation task metrics...                                                                             <a href=\"file:///home/pfoley1/fl_venv/lib/python3.6/site-packages/fledge/component/aggregator/aggregator.py\"><span style=\"color: #7f7f7f\">aggregator.py</span></a><span style=\"color: #7f7f7f\">:505</span>\n",
       "</pre>\n"
      ],
      "text/plain": [
       "<rich.jupyter.JupyterRenderable at 0x7efec42c2d68>"
      ]
     },
     "metadata": {},
     "output_type": "display_data"
    },
    {
     "data": {
      "text/html": [
       "<pre style=\"white-space:pre;overflow-x:auto;line-height:normal;font-family:Menlo,'DejaVu Sans Mono',consolas,'Courier New',monospace\"><span style=\"color: #7fbfbf\">           </span><span style=\"color: #000080\">INFO</span>     acc:    <span style=\"color: #000080; font-weight: bold\">0.9511</span>                                                                                                             <a href=\"file:///home/pfoley1/fl_venv/lib/python3.6/site-packages/fledge/component/aggregator/aggregator.py\"><span style=\"color: #7f7f7f\">aggregator.py</span></a><span style=\"color: #7f7f7f\">:534</span>\n",
       "</pre>\n"
      ],
      "text/plain": [
       "<rich.jupyter.JupyterRenderable at 0x7efec42be208>"
      ]
     },
     "metadata": {},
     "output_type": "display_data"
    },
    {
     "data": {
      "text/html": [
       "<pre style=\"white-space:pre;overflow-x:auto;line-height:normal;font-family:Menlo,'DejaVu Sans Mono',consolas,'Courier New',monospace\"><span style=\"color: #7fbfbf\">           </span><span style=\"color: #000080\">INFO</span>     aggregated_model_validation task metrics...                                                                                <a href=\"file:///home/pfoley1/fl_venv/lib/python3.6/site-packages/fledge/component/aggregator/aggregator.py\"><span style=\"color: #7f7f7f\">aggregator.py</span></a><span style=\"color: #7f7f7f\">:505</span>\n",
       "</pre>\n"
      ],
      "text/plain": [
       "<rich.jupyter.JupyterRenderable at 0x7efec42c2d68>"
      ]
     },
     "metadata": {},
     "output_type": "display_data"
    },
    {
     "data": {
      "text/html": [
       "<pre style=\"white-space:pre;overflow-x:auto;line-height:normal;font-family:Menlo,'DejaVu Sans Mono',consolas,'Courier New',monospace\"><span style=\"color: #7fbfbf\">           </span><span style=\"color: #000080\">INFO</span>     acc:    <span style=\"color: #000080; font-weight: bold\">0.9572</span>                                                                                                             <a href=\"file:///home/pfoley1/fl_venv/lib/python3.6/site-packages/fledge/component/aggregator/aggregator.py\"><span style=\"color: #7f7f7f\">aggregator.py</span></a><span style=\"color: #7f7f7f\">:534</span>\n",
       "</pre>\n"
      ],
      "text/plain": [
       "<rich.jupyter.JupyterRenderable at 0x7efec42be198>"
      ]
     },
     "metadata": {},
     "output_type": "display_data"
    },
    {
     "data": {
      "text/html": [
       "<pre style=\"white-space:pre;overflow-x:auto;line-height:normal;font-family:Menlo,'DejaVu Sans Mono',consolas,'Courier New',monospace\"><span style=\"color: #7fbfbf\">           </span><span style=\"color: #000080\">INFO</span>     Saved the best model with score <span style=\"color: #000080; font-weight: bold\">0.957200</span>                                                                                   <a href=\"file:///home/pfoley1/fl_venv/lib/python3.6/site-packages/fledge/component/aggregator/aggregator.py\"><span style=\"color: #7f7f7f\">aggregator.py</span></a><span style=\"color: #7f7f7f\">:539</span>\n",
       "</pre>\n"
      ],
      "text/plain": [
       "<rich.jupyter.JupyterRenderable at 0x7efec42be4a8>"
      ]
     },
     "metadata": {},
     "output_type": "display_data"
    },
    {
     "data": {
      "text/html": [
       "<pre style=\"white-space:pre;overflow-x:auto;line-height:normal;font-family:Menlo,'DejaVu Sans Mono',consolas,'Courier New',monospace\"><span style=\"color: #7fbfbf\">           </span><span style=\"color: #000080\">INFO</span>     Saving round <span style=\"color: #000080; font-weight: bold\">5</span> model...                                                                                                    <a href=\"file:///home/pfoley1/fl_venv/lib/python3.6/site-packages/fledge/component/aggregator/aggregator.py\"><span style=\"color: #7f7f7f\">aggregator.py</span></a><span style=\"color: #7f7f7f\">:595</span>\n",
       "</pre>\n"
      ],
      "text/plain": [
       "<rich.jupyter.JupyterRenderable at 0x7efec42c2eb8>"
      ]
     },
     "metadata": {},
     "output_type": "display_data"
    },
    {
     "data": {
      "text/html": [
       "<pre style=\"white-space:pre;overflow-x:auto;line-height:normal;font-family:Menlo,'DejaVu Sans Mono',consolas,'Courier New',monospace\"><span style=\"color: #7fbfbf\">           </span><span style=\"color: #000080\">INFO</span>     Starting round <span style=\"color: #000080; font-weight: bold\">5</span>...                                                                                                        <a href=\"file:///home/pfoley1/fl_venv/lib/python3.6/site-packages/fledge/component/aggregator/aggregator.py\"><span style=\"color: #7f7f7f\">aggregator.py</span></a><span style=\"color: #7f7f7f\">:603</span>\n",
       "</pre>\n"
      ],
      "text/plain": [
       "<rich.jupyter.JupyterRenderable at 0x7efec42c2eb8>"
      ]
     },
     "metadata": {},
     "output_type": "display_data"
    },
    {
     "data": {
      "text/html": [
       "<pre style=\"white-space:pre;overflow-x:auto;line-height:normal;font-family:Menlo,'DejaVu Sans Mono',consolas,'Courier New',monospace\"><span style=\"color: #7fbfbf\">           </span><span style=\"color: #000080\">INFO</span>     All tasks completed on two for round <span style=\"color: #000080; font-weight: bold\">4</span>...                                                                                <a href=\"file:///home/pfoley1/fl_venv/lib/python3.6/site-packages/fledge/component/collaborator/collaborator.py\"><span style=\"color: #7f7f7f\">collaborator.py</span></a><span style=\"color: #7f7f7f\">:158</span>\n",
       "</pre>\n"
      ],
      "text/plain": [
       "<rich.jupyter.JupyterRenderable at 0x7efec42c2eb8>"
      ]
     },
     "metadata": {},
     "output_type": "display_data"
    },
    {
     "data": {
      "text/html": [
       "<pre style=\"white-space:pre;overflow-x:auto;line-height:normal;font-family:Menlo,'DejaVu Sans Mono',consolas,'Courier New',monospace\"><span style=\"color: #7fbfbf\">           </span><span style=\"color: #000080\">INFO</span>     Collaborator one Waiting for tasks...                                                                                    <a href=\"file:///home/pfoley1/fl_venv/lib/python3.6/site-packages/fledge/component/collaborator/collaborator.py\"><span style=\"color: #7f7f7f\">collaborator.py</span></a><span style=\"color: #7f7f7f\">:163</span>\n",
       "</pre>\n"
      ],
      "text/plain": [
       "<rich.jupyter.JupyterRenderable at 0x7efec42c2eb8>"
      ]
     },
     "metadata": {},
     "output_type": "display_data"
    },
    {
     "data": {
      "text/html": [
       "<pre style=\"white-space:pre;overflow-x:auto;line-height:normal;font-family:Menlo,'DejaVu Sans Mono',consolas,'Courier New',monospace\"><span style=\"color: #7fbfbf\">           </span><span style=\"color: #000080\">INFO</span>     Aggregator GetTasks function reached from collaborator one...                                                              <a href=\"file:///home/pfoley1/fl_venv/lib/python3.6/site-packages/fledge/component/aggregator/aggregator.py\"><span style=\"color: #7f7f7f\">aggregator.py</span></a><span style=\"color: #7f7f7f\">:215</span>\n",
       "</pre>\n"
      ],
      "text/plain": [
       "<rich.jupyter.JupyterRenderable at 0x7efec42c2eb8>"
      ]
     },
     "metadata": {},
     "output_type": "display_data"
    },
    {
     "data": {
      "text/html": [
       "<pre style=\"white-space:pre;overflow-x:auto;line-height:normal;font-family:Menlo,'DejaVu Sans Mono',consolas,'Courier New',monospace\"><span style=\"color: #7fbfbf\">           </span><span style=\"color: #000080\">INFO</span>     Sending tasks to collaborator one for round <span style=\"color: #000080; font-weight: bold\">5</span>                                                                              <a href=\"file:///home/pfoley1/fl_venv/lib/python3.6/site-packages/fledge/component/aggregator/aggregator.py\"><span style=\"color: #7f7f7f\">aggregator.py</span></a><span style=\"color: #7f7f7f\">:249</span>\n",
       "</pre>\n"
      ],
      "text/plain": [
       "<rich.jupyter.JupyterRenderable at 0x7efec42c2eb8>"
      ]
     },
     "metadata": {},
     "output_type": "display_data"
    },
    {
     "data": {
      "text/html": [
       "<pre style=\"white-space:pre;overflow-x:auto;line-height:normal;font-family:Menlo,'DejaVu Sans Mono',consolas,'Courier New',monospace\"><span style=\"color: #7fbfbf\">           </span><span style=\"color: #000080\">INFO</span>     Received the following tasks: <span style=\"font-weight: bold\">[</span><span style=\"color: #008000\">'aggregated_model_validation'</span>, <span style=\"color: #008000\">'train'</span>, <span style=\"color: #008000\">'locally_tuned_model_validation'</span><span style=\"font-weight: bold\">]</span>                 <a href=\"file:///home/pfoley1/fl_venv/lib/python3.6/site-packages/fledge/component/collaborator/collaborator.py\"><span style=\"color: #7f7f7f\">collaborator.py</span></a><span style=\"color: #7f7f7f\">:155</span>\n",
       "</pre>\n"
      ],
      "text/plain": [
       "<rich.jupyter.JupyterRenderable at 0x7efec42c2eb8>"
      ]
     },
     "metadata": {},
     "output_type": "display_data"
    },
    {
     "data": {
      "text/html": [
       "<pre style=\"white-space:pre;overflow-x:auto;line-height:normal;font-family:Menlo,'DejaVu Sans Mono',consolas,'Courier New',monospace\"><span style=\"color: #7fbfbf\">           </span><span style=\"color: #000080\">INFO</span>     Sending metric for task aggregated_model_validation, round number <span style=\"color: #000080; font-weight: bold\">5</span>: acc        <span style=\"color: #000080; font-weight: bold\">0.9581999778747559</span>                       <a href=\"file:///home/pfoley1/fl_venv/lib/python3.6/site-packages/fledge/component/collaborator/collaborator.py\"><span style=\"color: #7f7f7f\">collaborator.py</span></a><span style=\"color: #7f7f7f\">:319</span>\n",
       "</pre>\n"
      ],
      "text/plain": [
       "<rich.jupyter.JupyterRenderable at 0x7efec42be4a8>"
      ]
     },
     "metadata": {},
     "output_type": "display_data"
    },
    {
     "data": {
      "text/html": [
       "<pre style=\"white-space:pre;overflow-x:auto;line-height:normal;font-family:Menlo,'DejaVu Sans Mono',consolas,'Courier New',monospace\"><span style=\"color: #7fbfbf\">           </span><span style=\"color: #000080\">INFO</span>     Collaborator one is sending task results for aggregated_model_validation, round <span style=\"color: #000080; font-weight: bold\">5</span>                                          <a href=\"file:///home/pfoley1/fl_venv/lib/python3.6/site-packages/fledge/component/aggregator/aggregator.py\"><span style=\"color: #7f7f7f\">aggregator.py</span></a><span style=\"color: #7f7f7f\">:369</span>\n",
       "</pre>\n"
      ],
      "text/plain": [
       "<rich.jupyter.JupyterRenderable at 0x7efec42be9b0>"
      ]
     },
     "metadata": {},
     "output_type": "display_data"
    },
    {
     "data": {
      "text/html": [
       "<pre style=\"white-space:pre;overflow-x:auto;line-height:normal;font-family:Menlo,'DejaVu Sans Mono',consolas,'Courier New',monospace\"><span style=\"color: #7fbfbf\">[10:17:00] </span><span style=\"color: #000080\">INFO</span>     Sending metric for task train, round number <span style=\"color: #000080; font-weight: bold\">5</span>: loss     <span style=\"color: #000080; font-weight: bold\">0.11368430714483062</span>                                              <a href=\"file:///home/pfoley1/fl_venv/lib/python3.6/site-packages/fledge/component/collaborator/collaborator.py\"><span style=\"color: #7f7f7f\">collaborator.py</span></a><span style=\"color: #7f7f7f\">:319</span>\n",
       "</pre>\n"
      ],
      "text/plain": [
       "<rich.jupyter.JupyterRenderable at 0x7efec42bea58>"
      ]
     },
     "metadata": {},
     "output_type": "display_data"
    },
    {
     "data": {
      "text/html": [
       "<pre style=\"white-space:pre;overflow-x:auto;line-height:normal;font-family:Menlo,'DejaVu Sans Mono',consolas,'Courier New',monospace\"><span style=\"color: #7fbfbf\">           </span><span style=\"color: #000080\">INFO</span>     Collaborator one is sending task results for train, round <span style=\"color: #000080; font-weight: bold\">5</span>                                                                <a href=\"file:///home/pfoley1/fl_venv/lib/python3.6/site-packages/fledge/component/aggregator/aggregator.py\"><span style=\"color: #7f7f7f\">aggregator.py</span></a><span style=\"color: #7f7f7f\">:369</span>\n",
       "</pre>\n"
      ],
      "text/plain": [
       "<rich.jupyter.JupyterRenderable at 0x7efec42be4a8>"
      ]
     },
     "metadata": {},
     "output_type": "display_data"
    },
    {
     "data": {
      "text/html": [
       "<pre style=\"white-space:pre;overflow-x:auto;line-height:normal;font-family:Menlo,'DejaVu Sans Mono',consolas,'Courier New',monospace\"><span style=\"color: #7fbfbf\">           </span><span style=\"color: #000080\">INFO</span>     Sending metric for task locally_tuned_model_validation, round number <span style=\"color: #000080; font-weight: bold\">5</span>: acc     <span style=\"color: #000080; font-weight: bold\">0.9581999778747559</span>                       <a href=\"file:///home/pfoley1/fl_venv/lib/python3.6/site-packages/fledge/component/collaborator/collaborator.py\"><span style=\"color: #7f7f7f\">collaborator.py</span></a><span style=\"color: #7f7f7f\">:319</span>\n",
       "</pre>\n"
      ],
      "text/plain": [
       "<rich.jupyter.JupyterRenderable at 0x7efec42bea58>"
      ]
     },
     "metadata": {},
     "output_type": "display_data"
    },
    {
     "data": {
      "text/html": [
       "<pre style=\"white-space:pre;overflow-x:auto;line-height:normal;font-family:Menlo,'DejaVu Sans Mono',consolas,'Courier New',monospace\"><span style=\"color: #7fbfbf\">           </span><span style=\"color: #000080\">INFO</span>     Collaborator one is sending task results for locally_tuned_model_validation, round <span style=\"color: #000080; font-weight: bold\">5</span>                                       <a href=\"file:///home/pfoley1/fl_venv/lib/python3.6/site-packages/fledge/component/aggregator/aggregator.py\"><span style=\"color: #7f7f7f\">aggregator.py</span></a><span style=\"color: #7f7f7f\">:369</span>\n",
       "</pre>\n"
      ],
      "text/plain": [
       "<rich.jupyter.JupyterRenderable at 0x7efec42bea58>"
      ]
     },
     "metadata": {},
     "output_type": "display_data"
    },
    {
     "data": {
      "text/html": [
       "<pre style=\"white-space:pre;overflow-x:auto;line-height:normal;font-family:Menlo,'DejaVu Sans Mono',consolas,'Courier New',monospace\"><span style=\"color: #7fbfbf\">           </span><span style=\"color: #000080\">INFO</span>     All tasks completed on one for round <span style=\"color: #000080; font-weight: bold\">5</span>...                                                                                <a href=\"file:///home/pfoley1/fl_venv/lib/python3.6/site-packages/fledge/component/collaborator/collaborator.py\"><span style=\"color: #7f7f7f\">collaborator.py</span></a><span style=\"color: #7f7f7f\">:158</span>\n",
       "</pre>\n"
      ],
      "text/plain": [
       "<rich.jupyter.JupyterRenderable at 0x7efec42bedd8>"
      ]
     },
     "metadata": {},
     "output_type": "display_data"
    },
    {
     "data": {
      "text/html": [
       "<pre style=\"white-space:pre;overflow-x:auto;line-height:normal;font-family:Menlo,'DejaVu Sans Mono',consolas,'Courier New',monospace\"><span style=\"color: #7fbfbf\">           </span><span style=\"color: #000080\">INFO</span>     Collaborator two Waiting for tasks...                                                                                    <a href=\"file:///home/pfoley1/fl_venv/lib/python3.6/site-packages/fledge/component/collaborator/collaborator.py\"><span style=\"color: #7f7f7f\">collaborator.py</span></a><span style=\"color: #7f7f7f\">:163</span>\n",
       "</pre>\n"
      ],
      "text/plain": [
       "<rich.jupyter.JupyterRenderable at 0x7efec42bedd8>"
      ]
     },
     "metadata": {},
     "output_type": "display_data"
    },
    {
     "data": {
      "text/html": [
       "<pre style=\"white-space:pre;overflow-x:auto;line-height:normal;font-family:Menlo,'DejaVu Sans Mono',consolas,'Courier New',monospace\"><span style=\"color: #7fbfbf\">           </span><span style=\"color: #000080\">INFO</span>     Aggregator GetTasks function reached from collaborator two...                                                              <a href=\"file:///home/pfoley1/fl_venv/lib/python3.6/site-packages/fledge/component/aggregator/aggregator.py\"><span style=\"color: #7f7f7f\">aggregator.py</span></a><span style=\"color: #7f7f7f\">:215</span>\n",
       "</pre>\n"
      ],
      "text/plain": [
       "<rich.jupyter.JupyterRenderable at 0x7efec42be898>"
      ]
     },
     "metadata": {},
     "output_type": "display_data"
    },
    {
     "data": {
      "text/html": [
       "<pre style=\"white-space:pre;overflow-x:auto;line-height:normal;font-family:Menlo,'DejaVu Sans Mono',consolas,'Courier New',monospace\"><span style=\"color: #7fbfbf\">           </span><span style=\"color: #000080\">INFO</span>     Sending tasks to collaborator two for round <span style=\"color: #000080; font-weight: bold\">5</span>                                                                              <a href=\"file:///home/pfoley1/fl_venv/lib/python3.6/site-packages/fledge/component/aggregator/aggregator.py\"><span style=\"color: #7f7f7f\">aggregator.py</span></a><span style=\"color: #7f7f7f\">:249</span>\n",
       "</pre>\n"
      ],
      "text/plain": [
       "<rich.jupyter.JupyterRenderable at 0x7efec42be160>"
      ]
     },
     "metadata": {},
     "output_type": "display_data"
    },
    {
     "data": {
      "text/html": [
       "<pre style=\"white-space:pre;overflow-x:auto;line-height:normal;font-family:Menlo,'DejaVu Sans Mono',consolas,'Courier New',monospace\"><span style=\"color: #7fbfbf\">           </span><span style=\"color: #000080\">INFO</span>     Received the following tasks: <span style=\"font-weight: bold\">[</span><span style=\"color: #008000\">'aggregated_model_validation'</span>, <span style=\"color: #008000\">'train'</span>, <span style=\"color: #008000\">'locally_tuned_model_validation'</span><span style=\"font-weight: bold\">]</span>                 <a href=\"file:///home/pfoley1/fl_venv/lib/python3.6/site-packages/fledge/component/collaborator/collaborator.py\"><span style=\"color: #7f7f7f\">collaborator.py</span></a><span style=\"color: #7f7f7f\">:155</span>\n",
       "</pre>\n"
      ],
      "text/plain": [
       "<rich.jupyter.JupyterRenderable at 0x7efec42be160>"
      ]
     },
     "metadata": {},
     "output_type": "display_data"
    },
    {
     "data": {
      "text/html": [
       "<pre style=\"white-space:pre;overflow-x:auto;line-height:normal;font-family:Menlo,'DejaVu Sans Mono',consolas,'Courier New',monospace\"><span style=\"color: #7fbfbf\">           </span><span style=\"color: #000080\">INFO</span>     Sending metric for task aggregated_model_validation, round number <span style=\"color: #000080; font-weight: bold\">5</span>: acc        <span style=\"color: #000080; font-weight: bold\">0.9581999778747559</span>                       <a href=\"file:///home/pfoley1/fl_venv/lib/python3.6/site-packages/fledge/component/collaborator/collaborator.py\"><span style=\"color: #7f7f7f\">collaborator.py</span></a><span style=\"color: #7f7f7f\">:319</span>\n",
       "</pre>\n"
      ],
      "text/plain": [
       "<rich.jupyter.JupyterRenderable at 0x7efec42beef0>"
      ]
     },
     "metadata": {},
     "output_type": "display_data"
    },
    {
     "data": {
      "text/html": [
       "<pre style=\"white-space:pre;overflow-x:auto;line-height:normal;font-family:Menlo,'DejaVu Sans Mono',consolas,'Courier New',monospace\"><span style=\"color: #7fbfbf\">           </span><span style=\"color: #000080\">INFO</span>     Collaborator two is sending task results for aggregated_model_validation, round <span style=\"color: #000080; font-weight: bold\">5</span>                                          <a href=\"file:///home/pfoley1/fl_venv/lib/python3.6/site-packages/fledge/component/aggregator/aggregator.py\"><span style=\"color: #7f7f7f\">aggregator.py</span></a><span style=\"color: #7f7f7f\">:369</span>\n",
       "</pre>\n"
      ],
      "text/plain": [
       "<rich.jupyter.JupyterRenderable at 0x7efec4322e48>"
      ]
     },
     "metadata": {},
     "output_type": "display_data"
    },
    {
     "data": {
      "text/html": [
       "<pre style=\"white-space:pre;overflow-x:auto;line-height:normal;font-family:Menlo,'DejaVu Sans Mono',consolas,'Courier New',monospace\"><span style=\"color: #7fbfbf\">[10:17:02] </span><span style=\"color: #000080\">INFO</span>     Sending metric for task train, round number <span style=\"color: #000080; font-weight: bold\">5</span>: loss     <span style=\"color: #000080; font-weight: bold\">0.11541954447105526</span>                                              <a href=\"file:///home/pfoley1/fl_venv/lib/python3.6/site-packages/fledge/component/collaborator/collaborator.py\"><span style=\"color: #7f7f7f\">collaborator.py</span></a><span style=\"color: #7f7f7f\">:319</span>\n",
       "</pre>\n"
      ],
      "text/plain": [
       "<rich.jupyter.JupyterRenderable at 0x7efec42bee80>"
      ]
     },
     "metadata": {},
     "output_type": "display_data"
    },
    {
     "data": {
      "text/html": [
       "<pre style=\"white-space:pre;overflow-x:auto;line-height:normal;font-family:Menlo,'DejaVu Sans Mono',consolas,'Courier New',monospace\"><span style=\"color: #7fbfbf\">           </span><span style=\"color: #000080\">INFO</span>     Collaborator two is sending task results for train, round <span style=\"color: #000080; font-weight: bold\">5</span>                                                                <a href=\"file:///home/pfoley1/fl_venv/lib/python3.6/site-packages/fledge/component/aggregator/aggregator.py\"><span style=\"color: #7f7f7f\">aggregator.py</span></a><span style=\"color: #7f7f7f\">:369</span>\n",
       "</pre>\n"
      ],
      "text/plain": [
       "<rich.jupyter.JupyterRenderable at 0x7efec42bef98>"
      ]
     },
     "metadata": {},
     "output_type": "display_data"
    },
    {
     "data": {
      "text/html": [
       "<pre style=\"white-space:pre;overflow-x:auto;line-height:normal;font-family:Menlo,'DejaVu Sans Mono',consolas,'Courier New',monospace\"><span style=\"color: #7fbfbf\">           </span><span style=\"color: #000080\">INFO</span>     Sending metric for task locally_tuned_model_validation, round number <span style=\"color: #000080; font-weight: bold\">5</span>: acc     <span style=\"color: #000080; font-weight: bold\">0.9527999758720398</span>                       <a href=\"file:///home/pfoley1/fl_venv/lib/python3.6/site-packages/fledge/component/collaborator/collaborator.py\"><span style=\"color: #7f7f7f\">collaborator.py</span></a><span style=\"color: #7f7f7f\">:319</span>\n",
       "</pre>\n"
      ],
      "text/plain": [
       "<rich.jupyter.JupyterRenderable at 0x7efec42beef0>"
      ]
     },
     "metadata": {},
     "output_type": "display_data"
    },
    {
     "data": {
      "text/html": [
       "<pre style=\"white-space:pre;overflow-x:auto;line-height:normal;font-family:Menlo,'DejaVu Sans Mono',consolas,'Courier New',monospace\"><span style=\"color: #7fbfbf\">           </span><span style=\"color: #000080\">INFO</span>     Collaborator two is sending task results for locally_tuned_model_validation, round <span style=\"color: #000080; font-weight: bold\">5</span>                                       <a href=\"file:///home/pfoley1/fl_venv/lib/python3.6/site-packages/fledge/component/aggregator/aggregator.py\"><span style=\"color: #7f7f7f\">aggregator.py</span></a><span style=\"color: #7f7f7f\">:369</span>\n",
       "</pre>\n"
      ],
      "text/plain": [
       "<rich.jupyter.JupyterRenderable at 0x7efec42c25f8>"
      ]
     },
     "metadata": {},
     "output_type": "display_data"
    },
    {
     "data": {
      "text/html": [
       "<pre style=\"white-space:pre;overflow-x:auto;line-height:normal;font-family:Menlo,'DejaVu Sans Mono',consolas,'Courier New',monospace\"><span style=\"color: #7fbfbf\">[10:17:03] </span><span style=\"color: #000080\">INFO</span>     train task metrics...                                                                                                      <a href=\"file:///home/pfoley1/fl_venv/lib/python3.6/site-packages/fledge/component/aggregator/aggregator.py\"><span style=\"color: #7f7f7f\">aggregator.py</span></a><span style=\"color: #7f7f7f\">:505</span>\n",
       "</pre>\n"
      ],
      "text/plain": [
       "<rich.jupyter.JupyterRenderable at 0x7efec42becc0>"
      ]
     },
     "metadata": {},
     "output_type": "display_data"
    },
    {
     "data": {
      "text/html": [
       "<pre style=\"white-space:pre;overflow-x:auto;line-height:normal;font-family:Menlo,'DejaVu Sans Mono',consolas,'Courier New',monospace\"><span style=\"color: #7fbfbf\">           </span><span style=\"color: #000080\">INFO</span>     loss:   <span style=\"color: #000080; font-weight: bold\">0.1146</span>                                                                                                             <a href=\"file:///home/pfoley1/fl_venv/lib/python3.6/site-packages/fledge/component/aggregator/aggregator.py\"><span style=\"color: #7f7f7f\">aggregator.py</span></a><span style=\"color: #7f7f7f\">:534</span>\n",
       "</pre>\n"
      ],
      "text/plain": [
       "<rich.jupyter.JupyterRenderable at 0x7efec42bedd8>"
      ]
     },
     "metadata": {},
     "output_type": "display_data"
    },
    {
     "data": {
      "text/html": [
       "<pre style=\"white-space:pre;overflow-x:auto;line-height:normal;font-family:Menlo,'DejaVu Sans Mono',consolas,'Courier New',monospace\"><span style=\"color: #7fbfbf\">           </span><span style=\"color: #000080\">INFO</span>     locally_tuned_model_validation task metrics...                                                                             <a href=\"file:///home/pfoley1/fl_venv/lib/python3.6/site-packages/fledge/component/aggregator/aggregator.py\"><span style=\"color: #7f7f7f\">aggregator.py</span></a><span style=\"color: #7f7f7f\">:505</span>\n",
       "</pre>\n"
      ],
      "text/plain": [
       "<rich.jupyter.JupyterRenderable at 0x7efec42be160>"
      ]
     },
     "metadata": {},
     "output_type": "display_data"
    },
    {
     "data": {
      "text/html": [
       "<pre style=\"white-space:pre;overflow-x:auto;line-height:normal;font-family:Menlo,'DejaVu Sans Mono',consolas,'Courier New',monospace\"><span style=\"color: #7fbfbf\">           </span><span style=\"color: #000080\">INFO</span>     acc:    <span style=\"color: #000080; font-weight: bold\">0.9555</span>                                                                                                             <a href=\"file:///home/pfoley1/fl_venv/lib/python3.6/site-packages/fledge/component/aggregator/aggregator.py\"><span style=\"color: #7f7f7f\">aggregator.py</span></a><span style=\"color: #7f7f7f\">:534</span>\n",
       "</pre>\n"
      ],
      "text/plain": [
       "<rich.jupyter.JupyterRenderable at 0x7efec42bedd8>"
      ]
     },
     "metadata": {},
     "output_type": "display_data"
    },
    {
     "data": {
      "text/html": [
       "<pre style=\"white-space:pre;overflow-x:auto;line-height:normal;font-family:Menlo,'DejaVu Sans Mono',consolas,'Courier New',monospace\"><span style=\"color: #7fbfbf\">           </span><span style=\"color: #000080\">INFO</span>     aggregated_model_validation task metrics...                                                                                <a href=\"file:///home/pfoley1/fl_venv/lib/python3.6/site-packages/fledge/component/aggregator/aggregator.py\"><span style=\"color: #7f7f7f\">aggregator.py</span></a><span style=\"color: #7f7f7f\">:505</span>\n",
       "</pre>\n"
      ],
      "text/plain": [
       "<rich.jupyter.JupyterRenderable at 0x7efec42c2f60>"
      ]
     },
     "metadata": {},
     "output_type": "display_data"
    },
    {
     "data": {
      "text/html": [
       "<pre style=\"white-space:pre;overflow-x:auto;line-height:normal;font-family:Menlo,'DejaVu Sans Mono',consolas,'Courier New',monospace\"><span style=\"color: #7fbfbf\">           </span><span style=\"color: #000080\">INFO</span>     acc:    <span style=\"color: #000080; font-weight: bold\">0.9582</span>                                                                                                             <a href=\"file:///home/pfoley1/fl_venv/lib/python3.6/site-packages/fledge/component/aggregator/aggregator.py\"><span style=\"color: #7f7f7f\">aggregator.py</span></a><span style=\"color: #7f7f7f\">:534</span>\n",
       "</pre>\n"
      ],
      "text/plain": [
       "<rich.jupyter.JupyterRenderable at 0x7efec42c2278>"
      ]
     },
     "metadata": {},
     "output_type": "display_data"
    },
    {
     "data": {
      "text/html": [
       "<pre style=\"white-space:pre;overflow-x:auto;line-height:normal;font-family:Menlo,'DejaVu Sans Mono',consolas,'Courier New',monospace\"><span style=\"color: #7fbfbf\">           </span><span style=\"color: #000080\">INFO</span>     Saved the best model with score <span style=\"color: #000080; font-weight: bold\">0.958200</span>                                                                                   <a href=\"file:///home/pfoley1/fl_venv/lib/python3.6/site-packages/fledge/component/aggregator/aggregator.py\"><span style=\"color: #7f7f7f\">aggregator.py</span></a><span style=\"color: #7f7f7f\">:539</span>\n",
       "</pre>\n"
      ],
      "text/plain": [
       "<rich.jupyter.JupyterRenderable at 0x7efec42c2f60>"
      ]
     },
     "metadata": {},
     "output_type": "display_data"
    },
    {
     "data": {
      "text/html": [
       "<pre style=\"white-space:pre;overflow-x:auto;line-height:normal;font-family:Menlo,'DejaVu Sans Mono',consolas,'Courier New',monospace\"><span style=\"color: #7fbfbf\">           </span><span style=\"color: #000080\">INFO</span>     Saving round <span style=\"color: #000080; font-weight: bold\">6</span> model...                                                                                                    <a href=\"file:///home/pfoley1/fl_venv/lib/python3.6/site-packages/fledge/component/aggregator/aggregator.py\"><span style=\"color: #7f7f7f\">aggregator.py</span></a><span style=\"color: #7f7f7f\">:595</span>\n",
       "</pre>\n"
      ],
      "text/plain": [
       "<rich.jupyter.JupyterRenderable at 0x7efec42c2f98>"
      ]
     },
     "metadata": {},
     "output_type": "display_data"
    },
    {
     "data": {
      "text/html": [
       "<pre style=\"white-space:pre;overflow-x:auto;line-height:normal;font-family:Menlo,'DejaVu Sans Mono',consolas,'Courier New',monospace\"><span style=\"color: #7fbfbf\">           </span><span style=\"color: #000080\">INFO</span>     Starting round <span style=\"color: #000080; font-weight: bold\">6</span>...                                                                                                        <a href=\"file:///home/pfoley1/fl_venv/lib/python3.6/site-packages/fledge/component/aggregator/aggregator.py\"><span style=\"color: #7f7f7f\">aggregator.py</span></a><span style=\"color: #7f7f7f\">:603</span>\n",
       "</pre>\n"
      ],
      "text/plain": [
       "<rich.jupyter.JupyterRenderable at 0x7efec42c2780>"
      ]
     },
     "metadata": {},
     "output_type": "display_data"
    },
    {
     "data": {
      "text/html": [
       "<pre style=\"white-space:pre;overflow-x:auto;line-height:normal;font-family:Menlo,'DejaVu Sans Mono',consolas,'Courier New',monospace\"><span style=\"color: #7fbfbf\">           </span><span style=\"color: #000080\">INFO</span>     All tasks completed on two for round <span style=\"color: #000080; font-weight: bold\">5</span>...                                                                                <a href=\"file:///home/pfoley1/fl_venv/lib/python3.6/site-packages/fledge/component/collaborator/collaborator.py\"><span style=\"color: #7f7f7f\">collaborator.py</span></a><span style=\"color: #7f7f7f\">:158</span>\n",
       "</pre>\n"
      ],
      "text/plain": [
       "<rich.jupyter.JupyterRenderable at 0x7efec42becc0>"
      ]
     },
     "metadata": {},
     "output_type": "display_data"
    },
    {
     "data": {
      "text/html": [
       "<pre style=\"white-space:pre;overflow-x:auto;line-height:normal;font-family:Menlo,'DejaVu Sans Mono',consolas,'Courier New',monospace\"><span style=\"color: #7fbfbf\">           </span><span style=\"color: #000080\">INFO</span>     Collaborator one Waiting for tasks...                                                                                    <a href=\"file:///home/pfoley1/fl_venv/lib/python3.6/site-packages/fledge/component/collaborator/collaborator.py\"><span style=\"color: #7f7f7f\">collaborator.py</span></a><span style=\"color: #7f7f7f\">:163</span>\n",
       "</pre>\n"
      ],
      "text/plain": [
       "<rich.jupyter.JupyterRenderable at 0x7efec432a160>"
      ]
     },
     "metadata": {},
     "output_type": "display_data"
    },
    {
     "data": {
      "text/html": [
       "<pre style=\"white-space:pre;overflow-x:auto;line-height:normal;font-family:Menlo,'DejaVu Sans Mono',consolas,'Courier New',monospace\"><span style=\"color: #7fbfbf\">           </span><span style=\"color: #000080\">INFO</span>     Aggregator GetTasks function reached from collaborator one...                                                              <a href=\"file:///home/pfoley1/fl_venv/lib/python3.6/site-packages/fledge/component/aggregator/aggregator.py\"><span style=\"color: #7f7f7f\">aggregator.py</span></a><span style=\"color: #7f7f7f\">:215</span>\n",
       "</pre>\n"
      ],
      "text/plain": [
       "<rich.jupyter.JupyterRenderable at 0x7efec42c20b8>"
      ]
     },
     "metadata": {},
     "output_type": "display_data"
    },
    {
     "data": {
      "text/html": [
       "<pre style=\"white-space:pre;overflow-x:auto;line-height:normal;font-family:Menlo,'DejaVu Sans Mono',consolas,'Courier New',monospace\"><span style=\"color: #7fbfbf\">           </span><span style=\"color: #000080\">INFO</span>     Sending tasks to collaborator one for round <span style=\"color: #000080; font-weight: bold\">6</span>                                                                              <a href=\"file:///home/pfoley1/fl_venv/lib/python3.6/site-packages/fledge/component/aggregator/aggregator.py\"><span style=\"color: #7f7f7f\">aggregator.py</span></a><span style=\"color: #7f7f7f\">:249</span>\n",
       "</pre>\n"
      ],
      "text/plain": [
       "<rich.jupyter.JupyterRenderable at 0x7efec42c2f98>"
      ]
     },
     "metadata": {},
     "output_type": "display_data"
    },
    {
     "data": {
      "text/html": [
       "<pre style=\"white-space:pre;overflow-x:auto;line-height:normal;font-family:Menlo,'DejaVu Sans Mono',consolas,'Courier New',monospace\"><span style=\"color: #7fbfbf\">           </span><span style=\"color: #000080\">INFO</span>     Received the following tasks: <span style=\"font-weight: bold\">[</span><span style=\"color: #008000\">'aggregated_model_validation'</span>, <span style=\"color: #008000\">'train'</span>, <span style=\"color: #008000\">'locally_tuned_model_validation'</span><span style=\"font-weight: bold\">]</span>                 <a href=\"file:///home/pfoley1/fl_venv/lib/python3.6/site-packages/fledge/component/collaborator/collaborator.py\"><span style=\"color: #7f7f7f\">collaborator.py</span></a><span style=\"color: #7f7f7f\">:155</span>\n",
       "</pre>\n"
      ],
      "text/plain": [
       "<rich.jupyter.JupyterRenderable at 0x7efec432a160>"
      ]
     },
     "metadata": {},
     "output_type": "display_data"
    },
    {
     "data": {
      "text/html": [
       "<pre style=\"white-space:pre;overflow-x:auto;line-height:normal;font-family:Menlo,'DejaVu Sans Mono',consolas,'Courier New',monospace\"><span style=\"color: #7fbfbf\">           </span><span style=\"color: #000080\">INFO</span>     Sending metric for task aggregated_model_validation, round number <span style=\"color: #000080; font-weight: bold\">6</span>: acc        <span style=\"color: #000080; font-weight: bold\">0.9631999731063843</span>                       <a href=\"file:///home/pfoley1/fl_venv/lib/python3.6/site-packages/fledge/component/collaborator/collaborator.py\"><span style=\"color: #7f7f7f\">collaborator.py</span></a><span style=\"color: #7f7f7f\">:319</span>\n",
       "</pre>\n"
      ],
      "text/plain": [
       "<rich.jupyter.JupyterRenderable at 0x7efec42befd0>"
      ]
     },
     "metadata": {},
     "output_type": "display_data"
    },
    {
     "data": {
      "text/html": [
       "<pre style=\"white-space:pre;overflow-x:auto;line-height:normal;font-family:Menlo,'DejaVu Sans Mono',consolas,'Courier New',monospace\"><span style=\"color: #7fbfbf\">           </span><span style=\"color: #000080\">INFO</span>     Collaborator one is sending task results for aggregated_model_validation, round <span style=\"color: #000080; font-weight: bold\">6</span>                                          <a href=\"file:///home/pfoley1/fl_venv/lib/python3.6/site-packages/fledge/component/aggregator/aggregator.py\"><span style=\"color: #7f7f7f\">aggregator.py</span></a><span style=\"color: #7f7f7f\">:369</span>\n",
       "</pre>\n"
      ],
      "text/plain": [
       "<rich.jupyter.JupyterRenderable at 0x7efec42cc860>"
      ]
     },
     "metadata": {},
     "output_type": "display_data"
    },
    {
     "data": {
      "text/html": [
       "<pre style=\"white-space:pre;overflow-x:auto;line-height:normal;font-family:Menlo,'DejaVu Sans Mono',consolas,'Courier New',monospace\"><span style=\"color: #7fbfbf\">[10:17:05] </span><span style=\"color: #000080\">INFO</span>     Sending metric for task train, round number <span style=\"color: #000080; font-weight: bold\">6</span>: loss     <span style=\"color: #000080; font-weight: bold\">0.10272847232893109</span>                                              <a href=\"file:///home/pfoley1/fl_venv/lib/python3.6/site-packages/fledge/component/collaborator/collaborator.py\"><span style=\"color: #7f7f7f\">collaborator.py</span></a><span style=\"color: #7f7f7f\">:319</span>\n",
       "</pre>\n"
      ],
      "text/plain": [
       "<rich.jupyter.JupyterRenderable at 0x7efec42c2780>"
      ]
     },
     "metadata": {},
     "output_type": "display_data"
    },
    {
     "data": {
      "text/html": [
       "<pre style=\"white-space:pre;overflow-x:auto;line-height:normal;font-family:Menlo,'DejaVu Sans Mono',consolas,'Courier New',monospace\"><span style=\"color: #7fbfbf\">           </span><span style=\"color: #000080\">INFO</span>     Collaborator one is sending task results for train, round <span style=\"color: #000080; font-weight: bold\">6</span>                                                                <a href=\"file:///home/pfoley1/fl_venv/lib/python3.6/site-packages/fledge/component/aggregator/aggregator.py\"><span style=\"color: #7f7f7f\">aggregator.py</span></a><span style=\"color: #7f7f7f\">:369</span>\n",
       "</pre>\n"
      ],
      "text/plain": [
       "<rich.jupyter.JupyterRenderable at 0x7efec42cc0b8>"
      ]
     },
     "metadata": {},
     "output_type": "display_data"
    },
    {
     "data": {
      "text/html": [
       "<pre style=\"white-space:pre;overflow-x:auto;line-height:normal;font-family:Menlo,'DejaVu Sans Mono',consolas,'Courier New',monospace\"><span style=\"color: #7fbfbf\">           </span><span style=\"color: #000080\">INFO</span>     Sending metric for task locally_tuned_model_validation, round number <span style=\"color: #000080; font-weight: bold\">6</span>: acc     <span style=\"color: #000080; font-weight: bold\">0.9629999995231628</span>                       <a href=\"file:///home/pfoley1/fl_venv/lib/python3.6/site-packages/fledge/component/collaborator/collaborator.py\"><span style=\"color: #7f7f7f\">collaborator.py</span></a><span style=\"color: #7f7f7f\">:319</span>\n",
       "</pre>\n"
      ],
      "text/plain": [
       "<rich.jupyter.JupyterRenderable at 0x7efec42bef28>"
      ]
     },
     "metadata": {},
     "output_type": "display_data"
    },
    {
     "data": {
      "text/html": [
       "<pre style=\"white-space:pre;overflow-x:auto;line-height:normal;font-family:Menlo,'DejaVu Sans Mono',consolas,'Courier New',monospace\"><span style=\"color: #7fbfbf\">           </span><span style=\"color: #000080\">INFO</span>     Collaborator one is sending task results for locally_tuned_model_validation, round <span style=\"color: #000080; font-weight: bold\">6</span>                                       <a href=\"file:///home/pfoley1/fl_venv/lib/python3.6/site-packages/fledge/component/aggregator/aggregator.py\"><span style=\"color: #7f7f7f\">aggregator.py</span></a><span style=\"color: #7f7f7f\">:369</span>\n",
       "</pre>\n"
      ],
      "text/plain": [
       "<rich.jupyter.JupyterRenderable at 0x7efec42bef28>"
      ]
     },
     "metadata": {},
     "output_type": "display_data"
    },
    {
     "data": {
      "text/html": [
       "<pre style=\"white-space:pre;overflow-x:auto;line-height:normal;font-family:Menlo,'DejaVu Sans Mono',consolas,'Courier New',monospace\"><span style=\"color: #7fbfbf\">           </span><span style=\"color: #000080\">INFO</span>     All tasks completed on one for round <span style=\"color: #000080; font-weight: bold\">6</span>...                                                                                <a href=\"file:///home/pfoley1/fl_venv/lib/python3.6/site-packages/fledge/component/collaborator/collaborator.py\"><span style=\"color: #7f7f7f\">collaborator.py</span></a><span style=\"color: #7f7f7f\">:158</span>\n",
       "</pre>\n"
      ],
      "text/plain": [
       "<rich.jupyter.JupyterRenderable at 0x7efec42bef28>"
      ]
     },
     "metadata": {},
     "output_type": "display_data"
    },
    {
     "data": {
      "text/html": [
       "<pre style=\"white-space:pre;overflow-x:auto;line-height:normal;font-family:Menlo,'DejaVu Sans Mono',consolas,'Courier New',monospace\"><span style=\"color: #7fbfbf\">[10:17:06] </span><span style=\"color: #000080\">INFO</span>     Collaborator two Waiting for tasks...                                                                                    <a href=\"file:///home/pfoley1/fl_venv/lib/python3.6/site-packages/fledge/component/collaborator/collaborator.py\"><span style=\"color: #7f7f7f\">collaborator.py</span></a><span style=\"color: #7f7f7f\">:163</span>\n",
       "</pre>\n"
      ],
      "text/plain": [
       "<rich.jupyter.JupyterRenderable at 0x7efec42bef28>"
      ]
     },
     "metadata": {},
     "output_type": "display_data"
    },
    {
     "data": {
      "text/html": [
       "<pre style=\"white-space:pre;overflow-x:auto;line-height:normal;font-family:Menlo,'DejaVu Sans Mono',consolas,'Courier New',monospace\"><span style=\"color: #7fbfbf\">           </span><span style=\"color: #000080\">INFO</span>     Aggregator GetTasks function reached from collaborator two...                                                              <a href=\"file:///home/pfoley1/fl_venv/lib/python3.6/site-packages/fledge/component/aggregator/aggregator.py\"><span style=\"color: #7f7f7f\">aggregator.py</span></a><span style=\"color: #7f7f7f\">:215</span>\n",
       "</pre>\n"
      ],
      "text/plain": [
       "<rich.jupyter.JupyterRenderable at 0x7efec42ccf28>"
      ]
     },
     "metadata": {},
     "output_type": "display_data"
    },
    {
     "data": {
      "text/html": [
       "<pre style=\"white-space:pre;overflow-x:auto;line-height:normal;font-family:Menlo,'DejaVu Sans Mono',consolas,'Courier New',monospace\"><span style=\"color: #7fbfbf\">           </span><span style=\"color: #000080\">INFO</span>     Sending tasks to collaborator two for round <span style=\"color: #000080; font-weight: bold\">6</span>                                                                              <a href=\"file:///home/pfoley1/fl_venv/lib/python3.6/site-packages/fledge/component/aggregator/aggregator.py\"><span style=\"color: #7f7f7f\">aggregator.py</span></a><span style=\"color: #7f7f7f\">:249</span>\n",
       "</pre>\n"
      ],
      "text/plain": [
       "<rich.jupyter.JupyterRenderable at 0x7efec42cc908>"
      ]
     },
     "metadata": {},
     "output_type": "display_data"
    },
    {
     "data": {
      "text/html": [
       "<pre style=\"white-space:pre;overflow-x:auto;line-height:normal;font-family:Menlo,'DejaVu Sans Mono',consolas,'Courier New',monospace\"><span style=\"color: #7fbfbf\">           </span><span style=\"color: #000080\">INFO</span>     Received the following tasks: <span style=\"font-weight: bold\">[</span><span style=\"color: #008000\">'aggregated_model_validation'</span>, <span style=\"color: #008000\">'train'</span>, <span style=\"color: #008000\">'locally_tuned_model_validation'</span><span style=\"font-weight: bold\">]</span>                 <a href=\"file:///home/pfoley1/fl_venv/lib/python3.6/site-packages/fledge/component/collaborator/collaborator.py\"><span style=\"color: #7f7f7f\">collaborator.py</span></a><span style=\"color: #7f7f7f\">:155</span>\n",
       "</pre>\n"
      ],
      "text/plain": [
       "<rich.jupyter.JupyterRenderable at 0x7efec42bef28>"
      ]
     },
     "metadata": {},
     "output_type": "display_data"
    },
    {
     "data": {
      "text/html": [
       "<pre style=\"white-space:pre;overflow-x:auto;line-height:normal;font-family:Menlo,'DejaVu Sans Mono',consolas,'Courier New',monospace\"><span style=\"color: #7fbfbf\">           </span><span style=\"color: #000080\">INFO</span>     Sending metric for task aggregated_model_validation, round number <span style=\"color: #000080; font-weight: bold\">6</span>: acc        <span style=\"color: #000080; font-weight: bold\">0.9631999731063843</span>                       <a href=\"file:///home/pfoley1/fl_venv/lib/python3.6/site-packages/fledge/component/collaborator/collaborator.py\"><span style=\"color: #7f7f7f\">collaborator.py</span></a><span style=\"color: #7f7f7f\">:319</span>\n",
       "</pre>\n"
      ],
      "text/plain": [
       "<rich.jupyter.JupyterRenderable at 0x7efec42ccf28>"
      ]
     },
     "metadata": {},
     "output_type": "display_data"
    },
    {
     "data": {
      "text/html": [
       "<pre style=\"white-space:pre;overflow-x:auto;line-height:normal;font-family:Menlo,'DejaVu Sans Mono',consolas,'Courier New',monospace\"><span style=\"color: #7fbfbf\">           </span><span style=\"color: #000080\">INFO</span>     Collaborator two is sending task results for aggregated_model_validation, round <span style=\"color: #000080; font-weight: bold\">6</span>                                          <a href=\"file:///home/pfoley1/fl_venv/lib/python3.6/site-packages/fledge/component/aggregator/aggregator.py\"><span style=\"color: #7f7f7f\">aggregator.py</span></a><span style=\"color: #7f7f7f\">:369</span>\n",
       "</pre>\n"
      ],
      "text/plain": [
       "<rich.jupyter.JupyterRenderable at 0x7efec42cca58>"
      ]
     },
     "metadata": {},
     "output_type": "display_data"
    },
    {
     "data": {
      "text/html": [
       "<pre style=\"white-space:pre;overflow-x:auto;line-height:normal;font-family:Menlo,'DejaVu Sans Mono',consolas,'Courier New',monospace\"><span style=\"color: #7fbfbf\">[10:17:08] </span><span style=\"color: #000080\">INFO</span>     Sending metric for task train, round number <span style=\"color: #000080; font-weight: bold\">6</span>: loss     <span style=\"color: #000080; font-weight: bold\">0.09920247850343585</span>                                              <a href=\"file:///home/pfoley1/fl_venv/lib/python3.6/site-packages/fledge/component/collaborator/collaborator.py\"><span style=\"color: #7f7f7f\">collaborator.py</span></a><span style=\"color: #7f7f7f\">:319</span>\n",
       "</pre>\n"
      ],
      "text/plain": [
       "<rich.jupyter.JupyterRenderable at 0x7efec42cce48>"
      ]
     },
     "metadata": {},
     "output_type": "display_data"
    },
    {
     "data": {
      "text/html": [
       "<pre style=\"white-space:pre;overflow-x:auto;line-height:normal;font-family:Menlo,'DejaVu Sans Mono',consolas,'Courier New',monospace\"><span style=\"color: #7fbfbf\">           </span><span style=\"color: #000080\">INFO</span>     Collaborator two is sending task results for train, round <span style=\"color: #000080; font-weight: bold\">6</span>                                                                <a href=\"file:///home/pfoley1/fl_venv/lib/python3.6/site-packages/fledge/component/aggregator/aggregator.py\"><span style=\"color: #7f7f7f\">aggregator.py</span></a><span style=\"color: #7f7f7f\">:369</span>\n",
       "</pre>\n"
      ],
      "text/plain": [
       "<rich.jupyter.JupyterRenderable at 0x7efec42cc6a0>"
      ]
     },
     "metadata": {},
     "output_type": "display_data"
    },
    {
     "data": {
      "text/html": [
       "<pre style=\"white-space:pre;overflow-x:auto;line-height:normal;font-family:Menlo,'DejaVu Sans Mono',consolas,'Courier New',monospace\"><span style=\"color: #7fbfbf\">           </span><span style=\"color: #000080\">INFO</span>     Sending metric for task locally_tuned_model_validation, round number <span style=\"color: #000080; font-weight: bold\">6</span>: acc     <span style=\"color: #000080; font-weight: bold\">0.9611999988555908</span>                       <a href=\"file:///home/pfoley1/fl_venv/lib/python3.6/site-packages/fledge/component/collaborator/collaborator.py\"><span style=\"color: #7f7f7f\">collaborator.py</span></a><span style=\"color: #7f7f7f\">:319</span>\n",
       "</pre>\n"
      ],
      "text/plain": [
       "<rich.jupyter.JupyterRenderable at 0x7efec42cca90>"
      ]
     },
     "metadata": {},
     "output_type": "display_data"
    },
    {
     "data": {
      "text/html": [
       "<pre style=\"white-space:pre;overflow-x:auto;line-height:normal;font-family:Menlo,'DejaVu Sans Mono',consolas,'Courier New',monospace\"><span style=\"color: #7fbfbf\">           </span><span style=\"color: #000080\">INFO</span>     Collaborator two is sending task results for locally_tuned_model_validation, round <span style=\"color: #000080; font-weight: bold\">6</span>                                       <a href=\"file:///home/pfoley1/fl_venv/lib/python3.6/site-packages/fledge/component/aggregator/aggregator.py\"><span style=\"color: #7f7f7f\">aggregator.py</span></a><span style=\"color: #7f7f7f\">:369</span>\n",
       "</pre>\n"
      ],
      "text/plain": [
       "<rich.jupyter.JupyterRenderable at 0x7efec42cca58>"
      ]
     },
     "metadata": {},
     "output_type": "display_data"
    },
    {
     "data": {
      "text/html": [
       "<pre style=\"white-space:pre;overflow-x:auto;line-height:normal;font-family:Menlo,'DejaVu Sans Mono',consolas,'Courier New',monospace\"><span style=\"color: #7fbfbf\">           </span><span style=\"color: #000080\">INFO</span>     train task metrics...                                                                                                      <a href=\"file:///home/pfoley1/fl_venv/lib/python3.6/site-packages/fledge/component/aggregator/aggregator.py\"><span style=\"color: #7f7f7f\">aggregator.py</span></a><span style=\"color: #7f7f7f\">:505</span>\n",
       "</pre>\n"
      ],
      "text/plain": [
       "<rich.jupyter.JupyterRenderable at 0x7efec42cca58>"
      ]
     },
     "metadata": {},
     "output_type": "display_data"
    },
    {
     "data": {
      "text/html": [
       "<pre style=\"white-space:pre;overflow-x:auto;line-height:normal;font-family:Menlo,'DejaVu Sans Mono',consolas,'Courier New',monospace\"><span style=\"color: #7fbfbf\">           </span><span style=\"color: #000080\">INFO</span>     loss:   <span style=\"color: #000080; font-weight: bold\">0.1010</span>                                                                                                             <a href=\"file:///home/pfoley1/fl_venv/lib/python3.6/site-packages/fledge/component/aggregator/aggregator.py\"><span style=\"color: #7f7f7f\">aggregator.py</span></a><span style=\"color: #7f7f7f\">:534</span>\n",
       "</pre>\n"
      ],
      "text/plain": [
       "<rich.jupyter.JupyterRenderable at 0x7efec42cca58>"
      ]
     },
     "metadata": {},
     "output_type": "display_data"
    },
    {
     "data": {
      "text/html": [
       "<pre style=\"white-space:pre;overflow-x:auto;line-height:normal;font-family:Menlo,'DejaVu Sans Mono',consolas,'Courier New',monospace\"><span style=\"color: #7fbfbf\">           </span><span style=\"color: #000080\">INFO</span>     locally_tuned_model_validation task metrics...                                                                             <a href=\"file:///home/pfoley1/fl_venv/lib/python3.6/site-packages/fledge/component/aggregator/aggregator.py\"><span style=\"color: #7f7f7f\">aggregator.py</span></a><span style=\"color: #7f7f7f\">:505</span>\n",
       "</pre>\n"
      ],
      "text/plain": [
       "<rich.jupyter.JupyterRenderable at 0x7efec42ccc88>"
      ]
     },
     "metadata": {},
     "output_type": "display_data"
    },
    {
     "data": {
      "text/html": [
       "<pre style=\"white-space:pre;overflow-x:auto;line-height:normal;font-family:Menlo,'DejaVu Sans Mono',consolas,'Courier New',monospace\"><span style=\"color: #7fbfbf\">           </span><span style=\"color: #000080\">INFO</span>     acc:    <span style=\"color: #000080; font-weight: bold\">0.9621</span>                                                                                                             <a href=\"file:///home/pfoley1/fl_venv/lib/python3.6/site-packages/fledge/component/aggregator/aggregator.py\"><span style=\"color: #7f7f7f\">aggregator.py</span></a><span style=\"color: #7f7f7f\">:534</span>\n",
       "</pre>\n"
      ],
      "text/plain": [
       "<rich.jupyter.JupyterRenderable at 0x7efec42ccc88>"
      ]
     },
     "metadata": {},
     "output_type": "display_data"
    },
    {
     "data": {
      "text/html": [
       "<pre style=\"white-space:pre;overflow-x:auto;line-height:normal;font-family:Menlo,'DejaVu Sans Mono',consolas,'Courier New',monospace\"><span style=\"color: #7fbfbf\">           </span><span style=\"color: #000080\">INFO</span>     aggregated_model_validation task metrics...                                                                                <a href=\"file:///home/pfoley1/fl_venv/lib/python3.6/site-packages/fledge/component/aggregator/aggregator.py\"><span style=\"color: #7f7f7f\">aggregator.py</span></a><span style=\"color: #7f7f7f\">:505</span>\n",
       "</pre>\n"
      ],
      "text/plain": [
       "<rich.jupyter.JupyterRenderable at 0x7efec42cc240>"
      ]
     },
     "metadata": {},
     "output_type": "display_data"
    },
    {
     "data": {
      "text/html": [
       "<pre style=\"white-space:pre;overflow-x:auto;line-height:normal;font-family:Menlo,'DejaVu Sans Mono',consolas,'Courier New',monospace\"><span style=\"color: #7fbfbf\">           </span><span style=\"color: #000080\">INFO</span>     acc:    <span style=\"color: #000080; font-weight: bold\">0.9632</span>                                                                                                             <a href=\"file:///home/pfoley1/fl_venv/lib/python3.6/site-packages/fledge/component/aggregator/aggregator.py\"><span style=\"color: #7f7f7f\">aggregator.py</span></a><span style=\"color: #7f7f7f\">:534</span>\n",
       "</pre>\n"
      ],
      "text/plain": [
       "<rich.jupyter.JupyterRenderable at 0x7efec42cc240>"
      ]
     },
     "metadata": {},
     "output_type": "display_data"
    },
    {
     "data": {
      "text/html": [
       "<pre style=\"white-space:pre;overflow-x:auto;line-height:normal;font-family:Menlo,'DejaVu Sans Mono',consolas,'Courier New',monospace\"><span style=\"color: #7fbfbf\">           </span><span style=\"color: #000080\">INFO</span>     Saved the best model with score <span style=\"color: #000080; font-weight: bold\">0.963200</span>                                                                                   <a href=\"file:///home/pfoley1/fl_venv/lib/python3.6/site-packages/fledge/component/aggregator/aggregator.py\"><span style=\"color: #7f7f7f\">aggregator.py</span></a><span style=\"color: #7f7f7f\">:539</span>\n",
       "</pre>\n"
      ],
      "text/plain": [
       "<rich.jupyter.JupyterRenderable at 0x7efec42cc240>"
      ]
     },
     "metadata": {},
     "output_type": "display_data"
    },
    {
     "data": {
      "text/html": [
       "<pre style=\"white-space:pre;overflow-x:auto;line-height:normal;font-family:Menlo,'DejaVu Sans Mono',consolas,'Courier New',monospace\"><span style=\"color: #7fbfbf\">[10:17:09] </span><span style=\"color: #000080\">INFO</span>     Saving round <span style=\"color: #000080; font-weight: bold\">7</span> model...                                                                                                    <a href=\"file:///home/pfoley1/fl_venv/lib/python3.6/site-packages/fledge/component/aggregator/aggregator.py\"><span style=\"color: #7f7f7f\">aggregator.py</span></a><span style=\"color: #7f7f7f\">:595</span>\n",
       "</pre>\n"
      ],
      "text/plain": [
       "<rich.jupyter.JupyterRenderable at 0x7efec42ccc88>"
      ]
     },
     "metadata": {},
     "output_type": "display_data"
    },
    {
     "data": {
      "text/html": [
       "<pre style=\"white-space:pre;overflow-x:auto;line-height:normal;font-family:Menlo,'DejaVu Sans Mono',consolas,'Courier New',monospace\"><span style=\"color: #7fbfbf\">           </span><span style=\"color: #000080\">INFO</span>     Starting round <span style=\"color: #000080; font-weight: bold\">7</span>...                                                                                                        <a href=\"file:///home/pfoley1/fl_venv/lib/python3.6/site-packages/fledge/component/aggregator/aggregator.py\"><span style=\"color: #7f7f7f\">aggregator.py</span></a><span style=\"color: #7f7f7f\">:603</span>\n",
       "</pre>\n"
      ],
      "text/plain": [
       "<rich.jupyter.JupyterRenderable at 0x7efec42ccc88>"
      ]
     },
     "metadata": {},
     "output_type": "display_data"
    },
    {
     "data": {
      "text/html": [
       "<pre style=\"white-space:pre;overflow-x:auto;line-height:normal;font-family:Menlo,'DejaVu Sans Mono',consolas,'Courier New',monospace\"><span style=\"color: #7fbfbf\">           </span><span style=\"color: #000080\">INFO</span>     All tasks completed on two for round <span style=\"color: #000080; font-weight: bold\">6</span>...                                                                                <a href=\"file:///home/pfoley1/fl_venv/lib/python3.6/site-packages/fledge/component/collaborator/collaborator.py\"><span style=\"color: #7f7f7f\">collaborator.py</span></a><span style=\"color: #7f7f7f\">:158</span>\n",
       "</pre>\n"
      ],
      "text/plain": [
       "<rich.jupyter.JupyterRenderable at 0x7efec42ccc88>"
      ]
     },
     "metadata": {},
     "output_type": "display_data"
    },
    {
     "data": {
      "text/html": [
       "<pre style=\"white-space:pre;overflow-x:auto;line-height:normal;font-family:Menlo,'DejaVu Sans Mono',consolas,'Courier New',monospace\"><span style=\"color: #7fbfbf\">           </span><span style=\"color: #000080\">INFO</span>     Collaborator one Waiting for tasks...                                                                                    <a href=\"file:///home/pfoley1/fl_venv/lib/python3.6/site-packages/fledge/component/collaborator/collaborator.py\"><span style=\"color: #7f7f7f\">collaborator.py</span></a><span style=\"color: #7f7f7f\">:163</span>\n",
       "</pre>\n"
      ],
      "text/plain": [
       "<rich.jupyter.JupyterRenderable at 0x7efec42ccc88>"
      ]
     },
     "metadata": {},
     "output_type": "display_data"
    },
    {
     "data": {
      "text/html": [
       "<pre style=\"white-space:pre;overflow-x:auto;line-height:normal;font-family:Menlo,'DejaVu Sans Mono',consolas,'Courier New',monospace\"><span style=\"color: #7fbfbf\">           </span><span style=\"color: #000080\">INFO</span>     Aggregator GetTasks function reached from collaborator one...                                                              <a href=\"file:///home/pfoley1/fl_venv/lib/python3.6/site-packages/fledge/component/aggregator/aggregator.py\"><span style=\"color: #7f7f7f\">aggregator.py</span></a><span style=\"color: #7f7f7f\">:215</span>\n",
       "</pre>\n"
      ],
      "text/plain": [
       "<rich.jupyter.JupyterRenderable at 0x7efec42ccc88>"
      ]
     },
     "metadata": {},
     "output_type": "display_data"
    },
    {
     "data": {
      "text/html": [
       "<pre style=\"white-space:pre;overflow-x:auto;line-height:normal;font-family:Menlo,'DejaVu Sans Mono',consolas,'Courier New',monospace\"><span style=\"color: #7fbfbf\">           </span><span style=\"color: #000080\">INFO</span>     Sending tasks to collaborator one for round <span style=\"color: #000080; font-weight: bold\">7</span>                                                                              <a href=\"file:///home/pfoley1/fl_venv/lib/python3.6/site-packages/fledge/component/aggregator/aggregator.py\"><span style=\"color: #7f7f7f\">aggregator.py</span></a><span style=\"color: #7f7f7f\">:249</span>\n",
       "</pre>\n"
      ],
      "text/plain": [
       "<rich.jupyter.JupyterRenderable at 0x7efec42ccc88>"
      ]
     },
     "metadata": {},
     "output_type": "display_data"
    },
    {
     "data": {
      "text/html": [
       "<pre style=\"white-space:pre;overflow-x:auto;line-height:normal;font-family:Menlo,'DejaVu Sans Mono',consolas,'Courier New',monospace\"><span style=\"color: #7fbfbf\">           </span><span style=\"color: #000080\">INFO</span>     Received the following tasks: <span style=\"font-weight: bold\">[</span><span style=\"color: #008000\">'aggregated_model_validation'</span>, <span style=\"color: #008000\">'train'</span>, <span style=\"color: #008000\">'locally_tuned_model_validation'</span><span style=\"font-weight: bold\">]</span>                 <a href=\"file:///home/pfoley1/fl_venv/lib/python3.6/site-packages/fledge/component/collaborator/collaborator.py\"><span style=\"color: #7f7f7f\">collaborator.py</span></a><span style=\"color: #7f7f7f\">:155</span>\n",
       "</pre>\n"
      ],
      "text/plain": [
       "<rich.jupyter.JupyterRenderable at 0x7efec42ccc88>"
      ]
     },
     "metadata": {},
     "output_type": "display_data"
    },
    {
     "data": {
      "text/html": [
       "<pre style=\"white-space:pre;overflow-x:auto;line-height:normal;font-family:Menlo,'DejaVu Sans Mono',consolas,'Courier New',monospace\"><span style=\"color: #7fbfbf\">           </span><span style=\"color: #000080\">INFO</span>     Sending metric for task aggregated_model_validation, round number <span style=\"color: #000080; font-weight: bold\">7</span>: acc        <span style=\"color: #000080; font-weight: bold\">0.9634000062942505</span>                       <a href=\"file:///home/pfoley1/fl_venv/lib/python3.6/site-packages/fledge/component/collaborator/collaborator.py\"><span style=\"color: #7f7f7f\">collaborator.py</span></a><span style=\"color: #7f7f7f\">:319</span>\n",
       "</pre>\n"
      ],
      "text/plain": [
       "<rich.jupyter.JupyterRenderable at 0x7efec42c5048>"
      ]
     },
     "metadata": {},
     "output_type": "display_data"
    },
    {
     "data": {
      "text/html": [
       "<pre style=\"white-space:pre;overflow-x:auto;line-height:normal;font-family:Menlo,'DejaVu Sans Mono',consolas,'Courier New',monospace\"><span style=\"color: #7fbfbf\">           </span><span style=\"color: #000080\">INFO</span>     Collaborator one is sending task results for aggregated_model_validation, round <span style=\"color: #000080; font-weight: bold\">7</span>                                          <a href=\"file:///home/pfoley1/fl_venv/lib/python3.6/site-packages/fledge/component/aggregator/aggregator.py\"><span style=\"color: #7f7f7f\">aggregator.py</span></a><span style=\"color: #7f7f7f\">:369</span>\n",
       "</pre>\n"
      ],
      "text/plain": [
       "<rich.jupyter.JupyterRenderable at 0x7efec42c5080>"
      ]
     },
     "metadata": {},
     "output_type": "display_data"
    },
    {
     "data": {
      "text/html": [
       "<pre style=\"white-space:pre;overflow-x:auto;line-height:normal;font-family:Menlo,'DejaVu Sans Mono',consolas,'Courier New',monospace\"><span style=\"color: #7fbfbf\">[10:17:11] </span><span style=\"color: #000080\">INFO</span>     Sending metric for task train, round number <span style=\"color: #000080; font-weight: bold\">7</span>: loss     <span style=\"color: #000080; font-weight: bold\">0.08898694871862729</span>                                              <a href=\"file:///home/pfoley1/fl_venv/lib/python3.6/site-packages/fledge/component/collaborator/collaborator.py\"><span style=\"color: #7f7f7f\">collaborator.py</span></a><span style=\"color: #7f7f7f\">:319</span>\n",
       "</pre>\n"
      ],
      "text/plain": [
       "<rich.jupyter.JupyterRenderable at 0x7efec42c59b0>"
      ]
     },
     "metadata": {},
     "output_type": "display_data"
    },
    {
     "data": {
      "text/html": [
       "<pre style=\"white-space:pre;overflow-x:auto;line-height:normal;font-family:Menlo,'DejaVu Sans Mono',consolas,'Courier New',monospace\"><span style=\"color: #7fbfbf\">           </span><span style=\"color: #000080\">INFO</span>     Collaborator one is sending task results for train, round <span style=\"color: #000080; font-weight: bold\">7</span>                                                                <a href=\"file:///home/pfoley1/fl_venv/lib/python3.6/site-packages/fledge/component/aggregator/aggregator.py\"><span style=\"color: #7f7f7f\">aggregator.py</span></a><span style=\"color: #7f7f7f\">:369</span>\n",
       "</pre>\n"
      ],
      "text/plain": [
       "<rich.jupyter.JupyterRenderable at 0x7efec42c5048>"
      ]
     },
     "metadata": {},
     "output_type": "display_data"
    },
    {
     "data": {
      "text/html": [
       "<pre style=\"white-space:pre;overflow-x:auto;line-height:normal;font-family:Menlo,'DejaVu Sans Mono',consolas,'Courier New',monospace\"><span style=\"color: #7fbfbf\">           </span><span style=\"color: #000080\">INFO</span>     Sending metric for task locally_tuned_model_validation, round number <span style=\"color: #000080; font-weight: bold\">7</span>: acc     <span style=\"color: #000080; font-weight: bold\">0.9642000198364258</span>                       <a href=\"file:///home/pfoley1/fl_venv/lib/python3.6/site-packages/fledge/component/collaborator/collaborator.py\"><span style=\"color: #7f7f7f\">collaborator.py</span></a><span style=\"color: #7f7f7f\">:319</span>\n",
       "</pre>\n"
      ],
      "text/plain": [
       "<rich.jupyter.JupyterRenderable at 0x7efec42c5c18>"
      ]
     },
     "metadata": {},
     "output_type": "display_data"
    },
    {
     "data": {
      "text/html": [
       "<pre style=\"white-space:pre;overflow-x:auto;line-height:normal;font-family:Menlo,'DejaVu Sans Mono',consolas,'Courier New',monospace\"><span style=\"color: #7fbfbf\">           </span><span style=\"color: #000080\">INFO</span>     Collaborator one is sending task results for locally_tuned_model_validation, round <span style=\"color: #000080; font-weight: bold\">7</span>                                       <a href=\"file:///home/pfoley1/fl_venv/lib/python3.6/site-packages/fledge/component/aggregator/aggregator.py\"><span style=\"color: #7f7f7f\">aggregator.py</span></a><span style=\"color: #7f7f7f\">:369</span>\n",
       "</pre>\n"
      ],
      "text/plain": [
       "<rich.jupyter.JupyterRenderable at 0x7efec42c5438>"
      ]
     },
     "metadata": {},
     "output_type": "display_data"
    },
    {
     "data": {
      "text/html": [
       "<pre style=\"white-space:pre;overflow-x:auto;line-height:normal;font-family:Menlo,'DejaVu Sans Mono',consolas,'Courier New',monospace\"><span style=\"color: #7fbfbf\">           </span><span style=\"color: #000080\">INFO</span>     All tasks completed on one for round <span style=\"color: #000080; font-weight: bold\">7</span>...                                                                                <a href=\"file:///home/pfoley1/fl_venv/lib/python3.6/site-packages/fledge/component/collaborator/collaborator.py\"><span style=\"color: #7f7f7f\">collaborator.py</span></a><span style=\"color: #7f7f7f\">:158</span>\n",
       "</pre>\n"
      ],
      "text/plain": [
       "<rich.jupyter.JupyterRenderable at 0x7efec42c5320>"
      ]
     },
     "metadata": {},
     "output_type": "display_data"
    },
    {
     "data": {
      "text/html": [
       "<pre style=\"white-space:pre;overflow-x:auto;line-height:normal;font-family:Menlo,'DejaVu Sans Mono',consolas,'Courier New',monospace\"><span style=\"color: #7fbfbf\">           </span><span style=\"color: #000080\">INFO</span>     Collaborator two Waiting for tasks...                                                                                    <a href=\"file:///home/pfoley1/fl_venv/lib/python3.6/site-packages/fledge/component/collaborator/collaborator.py\"><span style=\"color: #7f7f7f\">collaborator.py</span></a><span style=\"color: #7f7f7f\">:163</span>\n",
       "</pre>\n"
      ],
      "text/plain": [
       "<rich.jupyter.JupyterRenderable at 0x7efec42c5e10>"
      ]
     },
     "metadata": {},
     "output_type": "display_data"
    },
    {
     "data": {
      "text/html": [
       "<pre style=\"white-space:pre;overflow-x:auto;line-height:normal;font-family:Menlo,'DejaVu Sans Mono',consolas,'Courier New',monospace\"><span style=\"color: #7fbfbf\">           </span><span style=\"color: #000080\">INFO</span>     Aggregator GetTasks function reached from collaborator two...                                                              <a href=\"file:///home/pfoley1/fl_venv/lib/python3.6/site-packages/fledge/component/aggregator/aggregator.py\"><span style=\"color: #7f7f7f\">aggregator.py</span></a><span style=\"color: #7f7f7f\">:215</span>\n",
       "</pre>\n"
      ],
      "text/plain": [
       "<rich.jupyter.JupyterRenderable at 0x7efec42c52b0>"
      ]
     },
     "metadata": {},
     "output_type": "display_data"
    },
    {
     "data": {
      "text/html": [
       "<pre style=\"white-space:pre;overflow-x:auto;line-height:normal;font-family:Menlo,'DejaVu Sans Mono',consolas,'Courier New',monospace\"><span style=\"color: #7fbfbf\">           </span><span style=\"color: #000080\">INFO</span>     Sending tasks to collaborator two for round <span style=\"color: #000080; font-weight: bold\">7</span>                                                                              <a href=\"file:///home/pfoley1/fl_venv/lib/python3.6/site-packages/fledge/component/aggregator/aggregator.py\"><span style=\"color: #7f7f7f\">aggregator.py</span></a><span style=\"color: #7f7f7f\">:249</span>\n",
       "</pre>\n"
      ],
      "text/plain": [
       "<rich.jupyter.JupyterRenderable at 0x7efec42c5908>"
      ]
     },
     "metadata": {},
     "output_type": "display_data"
    },
    {
     "data": {
      "text/html": [
       "<pre style=\"white-space:pre;overflow-x:auto;line-height:normal;font-family:Menlo,'DejaVu Sans Mono',consolas,'Courier New',monospace\"><span style=\"color: #7fbfbf\">           </span><span style=\"color: #000080\">INFO</span>     Received the following tasks: <span style=\"font-weight: bold\">[</span><span style=\"color: #008000\">'aggregated_model_validation'</span>, <span style=\"color: #008000\">'train'</span>, <span style=\"color: #008000\">'locally_tuned_model_validation'</span><span style=\"font-weight: bold\">]</span>                 <a href=\"file:///home/pfoley1/fl_venv/lib/python3.6/site-packages/fledge/component/collaborator/collaborator.py\"><span style=\"color: #7f7f7f\">collaborator.py</span></a><span style=\"color: #7f7f7f\">:155</span>\n",
       "</pre>\n"
      ],
      "text/plain": [
       "<rich.jupyter.JupyterRenderable at 0x7efec42c5e80>"
      ]
     },
     "metadata": {},
     "output_type": "display_data"
    },
    {
     "data": {
      "text/html": [
       "<pre style=\"white-space:pre;overflow-x:auto;line-height:normal;font-family:Menlo,'DejaVu Sans Mono',consolas,'Courier New',monospace\"><span style=\"color: #7fbfbf\">           </span><span style=\"color: #000080\">INFO</span>     Sending metric for task aggregated_model_validation, round number <span style=\"color: #000080; font-weight: bold\">7</span>: acc        <span style=\"color: #000080; font-weight: bold\">0.9634000062942505</span>                       <a href=\"file:///home/pfoley1/fl_venv/lib/python3.6/site-packages/fledge/component/collaborator/collaborator.py\"><span style=\"color: #7f7f7f\">collaborator.py</span></a><span style=\"color: #7f7f7f\">:319</span>\n",
       "</pre>\n"
      ],
      "text/plain": [
       "<rich.jupyter.JupyterRenderable at 0x7efec42c5d68>"
      ]
     },
     "metadata": {},
     "output_type": "display_data"
    },
    {
     "data": {
      "text/html": [
       "<pre style=\"white-space:pre;overflow-x:auto;line-height:normal;font-family:Menlo,'DejaVu Sans Mono',consolas,'Courier New',monospace\"><span style=\"color: #7fbfbf\">           </span><span style=\"color: #000080\">INFO</span>     Collaborator two is sending task results for aggregated_model_validation, round <span style=\"color: #000080; font-weight: bold\">7</span>                                          <a href=\"file:///home/pfoley1/fl_venv/lib/python3.6/site-packages/fledge/component/aggregator/aggregator.py\"><span style=\"color: #7f7f7f\">aggregator.py</span></a><span style=\"color: #7f7f7f\">:369</span>\n",
       "</pre>\n"
      ],
      "text/plain": [
       "<rich.jupyter.JupyterRenderable at 0x7efec42c5d30>"
      ]
     },
     "metadata": {},
     "output_type": "display_data"
    },
    {
     "data": {
      "text/html": [
       "<pre style=\"white-space:pre;overflow-x:auto;line-height:normal;font-family:Menlo,'DejaVu Sans Mono',consolas,'Courier New',monospace\"><span style=\"color: #7fbfbf\">[10:17:14] </span><span style=\"color: #000080\">INFO</span>     Sending metric for task train, round number <span style=\"color: #000080; font-weight: bold\">7</span>: loss     <span style=\"color: #000080; font-weight: bold\">0.08866935567570229</span>                                              <a href=\"file:///home/pfoley1/fl_venv/lib/python3.6/site-packages/fledge/component/collaborator/collaborator.py\"><span style=\"color: #7f7f7f\">collaborator.py</span></a><span style=\"color: #7f7f7f\">:319</span>\n",
       "</pre>\n"
      ],
      "text/plain": [
       "<rich.jupyter.JupyterRenderable at 0x7efec42c5048>"
      ]
     },
     "metadata": {},
     "output_type": "display_data"
    },
    {
     "data": {
      "text/html": [
       "<pre style=\"white-space:pre;overflow-x:auto;line-height:normal;font-family:Menlo,'DejaVu Sans Mono',consolas,'Courier New',monospace\"><span style=\"color: #7fbfbf\">           </span><span style=\"color: #000080\">INFO</span>     Collaborator two is sending task results for train, round <span style=\"color: #000080; font-weight: bold\">7</span>                                                                <a href=\"file:///home/pfoley1/fl_venv/lib/python3.6/site-packages/fledge/component/aggregator/aggregator.py\"><span style=\"color: #7f7f7f\">aggregator.py</span></a><span style=\"color: #7f7f7f\">:369</span>\n",
       "</pre>\n"
      ],
      "text/plain": [
       "<rich.jupyter.JupyterRenderable at 0x7efec42c5eb8>"
      ]
     },
     "metadata": {},
     "output_type": "display_data"
    },
    {
     "data": {
      "text/html": [
       "<pre style=\"white-space:pre;overflow-x:auto;line-height:normal;font-family:Menlo,'DejaVu Sans Mono',consolas,'Courier New',monospace\"><span style=\"color: #7fbfbf\">           </span><span style=\"color: #000080\">INFO</span>     Sending metric for task locally_tuned_model_validation, round number <span style=\"color: #000080; font-weight: bold\">7</span>: acc     <span style=\"color: #000080; font-weight: bold\">0.9638000130653381</span>                       <a href=\"file:///home/pfoley1/fl_venv/lib/python3.6/site-packages/fledge/component/collaborator/collaborator.py\"><span style=\"color: #7f7f7f\">collaborator.py</span></a><span style=\"color: #7f7f7f\">:319</span>\n",
       "</pre>\n"
      ],
      "text/plain": [
       "<rich.jupyter.JupyterRenderable at 0x7efec42c5550>"
      ]
     },
     "metadata": {},
     "output_type": "display_data"
    },
    {
     "data": {
      "text/html": [
       "<pre style=\"white-space:pre;overflow-x:auto;line-height:normal;font-family:Menlo,'DejaVu Sans Mono',consolas,'Courier New',monospace\"><span style=\"color: #7fbfbf\">           </span><span style=\"color: #000080\">INFO</span>     Collaborator two is sending task results for locally_tuned_model_validation, round <span style=\"color: #000080; font-weight: bold\">7</span>                                       <a href=\"file:///home/pfoley1/fl_venv/lib/python3.6/site-packages/fledge/component/aggregator/aggregator.py\"><span style=\"color: #7f7f7f\">aggregator.py</span></a><span style=\"color: #7f7f7f\">:369</span>\n",
       "</pre>\n"
      ],
      "text/plain": [
       "<rich.jupyter.JupyterRenderable at 0x7efec42cc668>"
      ]
     },
     "metadata": {},
     "output_type": "display_data"
    },
    {
     "data": {
      "text/html": [
       "<pre style=\"white-space:pre;overflow-x:auto;line-height:normal;font-family:Menlo,'DejaVu Sans Mono',consolas,'Courier New',monospace\"><span style=\"color: #7fbfbf\">           </span><span style=\"color: #000080\">INFO</span>     train task metrics...                                                                                                      <a href=\"file:///home/pfoley1/fl_venv/lib/python3.6/site-packages/fledge/component/aggregator/aggregator.py\"><span style=\"color: #7f7f7f\">aggregator.py</span></a><span style=\"color: #7f7f7f\">:505</span>\n",
       "</pre>\n"
      ],
      "text/plain": [
       "<rich.jupyter.JupyterRenderable at 0x7efec42cc3c8>"
      ]
     },
     "metadata": {},
     "output_type": "display_data"
    },
    {
     "data": {
      "text/html": [
       "<pre style=\"white-space:pre;overflow-x:auto;line-height:normal;font-family:Menlo,'DejaVu Sans Mono',consolas,'Courier New',monospace\"><span style=\"color: #7fbfbf\">           </span><span style=\"color: #000080\">INFO</span>     loss:   <span style=\"color: #000080; font-weight: bold\">0.0888</span>                                                                                                             <a href=\"file:///home/pfoley1/fl_venv/lib/python3.6/site-packages/fledge/component/aggregator/aggregator.py\"><span style=\"color: #7f7f7f\">aggregator.py</span></a><span style=\"color: #7f7f7f\">:534</span>\n",
       "</pre>\n"
      ],
      "text/plain": [
       "<rich.jupyter.JupyterRenderable at 0x7efec42c5c50>"
      ]
     },
     "metadata": {},
     "output_type": "display_data"
    },
    {
     "data": {
      "text/html": [
       "<pre style=\"white-space:pre;overflow-x:auto;line-height:normal;font-family:Menlo,'DejaVu Sans Mono',consolas,'Courier New',monospace\"><span style=\"color: #7fbfbf\">           </span><span style=\"color: #000080\">INFO</span>     locally_tuned_model_validation task metrics...                                                                             <a href=\"file:///home/pfoley1/fl_venv/lib/python3.6/site-packages/fledge/component/aggregator/aggregator.py\"><span style=\"color: #7f7f7f\">aggregator.py</span></a><span style=\"color: #7f7f7f\">:505</span>\n",
       "</pre>\n"
      ],
      "text/plain": [
       "<rich.jupyter.JupyterRenderable at 0x7efec42c57f0>"
      ]
     },
     "metadata": {},
     "output_type": "display_data"
    },
    {
     "data": {
      "text/html": [
       "<pre style=\"white-space:pre;overflow-x:auto;line-height:normal;font-family:Menlo,'DejaVu Sans Mono',consolas,'Courier New',monospace\"><span style=\"color: #7fbfbf\">           </span><span style=\"color: #000080\">INFO</span>     acc:    <span style=\"color: #000080; font-weight: bold\">0.9640</span>                                                                                                             <a href=\"file:///home/pfoley1/fl_venv/lib/python3.6/site-packages/fledge/component/aggregator/aggregator.py\"><span style=\"color: #7f7f7f\">aggregator.py</span></a><span style=\"color: #7f7f7f\">:534</span>\n",
       "</pre>\n"
      ],
      "text/plain": [
       "<rich.jupyter.JupyterRenderable at 0x7efec42c5c50>"
      ]
     },
     "metadata": {},
     "output_type": "display_data"
    },
    {
     "data": {
      "text/html": [
       "<pre style=\"white-space:pre;overflow-x:auto;line-height:normal;font-family:Menlo,'DejaVu Sans Mono',consolas,'Courier New',monospace\"><span style=\"color: #7fbfbf\">           </span><span style=\"color: #000080\">INFO</span>     aggregated_model_validation task metrics...                                                                                <a href=\"file:///home/pfoley1/fl_venv/lib/python3.6/site-packages/fledge/component/aggregator/aggregator.py\"><span style=\"color: #7f7f7f\">aggregator.py</span></a><span style=\"color: #7f7f7f\">:505</span>\n",
       "</pre>\n"
      ],
      "text/plain": [
       "<rich.jupyter.JupyterRenderable at 0x7efec42be278>"
      ]
     },
     "metadata": {},
     "output_type": "display_data"
    },
    {
     "data": {
      "text/html": [
       "<pre style=\"white-space:pre;overflow-x:auto;line-height:normal;font-family:Menlo,'DejaVu Sans Mono',consolas,'Courier New',monospace\"><span style=\"color: #7fbfbf\">           </span><span style=\"color: #000080\">INFO</span>     acc:    <span style=\"color: #000080; font-weight: bold\">0.9634</span>                                                                                                             <a href=\"file:///home/pfoley1/fl_venv/lib/python3.6/site-packages/fledge/component/aggregator/aggregator.py\"><span style=\"color: #7f7f7f\">aggregator.py</span></a><span style=\"color: #7f7f7f\">:534</span>\n",
       "</pre>\n"
      ],
      "text/plain": [
       "<rich.jupyter.JupyterRenderable at 0x7efec42c5e48>"
      ]
     },
     "metadata": {},
     "output_type": "display_data"
    },
    {
     "data": {
      "text/html": [
       "<pre style=\"white-space:pre;overflow-x:auto;line-height:normal;font-family:Menlo,'DejaVu Sans Mono',consolas,'Courier New',monospace\"><span style=\"color: #7fbfbf\">           </span><span style=\"color: #000080\">INFO</span>     Saved the best model with score <span style=\"color: #000080; font-weight: bold\">0.963400</span>                                                                                   <a href=\"file:///home/pfoley1/fl_venv/lib/python3.6/site-packages/fledge/component/aggregator/aggregator.py\"><span style=\"color: #7f7f7f\">aggregator.py</span></a><span style=\"color: #7f7f7f\">:539</span>\n",
       "</pre>\n"
      ],
      "text/plain": [
       "<rich.jupyter.JupyterRenderable at 0x7efec42bef28>"
      ]
     },
     "metadata": {},
     "output_type": "display_data"
    },
    {
     "data": {
      "text/html": [
       "<pre style=\"white-space:pre;overflow-x:auto;line-height:normal;font-family:Menlo,'DejaVu Sans Mono',consolas,'Courier New',monospace\"><span style=\"color: #7fbfbf\">           </span><span style=\"color: #000080\">INFO</span>     Saving round <span style=\"color: #000080; font-weight: bold\">8</span> model...                                                                                                    <a href=\"file:///home/pfoley1/fl_venv/lib/python3.6/site-packages/fledge/component/aggregator/aggregator.py\"><span style=\"color: #7f7f7f\">aggregator.py</span></a><span style=\"color: #7f7f7f\">:595</span>\n",
       "</pre>\n"
      ],
      "text/plain": [
       "<rich.jupyter.JupyterRenderable at 0x7efec42ccc50>"
      ]
     },
     "metadata": {},
     "output_type": "display_data"
    },
    {
     "data": {
      "text/html": [
       "<pre style=\"white-space:pre;overflow-x:auto;line-height:normal;font-family:Menlo,'DejaVu Sans Mono',consolas,'Courier New',monospace\"><span style=\"color: #7fbfbf\">           </span><span style=\"color: #000080\">INFO</span>     Starting round <span style=\"color: #000080; font-weight: bold\">8</span>...                                                                                                        <a href=\"file:///home/pfoley1/fl_venv/lib/python3.6/site-packages/fledge/component/aggregator/aggregator.py\"><span style=\"color: #7f7f7f\">aggregator.py</span></a><span style=\"color: #7f7f7f\">:603</span>\n",
       "</pre>\n"
      ],
      "text/plain": [
       "<rich.jupyter.JupyterRenderable at 0x7efec42ccc50>"
      ]
     },
     "metadata": {},
     "output_type": "display_data"
    },
    {
     "data": {
      "text/html": [
       "<pre style=\"white-space:pre;overflow-x:auto;line-height:normal;font-family:Menlo,'DejaVu Sans Mono',consolas,'Courier New',monospace\"><span style=\"color: #7fbfbf\">           </span><span style=\"color: #000080\">INFO</span>     All tasks completed on two for round <span style=\"color: #000080; font-weight: bold\">7</span>...                                                                                <a href=\"file:///home/pfoley1/fl_venv/lib/python3.6/site-packages/fledge/component/collaborator/collaborator.py\"><span style=\"color: #7f7f7f\">collaborator.py</span></a><span style=\"color: #7f7f7f\">:158</span>\n",
       "</pre>\n"
      ],
      "text/plain": [
       "<rich.jupyter.JupyterRenderable at 0x7efec42cc3c8>"
      ]
     },
     "metadata": {},
     "output_type": "display_data"
    },
    {
     "data": {
      "text/html": [
       "<pre style=\"white-space:pre;overflow-x:auto;line-height:normal;font-family:Menlo,'DejaVu Sans Mono',consolas,'Courier New',monospace\"><span style=\"color: #7fbfbf\">           </span><span style=\"color: #000080\">INFO</span>     Collaborator one Waiting for tasks...                                                                                    <a href=\"file:///home/pfoley1/fl_venv/lib/python3.6/site-packages/fledge/component/collaborator/collaborator.py\"><span style=\"color: #7f7f7f\">collaborator.py</span></a><span style=\"color: #7f7f7f\">:163</span>\n",
       "</pre>\n"
      ],
      "text/plain": [
       "<rich.jupyter.JupyterRenderable at 0x7efec42cc780>"
      ]
     },
     "metadata": {},
     "output_type": "display_data"
    },
    {
     "data": {
      "text/html": [
       "<pre style=\"white-space:pre;overflow-x:auto;line-height:normal;font-family:Menlo,'DejaVu Sans Mono',consolas,'Courier New',monospace\"><span style=\"color: #7fbfbf\">           </span><span style=\"color: #000080\">INFO</span>     Aggregator GetTasks function reached from collaborator one...                                                              <a href=\"file:///home/pfoley1/fl_venv/lib/python3.6/site-packages/fledge/component/aggregator/aggregator.py\"><span style=\"color: #7f7f7f\">aggregator.py</span></a><span style=\"color: #7f7f7f\">:215</span>\n",
       "</pre>\n"
      ],
      "text/plain": [
       "<rich.jupyter.JupyterRenderable at 0x7efec42cca58>"
      ]
     },
     "metadata": {},
     "output_type": "display_data"
    },
    {
     "data": {
      "text/html": [
       "<pre style=\"white-space:pre;overflow-x:auto;line-height:normal;font-family:Menlo,'DejaVu Sans Mono',consolas,'Courier New',monospace\"><span style=\"color: #7fbfbf\">           </span><span style=\"color: #000080\">INFO</span>     Sending tasks to collaborator one for round <span style=\"color: #000080; font-weight: bold\">8</span>                                                                              <a href=\"file:///home/pfoley1/fl_venv/lib/python3.6/site-packages/fledge/component/aggregator/aggregator.py\"><span style=\"color: #7f7f7f\">aggregator.py</span></a><span style=\"color: #7f7f7f\">:249</span>\n",
       "</pre>\n"
      ],
      "text/plain": [
       "<rich.jupyter.JupyterRenderable at 0x7efec42cca58>"
      ]
     },
     "metadata": {},
     "output_type": "display_data"
    },
    {
     "data": {
      "text/html": [
       "<pre style=\"white-space:pre;overflow-x:auto;line-height:normal;font-family:Menlo,'DejaVu Sans Mono',consolas,'Courier New',monospace\"><span style=\"color: #7fbfbf\">           </span><span style=\"color: #000080\">INFO</span>     Received the following tasks: <span style=\"font-weight: bold\">[</span><span style=\"color: #008000\">'aggregated_model_validation'</span>, <span style=\"color: #008000\">'train'</span>, <span style=\"color: #008000\">'locally_tuned_model_validation'</span><span style=\"font-weight: bold\">]</span>                 <a href=\"file:///home/pfoley1/fl_venv/lib/python3.6/site-packages/fledge/component/collaborator/collaborator.py\"><span style=\"color: #7f7f7f\">collaborator.py</span></a><span style=\"color: #7f7f7f\">:155</span>\n",
       "</pre>\n"
      ],
      "text/plain": [
       "<rich.jupyter.JupyterRenderable at 0x7efec42ccb38>"
      ]
     },
     "metadata": {},
     "output_type": "display_data"
    },
    {
     "data": {
      "text/html": [
       "<pre style=\"white-space:pre;overflow-x:auto;line-height:normal;font-family:Menlo,'DejaVu Sans Mono',consolas,'Courier New',monospace\"><span style=\"color: #7fbfbf\">           </span><span style=\"color: #000080\">INFO</span>     Sending metric for task aggregated_model_validation, round number <span style=\"color: #000080; font-weight: bold\">8</span>: acc        <span style=\"color: #000080; font-weight: bold\">0.9684000015258789</span>                       <a href=\"file:///home/pfoley1/fl_venv/lib/python3.6/site-packages/fledge/component/collaborator/collaborator.py\"><span style=\"color: #7f7f7f\">collaborator.py</span></a><span style=\"color: #7f7f7f\">:319</span>\n",
       "</pre>\n"
      ],
      "text/plain": [
       "<rich.jupyter.JupyterRenderable at 0x7efec42c5128>"
      ]
     },
     "metadata": {},
     "output_type": "display_data"
    },
    {
     "data": {
      "text/html": [
       "<pre style=\"white-space:pre;overflow-x:auto;line-height:normal;font-family:Menlo,'DejaVu Sans Mono',consolas,'Courier New',monospace\"><span style=\"color: #7fbfbf\">           </span><span style=\"color: #000080\">INFO</span>     Collaborator one is sending task results for aggregated_model_validation, round <span style=\"color: #000080; font-weight: bold\">8</span>                                          <a href=\"file:///home/pfoley1/fl_venv/lib/python3.6/site-packages/fledge/component/aggregator/aggregator.py\"><span style=\"color: #7f7f7f\">aggregator.py</span></a><span style=\"color: #7f7f7f\">:369</span>\n",
       "</pre>\n"
      ],
      "text/plain": [
       "<rich.jupyter.JupyterRenderable at 0x7efec42c5e10>"
      ]
     },
     "metadata": {},
     "output_type": "display_data"
    },
    {
     "data": {
      "text/html": [
       "<pre style=\"white-space:pre;overflow-x:auto;line-height:normal;font-family:Menlo,'DejaVu Sans Mono',consolas,'Courier New',monospace\"><span style=\"color: #7fbfbf\">[10:17:17] </span><span style=\"color: #000080\">INFO</span>     Sending metric for task train, round number <span style=\"color: #000080; font-weight: bold\">8</span>: loss     <span style=\"color: #000080; font-weight: bold\">0.07953563794977964</span>                                              <a href=\"file:///home/pfoley1/fl_venv/lib/python3.6/site-packages/fledge/component/collaborator/collaborator.py\"><span style=\"color: #7f7f7f\">collaborator.py</span></a><span style=\"color: #7f7f7f\">:319</span>\n",
       "</pre>\n"
      ],
      "text/plain": [
       "<rich.jupyter.JupyterRenderable at 0x7efec42c5ef0>"
      ]
     },
     "metadata": {},
     "output_type": "display_data"
    },
    {
     "data": {
      "text/html": [
       "<pre style=\"white-space:pre;overflow-x:auto;line-height:normal;font-family:Menlo,'DejaVu Sans Mono',consolas,'Courier New',monospace\"><span style=\"color: #7fbfbf\">           </span><span style=\"color: #000080\">INFO</span>     Collaborator one is sending task results for train, round <span style=\"color: #000080; font-weight: bold\">8</span>                                                                <a href=\"file:///home/pfoley1/fl_venv/lib/python3.6/site-packages/fledge/component/aggregator/aggregator.py\"><span style=\"color: #7f7f7f\">aggregator.py</span></a><span style=\"color: #7f7f7f\">:369</span>\n",
       "</pre>\n"
      ],
      "text/plain": [
       "<rich.jupyter.JupyterRenderable at 0x7efec42c50b8>"
      ]
     },
     "metadata": {},
     "output_type": "display_data"
    },
    {
     "data": {
      "text/html": [
       "<pre style=\"white-space:pre;overflow-x:auto;line-height:normal;font-family:Menlo,'DejaVu Sans Mono',consolas,'Courier New',monospace\"><span style=\"color: #7fbfbf\">           </span><span style=\"color: #000080\">INFO</span>     Sending metric for task locally_tuned_model_validation, round number <span style=\"color: #000080; font-weight: bold\">8</span>: acc     <span style=\"color: #000080; font-weight: bold\">0.9631999731063843</span>                       <a href=\"file:///home/pfoley1/fl_venv/lib/python3.6/site-packages/fledge/component/collaborator/collaborator.py\"><span style=\"color: #7f7f7f\">collaborator.py</span></a><span style=\"color: #7f7f7f\">:319</span>\n",
       "</pre>\n"
      ],
      "text/plain": [
       "<rich.jupyter.JupyterRenderable at 0x7efec42c5e10>"
      ]
     },
     "metadata": {},
     "output_type": "display_data"
    },
    {
     "data": {
      "text/html": [
       "<pre style=\"white-space:pre;overflow-x:auto;line-height:normal;font-family:Menlo,'DejaVu Sans Mono',consolas,'Courier New',monospace\"><span style=\"color: #7fbfbf\">           </span><span style=\"color: #000080\">INFO</span>     Collaborator one is sending task results for locally_tuned_model_validation, round <span style=\"color: #000080; font-weight: bold\">8</span>                                       <a href=\"file:///home/pfoley1/fl_venv/lib/python3.6/site-packages/fledge/component/aggregator/aggregator.py\"><span style=\"color: #7f7f7f\">aggregator.py</span></a><span style=\"color: #7f7f7f\">:369</span>\n",
       "</pre>\n"
      ],
      "text/plain": [
       "<rich.jupyter.JupyterRenderable at 0x7efec42c5f28>"
      ]
     },
     "metadata": {},
     "output_type": "display_data"
    },
    {
     "data": {
      "text/html": [
       "<pre style=\"white-space:pre;overflow-x:auto;line-height:normal;font-family:Menlo,'DejaVu Sans Mono',consolas,'Courier New',monospace\"><span style=\"color: #7fbfbf\">           </span><span style=\"color: #000080\">INFO</span>     All tasks completed on one for round <span style=\"color: #000080; font-weight: bold\">8</span>...                                                                                <a href=\"file:///home/pfoley1/fl_venv/lib/python3.6/site-packages/fledge/component/collaborator/collaborator.py\"><span style=\"color: #7f7f7f\">collaborator.py</span></a><span style=\"color: #7f7f7f\">:158</span>\n",
       "</pre>\n"
      ],
      "text/plain": [
       "<rich.jupyter.JupyterRenderable at 0x7efec42c5f28>"
      ]
     },
     "metadata": {},
     "output_type": "display_data"
    },
    {
     "data": {
      "text/html": [
       "<pre style=\"white-space:pre;overflow-x:auto;line-height:normal;font-family:Menlo,'DejaVu Sans Mono',consolas,'Courier New',monospace\"><span style=\"color: #7fbfbf\">           </span><span style=\"color: #000080\">INFO</span>     Collaborator two Waiting for tasks...                                                                                    <a href=\"file:///home/pfoley1/fl_venv/lib/python3.6/site-packages/fledge/component/collaborator/collaborator.py\"><span style=\"color: #7f7f7f\">collaborator.py</span></a><span style=\"color: #7f7f7f\">:163</span>\n",
       "</pre>\n"
      ],
      "text/plain": [
       "<rich.jupyter.JupyterRenderable at 0x7efec42c5e10>"
      ]
     },
     "metadata": {},
     "output_type": "display_data"
    },
    {
     "data": {
      "text/html": [
       "<pre style=\"white-space:pre;overflow-x:auto;line-height:normal;font-family:Menlo,'DejaVu Sans Mono',consolas,'Courier New',monospace\"><span style=\"color: #7fbfbf\">           </span><span style=\"color: #000080\">INFO</span>     Aggregator GetTasks function reached from collaborator two...                                                              <a href=\"file:///home/pfoley1/fl_venv/lib/python3.6/site-packages/fledge/component/aggregator/aggregator.py\"><span style=\"color: #7f7f7f\">aggregator.py</span></a><span style=\"color: #7f7f7f\">:215</span>\n",
       "</pre>\n"
      ],
      "text/plain": [
       "<rich.jupyter.JupyterRenderable at 0x7efec42c5e10>"
      ]
     },
     "metadata": {},
     "output_type": "display_data"
    },
    {
     "data": {
      "text/html": [
       "<pre style=\"white-space:pre;overflow-x:auto;line-height:normal;font-family:Menlo,'DejaVu Sans Mono',consolas,'Courier New',monospace\"><span style=\"color: #7fbfbf\">           </span><span style=\"color: #000080\">INFO</span>     Sending tasks to collaborator two for round <span style=\"color: #000080; font-weight: bold\">8</span>                                                                              <a href=\"file:///home/pfoley1/fl_venv/lib/python3.6/site-packages/fledge/component/aggregator/aggregator.py\"><span style=\"color: #7f7f7f\">aggregator.py</span></a><span style=\"color: #7f7f7f\">:249</span>\n",
       "</pre>\n"
      ],
      "text/plain": [
       "<rich.jupyter.JupyterRenderable at 0x7efec42c5e10>"
      ]
     },
     "metadata": {},
     "output_type": "display_data"
    },
    {
     "data": {
      "text/html": [
       "<pre style=\"white-space:pre;overflow-x:auto;line-height:normal;font-family:Menlo,'DejaVu Sans Mono',consolas,'Courier New',monospace\"><span style=\"color: #7fbfbf\">           </span><span style=\"color: #000080\">INFO</span>     Received the following tasks: <span style=\"font-weight: bold\">[</span><span style=\"color: #008000\">'aggregated_model_validation'</span>, <span style=\"color: #008000\">'train'</span>, <span style=\"color: #008000\">'locally_tuned_model_validation'</span><span style=\"font-weight: bold\">]</span>                 <a href=\"file:///home/pfoley1/fl_venv/lib/python3.6/site-packages/fledge/component/collaborator/collaborator.py\"><span style=\"color: #7f7f7f\">collaborator.py</span></a><span style=\"color: #7f7f7f\">:155</span>\n",
       "</pre>\n"
      ],
      "text/plain": [
       "<rich.jupyter.JupyterRenderable at 0x7efec42c5e10>"
      ]
     },
     "metadata": {},
     "output_type": "display_data"
    },
    {
     "data": {
      "text/html": [
       "<pre style=\"white-space:pre;overflow-x:auto;line-height:normal;font-family:Menlo,'DejaVu Sans Mono',consolas,'Courier New',monospace\"><span style=\"color: #7fbfbf\">           </span><span style=\"color: #000080\">INFO</span>     Sending metric for task aggregated_model_validation, round number <span style=\"color: #000080; font-weight: bold\">8</span>: acc        <span style=\"color: #000080; font-weight: bold\">0.9684000015258789</span>                       <a href=\"file:///home/pfoley1/fl_venv/lib/python3.6/site-packages/fledge/component/collaborator/collaborator.py\"><span style=\"color: #7f7f7f\">collaborator.py</span></a><span style=\"color: #7f7f7f\">:319</span>\n",
       "</pre>\n"
      ],
      "text/plain": [
       "<rich.jupyter.JupyterRenderable at 0x7efec42d2da0>"
      ]
     },
     "metadata": {},
     "output_type": "display_data"
    },
    {
     "data": {
      "text/html": [
       "<pre style=\"white-space:pre;overflow-x:auto;line-height:normal;font-family:Menlo,'DejaVu Sans Mono',consolas,'Courier New',monospace\"><span style=\"color: #7fbfbf\">           </span><span style=\"color: #000080\">INFO</span>     Collaborator two is sending task results for aggregated_model_validation, round <span style=\"color: #000080; font-weight: bold\">8</span>                                          <a href=\"file:///home/pfoley1/fl_venv/lib/python3.6/site-packages/fledge/component/aggregator/aggregator.py\"><span style=\"color: #7f7f7f\">aggregator.py</span></a><span style=\"color: #7f7f7f\">:369</span>\n",
       "</pre>\n"
      ],
      "text/plain": [
       "<rich.jupyter.JupyterRenderable at 0x7efec42d2f28>"
      ]
     },
     "metadata": {},
     "output_type": "display_data"
    },
    {
     "data": {
      "text/html": [
       "<pre style=\"white-space:pre;overflow-x:auto;line-height:normal;font-family:Menlo,'DejaVu Sans Mono',consolas,'Courier New',monospace\"><span style=\"color: #7fbfbf\">[10:17:19] </span><span style=\"color: #000080\">INFO</span>     Sending metric for task train, round number <span style=\"color: #000080; font-weight: bold\">8</span>: loss     <span style=\"color: #000080; font-weight: bold\">0.0787303259152919</span>                                               <a href=\"file:///home/pfoley1/fl_venv/lib/python3.6/site-packages/fledge/component/collaborator/collaborator.py\"><span style=\"color: #7f7f7f\">collaborator.py</span></a><span style=\"color: #7f7f7f\">:319</span>\n",
       "</pre>\n"
      ],
      "text/plain": [
       "<rich.jupyter.JupyterRenderable at 0x7efec42d2e80>"
      ]
     },
     "metadata": {},
     "output_type": "display_data"
    },
    {
     "data": {
      "text/html": [
       "<pre style=\"white-space:pre;overflow-x:auto;line-height:normal;font-family:Menlo,'DejaVu Sans Mono',consolas,'Courier New',monospace\"><span style=\"color: #7fbfbf\">           </span><span style=\"color: #000080\">INFO</span>     Collaborator two is sending task results for train, round <span style=\"color: #000080; font-weight: bold\">8</span>                                                                <a href=\"file:///home/pfoley1/fl_venv/lib/python3.6/site-packages/fledge/component/aggregator/aggregator.py\"><span style=\"color: #7f7f7f\">aggregator.py</span></a><span style=\"color: #7f7f7f\">:369</span>\n",
       "</pre>\n"
      ],
      "text/plain": [
       "<rich.jupyter.JupyterRenderable at 0x7efec42d2e80>"
      ]
     },
     "metadata": {},
     "output_type": "display_data"
    },
    {
     "data": {
      "text/html": [
       "<pre style=\"white-space:pre;overflow-x:auto;line-height:normal;font-family:Menlo,'DejaVu Sans Mono',consolas,'Courier New',monospace\"><span style=\"color: #7fbfbf\">[10:17:20] </span><span style=\"color: #000080\">INFO</span>     Sending metric for task locally_tuned_model_validation, round number <span style=\"color: #000080; font-weight: bold\">8</span>: acc     <span style=\"color: #000080; font-weight: bold\">0.9508000016212463</span>                       <a href=\"file:///home/pfoley1/fl_venv/lib/python3.6/site-packages/fledge/component/collaborator/collaborator.py\"><span style=\"color: #7f7f7f\">collaborator.py</span></a><span style=\"color: #7f7f7f\">:319</span>\n",
       "</pre>\n"
      ],
      "text/plain": [
       "<rich.jupyter.JupyterRenderable at 0x7efec42d2a58>"
      ]
     },
     "metadata": {},
     "output_type": "display_data"
    },
    {
     "data": {
      "text/html": [
       "<pre style=\"white-space:pre;overflow-x:auto;line-height:normal;font-family:Menlo,'DejaVu Sans Mono',consolas,'Courier New',monospace\"><span style=\"color: #7fbfbf\">           </span><span style=\"color: #000080\">INFO</span>     Collaborator two is sending task results for locally_tuned_model_validation, round <span style=\"color: #000080; font-weight: bold\">8</span>                                       <a href=\"file:///home/pfoley1/fl_venv/lib/python3.6/site-packages/fledge/component/aggregator/aggregator.py\"><span style=\"color: #7f7f7f\">aggregator.py</span></a><span style=\"color: #7f7f7f\">:369</span>\n",
       "</pre>\n"
      ],
      "text/plain": [
       "<rich.jupyter.JupyterRenderable at 0x7efec42d2ef0>"
      ]
     },
     "metadata": {},
     "output_type": "display_data"
    },
    {
     "data": {
      "text/html": [
       "<pre style=\"white-space:pre;overflow-x:auto;line-height:normal;font-family:Menlo,'DejaVu Sans Mono',consolas,'Courier New',monospace\"><span style=\"color: #7fbfbf\">           </span><span style=\"color: #000080\">INFO</span>     train task metrics...                                                                                                      <a href=\"file:///home/pfoley1/fl_venv/lib/python3.6/site-packages/fledge/component/aggregator/aggregator.py\"><span style=\"color: #7f7f7f\">aggregator.py</span></a><span style=\"color: #7f7f7f\">:505</span>\n",
       "</pre>\n"
      ],
      "text/plain": [
       "<rich.jupyter.JupyterRenderable at 0x7efec42d2048>"
      ]
     },
     "metadata": {},
     "output_type": "display_data"
    },
    {
     "data": {
      "text/html": [
       "<pre style=\"white-space:pre;overflow-x:auto;line-height:normal;font-family:Menlo,'DejaVu Sans Mono',consolas,'Courier New',monospace\"><span style=\"color: #7fbfbf\">           </span><span style=\"color: #000080\">INFO</span>     loss:   <span style=\"color: #000080; font-weight: bold\">0.0791</span>                                                                                                             <a href=\"file:///home/pfoley1/fl_venv/lib/python3.6/site-packages/fledge/component/aggregator/aggregator.py\"><span style=\"color: #7f7f7f\">aggregator.py</span></a><span style=\"color: #7f7f7f\">:534</span>\n",
       "</pre>\n"
      ],
      "text/plain": [
       "<rich.jupyter.JupyterRenderable at 0x7efec42d2b38>"
      ]
     },
     "metadata": {},
     "output_type": "display_data"
    },
    {
     "data": {
      "text/html": [
       "<pre style=\"white-space:pre;overflow-x:auto;line-height:normal;font-family:Menlo,'DejaVu Sans Mono',consolas,'Courier New',monospace\"><span style=\"color: #7fbfbf\">           </span><span style=\"color: #000080\">INFO</span>     locally_tuned_model_validation task metrics...                                                                             <a href=\"file:///home/pfoley1/fl_venv/lib/python3.6/site-packages/fledge/component/aggregator/aggregator.py\"><span style=\"color: #7f7f7f\">aggregator.py</span></a><span style=\"color: #7f7f7f\">:505</span>\n",
       "</pre>\n"
      ],
      "text/plain": [
       "<rich.jupyter.JupyterRenderable at 0x7efec42d2a58>"
      ]
     },
     "metadata": {},
     "output_type": "display_data"
    },
    {
     "data": {
      "text/html": [
       "<pre style=\"white-space:pre;overflow-x:auto;line-height:normal;font-family:Menlo,'DejaVu Sans Mono',consolas,'Courier New',monospace\"><span style=\"color: #7fbfbf\">           </span><span style=\"color: #000080\">INFO</span>     acc:    <span style=\"color: #000080; font-weight: bold\">0.9570</span>                                                                                                             <a href=\"file:///home/pfoley1/fl_venv/lib/python3.6/site-packages/fledge/component/aggregator/aggregator.py\"><span style=\"color: #7f7f7f\">aggregator.py</span></a><span style=\"color: #7f7f7f\">:534</span>\n",
       "</pre>\n"
      ],
      "text/plain": [
       "<rich.jupyter.JupyterRenderable at 0x7efec42d2b38>"
      ]
     },
     "metadata": {},
     "output_type": "display_data"
    },
    {
     "data": {
      "text/html": [
       "<pre style=\"white-space:pre;overflow-x:auto;line-height:normal;font-family:Menlo,'DejaVu Sans Mono',consolas,'Courier New',monospace\"><span style=\"color: #7fbfbf\">           </span><span style=\"color: #000080\">INFO</span>     aggregated_model_validation task metrics...                                                                                <a href=\"file:///home/pfoley1/fl_venv/lib/python3.6/site-packages/fledge/component/aggregator/aggregator.py\"><span style=\"color: #7f7f7f\">aggregator.py</span></a><span style=\"color: #7f7f7f\">:505</span>\n",
       "</pre>\n"
      ],
      "text/plain": [
       "<rich.jupyter.JupyterRenderable at 0x7efec42d2ba8>"
      ]
     },
     "metadata": {},
     "output_type": "display_data"
    },
    {
     "data": {
      "text/html": [
       "<pre style=\"white-space:pre;overflow-x:auto;line-height:normal;font-family:Menlo,'DejaVu Sans Mono',consolas,'Courier New',monospace\"><span style=\"color: #7fbfbf\">           </span><span style=\"color: #000080\">INFO</span>     acc:    <span style=\"color: #000080; font-weight: bold\">0.9684</span>                                                                                                             <a href=\"file:///home/pfoley1/fl_venv/lib/python3.6/site-packages/fledge/component/aggregator/aggregator.py\"><span style=\"color: #7f7f7f\">aggregator.py</span></a><span style=\"color: #7f7f7f\">:534</span>\n",
       "</pre>\n"
      ],
      "text/plain": [
       "<rich.jupyter.JupyterRenderable at 0x7efec42d2160>"
      ]
     },
     "metadata": {},
     "output_type": "display_data"
    },
    {
     "data": {
      "text/html": [
       "<pre style=\"white-space:pre;overflow-x:auto;line-height:normal;font-family:Menlo,'DejaVu Sans Mono',consolas,'Courier New',monospace\"><span style=\"color: #7fbfbf\">           </span><span style=\"color: #000080\">INFO</span>     Saved the best model with score <span style=\"color: #000080; font-weight: bold\">0.968400</span>                                                                                   <a href=\"file:///home/pfoley1/fl_venv/lib/python3.6/site-packages/fledge/component/aggregator/aggregator.py\"><span style=\"color: #7f7f7f\">aggregator.py</span></a><span style=\"color: #7f7f7f\">:539</span>\n",
       "</pre>\n"
      ],
      "text/plain": [
       "<rich.jupyter.JupyterRenderable at 0x7efec42d2048>"
      ]
     },
     "metadata": {},
     "output_type": "display_data"
    },
    {
     "data": {
      "text/html": [
       "<pre style=\"white-space:pre;overflow-x:auto;line-height:normal;font-family:Menlo,'DejaVu Sans Mono',consolas,'Courier New',monospace\"><span style=\"color: #7fbfbf\">           </span><span style=\"color: #000080\">INFO</span>     Saving round <span style=\"color: #000080; font-weight: bold\">9</span> model...                                                                                                    <a href=\"file:///home/pfoley1/fl_venv/lib/python3.6/site-packages/fledge/component/aggregator/aggregator.py\"><span style=\"color: #7f7f7f\">aggregator.py</span></a><span style=\"color: #7f7f7f\">:595</span>\n",
       "</pre>\n"
      ],
      "text/plain": [
       "<rich.jupyter.JupyterRenderable at 0x7efec42d2160>"
      ]
     },
     "metadata": {},
     "output_type": "display_data"
    },
    {
     "data": {
      "text/html": [
       "<pre style=\"white-space:pre;overflow-x:auto;line-height:normal;font-family:Menlo,'DejaVu Sans Mono',consolas,'Courier New',monospace\"><span style=\"color: #7fbfbf\">           </span><span style=\"color: #000080\">INFO</span>     Starting round <span style=\"color: #000080; font-weight: bold\">9</span>...                                                                                                        <a href=\"file:///home/pfoley1/fl_venv/lib/python3.6/site-packages/fledge/component/aggregator/aggregator.py\"><span style=\"color: #7f7f7f\">aggregator.py</span></a><span style=\"color: #7f7f7f\">:603</span>\n",
       "</pre>\n"
      ],
      "text/plain": [
       "<rich.jupyter.JupyterRenderable at 0x7efec42d2160>"
      ]
     },
     "metadata": {},
     "output_type": "display_data"
    },
    {
     "data": {
      "text/html": [
       "<pre style=\"white-space:pre;overflow-x:auto;line-height:normal;font-family:Menlo,'DejaVu Sans Mono',consolas,'Courier New',monospace\"><span style=\"color: #7fbfbf\">           </span><span style=\"color: #000080\">INFO</span>     All tasks completed on two for round <span style=\"color: #000080; font-weight: bold\">8</span>...                                                                                <a href=\"file:///home/pfoley1/fl_venv/lib/python3.6/site-packages/fledge/component/collaborator/collaborator.py\"><span style=\"color: #7f7f7f\">collaborator.py</span></a><span style=\"color: #7f7f7f\">:158</span>\n",
       "</pre>\n"
      ],
      "text/plain": [
       "<rich.jupyter.JupyterRenderable at 0x7efec42d26a0>"
      ]
     },
     "metadata": {},
     "output_type": "display_data"
    },
    {
     "data": {
      "text/html": [
       "<pre style=\"white-space:pre;overflow-x:auto;line-height:normal;font-family:Menlo,'DejaVu Sans Mono',consolas,'Courier New',monospace\"><span style=\"color: #7fbfbf\">           </span><span style=\"color: #000080\">INFO</span>     Collaborator one Waiting for tasks...                                                                                    <a href=\"file:///home/pfoley1/fl_venv/lib/python3.6/site-packages/fledge/component/collaborator/collaborator.py\"><span style=\"color: #7f7f7f\">collaborator.py</span></a><span style=\"color: #7f7f7f\">:163</span>\n",
       "</pre>\n"
      ],
      "text/plain": [
       "<rich.jupyter.JupyterRenderable at 0x7efec42d2ef0>"
      ]
     },
     "metadata": {},
     "output_type": "display_data"
    },
    {
     "data": {
      "text/html": [
       "<pre style=\"white-space:pre;overflow-x:auto;line-height:normal;font-family:Menlo,'DejaVu Sans Mono',consolas,'Courier New',monospace\"><span style=\"color: #7fbfbf\">           </span><span style=\"color: #000080\">INFO</span>     Aggregator GetTasks function reached from collaborator one...                                                              <a href=\"file:///home/pfoley1/fl_venv/lib/python3.6/site-packages/fledge/component/aggregator/aggregator.py\"><span style=\"color: #7f7f7f\">aggregator.py</span></a><span style=\"color: #7f7f7f\">:215</span>\n",
       "</pre>\n"
      ],
      "text/plain": [
       "<rich.jupyter.JupyterRenderable at 0x7efec42d2198>"
      ]
     },
     "metadata": {},
     "output_type": "display_data"
    },
    {
     "data": {
      "text/html": [
       "<pre style=\"white-space:pre;overflow-x:auto;line-height:normal;font-family:Menlo,'DejaVu Sans Mono',consolas,'Courier New',monospace\"><span style=\"color: #7fbfbf\">           </span><span style=\"color: #000080\">INFO</span>     Sending tasks to collaborator one for round <span style=\"color: #000080; font-weight: bold\">9</span>                                                                              <a href=\"file:///home/pfoley1/fl_venv/lib/python3.6/site-packages/fledge/component/aggregator/aggregator.py\"><span style=\"color: #7f7f7f\">aggregator.py</span></a><span style=\"color: #7f7f7f\">:249</span>\n",
       "</pre>\n"
      ],
      "text/plain": [
       "<rich.jupyter.JupyterRenderable at 0x7efec42d26a0>"
      ]
     },
     "metadata": {},
     "output_type": "display_data"
    },
    {
     "data": {
      "text/html": [
       "<pre style=\"white-space:pre;overflow-x:auto;line-height:normal;font-family:Menlo,'DejaVu Sans Mono',consolas,'Courier New',monospace\"><span style=\"color: #7fbfbf\">           </span><span style=\"color: #000080\">INFO</span>     Received the following tasks: <span style=\"font-weight: bold\">[</span><span style=\"color: #008000\">'aggregated_model_validation'</span>, <span style=\"color: #008000\">'train'</span>, <span style=\"color: #008000\">'locally_tuned_model_validation'</span><span style=\"font-weight: bold\">]</span>                 <a href=\"file:///home/pfoley1/fl_venv/lib/python3.6/site-packages/fledge/component/collaborator/collaborator.py\"><span style=\"color: #7f7f7f\">collaborator.py</span></a><span style=\"color: #7f7f7f\">:155</span>\n",
       "</pre>\n"
      ],
      "text/plain": [
       "<rich.jupyter.JupyterRenderable at 0x7efec42d2198>"
      ]
     },
     "metadata": {},
     "output_type": "display_data"
    },
    {
     "data": {
      "text/html": [
       "<pre style=\"white-space:pre;overflow-x:auto;line-height:normal;font-family:Menlo,'DejaVu Sans Mono',consolas,'Courier New',monospace\"><span style=\"color: #7fbfbf\">           </span><span style=\"color: #000080\">INFO</span>     Sending metric for task aggregated_model_validation, round number <span style=\"color: #000080; font-weight: bold\">9</span>: acc        <span style=\"color: #000080; font-weight: bold\">0.9664000272750854</span>                       <a href=\"file:///home/pfoley1/fl_venv/lib/python3.6/site-packages/fledge/component/collaborator/collaborator.py\"><span style=\"color: #7f7f7f\">collaborator.py</span></a><span style=\"color: #7f7f7f\">:319</span>\n",
       "</pre>\n"
      ],
      "text/plain": [
       "<rich.jupyter.JupyterRenderable at 0x7efec42d3198>"
      ]
     },
     "metadata": {},
     "output_type": "display_data"
    },
    {
     "data": {
      "text/html": [
       "<pre style=\"white-space:pre;overflow-x:auto;line-height:normal;font-family:Menlo,'DejaVu Sans Mono',consolas,'Courier New',monospace\"><span style=\"color: #7fbfbf\">           </span><span style=\"color: #000080\">INFO</span>     Collaborator one is sending task results for aggregated_model_validation, round <span style=\"color: #000080; font-weight: bold\">9</span>                                          <a href=\"file:///home/pfoley1/fl_venv/lib/python3.6/site-packages/fledge/component/aggregator/aggregator.py\"><span style=\"color: #7f7f7f\">aggregator.py</span></a><span style=\"color: #7f7f7f\">:369</span>\n",
       "</pre>\n"
      ],
      "text/plain": [
       "<rich.jupyter.JupyterRenderable at 0x7efec42d3630>"
      ]
     },
     "metadata": {},
     "output_type": "display_data"
    },
    {
     "data": {
      "text/html": [
       "<pre style=\"white-space:pre;overflow-x:auto;line-height:normal;font-family:Menlo,'DejaVu Sans Mono',consolas,'Courier New',monospace\"><span style=\"color: #7fbfbf\">[10:17:22] </span><span style=\"color: #000080\">INFO</span>     Sending metric for task train, round number <span style=\"color: #000080; font-weight: bold\">9</span>: loss     <span style=\"color: #000080; font-weight: bold\">0.07338833084441722</span>                                              <a href=\"file:///home/pfoley1/fl_venv/lib/python3.6/site-packages/fledge/component/collaborator/collaborator.py\"><span style=\"color: #7f7f7f\">collaborator.py</span></a><span style=\"color: #7f7f7f\">:319</span>\n",
       "</pre>\n"
      ],
      "text/plain": [
       "<rich.jupyter.JupyterRenderable at 0x7efec42d2198>"
      ]
     },
     "metadata": {},
     "output_type": "display_data"
    },
    {
     "data": {
      "text/html": [
       "<pre style=\"white-space:pre;overflow-x:auto;line-height:normal;font-family:Menlo,'DejaVu Sans Mono',consolas,'Courier New',monospace\"><span style=\"color: #7fbfbf\">           </span><span style=\"color: #000080\">INFO</span>     Collaborator one is sending task results for train, round <span style=\"color: #000080; font-weight: bold\">9</span>                                                                <a href=\"file:///home/pfoley1/fl_venv/lib/python3.6/site-packages/fledge/component/aggregator/aggregator.py\"><span style=\"color: #7f7f7f\">aggregator.py</span></a><span style=\"color: #7f7f7f\">:369</span>\n",
       "</pre>\n"
      ],
      "text/plain": [
       "<rich.jupyter.JupyterRenderable at 0x7efec42d3668>"
      ]
     },
     "metadata": {},
     "output_type": "display_data"
    },
    {
     "data": {
      "text/html": [
       "<pre style=\"white-space:pre;overflow-x:auto;line-height:normal;font-family:Menlo,'DejaVu Sans Mono',consolas,'Courier New',monospace\"><span style=\"color: #7fbfbf\">[10:17:23] </span><span style=\"color: #000080\">INFO</span>     Sending metric for task locally_tuned_model_validation, round number <span style=\"color: #000080; font-weight: bold\">9</span>: acc     <span style=\"color: #000080; font-weight: bold\">0.9642000198364258</span>                       <a href=\"file:///home/pfoley1/fl_venv/lib/python3.6/site-packages/fledge/component/collaborator/collaborator.py\"><span style=\"color: #7f7f7f\">collaborator.py</span></a><span style=\"color: #7f7f7f\">:319</span>\n",
       "</pre>\n"
      ],
      "text/plain": [
       "<rich.jupyter.JupyterRenderable at 0x7efec42d2a58>"
      ]
     },
     "metadata": {},
     "output_type": "display_data"
    },
    {
     "data": {
      "text/html": [
       "<pre style=\"white-space:pre;overflow-x:auto;line-height:normal;font-family:Menlo,'DejaVu Sans Mono',consolas,'Courier New',monospace\"><span style=\"color: #7fbfbf\">           </span><span style=\"color: #000080\">INFO</span>     Collaborator one is sending task results for locally_tuned_model_validation, round <span style=\"color: #000080; font-weight: bold\">9</span>                                       <a href=\"file:///home/pfoley1/fl_venv/lib/python3.6/site-packages/fledge/component/aggregator/aggregator.py\"><span style=\"color: #7f7f7f\">aggregator.py</span></a><span style=\"color: #7f7f7f\">:369</span>\n",
       "</pre>\n"
      ],
      "text/plain": [
       "<rich.jupyter.JupyterRenderable at 0x7efec42d2a58>"
      ]
     },
     "metadata": {},
     "output_type": "display_data"
    },
    {
     "data": {
      "text/html": [
       "<pre style=\"white-space:pre;overflow-x:auto;line-height:normal;font-family:Menlo,'DejaVu Sans Mono',consolas,'Courier New',monospace\"><span style=\"color: #7fbfbf\">           </span><span style=\"color: #000080\">INFO</span>     All tasks completed on one for round <span style=\"color: #000080; font-weight: bold\">9</span>...                                                                                <a href=\"file:///home/pfoley1/fl_venv/lib/python3.6/site-packages/fledge/component/collaborator/collaborator.py\"><span style=\"color: #7f7f7f\">collaborator.py</span></a><span style=\"color: #7f7f7f\">:158</span>\n",
       "</pre>\n"
      ],
      "text/plain": [
       "<rich.jupyter.JupyterRenderable at 0x7efec42d2a58>"
      ]
     },
     "metadata": {},
     "output_type": "display_data"
    },
    {
     "data": {
      "text/html": [
       "<pre style=\"white-space:pre;overflow-x:auto;line-height:normal;font-family:Menlo,'DejaVu Sans Mono',consolas,'Courier New',monospace\"><span style=\"color: #7fbfbf\">           </span><span style=\"color: #000080\">INFO</span>     Collaborator two Waiting for tasks...                                                                                    <a href=\"file:///home/pfoley1/fl_venv/lib/python3.6/site-packages/fledge/component/collaborator/collaborator.py\"><span style=\"color: #7f7f7f\">collaborator.py</span></a><span style=\"color: #7f7f7f\">:163</span>\n",
       "</pre>\n"
      ],
      "text/plain": [
       "<rich.jupyter.JupyterRenderable at 0x7efec42d2a58>"
      ]
     },
     "metadata": {},
     "output_type": "display_data"
    },
    {
     "data": {
      "text/html": [
       "<pre style=\"white-space:pre;overflow-x:auto;line-height:normal;font-family:Menlo,'DejaVu Sans Mono',consolas,'Courier New',monospace\"><span style=\"color: #7fbfbf\">           </span><span style=\"color: #000080\">INFO</span>     Aggregator GetTasks function reached from collaborator two...                                                              <a href=\"file:///home/pfoley1/fl_venv/lib/python3.6/site-packages/fledge/component/aggregator/aggregator.py\"><span style=\"color: #7f7f7f\">aggregator.py</span></a><span style=\"color: #7f7f7f\">:215</span>\n",
       "</pre>\n"
      ],
      "text/plain": [
       "<rich.jupyter.JupyterRenderable at 0x7efec42d37b8>"
      ]
     },
     "metadata": {},
     "output_type": "display_data"
    },
    {
     "data": {
      "text/html": [
       "<pre style=\"white-space:pre;overflow-x:auto;line-height:normal;font-family:Menlo,'DejaVu Sans Mono',consolas,'Courier New',monospace\"><span style=\"color: #7fbfbf\">           </span><span style=\"color: #000080\">INFO</span>     Sending tasks to collaborator two for round <span style=\"color: #000080; font-weight: bold\">9</span>                                                                              <a href=\"file:///home/pfoley1/fl_venv/lib/python3.6/site-packages/fledge/component/aggregator/aggregator.py\"><span style=\"color: #7f7f7f\">aggregator.py</span></a><span style=\"color: #7f7f7f\">:249</span>\n",
       "</pre>\n"
      ],
      "text/plain": [
       "<rich.jupyter.JupyterRenderable at 0x7efec42d3cc0>"
      ]
     },
     "metadata": {},
     "output_type": "display_data"
    },
    {
     "data": {
      "text/html": [
       "<pre style=\"white-space:pre;overflow-x:auto;line-height:normal;font-family:Menlo,'DejaVu Sans Mono',consolas,'Courier New',monospace\"><span style=\"color: #7fbfbf\">           </span><span style=\"color: #000080\">INFO</span>     Received the following tasks: <span style=\"font-weight: bold\">[</span><span style=\"color: #008000\">'aggregated_model_validation'</span>, <span style=\"color: #008000\">'train'</span>, <span style=\"color: #008000\">'locally_tuned_model_validation'</span><span style=\"font-weight: bold\">]</span>                 <a href=\"file:///home/pfoley1/fl_venv/lib/python3.6/site-packages/fledge/component/collaborator/collaborator.py\"><span style=\"color: #7f7f7f\">collaborator.py</span></a><span style=\"color: #7f7f7f\">:155</span>\n",
       "</pre>\n"
      ],
      "text/plain": [
       "<rich.jupyter.JupyterRenderable at 0x7efec42d2a58>"
      ]
     },
     "metadata": {},
     "output_type": "display_data"
    },
    {
     "data": {
      "text/html": [
       "<pre style=\"white-space:pre;overflow-x:auto;line-height:normal;font-family:Menlo,'DejaVu Sans Mono',consolas,'Courier New',monospace\"><span style=\"color: #7fbfbf\">           </span><span style=\"color: #000080\">INFO</span>     Sending metric for task aggregated_model_validation, round number <span style=\"color: #000080; font-weight: bold\">9</span>: acc        <span style=\"color: #000080; font-weight: bold\">0.9664000272750854</span>                       <a href=\"file:///home/pfoley1/fl_venv/lib/python3.6/site-packages/fledge/component/collaborator/collaborator.py\"><span style=\"color: #7f7f7f\">collaborator.py</span></a><span style=\"color: #7f7f7f\">:319</span>\n",
       "</pre>\n"
      ],
      "text/plain": [
       "<rich.jupyter.JupyterRenderable at 0x7efec42d32b0>"
      ]
     },
     "metadata": {},
     "output_type": "display_data"
    },
    {
     "data": {
      "text/html": [
       "<pre style=\"white-space:pre;overflow-x:auto;line-height:normal;font-family:Menlo,'DejaVu Sans Mono',consolas,'Courier New',monospace\"><span style=\"color: #7fbfbf\">           </span><span style=\"color: #000080\">INFO</span>     Collaborator two is sending task results for aggregated_model_validation, round <span style=\"color: #000080; font-weight: bold\">9</span>                                          <a href=\"file:///home/pfoley1/fl_venv/lib/python3.6/site-packages/fledge/component/aggregator/aggregator.py\"><span style=\"color: #7f7f7f\">aggregator.py</span></a><span style=\"color: #7f7f7f\">:369</span>\n",
       "</pre>\n"
      ],
      "text/plain": [
       "<rich.jupyter.JupyterRenderable at 0x7efec42d3668>"
      ]
     },
     "metadata": {},
     "output_type": "display_data"
    },
    {
     "data": {
      "text/html": [
       "<pre style=\"white-space:pre;overflow-x:auto;line-height:normal;font-family:Menlo,'DejaVu Sans Mono',consolas,'Courier New',monospace\"><span style=\"color: #7fbfbf\">[10:17:25] </span><span style=\"color: #000080\">INFO</span>     Sending metric for task train, round number <span style=\"color: #000080; font-weight: bold\">9</span>: loss     <span style=\"color: #000080; font-weight: bold\">0.07318466100372994</span>                                              <a href=\"file:///home/pfoley1/fl_venv/lib/python3.6/site-packages/fledge/component/collaborator/collaborator.py\"><span style=\"color: #7f7f7f\">collaborator.py</span></a><span style=\"color: #7f7f7f\">:319</span>\n",
       "</pre>\n"
      ],
      "text/plain": [
       "<rich.jupyter.JupyterRenderable at 0x7efec42d3f98>"
      ]
     },
     "metadata": {},
     "output_type": "display_data"
    },
    {
     "data": {
      "text/html": [
       "<pre style=\"white-space:pre;overflow-x:auto;line-height:normal;font-family:Menlo,'DejaVu Sans Mono',consolas,'Courier New',monospace\"><span style=\"color: #7fbfbf\">           </span><span style=\"color: #000080\">INFO</span>     Collaborator two is sending task results for train, round <span style=\"color: #000080; font-weight: bold\">9</span>                                                                <a href=\"file:///home/pfoley1/fl_venv/lib/python3.6/site-packages/fledge/component/aggregator/aggregator.py\"><span style=\"color: #7f7f7f\">aggregator.py</span></a><span style=\"color: #7f7f7f\">:369</span>\n",
       "</pre>\n"
      ],
      "text/plain": [
       "<rich.jupyter.JupyterRenderable at 0x7efec42d3d30>"
      ]
     },
     "metadata": {},
     "output_type": "display_data"
    },
    {
     "data": {
      "text/html": [
       "<pre style=\"white-space:pre;overflow-x:auto;line-height:normal;font-family:Menlo,'DejaVu Sans Mono',consolas,'Courier New',monospace\"><span style=\"color: #7fbfbf\">           </span><span style=\"color: #000080\">INFO</span>     Sending metric for task locally_tuned_model_validation, round number <span style=\"color: #000080; font-weight: bold\">9</span>: acc     <span style=\"color: #000080; font-weight: bold\">0.9319999814033508</span>                       <a href=\"file:///home/pfoley1/fl_venv/lib/python3.6/site-packages/fledge/component/collaborator/collaborator.py\"><span style=\"color: #7f7f7f\">collaborator.py</span></a><span style=\"color: #7f7f7f\">:319</span>\n",
       "</pre>\n"
      ],
      "text/plain": [
       "<rich.jupyter.JupyterRenderable at 0x7efec42d30f0>"
      ]
     },
     "metadata": {},
     "output_type": "display_data"
    },
    {
     "data": {
      "text/html": [
       "<pre style=\"white-space:pre;overflow-x:auto;line-height:normal;font-family:Menlo,'DejaVu Sans Mono',consolas,'Courier New',monospace\"><span style=\"color: #7fbfbf\">           </span><span style=\"color: #000080\">INFO</span>     Collaborator two is sending task results for locally_tuned_model_validation, round <span style=\"color: #000080; font-weight: bold\">9</span>                                       <a href=\"file:///home/pfoley1/fl_venv/lib/python3.6/site-packages/fledge/component/aggregator/aggregator.py\"><span style=\"color: #7f7f7f\">aggregator.py</span></a><span style=\"color: #7f7f7f\">:369</span>\n",
       "</pre>\n"
      ],
      "text/plain": [
       "<rich.jupyter.JupyterRenderable at 0x7efec42d3518>"
      ]
     },
     "metadata": {},
     "output_type": "display_data"
    },
    {
     "data": {
      "text/html": [
       "<pre style=\"white-space:pre;overflow-x:auto;line-height:normal;font-family:Menlo,'DejaVu Sans Mono',consolas,'Courier New',monospace\"><span style=\"color: #7fbfbf\">           </span><span style=\"color: #000080\">INFO</span>     train task metrics...                                                                                                      <a href=\"file:///home/pfoley1/fl_venv/lib/python3.6/site-packages/fledge/component/aggregator/aggregator.py\"><span style=\"color: #7f7f7f\">aggregator.py</span></a><span style=\"color: #7f7f7f\">:505</span>\n",
       "</pre>\n"
      ],
      "text/plain": [
       "<rich.jupyter.JupyterRenderable at 0x7efec42d3518>"
      ]
     },
     "metadata": {},
     "output_type": "display_data"
    },
    {
     "data": {
      "text/html": [
       "<pre style=\"white-space:pre;overflow-x:auto;line-height:normal;font-family:Menlo,'DejaVu Sans Mono',consolas,'Courier New',monospace\"><span style=\"color: #7fbfbf\">           </span><span style=\"color: #000080\">INFO</span>     loss:   <span style=\"color: #000080; font-weight: bold\">0.0733</span>                                                                                                             <a href=\"file:///home/pfoley1/fl_venv/lib/python3.6/site-packages/fledge/component/aggregator/aggregator.py\"><span style=\"color: #7f7f7f\">aggregator.py</span></a><span style=\"color: #7f7f7f\">:534</span>\n",
       "</pre>\n"
      ],
      "text/plain": [
       "<rich.jupyter.JupyterRenderable at 0x7efec42db4e0>"
      ]
     },
     "metadata": {},
     "output_type": "display_data"
    },
    {
     "data": {
      "text/html": [
       "<pre style=\"white-space:pre;overflow-x:auto;line-height:normal;font-family:Menlo,'DejaVu Sans Mono',consolas,'Courier New',monospace\"><span style=\"color: #7fbfbf\">[10:17:26] </span><span style=\"color: #000080\">INFO</span>     locally_tuned_model_validation task metrics...                                                                             <a href=\"file:///home/pfoley1/fl_venv/lib/python3.6/site-packages/fledge/component/aggregator/aggregator.py\"><span style=\"color: #7f7f7f\">aggregator.py</span></a><span style=\"color: #7f7f7f\">:505</span>\n",
       "</pre>\n"
      ],
      "text/plain": [
       "<rich.jupyter.JupyterRenderable at 0x7efec42d3518>"
      ]
     },
     "metadata": {},
     "output_type": "display_data"
    },
    {
     "data": {
      "text/html": [
       "<pre style=\"white-space:pre;overflow-x:auto;line-height:normal;font-family:Menlo,'DejaVu Sans Mono',consolas,'Courier New',monospace\"><span style=\"color: #7fbfbf\">           </span><span style=\"color: #000080\">INFO</span>     acc:    <span style=\"color: #000080; font-weight: bold\">0.9481</span>                                                                                                             <a href=\"file:///home/pfoley1/fl_venv/lib/python3.6/site-packages/fledge/component/aggregator/aggregator.py\"><span style=\"color: #7f7f7f\">aggregator.py</span></a><span style=\"color: #7f7f7f\">:534</span>\n",
       "</pre>\n"
      ],
      "text/plain": [
       "<rich.jupyter.JupyterRenderable at 0x7efec42db710>"
      ]
     },
     "metadata": {},
     "output_type": "display_data"
    },
    {
     "data": {
      "text/html": [
       "<pre style=\"white-space:pre;overflow-x:auto;line-height:normal;font-family:Menlo,'DejaVu Sans Mono',consolas,'Courier New',monospace\"><span style=\"color: #7fbfbf\">           </span><span style=\"color: #000080\">INFO</span>     aggregated_model_validation task metrics...                                                                                <a href=\"file:///home/pfoley1/fl_venv/lib/python3.6/site-packages/fledge/component/aggregator/aggregator.py\"><span style=\"color: #7f7f7f\">aggregator.py</span></a><span style=\"color: #7f7f7f\">:505</span>\n",
       "</pre>\n"
      ],
      "text/plain": [
       "<rich.jupyter.JupyterRenderable at 0x7efec42d3518>"
      ]
     },
     "metadata": {},
     "output_type": "display_data"
    },
    {
     "data": {
      "text/html": [
       "<pre style=\"white-space:pre;overflow-x:auto;line-height:normal;font-family:Menlo,'DejaVu Sans Mono',consolas,'Courier New',monospace\"><span style=\"color: #7fbfbf\">           </span><span style=\"color: #000080\">INFO</span>     acc:    <span style=\"color: #000080; font-weight: bold\">0.9664</span>                                                                                                             <a href=\"file:///home/pfoley1/fl_venv/lib/python3.6/site-packages/fledge/component/aggregator/aggregator.py\"><span style=\"color: #7f7f7f\">aggregator.py</span></a><span style=\"color: #7f7f7f\">:534</span>\n",
       "</pre>\n"
      ],
      "text/plain": [
       "<rich.jupyter.JupyterRenderable at 0x7efec42db4a8>"
      ]
     },
     "metadata": {},
     "output_type": "display_data"
    },
    {
     "data": {
      "text/html": [
       "<pre style=\"white-space:pre;overflow-x:auto;line-height:normal;font-family:Menlo,'DejaVu Sans Mono',consolas,'Courier New',monospace\"><span style=\"color: #7fbfbf\">           </span><span style=\"color: #000080\">INFO</span>     Saving round <span style=\"color: #000080; font-weight: bold\">10</span> model...                                                                                                   <a href=\"file:///home/pfoley1/fl_venv/lib/python3.6/site-packages/fledge/component/aggregator/aggregator.py\"><span style=\"color: #7f7f7f\">aggregator.py</span></a><span style=\"color: #7f7f7f\">:595</span>\n",
       "</pre>\n"
      ],
      "text/plain": [
       "<rich.jupyter.JupyterRenderable at 0x7efec42d3518>"
      ]
     },
     "metadata": {},
     "output_type": "display_data"
    },
    {
     "data": {
      "text/html": [
       "<pre style=\"white-space:pre;overflow-x:auto;line-height:normal;font-family:Menlo,'DejaVu Sans Mono',consolas,'Courier New',monospace\"><span style=\"color: #7fbfbf\">           </span><span style=\"color: #000080\">INFO</span>     Experiment Completed. Cleaning up...                                                                                       <a href=\"file:///home/pfoley1/fl_venv/lib/python3.6/site-packages/fledge/component/aggregator/aggregator.py\"><span style=\"color: #7f7f7f\">aggregator.py</span></a><span style=\"color: #7f7f7f\">:601</span>\n",
       "</pre>\n"
      ],
      "text/plain": [
       "<rich.jupyter.JupyterRenderable at 0x7efec42db1d0>"
      ]
     },
     "metadata": {},
     "output_type": "display_data"
    },
    {
     "data": {
      "text/html": [
       "<pre style=\"white-space:pre;overflow-x:auto;line-height:normal;font-family:Menlo,'DejaVu Sans Mono',consolas,'Courier New',monospace\"><span style=\"color: #7fbfbf\">           </span><span style=\"color: #000080\">INFO</span>     All tasks completed on two for round <span style=\"color: #000080; font-weight: bold\">9</span>...                                                                                <a href=\"file:///home/pfoley1/fl_venv/lib/python3.6/site-packages/fledge/component/collaborator/collaborator.py\"><span style=\"color: #7f7f7f\">collaborator.py</span></a><span style=\"color: #7f7f7f\">:158</span>\n",
       "</pre>\n"
      ],
      "text/plain": [
       "<rich.jupyter.JupyterRenderable at 0x7efec42db128>"
      ]
     },
     "metadata": {},
     "output_type": "display_data"
    }
   ],
   "source": [
    "#Run experiment, return trained FederatedModel\n",
    "final_fl_model = fx.run_experiment(collaborators,{'rounds_to_train':10})"
   ]
  },
  {
   "cell_type": "code",
   "execution_count": null,
   "metadata": {},
   "outputs": [],
   "source": [
    "#Save final model\n",
    "final_fl_model.save('final_model')"
   ]
  }
 ],
 "metadata": {
  "kernelspec": {
   "display_name": "fl_venv",
   "language": "python",
   "name": "fl_venv"
  },
  "language_info": {
   "codemirror_mode": {
    "name": "ipython",
    "version": 3
   },
   "file_extension": ".py",
   "mimetype": "text/x-python",
   "name": "python",
   "nbconvert_exporter": "python",
   "pygments_lexer": "ipython3",
   "version": "3.6.9"
  }
 },
 "nbformat": 4,
 "nbformat_minor": 4
}
