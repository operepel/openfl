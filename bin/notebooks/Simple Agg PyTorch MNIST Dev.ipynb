{
 "cells": [
  {
   "cell_type": "code",
   "execution_count": 1,
   "metadata": {},
   "outputs": [
    {
     "name": "stderr",
     "output_type": "stream",
     "text": [
      "/home/msheller/.local/share/virtualenvs/tfedlrn-CPfKUQY7/lib/python3.5/site-packages/google/protobuf/__init__.py:37: UserWarning: Module tfedlrn was already imported from /home/msheller/git/tfedlrn/src/tfedlrn/__init__.py, but /home/msheller/.local/share/virtualenvs/tfedlrn-CPfKUQY7/lib/python3.5/site-packages/tfedlrn-0.0.0-py3.5.egg is being added to sys.path\n",
      "  __import__('pkg_resources').declare_namespace(__name__)\n"
     ]
    }
   ],
   "source": [
    "import tfedlrn\n",
    "import tfedlrn.aggregator\n",
    "from tfedlrn.aggregator.aggregator import Aggregator\n",
    "from tfedlrn.zmqconnection import ZMQServer\n",
    "\n",
    "from tfedlrn.proto.message_pb2 import *"
   ]
  },
  {
   "cell_type": "code",
   "execution_count": 12,
   "metadata": {},
   "outputs": [],
   "source": [
    "with open(\"pytorch_mnist.pbuf\", \"rb\") as f:\n",
    "    loaded = f.read()\n",
    "model = ModelProto().FromString(loaded)"
   ]
  },
  {
   "cell_type": "code",
   "execution_count": 13,
   "metadata": {},
   "outputs": [
    {
     "data": {
      "text/plain": [
       "[-0.0825737938284874, 0.18955300748348236, 0.1829099804162979, 0.1480405181646347, 0.07781009376049042, -0.008285477757453918, 0.13616521656513214, -0.029299184679985046, 0.036012858152389526, 0.148528590798378, -0.16282328963279724, -0.12678852677345276, 0.05351291596889496, 0.17931224405765533, 0.1569012552499771, 0.11082161962985992, 0.050356969237327576, -0.04931175708770752, 0.10975269973278046, -0.12923294305801392]"
      ]
     },
     "execution_count": 13,
     "metadata": {},
     "output_type": "execute_result"
    }
   ],
   "source": [
    "l = list()\n",
    "l.extend(model.tensors[0].values)\n",
    "del model.tensors[0].values[:]\n",
    "model.tensors[0].values.extend(l)\n",
    "model.tensors[0].values"
   ]
  },
  {
   "cell_type": "code",
   "execution_count": 1,
   "metadata": {},
   "outputs": [
    {
     "name": "stderr",
     "output_type": "stream",
     "text": [
      "/home/msheller/.local/share/virtualenvs/tfedlrn-CPfKUQY7/lib/python3.5/site-packages/google/protobuf/__init__.py:37: UserWarning: Module tfedlrn was already imported from /home/msheller/git/tfedlrn/src/tfedlrn/__init__.py, but /home/msheller/.local/share/virtualenvs/tfedlrn-CPfKUQY7/lib/python3.5/site-packages/tfedlrn-0.0.0-py3.5.egg is being added to sys.path\n",
      "  __import__('pkg_resources').declare_namespace(__name__)\n"
     ]
    }
   ],
   "source": [
    "agg_id = \"notebook_agg\"\n",
    "fed_id = \"PT MNIST notebook fed\"\n",
    "collaborator_common_names = [\"notebook col\"]\n",
    "\n",
    "connection = ZMQServer('notebook agg connection')\n",
    "\n",
    "\n",
    "agg = Aggregator(agg_id, fed_id, collaborator_common_names, connection, model)\n",
    "\n",
    "agg.run()"
   ]
  }
 ],
 "metadata": {
  "kernelspec": {
   "display_name": "tfedlrn-CPfKUQY7",
   "language": "python",
   "name": "tfedlrn-cpfkuqy7"
  },
  "language_info": {
   "codemirror_mode": {
    "name": "ipython",
    "version": 3
   },
   "file_extension": ".py",
   "mimetype": "text/x-python",
   "name": "python",
   "nbconvert_exporter": "python",
   "pygments_lexer": "ipython3",
   "version": "3.5.2"
  }
 },
 "nbformat": 4,
 "nbformat_minor": 2
}
