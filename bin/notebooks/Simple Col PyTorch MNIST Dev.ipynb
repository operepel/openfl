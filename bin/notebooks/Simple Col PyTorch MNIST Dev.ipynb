{
 "cells": [
  {
   "cell_type": "code",
   "execution_count": 1,
   "metadata": {},
   "outputs": [
    {
     "name": "stderr",
     "output_type": "stream",
     "text": [
      "/home/msheller/.local/share/virtualenvs/tfedlrn-CPfKUQY7/lib/python3.5/site-packages/google/protobuf/__init__.py:37: UserWarning: Module tfedlrn was already imported from /home/msheller/git/tfedlrn/src/tfedlrn/__init__.py, but /home/msheller/.local/share/virtualenvs/tfedlrn-CPfKUQY7/lib/python3.5/site-packages/tfedlrn-0.0.0-py3.5.egg is being added to sys.path\n",
      "  __import__('pkg_resources').declare_namespace(__name__)\n"
     ]
    }
   ],
   "source": [
    "import tfedlrn\n",
    "import tfedlrn.collaborator\n",
    "from tfedlrn.collaborator.collaborator import Collaborator\n",
    "from tfedlrn.zmqconnection import ZMQClient\n",
    "\n",
    "from tfedlrn.collaborator.pytorchmodels.pytorchflmnistcnn import PyTorchMNISTCNN\n",
    "\n",
    "from tfedlrn.proto.message_pb2 import *\n",
    "\n",
    "agg_id = \"notebook_agg\"\n",
    "fed_id = \"PT MNIST notebook fed\"\n",
    "col_id = \"notebook col\"\n",
    "\n",
    "connection = ZMQClient('notebook col connection')\n",
    "\n",
    "import torch\n",
    "\n",
    "device = torch.device(\"cuda\")\n",
    "\n",
    "model = PyTorchMNISTCNN(device)\n",
    "\n",
    "col = Collaborator(col_id, agg_id, fed_id, model, connection, 'pytorch_mnist', -1)\n",
    "\n",
    "col.run()\n",
    "\n"
   ]
  }
 ],
 "metadata": {
  "kernelspec": {
   "display_name": "tfedlrn-CPfKUQY7",
   "language": "python",
   "name": "tfedlrn-cpfkuqy7"
  },
  "language_info": {
   "codemirror_mode": {
    "name": "ipython",
    "version": 3
   },
   "file_extension": ".py",
   "mimetype": "text/x-python",
   "name": "python",
   "nbconvert_exporter": "python",
   "pygments_lexer": "ipython3",
   "version": "3.5.2"
  }
 },
 "nbformat": 4,
 "nbformat_minor": 2
}
