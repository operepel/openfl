{
 "cells": [
  {
   "cell_type": "code",
   "execution_count": 1,
   "metadata": {},
   "outputs": [
    {
     "name": "stderr",
     "output_type": "stream",
     "text": [
      "/home/msheller/.local/share/virtualenvs/tfedlrn-CPfKUQY7/lib/python3.5/site-packages/google/protobuf/__init__.py:37: UserWarning: Module tfedlrn was already imported from /home/msheller/git/tfedlrn/src/tfedlrn/__init__.py, but /home/msheller/.local/share/virtualenvs/tfedlrn-CPfKUQY7/lib/python3.5/site-packages/tfedlrn-0.0.0-py3.5.egg is being added to sys.path\n",
      "  __import__('pkg_resources').declare_namespace(__name__)\n"
     ]
    }
   ],
   "source": [
    "import tfedlrn\n",
    "from tfedlrn.collaborator.pytorchmodels.pytorchflmnistcnn import PyTorchMNISTCNN\n",
    "\n",
    "from tfedlrn.proto.message_pb2 import *"
   ]
  },
  {
   "cell_type": "code",
   "execution_count": 2,
   "metadata": {},
   "outputs": [
    {
     "data": {
      "text/plain": [
       "16"
      ]
     },
     "execution_count": 2,
     "metadata": {},
     "output_type": "execute_result"
    }
   ],
   "source": [
    "import torch\n",
    "device = torch.device(\"cpu\")\n",
    "\n",
    "cnn = PyTorchMNISTCNN(device)\n",
    "\n",
    "PyTorchMNISTCNN.__name__\n",
    "\n",
    "d = cnn.get_tensor_dict()\n",
    "\n",
    "tensor_protos = []\n",
    "for k, v in d.items():\n",
    "    tensor_protos.append(TensorProto(name=k, shape=v.shape, values=v.flatten(order='C')))\n",
    "\n",
    "model_header = ModelHeader(id='pytorch_mnist', version=0)\n",
    "\n",
    "model_proto = ModelProto(header=model_header, tensors=tensor_protos)\n",
    "\n",
    "s = model_proto.SerializeToString()\n",
    "\n",
    "with open(\"../initial_models/{}.pbuf\".format(PyTorchMNISTCNN.__name__), \"wb\") as f:\n",
    "    f.write(s)\n",
    "\n",
    "with open(\"../initial_models/{}.pbuf\".format(PyTorchMNISTCNN.__name__), \"rb\") as f:\n",
    "    loaded = f.read()\n",
    "\n",
    "loaded = ModelProto().FromString(loaded)\n",
    "\n",
    "len(s)\n",
    "\n",
    "loaded.header\n",
    "\n",
    "assert loaded == model_proto\n",
    "\n",
    "len(model_proto.tensors)"
   ]
  },
  {
   "cell_type": "code",
   "execution_count": null,
   "metadata": {},
   "outputs": [],
   "source": []
  }
 ],
 "metadata": {
  "kernelspec": {
   "display_name": "tfedlrn-CPfKUQY7",
   "language": "python",
   "name": "tfedlrn-cpfkuqy7"
  },
  "language_info": {
   "codemirror_mode": {
    "name": "ipython",
    "version": 3
   },
   "file_extension": ".py",
   "mimetype": "text/x-python",
   "name": "python",
   "nbconvert_exporter": "python",
   "pygments_lexer": "ipython3",
   "version": "3.5.2"
  }
 },
 "nbformat": 4,
 "nbformat_minor": 2
}
